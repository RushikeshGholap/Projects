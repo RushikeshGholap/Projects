{
 "cells": [
  {
   "cell_type": "code",
   "execution_count": 1,
   "metadata": {},
   "outputs": [],
   "source": [
    "from PIL import Image\n",
    "import pytesseract"
   ]
  },
  {
   "cell_type": "code",
   "execution_count": 10,
   "metadata": {},
   "outputs": [
    {
     "data": {
      "text/plain": [
       "'[ha Hus: BM\\n22 Urcharﬂ St, mm\\n\\nW M\\n\\nW\\nsewer: hrmux 031mm”\\nm1: \"/1 T56 AI\\nGuests: HI 40251\\n\\nCm: Irmumah [14 IMEWJN mm m\\n\\nan. Pmmlm m Illgml (a u. 7.1mm\\n«mm m mm m m\\nFm Inter [6 mm mm\\nczmnes (2 ma) mm\\nllhik‘ mm mm: 1mm mum\\nanr m (15 mam 22m\\n5mm saw an\\nm mun\\nMal 53.1mm\\n5mm cm: 95 on 7,555,641\\n1am 61mm\\nAIFX : 51 um 60\\nm mama:\\nmm 1mm 50\\nErma mm Mm m\\nBalance Due 2 .00\\n\\nvan: mmm\\n~ mack Elmd- v'"
      ]
     },
     "execution_count": 10,
     "metadata": {},
     "output_type": "execute_result"
    }
   ],
   "source": [
    "test2 = pytesseract.image_to_string(Image.open('test2.jpg'), lang='eng')\n",
    "test2"
   ]
  },
  {
   "cell_type": "markdown",
   "metadata": {},
   "source": [
    "<img src=test2.jpg></img>"
   ]
  },
  {
   "cell_type": "code",
   "execution_count": 11,
   "metadata": {},
   "outputs": [
    {
     "data": {
      "text/plain": [
       "'Plﬂlehk\\n\\\\‘H 1‘\"? l\\'nRKSuL RVE\\nDH) 1\\'“ NY 11225\\nWIHIF ‘l WEN?“ 27H\\n\\n \\n\\nP has?! Chm Ir.\\n\\n \\n\\nMania Before LEéVInS\\nNo Refunds 1w mum ”us Reuml\\nxebﬂf’kt ¥er Purchase: Yvdasa “Mm”\\n0461b E 1),\"? \"H;\\n\\n \\n\\nw umw \"0,36 F\\num nvmzunu o 99 F\\n\\n\\'4 a 6/l u(v\\nI,KNES 0.50 r\\nSALHIMHN‘. 0,50 F\\n\\nv 4| 1n Lit)16‘3,‘lly\\n\\nm unmoN 0 as r\\nI(Elv LHM ‘ 49 F\\nma mm; umm- 0,99 b\\nsmﬁu w 0,05 n\\n“W 0‘09\\n\\n“M llﬂLﬂNlil- 533\\n\\nmm s‘oo\\n[IHHNGW 0 67\\n\\nTUlm. NUMBI R HIV \\\\IIHS SULD - 10\\n\\n0!/|I/10‘)L me-I‘V 2 2E9 |le\\n\\nLINN CUSH‘MHT\\nVuur Cashwr VHS?! [2 F!\\n\\na¢ anzm ‘1wvmdrkel\\n\\n \\n\\nHwyk um: f(v‘ :hurpma 3’\\nMW sim-e'"
      ]
     },
     "execution_count": 11,
     "metadata": {},
     "output_type": "execute_result"
    }
   ],
   "source": [
    "test = pytesseract.image_to_string(Image.open('test.jpg'), lang='eng')\n",
    "test"
   ]
  },
  {
   "cell_type": "markdown",
   "metadata": {},
   "source": [
    "<img src='test.jpg'></img>"
   ]
  },
  {
   "cell_type": "code",
   "execution_count": 13,
   "metadata": {},
   "outputs": [
    {
     "data": {
      "text/plain": [
       "'Fusion Company Ltd.\\n101 Rocking Avenue\\nSuit a 305\\nKalkataqooom\\n\\n   \\n \\n \\n \\n   \\n   \\n   \\n    \\n   \\n    \\n   \\n\\nWest Bengal\\n\\nPhn: +91-33-2534-5061\\n\\nVAT no . vaussvas\\nRetail Invoice\\n\\nManon 12/634 12:10 PM 27-Jan-2012\\nUsex:Ad.m 05x91\\nTable 7\\n\\n \\n\\n5: Product. Qty Rate Amount.\\n\\n1\\n\\n1 Chivas Regal 2 325.00 650.00\\n2 Jw Black Lable 2 600.00 1200.00\\n3 Chicken Drumsticks 1 100.00 100100\\n4 Charcaaled Pickle Prawn 1 150.00 150.00\\n5 Chicken/lamb Steak 1 100.00 100.00\\n6 Chinese Combo Chicken 1 125.00 125.00\\n7 Chandni Kebab Club 1 100.00 100100\\n5 Asian Mixed Entree Plat: 1 100.00 180.00\\n9 Amritsati Chola 1 225.00 225.00\\n10 Chinese Combo Rice 1 125.00 125.00\\n\\n1 125.00 125.00\\n\\n11 Chinese Combo Noadle\\n\\n   \\n\\nTotal Qty 6 4me me 4500.00\\n(Rupees Four Thousand Five Hundred Only)\\nTender: 4500,00\\n\\nPay Modezcash: 4500.00'"
      ]
     },
     "execution_count": 13,
     "metadata": {},
     "output_type": "execute_result"
    }
   ],
   "source": [
    "test3 = pytesseract.image_to_string(Image.open('test3.jpg'), lang='eng')\n",
    "test3"
   ]
  },
  {
   "cell_type": "markdown",
   "metadata": {},
   "source": [
    "<img src='test3.jpg'>"
   ]
  },
  {
   "cell_type": "code",
   "execution_count": null,
   "metadata": {},
   "outputs": [],
   "source": []
  }
 ],
 "metadata": {
  "kernelspec": {
   "display_name": "Python 3",
   "language": "python",
   "name": "python3"
  },
  "language_info": {
   "codemirror_mode": {
    "name": "ipython",
    "version": 3
   },
   "file_extension": ".py",
   "mimetype": "text/x-python",
   "name": "python",
   "nbconvert_exporter": "python",
   "pygments_lexer": "ipython3",
   "version": "3.6.5"
  }
 },
 "nbformat": 4,
 "nbformat_minor": 2
}
