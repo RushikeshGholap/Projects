{
 "cells": [
  {
   "cell_type": "markdown",
   "metadata": {},
   "source": [
    "# Decision Trees"
   ]
  },
  {
   "cell_type": "markdown",
   "metadata": {},
   "source": [
    "Decision trees are an algorithm that keeps splitting the data based on \"Questions\" such that asking a certain number of questions on the data results in near perfect prediction of which class it belongs to. The questions are of the form Sex==Male?, Weight>=55?, Petal Length<=2.45, etc. The objective of a decision tree is to find the right set of questions to ask.\n",
    "\n",
    "There are various types of decision tree models, most popular of which is CART (classification and regression trees, others being ID3, C4.5, C5.0). In CART, you have the following steps - \n",
    "\n",
    "0. Start with a root node with complete data\n",
    "1. Make a list of questions based on the distinct values in the dataset\n",
    "2. Split the data into child nodes based on the question and calculate the \"Impurity\" of each node.\n",
    "3. Calculate how good the question was by calculating the \"Information Gain\" from the split.\n",
    "4. Repeat recursively till the you cant find better splits.\n",
    "\n",
    "### Impurity - \n",
    "\n",
    "It can be calculated using multiple methods such as Entropy, Gini or Classification error.\n",
    "\n",
    "- $Entropy = - \\sum_j{p_j*log_2p_j}$\n",
    "\n",
    "- $Gini = 1 - \\sum_j{p_j^2}$\n",
    "\n",
    "- $CE = 1 - max(p_j)$\n",
    "\n",
    "Each of these can be used to calculate how 'pure' a node is. for example, A node with data belonging to only one class has Gini=0.\n",
    "\n",
    "### Information Gain - \n",
    "\n",
    "This lets you calculate how much more information you get by making the split (asking the question). The formula for it is - \n",
    "\n",
    "$$IG = I_{parent} - weightedAvg(I_{child})$$\n",
    "\n",
    "This is basically Impurity of parent node minus the weighted average impurity of child nodes, weighted by the proportion of data in each child node.\n",
    "\n",
    "An example of a decision tree is shown below (visualized using graphviz):\n",
    "\n",
    "<img src='https://scikit-learn.org/stable/_images/iris.png'>"
   ]
  },
  {
   "cell_type": "markdown",
   "metadata": {},
   "source": [
    "### Decision boundaries - \n",
    "\n",
    "The decision boundaries for ensemble models are very different as compared to linear and non linear models. Check Decision Tree, Random Forest, AdaBoost"
   ]
  },
  {
   "cell_type": "markdown",
   "metadata": {},
   "source": [
    "<img src=\"https://scikit-learn.org/stable/_images/sphx_glr_plot_classifier_comparison_001.png\">"
   ]
  },
  {
   "cell_type": "markdown",
   "metadata": {},
   "source": [
    "### Example implementation"
   ]
  },
  {
   "cell_type": "code",
   "execution_count": 3,
   "metadata": {},
   "outputs": [
    {
     "data": {
      "text/html": [
       "<div>\n",
       "<style scoped>\n",
       "    .dataframe tbody tr th:only-of-type {\n",
       "        vertical-align: middle;\n",
       "    }\n",
       "\n",
       "    .dataframe tbody tr th {\n",
       "        vertical-align: top;\n",
       "    }\n",
       "\n",
       "    .dataframe thead th {\n",
       "        text-align: right;\n",
       "    }\n",
       "</style>\n",
       "<table border=\"1\" class=\"dataframe\">\n",
       "  <thead>\n",
       "    <tr style=\"text-align: right;\">\n",
       "      <th></th>\n",
       "      <th>Color</th>\n",
       "      <th>Weight</th>\n",
       "      <th>Label</th>\n",
       "    </tr>\n",
       "  </thead>\n",
       "  <tbody>\n",
       "    <tr>\n",
       "      <th>0</th>\n",
       "      <td>0</td>\n",
       "      <td>3</td>\n",
       "      <td>0</td>\n",
       "    </tr>\n",
       "    <tr>\n",
       "      <th>1</th>\n",
       "      <td>1</td>\n",
       "      <td>3</td>\n",
       "      <td>0</td>\n",
       "    </tr>\n",
       "    <tr>\n",
       "      <th>2</th>\n",
       "      <td>2</td>\n",
       "      <td>1</td>\n",
       "      <td>1</td>\n",
       "    </tr>\n",
       "    <tr>\n",
       "      <th>3</th>\n",
       "      <td>2</td>\n",
       "      <td>1</td>\n",
       "      <td>1</td>\n",
       "    </tr>\n",
       "    <tr>\n",
       "      <th>4</th>\n",
       "      <td>1</td>\n",
       "      <td>2</td>\n",
       "      <td>2</td>\n",
       "    </tr>\n",
       "    <tr>\n",
       "      <th>5</th>\n",
       "      <td>1</td>\n",
       "      <td>2</td>\n",
       "      <td>2</td>\n",
       "    </tr>\n",
       "  </tbody>\n",
       "</table>\n",
       "</div>"
      ],
      "text/plain": [
       "   Color  Weight  Label\n",
       "0      0       3      0\n",
       "1      1       3      0\n",
       "2      2       1      1\n",
       "3      2       1      1\n",
       "4      1       2      2\n",
       "5      1       2      2"
      ]
     },
     "execution_count": 3,
     "metadata": {},
     "output_type": "execute_result"
    }
   ],
   "source": [
    "import pandas as pd\n",
    "data = {'Color':[0,1,2,2,1,1], 'Weight':[3,3,1,1,2,2], 'Label':[0,0,1,1,2,2]}\n",
    "df = pd.DataFrame(data)\n",
    "df"
   ]
  },
  {
   "cell_type": "code",
   "execution_count": 4,
   "metadata": {},
   "outputs": [],
   "source": [
    "X = df.drop('Label', axis=1)\n",
    "y = df['Label']\n",
    "features = list(X.columns)\n",
    "classes = ['Apple', 'Grape', 'Lemon']"
   ]
  },
  {
   "cell_type": "code",
   "execution_count": 5,
   "metadata": {},
   "outputs": [],
   "source": [
    "from sklearn.tree import DecisionTreeClassifier\n",
    "from sklearn import tree\n",
    "cart = DecisionTreeClassifier()"
   ]
  },
  {
   "cell_type": "code",
   "execution_count": 6,
   "metadata": {},
   "outputs": [
    {
     "data": {
      "text/plain": [
       "DecisionTreeClassifier(class_weight=None, criterion='gini', max_depth=None,\n",
       "            max_features=None, max_leaf_nodes=None,\n",
       "            min_impurity_decrease=0.0, min_impurity_split=None,\n",
       "            min_samples_leaf=1, min_samples_split=2,\n",
       "            min_weight_fraction_leaf=0.0, presort=False, random_state=None,\n",
       "            splitter='best')"
      ]
     },
     "execution_count": 6,
     "metadata": {},
     "output_type": "execute_result"
    }
   ],
   "source": [
    "cart.fit(X, y)"
   ]
  },
  {
   "cell_type": "code",
   "execution_count": 7,
   "metadata": {},
   "outputs": [
    {
     "data": {
      "image/svg+xml": [
       "<?xml version=\"1.0\" encoding=\"UTF-8\" standalone=\"no\"?>\n",
       "<!DOCTYPE svg PUBLIC \"-//W3C//DTD SVG 1.1//EN\"\n",
       " \"http://www.w3.org/Graphics/SVG/1.1/DTD/svg11.dtd\">\n",
       "<!-- Generated by graphviz version 2.40.1 (20161225.0304)\n",
       " -->\n",
       "<!-- Title: Tree Pages: 1 -->\n",
       "<svg width=\"315pt\" height=\"300pt\"\n",
       " viewBox=\"0.00 0.00 315.12 300.00\" xmlns=\"http://www.w3.org/2000/svg\" xmlns:xlink=\"http://www.w3.org/1999/xlink\">\n",
       "<g id=\"graph0\" class=\"graph\" transform=\"scale(1 1) rotate(0) translate(4 296)\">\n",
       "<title>Tree</title>\n",
       "<polygon fill=\"#ffffff\" stroke=\"transparent\" points=\"-4,4 -4,-296 311.1201,-296 311.1201,4 -4,4\"/>\n",
       "<!-- 0 -->\n",
       "<g id=\"node1\" class=\"node\">\n",
       "<title>0</title>\n",
       "<path fill=\"transparent\" stroke=\"#000000\" d=\"M165.1802,-292C165.1802,-292 76.9399,-292 76.9399,-292 70.9399,-292 64.9399,-286 64.9399,-280 64.9399,-280 64.9399,-226 64.9399,-226 64.9399,-220 70.9399,-214 76.9399,-214 76.9399,-214 165.1802,-214 165.1802,-214 171.1802,-214 177.1802,-220 177.1802,-226 177.1802,-226 177.1802,-280 177.1802,-280 177.1802,-286 171.1802,-292 165.1802,-292\"/>\n",
       "<text text-anchor=\"middle\" x=\"121.0601\" y=\"-276.8\" font-family=\"Helvetica,sans-Serif\" font-size=\"14.00\" fill=\"#000000\">Weight &lt;= 1.5</text>\n",
       "<text text-anchor=\"middle\" x=\"121.0601\" y=\"-262.8\" font-family=\"Helvetica,sans-Serif\" font-size=\"14.00\" fill=\"#000000\">gini = 0.667</text>\n",
       "<text text-anchor=\"middle\" x=\"121.0601\" y=\"-248.8\" font-family=\"Helvetica,sans-Serif\" font-size=\"14.00\" fill=\"#000000\">samples = 6</text>\n",
       "<text text-anchor=\"middle\" x=\"121.0601\" y=\"-234.8\" font-family=\"Helvetica,sans-Serif\" font-size=\"14.00\" fill=\"#000000\">value = [2, 2, 2]</text>\n",
       "<text text-anchor=\"middle\" x=\"121.0601\" y=\"-220.8\" font-family=\"Helvetica,sans-Serif\" font-size=\"14.00\" fill=\"#000000\">class = Apple</text>\n",
       "</g>\n",
       "<!-- 1 -->\n",
       "<g id=\"node2\" class=\"node\">\n",
       "<title>1</title>\n",
       "<path fill=\"#39e581\" stroke=\"#000000\" d=\"M100.1802,-171C100.1802,-171 11.9399,-171 11.9399,-171 5.9399,-171 -.0601,-165 -.0601,-159 -.0601,-159 -.0601,-119 -.0601,-119 -.0601,-113 5.9399,-107 11.9399,-107 11.9399,-107 100.1802,-107 100.1802,-107 106.1802,-107 112.1802,-113 112.1802,-119 112.1802,-119 112.1802,-159 112.1802,-159 112.1802,-165 106.1802,-171 100.1802,-171\"/>\n",
       "<text text-anchor=\"middle\" x=\"56.0601\" y=\"-155.8\" font-family=\"Helvetica,sans-Serif\" font-size=\"14.00\" fill=\"#000000\">gini = 0.0</text>\n",
       "<text text-anchor=\"middle\" x=\"56.0601\" y=\"-141.8\" font-family=\"Helvetica,sans-Serif\" font-size=\"14.00\" fill=\"#000000\">samples = 2</text>\n",
       "<text text-anchor=\"middle\" x=\"56.0601\" y=\"-127.8\" font-family=\"Helvetica,sans-Serif\" font-size=\"14.00\" fill=\"#000000\">value = [0, 2, 0]</text>\n",
       "<text text-anchor=\"middle\" x=\"56.0601\" y=\"-113.8\" font-family=\"Helvetica,sans-Serif\" font-size=\"14.00\" fill=\"#000000\">class = Grape</text>\n",
       "</g>\n",
       "<!-- 0&#45;&gt;1 -->\n",
       "<g id=\"edge1\" class=\"edge\">\n",
       "<title>0&#45;&gt;1</title>\n",
       "<path fill=\"none\" stroke=\"#000000\" d=\"M98.6907,-213.7677C92.4937,-202.8991 85.7507,-191.0729 79.4948,-180.1009\"/>\n",
       "<polygon fill=\"#000000\" stroke=\"#000000\" points=\"82.3708,-178.0787 74.3771,-171.1252 76.2898,-181.546 82.3708,-178.0787\"/>\n",
       "<text text-anchor=\"middle\" x=\"67.7763\" y=\"-191.0381\" font-family=\"Helvetica,sans-Serif\" font-size=\"14.00\" fill=\"#000000\">True</text>\n",
       "</g>\n",
       "<!-- 2 -->\n",
       "<g id=\"node3\" class=\"node\">\n",
       "<title>2</title>\n",
       "<path fill=\"transparent\" stroke=\"#000000\" d=\"M230.1802,-178C230.1802,-178 141.9399,-178 141.9399,-178 135.9399,-178 129.9399,-172 129.9399,-166 129.9399,-166 129.9399,-112 129.9399,-112 129.9399,-106 135.9399,-100 141.9399,-100 141.9399,-100 230.1802,-100 230.1802,-100 236.1802,-100 242.1802,-106 242.1802,-112 242.1802,-112 242.1802,-166 242.1802,-166 242.1802,-172 236.1802,-178 230.1802,-178\"/>\n",
       "<text text-anchor=\"middle\" x=\"186.0601\" y=\"-162.8\" font-family=\"Helvetica,sans-Serif\" font-size=\"14.00\" fill=\"#000000\">Weight &lt;= 2.5</text>\n",
       "<text text-anchor=\"middle\" x=\"186.0601\" y=\"-148.8\" font-family=\"Helvetica,sans-Serif\" font-size=\"14.00\" fill=\"#000000\">gini = 0.5</text>\n",
       "<text text-anchor=\"middle\" x=\"186.0601\" y=\"-134.8\" font-family=\"Helvetica,sans-Serif\" font-size=\"14.00\" fill=\"#000000\">samples = 4</text>\n",
       "<text text-anchor=\"middle\" x=\"186.0601\" y=\"-120.8\" font-family=\"Helvetica,sans-Serif\" font-size=\"14.00\" fill=\"#000000\">value = [2, 0, 2]</text>\n",
       "<text text-anchor=\"middle\" x=\"186.0601\" y=\"-106.8\" font-family=\"Helvetica,sans-Serif\" font-size=\"14.00\" fill=\"#000000\">class = Apple</text>\n",
       "</g>\n",
       "<!-- 0&#45;&gt;2 -->\n",
       "<g id=\"edge2\" class=\"edge\">\n",
       "<title>0&#45;&gt;2</title>\n",
       "<path fill=\"none\" stroke=\"#000000\" d=\"M143.4294,-213.7677C148.3319,-205.1694 153.5761,-195.9718 158.6506,-187.072\"/>\n",
       "<polygon fill=\"#000000\" stroke=\"#000000\" points=\"161.7368,-188.7254 163.6495,-178.3046 155.6558,-185.2581 161.7368,-188.7254\"/>\n",
       "<text text-anchor=\"middle\" x=\"170.2502\" y=\"-198.2175\" font-family=\"Helvetica,sans-Serif\" font-size=\"14.00\" fill=\"#000000\">False</text>\n",
       "</g>\n",
       "<!-- 3 -->\n",
       "<g id=\"node4\" class=\"node\">\n",
       "<title>3</title>\n",
       "<path fill=\"#8139e5\" stroke=\"#000000\" d=\"M165.1802,-64C165.1802,-64 76.9399,-64 76.9399,-64 70.9399,-64 64.9399,-58 64.9399,-52 64.9399,-52 64.9399,-12 64.9399,-12 64.9399,-6 70.9399,0 76.9399,0 76.9399,0 165.1802,0 165.1802,0 171.1802,0 177.1802,-6 177.1802,-12 177.1802,-12 177.1802,-52 177.1802,-52 177.1802,-58 171.1802,-64 165.1802,-64\"/>\n",
       "<text text-anchor=\"middle\" x=\"121.0601\" y=\"-48.8\" font-family=\"Helvetica,sans-Serif\" font-size=\"14.00\" fill=\"#000000\">gini = 0.0</text>\n",
       "<text text-anchor=\"middle\" x=\"121.0601\" y=\"-34.8\" font-family=\"Helvetica,sans-Serif\" font-size=\"14.00\" fill=\"#000000\">samples = 2</text>\n",
       "<text text-anchor=\"middle\" x=\"121.0601\" y=\"-20.8\" font-family=\"Helvetica,sans-Serif\" font-size=\"14.00\" fill=\"#000000\">value = [0, 0, 2]</text>\n",
       "<text text-anchor=\"middle\" x=\"121.0601\" y=\"-6.8\" font-family=\"Helvetica,sans-Serif\" font-size=\"14.00\" fill=\"#000000\">class = Lemon</text>\n",
       "</g>\n",
       "<!-- 2&#45;&gt;3 -->\n",
       "<g id=\"edge3\" class=\"edge\">\n",
       "<title>2&#45;&gt;3</title>\n",
       "<path fill=\"none\" stroke=\"#000000\" d=\"M162.2255,-99.7647C156.8994,-90.9971 151.2383,-81.678 145.8736,-72.8469\"/>\n",
       "<polygon fill=\"#000000\" stroke=\"#000000\" points=\"148.8143,-70.9463 140.6311,-64.2169 142.8317,-74.5807 148.8143,-70.9463\"/>\n",
       "</g>\n",
       "<!-- 4 -->\n",
       "<g id=\"node5\" class=\"node\">\n",
       "<title>4</title>\n",
       "<path fill=\"#e58139\" stroke=\"#000000\" d=\"M295.1802,-64C295.1802,-64 206.9399,-64 206.9399,-64 200.9399,-64 194.9399,-58 194.9399,-52 194.9399,-52 194.9399,-12 194.9399,-12 194.9399,-6 200.9399,0 206.9399,0 206.9399,0 295.1802,0 295.1802,0 301.1802,0 307.1802,-6 307.1802,-12 307.1802,-12 307.1802,-52 307.1802,-52 307.1802,-58 301.1802,-64 295.1802,-64\"/>\n",
       "<text text-anchor=\"middle\" x=\"251.0601\" y=\"-48.8\" font-family=\"Helvetica,sans-Serif\" font-size=\"14.00\" fill=\"#000000\">gini = 0.0</text>\n",
       "<text text-anchor=\"middle\" x=\"251.0601\" y=\"-34.8\" font-family=\"Helvetica,sans-Serif\" font-size=\"14.00\" fill=\"#000000\">samples = 2</text>\n",
       "<text text-anchor=\"middle\" x=\"251.0601\" y=\"-20.8\" font-family=\"Helvetica,sans-Serif\" font-size=\"14.00\" fill=\"#000000\">value = [2, 0, 0]</text>\n",
       "<text text-anchor=\"middle\" x=\"251.0601\" y=\"-6.8\" font-family=\"Helvetica,sans-Serif\" font-size=\"14.00\" fill=\"#000000\">class = Apple</text>\n",
       "</g>\n",
       "<!-- 2&#45;&gt;4 -->\n",
       "<g id=\"edge4\" class=\"edge\">\n",
       "<title>2&#45;&gt;4</title>\n",
       "<path fill=\"none\" stroke=\"#000000\" d=\"M209.8946,-99.7647C215.2207,-90.9971 220.8819,-81.678 226.2466,-72.8469\"/>\n",
       "<polygon fill=\"#000000\" stroke=\"#000000\" points=\"229.2885,-74.5807 231.4891,-64.2169 223.3058,-70.9463 229.2885,-74.5807\"/>\n",
       "</g>\n",
       "</g>\n",
       "</svg>\n"
      ],
      "text/plain": [
       "<graphviz.files.Source at 0x11015e518>"
      ]
     },
     "execution_count": 7,
     "metadata": {},
     "output_type": "execute_result"
    }
   ],
   "source": [
    "import graphviz\n",
    "chart = tree.export_graphviz(cart, out_file=None, \n",
    "                             feature_names=features, \n",
    "                             class_names=classes, \n",
    "                             filled=True, rounded=True) \n",
    "graph = graphviz.Source(chart) \n",
    "graph"
   ]
  },
  {
   "cell_type": "code",
   "execution_count": null,
   "metadata": {},
   "outputs": [],
   "source": []
  }
 ],
 "metadata": {
  "kernelspec": {
   "display_name": "Python 3",
   "language": "python",
   "name": "python3"
  },
  "language_info": {
   "codemirror_mode": {
    "name": "ipython",
    "version": 3
   },
   "file_extension": ".py",
   "mimetype": "text/x-python",
   "name": "python",
   "nbconvert_exporter": "python",
   "pygments_lexer": "ipython3",
   "version": "3.7.3"
  }
 },
 "nbformat": 4,
 "nbformat_minor": 2
}
