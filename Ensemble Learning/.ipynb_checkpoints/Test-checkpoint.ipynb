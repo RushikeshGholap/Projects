{
 "cells": [
  {
   "cell_type": "markdown",
   "metadata": {},
   "source": [
    "# BAGGING"
   ]
  },
  {
   "cell_type": "code",
   "execution_count": 40,
   "metadata": {},
   "outputs": [],
   "source": [
    "import numpy as np\n",
    "from sklearn.datasets import load_iris\n",
    "from sklearn.model_selection import KFold, train_test_split, cross_val_score\n",
    "from sklearn.tree import DecisionTreeClassifier\n",
    "from sklearn.ensemble import BaggingClassifier\n",
    "\n",
    "import matplotlib.pyplot as plt\n",
    "%matplotlib inline"
   ]
  },
  {
   "cell_type": "code",
   "execution_count": 5,
   "metadata": {},
   "outputs": [],
   "source": [
    "iris = load_iris()"
   ]
  },
  {
   "cell_type": "code",
   "execution_count": 6,
   "metadata": {},
   "outputs": [],
   "source": [
    "X = iris.data\n",
    "y = iris.target"
   ]
  },
  {
   "cell_type": "code",
   "execution_count": 8,
   "metadata": {},
   "outputs": [
    {
     "data": {
      "text/plain": [
       "[(120, 4), (30, 4), (120,), (30,)]"
      ]
     },
     "execution_count": 8,
     "metadata": {},
     "output_type": "execute_result"
    }
   ],
   "source": [
    "X_train, X_test, y_train, y_test = train_test_split(X, y, test_size=0.2, stratify=y)\n",
    "[i.shape for i in [X_train, X_test, y_train, y_test]]"
   ]
  },
  {
   "cell_type": "code",
   "execution_count": 12,
   "metadata": {},
   "outputs": [],
   "source": [
    "kfold = KFold(n_splits=5, random_state=42)\n",
    "cart = DecisionTreeClassifier()\n",
    "model = BaggingClassifier(cart, 100, random_state=42)\n",
    "results = cross_val_score(model, X_train, y_train, cv=kfold)"
   ]
  },
  {
   "cell_type": "code",
   "execution_count": 14,
   "metadata": {},
   "outputs": [
    {
     "data": {
      "text/plain": [
       "0.95"
      ]
     },
     "execution_count": 14,
     "metadata": {},
     "output_type": "execute_result"
    }
   ],
   "source": [
    "np.mean(results)"
   ]
  },
  {
   "cell_type": "markdown",
   "metadata": {},
   "source": [
    "# BOOSTING"
   ]
  },
  {
   "cell_type": "code",
   "execution_count": 19,
   "metadata": {},
   "outputs": [],
   "source": [
    "from sklearn.ensemble import AdaBoostClassifier\n",
    "from sklearn.metrics import accuracy_score"
   ]
  },
  {
   "cell_type": "code",
   "execution_count": 21,
   "metadata": {},
   "outputs": [],
   "source": [
    "cart = DecisionTreeClassifier()\n",
    "model = AdaBoostClassifier(cart, 25, learning_rate=0.1)"
   ]
  },
  {
   "cell_type": "code",
   "execution_count": 22,
   "metadata": {},
   "outputs": [
    {
     "data": {
      "text/plain": [
       "AdaBoostClassifier(algorithm='SAMME.R',\n",
       "          base_estimator=DecisionTreeClassifier(class_weight=None, criterion='gini', max_depth=None,\n",
       "            max_features=None, max_leaf_nodes=None,\n",
       "            min_impurity_decrease=0.0, min_impurity_split=None,\n",
       "            min_samples_leaf=1, min_samples_split=2,\n",
       "            min_weight_fraction_leaf=0.0, presort=False, random_state=None,\n",
       "            splitter='best'),\n",
       "          learning_rate=0.1, n_estimators=25, random_state=None)"
      ]
     },
     "execution_count": 22,
     "metadata": {},
     "output_type": "execute_result"
    }
   ],
   "source": [
    "model.fit(X_train, y_train)"
   ]
  },
  {
   "cell_type": "code",
   "execution_count": 23,
   "metadata": {},
   "outputs": [
    {
     "data": {
      "text/plain": [
       "0.9333333333333333"
      ]
     },
     "execution_count": 23,
     "metadata": {},
     "output_type": "execute_result"
    }
   ],
   "source": [
    "pred_label = model.predict(X_test)\n",
    "accuracy_score(pred_label, y_test)"
   ]
  },
  {
   "cell_type": "markdown",
   "metadata": {},
   "source": [
    "# Stacking"
   ]
  },
  {
   "cell_type": "code",
   "execution_count": 24,
   "metadata": {},
   "outputs": [],
   "source": [
    "from sklearn.ensemble import RandomForestClassifier\n",
    "from sklearn.linear_model import LogisticRegression\n",
    "from sklearn.naive_bayes import GaussianNB\n",
    "from sklearn.neighbors import KNeighborsClassifier"
   ]
  },
  {
   "cell_type": "code",
   "execution_count": 26,
   "metadata": {},
   "outputs": [],
   "source": [
    "clf1 = RandomForestClassifier(n_estimators=2)\n",
    "clf2 = GaussianNB()\n",
    "clf3 = KNeighborsClassifier(n_neighbors=2)\n",
    "lr = LogisticRegression()"
   ]
  },
  {
   "cell_type": "code",
   "execution_count": 27,
   "metadata": {},
   "outputs": [
    {
     "data": {
      "text/plain": [
       "KNeighborsClassifier(algorithm='auto', leaf_size=30, metric='minkowski',\n",
       "           metric_params=None, n_jobs=1, n_neighbors=2, p=2,\n",
       "           weights='uniform')"
      ]
     },
     "execution_count": 27,
     "metadata": {},
     "output_type": "execute_result"
    }
   ],
   "source": [
    "clf1.fit(X_train, y_train)\n",
    "clf2.fit(X_train, y_train)\n",
    "clf3.fit(X_train, y_train)"
   ]
  },
  {
   "cell_type": "code",
   "execution_count": 28,
   "metadata": {},
   "outputs": [],
   "source": [
    "pred1 = clf1.predict(X_train)\n",
    "pred2 = clf2.predict(X_train)\n",
    "pred3 = clf3.predict(X_train)"
   ]
  },
  {
   "cell_type": "code",
   "execution_count": 31,
   "metadata": {},
   "outputs": [],
   "source": [
    "acc1 = accuracy_score(pred1, y_train)\n",
    "acc2 = accuracy_score(pred2, y_train)\n",
    "acc3 = accuracy_score(pred3, y_train)"
   ]
  },
  {
   "cell_type": "code",
   "execution_count": 33,
   "metadata": {},
   "outputs": [],
   "source": [
    "f = [pred1, pred2, pred3]\n",
    "f = np.transpose(f)"
   ]
  },
  {
   "cell_type": "code",
   "execution_count": 35,
   "metadata": {},
   "outputs": [
    {
     "data": {
      "text/plain": [
       "(120, 3)"
      ]
     },
     "execution_count": 35,
     "metadata": {},
     "output_type": "execute_result"
    }
   ],
   "source": [
    "f.shape"
   ]
  },
  {
   "cell_type": "code",
   "execution_count": 36,
   "metadata": {},
   "outputs": [
    {
     "data": {
      "text/plain": [
       "LogisticRegression(C=1.0, class_weight=None, dual=False, fit_intercept=True,\n",
       "          intercept_scaling=1, max_iter=100, multi_class='ovr', n_jobs=1,\n",
       "          penalty='l2', random_state=None, solver='liblinear', tol=0.0001,\n",
       "          verbose=0, warm_start=False)"
      ]
     },
     "execution_count": 36,
     "metadata": {},
     "output_type": "execute_result"
    }
   ],
   "source": [
    "lr.fit(f, y_train)"
   ]
  },
  {
   "cell_type": "code",
   "execution_count": 37,
   "metadata": {},
   "outputs": [],
   "source": [
    "pred4 = lr.predict(f)"
   ]
  },
  {
   "cell_type": "code",
   "execution_count": 38,
   "metadata": {},
   "outputs": [],
   "source": [
    "acc4 = accuracy_score(pred4, y_train)"
   ]
  },
  {
   "cell_type": "code",
   "execution_count": 39,
   "metadata": {},
   "outputs": [
    {
     "name": "stdout",
     "output_type": "stream",
     "text": [
      "[0.9666666666666667, 0.9666666666666667, 0.9833333333333333, 0.9916666666666667]\n"
     ]
    }
   ],
   "source": [
    "all_acc = [acc1, acc2, acc3, acc4]\n",
    "print(all_acc)"
   ]
  },
  {
   "cell_type": "markdown",
   "metadata": {},
   "source": [
    "# DECISION TREES"
   ]
  },
  {
   "cell_type": "markdown",
   "metadata": {},
   "source": [
    "### 1. Entropy\n",
    "\n",
    "#### What is entropy, fundamentally?\n",
    "\n",
    "Entropy deals with the number of \"microstates\" that are consistent with a given \"macrostate\". For example, if I tell you only macroscopic properties of a container of gas (e.g., volume, pressure, energy, number of molecules, etc.), there are still lots of different ways of arranging the individual molecules (in terms of position, momentum, angular momentum, vibrations, etc.) that would be \"allowed\". Entropy talks about how many such states there are.\n",
    "\n",
    "#### What happens when we talk about the combination of two systems?\n",
    "\n",
    "Say we have two containers of gas, and we know the macroscopic properties of both. There are N1 possible \"microstates\" for the first container, and N2 for the second. What are the possible microstates for the system that consists of both containers? Well, for each microstate of one container, all of the microstates of the other are still allowed. We can literally pick one of the allowed microstates for each container, and that combination will be a valid microstate for the whole system. So, the total number of microstates is given by the product:\n",
    "\n",
    "$$ N_{tot}=N1 * N2 $$\n",
    "\n",
    "#### How would we like to be able to talk about combinations of systems?\n",
    "\n",
    "Clearly, when you include more things in your system, the number of microstates increases. There are lots of things that act like this: total mass, total volume, etc. There's a broad class of these called extensive properties, which are very convenient to work with. They're convenient, because to consider the combination of two sub-systems, you just have to add the relevant quantities together (like for mass, volume, energy, etc.) Unfortunately, number of microstates doesn't behave that way. As shown above, the relevant quantities need to be multiplied, not added, which is harder to work with.\n",
    "\n",
    "#### How do we solve this problem of taking products instead of summing microstates states?\n",
    "\n",
    "Simple answer, Logs. It's a basic property of logarithms that\n",
    "\n",
    "$$ log(ab)=log(a)+log(b) $$\n",
    "\n",
    "i.e., it turns multiplication into addition. Applying this to our microstates example, we get that\n",
    "\n",
    "$$ log(N1N2)=log(N1)+log(N2) $$\n",
    "\n",
    "So, if we define entropy to be proportional to the log (in any base) of the number of microstates, then entropy suddenly becomes an extensive property of a system, and thus much easier to work with.\n",
    "\n",
    "#### Why is entropy measured in log (is it only mathematical convenience) ?\n",
    "\n",
    "It's because entropy is a type of information, and the easiest way to measure information is in bits and bytes, rather than by the total number of possible states they can represent. <u>Entropy is the amount of information contained in the microscopic state of a system</u> which is missing in the approximate representation of that system using macroscopic thermodynamics.\n",
    "\n",
    "The basic unit of information is the bit, which represents 2 possible states. If you have n bits, then that information represents $ 2^n $ possible states. For example, a byte is 8 bits, therefore the number of states it represents is $ 2^8 = 256 $ . That means that a byte can store any number between 0 and 255. <u> If you are given the total number of states, then you just take the log of that number to get the amount of information, measured in bits </u>: $ log_2(256) = 8 $.\n",
    "\n",
    "So entropy is defined as the log of the number of total microscopic states corresponding to a particular macro state of thermodynamics. This is the additional information you'd need to know in order to completely specify the microstate, given knowledge of the macrostate.\n",
    "\n",
    "Ok, but then you might ask: why is information measured with logarithms instead of just by the total number of states? Mostly because it makes it additive. It's true that if you really wanted to, you could choose to measure information or entropy by the total number of states (usually called the \"multiplicity\"), instead of by the log of the multiplicity. But then it would be multiplicative instead of additive. If you have 10 bits and then you obtain another 10 bits of information, then you have 20 bits. Saying the same thing in terms of multiplicity: if you have $ 2^{10} = 1024 $ states and then you add another 1024 independent states then you have $ 1024 * 1024 = 1048576 $ states ($2^{20}$) when they are combined. Multiplicity is multiplicative instead of additative, which means that the numbers you need in order to keep track of it get very large very quickly. This is really inconvenient, hence why we usually stick with using information/entropy as the unit instead of multiplicity.\n",
    "\n",
    "The only funny thing you might notice here is that in computer science, information is usually measured in units defined by the log base 2 of the number of states, whereas in physics entropy is usually measured in units defined by the natural log (log base e). This is purely a difference of convention. Physicists like to use natural logs because they're used to using them for many other things and they have nice mathematical properties. But there's a good case to be made that bits (log base 2) is the more natural unit to measure entropy in.\n",
    "\n",
    "\n",
    "#### tldr intuitive explaination;\n",
    "\n",
    "Entropy is a measure of order/disorder in a system which is measured in bits (unit of information). In other words, its equal to the amount of information needed to store all the possible states of a system which represent the amount of order or disorder. Higher the bits, higher the number of possible states, higher the disorder. And, since $log_2(x)$ lets us calculate number of bits needed to store x possible states, the formulat of entropy ends up with a log in it.\n",
    "\n",
    "#### What does entropy mean when in the domain of data?\n",
    "\n",
    "A way to put it is that entropy is proportional to the number of choices/variability available to the system. More entropy = more choices. An example is that of a coin flip. The Shannons' entropy formula to compute entropy of this system is:\n",
    "\n",
    "$$ S = - \\sum_i p_i log_2p_i$$\n",
    "\n",
    "Where, $p_i$ is the probability associated with the ith outcome of the coin flip. "
   ]
  },
  {
   "cell_type": "code",
   "execution_count": 88,
   "metadata": {},
   "outputs": [],
   "source": [
    "x = sorted(np.random.random(1000))\n",
    "y1 = x\n",
    "y2 = -np.log2(x)\n",
    "y3 = np.multiply(x, -np.log2(x))"
   ]
  },
  {
   "cell_type": "code",
   "execution_count": 89,
   "metadata": {},
   "outputs": [
    {
     "data": {
      "text/plain": [
       "[<matplotlib.lines.Line2D at 0x1a197a7978>]"
      ]
     },
     "execution_count": 89,
     "metadata": {},
     "output_type": "execute_result"
    },
    {
     "data": {
      "image/png": "[encoded data removed]",
      "text/plain": [
       "<Figure size 432x288 with 1 Axes>"
      ]
     },
     "metadata": {},
     "output_type": "display_data"
    }
   ],
   "source": [
    "plt.plot(x, y1, 'r')\n",
    "plt.plot(x, y2, 'g')"
   ]
  },
  {
   "cell_type": "code",
   "execution_count": 90,
   "metadata": {},
   "outputs": [
    {
     "data": {
      "text/plain": [
       "[<matplotlib.lines.Line2D at 0x1a19e6b470>]"
      ]
     },
     "execution_count": 90,
     "metadata": {},
     "output_type": "execute_result"
    },
    {
     "data": {
      "image/png": "[encoded data removed]",
      "text/plain": [
       "<Figure size 432x288 with 1 Axes>"
      ]
     },
     "metadata": {},
     "output_type": "display_data"
    }
   ],
   "source": [
    "plt.plot(x, y3, 'b')"
   ]
  },
  {
   "cell_type": "markdown",
   "metadata": {},
   "source": [
    "Knowing the shape of this function, we see that there are properties in the equation that are very useful. The measure of variability in choices of a system requires a formula in which -  \n",
    "\n",
    "1. An extremely likely event should NOT contribute to our measure of variablility of choices\n",
    "2. An extremely unlikely even should NOT contribute to our measure of variability of choices\n",
    "3. This measure should be additive"
   ]
  },
  {
   "cell_type": "code",
   "execution_count": null,
   "metadata": {},
   "outputs": [],
   "source": []
  },
  {
   "cell_type": "code",
   "execution_count": null,
   "metadata": {},
   "outputs": [],
   "source": []
  },
  {
   "cell_type": "code",
   "execution_count": null,
   "metadata": {},
   "outputs": [],
   "source": []
  },
  {
   "cell_type": "code",
   "execution_count": null,
   "metadata": {},
   "outputs": [],
   "source": []
  },
  {
   "cell_type": "code",
   "execution_count": null,
   "metadata": {},
   "outputs": [],
   "source": []
  },
  {
   "cell_type": "code",
   "execution_count": null,
   "metadata": {},
   "outputs": [],
   "source": []
  },
  {
   "cell_type": "code",
   "execution_count": null,
   "metadata": {},
   "outputs": [],
   "source": []
  },
  {
   "cell_type": "code",
   "execution_count": null,
   "metadata": {},
   "outputs": [],
   "source": []
  },
  {
   "cell_type": "code",
   "execution_count": null,
   "metadata": {},
   "outputs": [],
   "source": []
  },
  {
   "cell_type": "code",
   "execution_count": null,
   "metadata": {},
   "outputs": [],
   "source": []
  },
  {
   "cell_type": "code",
   "execution_count": null,
   "metadata": {},
   "outputs": [],
   "source": []
  }
 ],
 "metadata": {
  "kernelspec": {
   "display_name": "Python 3",
   "language": "python",
   "name": "python3"
  },
  "language_info": {
   "codemirror_mode": {
    "name": "ipython",
    "version": 3
   },
   "file_extension": ".py",
   "mimetype": "text/x-python",
   "name": "python",
   "nbconvert_exporter": "python",
   "pygments_lexer": "ipython3",
   "version": "3.6.5"
  }
 },
 "nbformat": 4,
 "nbformat_minor": 2
}
