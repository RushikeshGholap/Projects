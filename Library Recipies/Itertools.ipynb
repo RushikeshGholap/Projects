{
 "cells": [
  {
   "cell_type": "markdown",
   "metadata": {},
   "source": [
    "# Itertools - Functions creating iterators for efficient looping"
   ]
  },
  {
   "cell_type": "markdown",
   "metadata": {},
   "source": [
    "Itertools implements a number of iterator building blocks inspired by constructs from APL, Haskell, and SML. Each has been recast in a form suitable for Python.\n",
    "\n",
    "The module standardizes a core set of fast, memory efficient tools that are useful by themselves or in combination. Together, they form an “iterator algebra”. For instance, SML provides a tabulation tool: tabulate(f) which produces a sequence f(0), f(1), .... The same effect can be achieved in Python by combining imap() and count() to form imap(f, count()).\n",
    "\n",
    "These tools and their built-in counterparts also work well with the high-speed functions in the operator module. For example, the multiplication operator can be mapped across two vectors to form an efficient dot-product: sum(imap(operator.mul, vector1, vector2))."
   ]
  },
  {
   "cell_type": "code",
   "execution_count": 2,
   "metadata": {},
   "outputs": [],
   "source": [
    "import itertools"
   ]
  },
  {
   "cell_type": "code",
   "execution_count": 3,
   "metadata": {},
   "outputs": [],
   "source": [
    "## Taking first few elements from an iterator\n",
    "\n",
    "def take(n, iterable):\n",
    "    return list(itertools.islice(iterable, n))"
   ]
  },
  {
   "cell_type": "code",
   "execution_count": 4,
   "metadata": {},
   "outputs": [
    {
     "data": {
      "text/plain": [
       "'ABCD'"
      ]
     },
     "execution_count": 4,
     "metadata": {},
     "output_type": "execute_result"
    }
   ],
   "source": [
    "#### Itertools library considers all the 3 as similar sequences\n",
    "\n",
    "[1,2,3,4,5]\n",
    "['A','B','C','D']\n",
    "'ABCD'"
   ]
  },
  {
   "cell_type": "markdown",
   "metadata": {},
   "source": [
    "## Infinite Iterators"
   ]
  },
  {
   "cell_type": "code",
   "execution_count": 5,
   "metadata": {},
   "outputs": [
    {
     "name": "stdout",
     "output_type": "stream",
     "text": [
      "[5, 10, 15, 20, 25, 30, 35, 40, 45, 50]\n",
      "['A', 'B', 'C', 'D', 'A', 'B', 'C', 'D', 'A', 'B']\n",
      "[1, 2, 3, 4, 1, 2, 3, 4, 1, 2]\n",
      "[10, 10, 10, 10, 10]\n"
     ]
    }
   ],
   "source": [
    "#Arithematic progression with a = 5 and d = 5 \n",
    "aa = itertools.count(5,5)\n",
    "print(take(10,aa))\n",
    "\n",
    "\n",
    "#Cyclic progression of elements\n",
    "bb = itertools.cycle('ABCD')\n",
    "print(take(10,bb))\n",
    "cc = itertools.cycle([1,2,3,4])\n",
    "print(take(10,cc))\n",
    "\n",
    "\n",
    "#Repeated list\n",
    "dd = itertools.repeat(10,5)\n",
    "print(take(10,dd))"
   ]
  },
  {
   "cell_type": "markdown",
   "metadata": {},
   "source": [
    "## Iterators terminating on the shortest input sequence"
   ]
  },
  {
   "cell_type": "code",
   "execution_count": 6,
   "metadata": {
    "scrolled": true
   },
   "outputs": [
    {
     "name": "stdout",
     "output_type": "stream",
     "text": [
      "['A', 'B', 'C', 'D', 'E', 'F', 'G', 'H']\n",
      "[1, 2, 3, 'A', 'B', 'A', 'B', 'C', 'D']\n"
     ]
    }
   ],
   "source": [
    "#Chain 2 sequences\n",
    "\n",
    "ee = itertools.chain('ABCD','EFGH')\n",
    "print([i for i in ee])\n",
    "ff = itertools.chain([1,2,3],['A','B'],'ABCD')  #Note that it doesnt remove duplicates\n",
    "print([i for i in ff])"
   ]
  },
  {
   "cell_type": "code",
   "execution_count": 7,
   "metadata": {},
   "outputs": [
    {
     "name": "stdout",
     "output_type": "stream",
     "text": [
      "['A', 'B', 'E', 'F', 'I']\n"
     ]
    }
   ],
   "source": [
    "#Allows to 'mask' elements in a list\n",
    "\n",
    "gg = itertools.compress('ABCDEFGHIJ',[1,1,0,0,1,1,0,0,1,0])\n",
    "print([i for i in gg])"
   ]
  },
  {
   "cell_type": "code",
   "execution_count": 8,
   "metadata": {},
   "outputs": [
    {
     "name": "stdout",
     "output_type": "stream",
     "text": [
      "[5, 6, 7, 8, 9, 10]\n"
     ]
    }
   ],
   "source": [
    "#Drop elements if function fails\n",
    "\n",
    "hh = itertools.dropwhile(lambda x:x<5,[1,2,3,4,5,6,7,8,9,10])\n",
    "print([i for i in hh])"
   ]
  },
  {
   "cell_type": "code",
   "execution_count": 9,
   "metadata": {},
   "outputs": [
    {
     "name": "stdout",
     "output_type": "stream",
     "text": [
      "['A', 'B', 'C', 'A', 'D']\n",
      "[['A', 'A'], ['B', 'B', 'B'], ['C'], ['A', 'A'], ['D', 'D']]\n",
      "[2, 3, 1, 2, 2]\n"
     ]
    }
   ],
   "source": [
    "#Order-wise grouping of elements in a sequence \n",
    "#Returns unique element and grouped sequence\n",
    "\n",
    "jj = itertools.groupby('AABBBCAADD')\n",
    "print([k for k,g in jj])\n",
    "\n",
    "jj = itertools.groupby('AABBBCAADD')\n",
    "print([list(g) for k,g in jj])\n",
    "\n",
    "jj = itertools.groupby('AABBBCAADD')\n",
    "print([len(list(g)) for k,g in jj])"
   ]
  },
  {
   "cell_type": "code",
   "execution_count": 10,
   "metadata": {},
   "outputs": [
    {
     "name": "stdout",
     "output_type": "stream",
     "text": [
      "[0, 2, 4, 6, 8]\n"
     ]
    }
   ],
   "source": [
    "#Filters functions where sequence is false\n",
    "\n",
    "kk = itertools.filterfalse(lambda x:x%2, range(10))\n",
    "print([i for i in kk])"
   ]
  },
  {
   "cell_type": "code",
   "execution_count": 11,
   "metadata": {},
   "outputs": [
    {
     "name": "stdout",
     "output_type": "stream",
     "text": [
      "['C', 'E', 'G', 'I']\n"
     ]
    }
   ],
   "source": [
    "#Slice a sequence based on [start], stop, [step]\n",
    "#Useful for turning infinite generators into finite generators\n",
    "\n",
    "ll = itertools.islice('ABCDEFGHIJKLMN', 2, 10, 2)\n",
    "print([i for i in ll])"
   ]
  },
  {
   "cell_type": "code",
   "execution_count": 20,
   "metadata": {},
   "outputs": [
    {
     "name": "stdout",
     "output_type": "stream",
     "text": [
      "[8, 25, 3125]\n",
      "['abcxyz', 'lmnopq', 'nametag']\n"
     ]
    }
   ],
   "source": [
    "#Used for mapping a function with 2 parameters\n",
    "mm = itertools.starmap(pow,[(2,3),(5,2),(5,5)])\n",
    "print([i for i in mm])\n",
    "\n",
    "#Works for custom functions as well\n",
    "def appending(a,b):\n",
    "    return a+b\n",
    "\n",
    "x = [('abc','xyz'),('lmn','opq'),('name','tag')]\n",
    "nn = itertools.starmap(appending,x)\n",
    "print([i for i in nn])"
   ]
  },
  {
   "cell_type": "code",
   "execution_count": null,
   "metadata": {},
   "outputs": [],
   "source": []
  }
 ],
 "metadata": {
  "kernelspec": {
   "display_name": "Python 3",
   "language": "python",
   "name": "python3"
  },
  "language_info": {
   "codemirror_mode": {
    "name": "ipython",
    "version": 3
   },
   "file_extension": ".py",
   "mimetype": "text/x-python",
   "name": "python",
   "nbconvert_exporter": "python",
   "pygments_lexer": "ipython3",
   "version": "3.6.5"
  }
 },
 "nbformat": 4,
 "nbformat_minor": 2
}
