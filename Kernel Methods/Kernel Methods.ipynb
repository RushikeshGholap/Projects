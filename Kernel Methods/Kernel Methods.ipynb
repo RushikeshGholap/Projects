{
 "cells": [
  {
   "cell_type": "markdown",
   "metadata": {},
   "source": [
    "# <u>Notes on Kernel Methods and Experimentation</u>"
   ]
  },
  {
   "cell_type": "markdown",
   "metadata": {},
   "source": [
    "### What is Linearity / Linear function / Linear system?\n",
    "\n",
    "A function $f$ is called linear if it satisfies the following - \n",
    "1. $f(x+y) = f(x) + f(y)$ <span style=\"color:red;\">(Additive) </span>\n",
    "2. $f(\\alpha x) = \\alpha f(x)$  <span style=\"color:red;\">(Homogeneous) </span>\n",
    "\n",
    "In linear algebra, <u>every linear function can be represented as a matrix operation.</u>\n",
    "\n",
    "Linear spaces (ie, vector spaces) and Linear functions are very well studied and have many applications across pure and applied mathematics. People across engineering and sciences speak somewhat more loosely about \"problems\" which are \"linear\". In this context, it means that you think of x as an input to some system. <span style=\"color:red;\">A \"linear system\" is one in which when you scale the input by $\\alpha$ (say, pedal faster on your bicycle), the output of the system scales by just the same amount (your bike moves faster a proportionate amount). That is, $f(\\alpha x) = \\alpha f(x)$.</span>\n",
    "\n",
    "A nonlinear system, then, might be one where a tiny change in input results in a huge change in output (you pedal faster and your bicycle explodes). Explosions, turbulence, and the \"butterfly effect\" are typical examples."
   ]
  },
  {
   "cell_type": "markdown",
   "metadata": {},
   "source": [
    "> <span style=\"color:green;\">So any system of equations that follow the above 2 rules can be solved using matrix operations</span>"
   ]
  },
  {
   "cell_type": "markdown",
   "metadata": {},
   "source": [
    "### How is a system of linear equations solved?\n",
    "\n",
    "Fundamently, the system of equations...\n",
    "\n",
    "$$2x-y = 4$$\n",
    "\n",
    "$$3x+2y = 13$$\n",
    "\n",
    "...can be represented via a matrix representation as... \n",
    "\n",
    "$$\\begin{equation}\n",
    "\\begin{pmatrix} 2 & -1 \\\\ 3 & 2 \\end{pmatrix}\n",
    "\\begin{pmatrix} x \\\\ y \\end{pmatrix}\n",
    "=\n",
    "\\begin{pmatrix} 4 \\\\ 13 \\end{pmatrix}\n",
    "\\end{equation}$$\n",
    "\n",
    "...and solved by calculating $A^{-1}$ and substituting in the equation below - \n",
    "\n",
    "$$A.X = B \\implies X = A^{-1} B$$\n",
    "\n",
    "$$A^{-1} = \\frac{1}{|A|}Adj(A) \\,\\,\\,\\,\\,\\,where \\{|A| \\neq 0\\}$$\n",
    "\n",
    "The same concept applies on larger matrices. These matrix operations are what make up the maths around <span style=\"color:red;\">Linear Algebra</span>. Although, solving larger matrices requires a large number of small simple steps. This makes computers great for linear algebra. (More on this in <span style=\"color:blue;\">Linear Algebra 101)</span>"
   ]
  },
  {
   "cell_type": "markdown",
   "metadata": {},
   "source": [
    "> <span style=\"color:green;\">So, linear equations are easy to handle with linear algebra. And we have a lot of theorums and work done of solving this. But does this apply to non-linear system of equations?</span>"
   ]
  },
  {
   "cell_type": "markdown",
   "metadata": {},
   "source": [
    "### Can I solve non-linear system of equations using the Linear Algebra?\n",
    "\n",
    "No in real life "
   ]
  },
  {
   "cell_type": "markdown",
   "metadata": {},
   "source": [
    "https://www.youtube.com/watch?v=xa0i0rW68-s\n",
    "\n",
    "https://www.youtube.com/watch?v=7_T9AdeWY3k"
   ]
  },
  {
   "cell_type": "markdown",
   "metadata": {},
   "source": []
  },
  {
   "cell_type": "markdown",
   "metadata": {},
   "source": []
  },
  {
   "cell_type": "code",
   "execution_count": null,
   "metadata": {},
   "outputs": [],
   "source": []
  },
  {
   "cell_type": "markdown",
   "metadata": {},
   "source": []
  }
 ],
 "metadata": {
  "kernelspec": {
   "display_name": "Python 3",
   "language": "python",
   "name": "python3"
  },
  "language_info": {
   "codemirror_mode": {
    "name": "ipython",
    "version": 3
   },
   "file_extension": ".py",
   "mimetype": "text/x-python",
   "name": "python",
   "nbconvert_exporter": "python",
   "pygments_lexer": "ipython3",
   "version": "3.7.3"
  }
 },
 "nbformat": 4,
 "nbformat_minor": 2
}
