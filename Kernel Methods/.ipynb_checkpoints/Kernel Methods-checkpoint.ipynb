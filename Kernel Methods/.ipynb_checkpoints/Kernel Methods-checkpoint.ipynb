{
 "cells": [
  {
   "cell_type": "markdown",
   "metadata": {},
   "source": [
    "# <u>Notes on Kernel Methods and Experimentation</u>"
   ]
  },
  {
   "cell_type": "markdown",
   "metadata": {},
   "source": [
    "### What is Linearity / Linear function / Linear system?\n",
    "\n",
    "A function $f$ is called linear if it satisfies the following - \n",
    "1. $f(x+y) = f(x) + f(y)$ <span style=\"color:red;\">(Additive) </span>\n",
    "2. $f(\\alpha x) = \\alpha f(x)$  <span style=\"color:red;\">(Homogeneous) </span>\n",
    "\n",
    "In linear algebra, <u>every linear function can be represented as a matrix operation.</u>\n",
    "\n",
    "Linear spaces (ie, vector spaces) and Linear functions are very well studied and have many applications across pure and applied mathematics. People across engineering and sciences speak somewhat more loosely about \"problems\" which are \"linear\". In this context, it means that you think of x as an input to some system. <span style=\"color:red;\">A \"linear system\" is one in which when you scale the input by $\\alpha$ (say, pedal faster on your bicycle), the output of the system scales by just the same amount (your bike moves faster a proportionate amount). That is, $f(\\alpha x) = \\alpha f(x)$.</span>\n",
    "\n",
    "A nonlinear system, then, might be one where a tiny change in input results in a huge change in output (you pedal faster and your bicycle explodes). Explosions, turbulence, and the \"butterfly effect\" are typical examples."
   ]
  },
  {
   "cell_type": "markdown",
   "metadata": {},
   "source": []
  }
 ],
 "metadata": {
  "kernelspec": {
   "display_name": "Python 3",
   "language": "python",
   "name": "python3"
  },
  "language_info": {
   "codemirror_mode": {
    "name": "ipython",
    "version": 3
   },
   "file_extension": ".py",
   "mimetype": "text/x-python",
   "name": "python",
   "nbconvert_exporter": "python",
   "pygments_lexer": "ipython3",
   "version": "3.6.5"
  }
 },
 "nbformat": 4,
 "nbformat_minor": 2
}
