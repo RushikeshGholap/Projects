{
 "cells": [
  {
   "cell_type": "markdown",
   "metadata": {},
   "source": [
    "<h1><u>Boolean Indexing</u></h1>\n",
    "<p>Objective : To explore conditional filtering of data boolean indexing techniques.\n",
    "<p style=\"color:#666666\">Last updated: 06th Feb 2017<br>Akshay Sehgal, www.asehgal.com</p>"
   ]
  },
  {
   "cell_type": "markdown",
   "metadata": {},
   "source": [
    "<h2>1. Introduction</h2>\n",
    "\n",
    "<p></p> "
   ]
  },
  {
   "cell_type": "code",
   "execution_count": null,
   "metadata": {
    "collapsed": true
   },
   "outputs": [],
   "source": []
  },
  {
   "cell_type": "markdown",
   "metadata": {},
   "source": [
    "<h2>References</h2>\n",
    "<ul>\n",
    "<li>https://www.analyticsvidhya.com/blog/2016/01/12-pandas-techniques-python-data-manipulation/</li>\n",
    "<li>http://pandas.pydata.org/pandas-docs/stable/indexing.html</li>\n",
    "<li>http://stackoverflow.com/questions/10665889/how-to-take-column-slices-of-dataframe-in-pandas</li>\n",
    "<li>http://www.datacarpentry.org/python-ecology-lesson/02-index-slice-subset/</li>\n",
    "</ul>"
   ]
  }
 ],
 "metadata": {
  "anaconda-cloud": {},
  "kernelspec": {
   "display_name": "Python [default]",
   "language": "python",
   "name": "python3"
  },
  "language_info": {
   "codemirror_mode": {
    "name": "ipython",
    "version": 3
   },
   "file_extension": ".py",
   "mimetype": "text/x-python",
   "name": "python",
   "nbconvert_exporter": "python",
   "pygments_lexer": "ipython3",
   "version": "3.5.2"
  }
 },
 "nbformat": 4,
 "nbformat_minor": 1
}
