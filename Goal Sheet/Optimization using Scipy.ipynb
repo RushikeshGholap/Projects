{
 "cells": [
  {
   "cell_type": "markdown",
   "metadata": {},
   "source": [
    "<h1><u>Optimization using linear programming</u></h1>\n",
    "<p>Objective : Understand how optimization problems can be implemented in python using Scipy.\n",
    "<p style=\"color:#666666\">Last updated: 12th Jul 2017<br>Akshay Sehgal, www.asehgal.com</p>"
   ]
  },
  {
   "cell_type": "markdown",
   "metadata": {},
   "source": [
    "Let's consider an optimization problem where you need to minimize a given value, under certain constraints and bounds.\n",
    "\n",
    "Objective:\n",
    "- Minimize a = x0+x3(x0+x1+x2)+x2\n",
    "\n",
    "Constraints:\n",
    "- x0*x1*x2*x3 >=25\n",
    "- Sum of squared of all x0,x1,x2,x3 = 40\n",
    "\n",
    "Bounds:\n",
    "- All values of x0,x1,x2,x3 lie between 1 and 5"
   ]
  },
  {
   "cell_type": "code",
   "execution_count": 1,
   "metadata": {
    "collapsed": true
   },
   "outputs": [],
   "source": [
    "import numpy as np\n",
    "from scipy.optimize import minimize"
   ]
  },
  {
   "cell_type": "code",
   "execution_count": 3,
   "metadata": {
    "collapsed": true
   },
   "outputs": [],
   "source": [
    "#Objective\n",
    "def objective(x):\n",
    "    return x[0]*x[3]*(x[0]+x[1]+x[2])+x[2]"
   ]
  },
  {
   "cell_type": "code",
   "execution_count": 5,
   "metadata": {
    "collapsed": true
   },
   "outputs": [],
   "source": [
    "##Constraints are defined as only the LHS of the equation, by moving everything towards one side.\n",
    "## This makes the equation equal (or unequal) to 0 for each constraint.\n",
    "\n",
    "#First equation becomes x0*x1*x2*x3-25 >=0\n",
    "def constraint1(x):\n",
    "    return x[0]*x[1]*x[2]*x[3]-25\n",
    "\n",
    "#Second equation becomes 40-x0^2-x1^2-x^2-x^3 = 0\n",
    "def constraint2(x):\n",
    "    sum_sq=40\n",
    "    for i in range(4):\n",
    "        sum_sq = sum_sq - x[i]**2\n",
    "    return sum_sq"
   ]
  },
  {
   "cell_type": "code",
   "execution_count": 6,
   "metadata": {
    "collapsed": true
   },
   "outputs": [],
   "source": [
    "#Define the constrains as a dictionary and add them to a list\n",
    "con1 = {'type': 'ineq', 'fun': constraint1}\n",
    "con2 = {'type': 'eq', 'fun': constraint2}\n",
    "cons = [con1,con2]"
   ]
  },
  {
   "cell_type": "code",
   "execution_count": 7,
   "metadata": {
    "collapsed": true
   },
   "outputs": [],
   "source": [
    "#Create bounds as tuples for each variable\n",
    "#Bounds\n",
    "b = (1.0, 5.0)\n",
    "bnds = (b,b,b,b)"
   ]
  },
  {
   "cell_type": "code",
   "execution_count": 11,
   "metadata": {},
   "outputs": [
    {
     "name": "stdout",
     "output_type": "stream",
     "text": [
      "     fun: 17.014017214182033\n",
      "     jac: array([ 14.57227778,   1.3794086 ,   2.3794086 ,   9.56414938])\n",
      " message: 'Optimization terminated successfully.'\n",
      "    nfev: 42\n",
      "     nit: 7\n",
      "    njev: 7\n",
      "  status: 0\n",
      " success: True\n",
      "       x: array([ 1.        ,  4.74300112,  3.82114806,  1.37940855])\n"
     ]
    }
   ],
   "source": [
    "#Define the function and run the optimizer\n",
    "x=[1,4,2,1]\n",
    "sol = minimize(objective, x, method = 'SLSQP', bounds = bnds, constraints = cons)\n",
    "print(sol)"
   ]
  },
  {
   "cell_type": "code",
   "execution_count": 16,
   "metadata": {},
   "outputs": [
    {
     "name": "stdout",
     "output_type": "stream",
     "text": [
      "[ 1.          4.74300112  3.82114806  1.37940855]\n"
     ]
    }
   ],
   "source": [
    "#Solution with the best set of values for x0,x1,x2,x3 is as follows\n",
    "print(sol.x)"
   ]
  },
  {
   "cell_type": "code",
   "execution_count": 17,
   "metadata": {},
   "outputs": [
    {
     "name": "stdout",
     "output_type": "stream",
     "text": [
      "17.014017214182033\n",
      "17.0140172142\n"
     ]
    }
   ],
   "source": [
    "#The minimum possible objective value is below\n",
    "print(sol.fun)\n",
    "print(objective(sol.x))"
   ]
  }
 ],
 "metadata": {
  "kernelspec": {
   "display_name": "Python 3",
   "language": "python",
   "name": "python3"
  },
  "language_info": {
   "codemirror_mode": {
    "name": "ipython",
    "version": 3
   },
   "file_extension": ".py",
   "mimetype": "text/x-python",
   "name": "python",
   "nbconvert_exporter": "python",
   "pygments_lexer": "ipython3",
   "version": "3.6.1"
  }
 },
 "nbformat": 4,
 "nbformat_minor": 2
}
