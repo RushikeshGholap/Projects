{
 "cells": [
  {
   "cell_type": "markdown",
   "metadata": {},
   "source": [
    "# Advance Numpy and Vectorization\n",
    "\n",
    "Reference - https://www.labri.fr/perso/nrougier/from-python-to-numpy/"
   ]
  },
  {
   "cell_type": "markdown",
   "metadata": {},
   "source": [
    "## Introduction"
   ]
  },
  {
   "cell_type": "code",
   "execution_count": 7,
   "metadata": {},
   "outputs": [],
   "source": [
    "import numpy as np\n",
    "import random"
   ]
  },
  {
   "cell_type": "markdown",
   "metadata": {},
   "source": [
    "#### Prodedural approach"
   ]
  },
  {
   "cell_type": "code",
   "execution_count": 37,
   "metadata": {},
   "outputs": [],
   "source": [
    "def random_walk(n):\n",
    "    position = 0\n",
    "    walk = [position]\n",
    "    for i in range(n):\n",
    "        position += 2*random.randint(0, 1)-1\n",
    "        walk.append(position)\n",
    "    return walk\n",
    "\n",
    "walk = random_walk(10)"
   ]
  },
  {
   "cell_type": "code",
   "execution_count": 31,
   "metadata": {},
   "outputs": [
    {
     "name": "stdout",
     "output_type": "stream",
     "text": [
      "179 µs ± 58.2 µs per loop (mean ± std. dev. of 7 runs, 10000 loops each)\n"
     ]
    }
   ],
   "source": [
    "%%timeit\n",
    "random_walk(100)"
   ]
  },
  {
   "cell_type": "markdown",
   "metadata": {},
   "source": [
    "#### Vectorised approach - Itertools"
   ]
  },
  {
   "cell_type": "code",
   "execution_count": 26,
   "metadata": {},
   "outputs": [],
   "source": [
    "from itertools import accumulate"
   ]
  },
  {
   "cell_type": "code",
   "execution_count": 42,
   "metadata": {},
   "outputs": [],
   "source": [
    "def random_walk_itertools(n):\n",
    "    steps = random.choices([-1, +1], k=n)\n",
    "    return [0]+list(accumulate(steps))\n",
    "\n",
    "walk = random_walk_itertools(10)"
   ]
  },
  {
   "cell_type": "code",
   "execution_count": 43,
   "metadata": {},
   "outputs": [
    {
     "name": "stdout",
     "output_type": "stream",
     "text": [
      "46.9 µs ± 3.48 µs per loop (mean ± std. dev. of 7 runs, 10000 loops each)\n"
     ]
    }
   ],
   "source": [
    "%%timeit\n",
    "random_walk_itertools(100)"
   ]
  },
  {
   "cell_type": "markdown",
   "metadata": {},
   "source": [
    "#### Vectorised approach - Numpy"
   ]
  },
  {
   "cell_type": "code",
   "execution_count": 34,
   "metadata": {},
   "outputs": [],
   "source": [
    "def random_walk_numpy(n):\n",
    "    steps = np.random.choice([-1,+1], n)\n",
    "    return np.cumsum(steps)\n",
    "\n",
    "walk = random_walk_numpy(10)"
   ]
  },
  {
   "cell_type": "code",
   "execution_count": 44,
   "metadata": {},
   "outputs": [
    {
     "name": "stdout",
     "output_type": "stream",
     "text": [
      "51.1 µs ± 1.18 µs per loop (mean ± std. dev. of 7 runs, 10000 loops each)\n"
     ]
    }
   ],
   "source": [
    "%%timeit\n",
    "random_walk_numpy(100)"
   ]
  },
  {
   "cell_type": "code",
   "execution_count": null,
   "metadata": {},
   "outputs": [],
   "source": []
  },
  {
   "cell_type": "markdown",
   "metadata": {},
   "source": [
    "## Memory"
   ]
  },
  {
   "cell_type": "markdown",
   "metadata": {},
   "source": [
    "#### NOTE - Ellipsis\n",
    "`[...]` or `Ellipsis` is a placeholder operator. W.r.t Numpy, `Z[0,...,0]` is the same as `Z[0,:,0]` for a 3D array, `Z[0,:,:,0]` for a 4D array, `Z[0,:,:,:,0]` for a 5D array and so on. It is also used as a placeholder for code as -\n",
    "\n",
    "```\n",
    "for i in range(100):\n",
    "    ...\n",
    "```"
   ]
  },
  {
   "cell_type": "markdown",
   "metadata": {},
   "source": [
    "#### NOTE - Views vs Copies\n",
    "Selection by basic slicing always returns a view. Selection by advanced indexing always returns a copy. Selection by boolean mask is a form of advanced indexing. (The other form of advanced indexing is selection by integer array.)\n",
    "\n",
    "```\n",
    "|            | basic slicing    | advanced indexing |\n",
    "|------------+------------------+-------------------|\n",
    "| selection  | view             | copy              |\n",
    "| assignment | affects original | affects original  |\n",
    "```\n",
    "\n",
    "https://stackoverflow.com/a/38768993/4755954"
   ]
  },
  {
   "cell_type": "code",
   "execution_count": 81,
   "metadata": {},
   "outputs": [],
   "source": [
    "Z = np.ones(4*1000000, np.float32)"
   ]
  },
  {
   "cell_type": "code",
   "execution_count": 73,
   "metadata": {},
   "outputs": [
    {
     "name": "stdout",
     "output_type": "stream",
     "text": [
      "790 µs ± 14.3 µs per loop (mean ± std. dev. of 7 runs, 1000 loops each)\n",
      "765 µs ± 10.9 µs per loop (mean ± std. dev. of 7 runs, 1000 loops each)\n",
      "743 µs ± 4.21 µs per loop (mean ± std. dev. of 7 runs, 1000 loops each)\n",
      "606 µs ± 14.5 µs per loop (mean ± std. dev. of 7 runs, 1000 loops each)\n",
      "778 µs ± 24.2 µs per loop (mean ± std. dev. of 7 runs, 1000 loops each)\n",
      "735 µs ± 4.25 µs per loop (mean ± std. dev. of 7 runs, 1000 loops each)\n",
      "758 µs ± 33 µs per loop (mean ± std. dev. of 7 runs, 1000 loops each)\n",
      "723 µs ± 9.06 µs per loop (mean ± std. dev. of 7 runs, 1000 loops each)\n"
     ]
    }
   ],
   "source": [
    "#Casting this array into multiple data types that are 'compatible'\n",
    "#Which means Z.size * Z.itemsize can be divided by the new dtype itemsize\n",
    "\n",
    "%timeit Z.view(np.float16)[...] = 0\n",
    "%timeit Z.view(np.float32)[...] = 0\n",
    "%timeit Z.view(np.float64)[...] = 0\n",
    "%timeit Z.view(np.int8)[...] = 0\n",
    "%timeit Z.view(np.int16)[...] = 0\n",
    "%timeit Z.view(np.int32)[...] = 0\n",
    "%timeit Z.view(np.int64)[...] = 0\n",
    "%timeit Z.view(np.complex128)[...] = 0"
   ]
  },
  {
   "cell_type": "markdown",
   "metadata": {},
   "source": [
    "Interestingly enough, the obvious way of clearing all the values is not the fastest. By casting the array into a larger data type such as np.float64, we gained a 25% speed factor. But, by viewing the array as a byte array (np.int8), we gained a 50% factor. The reason for such speedup are to be found in the internal numpy machinery and the compiler optimization.\n",
    "\n",
    "> An instance of class ndarray consists of a contiguous one-dimensional segment of computer memory (owned by the array, or by some other object), combined with an indexing scheme that maps N integers into the location of an item in the block.\n",
    "\n",
    "In other words, an array is a contiguous block of memory whose parts can be accessed using an indexing scheme. This indexing scheme is defined by a **shape** and a **data type**."
   ]
  },
  {
   "cell_type": "code",
   "execution_count": 84,
   "metadata": {},
   "outputs": [
    {
     "data": {
      "text/plain": [
       "array([[0, 1, 2],\n",
       "       [3, 4, 5],\n",
       "       [6, 7, 8]], dtype=int16)"
      ]
     },
     "execution_count": 84,
     "metadata": {},
     "output_type": "execute_result"
    }
   ],
   "source": [
    "Z = np.arange(9).reshape(3,3).astype(np.int16)\n",
    "Z"
   ]
  },
  {
   "cell_type": "code",
   "execution_count": 135,
   "metadata": {},
   "outputs": [
    {
     "name": "stdout",
     "output_type": "stream",
     "text": [
      "2\n",
      "(3, 3)\n",
      "2\n",
      "18\n"
     ]
    }
   ],
   "source": [
    "print(Z.itemsize) #number of bytes needed to store each element of int16 (16/8=2)\n",
    "print(Z.shape) #Shape of the 2D array Z\n",
    "print(Z.ndim) #Number of dimensions that the array has\n",
    "print(Z.nbytes) #Number of bytes needed to store Z (3*3*2)"
   ]
  },
  {
   "cell_type": "markdown",
   "metadata": {},
   "source": [
    "#### Strides\n",
    "This array is stored in memory as 18 bytes (int16 so 2 bytes each element, $2*3*3$), one after the other (known as a contiguous block of memory). **The strides of an array tell us how many bytes we have to skip in memory to move to the next position along a certain axis**. For example, we have to skip 2 bytes (1 value) to move to the next column (axis=1), but 6 bytes (3 values) to get to the same position in the next row (axis=0). As such, the strides for the array x will be (6, 2)."
   ]
  },
  {
   "cell_type": "code",
   "execution_count": 115,
   "metadata": {},
   "outputs": [
    {
     "data": {
      "text/plain": [
       "(6, 2)"
      ]
     },
     "execution_count": 115,
     "metadata": {},
     "output_type": "execute_result"
    }
   ],
   "source": [
    "Z.strides #Number of bytes that need to be moved to reach the next position along a given axis!"
   ]
  },
  {
   "cell_type": "markdown",
   "metadata": {},
   "source": [
    "Lets check if we are able to access the same memory using strides that we do when using boolean indexing directly."
   ]
  },
  {
   "cell_type": "code",
   "execution_count": 119,
   "metadata": {},
   "outputs": [
    {
     "name": "stdout",
     "output_type": "stream",
     "text": [
      "5\n",
      "b'\\x05\\x00'\n"
     ]
    }
   ],
   "source": [
    "#The (1,2) index of Z has the value 5 and in bytes is represented as the following\n",
    "\n",
    "print(Z[1,2])\n",
    "print(Z[1,2].tobytes()) #Bytes of int16"
   ]
  },
  {
   "cell_type": "markdown",
   "metadata": {},
   "source": [
    "Since contigous memory, to reach (1,2) we need to take: \n",
    "\n",
    "- 1 stride over axis=0 and 2 strides over axis=1 \n",
    "- OR, 1 step of 6 bytes on axis=0 and 2 steps of 2 bytes on axis=1\n",
    "- OR, 6 bytes + 4 bytes in memory in total (10 bytes)\n",
    "\n",
    "This results in the start of the memory where the (1,2)th value is stores in Z. To get what this element contains, we need to see what the next 2 bytes contain starting from 10th byte in Z. Meaning from 10:12 bytes."
   ]
  },
  {
   "cell_type": "code",
   "execution_count": 130,
   "metadata": {},
   "outputs": [
    {
     "name": "stdout",
     "output_type": "stream",
     "text": [
      "b'\\x00\\x00\\x01\\x00\\x02\\x00\\x03\\x00\\x04\\x00\\x05\\x00\\x06\\x00\\x07\\x00\\x08\\x00'\n",
      "[10, 12]\n",
      "b'\\x05\\x00'\n"
     ]
    }
   ],
   "source": [
    "offset_start = np.sum(Z.strides * np.array([1,2])) #Start of the offset by taking strides based on index\n",
    "offset_end = offset_start + Z.itemsize #Adding 2 bytes to offset (size of element in int16)\n",
    "\n",
    "print(Z.tobytes()) #Bytes that contain complete Z as a contingous piece of memory\n",
    "print([offset_start, offset_end]) #Bytes [start,end] that contain [1,2]th element\n",
    "\n",
    "print(Z.tobytes()[offset_start:offset_end]) #its the same as what we get from directly indexing!"
   ]
  },
  {
   "cell_type": "markdown",
   "metadata": {},
   "source": [
    "A good way to visualize this is by imagining a contigous memory with each row as a separate element of n bytes (2 in this case). To reach the [1,2]th element, we have to move 3 + 2 elements down to find the 2 bytes that we need."
   ]
  },
  {
   "cell_type": "markdown",
   "metadata": {},
   "source": [
    "```\n",
    "\n",
    "                         strides[1]\n",
    "                           (=2)\n",
    "                  ┌─────────────────────┐\n",
    "\n",
    "          ┌       ┌──────────┬──────────┐ ┐\n",
    "          │ p+00: │ 00000000 │ 00000000 │ │\n",
    "          │       ├──────────┼──────────┤ │\n",
    "          │ p+02: │ 00000000 │ 00000001 │ │ strides[0]\n",
    "          │       ├──────────┼──────────┤ │   (=2x3)\n",
    "          │ p+04  │ 00000000 │ 00000010 │ │\n",
    "          │       ├──────────┼──────────┤ ┘\n",
    "          │ p+06  │ 00000000 │ 00000011 │\n",
    "          │       ├──────────┼──────────┤\n",
    "Z.nbytes  │ p+08: │ 00000000 │ 00000100 │\n",
    "(=3x3x2)  │       ├──────────┼──────────┤\n",
    "          │ p+10: │ 00000000 │ 00000101 │\n",
    "          │       ├──────────┼──────────┤\n",
    "          │ p+12: │ 00000000 │ 00000110 │\n",
    "          │       ├──────────┼──────────┤\n",
    "          │ p+14: │ 00000000 │ 00000111 │\n",
    "          │       ├──────────┼──────────┤\n",
    "          │ p+16: │ 00000000 │ 00001000 │\n",
    "          └       └──────────┴──────────┘\n",
    "\n",
    "                  └─────────────────────┘\n",
    "                        Z.itemsize\n",
    "                     Z.dtype.itemsize\n",
    "                           (=2)\n",
    "                        \n",
    "```                        "
   ]
  },
  {
   "cell_type": "markdown",
   "metadata": {},
   "source": [
    "Key takeaway here is that such an indexing scheme can be defined by only using **shape** and **dtype** of the array since those are sufficient to calculate the stride.\n",
    "\n",
    "Taking a little more complex example ..."
   ]
  },
  {
   "cell_type": "code",
   "execution_count": 145,
   "metadata": {},
   "outputs": [
    {
     "data": {
      "text/plain": [
       "array([[0, 2],\n",
       "       [6, 8]], dtype=int16)"
      ]
     },
     "execution_count": 145,
     "metadata": {},
     "output_type": "execute_result"
    }
   ],
   "source": [
    "Z[::2,::2] #Indexing with start:stop:step"
   ]
  },
  {
   "cell_type": "markdown",
   "metadata": {},
   "source": [
    "For such an indexing scheme its also necessary to provie **shape**, **dtype** and **strides** since the first 2 are NOT sufficient to calculate the strides. Its better visualized as below."
   ]
  },
  {
   "cell_type": "markdown",
   "metadata": {},
   "source": [
    "```\n",
    "\n",
    "              ┌        ┌──────────┬──────────┐ ┐             ┐\n",
    "            ┌─┤  p+00: │ 00000000 │ 00000000 │ │             │\n",
    "            │ └        ├──────────┼──────────┤ │ strides[1]  │\n",
    "          ┌─┤    p+02: │          │          │ │   (=4)      │\n",
    "          │ │ ┌        ├──────────┼──────────┤ ┘             │\n",
    "          │ └─┤  p+04  │ 00000000 │ 00000010 │               │\n",
    "          │   └        ├──────────┼──────────┤               │ strides[0]\n",
    "          │      p+06: │          │          │               │   (=12)\n",
    "          │            ├──────────┼──────────┤               │\n",
    "Z.nbytes ─┤      p+08: │          │          │               │\n",
    "  (=8)    │            ├──────────┼──────────┤               │\n",
    "          │      p+10: │          │          │               │\n",
    "          │   ┌        ├──────────┼──────────┤               ┘\n",
    "          │ ┌─┤  p+12: │ 00000000 │ 00000110 │\n",
    "          │ │ └        ├──────────┼──────────┤\n",
    "          └─┤    p+14: │          │          │\n",
    "            │ ┌        ├──────────┼──────────┤\n",
    "            └─┤  p+16: │ 00000000 │ 00001000 │\n",
    "              └        └──────────┴──────────┘\n",
    "\n",
    "                       └─────────────────────┘\n",
    "                             Z.itemsize\n",
    "                          Z.dtype.itemsize\n",
    "                                (=2)\n",
    "                                \n",
    "```                             "
   ]
  },
  {
   "cell_type": "code",
   "execution_count": null,
   "metadata": {},
   "outputs": [],
   "source": []
  },
  {
   "cell_type": "code",
   "execution_count": null,
   "metadata": {},
   "outputs": [],
   "source": []
  },
  {
   "cell_type": "code",
   "execution_count": null,
   "metadata": {},
   "outputs": [],
   "source": []
  },
  {
   "cell_type": "code",
   "execution_count": null,
   "metadata": {},
   "outputs": [],
   "source": []
  },
  {
   "cell_type": "code",
   "execution_count": null,
   "metadata": {},
   "outputs": [],
   "source": []
  },
  {
   "cell_type": "code",
   "execution_count": null,
   "metadata": {},
   "outputs": [],
   "source": []
  },
  {
   "cell_type": "code",
   "execution_count": null,
   "metadata": {},
   "outputs": [],
   "source": []
  },
  {
   "cell_type": "code",
   "execution_count": null,
   "metadata": {},
   "outputs": [],
   "source": []
  },
  {
   "cell_type": "code",
   "execution_count": null,
   "metadata": {},
   "outputs": [],
   "source": []
  },
  {
   "cell_type": "code",
   "execution_count": null,
   "metadata": {},
   "outputs": [],
   "source": []
  },
  {
   "cell_type": "code",
   "execution_count": null,
   "metadata": {},
   "outputs": [],
   "source": []
  },
  {
   "cell_type": "code",
   "execution_count": null,
   "metadata": {},
   "outputs": [],
   "source": []
  },
  {
   "cell_type": "code",
   "execution_count": null,
   "metadata": {},
   "outputs": [],
   "source": []
  },
  {
   "cell_type": "markdown",
   "metadata": {},
   "source": [
    "#### EXERCISE: Make an 2-D array (4,8) out of numbers from 0-20 such that each row rolls over a stride of 4.\n",
    "\n",
    "```\n",
    "Expected Output: array([[ 1,  2,  3,  4,  5,  6,  7,  8],\n",
    "                        [ 5,  6,  7,  8,  9, 10, 11, 12],\n",
    "                        [ 9, 10, 11, 12, 13, 14, 15, 16],\n",
    "                        [13, 14, 15, 16, 17, 18, 19, 20]])\n",
    "```                        "
   ]
  },
  {
   "cell_type": "code",
   "execution_count": 149,
   "metadata": {},
   "outputs": [
    {
     "ename": "ValueError",
     "evalue": "cannot reshape array of size 20 into shape (8)",
     "output_type": "error",
     "traceback": [
      "\u001b[0;31m---------------------------------------------------------------------------\u001b[0m",
      "\u001b[0;31mValueError\u001b[0m                                Traceback (most recent call last)",
      "\u001b[0;32m<ipython-input-149-9531c5813844>\u001b[0m in \u001b[0;36m<module>\u001b[0;34m\u001b[0m\n\u001b[0;32m----> 1\u001b[0;31m \u001b[0mA\u001b[0m \u001b[0;34m=\u001b[0m \u001b[0mnp\u001b[0m\u001b[0;34m.\u001b[0m\u001b[0marange\u001b[0m\u001b[0;34m(\u001b[0m\u001b[0;36m1\u001b[0m\u001b[0;34m,\u001b[0m\u001b[0;36m21\u001b[0m\u001b[0;34m)\u001b[0m\u001b[0;34m.\u001b[0m\u001b[0mreshape\u001b[0m\u001b[0;34m(\u001b[0m\u001b[0;34m-\u001b[0m\u001b[0;36m1\u001b[0m\u001b[0;34m,\u001b[0m\u001b[0;36m8\u001b[0m\u001b[0;34m)\u001b[0m\u001b[0;34m\u001b[0m\u001b[0;34m\u001b[0m\u001b[0m\n\u001b[0m\u001b[1;32m      2\u001b[0m \u001b[0mA\u001b[0m\u001b[0;34m\u001b[0m\u001b[0;34m\u001b[0m\u001b[0m\n",
      "\u001b[0;31mValueError\u001b[0m: cannot reshape array of size 20 into shape (8)"
     ]
    }
   ],
   "source": [
    "A = np.arange(1,21).reshape()\n",
    "A"
   ]
  },
  {
   "cell_type": "code",
   "execution_count": null,
   "metadata": {},
   "outputs": [],
   "source": []
  },
  {
   "cell_type": "code",
   "execution_count": null,
   "metadata": {},
   "outputs": [],
   "source": []
  },
  {
   "cell_type": "code",
   "execution_count": null,
   "metadata": {},
   "outputs": [],
   "source": []
  },
  {
   "cell_type": "code",
   "execution_count": null,
   "metadata": {},
   "outputs": [],
   "source": []
  },
  {
   "cell_type": "code",
   "execution_count": null,
   "metadata": {},
   "outputs": [],
   "source": []
  }
 ],
 "metadata": {
  "kernelspec": {
   "display_name": "Python 3",
   "language": "python",
   "name": "python3"
  },
  "language_info": {
   "codemirror_mode": {
    "name": "ipython",
    "version": 3
   },
   "file_extension": ".py",
   "mimetype": "text/x-python",
   "name": "python",
   "nbconvert_exporter": "python",
   "pygments_lexer": "ipython3",
   "version": "3.8.3"
  }
 },
 "nbformat": 4,
 "nbformat_minor": 4
}
