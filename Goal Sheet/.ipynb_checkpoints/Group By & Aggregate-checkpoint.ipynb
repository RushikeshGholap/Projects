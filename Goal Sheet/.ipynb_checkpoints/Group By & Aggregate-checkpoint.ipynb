{
 "cells": [
  {
   "cell_type": "markdown",
   "metadata": {},
   "source": [
    "<h1><u>Group by & Aggregate</u></h1>\n",
    "<p>Objective : To explore group by and aggregation methods on data using python library Pandas.\n",
    "<p style=\"color:#666666\">Last updated: 12th Apr 2017<br>Akshay Sehgal, www.asehgal.com</p>"
   ]
  },
  {
   "cell_type": "markdown",
   "metadata": {},
   "source": [
    "<h2>1. Introduction</h2>\n",
    "\n",
    "<p>SQL groupby is probably the most popular feature for data transformation and it helps to be able to replicate the same form of data manipulation techniques using python for designing more advance data science systems. As a result, its important to understand the basic components of a groupby clause.</p>\n",
    "<ul>\n",
    "<li><b>Select</b> - Is the list of aggregated features that the analyst is interested in</li>\n",
    "<li><b>From</b> - Source of the data</li>\n",
    "<li><b>Group By</b> - Feature(s) whose distinct values will be the basis of the grouping of selected aggregate features</li>\n",
    "<li><b>Where</b> - Any additional conditions that need to be checked on the raw data, before grouping up the data</li>\n",
    "<li><b>Having</b> - Any additional conditions that need to be checked on OUTPUT of the group by query, before displaying it</li>\n",
    "</ul>\n",
    "\n",
    "<p>Keeping these concepts in mind, the Pandas groupby method will be explored in detail below.</p>"
   ]
  },
  {
   "cell_type": "code",
   "execution_count": 2,
   "metadata": {},
   "outputs": [],
   "source": [
    "#Set Work Directory\n",
    "import os\n",
    "os.chdir('C:\\\\Users\\\\Akshay\\\\Documents\\\\iPython\\\\Personal\\\\Practice')\n",
    "os.getcwd()\n",
    "\n",
    "#Import Titanic Data\n",
    "import pandas as pd\n",
    "df = pd.read_excel('titanic.xls')"
   ]
  },
  {
   "cell_type": "markdown",
   "metadata": {},
   "source": [
    "<h2>2. Syntax</h2>\n",
    "\n",
    "<p>The core syntax can be broken down similar to the Select-From-Groupby-Where clause. Sample code is given below :</p>\n",
    "\n",
    "<b><code>Table_name.groupby(['Group'])['Feature'].aggregation()</code></b>\n",
    "\n",
    "<ul>\n",
    "<li>Table_name to specify the FROM</li>\n",
    "<li>'Group' is the list of GROUP BY variables</li>\n",
    "<li>'Feature' is the list of SELECT variables (with or without WHERE condition)</li>\n",
    "<li>Aggregate() is to specify the aggregation</li>\n",
    "</ul>\n"
   ]
  },
  {
   "cell_type": "code",
   "execution_count": 3,
   "metadata": {},
   "outputs": [
    {
     "name": "stdout",
     "output_type": "stream",
     "text": [
      "Pclass\n",
      "1    200\n",
      "2    119\n",
      "3    181\n",
      "Name: Survived, dtype: int64\n"
     ]
    }
   ],
   "source": [
    "#Two step query to find sum of survived people, grouped by their passenger class (1 > 2 > 3)\n",
    "group_survived = df.groupby(['Pclass'])\n",
    "out_survived = group_survived['Survived'].sum()\n",
    "print(out_survived)"
   ]
  },
  {
   "cell_type": "code",
   "execution_count": 5,
   "metadata": {},
   "outputs": [
    {
     "name": "stdout",
     "output_type": "stream",
     "text": [
      "Pclass\n",
      "1    200\n",
      "2    119\n",
      "3    181\n",
      "Name: Survived, dtype: int64\n"
     ]
    }
   ],
   "source": [
    "#Above snippet can be implemented in a single command as follows\n",
    "out_survived = df.groupby(['Pclass'])['Survived'].sum()\n",
    "print(out_survived)"
   ]
  },
  {
   "cell_type": "markdown",
   "metadata": {},
   "source": [
    "<h3>2.1 Adding more groups/levels</h3>\n",
    "<p>We can pass a list of features in the groupby() to increase the levels of divisions in data as below :</p>"
   ]
  },
  {
   "cell_type": "code",
   "execution_count": 6,
   "metadata": {},
   "outputs": [
    {
     "data": {
      "text/plain": [
       "Survived  Pclass  Sex   \n",
       "0         1       female    35.200000\n",
       "                  male      43.658163\n",
       "          2       female    34.090909\n",
       "                  male      33.092593\n",
       "          3       female    23.418750\n",
       "                  male      26.679598\n",
       "1         1       female    37.109375\n",
       "                  male      36.168240\n",
       "          2       female    26.711051\n",
       "                  male      17.449274\n",
       "          3       female    20.814815\n",
       "                  male      22.436441\n",
       "Name: Age, dtype: float64"
      ]
     },
     "execution_count": 6,
     "metadata": {},
     "output_type": "execute_result"
    }
   ],
   "source": [
    "#Three level groupby to find mean of age\n",
    "df.groupby(['Survived','Pclass','Sex'])['Age'].mean()"
   ]
  },
  {
   "cell_type": "markdown",
   "metadata": {},
   "source": [
    "<h3>2.2 Adding more variables/features</h3>\n",
    "<p>Similarly, we can also pass a list of features after the groupby to increase the variables we want to aggregate, as below :</p>"
   ]
  },
  {
   "cell_type": "code",
   "execution_count": 7,
   "metadata": {},
   "outputs": [
    {
     "data": {
      "text/html": [
       "<div>\n",
       "<table border=\"1\" class=\"dataframe\">\n",
       "  <thead>\n",
       "    <tr style=\"text-align: right;\">\n",
       "      <th></th>\n",
       "      <th>Survived</th>\n",
       "      <th>Pclass</th>\n",
       "      <th>Sex</th>\n",
       "      <th>Age</th>\n",
       "      <th>Fare</th>\n",
       "    </tr>\n",
       "  </thead>\n",
       "  <tbody>\n",
       "    <tr>\n",
       "      <th>0</th>\n",
       "      <td>0</td>\n",
       "      <td>1</td>\n",
       "      <td>female</td>\n",
       "      <td>35.200000</td>\n",
       "      <td>117.054180</td>\n",
       "    </tr>\n",
       "    <tr>\n",
       "      <th>1</th>\n",
       "      <td>0</td>\n",
       "      <td>1</td>\n",
       "      <td>male</td>\n",
       "      <td>43.658163</td>\n",
       "      <td>68.436192</td>\n",
       "    </tr>\n",
       "    <tr>\n",
       "      <th>2</th>\n",
       "      <td>0</td>\n",
       "      <td>2</td>\n",
       "      <td>female</td>\n",
       "      <td>34.090909</td>\n",
       "      <td>19.125000</td>\n",
       "    </tr>\n",
       "    <tr>\n",
       "      <th>3</th>\n",
       "      <td>0</td>\n",
       "      <td>2</td>\n",
       "      <td>male</td>\n",
       "      <td>33.092593</td>\n",
       "      <td>19.857334</td>\n",
       "    </tr>\n",
       "    <tr>\n",
       "      <th>4</th>\n",
       "      <td>0</td>\n",
       "      <td>3</td>\n",
       "      <td>female</td>\n",
       "      <td>23.418750</td>\n",
       "      <td>18.367162</td>\n",
       "    </tr>\n",
       "    <tr>\n",
       "      <th>5</th>\n",
       "      <td>0</td>\n",
       "      <td>3</td>\n",
       "      <td>male</td>\n",
       "      <td>26.679598</td>\n",
       "      <td>12.134521</td>\n",
       "    </tr>\n",
       "    <tr>\n",
       "      <th>6</th>\n",
       "      <td>1</td>\n",
       "      <td>1</td>\n",
       "      <td>female</td>\n",
       "      <td>37.109375</td>\n",
       "      <td>109.137500</td>\n",
       "    </tr>\n",
       "    <tr>\n",
       "      <th>7</th>\n",
       "      <td>1</td>\n",
       "      <td>1</td>\n",
       "      <td>male</td>\n",
       "      <td>36.168240</td>\n",
       "      <td>72.697546</td>\n",
       "    </tr>\n",
       "    <tr>\n",
       "      <th>8</th>\n",
       "      <td>1</td>\n",
       "      <td>2</td>\n",
       "      <td>female</td>\n",
       "      <td>26.711051</td>\n",
       "      <td>23.759486</td>\n",
       "    </tr>\n",
       "    <tr>\n",
       "      <th>9</th>\n",
       "      <td>1</td>\n",
       "      <td>2</td>\n",
       "      <td>male</td>\n",
       "      <td>17.449274</td>\n",
       "      <td>20.183000</td>\n",
       "    </tr>\n",
       "    <tr>\n",
       "      <th>10</th>\n",
       "      <td>1</td>\n",
       "      <td>3</td>\n",
       "      <td>female</td>\n",
       "      <td>20.814815</td>\n",
       "      <td>12.166510</td>\n",
       "    </tr>\n",
       "    <tr>\n",
       "      <th>11</th>\n",
       "      <td>1</td>\n",
       "      <td>3</td>\n",
       "      <td>male</td>\n",
       "      <td>22.436441</td>\n",
       "      <td>13.977496</td>\n",
       "    </tr>\n",
       "  </tbody>\n",
       "</table>\n",
       "</div>"
      ],
      "text/plain": [
       "    Survived  Pclass     Sex        Age        Fare\n",
       "0          0       1  female  35.200000  117.054180\n",
       "1          0       1    male  43.658163   68.436192\n",
       "2          0       2  female  34.090909   19.125000\n",
       "3          0       2    male  33.092593   19.857334\n",
       "4          0       3  female  23.418750   18.367162\n",
       "5          0       3    male  26.679598   12.134521\n",
       "6          1       1  female  37.109375  109.137500\n",
       "7          1       1    male  36.168240   72.697546\n",
       "8          1       2  female  26.711051   23.759486\n",
       "9          1       2    male  17.449274   20.183000\n",
       "10         1       3  female  20.814815   12.166510\n",
       "11         1       3    male  22.436441   13.977496"
      ]
     },
     "execution_count": 7,
     "metadata": {},
     "output_type": "execute_result"
    }
   ],
   "source": [
    "#Three level groupby to find mean of age and fares\n",
    "#reset_index() just arranges the column names properly like a data frame\n",
    "df.groupby(['Survived','Pclass','Sex'])['Age','Fare'].mean().reset_index()"
   ]
  },
  {
   "cell_type": "markdown",
   "metadata": {},
   "source": [
    "<h3>2.3 WHERE Clause</h3>\n",
    "<p>Adding a Where clause is quite intuitive as you can specify this as conditions before the groupby() method. This first applies the where condition on the dataframe, then groups it and aggregates given variables to throw results.</p>"
   ]
  },
  {
   "cell_type": "code",
   "execution_count": 8,
   "metadata": {},
   "outputs": [
    {
     "data": {
      "text/html": [
       "<div>\n",
       "<table border=\"1\" class=\"dataframe\">\n",
       "  <thead>\n",
       "    <tr style=\"text-align: right;\">\n",
       "      <th></th>\n",
       "      <th>Pclass</th>\n",
       "      <th>Sex</th>\n",
       "      <th>Age</th>\n",
       "      <th>Fare</th>\n",
       "    </tr>\n",
       "  </thead>\n",
       "  <tbody>\n",
       "    <tr>\n",
       "      <th>0</th>\n",
       "      <td>1</td>\n",
       "      <td>female</td>\n",
       "      <td>37.109375</td>\n",
       "      <td>109.137500</td>\n",
       "    </tr>\n",
       "    <tr>\n",
       "      <th>1</th>\n",
       "      <td>1</td>\n",
       "      <td>male</td>\n",
       "      <td>36.168240</td>\n",
       "      <td>72.697546</td>\n",
       "    </tr>\n",
       "    <tr>\n",
       "      <th>2</th>\n",
       "      <td>2</td>\n",
       "      <td>female</td>\n",
       "      <td>26.711051</td>\n",
       "      <td>23.759486</td>\n",
       "    </tr>\n",
       "    <tr>\n",
       "      <th>3</th>\n",
       "      <td>2</td>\n",
       "      <td>male</td>\n",
       "      <td>17.449274</td>\n",
       "      <td>20.183000</td>\n",
       "    </tr>\n",
       "    <tr>\n",
       "      <th>4</th>\n",
       "      <td>3</td>\n",
       "      <td>female</td>\n",
       "      <td>20.814815</td>\n",
       "      <td>12.166510</td>\n",
       "    </tr>\n",
       "    <tr>\n",
       "      <th>5</th>\n",
       "      <td>3</td>\n",
       "      <td>male</td>\n",
       "      <td>22.436441</td>\n",
       "      <td>13.977496</td>\n",
       "    </tr>\n",
       "  </tbody>\n",
       "</table>\n",
       "</div>"
      ],
      "text/plain": [
       "   Pclass     Sex        Age        Fare\n",
       "0       1  female  37.109375  109.137500\n",
       "1       1    male  36.168240   72.697546\n",
       "2       2  female  26.711051   23.759486\n",
       "3       2    male  17.449274   20.183000\n",
       "4       3  female  20.814815   12.166510\n",
       "5       3    male  22.436441   13.977496"
      ]
     },
     "execution_count": 8,
     "metadata": {},
     "output_type": "execute_result"
    }
   ],
   "source": [
    "#Fare and Age average for only those who survived\n",
    "df[df['Survived']==1].groupby(['Pclass','Sex'])['Age','Fare'].mean().reset_index()"
   ]
  },
  {
   "cell_type": "code",
   "execution_count": 9,
   "metadata": {},
   "outputs": [
    {
     "name": "stdout",
     "output_type": "stream",
     "text": [
      "   Pclass     Sex        Age        Fare\n",
      "0       1  female  37.109375  109.137500\n",
      "1       1    male  36.168240   72.697546\n",
      "2       2  female  26.711051   23.759486\n",
      "3       2    male  17.449274   20.183000\n",
      "4       3  female  20.814815   12.166510\n",
      "5       3    male  22.436441   13.977496\n"
     ]
    }
   ],
   "source": [
    "#The same query above can be broken down into 3 steps for better understanding\n",
    "df1 = df[df['Survived']==1]\n",
    "grouped_data = df1.groupby(['Pclass','Sex'])\n",
    "output = grouped_data['Age','Fare'].mean()\n",
    "print(output.reset_index())"
   ]
  },
  {
   "cell_type": "markdown",
   "metadata": {},
   "source": [
    "<h3>2.4 Multiple Aggregations - Stepwise</h3>\n",
    "<p>Till now only one aggregation is being applied on variables in all the examples above. Next is how to create multiple types of aggregations on data. This task can be performed step by step with first grouping the table, next creating 1 aggregate variable at a time, then finally combining them into a single dataframe using pd.DataFrame()</p>"
   ]
  },
  {
   "cell_type": "code",
   "execution_count": 10,
   "metadata": {},
   "outputs": [
    {
     "name": "stdout",
     "output_type": "stream",
     "text": [
      "      Sex   maxfare   meanfare  minfare\n",
      "0  female  512.3292  46.198097     6.75\n",
      "1    male  512.3292  26.154601     0.00\n",
      "      Sex   meanfare  rangefare    stdfare\n",
      "0  female  46.198097   505.5792  63.292599\n",
      "1    male  26.154601   512.3292  42.486877\n"
     ]
    }
   ],
   "source": [
    "##Step 1: Group by Gender\n",
    "groupby1 = df.groupby(['Sex'])\n",
    "\n",
    "##Step 2: Calculate different aggregations on 'Fare' variable\n",
    "meanfare = groupby1['Fare'].mean()\n",
    "maxfare = groupby1['Fare'].max()\n",
    "minfare = groupby1['Fare'].min()\n",
    "stdfare = groupby1['Fare'].std()\n",
    "rangefare = maxfare-minfare  #Can also create custom aggregations\n",
    "\n",
    "##Step 3: Combine into a single DataFrame\n",
    "#Min, Mean, Max\n",
    "farestats1 = pd.DataFrame({'meanfare':meanfare,'maxfare':maxfare,'minfare':minfare})\n",
    "#Mean, Range, Standard deviation\n",
    "farestats2 = pd.DataFrame({'meanfare':meanfare,'stdfare':stdfare,'rangefare':rangefare})\n",
    "\n",
    "print(farestats1.reset_index())\n",
    "print(farestats2.reset_index())"
   ]
  },
  {
   "cell_type": "markdown",
   "metadata": {},
   "source": [
    "<h3>2.5 Multiple Aggregations - using agg()</h3>\n",
    "<p>This is an advanced way of using multiple aggregations on different variables by use of AGG() and DICTIONARIES.</p>\n",
    "<p>The difference between [ ] and { } parenthesis is that square brackets represent a list where each element is unique, while curly brackets represent a set(), where we have the ability to create dictionaries for later use. One such use of dictionaries is agg() method a.k.a aggregate method.</p>"
   ]
  },
  {
   "cell_type": "code",
   "execution_count": 11,
   "metadata": {},
   "outputs": [
    {
     "data": {
      "text/html": [
       "<div>\n",
       "<table border=\"1\" class=\"dataframe\">\n",
       "  <thead>\n",
       "    <tr>\n",
       "      <th></th>\n",
       "      <th>Sex</th>\n",
       "      <th colspan=\"3\" halign=\"left\">Fare</th>\n",
       "    </tr>\n",
       "    <tr>\n",
       "      <th></th>\n",
       "      <th></th>\n",
       "      <th>mean</th>\n",
       "      <th>max</th>\n",
       "      <th>min</th>\n",
       "    </tr>\n",
       "  </thead>\n",
       "  <tbody>\n",
       "    <tr>\n",
       "      <th>0</th>\n",
       "      <td>female</td>\n",
       "      <td>46.198097</td>\n",
       "      <td>512.3292</td>\n",
       "      <td>6.75</td>\n",
       "    </tr>\n",
       "    <tr>\n",
       "      <th>1</th>\n",
       "      <td>male</td>\n",
       "      <td>26.154601</td>\n",
       "      <td>512.3292</td>\n",
       "      <td>0.00</td>\n",
       "    </tr>\n",
       "  </tbody>\n",
       "</table>\n",
       "</div>"
      ],
      "text/plain": [
       "      Sex       Fare                \n",
       "                mean       max   min\n",
       "0  female  46.198097  512.3292  6.75\n",
       "1    male  26.154601  512.3292  0.00"
      ]
     },
     "execution_count": 11,
     "metadata": {},
     "output_type": "execute_result"
    }
   ],
   "source": [
    "##First define the functions that need to be performed\n",
    "\n",
    "#Dictionary 'f' uses 3 aggregations on same variable 'fare' \n",
    "f = {'Fare':['mean','max','min']}\n",
    "\n",
    "#The dictionary is then passed into the aggregate() method\n",
    "df.groupby(['Sex']).agg(f).reset_index()"
   ]
  },
  {
   "cell_type": "code",
   "execution_count": 18,
   "metadata": {},
   "outputs": [
    {
     "data": {
      "text/html": [
       "<div>\n",
       "<table border=\"1\" class=\"dataframe\">\n",
       "  <thead>\n",
       "    <tr>\n",
       "      <th></th>\n",
       "      <th>sex</th>\n",
       "      <th colspan=\"2\" halign=\"left\">fare</th>\n",
       "      <th colspan=\"2\" halign=\"left\">age</th>\n",
       "    </tr>\n",
       "    <tr>\n",
       "      <th></th>\n",
       "      <th></th>\n",
       "      <th>mean</th>\n",
       "      <th>std</th>\n",
       "      <th>mean</th>\n",
       "      <th>std</th>\n",
       "    </tr>\n",
       "  </thead>\n",
       "  <tbody>\n",
       "    <tr>\n",
       "      <th>0</th>\n",
       "      <td>female</td>\n",
       "      <td>46.198097</td>\n",
       "      <td>63.292599</td>\n",
       "      <td>28.687071</td>\n",
       "      <td>14.576995</td>\n",
       "    </tr>\n",
       "    <tr>\n",
       "      <th>1</th>\n",
       "      <td>male</td>\n",
       "      <td>26.154601</td>\n",
       "      <td>42.486877</td>\n",
       "      <td>30.585233</td>\n",
       "      <td>14.280571</td>\n",
       "    </tr>\n",
       "  </tbody>\n",
       "</table>\n",
       "</div>"
      ],
      "text/plain": [
       "      sex       fare                   age           \n",
       "                mean        std       mean        std\n",
       "0  female  46.198097  63.292599  28.687071  14.576995\n",
       "1    male  26.154601  42.486877  30.585233  14.280571"
      ]
     },
     "execution_count": 18,
     "metadata": {},
     "output_type": "execute_result"
    }
   ],
   "source": [
    "#Dictionary 'g' contains 2 separate aggregations on 2 different  variables 'fare' and 'age' respectively\n",
    "g = {'fare':['mean','std'],'age':['mean','std']}\n",
    "df.groupby(['sex']).agg(g).reset_index()"
   ]
  },
  {
   "cell_type": "markdown",
   "metadata": {},
   "source": [
    "<h3>2.6 Renaming aggregated variables</h3>\n",
    "<p>Initialy while creating dictionaries, we used { } to define the first level of the dictionary, but the sub-levels were inputted still in [ ]. Here the only difference is that instead of passing a list [ ] into a dictionary element, we pass another dictionary to it, since we can associate labels to dictionary elements easily. For example :</p>\n",
    "<li> <b>{ 'element1' : ['a','b'] }</b> is a dictionary with list 'a','b' passed to element1.</li>\n",
    "<li> <b>{ 'element1' : {'a','b'} }</b> is a dictionary with dictionary 'a','b' passed to element1.</li>\n",
    "\n",
    "<p> This allows adding labels to the dictionary inside as follows :</p>\n",
    "<li> <b>{ 'element1' : { 'label1':'a'  ,  'label2':'b' }}</b> </li>"
   ]
  },
  {
   "cell_type": "code",
   "execution_count": 12,
   "metadata": {},
   "outputs": [
    {
     "name": "stdout",
     "output_type": "stream",
     "text": [
      "      Sex       Fare                  \n",
      "             average   maximas minimas\n",
      "0  female  46.198097  512.3292    6.75\n",
      "1    male  26.154601  512.3292    0.00\n"
     ]
    }
   ],
   "source": [
    "#Dictionary h contains mean() as average, max() as maximas and min() as minimas, associated with variable 'fare'\n",
    "h = {'Fare':{'average':'mean','maximas':'max','minimas':'min'}}\n",
    "print(df.groupby(['Sex']).agg(h).reset_index())"
   ]
  },
  {
   "cell_type": "markdown",
   "metadata": {},
   "source": [
    "<h3>2.7 Custom Aggregations</h3>\n",
    "<p>There are 2 ways of creating custom aggregations. One is using the step by step method above to create the custom aggregation (as shown previously with 'Rangefare' aggregation). The other method is using LAMBDA X to create the aggregation, as shown below</p>"
   ]
  },
  {
   "cell_type": "code",
   "execution_count": 13,
   "metadata": {},
   "outputs": [
    {
     "name": "stdout",
     "output_type": "stream",
     "text": [
      "      Sex       Fare                     \n",
      "             average  deviation     range\n",
      "0  female  46.198097  63.292599  505.5792\n",
      "1    male  26.154601  42.486877  512.3292\n"
     ]
    }
   ],
   "source": [
    "#Lambda function can be associated with a calculation as well as a label to create custom aggregations\n",
    "i = {'Fare':{'average':'mean','deviation':'std','range': lambda x : max(x)-min(x)}}\n",
    "print(df.groupby(['Sex']).agg(i).reset_index())"
   ]
  },
  {
   "cell_type": "markdown",
   "metadata": {},
   "source": [
    "<h2>3. Pandas predefined methods</h2>\n",
    "\n",
    "<p>This is a work in progress list of aggregate methods that can be used with groupby(). </p>"
   ]
  },
  {
   "cell_type": "code",
   "execution_count": 14,
   "metadata": {},
   "outputs": [
    {
     "name": "stdout",
     "output_type": "stream",
     "text": [
      "Sex\n",
      "female    27.0\n",
      "male      28.0\n",
      "Name: Age, dtype: float64\n"
     ]
    }
   ],
   "source": [
    "#Different methods can be called during pandas groupby and aggregate\n",
    "\n",
    "non_null_count = df.groupby(['Sex'])['Age'].count()\n",
    "summation = df.groupby(['Sex'])['Age'].sum()\n",
    "average = df.groupby(['Sex'])['Age'].mean()\n",
    "mean_absolute_dev = df.groupby(['Sex'])['Age'].mad()\n",
    "arithmetic_median = df.groupby(['Sex'])['Age'].median()\n",
    "maximum = df.groupby(['Sex'])['Age'].max()\n",
    "minimum = df.groupby(['Sex'])['Age'].min()\n",
    "product = df.groupby(['Sex'])['Age'].prod()\n",
    "unbiased_std_dev = df.groupby(['Sex'])['Age'].std()\n",
    "unbiased_variance = df.groupby(['Sex'])['Age'].var()\n",
    "unbiased_std_err_of_mean = df.groupby(['Sex'])['Age'].sem()\n",
    "unbiased_skewness_3rdmoment = df.groupby(['Sex'])['Age'].skew()\n",
    "\n",
    "#cumsum1 = df.groupby(['sex'])['age'].cumsum()\n",
    "#cumprod1 = df.groupby(['sex'])['age'].cumprod()\n",
    "#cummax1 = df.groupby(['sex'])['age'].cummax()\n",
    "#cummin1 = df.groupby(['sex'])['age'].cummin()\n",
    "#quantile = df.groupby(['sex'])['age'].quantile()\n",
    "#unbiased_kurtosis_4thmoment = df.groupby(['sex'])['age'].kurt()\n",
    "#arithmetic_mode = df.groupby(['sex'])['age'].mode()\n",
    "#absolute_value = df.groupby(['sex'])['age'].abs()\n",
    "\n",
    "print(arithmetic_median)"
   ]
  },
  {
   "cell_type": "markdown",
   "metadata": {},
   "source": [
    "<h2>4. References</h2>\n",
    "<ul>\n",
    "<li>http://www.scipy-lectures.org/packages/statistics/index.html#hypothesis-testing-comparing-two-groups</li>\n",
    "<li>https://www.simple-talk.com/sql/t-sql-programming/sql-group-by-basics/</li>\n",
    "<li>http://www.shanelynn.ie/summarising-aggregation-and-grouping-data-in-python-pandas/</li>\n",
    "<li>http://pandas.pydata.org/pandas-docs/stable/generated/pandas.DataFrame.groupby.html</li>\n",
    "</ul>"
   ]
  }
 ],
 "metadata": {
  "anaconda-cloud": {},
  "kernelspec": {
   "display_name": "Python 3",
   "language": "python",
   "name": "python3"
  },
  "language_info": {
   "codemirror_mode": {
    "name": "ipython",
    "version": 3
   },
   "file_extension": ".py",
   "mimetype": "text/x-python",
   "name": "python",
   "nbconvert_exporter": "python",
   "pygments_lexer": "ipython3",
   "version": "3.6.1"
  }
 },
 "nbformat": 4,
 "nbformat_minor": 1
}
