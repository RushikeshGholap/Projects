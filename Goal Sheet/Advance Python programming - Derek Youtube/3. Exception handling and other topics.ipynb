{
 "cells": [
  {
   "cell_type": "code",
   "execution_count": 2,
   "metadata": {},
   "outputs": [
    {
     "name": "stdout",
     "output_type": "stream",
     "text": [
      "Please enter a number : A\n",
      "You didnt enter a number.\n",
      "Please enter a number : 5\n",
      "Thanks for entering 5. We will keep it safe.\n"
     ]
    }
   ],
   "source": [
    "while True:\n",
    "    try:\n",
    "        number = int(input(\"Please enter a number : \"))\n",
    "        break\n",
    "    except ValueError:\n",
    "        print(\"You didnt enter a number.\")\n",
    "    except:\n",
    "        print(\"Unknown error.\")\n",
    "print(\"Thanks for entering {}. We will keep it safe.\".format(number))"
   ]
  },
  {
   "cell_type": "code",
   "execution_count": 1,
   "metadata": {},
   "outputs": [
    {
     "name": "stdout",
     "output_type": "stream",
     "text": [
      "Please enter numbers4 5\n",
      "x<y\n"
     ]
    }
   ],
   "source": [
    "x,y = input(\"Please enter numbers\").split()\n",
    "\n",
    "x=int(x)\n",
    "y=int(y)\n",
    "\n",
    "if x>y:\n",
    "    print(\"x>y\")\n",
    "elif x<y:\n",
    "    print(\"x<y\")\n",
    "else:\n",
    "    print(\"x=y\")"
   ]
  }
 ],
 "metadata": {
  "kernelspec": {
   "display_name": "Python 3",
   "language": "python",
   "name": "python3"
  },
  "language_info": {
   "codemirror_mode": {
    "name": "ipython",
    "version": 3
   },
   "file_extension": ".py",
   "mimetype": "text/x-python",
   "name": "python",
   "nbconvert_exporter": "python",
   "pygments_lexer": "ipython3",
   "version": "3.6.1"
  }
 },
 "nbformat": 4,
 "nbformat_minor": 2
}
