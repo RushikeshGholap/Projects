{
 "cells": [
  {
   "cell_type": "markdown",
   "metadata": {},
   "source": [
    "## 1. Intuition"
   ]
  },
  {
   "cell_type": "markdown",
   "metadata": {},
   "source": [
    "### 1.0 What is Naive Bayes Algorithm?\n",
    "\n",
    "Naive Bayes is a supervised classification algorithm which belongs to the family of \"Probabilistic Classifiers\". As the name suggests, it is uses Bayes' theorem at its core. You can get a great intuitive sense about conditional probability from lectures of Prof John Tsitsiklis. \n",
    "\n",
    "`\"You know know something about the world, and based on what you know, you setup a probability model and you write down probabilities about the different outcomes. Then someone gives you some new information, which changes your believes and thus changes the probabilities of your outcomes.\"`\n",
    "\n",
    "Let's say you have a sample space the probabilities for different events are given as below - "
   ]
  },
  {
   "cell_type": "markdown",
   "metadata": {},
   "source": [
    "<img src=\"img.jpg\" width='500'>"
   ]
  },
  {
   "cell_type": "markdown",
   "metadata": {},
   "source": [
    "Now let's say someone tells you that B has occured. Now, the area outside the circle that represents B is meaningless since the new sample space is now B. This means, we need to revise the probabilities that have been assiged to the spaces inside B. \n",
    "\n",
    "Now someone asks you, what is the probability that A occurs, given that B has occured. Since B has occured and the new sample space is now B, the area that was represented by $P(A \\cap B)$ is now the $P(A \\mid B)$.\n",
    "\n",
    "What is the probability of this new section? Well, we can just use simple ratios for solving this.\n",
    "\n",
    "$$ P (A \\mid B) = {P(A \\cap B) \\over P(B)} = {0.3 \\over (0.3+0.2)}$$\n",
    "\n",
    "Now, the whole excersice we did above can also be done for when A has occured. Meaning - \n",
    "\n",
    "$$ P (B \\mid A) = {P(A \\cap B) \\over P(A)}$$\n",
    "\n",
    "Using the 2, we can write the famous equation - \n",
    "\n",
    "$$ P (A \\mid B) = {P (B \\mid A) \\times P(A) \\over P(B)}$$"
   ]
  },
  {
   "cell_type": "code",
   "execution_count": null,
   "metadata": {},
   "outputs": [],
   "source": []
  },
  {
   "cell_type": "code",
   "execution_count": null,
   "metadata": {},
   "outputs": [],
   "source": []
  },
  {
   "cell_type": "markdown",
   "metadata": {},
   "source": [
    "## 2. Implementation"
   ]
  },
  {
   "cell_type": "markdown",
   "metadata": {},
   "source": [
    "## 3. Derivation"
   ]
  },
  {
   "cell_type": "markdown",
   "metadata": {},
   "source": [
    "## 4. Development"
   ]
  },
  {
   "cell_type": "markdown",
   "metadata": {},
   "source": [
    "## 5. References\n",
    "\n",
    "- https://www.youtube.com/watch?v=j9WZyLZCBzs&list=PLUl4u3cNGP61MdtwGTqZA0MreSaDybji8 (For Probability theory) "
   ]
  },
  {
   "cell_type": "code",
   "execution_count": null,
   "metadata": {},
   "outputs": [],
   "source": []
  }
 ],
 "metadata": {
  "kernelspec": {
   "display_name": "Python 3",
   "language": "python",
   "name": "python3"
  },
  "language_info": {
   "codemirror_mode": {
    "name": "ipython",
    "version": 3
   },
   "file_extension": ".py",
   "mimetype": "text/x-python",
   "name": "python",
   "nbconvert_exporter": "python",
   "pygments_lexer": "ipython3",
   "version": "3.6.5"
  }
 },
 "nbformat": 4,
 "nbformat_minor": 2
}
