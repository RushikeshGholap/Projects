{
 "cells": [
  {
   "cell_type": "markdown",
   "metadata": {},
   "source": [
    "# Non Negative Matrix Factorization"
   ]
  },
  {
   "cell_type": "markdown",
   "metadata": {},
   "source": [
    "Matrix factorization is an approach to decompose a matrix into "
   ]
  },
  {
   "cell_type": "code",
   "execution_count": 195,
   "metadata": {},
   "outputs": [],
   "source": [
    "from sklearn.decomposition import NMF\n",
    "import numpy as np\n",
    "import pandas as pd"
   ]
  },
  {
   "cell_type": "code",
   "execution_count": 250,
   "metadata": {},
   "outputs": [
    {
     "data": {
      "text/html": [
       "<div>\n",
       "<style scoped>\n",
       "    .dataframe tbody tr th:only-of-type {\n",
       "        vertical-align: middle;\n",
       "    }\n",
       "\n",
       "    .dataframe tbody tr th {\n",
       "        vertical-align: top;\n",
       "    }\n",
       "\n",
       "    .dataframe thead th {\n",
       "        text-align: right;\n",
       "    }\n",
       "</style>\n",
       "<table border=\"1\" class=\"dataframe\">\n",
       "  <thead>\n",
       "    <tr style=\"text-align: right;\">\n",
       "      <th></th>\n",
       "      <th>inception</th>\n",
       "      <th>gladiator</th>\n",
       "      <th>godfather</th>\n",
       "      <th>pulp fiction</th>\n",
       "      <th>12 angry men</th>\n",
       "      <th>dark knight</th>\n",
       "      <th>fight club</th>\n",
       "      <th>lotr</th>\n",
       "    </tr>\n",
       "  </thead>\n",
       "  <tbody>\n",
       "    <tr>\n",
       "      <th>a</th>\n",
       "      <td>4.5</td>\n",
       "      <td>1.5</td>\n",
       "      <td>0.0</td>\n",
       "      <td>1.0</td>\n",
       "      <td>0.0</td>\n",
       "      <td>5.0</td>\n",
       "      <td>4.5</td>\n",
       "      <td>0.0</td>\n",
       "    </tr>\n",
       "    <tr>\n",
       "      <th>b</th>\n",
       "      <td>4.5</td>\n",
       "      <td>5.0</td>\n",
       "      <td>4.0</td>\n",
       "      <td>4.7</td>\n",
       "      <td>4.6</td>\n",
       "      <td>4.9</td>\n",
       "      <td>4.4</td>\n",
       "      <td>4.2</td>\n",
       "    </tr>\n",
       "    <tr>\n",
       "      <th>c</th>\n",
       "      <td>0.0</td>\n",
       "      <td>4.5</td>\n",
       "      <td>4.2</td>\n",
       "      <td>4.2</td>\n",
       "      <td>4.6</td>\n",
       "      <td>1.1</td>\n",
       "      <td>2.0</td>\n",
       "      <td>5.0</td>\n",
       "    </tr>\n",
       "    <tr>\n",
       "      <th>d</th>\n",
       "      <td>0.0</td>\n",
       "      <td>4.6</td>\n",
       "      <td>0.0</td>\n",
       "      <td>1.3</td>\n",
       "      <td>0.0</td>\n",
       "      <td>0.0</td>\n",
       "      <td>2.0</td>\n",
       "      <td>4.9</td>\n",
       "    </tr>\n",
       "    <tr>\n",
       "      <th>e</th>\n",
       "      <td>4.2</td>\n",
       "      <td>0.0</td>\n",
       "      <td>1.1</td>\n",
       "      <td>2.2</td>\n",
       "      <td>2.8</td>\n",
       "      <td>5.0</td>\n",
       "      <td>4.9</td>\n",
       "      <td>0.0</td>\n",
       "    </tr>\n",
       "    <tr>\n",
       "      <th>f</th>\n",
       "      <td>0.0</td>\n",
       "      <td>0.0</td>\n",
       "      <td>4.5</td>\n",
       "      <td>4.2</td>\n",
       "      <td>4.9</td>\n",
       "      <td>0.0</td>\n",
       "      <td>0.0</td>\n",
       "      <td>2.1</td>\n",
       "    </tr>\n",
       "    <tr>\n",
       "      <th>g</th>\n",
       "      <td>4.6</td>\n",
       "      <td>4.3</td>\n",
       "      <td>0.0</td>\n",
       "      <td>0.0</td>\n",
       "      <td>0.0</td>\n",
       "      <td>4.5</td>\n",
       "      <td>4.5</td>\n",
       "      <td>4.9</td>\n",
       "    </tr>\n",
       "  </tbody>\n",
       "</table>\n",
       "</div>"
      ],
      "text/plain": [
       "   inception  gladiator  godfather  pulp fiction  12 angry men  dark knight  \\\n",
       "a        4.5        1.5        0.0           1.0           0.0          5.0   \n",
       "b        4.5        5.0        4.0           4.7           4.6          4.9   \n",
       "c        0.0        4.5        4.2           4.2           4.6          1.1   \n",
       "d        0.0        4.6        0.0           1.3           0.0          0.0   \n",
       "e        4.2        0.0        1.1           2.2           2.8          5.0   \n",
       "f        0.0        0.0        4.5           4.2           4.9          0.0   \n",
       "g        4.6        4.3        0.0           0.0           0.0          4.5   \n",
       "\n",
       "   fight club  lotr  \n",
       "a         4.5   0.0  \n",
       "b         4.4   4.2  \n",
       "c         2.0   5.0  \n",
       "d         2.0   4.9  \n",
       "e         4.9   0.0  \n",
       "f         0.0   2.1  \n",
       "g         4.5   4.9  "
      ]
     },
     "execution_count": 250,
     "metadata": {},
     "output_type": "execute_result"
    }
   ],
   "source": [
    "list_movies = ['inception',        #thrill\n",
    "               'gladiator',        #fantasy\n",
    "               'godfather',        #conversations\n",
    "               'pulp fiction',     #conversations\n",
    "               '12 angry men',     #conversations\n",
    "               'dark knight',      #thrill\n",
    "               'fight club',       #thrill\n",
    "               'lotr']             #fantasy\n",
    "\n",
    "\n",
    "#So i have 3 types of features that I want to extract as 'topics'\n",
    "\n",
    "users = ['a',  #prefers thrill only\n",
    "         'b',  #prefers everything\n",
    "         'c',  #prefers conversations and fantasy\n",
    "         'd',  #prefers fantasy only\n",
    "         'e',  #prefers thrill only\n",
    "         'f',  #prefers conversation only\n",
    "         'g']  #prefers thrill and fantasy\n",
    "\n",
    "movie_preference = {'a':[4.5, 1.5, 0.0, 1.0, 0.0, 5.0, 4.5, 0.0],\n",
    "                    'b':[4.5, 5.0, 4.0, 4.7, 4.6, 4.9, 4.4, 4.2],\n",
    "                    'c':[0.0, 4.5, 4.2, 4.2, 4.6, 1.1, 2.0, 5.0],\n",
    "                    'd':[0.0, 4.6, 0.0, 1.3, 0.0, 0.0, 2.0, 4.9],\n",
    "                    'e':[4.2, 0.0, 1.1, 2.2, 2.8, 5.0, 4.9, 0.0],\n",
    "                    'f':[0.0, 0.0, 4.5, 4.2, 4.9, 0.0, 0.0, 2.1],\n",
    "                    'g':[4.6, 4.3, 0.0, 0.0, 0.0, 4.5, 4.5, 4.9]\n",
    "                   }\n",
    "\n",
    "ratings_df = pd.DataFrame(movie_preference).T\n",
    "ratings_df.columns = list_movies\n",
    "ratings_df"
   ]
  },
  {
   "cell_type": "code",
   "execution_count": 251,
   "metadata": {},
   "outputs": [
    {
     "name": "stdout",
     "output_type": "stream",
     "text": [
      "(7, 8)\n"
     ]
    },
    {
     "data": {
      "text/plain": [
       "array([[4.5, 1.5, 0. , 1. , 0. , 5. , 4.5, 0. ],\n",
       "       [4.5, 5. , 4. , 4.7, 4.6, 4.9, 4.4, 4.2],\n",
       "       [0. , 4.5, 4.2, 4.2, 4.6, 1.1, 2. , 5. ],\n",
       "       [0. , 4.6, 0. , 1.3, 0. , 0. , 2. , 4.9],\n",
       "       [4.2, 0. , 1.1, 2.2, 2.8, 5. , 4.9, 0. ],\n",
       "       [0. , 0. , 4.5, 4.2, 4.9, 0. , 0. , 2.1],\n",
       "       [4.6, 4.3, 0. , 0. , 0. , 4.5, 4.5, 4.9]])"
      ]
     },
     "execution_count": 251,
     "metadata": {},
     "output_type": "execute_result"
    }
   ],
   "source": [
    "mat = np.array(ratings_df)\n",
    "print(mat.shape)\n",
    "mat"
   ]
  },
  {
   "cell_type": "code",
   "execution_count": 252,
   "metadata": {},
   "outputs": [],
   "source": [
    "components = 3\n",
    "\n",
    "nmf = NMF(n_components=3, random_state=1, alpha=0.1, l1_ratio=0.5, init='nndsvd')"
   ]
  },
  {
   "cell_type": "code",
   "execution_count": 253,
   "metadata": {},
   "outputs": [
    {
     "name": "stdout",
     "output_type": "stream",
     "text": [
      "(7, 3)\n"
     ]
    },
    {
     "data": {
      "text/plain": [
       "array([[2.05026266, 0.00879439, 0.18553659],\n",
       "       [1.80817707, 1.93961494, 1.55007755],\n",
       "       [0.17647809, 1.99112794, 1.74519355],\n",
       "       [0.01367688, 0.12157961, 1.91384047],\n",
       "       [2.05153774, 0.8519357 , 0.        ],\n",
       "       [0.        , 2.16825726, 0.24428509],\n",
       "       [1.75102874, 0.        , 1.68964144]])"
      ]
     },
     "execution_count": 253,
     "metadata": {},
     "output_type": "execute_result"
    }
   ],
   "source": [
    "user_vectors = nmf.fit_transform(mat)\n",
    "print(user_vectors.shape)\n",
    "user_vectors"
   ]
  },
  {
   "cell_type": "code",
   "execution_count": 254,
   "metadata": {
    "scrolled": true
   },
   "outputs": [
    {
     "name": "stdout",
     "output_type": "stream",
     "text": [
      "(8, 3)\n"
     ]
    },
    {
     "data": {
      "text/plain": [
       "array([[2.25923564, 0.        , 0.07446867],\n",
       "       [0.29854598, 0.        , 2.47458955],\n",
       "       [0.        , 2.0248213 , 0.        ],\n",
       "       [0.22912065, 1.94149548, 0.22410185],\n",
       "       [0.1297229 , 2.293077  , 0.        ],\n",
       "       [2.42707714, 0.10483078, 0.12542259],\n",
       "       [2.05865751, 0.        , 0.75926566],\n",
       "       [0.        , 0.36514407, 2.53593563]])"
      ]
     },
     "execution_count": 254,
     "metadata": {},
     "output_type": "execute_result"
    }
   ],
   "source": [
    "movie_vectors = nmf.components_.T\n",
    "print(movie_vectors.shape)\n",
    "movie_vectors"
   ]
  },
  {
   "cell_type": "code",
   "execution_count": 255,
   "metadata": {},
   "outputs": [
    {
     "name": "stdout",
     "output_type": "stream",
     "text": [
      "inception vector -> [2.25923564 0.         0.07446867]\n",
      "d vector -> [0.01367688 0.12157961 1.91384047]\n"
     ]
    }
   ],
   "source": [
    "# what rating will D give to Inception.\n",
    "\n",
    "inception_vector = movie_vectors[0]\n",
    "print('inception vector ->', inception_vector)\n",
    "\n",
    "d_vector = user_vectors[3]\n",
    "print('d vector ->', d_vector)"
   ]
  },
  {
   "cell_type": "code",
   "execution_count": 256,
   "metadata": {},
   "outputs": [
    {
     "data": {
      "text/html": [
       "<div>\n",
       "<style scoped>\n",
       "    .dataframe tbody tr th:only-of-type {\n",
       "        vertical-align: middle;\n",
       "    }\n",
       "\n",
       "    .dataframe tbody tr th {\n",
       "        vertical-align: top;\n",
       "    }\n",
       "\n",
       "    .dataframe thead th {\n",
       "        text-align: right;\n",
       "    }\n",
       "</style>\n",
       "<table border=\"1\" class=\"dataframe\">\n",
       "  <thead>\n",
       "    <tr style=\"text-align: right;\">\n",
       "      <th></th>\n",
       "      <th>inception</th>\n",
       "      <th>gladiator</th>\n",
       "      <th>godfather</th>\n",
       "      <th>pulp fiction</th>\n",
       "      <th>12 angry men</th>\n",
       "      <th>dark knight</th>\n",
       "      <th>fight club</th>\n",
       "      <th>lotr</th>\n",
       "    </tr>\n",
       "  </thead>\n",
       "  <tbody>\n",
       "    <tr>\n",
       "      <th>a</th>\n",
       "      <td>4.645843</td>\n",
       "      <td>1.071225</td>\n",
       "      <td>0.017807</td>\n",
       "      <td>0.528411</td>\n",
       "      <td>0.286132</td>\n",
       "      <td>5.000338</td>\n",
       "      <td>4.361660</td>\n",
       "      <td>0.473720</td>\n",
       "    </tr>\n",
       "    <tr>\n",
       "      <th>b</th>\n",
       "      <td>4.200530</td>\n",
       "      <td>4.375630</td>\n",
       "      <td>3.927374</td>\n",
       "      <td>4.527420</td>\n",
       "      <td>4.682248</td>\n",
       "      <td>4.786331</td>\n",
       "      <td>4.899338</td>\n",
       "      <td>4.639136</td>\n",
       "    </tr>\n",
       "    <tr>\n",
       "      <th>c</th>\n",
       "      <td>0.528668</td>\n",
       "      <td>4.371325</td>\n",
       "      <td>4.031678</td>\n",
       "      <td>4.297302</td>\n",
       "      <td>4.588703</td>\n",
       "      <td>0.855944</td>\n",
       "      <td>1.688373</td>\n",
       "      <td>5.152747</td>\n",
       "    </tr>\n",
       "    <tr>\n",
       "      <th>d</th>\n",
       "      <td>0.173420</td>\n",
       "      <td>4.740053</td>\n",
       "      <td>0.246177</td>\n",
       "      <td>0.668075</td>\n",
       "      <td>0.280566</td>\n",
       "      <td>0.285979</td>\n",
       "      <td>1.481269</td>\n",
       "      <td>4.897770</td>\n",
       "    </tr>\n",
       "    <tr>\n",
       "      <th>e</th>\n",
       "      <td>4.634907</td>\n",
       "      <td>0.612478</td>\n",
       "      <td>1.725018</td>\n",
       "      <td>2.124079</td>\n",
       "      <td>2.219686</td>\n",
       "      <td>5.068549</td>\n",
       "      <td>4.223414</td>\n",
       "      <td>0.311079</td>\n",
       "    </tr>\n",
       "    <tr>\n",
       "      <th>f</th>\n",
       "      <td>0.018192</td>\n",
       "      <td>0.604505</td>\n",
       "      <td>4.390333</td>\n",
       "      <td>4.264406</td>\n",
       "      <td>4.971981</td>\n",
       "      <td>0.257939</td>\n",
       "      <td>0.185477</td>\n",
       "      <td>1.411218</td>\n",
       "    </tr>\n",
       "    <tr>\n",
       "      <th>g</th>\n",
       "      <td>4.081812</td>\n",
       "      <td>4.703932</td>\n",
       "      <td>0.000000</td>\n",
       "      <td>0.779849</td>\n",
       "      <td>0.227149</td>\n",
       "      <td>4.461801</td>\n",
       "      <td>4.887655</td>\n",
       "      <td>4.284822</td>\n",
       "    </tr>\n",
       "  </tbody>\n",
       "</table>\n",
       "</div>"
      ],
      "text/plain": [
       "   inception  gladiator  godfather  pulp fiction  12 angry men  dark knight  \\\n",
       "a   4.645843   1.071225   0.017807      0.528411      0.286132     5.000338   \n",
       "b   4.200530   4.375630   3.927374      4.527420      4.682248     4.786331   \n",
       "c   0.528668   4.371325   4.031678      4.297302      4.588703     0.855944   \n",
       "d   0.173420   4.740053   0.246177      0.668075      0.280566     0.285979   \n",
       "e   4.634907   0.612478   1.725018      2.124079      2.219686     5.068549   \n",
       "f   0.018192   0.604505   4.390333      4.264406      4.971981     0.257939   \n",
       "g   4.081812   4.703932   0.000000      0.779849      0.227149     4.461801   \n",
       "\n",
       "   fight club      lotr  \n",
       "a    4.361660  0.473720  \n",
       "b    4.899338  4.639136  \n",
       "c    1.688373  5.152747  \n",
       "d    1.481269  4.897770  \n",
       "e    4.223414  0.311079  \n",
       "f    0.185477  1.411218  \n",
       "g    4.887655  4.284822  "
      ]
     },
     "execution_count": 256,
     "metadata": {},
     "output_type": "execute_result"
    }
   ],
   "source": [
    "# New R\n",
    "\n",
    "nR = pd.DataFrame(np.dot(user_vectors, movie_vectors.T), index = users, columns=list_movies)\n",
    "nR"
   ]
  },
  {
   "cell_type": "code",
   "execution_count": 257,
   "metadata": {},
   "outputs": [
    {
     "data": {
      "text/html": [
       "<div>\n",
       "<style scoped>\n",
       "    .dataframe tbody tr th:only-of-type {\n",
       "        vertical-align: middle;\n",
       "    }\n",
       "\n",
       "    .dataframe tbody tr th {\n",
       "        vertical-align: top;\n",
       "    }\n",
       "\n",
       "    .dataframe thead th {\n",
       "        text-align: right;\n",
       "    }\n",
       "</style>\n",
       "<table border=\"1\" class=\"dataframe\">\n",
       "  <thead>\n",
       "    <tr style=\"text-align: right;\">\n",
       "      <th></th>\n",
       "      <th>inception</th>\n",
       "      <th>gladiator</th>\n",
       "      <th>godfather</th>\n",
       "      <th>pulp fiction</th>\n",
       "      <th>12 angry men</th>\n",
       "      <th>dark knight</th>\n",
       "      <th>fight club</th>\n",
       "      <th>lotr</th>\n",
       "    </tr>\n",
       "  </thead>\n",
       "  <tbody>\n",
       "    <tr>\n",
       "      <th>a</th>\n",
       "      <td>4.5</td>\n",
       "      <td>1.5</td>\n",
       "      <td>0.0</td>\n",
       "      <td>1.0</td>\n",
       "      <td>0.0</td>\n",
       "      <td>5.0</td>\n",
       "      <td>4.5</td>\n",
       "      <td>0.0</td>\n",
       "    </tr>\n",
       "    <tr>\n",
       "      <th>b</th>\n",
       "      <td>4.5</td>\n",
       "      <td>5.0</td>\n",
       "      <td>4.0</td>\n",
       "      <td>4.7</td>\n",
       "      <td>4.6</td>\n",
       "      <td>4.9</td>\n",
       "      <td>4.4</td>\n",
       "      <td>4.2</td>\n",
       "    </tr>\n",
       "    <tr>\n",
       "      <th>c</th>\n",
       "      <td>0.0</td>\n",
       "      <td>4.5</td>\n",
       "      <td>4.2</td>\n",
       "      <td>4.2</td>\n",
       "      <td>4.6</td>\n",
       "      <td>1.1</td>\n",
       "      <td>2.0</td>\n",
       "      <td>5.0</td>\n",
       "    </tr>\n",
       "    <tr>\n",
       "      <th>d</th>\n",
       "      <td>0.0</td>\n",
       "      <td>4.6</td>\n",
       "      <td>0.0</td>\n",
       "      <td>1.3</td>\n",
       "      <td>0.0</td>\n",
       "      <td>0.0</td>\n",
       "      <td>2.0</td>\n",
       "      <td>4.9</td>\n",
       "    </tr>\n",
       "    <tr>\n",
       "      <th>e</th>\n",
       "      <td>4.2</td>\n",
       "      <td>0.0</td>\n",
       "      <td>1.1</td>\n",
       "      <td>2.2</td>\n",
       "      <td>2.8</td>\n",
       "      <td>5.0</td>\n",
       "      <td>4.9</td>\n",
       "      <td>0.0</td>\n",
       "    </tr>\n",
       "    <tr>\n",
       "      <th>f</th>\n",
       "      <td>0.0</td>\n",
       "      <td>0.0</td>\n",
       "      <td>4.5</td>\n",
       "      <td>4.2</td>\n",
       "      <td>4.9</td>\n",
       "      <td>0.0</td>\n",
       "      <td>0.0</td>\n",
       "      <td>2.1</td>\n",
       "    </tr>\n",
       "    <tr>\n",
       "      <th>g</th>\n",
       "      <td>4.6</td>\n",
       "      <td>4.3</td>\n",
       "      <td>0.0</td>\n",
       "      <td>0.0</td>\n",
       "      <td>0.0</td>\n",
       "      <td>4.5</td>\n",
       "      <td>4.5</td>\n",
       "      <td>4.9</td>\n",
       "    </tr>\n",
       "  </tbody>\n",
       "</table>\n",
       "</div>"
      ],
      "text/plain": [
       "   inception  gladiator  godfather  pulp fiction  12 angry men  dark knight  \\\n",
       "a        4.5        1.5        0.0           1.0           0.0          5.0   \n",
       "b        4.5        5.0        4.0           4.7           4.6          4.9   \n",
       "c        0.0        4.5        4.2           4.2           4.6          1.1   \n",
       "d        0.0        4.6        0.0           1.3           0.0          0.0   \n",
       "e        4.2        0.0        1.1           2.2           2.8          5.0   \n",
       "f        0.0        0.0        4.5           4.2           4.9          0.0   \n",
       "g        4.6        4.3        0.0           0.0           0.0          4.5   \n",
       "\n",
       "   fight club  lotr  \n",
       "a         4.5   0.0  \n",
       "b         4.4   4.2  \n",
       "c         2.0   5.0  \n",
       "d         2.0   4.9  \n",
       "e         4.9   0.0  \n",
       "f         0.0   2.1  \n",
       "g         4.5   4.9  "
      ]
     },
     "execution_count": 257,
     "metadata": {},
     "output_type": "execute_result"
    }
   ],
   "source": [
    "ratings_df"
   ]
  },
  {
   "cell_type": "code",
   "execution_count": 258,
   "metadata": {},
   "outputs": [],
   "source": [
    "#lets calculate the error\n",
    "\n",
    "E = (nR - ratings_df)**2"
   ]
  },
  {
   "cell_type": "code",
   "execution_count": 259,
   "metadata": {},
   "outputs": [
    {
     "data": {
      "text/html": [
       "<div>\n",
       "<style scoped>\n",
       "    .dataframe tbody tr th:only-of-type {\n",
       "        vertical-align: middle;\n",
       "    }\n",
       "\n",
       "    .dataframe tbody tr th {\n",
       "        vertical-align: top;\n",
       "    }\n",
       "\n",
       "    .dataframe thead th {\n",
       "        text-align: right;\n",
       "    }\n",
       "</style>\n",
       "<table border=\"1\" class=\"dataframe\">\n",
       "  <thead>\n",
       "    <tr style=\"text-align: right;\">\n",
       "      <th></th>\n",
       "      <th>inception</th>\n",
       "      <th>gladiator</th>\n",
       "      <th>godfather</th>\n",
       "      <th>pulp fiction</th>\n",
       "      <th>12 angry men</th>\n",
       "      <th>dark knight</th>\n",
       "      <th>fight club</th>\n",
       "      <th>lotr</th>\n",
       "    </tr>\n",
       "  </thead>\n",
       "  <tbody>\n",
       "    <tr>\n",
       "      <th>a</th>\n",
       "      <td>0.021270</td>\n",
       "      <td>0.183848</td>\n",
       "      <td>0.000317</td>\n",
       "      <td>0.222396</td>\n",
       "      <td>0.081872</td>\n",
       "      <td>1.142670e-07</td>\n",
       "      <td>0.019138</td>\n",
       "      <td>0.224411</td>\n",
       "    </tr>\n",
       "    <tr>\n",
       "      <th>b</th>\n",
       "      <td>0.089682</td>\n",
       "      <td>0.389838</td>\n",
       "      <td>0.005275</td>\n",
       "      <td>0.029784</td>\n",
       "      <td>0.006765</td>\n",
       "      <td>1.292057e-02</td>\n",
       "      <td>0.249338</td>\n",
       "      <td>0.192840</td>\n",
       "    </tr>\n",
       "    <tr>\n",
       "      <th>c</th>\n",
       "      <td>0.279490</td>\n",
       "      <td>0.016557</td>\n",
       "      <td>0.028332</td>\n",
       "      <td>0.009468</td>\n",
       "      <td>0.000128</td>\n",
       "      <td>5.956327e-02</td>\n",
       "      <td>0.097111</td>\n",
       "      <td>0.023332</td>\n",
       "    </tr>\n",
       "    <tr>\n",
       "      <th>d</th>\n",
       "      <td>0.030075</td>\n",
       "      <td>0.019615</td>\n",
       "      <td>0.060603</td>\n",
       "      <td>0.399329</td>\n",
       "      <td>0.078717</td>\n",
       "      <td>8.178396e-02</td>\n",
       "      <td>0.269081</td>\n",
       "      <td>0.000005</td>\n",
       "    </tr>\n",
       "    <tr>\n",
       "      <th>e</th>\n",
       "      <td>0.189144</td>\n",
       "      <td>0.375130</td>\n",
       "      <td>0.390647</td>\n",
       "      <td>0.005764</td>\n",
       "      <td>0.336765</td>\n",
       "      <td>4.699024e-03</td>\n",
       "      <td>0.457769</td>\n",
       "      <td>0.096770</td>\n",
       "    </tr>\n",
       "    <tr>\n",
       "      <th>f</th>\n",
       "      <td>0.000331</td>\n",
       "      <td>0.365427</td>\n",
       "      <td>0.012027</td>\n",
       "      <td>0.004148</td>\n",
       "      <td>0.005181</td>\n",
       "      <td>6.653251e-02</td>\n",
       "      <td>0.034402</td>\n",
       "      <td>0.474421</td>\n",
       "    </tr>\n",
       "    <tr>\n",
       "      <th>g</th>\n",
       "      <td>0.268519</td>\n",
       "      <td>0.163161</td>\n",
       "      <td>0.000000</td>\n",
       "      <td>0.608164</td>\n",
       "      <td>0.051596</td>\n",
       "      <td>1.459160e-03</td>\n",
       "      <td>0.150277</td>\n",
       "      <td>0.378444</td>\n",
       "    </tr>\n",
       "  </tbody>\n",
       "</table>\n",
       "</div>"
      ],
      "text/plain": [
       "   inception  gladiator  godfather  pulp fiction  12 angry men   dark knight  \\\n",
       "a   0.021270   0.183848   0.000317      0.222396      0.081872  1.142670e-07   \n",
       "b   0.089682   0.389838   0.005275      0.029784      0.006765  1.292057e-02   \n",
       "c   0.279490   0.016557   0.028332      0.009468      0.000128  5.956327e-02   \n",
       "d   0.030075   0.019615   0.060603      0.399329      0.078717  8.178396e-02   \n",
       "e   0.189144   0.375130   0.390647      0.005764      0.336765  4.699024e-03   \n",
       "f   0.000331   0.365427   0.012027      0.004148      0.005181  6.653251e-02   \n",
       "g   0.268519   0.163161   0.000000      0.608164      0.051596  1.459160e-03   \n",
       "\n",
       "   fight club      lotr  \n",
       "a    0.019138  0.224411  \n",
       "b    0.249338  0.192840  \n",
       "c    0.097111  0.023332  \n",
       "d    0.269081  0.000005  \n",
       "e    0.457769  0.096770  \n",
       "f    0.034402  0.474421  \n",
       "g    0.150277  0.378444  "
      ]
     },
     "execution_count": 259,
     "metadata": {},
     "output_type": "execute_result"
    }
   ],
   "source": [
    "E"
   ]
  },
  {
   "cell_type": "code",
   "execution_count": 260,
   "metadata": {},
   "outputs": [
    {
     "data": {
      "text/plain": [
       "0.1361368283583241"
      ]
     },
     "execution_count": 260,
     "metadata": {},
     "output_type": "execute_result"
    }
   ],
   "source": [
    "np.average(E)"
   ]
  },
  {
   "cell_type": "code",
   "execution_count": null,
   "metadata": {},
   "outputs": [],
   "source": []
  },
  {
   "cell_type": "code",
   "execution_count": 272,
   "metadata": {},
   "outputs": [],
   "source": [
    "new_data = np.array([[4.8, 0.0, 0.0, 0.0, 0.0, 0.0, 0.0, 0.0]])"
   ]
  },
  {
   "cell_type": "code",
   "execution_count": 273,
   "metadata": {},
   "outputs": [
    {
     "data": {
      "text/plain": [
       "array([[0.6990525, 0.       , 0.       ]])"
      ]
     },
     "execution_count": 273,
     "metadata": {},
     "output_type": "execute_result"
    }
   ],
   "source": [
    "nmf.transform(new_data)"
   ]
  },
  {
   "cell_type": "code",
   "execution_count": null,
   "metadata": {},
   "outputs": [],
   "source": []
  },
  {
   "cell_type": "code",
   "execution_count": null,
   "metadata": {},
   "outputs": [],
   "source": []
  }
 ],
 "metadata": {
  "kernelspec": {
   "display_name": "Python 3",
   "language": "python",
   "name": "python3"
  },
  "language_info": {
   "codemirror_mode": {
    "name": "ipython",
    "version": 3
   },
   "file_extension": ".py",
   "mimetype": "text/x-python",
   "name": "python",
   "nbconvert_exporter": "python",
   "pygments_lexer": "ipython3",
   "version": "3.6.5"
  }
 },
 "nbformat": 4,
 "nbformat_minor": 2
}
