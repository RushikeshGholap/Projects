{
 "cells": [
  {
   "cell_type": "markdown",
   "metadata": {},
   "source": [
    "## 1. What is the Naive Bayes Algorithm?\n",
    "\n",
    "Author - Akshay Sehgal (www.akshaysehgal.com)"
   ]
  },
  {
   "cell_type": "markdown",
   "metadata": {},
   "source": [
    "### 1.1 Overview\n",
    "\n",
    "Naive Bayes is a supervised classification algorithm which belongs to the family of \"Probabilistic Classifiers\". As the name suggests, <u>it is uses Bayes' theorem at its core with a 'naive' assumption</u>.\n",
    "\n",
    "The algorithm is widely used for simple classification problems and works well with text data in a bag of words form. Infact, it was most popularized by its use as a spam email classifier by google. To this date, its widely used as a benchmarking model by data scientists in hackatons on kaggle.\n",
    "\n",
    "Before we get into the crux of the algorithm, its important to know what bayes rule is."
   ]
  },
  {
   "cell_type": "markdown",
   "metadata": {},
   "source": [
    "### 1.2 The Bayes' Theorem\n",
    "\n",
    "You can get a great intuitive sense about conditional probability from lectures of Prof John Tsitsiklis (MITOpenCourseware). \n",
    "\n",
    "`\"You know something about the world, and based on what you know, you setup a probability model and you write down probabilities about the different outcomes. Then someone gives you some new information, which changes your beliefs and thus changes the probabilities of your outcomes.\"`\n",
    "\n",
    "In a simple sense, bayes' theorem talks about the 'new' probabilities of an experiment given that an event has occured.\n",
    "\n",
    "Let's say you have a sample space the probabilities for different events are given as below - "
   ]
  },
  {
   "cell_type": "markdown",
   "metadata": {},
   "source": [
    "<img src=\"img.jpg\" width='500'>"
   ]
  },
  {
   "cell_type": "markdown",
   "metadata": {},
   "source": [
    "<b>Now let's say someone tells you that B has occured. The area outside the circle that represents B is now meaningless since the new sample space is now B. This means, we need to revise the probabilities that have been assiged to the spaces inside B.</b>\n",
    "\n",
    "Now someone asks you, what is the probability that A occurs, given that B has occured. Since B has occured and the new sample space is now B, the area that was initially represented by $P(A \\cap B)$ is now the $P(A \\mid B)$. But the probability now has to be recalculated.\n",
    "\n",
    "What is the probability of this new section? Well, we can just use simple ratios for solving this.\n",
    "\n",
    "$$ P (A \\mid B) = {P(A \\cap B) \\over P(B)} = {0.3 \\over (0.3+0.2)}$$\n",
    "\n",
    "Now, the whole exercise we did above can also be done for when A has occured. Meaning that we can use symmetry to show - \n",
    "\n",
    "$$ P (B \\mid A) = {P(A \\cap B) \\over P(A)}$$\n",
    "\n",
    "Using the two symmetric equations and replacing $P(A \\cap B)$, we can write the famous equation - \n",
    "\n",
    "$$ P (A \\mid B) = {P (B \\mid A) \\times P(A) \\over P(B)}$$"
   ]
  },
  {
   "cell_type": "markdown",
   "metadata": {},
   "source": [
    "### 1.3 The Naive Assumption\n",
    "\n",
    "Now, let's see an 'expanded' version of this definition which is more relevant to data science. We want to know what is the probability of $y$ given that $x_1, x_2, ... , x_n$ have occured (where $x_i$ are different features and y is the class label we want to predict). This is given by - \n",
    "\n",
    "$$P(y \\mid x_1, x_2, ... , x_n) = {P(x_1, x_2, ... , x_n \\mid y) \\times P(y) \\over P(x_1, x_2, ... , x_n)}$$\n",
    "\n",
    "Here comes the <u>Naive assumption of conditional independence</u>. The assumption is that all the features $x_1, x_2 ..., x_n$ are independent. This means that $P(A,B) = P(A).P(B)$. Applying this to the above equation we get - \n",
    "\n",
    "$$P(y \\mid x_1, x_2, ... , x_n) = {P(x_1 \\mid y).P(x_2 \\mid y)... P(x_n \\mid y).P(y) \\over P(x_1).P(x_2)...P(x_n)}$$\n",
    "\n",
    "Using proper convention - \n",
    "\n",
    "$$P(y \\mid x_1, x_2, ... , x_n) = {P(y)\\prod_{i=1}^{n} P(x_i \\mid y) \\over \\prod_{i=1}^{n} P(x_i)}$$\n",
    "\n",
    "Since the denominator is constant, we can write the equation as -\n",
    "\n",
    "$$P(y \\mid x_1, x_2, ... , x_n) \\propto P(y)\\prod_{i=1}^{n} P(x_i \\mid y)$$\n",
    "\n",
    "In order to turn this into a classifier, we need to pick up the one with the max probability. This can be expressed as -\n",
    "\n",
    "$$y = argmax_y(P(y)\\prod_{i=1}^{n} P(x_i \\mid y))$$\n",
    "\n",
    "The last step is known as Maximum A Posteriori decision rule."
   ]
  },
  {
   "cell_type": "markdown",
   "metadata": {},
   "source": [
    "### 1.3 Curve fitting\n",
    "\n",
    "When working with different algorithms, its important to undertand where a particular algorithm will work and where it may not. For this, I have always found a 2 dimensional example of decision boundaries quite useful from an intuitive point of view, since the core 'nature' of the classifier retains itself in higher dimensional spaces as well. The objective is to separate the blue from the red points. The decision boundary with the confidence is plotted. \n",
    "\n",
    "As seen below (image from sklearn documentation), the naive bayes classifier is capable of fitting smooth continous decision boundaries, but fails when the data needs a high degree polynomial.\n",
    "\n",
    "<img src='NBclassifier.PNG' width=700>"
   ]
  },
  {
   "cell_type": "markdown",
   "metadata": {},
   "source": [
    "### 1.4 Different Classifiers\n",
    "\n",
    "Now, when you actually plan on implementing this, you will notice there are multiple classifiers available that can be used for a naive bayes model. The point of these classifiers is quite simple. The above equation calculates $P(x_i \\mid y)$ in a straight forward way for features with discrete values, but what if the features are continous variables. Clearly, this will need you to 'assume' the nature of the distribution since unlike discrete valued features, where you could just sum up the number of times a discrete value occured along with the specific y class label. In this case we can use classifiers such as GaussianNB.\n",
    "\n",
    "Simply put, by choosing different classifiers, you get to choose the assumptions regarding the nature of distributions of $P(x_i \\mid y)$. More about these classifiers in later sections."
   ]
  },
  {
   "cell_type": "markdown",
   "metadata": {},
   "source": [
    "---\n",
    "## 2. How to implement the Naive Bayes algorithm?\n",
    "\n",
    "Lets do a quick implementation of Naive Bayes. This is how you would actually implement it when working with data. The focus will be on the algorithm rather than data preprocessing for now. For this example, I will select the iris data which is available as part of the sklearn datasets API."
   ]
  },
  {
   "cell_type": "code",
   "execution_count": 1,
   "metadata": {},
   "outputs": [],
   "source": [
    "# Loading the dependencies for the model\n",
    "import pandas as pd\n",
    "import numpy as np\n",
    "from sklearn.datasets import load_iris\n",
    "from sklearn.model_selection import train_test_split\n",
    "from sklearn.naive_bayes import GaussianNB\n",
    "import math"
   ]
  },
  {
   "cell_type": "code",
   "execution_count": 2,
   "metadata": {},
   "outputs": [],
   "source": [
    "# Loading the iris data into X, y. Each dataset will have its own way of doing this.\n",
    "iris = load_iris()\n",
    "X = iris.data\n",
    "y = iris.target\n",
    "y_labels = iris.target_names\n",
    "X_labels = iris.feature_names"
   ]
  },
  {
   "cell_type": "code",
   "execution_count": 3,
   "metadata": {},
   "outputs": [
    {
     "name": "stdout",
     "output_type": "stream",
     "text": [
      "Column names -  ['sepal length (cm)', 'sepal width (cm)', 'petal length (cm)', 'petal width (cm)']\n",
      "Shape of X -  (150, 4)\n",
      "Target values -  ['setosa' 'versicolor' 'virginica']\n"
     ]
    }
   ],
   "source": [
    "#4 features, 150 samples, 3 target values to predict\n",
    "print(\"Column names - \",X_labels)\n",
    "print(\"Shape of X - \",X.shape)\n",
    "print(\"Target values - \",y_labels)"
   ]
  },
  {
   "cell_type": "code",
   "execution_count": 4,
   "metadata": {},
   "outputs": [],
   "source": [
    "#Separating test and train data for model evaluation\n",
    "X_train, X_test, y_train, y_test = train_test_split(X,y, test_size = 0.2)"
   ]
  },
  {
   "cell_type": "code",
   "execution_count": 5,
   "metadata": {},
   "outputs": [
    {
     "data": {
      "text/plain": [
       "GaussianNB(priors=None, var_smoothing=1e-09)"
      ]
     },
     "execution_count": 5,
     "metadata": {},
     "output_type": "execute_result"
    }
   ],
   "source": [
    "#Instantiate the classifier and fit it to training data\n",
    "nb = GaussianNB()\n",
    "nb.fit(X_train, y_train)"
   ]
  },
  {
   "cell_type": "code",
   "execution_count": 6,
   "metadata": {},
   "outputs": [
    {
     "data": {
      "text/plain": [
       "0.9333333333333333"
      ]
     },
     "execution_count": 6,
     "metadata": {},
     "output_type": "execute_result"
    }
   ],
   "source": [
    "#Evaluation of the model using test data\n",
    "nb.score(X_test, y_test)"
   ]
  },
  {
   "cell_type": "code",
   "execution_count": 7,
   "metadata": {},
   "outputs": [
    {
     "data": {
      "text/plain": [
       "array([1])"
      ]
     },
     "execution_count": 7,
     "metadata": {},
     "output_type": "execute_result"
    }
   ],
   "source": [
    "# Model's prediction when sepal_len = 5.8, sepal_wid = 2.2, petal_len = 4.2, petal_wid = 0.4\n",
    "nb.predict([[5.8,2.2,4.2,0.4]])"
   ]
  },
  {
   "cell_type": "markdown",
   "metadata": {},
   "source": [
    "The value 1 corresponds to versicolor, as seen by the y_labels (0 represents setosa). This is a straightforward sklearn workflow and should be quite familiar if you have implemented any model with sklearn before."
   ]
  },
  {
   "cell_type": "markdown",
   "metadata": {},
   "source": [
    "---\n",
    "## 3. What's happening behind the scenes?"
   ]
  },
  {
   "cell_type": "markdown",
   "metadata": {},
   "source": [
    "This section we are going to implement the different classifiers from scratch, making sure we actually show what's happening behind the scene. Also, since I am not a big fan of for loops, I will try to give a vectorized implementation of the model, as much as possible."
   ]
  },
  {
   "cell_type": "markdown",
   "metadata": {},
   "source": [
    "### Gaussian Naive Bayes\n",
    "\n",
    "When your features are continous in nature, you assume that they are conditionally independent and that the data associated with each class is normally distributed. To calculate the $P(x_i \\mid y)$ values, we segment the data by the class, compute mean, variance and then derive the probability distribution as below.\n",
    "\n",
    "$$P(x_i \\mid y) = {1 \\over \\sqrt{2 \\pi \\sigma^2_y}}exp \\Bigg(-{(x_i - \\mu_y)^2 \\over 2 \\sigma^2_y} \\Bigg)$$\n",
    "\n",
    "\n",
    "The first step is to calculate the summary statistics. For gaussian classifier, we need the class-wise mean and standard deviation and we need the class priors, which is nothing but the class probability in the entire data. With these 3, we should be able to predict which class a particular sample belongs to. Following is a diagram which shows the vectorized computation of the gaussian classifier in a graphical representation."
   ]
  },
  {
   "cell_type": "markdown",
   "metadata": {},
   "source": [
    "<img src='vectorized_gaussian.png' width=800>"
   ]
  },
  {
   "cell_type": "code",
   "execution_count": 8,
   "metadata": {},
   "outputs": [
    {
     "data": {
      "text/html": [
       "<div>\n",
       "<style scoped>\n",
       "    .dataframe tbody tr th:only-of-type {\n",
       "        vertical-align: middle;\n",
       "    }\n",
       "\n",
       "    .dataframe tbody tr th {\n",
       "        vertical-align: top;\n",
       "    }\n",
       "\n",
       "    .dataframe thead th {\n",
       "        text-align: right;\n",
       "    }\n",
       "</style>\n",
       "<table border=\"1\" class=\"dataframe\">\n",
       "  <thead>\n",
       "    <tr style=\"text-align: right;\">\n",
       "      <th></th>\n",
       "      <th>sepal length (cm)</th>\n",
       "      <th>sepal width (cm)</th>\n",
       "      <th>petal length (cm)</th>\n",
       "      <th>petal width (cm)</th>\n",
       "      <th>class</th>\n",
       "    </tr>\n",
       "  </thead>\n",
       "  <tbody>\n",
       "    <tr>\n",
       "      <th>0</th>\n",
       "      <td>5.1</td>\n",
       "      <td>3.5</td>\n",
       "      <td>1.4</td>\n",
       "      <td>0.2</td>\n",
       "      <td>0</td>\n",
       "    </tr>\n",
       "    <tr>\n",
       "      <th>1</th>\n",
       "      <td>4.9</td>\n",
       "      <td>3.0</td>\n",
       "      <td>1.4</td>\n",
       "      <td>0.2</td>\n",
       "      <td>0</td>\n",
       "    </tr>\n",
       "    <tr>\n",
       "      <th>2</th>\n",
       "      <td>4.7</td>\n",
       "      <td>3.2</td>\n",
       "      <td>1.3</td>\n",
       "      <td>0.2</td>\n",
       "      <td>0</td>\n",
       "    </tr>\n",
       "    <tr>\n",
       "      <th>3</th>\n",
       "      <td>4.6</td>\n",
       "      <td>3.1</td>\n",
       "      <td>1.5</td>\n",
       "      <td>0.2</td>\n",
       "      <td>0</td>\n",
       "    </tr>\n",
       "    <tr>\n",
       "      <th>4</th>\n",
       "      <td>5.0</td>\n",
       "      <td>3.6</td>\n",
       "      <td>1.4</td>\n",
       "      <td>0.2</td>\n",
       "      <td>0</td>\n",
       "    </tr>\n",
       "  </tbody>\n",
       "</table>\n",
       "</div>"
      ],
      "text/plain": [
       "   sepal length (cm)  sepal width (cm)  petal length (cm)  petal width (cm)  \\\n",
       "0                5.1               3.5                1.4               0.2   \n",
       "1                4.9               3.0                1.4               0.2   \n",
       "2                4.7               3.2                1.3               0.2   \n",
       "3                4.6               3.1                1.5               0.2   \n",
       "4                5.0               3.6                1.4               0.2   \n",
       "\n",
       "   class  \n",
       "0      0  \n",
       "1      0  \n",
       "2      0  \n",
       "3      0  \n",
       "4      0  "
      ]
     },
     "execution_count": 8,
     "metadata": {},
     "output_type": "execute_result"
    }
   ],
   "source": [
    "#Putting all the data into a dataframe\n",
    "df = pd.DataFrame(X, columns=X_labels)\n",
    "df['class'] = y\n",
    "df.head()"
   ]
  },
  {
   "cell_type": "code",
   "execution_count": 9,
   "metadata": {},
   "outputs": [
    {
     "data": {
      "text/plain": [
       "array([0.33333333, 0.33333333, 0.33333333])"
      ]
     },
     "execution_count": 9,
     "metadata": {},
     "output_type": "execute_result"
    }
   ],
   "source": [
    "#Calculating class priors (simply the probability of class labels)\n",
    "priors = np.unique(y, return_counts=True)[1] / len(y)\n",
    "priors"
   ]
  },
  {
   "cell_type": "code",
   "execution_count": 10,
   "metadata": {
    "scrolled": false
   },
   "outputs": [
    {
     "data": {
      "text/html": [
       "<div>\n",
       "<style scoped>\n",
       "    .dataframe tbody tr th:only-of-type {\n",
       "        vertical-align: middle;\n",
       "    }\n",
       "\n",
       "    .dataframe tbody tr th {\n",
       "        vertical-align: top;\n",
       "    }\n",
       "\n",
       "    .dataframe thead th {\n",
       "        text-align: right;\n",
       "    }\n",
       "</style>\n",
       "<table border=\"1\" class=\"dataframe\">\n",
       "  <thead>\n",
       "    <tr style=\"text-align: right;\">\n",
       "      <th></th>\n",
       "      <th>class</th>\n",
       "      <th>sepal length (cm)</th>\n",
       "      <th>sepal width (cm)</th>\n",
       "      <th>petal length (cm)</th>\n",
       "      <th>petal width (cm)</th>\n",
       "    </tr>\n",
       "  </thead>\n",
       "  <tbody>\n",
       "    <tr>\n",
       "      <th>0</th>\n",
       "      <td>0</td>\n",
       "      <td>5.006</td>\n",
       "      <td>3.428</td>\n",
       "      <td>1.462</td>\n",
       "      <td>0.246</td>\n",
       "    </tr>\n",
       "    <tr>\n",
       "      <th>1</th>\n",
       "      <td>1</td>\n",
       "      <td>5.936</td>\n",
       "      <td>2.770</td>\n",
       "      <td>4.260</td>\n",
       "      <td>1.326</td>\n",
       "    </tr>\n",
       "    <tr>\n",
       "      <th>2</th>\n",
       "      <td>2</td>\n",
       "      <td>6.588</td>\n",
       "      <td>2.974</td>\n",
       "      <td>5.552</td>\n",
       "      <td>2.026</td>\n",
       "    </tr>\n",
       "  </tbody>\n",
       "</table>\n",
       "</div>"
      ],
      "text/plain": [
       "   class  sepal length (cm)  sepal width (cm)  petal length (cm)  \\\n",
       "0      0              5.006             3.428              1.462   \n",
       "1      1              5.936             2.770              4.260   \n",
       "2      2              6.588             2.974              5.552   \n",
       "\n",
       "   petal width (cm)  \n",
       "0             0.246  \n",
       "1             1.326  \n",
       "2             2.026  "
      ]
     },
     "execution_count": 10,
     "metadata": {},
     "output_type": "execute_result"
    }
   ],
   "source": [
    "#Class wise mean for each feature\n",
    "classwise_means = df.groupby(['class']).mean().reset_index()\n",
    "classwise_means"
   ]
  },
  {
   "cell_type": "code",
   "execution_count": 11,
   "metadata": {},
   "outputs": [
    {
     "data": {
      "text/html": [
       "<div>\n",
       "<style scoped>\n",
       "    .dataframe tbody tr th:only-of-type {\n",
       "        vertical-align: middle;\n",
       "    }\n",
       "\n",
       "    .dataframe tbody tr th {\n",
       "        vertical-align: top;\n",
       "    }\n",
       "\n",
       "    .dataframe thead th {\n",
       "        text-align: right;\n",
       "    }\n",
       "</style>\n",
       "<table border=\"1\" class=\"dataframe\">\n",
       "  <thead>\n",
       "    <tr style=\"text-align: right;\">\n",
       "      <th></th>\n",
       "      <th>class</th>\n",
       "      <th>sepal length (cm)</th>\n",
       "      <th>sepal width (cm)</th>\n",
       "      <th>petal length (cm)</th>\n",
       "      <th>petal width (cm)</th>\n",
       "    </tr>\n",
       "  </thead>\n",
       "  <tbody>\n",
       "    <tr>\n",
       "      <th>0</th>\n",
       "      <td>0</td>\n",
       "      <td>0.352490</td>\n",
       "      <td>0.379064</td>\n",
       "      <td>0.173664</td>\n",
       "      <td>0.105386</td>\n",
       "    </tr>\n",
       "    <tr>\n",
       "      <th>1</th>\n",
       "      <td>1</td>\n",
       "      <td>0.516171</td>\n",
       "      <td>0.313798</td>\n",
       "      <td>0.469911</td>\n",
       "      <td>0.197753</td>\n",
       "    </tr>\n",
       "    <tr>\n",
       "      <th>2</th>\n",
       "      <td>2</td>\n",
       "      <td>0.635880</td>\n",
       "      <td>0.322497</td>\n",
       "      <td>0.551895</td>\n",
       "      <td>0.274650</td>\n",
       "    </tr>\n",
       "  </tbody>\n",
       "</table>\n",
       "</div>"
      ],
      "text/plain": [
       "   class  sepal length (cm)  sepal width (cm)  petal length (cm)  \\\n",
       "0      0           0.352490          0.379064           0.173664   \n",
       "1      1           0.516171          0.313798           0.469911   \n",
       "2      2           0.635880          0.322497           0.551895   \n",
       "\n",
       "   petal width (cm)  \n",
       "0          0.105386  \n",
       "1          0.197753  \n",
       "2          0.274650  "
      ]
     },
     "execution_count": 11,
     "metadata": {},
     "output_type": "execute_result"
    }
   ],
   "source": [
    "#Class wise mean for each feature\n",
    "classwise_std = df.groupby(['class']).std().reset_index()\n",
    "classwise_std"
   ]
  },
  {
   "cell_type": "code",
   "execution_count": 12,
   "metadata": {},
   "outputs": [],
   "source": [
    "# Gaussian probability function vectorized to work on multidimensional arrays with broadcasting\n",
    "def pdf(x, mean, sd):\n",
    "    return (1 / np.sqrt(2*np.pi*sd**2)) * np.exp(-1*((x-mean)**2/(2*sd**2)))\n",
    "\n",
    "vectorized_pdf = np.vectorize(pdf)"
   ]
  },
  {
   "cell_type": "code",
   "execution_count": 13,
   "metadata": {},
   "outputs": [],
   "source": [
    "#Converting everything to numpy arrays\n",
    "mean_array = np.array(classwise_means.iloc[:,1:])\n",
    "std_array = np.array(classwise_std.iloc[:,1:])\n",
    "\n",
    "#Sample is the feature vector, whose label needs to be predicted\n",
    "sample = [5.1, 3.5, 1.4, 0.2]"
   ]
  },
  {
   "cell_type": "code",
   "execution_count": 14,
   "metadata": {},
   "outputs": [
    {
     "data": {
      "text/plain": [
       "array([[1.09224777e+00, 1.03362481e+00, 2.15537744e+00, 3.44157106e+00],\n",
       "       [2.08211139e-01, 8.49365434e-02, 7.67726912e-09, 1.83893298e-07],\n",
       "       [4.05935486e-02, 3.27130259e-01, 3.70613589e-13, 3.66254229e-10]])"
      ]
     },
     "execution_count": 14,
     "metadata": {},
     "output_type": "execute_result"
    }
   ],
   "source": [
    "#Element wise application of the pdf(x,mean,std) function on broadcasted arrays\n",
    "elementwise_pdf = vectorized_pdf(sample, mean_array, std_array)\n",
    "elementwise_pdf"
   ]
  },
  {
   "cell_type": "code",
   "execution_count": 15,
   "metadata": {},
   "outputs": [
    {
     "data": {
      "text/plain": [
       "array([8.37460175e+00, 2.49672786e-17, 1.80252677e-24])"
      ]
     },
     "execution_count": 15,
     "metadata": {},
     "output_type": "execute_result"
    }
   ],
   "source": [
    "#Rowwise product of the above matrix\n",
    "rowwise_product = np.product(elementwise_pdf,axis=1)\n",
    "rowwise_product"
   ]
  },
  {
   "cell_type": "code",
   "execution_count": 16,
   "metadata": {},
   "outputs": [
    {
     "data": {
      "text/plain": [
       "array([2.79153392e+00, 8.32242620e-18, 6.00842257e-25])"
      ]
     },
     "execution_count": 16,
     "metadata": {},
     "output_type": "execute_result"
    }
   ],
   "source": [
    "#Elementwise multiplication with corresponding class probabilities (priors)\n",
    "multiply_priors = np.multiply(priors,rowwise_product)\n",
    "multiply_priors"
   ]
  },
  {
   "cell_type": "code",
   "execution_count": 17,
   "metadata": {},
   "outputs": [
    {
     "data": {
      "text/plain": [
       "0"
      ]
     },
     "execution_count": 17,
     "metadata": {},
     "output_type": "execute_result"
    }
   ],
   "source": [
    "#Argmax to predict class label\n",
    "prediction = np.argmax(multiply_priors)\n",
    "prediction"
   ]
  },
  {
   "cell_type": "markdown",
   "metadata": {},
   "source": [
    "The 0 here means first class 'setosa'.\n",
    "\n",
    "Few interesting notes based on this calculation -\n",
    "1. The prediction here is directly made using the priors matrix, classwise mean matrix and classwise standard deviation matrix.\n",
    "2. Training the algorithm with new data simply means updating these 3 matrices and re-running calculations to predict the labels."
   ]
  },
  {
   "cell_type": "markdown",
   "metadata": {},
   "source": [
    "### Multinomial classifier\n",
    "\n",
    "\n",
    "Multinomial classifier is a bit more complex but is the usual choice for text based data. Here you assume that your data is distributed multinomially. Multinomial distribution is a generalized case of binomial, bernoulli and categorical distributions depending on the number of trials (n) and the number of outcomes (k). If there are only 2 possible outcomes (k=2) and multiple trials (n>1) then your multinomial distribution becomes a binomial distribution.\n",
    "\n",
    "Lets say you have a few sentences with labels - \n",
    "\n",
    "- \"Great phone\" - Positive\n",
    "- \"Didn't like the device\" - Negative\n",
    "- \"Wonderful interface\" - Positive\n",
    "- \"Horrible experience\" - Negative\n",
    "\n",
    "Lets say you are asked to classify the sentence \"Great smartphone\". What you are trying to do is to just find the probability of the words \"Great\" and \"Smartphone\" to occur with the label Positive/Negative. Based on the product of the probabilities of the 2 words (remember the 'naive' assumption) you calculate which has a higher product of probabilities and then predict that as the corresponding label. This is done by simply calculating $N_w / N$ where $N_w$ is the number of times the word occurs with the label, and N is the total number of words that occur <u>with the given label</u>.\n",
    "\n",
    "\n",
    "Here comes the issue while doing this. If the word isn't used in the traning data (like in this case \"Smartphone\"), the value of the product of probabilities will become 0. How do we solve this? We use a techinque called additive smoothing (laplace smoothing) which just adds some stuff to the numerator and denominator. $P(x_i \\mid y)$ is the probability $\\theta_i$ of $i$ appearing in a sample belonging to $y$.\n",
    "\n",
    "$$ \\hat\\theta_i = {N_w + \\alpha \\over N + \\alpha d} $$\n",
    "\n",
    "Here $\\alpha$ is set to 1 incase of laplace smoothing, while $\\alpha$ is set > 1 for Lidstone smoothing. $N_w$ is the number of times the word occurs with that label, N is the number of words in vocabulary which occur with that label, and d is the total size of the vocabulary.\n",
    "\n",
    "\n",
    "Note that for the implementation I will only show the case where we use count vectorizer but for improving the model, it is important to leverage various techiniques such as stopword removal, lemmitization, tfidf vectorizer etc.\n",
    "We will start with creating a small text dataset with 2 labels."
   ]
  },
  {
   "cell_type": "code",
   "execution_count": 18,
   "metadata": {},
   "outputs": [],
   "source": [
    "from sklearn.feature_extraction.text import CountVectorizer"
   ]
  },
  {
   "cell_type": "code",
   "execution_count": 19,
   "metadata": {},
   "outputs": [],
   "source": [
    "#Defining the training data\n",
    "documents = ['quite happy with it', \n",
    "             'bad device', \n",
    "             'great job with the features', \n",
    "             'bad experience',\n",
    "             'horrible device',\n",
    "             'very happy with the product']\n",
    "\n",
    "classes = ['positive','negative','positive','negative','negative','positive']"
   ]
  },
  {
   "cell_type": "code",
   "execution_count": 20,
   "metadata": {},
   "outputs": [
    {
     "data": {
      "text/plain": [
       "(6, 14)"
      ]
     },
     "execution_count": 20,
     "metadata": {},
     "output_type": "execute_result"
    }
   ],
   "source": [
    "#Fitting the count vectorizer to get word representation for each sentence\n",
    "cnt = CountVectorizer()\n",
    "cnt_matrix = cnt.fit_transform(documents).todense()\n",
    "cnt_matrix.shape"
   ]
  },
  {
   "cell_type": "code",
   "execution_count": 21,
   "metadata": {},
   "outputs": [
    {
     "data": {
      "text/html": [
       "<div>\n",
       "<style scoped>\n",
       "    .dataframe tbody tr th:only-of-type {\n",
       "        vertical-align: middle;\n",
       "    }\n",
       "\n",
       "    .dataframe tbody tr th {\n",
       "        vertical-align: top;\n",
       "    }\n",
       "\n",
       "    .dataframe thead th {\n",
       "        text-align: right;\n",
       "    }\n",
       "</style>\n",
       "<table border=\"1\" class=\"dataframe\">\n",
       "  <thead>\n",
       "    <tr style=\"text-align: right;\">\n",
       "      <th></th>\n",
       "      <th>bad</th>\n",
       "      <th>device</th>\n",
       "      <th>experience</th>\n",
       "      <th>features</th>\n",
       "      <th>great</th>\n",
       "      <th>happy</th>\n",
       "      <th>horrible</th>\n",
       "      <th>it</th>\n",
       "      <th>job</th>\n",
       "      <th>product</th>\n",
       "      <th>quite</th>\n",
       "      <th>the</th>\n",
       "      <th>very</th>\n",
       "      <th>with</th>\n",
       "      <th>Class</th>\n",
       "    </tr>\n",
       "  </thead>\n",
       "  <tbody>\n",
       "    <tr>\n",
       "      <th>quite happy with it</th>\n",
       "      <td>0</td>\n",
       "      <td>0</td>\n",
       "      <td>0</td>\n",
       "      <td>0</td>\n",
       "      <td>0</td>\n",
       "      <td>1</td>\n",
       "      <td>0</td>\n",
       "      <td>1</td>\n",
       "      <td>0</td>\n",
       "      <td>0</td>\n",
       "      <td>1</td>\n",
       "      <td>0</td>\n",
       "      <td>0</td>\n",
       "      <td>1</td>\n",
       "      <td>positive</td>\n",
       "    </tr>\n",
       "    <tr>\n",
       "      <th>bad device</th>\n",
       "      <td>1</td>\n",
       "      <td>1</td>\n",
       "      <td>0</td>\n",
       "      <td>0</td>\n",
       "      <td>0</td>\n",
       "      <td>0</td>\n",
       "      <td>0</td>\n",
       "      <td>0</td>\n",
       "      <td>0</td>\n",
       "      <td>0</td>\n",
       "      <td>0</td>\n",
       "      <td>0</td>\n",
       "      <td>0</td>\n",
       "      <td>0</td>\n",
       "      <td>negative</td>\n",
       "    </tr>\n",
       "    <tr>\n",
       "      <th>great job with the features</th>\n",
       "      <td>0</td>\n",
       "      <td>0</td>\n",
       "      <td>0</td>\n",
       "      <td>1</td>\n",
       "      <td>1</td>\n",
       "      <td>0</td>\n",
       "      <td>0</td>\n",
       "      <td>0</td>\n",
       "      <td>1</td>\n",
       "      <td>0</td>\n",
       "      <td>0</td>\n",
       "      <td>1</td>\n",
       "      <td>0</td>\n",
       "      <td>1</td>\n",
       "      <td>positive</td>\n",
       "    </tr>\n",
       "    <tr>\n",
       "      <th>bad experience</th>\n",
       "      <td>1</td>\n",
       "      <td>0</td>\n",
       "      <td>1</td>\n",
       "      <td>0</td>\n",
       "      <td>0</td>\n",
       "      <td>0</td>\n",
       "      <td>0</td>\n",
       "      <td>0</td>\n",
       "      <td>0</td>\n",
       "      <td>0</td>\n",
       "      <td>0</td>\n",
       "      <td>0</td>\n",
       "      <td>0</td>\n",
       "      <td>0</td>\n",
       "      <td>negative</td>\n",
       "    </tr>\n",
       "    <tr>\n",
       "      <th>horrible device</th>\n",
       "      <td>0</td>\n",
       "      <td>1</td>\n",
       "      <td>0</td>\n",
       "      <td>0</td>\n",
       "      <td>0</td>\n",
       "      <td>0</td>\n",
       "      <td>1</td>\n",
       "      <td>0</td>\n",
       "      <td>0</td>\n",
       "      <td>0</td>\n",
       "      <td>0</td>\n",
       "      <td>0</td>\n",
       "      <td>0</td>\n",
       "      <td>0</td>\n",
       "      <td>negative</td>\n",
       "    </tr>\n",
       "    <tr>\n",
       "      <th>very happy with the product</th>\n",
       "      <td>0</td>\n",
       "      <td>0</td>\n",
       "      <td>0</td>\n",
       "      <td>0</td>\n",
       "      <td>0</td>\n",
       "      <td>1</td>\n",
       "      <td>0</td>\n",
       "      <td>0</td>\n",
       "      <td>0</td>\n",
       "      <td>1</td>\n",
       "      <td>0</td>\n",
       "      <td>1</td>\n",
       "      <td>1</td>\n",
       "      <td>1</td>\n",
       "      <td>positive</td>\n",
       "    </tr>\n",
       "  </tbody>\n",
       "</table>\n",
       "</div>"
      ],
      "text/plain": [
       "                             bad  device  experience  features  great  happy  \\\n",
       "quite happy with it            0       0           0         0      0      1   \n",
       "bad device                     1       1           0         0      0      0   \n",
       "great job with the features    0       0           0         1      1      0   \n",
       "bad experience                 1       0           1         0      0      0   \n",
       "horrible device                0       1           0         0      0      0   \n",
       "very happy with the product    0       0           0         0      0      1   \n",
       "\n",
       "                             horrible  it  job  product  quite  the  very  \\\n",
       "quite happy with it                 0   1    0        0      1    0     0   \n",
       "bad device                          0   0    0        0      0    0     0   \n",
       "great job with the features         0   0    1        0      0    1     0   \n",
       "bad experience                      0   0    0        0      0    0     0   \n",
       "horrible device                     1   0    0        0      0    0     0   \n",
       "very happy with the product         0   0    0        1      0    1     1   \n",
       "\n",
       "                             with     Class  \n",
       "quite happy with it             1  positive  \n",
       "bad device                      0  negative  \n",
       "great job with the features     1  positive  \n",
       "bad experience                  0  negative  \n",
       "horrible device                 0  negative  \n",
       "very happy with the product     1  positive  "
      ]
     },
     "execution_count": 21,
     "metadata": {},
     "output_type": "execute_result"
    }
   ],
   "source": [
    "#Creating a dataframe to calculate summary statistics later\n",
    "training_data = pd.DataFrame(cnt_matrix,\n",
    "                                index = documents, \n",
    "                                columns=cnt.get_feature_names())\n",
    "training_data['Class'] = classes\n",
    "training_data"
   ]
  },
  {
   "cell_type": "code",
   "execution_count": 22,
   "metadata": {},
   "outputs": [
    {
     "data": {
      "text/plain": [
       "array([0.5, 0.5])"
      ]
     },
     "execution_count": 22,
     "metadata": {},
     "output_type": "execute_result"
    }
   ],
   "source": [
    "#Calculating label probability (priors)\n",
    "label_proba = np.unique(classes, return_counts=True)[1]/len(classes)\n",
    "label_proba"
   ]
  },
  {
   "cell_type": "code",
   "execution_count": 23,
   "metadata": {},
   "outputs": [
    {
     "data": {
      "text/html": [
       "<div>\n",
       "<style scoped>\n",
       "    .dataframe tbody tr th:only-of-type {\n",
       "        vertical-align: middle;\n",
       "    }\n",
       "\n",
       "    .dataframe tbody tr th {\n",
       "        vertical-align: top;\n",
       "    }\n",
       "\n",
       "    .dataframe thead th {\n",
       "        text-align: right;\n",
       "    }\n",
       "</style>\n",
       "<table border=\"1\" class=\"dataframe\">\n",
       "  <thead>\n",
       "    <tr style=\"text-align: right;\">\n",
       "      <th></th>\n",
       "      <th>bad</th>\n",
       "      <th>device</th>\n",
       "      <th>experience</th>\n",
       "      <th>features</th>\n",
       "      <th>great</th>\n",
       "      <th>happy</th>\n",
       "      <th>horrible</th>\n",
       "      <th>it</th>\n",
       "      <th>job</th>\n",
       "      <th>product</th>\n",
       "      <th>quite</th>\n",
       "      <th>the</th>\n",
       "      <th>very</th>\n",
       "      <th>with</th>\n",
       "    </tr>\n",
       "  </thead>\n",
       "  <tbody>\n",
       "    <tr>\n",
       "      <th>0</th>\n",
       "      <td>2</td>\n",
       "      <td>2</td>\n",
       "      <td>1</td>\n",
       "      <td>0</td>\n",
       "      <td>0</td>\n",
       "      <td>0</td>\n",
       "      <td>1</td>\n",
       "      <td>0</td>\n",
       "      <td>0</td>\n",
       "      <td>0</td>\n",
       "      <td>0</td>\n",
       "      <td>0</td>\n",
       "      <td>0</td>\n",
       "      <td>0</td>\n",
       "    </tr>\n",
       "    <tr>\n",
       "      <th>1</th>\n",
       "      <td>0</td>\n",
       "      <td>0</td>\n",
       "      <td>0</td>\n",
       "      <td>1</td>\n",
       "      <td>1</td>\n",
       "      <td>2</td>\n",
       "      <td>0</td>\n",
       "      <td>1</td>\n",
       "      <td>1</td>\n",
       "      <td>1</td>\n",
       "      <td>1</td>\n",
       "      <td>2</td>\n",
       "      <td>1</td>\n",
       "      <td>3</td>\n",
       "    </tr>\n",
       "  </tbody>\n",
       "</table>\n",
       "</div>"
      ],
      "text/plain": [
       "   bad  device  experience  features  great  happy  horrible  it  job  \\\n",
       "0    2       2           1         0      0      0         1   0    0   \n",
       "1    0       0           0         1      1      2         0   1    1   \n",
       "\n",
       "   product  quite  the  very  with  \n",
       "0        0      0    0     0     0  \n",
       "1        1      1    2     1     3  "
      ]
     },
     "execution_count": 23,
     "metadata": {},
     "output_type": "execute_result"
    }
   ],
   "source": [
    "#Calculating word frequency for each word in training data (label-wise)\n",
    "\n",
    "## 0 = negative, 1 = positive\n",
    "Nc = training_data.groupby(['Class']).sum().reset_index('Class').drop('Class',axis=1)\n",
    "Nc"
   ]
  },
  {
   "cell_type": "code",
   "execution_count": 24,
   "metadata": {},
   "outputs": [
    {
     "data": {
      "text/plain": [
       "array([ 6, 14], dtype=int64)"
      ]
     },
     "execution_count": 24,
     "metadata": {},
     "output_type": "execute_result"
    }
   ],
   "source": [
    "# Calculating N which is the total number of word occurances associated with each label\n",
    "N = np.sum(np.array(Nc),axis=1)\n",
    "N"
   ]
  },
  {
   "cell_type": "code",
   "execution_count": 25,
   "metadata": {},
   "outputs": [
    {
     "data": {
      "text/plain": [
       "14"
      ]
     },
     "execution_count": 25,
     "metadata": {},
     "output_type": "execute_result"
    }
   ],
   "source": [
    "#Calculating length of vocabulary\n",
    "d = len(cnt.get_feature_names())\n",
    "d"
   ]
  },
  {
   "cell_type": "code",
   "execution_count": 26,
   "metadata": {},
   "outputs": [],
   "source": [
    "#Setting value of the laplace smoothing factor alpha\n",
    "a = 1"
   ]
  },
  {
   "cell_type": "code",
   "execution_count": 28,
   "metadata": {},
   "outputs": [
    {
     "data": {
      "text/plain": [
       "array([0.05      , 0.10714286])"
      ]
     },
     "execution_count": 28,
     "metadata": {},
     "output_type": "execute_result"
    }
   ],
   "source": [
    "#Getting theta for a single input word\n",
    "def get_thetas(word):\n",
    "    try:\n",
    "        return (np.array(Nc[word]) + a) / (N+d)\n",
    "    except:\n",
    "        return (np.array([0]*len(Nc)) + a) / (N+d)\n",
    "    \n",
    "get_thetas('happy')"
   ]
  },
  {
   "cell_type": "code",
   "execution_count": 29,
   "metadata": {},
   "outputs": [],
   "source": [
    "#The sentence for which label needs to be predicted (word tokenized from start)\n",
    "sample = ['happy', 'with', 'the', 'product']"
   ]
  },
  {
   "cell_type": "code",
   "execution_count": 30,
   "metadata": {},
   "outputs": [
    {
     "data": {
      "text/plain": [
       "array([6.25000000e-06, 1.17138692e-04])"
      ]
     },
     "execution_count": 30,
     "metadata": {},
     "output_type": "execute_result"
    }
   ],
   "source": [
    "# Calculating product of the probabilities for each word (label-wise)\n",
    "probability_product = np.product(np.array([list(get_thetas(i)) for i in sample]), axis=0)\n",
    "probability_product"
   ]
  },
  {
   "cell_type": "code",
   "execution_count": 31,
   "metadata": {},
   "outputs": [
    {
     "data": {
      "text/plain": [
       "1"
      ]
     },
     "execution_count": 31,
     "metadata": {},
     "output_type": "execute_result"
    }
   ],
   "source": [
    "#Prediction of label using argmax after multiplying the thetas with label probabilities (priors)\n",
    "np.argmax(np.multiply(label_proba, probability_product))"
   ]
  },
  {
   "cell_type": "markdown",
   "metadata": {},
   "source": [
    "The 1 here represents 'positive' label. \n",
    "\n",
    "Quite clearly, the first thing that comes to mind is that if we replace the count vectorizer with tfidf vectorizer, the words that are not so important at representing a label will get lesser weights, while improving the weights for words which actually represent the labels. In this case, words like device, experience etc each contribute to either positive or negative labels respectively. \n",
    "\n",
    "Similarly, removing stopwords and lemmatizing words will have even more impact on the accuracy of the model."
   ]
  },
  {
   "cell_type": "code",
   "execution_count": null,
   "metadata": {},
   "outputs": [],
   "source": []
  },
  {
   "cell_type": "code",
   "execution_count": null,
   "metadata": {},
   "outputs": [],
   "source": []
  },
  {
   "cell_type": "markdown",
   "metadata": {},
   "source": [
    "### Bernoulli classifier (WIP)"
   ]
  },
  {
   "cell_type": "markdown",
   "metadata": {},
   "source": [
    "## 4. Where can I read more?\n",
    "\n",
    "- https://www.youtube.com/watch?v=j9WZyLZCBzs&list=PLUl4u3cNGP61MdtwGTqZA0MreSaDybji8\n",
    "- https://scikit-learn.org/stable/modules/naive_bayes.html\n",
    "- https://en.wikipedia.org/wiki/Naive_Bayes_classifier\n",
    "- https://scikit-learn.org/stable/auto_examples/classification/plot_classifier_comparison.html\n",
    "- https://machinelearningmastery.com/naive-bayes-for-machine-learning/"
   ]
  }
 ],
 "metadata": {
  "kernelspec": {
   "display_name": "Python 3",
   "language": "python",
   "name": "python3"
  },
  "language_info": {
   "codemirror_mode": {
    "name": "ipython",
    "version": 3
   },
   "file_extension": ".py",
   "mimetype": "text/x-python",
   "name": "python",
   "nbconvert_exporter": "python",
   "pygments_lexer": "ipython3",
   "version": "3.7.3"
  }
 },
 "nbformat": 4,
 "nbformat_minor": 2
}
