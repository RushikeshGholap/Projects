{
 "cells": [
  {
   "cell_type": "markdown",
   "metadata": {},
   "source": [
    "https://www.youtube.com/watch?v=j9WZyLZCBzs&index=1&list=PLUl4u3cNGP61MdtwGTqZA0MreSaDybji8"
   ]
  },
  {
   "cell_type": "markdown",
   "metadata": {},
   "source": [
    "## Sample space $\\Omega$\n",
    "\n",
    "1. List (set) of all possible outcomes\n",
    "2. MECE -> Mutually exclusive, collectively exhaustive\n",
    "3. To be at the right granularity (Art)\n",
    "\n",
    "\n",
    "Can be either - \n",
    "- Discrete space : Can be represeted as a grid or a sequential tree.\n",
    "- Continous space : We assign P to **SUBSETS** of the continous space instead of individual outcome, because in a continous space, P of a single outcome is 0 as there are infinite possible outcomes."
   ]
  },
  {
   "cell_type": "markdown",
   "metadata": {},
   "source": [
    "## Axioms of probability\n",
    "\n",
    "- Event is a \"**SUBSET**\" of the sample space.\n",
    "- Probability is assigned to events.\n",
    "\n",
    "\n",
    "1. Non-negativity: $P(A) \\geq 0$\n",
    "2. Normalization: $P(\\Omega) \\geq 1$\n",
    "3. Additivity: $A \\cap B = \\Phi$, then $P(A \\cup B) = P(A) + P(B)$\n",
    "\n",
    "\n",
    "In terms of probability, \n",
    "- $P(A \\cap B)$ means that both event A **AND** B occured.\n",
    "- $P(A \\cup B)$ means that either event A **OR** B occured.\n",
    "\n",
    "\n",
    "Axiom 3. needs strengthening, discussed later\n",
    "\n",
    "(*Weird sets - Are subsets of a sample space which dont have any probablility assigned to them.*)"
   ]
  },
  {
   "cell_type": "markdown",
   "metadata": {},
   "source": [
    "## Probability law\n",
    "\n",
    "Every probability model ever - \n",
    "\n",
    "1. Setup sample space\n",
    "2. Describe the probablility law over that sample space. (E.g - Every possible outcome has P = 1/16)\n",
    "3. Someone asks you some questions about the space.\n",
    "4. You calculate..\n",
    "\n",
    "**Continous uniform law** - You can model a continous space by using the probablility law : *Probability of Event = Area covered by Event*\n",
    "\n",
    "Once you have a probability law in your hands, its only about calculation over the sample space then, whether using algebra, calculus, or any other form of mathematics"
   ]
  },
  {
   "cell_type": "markdown",
   "metadata": {},
   "source": [
    "## Countably infinite sample space\n",
    "\n",
    "Lets say we have a problem where we keep flipping a coin till we get a heads. The sample space of this is countable infinite since we could get a heads in first try, 10th try or millionth try.\n",
    "\n",
    "But lets say we get the information about the probablility law for this, $P(n) = 2^{-n}$, $n = 1,2,...$\n",
    "\n",
    "So, $P(\\{2,4,6,...\\}) = P(2)+P(4)+... = {1 \\over 2^2} + {1 \\over 2^4} + {1 \\over 2^6} + ... = {1 \\over 3}$\n",
    "\n",
    "But we assumed the equality in the above equation. Because the Axiom 3 above is being used on a continous space instead of discrete. The modification is made to the Axiom 3.\n",
    "\n",
    "3. If we have a <u>sequence of subsets (events)</u> then we can add the individual probablilities. (The focus is on the word SEQUENCE)\n",
    "\n",
    "\n",
    "**So, in more detail - If we have some disjoint events, then the probability of the union of those disjoint events is the sum of the individual disjoint events <u>ONLY IF ITS A SEQUENCE OF EVENTS.</u> So be careful about summing disjoint event probabilities in continous space.**"
   ]
  },
  {
   "cell_type": "markdown",
   "metadata": {},
   "source": [
    "Exercise - P of neither A or B occuring individually.\n",
    "\n",
    "$P(A-B) = P(A) + P(B) - 2P(A \\cap B)$ .... Standard venn diagram stuff"
   ]
  },
  {
   "cell_type": "markdown",
   "metadata": {},
   "source": [
    "## Conditional probability\n",
    "\n",
    "\n",
    "Conditional probability can be considered as a situation where we have a probability law over a sample space and we are given a new set of information. This means we need to now update our old beliefs of our outcomes.\n",
    "\n",
    "So, if we have a system where P(A only) = 3/6, P(B only) = 1/6 and P($A \\cap B$) = 2/6. And lets say someone tells us that B has occured. This means, that now the new probability of P(B) becomes 1. But, B is divided into 2 propotions - P(B only) and P($A \\cap B$) in 2:1 propotion. So now, the Probability of A give that B has occured becomes the new Probability that A and B occured in our new sample space where B had occured or P(B) = 1.\n",
    "\n",
    "So P(A) now becomes 2/3. And P(B) = 1.\n",
    "\n",
    "The formula for this is =\n",
    "\n",
    "$$P( A \\big| B) = {P(A \\cap B) \\over P(B)}$$\n",
    "\n",
    "Given that $P(B) \\neq 0$.\n",
    "\n",
    "Which means that the P that A occurs given B has occured is same as asking, what fraction of the total probability of B can A occur?.\n",
    "\n",
    "**Conditional probabilities work exactly like the normal probabilities. They use all the same axioms, but get applied in a new model where an event has already occurred. So they behave like the probability law of the new model's sample space.**\n",
    "\n",
    "Changing from a probability model to a conditional probability model due to occurance of an event is mathematically equivalent to down-scaling the probability model onto the new sample space after the event has occured.\n",
    "\n",
    "Another way of saying this is -\n",
    "\n",
    "$P(A \\cap B) = P(B)*P( A \\big| B)$\n",
    "\n",
    "The interpretation is that P(B) is the fraction of times B occurs, and out of those, there is a fraction of times that A occurs. That represents the total number of times both A and B occur together.\n",
    "\n",
    "Similarly, P(A) is the fraction of times A occurs and out of that there is a fraction of times that B occurs, which is also the same as both A and B occuring together. Therefore there is a symmetry in this interpretation."
   ]
  },
  {
   "cell_type": "markdown",
   "metadata": {},
   "source": [
    "![sequence diagram](https://www.eecs.qmul.ac.uk/~norman/papers/probability_puzzles/coin_tosses.jpg)"
   ]
  },
  {
   "cell_type": "markdown",
   "metadata": {},
   "source": [
    "### 1. Finding probability of a composite event, type $P(A \\cap B)$\n",
    "\n",
    "Multiplicative property - \n",
    "\n",
    "The conditional probabilities are best displayed on search trees, where nodes are events, and edges are probabilities. When we need to calculate the probability of an end node, we just multiply conditional probabilities of its branch.\n",
    "\n",
    "$$P(A \\cap B \\cap C) = P((A \\cap B) \\cap C) = P(A \\cap B).P(C \\big| A \\cap B) = P(A).P(B \\big| A).P(C \\big| A \\cap B)$$\n",
    "\n",
    "Interpretatation:\n",
    "- Q: How often do A,B and C occur together?\n",
    "- A: How many times does A occur? \\* How many times does B occur given A has occured? \\* How many times does C occur given both A and B has occured?"
   ]
  },
  {
   "cell_type": "markdown",
   "metadata": {},
   "source": [
    "### 2. Finding total probability of an event, type $P(B)$\n",
    "\n",
    "Total probability theorum - \n",
    "\n",
    "We have 3 scenatios A1, A2, A3 and under each B may or may not happen. So there are 3 main ways that B can happen - $(A1 \\cap B)$, $(A2 \\cap B)$, $(A2 \\cap B)$\n",
    "\n",
    "- Divide and conquer\n",
    "- Partition of sample space into A1, A2, A3\n",
    "- Have P(B|Ai), for every i (Ai can be considered as scenarios)\n",
    "- How we solve this is as following:\n",
    "\n",
    "$$ P(B) = P(A1).P(B \\big| A1) + P(A2).P(B \\big| A2) + P(A3).P(B \\big| A3) $$\n",
    "\n",
    "Note that P(A1), P(A2), P(A3) add up to 1. So this is basically a weighted average. Special case if they are equally likely, then probability of B is basically the average of the probabilities it would have in all 3 scenarios."
   ]
  },
  {
   "cell_type": "markdown",
   "metadata": {},
   "source": [
    "### 2. Inference problem, type $P(A|B)$\n",
    "\n",
    "Bayes' Rule - \n",
    "\n",
    "- Model of our scenatios = Prior probabilities (initial beliefs) - P(Ai)\n",
    "- Model of our device = P(B|Ai), measurement of how likely B is for each scenario.\n",
    "\n",
    "Then we are told an event B occured, \n",
    "\n",
    "We want to revise our P(Ai|B) based on this information.\n",
    "\n",
    "$$ P(A_i|B) = {P(A_i \\cap B) \\over P(B)} = {P(A_i).P(B|A_i) \\over P(B)} = {P(A_i).P(B|A_i) \\over \\sum\\limits_j P(A_j).P(B|A_j)} $$\n",
    "\n",
    "This formula reverses the order of conditions. Schematically, we have a model of cause and effect, we have a scenario Ai which may cause B to happen. Its modelled using probabilities P(B|Ai). What we want to do is inference, where we are told that B occurs, and want to infer whether Ai occured as well or not P(Ai|B). Given that an event was observed, how likely is it that the world was in a particular state or scenario?"
   ]
  },
  {
   "cell_type": "markdown",
   "metadata": {},
   "source": [
    "## Independence\n",
    "\n",
    "1. Occurance of A doesnt give you any information of B's occurance. $P(B|A) = P(B)$\n",
    "2. A consequence is $P(A \\cap B) = P(A).P(B)$ which is a nicer definition.\n",
    "\n",
    "**NOTE: 2 Disjoint sets of events are NOT independent events, infact they are extremely dependent because occurance of one drastically changes my believes of the probability of the other.**\n",
    "\n",
    "So the intuitively, to decide from a venn diagram if 2 sets are independent, the \"area\" of A multiplied by the \"area\" of B, must be equal to the \"area\" of $A \\cap B$. Looking at Venn diagram is never enough to judge independence of events.\n",
    "\n",
    "#### Conditional independence\n",
    "\n",
    "$$P(A \\cap B \\mid C) = P(A \\mid C).P(B \\mid C)$$\n",
    "\n",
    "But having indepence in the original model, doesnt imply independence in the conditional model.\n",
    "\n",
    "Independence of 3 events A, B, C required the probability of A and B and C equal to P of A multiplied by P of B and P of C. But it doesnt stop there. This also requires \"Pairwise independence\" to be true, meaning that A and B must be independent, B and C must be independent, C and A must be independent."
   ]
  },
  {
   "cell_type": "code",
   "execution_count": null,
   "metadata": {},
   "outputs": [],
   "source": []
  }
 ],
 "metadata": {
  "kernelspec": {
   "display_name": "Python 3",
   "language": "python",
   "name": "python3"
  },
  "language_info": {
   "codemirror_mode": {
    "name": "ipython",
    "version": 3
   },
   "file_extension": ".py",
   "mimetype": "text/x-python",
   "name": "python",
   "nbconvert_exporter": "python",
   "pygments_lexer": "ipython3",
   "version": "3.6.5"
  }
 },
 "nbformat": 4,
 "nbformat_minor": 2
}
