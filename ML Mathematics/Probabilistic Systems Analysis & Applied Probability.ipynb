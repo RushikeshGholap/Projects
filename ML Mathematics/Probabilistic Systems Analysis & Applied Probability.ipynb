{
 "cells": [
  {
   "cell_type": "markdown",
   "metadata": {},
   "source": [
    "## Sample space $\\Omega$\n",
    "\n",
    "1. List (set) of all possible outcomes\n",
    "2. MECE -> Mutually exclusive, collectively exhaustive\n",
    "3. To be at the right granularity (Art)\n",
    "\n",
    "\n",
    "Can be either - \n",
    "- Discrete space : Can be represeted as a grid or a sequential tree.\n",
    "- Continous space : We assign P to **SUBSETS** of the continous space instead of individual outcome, because in a continous space, P of a single outcome is 0 as there are infinite possible outcomes."
   ]
  },
  {
   "cell_type": "markdown",
   "metadata": {},
   "source": [
    "## Axioms of probability\n",
    "\n",
    "- Event is a \"**SUBSET**\" of the sample space.\n",
    "- Probability is assigned to events.\n",
    "\n",
    "\n",
    "1. Non-negativity: $P(A) \\geq 0$\n",
    "2. Normalization: $P(\\Omega) \\geq 1$\n",
    "3. Additivity: $A \\cap B = \\Phi$, then $P(A \\cup B) = P(A) + P(B)$\n",
    "\n",
    "\n",
    "In terms of probability, \n",
    "- $P(A \\cap B)$ means that both event A **AND** B occured.\n",
    "- $P(A \\cup B)$ means that either event A **OR** B occured.\n",
    "\n",
    "\n",
    "Axiom 3. needs strengthening\n",
    "\n",
    "(*Weird sets - Are subsets of a sample space which dont have any probablility assigned to them.*)"
   ]
  },
  {
   "cell_type": "markdown",
   "metadata": {},
   "source": [
    "## Probability law\n",
    "\n",
    "Every probability model ever - \n",
    "\n",
    "1. Setup sample space\n",
    "2. Describe the probablility law over that sample space. (E.g - Every possible outcome has P = 1/16)\n",
    "3. Someone asks you some questions about the space.\n",
    "4. You count and answer."
   ]
  },
  {
   "cell_type": "code",
   "execution_count": null,
   "metadata": {},
   "outputs": [],
   "source": []
  }
 ],
 "metadata": {
  "kernelspec": {
   "display_name": "Python 3",
   "language": "python",
   "name": "python3"
  },
  "language_info": {
   "codemirror_mode": {
    "name": "ipython",
    "version": 3
   },
   "file_extension": ".py",
   "mimetype": "text/x-python",
   "name": "python",
   "nbconvert_exporter": "python",
   "pygments_lexer": "ipython3",
   "version": "3.6.5"
  }
 },
 "nbformat": 4,
 "nbformat_minor": 2
}
