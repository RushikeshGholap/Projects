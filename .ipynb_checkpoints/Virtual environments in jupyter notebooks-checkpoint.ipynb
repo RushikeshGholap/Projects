{
 "cells": [
  {
   "cell_type": "markdown",
   "metadata": {},
   "source": [
    "# Virtual Environments"
   ]
  },
  {
   "cell_type": "markdown",
   "metadata": {},
   "source": [
    "### What is a Virtual Environment?\n",
    "\n",
    "A virtual environment is a Python environment such that the `Python interpreter`, `libraries` and `scripts` installed into it are isolated from those installed in other virtual environments, and (by default) any libraries installed in a “system” Python, i.e., one which is installed as part of your operating system.\n",
    "\n",
    "A virtual environment is a `directory tree` which contains Python executable files and other files which indicate that it is a virtual environment.\n",
    "\n",
    "Common installation tools such as `setuptools` and `pip` work as expected with virtual environments. In other words, when a virtual environment is `active` (i.e., the virtual environment’s `Python interpreter is running`), they install Python packages into the virtual environment without needing to be told to do so explicitly.\n",
    "\n",
    "### What is a python Interpreter?\n",
    "\n",
    "Python is an Interpretive language. Interpreter executes the code line by line and show the output until any error occurs otherwise executes complete code successfully."
   ]
  },
  {
   "cell_type": "markdown",
   "metadata": {},
   "source": [
    "### How to make a venv?\n",
    "\n",
    "You can make a virtual enviroment simply by navigating to the folder using `cd` where you want the virtual environment directory to exit, then writing the following - \n",
    "\n",
    "```\n",
    "$ python3 -m venv test           #CREATE: This will create a folder named test at current location\n",
    "$ source test/bin/activate       #ACTIVATE: Activating the interpreter, terminal prefix will show it\n",
    "$ which python                   #CHECK: Python interpreter path\n",
    "/Users/akshay/test/bin/python     \n",
    "\n",
    "$ python --version               #CHECK: Python version\n",
    "Python 3.8.3\n",
    "\n",
    "$ pip install ipykernel          #INSTALL: *important* Install ipykernel package to use venv in jupyter\n",
    "$ deactivate                     #DEACTIVATE: Stop the venv interpreter and go back to your default python\n",
    "```\n",
    "\n",
    "To `remove` a virtual environment, there is no special command. Just deactivate the environment, then delete the complete virtual environment folder.\n",
    "\n",
    "> NOTE: Package installations using pip need to be done from terminal after activating the venv in terminal. Using !pip in jupyter simply installs packages for system default interpreter."
   ]
  },
  {
   "cell_type": "markdown",
   "metadata": {},
   "source": [
    "##### For a Python2 virtual environment\n",
    "\n",
    "Since `venv` is only added in python3, you have to install `virtualenv` for python2 and then use that to create a virtual environment.\n",
    "\n",
    "```\n",
    "$ python2 -m pip install virtualenv  #Installing virtualenv\n",
    "$ python2 -m virtualenv py2          #Creating a virtualenv named py2\n",
    "$ source py2/bin/activate            #Activating py2\n",
    "$ which python                       #Check python interpreter path\n",
    "/Users/akshay/py2/bin/python         \n",
    "$ python --version                   #Check python version\n",
    "Python 2.7.15\n",
    "$ pip install ipykernel              #Install ipykernel to use py2 in jupyter\n",
    "$ deactivate                         #Deactivate the virtualenv\n",
    "```"
   ]
  },
  {
   "cell_type": "markdown",
   "metadata": {},
   "source": [
    "# Reflecting your python interpreters in Jupyter Notebook\n",
    "\n",
    "> NOTE - There is a way to do all of this with command line, however for sake of better understanding and lesser mistakes I prefer this direct method.\n",
    "\n",
    "Jupyter notebooks run a default interpreter (as setup during your Anaconda3 installation). This is usually also the default python that you have on your machine. In order to check default python on the system use - "
   ]
  },
  {
   "cell_type": "code",
   "execution_count": 1,
   "metadata": {},
   "outputs": [
    {
     "name": "stdout",
     "output_type": "stream",
     "text": [
      "/Users/akshay/opt/anaconda3/bin/python\r\n"
     ]
    }
   ],
   "source": [
    "!which python"
   ]
  },
  {
   "cell_type": "markdown",
   "metadata": {},
   "source": [
    "Jupyter notebook uses a connection file, that tells it which interpreter to use during runtime. This connection file however, refers to a `kernel.json`. The `kernel.json` is a file that contains information about the interpreter that is being used for a given notebook.\n",
    "\n",
    "To find the path runtime connection file, use -"
   ]
  },
  {
   "cell_type": "code",
   "execution_count": 2,
   "metadata": {},
   "outputs": [
    {
     "data": {
      "text/plain": [
       "'/Users/akshay/Library/Jupyter/runtime/kernel-b1fa5520-5ae5-431a-8768-4ab4b755829f.json'"
      ]
     },
     "execution_count": 2,
     "metadata": {},
     "output_type": "execute_result"
    }
   ],
   "source": [
    "from jupyter_client import find_connection_file\n",
    "find_connection_file()"
   ]
  },
  {
   "cell_type": "markdown",
   "metadata": {},
   "source": [
    "The path shown here needs to be modified a little to get to the `kernel.json`. This file is located in the similar folder of - `'/Users/akshay/Library/Jupyter/kernels'`"
   ]
  },
  {
   "cell_type": "code",
   "execution_count": 5,
   "metadata": {},
   "outputs": [
    {
     "name": "stdout",
     "output_type": "stream",
     "text": [
      "\u001b[34mpython3\u001b[m\u001b[m \u001b[34mtf_mac\u001b[m\u001b[m\r\n"
     ]
    }
   ],
   "source": [
    "!ls /Users/akshay/Library/Jupyter/kernels"
   ]
  },
  {
   "cell_type": "markdown",
   "metadata": {},
   "source": [
    "Here each folder is a python interpreter that can be chosen from the jupyter notebook's `Kernel > Change Kernel` menu during runtime. This lets you switch fluently between interpreters from different virtual environments."
   ]
  },
  {
   "cell_type": "code",
   "execution_count": 6,
   "metadata": {},
   "outputs": [
    {
     "name": "stdout",
     "output_type": "stream",
     "text": [
      "kernel.json    logo-32x32.png logo-64x64.png\r\n"
     ]
    }
   ],
   "source": [
    "!ls /Users/akshay/Library/Jupyter/kernels/python3"
   ]
  },
  {
   "cell_type": "code",
   "execution_count": 7,
   "metadata": {},
   "outputs": [
    {
     "name": "stdout",
     "output_type": "stream",
     "text": [
      "{7\u001b[?47h\u001b[?1h\u001b=\n",
      " \"argv\": [\n",
      "  \"/Users/akshay/opt/anaconda3/bin/python\",\n",
      "  \"-m\",\n",
      "  \"ipykernel_launcher\",\n",
      "  \"-f\",\n",
      "  \"{connection_file}\"\n",
      " ],\n",
      " \"display_name\": \"Python 3\",\n",
      " \"language\": \"python\"\n",
      "}\n",
      "\u001b[K\u001b[7m(END)\u001b[m\u001b[KLibrary/Jupyter/kernels/python3/kernel.json (END)\u001b[m\u001b[K\u0007"
     ]
    }
   ],
   "source": [
    "!less /Users/akshay/Library/Jupyter/kernels/python3/kernel.json"
   ]
  },
  {
   "cell_type": "markdown",
   "metadata": {},
   "source": [
    "As you can see, the kernel.json in the default python3 folder shows a path of `\"/Users/akshay/opt/anaconda3/bin/python\"` which is the same as what we saw from `!which python`. Also, the display name is Python 3, which is the name it will show for this interpreter in the top right corner of the notebook as well.\n",
    "\n",
    "Lets say my new venv has setup a python interpreter at location `\"/Users/akshay/tensorflow_macos_venv/bin/python\"`. I want to be able to access this interpreter and switch between the default and this one on the fly in my notebook.\n",
    "\n",
    "All I have to do is create a new folder, (any name, but preferably something similar to the display name you want for this one). In this new folder, copy the `kernel.json` from the `python3` folder and modify the path to the new path `\"/Users/akshay/tensorflow_macos_venv/bin/python\"`, and the display name to something like `tf_mac`. \n",
    "\n",
    "Like so - "
   ]
  },
  {
   "cell_type": "code",
   "execution_count": 8,
   "metadata": {},
   "outputs": [
    {
     "name": "stdout",
     "output_type": "stream",
     "text": [
      "{7\u001b[?47h\u001b[?1h\u001b=\n",
      " \"argv\": [\n",
      "  \"/Users/akshay/tensorflow_macos_venv/bin/python\",\n",
      "  \"-m\",\n",
      "  \"ipykernel_launcher\",\n",
      "  \"-f\",\n",
      "  \"{connection_file}\"\n",
      " ],\n",
      " \"display_name\": \"tf_mac\",\n",
      " \"language\": \"python\"\n",
      "}\n",
      "\u001b[K\u001b[7m(END)\u001b[m\u001b[KLibrary/Jupyter/kernels/tf_mac/kernel.json (END)\u001b[m\u001b[K\u0007"
     ]
    }
   ],
   "source": [
    "!less /Users/akshay/Library/Jupyter/kernels/tf_mac/kernel.json"
   ]
  },
  {
   "cell_type": "markdown",
   "metadata": {},
   "source": [
    "Finally, restart your jupyter notebook and run the following to see which all interpreters the notebook is able to recognize."
   ]
  },
  {
   "cell_type": "code",
   "execution_count": 2,
   "metadata": {},
   "outputs": [
    {
     "name": "stdout",
     "output_type": "stream",
     "text": [
      "Available kernels:\r\n",
      "  py2        /Users/akshay/Library/Jupyter/kernels/py2\r\n",
      "  python3    /Users/akshay/Library/Jupyter/kernels/python3\r\n",
      "  tf_mac     /Users/akshay/Library/Jupyter/kernels/tf_mac\r\n"
     ]
    }
   ],
   "source": [
    "!jupyter kernelspec list"
   ]
  },
  {
   "cell_type": "markdown",
   "metadata": {},
   "source": [
    "Now you should also be able to go to `Kernel > Change Kernel` menu and see the option to switch between the two!\n",
    "\n",
    "So there you have it, you can how setup any new venv (python2, tensorflow, new alpha libraries, etc). Just get the interpreter location, and create a new `kernel.json` for it in the appropriate folder to get access to the interpreter on the fly."
   ]
  },
  {
   "cell_type": "markdown",
   "metadata": {},
   "source": [
    "Once you have selected a kernel from the menu (Kernel > Change Kernel), you can check the interpreter being use by using the following command - "
   ]
  },
  {
   "cell_type": "code",
   "execution_count": 3,
   "metadata": {
    "scrolled": true
   },
   "outputs": [
    {
     "data": {
      "text/plain": [
       "'/Users/akshay/tensorflow_macos_venv/bin/python'"
      ]
     },
     "execution_count": 3,
     "metadata": {},
     "output_type": "execute_result"
    }
   ],
   "source": [
    "import sys\n",
    "sys.executable"
   ]
  },
  {
   "cell_type": "code",
   "execution_count": null,
   "metadata": {},
   "outputs": [],
   "source": []
  }
 ],
 "metadata": {
  "kernelspec": {
   "display_name": "Python 3",
   "language": "python",
   "name": "python3"
  },
  "language_info": {
   "codemirror_mode": {
    "name": "ipython",
    "version": 3
   },
   "file_extension": ".py",
   "mimetype": "text/x-python",
   "name": "python",
   "nbconvert_exporter": "python",
   "pygments_lexer": "ipython3",
   "version": "3.8.3"
  }
 },
 "nbformat": 4,
 "nbformat_minor": 4
}
