{
 "cells": [
  {
   "cell_type": "markdown",
   "metadata": {
    "colab_type": "text",
    "id": "rkMZMNYtXf1Z"
   },
   "source": [
    "<img src=\"https://github.com/insaid2018/Term-1/blob/master/Images/INSAID_Full%20Logo.png?raw=true\" width=\"240\" height=\"360\" />\n",
    "\n",
    "![alt text](https://upload.wikimedia.org/wikipedia/commons/1/11/TensorFlowLogo.svg \"TensorFlow\")\n",
    "\n",
    "                                                                                                          "
   ]
  },
  {
   "cell_type": "markdown",
   "metadata": {
    "colab_type": "text",
    "id": "9QKk6hBzXf1d"
   },
   "source": [
    "### Table of Content\n",
    "\n",
    "1. [TensorFlow - Brief Introduction](#section1)<br>\n",
    "    - 1.1 [Why TensorFlow?](#section101)<br>\n",
    "    - 1.2 [How TensorFlow Works](#section102)<br>\n",
    "    - 1.3 [Few Major Applications of TensorFlow](#section103)<br>\n",
    "    - 1.4 [TensorFlow vs the Competition](#section104)<br>\n",
    "2. [\"Hello World\" - Executing TF programs using Sessions](#section2)<br>\n",
    "3. [Basics of TensorFlow - Tensors](#section3)<br>\n",
    "4. [Basics of TensorFlow - Computational Graphs](#section4)<br>\n",
    "5. [Basic Mathematical Operations on Two Tensors](#section5)<br>\n",
    "6. [Variables and Placeholders](#section6)<br>\n",
    "    - 6.1 [Variables](#section601)<br>\n",
    "    - 6.2 [Placeholders](#section602)<br>\n",
    "7. [Keras - Brief Introduction](#section7)<br>\n",
    "    - 7.1 [Why Keras?](#section701)<br>\n",
    "    - 7.2 [Keras vs TensorFlow](#section702)<br>\n",
    "8. [Brief Overview of Neural Networks](#section8)<br>\n"
   ]
  },
  {
   "cell_type": "markdown",
   "metadata": {
    "colab_type": "text",
    "collapsed": true,
    "id": "mbhTTyunXf1h"
   },
   "source": [
    "<a id=section1></a>"
   ]
  },
  {
   "cell_type": "markdown",
   "metadata": {
    "colab_type": "text",
    "id": "Vp5nsawuXf1l"
   },
   "source": [
    "## 1. TensorFlow - Brief Introduction"
   ]
  },
  {
   "cell_type": "markdown",
   "metadata": {
    "colab_type": "text",
    "id": "iGrC8j4UXf1n"
   },
   "source": [
    "Created by the __Google Brain team__, TensorFlow is an open source library for __numerical computation__ and __large-scale machine learning__.\n",
    "TensorFlow bundles together a slew of machine learning and deep learning (aka neural networking) models and algorithms.\n",
    "\n",
    "It uses __Python__ to provide a convenient __front-end API__ for building applications with the framework, while executing those applications in high-performance __C++ at the backend__ (the part you don't have to worry about)."
   ]
  },
  {
   "cell_type": "markdown",
   "metadata": {
    "colab_type": "text",
    "id": "0Y2fSOETXf1u"
   },
   "source": [
    "<a id=section101></a>"
   ]
  },
  {
   "cell_type": "markdown",
   "metadata": {
    "colab_type": "text",
    "id": "KetP-qpDXf1z"
   },
   "source": [
    "### 1.1 Why TensorFlow?"
   ]
  },
  {
   "cell_type": "markdown",
   "metadata": {
    "colab_type": "text",
    "id": "0QnxdCcrXf16"
   },
   "source": [
    "* TensorFlow is Google’s gift to the developers involved in Machine Learning. It makes the __power of Deep Learning accessible__ to the people in pursuit.\n",
    "* The single biggest benefit TensorFlow provides for machine learning development is __abstraction__. Instead of dealing with the nitty-gritty details of implementing algorithms, or figuring out proper ways to hitch the output of one function to the input of another, the developer can __focus on the overall logic__ of the application. __TensorFlow takes care of the details__ behind the scenes.\n",
    "\n",
    "The image below gives a good sense of TensorFlow pros and cons - \n",
    "<img src = \"https://raw.githubusercontent.com/insaid2018/DeepLearning/master/image/deep-learning-tensor-flow-an-intro-21-638.jpg\">\n",
    "\n",
    "                                                                                                     "
   ]
  },
  {
   "cell_type": "markdown",
   "metadata": {
    "colab_type": "text",
    "id": "I1yYIWWaXf18"
   },
   "source": [
    "<a id=section102></a>"
   ]
  },
  {
   "cell_type": "markdown",
   "metadata": {
    "colab_type": "text",
    "id": "hsV6mtRUXf1_"
   },
   "source": [
    "### 1.2 How TensorFlow Works"
   ]
  },
  {
   "cell_type": "markdown",
   "metadata": {
    "colab_type": "text",
    "id": "_gfAoyNNXf2C"
   },
   "source": [
    "* TensorFlow provides __computational efficiency__ for the programmer by way of the Python language. Python is easy to learn and work with, and provides convenient ways to express how __high-level abstractions can be coupled__ together.\n",
    "\n",
    "* The actual math operations, however, are not performed in Python. The __libraries of transformations__ that are available through TensorFlow are written as __high-performance C++ binaries__. Python just directs traffic between the pieces, and provides high-level programming abstractions to hook them together.\n",
    "\n",
    "* TensorFlow __applications can be run on almost any target__ that’s convenient: a local machine, a cluster in the cloud, iOS and Android devices, CPUs or GPUs. If you use __Google’s own cloud__, you can run TensorFlow on __Google’s custom TensorFlow Processing Unit (TPU)__ silicon for further acceleration. \n",
    "\n",
    "* The resulting models created by TensorFlow __can be deployed on most any device__ where they will be used to serve predictions."
   ]
  },
  {
   "cell_type": "markdown",
   "metadata": {
    "colab_type": "text",
    "id": "4fI0KAZ4Xf2I"
   },
   "source": [
    "<a id=section103></a>"
   ]
  },
  {
   "cell_type": "markdown",
   "metadata": {
    "colab_type": "text",
    "id": "ZQinN-E-Xf2K"
   },
   "source": [
    "### 1.3 Few Major Applications of TensorFlow"
   ]
  },
  {
   "cell_type": "markdown",
   "metadata": {
    "colab_type": "text",
    "id": "kyFjHIqwXf2M"
   },
   "source": [
    "When it comes to Deep Learning, TensorFlow has __gained much more momentum__ than its competitors – Caffe, Theano, Torch, and other well-known frameworks. TensorFlow is extensively used in __voice recognition__, __Google Translate, image recognition, and video detection.__\n",
    "\n",
    "<img src=\"https://raw.githubusercontent.com/insaid2018/DeepLearning/master/image/banayihai.png\">\n",
    "\n",
    "Some of the major applications of TensorFlow are:\n",
    "\n",
    "* Tensorflow has been successfully implemented in __DeepDream – the surreal image generator software__ – uses TensorFlow.\n",
    "\n",
    "* Google’s __RankBrain, its search engine algorithm__, backed by TensorFlow, handles a substantial number of queries every minute and has effectively replaced the traditional static algorithm-based search.\n",
    "\n",
    "* If you’ve used the __Allo application__, you must’ve seen a feature similar to Google’s Inbox – you can reply to the last message from a few customized options thanks to TensorFlow. Another feature analyses the images sent to you in order to suggest a relevant response.\n",
    "\n",
    "<img src=\"https://raw.githubusercontent.com/insaid2018/DeepLearning/master/image/2.jpg\">\n",
    "                                                                                               \n",
    "                                                                                                 "
   ]
  },
  {
   "cell_type": "markdown",
   "metadata": {
    "colab_type": "text",
    "id": "YUAibpLwXf2P"
   },
   "source": [
    "<a id=section104></a>"
   ]
  },
  {
   "cell_type": "markdown",
   "metadata": {
    "colab_type": "text",
    "id": "fQyM7lKzXf2S"
   },
   "source": [
    "### 1.4 TensorFlow vs the Competition"
   ]
  },
  {
   "cell_type": "markdown",
   "metadata": {
    "colab_type": "text",
    "id": "80M-eL_sXf2V"
   },
   "source": [
    "<img src=\"images/pytorch-logo-flat-300x210.png\" style=\"width: 200px\" align=\"right\"/>\n",
    "TensorFlow competes with a __slew of other machine learning frameworks__. __PyTorch, CNTK, and MXNet__ are three major frameworks that address many of the same needs.\n",
    "\n",
    "* __PyTorch__, in addition to being built with Python, and __has many other similarities to TensorFlow__: __hardware-accelerated components__ under the hood, a __highly interactive development model__ that allows for __design-as-you-go work__, and many useful components already included.\n",
    "<img src=\"images/4db54f51ddc418d6ead32919ea3b7326.png\" style=\"width: 100px; height=100px;\" align=\"right\"/>\n",
    "\n",
    "* __CNTK__, the __Microsoft Cognitive Toolkit__, like TensorFlow __uses a graph structure to describe dataflow__, but focuses most on creating deep learning neural networks. CNTK __handles many neural network jobs faster, and has a broader set of APIs__ (Python, C++, C#, Java). But CNTK __isn’t currently as easy to learn or deploy__ as TensorFlow.\n",
    "\n",
    "<img src=\"images/mxnet_logo_2.png\" style=\"width: 100px\" align=\"right\"/>\n",
    "* __Apache MXNet__, adopted by Amazon as __the premier deep learning framework on AWS__, can scale almost linearly across multiple GPUs and multiple machines. It also supports a __broad range of language APIs__—Python, C++, Scala, R, JavaScript, Julia, Perl, Go—although its __native APIs aren’t as pleasant to work with__ as TensorFlow’s.\n",
    "\n",
    "<img src=\"https://raw.githubusercontent.com/insaid2018/DeepLearning/master/image/1_8HgSXEqVD9vqbzzOZsAdcA.png\" style=\"width: 600px\" align=\"right\"/>\n"
   ]
  },
  {
   "cell_type": "markdown",
   "metadata": {
    "colab_type": "text",
    "id": "68WtWcCMXf2X"
   },
   "source": [
    "<a id=section2></a>"
   ]
  },
  {
   "cell_type": "markdown",
   "metadata": {
    "colab_type": "text",
    "id": "L89aBC0CXf2b"
   },
   "source": [
    "## 2. \"Hello World\" - Executing TF programs using Session"
   ]
  },
  {
   "cell_type": "markdown",
   "metadata": {
    "colab_type": "text",
    "id": "naQOO9w6Xf2d"
   },
   "source": [
    "<img src=\"https://raw.githubusercontent.com/insaid2018/DeepLearning/master/image/1_0KFB17_NGTPB0XWyc4BSgQ.jpeg\" style=\"width: 600px;\"/>\n",
    "\n",
    "                                                                                     \n",
    "\n",
    "## To start with, let's import tensorflow - "
   ]
  },
  {
   "cell_type": "markdown",
   "metadata": {
    "colab_type": "text",
    "id": "FDnIr7dwXf2g"
   },
   "source": [
    "#### Step 1: Import tensorflow library"
   ]
  },
  {
   "cell_type": "code",
   "execution_count": 1,
   "metadata": {
    "colab": {},
    "colab_type": "code",
    "id": "yIdolsHtXf2k",
    "outputId": "508687cd-c013-4a84-abb7-e8976b2eea65"
   },
   "outputs": [],
   "source": [
    "import tensorflow as tf"
   ]
  },
  {
   "cell_type": "markdown",
   "metadata": {
    "colab_type": "text",
    "id": "BYb87D61Xf2u"
   },
   "source": [
    "#### Step 2: Define a constant"
   ]
  },
  {
   "cell_type": "code",
   "execution_count": 2,
   "metadata": {
    "colab": {},
    "colab_type": "code",
    "id": "z5CtJBRgXf2w"
   },
   "outputs": [],
   "source": [
    "hello_constant = tf.constant('Hello World!')"
   ]
  },
  {
   "cell_type": "markdown",
   "metadata": {
    "colab_type": "text",
    "id": "yztcuZivXf22"
   },
   "source": [
    "#### Step 3: Initiate a session"
   ]
  },
  {
   "cell_type": "markdown",
   "metadata": {
    "colab_type": "text",
    "id": "gwKBK8r2Xf24"
   },
   "source": [
    "To do any computation, we need to __start a session__ in which the computations will take place. The following code creates a new session:"
   ]
  },
  {
   "cell_type": "code",
   "execution_count": 3,
   "metadata": {
    "colab": {},
    "colab_type": "code",
    "id": "ZA_4rXvTXf26"
   },
   "outputs": [],
   "source": [
    "sess = tf.Session()"
   ]
  },
  {
   "cell_type": "markdown",
   "metadata": {
    "colab_type": "text",
    "id": "XDED1ynyXf2_"
   },
   "source": [
    "* TensorFlow’s api is built around the __idea of a computational graph__, a way of visualizing a mathematical process.\n",
    "\n",
    "* Running a session and __evaluating a matrix (technically, a tensor).__\n",
    "\n",
    "The code *creates a session instance*, sess, using `tf.Session()`. The `sess.run()` function then *evaluates the tensor and returns the results*. Once you have a session open, `sess.run()` will evaluate the given expression and return the result of the computation."
   ]
  },
  {
   "cell_type": "markdown",
   "metadata": {
    "colab_type": "text",
    "id": "CFw4qEiSXf3C"
   },
   "source": [
    "#### Step 4: Run the session"
   ]
  },
  {
   "cell_type": "markdown",
   "metadata": {
    "colab_type": "text",
    "id": "L5YCvx_BXf3Q"
   },
   "source": [
    "We can run the session to execute the program, this returns the value of any variables or constants that we pass into `sess.run()`."
   ]
  },
  {
   "cell_type": "code",
   "execution_count": 4,
   "metadata": {
    "colab": {},
    "colab_type": "code",
    "id": "PUcDjs4BXf3S",
    "outputId": "3081f71c-ccf4-42c1-e8e9-903d640a77e1"
   },
   "outputs": [
    {
     "name": "stdout",
     "output_type": "stream",
     "text": [
      "b'Hello World!'\n"
     ]
    }
   ],
   "source": [
    "print(sess.run(hello_constant))"
   ]
  },
  {
   "cell_type": "markdown",
   "metadata": {
    "colab_type": "text",
    "id": "GqtipvNTXf3g"
   },
   "source": [
    "Confused by the additional 'b'? That just means it is a byte string. Since we won't be printing strings often, this is not something to be concerned about."
   ]
  },
  {
   "cell_type": "markdown",
   "metadata": {
    "colab_type": "text",
    "id": "MdxDggE8Xf3i"
   },
   "source": [
    "#### Step 5: Close the session"
   ]
  },
  {
   "cell_type": "code",
   "execution_count": 5,
   "metadata": {
    "colab": {},
    "colab_type": "code",
    "id": "CjiLRDoqXf3l"
   },
   "outputs": [],
   "source": [
    "sess.close()"
   ]
  },
  {
   "cell_type": "markdown",
   "metadata": {
    "colab_type": "text",
    "id": "s66s0NjVXf3s"
   },
   "source": [
    "The complete code can be seen as - \n",
    "\n",
    "```import tensorflow as tf\n",
    "hello_constant = tf.constant('Hello World!')\n",
    "sess = tf.Session()\n",
    "print(sess.run(hello_constant))\n",
    "sess.close()\n",
    "```\n",
    "\n",
    "This code *creates a Session object* (assigned to sess), and then (the 3rd line) invokes its *run method to print the string*. This means that it __only runs that part of the graph which is necessary__ to get the value of `hello_constant`. \n",
    "\n",
    "Remember to close the session at the end of the session. That is done using the last line in the above code."
   ]
  },
  {
   "cell_type": "markdown",
   "metadata": {
    "colab_type": "text",
    "id": "RoHpwnaAXf3u"
   },
   "source": [
    "*__Alternate Approach__* - The __following code__ does the same thing and __is more commonly used__. The only difference is that there is __no need to close the session at the end__ as it gets closed automatically."
   ]
  },
  {
   "cell_type": "code",
   "execution_count": 6,
   "metadata": {
    "colab": {},
    "colab_type": "code",
    "id": "Gp63Qk9-Xf3w",
    "outputId": "c7e8f761-dd9c-4fa7-a1f2-04aca7de547a"
   },
   "outputs": [
    {
     "name": "stdout",
     "output_type": "stream",
     "text": [
      "b'Hello World!'\n"
     ]
    }
   ],
   "source": [
    "# Create TensorFlow object called hello_constant\n",
    "hello_constant = tf.constant('Hello World!')\n",
    "with tf.Session() as sess:\n",
    "    # Run the tf.constant operation in the session\n",
    "    output = sess.run(hello_constant)\n",
    "    print(output)"
   ]
  },
  {
   "cell_type": "markdown",
   "metadata": {
    "colab_type": "text",
    "id": "D2VSNEx4Xf30"
   },
   "source": [
    "Congrats! You have officially started with deep learning!"
   ]
  },
  {
   "cell_type": "markdown",
   "metadata": {
    "colab_type": "text",
    "id": "yOMsoA38Xf31"
   },
   "source": [
    "<img src=\"https://raw.githubusercontent.com/insaid2018/DeepLearning/master/image/by-the-power-of-tensorflow.jpg\">\n",
    "\n",
    "                                                                                                   "
   ]
  },
  {
   "cell_type": "markdown",
   "metadata": {
    "colab_type": "text",
    "id": "3k52I3RmXf34"
   },
   "source": [
    "<a id=section3></a>"
   ]
  },
  {
   "cell_type": "markdown",
   "metadata": {
    "colab_type": "text",
    "id": "CkiyQmkpXf35"
   },
   "source": [
    "## 3. Basics of TensorFlow - Tensors"
   ]
  },
  {
   "cell_type": "markdown",
   "metadata": {
    "colab_type": "text",
    "id": "4HZmp110Xf38"
   },
   "source": [
    "* TensorFlow programs use a data structure called __tensor to represent all the data__. Any type of data you plan to use for your model can be stored in Tensors. \n",
    "* Simply put, a __tensor is a multi-dimensional array__ (0-D tensor: scalar, 1-D tensor: vector, 2-D tensor: matrix, and so on). Hence, __TensorFlow is simply referring to the flow of the Tensors__ in the computational graph.\n",
    "<img src=\"https://raw.githubusercontent.com/insaid2018/DeepLearning/master/image/1_Wv9adjSwmgl4wLE7lSTRIw.png\">\n",
    "                                                                                                    \n",
    "                                                                                               \n",
    "\n",
    "Now, let's make a few tensors. If we pass a Python list to TensorFlow, it converts it into an tensor of appropriate type.\n",
    "We use `tf.constant` to hold constant values (including tensors). Try *experimenting with the output by replacing the parameter to `sees.run()` with different tensors.*"
   ]
  },
  {
   "cell_type": "code",
   "execution_count": 7,
   "metadata": {
    "colab": {},
    "colab_type": "code",
    "id": "b4ONziqMXf39",
    "outputId": "40d74007-eef1-4936-9d3e-44254c118ac2"
   },
   "outputs": [
    {
     "name": "stdout",
     "output_type": "stream",
     "text": [
      "1\n"
     ]
    }
   ],
   "source": [
    "# We can create constants in TF to hold specific values, like tensors\n",
    "a = tf.constant(1)                                                 #scalar\n",
    "b = tf.constant(2)                                                 #scalar\n",
    "A = tf.constant(1234)                                              #scalar\n",
    "\n",
    "# B is a 1-dimensional integer tensor of shape 1x3\n",
    "B = tf.constant([123,456,789]) #...................................vector\n",
    "\n",
    "# C is a 2-dimensional integer tensor of shape 2x3\n",
    "C = tf.constant([ [123,456,789], [222,333,444] ]) #................matrix\n",
    "\n",
    "with tf.Session() as sess:\n",
    "    # Run the tf.constant operation in the session\n",
    "    output = sess.run(a)\n",
    "    print(output)"
   ]
  },
  {
   "cell_type": "markdown",
   "metadata": {
    "colab_type": "text",
    "id": "KztNkuqaXf4D"
   },
   "source": [
    "<a id=section4></a>"
   ]
  },
  {
   "cell_type": "markdown",
   "metadata": {
    "colab_type": "text",
    "id": "cIA26Z9FXf4D"
   },
   "source": [
    "## 4. Basics of TensorFlow - Computational Graphs"
   ]
  },
  {
   "cell_type": "markdown",
   "metadata": {
    "colab_type": "text",
    "id": "fPvnK8WiXf4F"
   },
   "source": [
    "The biggest idea about Tensorflow is that all the numerical computations are expressed as a computational graph. In other words, the backbone of any Tensorflow program is a __Graph__. \n",
    "\n",
    "* Anything that happens in your model is represented by the computational graph. This makes it, the to go place for anything related to your model. \n",
    "* Quoted from the TensorFlow website, \"A __computational graph__ (or graph in short) is a series of TensorFlow operations arranged into a graph of nodes\". Basically, it means a graph is just an arrangement of nodes that represent the operations in your model. \n",
    "\n",
    "So first let's see what does a node and operation mean? The best way to explain it is by looking at a simple example. Suppose we want to write the code for function $f(x,y)=x^2y+y+2$. The Graph in TensorFlow will be something like:\n",
    "<img src=\"https://raw.githubusercontent.com/insaid2018/DeepLearning/master/image/1_2.png\">\n",
    "* Graphs are composed of a __series of nodes connected__ to each other __by edges__ (from the image above). \n",
    "* Each node is called op (short for operation). So we'll have __one node for each operation__; either for doing some math on tensors  or generating tensors. \n",
    "* Each __node takes zero or more tensors as inputs__ and produces a __tensor as an output__."
   ]
  },
  {
   "cell_type": "markdown",
   "metadata": {
    "colab_type": "text",
    "id": "ywYJ6L6UXf4F"
   },
   "source": [
    "Have a look at the flow of a high level TensorFlow graph - \n",
    "<img src=\"https://raw.githubusercontent.com/insaid2018/DeepLearning/master/image/tf%20graph.gif\"/>\n",
    "\n",
    "                                                A high level TensorFlow graph                    \n",
    "\n",
    "But we don't need to deal with it right now, for starters, let's build a simple computational graph."
   ]
  },
  {
   "cell_type": "code",
   "execution_count": 8,
   "metadata": {
    "colab": {},
    "colab_type": "code",
    "id": "ysZxamQPXf4G",
    "outputId": "b30d1061-05e3-48de-b363-e93a08293ad2"
   },
   "outputs": [
    {
     "name": "stdout",
     "output_type": "stream",
     "text": [
      "Tensor(\"Add:0\", shape=(), dtype=int32)\n"
     ]
    }
   ],
   "source": [
    "a = 2\n",
    "b = 3\n",
    "c = tf.add(a, b, name='Add')\n",
    "print(c)"
   ]
  },
  {
   "cell_type": "markdown",
   "metadata": {
    "colab_type": "text",
    "id": "UG9akf26Xf4K"
   },
   "source": [
    "This is the graph generated by the code ->\n",
    "<img src=\"https://raw.githubusercontent.com/insaid2018/DeepLearning/master/image/1_3.png\">\n",
    "__Left__: generated graph visualized in Tensorboard, __Right__: generated variables (screenshot captured in debug mode in PyCharm code debugger)\n",
    "\n",
    "The graph is made using Tensorboard which we will cover later on.\n",
    "\n",
    "* This code __prints out the Tensor information but not the result (2+3=5)__. Why?!\n",
    "\n",
    "* In TensorFlow, first step is always to create a graph and __to actually evaluate the nodes, we must run the computational graph within a Session.__\n",
    "* TensorFlow does __not execute the graph unless it is specified__ to do so with a session. \n",
    "* Hence, to __assign these values__ and __make them flow through the graph, we need to create and run a session.__\n",
    "\n",
    "Therefore a TensorFlow Graph is something like a function definition in Python. It WILL NOT do any computation for you (just like a function definition will not have any execution result). It ONLY defines computation operations.\n",
    "\n",
    "To execute the program, we again use session - "
   ]
  },
  {
   "cell_type": "code",
   "execution_count": 9,
   "metadata": {
    "colab": {},
    "colab_type": "code",
    "id": "1WMrwLcdXf4L",
    "outputId": "1c34d88b-7cbc-47bd-9f9c-98f9cc0a5c9c"
   },
   "outputs": [
    {
     "name": "stdout",
     "output_type": "stream",
     "text": [
      "5\n"
     ]
    }
   ],
   "source": [
    "with tf.Session() as sess:\n",
    "    print(sess.run(c))"
   ]
  },
  {
   "cell_type": "markdown",
   "metadata": {
    "colab_type": "text",
    "id": "CYW15EB5Xf4Q"
   },
   "source": [
    "Now, we get the desired output. \n",
    "\n",
    "If you are feeling like this - "
   ]
  },
  {
   "cell_type": "markdown",
   "metadata": {
    "colab_type": "text",
    "id": "QvlqCqhCXf4S"
   },
   "source": [
    "<img src=\"https://raw.githubusercontent.com/insaid2018/DeepLearning/master/image/ZdmhJop.jpg\"/>\n",
    "\n",
    "                                                                                                            "
   ]
  },
  {
   "cell_type": "markdown",
   "metadata": {
    "colab_type": "text",
    "id": "N9JQ293eXf4S"
   },
   "source": [
    "Don't worry, things will soon start to fall into place!"
   ]
  },
  {
   "cell_type": "markdown",
   "metadata": {
    "colab_type": "text",
    "id": "13FYP8w3Xf4T"
   },
   "source": [
    "<a id=section5></a>"
   ]
  },
  {
   "cell_type": "markdown",
   "metadata": {
    "colab_type": "text",
    "id": "EV3WqhtiXf4V"
   },
   "source": [
    "## 5. Basic Mathematical Operations on Two Tensors"
   ]
  },
  {
   "cell_type": "markdown",
   "metadata": {
    "colab_type": "text",
    "id": "D9_jZAcYXf4W"
   },
   "source": [
    "Let's create a graph with multiple math operations - "
   ]
  },
  {
   "cell_type": "code",
   "execution_count": 10,
   "metadata": {
    "colab": {},
    "colab_type": "code",
    "id": "MScmOUq9Xf4Y"
   },
   "outputs": [
    {
     "name": "stdout",
     "output_type": "stream",
     "text": [
      "15625 10\n"
     ]
    }
   ],
   "source": [
    "import tensorflow as tf\n",
    "x = 2\n",
    "y = 3\n",
    "add_op = tf.add(x, y, name='Add') #.............................................. 2+3=5\n",
    "mul_op = tf.multiply(x, y, name='Multiply') #.................................... 2*3=6\n",
    "pow_op = tf.pow(add_op, mul_op, name='Power') #.................................. 5^6=15625\n",
    "useless_op = tf.multiply(x, add_op, name='Useless') #............................ 2 * (2+3) = 10 \n",
    "\n",
    "with tf.Session() as sess:\n",
    "    pow_out, useless_out = sess.run([pow_op, useless_op])\n",
    "    print (pow_out,useless_out)"
   ]
  },
  {
   "cell_type": "markdown",
   "metadata": {
    "colab_type": "text",
    "id": "nghuPDmGXf4b"
   },
   "source": [
    "The created graph and the defined variables (Tensors and Python variables) are\n",
    "Left: generated graph visualized in Tensorboard, Right: generated variables (screenshot captured from PyCharm debugger when running in debug mode)\n",
    "\n",
    "We can also perform these operations on higher dimensional tensors. We only need to ensure that the __dimensions of the tensors are compatible__, for instance, in matrix multiplication of 2D tensor (matrix), we need dimensions to be n1 x __n2 & n2__ x n3."
   ]
  },
  {
   "cell_type": "markdown",
   "metadata": {
    "colab_type": "text",
    "id": "1FNiPVQ-Xf4c"
   },
   "source": [
    "<img src=\"https://raw.githubusercontent.com/insaid2018/DeepLearning/master/image/Matrix%2BMultiplication.jpg\"/>\n",
    "\n",
    "                                                                                                     "
   ]
  },
  {
   "cell_type": "markdown",
   "metadata": {
    "colab_type": "text",
    "id": "DR2d0-GuXf4e"
   },
   "source": [
    "Let's try doing the same multiplication via TensorFlow sessions - "
   ]
  },
  {
   "cell_type": "code",
   "execution_count": 11,
   "metadata": {
    "colab": {},
    "colab_type": "code",
    "id": "X4szrBnBXf4e",
    "outputId": "1ba6fdd0-269d-4e2c-d3ab-4f74704c3117",
    "scrolled": false
   },
   "outputs": [
    {
     "name": "stdout",
     "output_type": "stream",
     "text": [
      "[array([[ 11,   8, -15],\n",
      "       [ 13,  34, -30],\n",
      "       [-12, -46,  35]], dtype=int32)]\n"
     ]
    }
   ],
   "source": [
    "A = tf.constant([ [2,3],[-5,6],[9,-7] ]) #.................... 3 x 2 matrix above\n",
    "B = tf.constant([ [1,-2,0],[3,4,-5] ]) #...................... 2 x 3 matrix above\n",
    "matmul_op = tf.matmul(A, B, name='Matmul') #.................. the 3x3 matrix from the image above\n",
    "\n",
    "with tf.Session() as sess:\n",
    "    matmul_out = sess.run([matmul_op])\n",
    "    print (matmul_out)"
   ]
  },
  {
   "cell_type": "markdown",
   "metadata": {
    "colab_type": "text",
    "id": "EU8P8RVmXf4h"
   },
   "source": [
    "Let's try a random calculation now. Feel free to change the values, or even add another operation as seen at the [start of this exercise](#section5)<br>\n"
   ]
  },
  {
   "cell_type": "code",
   "execution_count": 12,
   "metadata": {
    "colab": {},
    "colab_type": "code",
    "id": "3hjb4kUrXf4i",
    "outputId": "c0ae8893-9f65-4ee6-9291-28f43022953b"
   },
   "outputs": [
    {
     "name": "stdout",
     "output_type": "stream",
     "text": [
      "[array([[    4,     0,     1],\n",
      "       [    9,     9, 99995]], dtype=int32)]\n",
      "[array([[     17,       5],\n",
      "       [ 899928, -699884]], dtype=int32)]\n"
     ]
    }
   ],
   "source": [
    "A = tf.constant([ [1,-2,0],[3,4,-5] ]) #...................... 2 x 3 matrix above\n",
    "B = tf.constant([ [3,2,1],[6,5,100000] ]) #................... 2 x 3 matrix (random)\n",
    "C = tf.constant([ [2,3],[-5,6],[9,-7] ]) #.................... 3 x 2 matrix above\n",
    "\n",
    "add_op = tf.add(A, B, name='Add') #........................... 2 x 3 resultant matrix\n",
    "matmul_op = tf.matmul(add_op, C, name='Matmul') #............. 2 x 3 matrix (X) 3 x 2 matrix = 2 x 2 resultant matrix\n",
    "\n",
    "with tf.Session() as sess:\n",
    "    add_out = sess.run([add_op])\n",
    "    matmul_out = sess.run([matmul_op])\n",
    "    print (add_out)\n",
    "    print (matmul_out)"
   ]
  },
  {
   "cell_type": "markdown",
   "metadata": {
    "colab_type": "text",
    "id": "-zLZcZOyXf4l"
   },
   "source": [
    "<a id=section6></a>"
   ]
  },
  {
   "cell_type": "markdown",
   "metadata": {
    "colab_type": "text",
    "id": "b-J_nfFMXf4l"
   },
   "source": [
    "## 6. Variables and Placeholders"
   ]
  },
  {
   "cell_type": "markdown",
   "metadata": {
    "colab_type": "text",
    "id": "AIiDXKKoXf4m"
   },
   "source": [
    "<a id=section601></a>"
   ]
  },
  {
   "cell_type": "markdown",
   "metadata": {
    "colab_type": "text",
    "id": "02H8MHDrXf4p"
   },
   "source": [
    "### 6.1 Variables"
   ]
  },
  {
   "cell_type": "markdown",
   "metadata": {
    "colab_type": "text",
    "id": "MNxMv1khXf4p"
   },
   "source": [
    "* Just like most programming languages, Variables need to be initialized before being used. \n",
    "* TensorFlow, while not being a language, is no exception to this rule. To initialize variables, we have to invoke a __variable initializer operation__ and run the operation on the session. \n",
    "* This is the easiest way to __initialize variables all variables at once.__\n",
    "\n",
    "The following toy example shows how we can add an op to initialize the variables."
   ]
  },
  {
   "cell_type": "code",
   "execution_count": 13,
   "metadata": {
    "colab": {},
    "colab_type": "code",
    "id": "wlf39B9eXf4q",
    "outputId": "c14f0ab8-4513-4561-dd27-c88bddc518ba"
   },
   "outputs": [
    {
     "name": "stdout",
     "output_type": "stream",
     "text": [
      "WARNING:tensorflow:From /Users/akshay/anaconda3/lib/python3.7/site-packages/tensorflow/python/framework/op_def_library.py:263: colocate_with (from tensorflow.python.framework.ops) is deprecated and will be removed in a future version.\n",
      "Instructions for updating:\n",
      "Colocations handled automatically by placer.\n",
      "2\n",
      "3\n",
      "5\n"
     ]
    }
   ],
   "source": [
    "# create graph\n",
    "a = tf.get_variable(name=\"A\", initializer=tf.constant(2)) #...here, ' name =\"A\" ' sets the tensorflow graph name of the constant\n",
    "b = tf.get_variable(name=\"B\", initializer=tf.constant(3))\n",
    "c = tf.add(a, b, name=\"Add\")\n",
    "# add an Op to initialize global variables\n",
    "init_op = tf.global_variables_initializer()\n",
    "\n",
    "# launch the graph in a session\n",
    "with tf.Session() as sess:\n",
    "    # run the variable initializer operation\n",
    "    sess.run(init_op)\n",
    "    # now let's evaluate their value\n",
    "    print(sess.run(a))\n",
    "    print(sess.run(b))\n",
    "    print(sess.run(c))"
   ]
  },
  {
   "cell_type": "markdown",
   "metadata": {
    "colab_type": "text",
    "id": "8LLJTAhWXf4t"
   },
   "source": [
    "Let's take a quick look at the graph and generated variables:\n",
    "<img src=\"https://raw.githubusercontent.com/insaid2018/DeepLearning/master/image/2_3.png\"/>\n",
    "The figure above shows that two blue boxes are the generated and they represent the variables. These two variables are added together using the \"Add\" operation."
   ]
  },
  {
   "cell_type": "markdown",
   "metadata": {
    "colab_type": "text",
    "id": "Y2pcWwSYXf4t"
   },
   "source": [
    "<a id=section602></a>"
   ]
  },
  {
   "cell_type": "markdown",
   "metadata": {
    "colab_type": "text",
    "id": "7czM9-SnXf4u"
   },
   "source": [
    "### 6.2 Placeholders"
   ]
  },
  {
   "cell_type": "markdown",
   "metadata": {
    "colab_type": "text",
    "id": "-86FfZnUXf4v"
   },
   "source": [
    "<img src = \"https://raw.githubusercontent.com/insaid2018/DeepLearning/master/image/ph1.png\"/>\n",
    "                                                                      \n",
    "                                                                                                           \n",
    "                                           A low-level example of a placeholder                         \n",
    "* Placeholders are more basic than a variable. It is simply a __variable that we assign data in a future time.__ \n",
    "* They are nodes whose __value is fed in at execution time.__\n",
    "* Therefore, __placeholders don't need any initial value__; only a __datatype (such as float32) and a tensor shape__ so the graph still knows what to compute with even though it doesn't have any stored values yet.\n",
    "\n",
    "Let's try them with this example - \n",
    "Create a constant vector and a placeholder and add them together."
   ]
  },
  {
   "cell_type": "code",
   "execution_count": 14,
   "metadata": {
    "colab": {},
    "colab_type": "code",
    "id": "r-m4FM6sXf4v",
    "outputId": "b87e6166-081c-4dd0-c426-1c532150df78"
   },
   "outputs": [
    {
     "ename": "InvalidArgumentError",
     "evalue": "You must feed a value for placeholder tensor 'B_1' with dtype float and shape [3]\n\t [[node B_1 (defined at <ipython-input-14-4e5b4d10613b>:2) ]]\n\nCaused by op 'B_1', defined at:\n  File \"/Users/akshay/anaconda3/lib/python3.7/runpy.py\", line 193, in _run_module_as_main\n    \"__main__\", mod_spec)\n  File \"/Users/akshay/anaconda3/lib/python3.7/runpy.py\", line 85, in _run_code\n    exec(code, run_globals)\n  File \"/Users/akshay/anaconda3/lib/python3.7/site-packages/ipykernel_launcher.py\", line 16, in <module>\n    app.launch_new_instance()\n  File \"/Users/akshay/anaconda3/lib/python3.7/site-packages/traitlets/config/application.py\", line 658, in launch_instance\n    app.start()\n  File \"/Users/akshay/anaconda3/lib/python3.7/site-packages/ipykernel/kernelapp.py\", line 505, in start\n    self.io_loop.start()\n  File \"/Users/akshay/anaconda3/lib/python3.7/site-packages/tornado/platform/asyncio.py\", line 148, in start\n    self.asyncio_loop.run_forever()\n  File \"/Users/akshay/anaconda3/lib/python3.7/asyncio/base_events.py\", line 539, in run_forever\n    self._run_once()\n  File \"/Users/akshay/anaconda3/lib/python3.7/asyncio/base_events.py\", line 1775, in _run_once\n    handle._run()\n  File \"/Users/akshay/anaconda3/lib/python3.7/asyncio/events.py\", line 88, in _run\n    self._context.run(self._callback, *self._args)\n  File \"/Users/akshay/anaconda3/lib/python3.7/site-packages/tornado/ioloop.py\", line 690, in <lambda>\n    lambda f: self._run_callback(functools.partial(callback, future))\n  File \"/Users/akshay/anaconda3/lib/python3.7/site-packages/tornado/ioloop.py\", line 743, in _run_callback\n    ret = callback()\n  File \"/Users/akshay/anaconda3/lib/python3.7/site-packages/tornado/gen.py\", line 781, in inner\n    self.run()\n  File \"/Users/akshay/anaconda3/lib/python3.7/site-packages/tornado/gen.py\", line 742, in run\n    yielded = self.gen.send(value)\n  File \"/Users/akshay/anaconda3/lib/python3.7/site-packages/ipykernel/kernelbase.py\", line 357, in process_one\n    yield gen.maybe_future(dispatch(*args))\n  File \"/Users/akshay/anaconda3/lib/python3.7/site-packages/tornado/gen.py\", line 209, in wrapper\n    yielded = next(result)\n  File \"/Users/akshay/anaconda3/lib/python3.7/site-packages/ipykernel/kernelbase.py\", line 267, in dispatch_shell\n    yield gen.maybe_future(handler(stream, idents, msg))\n  File \"/Users/akshay/anaconda3/lib/python3.7/site-packages/tornado/gen.py\", line 209, in wrapper\n    yielded = next(result)\n  File \"/Users/akshay/anaconda3/lib/python3.7/site-packages/ipykernel/kernelbase.py\", line 534, in execute_request\n    user_expressions, allow_stdin,\n  File \"/Users/akshay/anaconda3/lib/python3.7/site-packages/tornado/gen.py\", line 209, in wrapper\n    yielded = next(result)\n  File \"/Users/akshay/anaconda3/lib/python3.7/site-packages/ipykernel/ipkernel.py\", line 294, in do_execute\n    res = shell.run_cell(code, store_history=store_history, silent=silent)\n  File \"/Users/akshay/anaconda3/lib/python3.7/site-packages/ipykernel/zmqshell.py\", line 536, in run_cell\n    return super(ZMQInteractiveShell, self).run_cell(*args, **kwargs)\n  File \"/Users/akshay/anaconda3/lib/python3.7/site-packages/IPython/core/interactiveshell.py\", line 2848, in run_cell\n    raw_cell, store_history, silent, shell_futures)\n  File \"/Users/akshay/anaconda3/lib/python3.7/site-packages/IPython/core/interactiveshell.py\", line 2874, in _run_cell\n    return runner(coro)\n  File \"/Users/akshay/anaconda3/lib/python3.7/site-packages/IPython/core/async_helpers.py\", line 67, in _pseudo_sync_runner\n    coro.send(None)\n  File \"/Users/akshay/anaconda3/lib/python3.7/site-packages/IPython/core/interactiveshell.py\", line 3049, in run_cell_async\n    interactivity=interactivity, compiler=compiler, result=result)\n  File \"/Users/akshay/anaconda3/lib/python3.7/site-packages/IPython/core/interactiveshell.py\", line 3214, in run_ast_nodes\n    if (yield from self.run_code(code, result)):\n  File \"/Users/akshay/anaconda3/lib/python3.7/site-packages/IPython/core/interactiveshell.py\", line 3296, in run_code\n    exec(code_obj, self.user_global_ns, self.user_ns)\n  File \"<ipython-input-14-4e5b4d10613b>\", line 2, in <module>\n    b = tf.placeholder(tf.float32, shape=[3], name='B')\n  File \"/Users/akshay/anaconda3/lib/python3.7/site-packages/tensorflow/python/ops/array_ops.py\", line 2077, in placeholder\n    return gen_array_ops.placeholder(dtype=dtype, shape=shape, name=name)\n  File \"/Users/akshay/anaconda3/lib/python3.7/site-packages/tensorflow/python/ops/gen_array_ops.py\", line 5791, in placeholder\n    \"Placeholder\", dtype=dtype, shape=shape, name=name)\n  File \"/Users/akshay/anaconda3/lib/python3.7/site-packages/tensorflow/python/framework/op_def_library.py\", line 788, in _apply_op_helper\n    op_def=op_def)\n  File \"/Users/akshay/anaconda3/lib/python3.7/site-packages/tensorflow/python/util/deprecation.py\", line 507, in new_func\n    return func(*args, **kwargs)\n  File \"/Users/akshay/anaconda3/lib/python3.7/site-packages/tensorflow/python/framework/ops.py\", line 3300, in create_op\n    op_def=op_def)\n  File \"/Users/akshay/anaconda3/lib/python3.7/site-packages/tensorflow/python/framework/ops.py\", line 1801, in __init__\n    self._traceback = tf_stack.extract_stack()\n\nInvalidArgumentError (see above for traceback): You must feed a value for placeholder tensor 'B_1' with dtype float and shape [3]\n\t [[node B_1 (defined at <ipython-input-14-4e5b4d10613b>:2) ]]\n",
     "output_type": "error",
     "traceback": [
      "\u001b[0;31m---------------------------------------------------------------------------\u001b[0m",
      "\u001b[0;31mInvalidArgumentError\u001b[0m                      Traceback (most recent call last)",
      "\u001b[0;32m~/anaconda3/lib/python3.7/site-packages/tensorflow/python/client/session.py\u001b[0m in \u001b[0;36m_do_call\u001b[0;34m(self, fn, *args)\u001b[0m\n\u001b[1;32m   1333\u001b[0m     \u001b[0;32mtry\u001b[0m\u001b[0;34m:\u001b[0m\u001b[0;34m\u001b[0m\u001b[0;34m\u001b[0m\u001b[0m\n\u001b[0;32m-> 1334\u001b[0;31m       \u001b[0;32mreturn\u001b[0m \u001b[0mfn\u001b[0m\u001b[0;34m(\u001b[0m\u001b[0;34m*\u001b[0m\u001b[0margs\u001b[0m\u001b[0;34m)\u001b[0m\u001b[0;34m\u001b[0m\u001b[0;34m\u001b[0m\u001b[0m\n\u001b[0m\u001b[1;32m   1335\u001b[0m     \u001b[0;32mexcept\u001b[0m \u001b[0merrors\u001b[0m\u001b[0;34m.\u001b[0m\u001b[0mOpError\u001b[0m \u001b[0;32mas\u001b[0m \u001b[0me\u001b[0m\u001b[0;34m:\u001b[0m\u001b[0;34m\u001b[0m\u001b[0;34m\u001b[0m\u001b[0m\n",
      "\u001b[0;32m~/anaconda3/lib/python3.7/site-packages/tensorflow/python/client/session.py\u001b[0m in \u001b[0;36m_run_fn\u001b[0;34m(feed_dict, fetch_list, target_list, options, run_metadata)\u001b[0m\n\u001b[1;32m   1318\u001b[0m       return self._call_tf_sessionrun(\n\u001b[0;32m-> 1319\u001b[0;31m           options, feed_dict, fetch_list, target_list, run_metadata)\n\u001b[0m\u001b[1;32m   1320\u001b[0m \u001b[0;34m\u001b[0m\u001b[0m\n",
      "\u001b[0;32m~/anaconda3/lib/python3.7/site-packages/tensorflow/python/client/session.py\u001b[0m in \u001b[0;36m_call_tf_sessionrun\u001b[0;34m(self, options, feed_dict, fetch_list, target_list, run_metadata)\u001b[0m\n\u001b[1;32m   1406\u001b[0m         \u001b[0mself\u001b[0m\u001b[0;34m.\u001b[0m\u001b[0m_session\u001b[0m\u001b[0;34m,\u001b[0m \u001b[0moptions\u001b[0m\u001b[0;34m,\u001b[0m \u001b[0mfeed_dict\u001b[0m\u001b[0;34m,\u001b[0m \u001b[0mfetch_list\u001b[0m\u001b[0;34m,\u001b[0m \u001b[0mtarget_list\u001b[0m\u001b[0;34m,\u001b[0m\u001b[0;34m\u001b[0m\u001b[0;34m\u001b[0m\u001b[0m\n\u001b[0;32m-> 1407\u001b[0;31m         run_metadata)\n\u001b[0m\u001b[1;32m   1408\u001b[0m \u001b[0;34m\u001b[0m\u001b[0m\n",
      "\u001b[0;31mInvalidArgumentError\u001b[0m: You must feed a value for placeholder tensor 'B_1' with dtype float and shape [3]\n\t [[{{node B_1}}]]",
      "\nDuring handling of the above exception, another exception occurred:\n",
      "\u001b[0;31mInvalidArgumentError\u001b[0m                      Traceback (most recent call last)",
      "\u001b[0;32m<ipython-input-14-4e5b4d10613b>\u001b[0m in \u001b[0;36m<module>\u001b[0;34m\u001b[0m\n\u001b[1;32m      4\u001b[0m \u001b[0;34m\u001b[0m\u001b[0m\n\u001b[1;32m      5\u001b[0m \u001b[0;32mwith\u001b[0m \u001b[0mtf\u001b[0m\u001b[0;34m.\u001b[0m\u001b[0mSession\u001b[0m\u001b[0;34m(\u001b[0m\u001b[0;34m)\u001b[0m \u001b[0;32mas\u001b[0m \u001b[0msess\u001b[0m\u001b[0;34m:\u001b[0m\u001b[0;34m\u001b[0m\u001b[0;34m\u001b[0m\u001b[0m\n\u001b[0;32m----> 6\u001b[0;31m       \u001b[0mprint\u001b[0m\u001b[0;34m(\u001b[0m\u001b[0msess\u001b[0m\u001b[0;34m.\u001b[0m\u001b[0mrun\u001b[0m\u001b[0;34m(\u001b[0m\u001b[0mc\u001b[0m\u001b[0;34m)\u001b[0m\u001b[0;34m)\u001b[0m\u001b[0;34m\u001b[0m\u001b[0;34m\u001b[0m\u001b[0m\n\u001b[0m",
      "\u001b[0;32m~/anaconda3/lib/python3.7/site-packages/tensorflow/python/client/session.py\u001b[0m in \u001b[0;36mrun\u001b[0;34m(self, fetches, feed_dict, options, run_metadata)\u001b[0m\n\u001b[1;32m    927\u001b[0m     \u001b[0;32mtry\u001b[0m\u001b[0;34m:\u001b[0m\u001b[0;34m\u001b[0m\u001b[0;34m\u001b[0m\u001b[0m\n\u001b[1;32m    928\u001b[0m       result = self._run(None, fetches, feed_dict, options_ptr,\n\u001b[0;32m--> 929\u001b[0;31m                          run_metadata_ptr)\n\u001b[0m\u001b[1;32m    930\u001b[0m       \u001b[0;32mif\u001b[0m \u001b[0mrun_metadata\u001b[0m\u001b[0;34m:\u001b[0m\u001b[0;34m\u001b[0m\u001b[0;34m\u001b[0m\u001b[0m\n\u001b[1;32m    931\u001b[0m         \u001b[0mproto_data\u001b[0m \u001b[0;34m=\u001b[0m \u001b[0mtf_session\u001b[0m\u001b[0;34m.\u001b[0m\u001b[0mTF_GetBuffer\u001b[0m\u001b[0;34m(\u001b[0m\u001b[0mrun_metadata_ptr\u001b[0m\u001b[0;34m)\u001b[0m\u001b[0;34m\u001b[0m\u001b[0;34m\u001b[0m\u001b[0m\n",
      "\u001b[0;32m~/anaconda3/lib/python3.7/site-packages/tensorflow/python/client/session.py\u001b[0m in \u001b[0;36m_run\u001b[0;34m(self, handle, fetches, feed_dict, options, run_metadata)\u001b[0m\n\u001b[1;32m   1150\u001b[0m     \u001b[0;32mif\u001b[0m \u001b[0mfinal_fetches\u001b[0m \u001b[0;32mor\u001b[0m \u001b[0mfinal_targets\u001b[0m \u001b[0;32mor\u001b[0m \u001b[0;34m(\u001b[0m\u001b[0mhandle\u001b[0m \u001b[0;32mand\u001b[0m \u001b[0mfeed_dict_tensor\u001b[0m\u001b[0;34m)\u001b[0m\u001b[0;34m:\u001b[0m\u001b[0;34m\u001b[0m\u001b[0;34m\u001b[0m\u001b[0m\n\u001b[1;32m   1151\u001b[0m       results = self._do_run(handle, final_targets, final_fetches,\n\u001b[0;32m-> 1152\u001b[0;31m                              feed_dict_tensor, options, run_metadata)\n\u001b[0m\u001b[1;32m   1153\u001b[0m     \u001b[0;32melse\u001b[0m\u001b[0;34m:\u001b[0m\u001b[0;34m\u001b[0m\u001b[0;34m\u001b[0m\u001b[0m\n\u001b[1;32m   1154\u001b[0m       \u001b[0mresults\u001b[0m \u001b[0;34m=\u001b[0m \u001b[0;34m[\u001b[0m\u001b[0;34m]\u001b[0m\u001b[0;34m\u001b[0m\u001b[0;34m\u001b[0m\u001b[0m\n",
      "\u001b[0;32m~/anaconda3/lib/python3.7/site-packages/tensorflow/python/client/session.py\u001b[0m in \u001b[0;36m_do_run\u001b[0;34m(self, handle, target_list, fetch_list, feed_dict, options, run_metadata)\u001b[0m\n\u001b[1;32m   1326\u001b[0m     \u001b[0;32mif\u001b[0m \u001b[0mhandle\u001b[0m \u001b[0;32mis\u001b[0m \u001b[0;32mNone\u001b[0m\u001b[0;34m:\u001b[0m\u001b[0;34m\u001b[0m\u001b[0;34m\u001b[0m\u001b[0m\n\u001b[1;32m   1327\u001b[0m       return self._do_call(_run_fn, feeds, fetches, targets, options,\n\u001b[0;32m-> 1328\u001b[0;31m                            run_metadata)\n\u001b[0m\u001b[1;32m   1329\u001b[0m     \u001b[0;32melse\u001b[0m\u001b[0;34m:\u001b[0m\u001b[0;34m\u001b[0m\u001b[0;34m\u001b[0m\u001b[0m\n\u001b[1;32m   1330\u001b[0m       \u001b[0;32mreturn\u001b[0m \u001b[0mself\u001b[0m\u001b[0;34m.\u001b[0m\u001b[0m_do_call\u001b[0m\u001b[0;34m(\u001b[0m\u001b[0m_prun_fn\u001b[0m\u001b[0;34m,\u001b[0m \u001b[0mhandle\u001b[0m\u001b[0;34m,\u001b[0m \u001b[0mfeeds\u001b[0m\u001b[0;34m,\u001b[0m \u001b[0mfetches\u001b[0m\u001b[0;34m)\u001b[0m\u001b[0;34m\u001b[0m\u001b[0;34m\u001b[0m\u001b[0m\n",
      "\u001b[0;32m~/anaconda3/lib/python3.7/site-packages/tensorflow/python/client/session.py\u001b[0m in \u001b[0;36m_do_call\u001b[0;34m(self, fn, *args)\u001b[0m\n\u001b[1;32m   1346\u001b[0m           \u001b[0;32mpass\u001b[0m\u001b[0;34m\u001b[0m\u001b[0;34m\u001b[0m\u001b[0m\n\u001b[1;32m   1347\u001b[0m       \u001b[0mmessage\u001b[0m \u001b[0;34m=\u001b[0m \u001b[0merror_interpolation\u001b[0m\u001b[0;34m.\u001b[0m\u001b[0minterpolate\u001b[0m\u001b[0;34m(\u001b[0m\u001b[0mmessage\u001b[0m\u001b[0;34m,\u001b[0m \u001b[0mself\u001b[0m\u001b[0;34m.\u001b[0m\u001b[0m_graph\u001b[0m\u001b[0;34m)\u001b[0m\u001b[0;34m\u001b[0m\u001b[0;34m\u001b[0m\u001b[0m\n\u001b[0;32m-> 1348\u001b[0;31m       \u001b[0;32mraise\u001b[0m \u001b[0mtype\u001b[0m\u001b[0;34m(\u001b[0m\u001b[0me\u001b[0m\u001b[0;34m)\u001b[0m\u001b[0;34m(\u001b[0m\u001b[0mnode_def\u001b[0m\u001b[0;34m,\u001b[0m \u001b[0mop\u001b[0m\u001b[0;34m,\u001b[0m \u001b[0mmessage\u001b[0m\u001b[0;34m)\u001b[0m\u001b[0;34m\u001b[0m\u001b[0;34m\u001b[0m\u001b[0m\n\u001b[0m\u001b[1;32m   1349\u001b[0m \u001b[0;34m\u001b[0m\u001b[0m\n\u001b[1;32m   1350\u001b[0m   \u001b[0;32mdef\u001b[0m \u001b[0m_extend_graph\u001b[0m\u001b[0;34m(\u001b[0m\u001b[0mself\u001b[0m\u001b[0;34m)\u001b[0m\u001b[0;34m:\u001b[0m\u001b[0;34m\u001b[0m\u001b[0;34m\u001b[0m\u001b[0m\n",
      "\u001b[0;31mInvalidArgumentError\u001b[0m: You must feed a value for placeholder tensor 'B_1' with dtype float and shape [3]\n\t [[node B_1 (defined at <ipython-input-14-4e5b4d10613b>:2) ]]\n\nCaused by op 'B_1', defined at:\n  File \"/Users/akshay/anaconda3/lib/python3.7/runpy.py\", line 193, in _run_module_as_main\n    \"__main__\", mod_spec)\n  File \"/Users/akshay/anaconda3/lib/python3.7/runpy.py\", line 85, in _run_code\n    exec(code, run_globals)\n  File \"/Users/akshay/anaconda3/lib/python3.7/site-packages/ipykernel_launcher.py\", line 16, in <module>\n    app.launch_new_instance()\n  File \"/Users/akshay/anaconda3/lib/python3.7/site-packages/traitlets/config/application.py\", line 658, in launch_instance\n    app.start()\n  File \"/Users/akshay/anaconda3/lib/python3.7/site-packages/ipykernel/kernelapp.py\", line 505, in start\n    self.io_loop.start()\n  File \"/Users/akshay/anaconda3/lib/python3.7/site-packages/tornado/platform/asyncio.py\", line 148, in start\n    self.asyncio_loop.run_forever()\n  File \"/Users/akshay/anaconda3/lib/python3.7/asyncio/base_events.py\", line 539, in run_forever\n    self._run_once()\n  File \"/Users/akshay/anaconda3/lib/python3.7/asyncio/base_events.py\", line 1775, in _run_once\n    handle._run()\n  File \"/Users/akshay/anaconda3/lib/python3.7/asyncio/events.py\", line 88, in _run\n    self._context.run(self._callback, *self._args)\n  File \"/Users/akshay/anaconda3/lib/python3.7/site-packages/tornado/ioloop.py\", line 690, in <lambda>\n    lambda f: self._run_callback(functools.partial(callback, future))\n  File \"/Users/akshay/anaconda3/lib/python3.7/site-packages/tornado/ioloop.py\", line 743, in _run_callback\n    ret = callback()\n  File \"/Users/akshay/anaconda3/lib/python3.7/site-packages/tornado/gen.py\", line 781, in inner\n    self.run()\n  File \"/Users/akshay/anaconda3/lib/python3.7/site-packages/tornado/gen.py\", line 742, in run\n    yielded = self.gen.send(value)\n  File \"/Users/akshay/anaconda3/lib/python3.7/site-packages/ipykernel/kernelbase.py\", line 357, in process_one\n    yield gen.maybe_future(dispatch(*args))\n  File \"/Users/akshay/anaconda3/lib/python3.7/site-packages/tornado/gen.py\", line 209, in wrapper\n    yielded = next(result)\n  File \"/Users/akshay/anaconda3/lib/python3.7/site-packages/ipykernel/kernelbase.py\", line 267, in dispatch_shell\n    yield gen.maybe_future(handler(stream, idents, msg))\n  File \"/Users/akshay/anaconda3/lib/python3.7/site-packages/tornado/gen.py\", line 209, in wrapper\n    yielded = next(result)\n  File \"/Users/akshay/anaconda3/lib/python3.7/site-packages/ipykernel/kernelbase.py\", line 534, in execute_request\n    user_expressions, allow_stdin,\n  File \"/Users/akshay/anaconda3/lib/python3.7/site-packages/tornado/gen.py\", line 209, in wrapper\n    yielded = next(result)\n  File \"/Users/akshay/anaconda3/lib/python3.7/site-packages/ipykernel/ipkernel.py\", line 294, in do_execute\n    res = shell.run_cell(code, store_history=store_history, silent=silent)\n  File \"/Users/akshay/anaconda3/lib/python3.7/site-packages/ipykernel/zmqshell.py\", line 536, in run_cell\n    return super(ZMQInteractiveShell, self).run_cell(*args, **kwargs)\n  File \"/Users/akshay/anaconda3/lib/python3.7/site-packages/IPython/core/interactiveshell.py\", line 2848, in run_cell\n    raw_cell, store_history, silent, shell_futures)\n  File \"/Users/akshay/anaconda3/lib/python3.7/site-packages/IPython/core/interactiveshell.py\", line 2874, in _run_cell\n    return runner(coro)\n  File \"/Users/akshay/anaconda3/lib/python3.7/site-packages/IPython/core/async_helpers.py\", line 67, in _pseudo_sync_runner\n    coro.send(None)\n  File \"/Users/akshay/anaconda3/lib/python3.7/site-packages/IPython/core/interactiveshell.py\", line 3049, in run_cell_async\n    interactivity=interactivity, compiler=compiler, result=result)\n  File \"/Users/akshay/anaconda3/lib/python3.7/site-packages/IPython/core/interactiveshell.py\", line 3214, in run_ast_nodes\n    if (yield from self.run_code(code, result)):\n  File \"/Users/akshay/anaconda3/lib/python3.7/site-packages/IPython/core/interactiveshell.py\", line 3296, in run_code\n    exec(code_obj, self.user_global_ns, self.user_ns)\n  File \"<ipython-input-14-4e5b4d10613b>\", line 2, in <module>\n    b = tf.placeholder(tf.float32, shape=[3], name='B')\n  File \"/Users/akshay/anaconda3/lib/python3.7/site-packages/tensorflow/python/ops/array_ops.py\", line 2077, in placeholder\n    return gen_array_ops.placeholder(dtype=dtype, shape=shape, name=name)\n  File \"/Users/akshay/anaconda3/lib/python3.7/site-packages/tensorflow/python/ops/gen_array_ops.py\", line 5791, in placeholder\n    \"Placeholder\", dtype=dtype, shape=shape, name=name)\n  File \"/Users/akshay/anaconda3/lib/python3.7/site-packages/tensorflow/python/framework/op_def_library.py\", line 788, in _apply_op_helper\n    op_def=op_def)\n  File \"/Users/akshay/anaconda3/lib/python3.7/site-packages/tensorflow/python/util/deprecation.py\", line 507, in new_func\n    return func(*args, **kwargs)\n  File \"/Users/akshay/anaconda3/lib/python3.7/site-packages/tensorflow/python/framework/ops.py\", line 3300, in create_op\n    op_def=op_def)\n  File \"/Users/akshay/anaconda3/lib/python3.7/site-packages/tensorflow/python/framework/ops.py\", line 1801, in __init__\n    self._traceback = tf_stack.extract_stack()\n\nInvalidArgumentError (see above for traceback): You must feed a value for placeholder tensor 'B_1' with dtype float and shape [3]\n\t [[node B_1 (defined at <ipython-input-14-4e5b4d10613b>:2) ]]\n"
     ]
    }
   ],
   "source": [
    "a = tf.constant([5, 5, 5], tf.float32, name='A')\n",
    "b = tf.placeholder(tf.float32, shape=[3], name='B')\n",
    "c = tf.add(a, b, name=\"Add\")\n",
    "\n",
    "with tf.Session() as sess:\n",
    "      print(sess.run(c))"
   ]
  },
  {
   "cell_type": "markdown",
   "metadata": {
    "colab_type": "text",
    "id": "ojbpNyhTXf4y"
   },
   "source": [
    "__InvalidArgumentError: You must feed a value for placeholder tensor 'B' with dtype float and shape  $[3]$ error__"
   ]
  },
  {
   "cell_type": "markdown",
   "metadata": {
    "colab_type": "text",
    "id": "av9F05K0Xf4z"
   },
   "source": [
    "Executing the above code will __run into an error__. You might have guessed it, its simply because __the placeholder is empty__ and there is __no way to add an empty tensor to a constant tensor__ in the add operation.\n",
    "\n",
    "To solve this, we need to feed an input value to the tensor \"b\". It can be done by __creating a dictionary__ (\"d\" in the following code) whose __key(s) are the placeholders and their values are the desired value__ to be passed to the placeholder(s), and __feeding it to an argument called \"feed_dict\".__\n",
    "\n",
    "In our example, say we want to pass $[1, 2, 3]$ to the placeholder; the code needs to be modified as:"
   ]
  },
  {
   "cell_type": "code",
   "execution_count": 0,
   "metadata": {
    "colab": {},
    "colab_type": "code",
    "id": "BCvKLttVXf40",
    "outputId": "cb1da07c-ce52-4877-806e-88610b41c5ad"
   },
   "outputs": [
    {
     "name": "stdout",
     "output_type": "stream",
     "text": [
      "[6. 7. 8.]\n"
     ]
    }
   ],
   "source": [
    "a = tf.constant([5, 5, 5], tf.float32, name='A')\n",
    "b = tf.placeholder(tf.float32, shape=[3], name='B')\n",
    "c = tf.add(a, b, name=\"Add\")\n",
    "\n",
    "with tf.Session() as sess:\n",
    "    # create a dictionary:\n",
    "    d = {b: [1, 2, 3]}\n",
    "    # feed it to the placeholder\n",
    "    print(sess.run(c, feed_dict=d)) # c adds constant a & the placeholder b which is given the value [1, 2, 3] by the dict"
   ]
  },
  {
   "cell_type": "markdown",
   "metadata": {
    "colab_type": "text",
    "id": "iC7Qxe-XXf45"
   },
   "source": [
    "The generated graph and variables are as follows:"
   ]
  },
  {
   "cell_type": "markdown",
   "metadata": {
    "colab_type": "text",
    "id": "Lzfa7UDDXf46"
   },
   "source": [
    "<img src = \"https://raw.githubusercontent.com/insaid2018/DeepLearning/master/image/2_4.png\"/>\n",
    "\n"
   ]
  },
  {
   "cell_type": "markdown",
   "metadata": {
    "colab_type": "text",
    "id": "33E_-eKtXf47"
   },
   "source": [
    "Looking at the differences between constants vs variables vs placeholders ->\n",
    "\n",
    "__Constants__ - *Hold constant values* throughout the session. Could be a tensor or a string (strings are rarely used).\n",
    "\n",
    "__Variables__ - Common variables that we use in programming. Have to be *initialized by a variable initializer*.\n",
    "\n",
    "__Placeholders__ - Defined before starting a session. *Value is fed in during runtime* of a session via a dictionary."
   ]
  },
  {
   "cell_type": "markdown",
   "metadata": {
    "colab_type": "text",
    "id": "63CFQVTfXf47"
   },
   "source": [
    "Well done! That wraps up the basics of TensorFlow. Now let's get an idea about Keras."
   ]
  },
  {
   "cell_type": "markdown",
   "metadata": {
    "colab_type": "text",
    "id": "BU4EwzG7Xf48"
   },
   "source": [
    "<a id=section7></a>"
   ]
  }
 ],
 "metadata": {
  "colab": {
   "collapsed_sections": [],
   "name": "TensorFlow Introduction.ipynb",
   "provenance": [],
   "version": "0.3.2"
  },
  "kernelspec": {
   "display_name": "Python 3",
   "language": "python",
   "name": "python3"
  },
  "language_info": {
   "codemirror_mode": {
    "name": "ipython",
    "version": 3
   },
   "file_extension": ".py",
   "mimetype": "text/x-python",
   "name": "python",
   "nbconvert_exporter": "python",
   "pygments_lexer": "ipython3",
   "version": "3.7.3"
  }
 },
 "nbformat": 4,
 "nbformat_minor": 1
}
