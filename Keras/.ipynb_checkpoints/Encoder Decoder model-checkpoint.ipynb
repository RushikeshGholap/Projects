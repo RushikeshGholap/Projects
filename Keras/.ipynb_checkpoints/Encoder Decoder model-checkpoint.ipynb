{
 "cells": [
  {
   "cell_type": "markdown",
   "metadata": {},
   "source": [
    "# Encoder Decoder model"
   ]
  },
  {
   "cell_type": "code",
   "execution_count": 16,
   "metadata": {},
   "outputs": [],
   "source": [
    "from keras.layers import Input, Dense, LSTM, RepeatVector, Embedding, TimeDistributed, concatenate\n",
    "from keras.models import Model\n",
    "\n",
    "from keras.utils.vis_utils import model_to_dot\n",
    "from IPython.display import SVG\n",
    "import matplotlib.pyplot as plt\n",
    "\n",
    "import numpy as np\n",
    "import pandas as pd\n",
    "%matplotlib inline"
   ]
  },
  {
   "cell_type": "code",
   "execution_count": 5,
   "metadata": {},
   "outputs": [],
   "source": [
    "def define_models(n_input, n_output, n_units):\n",
    "    # define training encoder\n",
    "    encoder_inputs = Input(shape=(None, n_input))\n",
    "    encoder = LSTM(n_units, return_state=True)\n",
    "    encoder_outputs, state_h, state_c = encoder(encoder_inputs)\n",
    "    encoder_states = [state_h, state_c]\n",
    "    # define training decoder\n",
    "    decoder_inputs = Input(shape=(None, n_output))\n",
    "    decoder_lstm = LSTM(n_units, return_sequences=True, return_state=True)\n",
    "    decoder_outputs, _, _ = decoder_lstm(decoder_inputs, initial_state=encoder_states)\n",
    "    decoder_dense = Dense(n_output, activation='softmax')\n",
    "    decoder_outputs = decoder_dense(decoder_outputs)\n",
    "    model = Model([encoder_inputs, decoder_inputs], decoder_outputs)\n",
    "    # define inference encoder\n",
    "    encoder_model = Model(encoder_inputs, encoder_states)\n",
    "    # define inference decoder\n",
    "    decoder_state_input_h = Input(shape=(n_units,))\n",
    "    decoder_state_input_c = Input(shape=(n_units,))\n",
    "    decoder_states_inputs = [decoder_state_input_h, decoder_state_input_c]\n",
    "    decoder_outputs, state_h, state_c = decoder_lstm(decoder_inputs, initial_state=decoder_states_inputs)\n",
    "    decoder_states = [state_h, state_c]\n",
    "    decoder_outputs = decoder_dense(decoder_outputs)\n",
    "    decoder_model = Model([decoder_inputs] + decoder_states_inputs, [decoder_outputs] + decoder_states)\n",
    "    # return all models\n",
    "    return model, encoder_model, decoder_model"
   ]
  },
  {
   "cell_type": "code",
   "execution_count": 6,
   "metadata": {},
   "outputs": [],
   "source": [
    "# generate target given source sequence\n",
    "def predict_sequence(infenc, infdec, source, n_steps, cardinality):\n",
    "    # encode\n",
    "    state = infenc.predict(source)\n",
    "    # start of sequence input\n",
    "    target_seq = array([0.0 for _ in range(cardinality)]).reshape(1, 1, cardinality)\n",
    "    # collect predictions\n",
    "    output = list()\n",
    "    for t in range(n_steps):\n",
    "        # predict next char\n",
    "        yhat, h, c = infdec.predict([target_seq] + state)\n",
    "        # store prediction\n",
    "        output.append(yhat[0,0,:])\n",
    "        # update state\n",
    "        state = [h, c]\n",
    "        # update target sequence\n",
    "        target_seq = yhat\n",
    "    return array(output)"
   ]
  },
  {
   "cell_type": "code",
   "execution_count": 7,
   "metadata": {},
   "outputs": [],
   "source": [
    "n_features = 50 + 1"
   ]
  },
  {
   "cell_type": "code",
   "execution_count": 8,
   "metadata": {},
   "outputs": [],
   "source": [
    "# generate a sequence of random integers\n",
    "def generate_sequence(length, n_unique):\n",
    "    return [randint(1, n_unique-1) for _ in range(length)]"
   ]
  },
  {
   "cell_type": "code",
   "execution_count": 9,
   "metadata": {},
   "outputs": [
    {
     "ename": "NameError",
     "evalue": "name 'source' is not defined",
     "output_type": "error",
     "traceback": [
      "\u001b[0;31m---------------------------------------------------------------------------\u001b[0m",
      "\u001b[0;31mNameError\u001b[0m                                 Traceback (most recent call last)",
      "\u001b[0;32m<ipython-input-9-0150d4c72db1>\u001b[0m in \u001b[0;36m<module>\u001b[0;34m\u001b[0m\n\u001b[1;32m      1\u001b[0m \u001b[0;31m# define target sequence\u001b[0m\u001b[0;34m\u001b[0m\u001b[0;34m\u001b[0m\u001b[0;34m\u001b[0m\u001b[0m\n\u001b[0;32m----> 2\u001b[0;31m \u001b[0mtarget\u001b[0m \u001b[0;34m=\u001b[0m \u001b[0msource\u001b[0m\u001b[0;34m[\u001b[0m\u001b[0;34m:\u001b[0m\u001b[0mn_out\u001b[0m\u001b[0;34m]\u001b[0m\u001b[0;34m\u001b[0m\u001b[0;34m\u001b[0m\u001b[0m\n\u001b[0m\u001b[1;32m      3\u001b[0m \u001b[0mtarget\u001b[0m\u001b[0;34m.\u001b[0m\u001b[0mreverse\u001b[0m\u001b[0;34m(\u001b[0m\u001b[0;34m)\u001b[0m\u001b[0;34m\u001b[0m\u001b[0;34m\u001b[0m\u001b[0m\n",
      "\u001b[0;31mNameError\u001b[0m: name 'source' is not defined"
     ]
    }
   ],
   "source": [
    "# define target sequence\n",
    "target = source[:n_out]\n",
    "target.reverse()"
   ]
  },
  {
   "cell_type": "code",
   "execution_count": 13,
   "metadata": {},
   "outputs": [],
   "source": [
    "from keras.models import Model\n",
    "from keras.layers import Input\n",
    "from keras.layers import LSTM\n",
    "from keras.layers import Dense\n",
    "from keras.utils.vis_utils import model_to_dot\n",
    "from IPython.display import SVG\n",
    "\n",
    "\n",
    "# configure\n",
    "num_encoder_tokens = 71\n",
    "num_decoder_tokens = 93\n",
    "latent_dim = 256\n",
    "# Define an input sequence and process it.\n",
    "encoder_inputs = Input(shape=(None, num_encoder_tokens))\n",
    "encoder = LSTM(latent_dim, return_state=True)\n",
    "encoder_outputs, state_h, state_c = encoder(encoder_inputs)\n",
    "# We discard `encoder_outputs` and only keep the states.\n",
    "encoder_states = [state_h, state_c]\n",
    "# Set up the decoder, using `encoder_states` as initial state.\n",
    "decoder_inputs = Input(shape=(None, num_decoder_tokens))\n",
    "# We set up our decoder to return full output sequences,\n",
    "# and to return internal states as well. We don't use the\n",
    "# return states in the training model, but we will use them in inference.\n",
    "decoder_lstm = LSTM(latent_dim, return_sequences=True, return_state=True)\n",
    "decoder_outputs, _, _ = decoder_lstm(decoder_inputs, initial_state=encoder_states)\n",
    "decoder_dense = Dense(num_decoder_tokens, activation='softmax')\n",
    "decoder_outputs = decoder_dense(decoder_outputs)\n",
    "# Define the model that will turn\n",
    "# `encoder_input_data` & `decoder_input_data` into `decoder_target_data`\n",
    "model = Model([encoder_inputs, decoder_inputs], decoder_outputs)"
   ]
  },
  {
   "cell_type": "code",
   "execution_count": 14,
   "metadata": {},
   "outputs": [
    {
     "data": {
      "image/svg+xml": [
       "<svg height=\"296pt\" viewBox=\"0.00 0.00 720.39 296.00\" width=\"720pt\" xmlns=\"http://www.w3.org/2000/svg\" xmlns:xlink=\"http://www.w3.org/1999/xlink\">\n",
       "<g class=\"graph\" id=\"graph0\" transform=\"scale(1 1) rotate(0) translate(4 292)\">\n",
       "<title>G</title>\n",
       "<polygon fill=\"#ffffff\" points=\"-4,4 -4,-292 716.3936,-292 716.3936,4 -4,4\" stroke=\"transparent\"/>\n",
       "<!-- 47977554048 -->\n",
       "<g class=\"node\" id=\"node1\">\n",
       "<title>47977554048</title>\n",
       "<polygon fill=\"none\" points=\"49.3896,-243.5 49.3896,-287.5 347.3936,-287.5 347.3936,-243.5 49.3896,-243.5\" stroke=\"#000000\"/>\n",
       "<text fill=\"#000000\" font-family=\"Times,serif\" font-size=\"14.00\" text-anchor=\"middle\" x=\"113.5708\" y=\"-261.3\">input_8: InputLayer</text>\n",
       "<polyline fill=\"none\" points=\"177.752,-243.5 177.752,-287.5 \" stroke=\"#000000\"/>\n",
       "<text fill=\"#000000\" font-family=\"Times,serif\" font-size=\"14.00\" text-anchor=\"middle\" x=\"205.5864\" y=\"-272.3\">input:</text>\n",
       "<polyline fill=\"none\" points=\"177.752,-265.5 233.4209,-265.5 \" stroke=\"#000000\"/>\n",
       "<text fill=\"#000000\" font-family=\"Times,serif\" font-size=\"14.00\" text-anchor=\"middle\" x=\"205.5864\" y=\"-250.3\">output:</text>\n",
       "<polyline fill=\"none\" points=\"233.4209,-243.5 233.4209,-287.5 \" stroke=\"#000000\"/>\n",
       "<text fill=\"#000000\" font-family=\"Times,serif\" font-size=\"14.00\" text-anchor=\"middle\" x=\"290.4072\" y=\"-272.3\">(None, None, 71)</text>\n",
       "<polyline fill=\"none\" points=\"233.4209,-265.5 347.3936,-265.5 \" stroke=\"#000000\"/>\n",
       "<text fill=\"#000000\" font-family=\"Times,serif\" font-size=\"14.00\" text-anchor=\"middle\" x=\"290.4072\" y=\"-250.3\">(None, None, 71)</text>\n",
       "</g>\n",
       "<!-- 47977679112 -->\n",
       "<g class=\"node\" id=\"node3\">\n",
       "<title>47977679112</title>\n",
       "<polygon fill=\"none\" points=\"0,-162.5 0,-206.5 396.7832,-206.5 396.7832,-162.5 0,-162.5\" stroke=\"#000000\"/>\n",
       "<text fill=\"#000000\" font-family=\"Times,serif\" font-size=\"14.00\" text-anchor=\"middle\" x=\"49.4224\" y=\"-180.3\">lstm_7: LSTM</text>\n",
       "<polyline fill=\"none\" points=\"98.8447,-162.5 98.8447,-206.5 \" stroke=\"#000000\"/>\n",
       "<text fill=\"#000000\" font-family=\"Times,serif\" font-size=\"14.00\" text-anchor=\"middle\" x=\"126.6792\" y=\"-191.3\">input:</text>\n",
       "<polyline fill=\"none\" points=\"98.8447,-184.5 154.5137,-184.5 \" stroke=\"#000000\"/>\n",
       "<text fill=\"#000000\" font-family=\"Times,serif\" font-size=\"14.00\" text-anchor=\"middle\" x=\"126.6792\" y=\"-169.3\">output:</text>\n",
       "<polyline fill=\"none\" points=\"154.5137,-162.5 154.5137,-206.5 \" stroke=\"#000000\"/>\n",
       "<text fill=\"#000000\" font-family=\"Times,serif\" font-size=\"14.00\" text-anchor=\"middle\" x=\"275.5\" y=\"-191.3\">(None, None, 71)</text>\n",
       "<polyline fill=\"none\" points=\"154.5137,-184.5 396.7832,-184.5 \" stroke=\"#000000\"/>\n",
       "<text fill=\"#000000\" font-family=\"Times,serif\" font-size=\"14.00\" text-anchor=\"middle\" x=\"275.6484\" y=\"-169.3\">[(None, 256), (None, 256), (None, 256)]</text>\n",
       "</g>\n",
       "<!-- 47977554048&#45;&gt;47977679112 -->\n",
       "<g class=\"edge\" id=\"edge1\">\n",
       "<title>47977554048-&gt;47977679112</title>\n",
       "<path d=\"M198.3916,-243.3664C198.3916,-235.1516 198.3916,-225.6579 198.3916,-216.7252\" fill=\"none\" stroke=\"#000000\"/>\n",
       "<polygon fill=\"#000000\" points=\"201.8917,-216.6068 198.3916,-206.6068 194.8917,-216.6069 201.8917,-216.6068\" stroke=\"#000000\"/>\n",
       "</g>\n",
       "<!-- 47977679784 -->\n",
       "<g class=\"node\" id=\"node2\">\n",
       "<title>47977679784</title>\n",
       "<polygon fill=\"none\" points=\"414.3896,-162.5 414.3896,-206.5 712.3936,-206.5 712.3936,-162.5 414.3896,-162.5\" stroke=\"#000000\"/>\n",
       "<text fill=\"#000000\" font-family=\"Times,serif\" font-size=\"14.00\" text-anchor=\"middle\" x=\"478.5708\" y=\"-180.3\">input_9: InputLayer</text>\n",
       "<polyline fill=\"none\" points=\"542.752,-162.5 542.752,-206.5 \" stroke=\"#000000\"/>\n",
       "<text fill=\"#000000\" font-family=\"Times,serif\" font-size=\"14.00\" text-anchor=\"middle\" x=\"570.5864\" y=\"-191.3\">input:</text>\n",
       "<polyline fill=\"none\" points=\"542.752,-184.5 598.4209,-184.5 \" stroke=\"#000000\"/>\n",
       "<text fill=\"#000000\" font-family=\"Times,serif\" font-size=\"14.00\" text-anchor=\"middle\" x=\"570.5864\" y=\"-169.3\">output:</text>\n",
       "<polyline fill=\"none\" points=\"598.4209,-162.5 598.4209,-206.5 \" stroke=\"#000000\"/>\n",
       "<text fill=\"#000000\" font-family=\"Times,serif\" font-size=\"14.00\" text-anchor=\"middle\" x=\"655.4072\" y=\"-191.3\">(None, None, 93)</text>\n",
       "<polyline fill=\"none\" points=\"598.4209,-184.5 712.3936,-184.5 \" stroke=\"#000000\"/>\n",
       "<text fill=\"#000000\" font-family=\"Times,serif\" font-size=\"14.00\" text-anchor=\"middle\" x=\"655.4072\" y=\"-169.3\">(None, None, 93)</text>\n",
       "</g>\n",
       "<!-- 47977678776 -->\n",
       "<g class=\"node\" id=\"node4\">\n",
       "<title>47977678776</title>\n",
       "<polygon fill=\"none\" points=\"163.3379,-81.5 163.3379,-125.5 597.4453,-125.5 597.4453,-81.5 163.3379,-81.5\" stroke=\"#000000\"/>\n",
       "<text fill=\"#000000\" font-family=\"Times,serif\" font-size=\"14.00\" text-anchor=\"middle\" x=\"212.7603\" y=\"-99.3\">lstm_8: LSTM</text>\n",
       "<polyline fill=\"none\" points=\"262.1826,-81.5 262.1826,-125.5 \" stroke=\"#000000\"/>\n",
       "<text fill=\"#000000\" font-family=\"Times,serif\" font-size=\"14.00\" text-anchor=\"middle\" x=\"290.0171\" y=\"-110.3\">input:</text>\n",
       "<polyline fill=\"none\" points=\"262.1826,-103.5 317.8516,-103.5 \" stroke=\"#000000\"/>\n",
       "<text fill=\"#000000\" font-family=\"Times,serif\" font-size=\"14.00\" text-anchor=\"middle\" x=\"290.0171\" y=\"-88.3\">output:</text>\n",
       "<polyline fill=\"none\" points=\"317.8516,-81.5 317.8516,-125.5 \" stroke=\"#000000\"/>\n",
       "<text fill=\"#000000\" font-family=\"Times,serif\" font-size=\"14.00\" text-anchor=\"middle\" x=\"457.6484\" y=\"-110.3\">[(None, None, 93), (None, 256), (None, 256)]</text>\n",
       "<polyline fill=\"none\" points=\"317.8516,-103.5 597.4453,-103.5 \" stroke=\"#000000\"/>\n",
       "<text fill=\"#000000\" font-family=\"Times,serif\" font-size=\"14.00\" text-anchor=\"middle\" x=\"457.6484\" y=\"-88.3\">[(None, None, 256), (None, 256), (None, 256)]</text>\n",
       "</g>\n",
       "<!-- 47977679784&#45;&gt;47977678776 -->\n",
       "<g class=\"edge\" id=\"edge2\">\n",
       "<title>47977679784-&gt;47977678776</title>\n",
       "<path d=\"M513.386,-162.3664C490.5905,-152.2765 463.4356,-140.2572 439.6243,-129.7177\" fill=\"none\" stroke=\"#000000\"/>\n",
       "<polygon fill=\"#000000\" points=\"440.8976,-126.4539 430.3367,-125.6068 438.0644,-132.8549 440.8976,-126.4539\" stroke=\"#000000\"/>\n",
       "</g>\n",
       "<!-- 47977679112&#45;&gt;47977678776 -->\n",
       "<g class=\"edge\" id=\"edge3\">\n",
       "<title>47977679112-&gt;47977678776</title>\n",
       "<path d=\"M248.1239,-162.3664C270.7949,-152.2765 297.8014,-140.2572 321.4826,-129.7177\" fill=\"none\" stroke=\"#000000\"/>\n",
       "<polygon fill=\"#000000\" points=\"323.0065,-132.8706 330.7194,-125.6068 320.1602,-126.4753 323.0065,-132.8706\" stroke=\"#000000\"/>\n",
       "</g>\n",
       "<!-- 47979894040 -->\n",
       "<g class=\"node\" id=\"node5\">\n",
       "<title>47979894040</title>\n",
       "<polygon fill=\"none\" points=\"239.9448,-.5 239.9448,-44.5 520.8384,-44.5 520.8384,-.5 239.9448,-.5\" stroke=\"#000000\"/>\n",
       "<text fill=\"#000000\" font-family=\"Times,serif\" font-size=\"14.00\" text-anchor=\"middle\" x=\"292.0708\" y=\"-18.3\">dense_4: Dense</text>\n",
       "<polyline fill=\"none\" points=\"344.1968,-.5 344.1968,-44.5 \" stroke=\"#000000\"/>\n",
       "<text fill=\"#000000\" font-family=\"Times,serif\" font-size=\"14.00\" text-anchor=\"middle\" x=\"372.0313\" y=\"-29.3\">input:</text>\n",
       "<polyline fill=\"none\" points=\"344.1968,-22.5 399.8657,-22.5 \" stroke=\"#000000\"/>\n",
       "<text fill=\"#000000\" font-family=\"Times,serif\" font-size=\"14.00\" text-anchor=\"middle\" x=\"372.0313\" y=\"-7.3\">output:</text>\n",
       "<polyline fill=\"none\" points=\"399.8657,-.5 399.8657,-44.5 \" stroke=\"#000000\"/>\n",
       "<text fill=\"#000000\" font-family=\"Times,serif\" font-size=\"14.00\" text-anchor=\"middle\" x=\"460.3521\" y=\"-29.3\">(None, None, 256)</text>\n",
       "<polyline fill=\"none\" points=\"399.8657,-22.5 520.8384,-22.5 \" stroke=\"#000000\"/>\n",
       "<text fill=\"#000000\" font-family=\"Times,serif\" font-size=\"14.00\" text-anchor=\"middle\" x=\"460.3521\" y=\"-7.3\">(None, None, 93)</text>\n",
       "</g>\n",
       "<!-- 47977678776&#45;&gt;47979894040 -->\n",
       "<g class=\"edge\" id=\"edge5\">\n",
       "<title>47977678776-&gt;47979894040</title>\n",
       "<path d=\"M380.3916,-81.3664C380.3916,-73.1516 380.3916,-63.6579 380.3916,-54.7252\" fill=\"none\" stroke=\"#000000\"/>\n",
       "<polygon fill=\"#000000\" points=\"383.8917,-54.6068 380.3916,-44.6068 376.8917,-54.6069 383.8917,-54.6068\" stroke=\"#000000\"/>\n",
       "</g>\n",
       "</g>\n",
       "</svg>"
      ],
      "text/plain": [
       "<IPython.core.display.SVG object>"
      ]
     },
     "execution_count": 14,
     "metadata": {},
     "output_type": "execute_result"
    }
   ],
   "source": [
    "dot = model_to_dot(model, show_layer_names=True, show_shapes=True)\n",
    "SVG(dot.create(prog='dot', format='svg'))"
   ]
  },
  {
   "cell_type": "code",
   "execution_count": null,
   "metadata": {},
   "outputs": [],
   "source": []
  },
  {
   "cell_type": "markdown",
   "metadata": {},
   "source": [
    "# Rough example"
   ]
  },
  {
   "cell_type": "code",
   "execution_count": 15,
   "metadata": {},
   "outputs": [],
   "source": [
    "english = ['where are you going', 'how do you do', 'where is the bus stop', 'please give me change', 'i need some directions', 'thank you very much', 'is there a room available', 'how much should i pay you']\n",
    "hinglish = ['kahan ja rahe ho', 'aap kaise hain', 'bus stop kahan hai', 'khulle paise dein', 'mujhe rasta bata do', 'bhaut dhanyawad aapka', 'koi kamra hai kya', 'aapko kitne paise doon']"
   ]
  },
  {
   "cell_type": "code",
   "execution_count": 142,
   "metadata": {},
   "outputs": [
    {
     "data": {
      "text/plain": [
       "[('where are you going', 'kahan ja rahe ho'),\n",
       " ('how do you do', 'aap kaise hain'),\n",
       " ('where is the bus stop', 'bus stop kahan hai'),\n",
       " ('please give me change', 'khulle paise dein'),\n",
       " ('i need some directions', 'mujhe rasta bata do'),\n",
       " ('thank you very much', 'bhaut dhanyawad aapka'),\n",
       " ('is there a room available', 'koi kamra hai kya'),\n",
       " ('how much should i pay you', 'aapko kitne paise doon')]"
      ]
     },
     "execution_count": 142,
     "metadata": {},
     "output_type": "execute_result"
    }
   ],
   "source": [
    "translations = [i for i in zip(english, hinglish)]\n",
    "translations"
   ]
  },
  {
   "cell_type": "code",
   "execution_count": 149,
   "metadata": {},
   "outputs": [],
   "source": [
    "def get_vocab(sequences):\n",
    "    tokens = [seq.split() for seq in sequences]\n",
    "    tokens = [i for sublist in tokens for i in sublist]\n",
    "    tokens = list(set(tokens))\n",
    "    return ['!'] + tokens"
   ]
  },
  {
   "cell_type": "code",
   "execution_count": 150,
   "metadata": {},
   "outputs": [],
   "source": [
    "input_vocab = get_vocab(english)\n",
    "output_vocab = get_vocab(hinglish)"
   ]
  },
  {
   "cell_type": "code",
   "execution_count": 151,
   "metadata": {},
   "outputs": [],
   "source": [
    "def label_encoder(sequence, vocab):\n",
    "    vocab_indexes = [i for i in enumerate(vocab)]\n",
    "    labels = [[j[0] for j in vocab_indexes if j[1]==i][0] for i in sequence.split()]\n",
    "    return labels\n",
    "\n",
    "def get_sequence(labeled_sequence, vocab):\n",
    "    vocab_indexes = [i for i in enumerate(vocab)]\n",
    "    words = [[j[1] for j in vocab_indexes if j[0]==i][0] for i in labeled_sequence]\n",
    "    return ' '.join([i for i in words if i!='!'])"
   ]
  },
  {
   "cell_type": "code",
   "execution_count": 157,
   "metadata": {},
   "outputs": [
    {
     "data": {
      "text/plain": [
       "'bus stop kahan hai'"
      ]
     },
     "execution_count": 157,
     "metadata": {},
     "output_type": "execute_result"
    }
   ],
   "source": [
    "get_sequence(hinglish_labels[2], output_vocab)"
   ]
  },
  {
   "cell_type": "code",
   "execution_count": null,
   "metadata": {},
   "outputs": [],
   "source": []
  },
  {
   "cell_type": "code",
   "execution_count": 153,
   "metadata": {},
   "outputs": [],
   "source": [
    "english_labels = [label_encoder(i, input_vocab) for i in english]\n",
    "hinglish_labels = [label_encoder(i, output_vocab) for i in hinglish]\n",
    "\n",
    "english_labels = pad_sequences(english_labels, 6)\n",
    "hinglish_labels = pad_sequences(hinglish_labels, 4)"
   ]
  },
  {
   "cell_type": "code",
   "execution_count": 114,
   "metadata": {},
   "outputs": [],
   "source": [
    "from keras.layers import Input, Dense, Embedding, LSTM\n",
    "from keras.models import Model\n",
    "from keras.preprocessing.sequence import pad_sequences"
   ]
  },
  {
   "cell_type": "code",
   "execution_count": 119,
   "metadata": {},
   "outputs": [],
   "source": [
    "enc_inp = Input((6,))\n",
    "enc_emb = Embedding(len(input_vocab), 5, input_length=6)(enc_inp)\n",
    "enc_out, h, c = LSTM(4, return_state=True, return_sequences=True)(enc_emb)\n",
    "enc_states = [h, c]"
   ]
  },
  {
   "cell_type": "code",
   "execution_count": 120,
   "metadata": {},
   "outputs": [],
   "source": [
    "model = Model(enc_inp, enc_out)"
   ]
  },
  {
   "cell_type": "code",
   "execution_count": 129,
   "metadata": {},
   "outputs": [
    {
     "data": {
      "text/plain": [
       "array([ 0,  0, 11, 26, 16,  2], dtype=int32)"
      ]
     },
     "execution_count": 129,
     "metadata": {},
     "output_type": "execute_result"
    }
   ],
   "source": [
    "english_labels[0]"
   ]
  },
  {
   "cell_type": "code",
   "execution_count": null,
   "metadata": {},
   "outputs": [],
   "source": []
  },
  {
   "cell_type": "code",
   "execution_count": 121,
   "metadata": {},
   "outputs": [
    {
     "name": "stdout",
     "output_type": "stream",
     "text": [
      "_________________________________________________________________\n",
      "Layer (type)                 Output Shape              Param #   \n",
      "=================================================================\n",
      "input_22 (InputLayer)        (None, 6)                 0         \n",
      "_________________________________________________________________\n",
      "embedding_13 (Embedding)     (None, 6, 5)              135       \n",
      "_________________________________________________________________\n",
      "lstm_21 (LSTM)               [(None, 6, 4), (None, 4), 160       \n",
      "=================================================================\n",
      "Total params: 295\n",
      "Trainable params: 295\n",
      "Non-trainable params: 0\n",
      "_________________________________________________________________\n"
     ]
    }
   ],
   "source": [
    "model.summary()"
   ]
  },
  {
   "cell_type": "code",
   "execution_count": 122,
   "metadata": {
    "scrolled": true
   },
   "outputs": [
    {
     "data": {
      "image/svg+xml": [
       "<svg height=\"215pt\" viewBox=\"0.00 0.00 383.78 215.00\" width=\"384pt\" xmlns=\"http://www.w3.org/2000/svg\" xmlns:xlink=\"http://www.w3.org/1999/xlink\">\n",
       "<g class=\"graph\" id=\"graph0\" transform=\"scale(1 1) rotate(0) translate(4 211)\">\n",
       "<title>G</title>\n",
       "<polygon fill=\"#ffffff\" points=\"-4,4 -4,-211 379.7832,-211 379.7832,4 -4,4\" stroke=\"transparent\"/>\n",
       "<!-- 112584934456 -->\n",
       "<g class=\"node\" id=\"node1\">\n",
       "<title>112584934456</title>\n",
       "<polygon fill=\"none\" points=\"57.5518,-162.5 57.5518,-206.5 318.2314,-206.5 318.2314,-162.5 57.5518,-162.5\" stroke=\"#000000\"/>\n",
       "<text fill=\"#000000\" font-family=\"Times,serif\" font-size=\"14.00\" text-anchor=\"middle\" x=\"125.2329\" y=\"-180.3\">input_22: InputLayer</text>\n",
       "<polyline fill=\"none\" points=\"192.9141,-162.5 192.9141,-206.5 \" stroke=\"#000000\"/>\n",
       "<text fill=\"#000000\" font-family=\"Times,serif\" font-size=\"14.00\" text-anchor=\"middle\" x=\"220.7485\" y=\"-191.3\">input:</text>\n",
       "<polyline fill=\"none\" points=\"192.9141,-184.5 248.583,-184.5 \" stroke=\"#000000\"/>\n",
       "<text fill=\"#000000\" font-family=\"Times,serif\" font-size=\"14.00\" text-anchor=\"middle\" x=\"220.7485\" y=\"-169.3\">output:</text>\n",
       "<polyline fill=\"none\" points=\"248.583,-162.5 248.583,-206.5 \" stroke=\"#000000\"/>\n",
       "<text fill=\"#000000\" font-family=\"Times,serif\" font-size=\"14.00\" text-anchor=\"middle\" x=\"283.4072\" y=\"-191.3\">(None, 6)</text>\n",
       "<polyline fill=\"none\" points=\"248.583,-184.5 318.2314,-184.5 \" stroke=\"#000000\"/>\n",
       "<text fill=\"#000000\" font-family=\"Times,serif\" font-size=\"14.00\" text-anchor=\"middle\" x=\"283.4072\" y=\"-169.3\">(None, 6)</text>\n",
       "</g>\n",
       "<!-- 112584934512 -->\n",
       "<g class=\"node\" id=\"node2\">\n",
       "<title>112584934512</title>\n",
       "<polygon fill=\"none\" points=\"32.6621,-81.5 32.6621,-125.5 343.1211,-125.5 343.1211,-81.5 32.6621,-81.5\" stroke=\"#000000\"/>\n",
       "<text fill=\"#000000\" font-family=\"Times,serif\" font-size=\"14.00\" text-anchor=\"middle\" x=\"118.2329\" y=\"-99.3\">embedding_13: Embedding</text>\n",
       "<polyline fill=\"none\" points=\"203.8037,-81.5 203.8037,-125.5 \" stroke=\"#000000\"/>\n",
       "<text fill=\"#000000\" font-family=\"Times,serif\" font-size=\"14.00\" text-anchor=\"middle\" x=\"231.6382\" y=\"-110.3\">input:</text>\n",
       "<polyline fill=\"none\" points=\"203.8037,-103.5 259.4727,-103.5 \" stroke=\"#000000\"/>\n",
       "<text fill=\"#000000\" font-family=\"Times,serif\" font-size=\"14.00\" text-anchor=\"middle\" x=\"231.6382\" y=\"-88.3\">output:</text>\n",
       "<polyline fill=\"none\" points=\"259.4727,-81.5 259.4727,-125.5 \" stroke=\"#000000\"/>\n",
       "<text fill=\"#000000\" font-family=\"Times,serif\" font-size=\"14.00\" text-anchor=\"middle\" x=\"301.2969\" y=\"-110.3\">(None, 6)</text>\n",
       "<polyline fill=\"none\" points=\"259.4727,-103.5 343.1211,-103.5 \" stroke=\"#000000\"/>\n",
       "<text fill=\"#000000\" font-family=\"Times,serif\" font-size=\"14.00\" text-anchor=\"middle\" x=\"301.2969\" y=\"-88.3\">(None, 6, 5)</text>\n",
       "</g>\n",
       "<!-- 112584934456&#45;&gt;112584934512 -->\n",
       "<g class=\"edge\" id=\"edge1\">\n",
       "<title>112584934456-&gt;112584934512</title>\n",
       "<path d=\"M187.8916,-162.3664C187.8916,-154.1516 187.8916,-144.6579 187.8916,-135.7252\" fill=\"none\" stroke=\"#000000\"/>\n",
       "<polygon fill=\"#000000\" points=\"191.3917,-135.6068 187.8916,-125.6068 184.3917,-135.6069 191.3917,-135.6068\" stroke=\"#000000\"/>\n",
       "</g>\n",
       "<!-- 112583740832 -->\n",
       "<g class=\"node\" id=\"node3\">\n",
       "<title>112583740832</title>\n",
       "<polygon fill=\"none\" points=\"0,-.5 0,-44.5 375.7832,-44.5 375.7832,-.5 0,-.5\" stroke=\"#000000\"/>\n",
       "<text fill=\"#000000\" font-family=\"Times,serif\" font-size=\"14.00\" text-anchor=\"middle\" x=\"52.9224\" y=\"-18.3\">lstm_21: LSTM</text>\n",
       "<polyline fill=\"none\" points=\"105.8447,-.5 105.8447,-44.5 \" stroke=\"#000000\"/>\n",
       "<text fill=\"#000000\" font-family=\"Times,serif\" font-size=\"14.00\" text-anchor=\"middle\" x=\"133.6792\" y=\"-29.3\">input:</text>\n",
       "<polyline fill=\"none\" points=\"105.8447,-22.5 161.5137,-22.5 \" stroke=\"#000000\"/>\n",
       "<text fill=\"#000000\" font-family=\"Times,serif\" font-size=\"14.00\" text-anchor=\"middle\" x=\"133.6792\" y=\"-7.3\">output:</text>\n",
       "<polyline fill=\"none\" points=\"161.5137,-.5 161.5137,-44.5 \" stroke=\"#000000\"/>\n",
       "<text fill=\"#000000\" font-family=\"Times,serif\" font-size=\"14.00\" text-anchor=\"middle\" x=\"268.3379\" y=\"-29.3\">(None, 6, 5)</text>\n",
       "<polyline fill=\"none\" points=\"161.5137,-22.5 375.7832,-22.5 \" stroke=\"#000000\"/>\n",
       "<text fill=\"#000000\" font-family=\"Times,serif\" font-size=\"14.00\" text-anchor=\"middle\" x=\"268.6484\" y=\"-7.3\">[(None, 6, 4), (None, 4), (None, 4)]</text>\n",
       "</g>\n",
       "<!-- 112584934512&#45;&gt;112583740832 -->\n",
       "<g class=\"edge\" id=\"edge2\">\n",
       "<title>112584934512-&gt;112583740832</title>\n",
       "<path d=\"M187.8916,-81.3664C187.8916,-73.1516 187.8916,-63.6579 187.8916,-54.7252\" fill=\"none\" stroke=\"#000000\"/>\n",
       "<polygon fill=\"#000000\" points=\"191.3917,-54.6068 187.8916,-44.6068 184.3917,-54.6069 191.3917,-54.6068\" stroke=\"#000000\"/>\n",
       "</g>\n",
       "</g>\n",
       "</svg>"
      ],
      "text/plain": [
       "<IPython.core.display.SVG object>"
      ]
     },
     "execution_count": 122,
     "metadata": {},
     "output_type": "execute_result"
    }
   ],
   "source": [
    "dot = model_to_dot(model, show_shapes=True, )\n",
    "SVG(dot.create(prog='dot', format='svg'))"
   ]
  },
  {
   "cell_type": "code",
   "execution_count": 105,
   "metadata": {
    "scrolled": true
   },
   "outputs": [
    {
     "data": {
      "text/plain": [
       "array([[-0.00417407,  0.00129268,  0.01470994, -0.02471226]],\n",
       "      dtype=float32)"
      ]
     },
     "execution_count": 105,
     "metadata": {},
     "output_type": "execute_result"
    }
   ],
   "source": [
    "model.predict(english_labels[0:1])"
   ]
  },
  {
   "cell_type": "code",
   "execution_count": null,
   "metadata": {},
   "outputs": [],
   "source": []
  },
  {
   "cell_type": "code",
   "execution_count": null,
   "metadata": {},
   "outputs": [],
   "source": []
  },
  {
   "cell_type": "code",
   "execution_count": null,
   "metadata": {},
   "outputs": [],
   "source": []
  },
  {
   "cell_type": "code",
   "execution_count": null,
   "metadata": {},
   "outputs": [],
   "source": [
    "dec_inp = "
   ]
  },
  {
   "cell_type": "code",
   "execution_count": null,
   "metadata": {},
   "outputs": [],
   "source": []
  },
  {
   "cell_type": "code",
   "execution_count": null,
   "metadata": {},
   "outputs": [],
   "source": []
  },
  {
   "cell_type": "code",
   "execution_count": 71,
   "metadata": {},
   "outputs": [],
   "source": []
  },
  {
   "cell_type": "code",
   "execution_count": 126,
   "metadata": {},
   "outputs": [
    {
     "name": "stdout",
     "output_type": "stream",
     "text": [
      "_________________________________________________________________\n",
      "Layer (type)                 Output Shape              Param #   \n",
      "=================================================================\n",
      "input_22 (InputLayer)        (None, 6)                 0         \n",
      "_________________________________________________________________\n",
      "embedding_13 (Embedding)     (None, 6, 5)              135       \n",
      "_________________________________________________________________\n",
      "lstm_21 (LSTM)               [(None, 6, 4), (None, 4), 160       \n",
      "=================================================================\n",
      "Total params: 295\n",
      "Trainable params: 295\n",
      "Non-trainable params: 0\n",
      "_________________________________________________________________\n"
     ]
    }
   ],
   "source": [
    "model.summary()"
   ]
  },
  {
   "cell_type": "code",
   "execution_count": 73,
   "metadata": {},
   "outputs": [
    {
     "data": {
      "text/plain": [
       "[<tf.Tensor 'lstm_14/TensorArrayReadV3:0' shape=(?, 10) dtype=float32>,\n",
       " <tf.Tensor 'lstm_14/while/Exit_3:0' shape=(?, 10) dtype=float32>,\n",
       " <tf.Tensor 'lstm_14/while/Exit_4:0' shape=(?, 10) dtype=float32>]"
      ]
     },
     "execution_count": 73,
     "metadata": {},
     "output_type": "execute_result"
    }
   ],
   "source": [
    "enc_out"
   ]
  },
  {
   "cell_type": "code",
   "execution_count": null,
   "metadata": {},
   "outputs": [],
   "source": []
  },
  {
   "cell_type": "code",
   "execution_count": 125,
   "metadata": {},
   "outputs": [],
   "source": [
    "ee = Embedding(num_encoder_tokens, latent_dim)"
   ]
  },
  {
   "cell_type": "code",
   "execution_count": null,
   "metadata": {},
   "outputs": [],
   "source": [
    "ee()"
   ]
  },
  {
   "cell_type": "code",
   "execution_count": null,
   "metadata": {},
   "outputs": [],
   "source": [
    "ll()"
   ]
  },
  {
   "cell_type": "code",
   "execution_count": 124,
   "metadata": {},
   "outputs": [],
   "source": [
    "ll = LSTM(latent_dim, return_sequences=True)"
   ]
  },
  {
   "cell_type": "code",
   "execution_count": 106,
   "metadata": {},
   "outputs": [],
   "source": [
    "# Define an input sequence and process it.\n",
    "encoder_inputs = Input(shape=(None,))\n",
    "x = Embedding(num_encoder_tokens, latent_dim)(encoder_inputs)\n",
    "x, state_h, state_c = LSTM(latent_dim,\n",
    "                           return_state=True)(x)\n",
    "encoder_states = [state_h, state_c]\n",
    "\n",
    "# Set up the decoder, using `encoder_states` as initial state.\n",
    "decoder_inputs = Input(shape=(None,))\n",
    "x = Embedding(num_decoder_tokens, latent_dim)(decoder_inputs)\n",
    "x = LSTM(latent_dim, return_sequences=True)(x, initial_state=encoder_states)\n",
    "decoder_outputs = Dense(num_decoder_tokens, activation='softmax')(x)\n",
    "\n",
    "# Define the model that will turn\n",
    "# `encoder_input_data` & `decoder_input_data` into `decoder_target_data`\n",
    "model = Model([encoder_inputs, decoder_inputs], decoder_outputs)\n",
    "\n",
    "# Compile & run training\n",
    "model.compile(optimizer='rmsprop', loss='categorical_crossentropy')\n",
    "# Note that `decoder_target_data` needs to be one-hot encoded,\n",
    "# rather than sequences of integers like `decoder_input_data`!"
   ]
  },
  {
   "cell_type": "code",
   "execution_count": 113,
   "metadata": {
    "scrolled": false
   },
   "outputs": [
    {
     "data": {
      "image/svg+xml": [
       "<svg height=\"377pt\" viewBox=\"0.00 0.00 777.53 377.00\" width=\"778pt\" xmlns=\"http://www.w3.org/2000/svg\" xmlns:xlink=\"http://www.w3.org/1999/xlink\">\n",
       "<g class=\"graph\" id=\"graph0\" transform=\"scale(1 1) rotate(0) translate(4 373)\">\n",
       "<title>G</title>\n",
       "<polygon fill=\"#ffffff\" points=\"-4,4 -4,-373 773.5269,-373 773.5269,4 -4,4\" stroke=\"transparent\"/>\n",
       "<!-- 112548609048 -->\n",
       "<g class=\"node\" id=\"node1\">\n",
       "<title>112548609048</title>\n",
       "<polygon fill=\"none\" points=\"59.8896,-324.5 59.8896,-368.5 343.8936,-368.5 343.8936,-324.5 59.8896,-324.5\" stroke=\"#000000\"/>\n",
       "<text fill=\"#000000\" font-family=\"Times,serif\" font-size=\"14.00\" text-anchor=\"middle\" x=\"127.5708\" y=\"-342.3\">input_19: InputLayer</text>\n",
       "<polyline fill=\"none\" points=\"195.252,-324.5 195.252,-368.5 \" stroke=\"#000000\"/>\n",
       "<text fill=\"#000000\" font-family=\"Times,serif\" font-size=\"14.00\" text-anchor=\"middle\" x=\"223.0864\" y=\"-353.3\">input:</text>\n",
       "<polyline fill=\"none\" points=\"195.252,-346.5 250.9209,-346.5 \" stroke=\"#000000\"/>\n",
       "<text fill=\"#000000\" font-family=\"Times,serif\" font-size=\"14.00\" text-anchor=\"middle\" x=\"223.0864\" y=\"-331.3\">output:</text>\n",
       "<polyline fill=\"none\" points=\"250.9209,-324.5 250.9209,-368.5 \" stroke=\"#000000\"/>\n",
       "<text fill=\"#000000\" font-family=\"Times,serif\" font-size=\"14.00\" text-anchor=\"middle\" x=\"297.4072\" y=\"-353.3\">(None, None)</text>\n",
       "<polyline fill=\"none\" points=\"250.9209,-346.5 343.8936,-346.5 \" stroke=\"#000000\"/>\n",
       "<text fill=\"#000000\" font-family=\"Times,serif\" font-size=\"14.00\" text-anchor=\"middle\" x=\"297.4072\" y=\"-331.3\">(None, None)</text>\n",
       "</g>\n",
       "<!-- 112548608992 -->\n",
       "<g class=\"node\" id=\"node3\">\n",
       "<title>112548608992</title>\n",
       "<polygon fill=\"none\" points=\"28,-243.5 28,-287.5 375.7832,-287.5 375.7832,-243.5 28,-243.5\" stroke=\"#000000\"/>\n",
       "<text fill=\"#000000\" font-family=\"Times,serif\" font-size=\"14.00\" text-anchor=\"middle\" x=\"113.5708\" y=\"-261.3\">embedding_10: Embedding</text>\n",
       "<polyline fill=\"none\" points=\"199.1416,-243.5 199.1416,-287.5 \" stroke=\"#000000\"/>\n",
       "<text fill=\"#000000\" font-family=\"Times,serif\" font-size=\"14.00\" text-anchor=\"middle\" x=\"226.9761\" y=\"-272.3\">input:</text>\n",
       "<polyline fill=\"none\" points=\"199.1416,-265.5 254.8105,-265.5 \" stroke=\"#000000\"/>\n",
       "<text fill=\"#000000\" font-family=\"Times,serif\" font-size=\"14.00\" text-anchor=\"middle\" x=\"226.9761\" y=\"-250.3\">output:</text>\n",
       "<polyline fill=\"none\" points=\"254.8105,-243.5 254.8105,-287.5 \" stroke=\"#000000\"/>\n",
       "<text fill=\"#000000\" font-family=\"Times,serif\" font-size=\"14.00\" text-anchor=\"middle\" x=\"315.2969\" y=\"-272.3\">(None, None)</text>\n",
       "<polyline fill=\"none\" points=\"254.8105,-265.5 375.7832,-265.5 \" stroke=\"#000000\"/>\n",
       "<text fill=\"#000000\" font-family=\"Times,serif\" font-size=\"14.00\" text-anchor=\"middle\" x=\"315.2969\" y=\"-250.3\">(None, None, 256)</text>\n",
       "</g>\n",
       "<!-- 112548609048&#45;&gt;112548608992 -->\n",
       "<g class=\"edge\" id=\"edge1\">\n",
       "<title>112548609048-&gt;112548608992</title>\n",
       "<path d=\"M201.8916,-324.3664C201.8916,-316.1516 201.8916,-306.6579 201.8916,-297.7252\" fill=\"none\" stroke=\"#000000\"/>\n",
       "<polygon fill=\"#000000\" points=\"205.3917,-297.6068 201.8916,-287.6068 198.3917,-297.6069 205.3917,-297.6068\" stroke=\"#000000\"/>\n",
       "</g>\n",
       "<!-- 112548679752 -->\n",
       "<g class=\"node\" id=\"node2\">\n",
       "<title>112548679752</title>\n",
       "<polygon fill=\"none\" points=\"453.8896,-243.5 453.8896,-287.5 737.8936,-287.5 737.8936,-243.5 453.8896,-243.5\" stroke=\"#000000\"/>\n",
       "<text fill=\"#000000\" font-family=\"Times,serif\" font-size=\"14.00\" text-anchor=\"middle\" x=\"521.5708\" y=\"-261.3\">input_20: InputLayer</text>\n",
       "<polyline fill=\"none\" points=\"589.252,-243.5 589.252,-287.5 \" stroke=\"#000000\"/>\n",
       "<text fill=\"#000000\" font-family=\"Times,serif\" font-size=\"14.00\" text-anchor=\"middle\" x=\"617.0864\" y=\"-272.3\">input:</text>\n",
       "<polyline fill=\"none\" points=\"589.252,-265.5 644.9209,-265.5 \" stroke=\"#000000\"/>\n",
       "<text fill=\"#000000\" font-family=\"Times,serif\" font-size=\"14.00\" text-anchor=\"middle\" x=\"617.0864\" y=\"-250.3\">output:</text>\n",
       "<polyline fill=\"none\" points=\"644.9209,-243.5 644.9209,-287.5 \" stroke=\"#000000\"/>\n",
       "<text fill=\"#000000\" font-family=\"Times,serif\" font-size=\"14.00\" text-anchor=\"middle\" x=\"691.4072\" y=\"-272.3\">(None, None)</text>\n",
       "<polyline fill=\"none\" points=\"644.9209,-265.5 737.8936,-265.5 \" stroke=\"#000000\"/>\n",
       "<text fill=\"#000000\" font-family=\"Times,serif\" font-size=\"14.00\" text-anchor=\"middle\" x=\"691.4072\" y=\"-250.3\">(None, None)</text>\n",
       "</g>\n",
       "<!-- 112548609552 -->\n",
       "<g class=\"node\" id=\"node4\">\n",
       "<title>112548609552</title>\n",
       "<polygon fill=\"none\" points=\"422.2563,-162.5 422.2563,-206.5 769.5269,-206.5 769.5269,-162.5 422.2563,-162.5\" stroke=\"#000000\"/>\n",
       "<text fill=\"#000000\" font-family=\"Times,serif\" font-size=\"14.00\" text-anchor=\"middle\" x=\"507.5708\" y=\"-180.3\">embedding_11: Embedding</text>\n",
       "<polyline fill=\"none\" points=\"592.8853,-162.5 592.8853,-206.5 \" stroke=\"#000000\"/>\n",
       "<text fill=\"#000000\" font-family=\"Times,serif\" font-size=\"14.00\" text-anchor=\"middle\" x=\"620.7197\" y=\"-191.3\">input:</text>\n",
       "<polyline fill=\"none\" points=\"592.8853,-184.5 648.5542,-184.5 \" stroke=\"#000000\"/>\n",
       "<text fill=\"#000000\" font-family=\"Times,serif\" font-size=\"14.00\" text-anchor=\"middle\" x=\"620.7197\" y=\"-169.3\">output:</text>\n",
       "<polyline fill=\"none\" points=\"648.5542,-162.5 648.5542,-206.5 \" stroke=\"#000000\"/>\n",
       "<text fill=\"#000000\" font-family=\"Times,serif\" font-size=\"14.00\" text-anchor=\"middle\" x=\"709.0405\" y=\"-191.3\">(None, None)</text>\n",
       "<polyline fill=\"none\" points=\"648.5542,-184.5 769.5269,-184.5 \" stroke=\"#000000\"/>\n",
       "<text fill=\"#000000\" font-family=\"Times,serif\" font-size=\"14.00\" text-anchor=\"middle\" x=\"709.0405\" y=\"-169.3\">(None, None, 256)</text>\n",
       "</g>\n",
       "<!-- 112548679752&#45;&gt;112548609552 -->\n",
       "<g class=\"edge\" id=\"edge2\">\n",
       "<title>112548679752-&gt;112548609552</title>\n",
       "<path d=\"M595.8916,-243.3664C595.8916,-235.1516 595.8916,-225.6579 595.8916,-216.7252\" fill=\"none\" stroke=\"#000000\"/>\n",
       "<polygon fill=\"#000000\" points=\"599.3917,-216.6068 595.8916,-206.6068 592.3917,-216.6069 599.3917,-216.6068\" stroke=\"#000000\"/>\n",
       "</g>\n",
       "<!-- 112548609272 -->\n",
       "<g class=\"node\" id=\"node5\">\n",
       "<title>112548609272</title>\n",
       "<polygon fill=\"none\" points=\"0,-162.5 0,-206.5 403.7832,-206.5 403.7832,-162.5 0,-162.5\" stroke=\"#000000\"/>\n",
       "<text fill=\"#000000\" font-family=\"Times,serif\" font-size=\"14.00\" text-anchor=\"middle\" x=\"52.9224\" y=\"-180.3\">lstm_18: LSTM</text>\n",
       "<polyline fill=\"none\" points=\"105.8447,-162.5 105.8447,-206.5 \" stroke=\"#000000\"/>\n",
       "<text fill=\"#000000\" font-family=\"Times,serif\" font-size=\"14.00\" text-anchor=\"middle\" x=\"133.6792\" y=\"-191.3\">input:</text>\n",
       "<polyline fill=\"none\" points=\"105.8447,-184.5 161.5137,-184.5 \" stroke=\"#000000\"/>\n",
       "<text fill=\"#000000\" font-family=\"Times,serif\" font-size=\"14.00\" text-anchor=\"middle\" x=\"133.6792\" y=\"-169.3\">output:</text>\n",
       "<polyline fill=\"none\" points=\"161.5137,-162.5 161.5137,-206.5 \" stroke=\"#000000\"/>\n",
       "<text fill=\"#000000\" font-family=\"Times,serif\" font-size=\"14.00\" text-anchor=\"middle\" x=\"282.5\" y=\"-191.3\">(None, None, 256)</text>\n",
       "<polyline fill=\"none\" points=\"161.5137,-184.5 403.7832,-184.5 \" stroke=\"#000000\"/>\n",
       "<text fill=\"#000000\" font-family=\"Times,serif\" font-size=\"14.00\" text-anchor=\"middle\" x=\"282.6484\" y=\"-169.3\">[(None, 256), (None, 256), (None, 256)]</text>\n",
       "</g>\n",
       "<!-- 112548608992&#45;&gt;112548609272 -->\n",
       "<g class=\"edge\" id=\"edge3\">\n",
       "<title>112548608992-&gt;112548609272</title>\n",
       "<path d=\"M201.8916,-243.3664C201.8916,-235.1516 201.8916,-225.6579 201.8916,-216.7252\" fill=\"none\" stroke=\"#000000\"/>\n",
       "<polygon fill=\"#000000\" points=\"205.3917,-216.6068 201.8916,-206.6068 198.3917,-216.6069 205.3917,-216.6068\" stroke=\"#000000\"/>\n",
       "</g>\n",
       "<!-- 112548680872 -->\n",
       "<g class=\"node\" id=\"node6\">\n",
       "<title>112548680872</title>\n",
       "<polygon fill=\"none\" points=\"178.3379,-81.5 178.3379,-125.5 619.4453,-125.5 619.4453,-81.5 178.3379,-81.5\" stroke=\"#000000\"/>\n",
       "<text fill=\"#000000\" font-family=\"Times,serif\" font-size=\"14.00\" text-anchor=\"middle\" x=\"231.2603\" y=\"-99.3\">lstm_19: LSTM</text>\n",
       "<polyline fill=\"none\" points=\"284.1826,-81.5 284.1826,-125.5 \" stroke=\"#000000\"/>\n",
       "<text fill=\"#000000\" font-family=\"Times,serif\" font-size=\"14.00\" text-anchor=\"middle\" x=\"312.0171\" y=\"-110.3\">input:</text>\n",
       "<polyline fill=\"none\" points=\"284.1826,-103.5 339.8516,-103.5 \" stroke=\"#000000\"/>\n",
       "<text fill=\"#000000\" font-family=\"Times,serif\" font-size=\"14.00\" text-anchor=\"middle\" x=\"312.0171\" y=\"-88.3\">output:</text>\n",
       "<polyline fill=\"none\" points=\"339.8516,-81.5 339.8516,-125.5 \" stroke=\"#000000\"/>\n",
       "<text fill=\"#000000\" font-family=\"Times,serif\" font-size=\"14.00\" text-anchor=\"middle\" x=\"479.6484\" y=\"-110.3\">[(None, None, 256), (None, 256), (None, 256)]</text>\n",
       "<polyline fill=\"none\" points=\"339.8516,-103.5 619.4453,-103.5 \" stroke=\"#000000\"/>\n",
       "<text fill=\"#000000\" font-family=\"Times,serif\" font-size=\"14.00\" text-anchor=\"middle\" x=\"479.3379\" y=\"-88.3\">(None, None, 256)</text>\n",
       "</g>\n",
       "<!-- 112548609552&#45;&gt;112548680872 -->\n",
       "<g class=\"edge\" id=\"edge4\">\n",
       "<title>112548609552-&gt;112548680872</title>\n",
       "<path d=\"M542.3207,-162.4734C517.4594,-152.2512 487.738,-140.0308 461.8147,-129.3719\" fill=\"none\" stroke=\"#000000\"/>\n",
       "<polygon fill=\"#000000\" points=\"463.0316,-126.088 452.4518,-125.5222 460.3696,-132.5621 463.0316,-126.088\" stroke=\"#000000\"/>\n",
       "</g>\n",
       "<!-- 112548609272&#45;&gt;112548680872 -->\n",
       "<g class=\"edge\" id=\"edge5\">\n",
       "<title>112548609272-&gt;112548680872</title>\n",
       "<path d=\"M255.4625,-162.4734C280.3238,-152.2512 310.0452,-140.0308 335.9685,-129.3719\" fill=\"none\" stroke=\"#000000\"/>\n",
       "<polygon fill=\"#000000\" points=\"337.4136,-132.5621 345.3314,-125.5222 334.7516,-126.088 337.4136,-132.5621\" stroke=\"#000000\"/>\n",
       "</g>\n",
       "<!-- 112548681096 -->\n",
       "<g class=\"node\" id=\"node7\">\n",
       "<title>112548681096</title>\n",
       "<polygon fill=\"none\" points=\"258.4448,-.5 258.4448,-44.5 539.3384,-44.5 539.3384,-.5 258.4448,-.5\" stroke=\"#000000\"/>\n",
       "<text fill=\"#000000\" font-family=\"Times,serif\" font-size=\"14.00\" text-anchor=\"middle\" x=\"310.5708\" y=\"-18.3\">dense_5: Dense</text>\n",
       "<polyline fill=\"none\" points=\"362.6968,-.5 362.6968,-44.5 \" stroke=\"#000000\"/>\n",
       "<text fill=\"#000000\" font-family=\"Times,serif\" font-size=\"14.00\" text-anchor=\"middle\" x=\"390.5313\" y=\"-29.3\">input:</text>\n",
       "<polyline fill=\"none\" points=\"362.6968,-22.5 418.3657,-22.5 \" stroke=\"#000000\"/>\n",
       "<text fill=\"#000000\" font-family=\"Times,serif\" font-size=\"14.00\" text-anchor=\"middle\" x=\"390.5313\" y=\"-7.3\">output:</text>\n",
       "<polyline fill=\"none\" points=\"418.3657,-.5 418.3657,-44.5 \" stroke=\"#000000\"/>\n",
       "<text fill=\"#000000\" font-family=\"Times,serif\" font-size=\"14.00\" text-anchor=\"middle\" x=\"478.8521\" y=\"-29.3\">(None, None, 256)</text>\n",
       "<polyline fill=\"none\" points=\"418.3657,-22.5 539.3384,-22.5 \" stroke=\"#000000\"/>\n",
       "<text fill=\"#000000\" font-family=\"Times,serif\" font-size=\"14.00\" text-anchor=\"middle\" x=\"478.8521\" y=\"-7.3\">(None, None, 93)</text>\n",
       "</g>\n",
       "<!-- 112548680872&#45;&gt;112548681096 -->\n",
       "<g class=\"edge\" id=\"edge7\">\n",
       "<title>112548680872-&gt;112548681096</title>\n",
       "<path d=\"M398.8916,-81.3664C398.8916,-73.1516 398.8916,-63.6579 398.8916,-54.7252\" fill=\"none\" stroke=\"#000000\"/>\n",
       "<polygon fill=\"#000000\" points=\"402.3917,-54.6068 398.8916,-44.6068 395.3917,-54.6069 402.3917,-54.6068\" stroke=\"#000000\"/>\n",
       "</g>\n",
       "</g>\n",
       "</svg>"
      ],
      "text/plain": [
       "<IPython.core.display.SVG object>"
      ]
     },
     "execution_count": 113,
     "metadata": {},
     "output_type": "execute_result"
    }
   ],
   "source": [
    "dot = model_to_dot(model, show_shapes=True, )\n",
    "SVG(dot.create(prog='dot', format='svg'))"
   ]
  },
  {
   "cell_type": "code",
   "execution_count": null,
   "metadata": {},
   "outputs": [],
   "source": []
  },
  {
   "cell_type": "code",
   "execution_count": null,
   "metadata": {},
   "outputs": [],
   "source": []
  },
  {
   "cell_type": "code",
   "execution_count": null,
   "metadata": {},
   "outputs": [],
   "source": []
  },
  {
   "cell_type": "code",
   "execution_count": 9,
   "metadata": {},
   "outputs": [],
   "source": [
    "vocab_size = 50\n",
    "src_txt_length = 100\n",
    "sum_txt_length = 20\n",
    "# encoder input model\n",
    "inputs = Input(shape=(src_txt_length,))\n",
    "encoder1 = Embedding(vocab_size, 32)(inputs)\n",
    "encoder2 = LSTM(128)(encoder1)\n",
    "encoder3 = RepeatVector(sum_txt_length)(encoder2)\n",
    "# decoder output model\n",
    "decoder1 = LSTM(128, return_sequences=True)(encoder3)\n",
    "outputs = TimeDistributed(Dense(vocab_size, activation='softmax'))(decoder1)\n",
    "# tie it together\n",
    "model = Model(inputs=inputs, outputs=outputs)\n",
    "model.compile(loss='categorical_crossentropy', optimizer='adam')"
   ]
  },
  {
   "cell_type": "code",
   "execution_count": 10,
   "metadata": {},
   "outputs": [
    {
     "name": "stdout",
     "output_type": "stream",
     "text": [
      "_________________________________________________________________\n",
      "Layer (type)                 Output Shape              Param #   \n",
      "=================================================================\n",
      "input_4 (InputLayer)         (None, 100)               0         \n",
      "_________________________________________________________________\n",
      "embedding_3 (Embedding)      (None, 100, 32)           1600      \n",
      "_________________________________________________________________\n",
      "lstm_5 (LSTM)                (None, 128)               82432     \n",
      "_________________________________________________________________\n",
      "repeat_vector_3 (RepeatVecto (None, 20, 128)           0         \n",
      "_________________________________________________________________\n",
      "lstm_6 (LSTM)                (None, 20, 128)           131584    \n",
      "_________________________________________________________________\n",
      "time_distributed_2 (TimeDist (None, 20, 50)            6450      \n",
      "=================================================================\n",
      "Total params: 222,066\n",
      "Trainable params: 222,066\n",
      "Non-trainable params: 0\n",
      "_________________________________________________________________\n"
     ]
    }
   ],
   "source": [
    "model.summary()"
   ]
  },
  {
   "cell_type": "code",
   "execution_count": 11,
   "metadata": {},
   "outputs": [
    {
     "data": {
      "image/svg+xml": [
       "<svg height=\"458pt\" viewBox=\"0.00 0.00 488.79 458.00\" width=\"489pt\" xmlns=\"http://www.w3.org/2000/svg\" xmlns:xlink=\"http://www.w3.org/1999/xlink\">\n",
       "<g class=\"graph\" id=\"graph0\" transform=\"scale(1 1) rotate(0) translate(4 454)\">\n",
       "<title>G</title>\n",
       "<polygon fill=\"#ffffff\" points=\"-4,4 -4,-454 484.79,-454 484.79,4 -4,4\" stroke=\"transparent\"/>\n",
       "<!-- 47957239736 -->\n",
       "<g class=\"node\" id=\"node1\">\n",
       "<title>47957239736</title>\n",
       "<polygon fill=\"none\" points=\"106.5552,-405.5 106.5552,-449.5 374.2349,-449.5 374.2349,-405.5 106.5552,-405.5\" stroke=\"#000000\"/>\n",
       "<text fill=\"#000000\" font-family=\"Times,serif\" font-size=\"14.00\" text-anchor=\"middle\" x=\"170.7363\" y=\"-423.3\">input_4: InputLayer</text>\n",
       "<polyline fill=\"none\" points=\"234.9175,-405.5 234.9175,-449.5 \" stroke=\"#000000\"/>\n",
       "<text fill=\"#000000\" font-family=\"Times,serif\" font-size=\"14.00\" text-anchor=\"middle\" x=\"262.752\" y=\"-434.3\">input:</text>\n",
       "<polyline fill=\"none\" points=\"234.9175,-427.5 290.5864,-427.5 \" stroke=\"#000000\"/>\n",
       "<text fill=\"#000000\" font-family=\"Times,serif\" font-size=\"14.00\" text-anchor=\"middle\" x=\"262.752\" y=\"-412.3\">output:</text>\n",
       "<polyline fill=\"none\" points=\"290.5864,-405.5 290.5864,-449.5 \" stroke=\"#000000\"/>\n",
       "<text fill=\"#000000\" font-family=\"Times,serif\" font-size=\"14.00\" text-anchor=\"middle\" x=\"332.4106\" y=\"-434.3\">(None, 100)</text>\n",
       "<polyline fill=\"none\" points=\"290.5864,-427.5 374.2349,-427.5 \" stroke=\"#000000\"/>\n",
       "<text fill=\"#000000\" font-family=\"Times,serif\" font-size=\"14.00\" text-anchor=\"middle\" x=\"332.4106\" y=\"-412.3\">(None, 100)</text>\n",
       "</g>\n",
       "<!-- 47947381560 -->\n",
       "<g class=\"node\" id=\"node2\">\n",
       "<title>47947381560</title>\n",
       "<polygon fill=\"none\" points=\"78.1655,-324.5 78.1655,-368.5 402.6245,-368.5 402.6245,-324.5 78.1655,-324.5\" stroke=\"#000000\"/>\n",
       "<text fill=\"#000000\" font-family=\"Times,serif\" font-size=\"14.00\" text-anchor=\"middle\" x=\"160.2363\" y=\"-342.3\">embedding_3: Embedding</text>\n",
       "<polyline fill=\"none\" points=\"242.3071,-324.5 242.3071,-368.5 \" stroke=\"#000000\"/>\n",
       "<text fill=\"#000000\" font-family=\"Times,serif\" font-size=\"14.00\" text-anchor=\"middle\" x=\"270.1416\" y=\"-353.3\">input:</text>\n",
       "<polyline fill=\"none\" points=\"242.3071,-346.5 297.9761,-346.5 \" stroke=\"#000000\"/>\n",
       "<text fill=\"#000000\" font-family=\"Times,serif\" font-size=\"14.00\" text-anchor=\"middle\" x=\"270.1416\" y=\"-331.3\">output:</text>\n",
       "<polyline fill=\"none\" points=\"297.9761,-324.5 297.9761,-368.5 \" stroke=\"#000000\"/>\n",
       "<text fill=\"#000000\" font-family=\"Times,serif\" font-size=\"14.00\" text-anchor=\"middle\" x=\"350.3003\" y=\"-353.3\">(None, 100)</text>\n",
       "<polyline fill=\"none\" points=\"297.9761,-346.5 402.6245,-346.5 \" stroke=\"#000000\"/>\n",
       "<text fill=\"#000000\" font-family=\"Times,serif\" font-size=\"14.00\" text-anchor=\"middle\" x=\"350.3003\" y=\"-331.3\">(None, 100, 32)</text>\n",
       "</g>\n",
       "<!-- 47957239736&#45;&gt;47947381560 -->\n",
       "<g class=\"edge\" id=\"edge1\">\n",
       "<title>47957239736-&gt;47947381560</title>\n",
       "<path d=\"M240.395,-405.3664C240.395,-397.1516 240.395,-387.6579 240.395,-378.7252\" fill=\"none\" stroke=\"#000000\"/>\n",
       "<polygon fill=\"#000000\" points=\"243.8951,-378.6068 240.395,-368.6068 236.8951,-378.6069 243.8951,-378.6068\" stroke=\"#000000\"/>\n",
       "</g>\n",
       "<!-- 47955991800 -->\n",
       "<g class=\"node\" id=\"node3\">\n",
       "<title>47955991800</title>\n",
       "<polygon fill=\"none\" points=\"110.814,-243.5 110.814,-287.5 369.9761,-287.5 369.9761,-243.5 110.814,-243.5\" stroke=\"#000000\"/>\n",
       "<text fill=\"#000000\" font-family=\"Times,serif\" font-size=\"14.00\" text-anchor=\"middle\" x=\"160.2363\" y=\"-261.3\">lstm_5: LSTM</text>\n",
       "<polyline fill=\"none\" points=\"209.6587,-243.5 209.6587,-287.5 \" stroke=\"#000000\"/>\n",
       "<text fill=\"#000000\" font-family=\"Times,serif\" font-size=\"14.00\" text-anchor=\"middle\" x=\"237.4932\" y=\"-272.3\">input:</text>\n",
       "<polyline fill=\"none\" points=\"209.6587,-265.5 265.3276,-265.5 \" stroke=\"#000000\"/>\n",
       "<text fill=\"#000000\" font-family=\"Times,serif\" font-size=\"14.00\" text-anchor=\"middle\" x=\"237.4932\" y=\"-250.3\">output:</text>\n",
       "<polyline fill=\"none\" points=\"265.3276,-243.5 265.3276,-287.5 \" stroke=\"#000000\"/>\n",
       "<text fill=\"#000000\" font-family=\"Times,serif\" font-size=\"14.00\" text-anchor=\"middle\" x=\"317.6519\" y=\"-272.3\">(None, 100, 32)</text>\n",
       "<polyline fill=\"none\" points=\"265.3276,-265.5 369.9761,-265.5 \" stroke=\"#000000\"/>\n",
       "<text fill=\"#000000\" font-family=\"Times,serif\" font-size=\"14.00\" text-anchor=\"middle\" x=\"317.6519\" y=\"-250.3\">(None, 128)</text>\n",
       "</g>\n",
       "<!-- 47947381560&#45;&gt;47955991800 -->\n",
       "<g class=\"edge\" id=\"edge2\">\n",
       "<title>47947381560-&gt;47955991800</title>\n",
       "<path d=\"M240.395,-324.3664C240.395,-316.1516 240.395,-306.6579 240.395,-297.7252\" fill=\"none\" stroke=\"#000000\"/>\n",
       "<polygon fill=\"#000000\" points=\"243.8951,-297.6068 240.395,-287.6068 236.8951,-297.6069 243.8951,-297.6068\" stroke=\"#000000\"/>\n",
       "</g>\n",
       "<!-- 47956589760 -->\n",
       "<g class=\"node\" id=\"node4\">\n",
       "<title>47956589760</title>\n",
       "<polygon fill=\"none\" points=\"65.7515,-162.5 65.7515,-206.5 415.0386,-206.5 415.0386,-162.5 65.7515,-162.5\" stroke=\"#000000\"/>\n",
       "<text fill=\"#000000\" font-family=\"Times,serif\" font-size=\"14.00\" text-anchor=\"middle\" x=\"160.2363\" y=\"-180.3\">repeat_vector_3: RepeatVector</text>\n",
       "<polyline fill=\"none\" points=\"254.7212,-162.5 254.7212,-206.5 \" stroke=\"#000000\"/>\n",
       "<text fill=\"#000000\" font-family=\"Times,serif\" font-size=\"14.00\" text-anchor=\"middle\" x=\"282.5557\" y=\"-191.3\">input:</text>\n",
       "<polyline fill=\"none\" points=\"254.7212,-184.5 310.3901,-184.5 \" stroke=\"#000000\"/>\n",
       "<text fill=\"#000000\" font-family=\"Times,serif\" font-size=\"14.00\" text-anchor=\"middle\" x=\"282.5557\" y=\"-169.3\">output:</text>\n",
       "<polyline fill=\"none\" points=\"310.3901,-162.5 310.3901,-206.5 \" stroke=\"#000000\"/>\n",
       "<text fill=\"#000000\" font-family=\"Times,serif\" font-size=\"14.00\" text-anchor=\"middle\" x=\"362.7144\" y=\"-191.3\">(None, 128)</text>\n",
       "<polyline fill=\"none\" points=\"310.3901,-184.5 415.0386,-184.5 \" stroke=\"#000000\"/>\n",
       "<text fill=\"#000000\" font-family=\"Times,serif\" font-size=\"14.00\" text-anchor=\"middle\" x=\"362.7144\" y=\"-169.3\">(None, 20, 128)</text>\n",
       "</g>\n",
       "<!-- 47955991800&#45;&gt;47956589760 -->\n",
       "<g class=\"edge\" id=\"edge3\">\n",
       "<title>47955991800-&gt;47956589760</title>\n",
       "<path d=\"M240.395,-243.3664C240.395,-235.1516 240.395,-225.6579 240.395,-216.7252\" fill=\"none\" stroke=\"#000000\"/>\n",
       "<polygon fill=\"#000000\" points=\"243.8951,-216.6068 240.395,-206.6068 236.8951,-216.6069 243.8951,-216.6068\" stroke=\"#000000\"/>\n",
       "</g>\n",
       "<!-- 47955484800 -->\n",
       "<g class=\"node\" id=\"node5\">\n",
       "<title>47955484800</title>\n",
       "<polygon fill=\"none\" points=\"110.814,-81.5 110.814,-125.5 369.9761,-125.5 369.9761,-81.5 110.814,-81.5\" stroke=\"#000000\"/>\n",
       "<text fill=\"#000000\" font-family=\"Times,serif\" font-size=\"14.00\" text-anchor=\"middle\" x=\"160.2363\" y=\"-99.3\">lstm_6: LSTM</text>\n",
       "<polyline fill=\"none\" points=\"209.6587,-81.5 209.6587,-125.5 \" stroke=\"#000000\"/>\n",
       "<text fill=\"#000000\" font-family=\"Times,serif\" font-size=\"14.00\" text-anchor=\"middle\" x=\"237.4932\" y=\"-110.3\">input:</text>\n",
       "<polyline fill=\"none\" points=\"209.6587,-103.5 265.3276,-103.5 \" stroke=\"#000000\"/>\n",
       "<text fill=\"#000000\" font-family=\"Times,serif\" font-size=\"14.00\" text-anchor=\"middle\" x=\"237.4932\" y=\"-88.3\">output:</text>\n",
       "<polyline fill=\"none\" points=\"265.3276,-81.5 265.3276,-125.5 \" stroke=\"#000000\"/>\n",
       "<text fill=\"#000000\" font-family=\"Times,serif\" font-size=\"14.00\" text-anchor=\"middle\" x=\"317.6519\" y=\"-110.3\">(None, 20, 128)</text>\n",
       "<polyline fill=\"none\" points=\"265.3276,-103.5 369.9761,-103.5 \" stroke=\"#000000\"/>\n",
       "<text fill=\"#000000\" font-family=\"Times,serif\" font-size=\"14.00\" text-anchor=\"middle\" x=\"317.6519\" y=\"-88.3\">(None, 20, 128)</text>\n",
       "</g>\n",
       "<!-- 47956589760&#45;&gt;47955484800 -->\n",
       "<g class=\"edge\" id=\"edge4\">\n",
       "<title>47956589760-&gt;47955484800</title>\n",
       "<path d=\"M240.395,-162.3664C240.395,-154.1516 240.395,-144.6579 240.395,-135.7252\" fill=\"none\" stroke=\"#000000\"/>\n",
       "<polygon fill=\"#000000\" points=\"243.8951,-135.6068 240.395,-125.6068 236.8951,-135.6069 243.8951,-135.6068\" stroke=\"#000000\"/>\n",
       "</g>\n",
       "<!-- 47962815568 -->\n",
       "<g class=\"node\" id=\"node6\">\n",
       "<title>47962815568</title>\n",
       "<polygon fill=\"none\" points=\"0,-.5 0,-44.5 480.79,-44.5 480.79,-.5 0,-.5\" stroke=\"#000000\"/>\n",
       "<text fill=\"#000000\" font-family=\"Times,serif\" font-size=\"14.00\" text-anchor=\"middle\" x=\"160.2363\" y=\"-18.3\">time_distributed_2(dense_2): TimeDistributed(Dense)</text>\n",
       "<polyline fill=\"none\" points=\"320.4727,-.5 320.4727,-44.5 \" stroke=\"#000000\"/>\n",
       "<text fill=\"#000000\" font-family=\"Times,serif\" font-size=\"14.00\" text-anchor=\"middle\" x=\"348.3071\" y=\"-29.3\">input:</text>\n",
       "<polyline fill=\"none\" points=\"320.4727,-22.5 376.1416,-22.5 \" stroke=\"#000000\"/>\n",
       "<text fill=\"#000000\" font-family=\"Times,serif\" font-size=\"14.00\" text-anchor=\"middle\" x=\"348.3071\" y=\"-7.3\">output:</text>\n",
       "<polyline fill=\"none\" points=\"376.1416,-.5 376.1416,-44.5 \" stroke=\"#000000\"/>\n",
       "<text fill=\"#000000\" font-family=\"Times,serif\" font-size=\"14.00\" text-anchor=\"middle\" x=\"428.4658\" y=\"-29.3\">(None, 20, 128)</text>\n",
       "<polyline fill=\"none\" points=\"376.1416,-22.5 480.79,-22.5 \" stroke=\"#000000\"/>\n",
       "<text fill=\"#000000\" font-family=\"Times,serif\" font-size=\"14.00\" text-anchor=\"middle\" x=\"428.4658\" y=\"-7.3\">(None, 20, 50)</text>\n",
       "</g>\n",
       "<!-- 47955484800&#45;&gt;47962815568 -->\n",
       "<g class=\"edge\" id=\"edge5\">\n",
       "<title>47955484800-&gt;47962815568</title>\n",
       "<path d=\"M240.395,-81.3664C240.395,-73.1516 240.395,-63.6579 240.395,-54.7252\" fill=\"none\" stroke=\"#000000\"/>\n",
       "<polygon fill=\"#000000\" points=\"243.8951,-54.6068 240.395,-44.6068 236.8951,-54.6069 243.8951,-54.6068\" stroke=\"#000000\"/>\n",
       "</g>\n",
       "</g>\n",
       "</svg>"
      ],
      "text/plain": [
       "<IPython.core.display.SVG object>"
      ]
     },
     "execution_count": 11,
     "metadata": {},
     "output_type": "execute_result"
    }
   ],
   "source": [
    "dot = model_to_dot(model, show_shapes=True, )\n",
    "SVG(dot.create(prog='dot', format='svg'))"
   ]
  },
  {
   "cell_type": "code",
   "execution_count": 20,
   "metadata": {},
   "outputs": [],
   "source": [
    "# source text input model\n",
    "inputs1 = Input(shape=(src_txt_length,))\n",
    "am1 = Embedding(vocab_size, 32)(inputs1)\n",
    "am2 = LSTM(128)(am1)\n",
    "# summary input model\n",
    "inputs2 = Input(shape=(sum_txt_length,))\n",
    "sm1 = Embedding(vocab_size, 32)(inputs2)\n",
    "sm2 = LSTM(128)(sm1)\n",
    "# decoder output model\n",
    "decoder1 = concatenate([am2, sm2])\n",
    "outputs = Dense(vocab_size, activation='softmax')(decoder1)\n",
    "# tie it together [article, summary] [word]\n",
    "model = Model(inputs=[inputs1, inputs2], outputs=outputs)\n",
    "model.compile(loss='categorical_crossentropy', optimizer='adam')"
   ]
  },
  {
   "cell_type": "code",
   "execution_count": 21,
   "metadata": {},
   "outputs": [
    {
     "name": "stdout",
     "output_type": "stream",
     "text": [
      "__________________________________________________________________________________________________\n",
      "Layer (type)                    Output Shape         Param #     Connected to                     \n",
      "==================================================================================================\n",
      "input_11 (InputLayer)           (None, 100)          0                                            \n",
      "__________________________________________________________________________________________________\n",
      "input_12 (InputLayer)           (None, 20)           0                                            \n",
      "__________________________________________________________________________________________________\n",
      "embedding_10 (Embedding)        (None, 100, 32)      1600        input_11[0][0]                   \n",
      "__________________________________________________________________________________________________\n",
      "embedding_11 (Embedding)        (None, 20, 32)       1600        input_12[0][0]                   \n",
      "__________________________________________________________________________________________________\n",
      "lstm_13 (LSTM)                  (None, 128)          82432       embedding_10[0][0]               \n",
      "__________________________________________________________________________________________________\n",
      "lstm_14 (LSTM)                  (None, 128)          82432       embedding_11[0][0]               \n",
      "__________________________________________________________________________________________________\n",
      "concatenate_2 (Concatenate)     (None, 256)          0           lstm_13[0][0]                    \n",
      "                                                                 lstm_14[0][0]                    \n",
      "__________________________________________________________________________________________________\n",
      "dense_4 (Dense)                 (None, 50)           12850       concatenate_2[0][0]              \n",
      "==================================================================================================\n",
      "Total params: 180,914\n",
      "Trainable params: 180,914\n",
      "Non-trainable params: 0\n",
      "__________________________________________________________________________________________________\n"
     ]
    }
   ],
   "source": [
    "model.summary()"
   ]
  },
  {
   "cell_type": "code",
   "execution_count": 22,
   "metadata": {},
   "outputs": [
    {
     "data": {
      "image/svg+xml": [
       "<svg height=\"377pt\" viewBox=\"0.00 0.00 681.70 377.00\" width=\"682pt\" xmlns=\"http://www.w3.org/2000/svg\" xmlns:xlink=\"http://www.w3.org/1999/xlink\">\n",
       "<g class=\"graph\" id=\"graph0\" transform=\"scale(1 1) rotate(0) translate(4 373)\">\n",
       "<title>G</title>\n",
       "<polygon fill=\"#ffffff\" points=\"-4,4 -4,-373 677.7026,-373 677.7026,4 -4,4\" stroke=\"transparent\"/>\n",
       "<!-- 47983909184 -->\n",
       "<g class=\"node\" id=\"node1\">\n",
       "<title>47983909184</title>\n",
       "<polygon fill=\"none\" points=\"28.646,-324.5 28.646,-368.5 302.813,-368.5 302.813,-324.5 28.646,-324.5\" stroke=\"#000000\"/>\n",
       "<text fill=\"#000000\" font-family=\"Times,serif\" font-size=\"14.00\" text-anchor=\"middle\" x=\"96.0708\" y=\"-342.3\">input_11: InputLayer</text>\n",
       "<polyline fill=\"none\" points=\"163.4956,-324.5 163.4956,-368.5 \" stroke=\"#000000\"/>\n",
       "<text fill=\"#000000\" font-family=\"Times,serif\" font-size=\"14.00\" text-anchor=\"middle\" x=\"191.3301\" y=\"-353.3\">input:</text>\n",
       "<polyline fill=\"none\" points=\"163.4956,-346.5 219.1646,-346.5 \" stroke=\"#000000\"/>\n",
       "<text fill=\"#000000\" font-family=\"Times,serif\" font-size=\"14.00\" text-anchor=\"middle\" x=\"191.3301\" y=\"-331.3\">output:</text>\n",
       "<polyline fill=\"none\" points=\"219.1646,-324.5 219.1646,-368.5 \" stroke=\"#000000\"/>\n",
       "<text fill=\"#000000\" font-family=\"Times,serif\" font-size=\"14.00\" text-anchor=\"middle\" x=\"260.9888\" y=\"-353.3\">(None, 100)</text>\n",
       "<polyline fill=\"none\" points=\"219.1646,-346.5 302.813,-346.5 \" stroke=\"#000000\"/>\n",
       "<text fill=\"#000000\" font-family=\"Times,serif\" font-size=\"14.00\" text-anchor=\"middle\" x=\"260.9888\" y=\"-331.3\">(None, 100)</text>\n",
       "</g>\n",
       "<!-- 47983909240 -->\n",
       "<g class=\"node\" id=\"node3\">\n",
       "<title>47983909240</title>\n",
       "<polygon fill=\"none\" points=\"0,-243.5 0,-287.5 331.459,-287.5 331.459,-243.5 0,-243.5\" stroke=\"#000000\"/>\n",
       "<text fill=\"#000000\" font-family=\"Times,serif\" font-size=\"14.00\" text-anchor=\"middle\" x=\"85.5708\" y=\"-261.3\">embedding_10: Embedding</text>\n",
       "<polyline fill=\"none\" points=\"171.1416,-243.5 171.1416,-287.5 \" stroke=\"#000000\"/>\n",
       "<text fill=\"#000000\" font-family=\"Times,serif\" font-size=\"14.00\" text-anchor=\"middle\" x=\"198.9761\" y=\"-272.3\">input:</text>\n",
       "<polyline fill=\"none\" points=\"171.1416,-265.5 226.8105,-265.5 \" stroke=\"#000000\"/>\n",
       "<text fill=\"#000000\" font-family=\"Times,serif\" font-size=\"14.00\" text-anchor=\"middle\" x=\"198.9761\" y=\"-250.3\">output:</text>\n",
       "<polyline fill=\"none\" points=\"226.8105,-243.5 226.8105,-287.5 \" stroke=\"#000000\"/>\n",
       "<text fill=\"#000000\" font-family=\"Times,serif\" font-size=\"14.00\" text-anchor=\"middle\" x=\"279.1348\" y=\"-272.3\">(None, 100)</text>\n",
       "<polyline fill=\"none\" points=\"226.8105,-265.5 331.459,-265.5 \" stroke=\"#000000\"/>\n",
       "<text fill=\"#000000\" font-family=\"Times,serif\" font-size=\"14.00\" text-anchor=\"middle\" x=\"279.1348\" y=\"-250.3\">(None, 100, 32)</text>\n",
       "</g>\n",
       "<!-- 47983909184&#45;&gt;47983909240 -->\n",
       "<g class=\"edge\" id=\"edge1\">\n",
       "<title>47983909184-&gt;47983909240</title>\n",
       "<path d=\"M165.7295,-324.3664C165.7295,-316.1516 165.7295,-306.6579 165.7295,-297.7252\" fill=\"none\" stroke=\"#000000\"/>\n",
       "<polygon fill=\"#000000\" points=\"169.2296,-297.6068 165.7295,-287.6068 162.2296,-297.6069 169.2296,-297.6068\" stroke=\"#000000\"/>\n",
       "</g>\n",
       "<!-- 47983619320 -->\n",
       "<g class=\"node\" id=\"node2\">\n",
       "<title>47983619320</title>\n",
       "<polygon fill=\"none\" points=\"377.8896,-324.5 377.8896,-368.5 645.5693,-368.5 645.5693,-324.5 377.8896,-324.5\" stroke=\"#000000\"/>\n",
       "<text fill=\"#000000\" font-family=\"Times,serif\" font-size=\"14.00\" text-anchor=\"middle\" x=\"445.5708\" y=\"-342.3\">input_12: InputLayer</text>\n",
       "<polyline fill=\"none\" points=\"513.252,-324.5 513.252,-368.5 \" stroke=\"#000000\"/>\n",
       "<text fill=\"#000000\" font-family=\"Times,serif\" font-size=\"14.00\" text-anchor=\"middle\" x=\"541.0864\" y=\"-353.3\">input:</text>\n",
       "<polyline fill=\"none\" points=\"513.252,-346.5 568.9209,-346.5 \" stroke=\"#000000\"/>\n",
       "<text fill=\"#000000\" font-family=\"Times,serif\" font-size=\"14.00\" text-anchor=\"middle\" x=\"541.0864\" y=\"-331.3\">output:</text>\n",
       "<polyline fill=\"none\" points=\"568.9209,-324.5 568.9209,-368.5 \" stroke=\"#000000\"/>\n",
       "<text fill=\"#000000\" font-family=\"Times,serif\" font-size=\"14.00\" text-anchor=\"middle\" x=\"607.2451\" y=\"-353.3\">(None, 20)</text>\n",
       "<polyline fill=\"none\" points=\"568.9209,-346.5 645.5693,-346.5 \" stroke=\"#000000\"/>\n",
       "<text fill=\"#000000\" font-family=\"Times,serif\" font-size=\"14.00\" text-anchor=\"middle\" x=\"607.2451\" y=\"-331.3\">(None, 20)</text>\n",
       "</g>\n",
       "<!-- 47983909856 -->\n",
       "<g class=\"node\" id=\"node4\">\n",
       "<title>47983909856</title>\n",
       "<polygon fill=\"none\" points=\"349.7563,-243.5 349.7563,-287.5 673.7026,-287.5 673.7026,-243.5 349.7563,-243.5\" stroke=\"#000000\"/>\n",
       "<text fill=\"#000000\" font-family=\"Times,serif\" font-size=\"14.00\" text-anchor=\"middle\" x=\"435.0708\" y=\"-261.3\">embedding_11: Embedding</text>\n",
       "<polyline fill=\"none\" points=\"520.3853,-243.5 520.3853,-287.5 \" stroke=\"#000000\"/>\n",
       "<text fill=\"#000000\" font-family=\"Times,serif\" font-size=\"14.00\" text-anchor=\"middle\" x=\"548.2197\" y=\"-272.3\">input:</text>\n",
       "<polyline fill=\"none\" points=\"520.3853,-265.5 576.0542,-265.5 \" stroke=\"#000000\"/>\n",
       "<text fill=\"#000000\" font-family=\"Times,serif\" font-size=\"14.00\" text-anchor=\"middle\" x=\"548.2197\" y=\"-250.3\">output:</text>\n",
       "<polyline fill=\"none\" points=\"576.0542,-243.5 576.0542,-287.5 \" stroke=\"#000000\"/>\n",
       "<text fill=\"#000000\" font-family=\"Times,serif\" font-size=\"14.00\" text-anchor=\"middle\" x=\"624.8784\" y=\"-272.3\">(None, 20)</text>\n",
       "<polyline fill=\"none\" points=\"576.0542,-265.5 673.7026,-265.5 \" stroke=\"#000000\"/>\n",
       "<text fill=\"#000000\" font-family=\"Times,serif\" font-size=\"14.00\" text-anchor=\"middle\" x=\"624.8784\" y=\"-250.3\">(None, 20, 32)</text>\n",
       "</g>\n",
       "<!-- 47983619320&#45;&gt;47983909856 -->\n",
       "<g class=\"edge\" id=\"edge2\">\n",
       "<title>47983619320-&gt;47983909856</title>\n",
       "<path d=\"M511.7295,-324.3664C511.7295,-316.1516 511.7295,-306.6579 511.7295,-297.7252\" fill=\"none\" stroke=\"#000000\"/>\n",
       "<polygon fill=\"#000000\" points=\"515.2296,-297.6068 511.7295,-287.6068 508.2296,-297.6069 515.2296,-297.6068\" stroke=\"#000000\"/>\n",
       "</g>\n",
       "<!-- 47983616520 -->\n",
       "<g class=\"node\" id=\"node5\">\n",
       "<title>47983616520</title>\n",
       "<polygon fill=\"none\" points=\"64.6484,-162.5 64.6484,-206.5 330.8105,-206.5 330.8105,-162.5 64.6484,-162.5\" stroke=\"#000000\"/>\n",
       "<text fill=\"#000000\" font-family=\"Times,serif\" font-size=\"14.00\" text-anchor=\"middle\" x=\"117.5708\" y=\"-180.3\">lstm_13: LSTM</text>\n",
       "<polyline fill=\"none\" points=\"170.4932,-162.5 170.4932,-206.5 \" stroke=\"#000000\"/>\n",
       "<text fill=\"#000000\" font-family=\"Times,serif\" font-size=\"14.00\" text-anchor=\"middle\" x=\"198.3276\" y=\"-191.3\">input:</text>\n",
       "<polyline fill=\"none\" points=\"170.4932,-184.5 226.1621,-184.5 \" stroke=\"#000000\"/>\n",
       "<text fill=\"#000000\" font-family=\"Times,serif\" font-size=\"14.00\" text-anchor=\"middle\" x=\"198.3276\" y=\"-169.3\">output:</text>\n",
       "<polyline fill=\"none\" points=\"226.1621,-162.5 226.1621,-206.5 \" stroke=\"#000000\"/>\n",
       "<text fill=\"#000000\" font-family=\"Times,serif\" font-size=\"14.00\" text-anchor=\"middle\" x=\"278.4863\" y=\"-191.3\">(None, 100, 32)</text>\n",
       "<polyline fill=\"none\" points=\"226.1621,-184.5 330.8105,-184.5 \" stroke=\"#000000\"/>\n",
       "<text fill=\"#000000\" font-family=\"Times,serif\" font-size=\"14.00\" text-anchor=\"middle\" x=\"278.4863\" y=\"-169.3\">(None, 128)</text>\n",
       "</g>\n",
       "<!-- 47983909240&#45;&gt;47983616520 -->\n",
       "<g class=\"edge\" id=\"edge3\">\n",
       "<title>47983909240-&gt;47983616520</title>\n",
       "<path d=\"M174.4736,-243.3664C177.7895,-234.9731 181.6329,-225.2445 185.2284,-216.1434\" fill=\"none\" stroke=\"#000000\"/>\n",
       "<polygon fill=\"#000000\" points=\"188.5768,-217.1934 188.9959,-206.6068 182.0664,-214.6214 188.5768,-217.1934\" stroke=\"#000000\"/>\n",
       "</g>\n",
       "<!-- 47983910416 -->\n",
       "<g class=\"node\" id=\"node6\">\n",
       "<title>47983910416</title>\n",
       "<polygon fill=\"none\" points=\"365.1484,-162.5 365.1484,-206.5 624.3105,-206.5 624.3105,-162.5 365.1484,-162.5\" stroke=\"#000000\"/>\n",
       "<text fill=\"#000000\" font-family=\"Times,serif\" font-size=\"14.00\" text-anchor=\"middle\" x=\"418.0708\" y=\"-180.3\">lstm_14: LSTM</text>\n",
       "<polyline fill=\"none\" points=\"470.9932,-162.5 470.9932,-206.5 \" stroke=\"#000000\"/>\n",
       "<text fill=\"#000000\" font-family=\"Times,serif\" font-size=\"14.00\" text-anchor=\"middle\" x=\"498.8276\" y=\"-191.3\">input:</text>\n",
       "<polyline fill=\"none\" points=\"470.9932,-184.5 526.6621,-184.5 \" stroke=\"#000000\"/>\n",
       "<text fill=\"#000000\" font-family=\"Times,serif\" font-size=\"14.00\" text-anchor=\"middle\" x=\"498.8276\" y=\"-169.3\">output:</text>\n",
       "<polyline fill=\"none\" points=\"526.6621,-162.5 526.6621,-206.5 \" stroke=\"#000000\"/>\n",
       "<text fill=\"#000000\" font-family=\"Times,serif\" font-size=\"14.00\" text-anchor=\"middle\" x=\"575.4863\" y=\"-191.3\">(None, 20, 32)</text>\n",
       "<polyline fill=\"none\" points=\"526.6621,-184.5 624.3105,-184.5 \" stroke=\"#000000\"/>\n",
       "<text fill=\"#000000\" font-family=\"Times,serif\" font-size=\"14.00\" text-anchor=\"middle\" x=\"575.4863\" y=\"-169.3\">(None, 128)</text>\n",
       "</g>\n",
       "<!-- 47983909856&#45;&gt;47983910416 -->\n",
       "<g class=\"edge\" id=\"edge4\">\n",
       "<title>47983909856-&gt;47983910416</title>\n",
       "<path d=\"M507.0842,-243.3664C505.3413,-235.0624 503.3242,-225.4514 501.4317,-216.4341\" fill=\"none\" stroke=\"#000000\"/>\n",
       "<polygon fill=\"#000000\" points=\"504.8487,-215.6747 499.3692,-206.6068 497.9979,-217.1126 504.8487,-215.6747\" stroke=\"#000000\"/>\n",
       "</g>\n",
       "<!-- 47986108568 -->\n",
       "<g class=\"node\" id=\"node7\">\n",
       "<title>47986108568</title>\n",
       "<polygon fill=\"none\" points=\"139.7651,-81.5 139.7651,-125.5 535.6938,-125.5 535.6938,-81.5 139.7651,-81.5\" stroke=\"#000000\"/>\n",
       "<text fill=\"#000000\" font-family=\"Times,serif\" font-size=\"14.00\" text-anchor=\"middle\" x=\"226.0845\" y=\"-99.3\">concatenate_2: Concatenate</text>\n",
       "<polyline fill=\"none\" points=\"312.4038,-81.5 312.4038,-125.5 \" stroke=\"#000000\"/>\n",
       "<text fill=\"#000000\" font-family=\"Times,serif\" font-size=\"14.00\" text-anchor=\"middle\" x=\"340.2383\" y=\"-110.3\">input:</text>\n",
       "<polyline fill=\"none\" points=\"312.4038,-103.5 368.0728,-103.5 \" stroke=\"#000000\"/>\n",
       "<text fill=\"#000000\" font-family=\"Times,serif\" font-size=\"14.00\" text-anchor=\"middle\" x=\"340.2383\" y=\"-88.3\">output:</text>\n",
       "<polyline fill=\"none\" points=\"368.0728,-81.5 368.0728,-125.5 \" stroke=\"#000000\"/>\n",
       "<text fill=\"#000000\" font-family=\"Times,serif\" font-size=\"14.00\" text-anchor=\"middle\" x=\"451.8833\" y=\"-110.3\">[(None, 128), (None, 128)]</text>\n",
       "<polyline fill=\"none\" points=\"368.0728,-103.5 535.6938,-103.5 \" stroke=\"#000000\"/>\n",
       "<text fill=\"#000000\" font-family=\"Times,serif\" font-size=\"14.00\" text-anchor=\"middle\" x=\"451.397\" y=\"-88.3\">(None, 256)</text>\n",
       "</g>\n",
       "<!-- 47983616520&#45;&gt;47986108568 -->\n",
       "<g class=\"edge\" id=\"edge5\">\n",
       "<title>47983616520-&gt;47986108568</title>\n",
       "<path d=\"M235.9851,-162.3664C252.807,-152.6337 272.732,-141.1057 290.471,-130.8424\" fill=\"none\" stroke=\"#000000\"/>\n",
       "<polygon fill=\"#000000\" points=\"292.6172,-133.6443 299.5201,-125.6068 289.1117,-127.5853 292.6172,-133.6443\" stroke=\"#000000\"/>\n",
       "</g>\n",
       "<!-- 47983910416&#45;&gt;47986108568 -->\n",
       "<g class=\"edge\" id=\"edge6\">\n",
       "<title>47983910416-&gt;47986108568</title>\n",
       "<path d=\"M451.8286,-162.3664C432.6178,-152.4551 409.7984,-140.682 389.634,-130.2787\" fill=\"none\" stroke=\"#000000\"/>\n",
       "<polygon fill=\"#000000\" points=\"391.0703,-127.0814 380.5786,-125.6068 387.8608,-133.3023 391.0703,-127.0814\" stroke=\"#000000\"/>\n",
       "</g>\n",
       "<!-- 47983478040 -->\n",
       "<g class=\"node\" id=\"node8\">\n",
       "<title>47983478040</title>\n",
       "<polygon fill=\"none\" points=\"215.9448,-.5 215.9448,-44.5 459.5142,-44.5 459.5142,-.5 215.9448,-.5\" stroke=\"#000000\"/>\n",
       "<text fill=\"#000000\" font-family=\"Times,serif\" font-size=\"14.00\" text-anchor=\"middle\" x=\"268.0708\" y=\"-18.3\">dense_4: Dense</text>\n",
       "<polyline fill=\"none\" points=\"320.1968,-.5 320.1968,-44.5 \" stroke=\"#000000\"/>\n",
       "<text fill=\"#000000\" font-family=\"Times,serif\" font-size=\"14.00\" text-anchor=\"middle\" x=\"348.0313\" y=\"-29.3\">input:</text>\n",
       "<polyline fill=\"none\" points=\"320.1968,-22.5 375.8657,-22.5 \" stroke=\"#000000\"/>\n",
       "<text fill=\"#000000\" font-family=\"Times,serif\" font-size=\"14.00\" text-anchor=\"middle\" x=\"348.0313\" y=\"-7.3\">output:</text>\n",
       "<polyline fill=\"none\" points=\"375.8657,-.5 375.8657,-44.5 \" stroke=\"#000000\"/>\n",
       "<text fill=\"#000000\" font-family=\"Times,serif\" font-size=\"14.00\" text-anchor=\"middle\" x=\"417.6899\" y=\"-29.3\">(None, 256)</text>\n",
       "<polyline fill=\"none\" points=\"375.8657,-22.5 459.5142,-22.5 \" stroke=\"#000000\"/>\n",
       "<text fill=\"#000000\" font-family=\"Times,serif\" font-size=\"14.00\" text-anchor=\"middle\" x=\"417.6899\" y=\"-7.3\">(None, 50)</text>\n",
       "</g>\n",
       "<!-- 47986108568&#45;&gt;47983478040 -->\n",
       "<g class=\"edge\" id=\"edge7\">\n",
       "<title>47986108568-&gt;47983478040</title>\n",
       "<path d=\"M337.7295,-81.3664C337.7295,-73.1516 337.7295,-63.6579 337.7295,-54.7252\" fill=\"none\" stroke=\"#000000\"/>\n",
       "<polygon fill=\"#000000\" points=\"341.2296,-54.6068 337.7295,-44.6068 334.2296,-54.6069 341.2296,-54.6068\" stroke=\"#000000\"/>\n",
       "</g>\n",
       "</g>\n",
       "</svg>"
      ],
      "text/plain": [
       "<IPython.core.display.SVG object>"
      ]
     },
     "execution_count": 22,
     "metadata": {},
     "output_type": "execute_result"
    }
   ],
   "source": [
    "dot = model_to_dot(model, show_shapes=True, )\n",
    "SVG(dot.create(prog='dot', format='svg'))"
   ]
  },
  {
   "cell_type": "code",
   "execution_count": 23,
   "metadata": {},
   "outputs": [],
   "source": [
    "# article input model\n",
    "inputs1 = Input(shape=(src_txt_length,))\n",
    "article1 = Embedding(vocab_size, 32)(inputs1)\n",
    "article2 = LSTM(128)(article1)\n",
    "article3 = RepeatVector(sum_txt_length)(article2)\n",
    "# summary input model\n",
    "inputs2 = Input(shape=(sum_txt_length,))\n",
    "summ1 = Embedding(vocab_size, 32)(inputs2)\n",
    "# decoder model\n",
    "decoder1 = concatenate([article3, summ1])\n",
    "decoder2 = LSTM(128)(decoder1)\n",
    "outputs = Dense(vocab_size, activation='softmax')(decoder2)\n",
    "# tie it together [article, summary] [word]\n",
    "model = Model(inputs=[inputs1, inputs2], outputs=outputs)\n",
    "model.compile(loss='categorical_crossentropy', optimizer='adam')"
   ]
  },
  {
   "cell_type": "code",
   "execution_count": 24,
   "metadata": {},
   "outputs": [
    {
     "name": "stdout",
     "output_type": "stream",
     "text": [
      "__________________________________________________________________________________________________\n",
      "Layer (type)                    Output Shape         Param #     Connected to                     \n",
      "==================================================================================================\n",
      "input_13 (InputLayer)           (None, 100)          0                                            \n",
      "__________________________________________________________________________________________________\n",
      "embedding_12 (Embedding)        (None, 100, 32)      1600        input_13[0][0]                   \n",
      "__________________________________________________________________________________________________\n",
      "lstm_15 (LSTM)                  (None, 128)          82432       embedding_12[0][0]               \n",
      "__________________________________________________________________________________________________\n",
      "input_14 (InputLayer)           (None, 20)           0                                            \n",
      "__________________________________________________________________________________________________\n",
      "repeat_vector_4 (RepeatVector)  (None, 20, 128)      0           lstm_15[0][0]                    \n",
      "__________________________________________________________________________________________________\n",
      "embedding_13 (Embedding)        (None, 20, 32)       1600        input_14[0][0]                   \n",
      "__________________________________________________________________________________________________\n",
      "concatenate_3 (Concatenate)     (None, 20, 160)      0           repeat_vector_4[0][0]            \n",
      "                                                                 embedding_13[0][0]               \n",
      "__________________________________________________________________________________________________\n",
      "lstm_16 (LSTM)                  (None, 128)          147968      concatenate_3[0][0]              \n",
      "__________________________________________________________________________________________________\n",
      "dense_5 (Dense)                 (None, 50)           6450        lstm_16[0][0]                    \n",
      "==================================================================================================\n",
      "Total params: 240,050\n",
      "Trainable params: 240,050\n",
      "Non-trainable params: 0\n",
      "__________________________________________________________________________________________________\n"
     ]
    }
   ],
   "source": [
    "model.summary()"
   ]
  },
  {
   "cell_type": "code",
   "execution_count": 25,
   "metadata": {},
   "outputs": [
    {
     "data": {
      "image/svg+xml": [
       "<svg height=\"539pt\" viewBox=\"0.00 0.00 699.87 539.00\" width=\"700pt\" xmlns=\"http://www.w3.org/2000/svg\" xmlns:xlink=\"http://www.w3.org/1999/xlink\">\n",
       "<g class=\"graph\" id=\"graph0\" transform=\"scale(1 1) rotate(0) translate(4 535)\">\n",
       "<title>G</title>\n",
       "<polygon fill=\"#ffffff\" points=\"-4,4 -4,-535 695.873,-535 695.873,4 -4,4\" stroke=\"transparent\"/>\n",
       "<!-- 47990247608 -->\n",
       "<g class=\"node\" id=\"node1\">\n",
       "<title>47990247608</title>\n",
       "<polygon fill=\"none\" points=\"37.3037,-486.5 37.3037,-530.5 311.9834,-530.5 311.9834,-486.5 37.3037,-486.5\" stroke=\"#000000\"/>\n",
       "<text fill=\"#000000\" font-family=\"Times,serif\" font-size=\"14.00\" text-anchor=\"middle\" x=\"104.9849\" y=\"-504.3\">input_13: InputLayer</text>\n",
       "<polyline fill=\"none\" points=\"172.666,-486.5 172.666,-530.5 \" stroke=\"#000000\"/>\n",
       "<text fill=\"#000000\" font-family=\"Times,serif\" font-size=\"14.00\" text-anchor=\"middle\" x=\"200.5005\" y=\"-515.3\">input:</text>\n",
       "<polyline fill=\"none\" points=\"172.666,-508.5 228.335,-508.5 \" stroke=\"#000000\"/>\n",
       "<text fill=\"#000000\" font-family=\"Times,serif\" font-size=\"14.00\" text-anchor=\"middle\" x=\"200.5005\" y=\"-493.3\">output:</text>\n",
       "<polyline fill=\"none\" points=\"228.335,-486.5 228.335,-530.5 \" stroke=\"#000000\"/>\n",
       "<text fill=\"#000000\" font-family=\"Times,serif\" font-size=\"14.00\" text-anchor=\"middle\" x=\"270.1592\" y=\"-515.3\">(None, 100)</text>\n",
       "<polyline fill=\"none\" points=\"228.335,-508.5 311.9834,-508.5 \" stroke=\"#000000\"/>\n",
       "<text fill=\"#000000\" font-family=\"Times,serif\" font-size=\"14.00\" text-anchor=\"middle\" x=\"270.1592\" y=\"-493.3\">(None, 100)</text>\n",
       "</g>\n",
       "<!-- 47990247664 -->\n",
       "<g class=\"node\" id=\"node2\">\n",
       "<title>47990247664</title>\n",
       "<polygon fill=\"none\" points=\"8.9141,-405.5 8.9141,-449.5 340.373,-449.5 340.373,-405.5 8.9141,-405.5\" stroke=\"#000000\"/>\n",
       "<text fill=\"#000000\" font-family=\"Times,serif\" font-size=\"14.00\" text-anchor=\"middle\" x=\"94.4849\" y=\"-423.3\">embedding_12: Embedding</text>\n",
       "<polyline fill=\"none\" points=\"180.0557,-405.5 180.0557,-449.5 \" stroke=\"#000000\"/>\n",
       "<text fill=\"#000000\" font-family=\"Times,serif\" font-size=\"14.00\" text-anchor=\"middle\" x=\"207.8901\" y=\"-434.3\">input:</text>\n",
       "<polyline fill=\"none\" points=\"180.0557,-427.5 235.7246,-427.5 \" stroke=\"#000000\"/>\n",
       "<text fill=\"#000000\" font-family=\"Times,serif\" font-size=\"14.00\" text-anchor=\"middle\" x=\"207.8901\" y=\"-412.3\">output:</text>\n",
       "<polyline fill=\"none\" points=\"235.7246,-405.5 235.7246,-449.5 \" stroke=\"#000000\"/>\n",
       "<text fill=\"#000000\" font-family=\"Times,serif\" font-size=\"14.00\" text-anchor=\"middle\" x=\"288.0488\" y=\"-434.3\">(None, 100)</text>\n",
       "<polyline fill=\"none\" points=\"235.7246,-427.5 340.373,-427.5 \" stroke=\"#000000\"/>\n",
       "<text fill=\"#000000\" font-family=\"Times,serif\" font-size=\"14.00\" text-anchor=\"middle\" x=\"288.0488\" y=\"-412.3\">(None, 100, 32)</text>\n",
       "</g>\n",
       "<!-- 47990247608&#45;&gt;47990247664 -->\n",
       "<g class=\"edge\" id=\"edge1\">\n",
       "<title>47990247608-&gt;47990247664</title>\n",
       "<path d=\"M174.6436,-486.3664C174.6436,-478.1516 174.6436,-468.6579 174.6436,-459.7252\" fill=\"none\" stroke=\"#000000\"/>\n",
       "<polygon fill=\"#000000\" points=\"178.1437,-459.6068 174.6436,-449.6068 171.1437,-459.6069 178.1437,-459.6068\" stroke=\"#000000\"/>\n",
       "</g>\n",
       "<!-- 47989978672 -->\n",
       "<g class=\"node\" id=\"node3\">\n",
       "<title>47989978672</title>\n",
       "<polygon fill=\"none\" points=\"41.5625,-324.5 41.5625,-368.5 307.7246,-368.5 307.7246,-324.5 41.5625,-324.5\" stroke=\"#000000\"/>\n",
       "<text fill=\"#000000\" font-family=\"Times,serif\" font-size=\"14.00\" text-anchor=\"middle\" x=\"94.4849\" y=\"-342.3\">lstm_15: LSTM</text>\n",
       "<polyline fill=\"none\" points=\"147.4072,-324.5 147.4072,-368.5 \" stroke=\"#000000\"/>\n",
       "<text fill=\"#000000\" font-family=\"Times,serif\" font-size=\"14.00\" text-anchor=\"middle\" x=\"175.2417\" y=\"-353.3\">input:</text>\n",
       "<polyline fill=\"none\" points=\"147.4072,-346.5 203.0762,-346.5 \" stroke=\"#000000\"/>\n",
       "<text fill=\"#000000\" font-family=\"Times,serif\" font-size=\"14.00\" text-anchor=\"middle\" x=\"175.2417\" y=\"-331.3\">output:</text>\n",
       "<polyline fill=\"none\" points=\"203.0762,-324.5 203.0762,-368.5 \" stroke=\"#000000\"/>\n",
       "<text fill=\"#000000\" font-family=\"Times,serif\" font-size=\"14.00\" text-anchor=\"middle\" x=\"255.4004\" y=\"-353.3\">(None, 100, 32)</text>\n",
       "<polyline fill=\"none\" points=\"203.0762,-346.5 307.7246,-346.5 \" stroke=\"#000000\"/>\n",
       "<text fill=\"#000000\" font-family=\"Times,serif\" font-size=\"14.00\" text-anchor=\"middle\" x=\"255.4004\" y=\"-331.3\">(None, 128)</text>\n",
       "</g>\n",
       "<!-- 47990247664&#45;&gt;47989978672 -->\n",
       "<g class=\"edge\" id=\"edge2\">\n",
       "<title>47990247664-&gt;47989978672</title>\n",
       "<path d=\"M174.6436,-405.3664C174.6436,-397.1516 174.6436,-387.6579 174.6436,-378.7252\" fill=\"none\" stroke=\"#000000\"/>\n",
       "<polygon fill=\"#000000\" points=\"178.1437,-378.6068 174.6436,-368.6068 171.1437,-378.6069 178.1437,-378.6068\" stroke=\"#000000\"/>\n",
       "</g>\n",
       "<!-- 47958088280 -->\n",
       "<g class=\"node\" id=\"node5\">\n",
       "<title>47958088280</title>\n",
       "<polygon fill=\"none\" points=\"0,-243.5 0,-287.5 349.2871,-287.5 349.2871,-243.5 0,-243.5\" stroke=\"#000000\"/>\n",
       "<text fill=\"#000000\" font-family=\"Times,serif\" font-size=\"14.00\" text-anchor=\"middle\" x=\"94.4849\" y=\"-261.3\">repeat_vector_4: RepeatVector</text>\n",
       "<polyline fill=\"none\" points=\"188.9697,-243.5 188.9697,-287.5 \" stroke=\"#000000\"/>\n",
       "<text fill=\"#000000\" font-family=\"Times,serif\" font-size=\"14.00\" text-anchor=\"middle\" x=\"216.8042\" y=\"-272.3\">input:</text>\n",
       "<polyline fill=\"none\" points=\"188.9697,-265.5 244.6387,-265.5 \" stroke=\"#000000\"/>\n",
       "<text fill=\"#000000\" font-family=\"Times,serif\" font-size=\"14.00\" text-anchor=\"middle\" x=\"216.8042\" y=\"-250.3\">output:</text>\n",
       "<polyline fill=\"none\" points=\"244.6387,-243.5 244.6387,-287.5 \" stroke=\"#000000\"/>\n",
       "<text fill=\"#000000\" font-family=\"Times,serif\" font-size=\"14.00\" text-anchor=\"middle\" x=\"296.9629\" y=\"-272.3\">(None, 128)</text>\n",
       "<polyline fill=\"none\" points=\"244.6387,-265.5 349.2871,-265.5 \" stroke=\"#000000\"/>\n",
       "<text fill=\"#000000\" font-family=\"Times,serif\" font-size=\"14.00\" text-anchor=\"middle\" x=\"296.9629\" y=\"-250.3\">(None, 20, 128)</text>\n",
       "</g>\n",
       "<!-- 47989978672&#45;&gt;47958088280 -->\n",
       "<g class=\"edge\" id=\"edge3\">\n",
       "<title>47989978672-&gt;47958088280</title>\n",
       "<path d=\"M174.6436,-324.3664C174.6436,-316.1516 174.6436,-306.6579 174.6436,-297.7252\" fill=\"none\" stroke=\"#000000\"/>\n",
       "<polygon fill=\"#000000\" points=\"178.1437,-297.6068 174.6436,-287.6068 171.1437,-297.6069 178.1437,-297.6068\" stroke=\"#000000\"/>\n",
       "</g>\n",
       "<!-- 47990251304 -->\n",
       "<g class=\"node\" id=\"node4\">\n",
       "<title>47990251304</title>\n",
       "<polygon fill=\"none\" points=\"395.8037,-324.5 395.8037,-368.5 663.4834,-368.5 663.4834,-324.5 395.8037,-324.5\" stroke=\"#000000\"/>\n",
       "<text fill=\"#000000\" font-family=\"Times,serif\" font-size=\"14.00\" text-anchor=\"middle\" x=\"463.4849\" y=\"-342.3\">input_14: InputLayer</text>\n",
       "<polyline fill=\"none\" points=\"531.166,-324.5 531.166,-368.5 \" stroke=\"#000000\"/>\n",
       "<text fill=\"#000000\" font-family=\"Times,serif\" font-size=\"14.00\" text-anchor=\"middle\" x=\"559.0005\" y=\"-353.3\">input:</text>\n",
       "<polyline fill=\"none\" points=\"531.166,-346.5 586.835,-346.5 \" stroke=\"#000000\"/>\n",
       "<text fill=\"#000000\" font-family=\"Times,serif\" font-size=\"14.00\" text-anchor=\"middle\" x=\"559.0005\" y=\"-331.3\">output:</text>\n",
       "<polyline fill=\"none\" points=\"586.835,-324.5 586.835,-368.5 \" stroke=\"#000000\"/>\n",
       "<text fill=\"#000000\" font-family=\"Times,serif\" font-size=\"14.00\" text-anchor=\"middle\" x=\"625.1592\" y=\"-353.3\">(None, 20)</text>\n",
       "<polyline fill=\"none\" points=\"586.835,-346.5 663.4834,-346.5 \" stroke=\"#000000\"/>\n",
       "<text fill=\"#000000\" font-family=\"Times,serif\" font-size=\"14.00\" text-anchor=\"middle\" x=\"625.1592\" y=\"-331.3\">(None, 20)</text>\n",
       "</g>\n",
       "<!-- 47990251360 -->\n",
       "<g class=\"node\" id=\"node6\">\n",
       "<title>47990251360</title>\n",
       "<polygon fill=\"none\" points=\"367.4141,-243.5 367.4141,-287.5 691.873,-287.5 691.873,-243.5 367.4141,-243.5\" stroke=\"#000000\"/>\n",
       "<text fill=\"#000000\" font-family=\"Times,serif\" font-size=\"14.00\" text-anchor=\"middle\" x=\"452.9849\" y=\"-261.3\">embedding_13: Embedding</text>\n",
       "<polyline fill=\"none\" points=\"538.5557,-243.5 538.5557,-287.5 \" stroke=\"#000000\"/>\n",
       "<text fill=\"#000000\" font-family=\"Times,serif\" font-size=\"14.00\" text-anchor=\"middle\" x=\"566.3901\" y=\"-272.3\">input:</text>\n",
       "<polyline fill=\"none\" points=\"538.5557,-265.5 594.2246,-265.5 \" stroke=\"#000000\"/>\n",
       "<text fill=\"#000000\" font-family=\"Times,serif\" font-size=\"14.00\" text-anchor=\"middle\" x=\"566.3901\" y=\"-250.3\">output:</text>\n",
       "<polyline fill=\"none\" points=\"594.2246,-243.5 594.2246,-287.5 \" stroke=\"#000000\"/>\n",
       "<text fill=\"#000000\" font-family=\"Times,serif\" font-size=\"14.00\" text-anchor=\"middle\" x=\"643.0488\" y=\"-272.3\">(None, 20)</text>\n",
       "<polyline fill=\"none\" points=\"594.2246,-265.5 691.873,-265.5 \" stroke=\"#000000\"/>\n",
       "<text fill=\"#000000\" font-family=\"Times,serif\" font-size=\"14.00\" text-anchor=\"middle\" x=\"643.0488\" y=\"-250.3\">(None, 20, 32)</text>\n",
       "</g>\n",
       "<!-- 47990251304&#45;&gt;47990251360 -->\n",
       "<g class=\"edge\" id=\"edge4\">\n",
       "<title>47990251304-&gt;47990251360</title>\n",
       "<path d=\"M529.6436,-324.3664C529.6436,-316.1516 529.6436,-306.6579 529.6436,-297.7252\" fill=\"none\" stroke=\"#000000\"/>\n",
       "<polygon fill=\"#000000\" points=\"533.1437,-297.6068 529.6436,-287.6068 526.1437,-297.6069 533.1437,-297.6068\" stroke=\"#000000\"/>\n",
       "</g>\n",
       "<!-- 47991326312 -->\n",
       "<g class=\"node\" id=\"node7\">\n",
       "<title>47991326312</title>\n",
       "<polygon fill=\"none\" points=\"136.1792,-162.5 136.1792,-206.5 567.1079,-206.5 567.1079,-162.5 136.1792,-162.5\" stroke=\"#000000\"/>\n",
       "<text fill=\"#000000\" font-family=\"Times,serif\" font-size=\"14.00\" text-anchor=\"middle\" x=\"222.4985\" y=\"-180.3\">concatenate_3: Concatenate</text>\n",
       "<polyline fill=\"none\" points=\"308.8179,-162.5 308.8179,-206.5 \" stroke=\"#000000\"/>\n",
       "<text fill=\"#000000\" font-family=\"Times,serif\" font-size=\"14.00\" text-anchor=\"middle\" x=\"336.6523\" y=\"-191.3\">input:</text>\n",
       "<polyline fill=\"none\" points=\"308.8179,-184.5 364.4868,-184.5 \" stroke=\"#000000\"/>\n",
       "<text fill=\"#000000\" font-family=\"Times,serif\" font-size=\"14.00\" text-anchor=\"middle\" x=\"336.6523\" y=\"-169.3\">output:</text>\n",
       "<polyline fill=\"none\" points=\"364.4868,-162.5 364.4868,-206.5 \" stroke=\"#000000\"/>\n",
       "<text fill=\"#000000\" font-family=\"Times,serif\" font-size=\"14.00\" text-anchor=\"middle\" x=\"465.7974\" y=\"-191.3\">[(None, 20, 128), (None, 20, 32)]</text>\n",
       "<polyline fill=\"none\" points=\"364.4868,-184.5 567.1079,-184.5 \" stroke=\"#000000\"/>\n",
       "<text fill=\"#000000\" font-family=\"Times,serif\" font-size=\"14.00\" text-anchor=\"middle\" x=\"465.311\" y=\"-169.3\">(None, 20, 160)</text>\n",
       "</g>\n",
       "<!-- 47958088280&#45;&gt;47991326312 -->\n",
       "<g class=\"edge\" id=\"edge5\">\n",
       "<title>47958088280-&gt;47991326312</title>\n",
       "<path d=\"M223.0096,-243.3664C244.9602,-233.3212 271.09,-221.3635 294.047,-210.8577\" fill=\"none\" stroke=\"#000000\"/>\n",
       "<polygon fill=\"#000000\" points=\"295.6994,-213.9507 303.336,-206.6068 292.7865,-207.5856 295.6994,-213.9507\" stroke=\"#000000\"/>\n",
       "</g>\n",
       "<!-- 47990251360&#45;&gt;47991326312 -->\n",
       "<g class=\"edge\" id=\"edge6\">\n",
       "<title>47990251360-&gt;47991326312</title>\n",
       "<path d=\"M481.0043,-243.3664C458.9296,-233.3212 432.6522,-221.3635 409.5655,-210.8577\" fill=\"none\" stroke=\"#000000\"/>\n",
       "<polygon fill=\"#000000\" points=\"410.7756,-207.5631 400.224,-206.6068 407.8763,-213.9345 410.7756,-207.5631\" stroke=\"#000000\"/>\n",
       "</g>\n",
       "<!-- 47992610488 -->\n",
       "<g class=\"node\" id=\"node8\">\n",
       "<title>47992610488</title>\n",
       "<polygon fill=\"none\" points=\"218.5625,-81.5 218.5625,-125.5 484.7246,-125.5 484.7246,-81.5 218.5625,-81.5\" stroke=\"#000000\"/>\n",
       "<text fill=\"#000000\" font-family=\"Times,serif\" font-size=\"14.00\" text-anchor=\"middle\" x=\"271.4849\" y=\"-99.3\">lstm_16: LSTM</text>\n",
       "<polyline fill=\"none\" points=\"324.4072,-81.5 324.4072,-125.5 \" stroke=\"#000000\"/>\n",
       "<text fill=\"#000000\" font-family=\"Times,serif\" font-size=\"14.00\" text-anchor=\"middle\" x=\"352.2417\" y=\"-110.3\">input:</text>\n",
       "<polyline fill=\"none\" points=\"324.4072,-103.5 380.0762,-103.5 \" stroke=\"#000000\"/>\n",
       "<text fill=\"#000000\" font-family=\"Times,serif\" font-size=\"14.00\" text-anchor=\"middle\" x=\"352.2417\" y=\"-88.3\">output:</text>\n",
       "<polyline fill=\"none\" points=\"380.0762,-81.5 380.0762,-125.5 \" stroke=\"#000000\"/>\n",
       "<text fill=\"#000000\" font-family=\"Times,serif\" font-size=\"14.00\" text-anchor=\"middle\" x=\"432.4004\" y=\"-110.3\">(None, 20, 160)</text>\n",
       "<polyline fill=\"none\" points=\"380.0762,-103.5 484.7246,-103.5 \" stroke=\"#000000\"/>\n",
       "<text fill=\"#000000\" font-family=\"Times,serif\" font-size=\"14.00\" text-anchor=\"middle\" x=\"432.4004\" y=\"-88.3\">(None, 128)</text>\n",
       "</g>\n",
       "<!-- 47991326312&#45;&gt;47992610488 -->\n",
       "<g class=\"edge\" id=\"edge7\">\n",
       "<title>47991326312-&gt;47992610488</title>\n",
       "<path d=\"M351.6436,-162.3664C351.6436,-154.1516 351.6436,-144.6579 351.6436,-135.7252\" fill=\"none\" stroke=\"#000000\"/>\n",
       "<polygon fill=\"#000000\" points=\"355.1437,-135.6068 351.6436,-125.6068 348.1437,-135.6069 355.1437,-135.6068\" stroke=\"#000000\"/>\n",
       "</g>\n",
       "<!-- 47992610152 -->\n",
       "<g class=\"node\" id=\"node9\">\n",
       "<title>47992610152</title>\n",
       "<polygon fill=\"none\" points=\"229.8589,-.5 229.8589,-44.5 473.4282,-44.5 473.4282,-.5 229.8589,-.5\" stroke=\"#000000\"/>\n",
       "<text fill=\"#000000\" font-family=\"Times,serif\" font-size=\"14.00\" text-anchor=\"middle\" x=\"281.9849\" y=\"-18.3\">dense_5: Dense</text>\n",
       "<polyline fill=\"none\" points=\"334.1108,-.5 334.1108,-44.5 \" stroke=\"#000000\"/>\n",
       "<text fill=\"#000000\" font-family=\"Times,serif\" font-size=\"14.00\" text-anchor=\"middle\" x=\"361.9453\" y=\"-29.3\">input:</text>\n",
       "<polyline fill=\"none\" points=\"334.1108,-22.5 389.7798,-22.5 \" stroke=\"#000000\"/>\n",
       "<text fill=\"#000000\" font-family=\"Times,serif\" font-size=\"14.00\" text-anchor=\"middle\" x=\"361.9453\" y=\"-7.3\">output:</text>\n",
       "<polyline fill=\"none\" points=\"389.7798,-.5 389.7798,-44.5 \" stroke=\"#000000\"/>\n",
       "<text fill=\"#000000\" font-family=\"Times,serif\" font-size=\"14.00\" text-anchor=\"middle\" x=\"431.604\" y=\"-29.3\">(None, 128)</text>\n",
       "<polyline fill=\"none\" points=\"389.7798,-22.5 473.4282,-22.5 \" stroke=\"#000000\"/>\n",
       "<text fill=\"#000000\" font-family=\"Times,serif\" font-size=\"14.00\" text-anchor=\"middle\" x=\"431.604\" y=\"-7.3\">(None, 50)</text>\n",
       "</g>\n",
       "<!-- 47992610488&#45;&gt;47992610152 -->\n",
       "<g class=\"edge\" id=\"edge8\">\n",
       "<title>47992610488-&gt;47992610152</title>\n",
       "<path d=\"M351.6436,-81.3664C351.6436,-73.1516 351.6436,-63.6579 351.6436,-54.7252\" fill=\"none\" stroke=\"#000000\"/>\n",
       "<polygon fill=\"#000000\" points=\"355.1437,-54.6068 351.6436,-44.6068 348.1437,-54.6069 355.1437,-54.6068\" stroke=\"#000000\"/>\n",
       "</g>\n",
       "</g>\n",
       "</svg>"
      ],
      "text/plain": [
       "<IPython.core.display.SVG object>"
      ]
     },
     "execution_count": 25,
     "metadata": {},
     "output_type": "execute_result"
    }
   ],
   "source": [
    "dot = model_to_dot(model, show_shapes=True, )\n",
    "SVG(dot.create(prog='dot', format='svg'))"
   ]
  },
  {
   "cell_type": "code",
   "execution_count": null,
   "metadata": {},
   "outputs": [],
   "source": []
  }
 ],
 "metadata": {
  "kernelspec": {
   "display_name": "Python 3",
   "language": "python",
   "name": "python3"
  },
  "language_info": {
   "codemirror_mode": {
    "name": "ipython",
    "version": 3
   },
   "file_extension": ".py",
   "mimetype": "text/x-python",
   "name": "python",
   "nbconvert_exporter": "python",
   "pygments_lexer": "ipython3",
   "version": "3.7.3"
  }
 },
 "nbformat": 4,
 "nbformat_minor": 2
}
