{
 "cells": [
  {
   "cell_type": "markdown",
   "metadata": {},
   "source": [
    "# Encoder Decoder model"
   ]
  },
  {
   "cell_type": "code",
   "execution_count": 1,
   "metadata": {},
   "outputs": [],
   "source": [
    "from keras.layers import Input, Dense, LSTM\n",
    "from keras.models import Model\n",
    "\n",
    "from keras.utils.vis_utils import model_to_dot\n",
    "from IPython.display import SVG\n",
    "import matplotlib.pyplot as plt\n",
    "%matplotlib inline"
   ]
  },
  {
   "cell_type": "code",
   "execution_count": 5,
   "metadata": {},
   "outputs": [],
   "source": [
    "def define_models(n_input, n_output, n_units):\n",
    "    # define training encoder\n",
    "    encoder_inputs = Input(shape=(None, n_input))\n",
    "    encoder = LSTM(n_units, return_state=True)\n",
    "    encoder_outputs, state_h, state_c = encoder(encoder_inputs)\n",
    "    encoder_states = [state_h, state_c]\n",
    "    # define training decoder\n",
    "    decoder_inputs = Input(shape=(None, n_output))\n",
    "    decoder_lstm = LSTM(n_units, return_sequences=True, return_state=True)\n",
    "    decoder_outputs, _, _ = decoder_lstm(decoder_inputs, initial_state=encoder_states)\n",
    "    decoder_dense = Dense(n_output, activation='softmax')\n",
    "    decoder_outputs = decoder_dense(decoder_outputs)\n",
    "    model = Model([encoder_inputs, decoder_inputs], decoder_outputs)\n",
    "    # define inference encoder\n",
    "    encoder_model = Model(encoder_inputs, encoder_states)\n",
    "    # define inference decoder\n",
    "    decoder_state_input_h = Input(shape=(n_units,))\n",
    "    decoder_state_input_c = Input(shape=(n_units,))\n",
    "    decoder_states_inputs = [decoder_state_input_h, decoder_state_input_c]\n",
    "    decoder_outputs, state_h, state_c = decoder_lstm(decoder_inputs, initial_state=decoder_states_inputs)\n",
    "    decoder_states = [state_h, state_c]\n",
    "    decoder_outputs = decoder_dense(decoder_outputs)\n",
    "    decoder_model = Model([decoder_inputs] + decoder_states_inputs, [decoder_outputs] + decoder_states)\n",
    "    # return all models\n",
    "    return model, encoder_model, decoder_model"
   ]
  },
  {
   "cell_type": "code",
   "execution_count": 6,
   "metadata": {},
   "outputs": [],
   "source": [
    "# generate target given source sequence\n",
    "def predict_sequence(infenc, infdec, source, n_steps, cardinality):\n",
    "    # encode\n",
    "    state = infenc.predict(source)\n",
    "    # start of sequence input\n",
    "    target_seq = array([0.0 for _ in range(cardinality)]).reshape(1, 1, cardinality)\n",
    "    # collect predictions\n",
    "    output = list()\n",
    "    for t in range(n_steps):\n",
    "        # predict next char\n",
    "        yhat, h, c = infdec.predict([target_seq] + state)\n",
    "        # store prediction\n",
    "        output.append(yhat[0,0,:])\n",
    "        # update state\n",
    "        state = [h, c]\n",
    "        # update target sequence\n",
    "        target_seq = yhat\n",
    "    return array(output)"
   ]
  },
  {
   "cell_type": "code",
   "execution_count": 7,
   "metadata": {},
   "outputs": [],
   "source": [
    "n_features = 50 + 1"
   ]
  },
  {
   "cell_type": "code",
   "execution_count": 8,
   "metadata": {},
   "outputs": [],
   "source": [
    "# generate a sequence of random integers\n",
    "def generate_sequence(length, n_unique):\n",
    "    return [randint(1, n_unique-1) for _ in range(length)]"
   ]
  },
  {
   "cell_type": "code",
   "execution_count": 9,
   "metadata": {},
   "outputs": [
    {
     "ename": "NameError",
     "evalue": "name 'source' is not defined",
     "output_type": "error",
     "traceback": [
      "\u001b[0;31m---------------------------------------------------------------------------\u001b[0m",
      "\u001b[0;31mNameError\u001b[0m                                 Traceback (most recent call last)",
      "\u001b[0;32m<ipython-input-9-0150d4c72db1>\u001b[0m in \u001b[0;36m<module>\u001b[0;34m\u001b[0m\n\u001b[1;32m      1\u001b[0m \u001b[0;31m# define target sequence\u001b[0m\u001b[0;34m\u001b[0m\u001b[0;34m\u001b[0m\u001b[0;34m\u001b[0m\u001b[0m\n\u001b[0;32m----> 2\u001b[0;31m \u001b[0mtarget\u001b[0m \u001b[0;34m=\u001b[0m \u001b[0msource\u001b[0m\u001b[0;34m[\u001b[0m\u001b[0;34m:\u001b[0m\u001b[0mn_out\u001b[0m\u001b[0;34m]\u001b[0m\u001b[0;34m\u001b[0m\u001b[0;34m\u001b[0m\u001b[0m\n\u001b[0m\u001b[1;32m      3\u001b[0m \u001b[0mtarget\u001b[0m\u001b[0;34m.\u001b[0m\u001b[0mreverse\u001b[0m\u001b[0;34m(\u001b[0m\u001b[0;34m)\u001b[0m\u001b[0;34m\u001b[0m\u001b[0;34m\u001b[0m\u001b[0m\n",
      "\u001b[0;31mNameError\u001b[0m: name 'source' is not defined"
     ]
    }
   ],
   "source": [
    "# define target sequence\n",
    "target = source[:n_out]\n",
    "target.reverse()"
   ]
  },
  {
   "cell_type": "code",
   "execution_count": 13,
   "metadata": {},
   "outputs": [],
   "source": [
    "from keras.models import Model\n",
    "from keras.layers import Input\n",
    "from keras.layers import LSTM\n",
    "from keras.layers import Dense\n",
    "from keras.utils.vis_utils import model_to_dot\n",
    "from IPython.display import SVG\n",
    "\n",
    "\n",
    "# configure\n",
    "num_encoder_tokens = 71\n",
    "num_decoder_tokens = 93\n",
    "latent_dim = 256\n",
    "# Define an input sequence and process it.\n",
    "encoder_inputs = Input(shape=(None, num_encoder_tokens))\n",
    "encoder = LSTM(latent_dim, return_state=True)\n",
    "encoder_outputs, state_h, state_c = encoder(encoder_inputs)\n",
    "# We discard `encoder_outputs` and only keep the states.\n",
    "encoder_states = [state_h, state_c]\n",
    "# Set up the decoder, using `encoder_states` as initial state.\n",
    "decoder_inputs = Input(shape=(None, num_decoder_tokens))\n",
    "# We set up our decoder to return full output sequences,\n",
    "# and to return internal states as well. We don't use the\n",
    "# return states in the training model, but we will use them in inference.\n",
    "decoder_lstm = LSTM(latent_dim, return_sequences=True, return_state=True)\n",
    "decoder_outputs, _, _ = decoder_lstm(decoder_inputs, initial_state=encoder_states)\n",
    "decoder_dense = Dense(num_decoder_tokens, activation='softmax')\n",
    "decoder_outputs = decoder_dense(decoder_outputs)\n",
    "# Define the model that will turn\n",
    "# `encoder_input_data` & `decoder_input_data` into `decoder_target_data`\n",
    "model = Model([encoder_inputs, decoder_inputs], decoder_outputs)"
   ]
  },
  {
   "cell_type": "code",
   "execution_count": 14,
   "metadata": {},
   "outputs": [
    {
     "data": {
      "image/svg+xml": [
       "<svg height=\"296pt\" viewBox=\"0.00 0.00 720.39 296.00\" width=\"720pt\" xmlns=\"http://www.w3.org/2000/svg\" xmlns:xlink=\"http://www.w3.org/1999/xlink\">\n",
       "<g class=\"graph\" id=\"graph0\" transform=\"scale(1 1) rotate(0) translate(4 292)\">\n",
       "<title>G</title>\n",
       "<polygon fill=\"#ffffff\" points=\"-4,4 -4,-292 716.3936,-292 716.3936,4 -4,4\" stroke=\"transparent\"/>\n",
       "<!-- 47977554048 -->\n",
       "<g class=\"node\" id=\"node1\">\n",
       "<title>47977554048</title>\n",
       "<polygon fill=\"none\" points=\"49.3896,-243.5 49.3896,-287.5 347.3936,-287.5 347.3936,-243.5 49.3896,-243.5\" stroke=\"#000000\"/>\n",
       "<text fill=\"#000000\" font-family=\"Times,serif\" font-size=\"14.00\" text-anchor=\"middle\" x=\"113.5708\" y=\"-261.3\">input_8: InputLayer</text>\n",
       "<polyline fill=\"none\" points=\"177.752,-243.5 177.752,-287.5 \" stroke=\"#000000\"/>\n",
       "<text fill=\"#000000\" font-family=\"Times,serif\" font-size=\"14.00\" text-anchor=\"middle\" x=\"205.5864\" y=\"-272.3\">input:</text>\n",
       "<polyline fill=\"none\" points=\"177.752,-265.5 233.4209,-265.5 \" stroke=\"#000000\"/>\n",
       "<text fill=\"#000000\" font-family=\"Times,serif\" font-size=\"14.00\" text-anchor=\"middle\" x=\"205.5864\" y=\"-250.3\">output:</text>\n",
       "<polyline fill=\"none\" points=\"233.4209,-243.5 233.4209,-287.5 \" stroke=\"#000000\"/>\n",
       "<text fill=\"#000000\" font-family=\"Times,serif\" font-size=\"14.00\" text-anchor=\"middle\" x=\"290.4072\" y=\"-272.3\">(None, None, 71)</text>\n",
       "<polyline fill=\"none\" points=\"233.4209,-265.5 347.3936,-265.5 \" stroke=\"#000000\"/>\n",
       "<text fill=\"#000000\" font-family=\"Times,serif\" font-size=\"14.00\" text-anchor=\"middle\" x=\"290.4072\" y=\"-250.3\">(None, None, 71)</text>\n",
       "</g>\n",
       "<!-- 47977679112 -->\n",
       "<g class=\"node\" id=\"node3\">\n",
       "<title>47977679112</title>\n",
       "<polygon fill=\"none\" points=\"0,-162.5 0,-206.5 396.7832,-206.5 396.7832,-162.5 0,-162.5\" stroke=\"#000000\"/>\n",
       "<text fill=\"#000000\" font-family=\"Times,serif\" font-size=\"14.00\" text-anchor=\"middle\" x=\"49.4224\" y=\"-180.3\">lstm_7: LSTM</text>\n",
       "<polyline fill=\"none\" points=\"98.8447,-162.5 98.8447,-206.5 \" stroke=\"#000000\"/>\n",
       "<text fill=\"#000000\" font-family=\"Times,serif\" font-size=\"14.00\" text-anchor=\"middle\" x=\"126.6792\" y=\"-191.3\">input:</text>\n",
       "<polyline fill=\"none\" points=\"98.8447,-184.5 154.5137,-184.5 \" stroke=\"#000000\"/>\n",
       "<text fill=\"#000000\" font-family=\"Times,serif\" font-size=\"14.00\" text-anchor=\"middle\" x=\"126.6792\" y=\"-169.3\">output:</text>\n",
       "<polyline fill=\"none\" points=\"154.5137,-162.5 154.5137,-206.5 \" stroke=\"#000000\"/>\n",
       "<text fill=\"#000000\" font-family=\"Times,serif\" font-size=\"14.00\" text-anchor=\"middle\" x=\"275.5\" y=\"-191.3\">(None, None, 71)</text>\n",
       "<polyline fill=\"none\" points=\"154.5137,-184.5 396.7832,-184.5 \" stroke=\"#000000\"/>\n",
       "<text fill=\"#000000\" font-family=\"Times,serif\" font-size=\"14.00\" text-anchor=\"middle\" x=\"275.6484\" y=\"-169.3\">[(None, 256), (None, 256), (None, 256)]</text>\n",
       "</g>\n",
       "<!-- 47977554048&#45;&gt;47977679112 -->\n",
       "<g class=\"edge\" id=\"edge1\">\n",
       "<title>47977554048-&gt;47977679112</title>\n",
       "<path d=\"M198.3916,-243.3664C198.3916,-235.1516 198.3916,-225.6579 198.3916,-216.7252\" fill=\"none\" stroke=\"#000000\"/>\n",
       "<polygon fill=\"#000000\" points=\"201.8917,-216.6068 198.3916,-206.6068 194.8917,-216.6069 201.8917,-216.6068\" stroke=\"#000000\"/>\n",
       "</g>\n",
       "<!-- 47977679784 -->\n",
       "<g class=\"node\" id=\"node2\">\n",
       "<title>47977679784</title>\n",
       "<polygon fill=\"none\" points=\"414.3896,-162.5 414.3896,-206.5 712.3936,-206.5 712.3936,-162.5 414.3896,-162.5\" stroke=\"#000000\"/>\n",
       "<text fill=\"#000000\" font-family=\"Times,serif\" font-size=\"14.00\" text-anchor=\"middle\" x=\"478.5708\" y=\"-180.3\">input_9: InputLayer</text>\n",
       "<polyline fill=\"none\" points=\"542.752,-162.5 542.752,-206.5 \" stroke=\"#000000\"/>\n",
       "<text fill=\"#000000\" font-family=\"Times,serif\" font-size=\"14.00\" text-anchor=\"middle\" x=\"570.5864\" y=\"-191.3\">input:</text>\n",
       "<polyline fill=\"none\" points=\"542.752,-184.5 598.4209,-184.5 \" stroke=\"#000000\"/>\n",
       "<text fill=\"#000000\" font-family=\"Times,serif\" font-size=\"14.00\" text-anchor=\"middle\" x=\"570.5864\" y=\"-169.3\">output:</text>\n",
       "<polyline fill=\"none\" points=\"598.4209,-162.5 598.4209,-206.5 \" stroke=\"#000000\"/>\n",
       "<text fill=\"#000000\" font-family=\"Times,serif\" font-size=\"14.00\" text-anchor=\"middle\" x=\"655.4072\" y=\"-191.3\">(None, None, 93)</text>\n",
       "<polyline fill=\"none\" points=\"598.4209,-184.5 712.3936,-184.5 \" stroke=\"#000000\"/>\n",
       "<text fill=\"#000000\" font-family=\"Times,serif\" font-size=\"14.00\" text-anchor=\"middle\" x=\"655.4072\" y=\"-169.3\">(None, None, 93)</text>\n",
       "</g>\n",
       "<!-- 47977678776 -->\n",
       "<g class=\"node\" id=\"node4\">\n",
       "<title>47977678776</title>\n",
       "<polygon fill=\"none\" points=\"163.3379,-81.5 163.3379,-125.5 597.4453,-125.5 597.4453,-81.5 163.3379,-81.5\" stroke=\"#000000\"/>\n",
       "<text fill=\"#000000\" font-family=\"Times,serif\" font-size=\"14.00\" text-anchor=\"middle\" x=\"212.7603\" y=\"-99.3\">lstm_8: LSTM</text>\n",
       "<polyline fill=\"none\" points=\"262.1826,-81.5 262.1826,-125.5 \" stroke=\"#000000\"/>\n",
       "<text fill=\"#000000\" font-family=\"Times,serif\" font-size=\"14.00\" text-anchor=\"middle\" x=\"290.0171\" y=\"-110.3\">input:</text>\n",
       "<polyline fill=\"none\" points=\"262.1826,-103.5 317.8516,-103.5 \" stroke=\"#000000\"/>\n",
       "<text fill=\"#000000\" font-family=\"Times,serif\" font-size=\"14.00\" text-anchor=\"middle\" x=\"290.0171\" y=\"-88.3\">output:</text>\n",
       "<polyline fill=\"none\" points=\"317.8516,-81.5 317.8516,-125.5 \" stroke=\"#000000\"/>\n",
       "<text fill=\"#000000\" font-family=\"Times,serif\" font-size=\"14.00\" text-anchor=\"middle\" x=\"457.6484\" y=\"-110.3\">[(None, None, 93), (None, 256), (None, 256)]</text>\n",
       "<polyline fill=\"none\" points=\"317.8516,-103.5 597.4453,-103.5 \" stroke=\"#000000\"/>\n",
       "<text fill=\"#000000\" font-family=\"Times,serif\" font-size=\"14.00\" text-anchor=\"middle\" x=\"457.6484\" y=\"-88.3\">[(None, None, 256), (None, 256), (None, 256)]</text>\n",
       "</g>\n",
       "<!-- 47977679784&#45;&gt;47977678776 -->\n",
       "<g class=\"edge\" id=\"edge2\">\n",
       "<title>47977679784-&gt;47977678776</title>\n",
       "<path d=\"M513.386,-162.3664C490.5905,-152.2765 463.4356,-140.2572 439.6243,-129.7177\" fill=\"none\" stroke=\"#000000\"/>\n",
       "<polygon fill=\"#000000\" points=\"440.8976,-126.4539 430.3367,-125.6068 438.0644,-132.8549 440.8976,-126.4539\" stroke=\"#000000\"/>\n",
       "</g>\n",
       "<!-- 47977679112&#45;&gt;47977678776 -->\n",
       "<g class=\"edge\" id=\"edge3\">\n",
       "<title>47977679112-&gt;47977678776</title>\n",
       "<path d=\"M248.1239,-162.3664C270.7949,-152.2765 297.8014,-140.2572 321.4826,-129.7177\" fill=\"none\" stroke=\"#000000\"/>\n",
       "<polygon fill=\"#000000\" points=\"323.0065,-132.8706 330.7194,-125.6068 320.1602,-126.4753 323.0065,-132.8706\" stroke=\"#000000\"/>\n",
       "</g>\n",
       "<!-- 47979894040 -->\n",
       "<g class=\"node\" id=\"node5\">\n",
       "<title>47979894040</title>\n",
       "<polygon fill=\"none\" points=\"239.9448,-.5 239.9448,-44.5 520.8384,-44.5 520.8384,-.5 239.9448,-.5\" stroke=\"#000000\"/>\n",
       "<text fill=\"#000000\" font-family=\"Times,serif\" font-size=\"14.00\" text-anchor=\"middle\" x=\"292.0708\" y=\"-18.3\">dense_4: Dense</text>\n",
       "<polyline fill=\"none\" points=\"344.1968,-.5 344.1968,-44.5 \" stroke=\"#000000\"/>\n",
       "<text fill=\"#000000\" font-family=\"Times,serif\" font-size=\"14.00\" text-anchor=\"middle\" x=\"372.0313\" y=\"-29.3\">input:</text>\n",
       "<polyline fill=\"none\" points=\"344.1968,-22.5 399.8657,-22.5 \" stroke=\"#000000\"/>\n",
       "<text fill=\"#000000\" font-family=\"Times,serif\" font-size=\"14.00\" text-anchor=\"middle\" x=\"372.0313\" y=\"-7.3\">output:</text>\n",
       "<polyline fill=\"none\" points=\"399.8657,-.5 399.8657,-44.5 \" stroke=\"#000000\"/>\n",
       "<text fill=\"#000000\" font-family=\"Times,serif\" font-size=\"14.00\" text-anchor=\"middle\" x=\"460.3521\" y=\"-29.3\">(None, None, 256)</text>\n",
       "<polyline fill=\"none\" points=\"399.8657,-22.5 520.8384,-22.5 \" stroke=\"#000000\"/>\n",
       "<text fill=\"#000000\" font-family=\"Times,serif\" font-size=\"14.00\" text-anchor=\"middle\" x=\"460.3521\" y=\"-7.3\">(None, None, 93)</text>\n",
       "</g>\n",
       "<!-- 47977678776&#45;&gt;47979894040 -->\n",
       "<g class=\"edge\" id=\"edge5\">\n",
       "<title>47977678776-&gt;47979894040</title>\n",
       "<path d=\"M380.3916,-81.3664C380.3916,-73.1516 380.3916,-63.6579 380.3916,-54.7252\" fill=\"none\" stroke=\"#000000\"/>\n",
       "<polygon fill=\"#000000\" points=\"383.8917,-54.6068 380.3916,-44.6068 376.8917,-54.6069 383.8917,-54.6068\" stroke=\"#000000\"/>\n",
       "</g>\n",
       "</g>\n",
       "</svg>"
      ],
      "text/plain": [
       "<IPython.core.display.SVG object>"
      ]
     },
     "execution_count": 14,
     "metadata": {},
     "output_type": "execute_result"
    }
   ],
   "source": [
    "dot = model_to_dot(model, show_layer_names=True, show_shapes=True)\n",
    "SVG(dot.create(prog='dot', format='svg'))"
   ]
  },
  {
   "cell_type": "code",
   "execution_count": null,
   "metadata": {},
   "outputs": [],
   "source": []
  },
  {
   "cell_type": "code",
   "execution_count": null,
   "metadata": {},
   "outputs": [],
   "source": []
  },
  {
   "cell_type": "code",
   "execution_count": 15,
   "metadata": {},
   "outputs": [],
   "source": [
    "english = ['where are you going', 'how do you do', 'where is the bus stop', 'please give me change', 'i need some directions', 'thank you very much', 'is there a room available', 'how much should i pay you']\n",
    "hinglish = ['kahan ja rahe ho', 'aap kaise hain', 'bus stop kahan hai', 'khulle paise dein', 'mujhe rasta bata do', 'bhaut dhanyawad aapka', 'koi kamra hai kya', 'aapko kitne paise doon']"
   ]
  },
  {
   "cell_type": "code",
   "execution_count": 20,
   "metadata": {},
   "outputs": [
    {
     "data": {
      "text/plain": [
       "[('where are you going', 'kahan ja rahe ho'),\n",
       " ('how do you do', 'aap kaise hain'),\n",
       " ('where is the bus stop', 'bus stop kahan hai'),\n",
       " ('please give me change', 'khulle paise dein'),\n",
       " ('i need some directions', 'mujhe rasta bata do'),\n",
       " ('thank you very much', 'bhaut dhanyawad aapka'),\n",
       " ('is there a room available', 'koi kamra hai kya'),\n",
       " ('how much should i pay you', 'aapko kitne paise doon')]"
      ]
     },
     "execution_count": 20,
     "metadata": {},
     "output_type": "execute_result"
    }
   ],
   "source": [
    "translations = [i for i in zip(english, hinglish)]\n",
    "translations"
   ]
  },
  {
   "cell_type": "code",
   "execution_count": 30,
   "metadata": {},
   "outputs": [],
   "source": [
    "def get_vocab(sequences):\n",
    "    tokens = [seq.split() for seq in sequences]\n",
    "    tokens = [i for sublist in tokens for i in sublist]\n",
    "    return list(set(tokens))"
   ]
  },
  {
   "cell_type": "code",
   "execution_count": 25,
   "metadata": {},
   "outputs": [],
   "source": [
    "input_vocab = get_vocab(english)\n",
    "output_vocab = get_vocab(hinglish)"
   ]
  },
  {
   "cell_type": "code",
   "execution_count": 37,
   "metadata": {},
   "outputs": [],
   "source": [
    "def label_encoder(sequence, vocab):\n",
    "    vocab_indexes = [i for i in enumerate(input_vocab)]\n",
    "    labels = [[j[0] for j in vocab_indexes if j[1]==i][0] for i in sequence.split()]\n",
    "    return labels"
   ]
  },
  {
   "cell_type": "code",
   "execution_count": 38,
   "metadata": {},
   "outputs": [
    {
     "data": {
      "text/plain": [
       "[11, 26, 16, 2]"
      ]
     },
     "execution_count": 38,
     "metadata": {},
     "output_type": "execute_result"
    }
   ],
   "source": [
    "label_encoder(english[0],input_vocab)"
   ]
  },
  {
   "cell_type": "code",
   "execution_count": null,
   "metadata": {},
   "outputs": [],
   "source": []
  }
 ],
 "metadata": {
  "kernelspec": {
   "display_name": "Python 3",
   "language": "python",
   "name": "python3"
  },
  "language_info": {
   "codemirror_mode": {
    "name": "ipython",
    "version": 3
   },
   "file_extension": ".py",
   "mimetype": "text/x-python",
   "name": "python",
   "nbconvert_exporter": "python",
   "pygments_lexer": "ipython3",
   "version": "3.7.3"
  }
 },
 "nbformat": 4,
 "nbformat_minor": 2
}
