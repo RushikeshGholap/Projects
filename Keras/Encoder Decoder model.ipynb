{
 "cells": [
  {
   "cell_type": "markdown",
   "metadata": {},
   "source": [
    "# Encoder Decoder model"
   ]
  },
  {
   "cell_type": "code",
   "execution_count": 85,
   "metadata": {},
   "outputs": [],
   "source": [
    "from keras.layers import Input, Dense, LSTM\n",
    "from keras.models import Model\n",
    "\n",
    "from keras.utils.vis_utils import model_to_dot\n",
    "from IPython.display import SVG\n",
    "import matplotlib.pyplot as plt\n",
    "\n",
    "import numpy as np\n",
    "import pandas as pd\n",
    "%matplotlib inline"
   ]
  },
  {
   "cell_type": "code",
   "execution_count": 5,
   "metadata": {},
   "outputs": [],
   "source": [
    "def define_models(n_input, n_output, n_units):\n",
    "    # define training encoder\n",
    "    encoder_inputs = Input(shape=(None, n_input))\n",
    "    encoder = LSTM(n_units, return_state=True)\n",
    "    encoder_outputs, state_h, state_c = encoder(encoder_inputs)\n",
    "    encoder_states = [state_h, state_c]\n",
    "    # define training decoder\n",
    "    decoder_inputs = Input(shape=(None, n_output))\n",
    "    decoder_lstm = LSTM(n_units, return_sequences=True, return_state=True)\n",
    "    decoder_outputs, _, _ = decoder_lstm(decoder_inputs, initial_state=encoder_states)\n",
    "    decoder_dense = Dense(n_output, activation='softmax')\n",
    "    decoder_outputs = decoder_dense(decoder_outputs)\n",
    "    model = Model([encoder_inputs, decoder_inputs], decoder_outputs)\n",
    "    # define inference encoder\n",
    "    encoder_model = Model(encoder_inputs, encoder_states)\n",
    "    # define inference decoder\n",
    "    decoder_state_input_h = Input(shape=(n_units,))\n",
    "    decoder_state_input_c = Input(shape=(n_units,))\n",
    "    decoder_states_inputs = [decoder_state_input_h, decoder_state_input_c]\n",
    "    decoder_outputs, state_h, state_c = decoder_lstm(decoder_inputs, initial_state=decoder_states_inputs)\n",
    "    decoder_states = [state_h, state_c]\n",
    "    decoder_outputs = decoder_dense(decoder_outputs)\n",
    "    decoder_model = Model([decoder_inputs] + decoder_states_inputs, [decoder_outputs] + decoder_states)\n",
    "    # return all models\n",
    "    return model, encoder_model, decoder_model"
   ]
  },
  {
   "cell_type": "code",
   "execution_count": 6,
   "metadata": {},
   "outputs": [],
   "source": [
    "# generate target given source sequence\n",
    "def predict_sequence(infenc, infdec, source, n_steps, cardinality):\n",
    "    # encode\n",
    "    state = infenc.predict(source)\n",
    "    # start of sequence input\n",
    "    target_seq = array([0.0 for _ in range(cardinality)]).reshape(1, 1, cardinality)\n",
    "    # collect predictions\n",
    "    output = list()\n",
    "    for t in range(n_steps):\n",
    "        # predict next char\n",
    "        yhat, h, c = infdec.predict([target_seq] + state)\n",
    "        # store prediction\n",
    "        output.append(yhat[0,0,:])\n",
    "        # update state\n",
    "        state = [h, c]\n",
    "        # update target sequence\n",
    "        target_seq = yhat\n",
    "    return array(output)"
   ]
  },
  {
   "cell_type": "code",
   "execution_count": 7,
   "metadata": {},
   "outputs": [],
   "source": [
    "n_features = 50 + 1"
   ]
  },
  {
   "cell_type": "code",
   "execution_count": 8,
   "metadata": {},
   "outputs": [],
   "source": [
    "# generate a sequence of random integers\n",
    "def generate_sequence(length, n_unique):\n",
    "    return [randint(1, n_unique-1) for _ in range(length)]"
   ]
  },
  {
   "cell_type": "code",
   "execution_count": 9,
   "metadata": {},
   "outputs": [
    {
     "ename": "NameError",
     "evalue": "name 'source' is not defined",
     "output_type": "error",
     "traceback": [
      "\u001b[0;31m---------------------------------------------------------------------------\u001b[0m",
      "\u001b[0;31mNameError\u001b[0m                                 Traceback (most recent call last)",
      "\u001b[0;32m<ipython-input-9-0150d4c72db1>\u001b[0m in \u001b[0;36m<module>\u001b[0;34m\u001b[0m\n\u001b[1;32m      1\u001b[0m \u001b[0;31m# define target sequence\u001b[0m\u001b[0;34m\u001b[0m\u001b[0;34m\u001b[0m\u001b[0;34m\u001b[0m\u001b[0m\n\u001b[0;32m----> 2\u001b[0;31m \u001b[0mtarget\u001b[0m \u001b[0;34m=\u001b[0m \u001b[0msource\u001b[0m\u001b[0;34m[\u001b[0m\u001b[0;34m:\u001b[0m\u001b[0mn_out\u001b[0m\u001b[0;34m]\u001b[0m\u001b[0;34m\u001b[0m\u001b[0;34m\u001b[0m\u001b[0m\n\u001b[0m\u001b[1;32m      3\u001b[0m \u001b[0mtarget\u001b[0m\u001b[0;34m.\u001b[0m\u001b[0mreverse\u001b[0m\u001b[0;34m(\u001b[0m\u001b[0;34m)\u001b[0m\u001b[0;34m\u001b[0m\u001b[0;34m\u001b[0m\u001b[0m\n",
      "\u001b[0;31mNameError\u001b[0m: name 'source' is not defined"
     ]
    }
   ],
   "source": [
    "# define target sequence\n",
    "target = source[:n_out]\n",
    "target.reverse()"
   ]
  },
  {
   "cell_type": "code",
   "execution_count": 13,
   "metadata": {},
   "outputs": [],
   "source": [
    "from keras.models import Model\n",
    "from keras.layers import Input\n",
    "from keras.layers import LSTM\n",
    "from keras.layers import Dense\n",
    "from keras.utils.vis_utils import model_to_dot\n",
    "from IPython.display import SVG\n",
    "\n",
    "\n",
    "# configure\n",
    "num_encoder_tokens = 71\n",
    "num_decoder_tokens = 93\n",
    "latent_dim = 256\n",
    "# Define an input sequence and process it.\n",
    "encoder_inputs = Input(shape=(None, num_encoder_tokens))\n",
    "encoder = LSTM(latent_dim, return_state=True)\n",
    "encoder_outputs, state_h, state_c = encoder(encoder_inputs)\n",
    "# We discard `encoder_outputs` and only keep the states.\n",
    "encoder_states = [state_h, state_c]\n",
    "# Set up the decoder, using `encoder_states` as initial state.\n",
    "decoder_inputs = Input(shape=(None, num_decoder_tokens))\n",
    "# We set up our decoder to return full output sequences,\n",
    "# and to return internal states as well. We don't use the\n",
    "# return states in the training model, but we will use them in inference.\n",
    "decoder_lstm = LSTM(latent_dim, return_sequences=True, return_state=True)\n",
    "decoder_outputs, _, _ = decoder_lstm(decoder_inputs, initial_state=encoder_states)\n",
    "decoder_dense = Dense(num_decoder_tokens, activation='softmax')\n",
    "decoder_outputs = decoder_dense(decoder_outputs)\n",
    "# Define the model that will turn\n",
    "# `encoder_input_data` & `decoder_input_data` into `decoder_target_data`\n",
    "model = Model([encoder_inputs, decoder_inputs], decoder_outputs)"
   ]
  },
  {
   "cell_type": "code",
   "execution_count": 14,
   "metadata": {},
   "outputs": [
    {
     "data": {
      "image/svg+xml": [
       "<svg height=\"296pt\" viewBox=\"0.00 0.00 720.39 296.00\" width=\"720pt\" xmlns=\"http://www.w3.org/2000/svg\" xmlns:xlink=\"http://www.w3.org/1999/xlink\">\n",
       "<g class=\"graph\" id=\"graph0\" transform=\"scale(1 1) rotate(0) translate(4 292)\">\n",
       "<title>G</title>\n",
       "<polygon fill=\"#ffffff\" points=\"-4,4 -4,-292 716.3936,-292 716.3936,4 -4,4\" stroke=\"transparent\"/>\n",
       "<!-- 47977554048 -->\n",
       "<g class=\"node\" id=\"node1\">\n",
       "<title>47977554048</title>\n",
       "<polygon fill=\"none\" points=\"49.3896,-243.5 49.3896,-287.5 347.3936,-287.5 347.3936,-243.5 49.3896,-243.5\" stroke=\"#000000\"/>\n",
       "<text fill=\"#000000\" font-family=\"Times,serif\" font-size=\"14.00\" text-anchor=\"middle\" x=\"113.5708\" y=\"-261.3\">input_8: InputLayer</text>\n",
       "<polyline fill=\"none\" points=\"177.752,-243.5 177.752,-287.5 \" stroke=\"#000000\"/>\n",
       "<text fill=\"#000000\" font-family=\"Times,serif\" font-size=\"14.00\" text-anchor=\"middle\" x=\"205.5864\" y=\"-272.3\">input:</text>\n",
       "<polyline fill=\"none\" points=\"177.752,-265.5 233.4209,-265.5 \" stroke=\"#000000\"/>\n",
       "<text fill=\"#000000\" font-family=\"Times,serif\" font-size=\"14.00\" text-anchor=\"middle\" x=\"205.5864\" y=\"-250.3\">output:</text>\n",
       "<polyline fill=\"none\" points=\"233.4209,-243.5 233.4209,-287.5 \" stroke=\"#000000\"/>\n",
       "<text fill=\"#000000\" font-family=\"Times,serif\" font-size=\"14.00\" text-anchor=\"middle\" x=\"290.4072\" y=\"-272.3\">(None, None, 71)</text>\n",
       "<polyline fill=\"none\" points=\"233.4209,-265.5 347.3936,-265.5 \" stroke=\"#000000\"/>\n",
       "<text fill=\"#000000\" font-family=\"Times,serif\" font-size=\"14.00\" text-anchor=\"middle\" x=\"290.4072\" y=\"-250.3\">(None, None, 71)</text>\n",
       "</g>\n",
       "<!-- 47977679112 -->\n",
       "<g class=\"node\" id=\"node3\">\n",
       "<title>47977679112</title>\n",
       "<polygon fill=\"none\" points=\"0,-162.5 0,-206.5 396.7832,-206.5 396.7832,-162.5 0,-162.5\" stroke=\"#000000\"/>\n",
       "<text fill=\"#000000\" font-family=\"Times,serif\" font-size=\"14.00\" text-anchor=\"middle\" x=\"49.4224\" y=\"-180.3\">lstm_7: LSTM</text>\n",
       "<polyline fill=\"none\" points=\"98.8447,-162.5 98.8447,-206.5 \" stroke=\"#000000\"/>\n",
       "<text fill=\"#000000\" font-family=\"Times,serif\" font-size=\"14.00\" text-anchor=\"middle\" x=\"126.6792\" y=\"-191.3\">input:</text>\n",
       "<polyline fill=\"none\" points=\"98.8447,-184.5 154.5137,-184.5 \" stroke=\"#000000\"/>\n",
       "<text fill=\"#000000\" font-family=\"Times,serif\" font-size=\"14.00\" text-anchor=\"middle\" x=\"126.6792\" y=\"-169.3\">output:</text>\n",
       "<polyline fill=\"none\" points=\"154.5137,-162.5 154.5137,-206.5 \" stroke=\"#000000\"/>\n",
       "<text fill=\"#000000\" font-family=\"Times,serif\" font-size=\"14.00\" text-anchor=\"middle\" x=\"275.5\" y=\"-191.3\">(None, None, 71)</text>\n",
       "<polyline fill=\"none\" points=\"154.5137,-184.5 396.7832,-184.5 \" stroke=\"#000000\"/>\n",
       "<text fill=\"#000000\" font-family=\"Times,serif\" font-size=\"14.00\" text-anchor=\"middle\" x=\"275.6484\" y=\"-169.3\">[(None, 256), (None, 256), (None, 256)]</text>\n",
       "</g>\n",
       "<!-- 47977554048&#45;&gt;47977679112 -->\n",
       "<g class=\"edge\" id=\"edge1\">\n",
       "<title>47977554048-&gt;47977679112</title>\n",
       "<path d=\"M198.3916,-243.3664C198.3916,-235.1516 198.3916,-225.6579 198.3916,-216.7252\" fill=\"none\" stroke=\"#000000\"/>\n",
       "<polygon fill=\"#000000\" points=\"201.8917,-216.6068 198.3916,-206.6068 194.8917,-216.6069 201.8917,-216.6068\" stroke=\"#000000\"/>\n",
       "</g>\n",
       "<!-- 47977679784 -->\n",
       "<g class=\"node\" id=\"node2\">\n",
       "<title>47977679784</title>\n",
       "<polygon fill=\"none\" points=\"414.3896,-162.5 414.3896,-206.5 712.3936,-206.5 712.3936,-162.5 414.3896,-162.5\" stroke=\"#000000\"/>\n",
       "<text fill=\"#000000\" font-family=\"Times,serif\" font-size=\"14.00\" text-anchor=\"middle\" x=\"478.5708\" y=\"-180.3\">input_9: InputLayer</text>\n",
       "<polyline fill=\"none\" points=\"542.752,-162.5 542.752,-206.5 \" stroke=\"#000000\"/>\n",
       "<text fill=\"#000000\" font-family=\"Times,serif\" font-size=\"14.00\" text-anchor=\"middle\" x=\"570.5864\" y=\"-191.3\">input:</text>\n",
       "<polyline fill=\"none\" points=\"542.752,-184.5 598.4209,-184.5 \" stroke=\"#000000\"/>\n",
       "<text fill=\"#000000\" font-family=\"Times,serif\" font-size=\"14.00\" text-anchor=\"middle\" x=\"570.5864\" y=\"-169.3\">output:</text>\n",
       "<polyline fill=\"none\" points=\"598.4209,-162.5 598.4209,-206.5 \" stroke=\"#000000\"/>\n",
       "<text fill=\"#000000\" font-family=\"Times,serif\" font-size=\"14.00\" text-anchor=\"middle\" x=\"655.4072\" y=\"-191.3\">(None, None, 93)</text>\n",
       "<polyline fill=\"none\" points=\"598.4209,-184.5 712.3936,-184.5 \" stroke=\"#000000\"/>\n",
       "<text fill=\"#000000\" font-family=\"Times,serif\" font-size=\"14.00\" text-anchor=\"middle\" x=\"655.4072\" y=\"-169.3\">(None, None, 93)</text>\n",
       "</g>\n",
       "<!-- 47977678776 -->\n",
       "<g class=\"node\" id=\"node4\">\n",
       "<title>47977678776</title>\n",
       "<polygon fill=\"none\" points=\"163.3379,-81.5 163.3379,-125.5 597.4453,-125.5 597.4453,-81.5 163.3379,-81.5\" stroke=\"#000000\"/>\n",
       "<text fill=\"#000000\" font-family=\"Times,serif\" font-size=\"14.00\" text-anchor=\"middle\" x=\"212.7603\" y=\"-99.3\">lstm_8: LSTM</text>\n",
       "<polyline fill=\"none\" points=\"262.1826,-81.5 262.1826,-125.5 \" stroke=\"#000000\"/>\n",
       "<text fill=\"#000000\" font-family=\"Times,serif\" font-size=\"14.00\" text-anchor=\"middle\" x=\"290.0171\" y=\"-110.3\">input:</text>\n",
       "<polyline fill=\"none\" points=\"262.1826,-103.5 317.8516,-103.5 \" stroke=\"#000000\"/>\n",
       "<text fill=\"#000000\" font-family=\"Times,serif\" font-size=\"14.00\" text-anchor=\"middle\" x=\"290.0171\" y=\"-88.3\">output:</text>\n",
       "<polyline fill=\"none\" points=\"317.8516,-81.5 317.8516,-125.5 \" stroke=\"#000000\"/>\n",
       "<text fill=\"#000000\" font-family=\"Times,serif\" font-size=\"14.00\" text-anchor=\"middle\" x=\"457.6484\" y=\"-110.3\">[(None, None, 93), (None, 256), (None, 256)]</text>\n",
       "<polyline fill=\"none\" points=\"317.8516,-103.5 597.4453,-103.5 \" stroke=\"#000000\"/>\n",
       "<text fill=\"#000000\" font-family=\"Times,serif\" font-size=\"14.00\" text-anchor=\"middle\" x=\"457.6484\" y=\"-88.3\">[(None, None, 256), (None, 256), (None, 256)]</text>\n",
       "</g>\n",
       "<!-- 47977679784&#45;&gt;47977678776 -->\n",
       "<g class=\"edge\" id=\"edge2\">\n",
       "<title>47977679784-&gt;47977678776</title>\n",
       "<path d=\"M513.386,-162.3664C490.5905,-152.2765 463.4356,-140.2572 439.6243,-129.7177\" fill=\"none\" stroke=\"#000000\"/>\n",
       "<polygon fill=\"#000000\" points=\"440.8976,-126.4539 430.3367,-125.6068 438.0644,-132.8549 440.8976,-126.4539\" stroke=\"#000000\"/>\n",
       "</g>\n",
       "<!-- 47977679112&#45;&gt;47977678776 -->\n",
       "<g class=\"edge\" id=\"edge3\">\n",
       "<title>47977679112-&gt;47977678776</title>\n",
       "<path d=\"M248.1239,-162.3664C270.7949,-152.2765 297.8014,-140.2572 321.4826,-129.7177\" fill=\"none\" stroke=\"#000000\"/>\n",
       "<polygon fill=\"#000000\" points=\"323.0065,-132.8706 330.7194,-125.6068 320.1602,-126.4753 323.0065,-132.8706\" stroke=\"#000000\"/>\n",
       "</g>\n",
       "<!-- 47979894040 -->\n",
       "<g class=\"node\" id=\"node5\">\n",
       "<title>47979894040</title>\n",
       "<polygon fill=\"none\" points=\"239.9448,-.5 239.9448,-44.5 520.8384,-44.5 520.8384,-.5 239.9448,-.5\" stroke=\"#000000\"/>\n",
       "<text fill=\"#000000\" font-family=\"Times,serif\" font-size=\"14.00\" text-anchor=\"middle\" x=\"292.0708\" y=\"-18.3\">dense_4: Dense</text>\n",
       "<polyline fill=\"none\" points=\"344.1968,-.5 344.1968,-44.5 \" stroke=\"#000000\"/>\n",
       "<text fill=\"#000000\" font-family=\"Times,serif\" font-size=\"14.00\" text-anchor=\"middle\" x=\"372.0313\" y=\"-29.3\">input:</text>\n",
       "<polyline fill=\"none\" points=\"344.1968,-22.5 399.8657,-22.5 \" stroke=\"#000000\"/>\n",
       "<text fill=\"#000000\" font-family=\"Times,serif\" font-size=\"14.00\" text-anchor=\"middle\" x=\"372.0313\" y=\"-7.3\">output:</text>\n",
       "<polyline fill=\"none\" points=\"399.8657,-.5 399.8657,-44.5 \" stroke=\"#000000\"/>\n",
       "<text fill=\"#000000\" font-family=\"Times,serif\" font-size=\"14.00\" text-anchor=\"middle\" x=\"460.3521\" y=\"-29.3\">(None, None, 256)</text>\n",
       "<polyline fill=\"none\" points=\"399.8657,-22.5 520.8384,-22.5 \" stroke=\"#000000\"/>\n",
       "<text fill=\"#000000\" font-family=\"Times,serif\" font-size=\"14.00\" text-anchor=\"middle\" x=\"460.3521\" y=\"-7.3\">(None, None, 93)</text>\n",
       "</g>\n",
       "<!-- 47977678776&#45;&gt;47979894040 -->\n",
       "<g class=\"edge\" id=\"edge5\">\n",
       "<title>47977678776-&gt;47979894040</title>\n",
       "<path d=\"M380.3916,-81.3664C380.3916,-73.1516 380.3916,-63.6579 380.3916,-54.7252\" fill=\"none\" stroke=\"#000000\"/>\n",
       "<polygon fill=\"#000000\" points=\"383.8917,-54.6068 380.3916,-44.6068 376.8917,-54.6069 383.8917,-54.6068\" stroke=\"#000000\"/>\n",
       "</g>\n",
       "</g>\n",
       "</svg>"
      ],
      "text/plain": [
       "<IPython.core.display.SVG object>"
      ]
     },
     "execution_count": 14,
     "metadata": {},
     "output_type": "execute_result"
    }
   ],
   "source": [
    "dot = model_to_dot(model, show_layer_names=True, show_shapes=True)\n",
    "SVG(dot.create(prog='dot', format='svg'))"
   ]
  },
  {
   "cell_type": "code",
   "execution_count": null,
   "metadata": {},
   "outputs": [],
   "source": []
  },
  {
   "cell_type": "markdown",
   "metadata": {},
   "source": [
    "# Rough example"
   ]
  },
  {
   "cell_type": "code",
   "execution_count": 15,
   "metadata": {},
   "outputs": [],
   "source": [
    "english = ['where are you going', 'how do you do', 'where is the bus stop', 'please give me change', 'i need some directions', 'thank you very much', 'is there a room available', 'how much should i pay you']\n",
    "hinglish = ['kahan ja rahe ho', 'aap kaise hain', 'bus stop kahan hai', 'khulle paise dein', 'mujhe rasta bata do', 'bhaut dhanyawad aapka', 'koi kamra hai kya', 'aapko kitne paise doon']"
   ]
  },
  {
   "cell_type": "code",
   "execution_count": 142,
   "metadata": {},
   "outputs": [
    {
     "data": {
      "text/plain": [
       "[('where are you going', 'kahan ja rahe ho'),\n",
       " ('how do you do', 'aap kaise hain'),\n",
       " ('where is the bus stop', 'bus stop kahan hai'),\n",
       " ('please give me change', 'khulle paise dein'),\n",
       " ('i need some directions', 'mujhe rasta bata do'),\n",
       " ('thank you very much', 'bhaut dhanyawad aapka'),\n",
       " ('is there a room available', 'koi kamra hai kya'),\n",
       " ('how much should i pay you', 'aapko kitne paise doon')]"
      ]
     },
     "execution_count": 142,
     "metadata": {},
     "output_type": "execute_result"
    }
   ],
   "source": [
    "translations = [i for i in zip(english, hinglish)]\n",
    "translations"
   ]
  },
  {
   "cell_type": "code",
   "execution_count": 149,
   "metadata": {},
   "outputs": [],
   "source": [
    "def get_vocab(sequences):\n",
    "    tokens = [seq.split() for seq in sequences]\n",
    "    tokens = [i for sublist in tokens for i in sublist]\n",
    "    tokens = list(set(tokens))\n",
    "    return ['!'] + tokens"
   ]
  },
  {
   "cell_type": "code",
   "execution_count": 150,
   "metadata": {},
   "outputs": [],
   "source": [
    "input_vocab = get_vocab(english)\n",
    "output_vocab = get_vocab(hinglish)"
   ]
  },
  {
   "cell_type": "code",
   "execution_count": 151,
   "metadata": {},
   "outputs": [],
   "source": [
    "def label_encoder(sequence, vocab):\n",
    "    vocab_indexes = [i for i in enumerate(vocab)]\n",
    "    labels = [[j[0] for j in vocab_indexes if j[1]==i][0] for i in sequence.split()]\n",
    "    return labels\n",
    "\n",
    "def get_sequence(labeled_sequence, vocab):\n",
    "    vocab_indexes = [i for i in enumerate(vocab)]\n",
    "    words = [[j[1] for j in vocab_indexes if j[0]==i][0] for i in labeled_sequence]\n",
    "    return ' '.join([i for i in words if i!='!'])"
   ]
  },
  {
   "cell_type": "code",
   "execution_count": 157,
   "metadata": {},
   "outputs": [
    {
     "data": {
      "text/plain": [
       "'bus stop kahan hai'"
      ]
     },
     "execution_count": 157,
     "metadata": {},
     "output_type": "execute_result"
    }
   ],
   "source": [
    "get_sequence(hinglish_labels[2], output_vocab)"
   ]
  },
  {
   "cell_type": "code",
   "execution_count": null,
   "metadata": {},
   "outputs": [],
   "source": []
  },
  {
   "cell_type": "code",
   "execution_count": 153,
   "metadata": {},
   "outputs": [],
   "source": [
    "english_labels = [label_encoder(i, input_vocab) for i in english]\n",
    "hinglish_labels = [label_encoder(i, output_vocab) for i in hinglish]\n",
    "\n",
    "english_labels = pad_sequences(english_labels, 6)\n",
    "hinglish_labels = pad_sequences(hinglish_labels, 4)"
   ]
  },
  {
   "cell_type": "code",
   "execution_count": 114,
   "metadata": {},
   "outputs": [],
   "source": [
    "from keras.layers import Input, Dense, Embedding, LSTM\n",
    "from keras.models import Model\n",
    "from keras.preprocessing.sequence import pad_sequences"
   ]
  },
  {
   "cell_type": "code",
   "execution_count": 119,
   "metadata": {},
   "outputs": [],
   "source": [
    "enc_inp = Input((6,))\n",
    "enc_emb = Embedding(len(input_vocab), 5, input_length=6)(enc_inp)\n",
    "enc_out, h, c = LSTM(4, return_state=True, return_sequences=True)(enc_emb)\n",
    "enc_states = [h, c]"
   ]
  },
  {
   "cell_type": "code",
   "execution_count": 120,
   "metadata": {},
   "outputs": [],
   "source": [
    "model = Model(enc_inp, enc_out)"
   ]
  },
  {
   "cell_type": "code",
   "execution_count": 129,
   "metadata": {},
   "outputs": [
    {
     "data": {
      "text/plain": [
       "array([ 0,  0, 11, 26, 16,  2], dtype=int32)"
      ]
     },
     "execution_count": 129,
     "metadata": {},
     "output_type": "execute_result"
    }
   ],
   "source": [
    "english_labels[0]"
   ]
  },
  {
   "cell_type": "code",
   "execution_count": null,
   "metadata": {},
   "outputs": [],
   "source": []
  },
  {
   "cell_type": "code",
   "execution_count": 121,
   "metadata": {},
   "outputs": [
    {
     "name": "stdout",
     "output_type": "stream",
     "text": [
      "_________________________________________________________________\n",
      "Layer (type)                 Output Shape              Param #   \n",
      "=================================================================\n",
      "input_22 (InputLayer)        (None, 6)                 0         \n",
      "_________________________________________________________________\n",
      "embedding_13 (Embedding)     (None, 6, 5)              135       \n",
      "_________________________________________________________________\n",
      "lstm_21 (LSTM)               [(None, 6, 4), (None, 4), 160       \n",
      "=================================================================\n",
      "Total params: 295\n",
      "Trainable params: 295\n",
      "Non-trainable params: 0\n",
      "_________________________________________________________________\n"
     ]
    }
   ],
   "source": [
    "model.summary()"
   ]
  },
  {
   "cell_type": "code",
   "execution_count": 122,
   "metadata": {
    "scrolled": true
   },
   "outputs": [
    {
     "data": {
      "image/svg+xml": [
       "<svg height=\"215pt\" viewBox=\"0.00 0.00 383.78 215.00\" width=\"384pt\" xmlns=\"http://www.w3.org/2000/svg\" xmlns:xlink=\"http://www.w3.org/1999/xlink\">\n",
       "<g class=\"graph\" id=\"graph0\" transform=\"scale(1 1) rotate(0) translate(4 211)\">\n",
       "<title>G</title>\n",
       "<polygon fill=\"#ffffff\" points=\"-4,4 -4,-211 379.7832,-211 379.7832,4 -4,4\" stroke=\"transparent\"/>\n",
       "<!-- 112584934456 -->\n",
       "<g class=\"node\" id=\"node1\">\n",
       "<title>112584934456</title>\n",
       "<polygon fill=\"none\" points=\"57.5518,-162.5 57.5518,-206.5 318.2314,-206.5 318.2314,-162.5 57.5518,-162.5\" stroke=\"#000000\"/>\n",
       "<text fill=\"#000000\" font-family=\"Times,serif\" font-size=\"14.00\" text-anchor=\"middle\" x=\"125.2329\" y=\"-180.3\">input_22: InputLayer</text>\n",
       "<polyline fill=\"none\" points=\"192.9141,-162.5 192.9141,-206.5 \" stroke=\"#000000\"/>\n",
       "<text fill=\"#000000\" font-family=\"Times,serif\" font-size=\"14.00\" text-anchor=\"middle\" x=\"220.7485\" y=\"-191.3\">input:</text>\n",
       "<polyline fill=\"none\" points=\"192.9141,-184.5 248.583,-184.5 \" stroke=\"#000000\"/>\n",
       "<text fill=\"#000000\" font-family=\"Times,serif\" font-size=\"14.00\" text-anchor=\"middle\" x=\"220.7485\" y=\"-169.3\">output:</text>\n",
       "<polyline fill=\"none\" points=\"248.583,-162.5 248.583,-206.5 \" stroke=\"#000000\"/>\n",
       "<text fill=\"#000000\" font-family=\"Times,serif\" font-size=\"14.00\" text-anchor=\"middle\" x=\"283.4072\" y=\"-191.3\">(None, 6)</text>\n",
       "<polyline fill=\"none\" points=\"248.583,-184.5 318.2314,-184.5 \" stroke=\"#000000\"/>\n",
       "<text fill=\"#000000\" font-family=\"Times,serif\" font-size=\"14.00\" text-anchor=\"middle\" x=\"283.4072\" y=\"-169.3\">(None, 6)</text>\n",
       "</g>\n",
       "<!-- 112584934512 -->\n",
       "<g class=\"node\" id=\"node2\">\n",
       "<title>112584934512</title>\n",
       "<polygon fill=\"none\" points=\"32.6621,-81.5 32.6621,-125.5 343.1211,-125.5 343.1211,-81.5 32.6621,-81.5\" stroke=\"#000000\"/>\n",
       "<text fill=\"#000000\" font-family=\"Times,serif\" font-size=\"14.00\" text-anchor=\"middle\" x=\"118.2329\" y=\"-99.3\">embedding_13: Embedding</text>\n",
       "<polyline fill=\"none\" points=\"203.8037,-81.5 203.8037,-125.5 \" stroke=\"#000000\"/>\n",
       "<text fill=\"#000000\" font-family=\"Times,serif\" font-size=\"14.00\" text-anchor=\"middle\" x=\"231.6382\" y=\"-110.3\">input:</text>\n",
       "<polyline fill=\"none\" points=\"203.8037,-103.5 259.4727,-103.5 \" stroke=\"#000000\"/>\n",
       "<text fill=\"#000000\" font-family=\"Times,serif\" font-size=\"14.00\" text-anchor=\"middle\" x=\"231.6382\" y=\"-88.3\">output:</text>\n",
       "<polyline fill=\"none\" points=\"259.4727,-81.5 259.4727,-125.5 \" stroke=\"#000000\"/>\n",
       "<text fill=\"#000000\" font-family=\"Times,serif\" font-size=\"14.00\" text-anchor=\"middle\" x=\"301.2969\" y=\"-110.3\">(None, 6)</text>\n",
       "<polyline fill=\"none\" points=\"259.4727,-103.5 343.1211,-103.5 \" stroke=\"#000000\"/>\n",
       "<text fill=\"#000000\" font-family=\"Times,serif\" font-size=\"14.00\" text-anchor=\"middle\" x=\"301.2969\" y=\"-88.3\">(None, 6, 5)</text>\n",
       "</g>\n",
       "<!-- 112584934456&#45;&gt;112584934512 -->\n",
       "<g class=\"edge\" id=\"edge1\">\n",
       "<title>112584934456-&gt;112584934512</title>\n",
       "<path d=\"M187.8916,-162.3664C187.8916,-154.1516 187.8916,-144.6579 187.8916,-135.7252\" fill=\"none\" stroke=\"#000000\"/>\n",
       "<polygon fill=\"#000000\" points=\"191.3917,-135.6068 187.8916,-125.6068 184.3917,-135.6069 191.3917,-135.6068\" stroke=\"#000000\"/>\n",
       "</g>\n",
       "<!-- 112583740832 -->\n",
       "<g class=\"node\" id=\"node3\">\n",
       "<title>112583740832</title>\n",
       "<polygon fill=\"none\" points=\"0,-.5 0,-44.5 375.7832,-44.5 375.7832,-.5 0,-.5\" stroke=\"#000000\"/>\n",
       "<text fill=\"#000000\" font-family=\"Times,serif\" font-size=\"14.00\" text-anchor=\"middle\" x=\"52.9224\" y=\"-18.3\">lstm_21: LSTM</text>\n",
       "<polyline fill=\"none\" points=\"105.8447,-.5 105.8447,-44.5 \" stroke=\"#000000\"/>\n",
       "<text fill=\"#000000\" font-family=\"Times,serif\" font-size=\"14.00\" text-anchor=\"middle\" x=\"133.6792\" y=\"-29.3\">input:</text>\n",
       "<polyline fill=\"none\" points=\"105.8447,-22.5 161.5137,-22.5 \" stroke=\"#000000\"/>\n",
       "<text fill=\"#000000\" font-family=\"Times,serif\" font-size=\"14.00\" text-anchor=\"middle\" x=\"133.6792\" y=\"-7.3\">output:</text>\n",
       "<polyline fill=\"none\" points=\"161.5137,-.5 161.5137,-44.5 \" stroke=\"#000000\"/>\n",
       "<text fill=\"#000000\" font-family=\"Times,serif\" font-size=\"14.00\" text-anchor=\"middle\" x=\"268.3379\" y=\"-29.3\">(None, 6, 5)</text>\n",
       "<polyline fill=\"none\" points=\"161.5137,-22.5 375.7832,-22.5 \" stroke=\"#000000\"/>\n",
       "<text fill=\"#000000\" font-family=\"Times,serif\" font-size=\"14.00\" text-anchor=\"middle\" x=\"268.6484\" y=\"-7.3\">[(None, 6, 4), (None, 4), (None, 4)]</text>\n",
       "</g>\n",
       "<!-- 112584934512&#45;&gt;112583740832 -->\n",
       "<g class=\"edge\" id=\"edge2\">\n",
       "<title>112584934512-&gt;112583740832</title>\n",
       "<path d=\"M187.8916,-81.3664C187.8916,-73.1516 187.8916,-63.6579 187.8916,-54.7252\" fill=\"none\" stroke=\"#000000\"/>\n",
       "<polygon fill=\"#000000\" points=\"191.3917,-54.6068 187.8916,-44.6068 184.3917,-54.6069 191.3917,-54.6068\" stroke=\"#000000\"/>\n",
       "</g>\n",
       "</g>\n",
       "</svg>"
      ],
      "text/plain": [
       "<IPython.core.display.SVG object>"
      ]
     },
     "execution_count": 122,
     "metadata": {},
     "output_type": "execute_result"
    }
   ],
   "source": [
    "dot = model_to_dot(model, show_shapes=True, )\n",
    "SVG(dot.create(prog='dot', format='svg'))"
   ]
  },
  {
   "cell_type": "code",
   "execution_count": 105,
   "metadata": {
    "scrolled": true
   },
   "outputs": [
    {
     "data": {
      "text/plain": [
       "array([[-0.00417407,  0.00129268,  0.01470994, -0.02471226]],\n",
       "      dtype=float32)"
      ]
     },
     "execution_count": 105,
     "metadata": {},
     "output_type": "execute_result"
    }
   ],
   "source": [
    "model.predict(english_labels[0:1])"
   ]
  },
  {
   "cell_type": "code",
   "execution_count": null,
   "metadata": {},
   "outputs": [],
   "source": []
  },
  {
   "cell_type": "code",
   "execution_count": null,
   "metadata": {},
   "outputs": [],
   "source": []
  },
  {
   "cell_type": "code",
   "execution_count": null,
   "metadata": {},
   "outputs": [],
   "source": []
  },
  {
   "cell_type": "code",
   "execution_count": null,
   "metadata": {},
   "outputs": [],
   "source": [
    "dec_inp = "
   ]
  },
  {
   "cell_type": "code",
   "execution_count": null,
   "metadata": {},
   "outputs": [],
   "source": []
  },
  {
   "cell_type": "code",
   "execution_count": null,
   "metadata": {},
   "outputs": [],
   "source": []
  },
  {
   "cell_type": "code",
   "execution_count": 71,
   "metadata": {},
   "outputs": [],
   "source": []
  },
  {
   "cell_type": "code",
   "execution_count": 126,
   "metadata": {},
   "outputs": [
    {
     "name": "stdout",
     "output_type": "stream",
     "text": [
      "_________________________________________________________________\n",
      "Layer (type)                 Output Shape              Param #   \n",
      "=================================================================\n",
      "input_22 (InputLayer)        (None, 6)                 0         \n",
      "_________________________________________________________________\n",
      "embedding_13 (Embedding)     (None, 6, 5)              135       \n",
      "_________________________________________________________________\n",
      "lstm_21 (LSTM)               [(None, 6, 4), (None, 4), 160       \n",
      "=================================================================\n",
      "Total params: 295\n",
      "Trainable params: 295\n",
      "Non-trainable params: 0\n",
      "_________________________________________________________________\n"
     ]
    }
   ],
   "source": [
    "model.summary()"
   ]
  },
  {
   "cell_type": "code",
   "execution_count": 73,
   "metadata": {},
   "outputs": [
    {
     "data": {
      "text/plain": [
       "[<tf.Tensor 'lstm_14/TensorArrayReadV3:0' shape=(?, 10) dtype=float32>,\n",
       " <tf.Tensor 'lstm_14/while/Exit_3:0' shape=(?, 10) dtype=float32>,\n",
       " <tf.Tensor 'lstm_14/while/Exit_4:0' shape=(?, 10) dtype=float32>]"
      ]
     },
     "execution_count": 73,
     "metadata": {},
     "output_type": "execute_result"
    }
   ],
   "source": [
    "enc_out"
   ]
  },
  {
   "cell_type": "code",
   "execution_count": null,
   "metadata": {},
   "outputs": [],
   "source": []
  },
  {
   "cell_type": "code",
   "execution_count": 125,
   "metadata": {},
   "outputs": [],
   "source": [
    "ee = Embedding(num_encoder_tokens, latent_dim)"
   ]
  },
  {
   "cell_type": "code",
   "execution_count": null,
   "metadata": {},
   "outputs": [],
   "source": [
    "ee()"
   ]
  },
  {
   "cell_type": "code",
   "execution_count": null,
   "metadata": {},
   "outputs": [],
   "source": [
    "ll()"
   ]
  },
  {
   "cell_type": "code",
   "execution_count": 124,
   "metadata": {},
   "outputs": [],
   "source": [
    "ll = LSTM(latent_dim, return_sequences=True)"
   ]
  },
  {
   "cell_type": "code",
   "execution_count": 106,
   "metadata": {},
   "outputs": [],
   "source": [
    "# Define an input sequence and process it.\n",
    "encoder_inputs = Input(shape=(None,))\n",
    "x = Embedding(num_encoder_tokens, latent_dim)(encoder_inputs)\n",
    "x, state_h, state_c = LSTM(latent_dim,\n",
    "                           return_state=True)(x)\n",
    "encoder_states = [state_h, state_c]\n",
    "\n",
    "# Set up the decoder, using `encoder_states` as initial state.\n",
    "decoder_inputs = Input(shape=(None,))\n",
    "x = Embedding(num_decoder_tokens, latent_dim)(decoder_inputs)\n",
    "x = LSTM(latent_dim, return_sequences=True)(x, initial_state=encoder_states)\n",
    "decoder_outputs = Dense(num_decoder_tokens, activation='softmax')(x)\n",
    "\n",
    "# Define the model that will turn\n",
    "# `encoder_input_data` & `decoder_input_data` into `decoder_target_data`\n",
    "model = Model([encoder_inputs, decoder_inputs], decoder_outputs)\n",
    "\n",
    "# Compile & run training\n",
    "model.compile(optimizer='rmsprop', loss='categorical_crossentropy')\n",
    "# Note that `decoder_target_data` needs to be one-hot encoded,\n",
    "# rather than sequences of integers like `decoder_input_data`!"
   ]
  },
  {
   "cell_type": "code",
   "execution_count": 113,
   "metadata": {
    "scrolled": false
   },
   "outputs": [
    {
     "data": {
      "image/svg+xml": [
       "<svg height=\"377pt\" viewBox=\"0.00 0.00 777.53 377.00\" width=\"778pt\" xmlns=\"http://www.w3.org/2000/svg\" xmlns:xlink=\"http://www.w3.org/1999/xlink\">\n",
       "<g class=\"graph\" id=\"graph0\" transform=\"scale(1 1) rotate(0) translate(4 373)\">\n",
       "<title>G</title>\n",
       "<polygon fill=\"#ffffff\" points=\"-4,4 -4,-373 773.5269,-373 773.5269,4 -4,4\" stroke=\"transparent\"/>\n",
       "<!-- 112548609048 -->\n",
       "<g class=\"node\" id=\"node1\">\n",
       "<title>112548609048</title>\n",
       "<polygon fill=\"none\" points=\"59.8896,-324.5 59.8896,-368.5 343.8936,-368.5 343.8936,-324.5 59.8896,-324.5\" stroke=\"#000000\"/>\n",
       "<text fill=\"#000000\" font-family=\"Times,serif\" font-size=\"14.00\" text-anchor=\"middle\" x=\"127.5708\" y=\"-342.3\">input_19: InputLayer</text>\n",
       "<polyline fill=\"none\" points=\"195.252,-324.5 195.252,-368.5 \" stroke=\"#000000\"/>\n",
       "<text fill=\"#000000\" font-family=\"Times,serif\" font-size=\"14.00\" text-anchor=\"middle\" x=\"223.0864\" y=\"-353.3\">input:</text>\n",
       "<polyline fill=\"none\" points=\"195.252,-346.5 250.9209,-346.5 \" stroke=\"#000000\"/>\n",
       "<text fill=\"#000000\" font-family=\"Times,serif\" font-size=\"14.00\" text-anchor=\"middle\" x=\"223.0864\" y=\"-331.3\">output:</text>\n",
       "<polyline fill=\"none\" points=\"250.9209,-324.5 250.9209,-368.5 \" stroke=\"#000000\"/>\n",
       "<text fill=\"#000000\" font-family=\"Times,serif\" font-size=\"14.00\" text-anchor=\"middle\" x=\"297.4072\" y=\"-353.3\">(None, None)</text>\n",
       "<polyline fill=\"none\" points=\"250.9209,-346.5 343.8936,-346.5 \" stroke=\"#000000\"/>\n",
       "<text fill=\"#000000\" font-family=\"Times,serif\" font-size=\"14.00\" text-anchor=\"middle\" x=\"297.4072\" y=\"-331.3\">(None, None)</text>\n",
       "</g>\n",
       "<!-- 112548608992 -->\n",
       "<g class=\"node\" id=\"node3\">\n",
       "<title>112548608992</title>\n",
       "<polygon fill=\"none\" points=\"28,-243.5 28,-287.5 375.7832,-287.5 375.7832,-243.5 28,-243.5\" stroke=\"#000000\"/>\n",
       "<text fill=\"#000000\" font-family=\"Times,serif\" font-size=\"14.00\" text-anchor=\"middle\" x=\"113.5708\" y=\"-261.3\">embedding_10: Embedding</text>\n",
       "<polyline fill=\"none\" points=\"199.1416,-243.5 199.1416,-287.5 \" stroke=\"#000000\"/>\n",
       "<text fill=\"#000000\" font-family=\"Times,serif\" font-size=\"14.00\" text-anchor=\"middle\" x=\"226.9761\" y=\"-272.3\">input:</text>\n",
       "<polyline fill=\"none\" points=\"199.1416,-265.5 254.8105,-265.5 \" stroke=\"#000000\"/>\n",
       "<text fill=\"#000000\" font-family=\"Times,serif\" font-size=\"14.00\" text-anchor=\"middle\" x=\"226.9761\" y=\"-250.3\">output:</text>\n",
       "<polyline fill=\"none\" points=\"254.8105,-243.5 254.8105,-287.5 \" stroke=\"#000000\"/>\n",
       "<text fill=\"#000000\" font-family=\"Times,serif\" font-size=\"14.00\" text-anchor=\"middle\" x=\"315.2969\" y=\"-272.3\">(None, None)</text>\n",
       "<polyline fill=\"none\" points=\"254.8105,-265.5 375.7832,-265.5 \" stroke=\"#000000\"/>\n",
       "<text fill=\"#000000\" font-family=\"Times,serif\" font-size=\"14.00\" text-anchor=\"middle\" x=\"315.2969\" y=\"-250.3\">(None, None, 256)</text>\n",
       "</g>\n",
       "<!-- 112548609048&#45;&gt;112548608992 -->\n",
       "<g class=\"edge\" id=\"edge1\">\n",
       "<title>112548609048-&gt;112548608992</title>\n",
       "<path d=\"M201.8916,-324.3664C201.8916,-316.1516 201.8916,-306.6579 201.8916,-297.7252\" fill=\"none\" stroke=\"#000000\"/>\n",
       "<polygon fill=\"#000000\" points=\"205.3917,-297.6068 201.8916,-287.6068 198.3917,-297.6069 205.3917,-297.6068\" stroke=\"#000000\"/>\n",
       "</g>\n",
       "<!-- 112548679752 -->\n",
       "<g class=\"node\" id=\"node2\">\n",
       "<title>112548679752</title>\n",
       "<polygon fill=\"none\" points=\"453.8896,-243.5 453.8896,-287.5 737.8936,-287.5 737.8936,-243.5 453.8896,-243.5\" stroke=\"#000000\"/>\n",
       "<text fill=\"#000000\" font-family=\"Times,serif\" font-size=\"14.00\" text-anchor=\"middle\" x=\"521.5708\" y=\"-261.3\">input_20: InputLayer</text>\n",
       "<polyline fill=\"none\" points=\"589.252,-243.5 589.252,-287.5 \" stroke=\"#000000\"/>\n",
       "<text fill=\"#000000\" font-family=\"Times,serif\" font-size=\"14.00\" text-anchor=\"middle\" x=\"617.0864\" y=\"-272.3\">input:</text>\n",
       "<polyline fill=\"none\" points=\"589.252,-265.5 644.9209,-265.5 \" stroke=\"#000000\"/>\n",
       "<text fill=\"#000000\" font-family=\"Times,serif\" font-size=\"14.00\" text-anchor=\"middle\" x=\"617.0864\" y=\"-250.3\">output:</text>\n",
       "<polyline fill=\"none\" points=\"644.9209,-243.5 644.9209,-287.5 \" stroke=\"#000000\"/>\n",
       "<text fill=\"#000000\" font-family=\"Times,serif\" font-size=\"14.00\" text-anchor=\"middle\" x=\"691.4072\" y=\"-272.3\">(None, None)</text>\n",
       "<polyline fill=\"none\" points=\"644.9209,-265.5 737.8936,-265.5 \" stroke=\"#000000\"/>\n",
       "<text fill=\"#000000\" font-family=\"Times,serif\" font-size=\"14.00\" text-anchor=\"middle\" x=\"691.4072\" y=\"-250.3\">(None, None)</text>\n",
       "</g>\n",
       "<!-- 112548609552 -->\n",
       "<g class=\"node\" id=\"node4\">\n",
       "<title>112548609552</title>\n",
       "<polygon fill=\"none\" points=\"422.2563,-162.5 422.2563,-206.5 769.5269,-206.5 769.5269,-162.5 422.2563,-162.5\" stroke=\"#000000\"/>\n",
       "<text fill=\"#000000\" font-family=\"Times,serif\" font-size=\"14.00\" text-anchor=\"middle\" x=\"507.5708\" y=\"-180.3\">embedding_11: Embedding</text>\n",
       "<polyline fill=\"none\" points=\"592.8853,-162.5 592.8853,-206.5 \" stroke=\"#000000\"/>\n",
       "<text fill=\"#000000\" font-family=\"Times,serif\" font-size=\"14.00\" text-anchor=\"middle\" x=\"620.7197\" y=\"-191.3\">input:</text>\n",
       "<polyline fill=\"none\" points=\"592.8853,-184.5 648.5542,-184.5 \" stroke=\"#000000\"/>\n",
       "<text fill=\"#000000\" font-family=\"Times,serif\" font-size=\"14.00\" text-anchor=\"middle\" x=\"620.7197\" y=\"-169.3\">output:</text>\n",
       "<polyline fill=\"none\" points=\"648.5542,-162.5 648.5542,-206.5 \" stroke=\"#000000\"/>\n",
       "<text fill=\"#000000\" font-family=\"Times,serif\" font-size=\"14.00\" text-anchor=\"middle\" x=\"709.0405\" y=\"-191.3\">(None, None)</text>\n",
       "<polyline fill=\"none\" points=\"648.5542,-184.5 769.5269,-184.5 \" stroke=\"#000000\"/>\n",
       "<text fill=\"#000000\" font-family=\"Times,serif\" font-size=\"14.00\" text-anchor=\"middle\" x=\"709.0405\" y=\"-169.3\">(None, None, 256)</text>\n",
       "</g>\n",
       "<!-- 112548679752&#45;&gt;112548609552 -->\n",
       "<g class=\"edge\" id=\"edge2\">\n",
       "<title>112548679752-&gt;112548609552</title>\n",
       "<path d=\"M595.8916,-243.3664C595.8916,-235.1516 595.8916,-225.6579 595.8916,-216.7252\" fill=\"none\" stroke=\"#000000\"/>\n",
       "<polygon fill=\"#000000\" points=\"599.3917,-216.6068 595.8916,-206.6068 592.3917,-216.6069 599.3917,-216.6068\" stroke=\"#000000\"/>\n",
       "</g>\n",
       "<!-- 112548609272 -->\n",
       "<g class=\"node\" id=\"node5\">\n",
       "<title>112548609272</title>\n",
       "<polygon fill=\"none\" points=\"0,-162.5 0,-206.5 403.7832,-206.5 403.7832,-162.5 0,-162.5\" stroke=\"#000000\"/>\n",
       "<text fill=\"#000000\" font-family=\"Times,serif\" font-size=\"14.00\" text-anchor=\"middle\" x=\"52.9224\" y=\"-180.3\">lstm_18: LSTM</text>\n",
       "<polyline fill=\"none\" points=\"105.8447,-162.5 105.8447,-206.5 \" stroke=\"#000000\"/>\n",
       "<text fill=\"#000000\" font-family=\"Times,serif\" font-size=\"14.00\" text-anchor=\"middle\" x=\"133.6792\" y=\"-191.3\">input:</text>\n",
       "<polyline fill=\"none\" points=\"105.8447,-184.5 161.5137,-184.5 \" stroke=\"#000000\"/>\n",
       "<text fill=\"#000000\" font-family=\"Times,serif\" font-size=\"14.00\" text-anchor=\"middle\" x=\"133.6792\" y=\"-169.3\">output:</text>\n",
       "<polyline fill=\"none\" points=\"161.5137,-162.5 161.5137,-206.5 \" stroke=\"#000000\"/>\n",
       "<text fill=\"#000000\" font-family=\"Times,serif\" font-size=\"14.00\" text-anchor=\"middle\" x=\"282.5\" y=\"-191.3\">(None, None, 256)</text>\n",
       "<polyline fill=\"none\" points=\"161.5137,-184.5 403.7832,-184.5 \" stroke=\"#000000\"/>\n",
       "<text fill=\"#000000\" font-family=\"Times,serif\" font-size=\"14.00\" text-anchor=\"middle\" x=\"282.6484\" y=\"-169.3\">[(None, 256), (None, 256), (None, 256)]</text>\n",
       "</g>\n",
       "<!-- 112548608992&#45;&gt;112548609272 -->\n",
       "<g class=\"edge\" id=\"edge3\">\n",
       "<title>112548608992-&gt;112548609272</title>\n",
       "<path d=\"M201.8916,-243.3664C201.8916,-235.1516 201.8916,-225.6579 201.8916,-216.7252\" fill=\"none\" stroke=\"#000000\"/>\n",
       "<polygon fill=\"#000000\" points=\"205.3917,-216.6068 201.8916,-206.6068 198.3917,-216.6069 205.3917,-216.6068\" stroke=\"#000000\"/>\n",
       "</g>\n",
       "<!-- 112548680872 -->\n",
       "<g class=\"node\" id=\"node6\">\n",
       "<title>112548680872</title>\n",
       "<polygon fill=\"none\" points=\"178.3379,-81.5 178.3379,-125.5 619.4453,-125.5 619.4453,-81.5 178.3379,-81.5\" stroke=\"#000000\"/>\n",
       "<text fill=\"#000000\" font-family=\"Times,serif\" font-size=\"14.00\" text-anchor=\"middle\" x=\"231.2603\" y=\"-99.3\">lstm_19: LSTM</text>\n",
       "<polyline fill=\"none\" points=\"284.1826,-81.5 284.1826,-125.5 \" stroke=\"#000000\"/>\n",
       "<text fill=\"#000000\" font-family=\"Times,serif\" font-size=\"14.00\" text-anchor=\"middle\" x=\"312.0171\" y=\"-110.3\">input:</text>\n",
       "<polyline fill=\"none\" points=\"284.1826,-103.5 339.8516,-103.5 \" stroke=\"#000000\"/>\n",
       "<text fill=\"#000000\" font-family=\"Times,serif\" font-size=\"14.00\" text-anchor=\"middle\" x=\"312.0171\" y=\"-88.3\">output:</text>\n",
       "<polyline fill=\"none\" points=\"339.8516,-81.5 339.8516,-125.5 \" stroke=\"#000000\"/>\n",
       "<text fill=\"#000000\" font-family=\"Times,serif\" font-size=\"14.00\" text-anchor=\"middle\" x=\"479.6484\" y=\"-110.3\">[(None, None, 256), (None, 256), (None, 256)]</text>\n",
       "<polyline fill=\"none\" points=\"339.8516,-103.5 619.4453,-103.5 \" stroke=\"#000000\"/>\n",
       "<text fill=\"#000000\" font-family=\"Times,serif\" font-size=\"14.00\" text-anchor=\"middle\" x=\"479.3379\" y=\"-88.3\">(None, None, 256)</text>\n",
       "</g>\n",
       "<!-- 112548609552&#45;&gt;112548680872 -->\n",
       "<g class=\"edge\" id=\"edge4\">\n",
       "<title>112548609552-&gt;112548680872</title>\n",
       "<path d=\"M542.3207,-162.4734C517.4594,-152.2512 487.738,-140.0308 461.8147,-129.3719\" fill=\"none\" stroke=\"#000000\"/>\n",
       "<polygon fill=\"#000000\" points=\"463.0316,-126.088 452.4518,-125.5222 460.3696,-132.5621 463.0316,-126.088\" stroke=\"#000000\"/>\n",
       "</g>\n",
       "<!-- 112548609272&#45;&gt;112548680872 -->\n",
       "<g class=\"edge\" id=\"edge5\">\n",
       "<title>112548609272-&gt;112548680872</title>\n",
       "<path d=\"M255.4625,-162.4734C280.3238,-152.2512 310.0452,-140.0308 335.9685,-129.3719\" fill=\"none\" stroke=\"#000000\"/>\n",
       "<polygon fill=\"#000000\" points=\"337.4136,-132.5621 345.3314,-125.5222 334.7516,-126.088 337.4136,-132.5621\" stroke=\"#000000\"/>\n",
       "</g>\n",
       "<!-- 112548681096 -->\n",
       "<g class=\"node\" id=\"node7\">\n",
       "<title>112548681096</title>\n",
       "<polygon fill=\"none\" points=\"258.4448,-.5 258.4448,-44.5 539.3384,-44.5 539.3384,-.5 258.4448,-.5\" stroke=\"#000000\"/>\n",
       "<text fill=\"#000000\" font-family=\"Times,serif\" font-size=\"14.00\" text-anchor=\"middle\" x=\"310.5708\" y=\"-18.3\">dense_5: Dense</text>\n",
       "<polyline fill=\"none\" points=\"362.6968,-.5 362.6968,-44.5 \" stroke=\"#000000\"/>\n",
       "<text fill=\"#000000\" font-family=\"Times,serif\" font-size=\"14.00\" text-anchor=\"middle\" x=\"390.5313\" y=\"-29.3\">input:</text>\n",
       "<polyline fill=\"none\" points=\"362.6968,-22.5 418.3657,-22.5 \" stroke=\"#000000\"/>\n",
       "<text fill=\"#000000\" font-family=\"Times,serif\" font-size=\"14.00\" text-anchor=\"middle\" x=\"390.5313\" y=\"-7.3\">output:</text>\n",
       "<polyline fill=\"none\" points=\"418.3657,-.5 418.3657,-44.5 \" stroke=\"#000000\"/>\n",
       "<text fill=\"#000000\" font-family=\"Times,serif\" font-size=\"14.00\" text-anchor=\"middle\" x=\"478.8521\" y=\"-29.3\">(None, None, 256)</text>\n",
       "<polyline fill=\"none\" points=\"418.3657,-22.5 539.3384,-22.5 \" stroke=\"#000000\"/>\n",
       "<text fill=\"#000000\" font-family=\"Times,serif\" font-size=\"14.00\" text-anchor=\"middle\" x=\"478.8521\" y=\"-7.3\">(None, None, 93)</text>\n",
       "</g>\n",
       "<!-- 112548680872&#45;&gt;112548681096 -->\n",
       "<g class=\"edge\" id=\"edge7\">\n",
       "<title>112548680872-&gt;112548681096</title>\n",
       "<path d=\"M398.8916,-81.3664C398.8916,-73.1516 398.8916,-63.6579 398.8916,-54.7252\" fill=\"none\" stroke=\"#000000\"/>\n",
       "<polygon fill=\"#000000\" points=\"402.3917,-54.6068 398.8916,-44.6068 395.3917,-54.6069 402.3917,-54.6068\" stroke=\"#000000\"/>\n",
       "</g>\n",
       "</g>\n",
       "</svg>"
      ],
      "text/plain": [
       "<IPython.core.display.SVG object>"
      ]
     },
     "execution_count": 113,
     "metadata": {},
     "output_type": "execute_result"
    }
   ],
   "source": [
    "dot = model_to_dot(model, show_shapes=True, )\n",
    "SVG(dot.create(prog='dot', format='svg'))"
   ]
  },
  {
   "cell_type": "code",
   "execution_count": null,
   "metadata": {},
   "outputs": [],
   "source": []
  }
 ],
 "metadata": {
  "kernelspec": {
   "display_name": "Python 3",
   "language": "python",
   "name": "python3"
  },
  "language_info": {
   "codemirror_mode": {
    "name": "ipython",
    "version": 3
   },
   "file_extension": ".py",
   "mimetype": "text/x-python",
   "name": "python",
   "nbconvert_exporter": "python",
   "pygments_lexer": "ipython3",
   "version": "3.7.3"
  }
 },
 "nbformat": 4,
 "nbformat_minor": 2
}
