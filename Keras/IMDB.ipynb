{
 "cells": [
  {
   "cell_type": "code",
   "execution_count": 1,
   "metadata": {},
   "outputs": [],
   "source": [
    "from keras.datasets import imdb"
   ]
  },
  {
   "cell_type": "code",
   "execution_count": 4,
   "metadata": {},
   "outputs": [],
   "source": [
    "(X_train, y_train), (X_test, y_test) = imdb.load_data()"
   ]
  },
  {
   "cell_type": "code",
   "execution_count": 5,
   "metadata": {},
   "outputs": [
    {
     "data": {
      "text/plain": [
       "[(25000,), (25000,), (25000,), (25000,)]"
      ]
     },
     "execution_count": 5,
     "metadata": {},
     "output_type": "execute_result"
    }
   ],
   "source": [
    "[i.shape for i in [X_train, y_train, X_test, y_test]]"
   ]
  },
  {
   "cell_type": "code",
   "execution_count": 17,
   "metadata": {},
   "outputs": [],
   "source": [
    "def get_text(vec):\n",
    "    INDEX_FROM=3\n",
    "    word_to_id = imdb.get_word_index()\n",
    "    word_to_id = {k:(v+INDEX_FROM) for k,v in word_to_id.items()}\n",
    "    word_to_id[\"<PAD>\"] = 0\n",
    "    word_to_id[\"<START>\"] = 1\n",
    "    word_to_id[\"<UNK>\"] = 2\n",
    "\n",
    "    id_to_word = {value:key for key,value in word_to_id.items()}\n",
    "    return ' '.join(id_to_word[id] for id in vec )"
   ]
  },
  {
   "cell_type": "code",
   "execution_count": 31,
   "metadata": {},
   "outputs": [
    {
     "data": {
      "text/plain": [
       "\"<START> begins better than it ends funny that the russian submarine crew outperforms all other actors it's like those scenes where documentary shots br br spoiler part the message dechifered was contrary to the whole story it just does not mesh br br\""
      ]
     },
     "execution_count": 31,
     "metadata": {},
     "output_type": "execute_result"
    }
   ],
   "source": [
    "get_text(X_train[5])"
   ]
  },
  {
   "cell_type": "code",
   "execution_count": 25,
   "metadata": {},
   "outputs": [
    {
     "data": {
      "text/plain": [
       "array([0, 1, 1, ..., 0, 0, 0])"
      ]
     },
     "execution_count": 25,
     "metadata": {},
     "output_type": "execute_result"
    }
   ],
   "source": [
    "y_test"
   ]
  },
  {
   "cell_type": "code",
   "execution_count": null,
   "metadata": {},
   "outputs": [],
   "source": []
  },
  {
   "cell_type": "code",
   "execution_count": null,
   "metadata": {},
   "outputs": [],
   "source": []
  },
  {
   "cell_type": "code",
   "execution_count": 36,
   "metadata": {},
   "outputs": [],
   "source": [
    "import pandas as pd"
   ]
  },
  {
   "cell_type": "code",
   "execution_count": 37,
   "metadata": {},
   "outputs": [],
   "source": [
    "dat = {'Block': ['blk_-105450231192318816', 'blk_-1076549517733373559', 'blk_-1187723472581877455', 'blk_-1385756122847916710',  'blk_-1470784088028862059'], 'Seq': ['13 13 13 15',' 15 13 13', '13 13 15', '13 13 15 13', '13'], 'Time' : ['1257712532.0 1257712532.0 1257712532.0 1257712532.0','1257712533.0 1257712534.0 1257712534.0','1257712533.0 1257712533.0 1257712533.0','1257712532.0 1257712532.0 1257712532.0 1257712534.0','1257712535.0']}"
   ]
  },
  {
   "cell_type": "code",
   "execution_count": 38,
   "metadata": {},
   "outputs": [
    {
     "data": {
      "text/plain": [
       "{'Block': ['blk_-105450231192318816',\n",
       "  'blk_-1076549517733373559',\n",
       "  'blk_-1187723472581877455',\n",
       "  'blk_-1385756122847916710',\n",
       "  'blk_-1470784088028862059'],\n",
       " 'Seq': ['13 13 13 15', ' 15 13 13', '13 13 15', '13 13 15 13', '13'],\n",
       " 'Time': ['1257712532.0 1257712532.0 1257712532.0 1257712532.0',\n",
       "  '1257712533.0 1257712534.0 1257712534.0',\n",
       "  '1257712533.0 1257712533.0 1257712533.0',\n",
       "  '1257712532.0 1257712532.0 1257712532.0 1257712534.0',\n",
       "  '1257712535.0']}"
      ]
     },
     "execution_count": 38,
     "metadata": {},
     "output_type": "execute_result"
    }
   ],
   "source": [
    "dat"
   ]
  },
  {
   "cell_type": "code",
   "execution_count": 76,
   "metadata": {},
   "outputs": [],
   "source": [
    "df = pd.DataFrame(dat)"
   ]
  },
  {
   "cell_type": "code",
   "execution_count": 77,
   "metadata": {},
   "outputs": [
    {
     "data": {
      "text/html": [
       "<div>\n",
       "<style scoped>\n",
       "    .dataframe tbody tr th:only-of-type {\n",
       "        vertical-align: middle;\n",
       "    }\n",
       "\n",
       "    .dataframe tbody tr th {\n",
       "        vertical-align: top;\n",
       "    }\n",
       "\n",
       "    .dataframe thead th {\n",
       "        text-align: right;\n",
       "    }\n",
       "</style>\n",
       "<table border=\"1\" class=\"dataframe\">\n",
       "  <thead>\n",
       "    <tr style=\"text-align: right;\">\n",
       "      <th></th>\n",
       "      <th>Block</th>\n",
       "      <th>Seq</th>\n",
       "      <th>Time</th>\n",
       "    </tr>\n",
       "  </thead>\n",
       "  <tbody>\n",
       "    <tr>\n",
       "      <th>0</th>\n",
       "      <td>blk_-105450231192318816</td>\n",
       "      <td>13 13 13 15</td>\n",
       "      <td>1257712532.0 1257712532.0 1257712532.0 1257712...</td>\n",
       "    </tr>\n",
       "    <tr>\n",
       "      <th>1</th>\n",
       "      <td>blk_-1076549517733373559</td>\n",
       "      <td>15 13 13</td>\n",
       "      <td>1257712533.0 1257712534.0 1257712534.0</td>\n",
       "    </tr>\n",
       "    <tr>\n",
       "      <th>2</th>\n",
       "      <td>blk_-1187723472581877455</td>\n",
       "      <td>13 13 15</td>\n",
       "      <td>1257712533.0 1257712533.0 1257712533.0</td>\n",
       "    </tr>\n",
       "    <tr>\n",
       "      <th>3</th>\n",
       "      <td>blk_-1385756122847916710</td>\n",
       "      <td>13 13 15 13</td>\n",
       "      <td>1257712532.0 1257712532.0 1257712532.0 1257712...</td>\n",
       "    </tr>\n",
       "    <tr>\n",
       "      <th>4</th>\n",
       "      <td>blk_-1470784088028862059</td>\n",
       "      <td>13</td>\n",
       "      <td>1257712535.0</td>\n",
       "    </tr>\n",
       "  </tbody>\n",
       "</table>\n",
       "</div>"
      ],
      "text/plain": [
       "                      Block  ...                                               Time\n",
       "0   blk_-105450231192318816  ...  1257712532.0 1257712532.0 1257712532.0 1257712...\n",
       "1  blk_-1076549517733373559  ...             1257712533.0 1257712534.0 1257712534.0\n",
       "2  blk_-1187723472581877455  ...             1257712533.0 1257712533.0 1257712533.0\n",
       "3  blk_-1385756122847916710  ...  1257712532.0 1257712532.0 1257712532.0 1257712...\n",
       "4  blk_-1470784088028862059  ...                                       1257712535.0\n",
       "\n",
       "[5 rows x 3 columns]"
      ]
     },
     "execution_count": 77,
     "metadata": {},
     "output_type": "execute_result"
    }
   ],
   "source": [
    "df"
   ]
  },
  {
   "cell_type": "code",
   "execution_count": null,
   "metadata": {},
   "outputs": [],
   "source": []
  },
  {
   "cell_type": "code",
   "execution_count": 108,
   "metadata": {},
   "outputs": [],
   "source": [
    "def zipper(row):\n",
    "    return {row['Block']:dict(pd.DataFrame(zip(fixit(row['Seq']), fixit(row['Time']))))}"
   ]
  },
  {
   "cell_type": "code",
   "execution_count": 109,
   "metadata": {},
   "outputs": [],
   "source": [
    "def fixit(string):\n",
    "    return list(map(eval, string.split()))"
   ]
  },
  {
   "cell_type": "code",
   "execution_count": 110,
   "metadata": {},
   "outputs": [],
   "source": [
    "df['zips'] = df.apply(zipper, axis=1)"
   ]
  },
  {
   "cell_type": "code",
   "execution_count": 111,
   "metadata": {},
   "outputs": [
    {
     "data": {
      "text/html": [
       "<div>\n",
       "<style scoped>\n",
       "    .dataframe tbody tr th:only-of-type {\n",
       "        vertical-align: middle;\n",
       "    }\n",
       "\n",
       "    .dataframe tbody tr th {\n",
       "        vertical-align: top;\n",
       "    }\n",
       "\n",
       "    .dataframe thead th {\n",
       "        text-align: right;\n",
       "    }\n",
       "</style>\n",
       "<table border=\"1\" class=\"dataframe\">\n",
       "  <thead>\n",
       "    <tr style=\"text-align: right;\">\n",
       "      <th></th>\n",
       "      <th>Block</th>\n",
       "      <th>Seq</th>\n",
       "      <th>Time</th>\n",
       "      <th>zips</th>\n",
       "    </tr>\n",
       "  </thead>\n",
       "  <tbody>\n",
       "    <tr>\n",
       "      <th>0</th>\n",
       "      <td>blk_-105450231192318816</td>\n",
       "      <td>13 13 13 15</td>\n",
       "      <td>1257712532.0 1257712532.0 1257712532.0 1257712...</td>\n",
       "      <td>{'blk_-105450231192318816': {0: [13, 13, 13, 1...</td>\n",
       "    </tr>\n",
       "    <tr>\n",
       "      <th>1</th>\n",
       "      <td>blk_-1076549517733373559</td>\n",
       "      <td>15 13 13</td>\n",
       "      <td>1257712533.0 1257712534.0 1257712534.0</td>\n",
       "      <td>{'blk_-1076549517733373559': {0: [15, 13, 13],...</td>\n",
       "    </tr>\n",
       "    <tr>\n",
       "      <th>2</th>\n",
       "      <td>blk_-1187723472581877455</td>\n",
       "      <td>13 13 15</td>\n",
       "      <td>1257712533.0 1257712533.0 1257712533.0</td>\n",
       "      <td>{'blk_-1187723472581877455': {0: [13, 13, 15],...</td>\n",
       "    </tr>\n",
       "    <tr>\n",
       "      <th>3</th>\n",
       "      <td>blk_-1385756122847916710</td>\n",
       "      <td>13 13 15 13</td>\n",
       "      <td>1257712532.0 1257712532.0 1257712532.0 1257712...</td>\n",
       "      <td>{'blk_-1385756122847916710': {0: [13, 13, 15, ...</td>\n",
       "    </tr>\n",
       "    <tr>\n",
       "      <th>4</th>\n",
       "      <td>blk_-1470784088028862059</td>\n",
       "      <td>13</td>\n",
       "      <td>1257712535.0</td>\n",
       "      <td>{'blk_-1470784088028862059': {0: [13], 1: [125...</td>\n",
       "    </tr>\n",
       "  </tbody>\n",
       "</table>\n",
       "</div>"
      ],
      "text/plain": [
       "                      Block  ...                                               zips\n",
       "0   blk_-105450231192318816  ...  {'blk_-105450231192318816': {0: [13, 13, 13, 1...\n",
       "1  blk_-1076549517733373559  ...  {'blk_-1076549517733373559': {0: [15, 13, 13],...\n",
       "2  blk_-1187723472581877455  ...  {'blk_-1187723472581877455': {0: [13, 13, 15],...\n",
       "3  blk_-1385756122847916710  ...  {'blk_-1385756122847916710': {0: [13, 13, 15, ...\n",
       "4  blk_-1470784088028862059  ...  {'blk_-1470784088028862059': {0: [13], 1: [125...\n",
       "\n",
       "[5 rows x 4 columns]"
      ]
     },
     "execution_count": 111,
     "metadata": {},
     "output_type": "execute_result"
    }
   ],
   "source": [
    "df"
   ]
  },
  {
   "cell_type": "code",
   "execution_count": null,
   "metadata": {},
   "outputs": [],
   "source": []
  },
  {
   "cell_type": "code",
   "execution_count": null,
   "metadata": {},
   "outputs": [],
   "source": []
  }
 ],
 "metadata": {
  "kernelspec": {
   "display_name": "Python 3",
   "language": "python",
   "name": "python3"
  },
  "language_info": {
   "codemirror_mode": {
    "name": "ipython",
    "version": 3
   },
   "file_extension": ".py",
   "mimetype": "text/x-python",
   "name": "python",
   "nbconvert_exporter": "python",
   "pygments_lexer": "ipython3",
   "version": "3.7.3"
  }
 },
 "nbformat": 4,
 "nbformat_minor": 2
}
