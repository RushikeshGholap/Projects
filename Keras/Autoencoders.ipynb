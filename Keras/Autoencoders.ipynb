{
 "cells": [
  {
   "cell_type": "markdown",
   "metadata": {},
   "source": [
    "# Auto Encoders"
   ]
  },
  {
   "cell_type": "code",
   "execution_count": 34,
   "metadata": {},
   "outputs": [],
   "source": [
    "from keras.layers import Input, Dense\n",
    "from keras.models import Model\n",
    "\n",
    "from keras.utils.vis_utils import model_to_dot\n",
    "from IPython.display import SVG\n",
    "import matplotlib.pyplot as plt\n",
    "%matplotlib inline"
   ]
  },
  {
   "cell_type": "code",
   "execution_count": 35,
   "metadata": {},
   "outputs": [],
   "source": [
    "encoding_dim = 32"
   ]
  },
  {
   "cell_type": "code",
   "execution_count": 36,
   "metadata": {},
   "outputs": [],
   "source": [
    "input_img = Input(shape=(784,))\n",
    "encoded = Dense(encoding_dim, activation='relu')(input_img)\n",
    "decoded = Dense(784, activation='sigmoid')(encoded)\n",
    "\n",
    "# this model maps an input to its reconstruction\n",
    "autoencoder = Model(input_img, decoded)"
   ]
  },
  {
   "cell_type": "code",
   "execution_count": 37,
   "metadata": {},
   "outputs": [],
   "source": [
    "# this model maps an input to its encoded representation\n",
    "encoder = Model(input_img, encoded)"
   ]
  },
  {
   "cell_type": "code",
   "execution_count": 40,
   "metadata": {},
   "outputs": [],
   "source": [
    "# create a placeholder for an encoded (32-dimensional) input\n",
    "encoded_input = Input(shape=(encoding_dim,))\n",
    "# retrieve the last layer of the autoencoder model\n",
    "decoder_layer = autoencoder.layers[-1]\n",
    "# create the decoder model\n",
    "decoder = Model(encoded_input, decoder_layer(encoded_input))"
   ]
  },
  {
   "cell_type": "code",
   "execution_count": 41,
   "metadata": {},
   "outputs": [
    {
     "data": {
      "image/svg+xml": [
       "<svg height=\"215pt\" viewBox=\"0.00 0.00 275.68 215.00\" width=\"276pt\" xmlns=\"http://www.w3.org/2000/svg\" xmlns:xlink=\"http://www.w3.org/1999/xlink\">\n",
       "<g class=\"graph\" id=\"graph0\" transform=\"scale(1 1) rotate(0) translate(4 211)\">\n",
       "<title>G</title>\n",
       "<polygon fill=\"#ffffff\" points=\"-4,4 -4,-211 271.6797,-211 271.6797,4 -4,4\" stroke=\"transparent\"/>\n",
       "<!-- 47845743808 -->\n",
       "<g class=\"node\" id=\"node1\">\n",
       "<title>47845743808</title>\n",
       "<polygon fill=\"none\" points=\"0,-162.5 0,-206.5 267.6797,-206.5 267.6797,-162.5 0,-162.5\" stroke=\"#000000\"/>\n",
       "<text fill=\"#000000\" font-family=\"Times,serif\" font-size=\"14.00\" text-anchor=\"middle\" x=\"64.1812\" y=\"-180.3\">input_4: InputLayer</text>\n",
       "<polyline fill=\"none\" points=\"128.3623,-162.5 128.3623,-206.5 \" stroke=\"#000000\"/>\n",
       "<text fill=\"#000000\" font-family=\"Times,serif\" font-size=\"14.00\" text-anchor=\"middle\" x=\"156.1968\" y=\"-191.3\">input:</text>\n",
       "<polyline fill=\"none\" points=\"128.3623,-184.5 184.0313,-184.5 \" stroke=\"#000000\"/>\n",
       "<text fill=\"#000000\" font-family=\"Times,serif\" font-size=\"14.00\" text-anchor=\"middle\" x=\"156.1968\" y=\"-169.3\">output:</text>\n",
       "<polyline fill=\"none\" points=\"184.0313,-162.5 184.0313,-206.5 \" stroke=\"#000000\"/>\n",
       "<text fill=\"#000000\" font-family=\"Times,serif\" font-size=\"14.00\" text-anchor=\"middle\" x=\"225.8555\" y=\"-191.3\">(None, 784)</text>\n",
       "<polyline fill=\"none\" points=\"184.0313,-184.5 267.6797,-184.5 \" stroke=\"#000000\"/>\n",
       "<text fill=\"#000000\" font-family=\"Times,serif\" font-size=\"14.00\" text-anchor=\"middle\" x=\"225.8555\" y=\"-169.3\">(None, 784)</text>\n",
       "</g>\n",
       "<!-- 47845743864 -->\n",
       "<g class=\"node\" id=\"node2\">\n",
       "<title>47845743864</title>\n",
       "<polygon fill=\"none\" points=\"12.0552,-81.5 12.0552,-125.5 255.6245,-125.5 255.6245,-81.5 12.0552,-81.5\" stroke=\"#000000\"/>\n",
       "<text fill=\"#000000\" font-family=\"Times,serif\" font-size=\"14.00\" text-anchor=\"middle\" x=\"64.1812\" y=\"-99.3\">dense_5: Dense</text>\n",
       "<polyline fill=\"none\" points=\"116.3071,-81.5 116.3071,-125.5 \" stroke=\"#000000\"/>\n",
       "<text fill=\"#000000\" font-family=\"Times,serif\" font-size=\"14.00\" text-anchor=\"middle\" x=\"144.1416\" y=\"-110.3\">input:</text>\n",
       "<polyline fill=\"none\" points=\"116.3071,-103.5 171.9761,-103.5 \" stroke=\"#000000\"/>\n",
       "<text fill=\"#000000\" font-family=\"Times,serif\" font-size=\"14.00\" text-anchor=\"middle\" x=\"144.1416\" y=\"-88.3\">output:</text>\n",
       "<polyline fill=\"none\" points=\"171.9761,-81.5 171.9761,-125.5 \" stroke=\"#000000\"/>\n",
       "<text fill=\"#000000\" font-family=\"Times,serif\" font-size=\"14.00\" text-anchor=\"middle\" x=\"213.8003\" y=\"-110.3\">(None, 784)</text>\n",
       "<polyline fill=\"none\" points=\"171.9761,-103.5 255.6245,-103.5 \" stroke=\"#000000\"/>\n",
       "<text fill=\"#000000\" font-family=\"Times,serif\" font-size=\"14.00\" text-anchor=\"middle\" x=\"213.8003\" y=\"-88.3\">(None, 32)</text>\n",
       "</g>\n",
       "<!-- 47845743808&#45;&gt;47845743864 -->\n",
       "<g class=\"edge\" id=\"edge1\">\n",
       "<title>47845743808-&gt;47845743864</title>\n",
       "<path d=\"M133.8398,-162.3664C133.8398,-154.1516 133.8398,-144.6579 133.8398,-135.7252\" fill=\"none\" stroke=\"#000000\"/>\n",
       "<polygon fill=\"#000000\" points=\"137.3399,-135.6068 133.8398,-125.6068 130.3399,-135.6069 137.3399,-135.6068\" stroke=\"#000000\"/>\n",
       "</g>\n",
       "<!-- 47845743696 -->\n",
       "<g class=\"node\" id=\"node3\">\n",
       "<title>47845743696</title>\n",
       "<polygon fill=\"none\" points=\"12.0552,-.5 12.0552,-44.5 255.6245,-44.5 255.6245,-.5 12.0552,-.5\" stroke=\"#000000\"/>\n",
       "<text fill=\"#000000\" font-family=\"Times,serif\" font-size=\"14.00\" text-anchor=\"middle\" x=\"64.1812\" y=\"-18.3\">dense_6: Dense</text>\n",
       "<polyline fill=\"none\" points=\"116.3071,-.5 116.3071,-44.5 \" stroke=\"#000000\"/>\n",
       "<text fill=\"#000000\" font-family=\"Times,serif\" font-size=\"14.00\" text-anchor=\"middle\" x=\"144.1416\" y=\"-29.3\">input:</text>\n",
       "<polyline fill=\"none\" points=\"116.3071,-22.5 171.9761,-22.5 \" stroke=\"#000000\"/>\n",
       "<text fill=\"#000000\" font-family=\"Times,serif\" font-size=\"14.00\" text-anchor=\"middle\" x=\"144.1416\" y=\"-7.3\">output:</text>\n",
       "<polyline fill=\"none\" points=\"171.9761,-.5 171.9761,-44.5 \" stroke=\"#000000\"/>\n",
       "<text fill=\"#000000\" font-family=\"Times,serif\" font-size=\"14.00\" text-anchor=\"middle\" x=\"213.8003\" y=\"-29.3\">(None, 32)</text>\n",
       "<polyline fill=\"none\" points=\"171.9761,-22.5 255.6245,-22.5 \" stroke=\"#000000\"/>\n",
       "<text fill=\"#000000\" font-family=\"Times,serif\" font-size=\"14.00\" text-anchor=\"middle\" x=\"213.8003\" y=\"-7.3\">(None, 784)</text>\n",
       "</g>\n",
       "<!-- 47845743864&#45;&gt;47845743696 -->\n",
       "<g class=\"edge\" id=\"edge2\">\n",
       "<title>47845743864-&gt;47845743696</title>\n",
       "<path d=\"M133.8398,-81.3664C133.8398,-73.1516 133.8398,-63.6579 133.8398,-54.7252\" fill=\"none\" stroke=\"#000000\"/>\n",
       "<polygon fill=\"#000000\" points=\"137.3399,-54.6068 133.8398,-44.6068 130.3399,-54.6069 137.3399,-54.6068\" stroke=\"#000000\"/>\n",
       "</g>\n",
       "</g>\n",
       "</svg>"
      ],
      "text/plain": [
       "<IPython.core.display.SVG object>"
      ]
     },
     "execution_count": 41,
     "metadata": {},
     "output_type": "execute_result"
    }
   ],
   "source": [
    "dot = model_to_dot(autoencoder, show_layer_names=True, show_shapes=True)\n",
    "SVG(dot.create(prog='dot',format='svg'))"
   ]
  },
  {
   "cell_type": "code",
   "execution_count": 42,
   "metadata": {},
   "outputs": [
    {
     "data": {
      "image/svg+xml": [
       "<svg height=\"134pt\" viewBox=\"0.00 0.00 275.68 134.00\" width=\"276pt\" xmlns=\"http://www.w3.org/2000/svg\" xmlns:xlink=\"http://www.w3.org/1999/xlink\">\n",
       "<g class=\"graph\" id=\"graph0\" transform=\"scale(1 1) rotate(0) translate(4 130)\">\n",
       "<title>G</title>\n",
       "<polygon fill=\"#ffffff\" points=\"-4,4 -4,-130 271.6797,-130 271.6797,4 -4,4\" stroke=\"transparent\"/>\n",
       "<!-- 47845743808 -->\n",
       "<g class=\"node\" id=\"node1\">\n",
       "<title>47845743808</title>\n",
       "<polygon fill=\"none\" points=\"0,-81.5 0,-125.5 267.6797,-125.5 267.6797,-81.5 0,-81.5\" stroke=\"#000000\"/>\n",
       "<text fill=\"#000000\" font-family=\"Times,serif\" font-size=\"14.00\" text-anchor=\"middle\" x=\"64.1812\" y=\"-99.3\">input_4: InputLayer</text>\n",
       "<polyline fill=\"none\" points=\"128.3623,-81.5 128.3623,-125.5 \" stroke=\"#000000\"/>\n",
       "<text fill=\"#000000\" font-family=\"Times,serif\" font-size=\"14.00\" text-anchor=\"middle\" x=\"156.1968\" y=\"-110.3\">input:</text>\n",
       "<polyline fill=\"none\" points=\"128.3623,-103.5 184.0313,-103.5 \" stroke=\"#000000\"/>\n",
       "<text fill=\"#000000\" font-family=\"Times,serif\" font-size=\"14.00\" text-anchor=\"middle\" x=\"156.1968\" y=\"-88.3\">output:</text>\n",
       "<polyline fill=\"none\" points=\"184.0313,-81.5 184.0313,-125.5 \" stroke=\"#000000\"/>\n",
       "<text fill=\"#000000\" font-family=\"Times,serif\" font-size=\"14.00\" text-anchor=\"middle\" x=\"225.8555\" y=\"-110.3\">(None, 784)</text>\n",
       "<polyline fill=\"none\" points=\"184.0313,-103.5 267.6797,-103.5 \" stroke=\"#000000\"/>\n",
       "<text fill=\"#000000\" font-family=\"Times,serif\" font-size=\"14.00\" text-anchor=\"middle\" x=\"225.8555\" y=\"-88.3\">(None, 784)</text>\n",
       "</g>\n",
       "<!-- 47845743864 -->\n",
       "<g class=\"node\" id=\"node2\">\n",
       "<title>47845743864</title>\n",
       "<polygon fill=\"none\" points=\"12.0552,-.5 12.0552,-44.5 255.6245,-44.5 255.6245,-.5 12.0552,-.5\" stroke=\"#000000\"/>\n",
       "<text fill=\"#000000\" font-family=\"Times,serif\" font-size=\"14.00\" text-anchor=\"middle\" x=\"64.1812\" y=\"-18.3\">dense_5: Dense</text>\n",
       "<polyline fill=\"none\" points=\"116.3071,-.5 116.3071,-44.5 \" stroke=\"#000000\"/>\n",
       "<text fill=\"#000000\" font-family=\"Times,serif\" font-size=\"14.00\" text-anchor=\"middle\" x=\"144.1416\" y=\"-29.3\">input:</text>\n",
       "<polyline fill=\"none\" points=\"116.3071,-22.5 171.9761,-22.5 \" stroke=\"#000000\"/>\n",
       "<text fill=\"#000000\" font-family=\"Times,serif\" font-size=\"14.00\" text-anchor=\"middle\" x=\"144.1416\" y=\"-7.3\">output:</text>\n",
       "<polyline fill=\"none\" points=\"171.9761,-.5 171.9761,-44.5 \" stroke=\"#000000\"/>\n",
       "<text fill=\"#000000\" font-family=\"Times,serif\" font-size=\"14.00\" text-anchor=\"middle\" x=\"213.8003\" y=\"-29.3\">(None, 784)</text>\n",
       "<polyline fill=\"none\" points=\"171.9761,-22.5 255.6245,-22.5 \" stroke=\"#000000\"/>\n",
       "<text fill=\"#000000\" font-family=\"Times,serif\" font-size=\"14.00\" text-anchor=\"middle\" x=\"213.8003\" y=\"-7.3\">(None, 32)</text>\n",
       "</g>\n",
       "<!-- 47845743808&#45;&gt;47845743864 -->\n",
       "<g class=\"edge\" id=\"edge1\">\n",
       "<title>47845743808-&gt;47845743864</title>\n",
       "<path d=\"M133.8398,-81.3664C133.8398,-73.1516 133.8398,-63.6579 133.8398,-54.7252\" fill=\"none\" stroke=\"#000000\"/>\n",
       "<polygon fill=\"#000000\" points=\"137.3399,-54.6068 133.8398,-44.6068 130.3399,-54.6069 137.3399,-54.6068\" stroke=\"#000000\"/>\n",
       "</g>\n",
       "</g>\n",
       "</svg>"
      ],
      "text/plain": [
       "<IPython.core.display.SVG object>"
      ]
     },
     "execution_count": 42,
     "metadata": {},
     "output_type": "execute_result"
    }
   ],
   "source": [
    "dot = model_to_dot(encoder, show_layer_names=True, show_shapes=True)\n",
    "SVG(dot.create(prog='dot',format='svg'))"
   ]
  },
  {
   "cell_type": "code",
   "execution_count": 43,
   "metadata": {},
   "outputs": [
    {
     "data": {
      "image/svg+xml": [
       "<svg height=\"134pt\" viewBox=\"0.00 0.00 268.68 134.00\" width=\"269pt\" xmlns=\"http://www.w3.org/2000/svg\" xmlns:xlink=\"http://www.w3.org/1999/xlink\">\n",
       "<g class=\"graph\" id=\"graph0\" transform=\"scale(1 1) rotate(0) translate(4 130)\">\n",
       "<title>G</title>\n",
       "<polygon fill=\"#ffffff\" points=\"-4,4 -4,-130 264.6797,-130 264.6797,4 -4,4\" stroke=\"transparent\"/>\n",
       "<!-- 4351813112 -->\n",
       "<g class=\"node\" id=\"node1\">\n",
       "<title>4351813112</title>\n",
       "<polygon fill=\"none\" points=\"0,-81.5 0,-125.5 260.6797,-125.5 260.6797,-81.5 0,-81.5\" stroke=\"#000000\"/>\n",
       "<text fill=\"#000000\" font-family=\"Times,serif\" font-size=\"14.00\" text-anchor=\"middle\" x=\"64.1812\" y=\"-99.3\">input_6: InputLayer</text>\n",
       "<polyline fill=\"none\" points=\"128.3623,-81.5 128.3623,-125.5 \" stroke=\"#000000\"/>\n",
       "<text fill=\"#000000\" font-family=\"Times,serif\" font-size=\"14.00\" text-anchor=\"middle\" x=\"156.1968\" y=\"-110.3\">input:</text>\n",
       "<polyline fill=\"none\" points=\"128.3623,-103.5 184.0313,-103.5 \" stroke=\"#000000\"/>\n",
       "<text fill=\"#000000\" font-family=\"Times,serif\" font-size=\"14.00\" text-anchor=\"middle\" x=\"156.1968\" y=\"-88.3\">output:</text>\n",
       "<polyline fill=\"none\" points=\"184.0313,-81.5 184.0313,-125.5 \" stroke=\"#000000\"/>\n",
       "<text fill=\"#000000\" font-family=\"Times,serif\" font-size=\"14.00\" text-anchor=\"middle\" x=\"222.3555\" y=\"-110.3\">(None, 32)</text>\n",
       "<polyline fill=\"none\" points=\"184.0313,-103.5 260.6797,-103.5 \" stroke=\"#000000\"/>\n",
       "<text fill=\"#000000\" font-family=\"Times,serif\" font-size=\"14.00\" text-anchor=\"middle\" x=\"222.3555\" y=\"-88.3\">(None, 32)</text>\n",
       "</g>\n",
       "<!-- 47845743696 -->\n",
       "<g class=\"node\" id=\"node2\">\n",
       "<title>47845743696</title>\n",
       "<polygon fill=\"none\" points=\"8.5552,-.5 8.5552,-44.5 252.1245,-44.5 252.1245,-.5 8.5552,-.5\" stroke=\"#000000\"/>\n",
       "<text fill=\"#000000\" font-family=\"Times,serif\" font-size=\"14.00\" text-anchor=\"middle\" x=\"60.6812\" y=\"-18.3\">dense_6: Dense</text>\n",
       "<polyline fill=\"none\" points=\"112.8071,-.5 112.8071,-44.5 \" stroke=\"#000000\"/>\n",
       "<text fill=\"#000000\" font-family=\"Times,serif\" font-size=\"14.00\" text-anchor=\"middle\" x=\"140.6416\" y=\"-29.3\">input:</text>\n",
       "<polyline fill=\"none\" points=\"112.8071,-22.5 168.4761,-22.5 \" stroke=\"#000000\"/>\n",
       "<text fill=\"#000000\" font-family=\"Times,serif\" font-size=\"14.00\" text-anchor=\"middle\" x=\"140.6416\" y=\"-7.3\">output:</text>\n",
       "<polyline fill=\"none\" points=\"168.4761,-.5 168.4761,-44.5 \" stroke=\"#000000\"/>\n",
       "<text fill=\"#000000\" font-family=\"Times,serif\" font-size=\"14.00\" text-anchor=\"middle\" x=\"210.3003\" y=\"-29.3\">(None, 32)</text>\n",
       "<polyline fill=\"none\" points=\"168.4761,-22.5 252.1245,-22.5 \" stroke=\"#000000\"/>\n",
       "<text fill=\"#000000\" font-family=\"Times,serif\" font-size=\"14.00\" text-anchor=\"middle\" x=\"210.3003\" y=\"-7.3\">(None, 784)</text>\n",
       "</g>\n",
       "<!-- 4351813112&#45;&gt;47845743696 -->\n",
       "<g class=\"edge\" id=\"edge1\">\n",
       "<title>4351813112-&gt;47845743696</title>\n",
       "<path d=\"M130.3398,-81.3664C130.3398,-73.1516 130.3398,-63.6579 130.3398,-54.7252\" fill=\"none\" stroke=\"#000000\"/>\n",
       "<polygon fill=\"#000000\" points=\"133.8399,-54.6068 130.3398,-44.6068 126.8399,-54.6069 133.8399,-54.6068\" stroke=\"#000000\"/>\n",
       "</g>\n",
       "</g>\n",
       "</svg>"
      ],
      "text/plain": [
       "<IPython.core.display.SVG object>"
      ]
     },
     "execution_count": 43,
     "metadata": {},
     "output_type": "execute_result"
    }
   ],
   "source": [
    "dot = model_to_dot(decoder, show_layer_names=True, show_shapes=True)\n",
    "SVG(dot.create(prog='dot',format='svg'))"
   ]
  },
  {
   "cell_type": "code",
   "execution_count": null,
   "metadata": {},
   "outputs": [],
   "source": []
  }
 ],
 "metadata": {
  "kernelspec": {
   "display_name": "Python 3",
   "language": "python",
   "name": "python3"
  },
  "language_info": {
   "codemirror_mode": {
    "name": "ipython",
    "version": 3
   },
   "file_extension": ".py",
   "mimetype": "text/x-python",
   "name": "python",
   "nbconvert_exporter": "python",
   "pygments_lexer": "ipython3",
   "version": "3.7.3"
  }
 },
 "nbformat": 4,
 "nbformat_minor": 2
}
