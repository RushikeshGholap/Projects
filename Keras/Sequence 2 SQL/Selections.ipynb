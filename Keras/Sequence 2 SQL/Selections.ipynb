{
 "cells": [
  {
   "cell_type": "code",
   "execution_count": 90,
   "metadata": {},
   "outputs": [],
   "source": [
    "from sklearn.datasets import load_diabetes\n",
    "from faker import Faker\n",
    "import pandas as pd\n",
    "import numpy as np\n",
    "from faker_schema.faker_schema import FakerSchema"
   ]
  },
  {
   "cell_type": "code",
   "execution_count": 135,
   "metadata": {},
   "outputs": [],
   "source": [
    "f = Faker()"
   ]
  },
  {
   "cell_type": "code",
   "execution_count": 172,
   "metadata": {},
   "outputs": [],
   "source": [
    "schema = {'employee_id': 'uuid4', \n",
    "          'employee_name': 'name', \n",
    "          'employee_address': 'address',\n",
    "          'email_address': 'email',\n",
    "          'employee_phone': 'phone_number'}"
   ]
  },
  {
   "cell_type": "code",
   "execution_count": 173,
   "metadata": {},
   "outputs": [],
   "source": [
    "def create_sample_data(schema, n):\n",
    "    faker = FakerSchema()\n",
    "    data = pd.DataFrame(faker.generate_fake(schema,iterations=n))\n",
    "    return data"
   ]
  },
  {
   "cell_type": "code",
   "execution_count": 174,
   "metadata": {},
   "outputs": [
    {
     "data": {
      "text/html": [
       "<div>\n",
       "<style scoped>\n",
       "    .dataframe tbody tr th:only-of-type {\n",
       "        vertical-align: middle;\n",
       "    }\n",
       "\n",
       "    .dataframe tbody tr th {\n",
       "        vertical-align: top;\n",
       "    }\n",
       "\n",
       "    .dataframe thead th {\n",
       "        text-align: right;\n",
       "    }\n",
       "</style>\n",
       "<table border=\"1\" class=\"dataframe\">\n",
       "  <thead>\n",
       "    <tr style=\"text-align: right;\">\n",
       "      <th></th>\n",
       "      <th>email_address</th>\n",
       "      <th>employee_address</th>\n",
       "      <th>employee_id</th>\n",
       "      <th>employee_name</th>\n",
       "      <th>employee_phone</th>\n",
       "    </tr>\n",
       "  </thead>\n",
       "  <tbody>\n",
       "    <tr>\n",
       "      <th>0</th>\n",
       "      <td>ycurry@gmail.com</td>\n",
       "      <td>33654 Schmitt Locks\\nHopkinsmouth, AK 37104-0129</td>\n",
       "      <td>e068358c-d341-2c55-763c-b1cf3441b127</td>\n",
       "      <td>Thomas Ramirez</td>\n",
       "      <td>(843)694-6743x837</td>\n",
       "    </tr>\n",
       "    <tr>\n",
       "      <th>1</th>\n",
       "      <td>edward47@gmail.com</td>\n",
       "      <td>PSC 6753, Box 0343\\nAPO AP 91806</td>\n",
       "      <td>afb81b19-bbfe-6346-e9ad-cab7e190bab9</td>\n",
       "      <td>Adam Holmes</td>\n",
       "      <td>076-347-0517</td>\n",
       "    </tr>\n",
       "  </tbody>\n",
       "</table>\n",
       "</div>"
      ],
      "text/plain": [
       "        email_address                                  employee_address  \\\n",
       "0    ycurry@gmail.com  33654 Schmitt Locks\\nHopkinsmouth, AK 37104-0129   \n",
       "1  edward47@gmail.com                  PSC 6753, Box 0343\\nAPO AP 91806   \n",
       "\n",
       "                            employee_id   employee_name     employee_phone  \n",
       "0  e068358c-d341-2c55-763c-b1cf3441b127  Thomas Ramirez  (843)694-6743x837  \n",
       "1  afb81b19-bbfe-6346-e9ad-cab7e190bab9     Adam Holmes       076-347-0517  "
      ]
     },
     "execution_count": 174,
     "metadata": {},
     "output_type": "execute_result"
    }
   ],
   "source": [
    "df = create_sample_data(schema, 10)\n",
    "df.head(2)"
   ]
  },
  {
   "cell_type": "code",
   "execution_count": 211,
   "metadata": {},
   "outputs": [],
   "source": [
    "items = [i[1] for i in tups]\n",
    "y = [i[0] for i in tups]"
   ]
  },
  {
   "cell_type": "code",
   "execution_count": 218,
   "metadata": {},
   "outputs": [
    {
     "data": {
      "text/plain": [
       "0"
      ]
     },
     "execution_count": 218,
     "metadata": {},
     "output_type": "execute_result"
    }
   ],
   "source": [
    "fuzz.token_set_ratio"
   ]
  },
  {
   "cell_type": "code",
   "execution_count": 217,
   "metadata": {},
   "outputs": [
    {
     "data": {
      "text/plain": [
       "('hi', 'e068358c-d341-2c55-763c-b1cf3441b127')"
      ]
     },
     "execution_count": 217,
     "metadata": {},
     "output_type": "execute_result"
    }
   ],
   "source": [
    "params[20]"
   ]
  },
  {
   "cell_type": "code",
   "execution_count": 258,
   "metadata": {},
   "outputs": [],
   "source": [
    "def get_feature1(items, query):\n",
    "    results=[]\n",
    "    qq = query.split()\n",
    "    results = [[fuzz.token_set_ratio(q, i) for i in items] for q in qq]\n",
    "    \n",
    "#     for q in qq:\n",
    "#         params = [i for i in itertools.product(q, items)]\n",
    "#         results.append([i for i in itertools.starmap(fuzz.token_set_ratio, params)])\n",
    "    return pd.DataFrame(np.array(results).T, columns=qq)"
   ]
  },
  {
   "cell_type": "code",
   "execution_count": null,
   "metadata": {},
   "outputs": [],
   "source": [
    "pd.concat([df1, df2], axis=1)"
   ]
  },
  {
   "cell_type": "code",
   "execution_count": null,
   "metadata": {},
   "outputs": [],
   "source": []
  },
  {
   "cell_type": "code",
   "execution_count": 176,
   "metadata": {},
   "outputs": [],
   "source": [
    "cols = list(df.columns)\n",
    "tups = [(col,i) for col in cols for i in df[col].unique()]"
   ]
  },
  {
   "cell_type": "code",
   "execution_count": 205,
   "metadata": {},
   "outputs": [],
   "source": [
    "query = 'hi there my email is akshaysehgal@gmail.com'"
   ]
  },
  {
   "cell_type": "code",
   "execution_count": 206,
   "metadata": {},
   "outputs": [
    {
     "data": {
      "text/plain": [
       "['hi', 'there', 'my', 'email', 'is', 'akshaysehgal@gmail.com']"
      ]
     },
     "execution_count": 206,
     "metadata": {},
     "output_type": "execute_result"
    }
   ],
   "source": [
    "query.split()"
   ]
  },
  {
   "cell_type": "code",
   "execution_count": 207,
   "metadata": {},
   "outputs": [],
   "source": [
    "import itertools"
   ]
  },
  {
   "cell_type": "code",
   "execution_count": 210,
   "metadata": {},
   "outputs": [],
   "source": [
    "params = [i for i in itertools.product(query.split(), X)]"
   ]
  },
  {
   "cell_type": "code",
   "execution_count": 180,
   "metadata": {},
   "outputs": [],
   "source": []
  },
  {
   "cell_type": "code",
   "execution_count": 204,
   "metadata": {},
   "outputs": [
    {
     "data": {
      "text/plain": [
       "['ycurry@gmail.com',\n",
       " 'edward47@gmail.com',\n",
       " 'rogerspatrick@gmail.com',\n",
       " 'samantha66@rivera.net',\n",
       " 'upowers@warren.net',\n",
       " 'powersjonathan@green.com',\n",
       " 'savageaaron@hotmail.com',\n",
       " 'anna91@stevens.com',\n",
       " 'julie43@mcclure.com',\n",
       " 'mendezzachary@hotmail.com',\n",
       " '33654 Schmitt Locks\\nHopkinsmouth, AK 37104-0129',\n",
       " 'PSC 6753, Box 0343\\nAPO AP 91806',\n",
       " '14299 James Motorway Apt. 095\\nBurnsmouth, MD 52844',\n",
       " '8319 Ryan Plaza Apt. 914\\nMoyerville, OK 16194-1270',\n",
       " '7242 Silva Greens Suite 920\\nWilliamsfort, ID 31905',\n",
       " '504 David Center\\nErnesthaven, MS 70521-5277',\n",
       " 'PSC 2251, Box 4233\\nAPO AE 78836-3465',\n",
       " '43731 Laura Pines\\nLake Danny, MA 49313-0430',\n",
       " 'USCGC Smith\\nFPO AE 27286',\n",
       " '869 Cobb Key Apt. 111\\nLowerymouth, MD 66282',\n",
       " 'e068358c-d341-2c55-763c-b1cf3441b127',\n",
       " 'afb81b19-bbfe-6346-e9ad-cab7e190bab9',\n",
       " '29fb9b09-ed97-70dd-bf3e-29606a3f3d9b',\n",
       " 'b148ca52-1a62-e002-9eb7-12afb5f4e20b',\n",
       " 'fdd064b9-537e-694d-4fe3-d04a4f0666d9',\n",
       " '4ab4767d-f052-f914-3071-f932bf0f4df3',\n",
       " '2e63b808-b5ca-aa47-a714-4ca260715260',\n",
       " '474257cd-1cd6-6969-f854-468a17c02909',\n",
       " 'ca42b5a0-cdf5-a30a-1202-8b5bdc0b8913',\n",
       " '59cebde2-0157-32e5-152b-fe59944cfe94',\n",
       " 'Thomas Ramirez',\n",
       " 'Adam Holmes',\n",
       " 'Travis Johnson',\n",
       " 'Brett Andrews',\n",
       " 'John Parker',\n",
       " 'Erika Simmons',\n",
       " 'Mary Black',\n",
       " 'Derrick Hayes',\n",
       " 'Phillip Ramirez',\n",
       " 'Erin Reynolds',\n",
       " '(843)694-6743x837',\n",
       " '076-347-0517',\n",
       " '042.789.7880x345',\n",
       " '1-789-784-3916x843',\n",
       " '597.203.6494',\n",
       " '(838)167-7123x96307',\n",
       " '1-046-720-2305',\n",
       " '(259)534-4453',\n",
       " '(948)090-3654x567',\n",
       " '(109)658-5455x7672']"
      ]
     },
     "execution_count": 204,
     "metadata": {},
     "output_type": "execute_result"
    }
   ],
   "source": []
  },
  {
   "cell_type": "code",
   "execution_count": null,
   "metadata": {},
   "outputs": [],
   "source": []
  },
  {
   "cell_type": "code",
   "execution_count": null,
   "metadata": {},
   "outputs": [],
   "source": []
  },
  {
   "cell_type": "code",
   "execution_count": null,
   "metadata": {},
   "outputs": [],
   "source": []
  },
  {
   "cell_type": "code",
   "execution_count": null,
   "metadata": {},
   "outputs": [],
   "source": []
  },
  {
   "cell_type": "code",
   "execution_count": null,
   "metadata": {},
   "outputs": [],
   "source": []
  },
  {
   "cell_type": "code",
   "execution_count": null,
   "metadata": {},
   "outputs": [],
   "source": []
  },
  {
   "cell_type": "code",
   "execution_count": 190,
   "metadata": {},
   "outputs": [],
   "source": [
    "def string_prep(a):\n",
    "    return ' '.join(list(a.replace(' ','|')))"
   ]
  },
  {
   "cell_type": "code",
   "execution_count": null,
   "metadata": {},
   "outputs": [],
   "source": []
  },
  {
   "cell_type": "code",
   "execution_count": null,
   "metadata": {},
   "outputs": [],
   "source": []
  },
  {
   "cell_type": "code",
   "execution_count": 262,
   "metadata": {},
   "outputs": [
    {
     "data": {
      "text/html": [
       "<div>\n",
       "<style scoped>\n",
       "    .dataframe tbody tr th:only-of-type {\n",
       "        vertical-align: middle;\n",
       "    }\n",
       "\n",
       "    .dataframe tbody tr th {\n",
       "        vertical-align: top;\n",
       "    }\n",
       "\n",
       "    .dataframe thead th {\n",
       "        text-align: right;\n",
       "    }\n",
       "</style>\n",
       "<table border=\"1\" class=\"dataframe\">\n",
       "  <thead>\n",
       "    <tr style=\"text-align: right;\">\n",
       "      <th></th>\n",
       "      <th>email_address</th>\n",
       "      <th>employee_address</th>\n",
       "      <th>employee_id</th>\n",
       "      <th>employee_name</th>\n",
       "      <th>employee_phone</th>\n",
       "    </tr>\n",
       "  </thead>\n",
       "  <tbody>\n",
       "    <tr>\n",
       "      <th>0</th>\n",
       "      <td>ycurry@gmail.com</td>\n",
       "      <td>33654 Schmitt Locks\\nHopkinsmouth, AK 37104-0129</td>\n",
       "      <td>e068358c-d341-2c55-763c-b1cf3441b127</td>\n",
       "      <td>Thomas Ramirez</td>\n",
       "      <td>(843)694-6743x837</td>\n",
       "    </tr>\n",
       "    <tr>\n",
       "      <th>1</th>\n",
       "      <td>edward47@gmail.com</td>\n",
       "      <td>PSC 6753, Box 0343\\nAPO AP 91806</td>\n",
       "      <td>afb81b19-bbfe-6346-e9ad-cab7e190bab9</td>\n",
       "      <td>Adam Holmes</td>\n",
       "      <td>076-347-0517</td>\n",
       "    </tr>\n",
       "    <tr>\n",
       "      <th>2</th>\n",
       "      <td>rogerspatrick@gmail.com</td>\n",
       "      <td>14299 James Motorway Apt. 095\\nBurnsmouth, MD ...</td>\n",
       "      <td>29fb9b09-ed97-70dd-bf3e-29606a3f3d9b</td>\n",
       "      <td>Travis Johnson</td>\n",
       "      <td>042.789.7880x345</td>\n",
       "    </tr>\n",
       "    <tr>\n",
       "      <th>3</th>\n",
       "      <td>samantha66@rivera.net</td>\n",
       "      <td>8319 Ryan Plaza Apt. 914\\nMoyerville, OK 16194...</td>\n",
       "      <td>b148ca52-1a62-e002-9eb7-12afb5f4e20b</td>\n",
       "      <td>Brett Andrews</td>\n",
       "      <td>1-789-784-3916x843</td>\n",
       "    </tr>\n",
       "    <tr>\n",
       "      <th>4</th>\n",
       "      <td>upowers@warren.net</td>\n",
       "      <td>7242 Silva Greens Suite 920\\nWilliamsfort, ID ...</td>\n",
       "      <td>fdd064b9-537e-694d-4fe3-d04a4f0666d9</td>\n",
       "      <td>John Parker</td>\n",
       "      <td>597.203.6494</td>\n",
       "    </tr>\n",
       "    <tr>\n",
       "      <th>5</th>\n",
       "      <td>powersjonathan@green.com</td>\n",
       "      <td>504 David Center\\nErnesthaven, MS 70521-5277</td>\n",
       "      <td>4ab4767d-f052-f914-3071-f932bf0f4df3</td>\n",
       "      <td>Erika Simmons</td>\n",
       "      <td>(838)167-7123x96307</td>\n",
       "    </tr>\n",
       "    <tr>\n",
       "      <th>6</th>\n",
       "      <td>savageaaron@hotmail.com</td>\n",
       "      <td>PSC 2251, Box 4233\\nAPO AE 78836-3465</td>\n",
       "      <td>2e63b808-b5ca-aa47-a714-4ca260715260</td>\n",
       "      <td>Mary Black</td>\n",
       "      <td>1-046-720-2305</td>\n",
       "    </tr>\n",
       "    <tr>\n",
       "      <th>7</th>\n",
       "      <td>anna91@stevens.com</td>\n",
       "      <td>43731 Laura Pines\\nLake Danny, MA 49313-0430</td>\n",
       "      <td>474257cd-1cd6-6969-f854-468a17c02909</td>\n",
       "      <td>Derrick Hayes</td>\n",
       "      <td>(259)534-4453</td>\n",
       "    </tr>\n",
       "    <tr>\n",
       "      <th>8</th>\n",
       "      <td>julie43@mcclure.com</td>\n",
       "      <td>USCGC Smith\\nFPO AE 27286</td>\n",
       "      <td>ca42b5a0-cdf5-a30a-1202-8b5bdc0b8913</td>\n",
       "      <td>Phillip Ramirez</td>\n",
       "      <td>(948)090-3654x567</td>\n",
       "    </tr>\n",
       "    <tr>\n",
       "      <th>9</th>\n",
       "      <td>mendezzachary@hotmail.com</td>\n",
       "      <td>869 Cobb Key Apt. 111\\nLowerymouth, MD 66282</td>\n",
       "      <td>59cebde2-0157-32e5-152b-fe59944cfe94</td>\n",
       "      <td>Erin Reynolds</td>\n",
       "      <td>(109)658-5455x7672</td>\n",
       "    </tr>\n",
       "  </tbody>\n",
       "</table>\n",
       "</div>"
      ],
      "text/plain": [
       "               email_address  \\\n",
       "0           ycurry@gmail.com   \n",
       "1         edward47@gmail.com   \n",
       "2    rogerspatrick@gmail.com   \n",
       "3      samantha66@rivera.net   \n",
       "4         upowers@warren.net   \n",
       "5   powersjonathan@green.com   \n",
       "6    savageaaron@hotmail.com   \n",
       "7         anna91@stevens.com   \n",
       "8        julie43@mcclure.com   \n",
       "9  mendezzachary@hotmail.com   \n",
       "\n",
       "                                    employee_address  \\\n",
       "0   33654 Schmitt Locks\\nHopkinsmouth, AK 37104-0129   \n",
       "1                   PSC 6753, Box 0343\\nAPO AP 91806   \n",
       "2  14299 James Motorway Apt. 095\\nBurnsmouth, MD ...   \n",
       "3  8319 Ryan Plaza Apt. 914\\nMoyerville, OK 16194...   \n",
       "4  7242 Silva Greens Suite 920\\nWilliamsfort, ID ...   \n",
       "5       504 David Center\\nErnesthaven, MS 70521-5277   \n",
       "6              PSC 2251, Box 4233\\nAPO AE 78836-3465   \n",
       "7       43731 Laura Pines\\nLake Danny, MA 49313-0430   \n",
       "8                          USCGC Smith\\nFPO AE 27286   \n",
       "9       869 Cobb Key Apt. 111\\nLowerymouth, MD 66282   \n",
       "\n",
       "                            employee_id    employee_name       employee_phone  \n",
       "0  e068358c-d341-2c55-763c-b1cf3441b127   Thomas Ramirez    (843)694-6743x837  \n",
       "1  afb81b19-bbfe-6346-e9ad-cab7e190bab9      Adam Holmes         076-347-0517  \n",
       "2  29fb9b09-ed97-70dd-bf3e-29606a3f3d9b   Travis Johnson     042.789.7880x345  \n",
       "3  b148ca52-1a62-e002-9eb7-12afb5f4e20b    Brett Andrews   1-789-784-3916x843  \n",
       "4  fdd064b9-537e-694d-4fe3-d04a4f0666d9      John Parker         597.203.6494  \n",
       "5  4ab4767d-f052-f914-3071-f932bf0f4df3    Erika Simmons  (838)167-7123x96307  \n",
       "6  2e63b808-b5ca-aa47-a714-4ca260715260       Mary Black       1-046-720-2305  \n",
       "7  474257cd-1cd6-6969-f854-468a17c02909    Derrick Hayes        (259)534-4453  \n",
       "8  ca42b5a0-cdf5-a30a-1202-8b5bdc0b8913  Phillip Ramirez    (948)090-3654x567  \n",
       "9  59cebde2-0157-32e5-152b-fe59944cfe94    Erin Reynolds   (109)658-5455x7672  "
      ]
     },
     "execution_count": 262,
     "metadata": {},
     "output_type": "execute_result"
    }
   ],
   "source": [
    "df"
   ]
  },
  {
   "cell_type": "code",
   "execution_count": 323,
   "metadata": {},
   "outputs": [],
   "source": [
    "def get_meta(df, flg = 0):\n",
    "    meta = dict()\n",
    "    cols = df.columns\n",
    "    for i in cols:\n",
    "        meta.update({i:list(df[i].unique())+[i]})\n",
    "        \n",
    "    if flg==1:\n",
    "        meta = [{k:' '.join(v) for k,v in meta.items()}]\n",
    "    return meta"
   ]
  },
  {
   "cell_type": "code",
   "execution_count": 324,
   "metadata": {},
   "outputs": [
    {
     "data": {
      "text/plain": [
       "{'email_address': ['ycurry@gmail.com',\n",
       "  'edward47@gmail.com',\n",
       "  'rogerspatrick@gmail.com',\n",
       "  'samantha66@rivera.net',\n",
       "  'upowers@warren.net',\n",
       "  'powersjonathan@green.com',\n",
       "  'savageaaron@hotmail.com',\n",
       "  'anna91@stevens.com',\n",
       "  'julie43@mcclure.com',\n",
       "  'mendezzachary@hotmail.com',\n",
       "  'email_address'],\n",
       " 'employee_address': ['33654 Schmitt Locks\\nHopkinsmouth, AK 37104-0129',\n",
       "  'PSC 6753, Box 0343\\nAPO AP 91806',\n",
       "  '14299 James Motorway Apt. 095\\nBurnsmouth, MD 52844',\n",
       "  '8319 Ryan Plaza Apt. 914\\nMoyerville, OK 16194-1270',\n",
       "  '7242 Silva Greens Suite 920\\nWilliamsfort, ID 31905',\n",
       "  '504 David Center\\nErnesthaven, MS 70521-5277',\n",
       "  'PSC 2251, Box 4233\\nAPO AE 78836-3465',\n",
       "  '43731 Laura Pines\\nLake Danny, MA 49313-0430',\n",
       "  'USCGC Smith\\nFPO AE 27286',\n",
       "  '869 Cobb Key Apt. 111\\nLowerymouth, MD 66282',\n",
       "  'employee_address'],\n",
       " 'employee_id': ['e068358c-d341-2c55-763c-b1cf3441b127',\n",
       "  'afb81b19-bbfe-6346-e9ad-cab7e190bab9',\n",
       "  '29fb9b09-ed97-70dd-bf3e-29606a3f3d9b',\n",
       "  'b148ca52-1a62-e002-9eb7-12afb5f4e20b',\n",
       "  'fdd064b9-537e-694d-4fe3-d04a4f0666d9',\n",
       "  '4ab4767d-f052-f914-3071-f932bf0f4df3',\n",
       "  '2e63b808-b5ca-aa47-a714-4ca260715260',\n",
       "  '474257cd-1cd6-6969-f854-468a17c02909',\n",
       "  'ca42b5a0-cdf5-a30a-1202-8b5bdc0b8913',\n",
       "  '59cebde2-0157-32e5-152b-fe59944cfe94',\n",
       "  'employee_id'],\n",
       " 'employee_name': ['Thomas Ramirez',\n",
       "  'Adam Holmes',\n",
       "  'Travis Johnson',\n",
       "  'Brett Andrews',\n",
       "  'John Parker',\n",
       "  'Erika Simmons',\n",
       "  'Mary Black',\n",
       "  'Derrick Hayes',\n",
       "  'Phillip Ramirez',\n",
       "  'Erin Reynolds',\n",
       "  'employee_name'],\n",
       " 'employee_phone': ['(843)694-6743x837',\n",
       "  '076-347-0517',\n",
       "  '042.789.7880x345',\n",
       "  '1-789-784-3916x843',\n",
       "  '597.203.6494',\n",
       "  '(838)167-7123x96307',\n",
       "  '1-046-720-2305',\n",
       "  '(259)534-4453',\n",
       "  '(948)090-3654x567',\n",
       "  '(109)658-5455x7672',\n",
       "  'employee_phone']}"
      ]
     },
     "execution_count": 324,
     "metadata": {},
     "output_type": "execute_result"
    }
   ],
   "source": [
    "df_meta = get_meta(df)\n",
    "df_meta"
   ]
  },
  {
   "cell_type": "code",
   "execution_count": 413,
   "metadata": {},
   "outputs": [],
   "source": [
    "def get_col_scores(query, df_meta):\n",
    "    matches = []\n",
    "    for key,value in df_meta.items():\n",
    "        nearest_match = process.extractOne(query, value, scorer=fuzz.token_sort_ratio, score_cutoff=56)\n",
    "        if nearest_match:\n",
    "            matches.append((key, nearest_match[0], nearest_match[1]))\n",
    "    matches_sorted = sorted(matches, key=lambda x:x[2], reverse=True)\n",
    "    return matches_sorted\n",
    "    #return nearest_match"
   ]
  },
  {
   "cell_type": "code",
   "execution_count": 414,
   "metadata": {},
   "outputs": [
    {
     "data": {
      "text/plain": [
       "['what', 'is', 'the', 'email', 'id', 'of', 'john', 'parker']"
      ]
     },
     "execution_count": 414,
     "metadata": {},
     "output_type": "execute_result"
    }
   ],
   "source": [
    "query.split()"
   ]
  },
  {
   "cell_type": "code",
   "execution_count": 415,
   "metadata": {},
   "outputs": [],
   "source": [
    "def get_bigrams(query):\n",
    "    unigrams = query.split()\n",
    "    bigrams = [' '.join(i) for i in zip(unigrams, unigrams[1:])] + unigrams\n",
    "    return bigrams"
   ]
  },
  {
   "cell_type": "code",
   "execution_count": null,
   "metadata": {},
   "outputs": [],
   "source": []
  },
  {
   "cell_type": "code",
   "execution_count": 416,
   "metadata": {},
   "outputs": [
    {
     "data": {
      "text/plain": [
       "[('what is', []),\n",
       " ('is the', []),\n",
       " ('the email', []),\n",
       " ('email id', [('email_address', 'email_address', 57)]),\n",
       " ('id of', []),\n",
       " ('of john', [('employee_name', 'John Parker', 56)]),\n",
       " ('john parker', [('employee_name', 'John Parker', 100)]),\n",
       " ('what', []),\n",
       " ('is', []),\n",
       " ('the', []),\n",
       " ('email', [('email_address', 'email_address', 56)]),\n",
       " ('id', []),\n",
       " ('of', []),\n",
       " ('john', []),\n",
       " ('parker', [('employee_name', 'John Parker', 71)])]"
      ]
     },
     "execution_count": 416,
     "metadata": {},
     "output_type": "execute_result"
    }
   ],
   "source": [
    "[(i,get_col_scores(i, df_meta)) for i in get_bigrams(query)]"
   ]
  },
  {
   "cell_type": "code",
   "execution_count": null,
   "metadata": {},
   "outputs": [],
   "source": []
  },
  {
   "cell_type": "code",
   "execution_count": null,
   "metadata": {},
   "outputs": [],
   "source": []
  },
  {
   "cell_type": "code",
   "execution_count": null,
   "metadata": {},
   "outputs": [],
   "source": []
  },
  {
   "cell_type": "code",
   "execution_count": null,
   "metadata": {},
   "outputs": [],
   "source": []
  },
  {
   "cell_type": "code",
   "execution_count": null,
   "metadata": {},
   "outputs": [],
   "source": []
  },
  {
   "cell_type": "code",
   "execution_count": null,
   "metadata": {},
   "outputs": [],
   "source": []
  }
 ],
 "metadata": {
  "kernelspec": {
   "display_name": "Python 3",
   "language": "python",
   "name": "python3"
  },
  "language_info": {
   "codemirror_mode": {
    "name": "ipython",
    "version": 3
   },
   "file_extension": ".py",
   "mimetype": "text/x-python",
   "name": "python",
   "nbconvert_exporter": "python",
   "pygments_lexer": "ipython3",
   "version": "3.6.8"
  }
 },
 "nbformat": 4,
 "nbformat_minor": 2
}
