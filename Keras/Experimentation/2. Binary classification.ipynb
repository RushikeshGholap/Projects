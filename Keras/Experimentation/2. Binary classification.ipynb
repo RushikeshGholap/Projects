{
 "cells": [
  {
   "cell_type": "code",
   "execution_count": null,
   "metadata": {},
   "outputs": [],
   "source": [
    "import matplotlib.pyplot as plt\n",
    "from keras.datasets import imdb\n",
    "from keras import models\n",
    "from keras import layers\n",
    "from keras.utils import to_categorical\n",
    "import numpy as np"
   ]
  },
  {
   "cell_type": "code",
   "execution_count": null,
   "metadata": {},
   "outputs": [],
   "source": [
    "(X_train, y_train), (X_test, y_test) = imdb.load_data(num_words=10000)"
   ]
  },
  {
   "cell_type": "code",
   "execution_count": null,
   "metadata": {},
   "outputs": [],
   "source": [
    "[i.shape for i in [X_train, y_train, X_test, y_test]]"
   ]
  },
  {
   "cell_type": "code",
   "execution_count": null,
   "metadata": {},
   "outputs": [],
   "source": [
    "X_train[1]"
   ]
  },
  {
   "cell_type": "code",
   "execution_count": null,
   "metadata": {},
   "outputs": [],
   "source": [
    "y_train[1]"
   ]
  },
  {
   "cell_type": "code",
   "execution_count": null,
   "metadata": {},
   "outputs": [],
   "source": [
    "max([max(sequence) for sequence in X_train])"
   ]
  },
  {
   "cell_type": "code",
   "execution_count": null,
   "metadata": {},
   "outputs": [],
   "source": [
    "def decode_review(i):\n",
    "    word_index = imdb.get_word_index()\n",
    "    reverse_word_index = dict([(value, key) for (key, value) in word_index.items()])\n",
    "    decoded_review = ' '.join([reverse_word_index.get(i-3, '?') for i in X_train[i]])\n",
    "    return decoded_review"
   ]
  },
  {
   "cell_type": "code",
   "execution_count": null,
   "metadata": {},
   "outputs": [],
   "source": [
    "decode_review(5)"
   ]
  },
  {
   "cell_type": "markdown",
   "metadata": {},
   "source": [
    "# Data Prep using one hot"
   ]
  },
  {
   "cell_type": "code",
   "execution_count": null,
   "metadata": {},
   "outputs": [],
   "source": [
    "def vectorize_seq(sequences, dimension=10000):\n",
    "    results = np.zeros((len(sequences), dimension))\n",
    "    for i, sequence in enumerate(sequences):\n",
    "        results[1, sequence] = 1.\n",
    "    return results\n",
    "\n",
    "X_train_vec = vectorize_seq(X_train)\n",
    "X_test_vec = vectorize_seq(X_test)\n",
    "\n",
    "y_train_vec = np.asarray(y_train).astype('float32')\n",
    "y_test_vec = np.asarray(y_test).astype('float32')"
   ]
  },
  {
   "cell_type": "code",
   "execution_count": null,
   "metadata": {},
   "outputs": [],
   "source": [
    "[i.shape for i in [X_train_vec, y_train_vec, X_test_vec, y_test_vec]]"
   ]
  },
  {
   "cell_type": "markdown",
   "metadata": {},
   "source": [
    "# Model"
   ]
  },
  {
   "cell_type": "code",
   "execution_count": null,
   "metadata": {},
   "outputs": [],
   "source": [
    "inp = layers.Input((10000,))\n",
    "x = layers.Dense(16, activation='relu')(inp)\n",
    "x = layers.Dense(16, activation='relu')(x)\n",
    "out = layers.Dense(1, activation='sigmoid')(x)\n",
    "model = models.Model(inp, out)\n",
    "model.summary()"
   ]
  },
  {
   "cell_type": "code",
   "execution_count": null,
   "metadata": {},
   "outputs": [],
   "source": [
    "model.compile(optimizer='rmsprop', loss='binary_crossentropy', metrics=['acc'])"
   ]
  },
  {
   "cell_type": "code",
   "execution_count": null,
   "metadata": {},
   "outputs": [],
   "source": [
    "X_val = X_train_vec[:10000]\n",
    "partial_X_train_vec = X_train_vec[10000:]\n",
    "\n",
    "y_val = y_train_vec[:10000]\n",
    "partial_y_train_vec = y_train_vec[10000:]"
   ]
  },
  {
   "cell_type": "code",
   "execution_count": null,
   "metadata": {},
   "outputs": [],
   "source": [
    "model.fit(partial_X_train_vec, partial_y_train_vec, epochs=4, batch_size=512, validation_data=(X_val, y_val))"
   ]
  },
  {
   "cell_type": "code",
   "execution_count": null,
   "metadata": {},
   "outputs": [],
   "source": [
    "acc = model.history.history.get('acc')\n",
    "loss = model.history.history.get('loss')\n",
    "val_acc = model.history.history.get('val_acc')\n",
    "val_loss = model.history.history.get('val_loss')"
   ]
  },
  {
   "cell_type": "code",
   "execution_count": null,
   "metadata": {},
   "outputs": [],
   "source": [
    "plt.plot(loss,'r')\n",
    "plt.plot(val_loss,'g')"
   ]
  },
  {
   "cell_type": "code",
   "execution_count": null,
   "metadata": {},
   "outputs": [],
   "source": [
    "plt.plot(acc,'r')\n",
    "plt.plot(val_acc,'g')"
   ]
  },
  {
   "cell_type": "code",
   "execution_count": null,
   "metadata": {},
   "outputs": [],
   "source": []
  },
  {
   "cell_type": "code",
   "execution_count": null,
   "metadata": {},
   "outputs": [],
   "source": []
  },
  {
   "cell_type": "code",
   "execution_count": null,
   "metadata": {},
   "outputs": [],
   "source": []
  },
  {
   "cell_type": "code",
   "execution_count": null,
   "metadata": {},
   "outputs": [],
   "source": []
  },
  {
   "cell_type": "code",
   "execution_count": null,
   "metadata": {},
   "outputs": [],
   "source": []
  },
  {
   "cell_type": "code",
   "execution_count": null,
   "metadata": {},
   "outputs": [],
   "source": [
    "class inputs():\n",
    "    def __init__(self):\n",
    "        self.N = 0\n",
    "        self.strengths = []\n",
    "        self.energies = []\n",
    "    \n",
    "    def get_N(self, mini, maxi):\n",
    "        print(f'What is the number of villians/heros (between {mini} to {maxi})?')\n",
    "        while self.N<mini or self.N>maxi:\n",
    "            self.N = int(input())\n",
    "            if self.N<mini or self.N>maxi:\n",
    "                print(f'Incorrect input, a max of {maxi} villians/heros allowed..')\n",
    "                \n",
    "    def get_strengths(self, mini, maxi):\n",
    "        print(f\"Please enter the {self.N} values of strengths of villians with spaces between..\")\n",
    "        while len(self.strengths)!=self.N:\n",
    "            self.strengths = [int(i) for i in input().split(' ')]\n",
    "            len_var = len(self.strengths)\n",
    "            if len(self.strengths)>self.N:\n",
    "                print(f\"Incorrect input, expected {self.N} values, got {len_var}..\")\n",
    "    \n",
    "    def get_energies(self, mini, maxi):\n",
    "        print(f\"Please enter the {self.N} values of energies of heros with spaces between..\")\n",
    "        while len(self.energies)!=self.N:\n",
    "            self.energies = [int(i) for i in input().split(' ')]\n",
    "            len_var = len(self.energies)\n",
    "            if len(self.energies)>self.N:\n",
    "                print(f\"Incorrect input, expected {self.N} values, got {len_var}..\")\n",
    "                \n",
    "    def simulate_game(self):\n",
    "        sstr = sorted(self.strengths)\n",
    "        seng = sorted(self.energies)\n",
    "        compete = zip(sstr, seng)\n",
    "        results = all([(i[0]>=i[1]) for i in compete])\n",
    "        if results == True:\n",
    "            return 'WIN'\n",
    "        else:\n",
    "            return 'LOSE'"
   ]
  },
  {
   "cell_type": "code",
   "execution_count": null,
   "metadata": {},
   "outputs": [],
   "source": [
    "game = inputs()"
   ]
  },
  {
   "cell_type": "code",
   "execution_count": null,
   "metadata": {},
   "outputs": [],
   "source": [
    "game.get_N(1,1000)"
   ]
  },
  {
   "cell_type": "code",
   "execution_count": null,
   "metadata": {},
   "outputs": [],
   "source": [
    "game.get_strengths(1,10000)"
   ]
  },
  {
   "cell_type": "code",
   "execution_count": null,
   "metadata": {},
   "outputs": [],
   "source": [
    "game.get_energies(1,10000)"
   ]
  },
  {
   "cell_type": "code",
   "execution_count": null,
   "metadata": {},
   "outputs": [],
   "source": [
    "game.__dict__"
   ]
  },
  {
   "cell_type": "code",
   "execution_count": null,
   "metadata": {},
   "outputs": [],
   "source": [
    "game.simulate_game()"
   ]
  },
  {
   "cell_type": "code",
   "execution_count": null,
   "metadata": {},
   "outputs": [],
   "source": []
  },
  {
   "cell_type": "code",
   "execution_count": null,
   "metadata": {},
   "outputs": [],
   "source": []
  },
  {
   "cell_type": "code",
   "execution_count": null,
   "metadata": {},
   "outputs": [],
   "source": [
    "z = [-1, 7, 8, -5, 4]\n",
    "z0 = [3, 2, 1, -1]\n",
    "z1 = [11, 12, -2, -1]\n",
    "z2 = [4, 5, 4, 3]\n",
    "z3 = [5, 10, 4, -1]"
   ]
  },
  {
   "cell_type": "code",
   "execution_count": 13,
   "metadata": {},
   "outputs": [
    {
     "name": "stdout",
     "output_type": "stream",
     "text": [
      "2\n",
      "5\n",
      "-1 7 8 -5 4 \n",
      "4\n",
      "3 2 1 -1\n",
      "48\n",
      "13\n"
     ]
    }
   ],
   "source": [
    "def clean_input(z):\n",
    "    return [int(i) for i in z.split()]\n",
    "    \n",
    "def dont_hate(z):\n",
    "    even = z[0:][::2]\n",
    "    odd = z[1:][::2]\n",
    "    compete = [even, odd]\n",
    "    return compete\n",
    "\n",
    "def mssl(l):\n",
    "    best = cur = 0\n",
    "    curi = starti = besti = 0\n",
    "    for ind, i in enumerate(l):\n",
    "        if cur+i > 0:\n",
    "            cur += i\n",
    "        else: # reset start position\n",
    "            cur, curi = 0, ind+1\n",
    "\n",
    "        if cur > best:\n",
    "            starti, besti, best = curi, ind+1, cur\n",
    "    return (best, ''.join([str(i) for i in l[starti:besti]]))\n",
    "\n",
    "def get_tickets(l):\n",
    "    tickets = sorted([mssl(i[::-1]) for i in dont_hate(l)], key=lambda x:x[0], reverse=True)\n",
    "    return tickets[0][1]\n",
    "\n",
    "results = []\n",
    "T = int(input())\n",
    "for i in range(T):\n",
    "    V = int(input())\n",
    "    results.append(get_tickets(clean_input(input())))\n",
    "\n",
    "for i in range(T):\n",
    "    print(results[i])"
   ]
  },
  {
   "cell_type": "code",
   "execution_count": 6,
   "metadata": {},
   "outputs": [],
   "source": [
    "z = '1 2 3 4 5 '"
   ]
  },
  {
   "cell_type": "code",
   "execution_count": 10,
   "metadata": {},
   "outputs": [
    {
     "name": "stdout",
     "output_type": "stream",
     "text": [
      "1 2 3 4 5\n"
     ]
    },
    {
     "data": {
      "text/plain": [
       "[1, 2, 3, 4, 5]"
      ]
     },
     "execution_count": 10,
     "metadata": {},
     "output_type": "execute_result"
    }
   ],
   "source": [
    "clean_input(input())"
   ]
  },
  {
   "cell_type": "code",
   "execution_count": null,
   "metadata": {},
   "outputs": [],
   "source": [
    "var = z\n",
    "tickets = sorted([mssl(i[::-1]) for i in dont_hate(l)], key=lambda x:x[0], reverse=True)\n",
    "print(tickets[0][1])"
   ]
  },
  {
   "cell_type": "code",
   "execution_count": null,
   "metadata": {},
   "outputs": [],
   "source": []
  },
  {
   "cell_type": "code",
   "execution_count": null,
   "metadata": {},
   "outputs": [],
   "source": []
  },
  {
   "cell_type": "code",
   "execution_count": null,
   "metadata": {},
   "outputs": [],
   "source": []
  },
  {
   "cell_type": "code",
   "execution_count": null,
   "metadata": {},
   "outputs": [],
   "source": [
    "Output Format\n",
    "For each test case, print the ticket numbers in a single line forming the maximum sum in the format similar to Sample Test Case.\n",
    "\n",
    "Sample TestCase 1\n",
    "Input\n",
    "5\n",
    "5\n",
    "-1 7 8 -5 4 \n",
    "4\n",
    "3 2 1 -1 \n",
    "4\n",
    "11 12 -2 -1 \n",
    "4\n",
    "4 5 4 3 \n",
    "4\n",
    "5 10 4 -1\n",
    "Output\n",
    "48\n",
    "13\n",
    "12\n",
    "44\n",
    "10\n",
    "Explanation\n",
    "Test Case 1: Maximum sum which can be formed is 12. Element considered 8, 4. Note that Output is printed from the reverse side of the array which is TRUE for all the test cases without the space. So, the output is 48.\n",
    "Test Case 2: Maximum sum which can be formed is 4. Element considered 3, 1. Output = 13.\n",
    "Test Case 3: Maximum sum which can be formed is 12 as by taking any other element value of maximum sum decreases.\n",
    "Test Case 4: Maximum sum which can be formed is 8 by taking 3, 5 or 4, 4. But the output is 4, 4 as 3 is smaller than 4.\n",
    "Test Case 5: Maximum sum which can be formed is 10."
   ]
  },
  {
   "cell_type": "code",
   "execution_count": null,
   "metadata": {},
   "outputs": [],
   "source": []
  },
  {
   "cell_type": "code",
   "execution_count": null,
   "metadata": {},
   "outputs": [],
   "source": []
  },
  {
   "cell_type": "code",
   "execution_count": null,
   "metadata": {},
   "outputs": [],
   "source": []
  },
  {
   "cell_type": "code",
   "execution_count": null,
   "metadata": {},
   "outputs": [],
   "source": []
  },
  {
   "cell_type": "code",
   "execution_count": null,
   "metadata": {},
   "outputs": [],
   "source": [
    "z = [-1, 8, 4]"
   ]
  },
  {
   "cell_type": "code",
   "execution_count": null,
   "metadata": {},
   "outputs": [],
   "source": [
    "max_subarray(z)"
   ]
  },
  {
   "cell_type": "code",
   "execution_count": null,
   "metadata": {},
   "outputs": [],
   "source": [
    "sorted(zz)"
   ]
  },
  {
   "cell_type": "code",
   "execution_count": null,
   "metadata": {},
   "outputs": [],
   "source": [
    "def chain_substring(arr):\n",
    "    cumsum = np.cumsum(sorted(arr, reverse=True))"
   ]
  },
  {
   "cell_type": "code",
   "execution_count": null,
   "metadata": {},
   "outputs": [],
   "source": [
    "np.cumsum(sorted(zz[0], reverse=True))"
   ]
  },
  {
   "cell_type": "code",
   "execution_count": null,
   "metadata": {},
   "outputs": [],
   "source": []
  },
  {
   "cell_type": "code",
   "execution_count": null,
   "metadata": {},
   "outputs": [],
   "source": []
  },
  {
   "cell_type": "code",
   "execution_count": null,
   "metadata": {},
   "outputs": [],
   "source": []
  },
  {
   "cell_type": "code",
   "execution_count": null,
   "metadata": {},
   "outputs": [],
   "source": []
  },
  {
   "cell_type": "code",
   "execution_count": null,
   "metadata": {},
   "outputs": [],
   "source": []
  },
  {
   "cell_type": "code",
   "execution_count": null,
   "metadata": {},
   "outputs": [],
   "source": [
    "max_sum(zz[1])"
   ]
  },
  {
   "cell_type": "code",
   "execution_count": null,
   "metadata": {},
   "outputs": [],
   "source": []
  },
  {
   "cell_type": "code",
   "execution_count": null,
   "metadata": {},
   "outputs": [],
   "source": [
    "sorted(zz[0], reverse=True)"
   ]
  },
  {
   "cell_type": "code",
   "execution_count": null,
   "metadata": {},
   "outputs": [],
   "source": [
    "max_sum(zz[0])"
   ]
  },
  {
   "cell_type": "code",
   "execution_count": null,
   "metadata": {},
   "outputs": [],
   "source": []
  },
  {
   "cell_type": "code",
   "execution_count": null,
   "metadata": {},
   "outputs": [],
   "source": []
  },
  {
   "cell_type": "code",
   "execution_count": null,
   "metadata": {},
   "outputs": [],
   "source": [
    "@np.vectorize\n",
    "def foo(a,b):\n",
    "    return a+b"
   ]
  },
  {
   "cell_type": "code",
   "execution_count": null,
   "metadata": {},
   "outputs": [],
   "source": [
    "foo(np.array([-1, 8, 4, -1, 2]).reshape(-1,1), np.array([-1, 8, 4, -1, 2]).reshape(1,-1))"
   ]
  },
  {
   "cell_type": "code",
   "execution_count": null,
   "metadata": {},
   "outputs": [],
   "source": []
  },
  {
   "cell_type": "code",
   "execution_count": null,
   "metadata": {},
   "outputs": [],
   "source": []
  },
  {
   "cell_type": "code",
   "execution_count": null,
   "metadata": {},
   "outputs": [],
   "source": [
    "def max_sum(arr):\n",
    "    max_ending = max_current = arr[0]\n",
    "    for i in arr[1:]:\n",
    "        max_ending = max(i, max_ending+i)\n",
    "        max_current = max(max_current, max_ending)\n",
    "    return max_current"
   ]
  },
  {
   "cell_type": "code",
   "execution_count": null,
   "metadata": {},
   "outputs": [],
   "source": []
  },
  {
   "cell_type": "code",
   "execution_count": null,
   "metadata": {},
   "outputs": [],
   "source": []
  },
  {
   "cell_type": "code",
   "execution_count": null,
   "metadata": {},
   "outputs": [],
   "source": []
  },
  {
   "cell_type": "code",
   "execution_count": null,
   "metadata": {},
   "outputs": [],
   "source": [
    "def max_sum(arr):\n",
    "    \n",
    "    for i in range(len(arr)):\n",
    "        max_ending = np.argmax([arr(i), arr(i) + max_ending])\n",
    "        "
   ]
  },
  {
   "cell_type": "code",
   "execution_count": null,
   "metadata": {},
   "outputs": [],
   "source": []
  },
  {
   "cell_type": "code",
   "execution_count": null,
   "metadata": {},
   "outputs": [],
   "source": []
  },
  {
   "cell_type": "code",
   "execution_count": null,
   "metadata": {},
   "outputs": [],
   "source": [
    "max_sum(dont_hate(z)[0])"
   ]
  },
  {
   "cell_type": "code",
   "execution_count": null,
   "metadata": {},
   "outputs": [],
   "source": []
  }
 ],
 "metadata": {
  "kernelspec": {
   "display_name": "Python 3",
   "language": "python",
   "name": "python3"
  },
  "language_info": {
   "codemirror_mode": {
    "name": "ipython",
    "version": 3
   },
   "file_extension": ".py",
   "mimetype": "text/x-python",
   "name": "python",
   "nbconvert_exporter": "python",
   "pygments_lexer": "ipython3",
   "version": "3.6.5"
  }
 },
 "nbformat": 4,
 "nbformat_minor": 2
}
