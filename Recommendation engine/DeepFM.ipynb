{
 "cells": [
  {
   "cell_type": "markdown",
   "metadata": {},
   "source": [
    "# DeepFM\n",
    "\n",
    "- https://arxiv.org/pdf/1804.04950.pdf **\n",
    "- https://arxiv.org/pdf/1703.04247.pdf\n",
    "- https://arxiv.org/pdf/1606.07792.pdf\n",
    "- https://youtu.be/MMTuoFFRCCs\n",
    "- https://www.youtube.com/watch?v=1cRGpDXTJC8\n",
    "- https://6chaoran.wordpress.com/2019/01/03/implement-deepfm-model-in-keras/"
   ]
  },
  {
   "cell_type": "code",
   "execution_count": 9,
   "metadata": {},
   "outputs": [],
   "source": [
    "import os\n",
    "import pandas as pd\n",
    "import numpy as np\n",
    "from keras.layers import Input, Embedding, Reshape, Flatten, Dense, Dropout, BatchNormalization"
   ]
  },
  {
   "cell_type": "code",
   "execution_count": 2,
   "metadata": {},
   "outputs": [],
   "source": [
    "path = '/Users/akshay/Dropbox/Personal/Data Science/Codes/Projects Non Git/bank_products_data/'"
   ]
  },
  {
   "cell_type": "code",
   "execution_count": 3,
   "metadata": {},
   "outputs": [
    {
     "data": {
      "text/plain": [
       "['/Users/akshay/Dropbox/Personal/Data Science/Codes/Projects Non Git/bank_products_data/train_sample2m.csv',\n",
       " '/Users/akshay/Dropbox/Personal/Data Science/Codes/Projects Non Git/bank_products_data/train_ver2.csv',\n",
       " '/Users/akshay/Dropbox/Personal/Data Science/Codes/Projects Non Git/bank_products_data/sample_submission.csv',\n",
       " '/Users/akshay/Dropbox/Personal/Data Science/Codes/Projects Non Git/bank_products_data/test_ver2.csv']"
      ]
     },
     "execution_count": 3,
     "metadata": {},
     "output_type": "execute_result"
    }
   ],
   "source": [
    "files = [f for r,d,f in os.walk(path)][0]\n",
    "filepaths = [path+i for i in files[1:]]\n",
    "filepaths"
   ]
  },
  {
   "cell_type": "code",
   "execution_count": 4,
   "metadata": {},
   "outputs": [
    {
     "name": "stderr",
     "output_type": "stream",
     "text": [
      "/Users/akshay/anaconda3/lib/python3.7/site-packages/IPython/core/interactiveshell.py:3049: DtypeWarning: Columns (13,17) have mixed types. Specify dtype option on import or set low_memory=False.\n",
      "  interactivity=interactivity, compiler=compiler, result=result)\n",
      "/Users/akshay/anaconda3/lib/python3.7/site-packages/IPython/core/interactiveshell.py:3049: DtypeWarning: Columns (15) have mixed types. Specify dtype option on import or set low_memory=False.\n",
      "  interactivity=interactivity, compiler=compiler, result=result)\n"
     ]
    }
   ],
   "source": [
    "train = pd.read_csv(filepaths[0])\n",
    "test = pd.read_csv(filepaths[3])\n",
    "samplesubmission = pd.read_csv(filepaths[2])\n",
    "\n",
    "train.drop(['Unnamed: 0','index'], axis=1, inplace=True)"
   ]
  },
  {
   "cell_type": "code",
   "execution_count": 5,
   "metadata": {},
   "outputs": [],
   "source": [
    "train.columns = ['partition',\n",
    "                 'customer_code',\n",
    "                 'employee_index',\n",
    "                 'country',\n",
    "                 'sex',\n",
    "                 'age',\n",
    "                 'contract_date',\n",
    "                 'new_customer_index',\n",
    "                 'seniority',\n",
    "                 'primary_status',\n",
    "                 'last_date_primary',\n",
    "                 'customer_type_startmonth',\n",
    "                 'relation_type',\n",
    "                 'residence_index',\n",
    "                 'foreign_index',\n",
    "                 'spouse',\n",
    "                 'join_channel',\n",
    "                 'deceased_index',\n",
    "                 'address_type',\n",
    "                 'province_code',\n",
    "                 'province_name',\n",
    "                 'activity_index',\n",
    "                 'gross_income',\n",
    "                 'segment',\n",
    "                 'savings_account',\n",
    "                 'guarantees',\n",
    "                 'current_account',\n",
    "                 'derivada_account',\n",
    "                 'payroll_account',\n",
    "                 'junior_account',\n",
    "                 'mas_particular_account',\n",
    "                 'particular_account',\n",
    "                 'particular_plus_account',\n",
    "                 'short_term_deposits',\n",
    "                 'medium_term_deposits',\n",
    "                 'long_term_deposits',\n",
    "                 'e_account',\n",
    "                 'funds',\n",
    "                 'mortgage',\n",
    "                 'pensions',\n",
    "                 'loans',\n",
    "                 'taxes',\n",
    "                 'credit_card',\n",
    "                 'securities',\n",
    "                 'home_account',\n",
    "                 'payroll',\n",
    "                 'pensions',\n",
    "                 'direct_debit']"
   ]
  },
  {
   "cell_type": "code",
   "execution_count": 6,
   "metadata": {},
   "outputs": [
    {
     "data": {
      "text/html": [
       "<div>\n",
       "<style scoped>\n",
       "    .dataframe tbody tr th:only-of-type {\n",
       "        vertical-align: middle;\n",
       "    }\n",
       "\n",
       "    .dataframe tbody tr th {\n",
       "        vertical-align: top;\n",
       "    }\n",
       "\n",
       "    .dataframe thead th {\n",
       "        text-align: right;\n",
       "    }\n",
       "</style>\n",
       "<table border=\"1\" class=\"dataframe\">\n",
       "  <thead>\n",
       "    <tr style=\"text-align: right;\">\n",
       "      <th></th>\n",
       "      <th>partition</th>\n",
       "      <th>customer_code</th>\n",
       "      <th>employee_index</th>\n",
       "      <th>country</th>\n",
       "      <th>sex</th>\n",
       "      <th>age</th>\n",
       "      <th>contract_date</th>\n",
       "      <th>new_customer_index</th>\n",
       "      <th>seniority</th>\n",
       "      <th>primary_status</th>\n",
       "      <th>...</th>\n",
       "      <th>mortgage</th>\n",
       "      <th>pensions</th>\n",
       "      <th>loans</th>\n",
       "      <th>taxes</th>\n",
       "      <th>credit_card</th>\n",
       "      <th>securities</th>\n",
       "      <th>home_account</th>\n",
       "      <th>payroll</th>\n",
       "      <th>pensions</th>\n",
       "      <th>direct_debit</th>\n",
       "    </tr>\n",
       "  </thead>\n",
       "  <tbody>\n",
       "    <tr>\n",
       "      <th>0</th>\n",
       "      <td>2016-03-28</td>\n",
       "      <td>1190588</td>\n",
       "      <td>N</td>\n",
       "      <td>ES</td>\n",
       "      <td>H</td>\n",
       "      <td>22</td>\n",
       "      <td>2013-10-04</td>\n",
       "      <td>0.0</td>\n",
       "      <td>29</td>\n",
       "      <td>1.0</td>\n",
       "      <td>...</td>\n",
       "      <td>0</td>\n",
       "      <td>0</td>\n",
       "      <td>0</td>\n",
       "      <td>0</td>\n",
       "      <td>0</td>\n",
       "      <td>0</td>\n",
       "      <td>0</td>\n",
       "      <td>0.0</td>\n",
       "      <td>0.0</td>\n",
       "      <td>0</td>\n",
       "    </tr>\n",
       "    <tr>\n",
       "      <th>1</th>\n",
       "      <td>2016-03-28</td>\n",
       "      <td>1190589</td>\n",
       "      <td>N</td>\n",
       "      <td>ES</td>\n",
       "      <td>H</td>\n",
       "      <td>23</td>\n",
       "      <td>2013-10-04</td>\n",
       "      <td>0.0</td>\n",
       "      <td>29</td>\n",
       "      <td>1.0</td>\n",
       "      <td>...</td>\n",
       "      <td>0</td>\n",
       "      <td>0</td>\n",
       "      <td>0</td>\n",
       "      <td>0</td>\n",
       "      <td>0</td>\n",
       "      <td>0</td>\n",
       "      <td>0</td>\n",
       "      <td>0.0</td>\n",
       "      <td>0.0</td>\n",
       "      <td>0</td>\n",
       "    </tr>\n",
       "    <tr>\n",
       "      <th>2</th>\n",
       "      <td>2016-03-28</td>\n",
       "      <td>1190590</td>\n",
       "      <td>N</td>\n",
       "      <td>ES</td>\n",
       "      <td>V</td>\n",
       "      <td>22</td>\n",
       "      <td>2013-10-04</td>\n",
       "      <td>0.0</td>\n",
       "      <td>29</td>\n",
       "      <td>1.0</td>\n",
       "      <td>...</td>\n",
       "      <td>0</td>\n",
       "      <td>0</td>\n",
       "      <td>0</td>\n",
       "      <td>0</td>\n",
       "      <td>0</td>\n",
       "      <td>0</td>\n",
       "      <td>0</td>\n",
       "      <td>0.0</td>\n",
       "      <td>0.0</td>\n",
       "      <td>0</td>\n",
       "    </tr>\n",
       "    <tr>\n",
       "      <th>3</th>\n",
       "      <td>2016-03-28</td>\n",
       "      <td>1190591</td>\n",
       "      <td>N</td>\n",
       "      <td>ES</td>\n",
       "      <td>H</td>\n",
       "      <td>26</td>\n",
       "      <td>2013-10-04</td>\n",
       "      <td>0.0</td>\n",
       "      <td>29</td>\n",
       "      <td>1.0</td>\n",
       "      <td>...</td>\n",
       "      <td>0</td>\n",
       "      <td>0</td>\n",
       "      <td>0</td>\n",
       "      <td>0</td>\n",
       "      <td>0</td>\n",
       "      <td>0</td>\n",
       "      <td>0</td>\n",
       "      <td>0.0</td>\n",
       "      <td>0.0</td>\n",
       "      <td>0</td>\n",
       "    </tr>\n",
       "    <tr>\n",
       "      <th>4</th>\n",
       "      <td>2016-03-28</td>\n",
       "      <td>1190592</td>\n",
       "      <td>N</td>\n",
       "      <td>ES</td>\n",
       "      <td>H</td>\n",
       "      <td>29</td>\n",
       "      <td>2013-10-04</td>\n",
       "      <td>0.0</td>\n",
       "      <td>29</td>\n",
       "      <td>1.0</td>\n",
       "      <td>...</td>\n",
       "      <td>0</td>\n",
       "      <td>0</td>\n",
       "      <td>0</td>\n",
       "      <td>0</td>\n",
       "      <td>0</td>\n",
       "      <td>0</td>\n",
       "      <td>0</td>\n",
       "      <td>0.0</td>\n",
       "      <td>0.0</td>\n",
       "      <td>0</td>\n",
       "    </tr>\n",
       "  </tbody>\n",
       "</table>\n",
       "<p>5 rows × 48 columns</p>\n",
       "</div>"
      ],
      "text/plain": [
       "    partition  customer_code employee_index country sex  age contract_date  \\\n",
       "0  2016-03-28        1190588              N      ES   H   22    2013-10-04   \n",
       "1  2016-03-28        1190589              N      ES   H   23    2013-10-04   \n",
       "2  2016-03-28        1190590              N      ES   V   22    2013-10-04   \n",
       "3  2016-03-28        1190591              N      ES   H   26    2013-10-04   \n",
       "4  2016-03-28        1190592              N      ES   H   29    2013-10-04   \n",
       "\n",
       "   new_customer_index  seniority  primary_status  ... mortgage  pensions  \\\n",
       "0                 0.0         29             1.0  ...        0         0   \n",
       "1                 0.0         29             1.0  ...        0         0   \n",
       "2                 0.0         29             1.0  ...        0         0   \n",
       "3                 0.0         29             1.0  ...        0         0   \n",
       "4                 0.0         29             1.0  ...        0         0   \n",
       "\n",
       "  loans taxes credit_card securities home_account payroll  pensions  \\\n",
       "0     0     0           0          0            0     0.0       0.0   \n",
       "1     0     0           0          0            0     0.0       0.0   \n",
       "2     0     0           0          0            0     0.0       0.0   \n",
       "3     0     0           0          0            0     0.0       0.0   \n",
       "4     0     0           0          0            0     0.0       0.0   \n",
       "\n",
       "   direct_debit  \n",
       "0             0  \n",
       "1             0  \n",
       "2             0  \n",
       "3             0  \n",
       "4             0  \n",
       "\n",
       "[5 rows x 48 columns]"
      ]
     },
     "execution_count": 6,
     "metadata": {},
     "output_type": "execute_result"
    }
   ],
   "source": [
    "train.head()"
   ]
  },
  {
   "cell_type": "code",
   "execution_count": 14,
   "metadata": {},
   "outputs": [],
   "source": [
    "product_fields = list(train.columns[-24:])"
   ]
  },
  {
   "cell_type": "code",
   "execution_count": 15,
   "metadata": {},
   "outputs": [],
   "source": [
    "train1 = train[product_fields]"
   ]
  },
  {
   "cell_type": "code",
   "execution_count": 19,
   "metadata": {},
   "outputs": [],
   "source": [
    "inputs = []\n",
    "outputs = []"
   ]
  },
  {
   "cell_type": "code",
   "execution_count": 20,
   "metadata": {},
   "outputs": [],
   "source": [
    "for p in product_fields:\n",
    "    inp = Input(shape=(1,))\n",
    "    out = Embedding(2,10,name=p)(inp)\n",
    "    \n",
    "    inputs.append(inp)\n",
    "    outputs.append(out)\n",
    "    \n",
    "for i in range()"
   ]
  },
  {
   "cell_type": "code",
   "execution_count": null,
   "metadata": {},
   "outputs": [],
   "source": []
  },
  {
   "cell_type": "code",
   "execution_count": null,
   "metadata": {},
   "outputs": [],
   "source": []
  },
  {
   "cell_type": "code",
   "execution_count": null,
   "metadata": {},
   "outputs": [],
   "source": []
  },
  {
   "cell_type": "code",
   "execution_count": null,
   "metadata": {},
   "outputs": [],
   "source": []
  },
  {
   "cell_type": "code",
   "execution_count": null,
   "metadata": {},
   "outputs": [],
   "source": []
  },
  {
   "cell_type": "code",
   "execution_count": null,
   "metadata": {},
   "outputs": [],
   "source": []
  },
  {
   "cell_type": "code",
   "execution_count": null,
   "metadata": {},
   "outputs": [],
   "source": []
  },
  {
   "cell_type": "code",
   "execution_count": null,
   "metadata": {},
   "outputs": [],
   "source": []
  },
  {
   "cell_type": "code",
   "execution_count": null,
   "metadata": {},
   "outputs": [],
   "source": []
  },
  {
   "cell_type": "code",
   "execution_count": null,
   "metadata": {},
   "outputs": [],
   "source": []
  },
  {
   "cell_type": "code",
   "execution_count": null,
   "metadata": {},
   "outputs": [],
   "source": []
  },
  {
   "cell_type": "code",
   "execution_count": null,
   "metadata": {},
   "outputs": [],
   "source": []
  },
  {
   "cell_type": "code",
   "execution_count": null,
   "metadata": {},
   "outputs": [],
   "source": [
    "train_big = pd.read_csv(filepaths[1])"
   ]
  },
  {
   "cell_type": "code",
   "execution_count": null,
   "metadata": {},
   "outputs": [],
   "source": []
  },
  {
   "cell_type": "code",
   "execution_count": null,
   "metadata": {},
   "outputs": [],
   "source": []
  },
  {
   "cell_type": "code",
   "execution_count": null,
   "metadata": {},
   "outputs": [],
   "source": []
  },
  {
   "cell_type": "code",
   "execution_count": null,
   "metadata": {},
   "outputs": [],
   "source": []
  },
  {
   "cell_type": "raw",
   "metadata": {},
   "source": []
  }
 ],
 "metadata": {
  "kernelspec": {
   "display_name": "Python 3",
   "language": "python",
   "name": "python3"
  },
  "language_info": {
   "codemirror_mode": {
    "name": "ipython",
    "version": 3
   },
   "file_extension": ".py",
   "mimetype": "text/x-python",
   "name": "python",
   "nbconvert_exporter": "python",
   "pygments_lexer": "ipython3",
   "version": "3.7.3"
  }
 },
 "nbformat": 4,
 "nbformat_minor": 2
}
