{
 "cells": [
  {
   "cell_type": "markdown",
   "metadata": {},
   "source": [
    "# Tensorflow tutorial, Edureka - Youtube"
   ]
  },
  {
   "cell_type": "code",
   "execution_count": 1,
   "metadata": {},
   "outputs": [],
   "source": [
    "import tensorflow as tf\n",
    "import os\n",
    "import glob\n",
    "\n",
    "def clear_logs():\n",
    "    files = glob.glob('/Users/akshay/Dropbox/Personal/Data Science/iPython/Personal/Tensorflow/graph/*')\n",
    "    for f in files:\n",
    "        os.remove(f)"
   ]
  },
  {
   "cell_type": "code",
   "execution_count": 2,
   "metadata": {},
   "outputs": [
    {
     "name": "stdout",
     "output_type": "stream",
     "text": [
      "Variables initialized...\n",
      "Training started...\n",
      "Training completed...\n",
      "[array([-0.99999952], dtype=float32), array([ 0.99999833], dtype=float32)]\n"
     ]
    }
   ],
   "source": [
    "#Variables\n",
    "W = tf.Variable([.3],tf.float32)\n",
    "b = tf.Variable([-.3],tf.float32)\n",
    "\n",
    "#Inputs and outputs\n",
    "x = tf.placeholder(tf.float32)\n",
    "linear_model = W*x+b\n",
    "y = tf.placeholder(tf.float32)\n",
    "\n",
    "#Loss\n",
    "square_delta = tf.square(linear_model-y)\n",
    "loss = tf.reduce_sum(square_delta)\n",
    "\n",
    "#Optimizer\n",
    "optimizer = tf.train.GradientDescentOptimizer(0.01)\n",
    "train = optimizer.minimize(loss)\n",
    "\n",
    "init = tf.global_variables_initializer()\n",
    "\n",
    "sess = tf.Session()\n",
    "print(\"Variables initialized...\")\n",
    "sess.run(init)\n",
    "\n",
    "print(\"Training started...\")\n",
    "for i in range(1000):\n",
    "    sess.run(train, {x:[1,2,3,4,5] , y:[0,-1,-2,-3,-4]})\n",
    "print(\"Training completed...\")\n",
    "output = sess.run([W,b])\n",
    "print(output)\n",
    "    \n",
    "sess.close()"
   ]
  },
  {
   "cell_type": "code",
   "execution_count": 3,
   "metadata": {},
   "outputs": [],
   "source": [
    "clear_logs()"
   ]
  },
  {
   "cell_type": "code",
   "execution_count": 4,
   "metadata": {},
   "outputs": [],
   "source": [
    "File_Writer = tf.summary.FileWriter(\"/Users/akshay/Dropbox/Personal/Data Science/iPython/Personal/Tensorflow/graph\",sess.graph)"
   ]
  },
  {
   "cell_type": "code",
   "execution_count": null,
   "metadata": {},
   "outputs": [],
   "source": []
  }
 ],
 "metadata": {
  "kernelspec": {
   "display_name": "Python 3",
   "language": "python",
   "name": "python3"
  },
  "language_info": {
   "codemirror_mode": {
    "name": "ipython",
    "version": 3
   },
   "file_extension": ".py",
   "mimetype": "text/x-python",
   "name": "python",
   "nbconvert_exporter": "python",
   "pygments_lexer": "ipython3",
   "version": "3.6.5"
  }
 },
 "nbformat": 4,
 "nbformat_minor": 2
}
