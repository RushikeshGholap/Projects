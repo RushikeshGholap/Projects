{
 "cells": [
  {
   "cell_type": "markdown",
   "metadata": {
    "colab_type": "text",
    "id": "srIywk25nD4C"
   },
   "source": [
    "<img src=\"https://github.com/insaid2018/Term-1/blob/master/Images/INSAID_Full%20Logo.png?raw=true\" width=\"240\" height=\"360\" /><br><br><br><br><br>\n",
    "\n",
    "\n",
    "\n",
    "<img src = 'https://raw.githubusercontent.com/insaid2018/DeepLearning/master/image/jupyter_colab_small_axbdcm.png'>\n",
    "\n",
    "                                                                                                    Source - Nico Holmberg"
   ]
  },
  {
   "cell_type": "markdown",
   "metadata": {
    "colab_type": "text",
    "collapsed": true,
    "id": "ajCSwr3inD4C"
   },
   "source": [
    "### Table of Content\n",
    "\n",
    "\n",
    "1. [The Cloud and its Importance](#section1)<br>\n",
    "2. [Hello Google Colab](#section2)<br>\n",
    "3. [Saving and Loading in Colab](#section3)<br>\n",
    "    - 3.1 [Uploading files from your local file system](#section301)<br>\n",
    "    - 3.2 [Downloading files to your local file system](#section302)<br>\n",
    "4. [Utilizing Libraries and Colab GPU](#section4)<br>\n",
    "    - 4.1 [Utilizing the Libraries](#section401)<br>\n",
    "    - 4.2 [Checking Cloud GPU](#section402)<br>\n",
    "5. [Using Interactive Parameters](#section5)<br>\n",
    "6. [Running a Machine Learning model on Colab](#section6)<br>"
   ]
  },
  {
   "cell_type": "markdown",
   "metadata": {
    "colab_type": "text",
    "id": "bxosBr8anD4E"
   },
   "source": [
    "Note - This notebook is intended to be run on Colab. Parts of it may not work properly if opened directly via jupyter notebook."
   ]
  },
  {
   "cell_type": "markdown",
   "metadata": {
    "colab_type": "text",
    "id": "EToWtKxPnD4E"
   },
   "source": [
    "<a id=section1></a>"
   ]
  },
  {
   "cell_type": "markdown",
   "metadata": {
    "colab_type": "text",
    "id": "vVr2_zKgnD4F"
   },
   "source": [
    "# 1. The Cloud and its Importance"
   ]
  },
  {
   "cell_type": "markdown",
   "metadata": {
    "colab_type": "text",
    "id": "1UOO7BWtnD4G"
   },
   "source": [
    "<img src = 'https://raw.githubusercontent.com/insaid2018/DeepLearning/master/image/cloud-computing-and-android-applications.jpg'>\n",
    "\n",
    "                                                                                                           Source - MilesWeb"
   ]
  },
  {
   "cell_type": "markdown",
   "metadata": {
    "colab_type": "text",
    "id": "zx7D5mTvnD4G"
   },
   "source": [
    "* Cloud computing is the __delivery of computing services over the internet__ (*The Cloud*)\n",
    "* __Servers, storage, databases, networking, software, analytics, intelligence__ and more\n",
    "* __Cloud technologies__ have been in the market for __over 20 years.__\n",
    "* Really came __into the limelight around 10 years back__ with __Amazon__ releasing its __Elastic Compute Cloud.__\n",
    "* This was swiftly followed by __Microsoft Azure, IBM SmartCloud and Google Cloud Engine.__"
   ]
  },
  {
   "cell_type": "markdown",
   "metadata": {
    "colab_type": "text",
    "id": "v0TitvTQnD4H"
   },
   "source": [
    "<img src = 'https://raw.githubusercontent.com/insaid2018/DeepLearning/master/image/SMBcloud1.jpg'>\n",
    "\n",
    "                                                                                                     Source - CBSIstatic"
   ]
  },
  {
   "cell_type": "markdown",
   "metadata": {
    "colab_type": "text",
    "id": "aYxXPRrqnD4J"
   },
   "source": [
    "## 1.1 Why the Cloud?"
   ]
  },
  {
   "cell_type": "markdown",
   "metadata": {
    "colab_type": "text",
    "id": "bfcD660enD4K"
   },
   "source": [
    "<img src = 'https://raw.githubusercontent.com/insaid2018/DeepLearning/master/image/Cloud_computing.svg.png'>\n",
    "\n",
    "                                                                                                     Source - Introviz "
   ]
  },
  {
   "cell_type": "markdown",
   "metadata": {
    "colab_type": "text",
    "id": "QLpzdZqUnD4K"
   },
   "source": [
    "* Cloud provides __easy access__ for __uploads and downloads anywhere, anytime__.\n",
    "* It is __easy to maintain, connect and save cost__ for storing data.\n",
    "* Many applications like __Google mail, Google drive, dropbox__, etc. are examples of Cloud Technologies."
   ]
  },
  {
   "cell_type": "markdown",
   "metadata": {
    "colab_type": "text",
    "id": "7gU1zYBunD4M"
   },
   "source": [
    "## 1.2 Utilizing Cloud Support for Machine/Deep Learning"
   ]
  },
  {
   "cell_type": "markdown",
   "metadata": {
    "colab_type": "text",
    "id": "6xFUA-lvnD4M"
   },
   "source": [
    "<img src = 'https://raw.githubusercontent.com/insaid2018/DeepLearning/master/image/cloud_ml.png'>\n",
    "                                                                                                     \n",
    "                                                                                                     Source - CloudTweaks"
   ]
  },
  {
   "cell_type": "markdown",
   "metadata": {
    "colab_type": "text",
    "id": "ykHCK5H4nD4N"
   },
   "source": [
    "* Its extremely __hard for casual learners and developers to build servers__ for storing and __GPUs__ for processing data.\n",
    "* __Cloud provides the cornerstone for Deep Learning enthusiasts__ to try and test their models from anywhere.\n",
    "* Deep Learning is a technology aided by __massive computational power__, without it, Deep Learning fails to perform well."
   ]
  },
  {
   "cell_type": "markdown",
   "metadata": {
    "colab_type": "text",
    "id": "itCpLE5tnD4O"
   },
   "source": [
    "<img src = 'https://raw.githubusercontent.com/insaid2018/DeepLearning/master/image/Conceptual-architecture-of-Fog-Cloud-Computing-infrastructure.png'>\n",
    "\n",
    "                                                                                                     Source - Qubole"
   ]
  },
  {
   "cell_type": "markdown",
   "metadata": {
    "colab_type": "text",
    "id": "Bfo4oNuLnD4O"
   },
   "source": [
    "<a id=section2></a>"
   ]
  },
  {
   "cell_type": "markdown",
   "metadata": {
    "colab_type": "text",
    "id": "RLfX9DxQnD4Q"
   },
   "source": [
    "# 2. Hello Google Colab"
   ]
  },
  {
   "cell_type": "markdown",
   "metadata": {
    "colab_type": "text",
    "id": "dv4OhZMTnD4Q"
   },
   "source": [
    "<img src = 'https://raw.githubusercontent.com/insaid2018/DeepLearning/master/image/1_9gjKPb7BhB87KY-7fBxrAg.png'>\n",
    "\n",
    "                                                                                                     Source - Medium"
   ]
  },
  {
   "cell_type": "markdown",
   "metadata": {
    "colab_type": "text",
    "id": "rsWPXcq3nD4R"
   },
   "source": [
    "* Google Colaboratory or Colab is a cloud service __akin to Amazon Web Services, except that its free!__\n",
    "* This obviously means that its __intended for small projects__ and single developers to use.\n",
    "* It is very __convenient to use Colab paired with Google Drive.__\n",
    "* Colab offers free __CPU, Tesla K80 GPU and even TPU__ (Tensor Processing Unit) support."
   ]
  },
  {
   "cell_type": "markdown",
   "metadata": {
    "colab_type": "text",
    "id": "YqMPGRDtnD4S"
   },
   "source": [
    "# Getting Colab Ready to Use"
   ]
  },
  {
   "cell_type": "markdown",
   "metadata": {
    "colab_type": "text",
    "id": "L6gWfAvinD4T"
   },
   "source": [
    "### Step 1. Google Drive"
   ]
  },
  {
   "cell_type": "markdown",
   "metadata": {
    "colab_type": "text",
    "id": "nC_rTelonD4U"
   },
   "source": [
    "You just __need a Google account__ for this. If you don't have one, make it now and __go to your Google Drive.__"
   ]
  },
  {
   "cell_type": "markdown",
   "metadata": {
    "colab_type": "text",
    "id": "lx6HoWhVnD4V"
   },
   "source": [
    "### Step 2. Create a Folder in Your Drive"
   ]
  },
  {
   "cell_type": "markdown",
   "metadata": {
    "colab_type": "text",
    "id": "aJAfz4StnD4V"
   },
   "source": [
    "<img src = 'https://raw.githubusercontent.com/insaid2018/DeepLearning/master/image/1_9x6GVBOwbAEsx7h8k5ruBw.jpeg'>\n",
    "\n",
    "                                                                                                     Source - Medium"
   ]
  },
  {
   "cell_type": "markdown",
   "metadata": {
    "colab_type": "text",
    "id": "ERuzqrnAnD4W"
   },
   "source": [
    "__Right click to open the menu__ and __create a folder__ to do your project."
   ]
  },
  {
   "cell_type": "markdown",
   "metadata": {
    "colab_type": "text",
    "id": "dAIznNQFnD4Y"
   },
   "source": [
    "### Step 3. Create a Colab Notebook inside the Folder"
   ]
  },
  {
   "cell_type": "markdown",
   "metadata": {
    "colab_type": "text",
    "id": "yMsuREGMnD4Z"
   },
   "source": [
    "<img src = 'https://raw.githubusercontent.com/insaid2018/DeepLearning/master/image/1_7XLisHAnGGnflIYyqQja8Q.jpeg'>\n",
    "\n",
    "                                                                                                     Source - Medium"
   ]
  },
  {
   "cell_type": "markdown",
   "metadata": {
    "colab_type": "text",
    "id": "APY7hOr6nD4Z"
   },
   "source": [
    "Check under *More* to see the __Colaboratory option.__"
   ]
  },
  {
   "cell_type": "markdown",
   "metadata": {
    "colab_type": "text",
    "id": "dKI89dVqnD4a"
   },
   "source": [
    "### Step 4. Setting Free GPU"
   ]
  },
  {
   "cell_type": "markdown",
   "metadata": {
    "colab_type": "text",
    "id": "5-mqxu70nD4c"
   },
   "source": [
    "<img src = 'https://raw.githubusercontent.com/insaid2018/DeepLearning/master/image/1_WNovJnpGMOys8Rv7YIsZzA.png'>\n",
    "\n",
    "                                                                                                     Source - Medium"
   ]
  },
  {
   "cell_type": "markdown",
   "metadata": {
    "colab_type": "text",
    "id": "q6yLYc43nD4d"
   },
   "source": [
    "* It is so __simple to alter default hardware__ (CPU to GPU or vice versa) (We will cover TPUs later on)\n",
    "* Just follow *Edit* > *Notebook settings* or *Runtime* > *Change runtime type* and select *GPU* as Hardware accelerator."
   ]
  },
  {
   "cell_type": "markdown",
   "metadata": {
    "colab_type": "text",
    "id": "oZ9YCOHZnD4d"
   },
   "source": [
    "### Step 5. Test Out Your Notebook"
   ]
  },
  {
   "cell_type": "markdown",
   "metadata": {
    "colab_type": "text",
    "id": "gCA71eUtnD4e"
   },
   "source": [
    "<img src = 'https://raw.githubusercontent.com/insaid2018/DeepLearning/master/image/1_02ylPr7JIn_qiJkc4iprpw.png'>\n",
    "\n",
    "                                                                                                     Source - Medium"
   ]
  },
  {
   "cell_type": "markdown",
   "metadata": {
    "colab_type": "text",
    "id": "_5C6VBTinD4f"
   },
   "source": [
    "Test your notebook by __running few basic Python commands.__ Now you can __get started with any project__ you want."
   ]
  },
  {
   "cell_type": "markdown",
   "metadata": {
    "colab_type": "text",
    "id": "D5uc7G5GnD4f"
   },
   "source": [
    "<a id=section3></a>"
   ]
  },
  {
   "cell_type": "markdown",
   "metadata": {
    "colab_type": "text",
    "id": "dDtg87uknD4g"
   },
   "source": [
    "# 3. Saving and Loading in Colab"
   ]
  },
  {
   "cell_type": "markdown",
   "metadata": {
    "colab_type": "text",
    "id": "-indQ7bOnD4h"
   },
   "source": [
    "<a id=section301></a>"
   ]
  },
  {
   "cell_type": "markdown",
   "metadata": {
    "colab_type": "text",
    "id": "1xpq5RWdnD4i"
   },
   "source": [
    "## 3.1 Uploading files from your local file system"
   ]
  },
  {
   "cell_type": "markdown",
   "metadata": {
    "colab_type": "text",
    "id": "NfNSAqMinD4j"
   },
   "source": [
    "* This will allow you to __upload and use, say a CSV for example__, to use as your dataset.\n",
    "* `files.upload` returns a dictionary of the files which were uploaded.\n",
    "* In the dictionary, __file name is key, data uploaded is the value__."
   ]
  },
  {
   "cell_type": "code",
   "execution_count": 0,
   "metadata": {
    "colab": {},
    "colab_type": "code",
    "id": "oux3WnoinD4k"
   },
   "outputs": [],
   "source": [
    "from google.colab import files\n",
    "\n",
    "uploaded = files.upload()\n",
    "\n",
    "for fn in uploaded.keys():\n",
    "  print('User uploaded file \"{name}\" with length {length} bytes'.format(\n",
    "      name=fn, length=len(uploaded[fn])))"
   ]
  },
  {
   "cell_type": "markdown",
   "metadata": {
    "colab_type": "text",
    "id": "tHP63tpcnD4n"
   },
   "source": [
    "<a id=section302></a>"
   ]
  },
  {
   "cell_type": "markdown",
   "metadata": {
    "colab_type": "text",
    "id": "yztEDBJZnD4o"
   },
   "source": [
    "## 3.2 Downloading files to your local file system"
   ]
  },
  {
   "cell_type": "markdown",
   "metadata": {
    "colab_type": "text",
    "id": "PzFIOPPKnD4p"
   },
   "source": [
    "`files.download` will invoke a __browser download of the file__ to the user's local computer."
   ]
  },
  {
   "cell_type": "code",
   "execution_count": 0,
   "metadata": {
    "colab": {},
    "colab_type": "code",
    "collapsed": true,
    "id": "GWZ51F0_nD4q",
    "outputId": "0fd56ea9-982a-4f86-b633-700b6440f875"
   },
   "outputs": [
    {
     "ename": "ModuleNotFoundError",
     "evalue": "No module named 'google.colab'",
     "output_type": "error",
     "traceback": [
      "\u001b[1;31m---------------------------------------------------------------------------\u001b[0m",
      "\u001b[1;31mModuleNotFoundError\u001b[0m                       Traceback (most recent call last)",
      "\u001b[1;32m<ipython-input-1-70ea835cfced>\u001b[0m in \u001b[0;36m<module>\u001b[1;34m()\u001b[0m\n\u001b[1;32m----> 1\u001b[1;33m \u001b[1;32mfrom\u001b[0m \u001b[0mgoogle\u001b[0m\u001b[1;33m.\u001b[0m\u001b[0mcolab\u001b[0m \u001b[1;32mimport\u001b[0m \u001b[0mfiles\u001b[0m\u001b[1;33m\u001b[0m\u001b[0m\n\u001b[0m\u001b[0;32m      2\u001b[0m \u001b[1;33m\u001b[0m\u001b[0m\n\u001b[0;32m      3\u001b[0m \u001b[1;32mwith\u001b[0m \u001b[0mopen\u001b[0m\u001b[1;33m(\u001b[0m\u001b[1;34m'example.txt'\u001b[0m\u001b[1;33m,\u001b[0m \u001b[1;34m'w'\u001b[0m\u001b[1;33m)\u001b[0m \u001b[1;32mas\u001b[0m \u001b[0mf\u001b[0m\u001b[1;33m:\u001b[0m\u001b[1;33m\u001b[0m\u001b[0m\n\u001b[0;32m      4\u001b[0m   \u001b[0mf\u001b[0m\u001b[1;33m.\u001b[0m\u001b[0mwrite\u001b[0m\u001b[1;33m(\u001b[0m\u001b[1;34m'some content'\u001b[0m\u001b[1;33m)\u001b[0m\u001b[1;33m\u001b[0m\u001b[0m\n\u001b[0;32m      5\u001b[0m \u001b[1;33m\u001b[0m\u001b[0m\n",
      "\u001b[1;31mModuleNotFoundError\u001b[0m: No module named 'google.colab'"
     ]
    }
   ],
   "source": [
    "from google.colab import files\n",
    "\n",
    "with open('example.txt', 'w') as f:\n",
    "  f.write('some content')\n",
    "\n",
    "files.download('example.txt')                                  "
   ]
  },
  {
   "cell_type": "markdown",
   "metadata": {
    "colab_type": "text",
    "id": "RYXmYDSsnD4v"
   },
   "source": [
    "<a id=section4></a>"
   ]
  },
  {
   "cell_type": "markdown",
   "metadata": {
    "colab_type": "text",
    "id": "UEyJrZd1nD4w"
   },
   "source": [
    "# 4. Utilizing Libraries and Cloud GPU"
   ]
  },
  {
   "cell_type": "markdown",
   "metadata": {
    "colab_type": "text",
    "id": "QmtGNxAVnD4x"
   },
   "source": [
    "<img src = 'https://raw.githubusercontent.com/insaid2018/DeepLearning/master/image/gpus-14ic8.max-700x700.PNG'>\n",
    "\n",
    "                                                                                                     Source - Google Cloud"
   ]
  },
  {
   "cell_type": "markdown",
   "metadata": {
    "colab_type": "text",
    "id": "DQYhRDZVnD4y"
   },
   "source": [
    "Colab usually offers __Tesla K80s as the GPU__ to regular users"
   ]
  },
  {
   "cell_type": "markdown",
   "metadata": {
    "colab_type": "text",
    "id": "oCOGrGqDnD4z"
   },
   "source": [
    "<a id=section401></a>"
   ]
  },
  {
   "cell_type": "markdown",
   "metadata": {
    "colab_type": "text",
    "id": "ABOmYjOJnD4z"
   },
   "source": [
    "## 4.1 Utilizing the Libraries"
   ]
  },
  {
   "cell_type": "markdown",
   "metadata": {
    "colab_type": "text",
    "id": "x47qsptznD41"
   },
   "source": [
    "TensorFlow is available by default but you can switch which version you're using."
   ]
  },
  {
   "cell_type": "code",
   "execution_count": 0,
   "metadata": {
    "colab": {},
    "colab_type": "code",
    "id": "H4QwzPI3nD42",
    "outputId": "c3511f1a-fe2b-4153-e9eb-0b8972bf9ba3",
    "scrolled": true
   },
   "outputs": [
    {
     "name": "stdout",
     "output_type": "stream",
     "text": [
      "Name: tensorflow\n",
      "Version: 1.12.0\n",
      "Summary: TensorFlow is an open source machine learning framework for everyone.\n",
      "Home-page: https://www.tensorflow.org/\n",
      "Author: Google Inc.\n",
      "Author-email: opensource@google.com\n",
      "License: Apache 2.0\n",
      "Location: c:\\users\\gdev\\appdata\\local\\programs\\python\\python36\\lib\\site-packages\n",
      "Requires: absl-py, wheel, protobuf, gast, tensorboard, keras-preprocessing, astor, six, grpcio, numpy, keras-applications, termcolor\n",
      "Required-by: \n",
      "Requirement already up-to-date: tensorflow in c:\\users\\gdev\\appdata\\local\\programs\\python\\python36\\lib\\site-packages (1.12.0)\n",
      "Requirement already satisfied, skipping upgrade: wheel>=0.26 in c:\\users\\gdev\\appdata\\local\\programs\\python\\python36\\lib\\site-packages (from tensorflow) (0.30.0)\n",
      "Requirement already satisfied, skipping upgrade: gast>=0.2.0 in c:\\users\\gdev\\appdata\\local\\programs\\python\\python36\\lib\\site-packages (from tensorflow) (0.2.0)\n",
      "Requirement already satisfied, skipping upgrade: protobuf>=3.6.1 in c:\\users\\gdev\\appdata\\local\\programs\\python\\python36\\lib\\site-packages (from tensorflow) (3.6.1)\n",
      "Requirement already satisfied, skipping upgrade: grpcio>=1.8.6 in c:\\users\\gdev\\appdata\\local\\programs\\python\\python36\\lib\\site-packages (from tensorflow) (1.16.0)\n",
      "Requirement already satisfied, skipping upgrade: absl-py>=0.1.6 in c:\\users\\gdev\\appdata\\local\\programs\\python\\python36\\lib\\site-packages (from tensorflow) (0.6.1)\n",
      "Requirement already satisfied, skipping upgrade: keras-applications>=1.0.6 in c:\\users\\gdev\\appdata\\local\\programs\\python\\python36\\lib\\site-packages (from tensorflow) (1.0.6)\n",
      "Requirement already satisfied, skipping upgrade: numpy>=1.13.3 in c:\\users\\gdev\\appdata\\local\\programs\\python\\python36\\lib\\site-packages (from tensorflow) (1.14.2)\n",
      "Requirement already satisfied, skipping upgrade: six>=1.10.0 in c:\\users\\gdev\\appdata\\local\\programs\\python\\python36\\lib\\site-packages (from tensorflow) (1.11.0)\n",
      "Requirement already satisfied, skipping upgrade: tensorboard<1.13.0,>=1.12.0 in c:\\users\\gdev\\appdata\\local\\programs\\python\\python36\\lib\\site-packages (from tensorflow) (1.12.0)\n",
      "Requirement already satisfied, skipping upgrade: astor>=0.6.0 in c:\\users\\gdev\\appdata\\local\\programs\\python\\python36\\lib\\site-packages (from tensorflow) (0.7.1)\n",
      "Requirement already satisfied, skipping upgrade: keras-preprocessing>=1.0.5 in c:\\users\\gdev\\appdata\\local\\programs\\python\\python36\\lib\\site-packages (from tensorflow) (1.0.5)\n",
      "Requirement already satisfied, skipping upgrade: termcolor>=1.1.0 in c:\\users\\gdev\\appdata\\local\\programs\\python\\python36\\lib\\site-packages (from tensorflow) (1.1.0)\n",
      "Requirement already satisfied, skipping upgrade: setuptools in c:\\users\\gdev\\appdata\\local\\programs\\python\\python36\\lib\\site-packages (from protobuf>=3.6.1->tensorflow) (36.6.0)\n",
      "Requirement already satisfied, skipping upgrade: h5py in c:\\users\\gdev\\appdata\\local\\programs\\python\\python36\\lib\\site-packages (from keras-applications>=1.0.6->tensorflow) (2.7.1)\n",
      "Requirement already satisfied, skipping upgrade: werkzeug>=0.11.10 in c:\\users\\gdev\\appdata\\local\\programs\\python\\python36\\lib\\site-packages (from tensorboard<1.13.0,>=1.12.0->tensorflow) (0.12.2)\n",
      "Requirement already satisfied, skipping upgrade: markdown>=2.6.8 in c:\\users\\gdev\\appdata\\local\\programs\\python\\python36\\lib\\site-packages (from tensorboard<1.13.0,>=1.12.0->tensorflow) (2.6.9)\n"
     ]
    }
   ],
   "source": [
    "# To determine which version you're using:\n",
    "!pip show tensorflow\n",
    "\n",
    "# For the current version:                         \n",
    "!pip install --upgrade tensorflow\n",
    "\n",
    "# For a specific version:\n",
    "# !pip install tensorflow==1.2\n",
    "\n",
    "# For the latest nightly build:\n",
    "# !pip install tf-nightly"
   ]
  },
  {
   "cell_type": "markdown",
   "metadata": {
    "colab_type": "text",
    "id": "xWbPvG6-nD46"
   },
   "source": [
    "To import a library that's __not in Colaboratory by default__, you can use `!pip install`, for e.g. -"
   ]
  },
  {
   "cell_type": "code",
   "execution_count": 0,
   "metadata": {
    "colab": {},
    "colab_type": "code",
    "id": "wTxM-yAonD47"
   },
   "outputs": [],
   "source": [
    "!pip install -q matplotlib-venn"
   ]
  },
  {
   "cell_type": "markdown",
   "metadata": {
    "colab_type": "text",
    "id": "KRXBy0CAnD49"
   },
   "source": [
    "<a id=section402></a>"
   ]
  },
  {
   "cell_type": "markdown",
   "metadata": {
    "colab_type": "text",
    "id": "jGo9rLGUnD4-"
   },
   "source": [
    "## 4.2 Checking Colab GPU"
   ]
  },
  {
   "cell_type": "markdown",
   "metadata": {
    "colab_type": "text",
    "id": "GGSQEOTinD4_"
   },
   "source": [
    "Simply select __\"GPU\" in the Accelerator drop-down in Notebook Settings__ (either through the Edit menu or the command palette at cmd/ctrl-shift-P)."
   ]
  },
  {
   "cell_type": "code",
   "execution_count": 0,
   "metadata": {
    "colab": {},
    "colab_type": "code",
    "collapsed": true,
    "id": "0HQpGAEQnD4_",
    "outputId": "b7fb324e-6ace-4416-8261-1a6f4513e3ad"
   },
   "outputs": [
    {
     "name": "stderr",
     "output_type": "stream",
     "text": [
      "c:\\users\\gdev\\appdata\\local\\programs\\python\\python36\\lib\\site-packages\\h5py\\__init__.py:36: FutureWarning: Conversion of the second argument of issubdtype from `float` to `np.floating` is deprecated. In future, it will be treated as `np.float64 == np.dtype(float).type`.\n",
      "  from ._conv import register_converters as _register_converters\n"
     ]
    },
    {
     "ename": "SystemError",
     "evalue": "GPU device not found",
     "output_type": "error",
     "traceback": [
      "\u001b[1;31m---------------------------------------------------------------------------\u001b[0m",
      "\u001b[1;31mSystemError\u001b[0m                               Traceback (most recent call last)",
      "\u001b[1;32m<ipython-input-4-5efe9ac0cfd8>\u001b[0m in \u001b[0;36m<module>\u001b[1;34m()\u001b[0m\n\u001b[0;32m      2\u001b[0m \u001b[0mdevice_name\u001b[0m \u001b[1;33m=\u001b[0m \u001b[0mtf\u001b[0m\u001b[1;33m.\u001b[0m\u001b[0mtest\u001b[0m\u001b[1;33m.\u001b[0m\u001b[0mgpu_device_name\u001b[0m\u001b[1;33m(\u001b[0m\u001b[1;33m)\u001b[0m\u001b[1;33m\u001b[0m\u001b[0m\n\u001b[0;32m      3\u001b[0m \u001b[1;32mif\u001b[0m \u001b[0mdevice_name\u001b[0m \u001b[1;33m!=\u001b[0m \u001b[1;34m'/device:GPU:0'\u001b[0m\u001b[1;33m:\u001b[0m\u001b[1;33m\u001b[0m\u001b[0m\n\u001b[1;32m----> 4\u001b[1;33m   \u001b[1;32mraise\u001b[0m \u001b[0mSystemError\u001b[0m\u001b[1;33m(\u001b[0m\u001b[1;34m'GPU device not found'\u001b[0m\u001b[1;33m)\u001b[0m\u001b[1;33m\u001b[0m\u001b[0m\n\u001b[0m\u001b[0;32m      5\u001b[0m \u001b[0mprint\u001b[0m\u001b[1;33m(\u001b[0m\u001b[1;34m'Found GPU at: {}'\u001b[0m\u001b[1;33m.\u001b[0m\u001b[0mformat\u001b[0m\u001b[1;33m(\u001b[0m\u001b[0mdevice_name\u001b[0m\u001b[1;33m)\u001b[0m\u001b[1;33m)\u001b[0m\u001b[1;33m\u001b[0m\u001b[0m\n",
      "\u001b[1;31mSystemError\u001b[0m: GPU device not found"
     ]
    }
   ],
   "source": [
    "import tensorflow as tf\n",
    "device_name = tf.test.gpu_device_name()\n",
    "if device_name != '/device:GPU:0':\n",
    "  raise SystemError('GPU device not found')\n",
    "print('Found GPU at: {}'.format(device_name))"
   ]
  },
  {
   "cell_type": "markdown",
   "metadata": {
    "colab_type": "text",
    "id": "TRASDU3WnD5E"
   },
   "source": [
    "<a id=section5></a>"
   ]
  },
  {
   "cell_type": "markdown",
   "metadata": {
    "colab_type": "text",
    "id": "V05VyrLynD5E"
   },
   "source": [
    "# 5. Using Interactive Parameters"
   ]
  },
  {
   "cell_type": "markdown",
   "metadata": {
    "colab_type": "text",
    "id": "pGv8dNlfnD5F"
   },
   "source": [
    "<img src = 'https://raw.githubusercontent.com/insaid2018/DeepLearning/master/image/form.png'>\n",
    "\n",
    "                                                                                                     Source - MCPmag"
   ]
  },
  {
   "cell_type": "markdown",
   "metadata": {
    "colab_type": "text",
    "id": "Obfj7VLSnD5G"
   },
   "source": [
    "* Using __Forms is an easy way to parameterize code.__ \n",
    "* From a code cell, __select Insert → Add form field.__\n",
    "* When you __change the value in a form__, the corresponding __value in the code will change.__"
   ]
  },
  {
   "cell_type": "code",
   "execution_count": 0,
   "metadata": {
    "colab": {},
    "colab_type": "code",
    "id": "C5XAY3PlnD5H"
   },
   "outputs": [],
   "source": [
    "#@title String fields\n",
    "\n",
    "text = 'value' #@param {type:\"string\"}\n",
    "dropdown = '1st option' #@param [\"1st option\", \"2nd option\", \"3rd option\"]\n",
    "text_and_dropdown = 'value' #@param [\"1st option\", \"2nd option\", \"3rd option\"] {allow-input: true}\n",
    "variable_name = \"2\"\n",
    "\n",
    "print(text)\n",
    "print(dropdown)\n",
    "print(text_and_dropdown)"
   ]
  },
  {
   "cell_type": "markdown",
   "metadata": {
    "colab_type": "text",
    "id": "EwNMwAA0nD5J"
   },
   "source": [
    "You can use __\"raw\" fields for random input__"
   ]
  },
  {
   "cell_type": "code",
   "execution_count": 0,
   "metadata": {
    "colab": {},
    "colab_type": "code",
    "id": "w9-p3xZ5nD5K"
   },
   "outputs": [],
   "source": [
    "#@title Raw fields\n",
    "\n",
    "raw_input = None #@param {type:\"raw\"}\n",
    "raw_dropdown = raw_input #@param [1, \"raw_input\", \"False\", \"'string'\"] {type:\"raw\"}\n",
    "\n",
    "print(raw_input)\n",
    "print(raw_dropdown)"
   ]
  },
  {
   "cell_type": "markdown",
   "metadata": {
    "colab_type": "text",
    "id": "qekpO_PtnD5N"
   },
   "source": [
    "Using __*date* as a parameter__ - "
   ]
  },
  {
   "cell_type": "code",
   "execution_count": 0,
   "metadata": {
    "colab": {},
    "colab_type": "code",
    "id": "cDUXhhkPnD5P",
    "outputId": "4b4287fd-9bbd-4a0c-d71c-f86cc5363da4"
   },
   "outputs": [
    {
     "name": "stdout",
     "output_type": "stream",
     "text": [
      "2018-03-22\n"
     ]
    }
   ],
   "source": [
    "#@title Date fields\n",
    "date_input = '2018-11-26' #@param {type:\"date\"}\n",
    "\n",
    "print(date_input)"
   ]
  },
  {
   "cell_type": "markdown",
   "metadata": {
    "colab_type": "text",
    "id": "FfKuq8zxnD5S"
   },
   "source": [
    "Using __numerical and slider__ inputs - "
   ]
  },
  {
   "cell_type": "code",
   "execution_count": 0,
   "metadata": {
    "colab": {},
    "colab_type": "code",
    "id": "fUj7dm8ynD5T",
    "outputId": "9fa87053-c277-4c1a-c661-fdea47a8d50c"
   },
   "outputs": [
    {
     "name": "stdout",
     "output_type": "stream",
     "text": [
      "10.0\n",
      "0\n",
      "10\n",
      "1\n"
     ]
    }
   ],
   "source": [
    "#@title Number fields\n",
    "number_input = 10.0 #@param {type:\"number\"}\n",
    "number_slider = 0 #@param {type:\"slider\", min:-1, max:1, step:0.1}\n",
    "\n",
    "integer_input = 10 #@param {type:\"integer\"}\n",
    "integer_slider = 1 #@param {type:\"slider\", min:0, max:100, step:1}\n",
    "\n",
    "print(number_input)\n",
    "print(number_slider)\n",
    "\n",
    "print(integer_input)\n",
    "print(integer_slider)"
   ]
  },
  {
   "cell_type": "markdown",
   "metadata": {
    "colab_type": "text",
    "id": "KCDYOkG3nD5W"
   },
   "source": [
    "Using __Boolean__ inputs - "
   ]
  },
  {
   "cell_type": "code",
   "execution_count": 0,
   "metadata": {
    "colab": {},
    "colab_type": "code",
    "id": "5UVerxOvnD5X",
    "outputId": "859b77bf-4d3a-4d5e-93c3-59c899c67661"
   },
   "outputs": [
    {
     "name": "stdout",
     "output_type": "stream",
     "text": [
      "True\n",
      "True\n"
     ]
    }
   ],
   "source": [
    "#@title Boolean fields\n",
    "boolean_checkbox = True #@param {type:\"boolean\"}\n",
    "boolean_dropdown = True #@param [\"False\", \"True\"] {type:\"raw\"}\n",
    "\n",
    "print(boolean_checkbox)\n",
    "print(boolean_dropdown)"
   ]
  },
  {
   "cell_type": "markdown",
   "metadata": {
    "colab_type": "text",
    "id": "IAyuigH-nD5Z"
   },
   "source": [
    "Using __markdown text__ as input - "
   ]
  },
  {
   "cell_type": "code",
   "execution_count": 0,
   "metadata": {
    "colab": {},
    "colab_type": "code",
    "id": "aQXdOrTdnD5a"
   },
   "outputs": [],
   "source": [
    "#@title ## Markdown\n",
    "#@markdown You can also include Markdown in forms.\n",
    "\n",
    "#@markdown ---\n",
    "#@markdown ### Enter a file path:\n",
    "file_path = \"\" #@param {type:\"string\"}\n",
    "#@markdown ---\n",
    "\n"
   ]
  },
  {
   "cell_type": "markdown",
   "metadata": {
    "colab_type": "text",
    "id": "niMXOUdnnD5c"
   },
   "source": [
    "<a id=section6></a>"
   ]
  },
  {
   "cell_type": "markdown",
   "metadata": {
    "colab_type": "text",
    "id": "tj1BAWBtnD5d"
   },
   "source": [
    "# 6. Running a Machine Learning Model on Colab"
   ]
  },
  {
   "cell_type": "markdown",
   "metadata": {
    "colab_type": "text",
    "id": "94Udnr7xnD5d"
   },
   "source": [
    "<img src = 'https://raw.githubusercontent.com/insaid2018/DeepLearning/master/image/gpuforml.png'>\n",
    "\n",
    "                                                                                                     Source - Medium"
   ]
  },
  {
   "cell_type": "markdown",
   "metadata": {
    "colab_type": "text",
    "id": "Q1cbrkDHnD5d"
   },
   "source": [
    "* Using __Colab GPU is extremely easy__ for training models.\n",
    "* Just __remember to select GPU as the hardware accelerator in the *Runtime*__\n",
    "* The rest is pretty much how you would do it in a regular notebook\n",
    "* Let's try it out with simple regression in TensorFlow"
   ]
  },
  {
   "cell_type": "markdown",
   "metadata": {
    "colab_type": "text",
    "id": "B0EQOEcYnD5f"
   },
   "source": [
    "### Step 1. Import Libraries"
   ]
  },
  {
   "cell_type": "code",
   "execution_count": 0,
   "metadata": {
    "colab": {},
    "colab_type": "code",
    "id": "tAOMMEcanD5g",
    "outputId": "0a5480f5-7cff-4f64-9071-5f9b4437f7ff"
   },
   "outputs": [
    {
     "name": "stderr",
     "output_type": "stream",
     "text": [
      "c:\\users\\gdev\\appdata\\local\\programs\\python\\python36\\lib\\site-packages\\h5py\\__init__.py:36: FutureWarning: Conversion of the second argument of issubdtype from `float` to `np.floating` is deprecated. In future, it will be treated as `np.float64 == np.dtype(float).type`.\n",
      "  from ._conv import register_converters as _register_converters\n"
     ]
    }
   ],
   "source": [
    "from __future__ import print_function\n",
    "import tensorflow as tf\n",
    "import numpy\n",
    "import matplotlib.pyplot as plt\n",
    "rng = numpy.random"
   ]
  },
  {
   "cell_type": "markdown",
   "metadata": {
    "colab_type": "text",
    "id": "Xuipb8KvnD5m"
   },
   "source": [
    "### Step 2. Set Interactive Parameters"
   ]
  },
  {
   "cell_type": "code",
   "execution_count": 0,
   "metadata": {
    "colab": {},
    "colab_type": "code",
    "id": "arvW-i8snD5q"
   },
   "outputs": [],
   "source": [
    "# Parameters\n",
    "learning_rate = 0.01 #@param {type:\"slider\", min:-1, max:1, step:0.001}\n",
    "training_epochs = 1000 #@param {type:\"integer\"}\n",
    "display_step = 50 #@param {type:\"integer\"}"
   ]
  },
  {
   "cell_type": "markdown",
   "metadata": {
    "colab_type": "text",
    "id": "mgruGAPgnD5t"
   },
   "source": [
    "### Step 3. Generate the Dataset"
   ]
  },
  {
   "cell_type": "code",
   "execution_count": 0,
   "metadata": {
    "colab": {},
    "colab_type": "code",
    "id": "pZdwwTdInD5u"
   },
   "outputs": [],
   "source": [
    "numpy.random.seed(1550)                                                # just a random number seed for reproducibility\n",
    "train_X = numpy.linspace(-1, 1, 200)                                         # create 200 x values between [-1,1]\n",
    "numpy.random.shuffle(train_X)                                                # randomize the data\n",
    "train_Y = 2 * train_X + numpy.random.randn(*train_X.shape) * 0.5             # create 200 y values randomized by the seed\n",
    "n_samples = train_X.shape[0]"
   ]
  },
  {
   "cell_type": "markdown",
   "metadata": {
    "colab_type": "text",
    "id": "X9d19NUrnD5z"
   },
   "source": [
    "### Step 4. Set Inputs"
   ]
  },
  {
   "cell_type": "code",
   "execution_count": 0,
   "metadata": {
    "colab": {},
    "colab_type": "code",
    "id": "48YqNC_unD52"
   },
   "outputs": [],
   "source": [
    "# tf Graph Input\n",
    "X = tf.placeholder(\"float\")\n",
    "Y = tf.placeholder(\"float\")\n",
    "\n",
    "# Set model weights\n",
    "W = tf.Variable(rng.randn(), name=\"weight\")\n",
    "b = tf.Variable(rng.randn(), name=\"bias\")"
   ]
  },
  {
   "cell_type": "markdown",
   "metadata": {
    "colab_type": "text",
    "id": "XJWQ0TlEnD54"
   },
   "source": [
    "### Step 5. Define the Model"
   ]
  },
  {
   "cell_type": "code",
   "execution_count": 0,
   "metadata": {
    "colab": {},
    "colab_type": "code",
    "id": "mzDds2ohnD55"
   },
   "outputs": [],
   "source": [
    "# Construct a linear model\n",
    "pred = tf.add(tf.multiply(X, W), b)\n",
    "\n",
    "# Mean squared error. reduce_sum just calculates the sum of the parameters given.\n",
    "cost = tf.reduce_sum(tf.pow(pred-Y, 2))/(2*n_samples)\n",
    "# Gradient descent\n",
    "# Note, minimize() knows to modify W and b because Variable objects are trainable=True by default\n",
    "optimizer = tf.train.GradientDescentOptimizer(learning_rate).minimize(cost)\n",
    "\n",
    "# Initialize the variables (i.e. assign their default value)\n",
    "init = tf.global_variables_initializer()"
   ]
  },
  {
   "cell_type": "markdown",
   "metadata": {
    "colab_type": "text",
    "id": "TAFT7y3OnD58"
   },
   "source": [
    "### Step 6. Train the Model"
   ]
  },
  {
   "cell_type": "code",
   "execution_count": 0,
   "metadata": {
    "colab": {},
    "colab_type": "code",
    "id": "FBmBsqkanD6B",
    "outputId": "c77bc1c1-1567-4e57-9918-2dae79578009"
   },
   "outputs": [
    {
     "name": "stdout",
     "output_type": "stream",
     "text": [
      "Epoch: 0050 cost= 0.228372946 W= 1.4388136 b= 0.3704117\n",
      "Epoch: 0100 cost= 0.168311924 W= 1.5219799 b= 0.21999763\n",
      "Epoch: 0150 cost= 0.141414583 W= 1.5922586 b= 0.12876868\n",
      "Epoch: 0200 cost= 0.128091335 W= 1.6516377 b= 0.07343625\n",
      "Epoch: 0250 cost= 0.120740429 W= 1.7018257 b= 0.039875887\n",
      "Epoch: 0300 cost= 0.116288163 W= 1.7442272 b= 0.01952072\n",
      "Epoch: 0350 cost= 0.113401264 W= 1.7800634 b= 0.007174755\n",
      "Epoch: 0400 cost= 0.111447603 W= 1.8103443 b= -0.00031342116\n",
      "Epoch: 0450 cost= 0.110091716 W= 1.8359404 b= -0.004855237\n",
      "Epoch: 0500 cost= 0.109138124 W= 1.8575684 b= -0.0076100403\n",
      "Epoch: 0550 cost= 0.108462408 W= 1.8758485 b= -0.009280944\n",
      "Epoch: 0600 cost= 0.107981510 W= 1.8913074 b= -0.010294395\n",
      "Epoch: 0650 cost= 0.107638530 W= 1.904385 b= -0.010909163\n",
      "Epoch: 0700 cost= 0.107394181 W= 1.9154257 b= -0.011282098\n",
      "Epoch: 0750 cost= 0.107220203 W= 1.9247344 b= -0.01150829\n",
      "Epoch: 0800 cost= 0.107096158 W= 1.9325877 b= -0.011645488\n",
      "Epoch: 0850 cost= 0.107007176 W= 1.9392536 b= -0.011728761\n",
      "Epoch: 0900 cost= 0.106943831 W= 1.9448707 b= -0.01177927\n",
      "Epoch: 0950 cost= 0.106898494 W= 1.9496261 b= -0.011809939\n",
      "Epoch: 1000 cost= 0.106866106 W= 1.953648 b= -0.0118285315\n",
      "Optimization Finished!\n",
      "Training cost= 0.10686611 W= 1.953648 b= -0.0118285315 \n",
      "\n"
     ]
    }
   ],
   "source": [
    "# Open session. We don't use 'with' here as this session will continue to further code blocks.\n",
    "sess = tf.Session() \n",
    "\n",
    "# Run the initializer\n",
    "sess.run(init)\n",
    "\n",
    "# Fit all training data\n",
    "for epoch in range(training_epochs):\n",
    "    for (x, y) in zip(train_X, train_Y):\n",
    "        sess.run(optimizer, feed_dict={X: x, Y: y})\n",
    "\n",
    "    # Display logs per epoch step\n",
    "    if (epoch+1) % display_step == 0:\n",
    "        c = sess.run(cost, feed_dict={X: train_X, Y:train_Y})\n",
    "        print(\"Epoch:\", '%04d' % (epoch+1), \"cost=\", \"{:.9f}\".format(c), \"W=\", sess.run(W), \"b=\", sess.run(b))\n",
    "        \n",
    "print(\"Optimization Finished!\")\n",
    "\n",
    "training_cost = sess.run(cost, feed_dict={X: train_X, Y: train_Y})\n",
    "print(\"Training cost=\", training_cost, \"W=\", sess.run(W), \"b=\", sess.run(b), '\\n')"
   ]
  },
  {
   "cell_type": "markdown",
   "metadata": {
    "colab_type": "text",
    "id": "ytlyE9B2nD6E"
   },
   "source": [
    "### Step 7. Plot the Prediction"
   ]
  },
  {
   "cell_type": "code",
   "execution_count": 0,
   "metadata": {
    "colab": {},
    "colab_type": "code",
    "id": "214bpxGOnD6E",
    "outputId": "aef62177-65ee-4581-f8b5-f728f91a2472"
   },
   "outputs": [
    {
     "data": {
      "image/png": "[encoded data removed]",
      "text/plain": [
       "<matplotlib.figure.Figure at 0x2619e7fb8d0>"
      ]
     },
     "metadata": {
      "tags": []
     },
     "output_type": "display_data"
    }
   ],
   "source": [
    "# Plotting the line\n",
    "plt.plot(train_X, train_Y, 'ro', label='Training data')\n",
    "plt.plot(train_X, sess.run(W) * train_X + sess.run(b), label='Fitted line')\n",
    "plt.legend()\n",
    "plt.show()"
   ]
  },
  {
   "cell_type": "markdown",
   "metadata": {
    "colab_type": "text",
    "id": "RXMXa36VnD6G"
   },
   "source": [
    "### Step 8. Testing the Model"
   ]
  },
  {
   "cell_type": "code",
   "execution_count": 0,
   "metadata": {
    "colab": {},
    "colab_type": "code",
    "id": "Xw2ezdg9nD6H",
    "outputId": "bc295cb8-c729-4594-e0f6-0c7157c30173"
   },
   "outputs": [
    {
     "name": "stdout",
     "output_type": "stream",
     "text": [
      "Testing... (Mean square loss Comparison)\n",
      "Testing cost= 0.082362115\n",
      "Absolute mean square loss difference: 0.024503991\n"
     ]
    },
    {
     "data": {
      "image/png": "[encoded data removed]",
      "text/plain": [
       "<matplotlib.figure.Figure at 0x2619e7b7588>"
      ]
     },
     "metadata": {
      "tags": []
     },
     "output_type": "display_data"
    }
   ],
   "source": [
    "# Testing example\n",
    "numpy.random.seed(1444)                                                # just a random number seed for reproducibility\n",
    "test_X = numpy.linspace(-1, 1, 25)                                         # create 200 x values between [-1,1]\n",
    "numpy.random.shuffle(test_X)                                                # randomize the data\n",
    "test_Y = 2 * test_X + numpy.random.randn(*test_X.shape) * 0.5             # create 200 y values randomized by the seed\n",
    "n_samples = test_X.shape[0]\n",
    "\n",
    "print(\"Testing... (Mean square loss Comparison)\")\n",
    "# same function as cost above\n",
    "testing_cost = sess.run(tf.reduce_sum(tf.pow(pred - Y, 2)) / (2 * test_X.shape[0]), feed_dict={X: test_X, Y: test_Y})  \n",
    "print(\"Testing cost=\", testing_cost)\n",
    "print(\"Absolute mean square loss difference:\", abs(training_cost - testing_cost))\n",
    "\n",
    "plt.plot(test_X, test_Y, 'bo', label='Testing data')\n",
    "plt.plot(train_X, sess.run(W) * train_X + sess.run(b), label='Fitted line')\n",
    "plt.legend()\n",
    "plt.show()\n"
   ]
  },
  {
   "cell_type": "markdown",
   "metadata": {
    "colab_type": "text",
    "id": "A7LIdnPQnD6J"
   },
   "source": [
    "### Step 9. Close the Session"
   ]
  },
  {
   "cell_type": "markdown",
   "metadata": {
    "colab_type": "text",
    "id": "WQSuBkVknD6K"
   },
   "source": [
    "sess.close()"
   ]
  },
  {
   "cell_type": "code",
   "execution_count": 0,
   "metadata": {
    "colab": {},
    "colab_type": "code",
    "id": "-rL09g1onD6K"
   },
   "outputs": [],
   "source": []
  }
 ],
 "metadata": {
  "colab": {
   "collapsed_sections": [],
   "name": "Colab_and_the_Cloud.ipynb",
   "provenance": [],
   "version": "0.3.2"
  },
  "kernelspec": {
   "display_name": "Python 3",
   "language": "python",
   "name": "python3"
  },
  "language_info": {
   "codemirror_mode": {
    "name": "ipython",
    "version": 3
   },
   "file_extension": ".py",
   "mimetype": "text/x-python",
   "name": "python",
   "nbconvert_exporter": "python",
   "pygments_lexer": "ipython3",
   "version": "3.7.3"
  }
 },
 "nbformat": 4,
 "nbformat_minor": 1
}
