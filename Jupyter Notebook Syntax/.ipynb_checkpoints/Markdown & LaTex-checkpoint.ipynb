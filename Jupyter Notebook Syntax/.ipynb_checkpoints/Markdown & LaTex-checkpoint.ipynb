{
 "cells": [
  {
   "cell_type": "markdown",
   "metadata": {},
   "source": [
    "# Making efficient Jupyter Notebooks using Markdown & LaTex"
   ]
  },
  {
   "cell_type": "markdown",
   "metadata": {},
   "source": [
    "## <u>1. Headings</u>\n",
    "# H1\n",
    "## H2\n",
    "### H3\n",
    "#### H4\n",
    "Code:\n",
    "```markdown\n",
    "# H1\n",
    "## H2\n",
    "### H3\n",
    "#### H4\n",
    "```"
   ]
  },
  {
   "cell_type": "markdown",
   "metadata": {},
   "source": [
    "## <u>2. Font Styles</u>\n",
    "\n",
    "**Bold** or __Bold__\n",
    "\n",
    "*Italics or _Italics_\n",
    "\n",
    "~~Scratched~~\n",
    "\n",
    "<u>underlined</u>\n",
    "\n",
    "Code:\n",
    "```markdown\n",
    "**Bold** or __Bold__\n",
    "*Italics or _Italics_\n",
    "~~Scratched~~\n",
    "<u>underlined</u>\n",
    "```"
   ]
  },
  {
   "cell_type": "markdown",
   "metadata": {},
   "source": [
    "## <u>3. Lists</u>\n",
    "\n",
    "- item\n",
    " - subitem\n",
    " - subitem\n",
    "- item\n",
    "\n",
    "\n",
    "1. item\n",
    " 1. subitem\n",
    " 2. subitem\n",
    "2. item\n",
    "\n",
    "Code:\n",
    "```markdown\n",
    "- item\n",
    " - subitem\n",
    " - subitem\n",
    "- item\n",
    "\n",
    "1. item\n",
    " 1. subitem\n",
    " 2. subitem\n",
    "2. item\n",
    "```"
   ]
  },
  {
   "cell_type": "markdown",
   "metadata": {},
   "source": [
    "## <u>4. Links</u>\n",
    "\n",
    "http://www.github.com\n",
    "\n",
    "[Github Link](http://www.github.com)\n",
    "\n",
    "Code:\n",
    "```markdown\n",
    "http://www.github.com\n",
    "\n",
    "[Github Link](http://www.github.com)\n",
    "```"
   ]
  },
  {
   "cell_type": "markdown",
   "metadata": {},
   "source": [
    "## <u>5. Images</u>\n",
    "\n",
    "![Classifier Comparison](http://scikit-learn.org/0.15/_images/plot_classifier_comparison_0011.png \"Comparison of classifiers in Sklearn\")\n",
    "\n",
    "Code:\n",
    "```markdown\n",
    "![Classifier Comparison](http://scikit-learn.org/0.15/_images/plot_classifier_comparison_0011.png \"Comparison of classifiers in Sklearn\")\n",
    "```"
   ]
  },
  {
   "cell_type": "markdown",
   "metadata": {},
   "source": [
    "## <u>6. Quotes</u>\n",
    "\n",
    "> This is a quote to behold!\n",
    ">\n",
    "> [Akshay Sehgal](www.akshaysehgal.com)\n",
    "\n",
    "Code:\n",
    "```markdown\n",
    "> This is a quote to behold!\n",
    ">\n",
    "> [Akshay Sehgal](www.akshaysehgal.com)\n",
    "```"
   ]
  },
  {
   "cell_type": "markdown",
   "metadata": {},
   "source": [
    "## <u>7. Divider</u>\n",
    "\n",
    "This is a message\n",
    "\n",
    "---\n",
    "\n",
    "\n",
    "\n",
    "Code:\n",
    "```markdown\n",
    "This is a message\n",
    "\n",
    "---\n",
    "\n",
    "```"
   ]
  },
  {
   "cell_type": "markdown",
   "metadata": {},
   "source": [
    "## <u>8. Tables</u>\n",
    "\n",
    "The Good|The Bad|The Ugly\n",
    "---|---|---\n",
    "Harry|Michael|Rohan\n",
    "John|Randy|Jenny\n",
    "Mary|Shawn|David\n",
    "\n",
    "Code:\n",
    "```markdown\n",
    "The Good|The Bad|The Ugly\n",
    "---|---|---\n",
    "Harry|Michael|Rohan\n",
    "John|Randy|Jenny\n",
    "Mary|Shawn|David\n",
    "```"
   ]
  },
  {
   "cell_type": "markdown",
   "metadata": {},
   "source": [
    "## <u>9. HTML</u>\n",
    "\n",
    "<b>You</b> can <i>render</i> almost any <span style=\"color:red;\">HTML</span> code you <u>like</u>.\n",
    "\n",
    "Code:\n",
    "```markdown\n",
    "<b>You</b> can <i>render</i> almost any <span style=\"color:red;\">HTML</span> code you <u>like</u>.\n",
    "```"
   ]
  },
  {
   "cell_type": "markdown",
   "metadata": {},
   "source": [
    "## <u>10. Code</u>\n",
    "\n",
    "Add \\`\\`\\`python or \\`\\`\\`javascript or \\`\\`\\`html at start and then end the block with another \\`\\`\\`\n",
    "\n",
    "Python code:\n",
    "```python\n",
    "x = 5\n",
    "print(\"x is equal to \",x)\n",
    "```\n",
    "\n",
    "\n",
    "Javascript code:\n",
    "```javascript\n",
    "x = 5\n",
    "alert(x);\n",
    "```\n",
    "\n",
    "\n",
    "HTML code:\n",
    "```html\n",
    "<h1>This is a heading</h1>\n",
    "<p>This is a paragraph</p>\n",
    "```"
   ]
  },
  {
   "cell_type": "markdown",
   "metadata": {},
   "source": [
    "## <u>11. LaTex</u>\n",
    "\n",
    "\n",
    "#### ** Simple equations - \n",
    "You can use LaTex in a line like this $E = MC^2$ or in a block like - \n",
    "\n",
    "$$E = MC^2$$\n",
    "\n",
    "Code:\n",
    "\n",
    "```markdown\n",
    "You can use LaTex in a line like this $y=mx+c$ or in a block like - \n",
    "\n",
    "$$y=mx+c$$\n",
    "```"
   ]
  },
  {
   "cell_type": "markdown",
   "metadata": {},
   "source": [
    "#### ** Operators - \n",
    "- Add\n",
    " - $x + y$\n",
    "- Subtract\n",
    " - $x - y$\n",
    "- Multiply\n",
    " - $x * y$\n",
    " - $x \\times y$\n",
    " - $x . y$\n",
    "- Divide\n",
    " - $x / y$\n",
    " - $ x \\div y$\n",
    " - $\\frac{x}{y}$\n",
    " \n",
    "Code:\n",
    "```markdown\n",
    "- Add\n",
    " - $x + y$\n",
    "- Subtract\n",
    " - $x - y$\n",
    "- Multiply\n",
    " - $x * y$\n",
    " - $x \\times y$\n",
    " - $x . y$\n",
    "- Divide\n",
    " - $x / y$\n",
    " - $ x \\div y$\n",
    " - $\\frac{x}{y}$\n",
    "```"
   ]
  },
  {
   "cell_type": "markdown",
   "metadata": {},
   "source": [
    "#### ** Relations - \n",
    "\n",
    "- $\\pi \\approx 3.14159$\n",
    "- ${1 \\over 0} \\neq \\infty$\n",
    "- $0 < x > 1$\n",
    "- $0 \\leq x \\geq 1$\n",
    "\n",
    "Code:\n",
    "```markdown\n",
    "- $\\pi \\approx 3.14159$\n",
    "- ${1 \\over 0} \\neq \\infty$\n",
    "- $0 < x > 1$\n",
    "- $0 \\leq x \\geq 1$\n",
    "```"
   ]
  },
  {
   "cell_type": "markdown",
   "metadata": {},
   "source": [
    "#### ** Fractions - \n",
    "\n",
    "- $^1/_2$\n",
    "- $\\frac{1}{2x}$\n",
    "- ${3 \\over 4}$\n",
    "\n",
    "Code:\n",
    "```markdown\n",
    "- $^1/_2$\n",
    "- $\\frac{1}{2x}$\n",
    "- ${3 \\over 4}$\n",
    "```"
   ]
  },
  {
   "cell_type": "markdown",
   "metadata": {},
   "source": [
    "#### ** Greek Alphabet - \n",
    "\n",
    "Small Letter - $\\alpha. \\beta. \\gamma.  \\delta. \\epsilon. \\zeta. \\eta. \\theta. \\kappa. \\lambda. \\mu. \\nu. \\xi. \\omicron. \\pi. \\rho. \\sigma. \\tau. \\upsilon. \\phi. \\chi. \\psi. \\omega.$\n",
    "\n",
    "Capital Letter - $A. B. \\Gamma. \\Delta. E. Z. H. \\Theta. I. K. \\Lambda. M. N. \\Xi. O. \\Pi. P. \\Sigma. T. \\Upsilon. \\Phi. X. \\Psi. \\Omega.$\n",
    "\n",
    "Variations - $\\varepsilon. \\vartheta. \\varkappa. \\varpi. \\varrho. \\varsigma. \\varphi.$\n",
    "\n",
    "Code:\n",
    "```markdown\n",
    "Small Letter - $\\alpha. \\beta. \\gamma.  \\delta. \\epsilon. \\zeta. \\eta. \\theta. \\kappa. \\lambda. \\mu. \\nu. \\xi. \\omicron. \\pi. \\rho. \\sigma. \\tau. \\upsilon. \\phi. \\chi. \\psi. \\omega.$\n",
    "\n",
    "Capital Letter - $A. B. \\Gamma. \\Delta. E. Z. H. \\Theta. I. K. \\Lambda. M. N. \\Xi. O. \\Pi. P. \\Sigma. T. \\Upsilon. \\Phi. X. \\Psi. \\Omega.$\n",
    "\n",
    "Variations - $\\varepsilon. \\vartheta. \\varkappa. \\varpi. \\varrho. \\varsigma. \\varphi.$\n",
    "```\n"
   ]
  },
  {
   "cell_type": "markdown",
   "metadata": {},
   "source": [
    "#### ** Power & Index - \n",
    "\n",
    "$$f(x) = x^2 - x^{1 \\over \\pi}$$\n",
    "$$f(X,n) = X_n + X_{n-1}$$\n",
    "\n",
    "Code:\n",
    "```markdown\n",
    "$$f(x) = x^2 - x^{1 \\over \\pi}$$\n",
    "$$f(X,n) = X_n + X_{n-1}$$\n",
    "```"
   ]
  },
  {
   "cell_type": "markdown",
   "metadata": {},
   "source": [
    "#### ** Roots & Logs - \n",
    "\n",
    "$$f(x) = \\sqrt[3]{2x} + \\sqrt{x-2}$$\n",
    "$$\\log_x x = 1$$\n",
    "\n",
    "Code:\n",
    "```markdown\n",
    "$$f(x) = \\sqrt[3]{2x} + \\sqrt{x-2}$$\n",
    "$$\\log_x x = 1$$\n",
    "```"
   ]
  },
  {
   "cell_type": "markdown",
   "metadata": {},
   "source": [
    "#### ** Sums & Products - \n",
    "\n",
    "$$\\sum\\limits_{x=1}^{\\infty} {1 \\over x} = 2$$\n",
    "$$\\prod\\limits_{i=1}^{n} x_i-1$$\n",
    "\n",
    "Code:\n",
    "```markdown\n",
    "$$\\sum\\limits_{x=1}^{\\infty} {1 \\over x} = 2$$\n",
    "$$\\prod\\limits_{i=1}^{n} x_i-1$$\n",
    "```"
   ]
  },
  {
   "cell_type": "markdown",
   "metadata": {},
   "source": [
    "#### ** Statistics - \n",
    "\n",
    "$$max(S) = \\max\\limits_{i: S_i \\in S} x_i$$\n",
    "$$max(S) = \\min\\limits_{i: S_i \\in S} x_i$$\n",
    "$$\\frac{n!}{k!(n-k)!} = {n \\choose k}$$\n",
    "\n",
    "Code:\n",
    "```markdown\n",
    "$$max(S) = \\max\\limits_{i: S_i \\in S} x_i$$\n",
    "$$max(S) = \\min\\limits_{i: S_i \\in S} x_i$$\n",
    "$$\\frac{n!}{k!(n-k)!} = {n \\choose k}$$\n",
    "```"
   ]
  },
  {
   "cell_type": "markdown",
   "metadata": {},
   "source": [
    "#### ** Calculus -\n",
    "\n",
    "$$\\lim\\limits_{x \\to 0^+} {1 \\over 0} = \\infty$$\n",
    "$$\\int\\limits_a^b 2x \\, dx$$\n",
    "\n",
    "Code:\n",
    "```markdown\n",
    "$$\\lim\\limits_{x \\to 0^+} {1 \\over 0} = \\infty$$\n",
    "$$\\int\\limits_a^b 2x \\, dx$$\n",
    "```"
   ]
  },
  {
   "cell_type": "markdown",
   "metadata": {},
   "source": [
    "#### ** Function definition over periods - \n",
    "\n",
    "- Large curley bracket uses \\left\\\\{ .... \\right.\n",
    "- Array to hold the definitions in plce has 2 columns with left alignment /begin/{array}{ll} then /end{array}\n",
    "- Line Beaker \\\\\\\n",
    "- Text alighment box \\mbox{Text}\n",
    "\n",
    "\n",
    "$$f(x) = \n",
    "\\left\\{\n",
    "        \\begin{array}{ll}\n",
    "                0 & \\mbox{if } x=0 \\\\\n",
    "                {1 \\over x} & \\mbox{if } x \\neq 0\n",
    "        \\end{array}\n",
    "\\right.$$\n",
    "\n",
    "Code:\n",
    "```markdown\n",
    "$$f(x) = \n",
    "\\left\\{\n",
    "        \\begin{array}{ll}\n",
    "                0 & \\mbox{if } x=0 \\\\\n",
    "                {1 \\over x} & \\mbox{if } x \\neq 0\n",
    "        \\end{array}\n",
    "\\right.$$\n",
    "```"
   ]
  },
  {
   "cell_type": "markdown",
   "metadata": {},
   "source": [
    "#### ** Matrices - \n",
    "\n",
    "$$\\begin{pmatrix} 9 & 12 \\\\ 4 & 10 \\\\ -7 & 8 \\end{pmatrix}$$\n",
    "\n",
    "Code:\n",
    "```markdown\n",
    "$$\\begin{pmatrix} 9 & 12 \\\\ 4 & 10 \\\\ -7 & 8 \\end{pmatrix}$$\n",
    "```"
   ]
  },
  {
   "cell_type": "markdown",
   "metadata": {},
   "source": [
    "#### ** Matrices based equations -\n",
    "\n",
    "$$\\begin{equation}\n",
    "R^2 = \n",
    "\\begin{pmatrix} c & s \\end{pmatrix}\n",
    "\\begin{pmatrix} 1 & 0 \\\\ 0 & 1 \\end{pmatrix}\n",
    "\\begin{pmatrix} c & s \\end{pmatrix}\n",
    "=c^2 + s^2\n",
    "\\end{equation}$$\n",
    "\n",
    "\n",
    "Code:\n",
    "```markdown\n",
    "$$\\begin{equation}\n",
    "R^2 = \n",
    "\\begin{pmatrix} c & s \\end{pmatrix}\n",
    "\\begin{pmatrix} 1 & 0 \\\\ 0 & 1 \\end{pmatrix}\n",
    "\\begin{pmatrix} c & s \\end{pmatrix}\n",
    "=c^2 + s^2\n",
    "\\end{equation}$$\n",
    "```"
   ]
  },
  {
   "cell_type": "markdown",
   "metadata": {},
   "source": [
    "---\n",
    "---"
   ]
  },
  {
   "cell_type": "markdown",
   "metadata": {},
   "source": [
    "#### ** Quiz - \n",
    "\n",
    "$$ P(x,\\sigma,\\mu) = {1 \\over \\sigma\\sqrt{2 \\pi}} e^{-(x-\\mu)^2 / 2\\sigma^2}$$\n",
    "\n",
    "Code:\n",
    "```markdown\n",
    "$$ P(x,\\sigma,\\mu) = {1 \\over \\sigma\\sqrt{2 \\pi}} e^{-(x-\\mu)^2 / 2\\sigma^2}$$\n",
    "```"
   ]
  },
  {
   "cell_type": "code",
   "execution_count": null,
   "metadata": {},
   "outputs": [],
   "source": []
  }
 ],
 "metadata": {
  "kernelspec": {
   "display_name": "Python 3",
   "language": "python",
   "name": "python3"
  },
  "language_info": {
   "codemirror_mode": {
    "name": "ipython",
    "version": 3
   },
   "file_extension": ".py",
   "mimetype": "text/x-python",
   "name": "python",
   "nbconvert_exporter": "python",
   "pygments_lexer": "ipython3",
   "version": "3.6.5"
  }
 },
 "nbformat": 4,
 "nbformat_minor": 2
}
