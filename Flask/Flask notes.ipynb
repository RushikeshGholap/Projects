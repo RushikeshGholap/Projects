{
 "cells": [
  {
   "cell_type": "markdown",
   "metadata": {},
   "source": [
    "# Setting up and installations"
   ]
  },
  {
   "cell_type": "markdown",
   "metadata": {},
   "source": [
    "Setup a virtual environment for flask in the selected folder using terminal"
   ]
  },
  {
   "cell_type": "code",
   "execution_count": 2,
   "metadata": {},
   "outputs": [],
   "source": [
    "virtualenv flask - #create a virtual env folder named flask\n",
    "\n",
    "source flask/bin/activate - #activate environment\n",
    "\n",
    "pip install ipykernel\n",
    "python -m ipykernel install --user --name flask --display-name \"Flask\" \n",
    "#Creates a new type of kernel in jupyter notebooks that is called \"Flask\" and uses the venv flask\n",
    "\n",
    "pip install flask - #Install flask in venv\n",
    "\n",
    "deactivate\n",
    "\n",
    "cd .. - #Go to main directory"
   ]
  },
  {
   "cell_type": "markdown",
   "metadata": {},
   "source": [
    "# Basic app using flask"
   ]
  },
  {
   "cell_type": "code",
   "execution_count": null,
   "metadata": {},
   "outputs": [],
   "source": [
    "#In the main folder, created a file called app.py using terminal\n",
    "touch app.py"
   ]
  },
  {
   "cell_type": "code",
   "execution_count": null,
   "metadata": {},
   "outputs": [],
   "source": [
    "#Edited the app.py as\n",
    "\n",
    "#!flask/bin/python  - This comment is critical as it tells the UNIX shell which executable to run the code with\n",
    "from flask import Flask\n",
    "\n",
    "app = Flask(__name__)\n",
    "\n",
    "@app.route('/')\n",
    "def index():\n",
    "    return \"Hello world!\"\n",
    "\n",
    "if __name__ = '__main__':\n",
    "    app.run(debug = True)"
   ]
  },
  {
   "cell_type": "code",
   "execution_count": null,
   "metadata": {},
   "outputs": [],
   "source": [
    "# Back in terminal, to run the app - \n",
    "\n",
    "chmod a+x app.py - #Modifies permission to make a script executable\n",
    "./app.py         - #Runs the script as executable"
   ]
  },
  {
   "cell_type": "code",
   "execution_count": 3,
   "metadata": {},
   "outputs": [],
   "source": [
    "# App is now available on http://localhost:5000/"
   ]
  },
  {
   "cell_type": "markdown",
   "metadata": {},
   "source": [
    "# Slightly more complex app using flask"
   ]
  },
  {
   "cell_type": "code",
   "execution_count": null,
   "metadata": {},
   "outputs": [],
   "source": []
  }
 ],
 "metadata": {
  "kernelspec": {
   "display_name": "Flask",
   "language": "python",
   "name": "flask"
  },
  "language_info": {
   "codemirror_mode": {
    "name": "ipython",
    "version": 2
   },
   "file_extension": ".py",
   "mimetype": "text/x-python",
   "name": "python",
   "nbconvert_exporter": "python",
   "pygments_lexer": "ipython2",
   "version": "2.7.15"
  }
 },
 "nbformat": 4,
 "nbformat_minor": 2
}
