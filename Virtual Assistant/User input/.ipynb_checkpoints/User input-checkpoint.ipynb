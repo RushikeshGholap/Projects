{
 "cells": [
  {
   "cell_type": "code",
   "execution_count": 2,
   "metadata": {},
   "outputs": [
    {
     "name": "stdout",
     "output_type": "stream",
     "text": [
      "Enter your name: Akshay\n",
      "Hello Akshay\n"
     ]
    }
   ],
   "source": [
    "person = input('Enter your name: ')\n",
    "print('Hello', person)"
   ]
  },
  {
   "cell_type": "code",
   "execution_count": 3,
   "metadata": {},
   "outputs": [
    {
     "name": "stdout",
     "output_type": "stream",
     "text": [
      "Enter the applicant's name: Akshay Sehgal\n",
      "Enter the interviewer's name: Ant man\n",
      "Enter the appointment time: 10:15 pm\n",
      "Ant man will interview Akshay Sehgal at 10:15 pm\n"
     ]
    }
   ],
   "source": [
    "applicant = input(\"Enter the applicant's name: \")\n",
    "interviewer = input(\"Enter the interviewer's name: \")\n",
    "time = input(\"Enter the appointment time: \")\n",
    "print(interviewer, \"will interview\", applicant, \"at\", time)"
   ]
  },
  {
   "cell_type": "code",
   "execution_count": 6,
   "metadata": {},
   "outputs": [
    {
     "name": "stdout",
     "output_type": "stream",
     "text": [
      "Enter your name: akshay\n",
      "Hello akshay!\n"
     ]
    }
   ],
   "source": [
    "person = input('Enter your name: ')\n",
    "print('Hello ', person, '!', sep='')"
   ]
  },
  {
   "cell_type": "code",
   "execution_count": 7,
   "metadata": {},
   "outputs": [
    {
     "name": "stdout",
     "output_type": "stream",
     "text": [
      "Enter your name: Akshay\n",
      "Hello, Akshay!\n"
     ]
    }
   ],
   "source": [
    "person = input('Enter your name: ')\n",
    "greeting = 'Hello, {}!'.format(person)\n",
    "print(greeting)"
   ]
  },
  {
   "cell_type": "code",
   "execution_count": 8,
   "metadata": {},
   "outputs": [
    {
     "name": "stdout",
     "output_type": "stream",
     "text": [
      "Enter the applicant's name: Akshay\n",
      "Enter the interviewer's name: Ant man\n",
      "Enter the appointment time: 10:35pm\n",
      "Ant man will interview Akshay at 10:35pm.\n",
      "Ant man will interview Akshay at 10:35pm.\n",
      "Ant man will interview Akshay at 10:35pm.\n"
     ]
    }
   ],
   "source": [
    "applicant = input(\"Enter the applicant's name: \")\n",
    "interviewer = input(\"Enter the interviewer's name: \")\n",
    "time = input(\"Enter the appointment time: \")\n",
    "print(interviewer + ' will interview ' + applicant + ' at ' + time +'.')\n",
    "print(interviewer, ' will interview ', applicant, ' at ', time, '.', sep='')\n",
    "print('{} will interview {} at {}.'.format(interviewer, applicant, time))"
   ]
  },
  {
   "cell_type": "code",
   "execution_count": 13,
   "metadata": {},
   "outputs": [
    {
     "ename": "NameError",
     "evalue": "name 'self' is not defined",
     "output_type": "error",
     "traceback": [
      "\u001b[0;31m---------------------------------------------------------------------------\u001b[0m",
      "\u001b[0;31mNameError\u001b[0m                                 Traceback (most recent call last)",
      "\u001b[0;32m<ipython-input-13-0870d3aa9640>\u001b[0m in \u001b[0;36m<module>\u001b[0;34m()\u001b[0m\n\u001b[1;32m      1\u001b[0m \u001b[0msympy\u001b[0m\u001b[0;34m.\u001b[0m\u001b[0mvar\u001b[0m\u001b[0;34m(\u001b[0m\u001b[0;34m\"n\"\u001b[0m\u001b[0;34m)\u001b[0m\u001b[0;34m\u001b[0m\u001b[0m\n\u001b[0;32m----> 2\u001b[0;31m \u001b[0mself\u001b[0m\u001b[0;34m.\u001b[0m\u001b[0mseries\u001b[0m\u001b[0;34m=\u001b[0m\u001b[0mself\u001b[0m\u001b[0;34m.\u001b[0m\u001b[0m_sanatize_series\u001b[0m\u001b[0;34m(\u001b[0m\u001b[0minput\u001b[0m\u001b[0;34m(\u001b[0m\u001b[0;34m\"Enter Series: \"\u001b[0m\u001b[0;34m)\u001b[0m\u001b[0;34m)\u001b[0m\u001b[0;34m\u001b[0m\u001b[0m\n\u001b[0m\u001b[1;32m      3\u001b[0m \u001b[0mself\u001b[0m\u001b[0;34m.\u001b[0m\u001b[0mlim\u001b[0m\u001b[0;34m=\u001b[0m\u001b[0minput\u001b[0m\u001b[0;34m(\u001b[0m\u001b[0;34m\"Enter Limits: \"\u001b[0m\u001b[0;34m)\u001b[0m\u001b[0;34m\u001b[0m\u001b[0m\n",
      "\u001b[0;31mNameError\u001b[0m: name 'self' is not defined"
     ]
    }
   ],
   "source": [
    "sympy.var(\"n\")         \n",
    "self.series=self._sanatize_series(input(\"Enter Series: \"))                \n",
    "self.lim=input(\"Enter Limits: \")"
   ]
  },
  {
   "cell_type": "code",
   "execution_count": 18,
   "metadata": {},
   "outputs": [
    {
     "name": "stdout",
     "output_type": "stream",
     "text": [
      "Enter text (or Enter to quit): hi there\n",
      "HI THEREEnter text (or Enter to quit): \n",
      "While loop has exited\n"
     ]
    }
   ],
   "source": [
    "while True:\n",
    "    i = input(\"Enter text (or Enter to quit): \")\n",
    "    print(i.upper(),end='')\n",
    "    if not i:\n",
    "        break\n",
    "    #print(\"Your input:\", i.upper())\n",
    "print(\"While loop has exited\")"
   ]
  },
  {
   "cell_type": "code",
   "execution_count": 21,
   "metadata": {},
   "outputs": [
    {
     "name": "stdout",
     "output_type": "stream",
     "text": [
      "hi\n"
     ]
    },
    {
     "data": {
      "text/plain": [
       "'hi'"
      ]
     },
     "execution_count": 21,
     "metadata": {},
     "output_type": "execute_result"
    }
   ],
   "source": [
    "import time\n",
    "\n",
    "def user_input():\n",
    "    while True:\n",
    "        i = input(\"Enter text (or Enter to quit): \")\n",
    "\n",
    "def output():\n",
    "    while True:\n",
    "        print(i.upper(),end='')\n",
    "\n",
    "input()\n",
    "#output()"
   ]
  },
  {
   "cell_type": "code",
   "execution_count": 27,
   "metadata": {},
   "outputs": [],
   "source": [
    "# import threading\n",
    "\n",
    "# stdout_lock = threading.Lock()\n",
    "# i = ''\n",
    "\n",
    "# with stdout_lock:\n",
    "#     while True:\n",
    "#         i = input(\"Enter text (or Enter to quit): \")\n",
    "#         if not i:\n",
    "#             break\n",
    "\n",
    "# with stdout_lock:\n",
    "#     print(i.upper(),end='')"
   ]
  },
  {
   "cell_type": "code",
   "execution_count": 2,
   "metadata": {},
   "outputs": [],
   "source": [
    "# import sys\n",
    "# from PyQt5.QtWidgets import (QApplication, QLabel, QWidget)\n",
    "\n",
    "\n",
    "# class MouseTracker(QWidget):\n",
    "#     def __init__(self):\n",
    "#         super().__init__()\n",
    "#         self.initUI()\n",
    "#         self.setMouseTracking(True)\n",
    "\n",
    "#     def initUI(self):\n",
    "#         self.setGeometry(300, 300, 300, 200)\n",
    "#         self.setWindowTitle('Mouse Tracker')\n",
    "#         self.label = QLabel(self)\n",
    "#         self.label.resize(200, 40)\n",
    "#         self.show()\n",
    "\n",
    "#     def mouseMoveEvent(self, event):\n",
    "#         self.label.setText('Mouse coords: ( %d : %d )' % (event.x(), event.y()))\n",
    "\n",
    "\n",
    "# if __name__ == '__main__':\n",
    "#     app = QApplication(sys.argv)\n",
    "#     ex = MouseTracker()\n",
    "#     sys.exit(app.exec_())"
   ]
  },
  {
   "cell_type": "code",
   "execution_count": 3,
   "metadata": {
    "scrolled": true
   },
   "outputs": [],
   "source": [
    "# import threading\n",
    "# import time\n",
    "# import sys\n",
    "\n",
    "# r = ''\n",
    "# def background():\n",
    "#         while True:\n",
    "#             time.sleep(3)\n",
    "#             print(r, end='')\n",
    "\n",
    "\n",
    "# def other_function():\n",
    "#     print('thanks')\n",
    "\n",
    "# # now threading1 runs regardless of user input\n",
    "# threading1 = threading.Thread(target=background)\n",
    "# threading1.daemon = True\n",
    "# threading1.start()\n",
    "\n",
    "# while True:\n",
    "#     r = input()\n",
    "#     if input() == ' ':\n",
    "#         other_function()\n",
    "#         sys.exit()\n",
    "#     else:        print('not disarmed')"
   ]
  },
  {
   "cell_type": "code",
   "execution_count": 4,
   "metadata": {},
   "outputs": [],
   "source": [
    "# while True:\n",
    "#     i = input()\n",
    "#     if i == ' ':\n",
    "#         print(i)\n",
    "#         sys.exit()"
   ]
  },
  {
   "cell_type": "code",
   "execution_count": null,
   "metadata": {},
   "outputs": [],
   "source": []
  },
  {
   "cell_type": "code",
   "execution_count": null,
   "metadata": {},
   "outputs": [],
   "source": []
  }
 ],
 "metadata": {
  "kernelspec": {
   "display_name": "Python 3",
   "language": "python",
   "name": "python3"
  },
  "language_info": {
   "codemirror_mode": {
    "name": "ipython",
    "version": 3
   },
   "file_extension": ".py",
   "mimetype": "text/x-python",
   "name": "python",
   "nbconvert_exporter": "python",
   "pygments_lexer": "ipython3",
   "version": "3.6.5"
  }
 },
 "nbformat": 4,
 "nbformat_minor": 2
}
