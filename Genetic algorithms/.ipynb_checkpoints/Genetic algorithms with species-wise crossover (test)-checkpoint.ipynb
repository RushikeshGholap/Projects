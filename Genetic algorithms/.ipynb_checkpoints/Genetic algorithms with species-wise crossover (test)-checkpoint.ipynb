{
 "cells": [
  {
   "cell_type": "markdown",
   "metadata": {},
   "source": [
    "# Simple example of optimization using Genetic algorithms\n",
    "\n",
    "Sum of a list of numbers must add to a fixed number"
   ]
  },
  {
   "cell_type": "code",
   "execution_count": 452,
   "metadata": {},
   "outputs": [],
   "source": [
    "import numpy as np\n",
    "import pandas as pd\n",
    "import matplotlib.pyplot as plt\n",
    "from sklearn.cluster import KMeans\n",
    "from sklearn.metrics import silhouette_score"
   ]
  },
  {
   "cell_type": "code",
   "execution_count": 453,
   "metadata": {},
   "outputs": [],
   "source": [
    "#Creates an individual as a class\n",
    "class individual():\n",
    "    def __init__(self, genome, species):\n",
    "        self.genome = genome\n",
    "        self.species = species"
   ]
  },
  {
   "cell_type": "code",
   "execution_count": 454,
   "metadata": {},
   "outputs": [],
   "source": [
    "#Spawn individual with random genome and species 0\n",
    "def spawn(min=0, max=50, species=-1):\n",
    "    genome = np.random.randint(min, max, 10)\n",
    "    return individual(genome, species)"
   ]
  },
  {
   "cell_type": "code",
   "execution_count": 455,
   "metadata": {},
   "outputs": [],
   "source": [
    "#Create a list of individuals\n",
    "def population(n_pop):\n",
    "    return [spawn() for i in range(n_pop)]"
   ]
  },
  {
   "cell_type": "code",
   "execution_count": 456,
   "metadata": {},
   "outputs": [],
   "source": [
    "# Fitness function\n",
    "def fitness(ind, goal):\n",
    "    return abs(goal - np.sum(ind.genome))"
   ]
  },
  {
   "cell_type": "code",
   "execution_count": 457,
   "metadata": {},
   "outputs": [],
   "source": [
    "def population_fitness(pop, goal):\n",
    "    return np.average([fitness(i, goal) for i in pop])"
   ]
  },
  {
   "cell_type": "code",
   "execution_count": 458,
   "metadata": {},
   "outputs": [],
   "source": [
    "# Random selection\n",
    "def rand_select(fit, unfit, random_selection):\n",
    "    for i in unfit:\n",
    "        if random_selection > np.random.random():\n",
    "            fit.append(i)\n",
    "    return fit"
   ]
  },
  {
   "cell_type": "code",
   "execution_count": 459,
   "metadata": {},
   "outputs": [],
   "source": [
    "# Mutations\n",
    "def mutate(ind):\n",
    "    mutate_pos = np.random.randint(0,len(ind.genome))\n",
    "    mutate_val = np.random.randint(10,50)\n",
    "    ind.genome[mutate_pos] = mutate_val\n",
    "    return ind"
   ]
  },
  {
   "cell_type": "code",
   "execution_count": 460,
   "metadata": {},
   "outputs": [],
   "source": [
    "# Crossover (one point)\n",
    "\n",
    "def crossover(male, female):\n",
    "    child = spawn()\n",
    "    point_of_cross = int(len(male.genome)/2)\n",
    "    child.genome = np.append(male.genome[:point_of_cross],female.genome[point_of_cross:])\n",
    "    return child"
   ]
  },
  {
   "cell_type": "markdown",
   "metadata": {},
   "source": [
    "1. calculate fitness of population\n",
    "2. sort population by fitness\n",
    "3. retain 20% as fit, remaining as unfit\n",
    "4. random select few from unfit and add to new fit\n",
    "5. mutate few from new fit\n",
    "6. crossover between species to fill remaining population\n",
    "7. calculate 'species' based on spatial similarity\n",
    "8. return new parents"
   ]
  },
  {
   "cell_type": "code",
   "execution_count": 461,
   "metadata": {},
   "outputs": [],
   "source": [
    "# Evolve\n",
    "\n",
    "def evolve(pop, goal, mutation=0.05, random_selection = 0.05, retain=0.2):\n",
    "    fitness_scores = [(i,fitness(i,goal)) for i in pop]\n",
    "    fittest_first = sorted(fitness_scores, key=lambda x:x[1])\n",
    "    \n",
    "    #retain fittest\n",
    "    retain_len = int(len(pop)*0.2)\n",
    "    fit = fittest_first[:retain_len]\n",
    "    unfit = fittest_first[retain_len:]\n",
    "    \n",
    "    #random select to fit from unfit\n",
    "    new_fit = [i[0] for i in rand_select(fit, unfit, random_selection)]\n",
    "    \n",
    "    #Mutate\n",
    "    for i in new_fit:\n",
    "        if mutation > np.random.random():\n",
    "            mutate(i)\n",
    "    \n",
    "    #Crossover\n",
    "    remaining_pop = len(pop) - len(new_fit)\n",
    "    children = []\n",
    "    \n",
    "    species_num = np.unique([i.species for i in new_fit])\n",
    "    \n",
    "    while len(children) < remaining_pop:\n",
    "        if len(species_num) > 1:\n",
    "            for j in species_num:\n",
    "                species_pop = [i for i in new_fit if i.species==j]\n",
    "                parent_indices = np.random.choice(len(species_pop), 2)\n",
    "                parents = [species_pop[i] for i in parent_indices]\n",
    "                child = crossover(parents[0], parents[1])\n",
    "                children.append(child)\n",
    "        else:\n",
    "            parent_indices = np.random.choice(len(new_fit), 2)\n",
    "            parents = [new_fit[i] for i in parent_indices]\n",
    "            child = crossover(parents[0], parents[1])\n",
    "            children.append(child)\n",
    "        \n",
    "    new_pop = new_fit+children\n",
    "        \n",
    "    return new_pop"
   ]
  },
  {
   "cell_type": "code",
   "execution_count": 782,
   "metadata": {},
   "outputs": [],
   "source": [
    "def label_species(pop):\n",
    "    optimal_clusters = 3\n",
    "    genomes = [i.genome for i in pop]\n",
    "    \n",
    "    km = KMeans(n_clusters=optimal_clusters)\n",
    "    km.fit(genomes)\n",
    "\n",
    "    for i in range(len(pop)):\n",
    "        pop[i].species = km.labels_[i]\n",
    "        \n",
    "    return [list(filter(lambda x:x.species==i,pop)) for i in np.unique(km.labels_)]"
   ]
  },
  {
   "cell_type": "code",
   "execution_count": 783,
   "metadata": {},
   "outputs": [],
   "source": [
    "pop = population(30)\n",
    "new = label_species(pop)"
   ]
  },
  {
   "cell_type": "code",
   "execution_count": 469,
   "metadata": {},
   "outputs": [],
   "source": [
    "def generations(n_generations, pop, goal):\n",
    "    \n",
    "    fitness_history = []\n",
    "    for i in range(n_generations):\n",
    "        fitness_history.append(population_fitness(pop, goal))\n",
    "        pop = evolve(pop, goal)\n",
    "        pop = label_species(pop)\n",
    "        \n",
    "    plt.plot(fitness_history)\n",
    "    \n",
    "    fitness_scores = [(i,fitness(i,goal)) for i in pop]\n",
    "    citizens = sorted(fitness_scores, key=lambda x:x[1])\n",
    "    citizens2 = [(i[0].genome, i[0].species, i[1]) for i in citizens]\n",
    "    \n",
    "    \n",
    "    \n",
    "    return citizens2\n",
    "    #return pop"
   ]
  },
  {
   "cell_type": "code",
   "execution_count": 669,
   "metadata": {},
   "outputs": [],
   "source": [
    "def generate_children(cluster,n):\n",
    "    children=[]\n",
    "    while len(children) < n:\n",
    "        cluster_species = cluster[0].species\n",
    "        parent_indices = np.random.choice(len(cluster),2)\n",
    "        parents = [cluster[i] for i in parent_indices]\n",
    "        child = crossover(parents[0], parents[1])\n",
    "        child.species = cluster_species\n",
    "        children.append(child)\n",
    "    return children"
   ]
  },
  {
   "cell_type": "code",
   "execution_count": 816,
   "metadata": {},
   "outputs": [],
   "source": [
    "def evolution(social_clusters, fitness_history, j, goal=500, mutation=0.05, generations=1, n_pop=50):\n",
    "    if j >= generations:\n",
    "        return social_clusters\n",
    "    \n",
    "    j = j+1\n",
    "    \n",
    "    for k in range(len(social_clusters)): \n",
    "        \n",
    "        #select fittest\n",
    "        fitness_history.append(population_fitness(social_clusters[k], goal))\n",
    "        fitness_scores = [(i,fitness(i,goal)) for i in social_clusters[k]]\n",
    "        fittest_first = sorted(fitness_scores, key=lambda x:x[1])\n",
    "        retain_len = int(len(social_clusters[k])*0.2)\n",
    "        fit = [i[0] for i in fittest_first[:retain_len]]\n",
    "        \n",
    "        #mutation\n",
    "        for i in fit:\n",
    "            if mutation > np.random.random():\n",
    "                mutate(i)\n",
    "                \n",
    "        #clustering\n",
    "        clustered_parents = label_species(fit)\n",
    "        \n",
    "        #crossover\n",
    "        clustered_children = []\n",
    "        for i in clustered_parents:\n",
    "            clustered_children.append(generate_children(i,n_pop))\n",
    "        \n",
    "        social_clusters[k] = evolution(clustered_children,fitness_history,j)\n",
    "    return fitness_history"
   ]
  },
  {
   "cell_type": "code",
   "execution_count": 817,
   "metadata": {
    "scrolled": false
   },
   "outputs": [
    {
     "data": {
      "text/plain": [
       "[253.2]"
      ]
     },
     "execution_count": 817,
     "metadata": {},
     "output_type": "execute_result"
    }
   ],
   "source": [
    "j=0\n",
    "fitness_history = []\n",
    "pop = [population(50)]\n",
    "evolution(pop, fitness_history, j)"
   ]
  },
  {
   "cell_type": "code",
   "execution_count": null,
   "metadata": {},
   "outputs": [],
   "source": []
  },
  {
   "cell_type": "code",
   "execution_count": null,
   "metadata": {},
   "outputs": [],
   "source": []
  },
  {
   "cell_type": "code",
   "execution_count": 839,
   "metadata": {},
   "outputs": [],
   "source": [
    "def recursive_fpass(inputs,j):\n",
    "    #break condition\n",
    "    if j >= 1:\n",
    "        return inputs\n",
    "    \n",
    "    j+=1\n",
    "    \n",
    "    mid = np.multiply(inputs, [2,2,2,2,2])\n",
    "    mid2 = mid/4\n",
    "    inputs = recursive_fpass(mid2, j)\n",
    "    return inputs"
   ]
  },
  {
   "cell_type": "code",
   "execution_count": 840,
   "metadata": {},
   "outputs": [
    {
     "data": {
      "text/plain": [
       "array([2., 2., 2., 2., 2.])"
      ]
     },
     "execution_count": 840,
     "metadata": {},
     "output_type": "execute_result"
    }
   ],
   "source": [
    "outputs = [0,0,0,0,0]\n",
    "inputs = [4,4,4,4,4]\n",
    "j=0\n",
    "recursive_fpass(inputs,j)"
   ]
  },
  {
   "cell_type": "code",
   "execution_count": 841,
   "metadata": {},
   "outputs": [],
   "source": [
    "def f(x):\n",
    "    return x**2"
   ]
  },
  {
   "cell_type": "code",
   "execution_count": 859,
   "metadata": {},
   "outputs": [],
   "source": [
    "def recur(x,j):\n",
    "    \n",
    "    #Break condition using a global parameter\n",
    "    if j>=1:\n",
    "        return x\n",
    "    \n",
    "    #Update parameter for each run of the recursive function\n",
    "    j+=1\n",
    "    \n",
    "    #Do all computation on the inputs and store in a temporary variable \n",
    "    y = f(x)\n",
    "    \n",
    "    #Use temporary variable as inputs to the recursive function and store it back into the original inputs\n",
    "    x = recur(y,j)\n",
    "    return x"
   ]
  },
  {
   "cell_type": "code",
   "execution_count": 862,
   "metadata": {},
   "outputs": [
    {
     "data": {
      "text/plain": [
       "25"
      ]
     },
     "execution_count": 862,
     "metadata": {},
     "output_type": "execute_result"
    }
   ],
   "source": [
    "recur(5,0)"
   ]
  },
  {
   "cell_type": "code",
   "execution_count": null,
   "metadata": {},
   "outputs": [],
   "source": []
  }
 ],
 "metadata": {
  "kernelspec": {
   "display_name": "Python 3",
   "language": "python",
   "name": "python3"
  },
  "language_info": {
   "codemirror_mode": {
    "name": "ipython",
    "version": 3
   },
   "file_extension": ".py",
   "mimetype": "text/x-python",
   "name": "python",
   "nbconvert_exporter": "python",
   "pygments_lexer": "ipython3",
   "version": "3.6.5"
  }
 },
 "nbformat": 4,
 "nbformat_minor": 2
}
