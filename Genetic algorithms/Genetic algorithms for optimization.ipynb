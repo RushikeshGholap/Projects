{
 "cells": [
  {
   "cell_type": "markdown",
   "metadata": {},
   "source": [
    "# Simple example of optimization using Genetic algorithms\n",
    "\n",
    "Sum of a list of numbers must add to a fixed number"
   ]
  },
  {
   "cell_type": "code",
   "execution_count": 2,
   "metadata": {},
   "outputs": [],
   "source": [
    "import numpy as np\n",
    "import pandas as pd\n",
    "import matplotlib.pyplot as plt"
   ]
  },
  {
   "cell_type": "code",
   "execution_count": 3,
   "metadata": {},
   "outputs": [],
   "source": [
    "#Creates an individual of n length who should add up to be Z\n",
    "\n",
    "def individual():\n",
    "    return list(np.random.randint(0, 100, 10))"
   ]
  },
  {
   "cell_type": "code",
   "execution_count": 4,
   "metadata": {},
   "outputs": [],
   "source": [
    "#Create a list of individuals\n",
    "\n",
    "def population(n_pop):\n",
    "    return [individual() for i in range(n_pop)]"
   ]
  },
  {
   "cell_type": "code",
   "execution_count": 5,
   "metadata": {},
   "outputs": [],
   "source": [
    "# Fitness function\n",
    "\n",
    "def fitness(ind, goal):\n",
    "    return abs(goal - np.sum(ind))"
   ]
  },
  {
   "cell_type": "code",
   "execution_count": 6,
   "metadata": {},
   "outputs": [],
   "source": [
    "def population_fitness(pop, goal):\n",
    "    return np.average([fitness(i, goal) for i in pop])"
   ]
  },
  {
   "cell_type": "code",
   "execution_count": 7,
   "metadata": {},
   "outputs": [],
   "source": [
    "# Random selection\n",
    "\n",
    "def rand_select(fit, unfit, random_selection):\n",
    "    for i in unfit:\n",
    "        if random_selection > np.random.random():\n",
    "            fit.append(i)\n",
    "    return fit"
   ]
  },
  {
   "cell_type": "code",
   "execution_count": 8,
   "metadata": {},
   "outputs": [],
   "source": [
    "# Mutations\n",
    "\n",
    "def mutate(ind):\n",
    "    mutate_pos = np.random.randint(0,len(ind))\n",
    "    mutate_val = np.random.randint(10,50)\n",
    "    ind[mutate_pos] = mutate_val\n",
    "    return ind"
   ]
  },
  {
   "cell_type": "code",
   "execution_count": 9,
   "metadata": {},
   "outputs": [],
   "source": [
    "# Crossover (one point)\n",
    "\n",
    "def crossover(male, female):\n",
    "    point_of_cross = int(len(male)/2)\n",
    "    child = male[:point_of_cross] + female[point_of_cross:]\n",
    "    return child"
   ]
  },
  {
   "cell_type": "markdown",
   "metadata": {},
   "source": [
    "1. calculate fitness of population\n",
    "2. sort population by fitness\n",
    "3. retain 20% as fit, remaining as unfit\n",
    "4. random select few from unfit and add to new fit\n",
    "5. mutate few from new fit\n",
    "6. for remaining number of population left, crossover fit\n",
    "7. return new parents"
   ]
  },
  {
   "cell_type": "code",
   "execution_count": 10,
   "metadata": {},
   "outputs": [],
   "source": [
    "# Evolve\n",
    "\n",
    "def evolve(pop, goal, mutation=0.05, random_selection = 0.05, retain=0.2):\n",
    "    fitness_scores = [(i,fitness(i,goal)) for i in pop]\n",
    "    fittest_first = sorted(fitness_scores, key=lambda x:x[1])\n",
    "    \n",
    "    #retain fittest\n",
    "    retain_len = int(len(pop)*0.2)\n",
    "    fit = fittest_first[:retain_len]\n",
    "    unfit = fittest_first[retain_len:]\n",
    "    \n",
    "    #random select to fit from unfit\n",
    "    new_fit = [i[0] for i in rand_select(fit, unfit, random_selection)]\n",
    "    \n",
    "    #Mutate\n",
    "    for i in new_fit:\n",
    "        if mutation > np.random.random():\n",
    "            mutate(i)\n",
    "    \n",
    "    #Crossover\n",
    "    remaining_pop = len(pop) - len(new_fit)\n",
    "    children = []\n",
    "    \n",
    "    while len(children) < remaining_pop:\n",
    "        parent_indices = np.random.choice(len(new_fit), 2)\n",
    "        parents = [new_fit[i] for i in parent_indices]\n",
    "        child = crossover(parents[0], parents[1])\n",
    "        children.append(child)\n",
    "        \n",
    "    new_pop = new_fit+children\n",
    "        \n",
    "    return new_pop"
   ]
  },
  {
   "cell_type": "code",
   "execution_count": 11,
   "metadata": {},
   "outputs": [],
   "source": [
    "def generations(n_generations, pop, goal):\n",
    "    \n",
    "    fitness_history = []\n",
    "    for i in range(n_generations):\n",
    "        fitness_history.append(population_fitness(pop, goal))\n",
    "        pop = evolve(pop, goal)\n",
    "        \n",
    "    plt.plot(fitness_history)\n",
    "    \n",
    "    fitness_scores = [(i,fitness(i,goal)) for i in pop]\n",
    "    best_citizen = sorted(fitness_scores, key=lambda x:x[1])[0]\n",
    "    \n",
    "    return best_citizen\n",
    "    #return pop"
   ]
  },
  {
   "cell_type": "code",
   "execution_count": 12,
   "metadata": {
    "scrolled": false
   },
   "outputs": [
    {
     "data": {
      "text/plain": [
       "([33, 78, 15, 19, 28, 67, 99, 33, 58, 70], 0)"
      ]
     },
     "execution_count": 12,
     "metadata": {},
     "output_type": "execute_result"
    },
    {
     "data": {
      "image/png": "[encoded data removed]",
      "text/plain": [
       "<Figure size 432x288 with 1 Axes>"
      ]
     },
     "metadata": {},
     "output_type": "display_data"
    }
   ],
   "source": [
    "pop = population(1000)\n",
    "generations(20, pop, 500)"
   ]
  },
  {
   "cell_type": "code",
   "execution_count": null,
   "metadata": {},
   "outputs": [],
   "source": []
  },
  {
   "cell_type": "code",
   "execution_count": null,
   "metadata": {},
   "outputs": [],
   "source": []
  },
  {
   "cell_type": "code",
   "execution_count": null,
   "metadata": {},
   "outputs": [],
   "source": []
  },
  {
   "cell_type": "code",
   "execution_count": 3,
   "metadata": {},
   "outputs": [],
   "source": [
    "from tpot import TPOTClassifier"
   ]
  },
  {
   "cell_type": "code",
   "execution_count": 4,
   "metadata": {},
   "outputs": [],
   "source": [
    "tpot = TPOTClassifier()"
   ]
  }
 ],
 "metadata": {
  "kernelspec": {
   "display_name": "Python 3",
   "language": "python",
   "name": "python3"
  },
  "language_info": {
   "codemirror_mode": {
    "name": "ipython",
    "version": 3
   },
   "file_extension": ".py",
   "mimetype": "text/x-python",
   "name": "python",
   "nbconvert_exporter": "python",
   "pygments_lexer": "ipython3",
   "version": "3.6.5"
  }
 },
 "nbformat": 4,
 "nbformat_minor": 2
}
