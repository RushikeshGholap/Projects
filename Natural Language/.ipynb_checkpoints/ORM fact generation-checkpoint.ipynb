{
 "cells": [
  {
   "cell_type": "markdown",
   "metadata": {},
   "source": [
    "# Generating ORM Facts & Fact Types"
   ]
  },
  {
   "cell_type": "code",
   "execution_count": 245,
   "metadata": {},
   "outputs": [],
   "source": [
    "import markovify\n",
    "import pandas as pd\n",
    "import numpy as np"
   ]
  },
  {
   "cell_type": "markdown",
   "metadata": {},
   "source": [
    "### Sample data"
   ]
  },
  {
   "cell_type": "code",
   "execution_count": 257,
   "metadata": {},
   "outputs": [],
   "source": [
    "facts = ['The Academic with empNr 715 has EmpName ‘Adams A’',\n",
    "        'The Academic with empNr 715 works for the Dept named ‘Computer Science’',\n",
    "        'The Academic with empNr 715 occupies the Room with roomNr ‘69-301’',\n",
    "        'The Academic with empNr 715 uses the Extension with extNr ‘2345’',\n",
    "        'The Extension with extNr ‘2345’ provides the AccessLevel with code ‘LOC’',\n",
    "        'The Academic with empNr 715 is contracted till the Date with mdy-code ‘01/31/95’']"
   ]
  },
  {
   "cell_type": "code",
   "execution_count": 270,
   "metadata": {},
   "outputs": [],
   "source": [
    "fact_types =  ['Academic has EmpName',\n",
    "               'Academic works_for Dept',\n",
    "               'Academic occupies Room',\n",
    "               'Academic uses Extension',\n",
    "               'Extension provides AccessLevel',\n",
    "               'Academic is_contracted_till Date',\n",
    "               'Academic is tenured',\n",
    "               'Room contains Academic',\n",
    "               'EmpName belongs_to Academic',\n",
    "               'Dept uses AccessLevel']"
   ]
  },
  {
   "cell_type": "code",
   "execution_count": 145,
   "metadata": {},
   "outputs": [
    {
     "data": {
      "text/html": [
       "<div>\n",
       "<style scoped>\n",
       "    .dataframe tbody tr th:only-of-type {\n",
       "        vertical-align: middle;\n",
       "    }\n",
       "\n",
       "    .dataframe tbody tr th {\n",
       "        vertical-align: top;\n",
       "    }\n",
       "\n",
       "    .dataframe thead th {\n",
       "        text-align: right;\n",
       "    }\n",
       "</style>\n",
       "<table border=\"1\" class=\"dataframe\">\n",
       "  <thead>\n",
       "    <tr style=\"text-align: right;\">\n",
       "      <th></th>\n",
       "      <th>facts</th>\n",
       "      <th>fact_types</th>\n",
       "    </tr>\n",
       "  </thead>\n",
       "  <tbody>\n",
       "    <tr>\n",
       "      <th>0</th>\n",
       "      <td>The Academic with empNr 715 has EmpName ‘Adams A’</td>\n",
       "      <td>Academic has EmpName</td>\n",
       "    </tr>\n",
       "    <tr>\n",
       "      <th>1</th>\n",
       "      <td>The Academic with empNr 715 works_for_the Dept...</td>\n",
       "      <td>Academic works for Dept</td>\n",
       "    </tr>\n",
       "    <tr>\n",
       "      <th>2</th>\n",
       "      <td>The Academic with empNr 715 occupies_the Room ...</td>\n",
       "      <td>Academic occupies Room</td>\n",
       "    </tr>\n",
       "    <tr>\n",
       "      <th>3</th>\n",
       "      <td>The Academic with empNr 715 uses_the Extension...</td>\n",
       "      <td>Academic uses Extension</td>\n",
       "    </tr>\n",
       "    <tr>\n",
       "      <th>4</th>\n",
       "      <td>The Extension with extNr ‘2345’ provides_the A...</td>\n",
       "      <td>Extension provides AccessLevel</td>\n",
       "    </tr>\n",
       "    <tr>\n",
       "      <th>5</th>\n",
       "      <td>The Academic with empNr 715 is_contracted_till...</td>\n",
       "      <td>Academic is contracted till Date</td>\n",
       "    </tr>\n",
       "  </tbody>\n",
       "</table>\n",
       "</div>"
      ],
      "text/plain": [
       "                                               facts  \\\n",
       "0  The Academic with empNr 715 has EmpName ‘Adams A’   \n",
       "1  The Academic with empNr 715 works_for_the Dept...   \n",
       "2  The Academic with empNr 715 occupies_the Room ...   \n",
       "3  The Academic with empNr 715 uses_the Extension...   \n",
       "4  The Extension with extNr ‘2345’ provides_the A...   \n",
       "5  The Academic with empNr 715 is_contracted_till...   \n",
       "\n",
       "                         fact_types  \n",
       "0              Academic has EmpName  \n",
       "1           Academic works for Dept  \n",
       "2            Academic occupies Room  \n",
       "3           Academic uses Extension  \n",
       "4    Extension provides AccessLevel  \n",
       "5  Academic is contracted till Date  "
      ]
     },
     "execution_count": 145,
     "metadata": {},
     "output_type": "execute_result"
    }
   ],
   "source": [
    "df = pd.DataFrame(zip(facts, facts_types), columns=['facts', 'fact_types'])\n",
    "df"
   ]
  },
  {
   "cell_type": "markdown",
   "metadata": {},
   "source": [
    "### Fitting a markov chain & generating facts types"
   ]
  },
  {
   "cell_type": "code",
   "execution_count": 272,
   "metadata": {},
   "outputs": [
    {
     "data": {
      "text/plain": [
       "<markovify.text.NewlineText at 0x11f931a20>"
      ]
     },
     "execution_count": 272,
     "metadata": {},
     "output_type": "execute_result"
    }
   ],
   "source": [
    "text_model = markovify.NewlineText(fact_types, state_size=1)\n",
    "text_model"
   ]
  },
  {
   "cell_type": "code",
   "execution_count": 273,
   "metadata": {},
   "outputs": [
    {
     "data": {
      "text/plain": [
       "{'state_size': 1,\n",
       " 'chain': '[[[\"___BEGIN__\"], {\"Academic\": 6, \"Extension\": 1, \"Room\": 1, \"EmpName\": 1, \"Dept\": 1}], [[\"Academic\"], {\"has\": 1, \"works_for\": 1, \"occupies\": 1, \"uses\": 1, \"is_contracted_till\": 1, \"is\": 1, \"___END__\": 2}], [[\"has\"], {\"EmpName\": 1}], [[\"EmpName\"], {\"___END__\": 1, \"belongs_to\": 1}], [[\"works_for\"], {\"Dept\": 1}], [[\"Dept\"], {\"___END__\": 1, \"uses\": 1}], [[\"occupies\"], {\"Room\": 1}], [[\"Room\"], {\"___END__\": 1, \"contains\": 1}], [[\"uses\"], {\"Extension\": 1, \"AccessLevel\": 1}], [[\"Extension\"], {\"___END__\": 1, \"provides\": 1}], [[\"provides\"], {\"AccessLevel\": 1}], [[\"AccessLevel\"], {\"___END__\": 2}], [[\"is_contracted_till\"], {\"Date\": 1}], [[\"Date\"], {\"___END__\": 1}], [[\"is\"], {\"tenured\": 1}], [[\"tenured\"], {\"___END__\": 1}], [[\"contains\"], {\"Academic\": 1}], [[\"belongs_to\"], {\"Academic\": 1}]]',\n",
       " 'parsed_sentences': [['Academic', 'has', 'EmpName'],\n",
       "  ['Academic', 'works_for', 'Dept'],\n",
       "  ['Academic', 'occupies', 'Room'],\n",
       "  ['Academic', 'uses', 'Extension'],\n",
       "  ['Extension', 'provides', 'AccessLevel'],\n",
       "  ['Academic', 'is_contracted_till', 'Date'],\n",
       "  ['Academic', 'is', 'tenured'],\n",
       "  ['Room', 'contains', 'Academic'],\n",
       "  ['EmpName', 'belongs_to', 'Academic'],\n",
       "  ['Dept', 'uses', 'AccessLevel']]}"
      ]
     },
     "execution_count": 273,
     "metadata": {},
     "output_type": "execute_result"
    }
   ],
   "source": [
    "text_model.to_dict()"
   ]
  },
  {
   "cell_type": "code",
   "execution_count": 274,
   "metadata": {},
   "outputs": [],
   "source": [
    "d = {'state_size': 1,\n",
    " 'chain': '[[[\"___BEGIN__\"], {\"Academic\": 6, \"Extension\": 1, \"Room\": 1, \"EmpName\": 1, \"Dept\": 1}], [[\"Academic\"], {\"has\": 1, \"works_for\": 1, \"occupies\": 1, \"uses\": 1, \"is_contracted_till\": 1, \"is\": 1, \"___END__\": 2}], [[\"has\"], {\"EmpName\": 1}], [[\"EmpName\"], {\"___END__\": 1, \"belongs_to\": 1}], [[\"works_for\"], {\"Dept\": 1}], [[\"Dept\"], {\"___END__\": 1, \"uses\": 1}], [[\"occupies\"], {\"Room\": 1}], [[\"Room\"], {\"___END__\": 1, \"contains\": 1}], [[\"uses\"], {\"Extension\": 1, \"AccessLevel\": 1}], [[\"Extension\"], {\"___END__\": 1, \"provides\": 1}], [[\"provides\"], {\"AccessLevel\": 1}], [[\"AccessLevel\"], {\"___END__\": 2}], [[\"is_contracted_till\"], {\"Date\": 1}], [[\"Date\"], {\"___END__\": 1}], [[\"is\"], {\"tenured\": 1}], [[\"tenured\"], {\"___END__\": 1}], [[\"contains\"], {\"Academic\": 1}], [[\"belongs_to\"], {\"Academic\": 1}]]',\n",
    " 'parsed_sentences': [['Academic', 'has', 'EmpName'],\n",
    "  ['Academic', 'works_for', 'Dept'],\n",
    "  ['Academic', 'occupies', 'Room'],\n",
    "  ['Academic', 'uses', 'Extension'],\n",
    "  ['Extension', 'provides', 'AccessLevel'],\n",
    "  ['Academic', 'is_contracted_till', 'Date'],\n",
    "  ['Academic', 'is', 'tenured'],\n",
    "  ['Room', 'contains', 'Academic'],\n",
    "  ['EmpName', 'belongs_to', 'Academic'],\n",
    "  ['Dept', 'uses', 'AccessLevel']]}"
   ]
  },
  {
   "cell_type": "code",
   "execution_count": 278,
   "metadata": {},
   "outputs": [],
   "source": [
    "tm = markovify.NewlineText(fact_types, 1)"
   ]
  },
  {
   "cell_type": "code",
   "execution_count": 280,
   "metadata": {},
   "outputs": [
    {
     "data": {
      "text/plain": [
       "{'state_size': 1,\n",
       " 'chain': '[[[\"___BEGIN__\"], {\"Academic\": 6, \"Extension\": 1, \"Room\": 1, \"EmpName\": 1, \"Dept\": 1}], [[\"Academic\"], {\"has\": 1, \"works_for\": 1, \"occupies\": 1, \"uses\": 1, \"is_contracted_till\": 1, \"is\": 1, \"___END__\": 2}], [[\"has\"], {\"EmpName\": 1}], [[\"EmpName\"], {\"___END__\": 1, \"belongs_to\": 1}], [[\"works_for\"], {\"Dept\": 1}], [[\"Dept\"], {\"___END__\": 1, \"uses\": 1}], [[\"occupies\"], {\"Room\": 1}], [[\"Room\"], {\"___END__\": 1, \"contains\": 1}], [[\"uses\"], {\"Extension\": 1, \"AccessLevel\": 1}], [[\"Extension\"], {\"___END__\": 1, \"provides\": 1}], [[\"provides\"], {\"AccessLevel\": 1}], [[\"AccessLevel\"], {\"___END__\": 2}], [[\"is_contracted_till\"], {\"Date\": 1}], [[\"Date\"], {\"___END__\": 1}], [[\"is\"], {\"tenured\": 1}], [[\"tenured\"], {\"___END__\": 1}], [[\"contains\"], {\"Academic\": 1}], [[\"belongs_to\"], {\"Academic\": 1}]]',\n",
       " 'parsed_sentences': [['Academic', 'has', 'EmpName'],\n",
       "  ['Academic', 'works_for', 'Dept'],\n",
       "  ['Academic', 'occupies', 'Room'],\n",
       "  ['Academic', 'uses', 'Extension'],\n",
       "  ['Extension', 'provides', 'AccessLevel'],\n",
       "  ['Academic', 'is_contracted_till', 'Date'],\n",
       "  ['Academic', 'is', 'tenured'],\n",
       "  ['Room', 'contains', 'Academic'],\n",
       "  ['EmpName', 'belongs_to', 'Academic'],\n",
       "  ['Dept', 'uses', 'AccessLevel']]}"
      ]
     },
     "execution_count": 280,
     "metadata": {},
     "output_type": "execute_result"
    }
   ],
   "source": [
    "tm.to_dict()"
   ]
  },
  {
   "cell_type": "code",
   "execution_count": 282,
   "metadata": {},
   "outputs": [],
   "source": [
    "tm.chain = c"
   ]
  },
  {
   "cell_type": "code",
   "execution_count": 281,
   "metadata": {},
   "outputs": [],
   "source": [
    "c = '[[[\"___BEGIN__\"], {\"Academic\": 6, \"Extension\": 5, \"Room\": 1, \"EmpName\": 1, \"Dept\": 1}], [[\"Academic\"], {\"has\": 1, \"works_for\": 1, \"occupies\": 1, \"uses\": 1, \"is_contracted_till\": 1, \"is\": 1, \"___END__\": 2}], [[\"has\"], {\"EmpName\": 1}], [[\"EmpName\"], {\"___END__\": 1, \"belongs_to\": 1}], [[\"works_for\"], {\"Dept\": 1}], [[\"Dept\"], {\"___END__\": 1, \"uses\": 1}], [[\"occupies\"], {\"Room\": 1}], [[\"Room\"], {\"___END__\": 1, \"contains\": 1}], [[\"uses\"], {\"Extension\": 1, \"AccessLevel\": 1}], [[\"Extension\"], {\"___END__\": 1, \"provides\": 1}], [[\"provides\"], {\"AccessLevel\": 1}], [[\"AccessLevel\"], {\"___END__\": 2}], [[\"is_contracted_till\"], {\"Date\": 1}], [[\"Date\"], {\"___END__\": 1}], [[\"is\"], {\"tenured\": 1}], [[\"tenured\"], {\"___END__\": 1}], [[\"contains\"], {\"Academic\": 1}], [[\"belongs_to\"], {\"Academic\": 1}]]'"
   ]
  },
  {
   "cell_type": "code",
   "execution_count": 285,
   "metadata": {},
   "outputs": [
    {
     "ename": "AttributeError",
     "evalue": "'str' object has no attribute 'to_json'",
     "output_type": "error",
     "traceback": [
      "\u001b[0;31m---------------------------------------------------------------------------\u001b[0m",
      "\u001b[0;31mAttributeError\u001b[0m                            Traceback (most recent call last)",
      "\u001b[0;32m<ipython-input-285-743a0fccbcac>\u001b[0m in \u001b[0;36m<module>\u001b[0;34m\u001b[0m\n\u001b[0;32m----> 1\u001b[0;31m \u001b[0mtm\u001b[0m\u001b[0;34m.\u001b[0m\u001b[0mto_dict\u001b[0m\u001b[0;34m(\u001b[0m\u001b[0;34m)\u001b[0m\u001b[0;34m\u001b[0m\u001b[0;34m\u001b[0m\u001b[0m\n\u001b[0m",
      "\u001b[0;32m~/anaconda3/lib/python3.7/site-packages/markovify/text.py\u001b[0m in \u001b[0;36mto_dict\u001b[0;34m(self)\u001b[0m\n\u001b[1;32m     47\u001b[0m         return {\n\u001b[1;32m     48\u001b[0m             \u001b[0;34m\"state_size\"\u001b[0m\u001b[0;34m:\u001b[0m \u001b[0mself\u001b[0m\u001b[0;34m.\u001b[0m\u001b[0mstate_size\u001b[0m\u001b[0;34m,\u001b[0m\u001b[0;34m\u001b[0m\u001b[0;34m\u001b[0m\u001b[0m\n\u001b[0;32m---> 49\u001b[0;31m             \u001b[0;34m\"chain\"\u001b[0m\u001b[0;34m:\u001b[0m \u001b[0mself\u001b[0m\u001b[0;34m.\u001b[0m\u001b[0mchain\u001b[0m\u001b[0;34m.\u001b[0m\u001b[0mto_json\u001b[0m\u001b[0;34m(\u001b[0m\u001b[0;34m)\u001b[0m\u001b[0;34m,\u001b[0m\u001b[0;34m\u001b[0m\u001b[0;34m\u001b[0m\u001b[0m\n\u001b[0m\u001b[1;32m     50\u001b[0m             \u001b[0;34m\"parsed_sentences\"\u001b[0m\u001b[0;34m:\u001b[0m \u001b[0mself\u001b[0m\u001b[0;34m.\u001b[0m\u001b[0mparsed_sentences\u001b[0m \u001b[0;32mif\u001b[0m \u001b[0mself\u001b[0m\u001b[0;34m.\u001b[0m\u001b[0mretain_original\u001b[0m \u001b[0;32melse\u001b[0m \u001b[0;32mNone\u001b[0m\u001b[0;34m\u001b[0m\u001b[0;34m\u001b[0m\u001b[0m\n\u001b[1;32m     51\u001b[0m         }\n",
      "\u001b[0;31mAttributeError\u001b[0m: 'str' object has no attribute 'to_json'"
     ]
    }
   ],
   "source": [
    "tm.to_dict()"
   ]
  },
  {
   "cell_type": "code",
   "execution_count": 178,
   "metadata": {},
   "outputs": [
    {
     "data": {
      "text/plain": [
       "<markovify.text.NewlineText at 0x111f55198>"
      ]
     },
     "execution_count": 178,
     "metadata": {},
     "output_type": "execute_result"
    }
   ],
   "source": []
  },
  {
   "cell_type": "code",
   "execution_count": 182,
   "metadata": {},
   "outputs": [
    {
     "name": "stdout",
     "output_type": "stream",
     "text": [
      "Dept uses Extension provides AccessLevel\n",
      "Academic has EmpName belongs to Academic is tenured\n",
      "EmpName belongs to Academic is contracted till Date\n",
      "Academic works for Dept uses Extension provides AccessLevel\n",
      "Dept uses Extension\n",
      "Room contains Academic is tenured\n",
      "Room contains Academic uses AccessLevel\n",
      "Dept uses Extension provides AccessLevel\n",
      "Room contains Academic is contracted till Date\n",
      "Academic works for Dept uses AccessLevel\n"
     ]
    }
   ],
   "source": [
    "for i in range(10):\n",
    "    print(text_model.make_sentence())"
   ]
  },
  {
   "cell_type": "markdown",
   "metadata": {},
   "source": [
    "### Generating facts from generated fact type"
   ]
  },
  {
   "cell_type": "code",
   "execution_count": 183,
   "metadata": {},
   "outputs": [
    {
     "data": {
      "text/plain": [
       "'Academic works for Dept uses Extension provides AccessLevel'"
      ]
     },
     "execution_count": 183,
     "metadata": {},
     "output_type": "execute_result"
    }
   ],
   "source": [
    "generated_fact_type = \"Academic works for Dept uses Extension provides AccessLevel\"\n",
    "generated_fact_type"
   ]
  },
  {
   "cell_type": "code",
   "execution_count": 220,
   "metadata": {},
   "outputs": [],
   "source": [
    "tokens = {'Academic':['empNr 715', 'empNr 281', 'empNr 372'],\n",
    "         'Dept':['Sales', 'Marketing', 'Analytics'],\n",
    "         'Extension':['1100', '5502', '3463'],\n",
    "         'AccessLevel':['Read Only', 'Full Access', 'Limited']}"
   ]
  },
  {
   "cell_type": "code",
   "execution_count": 241,
   "metadata": {},
   "outputs": [],
   "source": [
    "def replacetoken(string):\n",
    "    if string in tokens.keys():\n",
    "        toks = tokens.get(string)\n",
    "        idx = np.random.randint(0,3)\n",
    "        return str(string + ' with ' + toks[idx])\n",
    "    else:\n",
    "        return string"
   ]
  },
  {
   "cell_type": "code",
   "execution_count": 244,
   "metadata": {
    "scrolled": true
   },
   "outputs": [
    {
     "name": "stdout",
     "output_type": "stream",
     "text": [
      "Academic with empNr 372 works for Dept with Analytics uses Extension with 1100 provides AccessLevel with Read Only\n",
      "Academic with empNr 281 works for Dept with Marketing uses Extension with 3463 provides AccessLevel with Limited\n",
      "Academic with empNr 372 works for Dept with Analytics uses Extension with 1100 provides AccessLevel with Read Only\n",
      "Academic with empNr 715 works for Dept with Analytics uses Extension with 1100 provides AccessLevel with Full Access\n",
      "Academic with empNr 372 works for Dept with Marketing uses Extension with 5502 provides AccessLevel with Limited\n",
      "Academic with empNr 281 works for Dept with Sales uses Extension with 1100 provides AccessLevel with Limited\n",
      "Academic with empNr 715 works for Dept with Marketing uses Extension with 3463 provides AccessLevel with Read Only\n",
      "Academic with empNr 281 works for Dept with Sales uses Extension with 1100 provides AccessLevel with Limited\n",
      "Academic with empNr 715 works for Dept with Sales uses Extension with 3463 provides AccessLevel with Full Access\n",
      "Academic with empNr 715 works for Dept with Marketing uses Extension with 1100 provides AccessLevel with Full Access\n",
      "Academic with empNr 281 works for Dept with Analytics uses Extension with 5502 provides AccessLevel with Limited\n",
      "Academic with empNr 715 works for Dept with Marketing uses Extension with 3463 provides AccessLevel with Full Access\n",
      "Academic with empNr 281 works for Dept with Sales uses Extension with 5502 provides AccessLevel with Limited\n",
      "Academic with empNr 372 works for Dept with Sales uses Extension with 5502 provides AccessLevel with Read Only\n",
      "Academic with empNr 715 works for Dept with Marketing uses Extension with 3463 provides AccessLevel with Limited\n",
      "Academic with empNr 372 works for Dept with Marketing uses Extension with 3463 provides AccessLevel with Read Only\n",
      "Academic with empNr 372 works for Dept with Marketing uses Extension with 5502 provides AccessLevel with Read Only\n",
      "Academic with empNr 372 works for Dept with Sales uses Extension with 5502 provides AccessLevel with Full Access\n",
      "Academic with empNr 372 works for Dept with Marketing uses Extension with 5502 provides AccessLevel with Full Access\n",
      "Academic with empNr 281 works for Dept with Marketing uses Extension with 3463 provides AccessLevel with Read Only\n"
     ]
    }
   ],
   "source": [
    "for i in range(20):\n",
    "    print(' '.join([replacetoken(i) for i in generated_fact_type.split()]))"
   ]
  },
  {
   "cell_type": "markdown",
   "metadata": {},
   "source": [
    "# Proposed Architecture"
   ]
  },
  {
   "cell_type": "markdown",
   "metadata": {},
   "source": [
    "<img src='markovORM.jpg'></img>"
   ]
  },
  {
   "cell_type": "markdown",
   "metadata": {},
   "source": [
    "1. The engine first extracts facts from a database or ORM diagram(s)\n",
    "2. Next these facts are turned into fact types and fact tokens are stored separately\n",
    "3. The fact types are used to train a sequential encoder into Thought vectors\n",
    "4. The Thought vectors are then decoded back to generated fact types\n",
    "5. A randomizer then picks up random tokens (some of which are without replacement) and adds them to the generated fact types to generate facts\n",
    "6. These facts are then used to impute a Relational database"
   ]
  },
  {
   "cell_type": "markdown",
   "metadata": {},
   "source": [
    "### Further Study\n",
    "\n",
    "https://aclweb.org/anthology/P18-1151"
   ]
  },
  {
   "cell_type": "code",
   "execution_count": null,
   "metadata": {},
   "outputs": [],
   "source": []
  },
  {
   "cell_type": "code",
   "execution_count": null,
   "metadata": {},
   "outputs": [],
   "source": []
  },
  {
   "cell_type": "code",
   "execution_count": 314,
   "metadata": {},
   "outputs": [],
   "source": [
    "import random\n",
    "import operator\n",
    "import bisect\n",
    "import json\n",
    "\n",
    "# Python3 compatibility\n",
    "try: # pragma: no cover\n",
    "    basestring\n",
    "except NameError: # pragma: no cover\n",
    "    basestring = str\n",
    "\n",
    "BEGIN = \"___BEGIN__\"\n",
    "END = \"___END__\"\n",
    "\n",
    "def accumulate(iterable, func=operator.add):\n",
    "    \"\"\"\n",
    "    Cumulative calculations. (Summation, by default.)\n",
    "    Via: https://docs.python.org/3/library/itertools.html#itertools.accumulate\n",
    "    \"\"\"\n",
    "    it = iter(iterable)\n",
    "    total = next(it)\n",
    "    yield total\n",
    "    for element in it:\n",
    "        total = func(total, element)\n",
    "        yield total\n",
    "\n",
    "class Chain(object):\n",
    "    \"\"\"\n",
    "    A Markov chain representing processes that have both beginnings and ends.\n",
    "    For example: Sentences.\n",
    "    \"\"\"\n",
    "    def __init__(self, corpus, state_size, model=None):\n",
    "        \"\"\"\n",
    "        `corpus`: A list of lists, where each outer list is a \"run\"\n",
    "        of the process (e.g., a single sentence), and each inner list\n",
    "        contains the steps (e.g., words) in the run. If you want to simulate\n",
    "        an infinite process, you can come very close by passing just one, very\n",
    "        long run.\n",
    "        `state_size`: An integer indicating the number of items the model\n",
    "        uses to represent its state. For text generation, 2 or 3 are typical.\n",
    "        \"\"\"\n",
    "        self.state_size = state_size\n",
    "        self.model = model or self.build(corpus, self.state_size)\n",
    "        self.precompute_begin_state()\n",
    "\n",
    "    def build(self, corpus, state_size):\n",
    "        \"\"\"\n",
    "        Build a Python representation of the Markov model. Returns a dict\n",
    "        of dicts where the keys of the outer dict represent all possible states,\n",
    "        and point to the inner dicts. The inner dicts represent all possibilities\n",
    "        for the \"next\" item in the chain, along with the count of times it\n",
    "        appears.\n",
    "        \"\"\"\n",
    "\n",
    "        # Using a DefaultDict here would be a lot more convenient, however the memory\n",
    "        # usage is far higher.\n",
    "        model = {}\n",
    "\n",
    "        for run in corpus:\n",
    "            items = ([ BEGIN ] * state_size) + run + [ END ]\n",
    "            for i in range(len(run) + 1):\n",
    "                state = tuple(items[i:i+state_size])\n",
    "                follow = items[i+state_size]\n",
    "                if state not in model:\n",
    "                    model[state] = {}\n",
    "\n",
    "                if follow not in model[state]:\n",
    "                    model[state][follow] = 0\n",
    "\n",
    "                model[state][follow] += 1\n",
    "        return model\n",
    "\n",
    "    def precompute_begin_state(self):\n",
    "        \"\"\"\n",
    "        Caches the summation calculation and available choices for BEGIN * state_size.\n",
    "        Significantly speeds up chain generation on large corpuses. Thanks, @schollz!\n",
    "        \"\"\"\n",
    "        begin_state = tuple([ BEGIN ] * self.state_size)\n",
    "        choices, weights = zip(*self.model[begin_state].items())\n",
    "        cumdist = list(accumulate(weights))\n",
    "        self.begin_cumdist = cumdist\n",
    "        self.begin_choices = choices\n",
    "\n",
    "#     def move(self, state):\n",
    "#         \"\"\"\n",
    "#         Given a state, choose the next item at random.\n",
    "#         \"\"\"\n",
    "#         if state == tuple([ BEGIN ] * self.state_size):\n",
    "#             choices = self.begin_choices\n",
    "#             cumdist = self.begin_cumdist\n",
    "#         else:\n",
    "#             choices, weights = zip(*self.model[state].items())\n",
    "#             cumdist = list(accumulate(weights))\n",
    "#         r = random.random() * cumdist[-1]\n",
    "#         selection = choices[bisect.bisect(cumdist, r)]\n",
    "#         return selection\n",
    "\n",
    "#     def gen(self, init_state=None):\n",
    "#         \"\"\"\n",
    "#         Starting either with a naive BEGIN state, or the provided `init_state`\n",
    "#         (as a tuple), return a generator that will yield successive items\n",
    "#         until the chain reaches the END state.\n",
    "#         \"\"\"\n",
    "#         state = init_state or (BEGIN,) * self.state_size\n",
    "#         while True:\n",
    "#             next_word = self.move(state)\n",
    "#             if next_word == END: break\n",
    "#             yield next_word\n",
    "#             state = tuple(state[1:]) + (next_word,)\n",
    "\n",
    "#     def walk(self, init_state=None):\n",
    "#         \"\"\"\n",
    "#         Return a list representing a single run of the Markov model, either\n",
    "#         starting with a naive BEGIN state, or the provided `init_state`\n",
    "#         (as a tuple).\n",
    "#         \"\"\"\n",
    "#         return list(self.gen(init_state))\n",
    "\n",
    "    def to_json(self):\n",
    "        \"\"\"\n",
    "        Dump the model as a JSON object, for loading later.\n",
    "        \"\"\"\n",
    "        return json.dumps(list(self.model.items()))\n",
    "\n",
    "#     @classmethod\n",
    "#     def from_json(cls, json_thing):\n",
    "#         \"\"\"\n",
    "#         Given a JSON object or JSON string that was created by `self.to_json`,\n",
    "#         return the corresponding markovify.Chain.\n",
    "#         \"\"\"\n",
    "\n",
    "#         if isinstance(json_thing, basestring):\n",
    "#             obj = json.loads(json_thing)\n",
    "#         else:\n",
    "#             obj = json_thing\n",
    "\n",
    "#         if isinstance(obj, list):\n",
    "#             rehydrated = dict((tuple(item[0]), item[1]) for item in obj)\n",
    "#         elif isinstance(obj, dict):\n",
    "#             rehydrated = obj\n",
    "#         else:\n",
    "#             raise ValueError(\"Object should be dict or list\")\n",
    "\n",
    "#         state_size = len(list(rehydrated.keys())[0])\n",
    "\n",
    "#         inst = cls(None, state_size, rehydrated)\n",
    "#         return inst"
   ]
  },
  {
   "cell_type": "code",
   "execution_count": 315,
   "metadata": {},
   "outputs": [],
   "source": [
    "chains = Chain(corpus, 1)"
   ]
  },
  {
   "cell_type": "code",
   "execution_count": 292,
   "metadata": {},
   "outputs": [
    {
     "data": {
      "text/plain": [
       "[['Academic', 'has', 'EmpName'],\n",
       " ['Academic', 'works_for', 'Dept'],\n",
       " ['Academic', 'occupies', 'Room'],\n",
       " ['Academic', 'uses', 'Extension'],\n",
       " ['Extension', 'provides', 'AccessLevel'],\n",
       " ['Academic', 'is_contracted_till', 'Date'],\n",
       " ['Academic', 'is', 'tenured'],\n",
       " ['Room', 'contains', 'Academic'],\n",
       " ['EmpName', 'belongs_to', 'Academic'],\n",
       " ['Dept', 'uses', 'AccessLevel']]"
      ]
     },
     "execution_count": 292,
     "metadata": {},
     "output_type": "execute_result"
    }
   ],
   "source": [
    "corpus = [i.split(' ') for i in fact_types]\n",
    "corpus"
   ]
  },
  {
   "cell_type": "code",
   "execution_count": 316,
   "metadata": {},
   "outputs": [
    {
     "data": {
      "text/plain": [
       "'[[[\"___BEGIN__\"], {\"Academic\": 6, \"Extension\": 1, \"Room\": 1, \"EmpName\": 1, \"Dept\": 1}], [[\"Academic\"], {\"has\": 1, \"works_for\": 1, \"occupies\": 1, \"uses\": 1, \"is_contracted_till\": 1, \"is\": 1, \"___END__\": 2}], [[\"has\"], {\"EmpName\": 1}], [[\"EmpName\"], {\"___END__\": 1, \"belongs_to\": 1}], [[\"works_for\"], {\"Dept\": 1}], [[\"Dept\"], {\"___END__\": 1, \"uses\": 1}], [[\"occupies\"], {\"Room\": 1}], [[\"Room\"], {\"___END__\": 1, \"contains\": 1}], [[\"uses\"], {\"Extension\": 1, \"AccessLevel\": 1}], [[\"Extension\"], {\"___END__\": 1, \"provides\": 1}], [[\"provides\"], {\"AccessLevel\": 1}], [[\"AccessLevel\"], {\"___END__\": 2}], [[\"is_contracted_till\"], {\"Date\": 1}], [[\"Date\"], {\"___END__\": 1}], [[\"is\"], {\"tenured\": 1}], [[\"tenured\"], {\"___END__\": 1}], [[\"contains\"], {\"Academic\": 1}], [[\"belongs_to\"], {\"Academic\": 1}]]'"
      ]
     },
     "execution_count": 316,
     "metadata": {},
     "output_type": "execute_result"
    }
   ],
   "source": [
    "chains.to_json()"
   ]
  },
  {
   "cell_type": "code",
   "execution_count": null,
   "metadata": {},
   "outputs": [],
   "source": []
  },
  {
   "cell_type": "code",
   "execution_count": null,
   "metadata": {},
   "outputs": [],
   "source": []
  },
  {
   "cell_type": "code",
   "execution_count": null,
   "metadata": {},
   "outputs": [],
   "source": []
  },
  {
   "cell_type": "code",
   "execution_count": null,
   "metadata": {},
   "outputs": [],
   "source": []
  },
  {
   "cell_type": "code",
   "execution_count": null,
   "metadata": {},
   "outputs": [],
   "source": []
  },
  {
   "cell_type": "code",
   "execution_count": null,
   "metadata": {},
   "outputs": [],
   "source": []
  },
  {
   "cell_type": "code",
   "execution_count": null,
   "metadata": {},
   "outputs": [],
   "source": [
    "entity_tokens = []"
   ]
  },
  {
   "cell_type": "code",
   "execution_count": null,
   "metadata": {},
   "outputs": [],
   "source": []
  }
 ],
 "metadata": {
  "kernelspec": {
   "display_name": "Python 3",
   "language": "python",
   "name": "python3"
  },
  "language_info": {
   "codemirror_mode": {
    "name": "ipython",
    "version": 3
   },
   "file_extension": ".py",
   "mimetype": "text/x-python",
   "name": "python",
   "nbconvert_exporter": "python",
   "pygments_lexer": "ipython3",
   "version": "3.7.3"
  }
 },
 "nbformat": 4,
 "nbformat_minor": 2
}
