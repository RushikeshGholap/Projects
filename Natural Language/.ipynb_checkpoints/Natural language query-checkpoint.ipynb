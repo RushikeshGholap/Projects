{
 "cells": [
  {
   "cell_type": "code",
   "execution_count": 230,
   "metadata": {},
   "outputs": [],
   "source": [
    "import os\n",
    "import pandas as pd\n",
    "import numpy as np"
   ]
  },
  {
   "cell_type": "code",
   "execution_count": 231,
   "metadata": {},
   "outputs": [
    {
     "data": {
      "text/plain": [
       "'/Users/akshay/Dropbox/Personal/Data Science/Codes/Projects'"
      ]
     },
     "execution_count": 231,
     "metadata": {},
     "output_type": "execute_result"
    }
   ],
   "source": [
    "os.path.realpath('..')"
   ]
  },
  {
   "cell_type": "code",
   "execution_count": 232,
   "metadata": {},
   "outputs": [],
   "source": [
    "path = '/Users/akshay/Dropbox/Personal/Data Science/Codes/Projects Non Git/Wikisql/WikiSQL/data'"
   ]
  },
  {
   "cell_type": "code",
   "execution_count": 233,
   "metadata": {},
   "outputs": [],
   "source": [
    "tables_path = os.path.join(path, 'dev.tables.jsonl')\n",
    "questions_path = os.path.join(path, 'dev.jsonl')"
   ]
  },
  {
   "cell_type": "code",
   "execution_count": 234,
   "metadata": {},
   "outputs": [],
   "source": [
    "tables = pd.read_json(tables_path, lines=True)\n",
    "questions = pd.read_json(questions_path, lines=True)"
   ]
  },
  {
   "cell_type": "code",
   "execution_count": 275,
   "metadata": {},
   "outputs": [],
   "source": [
    "##### FUNCTIONS ######\n",
    "\n",
    "def get_small_table(table_id):\n",
    "    details = tables[tables['id']==table_id]\n",
    "    rows = details['rows'].iloc[0]\n",
    "    labels = details['header'].iloc[0]\n",
    "    df = pd.DataFrame(rows, columns=labels)\n",
    "    return df\n",
    "\n",
    "def get_cols(table_id):\n",
    "    return list(get_small_table(table_id).columns)\n",
    "\n",
    "def add_cols(questions, tables):\n",
    "    questions['cols'] = questions.apply(lambda row: get_cols(row['table_id']), axis=1)\n",
    "    questions['qtokens'] = [i.split() for i in questions['question']]\n",
    "    questions['input_tokens'] = questions['cols'] + questions['qtokens']\n",
    "    questions.drop(['qtokens'], axis=1, inplace=True)\n",
    "    return questions"
   ]
  },
  {
   "cell_type": "code",
   "execution_count": 237,
   "metadata": {},
   "outputs": [
    {
     "data": {
      "text/plain": [
       "'2-13553506-4'"
      ]
     },
     "execution_count": 237,
     "metadata": {},
     "output_type": "execute_result"
    }
   ],
   "source": [
    "#Get a table id at random\n",
    "table_id = np.random.choice(meta['table_id'])\n",
    "table_id"
   ]
  },
  {
   "cell_type": "code",
   "execution_count": 238,
   "metadata": {},
   "outputs": [
    {
     "data": {
      "text/html": [
       "<div>\n",
       "<style scoped>\n",
       "    .dataframe tbody tr th:only-of-type {\n",
       "        vertical-align: middle;\n",
       "    }\n",
       "\n",
       "    .dataframe tbody tr th {\n",
       "        vertical-align: top;\n",
       "    }\n",
       "\n",
       "    .dataframe thead th {\n",
       "        text-align: right;\n",
       "    }\n",
       "</style>\n",
       "<table border=\"1\" class=\"dataframe\">\n",
       "  <thead>\n",
       "    <tr style=\"text-align: right;\">\n",
       "      <th></th>\n",
       "      <th>Date</th>\n",
       "      <th>Opponent</th>\n",
       "      <th>Score</th>\n",
       "      <th>Loss</th>\n",
       "      <th>Save</th>\n",
       "    </tr>\n",
       "  </thead>\n",
       "  <tbody>\n",
       "    <tr>\n",
       "      <th>0</th>\n",
       "      <td>June 1</td>\n",
       "      <td>Astros</td>\n",
       "      <td>6 - 5 10</td>\n",
       "      <td>DiPino (1-1)</td>\n",
       "      <td>Smith (9)</td>\n",
       "    </tr>\n",
       "    <tr>\n",
       "      <th>1</th>\n",
       "      <td>June 2</td>\n",
       "      <td>Astros</td>\n",
       "      <td>13 - 2</td>\n",
       "      <td>Ryan (2-5)</td>\n",
       "      <td>|| 13,891 ||29-21||</td>\n",
       "    </tr>\n",
       "    <tr>\n",
       "      <th>2</th>\n",
       "      <td>June 3</td>\n",
       "      <td>Astros</td>\n",
       "      <td>22 - 7</td>\n",
       "      <td>Knepper (2-6)</td>\n",
       "      <td>|| 19,725 ||30-21||</td>\n",
       "    </tr>\n",
       "    <tr>\n",
       "      <th>3</th>\n",
       "      <td>June 4</td>\n",
       "      <td>Cardinals</td>\n",
       "      <td>3 - 1</td>\n",
       "      <td>Maddux (4-5)</td>\n",
       "      <td>Worrell (12)</td>\n",
       "    </tr>\n",
       "    <tr>\n",
       "      <th>4</th>\n",
       "      <td>June 5</td>\n",
       "      <td>Cardinals</td>\n",
       "      <td>5 - 1</td>\n",
       "      <td>Sanderson (3-2)</td>\n",
       "      <td>|| 36,818 ||30-23||</td>\n",
       "    </tr>\n",
       "  </tbody>\n",
       "</table>\n",
       "</div>"
      ],
      "text/plain": [
       "     Date   Opponent     Score             Loss                 Save\n",
       "0  June 1     Astros  6 - 5 10     DiPino (1-1)            Smith (9)\n",
       "1  June 2     Astros    13 - 2       Ryan (2-5)  || 13,891 ||29-21||\n",
       "2  June 3     Astros    22 - 7    Knepper (2-6)  || 19,725 ||30-21||\n",
       "3  June 4  Cardinals     3 - 1     Maddux (4-5)         Worrell (12)\n",
       "4  June 5  Cardinals     5 - 1  Sanderson (3-2)  || 36,818 ||30-23||"
      ]
     },
     "execution_count": 238,
     "metadata": {},
     "output_type": "execute_result"
    }
   ],
   "source": [
    "#Get corresponding dataset\n",
    "small_df = get_table(table_id)\n",
    "small_df.head()"
   ]
  },
  {
   "cell_type": "code",
   "execution_count": 282,
   "metadata": {},
   "outputs": [],
   "source": [
    "###########################"
   ]
  },
  {
   "cell_type": "code",
   "execution_count": 243,
   "metadata": {},
   "outputs": [],
   "source": [
    "# training_data = small_df.transpose().reset_index()\n",
    "# training_data"
   ]
  },
  {
   "cell_type": "code",
   "execution_count": 281,
   "metadata": {},
   "outputs": [],
   "source": [
    "#############################"
   ]
  },
  {
   "cell_type": "code",
   "execution_count": 276,
   "metadata": {},
   "outputs": [],
   "source": [
    "questions_new = add_cols(questions, tables)"
   ]
  },
  {
   "cell_type": "code",
   "execution_count": 277,
   "metadata": {},
   "outputs": [
    {
     "data": {
      "text/html": [
       "<div>\n",
       "<style scoped>\n",
       "    .dataframe tbody tr th:only-of-type {\n",
       "        vertical-align: middle;\n",
       "    }\n",
       "\n",
       "    .dataframe tbody tr th {\n",
       "        vertical-align: top;\n",
       "    }\n",
       "\n",
       "    .dataframe thead th {\n",
       "        text-align: right;\n",
       "    }\n",
       "</style>\n",
       "<table border=\"1\" class=\"dataframe\">\n",
       "  <thead>\n",
       "    <tr style=\"text-align: right;\">\n",
       "      <th></th>\n",
       "      <th>phase</th>\n",
       "      <th>question</th>\n",
       "      <th>sql</th>\n",
       "      <th>table_id</th>\n",
       "      <th>cols</th>\n",
       "      <th>input_tokens</th>\n",
       "    </tr>\n",
       "  </thead>\n",
       "  <tbody>\n",
       "    <tr>\n",
       "      <th>0</th>\n",
       "      <td>1</td>\n",
       "      <td>What position does the player who played for b...</td>\n",
       "      <td>{'sel': 3, 'conds': [[5, 0, 'Butler CC (KS)']]...</td>\n",
       "      <td>1-10015132-11</td>\n",
       "      <td>[Player, No., Nationality, Position, Years in ...</td>\n",
       "      <td>[Player, No., Nationality, Position, Years in ...</td>\n",
       "    </tr>\n",
       "    <tr>\n",
       "      <th>1</th>\n",
       "      <td>1</td>\n",
       "      <td>How many schools did player number 3 play at?</td>\n",
       "      <td>{'sel': 5, 'conds': [[1, 0, '3']], 'agg': 3}</td>\n",
       "      <td>1-10015132-11</td>\n",
       "      <td>[Player, No., Nationality, Position, Years in ...</td>\n",
       "      <td>[Player, No., Nationality, Position, Years in ...</td>\n",
       "    </tr>\n",
       "    <tr>\n",
       "      <th>2</th>\n",
       "      <td>1</td>\n",
       "      <td>What school did player number 21 play for?</td>\n",
       "      <td>{'sel': 5, 'conds': [[1, 0, '21']], 'agg': 0}</td>\n",
       "      <td>1-10015132-11</td>\n",
       "      <td>[Player, No., Nationality, Position, Years in ...</td>\n",
       "      <td>[Player, No., Nationality, Position, Years in ...</td>\n",
       "    </tr>\n",
       "    <tr>\n",
       "      <th>3</th>\n",
       "      <td>1</td>\n",
       "      <td>Who is the player that wears number 42?</td>\n",
       "      <td>{'sel': 0, 'conds': [[1, 0, '42']], 'agg': 0}</td>\n",
       "      <td>1-10015132-11</td>\n",
       "      <td>[Player, No., Nationality, Position, Years in ...</td>\n",
       "      <td>[Player, No., Nationality, Position, Years in ...</td>\n",
       "    </tr>\n",
       "    <tr>\n",
       "      <th>4</th>\n",
       "      <td>1</td>\n",
       "      <td>What player played guard for toronto in 1996-97?</td>\n",
       "      <td>{'sel': 0, 'conds': [[3, 0, 'Guard'], [4, 0, '...</td>\n",
       "      <td>1-10015132-11</td>\n",
       "      <td>[Player, No., Nationality, Position, Years in ...</td>\n",
       "      <td>[Player, No., Nationality, Position, Years in ...</td>\n",
       "    </tr>\n",
       "  </tbody>\n",
       "</table>\n",
       "</div>"
      ],
      "text/plain": [
       "   phase                                           question  \\\n",
       "0      1  What position does the player who played for b...   \n",
       "1      1      How many schools did player number 3 play at?   \n",
       "2      1         What school did player number 21 play for?   \n",
       "3      1            Who is the player that wears number 42?   \n",
       "4      1   What player played guard for toronto in 1996-97?   \n",
       "\n",
       "                                                 sql       table_id  \\\n",
       "0  {'sel': 3, 'conds': [[5, 0, 'Butler CC (KS)']]...  1-10015132-11   \n",
       "1       {'sel': 5, 'conds': [[1, 0, '3']], 'agg': 3}  1-10015132-11   \n",
       "2      {'sel': 5, 'conds': [[1, 0, '21']], 'agg': 0}  1-10015132-11   \n",
       "3      {'sel': 0, 'conds': [[1, 0, '42']], 'agg': 0}  1-10015132-11   \n",
       "4  {'sel': 0, 'conds': [[3, 0, 'Guard'], [4, 0, '...  1-10015132-11   \n",
       "\n",
       "                                                cols  \\\n",
       "0  [Player, No., Nationality, Position, Years in ...   \n",
       "1  [Player, No., Nationality, Position, Years in ...   \n",
       "2  [Player, No., Nationality, Position, Years in ...   \n",
       "3  [Player, No., Nationality, Position, Years in ...   \n",
       "4  [Player, No., Nationality, Position, Years in ...   \n",
       "\n",
       "                                        input_tokens  \n",
       "0  [Player, No., Nationality, Position, Years in ...  \n",
       "1  [Player, No., Nationality, Position, Years in ...  \n",
       "2  [Player, No., Nationality, Position, Years in ...  \n",
       "3  [Player, No., Nationality, Position, Years in ...  \n",
       "4  [Player, No., Nationality, Position, Years in ...  "
      ]
     },
     "execution_count": 277,
     "metadata": {},
     "output_type": "execute_result"
    }
   ],
   "source": [
    "questions_new.head()"
   ]
  },
  {
   "cell_type": "code",
   "execution_count": 280,
   "metadata": {},
   "outputs": [
    {
     "data": {
      "text/plain": [
       "['Player',\n",
       " 'No.',\n",
       " 'Nationality',\n",
       " 'Position',\n",
       " 'Years in Toronto',\n",
       " 'School/Club Team',\n",
       " 'What',\n",
       " 'position',\n",
       " 'does',\n",
       " 'the',\n",
       " 'player',\n",
       " 'who',\n",
       " 'played',\n",
       " 'for',\n",
       " 'butler',\n",
       " 'cc',\n",
       " '(ks)',\n",
       " 'play?']"
      ]
     },
     "execution_count": 280,
     "metadata": {},
     "output_type": "execute_result"
    }
   ],
   "source": [
    "questions_new.iloc[0]['input_tokens']"
   ]
  },
  {
   "cell_type": "code",
   "execution_count": 306,
   "metadata": {},
   "outputs": [
    {
     "data": {
      "text/plain": [
       "17130"
      ]
     },
     "execution_count": 306,
     "metadata": {},
     "output_type": "execute_result"
    }
   ],
   "source": [
    "all_cols = [k for j in [i for i in tables['header']] for k in j]\n",
    "len(all_cols)"
   ]
  },
  {
   "cell_type": "code",
   "execution_count": 312,
   "metadata": {},
   "outputs": [],
   "source": [
    "unique_cols = np.unique([k for j in [i for i in tables['header']] for k in j], return_counts=True)"
   ]
  },
  {
   "cell_type": "code",
   "execution_count": 311,
   "metadata": {},
   "outputs": [],
   "source": [
    "from sklearn.feature_extraction.text import CountVectorizer"
   ]
  },
  {
   "cell_type": "code",
   "execution_count": 332,
   "metadata": {},
   "outputs": [
    {
     "data": {
      "text/plain": [
       "<8421x4025 sparse matrix of type '<class 'numpy.int64'>'\n",
       "\twith 4568 stored elements in Compressed Sparse Row format>"
      ]
     },
     "execution_count": 332,
     "metadata": {},
     "output_type": "execute_result"
    }
   ],
   "source": [
    "cnt1 = CountVectorizer(stop_words=None, vocabulary=unique_cols[0])\n",
    "col_encodings = cnt1.fit_transform([' '.join(i) for i in questions_new['cols']])\n",
    "col_encodings"
   ]
  },
  {
   "cell_type": "code",
   "execution_count": 333,
   "metadata": {},
   "outputs": [
    {
     "data": {
      "text/plain": [
       "<8421x8451 sparse matrix of type '<class 'numpy.int64'>'\n",
       "\twith 44772 stored elements in Compressed Sparse Row format>"
      ]
     },
     "execution_count": 333,
     "metadata": {},
     "output_type": "execute_result"
    }
   ],
   "source": [
    "cnt2 = CountVectorizer(stop_words='english')\n",
    "ques_encodings = cnt2.fit_transform(questions_new['question'])\n",
    "ques_encodings"
   ]
  },
  {
   "cell_type": "code",
   "execution_count": null,
   "metadata": {},
   "outputs": [],
   "source": []
  },
  {
   "cell_type": "code",
   "execution_count": null,
   "metadata": {},
   "outputs": [],
   "source": []
  },
  {
   "cell_type": "code",
   "execution_count": null,
   "metadata": {},
   "outputs": [],
   "source": []
  },
  {
   "cell_type": "code",
   "execution_count": 339,
   "metadata": {},
   "outputs": [],
   "source": [
    "inp1 = Input((col_encodings.shape[1],))\n",
    "inp2 = Input((ques_encodings.shape[1],))\n",
    "x = Concatenate((inp1, inp2))"
   ]
  },
  {
   "cell_type": "code",
   "execution_count": null,
   "metadata": {},
   "outputs": [],
   "source": []
  },
  {
   "cell_type": "code",
   "execution_count": null,
   "metadata": {},
   "outputs": [],
   "source": []
  },
  {
   "cell_type": "code",
   "execution_count": null,
   "metadata": {},
   "outputs": [],
   "source": []
  },
  {
   "cell_type": "code",
   "execution_count": null,
   "metadata": {},
   "outputs": [],
   "source": []
  },
  {
   "cell_type": "code",
   "execution_count": null,
   "metadata": {},
   "outputs": [],
   "source": []
  },
  {
   "cell_type": "code",
   "execution_count": null,
   "metadata": {},
   "outputs": [],
   "source": []
  },
  {
   "cell_type": "code",
   "execution_count": null,
   "metadata": {},
   "outputs": [],
   "source": []
  },
  {
   "cell_type": "code",
   "execution_count": null,
   "metadata": {},
   "outputs": [],
   "source": []
  },
  {
   "cell_type": "code",
   "execution_count": null,
   "metadata": {},
   "outputs": [],
   "source": []
  },
  {
   "cell_type": "code",
   "execution_count": null,
   "metadata": {},
   "outputs": [],
   "source": []
  },
  {
   "cell_type": "code",
   "execution_count": null,
   "metadata": {},
   "outputs": [],
   "source": []
  },
  {
   "cell_type": "code",
   "execution_count": null,
   "metadata": {},
   "outputs": [],
   "source": []
  },
  {
   "cell_type": "code",
   "execution_count": 336,
   "metadata": {},
   "outputs": [
    {
     "ename": "NameError",
     "evalue": "name 'latent_dim' is not defined",
     "output_type": "error",
     "traceback": [
      "\u001b[0;31m---------------------------------------------------------------------------\u001b[0m",
      "\u001b[0;31mNameError\u001b[0m                                 Traceback (most recent call last)",
      "\u001b[0;32m<ipython-input-336-684a9e9571f7>\u001b[0m in \u001b[0;36m<module>\u001b[0;34m\u001b[0m\n\u001b[1;32m      4\u001b[0m \u001b[0;31m# Define an input sequence and process it.\u001b[0m\u001b[0;34m\u001b[0m\u001b[0;34m\u001b[0m\u001b[0;34m\u001b[0m\u001b[0m\n\u001b[1;32m      5\u001b[0m \u001b[0mencoder_inputs\u001b[0m \u001b[0;34m=\u001b[0m \u001b[0mInput\u001b[0m\u001b[0;34m(\u001b[0m\u001b[0mshape\u001b[0m\u001b[0;34m=\u001b[0m\u001b[0;34m(\u001b[0m\u001b[0;32mNone\u001b[0m\u001b[0;34m,\u001b[0m \u001b[0;36m1000\u001b[0m\u001b[0;34m)\u001b[0m\u001b[0;34m)\u001b[0m\u001b[0;34m\u001b[0m\u001b[0;34m\u001b[0m\u001b[0m\n\u001b[0;32m----> 6\u001b[0;31m \u001b[0mencoder\u001b[0m \u001b[0;34m=\u001b[0m \u001b[0mLSTM\u001b[0m\u001b[0;34m(\u001b[0m\u001b[0mlatent_dim\u001b[0m\u001b[0;34m,\u001b[0m \u001b[0mreturn_state\u001b[0m\u001b[0;34m=\u001b[0m\u001b[0;32mTrue\u001b[0m\u001b[0;34m)\u001b[0m\u001b[0;34m\u001b[0m\u001b[0;34m\u001b[0m\u001b[0m\n\u001b[0m\u001b[1;32m      7\u001b[0m \u001b[0mencoder_outputs\u001b[0m\u001b[0;34m,\u001b[0m \u001b[0mstate_h\u001b[0m\u001b[0;34m,\u001b[0m \u001b[0mstate_c\u001b[0m \u001b[0;34m=\u001b[0m \u001b[0mencoder\u001b[0m\u001b[0;34m(\u001b[0m\u001b[0mencoder_inputs\u001b[0m\u001b[0;34m)\u001b[0m\u001b[0;34m\u001b[0m\u001b[0;34m\u001b[0m\u001b[0m\n\u001b[1;32m      8\u001b[0m \u001b[0;31m# We discard `encoder_outputs` and only keep the states.\u001b[0m\u001b[0;34m\u001b[0m\u001b[0;34m\u001b[0m\u001b[0;34m\u001b[0m\u001b[0m\n",
      "\u001b[0;31mNameError\u001b[0m: name 'latent_dim' is not defined"
     ]
    }
   ],
   "source": [
    "from keras.models import Model\n",
    "from keras.layers import Input, LSTM, Dense, Concatenate\n",
    "\n",
    "# Define an input sequence and process it.\n",
    "encoder_inputs = Input(shape=(None, 1000))\n",
    "encoder = LSTM(latent_dim, return_state=True)\n",
    "encoder_outputs, state_h, state_c = encoder(encoder_inputs)\n",
    "# We discard `encoder_outputs` and only keep the states.\n",
    "encoder_states = [state_h, state_c]"
   ]
  },
  {
   "cell_type": "code",
   "execution_count": 285,
   "metadata": {},
   "outputs": [],
   "source": [
    "n_input = 1000"
   ]
  },
  {
   "cell_type": "code",
   "execution_count": 295,
   "metadata": {},
   "outputs": [],
   "source": [
    "encoder_inputs = Input(shape=(None, n_input))\n",
    "encoder = LSTM(32, return_state=True)(encoder_inputs)\n",
    "#encoder_states = [state_h, state_c]"
   ]
  },
  {
   "cell_type": "code",
   "execution_count": 294,
   "metadata": {},
   "outputs": [
    {
     "data": {
      "text/plain": [
       "<tf.Tensor 'lstm_3/TensorArrayReadV3:0' shape=(?, 32) dtype=float32>"
      ]
     },
     "execution_count": 294,
     "metadata": {},
     "output_type": "execute_result"
    }
   ],
   "source": [
    "encoder"
   ]
  },
  {
   "cell_type": "code",
   "execution_count": null,
   "metadata": {},
   "outputs": [],
   "source": []
  }
 ],
 "metadata": {
  "kernelspec": {
   "display_name": "Python 3",
   "language": "python",
   "name": "python3"
  },
  "language_info": {
   "codemirror_mode": {
    "name": "ipython",
    "version": 3
   },
   "file_extension": ".py",
   "mimetype": "text/x-python",
   "name": "python",
   "nbconvert_exporter": "python",
   "pygments_lexer": "ipython3",
   "version": "3.7.3"
  }
 },
 "nbformat": 4,
 "nbformat_minor": 2
}
