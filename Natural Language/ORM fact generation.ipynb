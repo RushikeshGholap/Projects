{
 "cells": [
  {
   "cell_type": "markdown",
   "metadata": {},
   "source": [
    "# Generating ORM Facts & Fact Types"
   ]
  },
  {
   "cell_type": "code",
   "execution_count": 245,
   "metadata": {},
   "outputs": [],
   "source": [
    "import markovify\n",
    "import pandas as pd\n",
    "import numpy as np"
   ]
  },
  {
   "cell_type": "markdown",
   "metadata": {},
   "source": [
    "### Sample data"
   ]
  },
  {
   "cell_type": "code",
   "execution_count": 257,
   "metadata": {},
   "outputs": [],
   "source": [
    "facts = ['The Academic with empNr 715 has EmpName ‘Adams A’',\n",
    "        'The Academic with empNr 715 works for the Dept named ‘Computer Science’',\n",
    "        'The Academic with empNr 715 occupies the Room with roomNr ‘69-301’',\n",
    "        'The Academic with empNr 715 uses the Extension with extNr ‘2345’',\n",
    "        'The Extension with extNr ‘2345’ provides the AccessLevel with code ‘LOC’',\n",
    "        'The Academic with empNr 715 is contracted till the Date with mdy-code ‘01/31/95’']"
   ]
  },
  {
   "cell_type": "code",
   "execution_count": 171,
   "metadata": {},
   "outputs": [],
   "source": [
    "fact_types = ['Academic has EmpName',\n",
    "               'Academic works for Dept',\n",
    "               'Academic occupies Room',\n",
    "               'Academic uses Extension',\n",
    "               'Extension provides AccessLevel',\n",
    "               'Academic is contracted till Date',\n",
    "               'Academic is tenured',\n",
    "               'Room contains Academic',\n",
    "               'EmpName belongs to Academic',\n",
    "               'Dept uses AccessLevel']"
   ]
  },
  {
   "cell_type": "code",
   "execution_count": 145,
   "metadata": {},
   "outputs": [
    {
     "data": {
      "text/html": [
       "<div>\n",
       "<style scoped>\n",
       "    .dataframe tbody tr th:only-of-type {\n",
       "        vertical-align: middle;\n",
       "    }\n",
       "\n",
       "    .dataframe tbody tr th {\n",
       "        vertical-align: top;\n",
       "    }\n",
       "\n",
       "    .dataframe thead th {\n",
       "        text-align: right;\n",
       "    }\n",
       "</style>\n",
       "<table border=\"1\" class=\"dataframe\">\n",
       "  <thead>\n",
       "    <tr style=\"text-align: right;\">\n",
       "      <th></th>\n",
       "      <th>facts</th>\n",
       "      <th>fact_types</th>\n",
       "    </tr>\n",
       "  </thead>\n",
       "  <tbody>\n",
       "    <tr>\n",
       "      <th>0</th>\n",
       "      <td>The Academic with empNr 715 has EmpName ‘Adams A’</td>\n",
       "      <td>Academic has EmpName</td>\n",
       "    </tr>\n",
       "    <tr>\n",
       "      <th>1</th>\n",
       "      <td>The Academic with empNr 715 works_for_the Dept...</td>\n",
       "      <td>Academic works for Dept</td>\n",
       "    </tr>\n",
       "    <tr>\n",
       "      <th>2</th>\n",
       "      <td>The Academic with empNr 715 occupies_the Room ...</td>\n",
       "      <td>Academic occupies Room</td>\n",
       "    </tr>\n",
       "    <tr>\n",
       "      <th>3</th>\n",
       "      <td>The Academic with empNr 715 uses_the Extension...</td>\n",
       "      <td>Academic uses Extension</td>\n",
       "    </tr>\n",
       "    <tr>\n",
       "      <th>4</th>\n",
       "      <td>The Extension with extNr ‘2345’ provides_the A...</td>\n",
       "      <td>Extension provides AccessLevel</td>\n",
       "    </tr>\n",
       "    <tr>\n",
       "      <th>5</th>\n",
       "      <td>The Academic with empNr 715 is_contracted_till...</td>\n",
       "      <td>Academic is contracted till Date</td>\n",
       "    </tr>\n",
       "  </tbody>\n",
       "</table>\n",
       "</div>"
      ],
      "text/plain": [
       "                                               facts  \\\n",
       "0  The Academic with empNr 715 has EmpName ‘Adams A’   \n",
       "1  The Academic with empNr 715 works_for_the Dept...   \n",
       "2  The Academic with empNr 715 occupies_the Room ...   \n",
       "3  The Academic with empNr 715 uses_the Extension...   \n",
       "4  The Extension with extNr ‘2345’ provides_the A...   \n",
       "5  The Academic with empNr 715 is_contracted_till...   \n",
       "\n",
       "                         fact_types  \n",
       "0              Academic has EmpName  \n",
       "1           Academic works for Dept  \n",
       "2            Academic occupies Room  \n",
       "3           Academic uses Extension  \n",
       "4    Extension provides AccessLevel  \n",
       "5  Academic is contracted till Date  "
      ]
     },
     "execution_count": 145,
     "metadata": {},
     "output_type": "execute_result"
    }
   ],
   "source": [
    "df = pd.DataFrame(zip(facts, facts_types), columns=['facts', 'fact_types'])\n",
    "df"
   ]
  },
  {
   "cell_type": "markdown",
   "metadata": {},
   "source": [
    "### Fitting a markov chain & generating facts types"
   ]
  },
  {
   "cell_type": "code",
   "execution_count": 178,
   "metadata": {},
   "outputs": [
    {
     "data": {
      "text/plain": [
       "<markovify.text.NewlineText at 0x111f55198>"
      ]
     },
     "execution_count": 178,
     "metadata": {},
     "output_type": "execute_result"
    }
   ],
   "source": [
    "text_model = markovify.NewlineText(fact_types, state_size=1)\n",
    "text_model"
   ]
  },
  {
   "cell_type": "code",
   "execution_count": 182,
   "metadata": {},
   "outputs": [
    {
     "name": "stdout",
     "output_type": "stream",
     "text": [
      "Dept uses Extension provides AccessLevel\n",
      "Academic has EmpName belongs to Academic is tenured\n",
      "EmpName belongs to Academic is contracted till Date\n",
      "Academic works for Dept uses Extension provides AccessLevel\n",
      "Dept uses Extension\n",
      "Room contains Academic is tenured\n",
      "Room contains Academic uses AccessLevel\n",
      "Dept uses Extension provides AccessLevel\n",
      "Room contains Academic is contracted till Date\n",
      "Academic works for Dept uses AccessLevel\n"
     ]
    }
   ],
   "source": [
    "for i in range(10):\n",
    "    print(text_model.make_sentence())"
   ]
  },
  {
   "cell_type": "markdown",
   "metadata": {},
   "source": [
    "### Generating facts from generated fact type"
   ]
  },
  {
   "cell_type": "code",
   "execution_count": 183,
   "metadata": {},
   "outputs": [
    {
     "data": {
      "text/plain": [
       "'Academic works for Dept uses Extension provides AccessLevel'"
      ]
     },
     "execution_count": 183,
     "metadata": {},
     "output_type": "execute_result"
    }
   ],
   "source": [
    "generated_fact_type = \"Academic works for Dept uses Extension provides AccessLevel\"\n",
    "generated_fact_type"
   ]
  },
  {
   "cell_type": "code",
   "execution_count": 220,
   "metadata": {},
   "outputs": [],
   "source": [
    "tokens = {'Academic':['empNr 715', 'empNr 281', 'empNr 372'],\n",
    "         'Dept':['Sales', 'Marketing', 'Analytics'],\n",
    "         'Extension':['1100', '5502', '3463'],\n",
    "         'AccessLevel':['Read Only', 'Full Access', 'Limited']}"
   ]
  },
  {
   "cell_type": "code",
   "execution_count": 241,
   "metadata": {},
   "outputs": [],
   "source": [
    "def replacetoken(string):\n",
    "    if string in tokens.keys():\n",
    "        toks = tokens.get(string)\n",
    "        idx = np.random.randint(0,3)\n",
    "        return str(string + ' with ' + toks[idx])\n",
    "    else:\n",
    "        return string"
   ]
  },
  {
   "cell_type": "code",
   "execution_count": 244,
   "metadata": {
    "scrolled": true
   },
   "outputs": [
    {
     "name": "stdout",
     "output_type": "stream",
     "text": [
      "Academic with empNr 372 works for Dept with Analytics uses Extension with 1100 provides AccessLevel with Read Only\n",
      "Academic with empNr 281 works for Dept with Marketing uses Extension with 3463 provides AccessLevel with Limited\n",
      "Academic with empNr 372 works for Dept with Analytics uses Extension with 1100 provides AccessLevel with Read Only\n",
      "Academic with empNr 715 works for Dept with Analytics uses Extension with 1100 provides AccessLevel with Full Access\n",
      "Academic with empNr 372 works for Dept with Marketing uses Extension with 5502 provides AccessLevel with Limited\n",
      "Academic with empNr 281 works for Dept with Sales uses Extension with 1100 provides AccessLevel with Limited\n",
      "Academic with empNr 715 works for Dept with Marketing uses Extension with 3463 provides AccessLevel with Read Only\n",
      "Academic with empNr 281 works for Dept with Sales uses Extension with 1100 provides AccessLevel with Limited\n",
      "Academic with empNr 715 works for Dept with Sales uses Extension with 3463 provides AccessLevel with Full Access\n",
      "Academic with empNr 715 works for Dept with Marketing uses Extension with 1100 provides AccessLevel with Full Access\n",
      "Academic with empNr 281 works for Dept with Analytics uses Extension with 5502 provides AccessLevel with Limited\n",
      "Academic with empNr 715 works for Dept with Marketing uses Extension with 3463 provides AccessLevel with Full Access\n",
      "Academic with empNr 281 works for Dept with Sales uses Extension with 5502 provides AccessLevel with Limited\n",
      "Academic with empNr 372 works for Dept with Sales uses Extension with 5502 provides AccessLevel with Read Only\n",
      "Academic with empNr 715 works for Dept with Marketing uses Extension with 3463 provides AccessLevel with Limited\n",
      "Academic with empNr 372 works for Dept with Marketing uses Extension with 3463 provides AccessLevel with Read Only\n",
      "Academic with empNr 372 works for Dept with Marketing uses Extension with 5502 provides AccessLevel with Read Only\n",
      "Academic with empNr 372 works for Dept with Sales uses Extension with 5502 provides AccessLevel with Full Access\n",
      "Academic with empNr 372 works for Dept with Marketing uses Extension with 5502 provides AccessLevel with Full Access\n",
      "Academic with empNr 281 works for Dept with Marketing uses Extension with 3463 provides AccessLevel with Read Only\n"
     ]
    }
   ],
   "source": [
    "for i in range(20):\n",
    "    print(' '.join([replacetoken(i) for i in generated_fact_type.split()]))"
   ]
  },
  {
   "cell_type": "markdown",
   "metadata": {},
   "source": [
    "# Proposed Architecture"
   ]
  },
  {
   "cell_type": "markdown",
   "metadata": {},
   "source": [
    "<img src='markovORM.jpg'></img>"
   ]
  },
  {
   "cell_type": "markdown",
   "metadata": {},
   "source": [
    "1. The engine first extracts facts from a database or ORM diagram(s)\n",
    "2. Next these facts are turned into fact types and fact tokens are stored separately\n",
    "3. The fact types are used to train a sequential encoder into Thought vectors\n",
    "4. The Thought vectors are then decoded back to generated fact types\n",
    "5. A randomizer then picks up random tokens (some of which are without replacement) and adds them to the generated fact types to generate facts\n",
    "6. These facts are then used to impute a Relational database"
   ]
  },
  {
   "cell_type": "markdown",
   "metadata": {},
   "source": [
    "### Further Study\n",
    "\n",
    "https://aclweb.org/anthology/P18-1151"
   ]
  }
 ],
 "metadata": {
  "kernelspec": {
   "display_name": "Python 3",
   "language": "python",
   "name": "python3"
  },
  "language_info": {
   "codemirror_mode": {
    "name": "ipython",
    "version": 3
   },
   "file_extension": ".py",
   "mimetype": "text/x-python",
   "name": "python",
   "nbconvert_exporter": "python",
   "pygments_lexer": "ipython3",
   "version": "3.7.3"
  }
 },
 "nbformat": 4,
 "nbformat_minor": 2
}
