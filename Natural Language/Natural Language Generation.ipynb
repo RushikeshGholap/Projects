{
 "cells": [
  {
   "cell_type": "markdown",
   "metadata": {},
   "source": [
    "# Markov chains"
   ]
  },
  {
   "cell_type": "code",
   "execution_count": 2,
   "metadata": {},
   "outputs": [],
   "source": [
    "import pandas as pd\n",
    "import markovify"
   ]
  },
  {
   "cell_type": "code",
   "execution_count": 46,
   "metadata": {},
   "outputs": [],
   "source": [
    "df = pd.read_csv('million-headlines.zip', compression='zip')"
   ]
  },
  {
   "cell_type": "code",
   "execution_count": 113,
   "metadata": {},
   "outputs": [],
   "source": [
    "df1 = df.loc[:,:]"
   ]
  },
  {
   "cell_type": "code",
   "execution_count": 114,
   "metadata": {},
   "outputs": [
    {
     "data": {
      "text/plain": [
       "(1103663, 2)"
      ]
     },
     "execution_count": 114,
     "metadata": {},
     "output_type": "execute_result"
    }
   ],
   "source": [
    "df1.shape"
   ]
  },
  {
   "cell_type": "code",
   "execution_count": 115,
   "metadata": {},
   "outputs": [
    {
     "data": {
      "text/html": [
       "<div>\n",
       "<style scoped>\n",
       "    .dataframe tbody tr th:only-of-type {\n",
       "        vertical-align: middle;\n",
       "    }\n",
       "\n",
       "    .dataframe tbody tr th {\n",
       "        vertical-align: top;\n",
       "    }\n",
       "\n",
       "    .dataframe thead th {\n",
       "        text-align: right;\n",
       "    }\n",
       "</style>\n",
       "<table border=\"1\" class=\"dataframe\">\n",
       "  <thead>\n",
       "    <tr style=\"text-align: right;\">\n",
       "      <th></th>\n",
       "      <th>publish_date</th>\n",
       "      <th>headline_text</th>\n",
       "    </tr>\n",
       "  </thead>\n",
       "  <tbody>\n",
       "    <tr>\n",
       "      <th>0</th>\n",
       "      <td>20030219</td>\n",
       "      <td>aba decides against community broadcasting lic...</td>\n",
       "    </tr>\n",
       "    <tr>\n",
       "      <th>1</th>\n",
       "      <td>20030219</td>\n",
       "      <td>act fire witnesses must be aware of defamation</td>\n",
       "    </tr>\n",
       "    <tr>\n",
       "      <th>2</th>\n",
       "      <td>20030219</td>\n",
       "      <td>a g calls for infrastructure protection summit</td>\n",
       "    </tr>\n",
       "    <tr>\n",
       "      <th>3</th>\n",
       "      <td>20030219</td>\n",
       "      <td>air nz staff in aust strike for pay rise</td>\n",
       "    </tr>\n",
       "    <tr>\n",
       "      <th>4</th>\n",
       "      <td>20030219</td>\n",
       "      <td>air nz strike to affect australian travellers</td>\n",
       "    </tr>\n",
       "  </tbody>\n",
       "</table>\n",
       "</div>"
      ],
      "text/plain": [
       "   publish_date                                      headline_text\n",
       "0      20030219  aba decides against community broadcasting lic...\n",
       "1      20030219     act fire witnesses must be aware of defamation\n",
       "2      20030219     a g calls for infrastructure protection summit\n",
       "3      20030219           air nz staff in aust strike for pay rise\n",
       "4      20030219      air nz strike to affect australian travellers"
      ]
     },
     "execution_count": 115,
     "metadata": {},
     "output_type": "execute_result"
    }
   ],
   "source": [
    "df.head()"
   ]
  },
  {
   "cell_type": "code",
   "execution_count": 116,
   "metadata": {},
   "outputs": [],
   "source": [
    "from sklearn.feature_extraction.text import CountVectorizer"
   ]
  },
  {
   "cell_type": "code",
   "execution_count": 117,
   "metadata": {},
   "outputs": [],
   "source": [
    "cnt = CountVectorizer(stop_words=None)"
   ]
  },
  {
   "cell_type": "code",
   "execution_count": 118,
   "metadata": {},
   "outputs": [
    {
     "data": {
      "text/plain": [
       "CountVectorizer(analyzer='word', binary=False, decode_error='strict',\n",
       "        dtype=<class 'numpy.int64'>, encoding='utf-8', input='content',\n",
       "        lowercase=True, max_df=1.0, max_features=None, min_df=1,\n",
       "        ngram_range=(1, 1), preprocessor=None, stop_words=None,\n",
       "        strip_accents=None, token_pattern='(?u)\\\\b\\\\w\\\\w+\\\\b',\n",
       "        tokenizer=None, vocabulary=None)"
      ]
     },
     "execution_count": 118,
     "metadata": {},
     "output_type": "execute_result"
    }
   ],
   "source": [
    "cnt.fit(df1['headline_text'])"
   ]
  },
  {
   "cell_type": "code",
   "execution_count": 119,
   "metadata": {},
   "outputs": [
    {
     "data": {
      "text/plain": [
       "96644"
      ]
     },
     "execution_count": 119,
     "metadata": {},
     "output_type": "execute_result"
    }
   ],
   "source": [
    "len(cnt.vocabulary_)"
   ]
  },
  {
   "cell_type": "code",
   "execution_count": 203,
   "metadata": {},
   "outputs": [],
   "source": [
    "text_model = markovify.NewlineText(df1['headline_text'], state_size=3)"
   ]
  },
  {
   "cell_type": "code",
   "execution_count": 459,
   "metadata": {
    "scrolled": false
   },
   "outputs": [
    {
     "data": {
      "text/plain": [
       "['snooker champ keen to defend title on home soil after afghanistan tour',\n",
       " 'invading beetles paint the town with arts policies',\n",
       " 'un says 240 asylum seekers drowned after shipwreck',\n",
       " 'nsw to prosecute coal seam gas extraction process infographic',\n",
       " 'analyst cites hurdles in opening up more of qld to consider future of wickham station',\n",
       " 'macedonian president crashed plane found in wilderness',\n",
       " 'pietersen century helps england to whitewash australia',\n",
       " 'blocked online islamic state supporters for recruiting',\n",
       " 'game of thrones battle of the back rows',\n",
       " 'driverless car smashes through house',\n",
       " 'minister announces changes to 457 visa holders should pay for esperance clean up',\n",
       " 'mid west chamber keen for albany to host second childrens tv show',\n",
       " 'greek conservatives fail in talks to join great gatsby',\n",
       " 'call for nt voting to go ahead administrator confirms',\n",
       " 'supreme court rejects bid to renew dog breeding',\n",
       " 'farmers warned of fines jail',\n",
       " 'lockyer valley council delivers budget rate cap',\n",
       " 'earth system science the science of the murray darling basin health monintoring',\n",
       " 'uni inquiry hears call for lake jet ski ban',\n",
       " 's korea cant confirm kim jong il sparks rumours of gaddafi escape',\n",
       " 'police back down on traveston crossing dam protest response overwhelms',\n",
       " 'gap plans australia roll out in broken hill safe to drink says mayor',\n",
       " 'glider pilot dies in helicopter crash at cessnock',\n",
       " 'stroud residents tell of their tales of being',\n",
       " 'sea eagles triumph over north',\n",
       " 'man injured in violent brawl',\n",
       " 'new fruit fly trap trial',\n",
       " 'boss fined over fatal accident',\n",
       " 'power may consider legal action to proceed against youth',\n",
       " 'minor train derailment east of broken hill elects first female president',\n",
       " 'nursing homes review backed in wake of perth hills bushfires',\n",
       " 'farmers urged to report to',\n",
       " 'ferguson flags support for super changes',\n",
       " 'damning review into act child protection under review',\n",
       " 'strike at chilean airports ground tens of thousands for rees domain',\n",
       " '5 ways to play with injured finger',\n",
       " 'gearing year 11 girls up on an indonesian clove plantation',\n",
       " 'berry calls for united fight for native forest access',\n",
       " 'power station emissions to be used more by cattle',\n",
       " 'brooke backs mitchell as all blacks captain kieran read gives evidence',\n",
       " 'nz launches inquiry into bank merger',\n",
       " None,\n",
       " 'farmers call for water bans',\n",
       " 'internet service gets thumbs up',\n",
       " 'costa to meet in final',\n",
       " 'hundreds mourn teenage crash victims released from hospital',\n",
       " 'higher toll takings fail to prevent south african sweep',\n",
       " 'vic govt continues push for g20 stimulus deal',\n",
       " 'the nsw planning department accused of environmental vandalism',\n",
       " 'public has input into hospital site in bendigo central victoria',\n",
       " 'miners look to africa as dollar falls from overnight highs',\n",
       " 'media coverage no help to greste lawyer says',\n",
       " 'parramatta terror suspects appear in melbourne court',\n",
       " None,\n",
       " None,\n",
       " None,\n",
       " 'actu backs call for broken hill carer',\n",
       " 'union fears workers to be transferred to sydney for australia premiere',\n",
       " None,\n",
       " 'fury bats to three wicket win over england',\n",
       " 'bushfire affected women gather to support palm island bravery',\n",
       " 'milad mokbel convicted of drug trafficking in malaysia',\n",
       " 'radradra re signs with dragons',\n",
       " 'russia bids farewell to yarralumla',\n",
       " 'nt attempts to lure skilled workers',\n",
       " 'gay tasmanian couple seal dying wish with new zealand oil crew clean up',\n",
       " 'emus overpower croatia for place in football final',\n",
       " 'police fear for missing student in far north queensland',\n",
       " 'opp accuses act govt of wasting money on deforestation project indon',\n",
       " 'lgnsw encourages local councils to share drought funds',\n",
       " 'an tourists shot dead in russia ship blast',\n",
       " 'conservation group urges govt to come clean gillard',\n",
       " 'sobers backs under fire beck',\n",
       " None,\n",
       " 'nsw man jailed over far north dental shortage',\n",
       " 'foley response sought on land issue plans',\n",
       " 'englands rugby world cup hero jonny wilkinson announces international retirement',\n",
       " 'court recommends new laws on liquids',\n",
       " 'opp calls for un enquiry into deaths of two boys',\n",
       " 'tornadoes storms kill seven in indonesias aceh province',\n",
       " None,\n",
       " None,\n",
       " 'hamas al aqsa leaders killed in prison assault',\n",
       " 'travelling nun takes a breather oil sets record',\n",
       " 'wollongong crime rate drops in riverina',\n",
       " None,\n",
       " None,\n",
       " 'govt announces funding boost for adult literacy',\n",
       " 'fertiliser prices up as market bounces back despite losses in overseas mark',\n",
       " 'magistrate to deny bail for child rape accused',\n",
       " 'arrium changes focus to australian open title',\n",
       " 'convicted aurukun gang rapists may appeal sentences for policemans murder',\n",
       " 'river murray shack owners face lease slug',\n",
       " 'govt urges the solomons to hand over mt isa high speed chase',\n",
       " 'aussie fox wins bronze in splash and dash final',\n",
       " 'public invited to celebrate bathur',\n",
       " 'rural tas rural reporter greening marble bar',\n",
       " 'simulated foot and mouth scare',\n",
       " None,\n",
       " 'wide bay area cleans up after freak hail storm',\n",
       " None,\n",
       " 'nab rate rise expected in new council',\n",
       " 'govts urged to fund new safe taxi ranks',\n",
       " 'united fight back to draw with south korea',\n",
       " 'australian storm sanders beats peng shuai in brussels open final',\n",
       " 'tralee development given green light for bendigo traffic lights',\n",
       " 'abbott braces for the worst as arrium',\n",
       " None,\n",
       " 'wa parliament moves to boost bank competition',\n",
       " 'caldwell could be back behind the news poll finds 86 per cent of workforce as ceo outlines roadmap',\n",
       " 'dubbo council to vote on pay offer',\n",
       " None,\n",
       " \"royal children's hospital to open in sydney\",\n",
       " 'authorities await swine flu tests expected to come back the cricket must be cheaper',\n",
       " None,\n",
       " 'swan mayor killed in latest iraq violence',\n",
       " 'italian trucks block roads in tax protests',\n",
       " 'roads minister confident funding will improve schoolies',\n",
       " None,\n",
       " 'public get say on broken hill to host its first ever mall',\n",
       " 'knights members club for holding up student acce',\n",
       " 'unions pleased with new helipad',\n",
       " None,\n",
       " 'man refuses to talk to sea shepherd crew',\n",
       " 'tas and vic firefighters prepare for potentially catastrophic condit',\n",
       " 'torres strait nurses strike deal with northern ireland dup',\n",
       " None,\n",
       " 'opi report calls for increased recruitment to help with csg water study',\n",
       " 'man fronts court accused of cairns cemetery grave robbing',\n",
       " 'radiation not expected from senate',\n",
       " 'ac milan likely to take out finke desert race braving chilly conditions',\n",
       " 'farnsworth selling the carbon tax doomsday predicti',\n",
       " 'police defend actions to break up domestic dispute',\n",
       " None,\n",
       " 'centurion smith leads west indies to target australias overseas oil supplies',\n",
       " 'popular mens sheds popping up all over the united states of convenience',\n",
       " None,\n",
       " 'police link 1984 sex abuse case chaplains death confirmed',\n",
       " 'draft nrc report looks at aussie grain supply chain comparison audio',\n",
       " 'sri lanka to consolation win over taipans',\n",
       " 'funding running out for coal power ban',\n",
       " 'calma urges macklin to bring back behind the news decision',\n",
       " 'arrests in adelaide drug lab',\n",
       " 'sirul azhar umar living in australia debate us politics',\n",
       " 'police plead for clues to mans death',\n",
       " 'e timor election campaign kicks off for helicopter ringers',\n",
       " 'bill pulver would step down if nationals lose seats',\n",
       " 'qld constable suspended over alleged racist train attack targetted others',\n",
       " 'authorities sight 13 bodies in sea search for missing woman',\n",
       " 'no resolution in dispute between two running coaches',\n",
       " None,\n",
       " 'seventh death from sydney nursing home found in melbourne mans car found',\n",
       " 'hiv cases rise in far north to host defence inquiry forum',\n",
       " 'nsw govt urged to make flood mitigation a',\n",
       " 'man avoids jail over indecent assault at mirrabooka',\n",
       " 'seized drugs destined for wa truss',\n",
       " 'katich ready to fill in player gaps',\n",
       " 'crows need to focus on flood recovery grants',\n",
       " 'teenage boy assaulted on new years day hit and run driver sentenced',\n",
       " 'tasmanian mp lashes out at govt inaction on petrol prices',\n",
       " None,\n",
       " 'communities unite to better manage soil organic carbon',\n",
       " None,\n",
       " 'state energy ministers to meet over pay campaign',\n",
       " 'an human rights commissioner resigns',\n",
       " 'funeral for eight year minimum',\n",
       " None,\n",
       " 'clarion awards abc takes out eight clarion awards',\n",
       " 'ama rejects calls to resign',\n",
       " 'samanatha kelly death three charged over school bus crash',\n",
       " 'chinese company wins ord stage 2 please stand',\n",
       " 'railcorp probe told of culture of entitlement',\n",
       " 'father son held over alleged murder of wife in northern territory',\n",
       " 'woorabinda man accused of bashing two men in court over rail death',\n",
       " 'reds dump stormers to go top of the league',\n",
       " 'when an industry leaves town: one year on iraq still on brink',\n",
       " 'katherine river continues to swell',\n",
       " 'kangaroo recovering after being stabbed during fight',\n",
       " 'torres strait mayor keen to increase security',\n",
       " 'sydney airport given all clear after asbestos scare',\n",
       " 'vic govt defends solar power plan for narrabri',\n",
       " 'cycling sponsor pulls plug on zimbabwe tour',\n",
       " None,\n",
       " 'russian car bomb kills at least two',\n",
       " 'poofter parliamentary debate sparks war of words erupts over cobb broken hill comments',\n",
       " 'primary producers south australia hope for roads to be fixed',\n",
       " 'nsw town nicknamed south pole for answers to long running battle over giralang shops',\n",
       " 'stun gun used to break up dec if elected',\n",
       " 'australian detained in us for prison escapees',\n",
       " 'gun sales rise in august',\n",
       " 'queen to see brisbane flood recovery focussed on south west',\n",
       " 'facebook users warned of blue green algae investigation',\n",
       " 'us crashes out of hobart brisbane route',\n",
       " 'marines pull out of pakistan series',\n",
       " 'dokic into second round at atp atlanta open',\n",
       " 'pepi pods rolled out to tackle home energy efficiency',\n",
       " 'transport federation airs fears for sandhurst workers',\n",
       " 'nrma to stick with roar',\n",
       " 'govt urged to set up remote stores',\n",
       " 'cole inquiry changes fail to sway business']"
      ]
     },
     "execution_count": 459,
     "metadata": {},
     "output_type": "execute_result"
    }
   ],
   "source": [
    "[text_model.make_sentence() for i in range(200)]"
   ]
  },
  {
   "cell_type": "code",
   "execution_count": null,
   "metadata": {},
   "outputs": [],
   "source": []
  },
  {
   "cell_type": "code",
   "execution_count": null,
   "metadata": {},
   "outputs": [],
   "source": []
  },
  {
   "cell_type": "code",
   "execution_count": null,
   "metadata": {},
   "outputs": [],
   "source": []
  },
  {
   "cell_type": "code",
   "execution_count": null,
   "metadata": {},
   "outputs": [],
   "source": []
  },
  {
   "cell_type": "code",
   "execution_count": 105,
   "metadata": {},
   "outputs": [],
   "source": [
    "from pprint import pprint, pformat"
   ]
  },
  {
   "cell_type": "code",
   "execution_count": 106,
   "metadata": {},
   "outputs": [
    {
     "data": {
      "text/plain": [
       "15"
      ]
     },
     "execution_count": 106,
     "metadata": {},
     "output_type": "execute_result"
    }
   ],
   "source": [
    "len(eval(text_model.to_dict().get('chain')))"
   ]
  },
  {
   "cell_type": "code",
   "execution_count": 107,
   "metadata": {},
   "outputs": [
    {
     "data": {
      "text/plain": [
       "{'state_size': 1,\n",
       " 'chain': '[[[\"___BEGIN__\"], {\"aba\": 1, \"act\": 1}], [[\"aba\"], {\"decides\": 1}], [[\"decides\"], {\"against\": 1}], [[\"against\"], {\"community\": 1}], [[\"community\"], {\"broadcasting\": 1}], [[\"broadcasting\"], {\"licence\": 1}], [[\"licence\"], {\"___END__\": 1}], [[\"act\"], {\"fire\": 1}], [[\"fire\"], {\"witnesses\": 1}], [[\"witnesses\"], {\"must\": 1}], [[\"must\"], {\"be\": 1}], [[\"be\"], {\"aware\": 1}], [[\"aware\"], {\"of\": 1}], [[\"of\"], {\"defamation\": 1}], [[\"defamation\"], {\"___END__\": 1}]]',\n",
       " 'parsed_sentences': [['aba',\n",
       "   'decides',\n",
       "   'against',\n",
       "   'community',\n",
       "   'broadcasting',\n",
       "   'licence'],\n",
       "  ['act', 'fire', 'witnesses', 'must', 'be', 'aware', 'of', 'defamation']]}"
      ]
     },
     "execution_count": 107,
     "metadata": {},
     "output_type": "execute_result"
    }
   ],
   "source": [
    "text_model.to_dict()"
   ]
  },
  {
   "cell_type": "code",
   "execution_count": null,
   "metadata": {},
   "outputs": [],
   "source": []
  },
  {
   "cell_type": "code",
   "execution_count": null,
   "metadata": {},
   "outputs": [],
   "source": []
  },
  {
   "cell_type": "code",
   "execution_count": null,
   "metadata": {},
   "outputs": [],
   "source": []
  }
 ],
 "metadata": {
  "kernelspec": {
   "display_name": "Python 3",
   "language": "python",
   "name": "python3"
  },
  "language_info": {
   "codemirror_mode": {
    "name": "ipython",
    "version": 3
   },
   "file_extension": ".py",
   "mimetype": "text/x-python",
   "name": "python",
   "nbconvert_exporter": "python",
   "pygments_lexer": "ipython3",
   "version": "3.7.3"
  }
 },
 "nbformat": 4,
 "nbformat_minor": 2
}
