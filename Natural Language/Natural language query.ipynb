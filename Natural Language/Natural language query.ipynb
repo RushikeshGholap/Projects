{
 "cells": [
  {
   "cell_type": "code",
   "execution_count": 67,
   "metadata": {},
   "outputs": [],
   "source": [
    "import os\n",
    "import pandas as pd\n",
    "import numpy as np"
   ]
  },
  {
   "cell_type": "code",
   "execution_count": 10,
   "metadata": {},
   "outputs": [
    {
     "data": {
      "text/plain": [
       "'/Users/akshay/Dropbox/Personal/Data Science/Codes/Projects'"
      ]
     },
     "execution_count": 10,
     "metadata": {},
     "output_type": "execute_result"
    }
   ],
   "source": [
    "os.path.realpath('..')"
   ]
  },
  {
   "cell_type": "code",
   "execution_count": 13,
   "metadata": {},
   "outputs": [],
   "source": [
    "path = '/Users/akshay/Dropbox/Personal/Data Science/Codes/Projects Non Git/Wikisql/WikiSQL/data'"
   ]
  },
  {
   "cell_type": "code",
   "execution_count": 22,
   "metadata": {},
   "outputs": [],
   "source": [
    "tables_path = os.path.join(path, 'dev.tables.jsonl')\n",
    "meta_path = os.path.join(path, 'dev.jsonl')"
   ]
  },
  {
   "cell_type": "code",
   "execution_count": 213,
   "metadata": {},
   "outputs": [],
   "source": [
    "tables = pd.read_json(tables_path, lines=True)\n",
    "meta = pd.read_json(meta_path, lines=True)"
   ]
  },
  {
   "cell_type": "code",
   "execution_count": 214,
   "metadata": {},
   "outputs": [],
   "source": [
    "##### FUNCTIONS ######\n",
    "\n",
    "def get_small_table(table_id):\n",
    "    details = tables[tables['id']==table_id]\n",
    "    rows = details['rows'].iloc[0]\n",
    "    labels = details['header'].iloc[0]\n",
    "    df = pd.DataFrame(rows, columns=labels)\n",
    "    return df"
   ]
  },
  {
   "cell_type": "code",
   "execution_count": 215,
   "metadata": {},
   "outputs": [
    {
     "data": {
      "text/html": [
       "<div>\n",
       "<style scoped>\n",
       "    .dataframe tbody tr th:only-of-type {\n",
       "        vertical-align: middle;\n",
       "    }\n",
       "\n",
       "    .dataframe tbody tr th {\n",
       "        vertical-align: top;\n",
       "    }\n",
       "\n",
       "    .dataframe thead th {\n",
       "        text-align: right;\n",
       "    }\n",
       "</style>\n",
       "<table border=\"1\" class=\"dataframe\">\n",
       "  <thead>\n",
       "    <tr style=\"text-align: right;\">\n",
       "      <th></th>\n",
       "      <th>caption</th>\n",
       "      <th>header</th>\n",
       "      <th>id</th>\n",
       "      <th>name</th>\n",
       "      <th>page_id</th>\n",
       "      <th>page_title</th>\n",
       "      <th>rows</th>\n",
       "      <th>section_title</th>\n",
       "      <th>types</th>\n",
       "    </tr>\n",
       "  </thead>\n",
       "  <tbody>\n",
       "    <tr>\n",
       "      <th>2058</th>\n",
       "      <td>T</td>\n",
       "      <td>[Player, Nationality, Jersey Number(s), Positi...</td>\n",
       "      <td>2-16772687-19</td>\n",
       "      <td>NaN</td>\n",
       "      <td>16772687.0</td>\n",
       "      <td>Seattle SuperSonics all-time roster</td>\n",
       "      <td>[[Kurt Thomas Category:Articles with hCards, U...</td>\n",
       "      <td>T</td>\n",
       "      <td>[text, text, real, text, text, text]</td>\n",
       "    </tr>\n",
       "  </tbody>\n",
       "</table>\n",
       "</div>"
      ],
      "text/plain": [
       "     caption                                             header  \\\n",
       "2058       T  [Player, Nationality, Jersey Number(s), Positi...   \n",
       "\n",
       "                 id name     page_id                           page_title  \\\n",
       "2058  2-16772687-19  NaN  16772687.0  Seattle SuperSonics all-time roster   \n",
       "\n",
       "                                                   rows section_title  \\\n",
       "2058  [[Kurt Thomas Category:Articles with hCards, U...             T   \n",
       "\n",
       "                                     types  \n",
       "2058  [text, text, real, text, text, text]  "
      ]
     },
     "execution_count": 215,
     "metadata": {},
     "output_type": "execute_result"
    }
   ],
   "source": [
    "tables[tables['id']==table_id]"
   ]
  },
  {
   "cell_type": "code",
   "execution_count": 216,
   "metadata": {},
   "outputs": [
    {
     "data": {
      "text/plain": [
       "'1-19283806-4'"
      ]
     },
     "execution_count": 216,
     "metadata": {},
     "output_type": "execute_result"
    }
   ],
   "source": [
    "#Get a table id at random\n",
    "table_id = np.random.choice(meta['table_id'])\n",
    "table_id"
   ]
  },
  {
   "cell_type": "code",
   "execution_count": 217,
   "metadata": {},
   "outputs": [
    {
     "data": {
      "text/html": [
       "<div>\n",
       "<style scoped>\n",
       "    .dataframe tbody tr th:only-of-type {\n",
       "        vertical-align: middle;\n",
       "    }\n",
       "\n",
       "    .dataframe tbody tr th {\n",
       "        vertical-align: top;\n",
       "    }\n",
       "\n",
       "    .dataframe thead th {\n",
       "        text-align: right;\n",
       "    }\n",
       "</style>\n",
       "<table border=\"1\" class=\"dataframe\">\n",
       "  <thead>\n",
       "    <tr style=\"text-align: right;\">\n",
       "      <th></th>\n",
       "      <th>District</th>\n",
       "      <th>Location</th>\n",
       "      <th>Representative</th>\n",
       "      <th>Cook PVI</th>\n",
       "      <th>2012 election results</th>\n",
       "      <th>Median household income (2011)</th>\n",
       "    </tr>\n",
       "  </thead>\n",
       "  <tbody>\n",
       "    <tr>\n",
       "      <th>0</th>\n",
       "      <td>2nd</td>\n",
       "      <td>Marin County and the North Coast</td>\n",
       "      <td>Jared Huffman</td>\n",
       "      <td>D+20</td>\n",
       "      <td>69.0%–27.0% Obama</td>\n",
       "      <td>$56,576</td>\n",
       "    </tr>\n",
       "    <tr>\n",
       "      <th>1</th>\n",
       "      <td>3rd</td>\n",
       "      <td>Fairfield , Vacaville , and the Sacramento Valley</td>\n",
       "      <td>John Garamendi</td>\n",
       "      <td>D+3</td>\n",
       "      <td>54.3%–43.1% Obama</td>\n",
       "      <td>$53,602</td>\n",
       "    </tr>\n",
       "    <tr>\n",
       "      <th>2</th>\n",
       "      <td>5th</td>\n",
       "      <td>Santa Rosa , Napa County , Vallejo , and Martinez</td>\n",
       "      <td>Mike Thompson</td>\n",
       "      <td>D+19</td>\n",
       "      <td>69.7%–27.4% Obama</td>\n",
       "      <td>$58,942</td>\n",
       "    </tr>\n",
       "    <tr>\n",
       "      <th>3</th>\n",
       "      <td>9th</td>\n",
       "      <td>Antioch and most of San Joaquin County</td>\n",
       "      <td>Jerry McNerney</td>\n",
       "      <td>D+6</td>\n",
       "      <td>57.8%–40.1% Obama</td>\n",
       "      <td>$52,209</td>\n",
       "    </tr>\n",
       "    <tr>\n",
       "      <th>4</th>\n",
       "      <td>11th</td>\n",
       "      <td>Most of Contra Costa County</td>\n",
       "      <td>George Miller</td>\n",
       "      <td>D+17</td>\n",
       "      <td>67.5%–29.9% Obama</td>\n",
       "      <td>$69,586</td>\n",
       "    </tr>\n",
       "  </tbody>\n",
       "</table>\n",
       "</div>"
      ],
      "text/plain": [
       "  District                                           Location  Representative  \\\n",
       "0      2nd                   Marin County and the North Coast   Jared Huffman   \n",
       "1      3rd  Fairfield , Vacaville , and the Sacramento Valley  John Garamendi   \n",
       "2      5th  Santa Rosa , Napa County , Vallejo , and Martinez   Mike Thompson   \n",
       "3      9th             Antioch and most of San Joaquin County  Jerry McNerney   \n",
       "4     11th                        Most of Contra Costa County   George Miller   \n",
       "\n",
       "  Cook PVI 2012 election results Median household income (2011)  \n",
       "0     D+20     69.0%–27.0% Obama                        $56,576  \n",
       "1      D+3     54.3%–43.1% Obama                        $53,602  \n",
       "2     D+19     69.7%–27.4% Obama                        $58,942  \n",
       "3      D+6     57.8%–40.1% Obama                        $52,209  \n",
       "4     D+17     67.5%–29.9% Obama                        $69,586  "
      ]
     },
     "execution_count": 217,
     "metadata": {},
     "output_type": "execute_result"
    }
   ],
   "source": [
    "#Get corresponding dataset\n",
    "small_df = get_table(table_id)\n",
    "small_df.head()"
   ]
  },
  {
   "cell_type": "code",
   "execution_count": null,
   "metadata": {},
   "outputs": [],
   "source": []
  },
  {
   "cell_type": "code",
   "execution_count": null,
   "metadata": {},
   "outputs": [],
   "source": []
  },
  {
   "cell_type": "code",
   "execution_count": null,
   "metadata": {},
   "outputs": [],
   "source": [
    "###########################"
   ]
  },
  {
   "cell_type": "code",
   "execution_count": 189,
   "metadata": {},
   "outputs": [],
   "source": [
    "#List of all table ids\n",
    "#all_table_ids = list(meta['table_id'])"
   ]
  },
  {
   "cell_type": "code",
   "execution_count": 218,
   "metadata": {},
   "outputs": [],
   "source": [
    "def build_meta(df):\n",
    "    dd = small_df.to_dict()\n",
    "    return [(k,k1,v1) for k,v in dd.items() for k1,v1 in v.items()]"
   ]
  },
  {
   "cell_type": "code",
   "execution_count": 219,
   "metadata": {},
   "outputs": [],
   "source": [
    "small_meta = build_meta(df)"
   ]
  },
  {
   "cell_type": "code",
   "execution_count": null,
   "metadata": {},
   "outputs": [],
   "source": [
    "##############################"
   ]
  },
  {
   "cell_type": "code",
   "execution_count": 220,
   "metadata": {},
   "outputs": [
    {
     "data": {
      "text/html": [
       "<div>\n",
       "<style scoped>\n",
       "    .dataframe tbody tr th:only-of-type {\n",
       "        vertical-align: middle;\n",
       "    }\n",
       "\n",
       "    .dataframe tbody tr th {\n",
       "        vertical-align: top;\n",
       "    }\n",
       "\n",
       "    .dataframe thead th {\n",
       "        text-align: right;\n",
       "    }\n",
       "</style>\n",
       "<table border=\"1\" class=\"dataframe\">\n",
       "  <thead>\n",
       "    <tr style=\"text-align: right;\">\n",
       "      <th></th>\n",
       "      <th>index</th>\n",
       "      <th>0</th>\n",
       "      <th>1</th>\n",
       "      <th>2</th>\n",
       "      <th>3</th>\n",
       "      <th>4</th>\n",
       "      <th>5</th>\n",
       "      <th>6</th>\n",
       "      <th>7</th>\n",
       "      <th>8</th>\n",
       "      <th>9</th>\n",
       "      <th>10</th>\n",
       "      <th>11</th>\n",
       "    </tr>\n",
       "  </thead>\n",
       "  <tbody>\n",
       "    <tr>\n",
       "      <th>0</th>\n",
       "      <td>District</td>\n",
       "      <td>2nd</td>\n",
       "      <td>3rd</td>\n",
       "      <td>5th</td>\n",
       "      <td>9th</td>\n",
       "      <td>11th</td>\n",
       "      <td>12th</td>\n",
       "      <td>13th</td>\n",
       "      <td>14th</td>\n",
       "      <td>15th</td>\n",
       "      <td>17th</td>\n",
       "      <td>18th</td>\n",
       "      <td>19th</td>\n",
       "    </tr>\n",
       "    <tr>\n",
       "      <th>1</th>\n",
       "      <td>Location</td>\n",
       "      <td>Marin County and the North Coast</td>\n",
       "      <td>Fairfield , Vacaville , and the Sacramento Valley</td>\n",
       "      <td>Santa Rosa , Napa County , Vallejo , and Martinez</td>\n",
       "      <td>Antioch and most of San Joaquin County</td>\n",
       "      <td>Most of Contra Costa County</td>\n",
       "      <td>Most of San Francisco</td>\n",
       "      <td>Berkeley , Oakland , and San Leandro</td>\n",
       "      <td>Most of San Mateo County</td>\n",
       "      <td>Hayward , Union City , and the Tri-Valley</td>\n",
       "      <td>Fremont and northern Silicon Valley</td>\n",
       "      <td>Menlo Park and western Silicon Valley</td>\n",
       "      <td>San Jose and Morgan Hill</td>\n",
       "    </tr>\n",
       "    <tr>\n",
       "      <th>2</th>\n",
       "      <td>Representative</td>\n",
       "      <td>Jared Huffman</td>\n",
       "      <td>John Garamendi</td>\n",
       "      <td>Mike Thompson</td>\n",
       "      <td>Jerry McNerney</td>\n",
       "      <td>George Miller</td>\n",
       "      <td>Nancy Pelosi</td>\n",
       "      <td>Barbara Lee</td>\n",
       "      <td>Jackie Speier</td>\n",
       "      <td>Eric Swalwell</td>\n",
       "      <td>Mike Honda</td>\n",
       "      <td>Anna Eshoo</td>\n",
       "      <td>Zoe Lofgren</td>\n",
       "    </tr>\n",
       "    <tr>\n",
       "      <th>3</th>\n",
       "      <td>Cook PVI</td>\n",
       "      <td>D+20</td>\n",
       "      <td>D+3</td>\n",
       "      <td>D+19</td>\n",
       "      <td>D+6</td>\n",
       "      <td>D+17</td>\n",
       "      <td>D+34</td>\n",
       "      <td>D+37</td>\n",
       "      <td>D+23</td>\n",
       "      <td>D+16</td>\n",
       "      <td>D+20</td>\n",
       "      <td>D+18</td>\n",
       "      <td>D+19</td>\n",
       "    </tr>\n",
       "    <tr>\n",
       "      <th>4</th>\n",
       "      <td>2012 election results</td>\n",
       "      <td>69.0%–27.0% Obama</td>\n",
       "      <td>54.3%–43.1% Obama</td>\n",
       "      <td>69.7%–27.4% Obama</td>\n",
       "      <td>57.8%–40.1% Obama</td>\n",
       "      <td>67.5%–29.9% Obama</td>\n",
       "      <td>84.0%–12.5% Obama</td>\n",
       "      <td>87.5%–9.0% Obama</td>\n",
       "      <td>74.2%–23.6% Obama</td>\n",
       "      <td>68.0%–29.8% Obama</td>\n",
       "      <td>71.9%–25.5% Obama</td>\n",
       "      <td>68.2%–28.9% Obama</td>\n",
       "      <td>71.2%–26.5% Obama</td>\n",
       "    </tr>\n",
       "    <tr>\n",
       "      <th>5</th>\n",
       "      <td>Median household income (2011)</td>\n",
       "      <td>$56,576</td>\n",
       "      <td>$53,602</td>\n",
       "      <td>$58,942</td>\n",
       "      <td>$52,209</td>\n",
       "      <td>$69,586</td>\n",
       "      <td>$69,046</td>\n",
       "      <td>$56,906</td>\n",
       "      <td>$79,287</td>\n",
       "      <td>$82,179</td>\n",
       "      <td>$92,030</td>\n",
       "      <td>$97,001</td>\n",
       "      <td>$71,479</td>\n",
       "    </tr>\n",
       "  </tbody>\n",
       "</table>\n",
       "</div>"
      ],
      "text/plain": [
       "                            index                                 0  \\\n",
       "0                        District                               2nd   \n",
       "1                        Location  Marin County and the North Coast   \n",
       "2                  Representative                     Jared Huffman   \n",
       "3                        Cook PVI                              D+20   \n",
       "4           2012 election results                 69.0%–27.0% Obama   \n",
       "5  Median household income (2011)                           $56,576   \n",
       "\n",
       "                                                   1  \\\n",
       "0                                                3rd   \n",
       "1  Fairfield , Vacaville , and the Sacramento Valley   \n",
       "2                                     John Garamendi   \n",
       "3                                                D+3   \n",
       "4                                  54.3%–43.1% Obama   \n",
       "5                                            $53,602   \n",
       "\n",
       "                                                   2  \\\n",
       "0                                                5th   \n",
       "1  Santa Rosa , Napa County , Vallejo , and Martinez   \n",
       "2                                      Mike Thompson   \n",
       "3                                               D+19   \n",
       "4                                  69.7%–27.4% Obama   \n",
       "5                                            $58,942   \n",
       "\n",
       "                                        3                            4  \\\n",
       "0                                     9th                         11th   \n",
       "1  Antioch and most of San Joaquin County  Most of Contra Costa County   \n",
       "2                          Jerry McNerney                George Miller   \n",
       "3                                     D+6                         D+17   \n",
       "4                       57.8%–40.1% Obama            67.5%–29.9% Obama   \n",
       "5                                 $52,209                      $69,586   \n",
       "\n",
       "                       5                                     6  \\\n",
       "0                   12th                                  13th   \n",
       "1  Most of San Francisco  Berkeley , Oakland , and San Leandro   \n",
       "2           Nancy Pelosi                           Barbara Lee   \n",
       "3                   D+34                                  D+37   \n",
       "4      84.0%–12.5% Obama                      87.5%–9.0% Obama   \n",
       "5                $69,046                               $56,906   \n",
       "\n",
       "                          7                                          8  \\\n",
       "0                      14th                                       15th   \n",
       "1  Most of San Mateo County  Hayward , Union City , and the Tri-Valley   \n",
       "2             Jackie Speier                              Eric Swalwell   \n",
       "3                      D+23                                       D+16   \n",
       "4         74.2%–23.6% Obama                          68.0%–29.8% Obama   \n",
       "5                   $79,287                                    $82,179   \n",
       "\n",
       "                                     9                                     10  \\\n",
       "0                                 17th                                   18th   \n",
       "1  Fremont and northern Silicon Valley  Menlo Park and western Silicon Valley   \n",
       "2                           Mike Honda                             Anna Eshoo   \n",
       "3                                 D+20                                   D+18   \n",
       "4                    71.9%–25.5% Obama                      68.2%–28.9% Obama   \n",
       "5                              $92,030                                $97,001   \n",
       "\n",
       "                         11  \n",
       "0                      19th  \n",
       "1  San Jose and Morgan Hill  \n",
       "2               Zoe Lofgren  \n",
       "3                      D+19  \n",
       "4         71.2%–26.5% Obama  \n",
       "5                   $71,479  "
      ]
     },
     "execution_count": 220,
     "metadata": {},
     "output_type": "execute_result"
    }
   ],
   "source": [
    "training_data = small_df.transpose().reset_index()\n",
    "training_data"
   ]
  },
  {
   "cell_type": "code",
   "execution_count": 221,
   "metadata": {},
   "outputs": [],
   "source": [
    "#############################"
   ]
  },
  {
   "cell_type": "code",
   "execution_count": 222,
   "metadata": {},
   "outputs": [],
   "source": [
    "def get_small_cols(df):\n",
    "    dd = small_df.to_dict()\n",
    "    return [[k]+list(v.values()) for k, v in dd.items()]"
   ]
  },
  {
   "cell_type": "code",
   "execution_count": null,
   "metadata": {},
   "outputs": [],
   "source": [
    "def get_character_features(col):\n",
    "    "
   ]
  },
  {
   "cell_type": "code",
   "execution_count": 211,
   "metadata": {},
   "outputs": [],
   "source": [
    "import markovify"
   ]
  },
  {
   "cell_type": "code",
   "execution_count": null,
   "metadata": {},
   "outputs": [],
   "source": []
  },
  {
   "cell_type": "code",
   "execution_count": null,
   "metadata": {},
   "outputs": [],
   "source": []
  },
  {
   "cell_type": "code",
   "execution_count": 223,
   "metadata": {},
   "outputs": [
    {
     "data": {
      "text/plain": [
       "[['District',\n",
       "  '2nd',\n",
       "  '3rd',\n",
       "  '5th',\n",
       "  '9th',\n",
       "  '11th',\n",
       "  '12th',\n",
       "  '13th',\n",
       "  '14th',\n",
       "  '15th',\n",
       "  '17th',\n",
       "  '18th',\n",
       "  '19th'],\n",
       " ['Location',\n",
       "  'Marin County and the North Coast',\n",
       "  'Fairfield , Vacaville , and the Sacramento Valley',\n",
       "  'Santa Rosa , Napa County , Vallejo , and Martinez',\n",
       "  'Antioch and most of San Joaquin County',\n",
       "  'Most of Contra Costa County',\n",
       "  'Most of San Francisco',\n",
       "  'Berkeley , Oakland , and San Leandro',\n",
       "  'Most of San Mateo County',\n",
       "  'Hayward , Union City , and the Tri-Valley',\n",
       "  'Fremont and northern Silicon Valley',\n",
       "  'Menlo Park and western Silicon Valley',\n",
       "  'San Jose and Morgan Hill'],\n",
       " ['Representative',\n",
       "  'Jared Huffman',\n",
       "  'John Garamendi',\n",
       "  'Mike Thompson',\n",
       "  'Jerry McNerney',\n",
       "  'George Miller',\n",
       "  'Nancy Pelosi',\n",
       "  'Barbara Lee',\n",
       "  'Jackie Speier',\n",
       "  'Eric Swalwell',\n",
       "  'Mike Honda',\n",
       "  'Anna Eshoo',\n",
       "  'Zoe Lofgren'],\n",
       " ['Cook PVI',\n",
       "  'D+20',\n",
       "  'D+3',\n",
       "  'D+19',\n",
       "  'D+6',\n",
       "  'D+17',\n",
       "  'D+34',\n",
       "  'D+37',\n",
       "  'D+23',\n",
       "  'D+16',\n",
       "  'D+20',\n",
       "  'D+18',\n",
       "  'D+19'],\n",
       " ['2012 election results',\n",
       "  '69.0%–27.0% Obama',\n",
       "  '54.3%–43.1% Obama',\n",
       "  '69.7%–27.4% Obama',\n",
       "  '57.8%–40.1% Obama',\n",
       "  '67.5%–29.9% Obama',\n",
       "  '84.0%–12.5% Obama',\n",
       "  '87.5%–9.0% Obama',\n",
       "  '74.2%–23.6% Obama',\n",
       "  '68.0%–29.8% Obama',\n",
       "  '71.9%–25.5% Obama',\n",
       "  '68.2%–28.9% Obama',\n",
       "  '71.2%–26.5% Obama'],\n",
       " ['Median household income (2011)',\n",
       "  '$56,576',\n",
       "  '$53,602',\n",
       "  '$58,942',\n",
       "  '$52,209',\n",
       "  '$69,586',\n",
       "  '$69,046',\n",
       "  '$56,906',\n",
       "  '$79,287',\n",
       "  '$82,179',\n",
       "  '$92,030',\n",
       "  '$97,001',\n",
       "  '$71,479']]"
      ]
     },
     "execution_count": 223,
     "metadata": {},
     "output_type": "execute_result"
    }
   ],
   "source": [
    "get_small_cols(small_df)"
   ]
  },
  {
   "cell_type": "code",
   "execution_count": 200,
   "metadata": {},
   "outputs": [
    {
     "data": {
      "text/plain": [
       "{'Player': {0: 'Kurt Thomas Category:Articles with hCards',\n",
       "  1: 'David Thompson Category:Articles with hCards',\n",
       "  2: 'Rod Thorn Category:Articles with hCards',\n",
       "  3: 'Sedale Threatt Category:Articles with hCards',\n",
       "  4: 'Ray Tolbert Category:Articles with hCards',\n",
       "  5: 'Dean Tolson Category:Articles with hCards',\n",
       "  6: 'John Tresvant Category:Articles with hCards',\n",
       "  7: 'Al Tucker Category:Articles with hCards'},\n",
       " 'Nationality': {0: 'United States',\n",
       "  1: 'United States',\n",
       "  2: 'United States',\n",
       "  3: 'United States',\n",
       "  4: 'United States',\n",
       "  5: 'United States',\n",
       "  6: 'United States',\n",
       "  7: 'United States'},\n",
       " 'Jersey Number(s)': {0: '44',\n",
       "  1: '44',\n",
       "  2: '44',\n",
       "  3: '4',\n",
       "  4: '33',\n",
       "  5: '20',\n",
       "  6: '30',\n",
       "  7: '33'},\n",
       " 'Position': {0: 'PF / C',\n",
       "  1: 'SF / SG',\n",
       "  2: 'SG',\n",
       "  3: 'PG',\n",
       "  4: 'PF',\n",
       "  5: 'PF',\n",
       "  6: 'PF / C',\n",
       "  7: 'SF'},\n",
       " 'Years': {0: '2007–2008',\n",
       "  1: '1982 – 1984',\n",
       "  2: '1967 – 1971',\n",
       "  3: '1988 – 1991',\n",
       "  4: '1981 – 1983',\n",
       "  5: '1974–1975 1976 – 1977',\n",
       "  6: '1969 – 1970',\n",
       "  7: '1968 – 1969'},\n",
       " 'From': {0: 'Texas Christian',\n",
       "  1: 'North Carolina State',\n",
       "  2: 'West Virginia',\n",
       "  3: 'West Virginia Tech',\n",
       "  4: 'Indiana Hoosiers',\n",
       "  5: 'Arkansas',\n",
       "  6: 'Seattle',\n",
       "  7: 'Oklahoma Baptist'}}"
      ]
     },
     "execution_count": 200,
     "metadata": {},
     "output_type": "execute_result"
    }
   ],
   "source": [
    "small_df.to_dict()"
   ]
  },
  {
   "cell_type": "code",
   "execution_count": null,
   "metadata": {},
   "outputs": [],
   "source": []
  }
 ],
 "metadata": {
  "kernelspec": {
   "display_name": "Python 3",
   "language": "python",
   "name": "python3"
  },
  "language_info": {
   "codemirror_mode": {
    "name": "ipython",
    "version": 3
   },
   "file_extension": ".py",
   "mimetype": "text/x-python",
   "name": "python",
   "nbconvert_exporter": "python",
   "pygments_lexer": "ipython3",
   "version": "3.7.3"
  }
 },
 "nbformat": 4,
 "nbformat_minor": 2
}
