{
 "cells": [
  {
   "cell_type": "markdown",
   "metadata": {},
   "source": [
    "## GRE Verbal"
   ]
  },
  {
   "cell_type": "markdown",
   "metadata": {},
   "source": [
    "**Corroborated** - confirm / give support to\n",
    "- The professor corroborated to Tim's answer\n",
    "- Most of the representatives corroborated with the amendments"
   ]
  },
  {
   "cell_type": "markdown",
   "metadata": {},
   "source": [
    "**Gainsay (Gainsaid)** - Deny / Contradict  ('Against' + 'say')\n",
    "- No one was able to gainsay his claims\n",
    "- Trump gainsaid all the accusitions made against him"
   ]
  },
  {
   "cell_type": "markdown",
   "metadata": {},
   "source": [
    "**Derided** - express contempt for, ridicule   (latin: scoff at)\n",
    "- The decision was derided by the environmentalists\n",
    "- His brother asked him not to deride his decision"
   ]
  },
  {
   "cell_type": "markdown",
   "metadata": {},
   "source": [
    "**Denigrated** - criticize unfairly, disparage ('de' - away completely, 'niger' - black = make dark, criticize (?))\n",
    "- Doom and gloom merchants who denigrate their country\n",
    "- Hillary denigrated Trump's methods on the forum"
   ]
  },
  {
   "cell_type": "markdown",
   "metadata": {},
   "source": [
    "**Astute** - having or showing an ability to accurately assess situations and turn this to one's advantage\n",
    "- Tim was quite an astute businessman"
   ]
  },
  {
   "cell_type": "markdown",
   "metadata": {},
   "source": [
    "**Recondite** - Little known, abtruse, obscure  ('Re' - back, 'Condere' - put together)\n",
    "- The book is full of decondite information\n",
    "- The GOT character Recon is quite recondite"
   ]
  },
  {
   "cell_type": "markdown",
   "metadata": {},
   "source": [
    "**Clemency** - Mercy, lenience\n",
    "- The defendant made an appeal for clemency"
   ]
  },
  {
   "cell_type": "markdown",
   "metadata": {},
   "source": [
    "**Adulation** - Excessive admiration or praise\n",
    "- He found it difficult to cope up with the adulation of the fans"
   ]
  },
  {
   "cell_type": "markdown",
   "metadata": {},
   "source": [
    "**Refractory** - Stubborn or unmanageable (tech - substance that is resistant to heat) (latin: stubborn)\n",
    "- The phone manufacturer was extremely refractory during the discussion\n",
    "- His refractory horse had to be brought under control"
   ]
  },
  {
   "cell_type": "markdown",
   "metadata": {},
   "source": [
    "**Injuction** - An authoritative warning or order (latin: impose, enjoin)\n",
    "- This allusion to the scriptural injuction to love one's neighbour"
   ]
  },
  {
   "cell_type": "markdown",
   "metadata": {},
   "source": [
    "**Allusion** - An indirect or passing reference  (allude - 'ad': towards, 'ludere': to play = hint at, suggest)\n",
    "- He made an allusion to the rick and morty series"
   ]
  },
  {
   "cell_type": "markdown",
   "metadata": {},
   "source": [
    "**Circumlocute** - An indirect way of expressing something (circum - around, locute - talk)\n",
    "- The story rushes from there, with dizzying circumlocutions"
   ]
  },
  {
   "cell_type": "markdown",
   "metadata": {},
   "source": [
    "**Disconcerting** - Causing one to feel unsettled ('des' - reversal + 'concerter' - bring together)\n",
    "- He had a disconcerting habit of offering jobs to people he met at dinner parties"
   ]
  },
  {
   "cell_type": "markdown",
   "metadata": {},
   "source": []
  },
  {
   "cell_type": "markdown",
   "metadata": {},
   "source": []
  },
  {
   "cell_type": "markdown",
   "metadata": {},
   "source": []
  },
  {
   "cell_type": "markdown",
   "metadata": {},
   "source": []
  }
 ],
 "metadata": {
  "kernelspec": {
   "display_name": "Python 3",
   "language": "python",
   "name": "python3"
  },
  "language_info": {
   "codemirror_mode": {
    "name": "ipython",
    "version": 3
   },
   "file_extension": ".py",
   "mimetype": "text/x-python",
   "name": "python",
   "nbconvert_exporter": "python",
   "pygments_lexer": "ipython3",
   "version": "3.7.3"
  }
 },
 "nbformat": 4,
 "nbformat_minor": 2
}
