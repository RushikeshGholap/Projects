{
 "cells": [
  {
   "cell_type": "markdown",
   "metadata": {},
   "source": [
    "## GRE Verbal"
   ]
  },
  {
   "cell_type": "markdown",
   "metadata": {},
   "source": [
    "**Corroborated** - confirm / give support to\n",
    "- The professor corroborated to Tim's answer\n",
    "- Most of the representatives corroborated with the amendments"
   ]
  },
  {
   "cell_type": "markdown",
   "metadata": {},
   "source": [
    "**Gainsay (Gainsaid)** - Deny / Contradict  ('Against' + 'say')\n",
    "- No one was able to gainsay his claims\n",
    "- Trump gainsaid all the accusitions made against him"
   ]
  },
  {
   "cell_type": "markdown",
   "metadata": {},
   "source": [
    "**Derided** - express contempt for, ridicule   (latin: scoff at)\n",
    "- The decision was derided by the environmentalists\n",
    "- His brother asked him not to deride his decision"
   ]
  },
  {
   "cell_type": "markdown",
   "metadata": {},
   "source": [
    "**Denigrated** - criticize unfairly, disparage ('de' - away completely, 'niger' - black = make dark, criticize (?))\n",
    "- Doom and gloom merchants who denigrate their country\n",
    "- Hillary denigrated Trump's methods on the forum"
   ]
  },
  {
   "cell_type": "markdown",
   "metadata": {},
   "source": [
    "**Astute** - having or showing an ability to accurately assess situations and turn this to one's advantage\n",
    "- Tim was quite an astute businessman"
   ]
  },
  {
   "cell_type": "markdown",
   "metadata": {},
   "source": [
    "**Recondite** - Little known, abtruse, obscure  ('Re' - back, 'Condere' - put together)\n",
    "- The book is full of decondite information\n",
    "- The GOT character Recon is quite recondite"
   ]
  },
  {
   "cell_type": "markdown",
   "metadata": {},
   "source": [
    "**Clemency** - Mercy, lenience\n",
    "- The defendant made an appeal for clemency"
   ]
  },
  {
   "cell_type": "markdown",
   "metadata": {},
   "source": [
    "**Adulation** - Excessive admiration or praise\n",
    "- He found it difficult to cope up with the adulation of the fans"
   ]
  },
  {
   "cell_type": "markdown",
   "metadata": {},
   "source": [
    "**Refractory** - Stubborn or unmanageable (tech - substance that is resistant to heat) (latin: stubborn)\n",
    "- The phone manufacturer was extremely refractory during the discussion\n",
    "- His refractory horse had to be brought under control"
   ]
  },
  {
   "cell_type": "markdown",
   "metadata": {},
   "source": [
    "**Injuction** - An authoritative warning or order (latin: impose, enjoin)\n",
    "- This allusion to the scriptural injuction to love one's neighbour"
   ]
  },
  {
   "cell_type": "markdown",
   "metadata": {},
   "source": [
    "**Allusion** - An indirect or passing reference  (allude - 'ad': towards, 'ludere': to play = hint at, suggest)\n",
    "- He made an allusion to the rick and morty series"
   ]
  },
  {
   "cell_type": "markdown",
   "metadata": {},
   "source": [
    "**Circumlocute** - An indirect way of expressing something (circum - around, locute - talk)\n",
    "- The story rushes from there, with dizzying circumlocutions"
   ]
  },
  {
   "cell_type": "markdown",
   "metadata": {},
   "source": [
    "**Disconcerting** - Causing one to feel unsettled ('des' - reversal + 'concerter' - bring together)\n",
    "- He had a disconcerting habit of offering jobs to people he met at dinner parties"
   ]
  },
  {
   "cell_type": "markdown",
   "metadata": {},
   "source": [
    "**Mendacious** - Not telling truth, lying ('mendum' - fault)\n",
    "- Mendacious propoganda"
   ]
  },
  {
   "cell_type": "markdown",
   "metadata": {},
   "source": [
    "**Ingenuous** - Innocent and unsuspecting  ('ingenuus' : native/inborn)\n",
    "- He eyed her with wide ingenuous eyes"
   ]
  },
  {
   "cell_type": "markdown",
   "metadata": {},
   "source": []
  },
  {
   "cell_type": "code",
   "execution_count": 78,
   "metadata": {},
   "outputs": [],
   "source": [
    "sentences = ['the big brown fox', 'hellow world', 'hi there friend']"
   ]
  },
  {
   "cell_type": "code",
   "execution_count": 79,
   "metadata": {},
   "outputs": [],
   "source": [
    "from sklearn.feature_extraction.text import CountVectorizer"
   ]
  },
  {
   "cell_type": "code",
   "execution_count": 80,
   "metadata": {},
   "outputs": [
    {
     "data": {
      "text/plain": [
       "CountVectorizer(analyzer='word', binary=False, decode_error='strict',\n",
       "        dtype=<class 'numpy.int64'>, encoding='utf-8', input='content',\n",
       "        lowercase=True, max_df=1.0, max_features=None, min_df=1,\n",
       "        ngram_range=(1, 1), preprocessor=None, stop_words=None,\n",
       "        strip_accents=None, token_pattern='(?u)\\\\b\\\\w\\\\w+\\\\b',\n",
       "        tokenizer=None, vocabulary=None)"
      ]
     },
     "execution_count": 80,
     "metadata": {},
     "output_type": "execute_result"
    }
   ],
   "source": [
    "cnt = CountVectorizer(stop_words=None)\n",
    "cnt.fit(sentences)"
   ]
  },
  {
   "cell_type": "code",
   "execution_count": 105,
   "metadata": {
    "scrolled": true
   },
   "outputs": [
    {
     "data": {
      "text/plain": [
       "{'the': 6,\n",
       " 'big': 0,\n",
       " 'brown': 1,\n",
       " 'fox': 2,\n",
       " 'hellow': 4,\n",
       " 'world': 8,\n",
       " 'hi': 5,\n",
       " 'there': 7,\n",
       " 'friend': 3}"
      ]
     },
     "execution_count": 105,
     "metadata": {},
     "output_type": "execute_result"
    }
   ],
   "source": [
    "vocab = cnt.vocabulary_\n",
    "vocab"
   ]
  },
  {
   "cell_type": "code",
   "execution_count": 130,
   "metadata": {},
   "outputs": [
    {
     "data": {
      "text/plain": [
       "array([0, 0, 0, 0, 0, 1, 0, 0, 0])"
      ]
     },
     "execution_count": 130,
     "metadata": {},
     "output_type": "execute_result"
    }
   ],
   "source": [
    "return_cnt('hi')"
   ]
  },
  {
   "cell_type": "code",
   "execution_count": null,
   "metadata": {},
   "outputs": [],
   "source": []
  },
  {
   "cell_type": "code",
   "execution_count": 85,
   "metadata": {},
   "outputs": [
    {
     "data": {
      "text/plain": [
       "matrix([[0, 0, 0, 0, 1, 0, 0, 0, 1]])"
      ]
     },
     "execution_count": 85,
     "metadata": {},
     "output_type": "execute_result"
    }
   ],
   "source": [
    "cnt.transform([sentences[1]]).todense()"
   ]
  },
  {
   "cell_type": "code",
   "execution_count": 90,
   "metadata": {},
   "outputs": [],
   "source": [
    "emb = 5"
   ]
  },
  {
   "cell_type": "code",
   "execution_count": 91,
   "metadata": {},
   "outputs": [],
   "source": [
    "word_embeddings = np.random.random((len(vocab), emb))"
   ]
  },
  {
   "cell_type": "code",
   "execution_count": 92,
   "metadata": {},
   "outputs": [
    {
     "data": {
      "text/plain": [
       "array([[0.53115761, 0.85076478, 0.31230391, 0.55803953, 0.62488131],\n",
       "       [0.23701296, 0.00734163, 0.99430138, 0.26813267, 0.25866758],\n",
       "       [0.51680929, 0.96583274, 0.25897914, 0.33958891, 0.72627358],\n",
       "       [0.53199947, 0.3869284 , 0.95228049, 0.09519013, 0.69128872],\n",
       "       [0.32144083, 0.14510167, 0.37982137, 0.46119968, 0.93653618],\n",
       "       [0.43961615, 0.332439  , 0.33833768, 0.44745944, 0.78975891],\n",
       "       [0.109915  , 0.01313985, 0.51010552, 0.63095788, 0.1759848 ],\n",
       "       [0.88242   , 0.97171065, 0.55148901, 0.12316374, 0.6860986 ],\n",
       "       [0.89968045, 0.49305493, 0.78048509, 0.63107914, 0.81998625]])"
      ]
     },
     "execution_count": 92,
     "metadata": {},
     "output_type": "execute_result"
    }
   ],
   "source": [
    "word_embeddings"
   ]
  },
  {
   "cell_type": "code",
   "execution_count": 6,
   "metadata": {},
   "outputs": [],
   "source": [
    "sent = 3"
   ]
  },
  {
   "cell_type": "code",
   "execution_count": 123,
   "metadata": {},
   "outputs": [],
   "source": [
    "xxx = [np.array([return_cnt(word) for word in sentence.split(' ')]) for sentence in sentences]"
   ]
  },
  {
   "cell_type": "code",
   "execution_count": 122,
   "metadata": {},
   "outputs": [],
   "source": [
    "def return_cnt(word):\n",
    "    return np.array(cnt.transform([word]).todense()).ravel()"
   ]
  },
  {
   "cell_type": "markdown",
   "metadata": {},
   "source": [
    "1. Download GLOVE\n",
    "2. Get GLOVE vocabulary\n",
    "3. Define a CNT with GLOVE vocab\n",
    "4. Fit CNT on sentences\n",
    "5. Pass each sentence, word by word using FIT s"
   ]
  },
  {
   "cell_type": "code",
   "execution_count": null,
   "metadata": {},
   "outputs": [],
   "source": []
  },
  {
   "cell_type": "code",
   "execution_count": 129,
   "metadata": {
    "scrolled": true
   },
   "outputs": [
    {
     "data": {
      "text/plain": [
       "array([[0.53115761, 0.85076478, 0.31230391, 0.55803953, 0.62488131],\n",
       "       [0.23701296, 0.00734163, 0.99430138, 0.26813267, 0.25866758],\n",
       "       [0.51680929, 0.96583274, 0.25897914, 0.33958891, 0.72627358],\n",
       "       [0.53199947, 0.3869284 , 0.95228049, 0.09519013, 0.69128872],\n",
       "       [0.32144083, 0.14510167, 0.37982137, 0.46119968, 0.93653618],\n",
       "       [0.43961615, 0.332439  , 0.33833768, 0.44745944, 0.78975891],\n",
       "       [0.109915  , 0.01313985, 0.51010552, 0.63095788, 0.1759848 ],\n",
       "       [0.88242   , 0.97171065, 0.55148901, 0.12316374, 0.6860986 ],\n",
       "       [0.89968045, 0.49305493, 0.78048509, 0.63107914, 0.81998625]])"
      ]
     },
     "execution_count": 129,
     "metadata": {},
     "output_type": "execute_result"
    }
   ],
   "source": [
    "word_embeddings"
   ]
  },
  {
   "cell_type": "code",
   "execution_count": null,
   "metadata": {},
   "outputs": [],
   "source": [
    "[return_cnt(word) for word in sentence.split(' ')]"
   ]
  },
  {
   "cell_type": "code",
   "execution_count": 128,
   "metadata": {},
   "outputs": [
    {
     "data": {
      "text/plain": [
       "[array([[0.109915  , 0.01313985, 0.51010552, 0.63095788, 0.1759848 ],\n",
       "        [0.53115761, 0.85076478, 0.31230391, 0.55803953, 0.62488131],\n",
       "        [0.23701296, 0.00734163, 0.99430138, 0.26813267, 0.25866758],\n",
       "        [0.51680929, 0.96583274, 0.25897914, 0.33958891, 0.72627358]]),\n",
       " array([[0.32144083, 0.14510167, 0.37982137, 0.46119968, 0.93653618],\n",
       "        [0.89968045, 0.49305493, 0.78048509, 0.63107914, 0.81998625]]),\n",
       " array([[0.43961615, 0.332439  , 0.33833768, 0.44745944, 0.78975891],\n",
       "        [0.88242   , 0.97171065, 0.55148901, 0.12316374, 0.6860986 ],\n",
       "        [0.53199947, 0.3869284 , 0.95228049, 0.09519013, 0.69128872]])]"
      ]
     },
     "execution_count": 128,
     "metadata": {},
     "output_type": "execute_result"
    }
   ],
   "source": [
    "[np.dot(i,word_embeddings) for i in xxx]"
   ]
  },
  {
   "cell_type": "code",
   "execution_count": null,
   "metadata": {},
   "outputs": [],
   "source": []
  },
  {
   "cell_type": "code",
   "execution_count": null,
   "metadata": {},
   "outputs": [],
   "source": []
  },
  {
   "cell_type": "code",
   "execution_count": 93,
   "metadata": {},
   "outputs": [
    {
     "data": {
      "text/plain": [
       "[matrix([[1, 1, 1, 0, 0, 0, 1, 0, 0]]),\n",
       " matrix([[0, 0, 0, 0, 1, 0, 0, 0, 1]]),\n",
       " matrix([[0, 0, 0, 1, 0, 1, 0, 1, 0]])]"
      ]
     },
     "execution_count": 93,
     "metadata": {},
     "output_type": "execute_result"
    }
   ],
   "source": [
    "[cnt.transform([i]).todense() for i in sentences]"
   ]
  },
  {
   "cell_type": "code",
   "execution_count": 1,
   "metadata": {},
   "outputs": [],
   "source": [
    "import numpy as np"
   ]
  },
  {
   "cell_type": "code",
   "execution_count": 5,
   "metadata": {},
   "outputs": [],
   "source": []
  },
  {
   "cell_type": "code",
   "execution_count": 76,
   "metadata": {},
   "outputs": [],
   "source": [
    "onehot = np.random.randint(0,2,(sent, vocab))"
   ]
  },
  {
   "cell_type": "code",
   "execution_count": 77,
   "metadata": {},
   "outputs": [
    {
     "data": {
      "text/plain": [
       "array([[1, 0, 0, 1, 0, 1, 1, 0, 1, 1],\n",
       "       [0, 0, 1, 1, 0, 1, 1, 1, 1, 1],\n",
       "       [1, 1, 1, 1, 1, 1, 1, 1, 1, 1]])"
      ]
     },
     "execution_count": 77,
     "metadata": {},
     "output_type": "execute_result"
    }
   ],
   "source": [
    "onehot"
   ]
  },
  {
   "cell_type": "code",
   "execution_count": null,
   "metadata": {},
   "outputs": [],
   "source": []
  }
 ],
 "metadata": {
  "kernelspec": {
   "display_name": "Python 3",
   "language": "python",
   "name": "python3"
  },
  "language_info": {
   "codemirror_mode": {
    "name": "ipython",
    "version": 3
   },
   "file_extension": ".py",
   "mimetype": "text/x-python",
   "name": "python",
   "nbconvert_exporter": "python",
   "pygments_lexer": "ipython3",
   "version": "3.7.3"
  }
 },
 "nbformat": 4,
 "nbformat_minor": 2
}
