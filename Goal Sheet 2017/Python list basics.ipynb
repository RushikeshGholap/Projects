{
 "cells": [
  {
   "cell_type": "markdown",
   "metadata": {},
   "source": [
    "<h1><u>Python list basics</u></h1>\n",
    "<p>Objective : To summarize and practice basics of handling lists in python using core methods.\n",
    "<p style=\"color:#666666\">Last updated: 12th Jul 2017<br>Akshay Sehgal, www.asehgal.com</p>"
   ]
  },
  {
   "cell_type": "markdown",
   "metadata": {},
   "source": [
    "Unlike C++ which works on arrays, Python works on the concept of lists. In general - \n",
    "- Array is a fixed data structure that takes the same time to read or write time into.\n",
    "- List is a dynamic length data structure which is fast reading, slow writing.\n",
    "- Linked Lists are a third type of data structure (which wont be discussed here) but are also dynamic, and instead allow fast writing and slow reading.\n",
    "\n",
    "If Python, both list and arrays have their implementation but the primary one used is lists. Python defines a set of methods to work with lists easily. These will be the core parts of discussion here.\n",
    "\n",
    "Lets define a list first."
   ]
  },
  {
   "cell_type": "code",
   "execution_count": 6,
   "metadata": {
    "collapsed": true
   },
   "outputs": [],
   "source": [
    "mylist = [1,1,2,3,3,4,4,4,1,1,3,2,1,6,6,5]"
   ]
  },
  {
   "cell_type": "markdown",
   "metadata": {},
   "source": [
    "One basic objective that every coder comes across is to count the frequencies of the various elements in the list. This can be done using the count method."
   ]
  },
  {
   "cell_type": "code",
   "execution_count": 7,
   "metadata": {},
   "outputs": [
    {
     "data": {
      "text/plain": [
       "3"
      ]
     },
     "execution_count": 7,
     "metadata": {},
     "output_type": "execute_result"
    }
   ],
   "source": [
    "mylist.count(4)"
   ]
  },
  {
   "cell_type": "code",
   "execution_count": 8,
   "metadata": {},
   "outputs": [
    {
     "name": "stdout",
     "output_type": "stream",
     "text": [
      "{1: 5, 2: 2, 3: 3, 4: 3, 6: 2, 5: 1}\n"
     ]
    }
   ],
   "source": [
    "##A more generic implementation\n",
    "\n",
    "#Define a dictionary\n",
    "y={}\n",
    "\n",
    "for i in mylist:\n",
    "    y[i]=mylist.count(i)\n",
    "print(y)"
   ]
  },
  {
   "cell_type": "code",
   "execution_count": 9,
   "metadata": {},
   "outputs": [
    {
     "name": "stdout",
     "output_type": "stream",
     "text": [
      "{1: 5, 2: 2, 3: 3, 4: 3, 6: 2, 5: 1}\n"
     ]
    }
   ],
   "source": [
    "#One line approach to the same\n",
    "from collections import Counter\n",
    "print(dict(Counter(mylist)))"
   ]
  },
  {
   "cell_type": "markdown",
   "metadata": {},
   "source": [
    "The second most generic task a coder has to do is applying a particular function to each element of a given list. For this example lets say we want to square each element of the list x. Following is how MAP method is used to achieve this."
   ]
  },
  {
   "cell_type": "code",
   "execution_count": 11,
   "metadata": {},
   "outputs": [
    {
     "name": "stdout",
     "output_type": "stream",
     "text": [
      "[1, 1, 4, 9, 9, 16, 16, 16, 1, 1, 9, 4, 1, 36, 36, 25]\n"
     ]
    }
   ],
   "source": [
    "a = list(map(lambda x:x**2,mylist))\n",
    "print(a)"
   ]
  },
  {
   "cell_type": "markdown",
   "metadata": {},
   "source": [
    "Working with lists is specially useful when handling data in text format, as in natural language processing. Lets say we have piece of text we want to work with."
   ]
  },
  {
   "cell_type": "code",
   "execution_count": 19,
   "metadata": {},
   "outputs": [
    {
     "name": "stdout",
     "output_type": "stream",
     "text": [
      "0\n",
      "76\n"
     ]
    }
   ],
   "source": [
    "text = \"Akshay is a data scientist from ipredictt. Akshay enjoys working on python. Akshay is also a guitarist.\"\n",
    "\n",
    "#Finding the first and last instance (character) where Akshay occurs.\n",
    "print(text.index(\"Akshay\"))\n",
    "print(text.rindex(\"Akshay\"))"
   ]
  },
  {
   "cell_type": "markdown",
   "metadata": {},
   "source": [
    "Lets try to split the list by spaces first, and then count the frequency of each word. This is also known as a CountVectorizor"
   ]
  },
  {
   "cell_type": "code",
   "execution_count": 22,
   "metadata": {},
   "outputs": [
    {
     "name": "stdout",
     "output_type": "stream",
     "text": [
      "['Akshay', 'is', 'a', 'data', 'scientist', 'from', 'ipredictt.', 'Akshay', 'enjoys', 'working', 'on', 'python.', 'Akshay', 'is', 'also', 'a', 'guitarist.']\n",
      "{'Akshay': 3, 'is': 2, 'a': 2, 'data': 1, 'scientist': 1, 'from': 1, 'ipredictt.': 1, 'enjoys': 1, 'working': 1, 'on': 1, 'python.': 1, 'also': 1, 'guitarist.': 1}\n"
     ]
    }
   ],
   "source": [
    "#Logical way to do this is use split function to split the string. By default it splits by SPACE\n",
    "\n",
    "text_tokens = text.split()\n",
    "print(text_tokens)\n",
    "print(dict(Counter(text_tokens)))"
   ]
  },
  {
   "cell_type": "code",
   "execution_count": 23,
   "metadata": {},
   "outputs": [
    {
     "name": "stdout",
     "output_type": "stream",
     "text": [
      "['Akshay is a data scientist from ipredictt', ' Akshay enjoys working on python', ' Akshay is also a guitarist', '']\n"
     ]
    }
   ],
   "source": [
    "# We can also split the text by sentences. Just mention the condition by which to split in the parameters of the split method.\n",
    "\n",
    "text_sents = text.split(\".\")\n",
    "print(text_sents)"
   ]
  },
  {
   "cell_type": "markdown",
   "metadata": {},
   "source": [
    "Notice that the last element of the text_sents has a blank value. Sometimes we need to use some methods to clean the given list of tokens before we can start working with them. Again, lets try identifying them with the MAP function as before."
   ]
  },
  {
   "cell_type": "code",
   "execution_count": 25,
   "metadata": {},
   "outputs": [
    {
     "name": "stdout",
     "output_type": "stream",
     "text": [
      "[True, True, True, False]\n"
     ]
    }
   ],
   "source": [
    "print(list(map(lambda x:x!='',text_sents)))"
   ]
  },
  {
   "cell_type": "markdown",
   "metadata": {},
   "source": [
    "This shows that the last list element is the one we want to remove, but it only identifies it. This is where the FILTER methods comes into play. Its exactly the same as a MAP function, but it automatically applies the boolen result of a MAP function to the give list at hand."
   ]
  },
  {
   "cell_type": "code",
   "execution_count": 26,
   "metadata": {},
   "outputs": [
    {
     "name": "stdout",
     "output_type": "stream",
     "text": [
      "['Akshay is a data scientist from ipredictt', ' Akshay enjoys working on python', ' Akshay is also a guitarist']\n"
     ]
    }
   ],
   "source": [
    "print(list(filter(lambda x:x!='',text_sents)))"
   ]
  },
  {
   "cell_type": "markdown",
   "metadata": {},
   "source": [
    "# References - \n",
    "-  https://www.quora.com/What-is-the-difference-between-an-array-a-list-and-a-linked-list"
   ]
  }
 ],
 "metadata": {
  "kernelspec": {
   "display_name": "Python 3",
   "language": "python",
   "name": "python3"
  },
  "language_info": {
   "codemirror_mode": {
    "name": "ipython",
    "version": 3
   },
   "file_extension": ".py",
   "mimetype": "text/x-python",
   "name": "python",
   "nbconvert_exporter": "python",
   "pygments_lexer": "ipython3",
   "version": "3.6.1"
  }
 },
 "nbformat": 4,
 "nbformat_minor": 2
}
