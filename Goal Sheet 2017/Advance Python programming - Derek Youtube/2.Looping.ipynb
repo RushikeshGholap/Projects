{
 "cells": [
  {
   "cell_type": "code",
   "execution_count": 1,
   "metadata": {},
   "outputs": [
    {
     "name": "stdout",
     "output_type": "stream",
     "text": [
      "1\n",
      "3\n",
      "5\n",
      "7\n",
      "9\n",
      "11\n",
      "13\n",
      "15\n",
      "17\n",
      "19\n"
     ]
    }
   ],
   "source": [
    "# Print odd number from 1 to 20\n",
    "\n",
    "for i in range(21):\n",
    "    if i%2!=0:\n",
    "        print(i)        "
   ]
  },
  {
   "cell_type": "code",
   "execution_count": 1,
   "metadata": {},
   "outputs": [
    {
     "name": "stdout",
     "output_type": "stream",
     "text": [
      "Enter a float: 3.1458285\n",
      "Round to 2 decimals : 3.15\n"
     ]
    }
   ],
   "source": [
    "your_float = input(\"Enter a float: \")\n",
    "your_float = float(your_float)\n",
    "print(\"Round to 2 decimals : {:.2f}\".format(your_float))"
   ]
  },
  {
   "cell_type": "code",
   "execution_count": 3,
   "metadata": {},
   "outputs": [
    {
     "name": "stdout",
     "output_type": "stream",
     "text": [
      "Enter invested money: 10000\n",
      "Interest rate: 5\n",
      "Investment after 10 years: 16288.95\n"
     ]
    }
   ],
   "source": [
    "#Have the user enter their investment amount and their expected interest earned each year\n",
    "#Each year their investment will increase by their investment + their investment * interest rate is\n",
    "#Print out their earnings after a 10 year period\n",
    "\n",
    "#Ask for the money invested + interest rate\n",
    "money = input(\"Enter invested money: \")\n",
    "interest_rate = input(\"Interest rate: \")\n",
    "\n",
    "#Convert value to float\n",
    "money = float(money)\n",
    "\n",
    "#Convert value to a float and round the percent rate by 2 digits\n",
    "interest_rate = float(interest_rate)*0.01\n",
    "\n",
    "#Cycle using for loop for 10 years from range 0 to 9\n",
    "for i in range(10):\n",
    "    money = money+(money*interest_rate)\n",
    "\n",
    "#Output the results\n",
    "print(\"Investment after 10 years: {:.2f}\".format(money))"
   ]
  },
  {
   "cell_type": "code",
   "execution_count": 6,
   "metadata": {},
   "outputs": [
    {
     "name": "stdout",
     "output_type": "stream",
     "text": [
      "5.551115123125783e-17\n"
     ]
    }
   ],
   "source": [
    "i = 0.1+0.1+0.1-0.3\n",
    "print(i)\n",
    "\n",
    "#Floats are never precise"
   ]
  },
  {
   "cell_type": "code",
   "execution_count": 8,
   "metadata": {},
   "outputs": [
    {
     "name": "stdout",
     "output_type": "stream",
     "text": [
      "Answer : 0.11111111111111110494320541874913\n"
     ]
    }
   ],
   "source": [
    "#Float past 16 digits is unrealiable\n",
    "i = 0.1111111111111111111111111\n",
    "j = 0.0000000000000000000000001\n",
    "\n",
    "print(\"Answer : {:.32}\".format(i+j))"
   ]
  },
  {
   "cell_type": "code",
   "execution_count": 10,
   "metadata": {},
   "outputs": [
    {
     "name": "stdout",
     "output_type": "stream",
     "text": [
      "3+4*5=23\n",
      "(3+4)*5=35\n"
     ]
    }
   ],
   "source": [
    "print(\"3+4*5={}\".format(3+4*5))\n",
    "print(\"(3+4)*5={}\".format((3+4)*5))"
   ]
  },
  {
   "cell_type": "code",
   "execution_count": 12,
   "metadata": {},
   "outputs": [
    {
     "name": "stdout",
     "output_type": "stream",
     "text": [
      "The random value is 19 after 19 iterations\n"
     ]
    }
   ],
   "source": [
    "import random\n",
    "\n",
    "rand_num = random.randrange(1,51)\n",
    "\n",
    "i = 1\n",
    "\n",
    "while (i!=rand_num):\n",
    "    i+=1\n",
    "\n",
    "print(\"The random value is {} after {} iterations\".format(rand_num,i))"
   ]
  },
  {
   "cell_type": "code",
   "execution_count": 13,
   "metadata": {},
   "outputs": [
    {
     "name": "stdout",
     "output_type": "stream",
     "text": [
      "Odd :  1\n",
      "Odd :  3\n",
      "Odd :  5\n",
      "Odd :  7\n",
      "Odd :  9\n",
      "Odd :  11\n",
      "Odd :  13\n"
     ]
    }
   ],
   "source": [
    "i=1\n",
    "\n",
    "while i<=20:\n",
    "    if(i%2)==0:\n",
    "        i+=1\n",
    "        continue\n",
    "    if i==15:\n",
    "        break\n",
    "    print(\"Odd : \",i)\n",
    "    i+=1\n"
   ]
  },
  {
   "cell_type": "code",
   "execution_count": 15,
   "metadata": {},
   "outputs": [
    {
     "name": "stdout",
     "output_type": "stream",
     "text": [
      "How tall is the tree 10\n",
      "         #\n",
      "        ###\n",
      "       #####\n",
      "      #######\n",
      "     #########\n",
      "    ###########\n",
      "   #############\n",
      "  ###############\n",
      " #################\n",
      "###################\n",
      "         #"
     ]
    }
   ],
   "source": [
    "#How tall is the tree : 5\n",
    "# 1 while loop and 3 for loops\n",
    "# 4spaces - 1 hash\n",
    "# 3spances = 3 hash\n",
    "# 2 spaces = 5 hash\n",
    "# 1 space = 7 hash\n",
    "#0 space  = 9 hash\n",
    "\n",
    "#1. Decrement spaces by 1 each time in loop\n",
    "#2. Increment hash by 2 each time thru loop\n",
    "#3. Save spaces to stump by calculating tree height -1\n",
    "#4. Decrement from tree height until it equals 0\n",
    "#5. Print spaces and then hash each row\n",
    "#6. print stump spaces and 1 hash\n",
    "\n",
    "\n",
    "#Get number of rows\n",
    "tree_height = input(\"How tall is the tree \")\n",
    "\n",
    "#convert int\n",
    "tree_height = int(tree_height)\n",
    "\n",
    "#get starting spaces for top of tree\n",
    "spaces=tree_height-1\n",
    "hashes=1\n",
    "stump_spaces = tree_height-1\n",
    "\n",
    "#save stump spaces for later\n",
    "while tree_height!=0:\n",
    "    for i in range(spaces):\n",
    "        print(' ',end=\"\")\n",
    "    for i in range(hashes):\n",
    "        print('#',end=\"\")\n",
    "    print()\n",
    "    spaces -= 1\n",
    "    hashes += 2\n",
    "    tree_height -= 1\n",
    "for i in range(stump_spaces):\n",
    "    print(' ',end=\"\")\n",
    "print('#',end=\"\")"
   ]
  }
 ],
 "metadata": {
  "kernelspec": {
   "display_name": "Python 3",
   "language": "python",
   "name": "python3"
  },
  "language_info": {
   "codemirror_mode": {
    "name": "ipython",
    "version": 3
   },
   "file_extension": ".py",
   "mimetype": "text/x-python",
   "name": "python",
   "nbconvert_exporter": "python",
   "pygments_lexer": "ipython3",
   "version": "3.6.1"
  }
 },
 "nbformat": 4,
 "nbformat_minor": 2
}
