{
 "cells": [
  {
   "cell_type": "markdown",
   "metadata": {},
   "source": [
    "Everything is based on set notations used from Discrete mathematics.\n",
    "\n",
    "https://www.youtube.com/watch?v=tyDKR4FG3Yw&index=1&list=PLDDGPdw7e6Ag1EIznZ-m-qXu4XX3A0cIz"
   ]
  },
  {
   "cell_type": "code",
   "execution_count": 11,
   "metadata": {},
   "outputs": [
    {
     "data": {
      "text/plain": [
       "[(1, 3, 'b'),\n",
       " (1, 3, 'c'),\n",
       " (1, 3, 'a'),\n",
       " (1, 4, 'b'),\n",
       " (1, 4, 'c'),\n",
       " (1, 4, 'a'),\n",
       " (2, 3, 'b'),\n",
       " (2, 3, 'c'),\n",
       " (2, 3, 'a'),\n",
       " (2, 4, 'b'),\n",
       " (2, 4, 'c'),\n",
       " (2, 4, 'a')]"
      ]
     },
     "execution_count": 11,
     "metadata": {},
     "output_type": "execute_result"
    }
   ],
   "source": [
    "#Cross product of 3 'sets' or in this case lists\n",
    "\n",
    "a = {1,2}\n",
    "b = {3,4}\n",
    "c = {'a','b','c'}\n",
    "\n",
    "crossprod = [(x,y,z) for x in a for y in b for z in c]\n",
    "crossprod"
   ]
  },
  {
   "cell_type": "code",
   "execution_count": 12,
   "metadata": {},
   "outputs": [
    {
     "name": "stdout",
     "output_type": "stream",
     "text": [
      "2\n",
      "2\n",
      "3\n",
      "12\n"
     ]
    }
   ],
   "source": [
    "#Cardinality of this list\n",
    "\n",
    "print(len(a))\n",
    "print(len(b))\n",
    "print(len(c))\n",
    "print(len(crossprod))"
   ]
  },
  {
   "cell_type": "markdown",
   "metadata": {},
   "source": [
    "# Iterator, Iterable"
   ]
  },
  {
   "cell_type": "code",
   "execution_count": 18,
   "metadata": {},
   "outputs": [
    {
     "name": "stdout",
     "output_type": "stream",
     "text": [
      "Char : S\n",
      "Char : a\n",
      "Char : m\n",
      "Char : p\n",
      "Char : l\n",
      "Char : e\n"
     ]
    }
   ],
   "source": [
    "sampStr = iter(\"Sample\")  #Iterator\n",
    "print(\"Char :\", next(sampStr))   #Iterables\n",
    "print(\"Char :\", next(sampStr))\n",
    "print(\"Char :\", next(sampStr))\n",
    "print(\"Char :\", next(sampStr))\n",
    "print(\"Char :\", next(sampStr))\n",
    "print(\"Char :\", next(sampStr))"
   ]
  },
  {
   "cell_type": "code",
   "execution_count": 19,
   "metadata": {
    "collapsed": true
   },
   "outputs": [],
   "source": [
    "class Alphabet:\n",
    "    def __init__(self):\n",
    "        self.letters = \"ABCDEFGH\"\n",
    "        self.index = -1\n",
    "    def __iter__(self):\n",
    "        return self\n",
    "    def __next__(self):\n",
    "        if self.index >= len(self.letters) - 1:\n",
    "            raise StopIteration\n",
    "        self.index += 1\n",
    "        return self.letters[self.index]        "
   ]
  },
  {
   "cell_type": "code",
   "execution_count": 20,
   "metadata": {},
   "outputs": [
    {
     "name": "stdout",
     "output_type": "stream",
     "text": [
      "A\n",
      "B\n",
      "C\n",
      "D\n",
      "E\n",
      "F\n",
      "G\n",
      "H\n"
     ]
    }
   ],
   "source": [
    "alpha = Alphabet()\n",
    "\n",
    "for letter in alpha:\n",
    "    print(letter)"
   ]
  },
  {
   "cell_type": "code",
   "execution_count": 23,
   "metadata": {},
   "outputs": [
    {
     "name": "stdout",
     "output_type": "stream",
     "text": [
      "fName Akshay\n",
      "lName Sehgal\n"
     ]
    }
   ],
   "source": [
    "akshay = {'fName': 'Akshay', 'lName': 'Sehgal'}\n",
    "\n",
    "for key in akshay:\n",
    "    print(key, akshay[key])"
   ]
  },
  {
   "cell_type": "code",
   "execution_count": 27,
   "metadata": {
    "collapsed": true
   },
   "outputs": [],
   "source": [
    "class fibona:\n",
    "    def __init__(self):\n",
    "        self.first = 0\n",
    "        self.second = 1\n",
    "    def __iter__(self):\n",
    "        return self\n",
    "    def __next__(self):\n",
    "        fibNum = self.first + self.second\n",
    "        self.first = self.second\n",
    "        self.second = fibNum\n",
    "        return fibNum"
   ]
  },
  {
   "cell_type": "code",
   "execution_count": 26,
   "metadata": {},
   "outputs": [
    {
     "name": "stdout",
     "output_type": "stream",
     "text": [
      "Fib :  1\n",
      "Fib :  2\n",
      "Fib :  3\n",
      "Fib :  5\n",
      "Fib :  8\n",
      "Fib :  13\n",
      "Fib :  21\n",
      "Fib :  34\n",
      "Fib :  55\n",
      "Fib :  89\n"
     ]
    }
   ],
   "source": [
    "fibgen = fibona()\n",
    "for i in range(10):\n",
    "    print(\"Fib : \",next(fibgen))"
   ]
  },
  {
   "cell_type": "code",
   "execution_count": 32,
   "metadata": {},
   "outputs": [
    {
     "data": {
      "text/plain": [
       "[2, 4, 6, 8, 10, 12, 14, 16, 18, 20]"
      ]
     },
     "execution_count": 32,
     "metadata": {},
     "output_type": "execute_result"
    }
   ],
   "source": [
    "list(map((lambda x: x*2),range(1,11)))"
   ]
  },
  {
   "cell_type": "code",
   "execution_count": 33,
   "metadata": {},
   "outputs": [
    {
     "data": {
      "text/plain": [
       "[2, 4, 6, 8, 10, 12, 14, 16, 18, 20]"
      ]
     },
     "execution_count": 33,
     "metadata": {},
     "output_type": "execute_result"
    }
   ],
   "source": [
    "[2*x for x in range(1,11)]"
   ]
  },
  {
   "cell_type": "code",
   "execution_count": 34,
   "metadata": {},
   "outputs": [
    {
     "data": {
      "text/plain": [
       "[1, 3, 5, 7, 9]"
      ]
     },
     "execution_count": 34,
     "metadata": {},
     "output_type": "execute_result"
    }
   ],
   "source": [
    "list(filter((lambda x: x%2!=0), range(1,11)))"
   ]
  },
  {
   "cell_type": "code",
   "execution_count": 35,
   "metadata": {},
   "outputs": [
    {
     "data": {
      "text/plain": [
       "[1, 3, 5, 7, 9]"
      ]
     },
     "execution_count": 35,
     "metadata": {},
     "output_type": "execute_result"
    }
   ],
   "source": [
    "[x for x in range(1,11) if x%2!=0]"
   ]
  },
  {
   "cell_type": "code",
   "execution_count": 36,
   "metadata": {},
   "outputs": [
    {
     "data": {
      "text/plain": [
       "[0, 64, 256, 576, 1024, 1600, 2304]"
      ]
     },
     "execution_count": 36,
     "metadata": {},
     "output_type": "execute_result"
    }
   ],
   "source": [
    "#generate 50 values, take power of 2, return multiples of 8\n",
    "\n",
    "[i**2 for i in range(50) if i%8==0]"
   ]
  },
  {
   "cell_type": "code",
   "execution_count": 37,
   "metadata": {},
   "outputs": [
    {
     "data": {
      "text/plain": [
       "[11, 12, 13, 14, 15, 22, 24, 26, 28, 30]"
      ]
     },
     "execution_count": 37,
     "metadata": {},
     "output_type": "execute_result"
    }
   ],
   "source": [
    "[x * y for x in range(1,3) for y in range(11,16)]"
   ]
  },
  {
   "cell_type": "code",
   "execution_count": 38,
   "metadata": {},
   "outputs": [
    {
     "data": {
      "text/plain": [
       "[0, 8, 16]"
      ]
     },
     "execution_count": 38,
     "metadata": {},
     "output_type": "execute_result"
    }
   ],
   "source": [
    "# generate a list of 10 values, multiply by 2, return multiples of 8\n",
    "\n",
    "[x for x in [i*2 for i in range(10)] if x%8==0]"
   ]
  },
  {
   "cell_type": "code",
   "execution_count": 40,
   "metadata": {},
   "outputs": [
    {
     "data": {
      "text/plain": [
       "[567, 189, 144, 252, 81, 729]"
      ]
     },
     "execution_count": 40,
     "metadata": {},
     "output_type": "execute_result"
    }
   ],
   "source": [
    "#Generate a list of 50 random values b/w 1 and 1000, return those that are multiples of 9\n",
    "import random\n",
    "\n",
    "[x for x in [random.randint(1,1001) for i in range(50)] if x%9==0]"
   ]
  },
  {
   "cell_type": "code",
   "execution_count": 41,
   "metadata": {},
   "outputs": [
    {
     "data": {
      "text/plain": [
       "[[1, 2, 3], [4, 5, 6], [7, 8, 9]]"
      ]
     },
     "execution_count": 41,
     "metadata": {},
     "output_type": "execute_result"
    }
   ],
   "source": [
    "multilist = [[1,2,3],[4,5,6],[7,8,9]]\n",
    "multilist"
   ]
  },
  {
   "cell_type": "code",
   "execution_count": 42,
   "metadata": {},
   "outputs": [
    {
     "data": {
      "text/plain": [
       "[2, 5, 8]"
      ]
     },
     "execution_count": 42,
     "metadata": {},
     "output_type": "execute_result"
    }
   ],
   "source": [
    "[col[1] for col in multilist]"
   ]
  },
  {
   "cell_type": "code",
   "execution_count": 43,
   "metadata": {},
   "outputs": [
    {
     "data": {
      "text/plain": [
       "[1, 5, 9]"
      ]
     },
     "execution_count": 43,
     "metadata": {},
     "output_type": "execute_result"
    }
   ],
   "source": [
    "[multilist[i][i] for i in range(len(multilist))]"
   ]
  },
  {
   "cell_type": "code",
   "execution_count": 44,
   "metadata": {
    "collapsed": true
   },
   "outputs": [],
   "source": [
    "def isprime(num):\n",
    "    for i in range(2, num):\n",
    "        if (num%i)==0:\n",
    "            return False\n",
    "    return True\n",
    "\n",
    "def gen_prime(max_number):\n",
    "    for num1 in range(2,max_number):\n",
    "        if isprime(num1):\n",
    "            yield num1\n",
    "\n"
   ]
  },
  {
   "cell_type": "code",
   "execution_count": 46,
   "metadata": {
    "scrolled": true
   },
   "outputs": [
    {
     "name": "stdout",
     "output_type": "stream",
     "text": [
      "prime :  2\n",
      "prime :  3\n",
      "prime :  5\n",
      "prime :  7\n",
      "prime :  11\n"
     ]
    }
   ],
   "source": [
    "prime = gen_prime(50)\n",
    "\n",
    "print('prime : ',next(prime))\n",
    "print('prime : ',next(prime))\n",
    "print('prime : ',next(prime))\n",
    "print('prime : ',next(prime))\n",
    "print('prime : ',next(prime))"
   ]
  },
  {
   "cell_type": "code",
   "execution_count": 52,
   "metadata": {},
   "outputs": [
    {
     "name": "stdout",
     "output_type": "stream",
     "text": [
      "Double : 0\n",
      "Double : 2\n",
      "Double : 4\n",
      "Double : 6\n"
     ]
    }
   ],
   "source": [
    "double = (x*2 for x in range(10))\n",
    "print(\"Double :\", next(double))\n",
    "print(\"Double :\", next(double))\n",
    "print(\"Double :\", next(double))\n",
    "print(\"Double :\", next(double))"
   ]
  },
  {
   "cell_type": "code",
   "execution_count": 53,
   "metadata": {},
   "outputs": [
    {
     "name": "stdout",
     "output_type": "stream",
     "text": [
      "8\n",
      "10\n",
      "12\n",
      "14\n",
      "16\n",
      "18\n"
     ]
    }
   ],
   "source": [
    "for num in double:\n",
    "    print(num)"
   ]
  }
 ],
 "metadata": {
  "kernelspec": {
   "display_name": "Python 3",
   "language": "python",
   "name": "python3"
  },
  "language_info": {
   "codemirror_mode": {
    "name": "ipython",
    "version": 3
   },
   "file_extension": ".py",
   "mimetype": "text/x-python",
   "name": "python",
   "nbconvert_exporter": "python",
   "pygments_lexer": "ipython3",
   "version": "3.6.1"
  }
 },
 "nbformat": 4,
 "nbformat_minor": 2
}
