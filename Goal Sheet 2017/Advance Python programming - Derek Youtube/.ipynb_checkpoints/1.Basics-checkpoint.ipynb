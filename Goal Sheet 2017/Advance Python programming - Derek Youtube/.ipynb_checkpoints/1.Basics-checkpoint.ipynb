{
 "cells": [
  {
   "cell_type": "code",
   "execution_count": 4,
   "metadata": {},
   "outputs": [
    {
     "name": "stdout",
     "output_type": "stream",
     "text": [
      "What is your name Akshay\n",
      "Hello  Akshay\n"
     ]
    }
   ],
   "source": [
    "# Ask the user to input their name and assign it to a variable name\n",
    "name = input('What is your name ')\n",
    "\n",
    "#Print out hello followed by the name\n",
    "\n",
    "print('Hello ',name)"
   ]
  },
  {
   "cell_type": "code",
   "execution_count": 5,
   "metadata": {},
   "outputs": [
    {
     "name": "stdout",
     "output_type": "stream",
     "text": [
      "Enter 2 numbers :5 4\n",
      "5 + 4 = 9\n",
      "5 - 4 = 1\n",
      "5 * 4 = 20\n",
      "5 / 4 = 1.25\n",
      "5 % 4 = 1\n"
     ]
    }
   ],
   "source": [
    "# Ask the user to input 2 values and store them in variables num1 and num2\n",
    "num1,num2 = input('Enter 2 numbers :').split()\n",
    "\n",
    "# Convert the strings into regular numbers\n",
    "num1 = int(num1)\n",
    "num2 = int(num2)\n",
    "\n",
    "# Add the values entered and stored sum\n",
    "summ = num1+num2\n",
    "\n",
    "# Subtract values and store in difference\n",
    "diff = num1-num2\n",
    "\n",
    "# Multiply the values and store in product\n",
    "prod = num1*num2\n",
    "\n",
    "# Divide the values and store in quotient\n",
    "quot = num1/num2\n",
    "\n",
    "# Use modulus on values to find the remainder\n",
    "remainder = num1%num2\n",
    "\n",
    "#Print results for user\n",
    "print(\"{} + {} = {}\".format(num1, num2, summ))\n",
    "print(\"{} - {} = {}\".format(num1, num2, diff))\n",
    "print(\"{} * {} = {}\".format(num1, num2, prod))\n",
    "print(\"{} / {} = {}\".format(num1, num2, quot))\n",
    "print(\"{} % {} = {}\".format(num1, num2, remainder))\n"
   ]
  },
  {
   "cell_type": "code",
   "execution_count": 6,
   "metadata": {},
   "outputs": [
    {
     "name": "stdout",
     "output_type": "stream",
     "text": [
      "Please enter distance in miles 5\n",
      "5 miles equals to 8.0467 kilometers\n"
     ]
    }
   ],
   "source": [
    "# Problem: Recieve miles and convert to kilometers\n",
    "# Kms = miles * 1.60934\n",
    "# Enter miles 5\n",
    "\n",
    "\n",
    "#Take input in miles from user and store in variable miles\n",
    "miles = input('Please enter distance in miles ')\n",
    "\n",
    "#Convert string to int\n",
    "miles = int(miles)\n",
    "\n",
    "#Apply conversion and store in variable km\n",
    "km = miles*1.60934\n",
    "\n",
    "#print output\n",
    "print('{} miles equals to {} kilometers'.format(miles, km))"
   ]
  },
  {
   "cell_type": "code",
   "execution_count": 12,
   "metadata": {},
   "outputs": [
    {
     "name": "stdout",
     "output_type": "stream",
     "text": [
      "Input the calculation 44 * 4\n",
      "44 * 4 = 176\n"
     ]
    }
   ],
   "source": [
    "#Create a calculator\n",
    "\n",
    "#Store the user input of 2 numbers and operator of choice\n",
    "num1, operator, num2 = input('Input the calculation ').split()\n",
    "\n",
    "#Convert string to ints\n",
    "num1 = int(num1)\n",
    "num2 = int(num2)\n",
    "\n",
    "#If they enter + then add, and print result\n",
    "if operator=='+':\n",
    "    print('{} + {} = {}'.format(num1, num2, num1+num2))\n",
    "elif operator=='-':\n",
    "    print('{} - {} = {}'.format(num1, num2, num1-num2))\n",
    "elif operator=='*':\n",
    "    print('{} * {} = {}'.format(num1, num2, num1*num2))\n",
    "elif operator=='/':\n",
    "    print('{} / {} = {}'.format(num1, num2, num1/num2))\n",
    "else:\n",
    "    print('Use proper operator')"
   ]
  },
  {
   "cell_type": "code",
   "execution_count": 16,
   "metadata": {},
   "outputs": [
    {
     "name": "stdout",
     "output_type": "stream",
     "text": [
      "Enter Age: 66\n",
      "Important\n"
     ]
    }
   ],
   "source": [
    "#If a birthday is important or not\n",
    "#If age 1-18 -> Important\n",
    "#21, 50, >65 -> Important\n",
    "#Else not important\n",
    "\n",
    "# Recieve age and store\n",
    "age = eval(input(\"Enter Age: \"))\n",
    "\n",
    "# Use if to create conditions as above\n",
    "if (age>=1 and age<=18):\n",
    "    print('Important')\n",
    "elif (age==21 or age==50):\n",
    "    print('Important')\n",
    "elif not(age<65):\n",
    "    print('Important')\n",
    "else:\n",
    "    print('Not Important')"
   ]
  },
  {
   "cell_type": "code",
   "execution_count": 20,
   "metadata": {},
   "outputs": [
    {
     "name": "stdout",
     "output_type": "stream",
     "text": [
      "Enter age: 8\n",
      "Go to 3 grade\n"
     ]
    }
   ],
   "source": [
    "#If age of person is 5 -> go to kindergarden\n",
    "#If age 6-17 -> grades 1 to 12\n",
    "#If age greater than 17 -> college\n",
    "#10 or less lines\n",
    "\n",
    "# Ask for the age\n",
    "age = eval(input(\"Enter age: \"))\n",
    "# Handle if age is less than 5\n",
    "\n",
    "if age < 5:\n",
    "    print(\"Too young for school\")\n",
    "# Special for age 5\n",
    "elif age==5:\n",
    "    print('Kindergarden')\n",
    "# Since a number is result for 6 - 17 check with 1 condition\n",
    "elif (age>5 and age<=17):\n",
    "    grade = age-5\n",
    "    print('Go to {} grade'.format(grade))\n",
    "# Handle everyone else\n",
    "else:\n",
    "    print('Go to college')"
   ]
  }
 ],
 "metadata": {
  "kernelspec": {
   "display_name": "Python 3",
   "language": "python",
   "name": "python3"
  },
  "language_info": {
   "codemirror_mode": {
    "name": "ipython",
    "version": 3
   },
   "file_extension": ".py",
   "mimetype": "text/x-python",
   "name": "python",
   "nbconvert_exporter": "python",
   "pygments_lexer": "ipython3",
   "version": "3.6.1"
  }
 },
 "nbformat": 4,
 "nbformat_minor": 2
}
