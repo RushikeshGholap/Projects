{
 "cells": [
  {
   "cell_type": "markdown",
   "metadata": {},
   "source": [
    "# Week 2"
   ]
  },
  {
   "cell_type": "markdown",
   "metadata": {},
   "source": [
    "###  Vectorization"
   ]
  },
  {
   "cell_type": "code",
   "execution_count": 2,
   "metadata": {
    "collapsed": true
   },
   "outputs": [],
   "source": [
    "import numpy as np\n",
    "import time"
   ]
  },
  {
   "cell_type": "code",
   "execution_count": 5,
   "metadata": {
    "collapsed": true
   },
   "outputs": [],
   "source": [
    "a = np.random.rand(1000000)\n",
    "b = np.random.rand(1000000)"
   ]
  },
  {
   "cell_type": "code",
   "execution_count": 19,
   "metadata": {},
   "outputs": [
    {
     "name": "stdout",
     "output_type": "stream",
     "text": [
      "249753.357109\n",
      "Vectorized version :  1.505136489868164 ms\n",
      "249753.357109\n",
      "Non Vectorized version :  616.1375045776367 ms\n"
     ]
    }
   ],
   "source": [
    "tic = time.time()\n",
    "c = np.dot(a,b)\n",
    "toc = time.time()\n",
    "\n",
    "print(c)\n",
    "print(\"Vectorized version : \",str(1000*(toc-tic)),\"ms\")\n",
    "\n",
    "c = 0\n",
    "tic = time.time()\n",
    "for i in range(1000000):\n",
    "    c += a[i]*b[i]\n",
    "toc = time.time()\n",
    "\n",
    "print(c)\n",
    "print(\"Non Vectorized version : \",str(1000*(toc-tic)),\"ms\")"
   ]
  },
  {
   "cell_type": "markdown",
   "metadata": {},
   "source": [
    "### Broadcasting"
   ]
  },
  {
   "cell_type": "code",
   "execution_count": 32,
   "metadata": {},
   "outputs": [
    {
     "data": {
      "text/plain": [
       "(3, 4)"
      ]
     },
     "execution_count": 32,
     "metadata": {},
     "output_type": "execute_result"
    }
   ],
   "source": [
    "A = np.array([[144,0,11,55],\n",
    "              [22,66,12,76],\n",
    "              [56,12,55,90]])\n",
    "A.shape"
   ]
  },
  {
   "cell_type": "code",
   "execution_count": 37,
   "metadata": {},
   "outputs": [
    {
     "name": "stdout",
     "output_type": "stream",
     "text": [
      "[[ 64.86486486   0.          14.1025641   24.88687783]\n",
      " [  9.90990991  84.61538462  15.38461538  34.38914027]\n",
      " [ 25.22522523  15.38461538  70.51282051  40.7239819 ]]\n"
     ]
    }
   ],
   "source": [
    "#Lets say we wanna sum the column vectors and then create each value as a % of its column\n",
    "\n",
    "#Take sum of each column vector and store in a row vector called sums\n",
    "#Axis = 0 is vertical, Axis = 1 is horizontal\n",
    "sums = A.sum(axis=0)\n",
    "\n",
    "#Divide A matrix with reshaped sums\n",
    "percentage = 100*A/(sums.reshape(1,4))\n",
    "print(percentage)"
   ]
  },
  {
   "cell_type": "markdown",
   "metadata": {},
   "source": [
    "### Notes on Python/Numpy"
   ]
  },
  {
   "cell_type": "code",
   "execution_count": 53,
   "metadata": {},
   "outputs": [
    {
     "name": "stdout",
     "output_type": "stream",
     "text": [
      "[-1.09999395  0.1273466   1.102039   -0.82667187 -1.83105466]\n"
     ]
    },
    {
     "data": {
      "text/plain": [
       "(5,)"
      ]
     },
     "execution_count": 53,
     "metadata": {},
     "output_type": "execute_result"
    }
   ],
   "source": [
    "a = np.random.randn(5)\n",
    "print(a)\n",
    "a.shape\n",
    "\n",
    "#This creates a rank 1 array, not worth using since its effects are strange"
   ]
  },
  {
   "cell_type": "code",
   "execution_count": 54,
   "metadata": {},
   "outputs": [
    {
     "name": "stdout",
     "output_type": "stream",
     "text": [
      "[[-0.54063534]\n",
      " [-1.78415232]\n",
      " [ 1.77694535]\n",
      " [-0.20465918]\n",
      " [-0.62250323]]\n"
     ]
    },
    {
     "data": {
      "text/plain": [
       "(5, 1)"
      ]
     },
     "execution_count": 54,
     "metadata": {},
     "output_type": "execute_result"
    }
   ],
   "source": [
    "#Instead use following for getting a matrix\n",
    "a = np.random.randn(5,1)\n",
    "print(a)\n",
    "a.shape\n",
    "\n",
    "#This creates a column vector"
   ]
  },
  {
   "cell_type": "code",
   "execution_count": 55,
   "metadata": {},
   "outputs": [
    {
     "name": "stdout",
     "output_type": "stream",
     "text": [
      "[[-0.54063534 -1.78415232  1.77694535 -0.20465918 -0.62250323]]\n"
     ]
    }
   ],
   "source": [
    "print(a.T)\n",
    "\n",
    "#This creates a row vector"
   ]
  },
  {
   "cell_type": "code",
   "execution_count": 50,
   "metadata": {
    "scrolled": true
   },
   "outputs": [
    {
     "name": "stdout",
     "output_type": "stream",
     "text": [
      "[[ 0.1849679   0.43068752 -0.12684213  0.10236518  0.72839086]\n",
      " [ 0.43068752  1.00283205 -0.29534488  0.23835165  1.69601781]\n",
      " [-0.12684213 -0.29534488  0.08698226 -0.07019714 -0.49949559]\n",
      " [ 0.10236518  0.23835165 -0.07019714  0.05665107  0.40310703]\n",
      " [ 0.72839086  1.69601781 -0.49949559  0.40310703  2.8683531 ]]\n"
     ]
    }
   ],
   "source": [
    "print(np.dot(a,a.T))"
   ]
  },
  {
   "cell_type": "code",
   "execution_count": 59,
   "metadata": {},
   "outputs": [
    {
     "name": "stdout",
     "output_type": "stream",
     "text": [
      "[-1.09646521  0.73289268  0.61928838 -0.01740936 -0.80460874] (5,)\n",
      "[[-1.09646521]\n",
      " [ 0.73289268]\n",
      " [ 0.61928838]\n",
      " [-0.01740936]\n",
      " [-0.80460874]] (5, 1)\n"
     ]
    }
   ],
   "source": [
    "#Converting a rank 1 array to a matrix\n",
    "\n",
    "b = np.random.randn(5)\n",
    "print(b,b.shape)\n",
    "\n",
    "c = b.reshape(5,1)\n",
    "print(c,c.shape)"
   ]
  },
  {
   "cell_type": "code",
   "execution_count": 5,
   "metadata": {},
   "outputs": [
    {
     "data": {
      "text/plain": [
       "array([[ 1.14224626,  0.72052709,  1.54459408],\n",
       "       [-0.35578058, -1.77117135,  1.34289895],\n",
       "       [ 0.0643698 ,  0.04619388,  0.09529738]])"
      ]
     },
     "execution_count": 5,
     "metadata": {},
     "output_type": "execute_result"
    }
   ],
   "source": [
    "a = np.random.randn(3, 3)\n",
    "b = np.random.randn(3, 1)\n",
    "c = a*b\n",
    "c"
   ]
  }
 ],
 "metadata": {
  "kernelspec": {
   "display_name": "Python 3",
   "language": "python",
   "name": "python3"
  },
  "language_info": {
   "codemirror_mode": {
    "name": "ipython",
    "version": 3
   },
   "file_extension": ".py",
   "mimetype": "text/x-python",
   "name": "python",
   "nbconvert_exporter": "python",
   "pygments_lexer": "ipython3",
   "version": "3.6.1"
  }
 },
 "nbformat": 4,
 "nbformat_minor": 2
}
