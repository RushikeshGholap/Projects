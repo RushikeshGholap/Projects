{
 "cells": [
  {
   "cell_type": "code",
   "execution_count": 9,
   "metadata": {},
   "outputs": [],
   "source": [
    "import tensorflow as tf\n",
    "import numpy as np\n",
    "import os"
   ]
  },
  {
   "cell_type": "code",
   "execution_count": 10,
   "metadata": {},
   "outputs": [
    {
     "name": "stdout",
     "output_type": "stream",
     "text": [
      "Tensorflow version : 1.1.0\n"
     ]
    }
   ],
   "source": [
    "print('Tensorflow version : {0}'.format(tf.__version__))"
   ]
  },
  {
   "cell_type": "code",
   "execution_count": 11,
   "metadata": {},
   "outputs": [
    {
     "name": "stdout",
     "output_type": "stream",
     "text": [
      "[[ 0.79051364  0.0603627   0.94822885  0.65949765  0.93386573]\n",
      " [ 0.12211158  0.70227698  0.59684181  0.61090058  0.43581856]\n",
      " [ 0.05148149  0.66870287  0.16233297  0.78750426  0.32894886]\n",
      " [ 0.50373446  0.73188621  0.85936606  0.50906838  0.67036793]\n",
      " [ 0.17757405  0.91211475  0.25774803  0.53043361  0.43624868]\n",
      " [ 0.46793564  0.24568717  0.6956468   0.95532604  0.61926156]\n",
      " [ 0.19687118  0.64523553  0.85081125  0.72603572  0.14200174]\n",
      " [ 0.01807328  0.93888406  0.68773283  0.40539571  0.90316513]\n",
      " [ 0.36627616  0.7877704   0.67498527  0.58194454  0.77682707]\n",
      " [ 0.61284408  0.01025248  0.49613339  0.50291687  0.67326658]]\n"
     ]
    }
   ],
   "source": [
    "embedding_size = 5\n",
    "vocabulary_size = 10\n",
    "\n",
    "#Create a sample embedding matrix\n",
    "\n",
    "embedding = np.random.rand(vocabulary_size,embedding_size)\n",
    "print(embedding)"
   ]
  },
  {
   "cell_type": "code",
   "execution_count": 12,
   "metadata": {},
   "outputs": [
    {
     "name": "stdout",
     "output_type": "stream",
     "text": [
      "[ 0.  0.  0.  0.  1.  0.  0.  0.  0.  0.]\n"
     ]
    }
   ],
   "source": [
    "i = 4\n",
    "one_hot = np.zeros(10)\n",
    "one_hot[i] = 1.0\n",
    "print(one_hot)"
   ]
  },
  {
   "cell_type": "code",
   "execution_count": 13,
   "metadata": {},
   "outputs": [
    {
     "name": "stdout",
     "output_type": "stream",
     "text": [
      "[ 0.17757405  0.91211475  0.25774803  0.53043361  0.43624868]\n"
     ]
    }
   ],
   "source": [
    "embedding_vector = np.dot(one_hot,embedding)\n",
    "print(embedding_vector)"
   ]
  },
  {
   "cell_type": "code",
   "execution_count": 14,
   "metadata": {},
   "outputs": [
    {
     "name": "stdout",
     "output_type": "stream",
     "text": [
      "[ 0.17757405  0.91211475  0.25774803  0.53043361  0.43624868]\n"
     ]
    }
   ],
   "source": [
    "print(embedding[i])"
   ]
  },
  {
   "cell_type": "code",
   "execution_count": 18,
   "metadata": {},
   "outputs": [],
   "source": [
    "g = tf.Graph()\n",
    "with g.as_default():\n",
    "    x = tf.placeholder(shape=[None],dtype = tf.int32, name='x')\n",
    "    \n",
    "    weights_initializer = tf.constant_initializer(embedding)\n",
    "    embedding_weights = tf.get_variable(\n",
    "                            name = 'embedding_weights',\n",
    "                            shape = (vocabulary_size,embedding_size),\n",
    "                            initializer = weights_initializer,\n",
    "                            trainable = False)\n",
    "    embedding_lookup = tf.nn.embedding_lookup(embedding_weights,x)"
   ]
  },
  {
   "cell_type": "code",
   "execution_count": 20,
   "metadata": {},
   "outputs": [
    {
     "name": "stdout",
     "output_type": "stream",
     "text": [
      "[[ 0.17757405  0.91211474  0.25774804  0.5304336   0.43624869]]\n"
     ]
    }
   ],
   "source": [
    "with tf.Session(graph=g) as sess:\n",
    "    sess.run(tf.global_variables_initializer())\n",
    "    print(sess.run(embedding_lookup,feed_dict={x : [4]}))"
   ]
  },
  {
   "cell_type": "code",
   "execution_count": null,
   "metadata": {},
   "outputs": [],
   "source": []
  }
 ],
 "metadata": {
  "kernelspec": {
   "display_name": "Python 3",
   "language": "python",
   "name": "python3"
  },
  "language_info": {
   "codemirror_mode": {
    "name": "ipython",
    "version": 3
   },
   "file_extension": ".py",
   "mimetype": "text/x-python",
   "name": "python",
   "nbconvert_exporter": "python",
   "pygments_lexer": "ipython3",
   "version": "3.6.5"
  }
 },
 "nbformat": 4,
 "nbformat_minor": 2
}
