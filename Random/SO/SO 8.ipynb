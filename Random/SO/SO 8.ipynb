{
 "cells": [
  {
   "cell_type": "code",
   "execution_count": null,
   "metadata": {},
   "outputs": [],
   "source": [
    "import seaborn as sns\n",
    "geyser = sns.load_dataset(\"geyser\",)\n",
    "\n",
    "#Levels as equal cuts in the probability mass function\n",
    "sns.kdeplot(\n",
    "    data=geyser, x=\"waiting\", y=\"duration\", hue=\"kind\",\n",
    "    levels=5, thresh=.2,\n",
    ")"
   ]
  },
  {
   "cell_type": "code",
   "execution_count": null,
   "metadata": {},
   "outputs": [],
   "source": [
    "#Levels as explicitly described cuts in the probability mass function\n",
    "sns.kdeplot(\n",
    "    data=geyser, x=\"waiting\", y=\"duration\", hue=\"kind\",\n",
    "    levels=[0.3, 0.4, 0.8]\n",
    ")"
   ]
  },
  {
   "cell_type": "code",
   "execution_count": null,
   "metadata": {},
   "outputs": [],
   "source": []
  },
  {
   "cell_type": "code",
   "execution_count": null,
   "metadata": {},
   "outputs": [],
   "source": []
  },
  {
   "cell_type": "code",
   "execution_count": null,
   "metadata": {},
   "outputs": [],
   "source": []
  },
  {
   "cell_type": "code",
   "execution_count": null,
   "metadata": {},
   "outputs": [],
   "source": []
  },
  {
   "cell_type": "code",
   "execution_count": null,
   "metadata": {},
   "outputs": [],
   "source": [
    "import tensorflow as tf\n",
    "from tensorflow.keras import layers, models\n",
    "import numpy as np\n",
    "\n",
    "X_train = np.random.random((1000,10))\n",
    "X_test = np.random.random((100,10))\n",
    "y_train = np.random.random((1000,1))\n",
    "y_test = np.random.random((100,1))\n",
    "\n",
    "[i.shape for i in [X_train, X_test, y_train, y_test]]\n",
    "\n",
    "model = models.Sequential([\n",
    "    layers.Flatten(input_shape=(X_test.shape[1],)),\n",
    "    layers.Dense(128, activation='relu'),\n",
    "    layers.Dense(128, activation='softmax') # Shouldn't be two here ?\n",
    "])\n",
    "model.summary()\n",
    "\n",
    "model.compile(\n",
    "    optimizer='adam',\n",
    "    loss='sparse_categorical_crossentropy',\n",
    "    metrics=['accuracy']\n",
    ")\n",
    "\n",
    "history = model.fit(X_train, y_train, epochs=100, validation_split=0.25)\n",
    "\n",
    "scores = model.evaluate(X_test, y_test, verbose=0)\n",
    "\n",
    "model.predict(X_test[0].reshape(1,-1))"
   ]
  },
  {
   "cell_type": "code",
   "execution_count": null,
   "metadata": {},
   "outputs": [],
   "source": []
  },
  {
   "cell_type": "code",
   "execution_count": null,
   "metadata": {},
   "outputs": [],
   "source": []
  },
  {
   "cell_type": "code",
   "execution_count": null,
   "metadata": {},
   "outputs": [],
   "source": []
  },
  {
   "cell_type": "code",
   "execution_count": null,
   "metadata": {},
   "outputs": [],
   "source": []
  },
  {
   "cell_type": "code",
   "execution_count": null,
   "metadata": {},
   "outputs": [],
   "source": []
  },
  {
   "cell_type": "code",
   "execution_count": null,
   "metadata": {},
   "outputs": [],
   "source": [
    "import itertools\n",
    "n = 5\n",
    "\n",
    "a = [1,2,3]\n",
    "g = itertools.cycle(a)\n",
    "\n",
    "for i in range(n*len(a)):\n",
    "    print(next(g))"
   ]
  },
  {
   "cell_type": "code",
   "execution_count": null,
   "metadata": {},
   "outputs": [],
   "source": [
    "import itertools\n",
    "n = 5\n",
    "\n",
    "a = [1,2,3]\n",
    "for i in itertools.repeat(a, 5):\n",
    "    for j in i:\n",
    "        print(j)"
   ]
  },
  {
   "cell_type": "code",
   "execution_count": null,
   "metadata": {},
   "outputs": [],
   "source": [
    "import itertools\n",
    "n = 5\n",
    "a = [1,2,3]\n",
    "\n",
    "for i in itertools.islice(itertools.cycle(a), n*len(a)):\n",
    "    print(i)"
   ]
  },
  {
   "cell_type": "code",
   "execution_count": null,
   "metadata": {},
   "outputs": [],
   "source": [
    "for i in itertools.chain.from_iterable(repeat(a, 5)):\n",
    "    print(i)"
   ]
  },
  {
   "cell_type": "code",
   "execution_count": null,
   "metadata": {},
   "outputs": [],
   "source": []
  },
  {
   "cell_type": "code",
   "execution_count": null,
   "metadata": {},
   "outputs": [],
   "source": []
  },
  {
   "cell_type": "code",
   "execution_count": null,
   "metadata": {},
   "outputs": [],
   "source": []
  },
  {
   "cell_type": "code",
   "execution_count": null,
   "metadata": {},
   "outputs": [],
   "source": [
    "from tensorflow.keras.layers import Bidirectional, LSTM, TimeDistributed, Dense\n",
    "from tensorflow.keras.models import Sequential"
   ]
  },
  {
   "cell_type": "code",
   "execution_count": null,
   "metadata": {},
   "outputs": [],
   "source": [
    "model = Sequential()\n",
    "\n",
    "model.add(Bidirectional(LSTM(64, return_sequences=True)))\n",
    "model.add(Bidirectional(LSTM(40, return_sequences=True)))\n",
    "model.add(TimeDistributed(Dense(40,activation='tanh')))\n",
    "model.add(TimeDistributed(Dense(10,activation='tanh')))\n",
    "model.add(TimeDistributed(Dense(1, activation='sigmoid')))\n",
    "\n",
    "model.build(input_shape=(None, 200, 35))\n",
    "model.summary()"
   ]
  },
  {
   "cell_type": "code",
   "execution_count": null,
   "metadata": {},
   "outputs": [],
   "source": []
  },
  {
   "cell_type": "code",
   "execution_count": null,
   "metadata": {},
   "outputs": [],
   "source": []
  },
  {
   "cell_type": "code",
   "execution_count": null,
   "metadata": {},
   "outputs": [],
   "source": []
  },
  {
   "cell_type": "code",
   "execution_count": null,
   "metadata": {},
   "outputs": [],
   "source": []
  },
  {
   "cell_type": "code",
   "execution_count": null,
   "metadata": {},
   "outputs": [],
   "source": [
    "!which python"
   ]
  },
  {
   "cell_type": "code",
   "execution_count": null,
   "metadata": {},
   "outputs": [],
   "source": [
    "import sys\n",
    "sys.executable\n",
    "\n",
    "#'/Users/akshay/tensorflow_macos_venv/bin/python'"
   ]
  },
  {
   "cell_type": "code",
   "execution_count": null,
   "metadata": {},
   "outputs": [],
   "source": [
    "!jupyter kernelspec list"
   ]
  },
  {
   "cell_type": "code",
   "execution_count": null,
   "metadata": {},
   "outputs": [],
   "source": [
    "from jupyter_client import find_connection_file\n",
    "find_connection_file()"
   ]
  },
  {
   "cell_type": "code",
   "execution_count": null,
   "metadata": {},
   "outputs": [],
   "source": []
  },
  {
   "cell_type": "code",
   "execution_count": null,
   "metadata": {},
   "outputs": [],
   "source": []
  },
  {
   "cell_type": "code",
   "execution_count": null,
   "metadata": {},
   "outputs": [],
   "source": []
  },
  {
   "cell_type": "code",
   "execution_count": null,
   "metadata": {},
   "outputs": [],
   "source": []
  },
  {
   "cell_type": "code",
   "execution_count": null,
   "metadata": {},
   "outputs": [],
   "source": [
    "list1 = [1,2,3,4,5] \n",
    "list2 = [10,11,12,13,14]\n",
    "odd_l1 = [i for i in list1 if i%2]\n",
    "even_l2 = [i for i in list2 if not i%2]\n",
    "odd_l1 + even_l2"
   ]
  },
  {
   "cell_type": "code",
   "execution_count": null,
   "metadata": {},
   "outputs": [],
   "source": []
  },
  {
   "cell_type": "code",
   "execution_count": null,
   "metadata": {},
   "outputs": [],
   "source": []
  },
  {
   "cell_type": "code",
   "execution_count": null,
   "metadata": {},
   "outputs": [],
   "source": []
  },
  {
   "cell_type": "code",
   "execution_count": null,
   "metadata": {},
   "outputs": [],
   "source": []
  },
  {
   "cell_type": "code",
   "execution_count": null,
   "metadata": {},
   "outputs": [],
   "source": [
    "import numpy as np"
   ]
  },
  {
   "cell_type": "code",
   "execution_count": null,
   "metadata": {},
   "outputs": [],
   "source": [
    "x = np.arange(1,100)\n",
    "y1 = x**5\n",
    "y2 = 2**np.log(x)"
   ]
  },
  {
   "cell_type": "code",
   "execution_count": null,
   "metadata": {},
   "outputs": [],
   "source": [
    "import matplotlib.pyplot as plt\n",
    "\n",
    "%matplotlib inline"
   ]
  },
  {
   "cell_type": "code",
   "execution_count": null,
   "metadata": {},
   "outputs": [],
   "source": [
    "plt.plot(x, y1)\n",
    "plt.plot(x, y2)"
   ]
  },
  {
   "cell_type": "code",
   "execution_count": null,
   "metadata": {},
   "outputs": [],
   "source": [
    "plt.plot(x, y2)"
   ]
  },
  {
   "cell_type": "code",
   "execution_count": null,
   "metadata": {},
   "outputs": [],
   "source": []
  },
  {
   "cell_type": "code",
   "execution_count": null,
   "metadata": {},
   "outputs": [],
   "source": []
  },
  {
   "cell_type": "code",
   "execution_count": null,
   "metadata": {},
   "outputs": [],
   "source": []
  },
  {
   "cell_type": "code",
   "execution_count": null,
   "metadata": {},
   "outputs": [],
   "source": []
  },
  {
   "cell_type": "code",
   "execution_count": null,
   "metadata": {},
   "outputs": [],
   "source": [
    "from tensorflow.keras import layers, Model, regularizers\n",
    "\n",
    "vocab_size = 1000\n",
    "\n",
    "inp = layers.Input(shape=(409,))\n",
    "emb = layers.Embedding(vocab_size, 100)(inp)\n",
    "conv1 = layers.Conv1D(64,3, padding='same')(emb)\n",
    "conv2 = layers.Conv1D(64,4, padding='same')(emb)\n",
    "conv3 = layers.Conv1D(64,5, padding='same')(emb)\n",
    "\n",
    "max1 = layers.MaxPool1D(409, strides=1)(conv1)\n",
    "max2 = layers.MaxPool1D(409, strides=1)(conv2)\n",
    "max3 = layers.MaxPool1D(409, strides=1)(conv3)\n",
    "\n",
    "conc = layers.concatenate([max1, max2, max3])\n",
    "flat = layers.Flatten()(conc)\n",
    "drop = layers.Dropout(0.5)(flat)\n",
    "out = layers.Dense(3, activation='softmax', kernel_regularizer='l2')(drop)\n",
    "\n",
    "model = Model(inp,out)\n",
    "model.summary()"
   ]
  },
  {
   "cell_type": "code",
   "execution_count": null,
   "metadata": {},
   "outputs": [],
   "source": []
  },
  {
   "cell_type": "code",
   "execution_count": null,
   "metadata": {},
   "outputs": [],
   "source": []
  },
  {
   "cell_type": "code",
   "execution_count": null,
   "metadata": {},
   "outputs": [],
   "source": [
    "import pandas as pd"
   ]
  },
  {
   "cell_type": "code",
   "execution_count": null,
   "metadata": {},
   "outputs": [],
   "source": [
    "df = pd.read_clipboard()\n",
    "df"
   ]
  },
  {
   "cell_type": "code",
   "execution_count": null,
   "metadata": {},
   "outputs": [],
   "source": [
    "df = df.set_index('no')\n",
    "df"
   ]
  },
  {
   "cell_type": "code",
   "execution_count": null,
   "metadata": {},
   "outputs": [],
   "source": []
  },
  {
   "cell_type": "code",
   "execution_count": null,
   "metadata": {},
   "outputs": [],
   "source": [
    "import gensim.downloader as api"
   ]
  },
  {
   "cell_type": "code",
   "execution_count": null,
   "metadata": {},
   "outputs": [],
   "source": [
    "model_gigaword = api.load(\"glove-wiki-gigaword-100\")"
   ]
  },
  {
   "cell_type": "code",
   "execution_count": null,
   "metadata": {},
   "outputs": [],
   "source": [
    "your_word_vector = np.array([-0.696, -1.26119, -0.49109, 0.91179, 0.23077281,\n",
    "       -0.18835002, -0.65568995, -0.29686698, -0.60074997, -1.35762   ,\n",
    "       -0.11816999,  0.01779997, -0.74096   ,  0.21192   , -0.407071  ,\n",
    "       -1.04871   , -0.480674  , -0.95541   , -0.06046999,  0.20678002,\n",
    "       -1.1516    , -0.98955095,  0.44508   ,  0.32682198, -0.03306001,\n",
    "       -0.31138003,  0.87721   ,  0.34279   ,  0.78621   , -0.297459  ,\n",
    "        0.529243  , -0.07398   ,  0.551844  ,  0.54218   , -0.39394   ,\n",
    "        0.96368   ,  0.22518003,  0.05197001, -0.912573  , -0.718755  ,\n",
    "        0.08056   ,  0.421177  , -0.34256   , -0.71294   , -0.25391   ,\n",
    "       -0.65362   , -0.31369498,  0.216278  ,  0.41873002, -0.21784998,\n",
    "        0.21340999,  0.480393  ,  0.47077006, -1.00272   ,  0.16624999,\n",
    "       -0.07340002,  0.09219003, -0.02021003, -0.58403   , -0.47306   ,\n",
    "        0.05066001, -0.64416003,  0.80061007,  0.224344  , -0.20483994,\n",
    "       -0.33785298, -1.24589   ,  0.08900005, -0.08385998, -0.195515  ,\n",
    "        0.08500999, -0.55749   ,  0.19473001, -0.0751    , -0.61184   ,\n",
    "       -0.08018   , -0.34303   ,  1.03759   , -0.36085004,  0.93508005,\n",
    "       -0.00997001, -0.57282   ,  0.33101702,  0.271261  ,  0.47389007,\n",
    "        1.1219599 , -0.00199997, -1.609     ,  0.57377803, -0.17023998,\n",
    "       -0.22913098, -0.33818996, -0.367797  ,  0.367965  , -1.08955   ,\n",
    "       -0.664806  ,  0.05213001,  0.40829998,  0.125692  , -0.44967002])\n",
    "\n",
    "model_gigaword.wv.most_similar(positive=[your_word_vector], topn=10)"
   ]
  },
  {
   "cell_type": "code",
   "execution_count": null,
   "metadata": {},
   "outputs": [],
   "source": []
  },
  {
   "cell_type": "code",
   "execution_count": null,
   "metadata": {},
   "outputs": [],
   "source": []
  },
  {
   "cell_type": "code",
   "execution_count": null,
   "metadata": {},
   "outputs": [],
   "source": []
  },
  {
   "cell_type": "code",
   "execution_count": null,
   "metadata": {},
   "outputs": [],
   "source": []
  },
  {
   "cell_type": "code",
   "execution_count": null,
   "metadata": {},
   "outputs": [],
   "source": []
  },
  {
   "cell_type": "code",
   "execution_count": null,
   "metadata": {},
   "outputs": [],
   "source": [
    "import numpy as np \n",
    "import pandas as pd \n",
    "\n",
    "x_val = [1,2,4,8,16,32,64,128,256,512]\n",
    "y_val = [x+np.random.random()*200 for x in x_val]\n",
    "\n",
    "df = pd.DataFrame(data={'x':x_val,'y':y_val})\n",
    "df.set_index('x', inplace=True)\n",
    "\n",
    "df.plot()\n",
    "df.rolling(1, win_type='gaussian').mean(std=2).plot()"
   ]
  },
  {
   "cell_type": "code",
   "execution_count": null,
   "metadata": {},
   "outputs": [],
   "source": [
    "df"
   ]
  },
  {
   "cell_type": "code",
   "execution_count": null,
   "metadata": {},
   "outputs": [],
   "source": []
  },
  {
   "cell_type": "code",
   "execution_count": null,
   "metadata": {},
   "outputs": [],
   "source": []
  },
  {
   "cell_type": "code",
   "execution_count": null,
   "metadata": {},
   "outputs": [],
   "source": []
  },
  {
   "cell_type": "code",
   "execution_count": null,
   "metadata": {},
   "outputs": [],
   "source": []
  },
  {
   "cell_type": "code",
   "execution_count": null,
   "metadata": {},
   "outputs": [],
   "source": [
    "df = pd.read_clipboard('\\s\\s+')"
   ]
  },
  {
   "cell_type": "code",
   "execution_count": null,
   "metadata": {},
   "outputs": [],
   "source": [
    "df"
   ]
  },
  {
   "cell_type": "code",
   "execution_count": null,
   "metadata": {},
   "outputs": [],
   "source": [
    "a = np.random.random((2,10,6))\n",
    "b = np.random.random((2,5,4))\n",
    "\n",
    "new_b = np.repeat(b, 2, axis=1)\n",
    "out = np.dstack((a, new_b))\n",
    "\n",
    "out.shape"
   ]
  },
  {
   "cell_type": "code",
   "execution_count": null,
   "metadata": {},
   "outputs": [],
   "source": []
  },
  {
   "cell_type": "code",
   "execution_count": null,
   "metadata": {},
   "outputs": [],
   "source": []
  },
  {
   "cell_type": "code",
   "execution_count": null,
   "metadata": {},
   "outputs": [],
   "source": []
  },
  {
   "cell_type": "code",
   "execution_count": null,
   "metadata": {},
   "outputs": [],
   "source": []
  },
  {
   "cell_type": "code",
   "execution_count": null,
   "metadata": {},
   "outputs": [],
   "source": [
    "df = pd.DataFrame({'A':list('AAAAAABBBBBCCCCCC'),\n",
    "                   'B':list('EFGHIJEGHJKGHJKEI')})\n",
    "\n",
    "\n",
    "filt = df['B'].isin(hit)\n",
    "\n",
    "df['C']=1\n",
    "df[filt & df['A'].isin(df[filt].set_index(['A','B']).unstack('B').dropna().index)]"
   ]
  },
  {
   "cell_type": "code",
   "execution_count": null,
   "metadata": {},
   "outputs": [],
   "source": [
    "filt"
   ]
  },
  {
   "cell_type": "code",
   "execution_count": null,
   "metadata": {},
   "outputs": [],
   "source": []
  },
  {
   "cell_type": "code",
   "execution_count": null,
   "metadata": {},
   "outputs": [],
   "source": []
  },
  {
   "cell_type": "code",
   "execution_count": null,
   "metadata": {},
   "outputs": [],
   "source": [
    "df[df['A'].isin(df.pivot('A','B','C')[hit].dropna().index) & df['B'].isin(hit)]"
   ]
  },
  {
   "cell_type": "code",
   "execution_count": null,
   "metadata": {},
   "outputs": [],
   "source": []
  },
  {
   "cell_type": "code",
   "execution_count": null,
   "metadata": {},
   "outputs": [],
   "source": []
  },
  {
   "cell_type": "code",
   "execution_count": null,
   "metadata": {},
   "outputs": [],
   "source": [
    "#!pip install pyinflect\n",
    "from pyinflect import getInflection\n",
    "\n",
    "words = ['lead','take','hit','begin','stop','refer','visit']\n",
    "[getInflection(i, 'VBG') for i in words]"
   ]
  },
  {
   "cell_type": "code",
   "execution_count": null,
   "metadata": {},
   "outputs": [],
   "source": []
  },
  {
   "cell_type": "code",
   "execution_count": null,
   "metadata": {},
   "outputs": [],
   "source": []
  },
  {
   "cell_type": "code",
   "execution_count": null,
   "metadata": {},
   "outputs": [],
   "source": [
    "fruits = ['green apples', 'oranges', 'pears', 'berries', 'kiwi', 'red apples', 'kiwi']\n",
    "\n",
    "['melons', 'oranges', 'pears', 'berries', 'kiwi', 'melons', 'kiwi']"
   ]
  },
  {
   "cell_type": "code",
   "execution_count": null,
   "metadata": {},
   "outputs": [],
   "source": [
    "fruits = [fruit if 'apples' not in fruit else 'melons' for fruit in fruits]"
   ]
  },
  {
   "cell_type": "code",
   "execution_count": null,
   "metadata": {},
   "outputs": [],
   "source": [
    "cfg = {'apples':'melons','kiwi':'bananas'}"
   ]
  },
  {
   "cell_type": "code",
   "execution_count": null,
   "metadata": {},
   "outputs": [],
   "source": [
    "[cfg.get(k) if any(k for k in cfg.keys() if k in i) else for i in fruits]"
   ]
  },
  {
   "cell_type": "code",
   "execution_count": null,
   "metadata": {},
   "outputs": [],
   "source": [
    "[[v if k in fruit else fruit for k,v in cfg.items()][0] for fruit in fruits]"
   ]
  },
  {
   "cell_type": "code",
   "execution_count": null,
   "metadata": {},
   "outputs": [],
   "source": []
  },
  {
   "cell_type": "code",
   "execution_count": null,
   "metadata": {},
   "outputs": [],
   "source": [
    "[next((v for k, v in cfg.items() if k in fruit), fruit) for fruit in fruits]"
   ]
  },
  {
   "cell_type": "code",
   "execution_count": null,
   "metadata": {},
   "outputs": [],
   "source": [
    "[([v for k, v in cfg.items() if k in fruit], fruit) for fruit in fruits]"
   ]
  },
  {
   "cell_type": "code",
   "execution_count": null,
   "metadata": {},
   "outputs": [],
   "source": []
  },
  {
   "cell_type": "code",
   "execution_count": null,
   "metadata": {},
   "outputs": [],
   "source": []
  },
  {
   "cell_type": "code",
   "execution_count": null,
   "metadata": {},
   "outputs": [],
   "source": []
  },
  {
   "cell_type": "code",
   "execution_count": null,
   "metadata": {},
   "outputs": [],
   "source": [
    "a = np.random.random((2,10,6))\n",
    "b = np.random.random((2,5,4))\n",
    "\n",
    "s = np.array([2,3,2,2,1])  #Number of elements = number of objects m\n",
    "                           #Sum of elements = number of objets n\n",
    "\n",
    "new_b = np.repeat(b, s, axis=1)\n",
    "#new_b shape = (2,10,4)\n",
    "\n",
    "out = np.dstack((a, new_b))\n",
    "out.shape"
   ]
  },
  {
   "cell_type": "code",
   "execution_count": null,
   "metadata": {},
   "outputs": [],
   "source": []
  },
  {
   "cell_type": "code",
   "execution_count": null,
   "metadata": {},
   "outputs": [],
   "source": []
  },
  {
   "cell_type": "code",
   "execution_count": null,
   "metadata": {},
   "outputs": [],
   "source": []
  },
  {
   "cell_type": "code",
   "execution_count": null,
   "metadata": {},
   "outputs": [],
   "source": [
    "column_names= [\"a\", \"b\", \"c\"]\n",
    "vals = [[1, 2, 3], [4, 5, 6], [7, 8, 9]]\n",
    "\n",
    "df = pd.DataFrame(vals).T\n",
    "df.columns = column_names\n",
    "\n",
    "   a  b  c\n",
    "0  1  4  7\n",
    "1  2  5  8\n",
    "2  3  6  9"
   ]
  },
  {
   "cell_type": "code",
   "execution_count": null,
   "metadata": {},
   "outputs": [],
   "source": [
    "print(df)"
   ]
  },
  {
   "cell_type": "code",
   "execution_count": null,
   "metadata": {},
   "outputs": [],
   "source": [
    "import numpy as np\n",
    "\n",
    "column_names= [\"a\", \"b\", \"c\"]\n",
    "vals = np.array([[1, 2, 3], [4, 5, 6], [7, 8, 9]])\n",
    "\n",
    "df = pd.DataFrame(vals.T, columns=column_names)\n",
    "print(df)\n",
    "\n",
    "   a  b  c\n",
    "0  1  4  7\n",
    "1  2  5  8\n",
    "2  3  6  9"
   ]
  },
  {
   "cell_type": "code",
   "execution_count": null,
   "metadata": {},
   "outputs": [],
   "source": []
  },
  {
   "cell_type": "code",
   "execution_count": null,
   "metadata": {},
   "outputs": [],
   "source": []
  },
  {
   "cell_type": "code",
   "execution_count": null,
   "metadata": {},
   "outputs": [],
   "source": []
  },
  {
   "cell_type": "code",
   "execution_count": null,
   "metadata": {},
   "outputs": [],
   "source": []
  },
  {
   "cell_type": "code",
   "execution_count": null,
   "metadata": {},
   "outputs": [],
   "source": [
    "from itertools import islice, tee\n",
    "\n",
    "l = [i for i in range(2,10)]\n",
    "#[2, 3, 4, 5, 6, 7, 8, 9]\n",
    "\n",
    "def sliding_window(iterable, size):\n",
    "    iterables = tee(iter(iterable), size)\n",
    "    window = zip(*(islice(t, n, None) for n,t in enumerate(iterables)))\n",
    "    yield from window\n",
    "    \n",
    "[i for i in sliding_window(l,4)]\n",
    "#[(2, 3, 4, 5), (3, 4, 5, 6), (4, 5, 6, 7), (5, 6, 7, 8), (6, 7, 8, 9)]"
   ]
  },
  {
   "cell_type": "code",
   "execution_count": null,
   "metadata": {},
   "outputs": [],
   "source": []
  },
  {
   "cell_type": "code",
   "execution_count": null,
   "metadata": {},
   "outputs": [],
   "source": []
  },
  {
   "cell_type": "code",
   "execution_count": null,
   "metadata": {},
   "outputs": [],
   "source": [
    "x = 'a'"
   ]
  },
  {
   "cell_type": "code",
   "execution_count": null,
   "metadata": {},
   "outputs": [],
   "source": [
    "\"{0:b}\".format(bytes(x, \"ascii\"))"
   ]
  },
  {
   "cell_type": "code",
   "execution_count": null,
   "metadata": {},
   "outputs": [],
   "source": [
    "bytes(x, \"ascii\")"
   ]
  },
  {
   "cell_type": "code",
   "execution_count": null,
   "metadata": {},
   "outputs": [],
   "source": [
    "bin(0)"
   ]
  },
  {
   "cell_type": "code",
   "execution_count": null,
   "metadata": {},
   "outputs": [],
   "source": [
    "hex(0)"
   ]
  },
  {
   "cell_type": "code",
   "execution_count": null,
   "metadata": {},
   "outputs": [],
   "source": [
    "\"{0:#0{1}x}\".format(1,7)"
   ]
  },
  {
   "cell_type": "code",
   "execution_count": null,
   "metadata": {},
   "outputs": [],
   "source": []
  },
  {
   "cell_type": "code",
   "execution_count": null,
   "metadata": {},
   "outputs": [],
   "source": []
  },
  {
   "cell_type": "code",
   "execution_count": null,
   "metadata": {},
   "outputs": [],
   "source": []
  },
  {
   "cell_type": "code",
   "execution_count": null,
   "metadata": {},
   "outputs": [],
   "source": []
  },
  {
   "cell_type": "code",
   "execution_count": 30,
   "metadata": {},
   "outputs": [],
   "source": []
  },
  {
   "cell_type": "code",
   "execution_count": 31,
   "metadata": {},
   "outputs": [],
   "source": [
    "#Pretrained model\n",
    "\n",
    "def model1():\n",
    "    inp = layers.Input((3,))\n",
    "    x = layers.Dense(4, activation='relu')(inp)\n",
    "    out = layers.Dense(2, activation='softmax')(x)    \n",
    "    model = Model(inp, out)\n",
    "    return model\n",
    "\n",
    "pretrained_model = model1()\n",
    "\n",
    "l = pretrained_model.layers\n",
    "w = pretrained_model.weights"
   ]
  },
  {
   "cell_type": "code",
   "execution_count": 37,
   "metadata": {},
   "outputs": [
    {
     "data": {
      "text/plain": [
       "[<tensorflow.python.keras.engine.input_layer.InputLayer at 0x7f915d6778b0>,\n",
       " <tensorflow.python.keras.layers.core.Dense at 0x7f915d643790>,\n",
       " <tensorflow.python.keras.layers.core.Dense at 0x7f915e124e50>]"
      ]
     },
     "execution_count": 37,
     "metadata": {},
     "output_type": "execute_result"
    }
   ],
   "source": [
    "l"
   ]
  },
  {
   "cell_type": "code",
   "execution_count": null,
   "metadata": {},
   "outputs": [],
   "source": []
  },
  {
   "cell_type": "code",
   "execution_count": 277,
   "metadata": {},
   "outputs": [
    {
     "name": "stdout",
     "output_type": "stream",
     "text": [
      "Model: \"functional_77\"\n",
      "__________________________________________________________________________________________________\n",
      "Layer (type)                    Output Shape         Param #     Connected to                     \n",
      "==================================================================================================\n",
      "input_41 (InputLayer)           [(None, 9)]          0                                            \n",
      "__________________________________________________________________________________________________\n",
      "lambda_45 (Lambda)              (None, 3)            0           input_41[0][0]                   \n",
      "__________________________________________________________________________________________________\n",
      "lambda_46 (Lambda)              (None, 3)            0           input_41[0][0]                   \n",
      "__________________________________________________________________________________________________\n",
      "lambda_47 (Lambda)              (None, 3)            0           input_41[0][0]                   \n",
      "__________________________________________________________________________________________________\n",
      "functional_71 (Functional)      (None, 2)            26          lambda_45[0][0]                  \n",
      "__________________________________________________________________________________________________\n",
      "functional_73 (Functional)      (None, 2)            26          lambda_46[0][0]                  \n",
      "__________________________________________________________________________________________________\n",
      "functional_75 (Functional)      (None, 2)            26          lambda_47[0][0]                  \n",
      "__________________________________________________________________________________________________\n",
      "concatenate_12 (Concatenate)    (None, 6)            0           functional_71[0][0]              \n",
      "                                                                 functional_73[0][0]              \n",
      "                                                                 functional_75[0][0]              \n",
      "__________________________________________________________________________________________________\n",
      "dense_79 (Dense)                (None, 2)            14          concatenate_12[0][0]             \n",
      "==================================================================================================\n",
      "Total params: 92\n",
      "Trainable params: 92\n",
      "Non-trainable params: 0\n",
      "__________________________________________________________________________________________________\n"
     ]
    }
   ],
   "source": [
    "def model1():\n",
    "    inp = layers.Input((3,))\n",
    "    x = layers.Dense(4, activation='relu')(inp)\n",
    "    out = layers.Dense(2, activation='softmax')(x)    \n",
    "    model = Model(inp, out)\n",
    "    return model\n",
    "\n",
    "pretrained_model1 = model1() #Imagine loading these pre-trained model as a model file from a binary model file\n",
    "pretrained_model2 = model1() #Make 3 separate objects to the model even if you are using the same model\n",
    "pretrained_model3 = model1() #Else it the new model only considers the same 26 weights for all 3 instead of 26*3\n",
    "\n",
    "\n",
    "#Your custom model architecture that embeds the 3 pretrained models - \n",
    "inp = layers.Input((9,))\n",
    "\n",
    "x0 = layers.Lambda(lambda x : x[:,0:3])(inp) \n",
    "x1 = layers.Lambda(lambda x : x[:,3:6])(inp)\n",
    "x2 = layers.Lambda(lambda x : x[:,6:])(inp)\n",
    "\n",
    "m0 = pretrained_model1(x0)\n",
    "m1 = pretrained_model2(x1)\n",
    "m2 = pretrained_model3(x2)\n",
    "\n",
    "cnc = layers.concatenate([m0, m1, m2])\n",
    "out = layers.Dense(2, activation='softmax')(cnc)\n",
    "\n",
    "model = Model(inp,out)\n",
    "model.summary()"
   ]
  },
  {
   "cell_type": "code",
   "execution_count": 274,
   "metadata": {},
   "outputs": [
    {
     "data": {
      "image/png": "[encoded data removed]",
      "text/plain": [
       "<IPython.core.display.Image object>"
      ]
     },
     "execution_count": 274,
     "metadata": {},
     "output_type": "execute_result"
    }
   ],
   "source": [
    "utils.plot_model(model, show_shapes=True, expand_nested=True)"
   ]
  },
  {
   "cell_type": "code",
   "execution_count": 243,
   "metadata": {},
   "outputs": [
    {
     "name": "stdout",
     "output_type": "stream",
     "text": [
      "Model: \"functional_40\"\n",
      "_________________________________________________________________\n",
      "Layer (type)                 Output Shape              Param #   \n",
      "=================================================================\n",
      "input_15 (InputLayer)        [(None, 3)]               0         \n",
      "_________________________________________________________________\n",
      "dense_36 (Dense)             (None, 3)                 12        \n",
      "_________________________________________________________________\n",
      "functional_37 (Functional)   (None, 2)                 26        \n",
      "_________________________________________________________________\n",
      "dense_37 (Dense)             (None, 2)                 6         \n",
      "=================================================================\n",
      "Total params: 44\n",
      "Trainable params: 44\n",
      "Non-trainable params: 0\n",
      "_________________________________________________________________\n"
     ]
    }
   ],
   "source": [
    "inp = layers.Input((3,))\n",
    "x = layers.Dense(3, activation='relu')(inp)\n",
    "m0 = pretrained_model(x) # <---\n",
    "out = layers.Dense(2)(m0)\n",
    "\n",
    "model2 = Model(inp, out)\n",
    "model2.summary()"
   ]
  },
  {
   "cell_type": "code",
   "execution_count": 244,
   "metadata": {},
   "outputs": [
    {
     "data": {
      "image/png": "[encoded data removed]",
      "text/plain": [
       "<IPython.core.display.Image object>"
      ]
     },
     "execution_count": 244,
     "metadata": {},
     "output_type": "execute_result"
    }
   ],
   "source": [
    "utils.plot_model(model2, show_shapes=True)"
   ]
  },
  {
   "cell_type": "code",
   "execution_count": null,
   "metadata": {},
   "outputs": [],
   "source": []
  },
  {
   "cell_type": "code",
   "execution_count": null,
   "metadata": {},
   "outputs": [],
   "source": []
  },
  {
   "cell_type": "code",
   "execution_count": null,
   "metadata": {},
   "outputs": [],
   "source": []
  },
  {
   "cell_type": "code",
   "execution_count": null,
   "metadata": {},
   "outputs": [],
   "source": []
  },
  {
   "cell_type": "code",
   "execution_count": 58,
   "metadata": {},
   "outputs": [
    {
     "name": "stdout",
     "output_type": "stream",
     "text": [
      "h e l l o s\n",
      "he ll os\n",
      "hel los\n"
     ]
    }
   ],
   "source": [
    "from itertools import zip_longest\n",
    "\n",
    "def chunker(string, part_length):\n",
    "    chunk = zip_longest(*[iter(string)]*part_length, fillvalue='')\n",
    "    return ' '.join([''.join(i) for i in chunk])\n",
    "\n",
    "print(chunker('hellos', 1))\n",
    "print(chunker('hellos', 2))\n",
    "print(chunker('hellos', 3))"
   ]
  },
  {
   "cell_type": "code",
   "execution_count": 55,
   "metadata": {},
   "outputs": [
    {
     "data": {
      "text/plain": [
       "'he ll o'"
      ]
     },
     "execution_count": 55,
     "metadata": {},
     "output_type": "execute_result"
    }
   ],
   "source": []
  },
  {
   "cell_type": "code",
   "execution_count": 62,
   "metadata": {},
   "outputs": [],
   "source": [
    "import pandas as pd\n",
    "import numpy as np"
   ]
  },
  {
   "cell_type": "code",
   "execution_count": 73,
   "metadata": {},
   "outputs": [
    {
     "name": "stdout",
     "output_type": "stream",
     "text": [
      "(3,) (3, 1)\n",
      "(2, 3) (2, 3)\n",
      "(1, 3) (1, 3)\n",
      "(2, 1, 3) (2, 1)\n"
     ]
    }
   ],
   "source": [
    "a = [1,2,3]\n",
    "b = [[1,2,3], [4,5,6]]\n",
    "c = [[1,2,3]]\n",
    "d = [[[1,2,3]],[[4,5,6]]]\n",
    "\n",
    "print(np.array(a).shape, pd.DataFrame(a).shape)\n",
    "print(np.array(b).shape, pd.DataFrame(b).shape)\n",
    "print(np.array(c).shape, pd.DataFrame(c).shape)\n",
    "print(np.array(d).shape, pd.DataFrame(d).shape)"
   ]
  },
  {
   "cell_type": "code",
   "execution_count": 63,
   "metadata": {},
   "outputs": [
    {
     "data": {
      "text/html": [
       "<div>\n",
       "<style scoped>\n",
       "    .dataframe tbody tr th:only-of-type {\n",
       "        vertical-align: middle;\n",
       "    }\n",
       "\n",
       "    .dataframe tbody tr th {\n",
       "        vertical-align: top;\n",
       "    }\n",
       "\n",
       "    .dataframe thead th {\n",
       "        text-align: right;\n",
       "    }\n",
       "</style>\n",
       "<table border=\"1\" class=\"dataframe\">\n",
       "  <thead>\n",
       "    <tr style=\"text-align: right;\">\n",
       "      <th></th>\n",
       "      <th>0</th>\n",
       "    </tr>\n",
       "  </thead>\n",
       "  <tbody>\n",
       "    <tr>\n",
       "      <th>0</th>\n",
       "      <td>1</td>\n",
       "    </tr>\n",
       "    <tr>\n",
       "      <th>1</th>\n",
       "      <td>2</td>\n",
       "    </tr>\n",
       "    <tr>\n",
       "      <th>2</th>\n",
       "      <td>3</td>\n",
       "    </tr>\n",
       "  </tbody>\n",
       "</table>\n",
       "</div>"
      ],
      "text/plain": [
       "   0\n",
       "0  1\n",
       "1  2\n",
       "2  3"
      ]
     },
     "execution_count": 63,
     "metadata": {},
     "output_type": "execute_result"
    }
   ],
   "source": [
    "pd.DataFrame()"
   ]
  },
  {
   "cell_type": "code",
   "execution_count": null,
   "metadata": {},
   "outputs": [],
   "source": []
  },
  {
   "cell_type": "code",
   "execution_count": null,
   "metadata": {},
   "outputs": [],
   "source": []
  },
  {
   "cell_type": "code",
   "execution_count": 93,
   "metadata": {},
   "outputs": [],
   "source": [
    "data = pd.DataFrame({'Country':['USA','UK','France','Germany'],\n",
    "        2006.0:[1,4,5,6],\n",
    "        2007.0:[5,4,8,5],\n",
    "        2008.0:[4,8,4,7]})\n",
    "\n",
    "#data.columns = [int(i) if isinstance(i, float) else i for i in data.columns]\n",
    "#print(data)"
   ]
  },
  {
   "cell_type": "code",
   "execution_count": 82,
   "metadata": {},
   "outputs": [
    {
     "ename": "NameError",
     "evalue": "name 'i' is not defined",
     "output_type": "error",
     "traceback": [
      "\u001b[0;31m---------------------------------------------------------------------------\u001b[0m",
      "\u001b[0;31mNameError\u001b[0m                                 Traceback (most recent call last)",
      "\u001b[0;32m<ipython-input-82-0c38471c1b72>\u001b[0m in \u001b[0;36m<module>\u001b[0;34m\u001b[0m\n\u001b[0;32m----> 1\u001b[0;31m \u001b[0misinstance\u001b[0m\u001b[0;34m(\u001b[0m\u001b[0mi\u001b[0m\u001b[0;34m,\u001b[0m \u001b[0;34m'float'\u001b[0m\u001b[0;34m)\u001b[0m\u001b[0;34m\u001b[0m\u001b[0;34m\u001b[0m\u001b[0m\n\u001b[0m",
      "\u001b[0;31mNameError\u001b[0m: name 'i' is not defined"
     ]
    }
   ],
   "source": []
  },
  {
   "cell_type": "code",
   "execution_count": null,
   "metadata": {},
   "outputs": [],
   "source": []
  },
  {
   "cell_type": "code",
   "execution_count": 106,
   "metadata": {},
   "outputs": [
    {
     "name": "stdout",
     "output_type": "stream",
     "text": [
      "   Country  2006  2007  2008\n",
      "0      USA     1     5     4\n",
      "1       UK     4     4     8\n",
      "2   France     5     8     4\n",
      "3  Germany     6     5     7\n"
     ]
    }
   ],
   "source": [
    "data = pd.DataFrame({'Country':['USA','UK','France','Germany'],\n",
    "        2006.0:[1,4,5,6],\n",
    "        2007.0:[5,4,8,5],\n",
    "        2008.0:[4,8,4,7]})\n",
    "\n",
    "\n",
    "mask = data.columns.str.isnumeric()!=False\n",
    "\n",
    "#[False  True  True  True]\n",
    "\n",
    "g = {k:int(k) for k,v in zip(data.columns, mask) if v==True}\n",
    "\n",
    "#{2006.0: 2006, 2007.0: 2007, 2008.0: 2008}\n",
    "\n",
    "data.rename(g, axis=1, inplace=True)\n",
    "print(data)\n",
    "\n",
    "   Country  2006  2007  2008\n",
    "0      USA     1     5     4\n",
    "1       UK     4     4     8\n",
    "2   France     5     8     4\n",
    "3  Germany     6     5     7"
   ]
  },
  {
   "cell_type": "code",
   "execution_count": 103,
   "metadata": {},
   "outputs": [
    {
     "name": "stdout",
     "output_type": "stream",
     "text": [
      "[False  True  True  True]\n"
     ]
    }
   ],
   "source": [
    "print(mask)"
   ]
  },
  {
   "cell_type": "code",
   "execution_count": 109,
   "metadata": {},
   "outputs": [
    {
     "data": {
      "text/plain": [
       "Index([False, nan, nan, nan], dtype='object')"
      ]
     },
     "execution_count": 109,
     "metadata": {},
     "output_type": "execute_result"
    }
   ],
   "source": [
    "data.columns.str.isnumeric()"
   ]
  },
  {
   "cell_type": "code",
   "execution_count": null,
   "metadata": {},
   "outputs": [],
   "source": []
  },
  {
   "cell_type": "code",
   "execution_count": null,
   "metadata": {},
   "outputs": [],
   "source": []
  },
  {
   "cell_type": "code",
   "execution_count": null,
   "metadata": {},
   "outputs": [],
   "source": []
  },
  {
   "cell_type": "code",
   "execution_count": 146,
   "metadata": {},
   "outputs": [
    {
     "data": {
      "text/plain": [
       "array([0, 2, 1, 2, 1, 1, 0, 1, 1, 0, 1, 2, 1, 0, 0, 1, 0, 2, 0, 1, 1, 0,\n",
       "       0, 0, 0, 2, 1, 0, 2, 1, 0, 1, 1, 1, 0, 0, 2, 2, 1, 0, 2, 1, 0, 1,\n",
       "       1, 0, 1, 1, 1, 1, 2, 1, 1, 0, 1, 0, 2, 1, 1, 0, 1, 2, 0, 0, 0, 1,\n",
       "       1, 0, 1, 2, 2, 1, 1, 1, 0, 0, 2, 0, 2, 1, 1, 0, 2, 2, 1, 1, 2, 1,\n",
       "       2, 0, 1, 0, 2, 1, 1, 1, 0, 0, 1, 0, 0, 2, 0, 0, 1, 0, 2, 0, 0, 1,\n",
       "       2, 1, 0, 1, 2, 2, 1, 1, 0, 1, 0, 0, 1, 1, 1, 1, 2, 1, 2, 0, 1, 1,\n",
       "       2, 0, 1, 2, 1, 1, 1, 1, 0, 2, 1, 2, 2, 1, 0, 2, 1, 2, 2, 1, 1, 0,\n",
       "       0, 1, 0, 0, 2, 2, 0, 1, 1, 0, 0, 1, 1, 1, 0, 0, 1, 1, 1, 1, 0, 1,\n",
       "       1, 0, 1, 0, 0, 2, 0, 1, 0, 2, 1, 2, 0, 0, 1, 0, 0, 0, 1, 0, 0, 1,\n",
       "       1, 2, 1, 1, 1, 1, 2, 2, 1, 1, 0, 2, 1, 1, 1, 1, 1, 0, 0, 1, 1, 1,\n",
       "       0, 1, 0, 1, 1, 1, 0, 0, 1, 2, 2, 2, 1, 1, 0, 2, 2, 0, 1, 0, 0, 0,\n",
       "       0, 1, 0, 0, 1, 1, 0, 1, 1, 0, 0, 1, 0, 1, 0, 1, 0, 0, 0, 2, 1, 0,\n",
       "       1, 2, 1, 1, 1, 2, 0, 0, 1, 0, 2, 0, 2, 0, 0, 1, 1, 0, 1, 1, 1, 0,\n",
       "       1, 1, 0, 1, 0, 2, 1, 2, 2, 1, 0, 0, 2, 1])"
      ]
     },
     "execution_count": 146,
     "metadata": {},
     "output_type": "execute_result"
    }
   ],
   "source": [
    "centroids = np.array([[4,2],[5,4],[6,3]])\n",
    "X = np.random.uniform(low=-0.2451, high=8.20, size=(300, 2))\n",
    "\n",
    "dist = np.sqrt(np.sum(np.square(X[:,:,None] - centroids.T[None,:,:]), axis=1))\n",
    "idx = np.argmin(dist, axis=1)\n",
    "\n",
    "idx"
   ]
  },
  {
   "cell_type": "code",
   "execution_count": 132,
   "metadata": {},
   "outputs": [
    {
     "data": {
      "text/plain": [
       "array([[-3.39233465, -4.39233465, -5.39233465],\n",
       "       [ 3.54485231,  1.54485231,  2.54485231]])"
      ]
     },
     "execution_count": 132,
     "metadata": {},
     "output_type": "execute_result"
    }
   ],
   "source": [
    "#np.sqrt(np.sum(np.square(  ), axis=1))\n",
    "(X[0] - centroids).T"
   ]
  },
  {
   "cell_type": "code",
   "execution_count": null,
   "metadata": {},
   "outputs": [],
   "source": []
  },
  {
   "cell_type": "code",
   "execution_count": null,
   "metadata": {},
   "outputs": [],
   "source": []
  },
  {
   "cell_type": "code",
   "execution_count": null,
   "metadata": {},
   "outputs": [],
   "source": []
  },
  {
   "cell_type": "code",
   "execution_count": 147,
   "metadata": {},
   "outputs": [],
   "source": [
    "out = [(3, 2), (1, 4), (4, 3), (2, 1),(6,1)]"
   ]
  },
  {
   "cell_type": "code",
   "execution_count": 144,
   "metadata": {},
   "outputs": [
    {
     "name": "stdout",
     "output_type": "stream",
     "text": [
      "(300, 3)\n",
      "(300,)\n"
     ]
    }
   ],
   "source": [
    "print(dist.shape)\n",
    "print(idx.shape)\n",
    "\n",
    "(300, 3)\n",
    "(300,)"
   ]
  },
  {
   "cell_type": "code",
   "execution_count": 125,
   "metadata": {},
   "outputs": [
    {
     "data": {
      "text/plain": [
       "(1, 2, 3)"
      ]
     },
     "execution_count": 125,
     "metadata": {},
     "output_type": "execute_result"
    }
   ],
   "source": []
  },
  {
   "cell_type": "code",
   "execution_count": 151,
   "metadata": {},
   "outputs": [
    {
     "data": {
      "text/plain": [
       "[(1, 4), (4, 3), (3, 2), (2, 1), (6, 1)]"
      ]
     },
     "execution_count": 151,
     "metadata": {},
     "output_type": "execute_result"
    }
   ],
   "source": [
    "sorted(out, key=lambda x:x[1], reverse=True)"
   ]
  },
  {
   "cell_type": "code",
   "execution_count": null,
   "metadata": {},
   "outputs": [],
   "source": []
  },
  {
   "cell_type": "code",
   "execution_count": null,
   "metadata": {},
   "outputs": [],
   "source": []
  },
  {
   "cell_type": "code",
   "execution_count": 154,
   "metadata": {},
   "outputs": [],
   "source": [
    "df = pd.read_clipboard()\n",
    "df = df.reset_index()"
   ]
  },
  {
   "cell_type": "code",
   "execution_count": 157,
   "metadata": {},
   "outputs": [],
   "source": [
    "df['a'] = df['level_0']+'_'+df['level_1'].astype(str)"
   ]
  },
  {
   "cell_type": "code",
   "execution_count": 177,
   "metadata": {},
   "outputs": [
    {
     "ename": "KeyError",
     "evalue": "\"['a'] not in index\"",
     "output_type": "error",
     "traceback": [
      "\u001b[0;31m---------------------------------------------------------------------------\u001b[0m",
      "\u001b[0;31mKeyError\u001b[0m                                  Traceback (most recent call last)",
      "\u001b[0;32m<ipython-input-177-826fd72e6ff6>\u001b[0m in \u001b[0;36m<module>\u001b[0;34m\u001b[0m\n\u001b[0;32m----> 1\u001b[0;31m \u001b[0mdf\u001b[0m \u001b[0;34m=\u001b[0m \u001b[0mdf\u001b[0m\u001b[0;34m[\u001b[0m\u001b[0;34m[\u001b[0m\u001b[0;34m'a'\u001b[0m\u001b[0;34m,\u001b[0m \u001b[0;34m'grade'\u001b[0m\u001b[0;34m]\u001b[0m\u001b[0;34m]\u001b[0m\u001b[0;34m\u001b[0m\u001b[0;34m\u001b[0m\u001b[0m\n\u001b[0m\u001b[1;32m      2\u001b[0m \u001b[0mdf\u001b[0m\u001b[0;34m.\u001b[0m\u001b[0mcolumns\u001b[0m \u001b[0;34m=\u001b[0m \u001b[0;34m[\u001b[0m\u001b[0;34m'grade'\u001b[0m\u001b[0;34m,\u001b[0m \u001b[0;34m'unique'\u001b[0m\u001b[0;34m]\u001b[0m\u001b[0;34m\u001b[0m\u001b[0;34m\u001b[0m\u001b[0m\n",
      "\u001b[0;32m~/opt/anaconda3/lib/python3.8/site-packages/pandas/core/frame.py\u001b[0m in \u001b[0;36m__getitem__\u001b[0;34m(self, key)\u001b[0m\n\u001b[1;32m   2804\u001b[0m             \u001b[0;32mif\u001b[0m \u001b[0mis_iterator\u001b[0m\u001b[0;34m(\u001b[0m\u001b[0mkey\u001b[0m\u001b[0;34m)\u001b[0m\u001b[0;34m:\u001b[0m\u001b[0;34m\u001b[0m\u001b[0;34m\u001b[0m\u001b[0m\n\u001b[1;32m   2805\u001b[0m                 \u001b[0mkey\u001b[0m \u001b[0;34m=\u001b[0m \u001b[0mlist\u001b[0m\u001b[0;34m(\u001b[0m\u001b[0mkey\u001b[0m\u001b[0;34m)\u001b[0m\u001b[0;34m\u001b[0m\u001b[0;34m\u001b[0m\u001b[0m\n\u001b[0;32m-> 2806\u001b[0;31m             \u001b[0mindexer\u001b[0m \u001b[0;34m=\u001b[0m \u001b[0mself\u001b[0m\u001b[0;34m.\u001b[0m\u001b[0mloc\u001b[0m\u001b[0;34m.\u001b[0m\u001b[0m_get_listlike_indexer\u001b[0m\u001b[0;34m(\u001b[0m\u001b[0mkey\u001b[0m\u001b[0;34m,\u001b[0m \u001b[0maxis\u001b[0m\u001b[0;34m=\u001b[0m\u001b[0;36m1\u001b[0m\u001b[0;34m,\u001b[0m \u001b[0mraise_missing\u001b[0m\u001b[0;34m=\u001b[0m\u001b[0;32mTrue\u001b[0m\u001b[0;34m)\u001b[0m\u001b[0;34m[\u001b[0m\u001b[0;36m1\u001b[0m\u001b[0;34m]\u001b[0m\u001b[0;34m\u001b[0m\u001b[0;34m\u001b[0m\u001b[0m\n\u001b[0m\u001b[1;32m   2807\u001b[0m \u001b[0;34m\u001b[0m\u001b[0m\n\u001b[1;32m   2808\u001b[0m         \u001b[0;31m# take() does not accept boolean indexers\u001b[0m\u001b[0;34m\u001b[0m\u001b[0;34m\u001b[0m\u001b[0;34m\u001b[0m\u001b[0m\n",
      "\u001b[0;32m~/opt/anaconda3/lib/python3.8/site-packages/pandas/core/indexing.py\u001b[0m in \u001b[0;36m_get_listlike_indexer\u001b[0;34m(self, key, axis, raise_missing)\u001b[0m\n\u001b[1;32m   1550\u001b[0m             \u001b[0mkeyarr\u001b[0m\u001b[0;34m,\u001b[0m \u001b[0mindexer\u001b[0m\u001b[0;34m,\u001b[0m \u001b[0mnew_indexer\u001b[0m \u001b[0;34m=\u001b[0m \u001b[0max\u001b[0m\u001b[0;34m.\u001b[0m\u001b[0m_reindex_non_unique\u001b[0m\u001b[0;34m(\u001b[0m\u001b[0mkeyarr\u001b[0m\u001b[0;34m)\u001b[0m\u001b[0;34m\u001b[0m\u001b[0;34m\u001b[0m\u001b[0m\n\u001b[1;32m   1551\u001b[0m \u001b[0;34m\u001b[0m\u001b[0m\n\u001b[0;32m-> 1552\u001b[0;31m         self._validate_read_indexer(\n\u001b[0m\u001b[1;32m   1553\u001b[0m             \u001b[0mkeyarr\u001b[0m\u001b[0;34m,\u001b[0m \u001b[0mindexer\u001b[0m\u001b[0;34m,\u001b[0m \u001b[0mo\u001b[0m\u001b[0;34m.\u001b[0m\u001b[0m_get_axis_number\u001b[0m\u001b[0;34m(\u001b[0m\u001b[0maxis\u001b[0m\u001b[0;34m)\u001b[0m\u001b[0;34m,\u001b[0m \u001b[0mraise_missing\u001b[0m\u001b[0;34m=\u001b[0m\u001b[0mraise_missing\u001b[0m\u001b[0;34m\u001b[0m\u001b[0;34m\u001b[0m\u001b[0m\n\u001b[1;32m   1554\u001b[0m         )\n",
      "\u001b[0;32m~/opt/anaconda3/lib/python3.8/site-packages/pandas/core/indexing.py\u001b[0m in \u001b[0;36m_validate_read_indexer\u001b[0;34m(self, key, indexer, axis, raise_missing)\u001b[0m\n\u001b[1;32m   1644\u001b[0m             \u001b[0;32mif\u001b[0m \u001b[0;32mnot\u001b[0m \u001b[0;34m(\u001b[0m\u001b[0mself\u001b[0m\u001b[0;34m.\u001b[0m\u001b[0mname\u001b[0m \u001b[0;34m==\u001b[0m \u001b[0;34m\"loc\"\u001b[0m \u001b[0;32mand\u001b[0m \u001b[0;32mnot\u001b[0m \u001b[0mraise_missing\u001b[0m\u001b[0;34m)\u001b[0m\u001b[0;34m:\u001b[0m\u001b[0;34m\u001b[0m\u001b[0;34m\u001b[0m\u001b[0m\n\u001b[1;32m   1645\u001b[0m                 \u001b[0mnot_found\u001b[0m \u001b[0;34m=\u001b[0m \u001b[0mlist\u001b[0m\u001b[0;34m(\u001b[0m\u001b[0mset\u001b[0m\u001b[0;34m(\u001b[0m\u001b[0mkey\u001b[0m\u001b[0;34m)\u001b[0m \u001b[0;34m-\u001b[0m \u001b[0mset\u001b[0m\u001b[0;34m(\u001b[0m\u001b[0max\u001b[0m\u001b[0;34m)\u001b[0m\u001b[0;34m)\u001b[0m\u001b[0;34m\u001b[0m\u001b[0;34m\u001b[0m\u001b[0m\n\u001b[0;32m-> 1646\u001b[0;31m                 \u001b[0;32mraise\u001b[0m \u001b[0mKeyError\u001b[0m\u001b[0;34m(\u001b[0m\u001b[0;34mf\"{not_found} not in index\"\u001b[0m\u001b[0;34m)\u001b[0m\u001b[0;34m\u001b[0m\u001b[0;34m\u001b[0m\u001b[0m\n\u001b[0m\u001b[1;32m   1647\u001b[0m \u001b[0;34m\u001b[0m\u001b[0m\n\u001b[1;32m   1648\u001b[0m             \u001b[0;31m# we skip the warning on Categorical/Interval\u001b[0m\u001b[0;34m\u001b[0m\u001b[0;34m\u001b[0m\u001b[0;34m\u001b[0m\u001b[0m\n",
      "\u001b[0;31mKeyError\u001b[0m: \"['a'] not in index\""
     ]
    }
   ],
   "source": [
    "df = df[['a', 'grade']]\n",
    "df.columns = ['grade', 'unique']"
   ]
  },
  {
   "cell_type": "code",
   "execution_count": 178,
   "metadata": {},
   "outputs": [
    {
     "data": {
      "text/html": [
       "<div>\n",
       "<style scoped>\n",
       "    .dataframe tbody tr th:only-of-type {\n",
       "        vertical-align: middle;\n",
       "    }\n",
       "\n",
       "    .dataframe tbody tr th {\n",
       "        vertical-align: top;\n",
       "    }\n",
       "\n",
       "    .dataframe thead th {\n",
       "        text-align: right;\n",
       "    }\n",
       "</style>\n",
       "<table border=\"1\" class=\"dataframe\">\n",
       "  <thead>\n",
       "    <tr style=\"text-align: right;\">\n",
       "      <th></th>\n",
       "      <th>grade</th>\n",
       "      <th>unique</th>\n",
       "    </tr>\n",
       "  </thead>\n",
       "  <tbody>\n",
       "    <tr>\n",
       "      <th>0</th>\n",
       "      <td>grade_1</td>\n",
       "      <td>12</td>\n",
       "    </tr>\n",
       "    <tr>\n",
       "      <th>1</th>\n",
       "      <td>grade_2</td>\n",
       "      <td>8</td>\n",
       "    </tr>\n",
       "    <tr>\n",
       "      <th>2</th>\n",
       "      <td>grade_3</td>\n",
       "      <td>30</td>\n",
       "    </tr>\n",
       "    <tr>\n",
       "      <th>3</th>\n",
       "      <td>grade_4</td>\n",
       "      <td>2</td>\n",
       "    </tr>\n",
       "    <tr>\n",
       "      <th>4</th>\n",
       "      <td>grade_5</td>\n",
       "      <td>600</td>\n",
       "    </tr>\n",
       "    <tr>\n",
       "      <th>5</th>\n",
       "      <td>grade_6</td>\n",
       "      <td>90</td>\n",
       "    </tr>\n",
       "  </tbody>\n",
       "</table>\n",
       "</div>"
      ],
      "text/plain": [
       "     grade  unique\n",
       "0  grade_1      12\n",
       "1  grade_2       8\n",
       "2  grade_3      30\n",
       "3  grade_4       2\n",
       "4  grade_5     600\n",
       "5  grade_6      90"
      ]
     },
     "execution_count": 178,
     "metadata": {},
     "output_type": "execute_result"
    }
   ],
   "source": [
    "df"
   ]
  },
  {
   "cell_type": "code",
   "execution_count": 180,
   "metadata": {},
   "outputs": [],
   "source": [
    "ddf = df.nlargest(3, 'unique')\n",
    "ddf = ddf.append({'grade': 'Other', 'unique':df['unique'].sum()-ddf['unique'].sum()}, ignore_index=True)"
   ]
  },
  {
   "cell_type": "code",
   "execution_count": 181,
   "metadata": {},
   "outputs": [
    {
     "name": "stdout",
     "output_type": "stream",
     "text": [
      "     grade  unique\n",
      "0  grade_5     600\n",
      "1  grade_6      90\n",
      "2  grade_3      30\n",
      "3    Other      22\n"
     ]
    }
   ],
   "source": [
    "print(ddf)"
   ]
  },
  {
   "cell_type": "code",
   "execution_count": null,
   "metadata": {},
   "outputs": [],
   "source": []
  },
  {
   "cell_type": "code",
   "execution_count": null,
   "metadata": {},
   "outputs": [],
   "source": []
  },
  {
   "cell_type": "code",
   "execution_count": null,
   "metadata": {},
   "outputs": [],
   "source": []
  },
  {
   "cell_type": "code",
   "execution_count": 239,
   "metadata": {
    "scrolled": true
   },
   "outputs": [],
   "source": [
    "df1 = pd.DataFrame({'Employee Name':['John', 'Kim'], 'EmployeeID':['2, 22', '3']})\n",
    "df2 = pd.DataFrame({'EmployeeID':['2', '3'], 'Hours':['8','10']})"
   ]
  },
  {
   "cell_type": "code",
   "execution_count": null,
   "metadata": {},
   "outputs": [],
   "source": []
  },
  {
   "cell_type": "code",
   "execution_count": null,
   "metadata": {},
   "outputs": [],
   "source": []
  },
  {
   "cell_type": "code",
   "execution_count": null,
   "metadata": {},
   "outputs": [],
   "source": []
  },
  {
   "cell_type": "code",
   "execution_count": null,
   "metadata": {},
   "outputs": [],
   "source": []
  },
  {
   "cell_type": "code",
   "execution_count": 282,
   "metadata": {},
   "outputs": [
    {
     "data": {
      "text/plain": [
       "Index(['id', 'x_coordinate', 'y_coordinate', 'money', 'time (hr)'], dtype='object')"
      ]
     },
     "execution_count": 282,
     "metadata": {},
     "output_type": "execute_result"
    }
   ],
   "source": [
    "df = pd.read_clipboard('\\s\\s+')\n",
    "df.columns"
   ]
  },
  {
   "cell_type": "code",
   "execution_count": 663,
   "metadata": {},
   "outputs": [
    {
     "data": {
      "text/html": [
       "<div>\n",
       "<style scoped>\n",
       "    .dataframe tbody tr th:only-of-type {\n",
       "        vertical-align: middle;\n",
       "    }\n",
       "\n",
       "    .dataframe tbody tr th {\n",
       "        vertical-align: top;\n",
       "    }\n",
       "\n",
       "    .dataframe thead th {\n",
       "        text-align: right;\n",
       "    }\n",
       "</style>\n",
       "<table border=\"1\" class=\"dataframe\">\n",
       "  <thead>\n",
       "    <tr style=\"text-align: right;\">\n",
       "      <th></th>\n",
       "      <th>id</th>\n",
       "      <th>x_coordinate</th>\n",
       "      <th>y_coordinate</th>\n",
       "      <th>money</th>\n",
       "      <th>time (hr)</th>\n",
       "    </tr>\n",
       "  </thead>\n",
       "  <tbody>\n",
       "    <tr>\n",
       "      <th>0</th>\n",
       "      <td>545</td>\n",
       "      <td>0.676576</td>\n",
       "      <td>3.079094</td>\n",
       "      <td>4200</td>\n",
       "      <td>1.414706</td>\n",
       "    </tr>\n",
       "    <tr>\n",
       "      <th>1</th>\n",
       "      <td>4138</td>\n",
       "      <td>0.262979</td>\n",
       "      <td>-0.769170</td>\n",
       "      <td>700</td>\n",
       "      <td>0.943230</td>\n",
       "    </tr>\n",
       "    <tr>\n",
       "      <th>2</th>\n",
       "      <td>5281</td>\n",
       "      <td>-0.301234</td>\n",
       "      <td>-3.568590</td>\n",
       "      <td>200</td>\n",
       "      <td>1.314108</td>\n",
       "    </tr>\n",
       "    <tr>\n",
       "      <th>3</th>\n",
       "      <td>4369</td>\n",
       "      <td>-0.585544</td>\n",
       "      <td>1.610388</td>\n",
       "      <td>11600</td>\n",
       "      <td>0.703957</td>\n",
       "    </tr>\n",
       "    <tr>\n",
       "      <th>4</th>\n",
       "      <td>2173</td>\n",
       "      <td>-1.239105</td>\n",
       "      <td>3.168139</td>\n",
       "      <td>29200</td>\n",
       "      <td>0.666473</td>\n",
       "    </tr>\n",
       "    <tr>\n",
       "      <th>5</th>\n",
       "      <td>9971</td>\n",
       "      <td>-1.556373</td>\n",
       "      <td>-1.624628</td>\n",
       "      <td>18700</td>\n",
       "      <td>0.776165</td>\n",
       "    </tr>\n",
       "    <tr>\n",
       "      <th>6</th>\n",
       "      <td>2622</td>\n",
       "      <td>-1.747544</td>\n",
       "      <td>3.145381</td>\n",
       "      <td>100</td>\n",
       "      <td>0.842138</td>\n",
       "    </tr>\n",
       "    <tr>\n",
       "      <th>7</th>\n",
       "      <td>4522</td>\n",
       "      <td>-1.923251</td>\n",
       "      <td>-2.695298</td>\n",
       "      <td>36700</td>\n",
       "      <td>0.186741</td>\n",
       "    </tr>\n",
       "    <tr>\n",
       "      <th>8</th>\n",
       "      <td>7299</td>\n",
       "      <td>-2.697775</td>\n",
       "      <td>2.038365</td>\n",
       "      <td>500</td>\n",
       "      <td>0.469136</td>\n",
       "    </tr>\n",
       "    <tr>\n",
       "      <th>9</th>\n",
       "      <td>5425</td>\n",
       "      <td>-4.443474</td>\n",
       "      <td>0.428256</td>\n",
       "      <td>1400</td>\n",
       "      <td>0.760269</td>\n",
       "    </tr>\n",
       "  </tbody>\n",
       "</table>\n",
       "</div>"
      ],
      "text/plain": [
       "     id  x_coordinate  y_coordinate  money  time (hr)\n",
       "0   545      0.676576      3.079094   4200   1.414706\n",
       "1  4138      0.262979     -0.769170    700   0.943230\n",
       "2  5281     -0.301234     -3.568590    200   1.314108\n",
       "3  4369     -0.585544      1.610388  11600   0.703957\n",
       "4  2173     -1.239105      3.168139  29200   0.666473\n",
       "5  9971     -1.556373     -1.624628  18700   0.776165\n",
       "6  2622     -1.747544      3.145381    100   0.842138\n",
       "7  4522     -1.923251     -2.695298  36700   0.186741\n",
       "8  7299     -2.697775      2.038365    500   0.469136\n",
       "9  5425     -4.443474      0.428256   1400   0.760269"
      ]
     },
     "execution_count": 663,
     "metadata": {},
     "output_type": "execute_result"
    }
   ],
   "source": [
    "df"
   ]
  },
  {
   "cell_type": "code",
   "execution_count": 724,
   "metadata": {},
   "outputs": [],
   "source": [
    "coords = np.vstack([np.array([(0,0)]),df[['x_coordinate', 'y_coordinate']].to_numpy()]) \n",
    "euc_dist = np.sqrt(np.sum(np.square(coords[:,None,:] - coords[None,:,:]), axis=-1))\n",
    "np.fill_diagonal(euc_dist, 100000)"
   ]
  },
  {
   "cell_type": "code",
   "execution_count": 726,
   "metadata": {},
   "outputs": [
    {
     "data": {
      "text/plain": [
       "array([2, 5, 0, 8, 5, 7, 8, 5, 6, 7, 9])"
      ]
     },
     "execution_count": 726,
     "metadata": {},
     "output_type": "execute_result"
    }
   ],
   "source": [
    "np.argmin(euc_dist, axis=1)"
   ]
  },
  {
   "cell_type": "code",
   "execution_count": 766,
   "metadata": {},
   "outputs": [],
   "source": [
    "order = []"
   ]
  },
  {
   "cell_type": "code",
   "execution_count": 767,
   "metadata": {
    "scrolled": true
   },
   "outputs": [
    {
     "name": "stdout",
     "output_type": "stream",
     "text": [
      "[1, 2, 3, 4, 5, 6, 7, 8, 9, 10]\n",
      "[1, 3, 4, 5, 6, 7, 8, 9, 10]\n",
      "[1, 3, 5, 6, 7, 8, 9, 10]\n",
      "[1, 3, 5, 6, 7, 8, 9, 10]\n",
      "[1, 3, 6, 7, 8, 9, 10]\n",
      "[1, 6, 7, 8, 9, 10]\n",
      "[1, 6, 7, 8, 9, 10]\n",
      "[1, 6, 7, 8, 9, 10]\n",
      "[1, 6, 7, 8, 9, 10]\n",
      "[6, 7, 8, 9, 10]\n",
      "[6, 7, 8, 9, 10]\n"
     ]
    }
   ],
   "source": [
    "for i in range(len(coords)):\n",
    "    idx = [i for i in range(len(coords)) if i not in order]\n",
    "    #print(i,'->', np.argmin(euc_dist[i, idx]))\n",
    "    order.append(np.argmin(euc_dist[i, idx]))\n",
    "    try: idx.remove(0)\n",
    "    except: pass\n",
    "    print(idx)"
   ]
  },
  {
   "cell_type": "code",
   "execution_count": 768,
   "metadata": {},
   "outputs": [
    {
     "data": {
      "text/plain": [
       "[2, 4, 0, 5, 3, 2, 3, 4, 1, 1, 3]"
      ]
     },
     "execution_count": 768,
     "metadata": {},
     "output_type": "execute_result"
    }
   ],
   "source": [
    "order"
   ]
  },
  {
   "cell_type": "code",
   "execution_count": null,
   "metadata": {},
   "outputs": [],
   "source": []
  },
  {
   "cell_type": "code",
   "execution_count": 674,
   "metadata": {},
   "outputs": [
    {
     "data": {
      "text/plain": [
       "array([[1.00000000e+05, 3.15255055e+00, 8.12884028e-01, 3.58128141e+00,\n",
       "        1.71353765e+00, 3.40183567e+00, 2.24982512e+00, 3.59824008e+00,\n",
       "        3.31112152e+00, 3.38126039e+00, 4.46406366e+00],\n",
       "       [3.15255055e+00, 1.00000000e+05, 3.87042611e+00, 6.71921238e+00,\n",
       "        1.93650309e+00, 1.91774939e+00, 5.20682839e+00, 2.42502613e+00,\n",
       "        6.33266953e+00, 3.53119831e+00, 5.76557492e+00],\n",
       "       [8.12884028e-01, 3.87042611e+00, 1.00000000e+05, 2.85571158e+00,\n",
       "        2.52631897e+00, 4.21410234e+00, 2.01043530e+00, 4.40067180e+00,\n",
       "        2.91368679e+00, 4.08023492e+00, 4.85639052e+00],\n",
       "       [3.58128141e+00, 6.71921238e+00, 2.85571158e+00, 1.00000000e+05,\n",
       "        5.18677600e+00, 6.80169976e+00, 2.31394947e+00, 6.86798509e+00,\n",
       "        1.84216668e+00, 6.09765144e+00, 5.75612110e+00],\n",
       "       [1.71353765e+00, 1.93650309e+00, 2.52631897e+00, 5.18677600e+00,\n",
       "        1.00000000e+05, 1.68929872e+00, 3.37754903e+00, 1.92521363e+00,\n",
       "        4.50870180e+00, 2.15515292e+00, 4.03497955e+00],\n",
       "       [3.40183567e+00, 1.91774939e+00, 4.21410234e+00, 6.80169976e+00,\n",
       "        1.68929872e+00, 1.00000000e+05, 4.80325666e+00, 5.08948075e-01,\n",
       "        5.90321516e+00, 1.84502235e+00, 4.21603363e+00],\n",
       "       [2.24982512e+00, 5.20682839e+00, 2.01043530e+00, 2.31394947e+00,\n",
       "        3.37754903e+00, 4.80325666e+00, 1.00000000e+05, 4.77383831e+00,\n",
       "        1.13178342e+00, 3.83670643e+00, 3.54255344e+00],\n",
       "       [3.59824008e+00, 2.42502613e+00, 4.40067180e+00, 6.86798509e+00,\n",
       "        1.92521363e+00, 5.08948075e-01, 4.77383831e+00, 1.00000000e+05,\n",
       "        5.84332133e+00, 1.45891171e+00, 3.82763724e+00],\n",
       "       [3.31112152e+00, 6.33266953e+00, 2.91368679e+00, 1.84216668e+00,\n",
       "        4.50870180e+00, 5.90321516e+00, 1.13178342e+00, 5.84332133e+00,\n",
       "        1.00000000e+05, 4.79660847e+00, 4.01349144e+00],\n",
       "       [3.38126039e+00, 3.53119831e+00, 4.08023492e+00, 6.09765144e+00,\n",
       "        2.15515292e+00, 1.84502235e+00, 3.83670643e+00, 1.45891171e+00,\n",
       "        4.79660847e+00, 1.00000000e+05, 2.37485073e+00],\n",
       "       [4.46406366e+00, 5.76557492e+00, 4.85639052e+00, 5.75612110e+00,\n",
       "        4.03497955e+00, 4.21603363e+00, 3.54255344e+00, 3.82763724e+00,\n",
       "        4.01349144e+00, 2.37485073e+00, 1.00000000e+05]])"
      ]
     },
     "execution_count": 674,
     "metadata": {},
     "output_type": "execute_result"
    }
   ],
   "source": [
    "euc_dist"
   ]
  },
  {
   "cell_type": "code",
   "execution_count": null,
   "metadata": {},
   "outputs": [],
   "source": []
  },
  {
   "cell_type": "code",
   "execution_count": null,
   "metadata": {},
   "outputs": [],
   "source": []
  },
  {
   "cell_type": "code",
   "execution_count": 673,
   "metadata": {},
   "outputs": [
    {
     "data": {
      "text/plain": [
       "array([[1.00000000e+05, 3.15255055e+00, 8.12884028e-01, 3.58128141e+00,\n",
       "        1.71353765e+00, 3.40183567e+00, 2.24982512e+00, 3.59824008e+00,\n",
       "        3.31112152e+00, 3.38126039e+00, 4.46406366e+00],\n",
       "       [3.15255055e+00, 1.00000000e+05, 3.87042611e+00, 6.71921238e+00,\n",
       "        1.93650309e+00, 1.91774939e+00, 5.20682839e+00, 2.42502613e+00,\n",
       "        6.33266953e+00, 3.53119831e+00, 5.76557492e+00],\n",
       "       [8.12884028e-01, 3.87042611e+00, 1.00000000e+05, 2.85571158e+00,\n",
       "        2.52631897e+00, 4.21410234e+00, 2.01043530e+00, 4.40067180e+00,\n",
       "        2.91368679e+00, 4.08023492e+00, 4.85639052e+00],\n",
       "       [3.58128141e+00, 6.71921238e+00, 2.85571158e+00, 1.00000000e+05,\n",
       "        5.18677600e+00, 6.80169976e+00, 2.31394947e+00, 6.86798509e+00,\n",
       "        1.84216668e+00, 6.09765144e+00, 5.75612110e+00],\n",
       "       [1.71353765e+00, 1.93650309e+00, 2.52631897e+00, 5.18677600e+00,\n",
       "        1.00000000e+05, 1.68929872e+00, 3.37754903e+00, 1.92521363e+00,\n",
       "        4.50870180e+00, 2.15515292e+00, 4.03497955e+00],\n",
       "       [3.40183567e+00, 1.91774939e+00, 4.21410234e+00, 6.80169976e+00,\n",
       "        1.68929872e+00, 1.00000000e+05, 4.80325666e+00, 5.08948075e-01,\n",
       "        5.90321516e+00, 1.84502235e+00, 4.21603363e+00],\n",
       "       [2.24982512e+00, 5.20682839e+00, 2.01043530e+00, 2.31394947e+00,\n",
       "        3.37754903e+00, 4.80325666e+00, 1.00000000e+05, 4.77383831e+00,\n",
       "        1.13178342e+00, 3.83670643e+00, 3.54255344e+00],\n",
       "       [3.59824008e+00, 2.42502613e+00, 4.40067180e+00, 6.86798509e+00,\n",
       "        1.92521363e+00, 5.08948075e-01, 4.77383831e+00, 1.00000000e+05,\n",
       "        5.84332133e+00, 1.45891171e+00, 3.82763724e+00],\n",
       "       [3.31112152e+00, 6.33266953e+00, 2.91368679e+00, 1.84216668e+00,\n",
       "        4.50870180e+00, 5.90321516e+00, 1.13178342e+00, 5.84332133e+00,\n",
       "        1.00000000e+05, 4.79660847e+00, 4.01349144e+00],\n",
       "       [3.38126039e+00, 3.53119831e+00, 4.08023492e+00, 6.09765144e+00,\n",
       "        2.15515292e+00, 1.84502235e+00, 3.83670643e+00, 1.45891171e+00,\n",
       "        4.79660847e+00, 1.00000000e+05, 2.37485073e+00],\n",
       "       [4.46406366e+00, 5.76557492e+00, 4.85639052e+00, 5.75612110e+00,\n",
       "        4.03497955e+00, 4.21603363e+00, 3.54255344e+00, 3.82763724e+00,\n",
       "        4.01349144e+00, 2.37485073e+00, 1.00000000e+05]])"
      ]
     },
     "execution_count": 673,
     "metadata": {},
     "output_type": "execute_result"
    }
   ],
   "source": [
    "euc_dist"
   ]
  },
  {
   "cell_type": "code",
   "execution_count": null,
   "metadata": {},
   "outputs": [],
   "source": []
  },
  {
   "cell_type": "code",
   "execution_count": null,
   "metadata": {},
   "outputs": [],
   "source": []
  },
  {
   "cell_type": "code",
   "execution_count": 340,
   "metadata": {},
   "outputs": [],
   "source": [
    "def euclidean_dist(a):\n",
    "    x = a.to_numpy()\n",
    "    y = ddf[ddf['x_coordinate']==ddf['x_coordinate'].min()][['x_coordinate', 'y_coordinate']]\n",
    "    return np.sqrt(np.sum(np.square(x-y), axis=1))"
   ]
  },
  {
   "cell_type": "code",
   "execution_count": 427,
   "metadata": {},
   "outputs": [],
   "source": [
    "a = np.array([[0,0],[1,0],[2,0]])"
   ]
  },
  {
   "cell_type": "code",
   "execution_count": 440,
   "metadata": {},
   "outputs": [
    {
     "data": {
      "text/plain": [
       "array([[0, 0],\n",
       "       [1, 0],\n",
       "       [2, 0]])"
      ]
     },
     "execution_count": 440,
     "metadata": {},
     "output_type": "execute_result"
    }
   ],
   "source": [
    "a"
   ]
  },
  {
   "cell_type": "code",
   "execution_count": 439,
   "metadata": {},
   "outputs": [
    {
     "data": {
      "text/plain": [
       "array([[[[ 0,  0],\n",
       "         [-1,  0],\n",
       "         [-2,  0]],\n",
       "\n",
       "        [[ 0,  0],\n",
       "         [-1,  0],\n",
       "         [-2,  0]]],\n",
       "\n",
       "\n",
       "       [[[ 1,  1],\n",
       "         [ 0,  1],\n",
       "         [-1,  1]],\n",
       "\n",
       "        [[ 0,  0],\n",
       "         [-1,  0],\n",
       "         [-2,  0]]],\n",
       "\n",
       "\n",
       "       [[[ 2,  2],\n",
       "         [ 1,  2],\n",
       "         [ 0,  2]],\n",
       "\n",
       "        [[ 0,  0],\n",
       "         [-1,  0],\n",
       "         [-2,  0]]]])"
      ]
     },
     "execution_count": 439,
     "metadata": {},
     "output_type": "execute_result"
    }
   ],
   "source": [
    "np.subtract.outer(a, a)"
   ]
  },
  {
   "cell_type": "code",
   "execution_count": 438,
   "metadata": {},
   "outputs": [
    {
     "data": {
      "text/plain": [
       "array([[0.        , 1.41421356, 2.82842712],\n",
       "       [1.41421356, 1.41421356, 2.44948974],\n",
       "       [2.82842712, 2.44948974, 2.82842712]])"
      ]
     },
     "execution_count": 438,
     "metadata": {},
     "output_type": "execute_result"
    }
   ],
   "source": [
    "np.linalg.norm(np.subtract.outer(a, a), axis=(1,3))"
   ]
  },
  {
   "cell_type": "code",
   "execution_count": 426,
   "metadata": {},
   "outputs": [
    {
     "data": {
      "text/plain": [
       "array([[ 0.676576,  3.079094],\n",
       "       [ 0.262979, -0.76917 ],\n",
       "       [-0.301234, -3.56859 ],\n",
       "       [-0.585544,  1.610388],\n",
       "       [-1.239105,  3.168139],\n",
       "       [-1.556373, -1.624628],\n",
       "       [-1.747544,  3.145381],\n",
       "       [-1.923251, -2.695298],\n",
       "       [-2.697775,  2.038365],\n",
       "       [-4.443474,  0.428256],\n",
       "       [ 0.      ,  0.      ]])"
      ]
     },
     "execution_count": 426,
     "metadata": {},
     "output_type": "execute_result"
    }
   ],
   "source": [
    "coordinates"
   ]
  },
  {
   "cell_type": "code",
   "execution_count": null,
   "metadata": {},
   "outputs": [],
   "source": []
  },
  {
   "cell_type": "code",
   "execution_count": null,
   "metadata": {},
   "outputs": [],
   "source": []
  },
  {
   "cell_type": "code",
   "execution_count": null,
   "metadata": {},
   "outputs": [],
   "source": []
  },
  {
   "cell_type": "code",
   "execution_count": 391,
   "metadata": {},
   "outputs": [
    {
     "data": {
      "text/plain": [
       "array([[[[ 0, -1, -2],\n",
       "         [ 0, -1, -2]],\n",
       "\n",
       "        [[ 0, -1, -2],\n",
       "         [ 0, -1, -2]]],\n",
       "\n",
       "\n",
       "       [[[ 1,  0, -1],\n",
       "         [ 1,  0, -1]],\n",
       "\n",
       "        [[ 1,  0, -1],\n",
       "         [ 1,  0, -1]]],\n",
       "\n",
       "\n",
       "       [[[ 2,  1,  0],\n",
       "         [ 2,  1,  0]],\n",
       "\n",
       "        [[ 2,  1,  0],\n",
       "         [ 2,  1,  0]]]])"
      ]
     },
     "execution_count": 391,
     "metadata": {},
     "output_type": "execute_result"
    }
   ],
   "source": [
    "np.subtract.outer(a, a.T)"
   ]
  },
  {
   "cell_type": "code",
   "execution_count": null,
   "metadata": {},
   "outputs": [],
   "source": []
  },
  {
   "cell_type": "code",
   "execution_count": 374,
   "metadata": {},
   "outputs": [
    {
     "data": {
      "text/plain": [
       "array([[[[ 0.000000e+00, -2.402518e+00],\n",
       "         [ 4.135970e-01,  1.445746e+00],\n",
       "         [ 9.778100e-01,  4.245166e+00],\n",
       "         [ 1.262120e+00, -9.338120e-01],\n",
       "         [ 1.915681e+00, -2.491563e+00],\n",
       "         [ 2.232949e+00,  2.301204e+00],\n",
       "         [ 2.424120e+00, -2.468805e+00],\n",
       "         [ 2.599827e+00,  3.371874e+00],\n",
       "         [ 3.374351e+00, -1.361789e+00],\n",
       "         [ 5.120050e+00,  2.483200e-01],\n",
       "         [ 6.765760e-01,  6.765760e-01]],\n",
       "\n",
       "        [[ 2.402518e+00,  0.000000e+00],\n",
       "         [ 2.816115e+00,  3.848264e+00],\n",
       "         [ 3.380328e+00,  6.647684e+00],\n",
       "         [ 3.664638e+00,  1.468706e+00],\n",
       "         [ 4.318199e+00, -8.904500e-02],\n",
       "         [ 4.635467e+00,  4.703722e+00],\n",
       "         [ 4.826638e+00, -6.628700e-02],\n",
       "         [ 5.002345e+00,  5.774392e+00],\n",
       "         [ 5.776869e+00,  1.040729e+00],\n",
       "         [ 7.522568e+00,  2.650838e+00],\n",
       "         [ 3.079094e+00,  3.079094e+00]]],\n",
       "\n",
       "\n",
       "       [[[-4.135970e-01, -2.816115e+00],\n",
       "         [ 0.000000e+00,  1.032149e+00],\n",
       "         [ 5.642130e-01,  3.831569e+00],\n",
       "         [ 8.485230e-01, -1.347409e+00],\n",
       "         [ 1.502084e+00, -2.905160e+00],\n",
       "         [ 1.819352e+00,  1.887607e+00],\n",
       "         [ 2.010523e+00, -2.882402e+00],\n",
       "         [ 2.186230e+00,  2.958277e+00],\n",
       "         [ 2.960754e+00, -1.775386e+00],\n",
       "         [ 4.706453e+00, -1.652770e-01],\n",
       "         [ 2.629790e-01,  2.629790e-01]],\n",
       "\n",
       "        [[-1.445746e+00, -3.848264e+00],\n",
       "         [-1.032149e+00,  0.000000e+00],\n",
       "         [-4.679360e-01,  2.799420e+00],\n",
       "         [-1.836260e-01, -2.379558e+00],\n",
       "         [ 4.699350e-01, -3.937309e+00],\n",
       "         [ 7.872030e-01,  8.554580e-01],\n",
       "         [ 9.783740e-01, -3.914551e+00],\n",
       "         [ 1.154081e+00,  1.926128e+00],\n",
       "         [ 1.928605e+00, -2.807535e+00],\n",
       "         [ 3.674304e+00, -1.197426e+00],\n",
       "         [-7.691700e-01, -7.691700e-01]]],\n",
       "\n",
       "\n",
       "       [[[-9.778100e-01, -3.380328e+00],\n",
       "         [-5.642130e-01,  4.679360e-01],\n",
       "         [ 0.000000e+00,  3.267356e+00],\n",
       "         [ 2.843100e-01, -1.911622e+00],\n",
       "         [ 9.378710e-01, -3.469373e+00],\n",
       "         [ 1.255139e+00,  1.323394e+00],\n",
       "         [ 1.446310e+00, -3.446615e+00],\n",
       "         [ 1.622017e+00,  2.394064e+00],\n",
       "         [ 2.396541e+00, -2.339599e+00],\n",
       "         [ 4.142240e+00, -7.294900e-01],\n",
       "         [-3.012340e-01, -3.012340e-01]],\n",
       "\n",
       "        [[-4.245166e+00, -6.647684e+00],\n",
       "         [-3.831569e+00, -2.799420e+00],\n",
       "         [-3.267356e+00,  0.000000e+00],\n",
       "         [-2.983046e+00, -5.178978e+00],\n",
       "         [-2.329485e+00, -6.736729e+00],\n",
       "         [-2.012217e+00, -1.943962e+00],\n",
       "         [-1.821046e+00, -6.713971e+00],\n",
       "         [-1.645339e+00, -8.732920e-01],\n",
       "         [-8.708150e-01, -5.606955e+00],\n",
       "         [ 8.748840e-01, -3.996846e+00],\n",
       "         [-3.568590e+00, -3.568590e+00]]],\n",
       "\n",
       "\n",
       "       [[[-1.262120e+00, -3.664638e+00],\n",
       "         [-8.485230e-01,  1.836260e-01],\n",
       "         [-2.843100e-01,  2.983046e+00],\n",
       "         [ 0.000000e+00, -2.195932e+00],\n",
       "         [ 6.535610e-01, -3.753683e+00],\n",
       "         [ 9.708290e-01,  1.039084e+00],\n",
       "         [ 1.162000e+00, -3.730925e+00],\n",
       "         [ 1.337707e+00,  2.109754e+00],\n",
       "         [ 2.112231e+00, -2.623909e+00],\n",
       "         [ 3.857930e+00, -1.013800e+00],\n",
       "         [-5.855440e-01, -5.855440e-01]],\n",
       "\n",
       "        [[ 9.338120e-01, -1.468706e+00],\n",
       "         [ 1.347409e+00,  2.379558e+00],\n",
       "         [ 1.911622e+00,  5.178978e+00],\n",
       "         [ 2.195932e+00,  0.000000e+00],\n",
       "         [ 2.849493e+00, -1.557751e+00],\n",
       "         [ 3.166761e+00,  3.235016e+00],\n",
       "         [ 3.357932e+00, -1.534993e+00],\n",
       "         [ 3.533639e+00,  4.305686e+00],\n",
       "         [ 4.308163e+00, -4.279770e-01],\n",
       "         [ 6.053862e+00,  1.182132e+00],\n",
       "         [ 1.610388e+00,  1.610388e+00]]],\n",
       "\n",
       "\n",
       "       [[[-1.915681e+00, -4.318199e+00],\n",
       "         [-1.502084e+00, -4.699350e-01],\n",
       "         [-9.378710e-01,  2.329485e+00],\n",
       "         [-6.535610e-01, -2.849493e+00],\n",
       "         [ 0.000000e+00, -4.407244e+00],\n",
       "         [ 3.172680e-01,  3.855230e-01],\n",
       "         [ 5.084390e-01, -4.384486e+00],\n",
       "         [ 6.841460e-01,  1.456193e+00],\n",
       "         [ 1.458670e+00, -3.277470e+00],\n",
       "         [ 3.204369e+00, -1.667361e+00],\n",
       "         [-1.239105e+00, -1.239105e+00]],\n",
       "\n",
       "        [[ 2.491563e+00,  8.904500e-02],\n",
       "         [ 2.905160e+00,  3.937309e+00],\n",
       "         [ 3.469373e+00,  6.736729e+00],\n",
       "         [ 3.753683e+00,  1.557751e+00],\n",
       "         [ 4.407244e+00,  0.000000e+00],\n",
       "         [ 4.724512e+00,  4.792767e+00],\n",
       "         [ 4.915683e+00,  2.275800e-02],\n",
       "         [ 5.091390e+00,  5.863437e+00],\n",
       "         [ 5.865914e+00,  1.129774e+00],\n",
       "         [ 7.611613e+00,  2.739883e+00],\n",
       "         [ 3.168139e+00,  3.168139e+00]]],\n",
       "\n",
       "\n",
       "       [[[-2.232949e+00, -4.635467e+00],\n",
       "         [-1.819352e+00, -7.872030e-01],\n",
       "         [-1.255139e+00,  2.012217e+00],\n",
       "         [-9.708290e-01, -3.166761e+00],\n",
       "         [-3.172680e-01, -4.724512e+00],\n",
       "         [ 0.000000e+00,  6.825500e-02],\n",
       "         [ 1.911710e-01, -4.701754e+00],\n",
       "         [ 3.668780e-01,  1.138925e+00],\n",
       "         [ 1.141402e+00, -3.594738e+00],\n",
       "         [ 2.887101e+00, -1.984629e+00],\n",
       "         [-1.556373e+00, -1.556373e+00]],\n",
       "\n",
       "        [[-2.301204e+00, -4.703722e+00],\n",
       "         [-1.887607e+00, -8.554580e-01],\n",
       "         [-1.323394e+00,  1.943962e+00],\n",
       "         [-1.039084e+00, -3.235016e+00],\n",
       "         [-3.855230e-01, -4.792767e+00],\n",
       "         [-6.825500e-02,  0.000000e+00],\n",
       "         [ 1.229160e-01, -4.770009e+00],\n",
       "         [ 2.986230e-01,  1.070670e+00],\n",
       "         [ 1.073147e+00, -3.662993e+00],\n",
       "         [ 2.818846e+00, -2.052884e+00],\n",
       "         [-1.624628e+00, -1.624628e+00]]],\n",
       "\n",
       "\n",
       "       [[[-2.424120e+00, -4.826638e+00],\n",
       "         [-2.010523e+00, -9.783740e-01],\n",
       "         [-1.446310e+00,  1.821046e+00],\n",
       "         [-1.162000e+00, -3.357932e+00],\n",
       "         [-5.084390e-01, -4.915683e+00],\n",
       "         [-1.911710e-01, -1.229160e-01],\n",
       "         [ 0.000000e+00, -4.892925e+00],\n",
       "         [ 1.757070e-01,  9.477540e-01],\n",
       "         [ 9.502310e-01, -3.785909e+00],\n",
       "         [ 2.695930e+00, -2.175800e+00],\n",
       "         [-1.747544e+00, -1.747544e+00]],\n",
       "\n",
       "        [[ 2.468805e+00,  6.628700e-02],\n",
       "         [ 2.882402e+00,  3.914551e+00],\n",
       "         [ 3.446615e+00,  6.713971e+00],\n",
       "         [ 3.730925e+00,  1.534993e+00],\n",
       "         [ 4.384486e+00, -2.275800e-02],\n",
       "         [ 4.701754e+00,  4.770009e+00],\n",
       "         [ 4.892925e+00,  0.000000e+00],\n",
       "         [ 5.068632e+00,  5.840679e+00],\n",
       "         [ 5.843156e+00,  1.107016e+00],\n",
       "         [ 7.588855e+00,  2.717125e+00],\n",
       "         [ 3.145381e+00,  3.145381e+00]]],\n",
       "\n",
       "\n",
       "       [[[-2.599827e+00, -5.002345e+00],\n",
       "         [-2.186230e+00, -1.154081e+00],\n",
       "         [-1.622017e+00,  1.645339e+00],\n",
       "         [-1.337707e+00, -3.533639e+00],\n",
       "         [-6.841460e-01, -5.091390e+00],\n",
       "         [-3.668780e-01, -2.986230e-01],\n",
       "         [-1.757070e-01, -5.068632e+00],\n",
       "         [ 0.000000e+00,  7.720470e-01],\n",
       "         [ 7.745240e-01, -3.961616e+00],\n",
       "         [ 2.520223e+00, -2.351507e+00],\n",
       "         [-1.923251e+00, -1.923251e+00]],\n",
       "\n",
       "        [[-3.371874e+00, -5.774392e+00],\n",
       "         [-2.958277e+00, -1.926128e+00],\n",
       "         [-2.394064e+00,  8.732920e-01],\n",
       "         [-2.109754e+00, -4.305686e+00],\n",
       "         [-1.456193e+00, -5.863437e+00],\n",
       "         [-1.138925e+00, -1.070670e+00],\n",
       "         [-9.477540e-01, -5.840679e+00],\n",
       "         [-7.720470e-01,  0.000000e+00],\n",
       "         [ 2.477000e-03, -4.733663e+00],\n",
       "         [ 1.748176e+00, -3.123554e+00],\n",
       "         [-2.695298e+00, -2.695298e+00]]],\n",
       "\n",
       "\n",
       "       [[[-3.374351e+00, -5.776869e+00],\n",
       "         [-2.960754e+00, -1.928605e+00],\n",
       "         [-2.396541e+00,  8.708150e-01],\n",
       "         [-2.112231e+00, -4.308163e+00],\n",
       "         [-1.458670e+00, -5.865914e+00],\n",
       "         [-1.141402e+00, -1.073147e+00],\n",
       "         [-9.502310e-01, -5.843156e+00],\n",
       "         [-7.745240e-01, -2.477000e-03],\n",
       "         [ 0.000000e+00, -4.736140e+00],\n",
       "         [ 1.745699e+00, -3.126031e+00],\n",
       "         [-2.697775e+00, -2.697775e+00]],\n",
       "\n",
       "        [[ 1.361789e+00, -1.040729e+00],\n",
       "         [ 1.775386e+00,  2.807535e+00],\n",
       "         [ 2.339599e+00,  5.606955e+00],\n",
       "         [ 2.623909e+00,  4.279770e-01],\n",
       "         [ 3.277470e+00, -1.129774e+00],\n",
       "         [ 3.594738e+00,  3.662993e+00],\n",
       "         [ 3.785909e+00, -1.107016e+00],\n",
       "         [ 3.961616e+00,  4.733663e+00],\n",
       "         [ 4.736140e+00,  0.000000e+00],\n",
       "         [ 6.481839e+00,  1.610109e+00],\n",
       "         [ 2.038365e+00,  2.038365e+00]]],\n",
       "\n",
       "\n",
       "       [[[-5.120050e+00, -7.522568e+00],\n",
       "         [-4.706453e+00, -3.674304e+00],\n",
       "         [-4.142240e+00, -8.748840e-01],\n",
       "         [-3.857930e+00, -6.053862e+00],\n",
       "         [-3.204369e+00, -7.611613e+00],\n",
       "         [-2.887101e+00, -2.818846e+00],\n",
       "         [-2.695930e+00, -7.588855e+00],\n",
       "         [-2.520223e+00, -1.748176e+00],\n",
       "         [-1.745699e+00, -6.481839e+00],\n",
       "         [ 0.000000e+00, -4.871730e+00],\n",
       "         [-4.443474e+00, -4.443474e+00]],\n",
       "\n",
       "        [[-2.483200e-01, -2.650838e+00],\n",
       "         [ 1.652770e-01,  1.197426e+00],\n",
       "         [ 7.294900e-01,  3.996846e+00],\n",
       "         [ 1.013800e+00, -1.182132e+00],\n",
       "         [ 1.667361e+00, -2.739883e+00],\n",
       "         [ 1.984629e+00,  2.052884e+00],\n",
       "         [ 2.175800e+00, -2.717125e+00],\n",
       "         [ 2.351507e+00,  3.123554e+00],\n",
       "         [ 3.126031e+00, -1.610109e+00],\n",
       "         [ 4.871730e+00,  0.000000e+00],\n",
       "         [ 4.282560e-01,  4.282560e-01]]],\n",
       "\n",
       "\n",
       "       [[[-6.765760e-01, -3.079094e+00],\n",
       "         [-2.629790e-01,  7.691700e-01],\n",
       "         [ 3.012340e-01,  3.568590e+00],\n",
       "         [ 5.855440e-01, -1.610388e+00],\n",
       "         [ 1.239105e+00, -3.168139e+00],\n",
       "         [ 1.556373e+00,  1.624628e+00],\n",
       "         [ 1.747544e+00, -3.145381e+00],\n",
       "         [ 1.923251e+00,  2.695298e+00],\n",
       "         [ 2.697775e+00, -2.038365e+00],\n",
       "         [ 4.443474e+00, -4.282560e-01],\n",
       "         [ 0.000000e+00,  0.000000e+00]],\n",
       "\n",
       "        [[-6.765760e-01, -3.079094e+00],\n",
       "         [-2.629790e-01,  7.691700e-01],\n",
       "         [ 3.012340e-01,  3.568590e+00],\n",
       "         [ 5.855440e-01, -1.610388e+00],\n",
       "         [ 1.239105e+00, -3.168139e+00],\n",
       "         [ 1.556373e+00,  1.624628e+00],\n",
       "         [ 1.747544e+00, -3.145381e+00],\n",
       "         [ 1.923251e+00,  2.695298e+00],\n",
       "         [ 2.697775e+00, -2.038365e+00],\n",
       "         [ 4.443474e+00, -4.282560e-01],\n",
       "         [ 0.000000e+00,  0.000000e+00]]]])"
      ]
     },
     "execution_count": 374,
     "metadata": {},
     "output_type": "execute_result"
    }
   ],
   "source": [
    "np.subtract.outer(coordinates, coordinates, )"
   ]
  },
  {
   "cell_type": "code",
   "execution_count": null,
   "metadata": {},
   "outputs": [],
   "source": []
  },
  {
   "cell_type": "code",
   "execution_count": null,
   "metadata": {},
   "outputs": [],
   "source": []
  },
  {
   "cell_type": "code",
   "execution_count": 352,
   "metadata": {},
   "outputs": [],
   "source": [
    "coordinates = [i for i in zip(df['x_coordinate'], df['y_coordinate'])]\n",
    "coordinates.append((0,0))\n",
    "coordinates = np.array(coordinates)"
   ]
  },
  {
   "cell_type": "code",
   "execution_count": 373,
   "metadata": {},
   "outputs": [
    {
     "data": {
      "text/plain": [
       "array([[3.39767354, 5.00008835, 8.63688988, 4.24871989, 5.34158137,\n",
       "        7.34126393, 5.939039  , 8.74618163, 6.90623242, 9.48116798,\n",
       "        4.45837974],\n",
       "       [5.00008835, 1.45967911, 4.80155951, 2.86906206, 5.13998561,\n",
       "        2.86785614, 5.35082884, 4.30962602, 4.84972471, 6.09199107,\n",
       "        1.14959162],\n",
       "       [8.63688988, 4.80155951, 4.62073917, 6.28136191, 7.98286722,\n",
       "        3.33987292, 7.89712496, 3.43980536, 6.58888423, 5.86775151,\n",
       "        5.06469674],\n",
       "       [4.24871989, 2.86906206, 6.28136191, 3.10551682, 5.00634363,\n",
       "        4.74509307, 5.37605396, 6.10459323, 5.48542168, 7.34561744,\n",
       "        2.42330819],\n",
       "       [5.34158137, 5.13998561, 7.98286722, 5.00634363, 6.23278424,\n",
       "        6.748401  , 6.60656378, 7.93036565, 6.96813204, 8.8595533 ,\n",
       "        4.81092214],\n",
       "       [7.34126393, 2.86785614, 3.33987292, 4.74509307, 6.748401  ,\n",
       "        0.09652715, 6.70157677, 1.63317469, 5.36601361, 4.94310934,\n",
       "        3.18173319],\n",
       "       [5.939039  , 5.35082884, 7.89712496, 5.37605396, 6.60656378,\n",
       "        6.70157677, 6.91964089, 7.79318113, 7.11364902, 8.77357582,\n",
       "        5.08867992],\n",
       "       [8.74618163, 4.30962602, 3.43980536, 6.10459323, 7.93036565,\n",
       "        1.63317469, 7.79318113, 1.09183934, 6.22108192, 4.96928748,\n",
       "        4.68263296],\n",
       "       [6.90623242, 4.84972471, 6.58888423, 5.48542168, 6.96813204,\n",
       "        5.36601361, 7.11364902, 6.22108192, 6.69791342, 7.57800915,\n",
       "        4.7818243 ],\n",
       "       [9.48116798, 6.09199107, 5.86775151, 7.34561744, 8.8595533 ,\n",
       "        4.94310934, 8.77357582, 4.96928748, 7.57800915, 6.88966664,\n",
       "        6.31313938],\n",
       "       [4.45837974, 1.14959162, 5.06469674, 2.42330819, 4.81092214,\n",
       "        3.18173319, 5.08867992, 4.68263296, 4.7818243 , 6.31313938,\n",
       "        0.        ]])"
      ]
     },
     "execution_count": 373,
     "metadata": {},
     "output_type": "execute_result"
    }
   ],
   "source": [
    "np.sqrt(np.sum(np.square(np.subtract.outer(coordinates, coordinates)), axis=(1,3)))"
   ]
  },
  {
   "cell_type": "code",
   "execution_count": 318,
   "metadata": {},
   "outputs": [
    {
     "ename": "TypeError",
     "evalue": "unsupported operand type(s) for -: 'str' and 'float'",
     "output_type": "error",
     "traceback": [
      "\u001b[0;31m---------------------------------------------------------------------------\u001b[0m",
      "\u001b[0;31mTypeError\u001b[0m                                 Traceback (most recent call last)",
      "\u001b[0;32m<ipython-input-318-d953aa1fe416>\u001b[0m in \u001b[0;36m<module>\u001b[0;34m\u001b[0m\n\u001b[1;32m      1\u001b[0m \u001b[0mddf\u001b[0m \u001b[0;34m=\u001b[0m \u001b[0mdf\u001b[0m\u001b[0;34m.\u001b[0m\u001b[0msort_values\u001b[0m\u001b[0;34m(\u001b[0m\u001b[0;34m'x_coordinate'\u001b[0m\u001b[0;34m)\u001b[0m  \u001b[0;31m#First sort by x coordinate\u001b[0m\u001b[0;34m\u001b[0m\u001b[0;34m\u001b[0m\u001b[0m\n\u001b[0;32m----> 2\u001b[0;31m \u001b[0mddf\u001b[0m\u001b[0;34m[\u001b[0m\u001b[0;34m'euc_dict'\u001b[0m\u001b[0;34m]\u001b[0m \u001b[0;34m=\u001b[0m \u001b[0;34m[\u001b[0m\u001b[0meuclidean_dist\u001b[0m\u001b[0;34m(\u001b[0m\u001b[0mi\u001b[0m\u001b[0;34m)\u001b[0m \u001b[0;32mfor\u001b[0m \u001b[0mi\u001b[0m \u001b[0;32min\u001b[0m \u001b[0mdf\u001b[0m\u001b[0;34m[\u001b[0m\u001b[0;34m[\u001b[0m\u001b[0;34m'x_coordinate'\u001b[0m\u001b[0;34m,\u001b[0m \u001b[0;34m'y_coordinate'\u001b[0m\u001b[0;34m]\u001b[0m\u001b[0;34m]\u001b[0m\u001b[0;34m.\u001b[0m\u001b[0mitems\u001b[0m\u001b[0;34m(\u001b[0m\u001b[0;34m)\u001b[0m\u001b[0;34m]\u001b[0m\u001b[0;34m\u001b[0m\u001b[0;34m\u001b[0m\u001b[0m\n\u001b[0m",
      "\u001b[0;32m<ipython-input-318-d953aa1fe416>\u001b[0m in \u001b[0;36m<listcomp>\u001b[0;34m(.0)\u001b[0m\n\u001b[1;32m      1\u001b[0m \u001b[0mddf\u001b[0m \u001b[0;34m=\u001b[0m \u001b[0mdf\u001b[0m\u001b[0;34m.\u001b[0m\u001b[0msort_values\u001b[0m\u001b[0;34m(\u001b[0m\u001b[0;34m'x_coordinate'\u001b[0m\u001b[0;34m)\u001b[0m  \u001b[0;31m#First sort by x coordinate\u001b[0m\u001b[0;34m\u001b[0m\u001b[0;34m\u001b[0m\u001b[0m\n\u001b[0;32m----> 2\u001b[0;31m \u001b[0mddf\u001b[0m\u001b[0;34m[\u001b[0m\u001b[0;34m'euc_dict'\u001b[0m\u001b[0;34m]\u001b[0m \u001b[0;34m=\u001b[0m \u001b[0;34m[\u001b[0m\u001b[0meuclidean_dist\u001b[0m\u001b[0;34m(\u001b[0m\u001b[0mi\u001b[0m\u001b[0;34m)\u001b[0m \u001b[0;32mfor\u001b[0m \u001b[0mi\u001b[0m \u001b[0;32min\u001b[0m \u001b[0mdf\u001b[0m\u001b[0;34m[\u001b[0m\u001b[0;34m[\u001b[0m\u001b[0;34m'x_coordinate'\u001b[0m\u001b[0;34m,\u001b[0m \u001b[0;34m'y_coordinate'\u001b[0m\u001b[0;34m]\u001b[0m\u001b[0;34m]\u001b[0m\u001b[0;34m.\u001b[0m\u001b[0mitems\u001b[0m\u001b[0;34m(\u001b[0m\u001b[0;34m)\u001b[0m\u001b[0;34m]\u001b[0m\u001b[0;34m\u001b[0m\u001b[0;34m\u001b[0m\u001b[0m\n\u001b[0m",
      "\u001b[0;32m<ipython-input-311-39eadc0531b3>\u001b[0m in \u001b[0;36meuclidean_dist\u001b[0;34m(a, b)\u001b[0m\n\u001b[1;32m      1\u001b[0m \u001b[0;32mdef\u001b[0m \u001b[0meuclidean_dist\u001b[0m\u001b[0;34m(\u001b[0m\u001b[0ma\u001b[0m\u001b[0;34m,\u001b[0m\u001b[0mb\u001b[0m\u001b[0;34m=\u001b[0m\u001b[0mdf\u001b[0m\u001b[0;34m[\u001b[0m\u001b[0;34m[\u001b[0m\u001b[0;34m'x_coordinate'\u001b[0m\u001b[0;34m,\u001b[0m \u001b[0;34m'y_coordinate'\u001b[0m\u001b[0;34m]\u001b[0m\u001b[0;34m]\u001b[0m\u001b[0;34m.\u001b[0m\u001b[0miloc\u001b[0m\u001b[0;34m[\u001b[0m\u001b[0;36m0\u001b[0m\u001b[0;34m]\u001b[0m\u001b[0;34m)\u001b[0m\u001b[0;34m:\u001b[0m\u001b[0;34m\u001b[0m\u001b[0;34m\u001b[0m\u001b[0m\n\u001b[0;32m----> 2\u001b[0;31m     \u001b[0;32mreturn\u001b[0m \u001b[0mnp\u001b[0m\u001b[0;34m.\u001b[0m\u001b[0msqrt\u001b[0m\u001b[0;34m(\u001b[0m\u001b[0mnp\u001b[0m\u001b[0;34m.\u001b[0m\u001b[0msum\u001b[0m\u001b[0;34m(\u001b[0m\u001b[0mnp\u001b[0m\u001b[0;34m.\u001b[0m\u001b[0msquare\u001b[0m\u001b[0;34m(\u001b[0m\u001b[0mnp\u001b[0m\u001b[0;34m.\u001b[0m\u001b[0marray\u001b[0m\u001b[0;34m(\u001b[0m\u001b[0ma\u001b[0m\u001b[0;34m)\u001b[0m\u001b[0;34m-\u001b[0m\u001b[0mnp\u001b[0m\u001b[0;34m.\u001b[0m\u001b[0marray\u001b[0m\u001b[0;34m(\u001b[0m\u001b[0mb\u001b[0m\u001b[0;34m)\u001b[0m\u001b[0;34m)\u001b[0m\u001b[0;34m)\u001b[0m\u001b[0;34m)\u001b[0m\u001b[0;34m\u001b[0m\u001b[0;34m\u001b[0m\u001b[0m\n\u001b[0m",
      "\u001b[0;31mTypeError\u001b[0m: unsupported operand type(s) for -: 'str' and 'float'"
     ]
    }
   ],
   "source": [
    "ddf = df.sort_values('x_coordinate')  #First sort by x coordinate\n",
    "ddf['euc_dict'] = euclidean_dist(ddf[['x_coordinate', 'y_coordinate']])\n",
    "ddf.sort_values()"
   ]
  },
  {
   "cell_type": "code",
   "execution_count": 341,
   "metadata": {},
   "outputs": [
    {
     "data": {
      "text/plain": [
       "array([0.        , 2.37485073, 4.01349144, 3.82763724, 3.54255344,\n",
       "       4.21603363, 4.03497955, 5.7561211 , 4.85639052, 5.76557492])"
      ]
     },
     "execution_count": 341,
     "metadata": {},
     "output_type": "execute_result"
    }
   ],
   "source": []
  },
  {
   "cell_type": "code",
   "execution_count": 339,
   "metadata": {},
   "outputs": [
    {
     "data": {
      "text/plain": [
       "13.151571537737533"
      ]
     },
     "execution_count": 339,
     "metadata": {},
     "output_type": "execute_result"
    }
   ],
   "source": [
    "euclidean_dist(ddf[['x_coordinate', 'y_coordinate']])"
   ]
  },
  {
   "cell_type": "code",
   "execution_count": null,
   "metadata": {},
   "outputs": [],
   "source": []
  },
  {
   "cell_type": "code",
   "execution_count": null,
   "metadata": {},
   "outputs": [],
   "source": []
  },
  {
   "cell_type": "code",
   "execution_count": 443,
   "metadata": {},
   "outputs": [
    {
     "data": {
      "text/plain": [
       "[(0, 0), (1, 0), (1, 1), (2, 0), (2, 2)]"
      ]
     },
     "execution_count": 443,
     "metadata": {},
     "output_type": "execute_result"
    }
   ],
   "source": [
    "a = [(0,0), (1,0), (1,1), (2,0), (2,2)]\n",
    "a"
   ]
  },
  {
   "cell_type": "code",
   "execution_count": 457,
   "metadata": {},
   "outputs": [
    {
     "data": {
      "text/plain": [
       "array([[[ 0,  0],\n",
       "        [-1,  0],\n",
       "        [-1, -1],\n",
       "        [-2,  0],\n",
       "        [-2, -2]],\n",
       "\n",
       "       [[ 1,  0],\n",
       "        [ 0,  0],\n",
       "        [ 0, -1],\n",
       "        [-1,  0],\n",
       "        [-1, -2]],\n",
       "\n",
       "       [[ 1,  1],\n",
       "        [ 0,  1],\n",
       "        [ 0,  0],\n",
       "        [-1,  1],\n",
       "        [-1, -1]],\n",
       "\n",
       "       [[ 2,  0],\n",
       "        [ 1,  0],\n",
       "        [ 1, -1],\n",
       "        [ 0,  0],\n",
       "        [ 0, -2]],\n",
       "\n",
       "       [[ 2,  2],\n",
       "        [ 1,  2],\n",
       "        [ 1,  1],\n",
       "        [ 0,  2],\n",
       "        [ 0,  0]]])"
      ]
     },
     "execution_count": 457,
     "metadata": {},
     "output_type": "execute_result"
    }
   ],
   "source": [
    "np.array([np.array(i[0])-np.array(i[1]) for i in itertools.product(a, a)]).reshape(5,5,2)"
   ]
  },
  {
   "cell_type": "code",
   "execution_count": 478,
   "metadata": {},
   "outputs": [
    {
     "ename": "TypeError",
     "evalue": "'keepdims' is an invalid keyword to ufunc 'subtract'",
     "output_type": "error",
     "traceback": [
      "\u001b[0;31m---------------------------------------------------------------------------\u001b[0m",
      "\u001b[0;31mTypeError\u001b[0m                                 Traceback (most recent call last)",
      "\u001b[0;32m<ipython-input-478-0c3119eabdc5>\u001b[0m in \u001b[0;36m<module>\u001b[0;34m\u001b[0m\n\u001b[0;32m----> 1\u001b[0;31m \u001b[0mnp\u001b[0m\u001b[0;34m.\u001b[0m\u001b[0msubtract\u001b[0m\u001b[0;34m.\u001b[0m\u001b[0mouter\u001b[0m\u001b[0;34m(\u001b[0m\u001b[0ma\u001b[0m\u001b[0;34m,\u001b[0m\u001b[0ma\u001b[0m\u001b[0;34m,\u001b[0m \u001b[0mkeepdims\u001b[0m\u001b[0;34m=\u001b[0m\u001b[0;32mTrue\u001b[0m\u001b[0;34m)\u001b[0m\u001b[0;34m\u001b[0m\u001b[0;34m\u001b[0m\u001b[0m\n\u001b[0m",
      "\u001b[0;31mTypeError\u001b[0m: 'keepdims' is an invalid keyword to ufunc 'subtract'"
     ]
    }
   ],
   "source": [
    "np.subtract.outer(a,a, keepdims=True)"
   ]
  },
  {
   "cell_type": "code",
   "execution_count": 474,
   "metadata": {},
   "outputs": [
    {
     "data": {
      "text/plain": [
       "array([[[ 0. ,  0. ],\n",
       "        [-1. ,  0. ],\n",
       "        [-1. , -1. ],\n",
       "        [-2. ,  0. ],\n",
       "        [-2. , -2. ]],\n",
       "\n",
       "       [[ 0.5,  0.5],\n",
       "        [-0.5,  0.5],\n",
       "        [-0.5, -0.5],\n",
       "        [-1.5,  0.5],\n",
       "        [-1.5, -1.5]],\n",
       "\n",
       "       [[ 1. ,  1. ],\n",
       "        [ 0. ,  1. ],\n",
       "        [ 0. ,  0. ],\n",
       "        [-1. ,  1. ],\n",
       "        [-1. , -1. ]],\n",
       "\n",
       "       [[ 1. ,  1. ],\n",
       "        [ 0. ,  1. ],\n",
       "        [ 0. ,  0. ],\n",
       "        [-1. ,  1. ],\n",
       "        [-1. , -1. ]],\n",
       "\n",
       "       [[ 2. ,  2. ],\n",
       "        [ 1. ,  2. ],\n",
       "        [ 1. ,  1. ],\n",
       "        [ 0. ,  2. ],\n",
       "        [ 0. ,  0. ]]])"
      ]
     },
     "execution_count": 474,
     "metadata": {},
     "output_type": "execute_result"
    }
   ],
   "source": [
    "np.average(np.subtract.outer(a,a), axis=1)"
   ]
  },
  {
   "cell_type": "code",
   "execution_count": null,
   "metadata": {},
   "outputs": [],
   "source": []
  },
  {
   "cell_type": "code",
   "execution_count": null,
   "metadata": {},
   "outputs": [],
   "source": []
  },
  {
   "cell_type": "code",
   "execution_count": null,
   "metadata": {},
   "outputs": [],
   "source": []
  },
  {
   "cell_type": "code",
   "execution_count": 479,
   "metadata": {},
   "outputs": [],
   "source": [
    "from tensorflow.keras import layers, Model"
   ]
  },
  {
   "cell_type": "code",
   "execution_count": 482,
   "metadata": {},
   "outputs": [
    {
     "ename": "ValueError",
     "evalue": "Input 0 of layer conv2d is incompatible with the layer: : expected min_ndim=4, found ndim=3. Full shape received: [None, 10, 4]",
     "output_type": "error",
     "traceback": [
      "\u001b[0;31m---------------------------------------------------------------------------\u001b[0m",
      "\u001b[0;31mValueError\u001b[0m                                Traceback (most recent call last)",
      "\u001b[0;32m<ipython-input-482-eb8fb65bc9ed>\u001b[0m in \u001b[0;36m<module>\u001b[0;34m\u001b[0m\n\u001b[1;32m      1\u001b[0m \u001b[0minp\u001b[0m \u001b[0;34m=\u001b[0m \u001b[0mlayers\u001b[0m\u001b[0;34m.\u001b[0m\u001b[0mInput\u001b[0m\u001b[0;34m(\u001b[0m\u001b[0;34m(\u001b[0m\u001b[0;36m10\u001b[0m\u001b[0;34m,\u001b[0m\u001b[0;36m4\u001b[0m\u001b[0;34m)\u001b[0m\u001b[0;34m)\u001b[0m \u001b[0;31m#none,10,4\u001b[0m\u001b[0;34m\u001b[0m\u001b[0;34m\u001b[0m\u001b[0m\n\u001b[0;32m----> 2\u001b[0;31m \u001b[0mx\u001b[0m \u001b[0;34m=\u001b[0m \u001b[0mlayers\u001b[0m\u001b[0;34m.\u001b[0m\u001b[0mConv2D\u001b[0m\u001b[0;34m(\u001b[0m\u001b[0;36m2\u001b[0m\u001b[0;34m,\u001b[0m\u001b[0;36m2\u001b[0m\u001b[0;34m)\u001b[0m\u001b[0;34m(\u001b[0m\u001b[0minp\u001b[0m\u001b[0;34m)\u001b[0m\u001b[0;34m\u001b[0m\u001b[0;34m\u001b[0m\u001b[0m\n\u001b[0m\u001b[1;32m      3\u001b[0m \u001b[0mx\u001b[0m \u001b[0;34m=\u001b[0m \u001b[0mlayers\u001b[0m\u001b[0;34m.\u001b[0m\u001b[0mFlatten\u001b[0m\u001b[0;34m(\u001b[0m\u001b[0;34m)\u001b[0m\u001b[0;34m(\u001b[0m\u001b[0minp\u001b[0m\u001b[0;34m)\u001b[0m  \u001b[0;31m#none,40\u001b[0m\u001b[0;34m\u001b[0m\u001b[0;34m\u001b[0m\u001b[0m\n\u001b[1;32m      4\u001b[0m \u001b[0mx\u001b[0m \u001b[0;34m=\u001b[0m \u001b[0mlayers\u001b[0m\u001b[0;34m.\u001b[0m\u001b[0mDense\u001b[0m\u001b[0;34m(\u001b[0m\u001b[0;36m256\u001b[0m\u001b[0;34m)\u001b[0m\u001b[0;34m(\u001b[0m\u001b[0mx\u001b[0m\u001b[0;34m)\u001b[0m   \u001b[0;31m#none,256\u001b[0m\u001b[0;34m\u001b[0m\u001b[0;34m\u001b[0m\u001b[0m\n\u001b[1;32m      5\u001b[0m \u001b[0mout\u001b[0m \u001b[0;34m=\u001b[0m \u001b[0mlayers\u001b[0m\u001b[0;34m.\u001b[0m\u001b[0mDense\u001b[0m\u001b[0;34m(\u001b[0m\u001b[0;36m3\u001b[0m\u001b[0;34m)\u001b[0m\u001b[0;34m(\u001b[0m\u001b[0mx\u001b[0m\u001b[0;34m)\u001b[0m   \u001b[0;31m#none,3\u001b[0m\u001b[0;34m\u001b[0m\u001b[0;34m\u001b[0m\u001b[0m\n",
      "\u001b[0;32m~/opt/anaconda3/lib/python3.8/site-packages/tensorflow/python/keras/engine/base_layer.py\u001b[0m in \u001b[0;36m__call__\u001b[0;34m(self, *args, **kwargs)\u001b[0m\n\u001b[1;32m    923\u001b[0m     \u001b[0;31m# >> model = tf.keras.Model(inputs, outputs)\u001b[0m\u001b[0;34m\u001b[0m\u001b[0;34m\u001b[0m\u001b[0;34m\u001b[0m\u001b[0m\n\u001b[1;32m    924\u001b[0m     \u001b[0;32mif\u001b[0m \u001b[0m_in_functional_construction_mode\u001b[0m\u001b[0;34m(\u001b[0m\u001b[0mself\u001b[0m\u001b[0;34m,\u001b[0m \u001b[0minputs\u001b[0m\u001b[0;34m,\u001b[0m \u001b[0margs\u001b[0m\u001b[0;34m,\u001b[0m \u001b[0mkwargs\u001b[0m\u001b[0;34m,\u001b[0m \u001b[0minput_list\u001b[0m\u001b[0;34m)\u001b[0m\u001b[0;34m:\u001b[0m\u001b[0;34m\u001b[0m\u001b[0;34m\u001b[0m\u001b[0m\n\u001b[0;32m--> 925\u001b[0;31m       return self._functional_construction_call(inputs, args, kwargs,\n\u001b[0m\u001b[1;32m    926\u001b[0m                                                 input_list)\n\u001b[1;32m    927\u001b[0m \u001b[0;34m\u001b[0m\u001b[0m\n",
      "\u001b[0;32m~/opt/anaconda3/lib/python3.8/site-packages/tensorflow/python/keras/engine/base_layer.py\u001b[0m in \u001b[0;36m_functional_construction_call\u001b[0;34m(self, inputs, args, kwargs, input_list)\u001b[0m\n\u001b[1;32m   1090\u001b[0m       \u001b[0;31m# TODO(reedwm): We should assert input compatibility after the inputs\u001b[0m\u001b[0;34m\u001b[0m\u001b[0;34m\u001b[0m\u001b[0;34m\u001b[0m\u001b[0m\n\u001b[1;32m   1091\u001b[0m       \u001b[0;31m# are casted, not before.\u001b[0m\u001b[0;34m\u001b[0m\u001b[0;34m\u001b[0m\u001b[0;34m\u001b[0m\u001b[0m\n\u001b[0;32m-> 1092\u001b[0;31m       \u001b[0minput_spec\u001b[0m\u001b[0;34m.\u001b[0m\u001b[0massert_input_compatibility\u001b[0m\u001b[0;34m(\u001b[0m\u001b[0mself\u001b[0m\u001b[0;34m.\u001b[0m\u001b[0minput_spec\u001b[0m\u001b[0;34m,\u001b[0m \u001b[0minputs\u001b[0m\u001b[0;34m,\u001b[0m \u001b[0mself\u001b[0m\u001b[0;34m.\u001b[0m\u001b[0mname\u001b[0m\u001b[0;34m)\u001b[0m\u001b[0;34m\u001b[0m\u001b[0;34m\u001b[0m\u001b[0m\n\u001b[0m\u001b[1;32m   1093\u001b[0m       \u001b[0mgraph\u001b[0m \u001b[0;34m=\u001b[0m \u001b[0mbackend\u001b[0m\u001b[0;34m.\u001b[0m\u001b[0mget_graph\u001b[0m\u001b[0;34m(\u001b[0m\u001b[0;34m)\u001b[0m\u001b[0;34m\u001b[0m\u001b[0;34m\u001b[0m\u001b[0m\n\u001b[1;32m   1094\u001b[0m       \u001b[0;31m# Use `self._name_scope()` to avoid auto-incrementing the name.\u001b[0m\u001b[0;34m\u001b[0m\u001b[0;34m\u001b[0m\u001b[0;34m\u001b[0m\u001b[0m\n",
      "\u001b[0;32m~/opt/anaconda3/lib/python3.8/site-packages/tensorflow/python/keras/engine/input_spec.py\u001b[0m in \u001b[0;36massert_input_compatibility\u001b[0;34m(input_spec, inputs, layer_name)\u001b[0m\n\u001b[1;32m    189\u001b[0m       \u001b[0mndim\u001b[0m \u001b[0;34m=\u001b[0m \u001b[0mx\u001b[0m\u001b[0;34m.\u001b[0m\u001b[0mshape\u001b[0m\u001b[0;34m.\u001b[0m\u001b[0mndims\u001b[0m\u001b[0;34m\u001b[0m\u001b[0;34m\u001b[0m\u001b[0m\n\u001b[1;32m    190\u001b[0m       \u001b[0;32mif\u001b[0m \u001b[0mndim\u001b[0m \u001b[0;32mis\u001b[0m \u001b[0;32mnot\u001b[0m \u001b[0;32mNone\u001b[0m \u001b[0;32mand\u001b[0m \u001b[0mndim\u001b[0m \u001b[0;34m<\u001b[0m \u001b[0mspec\u001b[0m\u001b[0;34m.\u001b[0m\u001b[0mmin_ndim\u001b[0m\u001b[0;34m:\u001b[0m\u001b[0;34m\u001b[0m\u001b[0;34m\u001b[0m\u001b[0m\n\u001b[0;32m--> 191\u001b[0;31m         raise ValueError('Input ' + str(input_index) + ' of layer ' +\n\u001b[0m\u001b[1;32m    192\u001b[0m                          \u001b[0mlayer_name\u001b[0m \u001b[0;34m+\u001b[0m \u001b[0;34m' is incompatible with the layer: '\u001b[0m\u001b[0;34m\u001b[0m\u001b[0;34m\u001b[0m\u001b[0m\n\u001b[1;32m    193\u001b[0m                          \u001b[0;34m': expected min_ndim='\u001b[0m \u001b[0;34m+\u001b[0m \u001b[0mstr\u001b[0m\u001b[0;34m(\u001b[0m\u001b[0mspec\u001b[0m\u001b[0;34m.\u001b[0m\u001b[0mmin_ndim\u001b[0m\u001b[0;34m)\u001b[0m \u001b[0;34m+\u001b[0m\u001b[0;34m\u001b[0m\u001b[0;34m\u001b[0m\u001b[0m\n",
      "\u001b[0;31mValueError\u001b[0m: Input 0 of layer conv2d is incompatible with the layer: : expected min_ndim=4, found ndim=3. Full shape received: [None, 10, 4]"
     ]
    }
   ],
   "source": [
    "inp = layers.Input((10,4)) #none,10,4\n",
    "x = layers.Conv2D(2,2)(inp)\n",
    "x = layers.Flatten()(inp)  #none,40\n",
    "x = layers.Dense(256)(x)   #none,256\n",
    "out = layers.Dense(3)(x)   #none,3"
   ]
  },
  {
   "cell_type": "code",
   "execution_count": null,
   "metadata": {},
   "outputs": [],
   "source": []
  },
  {
   "cell_type": "code",
   "execution_count": null,
   "metadata": {},
   "outputs": [],
   "source": []
  },
  {
   "cell_type": "code",
   "execution_count": null,
   "metadata": {},
   "outputs": [],
   "source": []
  },
  {
   "cell_type": "code",
   "execution_count": 607,
   "metadata": {},
   "outputs": [],
   "source": [
    "v = [0,1,2,3,4,5]\n",
    "e = [(2,0),(0,5),(2,3),(3,4),(4,1),(5,1),(4,0)]"
   ]
  },
  {
   "cell_type": "code",
   "execution_count": 608,
   "metadata": {},
   "outputs": [],
   "source": [
    "z = np.zeros((len(v), len(v)))"
   ]
  },
  {
   "cell_type": "code",
   "execution_count": 609,
   "metadata": {},
   "outputs": [],
   "source": [
    "z[tuple(zip(*e))]=1"
   ]
  },
  {
   "cell_type": "code",
   "execution_count": 610,
   "metadata": {},
   "outputs": [],
   "source": [
    "key = [0,1,5]"
   ]
  },
  {
   "cell_type": "code",
   "execution_count": 611,
   "metadata": {},
   "outputs": [
    {
     "data": {
      "text/plain": [
       "array([[1., 0., 1., 0., 1., 1.],\n",
       "       [0., 1., 0., 0., 1., 1.],\n",
       "       [1., 0., 1., 1., 0., 0.],\n",
       "       [0., 0., 1., 1., 1., 0.],\n",
       "       [1., 1., 0., 1., 1., 0.],\n",
       "       [1., 1., 0., 0., 0., 1.]])"
      ]
     },
     "execution_count": 611,
     "metadata": {},
     "output_type": "execute_result"
    }
   ],
   "source": [
    "z2 = z+z.T\n",
    "np.fill_diagonal(z2, 1)\n",
    "z2"
   ]
  },
  {
   "cell_type": "code",
   "execution_count": 612,
   "metadata": {},
   "outputs": [],
   "source": [
    "#list(set(v) - set(key))"
   ]
  },
  {
   "cell_type": "code",
   "execution_count": 613,
   "metadata": {},
   "outputs": [
    {
     "data": {
      "text/plain": [
       "[(0, 2.0), (1, 2.0), (2, 1.0), (3, 0.0), (4, 2.0), (5, 3.0)]"
      ]
     },
     "execution_count": 613,
     "metadata": {},
     "output_type": "execute_result"
    }
   ],
   "source": [
    "con_cnts = [i for i in enumerate(np.sum(z2[key], axis=0))]\n",
    "con_cnts"
   ]
  },
  {
   "cell_type": "code",
   "execution_count": 615,
   "metadata": {},
   "outputs": [
    {
     "name": "stdout",
     "output_type": "stream",
     "text": [
      "other\n"
     ]
    }
   ],
   "source": [
    "  for i,j in con_cnts:\n",
    "    if j==3                                                                                                    and i in key:\n",
    "        result=len(key)\n",
    "        break\n",
    "    elif j==3 and i not in key:\n",
    "        result=len(key)+1\n",
    "        break\n",
    "    else:\n",
    "        print('other')\n",
    "        break"
   ]
  },
  {
   "cell_type": "code",
   "execution_count": null,
   "metadata": {},
   "outputs": [],
   "source": []
  },
  {
   "cell_type": "code",
   "execution_count": null,
   "metadata": {},
   "outputs": [],
   "source": []
  },
  {
   "cell_type": "code",
   "execution_count": null,
   "metadata": {},
   "outputs": [],
   "source": []
  },
  {
   "cell_type": "code",
   "execution_count": 830,
   "metadata": {},
   "outputs": [],
   "source": []
  },
  {
   "cell_type": "code",
   "execution_count": 774,
   "metadata": {},
   "outputs": [],
   "source": [
    "req_data = [{ \"quantity\": \"7\", \"state\": \"Arizona\", \"sub_category\": \"Storage\" }, { \"quantity\": \"2\", \"state\": \"California\", \"sub_category\": \"Chairs\" }, { \"quantity\": \"3\", \"state\": \"California\", \"sub_category\": \"Furnishings\" }, { \"quantity\": \"5\", \"state\": \"Ohio\", \"sub_category\": \"Phones\" }, { \"quantity\": \"2\", \"state\": \"Ohio\", \"sub_category\": \"Paper\" }, { \"quantity\": \"9\", \"state\": \"Ohio\", \"sub_category\": \"Fasteners\" }, { \"quantity\": \"3\", \"state\": \"California\", \"sub_category\": \"Paper\" }, { \"quantity\": \"1\", \"state\": \"California\", \"sub_category\": \"Paper\" }, { \"quantity\": \"4\", \"state\": \"California\", \"sub_category\": \"Art\" }, { \"quantity\": \"2\", \"state\": \"California\", \"sub_category\": \"Fasteners\" }, { \"quantity\": \"3\", \"state\": \"California\", \"sub_category\": \"Binders\" }, { \"quantity\": \"6\", \"state\": \"California\", \"sub_category\": \"Supplies\" }, { \"quantity\": \"14\", \"state\": \"California\", \"sub_category\": \"Furnishings\" }, { \"quantity\": \"2\", \"state\": \"Pennsylvania\", \"sub_category\": \"Furnishings\" }, { \"quantity\": \"3\", \"state\": \"California\", \"sub_category\": \"Art\" }]"
   ]
  },
  {
   "cell_type": "code",
   "execution_count": 861,
   "metadata": {},
   "outputs": [],
   "source": [
    "req_data = [{'quantity': '7', 'state': 'Arizona', 'sub_category': 'Storage'},\n",
    " {'quantity': '2', 'state': 'California', 'sub_category': 'Chairs'},\n",
    " {'quantity': '3', 'state': 'California', 'sub_category': 'Furnishings'},\n",
    " {'quantity': '5', 'state': 'Ohio', 'sub_category': 'Phones'},\n",
    " {'quantity': '2', 'state': 'Ohio', 'sub_category': 'Paper'},\n",
    " {'quantity': '9', 'state': 'Ohio', 'sub_category': 'Fasteners'},\n",
    " {'quantity': '3', 'state': 'California', 'sub_category': 'Paper'},\n",
    " {'quantity': '1', 'state': 'California', 'sub_category': 'Paper'},\n",
    " {'quantity': '4', 'state': 'California', 'sub_category': 'Art'},\n",
    " {'quantity': '2', 'state': 'California', 'sub_category': 'Fasteners'},\n",
    " {'quantity': '3', 'state': 'California', 'sub_category': 'Binders'},\n",
    " {'quantity': '6', 'state': 'California', 'sub_category': 'Supplies'},\n",
    " {'quantity': '14', 'state': 'California', 'sub_category': 'Furnishings'},\n",
    " {'quantity': '2', 'state': 'Pennsylvania', 'sub_category': 'Furnishings'},\n",
    " {'quantity': '3', 'state': 'California', 'sub_category': 'Art'}]"
   ]
  },
  {
   "cell_type": "code",
   "execution_count": null,
   "metadata": {},
   "outputs": [],
   "source": [
    "{k:{i:j for i,j in v.items()} for k,v in d.items()}"
   ]
  },
  {
   "cell_type": "code",
   "execution_count": 834,
   "metadata": {},
   "outputs": [
    {
     "data": {
      "text/plain": [
       "{'Alabama': {'Accessories': 2976,\n",
       "  'Appliances': 1729,\n",
       "  'Art': 3000,\n",
       "  'Binders': 5974,\n",
       "  'Bookcases': 868,\n",
       "  'Chairs': 2356,\n",
       "  'Copiers': 234,\n",
       "  'Envelopes': 906,\n",
       "  'Fasteners': 914,\n",
       "  'Furnishings': 3563,\n",
       "  'Labels': 1400,\n",
       "  'Machines': 440,\n",
       "  'Paper': 5178,\n",
       "  'Phones': 3289,\n",
       "  'Storage': 3158,\n",
       "  'Supplies': 647,\n",
       "  'Tables': 1241},\n",
       " 'Arizona': {'Accessories': 2976,\n",
       "  'Appliances': 1729,\n",
       "  'Art': 3000,\n",
       "  'Binders': 5974,\n",
       "  'Bookcases': 868,\n",
       "  'Chairs': 2356,\n",
       "  'Copiers': 234,\n",
       "  'Envelopes': 906,\n",
       "  'Fasteners': 914,\n",
       "  'Furnishings': 3563,\n",
       "  'Labels': 1400,\n",
       "  'Machines': 440,\n",
       "  'Paper': 5178,\n",
       "  'Phones': 3289,\n",
       "  'Storage': 3165,\n",
       "  'Supplies': 647,\n",
       "  'Tables': 1241},\n",
       " 'Arkansas': {'Accessories': 2976,\n",
       "  'Appliances': 1729,\n",
       "  'Art': 3000,\n",
       "  'Binders': 5974,\n",
       "  'Bookcases': 868,\n",
       "  'Chairs': 2356,\n",
       "  'Copiers': 234,\n",
       "  'Envelopes': 906,\n",
       "  'Fasteners': 914,\n",
       "  'Furnishings': 3563,\n",
       "  'Labels': 1400,\n",
       "  'Machines': 440,\n",
       "  'Paper': 5178,\n",
       "  'Phones': 3289,\n",
       "  'Storage': 3158,\n",
       "  'Supplies': 647,\n",
       "  'Tables': 1241},\n",
       " 'California': {'Accessories': 2976,\n",
       "  'Appliances': 1729,\n",
       "  'Art': 3004,\n",
       "  'Binders': 5977,\n",
       "  'Bookcases': 868,\n",
       "  'Chairs': 2358,\n",
       "  'Copiers': 234,\n",
       "  'Envelopes': 906,\n",
       "  'Fasteners': 916,\n",
       "  'Furnishings': 3566,\n",
       "  'Labels': 1400,\n",
       "  'Machines': 440,\n",
       "  'Paper': 5181,\n",
       "  'Phones': 3289,\n",
       "  'Storage': 3158,\n",
       "  'Supplies': 653,\n",
       "  'Tables': 1241}}"
      ]
     },
     "execution_count": 834,
     "metadata": {},
     "output_type": "execute_result"
    }
   ],
   "source": [
    "d = { \"Alabama\": { \"Accessories\": 2976, \"Appliances\": 1729, \"Art\": 3000, \"Binders\": 5974, \"Bookcases\": 868, \"Chairs\": 2356, \"Copiers\": 234, \"Envelopes\": 906, \"Fasteners\": 914, \"Furnishings\": 3563, \"Labels\": 1400, \"Machines\": 440, \"Paper\": 5178, \"Phones\": 3289, \"Storage\": 3158, \"Supplies\": 647, \"Tables\": 1241 }, \"Arizona\": { \"Accessories\": 2976, \"Appliances\": 1729, \"Art\": 3000, \"Binders\": 5974, \"Bookcases\": 868, \"Chairs\": 2356, \"Copiers\": 234, \"Envelopes\": 906, \"Fasteners\": 914, \"Furnishings\": 3563, \"Labels\": 1400, \"Machines\": 440, \"Paper\": 5178, \"Phones\": 3289, \"Storage\": 3158, \"Supplies\": 647, \"Tables\": 1241 }, \"Arkansas\": { \"Accessories\": 2976, \"Appliances\": 1729, \"Art\": 3000, \"Binders\": 5974, \"Bookcases\": 868, \"Chairs\": 2356, \"Copiers\": 234, \"Envelopes\": 906, \"Fasteners\": 914, \"Furnishings\": 3563, \"Labels\": 1400, \"Machines\": 440, \"Paper\": 5178, \"Phones\": 3289, \"Storage\": 3158, \"Supplies\": 647, \"Tables\": 1241 }, \"California\": { \"Accessories\": 2976, \"Appliances\": 1729, \"Art\": 3000, \"Binders\": 5974, \"Bookcases\": 868, \"Chairs\": 2356, \"Copiers\": 234, \"Envelopes\": 906, \"Fasteners\": 914, \"Furnishings\": 3563, \"Labels\": 1400, \"Machines\": 440, \"Paper\": 5178, \"Phones\": 3289, \"Storage\": 3158, \"Supplies\": 647, \"Tables\": 1241 }}\n",
    "\n",
    "def add_new_quantity(k, i, j, data=req_data):\n",
    "    new_subs = [r for r in req_data if r['state']==k and r['sub_category']==i]\n",
    "    try: return j+int(new_subs[0]['quantity'])\n",
    "    except: return j\n",
    "    \n",
    "{k:{i:add_new_quantity(k,i,j) for i,j in v.items()} for k,v in d.items()}"
   ]
  },
  {
   "cell_type": "code",
   "execution_count": null,
   "metadata": {},
   "outputs": [],
   "source": []
  },
  {
   "cell_type": "code",
   "execution_count": null,
   "metadata": {},
   "outputs": [],
   "source": []
  },
  {
   "cell_type": "code",
   "execution_count": null,
   "metadata": {},
   "outputs": [],
   "source": []
  },
  {
   "cell_type": "code",
   "execution_count": null,
   "metadata": {},
   "outputs": [],
   "source": []
  },
  {
   "cell_type": "code",
   "execution_count": null,
   "metadata": {},
   "outputs": [],
   "source": []
  },
  {
   "cell_type": "code",
   "execution_count": null,
   "metadata": {},
   "outputs": [],
   "source": []
  },
  {
   "cell_type": "code",
   "execution_count": 860,
   "metadata": {},
   "outputs": [
    {
     "data": {
      "text/plain": [
       "array([0, 2, 0, 0, 1, 0, 2, 0, 1, 2, 2, 1, 1, 0, 2, 0, 2, 0, 0, 1, 0, 1,\n",
       "       0, 2, 0, 0, 0, 0, 0, 0, 0, 1, 0, 1, 0, 0, 0, 1, 1, 1, 2, 0, 0, 0,\n",
       "       1, 0, 1, 0, 0, 2, 2, 0, 1, 0, 1, 1, 0, 0, 1, 0, 0, 0, 0, 2, 2, 1,\n",
       "       0, 0, 0, 0, 0, 0, 1, 0, 0, 0, 2, 1, 0, 0, 1, 1, 1, 0, 0, 1, 1, 0,\n",
       "       0, 1, 0, 2, 1, 1, 2, 0, 1, 0, 2, 1, 1, 1, 0, 1, 2, 0, 0, 0, 0, 1,\n",
       "       0, 0, 1, 0, 0, 0, 2, 1, 0, 0, 0, 0, 1, 0, 0, 0, 0, 1, 1, 0, 0, 1,\n",
       "       1, 0, 0, 1, 1, 0, 0, 0, 0, 2, 0, 0, 0, 0, 0, 1, 1, 1, 2, 0, 0, 0,\n",
       "       1, 0, 0, 1, 0, 0, 1, 0, 0, 0, 0, 0, 2, 1, 1, 0, 1, 0, 0, 2, 0, 1,\n",
       "       1, 0, 2, 0, 2, 2, 1, 2, 0, 2, 0, 1, 0, 2, 1, 0, 0, 0, 0, 0, 1, 1,\n",
       "       1, 0, 0, 0, 2, 2, 1, 0, 0, 0, 0, 0, 2, 0, 0, 0, 1, 0, 0, 0, 2, 0,\n",
       "       0, 2, 0, 0, 2, 2, 0, 0, 2, 0, 2, 1, 0, 0, 1, 0, 0, 1, 1, 2, 1, 0,\n",
       "       0, 1, 0, 0, 2, 2, 0, 0, 0, 0, 0, 0, 0, 0, 2, 1, 0, 1, 1, 0, 1, 0,\n",
       "       0, 0, 0, 1, 0, 1, 0, 0, 1, 0, 0, 1, 1, 1, 0, 0, 2, 0, 1, 2, 0, 1,\n",
       "       0, 2, 2, 1, 0, 1, 0, 0, 1, 0, 0, 1, 0, 1])"
      ]
     },
     "execution_count": 860,
     "metadata": {},
     "output_type": "execute_result"
    }
   ],
   "source": [
    "X = np.random.uniform(low=-3, high=3, size=(300, 2))\n",
    "centroids = np.array([[0,0],[1,1],[0.5,0.6]])\n",
    "\n",
    "euc_dist = np.sqrt(np.sum(np.square(X[:,None,:] - centroids[None,:,:]), axis=-1))\n",
    "closest = np.argmin(euc_dist, axis=1)\n",
    "closest\n",
    "\n",
    "array([0, 2, 0, 0, 1, 0, 2, 0, 1, 2, 2, 1, 1, 0, 2, 0, 2, 0, 0, 1, 0, 1,\n",
    "       0, 2, 0, 0, 0, 0, 0, 0, 0, 1, 0, 1, 0, 0, 0, 1, 1, 1, 2, 0, 0, 0,\n",
    "       1, 0, 1, 0, 0, 2, 2, 0, 1, 0, 1, 1, 0, 0, 1, 0, 0, 0, 0, 2, 2, 1,\n",
    "       0, 0, 0, 0, 0, 0, 1, 0, 0, 0, 2, 1, 0, 0, 1, 1, 1, 0, 0, 1, 1, 0,\n",
    "       0, 1, 0, 2, 1, 1, 2, 0, 1, 0, 2, 1, 1, 1, 0, 1, 2, 0, 0, 0, 0, 1,\n",
    "       0, 0, 1, 0, 0, 0, 2, 1, 0, 0, 0, 0, 1, 0, 0, 0, 0, 1, 1, 0, 0, 1,\n",
    "       1, 0, 0, 1, 1, 0, 0, 0, 0, 2, 0, 0, 0, 0, 0, 1, 1, 1, 2, 0, 0, 0,\n",
    "       1, 0, 0, 1, 0, 0, 1, 0, 0, 0, 0, 0, 2, 1, 1, 0, 1, 0, 0, 2, 0, 1,\n",
    "       1, 0, 2, 0, 2, 2, 1, 2, 0, 2, 0, 1, 0, 2, 1, 0, 0, 0, 0, 0, 1, 1,\n",
    "       1, 0, 0, 0, 2, 2, 1, 0, 0, 0, 0, 0, 2, 0, 0, 0, 1, 0, 0, 0, 2, 0,\n",
    "       0, 2, 0, 0, 2, 2, 0, 0, 2, 0, 2, 1, 0, 0, 1, 0, 0, 1, 1, 2, 1, 0,\n",
    "       0, 1, 0, 0, 2, 2, 0, 0, 0, 0, 0, 0, 0, 0, 2, 1, 0, 1, 1, 0, 1, 0,\n",
    "       0, 0, 0, 1, 0, 1, 0, 0, 1, 0, 0, 1, 1, 1, 0, 0, 2, 0, 1, 2, 0, 1,\n",
    "       0, 2, 2, 1, 0, 1, 0, 0, 1, 0, 0, 1, 0, 1])\n"
   ]
  },
  {
   "cell_type": "code",
   "execution_count": null,
   "metadata": {},
   "outputs": [],
   "source": []
  },
  {
   "cell_type": "code",
   "execution_count": null,
   "metadata": {},
   "outputs": [],
   "source": []
  },
  {
   "cell_type": "code",
   "execution_count": null,
   "metadata": {},
   "outputs": [],
   "source": []
  },
  {
   "cell_type": "code",
   "execution_count": null,
   "metadata": {},
   "outputs": [],
   "source": []
  },
  {
   "cell_type": "code",
   "execution_count": null,
   "metadata": {},
   "outputs": [],
   "source": []
  },
  {
   "cell_type": "code",
   "execution_count": 866,
   "metadata": {},
   "outputs": [],
   "source": [
    "food = [{'avocado', 'banana', 'coffee'}, {'avocado', 'donuts'}, {'coffee', 'licorice'}]"
   ]
  },
  {
   "cell_type": "code",
   "execution_count": 867,
   "metadata": {},
   "outputs": [],
   "source": [
    "def goes_with_most(food):\n",
    "    food_type = {}\n",
    "    for mixture in food:\n",
    "        for stuff in mixture:\n",
    "            if stuff not in food_type:\n",
    "                food_type[stuff] = len(mixture) - 1     #the number of interactions \n",
    "            else: food_type[stuff] += (len(mixture) - 1)\n",
    "    max_value_ls = sorted(food_type.items(), key=lambda sutff: (-stuff [1], stuff[0]))\n",
    "    return max_value_ls[0][0]   "
   ]
  },
  {
   "cell_type": "code",
   "execution_count": 879,
   "metadata": {},
   "outputs": [
    {
     "data": {
      "text/plain": [
       "2"
      ]
     },
     "execution_count": 879,
     "metadata": {},
     "output_type": "execute_result"
    }
   ],
   "source": []
  },
  {
   "cell_type": "code",
   "execution_count": 899,
   "metadata": {},
   "outputs": [
    {
     "data": {
      "text/plain": [
       "[3, 2, 2]"
      ]
     },
     "execution_count": 899,
     "metadata": {},
     "output_type": "execute_result"
    }
   ],
   "source": []
  },
  {
   "cell_type": "code",
   "execution_count": 952,
   "metadata": {},
   "outputs": [
    {
     "name": "stdout",
     "output_type": "stream",
     "text": [
      "5.02 µs ± 489 ns per loop (mean ± std. dev. of 7 runs, 100000 loops each)\n"
     ]
    }
   ],
   "source": [
    "%%timeit\n",
    "\n",
    "food = [{'avocado', 'banana', 'coffee'}, \n",
    "        {'avocado', 'donuts'}, \n",
    "        {'coffee', 'licorice'}]\n",
    "\n",
    "\n",
    "def f(j): return sum([len(i)-1 for i in food if j in i])\n",
    "\n",
    "unique_stuff = set.union(*food) #Borrowed from @Karl, as his is more efficient\n",
    "goes_with_most = max([(i, f(i)) for i in unique_stuff], key=lambda x:x[1])[0]\n",
    "goes_with_most"
   ]
  },
  {
   "cell_type": "code",
   "execution_count": 953,
   "metadata": {},
   "outputs": [
    {
     "name": "stdout",
     "output_type": "stream",
     "text": [
      "5.83 µs ± 953 ns per loop (mean ± std. dev. of 7 runs, 100000 loops each)\n"
     ]
    }
   ],
   "source": [
    "%%timeit\n",
    "\n",
    "menu = [{'avocado', 'banana', 'coffee'}, {'avocado', 'donuts'}, {'coffee', 'licorice'}]\n",
    "\n",
    "foods = set.union(*menu)\n",
    "def compatibility(menu, food):\n",
    "    meals = [meal for meal in menu if food in meal]\n",
    "    return len(set.union(*meals))\n",
    "min(foods, key=lambda f: (-compatibility(menu, f), f)) # 'avocado'\n",
    "\n"
   ]
  },
  {
   "cell_type": "code",
   "execution_count": 954,
   "metadata": {},
   "outputs": [],
   "source": [
    "import collections"
   ]
  },
  {
   "cell_type": "code",
   "execution_count": 955,
   "metadata": {},
   "outputs": [
    {
     "name": "stdout",
     "output_type": "stream",
     "text": [
      "4.75 µs ± 609 ns per loop (mean ± std. dev. of 7 runs, 100000 loops each)\n"
     ]
    }
   ],
   "source": [
    "%%timeit\n",
    "\n",
    "def goes_with_most(food):\n",
    "    items = []\n",
    "    for f in food:\n",
    "        items.extend(list(f))\n",
    "    counter = collections.Counter(items)\n",
    "    return sorted([i[0] for i in counter.items() if i[1] == max(counter.values())])[0]\n",
    "\n",
    "goes_with_most(food)"
   ]
  },
  {
   "cell_type": "code",
   "execution_count": 956,
   "metadata": {},
   "outputs": [
    {
     "name": "stdout",
     "output_type": "stream",
     "text": [
      "3.73 µs ± 537 ns per loop (mean ± std. dev. of 7 runs, 100000 loops each)\n"
     ]
    }
   ],
   "source": [
    "%%timeit\n",
    "from collections import defaultdict\n",
    "\n",
    "def goes_with_most(food):\n",
    "    counts = defaultdict(int)\n",
    "    for mixture in food:\n",
    "        for ingredient in mixture:\n",
    "            counts[ingredient] += len(mixture) - 1\n",
    "    return min(counts, key=lambda ing: (-counts[ing], ing))\n",
    "\n",
    "goes_with_most(food)"
   ]
  },
  {
   "cell_type": "code",
   "execution_count": null,
   "metadata": {},
   "outputs": [],
   "source": []
  },
  {
   "cell_type": "code",
   "execution_count": null,
   "metadata": {},
   "outputs": [],
   "source": []
  },
  {
   "cell_type": "code",
   "execution_count": 941,
   "metadata": {},
   "outputs": [
    {
     "data": {
      "text/plain": [
       "'avocado'"
      ]
     },
     "execution_count": 941,
     "metadata": {},
     "output_type": "execute_result"
    }
   ],
   "source": []
  },
  {
   "cell_type": "code",
   "execution_count": 939,
   "metadata": {},
   "outputs": [
    {
     "data": {
      "text/plain": [
       "{'avocado', 'banana', 'coffee', 'donuts', 'licorice'}"
      ]
     },
     "execution_count": 939,
     "metadata": {},
     "output_type": "execute_result"
    }
   ],
   "source": [
    "unique_stuff = set.union(*food)\n",
    "unique_stuff"
   ]
  },
  {
   "cell_type": "code",
   "execution_count": 928,
   "metadata": {},
   "outputs": [],
   "source": [
    "def compatibility(menu, food):\n",
    "    meals = [meal for meal in menu if food in meal]\n",
    "    return len(set.union(*meals))"
   ]
  },
  {
   "cell_type": "code",
   "execution_count": 937,
   "metadata": {},
   "outputs": [
    {
     "data": {
      "text/plain": [
       "4"
      ]
     },
     "execution_count": 937,
     "metadata": {},
     "output_type": "execute_result"
    }
   ],
   "source": [
    "compatibility(food, 'avocado')"
   ]
  },
  {
   "cell_type": "code",
   "execution_count": null,
   "metadata": {},
   "outputs": [],
   "source": []
  }
 ],
 "metadata": {
  "kernelspec": {
   "display_name": "Python 3",
   "language": "python",
   "name": "python3"
  },
  "language_info": {
   "codemirror_mode": {
    "name": "ipython",
    "version": 3
   },
   "file_extension": ".py",
   "mimetype": "text/x-python",
   "name": "python",
   "nbconvert_exporter": "python",
   "pygments_lexer": "ipython3",
   "version": "3.8.3"
  }
 },
 "nbformat": 4,
 "nbformat_minor": 4
}
