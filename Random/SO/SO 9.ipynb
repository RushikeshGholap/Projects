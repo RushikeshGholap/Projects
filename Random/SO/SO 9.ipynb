{
 "cells": [
  {
   "cell_type": "code",
   "execution_count": null,
   "metadata": {},
   "outputs": [],
   "source": [
    "import pandas as pd\n",
    "df = {'text': ['Expression of H-2 antigenic specificities on', 'To study the distribution of myelin-associated'], \n",
    "     'id': [1, 2]}\n",
    "\n",
    "df = pd.DataFrame(df)"
   ]
  },
  {
   "cell_type": "code",
   "execution_count": null,
   "metadata": {},
   "outputs": [],
   "source": [
    "def chunks(s, c=2):\n",
    "    return [s[i:i + c] for i in range(0, len(s), c)]\n",
    "\n",
    "\n",
    "df['text'] = df['text'].apply(lambda x: chunks(x.split()))\n",
    "df = df.explode('text').reset_index(drop=True)\n",
    "df['text'] = df['text'].apply(' '.join, 1)\n",
    "\n",
    "print(df)"
   ]
  },
  {
   "cell_type": "code",
   "execution_count": null,
   "metadata": {},
   "outputs": [],
   "source": [
    "df"
   ]
  },
  {
   "cell_type": "code",
   "execution_count": null,
   "metadata": {},
   "outputs": [],
   "source": [
    "df.groupby('id').cumcount()//2"
   ]
  },
  {
   "cell_type": "code",
   "execution_count": null,
   "metadata": {},
   "outputs": [],
   "source": []
  },
  {
   "cell_type": "code",
   "execution_count": null,
   "metadata": {},
   "outputs": [],
   "source": []
  },
  {
   "cell_type": "code",
   "execution_count": null,
   "metadata": {},
   "outputs": [],
   "source": []
  },
  {
   "cell_type": "code",
   "execution_count": null,
   "metadata": {},
   "outputs": [],
   "source": [
    "l = ['a1-23','b1-24','c1-25','c1-x-25'] "
   ]
  },
  {
   "cell_type": "code",
   "execution_count": null,
   "metadata": {},
   "outputs": [],
   "source": [
    "[i for i in l if 'c1' not in i.split('-') or 'x' in i.split('-')]"
   ]
  },
  {
   "cell_type": "code",
   "execution_count": null,
   "metadata": {},
   "outputs": [],
   "source": []
  },
  {
   "cell_type": "code",
   "execution_count": null,
   "metadata": {},
   "outputs": [],
   "source": []
  },
  {
   "cell_type": "code",
   "execution_count": null,
   "metadata": {},
   "outputs": [],
   "source": [
    "import tensorflow as tf\n",
    "from tensorflow.keras.layers import Conv2D, MaxPooling2D, Flatten, Dropout, Dense"
   ]
  },
  {
   "cell_type": "code",
   "execution_count": null,
   "metadata": {},
   "outputs": [],
   "source": [
    "model=tf.keras.models.Sequential([\n",
    "    Conv2D(32, 3, activation='relu', input_shape=(500, 500, 1)),\n",
    "    MaxPooling2D(3,3),\n",
    "    Conv2D(64, 3, activation='relu'),\n",
    "    MaxPooling2D(3,3),\n",
    "    Conv2D(128, 3, padding='same', activation='relu'),\n",
    "    MaxPooling2D(3,3),\n",
    "    Conv2D(256, 3, padding='same', activation='relu'),\n",
    "    MaxPooling2D(3,3),\n",
    "    Flatten(),\n",
    "    Dropout(0.5), \n",
    "    Dense(32, activation='relu'),\n",
    "    Dense(2, activation='softmax') # dense layer has a shape of 2 as we have only 2 classes \n",
    "])"
   ]
  },
  {
   "cell_type": "code",
   "execution_count": null,
   "metadata": {},
   "outputs": [],
   "source": [
    "model.summary()"
   ]
  },
  {
   "cell_type": "code",
   "execution_count": null,
   "metadata": {},
   "outputs": [],
   "source": []
  },
  {
   "cell_type": "code",
   "execution_count": null,
   "metadata": {},
   "outputs": [],
   "source": [
    "import pandas as pd"
   ]
  },
  {
   "cell_type": "code",
   "execution_count": null,
   "metadata": {},
   "outputs": [],
   "source": [
    "df = pd.DataFrame({'a':[1,1,2,2,3],  'b':[4,5,6,7,8]})\n",
    "print(df)"
   ]
  },
  {
   "cell_type": "code",
   "execution_count": null,
   "metadata": {},
   "outputs": [],
   "source": [
    "print(df.groupby(['a']).apply(lambda x:x**2))"
   ]
  },
  {
   "cell_type": "code",
   "execution_count": null,
   "metadata": {},
   "outputs": [],
   "source": [
    "print(df.groupby(['a'])[['b']].apply(lambda x:x**2))"
   ]
  },
  {
   "cell_type": "code",
   "execution_count": null,
   "metadata": {},
   "outputs": [],
   "source": []
  },
  {
   "cell_type": "code",
   "execution_count": null,
   "metadata": {},
   "outputs": [],
   "source": []
  },
  {
   "cell_type": "code",
   "execution_count": null,
   "metadata": {},
   "outputs": [],
   "source": [
    "import numpy as np\n",
    "X = np.random.uniform(low=-1, high=10, size=(20,10))"
   ]
  },
  {
   "cell_type": "code",
   "execution_count": null,
   "metadata": {},
   "outputs": [],
   "source": [
    "X = np.random.uniform(low=-1, high=10, size=(20,10))"
   ]
  },
  {
   "cell_type": "code",
   "execution_count": null,
   "metadata": {},
   "outputs": [],
   "source": [
    "X"
   ]
  },
  {
   "cell_type": "code",
   "execution_count": null,
   "metadata": {},
   "outputs": [],
   "source": [
    "out = np.sum((X<0).astype(int), axis=1)"
   ]
  },
  {
   "cell_type": "code",
   "execution_count": null,
   "metadata": {},
   "outputs": [],
   "source": [
    "out[out==0]=1"
   ]
  },
  {
   "cell_type": "code",
   "execution_count": null,
   "metadata": {},
   "outputs": [],
   "source": [
    "out"
   ]
  },
  {
   "cell_type": "code",
   "execution_count": null,
   "metadata": {},
   "outputs": [],
   "source": []
  },
  {
   "cell_type": "code",
   "execution_count": null,
   "metadata": {},
   "outputs": [],
   "source": []
  },
  {
   "cell_type": "code",
   "execution_count": null,
   "metadata": {},
   "outputs": [],
   "source": [
    "import pandas as pd"
   ]
  },
  {
   "cell_type": "code",
   "execution_count": null,
   "metadata": {},
   "outputs": [],
   "source": [
    "df = pd.DataFrame({'A':[\"1600 - 1700 mm\",\"1600 - 1700 mm\",\"1600 - 1700 mm\"]})"
   ]
  },
  {
   "cell_type": "code",
   "execution_count": null,
   "metadata": {},
   "outputs": [],
   "source": [
    "df"
   ]
  },
  {
   "cell_type": "code",
   "execution_count": null,
   "metadata": {},
   "outputs": [],
   "source": [
    "df = pd.DataFrame({'A':[\"1600 - 1700 mm\",\"1500 - 1800 mm\",\"2000 - 1500 mm\"]})\n",
    "\n",
    "def mean_str(s):\n",
    "    nums = [int(i) for i in s.split() if i.isnumeric()]\n",
    "    return sum(nums)/len(nums)\n",
    "\n",
    "df['avg'] = df['A'].apply(lambda x: mean_str(x))\n",
    "\n",
    "print(df)"
   ]
  },
  {
   "cell_type": "code",
   "execution_count": null,
   "metadata": {},
   "outputs": [],
   "source": []
  },
  {
   "cell_type": "code",
   "execution_count": null,
   "metadata": {},
   "outputs": [],
   "source": []
  },
  {
   "cell_type": "code",
   "execution_count": null,
   "metadata": {},
   "outputs": [],
   "source": []
  },
  {
   "cell_type": "code",
   "execution_count": null,
   "metadata": {},
   "outputs": [],
   "source": []
  },
  {
   "cell_type": "code",
   "execution_count": null,
   "metadata": {},
   "outputs": [],
   "source": []
  },
  {
   "cell_type": "code",
   "execution_count": null,
   "metadata": {},
   "outputs": [],
   "source": []
  },
  {
   "cell_type": "code",
   "execution_count": null,
   "metadata": {},
   "outputs": [],
   "source": [
    "import pandas as pd\n",
    "import numpy as np\n",
    "\n",
    "df = pd.DataFrame(\n",
    "    [\n",
    "        ['2001-01-01 00:00:00',  12.283668,  144.341919],\n",
    "        ['2001-01-01 00:10:00',  12.510790,  146.267975],\n",
    "        ['2001-01-01 00:20:00',  12.072737,  144.149414],\n",
    "        ['2001-01-01 00:30:00',  11.349895,  np.nan    ],\n",
    "        ['2001-01-01 00:40:00',  12.352266,  145.304810],\n",
    "        ['2001-01-01 00:50:00',  12.158932,  149.255615],\n",
    "        ['2001-01-01 01:00:00',  11.581405,  148.387939],\n",
    "        ['2001-01-01 01:10:00',  11.265101,  147.616882],\n",
    "        ['2001-01-01 01:20:00',  10.692064,  148.387939],\n",
    "        ['2001-01-01 01:30:00',  10.568085,  142.801880],\n",
    "        ['2001-01-01 01:40:00',  10.609320,  137.800354],\n",
    "        ['2001-01-01 01:50:00',  10.241758,  137.704224],\n",
    "        ['2001-01-01 02:00:00',   9.988804,  142.513153],\n",
    "        ['2001-01-01 02:10:00',  10.999095,  143.186829],\n",
    "        ['2001-01-01 02:20:00',  10.258151,  142.609375],\n",
    "        ['2001-01-01 02:30:00',  10.243141,  148.484314],\n",
    "        ['2001-01-01 02:40:00',   9.856313,  150.220032],\n",
    "        ['2001-01-01 02:50:00',   9.535853,  151.570801],\n",
    "        ['2001-01-01 03:00:00',   9.850568,  149.448486],\n",
    "        ['2001-01-01 03:10:00',   9.961300,  149.544922],\n",
    "        ['2001-01-01 03:20:00',  10.692064,  990       ],\n",
    "        ['2001-01-01 03:30:00',  10.568085,  142.801880],\n",
    "        ['2001-01-01 03:40:00',  10.609320,  137.800354],\n",
    "        ['2001-01-01 03:50:00',  10.241758,  137.704224],\n",
    "    ], columns=['date', 'WindSpeed', 'WindDir']\n",
    "    )\n",
    "\n",
    "df = df.set_index('date')\n",
    "df.index = pd.DatetimeIndex(df.index)\n",
    "resampled = df.groupby(pd.Grouper(freq='H'))   # Data from 14.30 to 15.29 are rounded to 15.00\n",
    "\n",
    "aggfuns = {'WindSpeed': np.mean, 'WindDir':meandir}\n",
    "print(resampled.agg(aggfuns))"
   ]
  },
  {
   "cell_type": "code",
   "execution_count": null,
   "metadata": {},
   "outputs": [],
   "source": []
  },
  {
   "cell_type": "code",
   "execution_count": null,
   "metadata": {},
   "outputs": [],
   "source": []
  },
  {
   "cell_type": "code",
   "execution_count": null,
   "metadata": {},
   "outputs": [],
   "source": []
  },
  {
   "cell_type": "code",
   "execution_count": null,
   "metadata": {},
   "outputs": [],
   "source": []
  },
  {
   "cell_type": "code",
   "execution_count": null,
   "metadata": {},
   "outputs": [],
   "source": [
    "from scipy.interpolate import CubicSpline"
   ]
  },
  {
   "cell_type": "code",
   "execution_count": null,
   "metadata": {},
   "outputs": [],
   "source": [
    "df = pd.DataFrame({'combined': [[0.97, 0.92, 0.65, 0.24, 0.15, 0.19],\n",
    "                                [0.96, 0.86, 0.69, 0.38, 0.56, 0.78],\n",
    "                                [0.64, 0.69, 0.93, 0.07, 0.73, 0.05],\n",
    "                                [0.29, 0.56, 0.35, 0.76, 0.19, 0.07]]})"
   ]
  },
  {
   "cell_type": "code",
   "execution_count": null,
   "metadata": {},
   "outputs": [],
   "source": [
    "new_df = pd.DataFrame({'0': {0: 0.97, 1: 0.96, 2: 0.64, 3: 0.29},\n",
    "                       '1': {0: 0.92, 1: 0.86, 2: 0.69, 3: 0.56},\n",
    "                       '2': {0: 0.65, 1: 0.69, 2: 0.93, 3: 0.35},\n",
    "                       '3': {0: 0.24, 1: 0.38, 2: 0.07, 3: 0.76},\n",
    "                       '4': {0: 0.15, 1: 0.56, 2: 0.73, 3: 0.19},\n",
    "                       '5': {0: 0.19, 1: 0.78, 2: 0.05, 3: 0.07}})"
   ]
  },
  {
   "cell_type": "code",
   "execution_count": null,
   "metadata": {},
   "outputs": [],
   "source": [
    "def frequency_changer(y):\n",
    "    x_val_30 = [] \n",
    "    for i in range(0, len(y), 4):\n",
    "        x_val_30.append(i)\n",
    "\n",
    "\n",
    "    x_val = [] \n",
    "    for i in range(len(y)):  \n",
    "        x_val.append(i)\n",
    "    y_val = y\n",
    "    cs = CubicSpline(x_val, y_val)\n",
    "    x2 = cs(x_val_30)\n",
    "    print(x2)\n",
    "    return x2\n",
    "\n",
    "def prt(y):\n",
    "    return y\n",
    "\n",
    "def test(y):\n",
    "    return [len(y),sum(y)]"
   ]
  },
  {
   "cell_type": "code",
   "execution_count": null,
   "metadata": {},
   "outputs": [],
   "source": [
    "new_df"
   ]
  },
  {
   "cell_type": "code",
   "execution_count": null,
   "metadata": {},
   "outputs": [],
   "source": [
    "df['combined'].apply(test)"
   ]
  },
  {
   "cell_type": "code",
   "execution_count": null,
   "metadata": {},
   "outputs": [],
   "source": [
    "new_df.apply(test)"
   ]
  },
  {
   "cell_type": "code",
   "execution_count": null,
   "metadata": {},
   "outputs": [],
   "source": [
    "new_df"
   ]
  },
  {
   "cell_type": "code",
   "execution_count": null,
   "metadata": {},
   "outputs": [],
   "source": []
  },
  {
   "cell_type": "code",
   "execution_count": null,
   "metadata": {},
   "outputs": [],
   "source": []
  },
  {
   "cell_type": "code",
   "execution_count": null,
   "metadata": {},
   "outputs": [],
   "source": []
  },
  {
   "cell_type": "code",
   "execution_count": null,
   "metadata": {},
   "outputs": [],
   "source": []
  },
  {
   "cell_type": "code",
   "execution_count": null,
   "metadata": {},
   "outputs": [],
   "source": []
  },
  {
   "cell_type": "code",
   "execution_count": null,
   "metadata": {},
   "outputs": [],
   "source": [
    "import numpy as np\n",
    "\n",
    "m = np.array([[5,3,  6,7,  3,8],\n",
    "              [5,4,  5,1,  4,5],\n",
    "              [5,4,  2,4,  4,6],\n",
    "              [2,2,  2,3,  8,5],\n",
    "              [2,7,  8,7,  1,2],\n",
    "              [2,7,  8,7,  3,2],\n",
    "              [2,7,  8,7,  4,2]]) \n",
    "\n",
    "n = np.array([[1,3,  6,7,  1,12],\n",
    "              [2,4,  2,9,  4,9],\n",
    "              [1,5,  5,12, 9,1],\n",
    "              [5,4,  5,6,  9,5],\n",
    "              [5,4,  1,4,  1,5],\n",
    "              [5,4,  1,7,  9,5],\n",
    "              [5,4,  1,5,  4,11]])\n",
    "\n",
    "\n",
    "mm = m.reshape(m.shape[0],-1,2)\n",
    "nn = n.reshape(m.shape[0],-1,2)\n",
    "\n",
    "matches_m = np.any(mm[:,:,None,:,None] == mm[:,None,:,None,:], axis=(-1,-2))\n",
    "matches_n = np.any(nn[:,:,None,:,None] == nn[:,None,:,None,:], axis=(-1,-2))\n",
    "\n",
    "mask = np.repeat(~np.eye(mm.shape[1], dtype=bool)[None,:], mm.shape[0], axis=0)\n",
    "\n",
    "is_valid1 = np.all(np.any(matches_m&mask, axis=-1), axis=-1)\n",
    "is_valid2 = np.all(matches_n[matches_m].reshape(mm.shape[0],-1), axis=-1)\n",
    "\n",
    "m[is_valid1 & is_valid2]"
   ]
  },
  {
   "cell_type": "code",
   "execution_count": null,
   "metadata": {},
   "outputs": [],
   "source": []
  },
  {
   "cell_type": "code",
   "execution_count": null,
   "metadata": {},
   "outputs": [],
   "source": [
    "%%timeit\n",
    "\n",
    "M = np.array([[1,3,  2,1,  4,2,  3,3],\n",
    "              [3,5,  6,9,  5,1,  3,4],\n",
    "              [1,3,  2,4,  3,4,  7,2],\n",
    "              [4,5,  1,2,  2,1,  2,3],\n",
    "              [6,4,  4,1,  6,1,  4,7],\n",
    "              [6,7,  7,6,  9,7,  6,2],\n",
    "              [5,3,  1,5,  3,3,  3,3]])\n",
    "\n",
    "MM = M.reshape(M.shape[0],-1,2)\n",
    "\n",
    "matches_M = np.any(MM[:,:,None,:,None] == MM[:,None,:,None,:], axis=(-1,-2))\n",
    "mask = ~np.eye(MM.shape[1], dtype=bool)[None,:]\n",
    "\n",
    "is_valid = np.all(np.any(matches_M&mask, axis=-1), axis=-1)\n",
    "M[is_valid]"
   ]
  },
  {
   "cell_type": "code",
   "execution_count": null,
   "metadata": {},
   "outputs": [],
   "source": [
    "%%timeit\n",
    "\n",
    "M = np.array([[1,3,  2,1,  4,2,  3,3],\n",
    "              [3,5,  6,9,  5,1,  3,4],\n",
    "              [1,3,  2,4,  3,4,  7,2],\n",
    "              [4,5,  1,2,  2,1,  2,3],\n",
    "              [6,4,  4,1,  6,1,  4,7],\n",
    "              [6,7,  7,6,  9,7,  6,2],\n",
    "              [5,3,  1,5,  3,3,  3,3]])\n",
    "\n",
    "a = M.reshape(M.shape[0],-1,2)\n",
    "\n",
    "mask = ~np.eye(a.shape[1], dtype=bool)[...,None]\n",
    "\n",
    "is_valid = (((a[...,None,:]==a[:,None,...])&mask).any(axis=(-1,-2))\n",
    "            |((a[...,None,:]==a[:,None,:,::-1])&mask).any(axis=(-1,-2))\n",
    "           ).all(-1)\n",
    "\n",
    "M[is_valid]"
   ]
  },
  {
   "cell_type": "code",
   "execution_count": null,
   "metadata": {},
   "outputs": [],
   "source": []
  },
  {
   "cell_type": "code",
   "execution_count": null,
   "metadata": {},
   "outputs": [],
   "source": []
  },
  {
   "cell_type": "code",
   "execution_count": null,
   "metadata": {},
   "outputs": [],
   "source": []
  },
  {
   "cell_type": "code",
   "execution_count": null,
   "metadata": {},
   "outputs": [],
   "source": []
  },
  {
   "cell_type": "code",
   "execution_count": null,
   "metadata": {},
   "outputs": [],
   "source": [
    "X = np.random.uniform(-5,5,(10,2))"
   ]
  },
  {
   "cell_type": "code",
   "execution_count": null,
   "metadata": {},
   "outputs": [],
   "source": [
    "np.sqrt(np.sum(np.square(np.subtract(X[:,None,:], X[None,:,:])), axis=-1))"
   ]
  },
  {
   "cell_type": "code",
   "execution_count": null,
   "metadata": {},
   "outputs": [],
   "source": [
    "def euclidean(point1, point2):\n",
    "    return ((point1[0]-point2[0])**2 + (point1[1]-point2[1])**2)**(1/2)\n",
    "\n",
    "euclidean_v = np.vectorize(euclidean, signature=\"(n),(n)->()\")\n",
    "\n",
    "euclidean_v(X[:,None,:], X[None,:,:])\n",
    "\n",
    "#Again returns a (10,10)"
   ]
  },
  {
   "cell_type": "code",
   "execution_count": null,
   "metadata": {},
   "outputs": [],
   "source": []
  },
  {
   "cell_type": "code",
   "execution_count": null,
   "metadata": {},
   "outputs": [],
   "source": []
  },
  {
   "cell_type": "code",
   "execution_count": null,
   "metadata": {},
   "outputs": [],
   "source": []
  },
  {
   "cell_type": "code",
   "execution_count": null,
   "metadata": {},
   "outputs": [],
   "source": [
    "import numpy as np\n",
    "A = np.array([[1,2,3,4,5],[6,7,8,9,10],[11,12,13,14,15]])"
   ]
  },
  {
   "cell_type": "code",
   "execution_count": null,
   "metadata": {},
   "outputs": [],
   "source": [
    "np.ix_(True,[slice(0,3),4])"
   ]
  },
  {
   "cell_type": "code",
   "execution_count": null,
   "metadata": {},
   "outputs": [],
   "source": []
  },
  {
   "cell_type": "code",
   "execution_count": null,
   "metadata": {},
   "outputs": [],
   "source": []
  },
  {
   "cell_type": "code",
   "execution_count": null,
   "metadata": {},
   "outputs": [],
   "source": []
  },
  {
   "cell_type": "code",
   "execution_count": null,
   "metadata": {},
   "outputs": [],
   "source": [
    "df = pd.read_clipboard()\n",
    "df"
   ]
  },
  {
   "cell_type": "code",
   "execution_count": null,
   "metadata": {},
   "outputs": [],
   "source": [
    "%%timeit\n",
    "\n",
    "df.groupby(['course_id']).apply(lambda x: sum(x['mark']*x['weight'])/sum(x['weight']))"
   ]
  },
  {
   "cell_type": "code",
   "execution_count": null,
   "metadata": {},
   "outputs": [],
   "source": []
  },
  {
   "cell_type": "code",
   "execution_count": null,
   "metadata": {},
   "outputs": [],
   "source": []
  },
  {
   "cell_type": "code",
   "execution_count": null,
   "metadata": {},
   "outputs": [],
   "source": [
    "%%timeit\n",
    "\n",
    "df.assign(wa = df['mark'] * df['weight'] / 100).groupby('course_id')['wa'].sum()"
   ]
  },
  {
   "cell_type": "code",
   "execution_count": null,
   "metadata": {},
   "outputs": [],
   "source": []
  },
  {
   "cell_type": "code",
   "execution_count": null,
   "metadata": {},
   "outputs": [],
   "source": []
  },
  {
   "cell_type": "code",
   "execution_count": null,
   "metadata": {},
   "outputs": [],
   "source": []
  },
  {
   "cell_type": "code",
   "execution_count": null,
   "metadata": {},
   "outputs": [],
   "source": [
    "lst = [   [['A'],['A'],['B'],['B'],['A'],['A']],\n",
    "          [['B'],['B'],['A'],['A'],['B'],['B']],\n",
    "          [['A'],['A'],['B'],['B'],['A'],['A']],\n",
    "          [['B'],['B'],['A'],['A'],['B'],['B']],\n",
    "          [['A'],['A'],['B'],['B'],['A'],['A']],\n",
    "          [['B'],['B'],['A'],['A'],['B'],['B']],\n",
    "  ]"
   ]
  },
  {
   "cell_type": "code",
   "execution_count": null,
   "metadata": {},
   "outputs": [],
   "source": [
    "lst"
   ]
  },
  {
   "cell_type": "code",
   "execution_count": null,
   "metadata": {},
   "outputs": [],
   "source": [
    "iterator = [[[k for k in j] for j in i] for i in lst]\n",
    "iterator"
   ]
  },
  {
   "cell_type": "code",
   "execution_count": null,
   "metadata": {},
   "outputs": [],
   "source": []
  },
  {
   "cell_type": "code",
   "execution_count": null,
   "metadata": {},
   "outputs": [],
   "source": []
  },
  {
   "cell_type": "code",
   "execution_count": null,
   "metadata": {},
   "outputs": [],
   "source": []
  },
  {
   "cell_type": "code",
   "execution_count": null,
   "metadata": {},
   "outputs": [],
   "source": []
  },
  {
   "cell_type": "code",
   "execution_count": null,
   "metadata": {},
   "outputs": [],
   "source": [
    "np.random.seed(123)\n",
    "c1 = np.random.randint(0,100,size = 1000000)\n",
    "c2 = np.random.randint(0,20,size = 1000000)\n",
    "c3 = np.random.choice([1,-1],1000000 )\n",
    "m = np.vstack((c1, c2, c3)).T\n",
    "m = m[m[:,0].argsort()]"
   ]
  },
  {
   "cell_type": "code",
   "execution_count": null,
   "metadata": {},
   "outputs": [],
   "source": []
  },
  {
   "cell_type": "code",
   "execution_count": null,
   "metadata": {},
   "outputs": [],
   "source": []
  },
  {
   "cell_type": "code",
   "execution_count": null,
   "metadata": {},
   "outputs": [],
   "source": []
  },
  {
   "cell_type": "code",
   "execution_count": null,
   "metadata": {},
   "outputs": [],
   "source": []
  },
  {
   "cell_type": "code",
   "execution_count": null,
   "metadata": {},
   "outputs": [],
   "source": []
  },
  {
   "cell_type": "code",
   "execution_count": null,
   "metadata": {},
   "outputs": [],
   "source": []
  },
  {
   "cell_type": "code",
   "execution_count": null,
   "metadata": {},
   "outputs": [],
   "source": []
  },
  {
   "cell_type": "code",
   "execution_count": null,
   "metadata": {},
   "outputs": [],
   "source": []
  },
  {
   "cell_type": "code",
   "execution_count": null,
   "metadata": {},
   "outputs": [],
   "source": []
  },
  {
   "cell_type": "code",
   "execution_count": null,
   "metadata": {},
   "outputs": [],
   "source": []
  },
  {
   "cell_type": "code",
   "execution_count": null,
   "metadata": {},
   "outputs": [],
   "source": []
  },
  {
   "cell_type": "code",
   "execution_count": null,
   "metadata": {},
   "outputs": [],
   "source": [
    "df=np.array([[1,1,0.1,11],\n",
    "             [1,2,0.2,12], \n",
    "             [1,3,0.3,13], \n",
    "             [1,4,0.4,14], \n",
    "             [2,5,0.5,15], \n",
    "             [2,6,0.6,16], \n",
    "             [2,7,0.7,17],\n",
    "             [3,8,0.8,18],\n",
    "             [3,9,0.9,19],\n",
    "             [3,10,0.7,20]])\n",
    "\n",
    "lookback=1\n",
    "batch_size=2\n",
    "offset = 1\n",
    "\n",
    "def window_split_2d(g, window):\n",
    "    shp = (g.shape[0] - window + 1, window, g.shape[-1])\n",
    "    strd = (g.strides[0], g.strides[0], g.strides[1])\n",
    "    return np.lib.stride_tricks.as_strided(g, shape=shp, strides=strd)\n",
    "\n",
    "def get_batches_vectorized(df, target, id_col_index, lookback, offset, batch_size):\n",
    "\n",
    "    #Break array into unequal length groups based on id_column\n",
    "    groups = np.split(df, np.where(np.diff(df[:,id_col_index]))[0]+1)\n",
    "    \n",
    "    #Get rolling windows over axis=0 using stride tricks\n",
    "    chunks = [window_split_2d(i,lookback+offset+1) for i in groups]\n",
    "    \n",
    "    #Stack all the windows into a block\n",
    "    block = np.vstack(chunks)\n",
    "    \n",
    "    #Calculate number of batches possible\n",
    "    n_batches = block.shape[0]//batch_size\n",
    "    \n",
    "    #Keep only the number of blocks that can successfully be stacked into equal sized batches\n",
    "    keep = block.shape[0]-(block.shape[0]%batch_size)\n",
    "    block = block[:keep]\n",
    "    \n",
    "    #Split block by num batches and get X\n",
    "    X = np.split(block[:,:lookback,1:], n_batches)\n",
    "\n",
    "    #Split block by num batches and get y\n",
    "    y = np.split(block[:,-1,target], n_batches)\n",
    "    return X, y"
   ]
  },
  {
   "cell_type": "code",
   "execution_count": null,
   "metadata": {},
   "outputs": [],
   "source": []
  },
  {
   "cell_type": "code",
   "execution_count": null,
   "metadata": {},
   "outputs": [],
   "source": [
    "def take(xs, runs, skip_size):\n",
    "    'https://stackoverflow.com/questions/65163947/iterate-over-a-list-based-on-list-based-on-a-list-of-steps'\n",
    "    ixs = iter(xs)\n",
    "    for run_size in runs:\n",
    "        for _ in range(run_size ):\n",
    "            yield next(ixs)\n",
    "        for _ in range(skip_size):\n",
    "            next(ixs)\n",
    "            \n",
    "def get_batch(df, target, lookback, offset, batch_size):\n",
    "    _ , c = np.unique(df[:,0], return_counts=True)\n",
    "    rows = (lookback+offset+1)\n",
    "    w = c-rows+1\n",
    "    itr = take(range(len(df)), w, lookback+offset)\n",
    "    while 1:\n",
    "        X, Y = [],[]\n",
    "        for _ in range(batch_size):\n",
    "            k = next(itr, 'out of batches!')\n",
    "            x = df[k:lookback+k, 1:]\n",
    "            y = df[rows+k-1:rows+k, target]\n",
    "            X.append(x)\n",
    "            Y.append(y)\n",
    "        try: yield np.stack(X), np.stack(Y)\n",
    "        except: break\n",
    "            \n",
    "            \n",
    "lookback = 1\n",
    "offset = 1\n",
    "batch_size = 1\n",
    "target = slice(2,4) #set the target as a slice instead of a separate df view\n",
    "\n",
    "windows = get_batch(df, target, lookback, offset, batch_size)\n",
    "\n",
    "no_batches = int(np.sum(np.unique(df[:,0], return_counts=True)[1] - lookback - offset)/batch_size)\n",
    "\n",
    "for i in range(no_batches):\n",
    "    input,output=next(windows)\n",
    "    print(\"{}th batch: \\ninput is:\\n{}\\n and \\ntarget is:\\n{}\\n\".format(i+1, input, output))"
   ]
  },
  {
   "cell_type": "code",
   "execution_count": null,
   "metadata": {},
   "outputs": [],
   "source": []
  },
  {
   "cell_type": "code",
   "execution_count": null,
   "metadata": {},
   "outputs": [],
   "source": [
    "def windowGeneratorByID(data, target, id_col_index, lookback, offset, batch_size=16):\n",
    "    min_index=0\n",
    "    max_index = data.shape[0]-offset\n",
    "    i = min_index + lookback\n",
    "    while 1:\n",
    "        if i + batch_size >= max_index:\n",
    "            i = min_index + lookback\n",
    "        rows = np.arange(i, min(i + batch_size, max_index))\n",
    "        i += len(rows)\n",
    "        samples = np.zeros((len(rows), lookback, data.shape[-1]))\n",
    "        targets = np.zeros((len(rows), target.shape[-1]))\n",
    "        print(samples, targets)\n",
    "        \n",
    "        for j, row in enumerate(rows):\n",
    "            indices = range(rows[j] - lookback, rows[j])\n",
    "            print(indices)\n",
    "            if data[rows[j] + offset][id_col_index] in set(data[indices][:, id_col_index]):\n",
    "                print(data[rows[j] + offset][id_col_index])\n",
    "                print(set(data[indices][:, id_col_index]))\n",
    "                if len(set(data[indices][:, id_col_index])) == 1:\n",
    "                    samples[j] = data[indices]\n",
    "                    targets[j] = target[rows[j] + offset]\n",
    "    \n",
    "        yield  np.delete(samples,id_col_index,axis=2) , targets"
   ]
  },
  {
   "cell_type": "code",
   "execution_count": null,
   "metadata": {
    "scrolled": false
   },
   "outputs": [],
   "source": [
    "lookback=1\n",
    "batch_size=1\n",
    "offset = 1\n",
    "windows = windowGeneratorByID(data=df, target=df[:,2:4],id_col_index=0 , offset=offset, lookback=lookback,batch_size=batch_size)\n",
    "\n",
    "#The number of total batches are equal to the number of (training examples - lookback-offset)/batch_size \n",
    "no_batches=int((df.shape[0]-lookback-offset)/batch_size)\n",
    "\n",
    "# #print the batches\n",
    "#for i in range(no_batches):\n",
    "  #get the next batch from the windowGenerator\n",
    "    #input,output=next(windows)\n",
    "    #rint(\"{}th batch: \\ninput is:\\n{}\\n and \\ntarget is:\\n{}\\n\".format(i+1, input, output))"
   ]
  },
  {
   "cell_type": "code",
   "execution_count": null,
   "metadata": {},
   "outputs": [],
   "source": []
  },
  {
   "cell_type": "code",
   "execution_count": null,
   "metadata": {},
   "outputs": [],
   "source": []
  },
  {
   "cell_type": "code",
   "execution_count": null,
   "metadata": {},
   "outputs": [],
   "source": []
  },
  {
   "cell_type": "code",
   "execution_count": null,
   "metadata": {},
   "outputs": [],
   "source": []
  },
  {
   "cell_type": "code",
   "execution_count": null,
   "metadata": {},
   "outputs": [],
   "source": []
  },
  {
   "cell_type": "code",
   "execution_count": null,
   "metadata": {},
   "outputs": [],
   "source": []
  },
  {
   "cell_type": "code",
   "execution_count": null,
   "metadata": {},
   "outputs": [],
   "source": []
  },
  {
   "cell_type": "code",
   "execution_count": null,
   "metadata": {},
   "outputs": [],
   "source": []
  },
  {
   "cell_type": "code",
   "execution_count": null,
   "metadata": {},
   "outputs": [],
   "source": []
  },
  {
   "cell_type": "code",
   "execution_count": null,
   "metadata": {},
   "outputs": [],
   "source": []
  },
  {
   "cell_type": "code",
   "execution_count": null,
   "metadata": {},
   "outputs": [],
   "source": [
    "import math\n",
    "import numpy\n",
    "\n",
    "a = '2 5 6 7'\n",
    "b = '4 9 10 12'\n",
    "\n",
    "a = np.array(list(map(int,a.split())))\n",
    "b = np.array(list(map(int,b.split())))\n",
    "\n",
    "def gcd(p,q):\n",
    "    while q != 0:\n",
    "        p, q = q, p%q\n",
    "    return p\n",
    "\n",
    "def is_coprime(x, y):\n",
    "    return gcd(x, y) == 1\n",
    "\n",
    "is_coprime_v = np.vectorize(is_coprime)\n",
    "compare = is_coprime_v(a[:, None], b[None, :])\n",
    "\n",
    "noncoprime_pairs = [(a[i],b[j]) for i,j in np.argwhere(~compare)]\n",
    "coprime_pairs = [(a[i],b[j]) for i,j in np.argwhere(compare)]\n",
    "\n",
    "print('non-coprime',noncoprime_pairs)\n",
    "print('coprime',coprime_pairs)\n",
    "\n",
    "non-coprime [(2, 4), (2, 10), (2, 12), (5, 10), (6, 4), (6, 9), (6, 10), (6, 12)]\n",
    "coprime [(2, 9), (5, 4), (5, 9), (5, 12), (7, 4), (7, 9), (7, 10), (7, 12)]"
   ]
  },
  {
   "cell_type": "code",
   "execution_count": null,
   "metadata": {},
   "outputs": [],
   "source": [
    "import math\n",
    "import numpy\n",
    "\n",
    "a = '2 5 6 7'\n",
    "b = '4 9 10 12'\n",
    "\n",
    "a = np.array(list(map(int,a.split())))\n",
    "b = np.array(list(map(int,b.split())))\n",
    "\n",
    "def f(x,y):\n",
    "    return math.gcd(x, y) == 1\n",
    "\n",
    "fv = np.vectorize(f)\n",
    "compare = fv(a[:, None], b[None, :])\n",
    "\n",
    "noncoprime_pairs = [(a[i],b[j]) for i,j in np.argwhere(~compare)]\n",
    "coprime_pairs = [(a[i],b[j]) for i,j in np.argwhere(compare)]\n",
    "\n",
    "print('non-coprime',noncoprime_pairs)\n",
    "print('coprime',coprime_pairs)"
   ]
  },
  {
   "cell_type": "code",
   "execution_count": null,
   "metadata": {},
   "outputs": [],
   "source": []
  },
  {
   "cell_type": "code",
   "execution_count": null,
   "metadata": {},
   "outputs": [],
   "source": []
  },
  {
   "cell_type": "code",
   "execution_count": null,
   "metadata": {},
   "outputs": [],
   "source": []
  },
  {
   "cell_type": "code",
   "execution_count": null,
   "metadata": {},
   "outputs": [],
   "source": []
  },
  {
   "cell_type": "code",
   "execution_count": null,
   "metadata": {},
   "outputs": [],
   "source": []
  },
  {
   "cell_type": "code",
   "execution_count": null,
   "metadata": {},
   "outputs": [],
   "source": []
  },
  {
   "cell_type": "code",
   "execution_count": null,
   "metadata": {},
   "outputs": [],
   "source": [
    "%%timeit\n",
    "\n",
    "import math\n",
    "import numpy\n",
    "\n",
    "a = '2 5 6 7'\n",
    "b = '4 9 10 12'\n",
    "\n",
    "a = np.array(list(map(int,a.split())))\n",
    "b = np.array(list(map(int,b.split())))\n",
    "\n",
    "def f(x,y):\n",
    "    return math.gcd(x, y) == 1\n",
    "\n",
    "fv = np.vectorize(f)\n",
    "compare = fv(a[:, None], b[None, :])\n",
    "\n",
    "noncoprime_pairs = [(a[i],b[j]) for i,j in np.argwhere(~compare)]"
   ]
  },
  {
   "cell_type": "code",
   "execution_count": null,
   "metadata": {},
   "outputs": [],
   "source": [
    "%%timeit\n",
    "\n",
    "import math\n",
    "from itertools import product\n",
    "\n",
    "a = '2 5 6 7'\n",
    "b = '4 9 10 12'\n",
    "\n",
    "a = np.array(list(map(int,a.split())))\n",
    "b = np.array(list(map(int,b.split())))\n",
    "\n",
    "#print(sum([math.gcd(x, y) != 1 for x, y in product(a, b)]))  # 8\n",
    "[(x, y) for x, y in product(a, b) if math.gcd(x, y) != 1]"
   ]
  },
  {
   "cell_type": "code",
   "execution_count": null,
   "metadata": {},
   "outputs": [],
   "source": []
  },
  {
   "cell_type": "code",
   "execution_count": null,
   "metadata": {},
   "outputs": [],
   "source": [
    "(2000, 1300), (1300, 800), (800, 600)"
   ]
  },
  {
   "cell_type": "code",
   "execution_count": null,
   "metadata": {},
   "outputs": [],
   "source": [
    "a = np.random.randint(0,2,(5,4))\n",
    "b = np.random.randint(0,2,(4,3))\n",
    "c = np.random.randint(0,2,(3,2))\n",
    "\n",
    "final_output = (a @ b @ c)\n",
    "final_output.shape\n",
    "\n",
    "#(2000, 600)"
   ]
  },
  {
   "cell_type": "code",
   "execution_count": null,
   "metadata": {},
   "outputs": [],
   "source": [
    "prod = a[:,None,:] * b.T[None,:,:]"
   ]
  },
  {
   "cell_type": "code",
   "execution_count": null,
   "metadata": {},
   "outputs": [],
   "source": [
    "prod.shape"
   ]
  },
  {
   "cell_type": "code",
   "execution_count": null,
   "metadata": {},
   "outputs": [],
   "source": [
    "c.shape"
   ]
  },
  {
   "cell_type": "code",
   "execution_count": null,
   "metadata": {},
   "outputs": [],
   "source": [
    "a[:,:,None].shape"
   ]
  },
  {
   "cell_type": "code",
   "execution_count": null,
   "metadata": {},
   "outputs": [],
   "source": [
    "b[None,:,:].shape"
   ]
  },
  {
   "cell_type": "code",
   "execution_count": null,
   "metadata": {},
   "outputs": [],
   "source": [
    "Lets talk about the problem statement with a toy example. \n",
    "\n",
    "Lets consider 3 binary matrices - \n",
    "\n",
    "```\n",
    "a = np.random.randint(0,2,(5,4)) #(5,4)\n",
    "b = np.random.randint(0,2,(4,3)) #(4,3)\n",
    "c = np.random.randint(0,2,(3,2)) #(3,2)\n",
    "```\n",
    "\n",
    "Now, lets build 'connections' the matrix `a` to matrix `b`. Lets take the second row of `a` and second column of `b`.\n",
    "```\n",
    "a_row2 = [1,1,0,0]\n",
    "b_col2 = [0,1,1,1]\n",
    "```\n",
    "According to the connections you mention, you basically take a elementwise product. \n",
    "```\n",
    "connection = [0,1,0,0]\n",
    "```\n",
    "\n",
    "Therefore, for each row in `a` (of which there are 5) and for each column in `b` (of which there are 3), you will get a 4 length `connection`. This means that your resulting matrix is going to be 5X3X4 (or 5X4X3 if you want to chain this operation with c)\n",
    "\n",
    "This can be done with broadcasting as - \n",
    "\n",
    "```\n",
    "connections_ab = a[:,:,None] * b[None,:,:]  \n",
    "#(5,4,1) * (1,4,3) -> (5,4,3)\n",
    "```\n",
    "\n",
    "Now, since we have another matrix `c` (3,2), we can again create `connections` between the previous output (5,4,3) and (3,2) to get (5,4,3,2).\n",
    "This can again be done with broadcasting.\n",
    "\n",
    "```\n",
    "connections_abc = connections_ab[:,:,:,None] * c[None,None,:,:] \n",
    "#(5,4,3,1) * (1,1,3,2) -> (5,4,3,2)\n",
    "```\n",
    "Performing all of this in a single step with broadcasting over `a`, `b` and `c` - \n",
    "\n",
    "```\n",
    "connections_abc = a[:,:,None,None] * b[None,:,:,None] * c[None, None, :, :]\n",
    "#(5,4,1,1) * (1,4,3,1) * (1,1,3,2) -> (5,4,3,2)\n",
    "```\n",
    "\n",
    "Now you can imagine the outer most dimensions as rows of `a` and columns of `b`, while the axis 1 and axis 2 represent connections between `a,b` and `b,c`.\n",
    "Transposing the `connections_abc` you can get the (4,3) matrix that shows how each row in `a` is connected to each column in `c`. \n",
    "\n",
    "```\n",
    "connections_abc2 = connections_abc.transpose(0,3,1,2)\n",
    "#(5,2,4,3)\n",
    "```\n",
    "\n",
    "So, if you want to know the `connections` for row 4 of `a` and row 1 of `b`. Then - \n",
    "\n",
    "```\n",
    "connections_abc2[4,1,:,:]\n",
    "```\n",
    "```\n",
    "array([[0, 0, 0],\n",
    "       [0, 0, 0],\n",
    "       [0, 0, 1],\n",
    "       [0, 0, 0]])\n",
    "```\n",
    "\n",
    "Hope that makes sense. \n"
   ]
  },
  {
   "cell_type": "code",
   "execution_count": null,
   "metadata": {},
   "outputs": [],
   "source": [
    "connections_abc2[4,1,:,:]"
   ]
  },
  {
   "cell_type": "code",
   "execution_count": null,
   "metadata": {},
   "outputs": [],
   "source": []
  },
  {
   "cell_type": "code",
   "execution_count": null,
   "metadata": {},
   "outputs": [],
   "source": [
    "connections_abc = a[:,:,None,None] * b[None,:,:,None] * c[None, None, :, :]"
   ]
  },
  {
   "cell_type": "code",
   "execution_count": null,
   "metadata": {},
   "outputs": [],
   "source": [
    "connections_abc2 = connections_abc.transpose(0,3,1,2)\n",
    "connections_abc2.shape"
   ]
  },
  {
   "cell_type": "code",
   "execution_count": null,
   "metadata": {},
   "outputs": [],
   "source": [
    "connections_ab = a[:,:,None] * b[None,:,:]  #(5,4,1) * (1,4,3) -> (5,4,3)\n",
    "connections_abc = connections_ab[:,:,:,None] * c[None,None,:,:] #(5,4,3,1) * (1,1,3,2) -> (5,4,3,2)"
   ]
  },
  {
   "cell_type": "code",
   "execution_count": null,
   "metadata": {},
   "outputs": [],
   "source": []
  },
  {
   "cell_type": "code",
   "execution_count": null,
   "metadata": {},
   "outputs": [],
   "source": []
  },
  {
   "cell_type": "code",
   "execution_count": null,
   "metadata": {},
   "outputs": [],
   "source": []
  },
  {
   "cell_type": "code",
   "execution_count": null,
   "metadata": {},
   "outputs": [],
   "source": []
  },
  {
   "cell_type": "code",
   "execution_count": null,
   "metadata": {},
   "outputs": [],
   "source": [
    "A = np.array([ 1.23853755+1.15170502j, -1.2041678 +1.38375402j,\n",
    "              1.28973689+1.2755069j ,  -1.29422454-1.28925842j,\n",
    "              -1.33236945-1.22467046j,  1.25472049+1.27488595j])\n",
    "\n",
    "coords = np.vstack([A.real, A.imag]).T\n",
    "\n",
    "labels = ['r+ij', '-r+ij', '-r-ij', 'r-ij']\n",
    "signs = np.array([[True,True], [False,True], [False,False], [True,False]]) #r+ij, -r+ij, -r-ij, r-ij\n",
    "\n",
    "boolean = np.all(~(signs[:,None]^np.where(coords>0,True,False)[None,:]), axis=-1) #XNOR with broadcasting\n",
    "\n",
    "#boolean - \n",
    "# [[ True False  True False False  True]\n",
    "#  [False  True False False False False]\n",
    "#  [False False False  True  True False]\n",
    "#  [False False False False False False]]\n",
    "\n",
    "output = {labels[i]:A[j] for i,j in enumerate(boolean)}\n",
    "output"
   ]
  },
  {
   "cell_type": "code",
   "execution_count": null,
   "metadata": {},
   "outputs": [],
   "source": []
  },
  {
   "cell_type": "code",
   "execution_count": null,
   "metadata": {},
   "outputs": [],
   "source": []
  },
  {
   "cell_type": "code",
   "execution_count": null,
   "metadata": {},
   "outputs": [],
   "source": []
  },
  {
   "cell_type": "code",
   "execution_count": null,
   "metadata": {},
   "outputs": [],
   "source": []
  },
  {
   "cell_type": "code",
   "execution_count": null,
   "metadata": {},
   "outputs": [],
   "source": []
  },
  {
   "cell_type": "code",
   "execution_count": null,
   "metadata": {},
   "outputs": [],
   "source": [
    "arr=np.array([[1., 2., 0.],\n",
    "               [2., 4., 1.],\n",
    "               [1., 3., 2.],\n",
    "               [-1., -2., 4.],\n",
    "               [-1., -2., 5.],\n",
    "               [1., 2., 6.]])\n",
    "\n",
    "mid = arr.shape[0]//2\n",
    "np.vstack([arr[mid:],arr[:mid]])\n",
    "\n",
    "array([[-1., -2.,  4.],\n",
    "       [-1., -2.,  5.],\n",
    "       [ 1.,  2.,  6.],\n",
    "       [ 1.,  2.,  0.],\n",
    "       [ 2.,  4.,  1.],\n",
    "       [ 1.,  3.,  2.]])\n"
   ]
  },
  {
   "cell_type": "code",
   "execution_count": null,
   "metadata": {},
   "outputs": [],
   "source": [
    "shp = 2, arr.shape[0]//2, arr.shape[1] #2,3,3\n",
    "strd = arr.strides[0]*3, arr.strides[0], arr.strides[1] #72,24,8 bytes\n",
    "\n",
    "chunks = np.lib.stride_tricks.as_strided(arr, shape=shp, strides=strd)\n",
    "np.vstack([chunks[1],chunks[0]])"
   ]
  },
  {
   "cell_type": "code",
   "execution_count": null,
   "metadata": {},
   "outputs": [],
   "source": []
  },
  {
   "cell_type": "code",
   "execution_count": null,
   "metadata": {},
   "outputs": [],
   "source": []
  },
  {
   "cell_type": "code",
   "execution_count": null,
   "metadata": {},
   "outputs": [],
   "source": []
  },
  {
   "cell_type": "code",
   "execution_count": null,
   "metadata": {},
   "outputs": [],
   "source": []
  },
  {
   "cell_type": "code",
   "execution_count": null,
   "metadata": {},
   "outputs": [],
   "source": []
  },
  {
   "cell_type": "code",
   "execution_count": null,
   "metadata": {},
   "outputs": [],
   "source": [
    "big_list=[np.array([[1., 1., 2.], [1., 1., 1.9], [1., 1., 5.2]]),\n",
    "          np.array([[1., 3., 5.1], [0., 0., 1.2], [1., 1., 1.4]])]\n",
    "\n",
    "small_list= [np.array([[-1., -1., -5.]]),\n",
    "             np.array([[-1., -1., -1.], [0., -2., -0.5]])]"
   ]
  },
  {
   "cell_type": "code",
   "execution_count": null,
   "metadata": {},
   "outputs": [],
   "source": [
    "merged= [np.array([[1., 1., 2.], [1., 1., 1.9], [-1., -1., -5.], [1., 1., 5.2]]),\n",
    "         np.array([[1., 3., 5.1], [-1., -1., -1.], [0., -2., -0.5], [0., 0., 1.2], [1., 1., 1.4]])]"
   ]
  },
  {
   "cell_type": "code",
   "execution_count": null,
   "metadata": {},
   "outputs": [],
   "source": [
    "merged = []\n",
    "for i in range(len(big_list)):\n",
    "    idx = np.argwhere(np.abs(np.diff(big_list[i][:,2]))>3)[0]+1\n",
    "    m = np.insert(big_list[i], idx, small_list[i], axis=0)\n",
    "    merged.append(m)\n",
    "    \n",
    "merged"
   ]
  },
  {
   "cell_type": "code",
   "execution_count": null,
   "metadata": {},
   "outputs": [],
   "source": [
    "np.argmax(np.abs(np.diff(big_list[i][:,2])))+1"
   ]
  },
  {
   "cell_type": "code",
   "execution_count": null,
   "metadata": {},
   "outputs": [],
   "source": [
    "big_list[i][:,2]"
   ]
  },
  {
   "cell_type": "code",
   "execution_count": null,
   "metadata": {},
   "outputs": [],
   "source": [
    "idx = np.argwhere(np.abs(np.diff(big_list[0][:,2]))>3)[0]+1\n",
    "idx"
   ]
  },
  {
   "cell_type": "code",
   "execution_count": null,
   "metadata": {},
   "outputs": [],
   "source": []
  },
  {
   "cell_type": "code",
   "execution_count": null,
   "metadata": {},
   "outputs": [],
   "source": []
  },
  {
   "cell_type": "code",
   "execution_count": null,
   "metadata": {},
   "outputs": [],
   "source": []
  },
  {
   "cell_type": "code",
   "execution_count": null,
   "metadata": {},
   "outputs": [],
   "source": []
  },
  {
   "cell_type": "code",
   "execution_count": null,
   "metadata": {},
   "outputs": [],
   "source": [
    "df = pd.read_clipboard()\n",
    "df"
   ]
  },
  {
   "cell_type": "code",
   "execution_count": null,
   "metadata": {},
   "outputs": [],
   "source": [
    "df.groupby(['Document','Date','Key']).transform(lambda x: x['Schedule'])"
   ]
  },
  {
   "cell_type": "code",
   "execution_count": null,
   "metadata": {},
   "outputs": [],
   "source": []
  },
  {
   "cell_type": "code",
   "execution_count": null,
   "metadata": {},
   "outputs": [],
   "source": [
    "2.3, 2.7, 1.7, 0.5, 0.1, 0.6, 1.6"
   ]
  },
  {
   "cell_type": "code",
   "execution_count": null,
   "metadata": {},
   "outputs": [],
   "source": [
    "arr = np.array([0.1, 1, 1.2, 0.5, -0.3, -0.2, 0.1, 0.5, 1])\n",
    "\n",
    "arr"
   ]
  },
  {
   "cell_type": "code",
   "execution_count": null,
   "metadata": {},
   "outputs": [],
   "source": [
    "arr.shape"
   ]
  },
  {
   "cell_type": "code",
   "execution_count": null,
   "metadata": {},
   "outputs": [],
   "source": []
  },
  {
   "cell_type": "code",
   "execution_count": null,
   "metadata": {},
   "outputs": [],
   "source": [
    "arr = np.array([0.1, 1, 1.2, 0.5, -0.3, -0.2, 0.1, 0.5, 1])\n",
    "w = 3  #rolling window\n",
    "arr[arr<0]=0\n",
    "shape = arr.shape[0]-w+1, w\n",
    "strides = arr.strides[0]*2, arr.strides[0]\n",
    "rolling = np.lib.stride_tricks.as_strided(arr, shape=shape, strides=strides)\n",
    "#rolling_sum = np.sum(rolling, axis=1)\n",
    "print(rolling)"
   ]
  },
  {
   "cell_type": "code",
   "execution_count": null,
   "metadata": {},
   "outputs": [],
   "source": [
    "np.correlate(arr.clip(0), np.ones(3), mode='valid')"
   ]
  },
  {
   "cell_type": "code",
   "execution_count": null,
   "metadata": {},
   "outputs": [],
   "source": []
  },
  {
   "cell_type": "code",
   "execution_count": null,
   "metadata": {},
   "outputs": [],
   "source": []
  },
  {
   "cell_type": "code",
   "execution_count": null,
   "metadata": {},
   "outputs": [],
   "source": []
  },
  {
   "cell_type": "code",
   "execution_count": null,
   "metadata": {},
   "outputs": [],
   "source": []
  },
  {
   "cell_type": "code",
   "execution_count": null,
   "metadata": {},
   "outputs": [],
   "source": [
    "df = pd.read_clipboard()\n",
    "df"
   ]
  },
  {
   "cell_type": "code",
   "execution_count": null,
   "metadata": {},
   "outputs": [],
   "source": [
    "'foo//,'.replace('\\\\,',',')"
   ]
  },
  {
   "cell_type": "code",
   "execution_count": null,
   "metadata": {},
   "outputs": [],
   "source": [
    "def fix(s):\n",
    "    if s['B']=='cherry':\n",
    "        s['A']=s['A'].replace('//,',',')\n",
    "    return s\n",
    "\n",
    "print(df.apply(fix, axis=1))"
   ]
  },
  {
   "cell_type": "code",
   "execution_count": null,
   "metadata": {},
   "outputs": [],
   "source": []
  },
  {
   "cell_type": "code",
   "execution_count": null,
   "metadata": {},
   "outputs": [],
   "source": []
  },
  {
   "cell_type": "code",
   "execution_count": null,
   "metadata": {},
   "outputs": [],
   "source": []
  },
  {
   "cell_type": "code",
   "execution_count": null,
   "metadata": {},
   "outputs": [],
   "source": []
  },
  {
   "cell_type": "code",
   "execution_count": null,
   "metadata": {},
   "outputs": [],
   "source": [
    "df['qty'][4]"
   ]
  },
  {
   "cell_type": "code",
   "execution_count": null,
   "metadata": {},
   "outputs": [],
   "source": []
  },
  {
   "cell_type": "code",
   "execution_count": null,
   "metadata": {},
   "outputs": [],
   "source": [
    "df = pd.read_clipboard('\\s\\s+')\n",
    "\n",
    "def fix(row):\n",
    "    if pd.isnull(row['qty']):\n",
    "        row['qty']=row['Item'][-1:]\n",
    "        row['Item']=row['Item'][:-1].strip()\n",
    "    return row\n",
    "\n",
    "print(df.apply(fix, axis=1))"
   ]
  },
  {
   "cell_type": "code",
   "execution_count": null,
   "metadata": {},
   "outputs": [],
   "source": []
  },
  {
   "cell_type": "code",
   "execution_count": null,
   "metadata": {},
   "outputs": [],
   "source": [
    "np.diag()"
   ]
  },
  {
   "cell_type": "code",
   "execution_count": null,
   "metadata": {},
   "outputs": [],
   "source": [
    "X = np.array([37., 42., 31., 27., 37.])\n",
    "Y = np.array([52., 57., 62., 68., 69.])\n",
    "XY = np.stack([X,Y]).T"
   ]
  },
  {
   "cell_type": "code",
   "execution_count": null,
   "metadata": {},
   "outputs": [],
   "source": [
    "%%timeit\n",
    "np.sum(np.sqrt(np.sum(np.square(np.diff(np.vstack([XY,XY[0]]), axis=0)), axis=-1)))"
   ]
  },
  {
   "cell_type": "code",
   "execution_count": null,
   "metadata": {},
   "outputs": [],
   "source": [
    "%%timeit\n",
    "pairwise = np.sqrt(np.sum(np.square(np.subtract(XY[:,None,:],XY[None,:,:])), axis=-1))\n",
    "total = np.sum(np.diag(pairwise,k=1))+pairwise[0,-1]"
   ]
  },
  {
   "cell_type": "code",
   "execution_count": null,
   "metadata": {},
   "outputs": [],
   "source": [
    "%%timeit\n",
    "\n",
    "\n",
    "sum1 = euclidean(XY[0],XY[-1])\n",
    "\n",
    "\n",
    "for i in range(len(XY)-1):\n",
    "    sum1 += euclidean(XY[i],XY[i+1])"
   ]
  },
  {
   "cell_type": "code",
   "execution_count": null,
   "metadata": {},
   "outputs": [],
   "source": [
    "%%timeit\n",
    "\n",
    "from functools import reduce\n",
    "from operator import add\n",
    "\n",
    "def euclidean_distance(p1, p2): \n",
    "     return sum((p1 - p2) ** 2) ** .5\n",
    "reduce(add, [euclidean_distance(p1, p2) for p1, p2 in zip(XY, XY[1:])])"
   ]
  },
  {
   "cell_type": "code",
   "execution_count": null,
   "metadata": {},
   "outputs": [],
   "source": [
    "%%timeit\n",
    "\n",
    "# find the differences, prepend the last value at the front\n",
    "diff = np.diff(XY, axis=0, prepend=XY[-1].reshape((1, -1)))\n",
    "\n",
    "# raise to the power of 2 and sum\n",
    "ss = np.power(diff, 2).sum(axis=1)\n",
    "\n",
    "# find the square root and sum\n",
    "res = np.sqrt(ss).sum()"
   ]
  },
  {
   "cell_type": "code",
   "execution_count": null,
   "metadata": {},
   "outputs": [],
   "source": [
    "%%timeit\n",
    "\n",
    "np.linalg.norm(XY - np.roll(XY, -1, axis=0), axis=1).sum()"
   ]
  },
  {
   "cell_type": "code",
   "execution_count": null,
   "metadata": {},
   "outputs": [],
   "source": []
  },
  {
   "cell_type": "code",
   "execution_count": null,
   "metadata": {},
   "outputs": [],
   "source": []
  },
  {
   "cell_type": "code",
   "execution_count": null,
   "metadata": {},
   "outputs": [],
   "source": [
    "#%%timeit\n",
    "diff = np.diff(XY, axis=0)\n",
    "# [[5. 5.]] (42 - 37) (57 - 52)\n",
    "\n",
    "ss = np.power(diff, 2).sum(axis=1)\n",
    "# [50.] 5^2 + 5^2\n",
    "\n",
    "res = np.sqrt(ss).sum()\n",
    "# 7.0710678118654755 \n",
    "\n",
    "res"
   ]
  },
  {
   "cell_type": "code",
   "execution_count": null,
   "metadata": {},
   "outputs": [],
   "source": []
  },
  {
   "cell_type": "code",
   "execution_count": null,
   "metadata": {},
   "outputs": [],
   "source": [
    "pairwise"
   ]
  },
  {
   "cell_type": "code",
   "execution_count": null,
   "metadata": {},
   "outputs": [],
   "source": []
  },
  {
   "cell_type": "code",
   "execution_count": null,
   "metadata": {},
   "outputs": [],
   "source": []
  },
  {
   "cell_type": "code",
   "execution_count": null,
   "metadata": {},
   "outputs": [],
   "source": []
  },
  {
   "cell_type": "code",
   "execution_count": null,
   "metadata": {},
   "outputs": [],
   "source": [
    "from scipy.spatial.distance import euclidean\n",
    "\n",
    "X = np.array([37., 42., 31., 27., 37.])\n",
    "\n",
    "Y = np.array([52., 57., 62., 68., 69.])\n",
    "XY = np.array((X, Y)).T    \n",
    "sum1 = euclidean(XY[0],XY[-1])\n",
    "\n",
    "\n",
    "for i in range(len(XY)-1):\n",
    "    sum1 += euclidean(XY[i],XY[i+1])"
   ]
  },
  {
   "cell_type": "code",
   "execution_count": null,
   "metadata": {},
   "outputs": [],
   "source": [
    "sum1"
   ]
  },
  {
   "cell_type": "code",
   "execution_count": null,
   "metadata": {},
   "outputs": [],
   "source": []
  },
  {
   "cell_type": "code",
   "execution_count": null,
   "metadata": {},
   "outputs": [],
   "source": [
    "X = np.random.random(1000)\n",
    "Y = np.random.random(1000)"
   ]
  },
  {
   "cell_type": "code",
   "execution_count": null,
   "metadata": {},
   "outputs": [],
   "source": [
    "def distance_charel(X, Y):\n",
    "    N = len(X)\n",
    "    T = 0\n",
    "    oldx, oldy = X[-1], Y[-1]\n",
    "    for x, y in zip(X, Y):\n",
    "        T += np.linalg.norm((np.array([x,y])-np.array([oldx,oldy])))\n",
    "        oldx = x\n",
    "        oldy = y\n",
    "    return T\n",
    "\n",
    "def distance_dani(X, Y):\n",
    "    XY = np.array((X, Y)).T\n",
    "    diff = np.diff(XY, axis=0, prepend=XY[-1].reshape((1, -1)))\n",
    "    ss = np.power(diff, 2).sum(axis=1)\n",
    "    res = np.sqrt(ss).sum()\n",
    "    return res\n",
    "\n",
    "def distance_akshay(X, Y):\n",
    "    XY = np.array((X, Y)).T\n",
    "    pairwise = np.sqrt(np.sum(np.square(np.subtract(XY[:,None,:],XY[None,:,:])), axis=-1))\n",
    "    return np.sum(np.diag(pairwise,k=1))+pairwise[0,-1]\n",
    "    #return np.sum(np.sqrt(np.sum(np.square(np.diff(np.vstack([XY,XY[0]]), axis=0)), axis=-1)))\n",
    "\n",
    "def distance_gwang(X, Y):\n",
    "    XY = np.array((X, Y)).T\n",
    "    return sum([sum((p1 - p2) ** 2) ** .5 for p1, p2 in zip(XY, XY[1:])])\n",
    "\n",
    "def d\n",
    "\n",
    "print(distance_charel(X, Y))\n",
    "print(distance_dani(X, Y))\n",
    "print(distance_akshay(X, Y))\n",
    "print(distance_gwang(X, Y))  # I think it misses the distance between last and first element\n",
    "%timeit distance_charel(X, Y)\n",
    "%timeit distance_dani(X, Y)\n",
    "%timeit distance_akshay(X, Y)\n",
    "%timeit distance_gwang(X, Y)"
   ]
  },
  {
   "cell_type": "code",
   "execution_count": null,
   "metadata": {},
   "outputs": [],
   "source": []
  },
  {
   "cell_type": "code",
   "execution_count": null,
   "metadata": {},
   "outputs": [],
   "source": []
  },
  {
   "cell_type": "code",
   "execution_count": null,
   "metadata": {},
   "outputs": [],
   "source": []
  },
  {
   "cell_type": "code",
   "execution_count": null,
   "metadata": {},
   "outputs": [],
   "source": []
  },
  {
   "cell_type": "code",
   "execution_count": null,
   "metadata": {},
   "outputs": [],
   "source": [
    "import numpy as np\n",
    "\n",
    "m = np.array([[5,3,  6,7,  3,7],\n",
    "              [5,4,  5,1,  4,5],\n",
    "              [5,4,  2,4,  4,6],\n",
    "              [2,2,  2,3,  8,5],\n",
    "              [2,7,  8,7,  1,2],\n",
    "              [2,7,  8,7,  3,2],\n",
    "              [2,7,  8,7,  4,2]]) \n",
    "\n",
    "n = np.array([[1,3,  6,7,  1,12],\n",
    "              [2,4,  2,9,  4,9],\n",
    "              [1,5,  5,12, 9,1],\n",
    "              [5,4,  5,6,  9,5],\n",
    "              [5,4,  1,4,  1,5],\n",
    "              [5,4,  1,7,  9,5],\n",
    "              [5,4,  1,5,  4,11]])\n",
    "\n",
    "\n",
    "mm = m.reshape(m.shape[0],-1,2) #(7,3,2)\n",
    "nn = n.reshape(m.shape[0],-1,2) #(7,3,2)\n",
    "\n",
    "#broadcast((7,3,1,2,1), (7,1,3,1,2)) -> (7,3,3,2,2) -> (7,3,3)\n",
    "matches_m = np.any(mm[:,:,None,:,None] == mm[:,None,:,None,:], axis=(-1,-2))  #(7,3,3)\n",
    "matches_n = np.any(nn[:,:,None,:,None] == nn[:,None,:,None,:], axis=(-1,-2))  #(7,3,3)\n",
    "\n",
    "mask = ~np.eye(mm.shape[1], dtype=bool)[None,:]  #(1,3,3)\n",
    "\n",
    "is_valid1 = np.all(np.any(matches_m&mask, axis=-1), axis=-1)  #(7,)\n",
    "is_valid2 = np.all(~(matches_m^matches_n)|matches_n, axis=(-1,-2)) #(7,)\n",
    "\n",
    "m[is_valid1 & is_valid2]"
   ]
  },
  {
   "cell_type": "markdown",
   "metadata": {},
   "source": [
    "Apply the same first 4 steps to get the matches matrix (7,3,3) for n.\n",
    "\n",
    "Here, any match that exists in m MUST exist in n, but any match that exists in n is not needed in m. Therefore, you can simply use the match matrix of m as a boolean index for n to get where all match_m is True, is match_n True as well.\n",
    "\n",
    "This gives you the TEST2."
   ]
  },
  {
   "cell_type": "code",
   "execution_count": null,
   "metadata": {},
   "outputs": [],
   "source": [
    "is_valid2"
   ]
  },
  {
   "cell_type": "code",
   "execution_count": null,
   "metadata": {},
   "outputs": [],
   "source": [
    "a = np.array([True, False, True, False])\n",
    "b = np.array([True, True, False, False])\n",
    "\n",
    "\n",
    "~(a^b)|b\n",
    "\n",
    "array([ True,  True, False,  True])\n",
    "\n",
    "#array([ True, True,  False,  True])\n",
    "\n",
    "#If a and b have match then True\n",
    "#If a doesnt have match but b has then False\n",
    "#If a has match but b doesnt have match then True"
   ]
  },
  {
   "cell_type": "code",
   "execution_count": null,
   "metadata": {},
   "outputs": [],
   "source": []
  },
  {
   "cell_type": "code",
   "execution_count": null,
   "metadata": {},
   "outputs": [],
   "source": [
    "b = matches_n[0]\n",
    "b"
   ]
  },
  {
   "cell_type": "code",
   "execution_count": null,
   "metadata": {},
   "outputs": [],
   "source": [
    "a = matches_m[0]\n",
    "a"
   ]
  },
  {
   "cell_type": "code",
   "execution_count": null,
   "metadata": {},
   "outputs": [],
   "source": [
    "a==(a&b|b)"
   ]
  },
  {
   "cell_type": "code",
   "execution_count": null,
   "metadata": {},
   "outputs": [],
   "source": []
  },
  {
   "cell_type": "code",
   "execution_count": null,
   "metadata": {},
   "outputs": [],
   "source": [
    "np.any((a&b|b)&mask[0], axis=-1)"
   ]
  },
  {
   "cell_type": "code",
   "execution_count": null,
   "metadata": {},
   "outputs": [],
   "source": [
    "matches_m[3]"
   ]
  },
  {
   "cell_type": "code",
   "execution_count": null,
   "metadata": {},
   "outputs": [],
   "source": [
    "matches_n[3]"
   ]
  },
  {
   "cell_type": "code",
   "execution_count": null,
   "metadata": {},
   "outputs": [],
   "source": []
  },
  {
   "cell_type": "code",
   "execution_count": null,
   "metadata": {},
   "outputs": [],
   "source": [
    "matches_n.flatten()"
   ]
  },
  {
   "cell_type": "code",
   "execution_count": null,
   "metadata": {},
   "outputs": [],
   "source": []
  },
  {
   "cell_type": "code",
   "execution_count": null,
   "metadata": {},
   "outputs": [],
   "source": []
  },
  {
   "cell_type": "code",
   "execution_count": null,
   "metadata": {},
   "outputs": [],
   "source": []
  },
  {
   "cell_type": "code",
   "execution_count": null,
   "metadata": {},
   "outputs": [],
   "source": [
    "x = 5\n",
    "y = 7"
   ]
  },
  {
   "cell_type": "code",
   "execution_count": null,
   "metadata": {},
   "outputs": [],
   "source": [
    "points = [\n",
    "    [[x,y], [x,y], [x,y]],\n",
    "    [[x,y], [x,y], [x,y], [x,y], [x,y]],\n",
    "    [[x,y]]\n",
    "]\n",
    "\n",
    "weights = [1, 2, 3]\n",
    "\n",
    "[[k+[weights[i]] for k in j] for i,j in enumerate(points)]\n",
    "\n",
    "[[[5, 7, 1], [5, 7, 1], [5, 7, 1]],\n",
    " [[5, 7, 2], [5, 7, 2], [5, 7, 2], [5, 7, 2], [5, 7, 2]],\n",
    " [[5, 7, 3]]]"
   ]
  },
  {
   "cell_type": "code",
   "execution_count": null,
   "metadata": {},
   "outputs": [],
   "source": []
  },
  {
   "cell_type": "code",
   "execution_count": null,
   "metadata": {},
   "outputs": [],
   "source": []
  },
  {
   "cell_type": "code",
   "execution_count": null,
   "metadata": {},
   "outputs": [],
   "source": [
    "\n"
   ]
  },
  {
   "cell_type": "code",
   "execution_count": null,
   "metadata": {},
   "outputs": [],
   "source": [
    "l = [[1, 4, 5], [4, 6, 8], [8, 3, 10]]\n",
    "\n",
    "for i in l:\n",
    "    print(i)\n",
    "    \n",
    "[1, 4, 5]\n",
    "[4, 6, 8]\n",
    "[8, 3, 10]\n",
    "\n",
    "import numpy as np\n",
    "print(np.array(l))\n",
    "[[ 1  4  5]\n",
    " [ 4  6  8]\n",
    " [ 8  3 10]]"
   ]
  },
  {
   "cell_type": "code",
   "execution_count": null,
   "metadata": {},
   "outputs": [],
   "source": []
  },
  {
   "cell_type": "code",
   "execution_count": null,
   "metadata": {},
   "outputs": [],
   "source": []
  },
  {
   "cell_type": "code",
   "execution_count": null,
   "metadata": {},
   "outputs": [],
   "source": [
    "list1 = [3, 54, 11, 17]\n",
    "list2 = [54, 3, 23, 17, 11, 50, 17]\n",
    "\n",
    "x = [i for i in list2 if i in list1]\n",
    "x"
   ]
  },
  {
   "cell_type": "code",
   "execution_count": null,
   "metadata": {},
   "outputs": [],
   "source": []
  },
  {
   "cell_type": "code",
   "execution_count": null,
   "metadata": {},
   "outputs": [],
   "source": []
  },
  {
   "cell_type": "code",
   "execution_count": null,
   "metadata": {},
   "outputs": [],
   "source": []
  },
  {
   "cell_type": "code",
   "execution_count": null,
   "metadata": {},
   "outputs": [],
   "source": [
    "rawdata = {'portfolio': ['port1', 'port2', 'port1', 'port2'],\n",
    "        'portfolioname': ['portfolioone', 'portfoliotwo', 'portfolioone', 'portfoliotwo'],\n",
    "        'date': ['04/12/2020', '04/12/2020', '04/12/2020', '04/12/2020'],\n",
    "        'code': ['ABC', 'ABC', 'XYZ', 'XYZ'],\n",
    "        'quantity': [2, 3, 10, 11],\n",
    "        'price': [1.5, 1.5, 0.2, 0.2],\n",
    "        'value': [3, 4.5, 2, 2.2],\n",
    "        'weight': [.6, .67, .4, .328]}\n",
    "\n",
    "df1 = pd.DataFrame(rawdata)\n",
    "df1"
   ]
  },
  {
   "cell_type": "code",
   "execution_count": null,
   "metadata": {},
   "outputs": [],
   "source": [
    "def pfix(s):\n",
    "    if "
   ]
  },
  {
   "cell_type": "code",
   "execution_count": null,
   "metadata": {},
   "outputs": [],
   "source": [
    "word2int = {'one': 1, \n",
    "             'two': 2, \n",
    "             'three': 3, \n",
    "             'four': 4, \n",
    "             'five': 5, \n",
    "             'six': 6, \n",
    "             'seven': 7, \n",
    "             'eight': 8, \n",
    "             'nine': 9, \n",
    "             'zero' : 0}\n",
    "\n",
    "int2word = {v:k for k,v in word2int.items()}\n",
    "\n",
    "g = {'portfolio':lambda x: 'port'+str(sum([int(i[-1]) for i in x])),\n",
    "     'portfolioname':lambda x: 'portfolio'+int2word.get(sum([word2int.get(i[9:]) for i in x])),\n",
    "     'date':'first',\n",
    "     'quantity':'sum',\n",
    "     'price':'mean',\n",
    "     'value':'sum',\n",
    "     'weight':'mean'}\n",
    "\n",
    "df1.groupby(['code']).agg(g).reset_index()\n",
    "\n",
    "  code portfolio   portfolioname        date  quantity  price  value  weight\n",
    "0  ABC     port3  portfoliothree  04/12/2020         5    1.5    7.5   0.635\n",
    "1  XYZ     port3  portfoliothree  04/12/2020        21    0.2    4.2   0.364"
   ]
  },
  {
   "cell_type": "code",
   "execution_count": null,
   "metadata": {},
   "outputs": [],
   "source": []
  },
  {
   "cell_type": "code",
   "execution_count": null,
   "metadata": {},
   "outputs": [],
   "source": [
    "finisheddata = {'portfolio': ['port3', 'port3'],\n",
    "        'portfolioname': ['portfoliothree', 'portfoliothree'],\n",
    "        'date': ['04/12/2020', '04/12/2020'],\n",
    "        'code': ['ABC', 'XYZ'],\n",
    "        'quantity': [5, 21],\n",
    "        'price': [1.5, 0.2],\n",
    "        'value': [7.5, 4.2],\n",
    "        'weight': [.64, .36]}\n",
    "\n",
    "df2 = pd.DataFrame(finisheddata)\n",
    "df2"
   ]
  },
  {
   "cell_type": "code",
   "execution_count": null,
   "metadata": {},
   "outputs": [],
   "source": []
  },
  {
   "cell_type": "code",
   "execution_count": null,
   "metadata": {},
   "outputs": [],
   "source": []
  },
  {
   "cell_type": "code",
   "execution_count": null,
   "metadata": {},
   "outputs": [],
   "source": []
  },
  {
   "cell_type": "code",
   "execution_count": null,
   "metadata": {},
   "outputs": [],
   "source": [
    "\n",
    "import tensorflow as tf\n",
    "inp = tf.keras.layers.Input(shape=(1,))\n",
    "x = tf.keras.layers.Reshape((-1,1))(inp)\n",
    "#x = tf.expand_dims(inp, axis=-1)\n",
    "#x = inp[...,tf.newaxis]\n",
    "decoder_input = inp\n",
    "output = tf.concat([inp, decoder_input], 1)\n",
    "model = tf.keras.models.Model(inp, output)\n",
    "\n",
    "model.summary()"
   ]
  },
  {
   "cell_type": "code",
   "execution_count": null,
   "metadata": {},
   "outputs": [],
   "source": []
  },
  {
   "cell_type": "code",
   "execution_count": null,
   "metadata": {},
   "outputs": [],
   "source": []
  },
  {
   "cell_type": "code",
   "execution_count": null,
   "metadata": {},
   "outputs": [],
   "source": []
  },
  {
   "cell_type": "code",
   "execution_count": null,
   "metadata": {},
   "outputs": [],
   "source": []
  },
  {
   "cell_type": "code",
   "execution_count": null,
   "metadata": {},
   "outputs": [],
   "source": [
    "import math\n",
    " \n",
    "shades = ('.',':','!','*','o','e','&','#','%','@')\n",
    " \n",
    "def normalize(v):\n",
    "    len = math.sqrt(v[0]**2 + v[1]**2 + v[2]**2)\n",
    "    return (v[0]/len, v[1]/len, v[2]/len)\n",
    " \n",
    "def dot(x,y):\n",
    "    d = x[0]*y[0] + x[1]*y[1] + x[2]*y[2]\n",
    "    return -d if d < 0 else 0\n",
    " \n",
    "def draw_sphere(r, k, ambient, light):\n",
    "    for i in range(int(math.floor(-r)),int(math.ceil(r)+1)):\n",
    "        x = i + 0.5\n",
    "        line = ''\n",
    " \n",
    "        for j in range(int(math.floor(-2*r)),int(math.ceil(2*r)+1)):\n",
    "            y = j/2 + 0.5\n",
    "            if x*x + y*y <= r*r:\n",
    "                vec = normalize((x,y,math.sqrt(r*r - x*x - y*y)))\n",
    "                b = dot(light,vec)**k + ambient\n",
    "                intensity = int((1-b)*(len(shades)-1))\n",
    "                line += shades[intensity] if 0 <= intensity < len(shades) else shades[0]\n",
    "            else:\n",
    "                line += ' '\n",
    " \n",
    "        print(line)\n",
    " \n",
    "light = normalize((30,30,-50))\n",
    "draw_sphere(20,4,0.1, light)"
   ]
  },
  {
   "cell_type": "code",
   "execution_count": null,
   "metadata": {},
   "outputs": [],
   "source": []
  },
  {
   "cell_type": "code",
   "execution_count": null,
   "metadata": {},
   "outputs": [],
   "source": []
  },
  {
   "cell_type": "code",
   "execution_count": null,
   "metadata": {},
   "outputs": [],
   "source": []
  },
  {
   "cell_type": "code",
   "execution_count": null,
   "metadata": {},
   "outputs": [],
   "source": [
    "X, y = np.random.random((10,5)), np.random.random((10,))"
   ]
  },
  {
   "cell_type": "code",
   "execution_count": null,
   "metadata": {},
   "outputs": [],
   "source": [
    "from tensorflow.keras import layers, Model, callbacks\n",
    "\n",
    "class CustomCallback(callbacks.Callback):\n",
    "    def on_epoch_end(self, epoch, logs=None):\n",
    "        print(' ')\n",
    "        print(' ')\n",
    "        print(model.layers[1].get_weights())\n",
    "        \n",
    "\n",
    "inp = layers.Input((5,))\n",
    "x = layers.Dense(3)(inp)\n",
    "out = layers.Dense(1)(x)\n",
    "\n",
    "model = Model(inp, out)\n",
    "\n",
    "model.compile(loss='MAE',metrics=['accuracy'])\n",
    "model.fit(X,y,callbacks=[CustomCallback()], epochs=3)"
   ]
  },
  {
   "cell_type": "code",
   "execution_count": null,
   "metadata": {},
   "outputs": [],
   "source": []
  },
  {
   "cell_type": "code",
   "execution_count": null,
   "metadata": {},
   "outputs": [],
   "source": []
  },
  {
   "cell_type": "code",
   "execution_count": null,
   "metadata": {},
   "outputs": [],
   "source": []
  },
  {
   "cell_type": "code",
   "execution_count": null,
   "metadata": {},
   "outputs": [],
   "source": [
    "from scipy import spatial\n",
    "import gensim.downloader as api\n",
    "\n",
    "model = api.load(\"glove-wiki-gigaword-50\")"
   ]
  },
  {
   "cell_type": "code",
   "execution_count": null,
   "metadata": {
    "scrolled": true
   },
   "outputs": [],
   "source": []
  },
  {
   "cell_type": "code",
   "execution_count": null,
   "metadata": {},
   "outputs": [],
   "source": [
    "model.most_similar(\"cat\")"
   ]
  },
  {
   "cell_type": "code",
   "execution_count": null,
   "metadata": {},
   "outputs": [],
   "source": [
    "model['cat']"
   ]
  },
  {
   "cell_type": "code",
   "execution_count": null,
   "metadata": {},
   "outputs": [],
   "source": [
    "from scipy import spatial\n",
    "import gensim.downloader as api\n",
    "\n",
    "model = api.load(\"glove-wiki-gigaword-50\") #choose from multiple models https://github.com/RaRe-Technologies/gensim-data\n",
    "\n",
    "s0 = 'Mark zuckerberg owns the facebook company'\n",
    "s1 = 'Facebook company ceo is mark zuckerberg'\n",
    "s2 = 'Microsoft is owned by Bill gates'\n",
    "s3 = 'How to learn japanese'\n",
    "\n",
    "def preprocess(s):\n",
    "    return [i.lower() for i in s.split()]\n",
    "\n",
    "def get_vector(s):\n",
    "    return np.sum(np.array([model[i] for i in preprocess(s)]), axis=0)\n",
    "\n",
    "\n",
    "print('s0 vs s1 ->',1 - spatial.distance.cosine(get_vector(s0), get_vector(s1)))\n",
    "print('s0 vs s2 ->', 1 - spatial.distance.cosine(get_vector(s0), get_vector(s2)))\n",
    "print('s0 vs s3 ->', 1 - spatial.distance.cosine(get_vector(s0), get_vector(s3)))"
   ]
  },
  {
   "cell_type": "code",
   "execution_count": null,
   "metadata": {},
   "outputs": [],
   "source": []
  },
  {
   "cell_type": "code",
   "execution_count": null,
   "metadata": {},
   "outputs": [],
   "source": []
  },
  {
   "cell_type": "code",
   "execution_count": null,
   "metadata": {},
   "outputs": [],
   "source": [
    "get_vector(s1)"
   ]
  },
  {
   "cell_type": "code",
   "execution_count": null,
   "metadata": {},
   "outputs": [],
   "source": []
  },
  {
   "cell_type": "code",
   "execution_count": null,
   "metadata": {},
   "outputs": [],
   "source": []
  },
  {
   "cell_type": "code",
   "execution_count": null,
   "metadata": {},
   "outputs": [],
   "source": []
  },
  {
   "cell_type": "code",
   "execution_count": null,
   "metadata": {},
   "outputs": [],
   "source": [
    "(84,36) (84,36,210,45)"
   ]
  },
  {
   "cell_type": "code",
   "execution_count": null,
   "metadata": {},
   "outputs": [],
   "source": [
    "a = np.random.random((84,36))\n",
    "b = np.random.random((84,36,210,45))\n",
    "\n",
    "c = b.transpose(2,3,0,1) + a\n",
    "c = c.transpose(2,3,0,1)\n",
    "c.shape\n",
    "\n",
    "(84, 36, 210, 45)\n",
    "\n",
    "c = a[...,None, None] + b\n",
    "c.shape"
   ]
  },
  {
   "cell_type": "code",
   "execution_count": null,
   "metadata": {},
   "outputs": [],
   "source": [
    "import numpy as np"
   ]
  },
  {
   "cell_type": "code",
   "execution_count": null,
   "metadata": {},
   "outputs": [],
   "source": [
    "c = a[...,None, None] + b\n",
    "c.shape"
   ]
  },
  {
   "cell_type": "code",
   "execution_count": null,
   "metadata": {},
   "outputs": [],
   "source": [
    "a = np.random.random((840,36))\n",
    "b = np.random.random((840,36,210,45))"
   ]
  },
  {
   "cell_type": "code",
   "execution_count": null,
   "metadata": {},
   "outputs": [],
   "source": [
    "%%timeit\n",
    "(b.transpose(2,3,0,1) + a).transpose(2,3,0,1)"
   ]
  },
  {
   "cell_type": "code",
   "execution_count": null,
   "metadata": {},
   "outputs": [],
   "source": [
    "%%timeit\n",
    "a[...,None, None] + b"
   ]
  },
  {
   "cell_type": "code",
   "execution_count": null,
   "metadata": {},
   "outputs": [],
   "source": []
  },
  {
   "cell_type": "code",
   "execution_count": null,
   "metadata": {},
   "outputs": [],
   "source": []
  },
  {
   "cell_type": "code",
   "execution_count": null,
   "metadata": {},
   "outputs": [],
   "source": []
  },
  {
   "cell_type": "code",
   "execution_count": null,
   "metadata": {},
   "outputs": [],
   "source": []
  },
  {
   "cell_type": "code",
   "execution_count": null,
   "metadata": {},
   "outputs": [],
   "source": [
    "import re\n",
    "\n",
    "genome = \"GCTAGCTAGCTAGCTGACGCGATCGATGCTAGTTTCGGTGCGCTtAAAAAAGCTTGCATGAAGGCTAGCTA\"\n",
    "primer = \"AGCTGANNNNNTCGATGC\"\n",
    "\n",
    "reg = '[A-Z]+'.join([i for i in primer.split('N') if len(i)>0])\n",
    "\n",
    "idx = re.search(reg, genome).span()\n",
    "\n",
    "print(genome)\n",
    "print(''.join((['_']*idx[0])+list(primer)+(['_']*(len(genome)-idx[1]))))"
   ]
  },
  {
   "cell_type": "code",
   "execution_count": null,
   "metadata": {},
   "outputs": [],
   "source": [
    "idx"
   ]
  },
  {
   "cell_type": "code",
   "execution_count": null,
   "metadata": {},
   "outputs": [],
   "source": []
  },
  {
   "cell_type": "code",
   "execution_count": 2,
   "metadata": {},
   "outputs": [
    {
     "name": "stdout",
     "output_type": "stream",
     "text": [
      "4\n",
      "1\n",
      "22\n",
      "333\n"
     ]
    }
   ],
   "source": [
    "for i in range(1,int(input())):\n",
    "    print(*[i]*i, sep = \"\") "
   ]
  },
  {
   "cell_type": "code",
   "execution_count": 4,
   "metadata": {},
   "outputs": [],
   "source": [
    "import numpy as np"
   ]
  },
  {
   "cell_type": "code",
   "execution_count": 5,
   "metadata": {},
   "outputs": [],
   "source": [
    "A = np.random.random((10,10))"
   ]
  },
  {
   "cell_type": "code",
   "execution_count": 7,
   "metadata": {},
   "outputs": [
    {
     "ename": "ValueError",
     "evalue": "invalid number of arguments",
     "output_type": "error",
     "traceback": [
      "\u001b[0;31m---------------------------------------------------------------------------\u001b[0m",
      "\u001b[0;31mValueError\u001b[0m                                Traceback (most recent call last)",
      "\u001b[0;32m<ipython-input-7-33f324057f1d>\u001b[0m in \u001b[0;36m<module>\u001b[0;34m\u001b[0m\n\u001b[0;32m----> 1\u001b[0;31m \u001b[0mcovariance\u001b[0m \u001b[0;34m=\u001b[0m \u001b[0mnp\u001b[0m\u001b[0;34m.\u001b[0m\u001b[0mmatmul\u001b[0m\u001b[0;34m(\u001b[0m\u001b[0mA\u001b[0m\u001b[0;34m,\u001b[0m \u001b[0mnp\u001b[0m\u001b[0;34m.\u001b[0m\u001b[0mtranspose\u001b[0m\u001b[0;34m(\u001b[0m\u001b[0mA\u001b[0m\u001b[0;34m)\u001b[0m\u001b[0;34m)\u001b[0m \u001b[0;34m/\u001b[0m \u001b[0;34m(\u001b[0m\u001b[0mnp\u001b[0m\u001b[0;34m.\u001b[0m\u001b[0mmatmul\u001b[0m\u001b[0;34m(\u001b[0m\u001b[0mnp\u001b[0m\u001b[0;34m.\u001b[0m\u001b[0mdot\u001b[0m\u001b[0;34m(\u001b[0m\u001b[0mA\u001b[0m\u001b[0;34m,\u001b[0m \u001b[0mnp\u001b[0m\u001b[0;34m.\u001b[0m\u001b[0mtranspose\u001b[0m\u001b[0;34m(\u001b[0m\u001b[0mA\u001b[0m\u001b[0;34m)\u001b[0m\u001b[0;34m)\u001b[0m\u001b[0;34m)\u001b[0m\u001b[0;34m)\u001b[0m\u001b[0;34m\u001b[0m\u001b[0;34m\u001b[0m\u001b[0m\n\u001b[0m\u001b[1;32m      2\u001b[0m \u001b[0mcovariance\u001b[0m\u001b[0;34m\u001b[0m\u001b[0;34m\u001b[0m\u001b[0m\n",
      "\u001b[0;31mValueError\u001b[0m: invalid number of arguments"
     ]
    }
   ],
   "source": [
    "covariance = np.matmul(A, np.transpose(A)) / (np.matmul(np.dot(A, np.transpose(A))))\n",
    "covariance"
   ]
  },
  {
   "cell_type": "code",
   "execution_count": 8,
   "metadata": {},
   "outputs": [
    {
     "data": {
      "text/plain": [
       "array([[ 0.10853557,  0.01929256,  0.00954158, -0.00794658, -0.00791169,\n",
       "         0.00611973,  0.01565745,  0.03271472,  0.00861337, -0.01697939],\n",
       "       [ 0.01929256,  0.07967162, -0.00217917, -0.04906408,  0.01744324,\n",
       "         0.01606904,  0.01117259, -0.02408023,  0.03616033, -0.01818961],\n",
       "       [ 0.00954158, -0.00217917,  0.1065416 ,  0.00445259, -0.00587653,\n",
       "         0.02932955, -0.01809237, -0.04799165, -0.00610039,  0.03159512],\n",
       "       [-0.00794658, -0.04906408,  0.00445259,  0.10712343, -0.06236525,\n",
       "         0.00795802, -0.06050063,  0.02553102, -0.02010926,  0.01578749],\n",
       "       [-0.00791169,  0.01744324, -0.00587653, -0.06236525,  0.07659316,\n",
       "        -0.00845212,  0.01726666, -0.04445887,  0.00892494,  0.026926  ],\n",
       "       [ 0.00611973,  0.01606904,  0.02932955,  0.00795802, -0.00845212,\n",
       "         0.09131461, -0.00081991,  0.01987169,  0.01976261, -0.0185913 ],\n",
       "       [ 0.01565745,  0.01117259, -0.01809237, -0.06050063,  0.01726666,\n",
       "        -0.00081991,  0.09821293, -0.00377872,  0.00594163, -0.01671744],\n",
       "       [ 0.03271472, -0.02408023, -0.04799165,  0.02553102, -0.04445887,\n",
       "         0.01987169, -0.00377872,  0.14171976, -0.03231298, -0.0677666 ],\n",
       "       [ 0.00861337,  0.03616033, -0.00610039, -0.02010926,  0.00892494,\n",
       "         0.01976261,  0.00594163, -0.03231298,  0.04807083, -0.01217969],\n",
       "       [-0.01697939, -0.01818961,  0.03159512,  0.01578749,  0.026926  ,\n",
       "        -0.0185913 , -0.01671744, -0.0677666 , -0.01217969,  0.06354905]])"
      ]
     },
     "execution_count": 8,
     "metadata": {},
     "output_type": "execute_result"
    }
   ],
   "source": [
    "np.cov(A)"
   ]
  },
  {
   "cell_type": "code",
   "execution_count": null,
   "metadata": {},
   "outputs": [],
   "source": []
  },
  {
   "cell_type": "code",
   "execution_count": null,
   "metadata": {},
   "outputs": [],
   "source": []
  },
  {
   "cell_type": "code",
   "execution_count": null,
   "metadata": {},
   "outputs": [],
   "source": []
  },
  {
   "cell_type": "code",
   "execution_count": null,
   "metadata": {},
   "outputs": [],
   "source": []
  }
 ],
 "metadata": {
  "kernelspec": {
   "display_name": "Python 3",
   "language": "python",
   "name": "python3"
  },
  "language_info": {
   "codemirror_mode": {
    "name": "ipython",
    "version": 3
   },
   "file_extension": ".py",
   "mimetype": "text/x-python",
   "name": "python",
   "nbconvert_exporter": "python",
   "pygments_lexer": "ipython3",
   "version": "3.8.3"
  }
 },
 "nbformat": 4,
 "nbformat_minor": 4
}
