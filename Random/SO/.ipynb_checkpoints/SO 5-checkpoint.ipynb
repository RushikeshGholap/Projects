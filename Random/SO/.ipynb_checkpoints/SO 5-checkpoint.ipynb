{
 "cells": [
  {
   "cell_type": "code",
   "execution_count": 2,
   "metadata": {},
   "outputs": [],
   "source": [
    "import pandas as pd\n",
    "import numpy as np"
   ]
  },
  {
   "cell_type": "code",
   "execution_count": 3,
   "metadata": {},
   "outputs": [],
   "source": [
    "def ciphertextFor(text, key):\n",
    "    cpt = []\n",
    "    for i in range(len(text)):\n",
    "        cpt.append(chr((ord(text[i])+ord(key[i])) % 26+65))\n",
    "    return ''.join(cpt)"
   ]
  },
  {
   "cell_type": "code",
   "execution_count": 5,
   "metadata": {},
   "outputs": [
    {
     "data": {
      "text/plain": [
       "'MHGAIDWNXE'"
      ]
     },
     "execution_count": 5,
     "metadata": {},
     "output_type": "execute_result"
    }
   ],
   "source": [
    "ciphertextFor('ajshwhsuhe','amchaksheo')"
   ]
  },
  {
   "cell_type": "code",
   "execution_count": 7,
   "metadata": {},
   "outputs": [],
   "source": []
  },
  {
   "cell_type": "code",
   "execution_count": 9,
   "metadata": {},
   "outputs": [
    {
     "data": {
      "text/plain": [
       "'MHGAIDWNXE'"
      ]
     },
     "execution_count": 9,
     "metadata": {},
     "output_type": "execute_result"
    }
   ],
   "source": [
    "''.join([chr((ord(text[i])+ord(key[i])) % 26+65) for i in range(len(text))])"
   ]
  },
  {
   "cell_type": "code",
   "execution_count": 24,
   "metadata": {},
   "outputs": [
    {
     "name": "stdout",
     "output_type": "stream",
     "text": [
      "                                             0\n",
      "0  {'this': 1, 'is': 2, 'an': 3, 'example': 4}\n",
      "1  {'this': 1, 'is': 2, 'an': 3, 'example': 4}\n",
      "2  {'this': 1, 'is': 2, 'an': 3, 'example': 4}\n",
      "3  {'this': 1, 'is': 2, 'an': 3, 'example': 4}\n",
      "4  {'this': 1, 'is': 2, 'an': 3, 'example': 4}\n"
     ]
    }
   ],
   "source": [
    "length = 5\n",
    "a = {'this':1, 'is':2, 'an':3, 'example':4}\n",
    "\n",
    "out = pd.DataFrame({0:[a] * 5})\n",
    "print(out)\n",
    "\n",
    "                                             0\n",
    "0  {'this': 1, 'is': 2, 'an': 3, 'example': 4}\n",
    "1  {'this': 1, 'is': 2, 'an': 3, 'example': 4}\n",
    "2  {'this': 1, 'is': 2, 'an': 3, 'example': 4}\n",
    "3  {'this': 1, 'is': 2, 'an': 3, 'example': 4}\n",
    "4  {'this': 1, 'is': 2, 'an': 3, 'example': 4}"
   ]
  },
  {
   "cell_type": "code",
   "execution_count": 22,
   "metadata": {},
   "outputs": [
    {
     "data": {
      "text/html": [
       "<div>\n",
       "<style scoped>\n",
       "    .dataframe tbody tr th:only-of-type {\n",
       "        vertical-align: middle;\n",
       "    }\n",
       "\n",
       "    .dataframe tbody tr th {\n",
       "        vertical-align: top;\n",
       "    }\n",
       "\n",
       "    .dataframe thead th {\n",
       "        text-align: right;\n",
       "    }\n",
       "</style>\n",
       "<table border=\"1\" class=\"dataframe\">\n",
       "  <thead>\n",
       "    <tr style=\"text-align: right;\">\n",
       "      <th></th>\n",
       "      <th>0</th>\n",
       "    </tr>\n",
       "  </thead>\n",
       "  <tbody>\n",
       "    <tr>\n",
       "      <th>0</th>\n",
       "      <td>{'this': 1, 'is': 2, 'an': 3, 'example': 4}</td>\n",
       "    </tr>\n",
       "    <tr>\n",
       "      <th>1</th>\n",
       "      <td>{'this': 1, 'is': 2, 'an': 3, 'example': 4}</td>\n",
       "    </tr>\n",
       "    <tr>\n",
       "      <th>2</th>\n",
       "      <td>{'this': 1, 'is': 2, 'an': 3, 'example': 4}</td>\n",
       "    </tr>\n",
       "    <tr>\n",
       "      <th>3</th>\n",
       "      <td>{'this': 1, 'is': 2, 'an': 3, 'example': 4}</td>\n",
       "    </tr>\n",
       "    <tr>\n",
       "      <th>4</th>\n",
       "      <td>{'this': 1, 'is': 2, 'an': 3, 'example': 4}</td>\n",
       "    </tr>\n",
       "  </tbody>\n",
       "</table>\n",
       "</div>"
      ],
      "text/plain": [
       "                                             0\n",
       "0  {'this': 1, 'is': 2, 'an': 3, 'example': 4}\n",
       "1  {'this': 1, 'is': 2, 'an': 3, 'example': 4}\n",
       "2  {'this': 1, 'is': 2, 'an': 3, 'example': 4}\n",
       "3  {'this': 1, 'is': 2, 'an': 3, 'example': 4}\n",
       "4  {'this': 1, 'is': 2, 'an': 3, 'example': 4}"
      ]
     },
     "execution_count": 22,
     "metadata": {},
     "output_type": "execute_result"
    }
   ],
   "source": []
  },
  {
   "cell_type": "code",
   "execution_count": null,
   "metadata": {},
   "outputs": [],
   "source": []
  },
  {
   "cell_type": "code",
   "execution_count": null,
   "metadata": {},
   "outputs": [],
   "source": []
  },
  {
   "cell_type": "code",
   "execution_count": 25,
   "metadata": {},
   "outputs": [],
   "source": [
    "text, key = 'ajshwhsuhe','amchaksheo'"
   ]
  },
  {
   "cell_type": "code",
   "execution_count": 31,
   "metadata": {},
   "outputs": [
    {
     "name": "stdout",
     "output_type": "stream",
     "text": [
      "3.35 µs ± 113 ns per loop (mean ± std. dev. of 7 runs, 100000 loops each)\n"
     ]
    }
   ],
   "source": [
    "%timeit ''.join(chr((ord(text[i])+ord(key[i])) % 26+65) for i in range(len(text)))"
   ]
  },
  {
   "cell_type": "code",
   "execution_count": 32,
   "metadata": {},
   "outputs": [
    {
     "name": "stdout",
     "output_type": "stream",
     "text": [
      "2.95 µs ± 12.5 ns per loop (mean ± std. dev. of 7 runs, 100000 loops each)\n"
     ]
    }
   ],
   "source": [
    "%timeit ''.join(chr((ord(x)+ord(y)) % 26+65) for x,y in zip(text, key))"
   ]
  },
  {
   "cell_type": "code",
   "execution_count": null,
   "metadata": {},
   "outputs": [],
   "source": []
  }
 ],
 "metadata": {
  "kernelspec": {
   "display_name": "Python 3",
   "language": "python",
   "name": "python3"
  },
  "language_info": {
   "codemirror_mode": {
    "name": "ipython",
    "version": 3
   },
   "file_extension": ".py",
   "mimetype": "text/x-python",
   "name": "python",
   "nbconvert_exporter": "python",
   "pygments_lexer": "ipython3",
   "version": "3.7.3"
  }
 },
 "nbformat": 4,
 "nbformat_minor": 2
}
