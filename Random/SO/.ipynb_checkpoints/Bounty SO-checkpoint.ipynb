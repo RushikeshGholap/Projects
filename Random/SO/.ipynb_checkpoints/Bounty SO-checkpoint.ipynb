{
 "cells": [
  {
   "cell_type": "code",
   "execution_count": 30,
   "metadata": {},
   "outputs": [],
   "source": [
    "import numpy as np\n",
    "import pandas as pd\n",
    "import missingno as msno\n",
    "from sklearn.preprocessing import scale\n",
    "from sklearn.ensemble import RandomForestRegressor\n",
    "import matplotlib.pyplot as plt\n",
    "\n",
    "%matplotlib inline"
   ]
  },
  {
   "cell_type": "code",
   "execution_count": 2,
   "metadata": {},
   "outputs": [],
   "source": [
    "df = pd.read_excel('so_data.xlsx')"
   ]
  },
  {
   "cell_type": "code",
   "execution_count": 3,
   "metadata": {},
   "outputs": [
    {
     "data": {
      "text/html": [
       "<div>\n",
       "<style scoped>\n",
       "    .dataframe tbody tr th:only-of-type {\n",
       "        vertical-align: middle;\n",
       "    }\n",
       "\n",
       "    .dataframe tbody tr th {\n",
       "        vertical-align: top;\n",
       "    }\n",
       "\n",
       "    .dataframe thead th {\n",
       "        text-align: right;\n",
       "    }\n",
       "</style>\n",
       "<table border=\"1\" class=\"dataframe\">\n",
       "  <thead>\n",
       "    <tr style=\"text-align: right;\">\n",
       "      <th></th>\n",
       "      <th>product</th>\n",
       "      <th>season</th>\n",
       "      <th>discount_percentage</th>\n",
       "      <th>sales_uplift_norm</th>\n",
       "    </tr>\n",
       "  </thead>\n",
       "  <tbody>\n",
       "    <tr>\n",
       "      <th>0</th>\n",
       "      <td>A</td>\n",
       "      <td>summer</td>\n",
       "      <td>0.266667</td>\n",
       "      <td>-0.144010</td>\n",
       "    </tr>\n",
       "    <tr>\n",
       "      <th>1</th>\n",
       "      <td>A</td>\n",
       "      <td>summer</td>\n",
       "      <td>0.266667</td>\n",
       "      <td>0.317256</td>\n",
       "    </tr>\n",
       "    <tr>\n",
       "      <th>2</th>\n",
       "      <td>A</td>\n",
       "      <td>winter</td>\n",
       "      <td>0.266667</td>\n",
       "      <td>0.084408</td>\n",
       "    </tr>\n",
       "    <tr>\n",
       "      <th>3</th>\n",
       "      <td>A</td>\n",
       "      <td>monsoon</td>\n",
       "      <td>0.100000</td>\n",
       "      <td>0.122893</td>\n",
       "    </tr>\n",
       "    <tr>\n",
       "      <th>4</th>\n",
       "      <td>A</td>\n",
       "      <td>winter</td>\n",
       "      <td>0.100000</td>\n",
       "      <td>-0.154395</td>\n",
       "    </tr>\n",
       "    <tr>\n",
       "      <th>...</th>\n",
       "      <td>...</td>\n",
       "      <td>...</td>\n",
       "      <td>...</td>\n",
       "      <td>...</td>\n",
       "    </tr>\n",
       "    <tr>\n",
       "      <th>556</th>\n",
       "      <td>C</td>\n",
       "      <td>monsoon</td>\n",
       "      <td>0.266667</td>\n",
       "      <td>-0.152529</td>\n",
       "    </tr>\n",
       "    <tr>\n",
       "      <th>557</th>\n",
       "      <td>C</td>\n",
       "      <td>summer</td>\n",
       "      <td>0.111111</td>\n",
       "      <td>0.140318</td>\n",
       "    </tr>\n",
       "    <tr>\n",
       "      <th>558</th>\n",
       "      <td>C</td>\n",
       "      <td>monsoon</td>\n",
       "      <td>0.111111</td>\n",
       "      <td>0.132683</td>\n",
       "    </tr>\n",
       "    <tr>\n",
       "      <th>559</th>\n",
       "      <td>C</td>\n",
       "      <td>summer</td>\n",
       "      <td>0.388889</td>\n",
       "      <td>0.233849</td>\n",
       "    </tr>\n",
       "    <tr>\n",
       "      <th>560</th>\n",
       "      <td>C</td>\n",
       "      <td>winter</td>\n",
       "      <td>0.222222</td>\n",
       "      <td>0.139098</td>\n",
       "    </tr>\n",
       "  </tbody>\n",
       "</table>\n",
       "<p>561 rows × 4 columns</p>\n",
       "</div>"
      ],
      "text/plain": [
       "    product   season  discount_percentage  sales_uplift_norm\n",
       "0         A   summer             0.266667          -0.144010\n",
       "1         A   summer             0.266667           0.317256\n",
       "2         A   winter             0.266667           0.084408\n",
       "3         A  monsoon             0.100000           0.122893\n",
       "4         A   winter             0.100000          -0.154395\n",
       "..      ...      ...                  ...                ...\n",
       "556       C  monsoon             0.266667          -0.152529\n",
       "557       C   summer             0.111111           0.140318\n",
       "558       C  monsoon             0.111111           0.132683\n",
       "559       C   summer             0.388889           0.233849\n",
       "560       C   winter             0.222222           0.139098\n",
       "\n",
       "[561 rows x 4 columns]"
      ]
     },
     "execution_count": 3,
     "metadata": {},
     "output_type": "execute_result"
    }
   ],
   "source": [
    "df"
   ]
  },
  {
   "cell_type": "code",
   "execution_count": 4,
   "metadata": {},
   "outputs": [],
   "source": [
    "def pre_process_data(df,product):\n",
    "    data = df.copy().reset_index()\n",
    "#     print(data)\n",
    "    bp = product\n",
    "    print(\"----------product: {}----------\".format(bp))\n",
    "    # Pre-processing steps\n",
    "    print(\"pre process df.shape {}\".format(df.shape))\n",
    "        #1. Reponse var transformation\n",
    "    response = data.sales_uplift_norm # already transformed\n",
    "\n",
    "        #2. predictor numeric var transformation \n",
    "    numeric_vars = ['discount_percentage'] # may include mrp, depth\n",
    "    df_numeric = data[numeric_vars]\n",
    "    df_norm = df_numeric.apply(lambda x: scale(x), axis = 0) # center and scale\n",
    "\n",
    "        #3. char fields dummification\n",
    "    #select category fields\n",
    "    cat_cols = data.select_dtypes('category').columns\n",
    "    #select string fields\n",
    "    str_to_cat_cols = data.drop(['product'], axis = 1).select_dtypes('object').astype('category').columns\n",
    "    # combine all categorical fields\n",
    "    all_cat_cols = [*cat_cols,*str_to_cat_cols]\n",
    "#     print(all_cat_cols)\n",
    "\n",
    "    #convert cat to dummies\n",
    "    df_dummies = pd.get_dummies(data[all_cat_cols])\n",
    "\n",
    "        #4. combine num and char df together\n",
    "    df_combined = pd.concat([df_dummies.reset_index(drop=True), df_norm.reset_index(drop=True)], axis=1)\n",
    "    \n",
    "    df_combined['sales_uplift_norm'] = response\n",
    "    df_processed = df_combined.copy()\n",
    "    print(\"post process df.shape {}\".format(df_processed.shape))\n",
    "#     print(\"model fields: {}\".format(df_processed.columns))\n",
    "    return(df_processed)\n",
    "\n",
    "\n",
    "def rf_fit(df, random_state = 12):\n",
    "    \n",
    "    train_features = df.drop('sales_uplift_norm', axis = 1)\n",
    "    train_labels = df['sales_uplift_norm']\n",
    "    \n",
    "    # Random Forest Regressor\n",
    "    rf = RandomForestRegressor(n_estimators = 500,\n",
    "                               random_state = random_state,\n",
    "                               bootstrap = True,\n",
    "                               oob_score=True)\n",
    "    # RF model\n",
    "    rf_fit = rf.fit(train_features, train_labels)\n",
    "\n",
    "    return(rf_fit)"
   ]
  },
  {
   "cell_type": "code",
   "execution_count": 5,
   "metadata": {},
   "outputs": [
    {
     "name": "stdout",
     "output_type": "stream",
     "text": [
      "----------product: A----------\n",
      "pre process df.shape (561, 4)\n",
      "post process df.shape (561, 5)\n"
     ]
    }
   ],
   "source": [
    "dd = pre_process_data(df,'A')"
   ]
  },
  {
   "cell_type": "code",
   "execution_count": 6,
   "metadata": {},
   "outputs": [],
   "source": [
    "rfa = rf_fit(dd)"
   ]
  },
  {
   "cell_type": "code",
   "execution_count": null,
   "metadata": {},
   "outputs": [],
   "source": []
  },
  {
   "cell_type": "code",
   "execution_count": 7,
   "metadata": {},
   "outputs": [
    {
     "data": {
      "text/plain": [
       "0.2547495330403349"
      ]
     },
     "execution_count": 7,
     "metadata": {},
     "output_type": "execute_result"
    }
   ],
   "source": [
    "rfa.score(dd[dd.columns[:-1]], dd[dd.columns[-1:]])"
   ]
  },
  {
   "cell_type": "code",
   "execution_count": null,
   "metadata": {},
   "outputs": [],
   "source": []
  },
  {
   "cell_type": "code",
   "execution_count": 8,
   "metadata": {},
   "outputs": [],
   "source": [
    "from tensorflow.keras.layers import Dense, Input\n",
    "from tensorflow.keras.models import Model\n",
    "from tensorflow.keras.activations import relu"
   ]
  },
  {
   "cell_type": "code",
   "execution_count": 9,
   "metadata": {},
   "outputs": [],
   "source": [
    "train_features = dd.drop('sales_uplift_norm', axis = 1).to_numpy()\n",
    "train_labels = dd['sales_uplift_norm'].to_numpy()"
   ]
  },
  {
   "cell_type": "code",
   "execution_count": 10,
   "metadata": {},
   "outputs": [
    {
     "data": {
      "text/plain": [
       "(561, 4)"
      ]
     },
     "execution_count": 10,
     "metadata": {},
     "output_type": "execute_result"
    }
   ],
   "source": [
    "train_features.shape"
   ]
  },
  {
   "cell_type": "code",
   "execution_count": 13,
   "metadata": {},
   "outputs": [
    {
     "name": "stdout",
     "output_type": "stream",
     "text": [
      "Model: \"functional_3\"\n",
      "_________________________________________________________________\n",
      "Layer (type)                 Output Shape              Param #   \n",
      "=================================================================\n",
      "input_2 (InputLayer)         [(None, 4)]               0         \n",
      "_________________________________________________________________\n",
      "dense_3 (Dense)              (None, 6)                 30        \n",
      "_________________________________________________________________\n",
      "dense_4 (Dense)              (None, 6)                 42        \n",
      "_________________________________________________________________\n",
      "dense_5 (Dense)              (None, 1)                 7         \n",
      "=================================================================\n",
      "Total params: 79\n",
      "Trainable params: 79\n",
      "Non-trainable params: 0\n",
      "_________________________________________________________________\n"
     ]
    }
   ],
   "source": [
    "inp = Input(shape=(4,))\n",
    "x = Dense(6, activation=relu)(inp)\n",
    "x = Dense(6, activation=relu)(x)\n",
    "out = Dense(1)(x)\n",
    "\n",
    "model = Model(inp, out)\n",
    "model.summary()"
   ]
  },
  {
   "cell_type": "code",
   "execution_count": 28,
   "metadata": {},
   "outputs": [],
   "source": [
    "model.compile(optimizer='rmsprop',loss='mse', metrics='accuracy')\n",
    "model.fit(train_features, train_labels, epochs=10)"
   ]
  },
  {
   "cell_type": "code",
   "execution_count": 26,
   "metadata": {},
   "outputs": [
    {
     "data": {
      "text/plain": [
       "array([[ 0.6263983 , -0.53436553, -0.75924736,  0.20317674, -0.41735935,\n",
       "        -0.44787022],\n",
       "       [ 0.22142923, -0.61395985,  0.44862485,  0.7127708 ,  0.6143671 ,\n",
       "        -0.28417382],\n",
       "       [-0.17884833,  0.7507889 ,  0.61793447,  0.68952596, -0.09700739,\n",
       "         0.47548485],\n",
       "       [-0.31446475,  0.5164157 , -0.5096545 , -0.49994653,  0.33174765,\n",
       "        -0.6019063 ]], dtype=float32)"
      ]
     },
     "execution_count": 26,
     "metadata": {},
     "output_type": "execute_result"
    }
   ],
   "source": [
    "model.layers[1].get_weights()[0]"
   ]
  },
  {
   "cell_type": "code",
   "execution_count": null,
   "metadata": {},
   "outputs": [],
   "source": []
  },
  {
   "cell_type": "code",
   "execution_count": null,
   "metadata": {},
   "outputs": [],
   "source": []
  }
 ],
 "metadata": {
  "kernelspec": {
   "display_name": "Python 3",
   "language": "python",
   "name": "python3"
  },
  "language_info": {
   "codemirror_mode": {
    "name": "ipython",
    "version": 3
   },
   "file_extension": ".py",
   "mimetype": "text/x-python",
   "name": "python",
   "nbconvert_exporter": "python",
   "pygments_lexer": "ipython3",
   "version": "3.7.3"
  }
 },
 "nbformat": 4,
 "nbformat_minor": 2
}
