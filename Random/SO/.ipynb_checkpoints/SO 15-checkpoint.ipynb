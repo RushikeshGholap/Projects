{
 "cells": [
  {
   "cell_type": "code",
   "execution_count": null,
   "metadata": {},
   "outputs": [],
   "source": [
    "import itertools\n",
    "imageList = ['1.jpg','2.jpg','3.jpg','4.jpg','5.jpg','6.jpg','7.jpg','8.jpg','9.jpg','10.jpg']\n",
    "\n",
    "image_generator = (i for i in itertools.product(imageList,repeat=2) if i[0]!=i[1])\n",
    "\n",
    "for i in range(8):\n",
    "    print(next(image_generator))"
   ]
  },
  {
   "cell_type": "code",
   "execution_count": null,
   "metadata": {},
   "outputs": [],
   "source": [
    "def image_generator(imageList, shuffle=True):\n",
    "    "
   ]
  },
  {
   "cell_type": "code",
   "execution_count": null,
   "metadata": {},
   "outputs": [],
   "source": [
    "from heapq import nlargest\n",
    "\n",
    "def sample_from_iterable(it):\n",
    "    return (x for _, x in (random.random(), x) for x in it)"
   ]
  },
  {
   "cell_type": "code",
   "execution_count": null,
   "metadata": {},
   "outputs": [],
   "source": []
  },
  {
   "cell_type": "code",
   "execution_count": null,
   "metadata": {},
   "outputs": [],
   "source": [
    "import random"
   ]
  },
  {
   "cell_type": "code",
   "execution_count": null,
   "metadata": {},
   "outputs": [],
   "source": [
    "import random\n",
    "import itertools\n",
    "\n",
    "def image_generator(iterable, groups, samplesize):\n",
    "    grouped = (i for i in itertools.product(imageList,repeat=2) if i[0]!=i[1])\n",
    "    return random.sample(list(grouped), samplesize)\n",
    "\n",
    "image_generator(imageList, 2, 8)\n",
    "\n",
    "[('8.jpg', '7.jpg'),\n",
    " ('7.jpg', '10.jpg'),\n",
    " ('7.jpg', '2.jpg'),\n",
    " ('6.jpg', '7.jpg'),\n",
    " ('5.jpg', '3.jpg'),\n",
    " ('2.jpg', '1.jpg'),\n",
    " ('10.jpg', '5.jpg'),\n",
    " ('9.jpg', '10.jpg')]"
   ]
  },
  {
   "cell_type": "code",
   "execution_count": null,
   "metadata": {},
   "outputs": [],
   "source": []
  },
  {
   "cell_type": "code",
   "execution_count": null,
   "metadata": {},
   "outputs": [],
   "source": []
  },
  {
   "cell_type": "code",
   "execution_count": null,
   "metadata": {},
   "outputs": [],
   "source": []
  },
  {
   "cell_type": "code",
   "execution_count": null,
   "metadata": {},
   "outputs": [],
   "source": []
  },
  {
   "cell_type": "code",
   "execution_count": null,
   "metadata": {},
   "outputs": [],
   "source": [
    "%%timeit\n",
    "random.shuffle(imageList)\n",
    "for _ in range(2):\n",
    "    i=0\n",
    "    while(i<8):\n",
    "        a = imageList[i], imageList[i+1]\n",
    "        i+=2"
   ]
  },
  {
   "cell_type": "code",
   "execution_count": null,
   "metadata": {},
   "outputs": [],
   "source": [
    "%%timeit\n",
    "\n",
    "def image_generator(l):\n",
    "    while True:\n",
    "        random.shuffle(l)\n",
    "        yield l[:2]\n",
    "        \n",
    "for i in range(8):\n",
    "    next(image_generator(imageList))"
   ]
  },
  {
   "cell_type": "code",
   "execution_count": null,
   "metadata": {},
   "outputs": [],
   "source": [
    "%%timeit\n",
    "def image_generator(iterable, groups, samplesize):\n",
    "    grouped = (i for i in itertools.product(imageList,repeat=2) if i[0]!=i[1])\n",
    "    return random.sample(list(grouped), samplesize)\n",
    "\n",
    "image_generator(imageList, 2, 8)"
   ]
  },
  {
   "cell_type": "code",
   "execution_count": null,
   "metadata": {},
   "outputs": [],
   "source": []
  },
  {
   "cell_type": "code",
   "execution_count": null,
   "metadata": {},
   "outputs": [],
   "source": []
  },
  {
   "cell_type": "code",
   "execution_count": null,
   "metadata": {},
   "outputs": [],
   "source": []
  },
  {
   "cell_type": "code",
   "execution_count": null,
   "metadata": {},
   "outputs": [],
   "source": [
    "import numpy as np"
   ]
  },
  {
   "cell_type": "code",
   "execution_count": null,
   "metadata": {},
   "outputs": [],
   "source": [
    "x_ax = np.array(list(range(1, 101)))\n",
    "y_ax = np.array(list(range(101,201)))"
   ]
  },
  {
   "cell_type": "code",
   "execution_count": null,
   "metadata": {},
   "outputs": [],
   "source": [
    "np.vstack([x_ax, y_ax])"
   ]
  },
  {
   "cell_type": "code",
   "execution_count": null,
   "metadata": {},
   "outputs": [],
   "source": []
  },
  {
   "cell_type": "code",
   "execution_count": null,
   "metadata": {},
   "outputs": [],
   "source": []
  },
  {
   "cell_type": "code",
   "execution_count": null,
   "metadata": {},
   "outputs": [],
   "source": []
  },
  {
   "cell_type": "code",
   "execution_count": null,
   "metadata": {},
   "outputs": [],
   "source": [
    "from sklearn.cluster import KMeans, MiniBatchKMeans"
   ]
  },
  {
   "cell_type": "code",
   "execution_count": null,
   "metadata": {},
   "outputs": [],
   "source": []
  },
  {
   "cell_type": "code",
   "execution_count": null,
   "metadata": {},
   "outputs": [],
   "source": []
  },
  {
   "cell_type": "code",
   "execution_count": null,
   "metadata": {},
   "outputs": [],
   "source": [
    "kmeans.inertia_"
   ]
  },
  {
   "cell_type": "code",
   "execution_count": null,
   "metadata": {},
   "outputs": [],
   "source": []
  },
  {
   "cell_type": "code",
   "execution_count": null,
   "metadata": {
    "scrolled": false
   },
   "outputs": [],
   "source": [
    "import io\n",
    "import sys\n",
    "import numpy as np\n",
    "from sklearn.cluster import KMeans\n",
    "\n",
    "def train_kmeans(X):\n",
    "    kmeans = KMeans(n_clusters=5, verbose=2, n_init=1)\n",
    "    kmeans.fit(X)\n",
    "    return kmeans\n",
    "\n",
    "old_stdout = sys.stdout\n",
    "new_stdout = io.StringIO()\n",
    "sys.stdout = new_stdout\n",
    "\n",
    "X = np.random.random((1000,7))\n",
    "train_kmeans(X)\n",
    "\n",
    "output = new_stdout.getvalue()\n",
    "\n",
    "sys.stdout = old_stdout"
   ]
  },
  {
   "cell_type": "code",
   "execution_count": null,
   "metadata": {
    "scrolled": false
   },
   "outputs": [],
   "source": [
    "inertia = [float(i[i.find('inertia')+len('inertia')+1:]) for i in output.split('\\n')[1:-2]]\n",
    "import matplotlib.pyplot as plt\n",
    "\n",
    "plt.plot(inertia)"
   ]
  },
  {
   "cell_type": "code",
   "execution_count": 4,
   "metadata": {},
   "outputs": [
    {
     "data": {
      "text/plain": [
       "[<matplotlib.lines.Line2D at 0x7fac701f5550>]"
      ]
     },
     "execution_count": 4,
     "metadata": {},
     "output_type": "execute_result"
    },
    {
     "data": {
      "image/png": "[encoded data removed]",
      "text/plain": [
       "<Figure size 432x288 with 1 Axes>"
      ]
     },
     "metadata": {
      "needs_background": "light"
     },
     "output_type": "display_data"
    }
   ],
   "source": [
    "import io\n",
    "import sys\n",
    "import numpy as np\n",
    "from sklearn.cluster import KMeans\n",
    "import matplotlib.pyplot as plt\n",
    "\n",
    "#Dummy data\n",
    "X = np.random.random((1000,7)) \n",
    "\n",
    "def train_kmeans(X):\n",
    "    kmeans = KMeans(n_clusters=5, verbose=2, n_init=1) #<-- init=1, verbose=2\n",
    "    kmeans.fit(X)\n",
    "    return kmeans\n",
    "\n",
    "#HELPER FUNCTION\n",
    "#Takes the returned and printed output of a function and returns it as variables\n",
    "#In this case, returned is the model and printed is the verbose intertia at each iteration\n",
    "\n",
    "def redirect_wrapper(f, inp):\n",
    "    old_stdout = sys.stdout\n",
    "    new_stdout = io.StringIO()\n",
    "    sys.stdout = new_stdout\n",
    "\n",
    "    returned = f(inp)                #<- Call function\n",
    "\n",
    "    printed = new_stdout.getvalue()  #<- store printed output\n",
    "\n",
    "    sys.stdout = old_stdout\n",
    "    return returned, printed\n",
    "\n",
    "\n",
    "returned, printed = redirect_wrapper(train_kmeans, X)\n",
    "\n",
    "#Extract inertia values\n",
    "inertia = [float(i[i.find('inertia')+len('inertia')+1:]) for i in printed.split('\\n')[1:-2]]\n",
    "\n",
    "#Plot!\n",
    "plt.plot(inertia)"
   ]
  },
  {
   "cell_type": "code",
   "execution_count": null,
   "metadata": {},
   "outputs": [],
   "source": []
  },
  {
   "cell_type": "code",
   "execution_count": null,
   "metadata": {},
   "outputs": [],
   "source": []
  },
  {
   "cell_type": "code",
   "execution_count": 10,
   "metadata": {},
   "outputs": [
    {
     "data": {
      "image/png": "[encoded data removed]",
      "text/plain": [
       "<IPython.core.display.Image object>"
      ]
     },
     "execution_count": 10,
     "metadata": {},
     "output_type": "execute_result"
    }
   ],
   "source": [
    "from tensorflow.keras import layers, Model, utils\n",
    "\n",
    "inp = layers.Input((128,128,1))     ##\n",
    "x = layers.Conv2D(2, (3,3))(inp) ##  Convolution part\n",
    "x = layers.Conv2D(4, (3,3))(x)   ##\n",
    "x = layers.Conv2D(6, (3,3))(x)   ##\n",
    "\n",
    "##########\n",
    "\n",
    "x = layers.Conv2DTranspose(6, (3,3))(x)\n",
    "x = layers.Conv2DTranspose(4, (3,3))(x)   ##   ##  Deconvolution part\n",
    "out = layers.Conv2DTranspose(1, (3,3))(x) ##\n",
    "\n",
    "model = Model(inp, out)\n",
    "utils.plot_model(model, show_shapes=True, show_layer_names=False)"
   ]
  },
  {
   "cell_type": "code",
   "execution_count": null,
   "metadata": {},
   "outputs": [],
   "source": []
  },
  {
   "cell_type": "code",
   "execution_count": 13,
   "metadata": {},
   "outputs": [],
   "source": [
    "clean_arr=[np.array([[0., 10., 10.],\\\n",
    "                     [0., 2., 30.],\\\n",
    "                     [0., 3., 5.],\\\n",
    "                     [0., 3., 40.]]),\\\n",
    "           np.array([[0., -1., -4.],\\\n",
    "                     [0., -2., -3.],\\\n",
    "                     [0., -3., -5.],\\\n",
    "                     [0., -3., -6.]])]"
   ]
  },
  {
   "cell_type": "code",
   "execution_count": 11,
   "metadata": {},
   "outputs": [],
   "source": [
    "dup_arr=[np.array([[0., 10., 10.],\\\n",
    "                   [0., 2., 30.],\\\n",
    "                   [0., 3., 5.],\\\n",
    "                   [0., 3., 5.],\\\n",
    "                   [0., 3., 40.]]),\\\n",
    "         np.array([[0., -1., -4.],\\\n",
    "                   [0., -2., -3.],\\\n",
    "                   [0., -3., -5.],\\\n",
    "                   [0., -3., -6.],\\\n",
    "                   [0., -3., -6.]])]"
   ]
  },
  {
   "cell_type": "code",
   "execution_count": null,
   "metadata": {},
   "outputs": [],
   "source": []
  },
  {
   "cell_type": "code",
   "execution_count": null,
   "metadata": {},
   "outputs": [],
   "source": []
  },
  {
   "cell_type": "code",
   "execution_count": 126,
   "metadata": {},
   "outputs": [
    {
     "data": {
      "text/plain": [
       "[array([[ 0., 10., 10.],\n",
       "        [ 0.,  2., 30.],\n",
       "        [ 0.,  3.,  5.],\n",
       "        [ 0.,  3., 40.]]),\n",
       " array([[ 0., -1., -4.],\n",
       "        [ 0., -2., -3.],\n",
       "        [ 0., -3., -5.],\n",
       "        [ 0., -3., -6.]])]"
      ]
     },
     "execution_count": 126,
     "metadata": {},
     "output_type": "execute_result"
    }
   ],
   "source": [
    "[i[np.sort(np.unique(i, axis=0, return_index=True)[1])] for i in dup_arr]"
   ]
  },
  {
   "cell_type": "code",
   "execution_count": 127,
   "metadata": {},
   "outputs": [
    {
     "data": {
      "text/plain": [
       "[array([[ 0., 10., 10.],\n",
       "        [ 0.,  2., 30.],\n",
       "        [ 0.,  3.,  5.],\n",
       "        [ 0.,  3., 40.]]),\n",
       " array([[ 0., -1., -4.],\n",
       "        [ 0., -2., -3.],\n",
       "        [ 0., -3., -5.],\n",
       "        [ 0., -3., -6.]])]"
      ]
     },
     "execution_count": 127,
     "metadata": {},
     "output_type": "execute_result"
    }
   ],
   "source": [
    "def f(a):\n",
    "    indexes = np.unique(a, axis=0, return_index=True)[1]\n",
    "    return a[np.sort(indexes)]\n",
    "\n",
    "[f(i) for i in dup_arr]"
   ]
  },
  {
   "cell_type": "code",
   "execution_count": null,
   "metadata": {},
   "outputs": [],
   "source": []
  },
  {
   "cell_type": "code",
   "execution_count": null,
   "metadata": {},
   "outputs": [],
   "source": []
  },
  {
   "cell_type": "code",
   "execution_count": null,
   "metadata": {},
   "outputs": [],
   "source": []
  },
  {
   "cell_type": "code",
   "execution_count": 81,
   "metadata": {},
   "outputs": [],
   "source": [
    "input_bottom = [1,2,3,4,5,6]     # <--------------- List size changes \n",
    "input_bottom_numpy = np.array([1,2,3,4,5,6])"
   ]
  },
  {
   "cell_type": "code",
   "execution_count": 87,
   "metadata": {},
   "outputs": [],
   "source": [
    "def dosomething(x):\n",
    "    \"\"\"\n",
    "    Do something\n",
    "    \"\"\"\n",
    "    return x+1\n",
    "\n",
    "f = lambda x: 3*dosomething(x)\n",
    "\n",
    "out1 = [3*dosomething(i) for i in range(len(input_bottom))]\n",
    "out2 = np.apply_along_axis(f,0,range(len(input_bottom)))\n",
    "\n",
    "print(out1==out2)\n",
    "\n",
    "[ True  True  True  True  True  True]"
   ]
  },
  {
   "cell_type": "code",
   "execution_count": 89,
   "metadata": {},
   "outputs": [
    {
     "name": "stdout",
     "output_type": "stream",
     "text": [
      "[ True  True  True  True  True  True]\n"
     ]
    }
   ],
   "source": [
    "out1 = [3*dosomething(i) for i in range(len(input_bottom))]\n",
    "out2 = np.apply_along_axis(f,0,range(len(input_bottom)))\n",
    "\n",
    "print(out1==out2)\n",
    "\n",
    "[ True  True  True  True  True  True]"
   ]
  },
  {
   "cell_type": "code",
   "execution_count": 96,
   "metadata": {},
   "outputs": [
    {
     "data": {
      "text/plain": [
       "array([ 6,  9, 12, 15, 18, 21])"
      ]
     },
     "execution_count": 96,
     "metadata": {},
     "output_type": "execute_result"
    }
   ],
   "source": [
    "def dosomething(x):\n",
    "    \"\"\"\n",
    "    Do something\n",
    "    \"\"\"\n",
    "    return x+1\n",
    "\n",
    "f = lambda x: 3*dosomething(x)\n",
    "\n",
    "input_bottom = [1,2,3,4,5,6]\n",
    "np.vectorize(f)(input_bottom)"
   ]
  },
  {
   "cell_type": "code",
   "execution_count": 97,
   "metadata": {},
   "outputs": [
    {
     "data": {
      "text/plain": [
       "array([ 3,  6,  9, 12, 15, 18])"
      ]
     },
     "execution_count": 97,
     "metadata": {},
     "output_type": "execute_result"
    }
   ],
   "source": [
    "f(np.arange(6))"
   ]
  },
  {
   "cell_type": "code",
   "execution_count": null,
   "metadata": {},
   "outputs": [],
   "source": []
  },
  {
   "cell_type": "code",
   "execution_count": null,
   "metadata": {},
   "outputs": [],
   "source": []
  },
  {
   "cell_type": "code",
   "execution_count": 99,
   "metadata": {},
   "outputs": [],
   "source": []
  },
  {
   "cell_type": "code",
   "execution_count": 125,
   "metadata": {},
   "outputs": [
    {
     "name": "stdout",
     "output_type": "stream",
     "text": [
      "bids price: ('34657.70000000', '34655.76000000', '34654.28000000')\n",
      "bids volume: ('0.57150000', '0.00035500', '0.01431800')\n",
      "asks price: ('34657.70000000', '34655.76000000', '34654.28000000')\n",
      "asks volume: ('0.57150000', '0.00035500', '0.01431800')\n"
     ]
    }
   ],
   "source": [
    "d = {\n",
    "'bids': [['34657.70000000', '0.57150000'], ['34655.76000000', '0.00035500'], ['34654.28000000', '0.01431800']],\n",
    "'asks': [['34657.70000000', '0.57150000'], ['34655.76000000', '0.00035500'], ['34654.28000000', '0.01431800']]\n",
    "}\n",
    "\n",
    "bp, bv, ap, av = [j for i in d.values() for j in list(zip(*i))]\n",
    "\n",
    "print('bids price:', bp)\n",
    "print('bids volume:', bv)\n",
    "print('asks price:', ap)\n",
    "print('asks volume:', av)"
   ]
  },
  {
   "cell_type": "code",
   "execution_count": null,
   "metadata": {},
   "outputs": [],
   "source": []
  },
  {
   "cell_type": "code",
   "execution_count": null,
   "metadata": {},
   "outputs": [],
   "source": []
  },
  {
   "cell_type": "code",
   "execution_count": null,
   "metadata": {},
   "outputs": [],
   "source": []
  },
  {
   "cell_type": "code",
   "execution_count": 128,
   "metadata": {},
   "outputs": [],
   "source": [
    "v = np.array([[-3.33829, -3.42467, -3.53332],\n",
    "   [-2.67681, -2.6082 , -3.49502],\n",
    "   [-3.49497, -2.73177, -2.61499],\n",
    "   [-2.76056, -3.57753, -2.67334],\n",
    "   [-1.96801, -3.47521, -3.51974],\n",
    "   [-1.25571, -2.69451, -3.45554],\n",
    "   [-1.94568, -2.59504, -2.72568],\n",
    "   [-1.28991, -3.47927, -2.73176],\n",
    "   [-0.51201, -3.50684, -3.40448],\n",
    "   [ 0.22398, -2.70244, -3.43421]])"
   ]
  },
  {
   "cell_type": "code",
   "execution_count": 135,
   "metadata": {},
   "outputs": [
    {
     "name": "stdout",
     "output_type": "stream",
     "text": [
      "[1.05242717e+11 2.83837682e+00 1.01983983e+00]\n",
      "[2.03616797e+07 1.01792104e+00 1.00742313e+00]\n",
      "[1.03061642e+12 1.00172198e+00 3.82761853e+00]\n",
      "[5.45679910e+07 4.62541000e+00 3.18307055e+00]\n",
      "[1.49078071e+04 3.30140107e+00 1.01473832e+00]\n",
      "[79.75544317  1.00012578  1.00091035]\n",
      "[1.22692208e+04 1.02333768e+00 2.72925730e+00]\n",
      "[97.87839729  3.34320423  2.68282946]\n",
      "[2.95459788 3.64777984 1.00176931]\n",
      "[1. 1. 1.]\n"
     ]
    }
   ],
   "source": [
    "for i in v:\n",
    "    for j in v:\n",
    "        for k in v:\n",
    "            d2 = (k-i)**2\n",
    "            d1 = (j-i)**2\n",
    "    print(np.exp(d1+d2))"
   ]
  },
  {
   "cell_type": "code",
   "execution_count": 146,
   "metadata": {},
   "outputs": [
    {
     "data": {
      "text/plain": [
       "array([[4.38558108e+11, 2.11224470e+02, 2.08153285e+02],\n",
       "       [6.10332697e+09, 2.42309774e+02, 2.00079357e+02],\n",
       "       [1.37237360e+12, 2.11552094e+02, 2.32739462e+02],\n",
       "       [9.98934092e+09, 2.51158071e+02, 2.16562340e+02],\n",
       "       [1.77827910e+08, 2.22151678e+02, 2.05163797e+02],\n",
       "       [1.91234145e+08, 2.19457894e+02, 1.92858561e+02],\n",
       "       [1.63391357e+08, 2.46419838e+02, 2.04498335e+02],\n",
       "       [1.67512751e+08, 2.23119070e+02, 2.03232700e+02],\n",
       "       [8.45322705e+09, 2.30065042e+02, 1.85024981e+02],\n",
       "       [1.14468558e+12, 2.17683864e+02, 1.89388595e+02]])"
      ]
     },
     "execution_count": 146,
     "metadata": {},
     "output_type": "execute_result"
    }
   ],
   "source": [
    "diff = (v[:,None]-v)**2\n",
    "power = diff[:,None]+diff\n",
    "exp = np.exp(power)\n",
    "d = np.sum(exp,(1,2))\n",
    "d"
   ]
  },
  {
   "cell_type": "code",
   "execution_count": null,
   "metadata": {},
   "outputs": [],
   "source": []
  }
 ],
 "metadata": {
  "kernelspec": {
   "display_name": "Python 3",
   "language": "python",
   "name": "python3"
  },
  "language_info": {
   "codemirror_mode": {
    "name": "ipython",
    "version": 3
   },
   "file_extension": ".py",
   "mimetype": "text/x-python",
   "name": "python",
   "nbconvert_exporter": "python",
   "pygments_lexer": "ipython3",
   "version": "3.8.3"
  }
 },
 "nbformat": 4,
 "nbformat_minor": 4
}
