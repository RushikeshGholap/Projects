{
 "cells": [
  {
   "cell_type": "code",
   "execution_count": 30,
   "metadata": {},
   "outputs": [],
   "source": [
    "import numpy as np\n",
    "import pandas as pd\n",
    "import missingno as msno\n",
    "from sklearn.preprocessing import scale\n",
    "from sklearn.ensemble import RandomForestRegressor\n",
    "import matplotlib.pyplot as plt\n",
    "\n",
    "%matplotlib inline"
   ]
  },
  {
   "cell_type": "code",
   "execution_count": 82,
   "metadata": {},
   "outputs": [],
   "source": [
    "df = pd.read_excel('so_data.xlsx')"
   ]
  },
  {
   "cell_type": "code",
   "execution_count": 88,
   "metadata": {},
   "outputs": [
    {
     "data": {
      "text/plain": [
       "product                       A\n",
       "season                   summer\n",
       "discount_percentage    0.266667\n",
       "sales_uplift_norm      0.356849\n",
       "dtype: object"
      ]
     },
     "execution_count": 88,
     "metadata": {},
     "output_type": "execute_result"
    }
   ],
   "source": [
    "df[(df['product']=='A') & (df['season']=='summer')].max()"
   ]
  },
  {
   "cell_type": "code",
   "execution_count": null,
   "metadata": {},
   "outputs": [],
   "source": []
  },
  {
   "cell_type": "code",
   "execution_count": null,
   "metadata": {},
   "outputs": [],
   "source": []
  },
  {
   "cell_type": "code",
   "execution_count": null,
   "metadata": {},
   "outputs": [],
   "source": []
  },
  {
   "cell_type": "code",
   "execution_count": null,
   "metadata": {},
   "outputs": [],
   "source": []
  },
  {
   "cell_type": "code",
   "execution_count": null,
   "metadata": {},
   "outputs": [],
   "source": []
  },
  {
   "cell_type": "code",
   "execution_count": null,
   "metadata": {},
   "outputs": [],
   "source": []
  },
  {
   "cell_type": "code",
   "execution_count": 4,
   "metadata": {},
   "outputs": [],
   "source": [
    "def pre_process_data(df,product):\n",
    "    data = df.copy().reset_index()\n",
    "#     print(data)\n",
    "    bp = product\n",
    "    print(\"----------product: {}----------\".format(bp))\n",
    "    # Pre-processing steps\n",
    "    print(\"pre process df.shape {}\".format(df.shape))\n",
    "        #1. Reponse var transformation\n",
    "    response = data.sales_uplift_norm # already transformed\n",
    "\n",
    "        #2. predictor numeric var transformation \n",
    "    numeric_vars = ['discount_percentage'] # may include mrp, depth\n",
    "    df_numeric = data[numeric_vars]\n",
    "    df_norm = df_numeric.apply(lambda x: scale(x), axis = 0) # center and scale\n",
    "\n",
    "        #3. char fields dummification\n",
    "    #select category fields\n",
    "    cat_cols = data.select_dtypes('category').columns\n",
    "    #select string fields\n",
    "    str_to_cat_cols = data.drop(['product'], axis = 1).select_dtypes('object').astype('category').columns\n",
    "    # combine all categorical fields\n",
    "    all_cat_cols = [*cat_cols,*str_to_cat_cols]\n",
    "#     print(all_cat_cols)\n",
    "\n",
    "    #convert cat to dummies\n",
    "    df_dummies = pd.get_dummies(data[all_cat_cols])\n",
    "\n",
    "        #4. combine num and char df together\n",
    "    df_combined = pd.concat([df_dummies.reset_index(drop=True), df_norm.reset_index(drop=True)], axis=1)\n",
    "    \n",
    "    df_combined['sales_uplift_norm'] = response\n",
    "    df_processed = df_combined.copy()\n",
    "    print(\"post process df.shape {}\".format(df_processed.shape))\n",
    "#     print(\"model fields: {}\".format(df_processed.columns))\n",
    "    return(df_processed)\n",
    "\n",
    "\n",
    "def rf_fit(df, random_state = 12):\n",
    "    \n",
    "    train_features = df.drop('sales_uplift_norm', axis = 1)\n",
    "    train_labels = df['sales_uplift_norm']\n",
    "    \n",
    "    # Random Forest Regressor\n",
    "    rf = RandomForestRegressor(n_estimators = 500,\n",
    "                               random_state = random_state,\n",
    "                               bootstrap = True,\n",
    "                               oob_score=True)\n",
    "    # RF model\n",
    "    rf_fit = rf.fit(train_features, train_labels)\n",
    "\n",
    "    return(rf_fit)"
   ]
  },
  {
   "cell_type": "code",
   "execution_count": 5,
   "metadata": {},
   "outputs": [
    {
     "name": "stdout",
     "output_type": "stream",
     "text": [
      "----------product: A----------\n",
      "pre process df.shape (561, 4)\n",
      "post process df.shape (561, 5)\n"
     ]
    }
   ],
   "source": [
    "dd = pre_process_data(df,'A')"
   ]
  },
  {
   "cell_type": "code",
   "execution_count": 6,
   "metadata": {},
   "outputs": [],
   "source": [
    "rfa = rf_fit(dd)"
   ]
  },
  {
   "cell_type": "code",
   "execution_count": null,
   "metadata": {},
   "outputs": [],
   "source": []
  },
  {
   "cell_type": "code",
   "execution_count": 7,
   "metadata": {},
   "outputs": [
    {
     "data": {
      "text/plain": [
       "0.2547495330403349"
      ]
     },
     "execution_count": 7,
     "metadata": {},
     "output_type": "execute_result"
    }
   ],
   "source": [
    "rfa.score(dd[dd.columns[:-1]], dd[dd.columns[-1:]])"
   ]
  },
  {
   "cell_type": "code",
   "execution_count": null,
   "metadata": {},
   "outputs": [],
   "source": []
  },
  {
   "cell_type": "code",
   "execution_count": 8,
   "metadata": {},
   "outputs": [],
   "source": [
    "from tensorflow.keras.layers import Dense, Input\n",
    "from tensorflow.keras.models import Model\n",
    "from tensorflow.keras.activations import relu"
   ]
  },
  {
   "cell_type": "code",
   "execution_count": 9,
   "metadata": {},
   "outputs": [],
   "source": [
    "train_features = dd.drop('sales_uplift_norm', axis = 1).to_numpy()\n",
    "train_labels = dd['sales_uplift_norm'].to_numpy()"
   ]
  },
  {
   "cell_type": "code",
   "execution_count": 10,
   "metadata": {},
   "outputs": [
    {
     "data": {
      "text/plain": [
       "(561, 4)"
      ]
     },
     "execution_count": 10,
     "metadata": {},
     "output_type": "execute_result"
    }
   ],
   "source": [
    "train_features.shape"
   ]
  },
  {
   "cell_type": "code",
   "execution_count": 78,
   "metadata": {},
   "outputs": [
    {
     "data": {
      "text/plain": [
       "[<matplotlib.lines.Line2D at 0x1498bc9e8>]"
      ]
     },
     "execution_count": 78,
     "metadata": {},
     "output_type": "execute_result"
    },
    {
     "data": {
      "image/png": "[encoded data removed]",
      "text/plain": [
       "<Figure size 720x216 with 2 Axes>"
      ]
     },
     "metadata": {
      "needs_background": "light"
     },
     "output_type": "display_data"
    }
   ],
   "source": [
    "inp = Input(shape=(4,))\n",
    "x = Dense(6, activation=relu)(inp)\n",
    "out = Dense(1)(x)\n",
    "\n",
    "model = Model(inp, out)\n",
    "#print(model.summary())\n",
    "\n",
    "model.compile(optimizer='adam',loss='mse', metrics='mae')\n",
    "model.fit(train_features, train_labels, epochs=20, validation_split=0.1, verbose=0)\n",
    "\n",
    "fig, ax = plt.subplots(1,2, figsize=(10,3))\n",
    "ax[0].plot(model.history.history.get('loss'),'b')\n",
    "ax[1].plot(model.history.history.get('val_loss'),'r')"
   ]
  },
  {
   "cell_type": "code",
   "execution_count": null,
   "metadata": {},
   "outputs": [],
   "source": [
    "model"
   ]
  },
  {
   "cell_type": "code",
   "execution_count": 73,
   "metadata": {},
   "outputs": [
    {
     "data": {
      "text/plain": [
       "[<tensorflow.python.keras.engine.input_layer.InputLayer at 0x148a21ba8>,\n",
       " <tensorflow.python.keras.layers.core.Dense at 0x148ba1b38>,\n",
       " <tensorflow.python.keras.layers.core.Dense at 0x148ba1588>,\n",
       " <tensorflow.python.keras.layers.core.Dense at 0x148ba1a20>]"
      ]
     },
     "execution_count": 73,
     "metadata": {},
     "output_type": "execute_result"
    }
   ],
   "source": [
    "def get_model_function(model):\n",
    "    "
   ]
  },
  {
   "cell_type": "code",
   "execution_count": 80,
   "metadata": {},
   "outputs": [
    {
     "data": {
      "text/plain": [
       "<tensorflow.python.keras.engine.functional.Functional at 0x1496be630>"
      ]
     },
     "execution_count": 80,
     "metadata": {},
     "output_type": "execute_result"
    }
   ],
   "source": []
  },
  {
   "cell_type": "code",
   "execution_count": null,
   "metadata": {},
   "outputs": [],
   "source": []
  },
  {
   "cell_type": "code",
   "execution_count": null,
   "metadata": {},
   "outputs": [],
   "source": []
  }
 ],
 "metadata": {
  "kernelspec": {
   "display_name": "Python 3",
   "language": "python",
   "name": "python3"
  },
  "language_info": {
   "codemirror_mode": {
    "name": "ipython",
    "version": 3
   },
   "file_extension": ".py",
   "mimetype": "text/x-python",
   "name": "python",
   "nbconvert_exporter": "python",
   "pygments_lexer": "ipython3",
   "version": "3.7.3"
  }
 },
 "nbformat": 4,
 "nbformat_minor": 2
}
