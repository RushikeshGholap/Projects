{
 "cells": [
  {
   "cell_type": "code",
   "execution_count": null,
   "metadata": {},
   "outputs": [],
   "source": [
    "import pandas as pd\n",
    "import numpy as np\n",
    "\n",
    "from tensorflow.keras import layers, Model, utils\n",
    "import matplotlib.pyplot as plt"
   ]
  },
  {
   "cell_type": "code",
   "execution_count": null,
   "metadata": {},
   "outputs": [],
   "source": [
    "from tensorflow.keras.layers import *"
   ]
  },
  {
   "cell_type": "code",
   "execution_count": null,
   "metadata": {},
   "outputs": [],
   "source": [
    "from tensorflow.keras.models import *"
   ]
  },
  {
   "cell_type": "code",
   "execution_count": null,
   "metadata": {},
   "outputs": [],
   "source": [
    "model = Sequential()\n",
    "model.add(Reshape((100,100,1),input_shape=(100,100)))\n",
    "model.add(Conv2D(64, (3,3)))\n",
    "model.add(Activation(\"relu\"))\n",
    "model.add(MaxPooling2D(pool_size=(2,2)))\n",
    "\n",
    "model.add(Conv2D(64, (3,3)))\n",
    "model.add(Activation(\"relu\"))\n",
    "model.add(MaxPooling2D(pool_size=(2,2)))\n",
    "\n",
    "model.add(Flatten())\n",
    "model.add(Dense(64))\n",
    "\n",
    "model.add(Dense(1))\n",
    "model.add(Activation(\"sigmoid\"))\n",
    "\n",
    "model.compile(loss=\"binary_crossentropy\",\n",
    "             optimizer=\"adam\",\n",
    "             metrics=[\"accuracy\"])\n",
    "\n",
    "\n",
    "model.summary()\n",
    "\n",
    "Model: \"sequential_5\"\n",
    "_________________________________________________________________\n",
    "Layer (type)                 Output Shape              Param #   \n",
    "=================================================================\n",
    "reshape_5 (Reshape)          (None, 100, 100, 1)       0         \n",
    "_________________________________________________________________\n",
    "conv2d_6 (Conv2D)            (None, 98, 98, 64)        640       \n",
    "_________________________________________________________________\n",
    "activation_9 (Activation)    (None, 98, 98, 64)        0         \n",
    "_________________________________________________________________\n",
    "max_pooling2d_6 (MaxPooling2 (None, 49, 49, 64)        0         \n",
    "_________________________________________________________________\n",
    "conv2d_7 (Conv2D)            (None, 47, 47, 64)        36928     \n",
    "_________________________________________________________________\n",
    "activation_10 (Activation)   (None, 47, 47, 64)        0         \n",
    "_________________________________________________________________\n",
    "max_pooling2d_7 (MaxPooling2 (None, 23, 23, 64)        0         \n",
    "_________________________________________________________________\n",
    "flatten_3 (Flatten)          (None, 33856)             0         \n",
    "_________________________________________________________________\n",
    "dense_6 (Dense)              (None, 64)                2166848   \n",
    "_________________________________________________________________\n",
    "dense_7 (Dense)              (None, 1)                 65        \n",
    "_________________________________________________________________\n",
    "activation_11 (Activation)   (None, 1)                 0         \n",
    "=================================================================\n",
    "Total params: 2,204,481\n",
    "Trainable params: 2,204,481\n",
    "Non-trainable params: 0\n",
    "_________________________________________________________________"
   ]
  },
  {
   "cell_type": "code",
   "execution_count": null,
   "metadata": {},
   "outputs": [],
   "source": []
  },
  {
   "cell_type": "code",
   "execution_count": null,
   "metadata": {},
   "outputs": [],
   "source": []
  },
  {
   "cell_type": "code",
   "execution_count": null,
   "metadata": {},
   "outputs": [],
   "source": [
    "l = [(10, '♦️'), (10, '♠️'), (8, '♠️'), (6, '♣️'), (9, '♦️')]"
   ]
  },
  {
   "cell_type": "code",
   "execution_count": null,
   "metadata": {},
   "outputs": [],
   "source": [
    "df"
   ]
  },
  {
   "cell_type": "code",
   "execution_count": null,
   "metadata": {},
   "outputs": [],
   "source": [
    "df = pd.read_clipboard('\\s\\s+')\n",
    "df"
   ]
  },
  {
   "cell_type": "code",
   "execution_count": null,
   "metadata": {},
   "outputs": [],
   "source": [
    "df.groupby('country')['Value'].mean()\n",
    "\n",
    "country\n",
    "GBR    15\n",
    "USA    35\n",
    "Name: Value, dtype: int64"
   ]
  },
  {
   "cell_type": "code",
   "execution_count": null,
   "metadata": {},
   "outputs": [],
   "source": []
  },
  {
   "cell_type": "code",
   "execution_count": null,
   "metadata": {},
   "outputs": [],
   "source": [
    "y_true = [0, 1, 2, 0, 1, 2]\n",
    "y_pred = [0, 2, 1, 0, 0, 1]\n",
    "\n"
   ]
  },
  {
   "cell_type": "code",
   "execution_count": null,
   "metadata": {},
   "outputs": [],
   "source": [
    "from sklearn.metrics import precision_score, recall_score\n",
    "\n",
    "y_true = [0, 1, 2, 0, 1, 2]\n",
    "y_pred = [0, 2, 1, 0, 0, 1]\n",
    "\n",
    "precision = precision_score(y_true, y_pred, average='micro')\n",
    "recall = recall_score(y_true, y_pred, average='micro')\n",
    "#parameter 'micro' calculates metrics globally by counting the total TP, FN and FP\n",
    "\n",
    "scores = [precision, recall]\n",
    "weights = [0.2,0.8]\n",
    "\n",
    "def weighted_geometric_mean(scores, weights):\n",
    "    wgm = np.product(np.power(scores, weights))\n",
    "    return wgm\n",
    "\n",
    "weighted_geometric_mean(scores, weights)"
   ]
  },
  {
   "cell_type": "code",
   "execution_count": null,
   "metadata": {},
   "outputs": [],
   "source": [
    "precision"
   ]
  },
  {
   "cell_type": "code",
   "execution_count": null,
   "metadata": {},
   "outputs": [],
   "source": []
  },
  {
   "cell_type": "code",
   "execution_count": null,
   "metadata": {},
   "outputs": [],
   "source": [
    "np.product(np.power(scores, weights))**(1/sum(weights))"
   ]
  },
  {
   "cell_type": "code",
   "execution_count": null,
   "metadata": {},
   "outputs": [],
   "source": [
    "np.power(np.product(np.power(scores, weights)), 1/sum(weights))"
   ]
  },
  {
   "cell_type": "code",
   "execution_count": null,
   "metadata": {},
   "outputs": [],
   "source": []
  },
  {
   "cell_type": "code",
   "execution_count": null,
   "metadata": {},
   "outputs": [],
   "source": []
  },
  {
   "cell_type": "code",
   "execution_count": null,
   "metadata": {},
   "outputs": [],
   "source": []
  },
  {
   "cell_type": "code",
   "execution_count": null,
   "metadata": {},
   "outputs": [],
   "source": []
  },
  {
   "cell_type": "code",
   "execution_count": null,
   "metadata": {},
   "outputs": [],
   "source": []
  },
  {
   "cell_type": "code",
   "execution_count": null,
   "metadata": {},
   "outputs": [],
   "source": []
  },
  {
   "cell_type": "code",
   "execution_count": null,
   "metadata": {},
   "outputs": [],
   "source": []
  },
  {
   "cell_type": "code",
   "execution_count": null,
   "metadata": {},
   "outputs": [],
   "source": [
    "from random import choice\n",
    "from string import digits, punctuation, ascii_letters\n",
    "\n",
    "password = []\n",
    "everything = list(digits+punctuation+ascii_letters)\n",
    "\n",
    "for i in range(10):\n",
    "    password.append(choice(everything))\n",
    "password = ''.join(password)\n",
    "print(password)"
   ]
  },
  {
   "cell_type": "code",
   "execution_count": null,
   "metadata": {},
   "outputs": [],
   "source": [
    "def check(password, d=2, p=2):\n",
    "    num_digits = len([i for i in password if i in digits])\n",
    "    num_punctuation = len([i for i in password if i in punctuation])\n",
    "    return num_digits >= d and num_punctuation >= p\n",
    "\n",
    "print(check('password@123'))\n",
    "print(check('password@123#'))\n",
    "print(check('password@123@'))"
   ]
  },
  {
   "cell_type": "code",
   "execution_count": null,
   "metadata": {},
   "outputs": [],
   "source": [
    "x = {\"x1\":1,\"x2\":2,\"x3\":3}\n",
    "y = {\"y1\":1,\"y2\":2,\"y3\":3}\n",
    "z = {\"z1\":1,\"z2\":2,\"z3\":3}"
   ]
  },
  {
   "cell_type": "code",
   "execution_count": null,
   "metadata": {},
   "outputs": [],
   "source": [
    "dict1 = {\"x1\":1,\"y1\":1,\"z1\":1}\n",
    "dict2 = {\"x2\":2,\"y2\":2,\"z2\":2}\n",
    "dict3 = {\"x3\":3,\"y3\":3,\"z3\":3}"
   ]
  },
  {
   "cell_type": "code",
   "execution_count": null,
   "metadata": {},
   "outputs": [],
   "source": [
    "dict1, dict2, dict3 = map(dict, zip(x.items(), y.items(), z.items()))"
   ]
  },
  {
   "cell_type": "code",
   "execution_count": null,
   "metadata": {},
   "outputs": [],
   "source": []
  },
  {
   "cell_type": "code",
   "execution_count": null,
   "metadata": {},
   "outputs": [],
   "source": []
  },
  {
   "cell_type": "code",
   "execution_count": null,
   "metadata": {},
   "outputs": [],
   "source": []
  },
  {
   "cell_type": "code",
   "execution_count": null,
   "metadata": {},
   "outputs": [],
   "source": []
  },
  {
   "cell_type": "code",
   "execution_count": null,
   "metadata": {},
   "outputs": [],
   "source": [
    "import time\n",
    "import numpy as np\n",
    "import matplotlib.pyplot as plt\n",
    "from mpl_toolkits.mplot3d import Axes3D\n",
    "\n",
    "# x1 and x2 are variables, x0 is there so that later when X*thetas, i can have theta1 \n",
    "x0=np.ones(100)\n",
    "x1=np.linspace(0,100,100)\n",
    "x2=np.linspace(-25,28,100)\n",
    "\n",
    "#introduce some noise in the data\n",
    "fluc=np.random.uniform(-10,10,100)\n",
    "\n",
    "fig = plt.figure()\n",
    "ax = fig.add_subplot(111, projection='3d')\n",
    "\n",
    "# you can uncommet the +fluc to add noise 20, 2, 10\n",
    "y = 20 + 2*x1 + 10*x2 + fluc\n",
    "\n",
    "# this part is to form the X matrix\n",
    "x = np.array([x0,x1,x2]).T\n",
    "\n",
    "# calculating using normal equation \n",
    "theta=np.linalg.inv(x.T @ x) @ x.T @ y\n",
    "\n",
    "#use the theta to predict\n",
    "predicted = x @ theta\n",
    "print(theta)\n",
    "\n",
    "#plot\n",
    "ax.scatter(x1,x2,y)\n",
    "ax.scatter(x1,x2,predicted)\n",
    "\n",
    "#show the loss\n",
    "print(np.sum(np.square(y-predicted)))\n",
    "\n",
    "\n",
    "plt.show()"
   ]
  },
  {
   "cell_type": "code",
   "execution_count": null,
   "metadata": {},
   "outputs": [],
   "source": []
  },
  {
   "cell_type": "code",
   "execution_count": null,
   "metadata": {},
   "outputs": [],
   "source": []
  },
  {
   "cell_type": "code",
   "execution_count": null,
   "metadata": {},
   "outputs": [],
   "source": []
  },
  {
   "cell_type": "code",
   "execution_count": null,
   "metadata": {},
   "outputs": [],
   "source": [
    "df = pd.read_clipboard('\\s\\s+')\n",
    "df"
   ]
  },
  {
   "cell_type": "code",
   "execution_count": null,
   "metadata": {},
   "outputs": [],
   "source": [
    "df['score'] = df.apply(lambda x: len(x[x == 'BUY']), axis=1)\n",
    "print(df)"
   ]
  },
  {
   "cell_type": "code",
   "execution_count": null,
   "metadata": {},
   "outputs": [],
   "source": []
  },
  {
   "cell_type": "code",
   "execution_count": null,
   "metadata": {},
   "outputs": [],
   "source": [
    "import numpy as np\n",
    "\n",
    "array = np.array([[[1, 2], 3], [[4, 5], 6], [[7, 8], 9]])\n",
    "\n",
    "np.hstack([np.array(tuple(array[:,0])), array[:,1,None]])"
   ]
  },
  {
   "cell_type": "code",
   "execution_count": null,
   "metadata": {},
   "outputs": [],
   "source": []
  },
  {
   "cell_type": "code",
   "execution_count": null,
   "metadata": {},
   "outputs": [],
   "source": []
  },
  {
   "cell_type": "code",
   "execution_count": null,
   "metadata": {},
   "outputs": [],
   "source": [
    "np.array(array[:,0].tolist()).shape"
   ]
  },
  {
   "cell_type": "code",
   "execution_count": null,
   "metadata": {},
   "outputs": [],
   "source": [
    "np.where(array == np.array([[4, 5],], dtype=object))"
   ]
  },
  {
   "cell_type": "code",
   "execution_count": null,
   "metadata": {},
   "outputs": [],
   "source": [
    "np.array(array[:,0], dtype=int)"
   ]
  },
  {
   "cell_type": "code",
   "execution_count": null,
   "metadata": {},
   "outputs": [],
   "source": [
    "f = np.vectorize(lambda x: x==[4,5])\n",
    "idx = np.where(f(array))\n",
    "idx\n",
    "(array([1]), array([0]))"
   ]
  },
  {
   "cell_type": "code",
   "execution_count": null,
   "metadata": {},
   "outputs": [],
   "source": [
    "np.unravel_index(*np.where([i==[4,5] for i in array.ravel()]), array.shape)"
   ]
  },
  {
   "cell_type": "code",
   "execution_count": null,
   "metadata": {},
   "outputs": [],
   "source": []
  },
  {
   "cell_type": "code",
   "execution_count": null,
   "metadata": {},
   "outputs": [],
   "source": []
  },
  {
   "cell_type": "code",
   "execution_count": null,
   "metadata": {},
   "outputs": [],
   "source": [
    "!pip install scikit-image"
   ]
  },
  {
   "cell_type": "code",
   "execution_count": null,
   "metadata": {},
   "outputs": [],
   "source": [
    "!pip install -U pip"
   ]
  },
  {
   "cell_type": "code",
   "execution_count": null,
   "metadata": {},
   "outputs": [],
   "source": [
    "# Install scikit-image\n",
    "!pip install -U scikit-image"
   ]
  },
  {
   "cell_type": "code",
   "execution_count": null,
   "metadata": {},
   "outputs": [],
   "source": [
    "print(skimage.__version__)"
   ]
  },
  {
   "cell_type": "code",
   "execution_count": null,
   "metadata": {},
   "outputs": [],
   "source": [
    "!pip install pytesseract"
   ]
  },
  {
   "cell_type": "code",
   "execution_count": null,
   "metadata": {},
   "outputs": [],
   "source": []
  },
  {
   "cell_type": "code",
   "execution_count": null,
   "metadata": {},
   "outputs": [],
   "source": []
  },
  {
   "cell_type": "code",
   "execution_count": 18,
   "metadata": {},
   "outputs": [
    {
     "name": "stdout",
     "output_type": "stream",
     "text": [
      "Extracted Text -> 5113\n",
      "\n",
      "\n"
     ]
    },
    {
     "data": {
      "image/png": "[encoded data removed]",
      "text/plain": [
       "<Figure size 432x288 with 1 Axes>"
      ]
     },
     "metadata": {
      "needs_background": "light"
     },
     "output_type": "display_data"
    }
   ],
   "source": [
    "from skimage import io, util, feature\n",
    "from scipy import ndimage as ndi\n",
    "import matplotlib.pyplot as plt\n",
    "import pytesseract\n",
    "import numpy as np\n",
    "\n",
    "#Import image\n",
    "img = io.imread('/Users/akshay/Desktop/jbAsM.jpg', as_gray=True)\n",
    "\n",
    "#Preprocessing\n",
    "imginv = util.invert(img)  #Invert image\n",
    "\n",
    "#Loop and fill holes iteratively\n",
    "for i in range(2):\n",
    "    edges = feature.canny(imginv) #find edges\n",
    "    imginv = ndi.binary_fill_holes(edges) #fill holes in edges\n",
    "\n",
    "fill_inv = util.invert(imginv)  #invert again\n",
    "plt.imshow(fill_inv, cmap='gray') \n",
    "\n",
    "#Image to text\n",
    "text = pytesseract.image_to_string(fill_inv, config='outputbase digits')\n",
    "print('Extracted Text ->',text)"
   ]
  },
  {
   "cell_type": "code",
   "execution_count": null,
   "metadata": {},
   "outputs": [],
   "source": []
  }
 ],
 "metadata": {
  "kernelspec": {
   "display_name": "Python 3",
   "language": "python",
   "name": "python3"
  },
  "language_info": {
   "codemirror_mode": {
    "name": "ipython",
    "version": 3
   },
   "file_extension": ".py",
   "mimetype": "text/x-python",
   "name": "python",
   "nbconvert_exporter": "python",
   "pygments_lexer": "ipython3",
   "version": "3.8.3"
  }
 },
 "nbformat": 4,
 "nbformat_minor": 4
}
