{
 "cells": [
  {
   "cell_type": "code",
   "execution_count": 1,
   "metadata": {},
   "outputs": [],
   "source": [
    "import pandas as pd\n",
    "import numpy as np"
   ]
  },
  {
   "cell_type": "code",
   "execution_count": 7,
   "metadata": {},
   "outputs": [
    {
     "name": "stdout",
     "output_type": "stream",
     "text": [
      "(300,)\n",
      "(100,)\n"
     ]
    }
   ],
   "source": [
    "n = np.random.random((3*100))\n",
    "out = np.argmin(n.reshape((-1,3)), axis=1)\n",
    "\n",
    "print(n.shape)\n",
    "print(out.shape)"
   ]
  },
  {
   "cell_type": "code",
   "execution_count": 9,
   "metadata": {},
   "outputs": [],
   "source": [
    "df = pd.read_clipboard()"
   ]
  },
  {
   "cell_type": "code",
   "execution_count": 12,
   "metadata": {},
   "outputs": [
    {
     "data": {
      "text/html": [
       "<div>\n",
       "<style scoped>\n",
       "    .dataframe tbody tr th:only-of-type {\n",
       "        vertical-align: middle;\n",
       "    }\n",
       "\n",
       "    .dataframe tbody tr th {\n",
       "        vertical-align: top;\n",
       "    }\n",
       "\n",
       "    .dataframe thead th {\n",
       "        text-align: right;\n",
       "    }\n",
       "</style>\n",
       "<table border=\"1\" class=\"dataframe\">\n",
       "  <thead>\n",
       "    <tr style=\"text-align: right;\">\n",
       "      <th></th>\n",
       "      <th>Date</th>\n",
       "      <th>Attributes</th>\n",
       "      <th>Symbols</th>\n",
       "      <th>value</th>\n",
       "    </tr>\n",
       "  </thead>\n",
       "  <tbody>\n",
       "    <tr>\n",
       "      <th>11/12/2019</th>\n",
       "      <td>Adj</td>\n",
       "      <td>Close</td>\n",
       "      <td>AALR3.SA</td>\n",
       "      <td>18.001.112</td>\n",
       "    </tr>\n",
       "    <tr>\n",
       "      <th>11/12/2019</th>\n",
       "      <td>Adj</td>\n",
       "      <td>Close</td>\n",
       "      <td>ABCB4.SA</td>\n",
       "      <td>18.298.676</td>\n",
       "    </tr>\n",
       "    <tr>\n",
       "      <th>11/12/2019</th>\n",
       "      <td>Adj</td>\n",
       "      <td>Close</td>\n",
       "      <td>ABEV3.SA</td>\n",
       "      <td>17.977.827</td>\n",
       "    </tr>\n",
       "    <tr>\n",
       "      <th>12/12/2019</th>\n",
       "      <td>Adj</td>\n",
       "      <td>Close</td>\n",
       "      <td>AALR3.SA</td>\n",
       "      <td>18.211.111</td>\n",
       "    </tr>\n",
       "    <tr>\n",
       "      <th>12/12/2019</th>\n",
       "      <td>Adj</td>\n",
       "      <td>Close</td>\n",
       "      <td>ABCB4.SA</td>\n",
       "      <td>18.653.500</td>\n",
       "    </tr>\n",
       "    <tr>\n",
       "      <th>12/12/2019</th>\n",
       "      <td>Adj</td>\n",
       "      <td>Close</td>\n",
       "      <td>ABEV3.SA</td>\n",
       "      <td>18.005.134</td>\n",
       "    </tr>\n",
       "    <tr>\n",
       "      <th>13/12/2019</th>\n",
       "      <td>Adj</td>\n",
       "      <td>Close</td>\n",
       "      <td>AALR3.SA</td>\n",
       "      <td>18.100.537</td>\n",
       "    </tr>\n",
       "    <tr>\n",
       "      <th>13/12/2019</th>\n",
       "      <td>Adj</td>\n",
       "      <td>Close</td>\n",
       "      <td>ABCB4.SA</td>\n",
       "      <td>18.153.353</td>\n",
       "    </tr>\n",
       "    <tr>\n",
       "      <th>13/12/2019</th>\n",
       "      <td>Adj</td>\n",
       "      <td>Close</td>\n",
       "      <td>ABEV3.SA</td>\n",
       "      <td>18.369.147</td>\n",
       "    </tr>\n",
       "  </tbody>\n",
       "</table>\n",
       "</div>"
      ],
      "text/plain": [
       "           Date Attributes   Symbols       value\n",
       "11/12/2019  Adj      Close  AALR3.SA  18.001.112\n",
       "11/12/2019  Adj      Close  ABCB4.SA  18.298.676\n",
       "11/12/2019  Adj      Close  ABEV3.SA  17.977.827\n",
       "12/12/2019  Adj      Close  AALR3.SA  18.211.111\n",
       "12/12/2019  Adj      Close  ABCB4.SA  18.653.500\n",
       "12/12/2019  Adj      Close  ABEV3.SA  18.005.134\n",
       "13/12/2019  Adj      Close  AALR3.SA  18.100.537\n",
       "13/12/2019  Adj      Close  ABCB4.SA  18.153.353\n",
       "13/12/2019  Adj      Close  ABEV3.SA  18.369.147"
      ]
     },
     "execution_count": 12,
     "metadata": {},
     "output_type": "execute_result"
    }
   ],
   "source": [
    "df"
   ]
  },
  {
   "cell_type": "code",
   "execution_count": 14,
   "metadata": {},
   "outputs": [
    {
     "name": "stdout",
     "output_type": "stream",
     "text": [
      "           Date Attributes   Symbols       value\n",
      "11/12/2019  Adj      Close  AALR3.SA  18.001.112\n",
      "12/12/2019  Adj      Close  AALR3.SA  18.211.111\n",
      "13/12/2019  Adj      Close  AALR3.SA  18.100.537\n",
      " \n",
      "           Date Attributes   Symbols       value\n",
      "11/12/2019  Adj      Close  ABCB4.SA  18.298.676\n",
      "12/12/2019  Adj      Close  ABCB4.SA  18.653.500\n",
      "13/12/2019  Adj      Close  ABCB4.SA  18.153.353\n",
      " \n",
      "           Date Attributes   Symbols       value\n",
      "11/12/2019  Adj      Close  ABEV3.SA  17.977.827\n",
      "12/12/2019  Adj      Close  ABEV3.SA  18.005.134\n",
      "13/12/2019  Adj      Close  ABEV3.SA  18.369.147\n",
      " \n"
     ]
    }
   ],
   "source": [
    "grouped_dfs = [i[1] for i in df.groupby(\"Symbols\")]\n",
    "\n",
    "for i in grouped_dfs:\n",
    "    print(i)\n",
    "    print(' ')"
   ]
  },
  {
   "cell_type": "code",
   "execution_count": null,
   "metadata": {},
   "outputs": [],
   "source": []
  },
  {
   "cell_type": "code",
   "execution_count": 19,
   "metadata": {},
   "outputs": [],
   "source": [
    "from timeit import repeat"
   ]
  },
  {
   "cell_type": "code",
   "execution_count": 15,
   "metadata": {},
   "outputs": [],
   "source": [
    "import pandas as pd\n",
    "import numpy as np\n",
    "\n",
    "N_samples = int(1e4)\n",
    "N_nan = N_var = int(0.02 * N_samples)\n",
    "\n",
    "# Generate random data\n",
    "data = np.random.rand(N_samples,2) * [30, 360]\n",
    "data[np.random.choice(N_samples, N_nan), 1] = np.nan\n",
    "data[np.random.choice(N_samples, N_var), 1] = 990\n",
    "\n",
    "# Create dataset\n",
    "df = pd.DataFrame(data, columns=['WindSpeed', 'WindDir'])\n",
    "df.index = pd.date_range(start='2000-01-01 00:00', periods=N_samples, freq='10min')"
   ]
  },
  {
   "cell_type": "code",
   "execution_count": 16,
   "metadata": {},
   "outputs": [
    {
     "data": {
      "text/html": [
       "<div>\n",
       "<style scoped>\n",
       "    .dataframe tbody tr th:only-of-type {\n",
       "        vertical-align: middle;\n",
       "    }\n",
       "\n",
       "    .dataframe tbody tr th {\n",
       "        vertical-align: top;\n",
       "    }\n",
       "\n",
       "    .dataframe thead th {\n",
       "        text-align: right;\n",
       "    }\n",
       "</style>\n",
       "<table border=\"1\" class=\"dataframe\">\n",
       "  <thead>\n",
       "    <tr style=\"text-align: right;\">\n",
       "      <th></th>\n",
       "      <th>WindSpeed</th>\n",
       "      <th>WindDir</th>\n",
       "    </tr>\n",
       "  </thead>\n",
       "  <tbody>\n",
       "    <tr>\n",
       "      <th>2000-01-01 00:00:00</th>\n",
       "      <td>16.167381</td>\n",
       "      <td>311.476589</td>\n",
       "    </tr>\n",
       "    <tr>\n",
       "      <th>2000-01-01 00:10:00</th>\n",
       "      <td>18.632436</td>\n",
       "      <td>115.963904</td>\n",
       "    </tr>\n",
       "    <tr>\n",
       "      <th>2000-01-01 00:20:00</th>\n",
       "      <td>14.651068</td>\n",
       "      <td>188.463389</td>\n",
       "    </tr>\n",
       "    <tr>\n",
       "      <th>2000-01-01 00:30:00</th>\n",
       "      <td>7.614744</td>\n",
       "      <td>266.786817</td>\n",
       "    </tr>\n",
       "    <tr>\n",
       "      <th>2000-01-01 00:40:00</th>\n",
       "      <td>27.359652</td>\n",
       "      <td>201.191199</td>\n",
       "    </tr>\n",
       "    <tr>\n",
       "      <th>...</th>\n",
       "      <td>...</td>\n",
       "      <td>...</td>\n",
       "    </tr>\n",
       "    <tr>\n",
       "      <th>2000-03-10 09:50:00</th>\n",
       "      <td>25.157903</td>\n",
       "      <td>155.537917</td>\n",
       "    </tr>\n",
       "    <tr>\n",
       "      <th>2000-03-10 10:00:00</th>\n",
       "      <td>6.882836</td>\n",
       "      <td>46.315722</td>\n",
       "    </tr>\n",
       "    <tr>\n",
       "      <th>2000-03-10 10:10:00</th>\n",
       "      <td>1.121534</td>\n",
       "      <td>232.981244</td>\n",
       "    </tr>\n",
       "    <tr>\n",
       "      <th>2000-03-10 10:20:00</th>\n",
       "      <td>24.099449</td>\n",
       "      <td>180.825520</td>\n",
       "    </tr>\n",
       "    <tr>\n",
       "      <th>2000-03-10 10:30:00</th>\n",
       "      <td>1.208468</td>\n",
       "      <td>63.847727</td>\n",
       "    </tr>\n",
       "  </tbody>\n",
       "</table>\n",
       "<p>10000 rows × 2 columns</p>\n",
       "</div>"
      ],
      "text/plain": [
       "                     WindSpeed     WindDir\n",
       "2000-01-01 00:00:00  16.167381  311.476589\n",
       "2000-01-01 00:10:00  18.632436  115.963904\n",
       "2000-01-01 00:20:00  14.651068  188.463389\n",
       "2000-01-01 00:30:00   7.614744  266.786817\n",
       "2000-01-01 00:40:00  27.359652  201.191199\n",
       "...                        ...         ...\n",
       "2000-03-10 09:50:00  25.157903  155.537917\n",
       "2000-03-10 10:00:00   6.882836   46.315722\n",
       "2000-03-10 10:10:00   1.121534  232.981244\n",
       "2000-03-10 10:20:00  24.099449  180.825520\n",
       "2000-03-10 10:30:00   1.208468   63.847727\n",
       "\n",
       "[10000 rows x 2 columns]"
      ]
     },
     "execution_count": 16,
     "metadata": {},
     "output_type": "execute_result"
    }
   ],
   "source": [
    "df"
   ]
  },
  {
   "cell_type": "code",
   "execution_count": 17,
   "metadata": {},
   "outputs": [],
   "source": [
    "def meandir(x):\n",
    "    '''\n",
    "    Parameters\n",
    "    ----------\n",
    "    x : pandas.Series\n",
    "        pandas series to be averaged\n",
    "\n",
    "    Returns\n",
    "    -------\n",
    "    float\n",
    "        averaged wind direction\n",
    "    '''\n",
    "\n",
    "    # Removes the NaN from the recording\n",
    "    x = x.dropna()\n",
    "\n",
    "    # If the record is empty, return NaN\n",
    "    if len(x)==0:\n",
    "        return np.nan\n",
    "\n",
    "    # If the record contains variable samples (990) return variable (990)\n",
    "    elif np.any(x == 990):\n",
    "        return 990\n",
    "\n",
    "    # Otherwise sum the vectors and return the angle\n",
    "    else:\n",
    "        angle = np.rad2deg(\n",
    "                           np.arctan2(\n",
    "                                   np.sum(np.sin(np.deg2rad(x))),\n",
    "                                   np.sum(np.cos(np.deg2rad(x)))\n",
    "                                     )\n",
    "                          )\n",
    "\n",
    "        #Wrap angles from (-pi,pi) to (0,360)\n",
    "        return (angle + 360) % 360"
   ]
  },
  {
   "cell_type": "code",
   "execution_count": 20,
   "metadata": {},
   "outputs": [
    {
     "name": "stdout",
     "output_type": "stream",
     "text": [
      "With custom aggregating function 1175.76 ms\n",
      "Without custom aggregating function 1.65 ms\n"
     ]
    }
   ],
   "source": [
    "grouped = df.groupby(pd.Grouper(freq='H'))   # Data from 14.30 to 15.29 are rounded to 15.00\n",
    "aggfuns1 = {'WindSpeed': np.mean, 'WindDir':meandir}\n",
    "aggfuns2 = {'WindSpeed': np.mean, 'WindDir':np.mean}\n",
    "\n",
    "res = repeat(stmt='grouped.agg(aggfuns1)', globals=globals(), number=1, repeat=10)\n",
    "print(f'With custom aggregating function {min(res)*1000:.2f} ms')\n",
    "\n",
    "res = repeat(stmt='grouped.agg(aggfuns2)', globals=globals(), number=1, repeat=10)\n",
    "print(f'Without custom aggregating function {min(res)*1000:.2f} ms')"
   ]
  },
  {
   "cell_type": "code",
   "execution_count": 33,
   "metadata": {},
   "outputs": [
    {
     "data": {
      "text/html": [
       "<div>\n",
       "<style scoped>\n",
       "    .dataframe tbody tr th:only-of-type {\n",
       "        vertical-align: middle;\n",
       "    }\n",
       "\n",
       "    .dataframe tbody tr th {\n",
       "        vertical-align: top;\n",
       "    }\n",
       "\n",
       "    .dataframe thead th {\n",
       "        text-align: right;\n",
       "    }\n",
       "</style>\n",
       "<table border=\"1\" class=\"dataframe\">\n",
       "  <thead>\n",
       "    <tr style=\"text-align: right;\">\n",
       "      <th></th>\n",
       "      <th>WindSpeed</th>\n",
       "      <th>WindDir</th>\n",
       "    </tr>\n",
       "  </thead>\n",
       "  <tbody>\n",
       "    <tr>\n",
       "      <th>2000-01-01 00:00:00</th>\n",
       "      <td>16.167381</td>\n",
       "      <td>311.476589</td>\n",
       "    </tr>\n",
       "    <tr>\n",
       "      <th>2000-01-01 00:10:00</th>\n",
       "      <td>18.632436</td>\n",
       "      <td>115.963904</td>\n",
       "    </tr>\n",
       "    <tr>\n",
       "      <th>2000-01-01 00:20:00</th>\n",
       "      <td>14.651068</td>\n",
       "      <td>188.463389</td>\n",
       "    </tr>\n",
       "    <tr>\n",
       "      <th>2000-01-01 00:30:00</th>\n",
       "      <td>7.614744</td>\n",
       "      <td>266.786817</td>\n",
       "    </tr>\n",
       "    <tr>\n",
       "      <th>2000-01-01 00:40:00</th>\n",
       "      <td>27.359652</td>\n",
       "      <td>201.191199</td>\n",
       "    </tr>\n",
       "    <tr>\n",
       "      <th>...</th>\n",
       "      <td>...</td>\n",
       "      <td>...</td>\n",
       "    </tr>\n",
       "    <tr>\n",
       "      <th>2000-03-10 09:50:00</th>\n",
       "      <td>25.157903</td>\n",
       "      <td>155.537917</td>\n",
       "    </tr>\n",
       "    <tr>\n",
       "      <th>2000-03-10 10:00:00</th>\n",
       "      <td>6.882836</td>\n",
       "      <td>46.315722</td>\n",
       "    </tr>\n",
       "    <tr>\n",
       "      <th>2000-03-10 10:10:00</th>\n",
       "      <td>1.121534</td>\n",
       "      <td>232.981244</td>\n",
       "    </tr>\n",
       "    <tr>\n",
       "      <th>2000-03-10 10:20:00</th>\n",
       "      <td>24.099449</td>\n",
       "      <td>180.825520</td>\n",
       "    </tr>\n",
       "    <tr>\n",
       "      <th>2000-03-10 10:30:00</th>\n",
       "      <td>1.208468</td>\n",
       "      <td>63.847727</td>\n",
       "    </tr>\n",
       "  </tbody>\n",
       "</table>\n",
       "<p>9808 rows × 2 columns</p>\n",
       "</div>"
      ],
      "text/plain": [
       "                     WindSpeed     WindDir\n",
       "2000-01-01 00:00:00  16.167381  311.476589\n",
       "2000-01-01 00:10:00  18.632436  115.963904\n",
       "2000-01-01 00:20:00  14.651068  188.463389\n",
       "2000-01-01 00:30:00   7.614744  266.786817\n",
       "2000-01-01 00:40:00  27.359652  201.191199\n",
       "...                        ...         ...\n",
       "2000-03-10 09:50:00  25.157903  155.537917\n",
       "2000-03-10 10:00:00   6.882836   46.315722\n",
       "2000-03-10 10:10:00   1.121534  232.981244\n",
       "2000-03-10 10:20:00  24.099449  180.825520\n",
       "2000-03-10 10:30:00   1.208468   63.847727\n",
       "\n",
       "[9808 rows x 2 columns]"
      ]
     },
     "execution_count": 33,
     "metadata": {},
     "output_type": "execute_result"
    }
   ],
   "source": []
  },
  {
   "cell_type": "code",
   "execution_count": 35,
   "metadata": {},
   "outputs": [
    {
     "data": {
      "text/plain": [
       "{(4, 2), (5, 2), (6, 2)}"
      ]
     },
     "execution_count": 35,
     "metadata": {},
     "output_type": "execute_result"
    }
   ],
   "source": [
    "set([i[1].shape for i in df.dropna().groupby(pd.Grouper(freq='H'))])"
   ]
  },
  {
   "cell_type": "code",
   "execution_count": null,
   "metadata": {},
   "outputs": [],
   "source": []
  },
  {
   "cell_type": "code",
   "execution_count": null,
   "metadata": {},
   "outputs": [],
   "source": []
  },
  {
   "cell_type": "code",
   "execution_count": null,
   "metadata": {},
   "outputs": [],
   "source": []
  },
  {
   "cell_type": "code",
   "execution_count": null,
   "metadata": {},
   "outputs": [],
   "source": []
  },
  {
   "cell_type": "code",
   "execution_count": 22,
   "metadata": {},
   "outputs": [
    {
     "data": {
      "text/html": [
       "<div>\n",
       "<style scoped>\n",
       "    .dataframe tbody tr th:only-of-type {\n",
       "        vertical-align: middle;\n",
       "    }\n",
       "\n",
       "    .dataframe tbody tr th {\n",
       "        vertical-align: top;\n",
       "    }\n",
       "\n",
       "    .dataframe thead th {\n",
       "        text-align: right;\n",
       "    }\n",
       "</style>\n",
       "<table border=\"1\" class=\"dataframe\">\n",
       "  <thead>\n",
       "    <tr style=\"text-align: right;\">\n",
       "      <th></th>\n",
       "      <th>WindSpeed</th>\n",
       "      <th>WindDir</th>\n",
       "    </tr>\n",
       "  </thead>\n",
       "  <tbody>\n",
       "    <tr>\n",
       "      <th>2000-01-01 00:00:00</th>\n",
       "      <td>16.167381</td>\n",
       "      <td>311.476589</td>\n",
       "    </tr>\n",
       "    <tr>\n",
       "      <th>2000-01-01 00:10:00</th>\n",
       "      <td>18.632436</td>\n",
       "      <td>115.963904</td>\n",
       "    </tr>\n",
       "    <tr>\n",
       "      <th>2000-01-01 00:20:00</th>\n",
       "      <td>14.651068</td>\n",
       "      <td>188.463389</td>\n",
       "    </tr>\n",
       "    <tr>\n",
       "      <th>2000-01-01 00:30:00</th>\n",
       "      <td>7.614744</td>\n",
       "      <td>266.786817</td>\n",
       "    </tr>\n",
       "    <tr>\n",
       "      <th>2000-01-01 00:40:00</th>\n",
       "      <td>27.359652</td>\n",
       "      <td>201.191199</td>\n",
       "    </tr>\n",
       "    <tr>\n",
       "      <th>...</th>\n",
       "      <td>...</td>\n",
       "      <td>...</td>\n",
       "    </tr>\n",
       "    <tr>\n",
       "      <th>2000-03-10 09:50:00</th>\n",
       "      <td>25.157903</td>\n",
       "      <td>155.537917</td>\n",
       "    </tr>\n",
       "    <tr>\n",
       "      <th>2000-03-10 10:00:00</th>\n",
       "      <td>6.882836</td>\n",
       "      <td>46.315722</td>\n",
       "    </tr>\n",
       "    <tr>\n",
       "      <th>2000-03-10 10:10:00</th>\n",
       "      <td>1.121534</td>\n",
       "      <td>232.981244</td>\n",
       "    </tr>\n",
       "    <tr>\n",
       "      <th>2000-03-10 10:20:00</th>\n",
       "      <td>24.099449</td>\n",
       "      <td>180.825520</td>\n",
       "    </tr>\n",
       "    <tr>\n",
       "      <th>2000-03-10 10:30:00</th>\n",
       "      <td>1.208468</td>\n",
       "      <td>63.847727</td>\n",
       "    </tr>\n",
       "  </tbody>\n",
       "</table>\n",
       "<p>10000 rows × 2 columns</p>\n",
       "</div>"
      ],
      "text/plain": [
       "                     WindSpeed     WindDir\n",
       "2000-01-01 00:00:00  16.167381  311.476589\n",
       "2000-01-01 00:10:00  18.632436  115.963904\n",
       "2000-01-01 00:20:00  14.651068  188.463389\n",
       "2000-01-01 00:30:00   7.614744  266.786817\n",
       "2000-01-01 00:40:00  27.359652  201.191199\n",
       "...                        ...         ...\n",
       "2000-03-10 09:50:00  25.157903  155.537917\n",
       "2000-03-10 10:00:00   6.882836   46.315722\n",
       "2000-03-10 10:10:00   1.121534  232.981244\n",
       "2000-03-10 10:20:00  24.099449  180.825520\n",
       "2000-03-10 10:30:00   1.208468   63.847727\n",
       "\n",
       "[10000 rows x 2 columns]"
      ]
     },
     "execution_count": 22,
     "metadata": {},
     "output_type": "execute_result"
    }
   ],
   "source": [
    "pd.Grouper()"
   ]
  },
  {
   "cell_type": "code",
   "execution_count": 21,
   "metadata": {},
   "outputs": [
    {
     "data": {
      "text/html": [
       "<div>\n",
       "<style scoped>\n",
       "    .dataframe tbody tr th:only-of-type {\n",
       "        vertical-align: middle;\n",
       "    }\n",
       "\n",
       "    .dataframe tbody tr th {\n",
       "        vertical-align: top;\n",
       "    }\n",
       "\n",
       "    .dataframe thead th {\n",
       "        text-align: right;\n",
       "    }\n",
       "</style>\n",
       "<table border=\"1\" class=\"dataframe\">\n",
       "  <thead>\n",
       "    <tr style=\"text-align: right;\">\n",
       "      <th></th>\n",
       "      <th>WindSpeed</th>\n",
       "      <th>WindDir</th>\n",
       "    </tr>\n",
       "  </thead>\n",
       "  <tbody>\n",
       "    <tr>\n",
       "      <th>2000-01-01 00:00:00</th>\n",
       "      <td>14.238001</td>\n",
       "      <td>243.646108</td>\n",
       "    </tr>\n",
       "    <tr>\n",
       "      <th>2000-01-01 01:00:00</th>\n",
       "      <td>15.045553</td>\n",
       "      <td>129.394194</td>\n",
       "    </tr>\n",
       "    <tr>\n",
       "      <th>2000-01-01 02:00:00</th>\n",
       "      <td>15.771692</td>\n",
       "      <td>990.000000</td>\n",
       "    </tr>\n",
       "    <tr>\n",
       "      <th>2000-01-01 03:00:00</th>\n",
       "      <td>18.017857</td>\n",
       "      <td>104.745571</td>\n",
       "    </tr>\n",
       "    <tr>\n",
       "      <th>2000-01-01 04:00:00</th>\n",
       "      <td>17.057802</td>\n",
       "      <td>283.872748</td>\n",
       "    </tr>\n",
       "    <tr>\n",
       "      <th>...</th>\n",
       "      <td>...</td>\n",
       "      <td>...</td>\n",
       "    </tr>\n",
       "    <tr>\n",
       "      <th>2000-03-10 06:00:00</th>\n",
       "      <td>17.263978</td>\n",
       "      <td>125.068872</td>\n",
       "    </tr>\n",
       "    <tr>\n",
       "      <th>2000-03-10 07:00:00</th>\n",
       "      <td>19.444256</td>\n",
       "      <td>111.211559</td>\n",
       "    </tr>\n",
       "    <tr>\n",
       "      <th>2000-03-10 08:00:00</th>\n",
       "      <td>19.298598</td>\n",
       "      <td>332.423324</td>\n",
       "    </tr>\n",
       "    <tr>\n",
       "      <th>2000-03-10 09:00:00</th>\n",
       "      <td>16.144978</td>\n",
       "      <td>213.599011</td>\n",
       "    </tr>\n",
       "    <tr>\n",
       "      <th>2000-03-10 10:00:00</th>\n",
       "      <td>8.328072</td>\n",
       "      <td>120.215892</td>\n",
       "    </tr>\n",
       "  </tbody>\n",
       "</table>\n",
       "<p>1667 rows × 2 columns</p>\n",
       "</div>"
      ],
      "text/plain": [
       "                     WindSpeed     WindDir\n",
       "2000-01-01 00:00:00  14.238001  243.646108\n",
       "2000-01-01 01:00:00  15.045553  129.394194\n",
       "2000-01-01 02:00:00  15.771692  990.000000\n",
       "2000-01-01 03:00:00  18.017857  104.745571\n",
       "2000-01-01 04:00:00  17.057802  283.872748\n",
       "...                        ...         ...\n",
       "2000-03-10 06:00:00  17.263978  125.068872\n",
       "2000-03-10 07:00:00  19.444256  111.211559\n",
       "2000-03-10 08:00:00  19.298598  332.423324\n",
       "2000-03-10 09:00:00  16.144978  213.599011\n",
       "2000-03-10 10:00:00   8.328072  120.215892\n",
       "\n",
       "[1667 rows x 2 columns]"
      ]
     },
     "execution_count": 21,
     "metadata": {},
     "output_type": "execute_result"
    }
   ],
   "source": [
    "grouped.agg(aggfuns1)"
   ]
  },
  {
   "cell_type": "code",
   "execution_count": null,
   "metadata": {},
   "outputs": [],
   "source": []
  },
  {
   "cell_type": "code",
   "execution_count": 40,
   "metadata": {},
   "outputs": [],
   "source": []
  },
  {
   "cell_type": "code",
   "execution_count": 59,
   "metadata": {},
   "outputs": [
    {
     "name": "stderr",
     "output_type": "stream",
     "text": [
      "/Users/akshay/opt/anaconda3/lib/python3.8/site-packages/IPython/core/interactiveshell.py:3343: RankWarning: Polyfit may be poorly conditioned\n",
      "  exec(code_obj, self.user_global_ns, self.user_ns)\n",
      "/Users/akshay/opt/anaconda3/lib/python3.8/site-packages/IPython/core/interactiveshell.py:3343: RankWarning: Polyfit may be poorly conditioned\n",
      "  exec(code_obj, self.user_global_ns, self.user_ns)\n"
     ]
    },
    {
     "data": {
      "image/png": "[encoded data removed]",
      "text/plain": [
       "<Figure size 432x288 with 1 Axes>"
      ]
     },
     "metadata": {
      "needs_background": "light"
     },
     "output_type": "display_data"
    }
   ],
   "source": [
    "import matplotlib.pyplot as plt\n",
    "import seaborn as sns\n",
    "from scipy.interpolate import interp1d\n",
    "\n",
    "# original data\n",
    "x = [1, 2, 3, 4, 5, 6, 7, 8, 9, 10]\n",
    "y = [2, 7, 3, 4, 5, 1, 6, 9, 4, 6]\n",
    "\n",
    "# quadratic regression\n",
    "for i in range(int((len(x) + len(y)) / 2)):\n",
    "    sub_x = x[i:i+3]\n",
    "    sub_y = y[i:i+3]\n",
    "    \n",
    "    model = np.poly1d(np.polyfit(sub_x, sub_y, 2))\n",
    "    polyline = np.linspace(min(sub_x), max(sub_x), 200)\n",
    "    plt.plot(polyline, model(polyline), color=\"#6D34D6\", linestyle='dashed')\n",
    "\n",
    "\n",
    "#Interpolate\n",
    "x_new = np.linspace(min(x), max(x), 300)  \n",
    "f = interp1d(x, y, kind='quadratic')\n",
    "\n",
    "# plot lines\n",
    "plt.scatter(x, y, color='#FF3FAF')\n",
    "plt.plot(x_new,f(x_new), color='#FF3FAF', linestyle='solid')\n",
    "plt.show()"
   ]
  },
  {
   "cell_type": "code",
   "execution_count": 53,
   "metadata": {},
   "outputs": [
    {
     "ename": "ImportError",
     "evalue": "cannot import name 'spline' from 'scipy.interpolate' (/Users/akshay/opt/anaconda3/lib/python3.8/site-packages/scipy/interpolate/__init__.py)",
     "output_type": "error",
     "traceback": [
      "\u001b[0;31m---------------------------------------------------------------------------\u001b[0m",
      "\u001b[0;31mImportError\u001b[0m                               Traceback (most recent call last)",
      "\u001b[0;32m<ipython-input-53-f5f52bd3356e>\u001b[0m in \u001b[0;36m<module>\u001b[0;34m\u001b[0m\n\u001b[0;32m----> 1\u001b[0;31m \u001b[0;32mfrom\u001b[0m \u001b[0mscipy\u001b[0m\u001b[0;34m.\u001b[0m\u001b[0minterpolate\u001b[0m \u001b[0;32mimport\u001b[0m \u001b[0mspline\u001b[0m\u001b[0;34m\u001b[0m\u001b[0;34m\u001b[0m\u001b[0m\n\u001b[0m",
      "\u001b[0;31mImportError\u001b[0m: cannot import name 'spline' from 'scipy.interpolate' (/Users/akshay/opt/anaconda3/lib/python3.8/site-packages/scipy/interpolate/__init__.py)"
     ]
    }
   ],
   "source": []
  },
  {
   "cell_type": "code",
   "execution_count": null,
   "metadata": {},
   "outputs": [],
   "source": []
  },
  {
   "cell_type": "code",
   "execution_count": null,
   "metadata": {},
   "outputs": [],
   "source": []
  },
  {
   "cell_type": "code",
   "execution_count": 72,
   "metadata": {},
   "outputs": [
    {
     "data": {
      "text/plain": [
       "'2.3.1'"
      ]
     },
     "execution_count": 72,
     "metadata": {},
     "output_type": "execute_result"
    }
   ],
   "source": [
    "tf.__version__"
   ]
  },
  {
   "cell_type": "code",
   "execution_count": 116,
   "metadata": {},
   "outputs": [
    {
     "data": {
      "text/plain": [
       "TensorShape([25, 1010, 7, 512])"
      ]
     },
     "execution_count": 116,
     "metadata": {},
     "output_type": "execute_result"
    }
   ],
   "source": [
    "import tensorflow as tf\n",
    "\n",
    "a = np.random.random((25, 1010, 7, 512))\n",
    "b = np.random.random((10, 7))\n",
    "\n",
    "A = tf.convert_to_tensor(a)\n",
    "B = tf.convert_to_tensor(b)\n",
    "\n",
    "out = tf.concat([A[:,:10,:,:] + B[None, :, :, None], A[:,10:,:,:]], axis=1)\n",
    "out.shape"
   ]
  },
  {
   "cell_type": "code",
   "execution_count": 109,
   "metadata": {},
   "outputs": [
    {
     "data": {
      "text/plain": [
       "TensorShape([25, 10, 7, 512])"
      ]
     },
     "execution_count": 109,
     "metadata": {},
     "output_type": "execute_result"
    }
   ],
   "source": [
    "(A[:,:10,:,:] + B[None, :, :, None]).shape"
   ]
  },
  {
   "cell_type": "code",
   "execution_count": 64,
   "metadata": {},
   "outputs": [],
   "source": [
    "tf.stack()"
   ]
  },
  {
   "cell_type": "code",
   "execution_count": 117,
   "metadata": {},
   "outputs": [],
   "source": [
    "a[:,:10,:,:] += b[None,:,:,None]\n",
    "\n",
    "tf.reduce_all(tf.convert_to_tensor(a) == out)."
   ]
  },
  {
   "cell_type": "code",
   "execution_count": 122,
   "metadata": {},
   "outputs": [
    {
     "data": {
      "text/plain": [
       "<tf.Tensor: shape=(), dtype=bool, numpy=True>"
      ]
     },
     "execution_count": 122,
     "metadata": {},
     "output_type": "execute_result"
    }
   ],
   "source": []
  },
  {
   "cell_type": "code",
   "execution_count": 101,
   "metadata": {},
   "outputs": [
    {
     "name": "stdout",
     "output_type": "stream",
     "text": [
      "1.28 s ± 51.9 ms per loop (mean ± std. dev. of 7 runs, 1 loop each)\n"
     ]
    }
   ],
   "source": [
    "%%timeit\n",
    "\n",
    "M, N = 1001, 1001\n",
    "u = 100\n",
    "v = 200\n",
    "sin_img = np.zeros((M, N))\n",
    "for m in range(M):\n",
    "    for n in range(N):\n",
    "        sin_img[m, n] = np.sin((2 * np.pi * u * m / M) + (2 * np.pi * v * n / N))"
   ]
  },
  {
   "cell_type": "code",
   "execution_count": 105,
   "metadata": {},
   "outputs": [
    {
     "name": "stdout",
     "output_type": "stream",
     "text": [
      "24.4 ms ± 443 µs per loop (mean ± std. dev. of 7 runs, 10 loops each)\n"
     ]
    }
   ],
   "source": [
    "%%timeit\n",
    "\n",
    "idx_sin_img = np.stack(np.indices((M,N)), axis=-1) #(1001,1001,2)\n",
    "out = np.sin((2 * np.pi * u * idx_sin_img[...,0] / M) + \n",
    "             (2 * np.pi * v * idx_sin_img[...,1] / N))\n",
    "\n",
    "out.shape"
   ]
  },
  {
   "cell_type": "code",
   "execution_count": 103,
   "metadata": {},
   "outputs": [
    {
     "name": "stdout",
     "output_type": "stream",
     "text": [
      "1.44 s ± 68.1 ms per loop (mean ± std. dev. of 7 runs, 1 loop each)\n"
     ]
    }
   ],
   "source": [
    "%%timeit\n",
    "\n",
    "sin_img = np.array([[np.sin((2 * np.pi * u * m / M) + (2 * np.pi * v * n / N))\n",
    "    for n in range(N)]\n",
    "    for m in range(M)])"
   ]
  },
  {
   "cell_type": "code",
   "execution_count": 104,
   "metadata": {},
   "outputs": [
    {
     "data": {
      "text/plain": [
       "(1001, 1001)"
      ]
     },
     "execution_count": 104,
     "metadata": {},
     "output_type": "execute_result"
    }
   ],
   "source": [
    "out.shape"
   ]
  },
  {
   "cell_type": "code",
   "execution_count": null,
   "metadata": {},
   "outputs": [],
   "source": []
  },
  {
   "cell_type": "code",
   "execution_count": null,
   "metadata": {},
   "outputs": [],
   "source": []
  },
  {
   "cell_type": "code",
   "execution_count": null,
   "metadata": {},
   "outputs": [],
   "source": []
  },
  {
   "cell_type": "code",
   "execution_count": 74,
   "metadata": {},
   "outputs": [
    {
     "data": {
      "text/plain": [
       "1001"
      ]
     },
     "execution_count": 74,
     "metadata": {},
     "output_type": "execute_result"
    }
   ],
   "source": [
    "M"
   ]
  },
  {
   "cell_type": "code",
   "execution_count": 75,
   "metadata": {},
   "outputs": [
    {
     "data": {
      "text/plain": [
       "1001"
      ]
     },
     "execution_count": 75,
     "metadata": {},
     "output_type": "execute_result"
    }
   ],
   "source": [
    "N"
   ]
  },
  {
   "cell_type": "code",
   "execution_count": 77,
   "metadata": {},
   "outputs": [
    {
     "data": {
      "text/plain": [
       "(1001, 1001)"
      ]
     },
     "execution_count": 77,
     "metadata": {},
     "output_type": "execute_result"
    }
   ],
   "source": [
    "sin_img.shape"
   ]
  },
  {
   "cell_type": "code",
   "execution_count": 78,
   "metadata": {},
   "outputs": [
    {
     "data": {
      "text/plain": [
       "-0.9516367311568238"
      ]
     },
     "execution_count": 78,
     "metadata": {},
     "output_type": "execute_result"
    }
   ],
   "source": [
    "np.sin((2 * np.pi * u * m / M) + (2 * np.pi * v * n / N))"
   ]
  },
  {
   "cell_type": "code",
   "execution_count": 80,
   "metadata": {},
   "outputs": [],
   "source": [
    "sin_img = np.zeros((M, N))"
   ]
  },
  {
   "cell_type": "code",
   "execution_count": 166,
   "metadata": {},
   "outputs": [
    {
     "data": {
      "text/plain": [
       "array([[1, 2, 3, 4, 2, 5],\n",
       "       [4, 5, 6, 7, 8, 9],\n",
       "       [2, 5, 1, 3, 2, 5],\n",
       "       [0, 4, 0, 4, 0, 4],\n",
       "       [0, 3, 1, 7, 2, 4]])"
      ]
     },
     "execution_count": 166,
     "metadata": {},
     "output_type": "execute_result"
    }
   ],
   "source": [
    "a"
   ]
  },
  {
   "cell_type": "code",
   "execution_count": 165,
   "metadata": {},
   "outputs": [
    {
     "data": {
      "text/plain": [
       "(48, 8)"
      ]
     },
     "execution_count": 165,
     "metadata": {},
     "output_type": "execute_result"
    }
   ],
   "source": [
    "a.strides"
   ]
  },
  {
   "cell_type": "code",
   "execution_count": 167,
   "metadata": {},
   "outputs": [
    {
     "data": {
      "text/plain": [
       "(5, 6)"
      ]
     },
     "execution_count": 167,
     "metadata": {},
     "output_type": "execute_result"
    }
   ],
   "source": [
    "a.shape"
   ]
  },
  {
   "cell_type": "code",
   "execution_count": 175,
   "metadata": {},
   "outputs": [],
   "source": [
    "shape = (5,3,6)"
   ]
  },
  {
   "cell_type": "code",
   "execution_count": 176,
   "metadata": {},
   "outputs": [],
   "source": [
    "strides = (a.strides[0], a.strides[1]*2, a.strides[1])"
   ]
  },
  {
   "cell_type": "code",
   "execution_count": 178,
   "metadata": {},
   "outputs": [
    {
     "data": {
      "text/plain": [
       "array([[1, 2, 3, 4, 2, 5],\n",
       "       [3, 4, 2, 5, 4, 5],\n",
       "       [2, 5, 4, 5, 6, 7]])"
      ]
     },
     "execution_count": 178,
     "metadata": {},
     "output_type": "execute_result"
    }
   ],
   "source": [
    "np.lib.stride_tricks.as_strided(a, shape, strides)[0]"
   ]
  },
  {
   "cell_type": "code",
   "execution_count": null,
   "metadata": {},
   "outputs": [],
   "source": [
    "[1,2, 3,4, 2,5],  \n",
    "[1,2, 2,5, 3,4],  \n",
    "[3,4, 1,2, 2,5],  \n",
    "[3,4, 2,5, 1,2],  \n",
    "[2,5, 1,2, 3,4], and \n",
    "[2,5, 3,4, 1,2]"
   ]
  },
  {
   "cell_type": "code",
   "execution_count": 194,
   "metadata": {},
   "outputs": [
    {
     "data": {
      "text/plain": [
       "array([[[1, 2, 3, 4, 2, 5],\n",
       "        [1, 2, 2, 5, 3, 4],\n",
       "        [3, 4, 1, 2, 2, 5],\n",
       "        [3, 4, 2, 5, 1, 2],\n",
       "        [2, 5, 1, 2, 3, 4],\n",
       "        [2, 5, 3, 4, 1, 2]],\n",
       "\n",
       "       [[4, 5, 6, 7, 8, 9],\n",
       "        [4, 5, 8, 9, 6, 7],\n",
       "        [6, 7, 4, 5, 8, 9],\n",
       "        [6, 7, 8, 9, 4, 5],\n",
       "        [8, 9, 4, 5, 6, 7],\n",
       "        [8, 9, 6, 7, 4, 5]],\n",
       "\n",
       "       [[2, 5, 1, 3, 2, 5],\n",
       "        [2, 5, 2, 5, 1, 3],\n",
       "        [1, 3, 2, 5, 2, 5],\n",
       "        [1, 3, 2, 5, 2, 5],\n",
       "        [2, 5, 2, 5, 1, 3],\n",
       "        [2, 5, 1, 3, 2, 5]],\n",
       "\n",
       "       [[0, 4, 0, 4, 0, 4],\n",
       "        [0, 4, 0, 4, 0, 4],\n",
       "        [0, 4, 0, 4, 0, 4],\n",
       "        [0, 4, 0, 4, 0, 4],\n",
       "        [0, 4, 0, 4, 0, 4],\n",
       "        [0, 4, 0, 4, 0, 4]],\n",
       "\n",
       "       [[0, 3, 1, 7, 2, 4],\n",
       "        [0, 3, 2, 4, 1, 7],\n",
       "        [1, 7, 0, 3, 2, 4],\n",
       "        [1, 7, 2, 4, 0, 3],\n",
       "        [2, 4, 0, 3, 1, 7],\n",
       "        [2, 4, 1, 7, 0, 3]]])"
      ]
     },
     "execution_count": 194,
     "metadata": {},
     "output_type": "execute_result"
    }
   ],
   "source": [
    "import numpy as np\n",
    "\n",
    "a = np.array([[1,2,  3,4,  2,5], \n",
    "              [4,5,  6,7,  8,9],\n",
    "              [2,5,  1,3,  2,5],\n",
    "              [0,4,  0,4,  0,4],\n",
    "              [0,3,  1,7,  2,4]])\n",
    "\n",
    "b = a[:,[4,5,2,3,0,1]]\n",
    "\n",
    "np.hstack([a,\n",
    "           np.roll(b, 2, axis=1),\n",
    "           np.roll(b, 4, axis=1),           \n",
    "           np.roll(a, 4, axis=1),\n",
    "           np.roll(a, 2, axis=1),  \n",
    "           b]).reshape(5,-1,6)"
   ]
  },
  {
   "cell_type": "code",
   "execution_count": 199,
   "metadata": {},
   "outputs": [
    {
     "data": {
      "text/plain": [
       "array([[2, 5, 3, 4, 1, 2],\n",
       "       [8, 9, 6, 7, 4, 5],\n",
       "       [2, 5, 1, 3, 2, 5],\n",
       "       [0, 4, 0, 4, 0, 4],\n",
       "       [2, 4, 1, 7, 0, 3]])"
      ]
     },
     "execution_count": 199,
     "metadata": {},
     "output_type": "execute_result"
    }
   ],
   "source": []
  },
  {
   "cell_type": "code",
   "execution_count": 200,
   "metadata": {},
   "outputs": [
    {
     "data": {
      "text/plain": [
       "array([[1, 2, 3, 4, 2, 5],\n",
       "       [4, 5, 6, 7, 8, 9],\n",
       "       [2, 5, 1, 3, 2, 5],\n",
       "       [0, 4, 0, 4, 0, 4],\n",
       "       [0, 3, 1, 7, 2, 4]])"
      ]
     },
     "execution_count": 200,
     "metadata": {},
     "output_type": "execute_result"
    }
   ],
   "source": [
    "a"
   ]
  },
  {
   "cell_type": "code",
   "execution_count": null,
   "metadata": {},
   "outputs": [],
   "source": []
  },
  {
   "cell_type": "code",
   "execution_count": null,
   "metadata": {},
   "outputs": [],
   "source": []
  },
  {
   "cell_type": "code",
   "execution_count": null,
   "metadata": {},
   "outputs": [],
   "source": []
  },
  {
   "cell_type": "code",
   "execution_count": 202,
   "metadata": {},
   "outputs": [],
   "source": [
    "df = pd.read_clipboard('\\s\\s+')"
   ]
  },
  {
   "cell_type": "code",
   "execution_count": 214,
   "metadata": {},
   "outputs": [
    {
     "ename": "AttributeError",
     "evalue": "'str' object has no attribute 'items'",
     "output_type": "error",
     "traceback": [
      "\u001b[0;31m---------------------------------------------------------------------------\u001b[0m",
      "\u001b[0;31mAttributeError\u001b[0m                            Traceback (most recent call last)",
      "\u001b[0;32m<ipython-input-214-8e6f2f812263>\u001b[0m in \u001b[0;36m<module>\u001b[0;34m\u001b[0m\n\u001b[0;32m----> 1\u001b[0;31m \u001b[0mdf\u001b[0m\u001b[0;34m[\u001b[0m\u001b[0;34m'properties'\u001b[0m\u001b[0;34m]\u001b[0m\u001b[0;34m.\u001b[0m\u001b[0mapply\u001b[0m\u001b[0;34m(\u001b[0m\u001b[0;32mlambda\u001b[0m \u001b[0mx\u001b[0m\u001b[0;34m:\u001b[0m \u001b[0;34m[\u001b[0m\u001b[0;34m(\u001b[0m\u001b[0mk\u001b[0m\u001b[0;34m,\u001b[0m\u001b[0mv\u001b[0m\u001b[0;34m)\u001b[0m \u001b[0;32mfor\u001b[0m \u001b[0mk\u001b[0m\u001b[0;34m,\u001b[0m\u001b[0mv\u001b[0m \u001b[0;32min\u001b[0m \u001b[0mx\u001b[0m\u001b[0;34m.\u001b[0m\u001b[0mitems\u001b[0m\u001b[0;34m(\u001b[0m\u001b[0;34m)\u001b[0m\u001b[0;34m]\u001b[0m\u001b[0;34m)\u001b[0m\u001b[0;34m\u001b[0m\u001b[0;34m\u001b[0m\u001b[0m\n\u001b[0m",
      "\u001b[0;32m~/opt/anaconda3/lib/python3.8/site-packages/pandas/core/series.py\u001b[0m in \u001b[0;36mapply\u001b[0;34m(self, func, convert_dtype, args, **kwds)\u001b[0m\n\u001b[1;32m   3846\u001b[0m             \u001b[0;32melse\u001b[0m\u001b[0;34m:\u001b[0m\u001b[0;34m\u001b[0m\u001b[0;34m\u001b[0m\u001b[0m\n\u001b[1;32m   3847\u001b[0m                 \u001b[0mvalues\u001b[0m \u001b[0;34m=\u001b[0m \u001b[0mself\u001b[0m\u001b[0;34m.\u001b[0m\u001b[0mastype\u001b[0m\u001b[0;34m(\u001b[0m\u001b[0mobject\u001b[0m\u001b[0;34m)\u001b[0m\u001b[0;34m.\u001b[0m\u001b[0mvalues\u001b[0m\u001b[0;34m\u001b[0m\u001b[0;34m\u001b[0m\u001b[0m\n\u001b[0;32m-> 3848\u001b[0;31m                 \u001b[0mmapped\u001b[0m \u001b[0;34m=\u001b[0m \u001b[0mlib\u001b[0m\u001b[0;34m.\u001b[0m\u001b[0mmap_infer\u001b[0m\u001b[0;34m(\u001b[0m\u001b[0mvalues\u001b[0m\u001b[0;34m,\u001b[0m \u001b[0mf\u001b[0m\u001b[0;34m,\u001b[0m \u001b[0mconvert\u001b[0m\u001b[0;34m=\u001b[0m\u001b[0mconvert_dtype\u001b[0m\u001b[0;34m)\u001b[0m\u001b[0;34m\u001b[0m\u001b[0;34m\u001b[0m\u001b[0m\n\u001b[0m\u001b[1;32m   3849\u001b[0m \u001b[0;34m\u001b[0m\u001b[0m\n\u001b[1;32m   3850\u001b[0m         \u001b[0;32mif\u001b[0m \u001b[0mlen\u001b[0m\u001b[0;34m(\u001b[0m\u001b[0mmapped\u001b[0m\u001b[0;34m)\u001b[0m \u001b[0;32mand\u001b[0m \u001b[0misinstance\u001b[0m\u001b[0;34m(\u001b[0m\u001b[0mmapped\u001b[0m\u001b[0;34m[\u001b[0m\u001b[0;36m0\u001b[0m\u001b[0;34m]\u001b[0m\u001b[0;34m,\u001b[0m \u001b[0mSeries\u001b[0m\u001b[0;34m)\u001b[0m\u001b[0;34m:\u001b[0m\u001b[0;34m\u001b[0m\u001b[0;34m\u001b[0m\u001b[0m\n",
      "\u001b[0;32mpandas/_libs/lib.pyx\u001b[0m in \u001b[0;36mpandas._libs.lib.map_infer\u001b[0;34m()\u001b[0m\n",
      "\u001b[0;32m<ipython-input-214-8e6f2f812263>\u001b[0m in \u001b[0;36m<lambda>\u001b[0;34m(x)\u001b[0m\n\u001b[0;32m----> 1\u001b[0;31m \u001b[0mdf\u001b[0m\u001b[0;34m[\u001b[0m\u001b[0;34m'properties'\u001b[0m\u001b[0;34m]\u001b[0m\u001b[0;34m.\u001b[0m\u001b[0mapply\u001b[0m\u001b[0;34m(\u001b[0m\u001b[0;32mlambda\u001b[0m \u001b[0mx\u001b[0m\u001b[0;34m:\u001b[0m \u001b[0;34m[\u001b[0m\u001b[0;34m(\u001b[0m\u001b[0mk\u001b[0m\u001b[0;34m,\u001b[0m\u001b[0mv\u001b[0m\u001b[0;34m)\u001b[0m \u001b[0;32mfor\u001b[0m \u001b[0mk\u001b[0m\u001b[0;34m,\u001b[0m\u001b[0mv\u001b[0m \u001b[0;32min\u001b[0m \u001b[0mx\u001b[0m\u001b[0;34m.\u001b[0m\u001b[0mitems\u001b[0m\u001b[0;34m(\u001b[0m\u001b[0;34m)\u001b[0m\u001b[0;34m]\u001b[0m\u001b[0;34m)\u001b[0m\u001b[0;34m\u001b[0m\u001b[0;34m\u001b[0m\u001b[0m\n\u001b[0m",
      "\u001b[0;31mAttributeError\u001b[0m: 'str' object has no attribute 'items'"
     ]
    }
   ],
   "source": [
    "df['properties'].apply(lambda x: [(k,v) for k,v in x.items()])"
   ]
  },
  {
   "cell_type": "code",
   "execution_count": 222,
   "metadata": {},
   "outputs": [],
   "source": [
    "list1 = [ \"a\", \n",
    "          \"b\", \n",
    "          \"c\" ]\n",
    "list2 = [ \"e\", \n",
    "          \"f\",\n",
    "          \"g\" ]\n"
   ]
  },
  {
   "cell_type": "code",
   "execution_count": 224,
   "metadata": {},
   "outputs": [
    {
     "data": {
      "text/plain": [
       "[['a', 'e'], ['b', 'f'], ['c', 'g']]"
      ]
     },
     "execution_count": 224,
     "metadata": {},
     "output_type": "execute_result"
    }
   ],
   "source": []
  },
  {
   "cell_type": "code",
   "execution_count": 226,
   "metadata": {},
   "outputs": [],
   "source": [
    "try:\n",
    "    [2 * x  if x > 1 else 0 for x in [1,2,3]]\n",
    "except SyntaxError:\n",
    "    print(\"Why isn't this printed?\")"
   ]
  },
  {
   "cell_type": "code",
   "execution_count": 228,
   "metadata": {},
   "outputs": [
    {
     "name": "stdout",
     "output_type": "stream",
     "text": [
      "Why isn't this printed?\n"
     ]
    }
   ],
   "source": [
    "try:\n",
    "    eval(\"[2 * x for x in [1,2,3] if x > 1 else 0]\") #<----\n",
    "except SyntaxError:\n",
    "    print(\"Why isn't this printed?\")"
   ]
  },
  {
   "cell_type": "code",
   "execution_count": null,
   "metadata": {},
   "outputs": [],
   "source": []
  },
  {
   "cell_type": "code",
   "execution_count": null,
   "metadata": {},
   "outputs": [],
   "source": []
  },
  {
   "cell_type": "code",
   "execution_count": null,
   "metadata": {},
   "outputs": [],
   "source": []
  },
  {
   "cell_type": "code",
   "execution_count": null,
   "metadata": {},
   "outputs": [],
   "source": []
  },
  {
   "cell_type": "code",
   "execution_count": null,
   "metadata": {},
   "outputs": [],
   "source": []
  },
  {
   "cell_type": "code",
   "execution_count": 229,
   "metadata": {},
   "outputs": [],
   "source": [
    "import numpy as np\n",
    "\n",
    "def get_path(Z):\n",
    "    start = (1,1)\n",
    "    goal = (-2,-2)\n",
    "    \n",
    "    G = np.zeros(Z.shape)\n",
    "    G_gamma = np.zeros(G.shape)\n",
    "    G[start] = 1000\n",
    "    \n",
    "    break_counter = 0\n",
    "    longest_possible_path = np.max(Z.shape)*(int(np.min(Z.shape)/2)+1)+(int(np.min(Z.shape)/2)+1)\n",
    "    \n",
    "    while G[goal] == 0 and break_counter<longest_possible_path:\n",
    "        break_counter+=1\n",
    "        G_gamma = np.subtract(G, 1)\n",
    "        N = G_gamma[0:-2,1:-1]\n",
    "        W = G_gamma[1:-1,0:-2]\n",
    "        C = G[1:-1,1:-1]\n",
    "        E = G_gamma[1:-1,2:]\n",
    "        S = G_gamma[2:,1:-1]\n",
    "        G[1:-1,1:-1] = Z[1:-1,1:-1]*np.maximum.reduce([N,S,E,W,C])\n",
    "    \n",
    "    if G[goal] != 0:\n",
    "        num_steps = int(1000 - G[goal] + 1)\n",
    "    else:\n",
    "        num_steps = Z.shape[0]*Z.shape[1]\n",
    "    return num_steps\n",
    "\n",
    "def solution(map):\n",
    "    maze = (np.pad(map, 1, mode='constant', constant_values=1)==0).astype(int)\n",
    "    best_run = get_path(maze)\n",
    "    walls = np.argwhere(map)+1\n",
    "\n",
    "    for i in walls:\n",
    "        maze[tuple(i)]=1\n",
    "        p = get_path(maze)\n",
    "        if p<best_run:\n",
    "            best_run=p\n",
    "        maze[tuple(i)]=0\n",
    "    \n",
    "    return best_run"
   ]
  },
  {
   "cell_type": "code",
   "execution_count": null,
   "metadata": {},
   "outputs": [],
   "source": []
  },
  {
   "cell_type": "code",
   "execution_count": null,
   "metadata": {},
   "outputs": [],
   "source": []
  },
  {
   "cell_type": "code",
   "execution_count": 232,
   "metadata": {},
   "outputs": [
    {
     "name": "stdout",
     "output_type": "stream",
     "text": [
      "[0, 1, 2, 3, 4, 5, 6, 7, 8]\n"
     ]
    }
   ],
   "source": [
    "a = np.arange(9)\n",
    "print([i for i in a])"
   ]
  },
  {
   "cell_type": "code",
   "execution_count": 233,
   "metadata": {},
   "outputs": [],
   "source": [
    "a = [[1, 2, 3], \n",
    "     [4, 5, 6],\n",
    "     [7, 8, 9]]"
   ]
  },
  {
   "cell_type": "code",
   "execution_count": 257,
   "metadata": {},
   "outputs": [
    {
     "name": "stdout",
     "output_type": "stream",
     "text": [
      "[1 5 9]\n",
      "[3 5 7]\n"
     ]
    }
   ],
   "source": [
    "import numpy as np\n",
    "\n",
    "d1 = np.diag(np.array(a))\n",
    "d2 = np.diag(np.flip(np.array(a), axis=1))\n",
    "\n",
    "print(d1)\n",
    "print(d2)"
   ]
  },
  {
   "cell_type": "code",
   "execution_count": 259,
   "metadata": {},
   "outputs": [
    {
     "name": "stdout",
     "output_type": "stream",
     "text": [
      "[1, 5, 9]\n",
      "[3, 5, 7]\n"
     ]
    }
   ],
   "source": [
    "d1 = [a[i][i] for i in range(len(a))]\n",
    "d2 = [a[i][j] for i,j in enumerate(reversed(range(len(a[0]))))]\n",
    "print(d1)\n",
    "print(d2)"
   ]
  },
  {
   "cell_type": "code",
   "execution_count": 261,
   "metadata": {},
   "outputs": [
    {
     "name": "stdout",
     "output_type": "stream",
     "text": [
      "[1, 5, 9]\n",
      "[3, 5, 7]\n"
     ]
    }
   ],
   "source": [
    "d1 = []\n",
    "d2 = []\n",
    "\n",
    "for i,j in enumerate(reversed(range(len(a[0])))):\n",
    "    d1.append(a[i][i])\n",
    "    d2.append(a[i][j])\n",
    "    \n",
    "print(d1)\n",
    "print(d2)"
   ]
  },
  {
   "cell_type": "code",
   "execution_count": 268,
   "metadata": {},
   "outputs": [
    {
     "data": {
      "text/plain": [
       "array([3, 5, 7])"
      ]
     },
     "execution_count": 268,
     "metadata": {},
     "output_type": "execute_result"
    }
   ],
   "source": []
  },
  {
   "cell_type": "code",
   "execution_count": 269,
   "metadata": {},
   "outputs": [
    {
     "data": {
      "text/plain": [
       "array([1, 5, 9])"
      ]
     },
     "execution_count": 269,
     "metadata": {},
     "output_type": "execute_result"
    }
   ],
   "source": []
  },
  {
   "cell_type": "code",
   "execution_count": null,
   "metadata": {},
   "outputs": [],
   "source": []
  }
 ],
 "metadata": {
  "kernelspec": {
   "display_name": "Python 3",
   "language": "python",
   "name": "python3"
  },
  "language_info": {
   "codemirror_mode": {
    "name": "ipython",
    "version": 3
   },
   "file_extension": ".py",
   "mimetype": "text/x-python",
   "name": "python",
   "nbconvert_exporter": "python",
   "pygments_lexer": "ipython3",
   "version": "3.8.3"
  }
 },
 "nbformat": 4,
 "nbformat_minor": 4
}
