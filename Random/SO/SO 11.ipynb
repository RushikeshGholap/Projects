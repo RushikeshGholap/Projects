{
 "cells": [
  {
   "cell_type": "code",
   "execution_count": null,
   "metadata": {},
   "outputs": [],
   "source": [
    "import pandas as pd\n",
    "import numpy as np\n",
    "import matplotlib.pyplot as plt\n",
    "from tensorflow.keras import layers, Model, utils\n",
    "import scipy as sp"
   ]
  },
  {
   "cell_type": "code",
   "execution_count": null,
   "metadata": {},
   "outputs": [],
   "source": []
  },
  {
   "cell_type": "code",
   "execution_count": null,
   "metadata": {},
   "outputs": [],
   "source": []
  },
  {
   "cell_type": "markdown",
   "metadata": {},
   "source": [
    "https://stackoverflow.com/questions/65324957/how-to-get-bird-view-image-which-is-synthized-four-side-imagesget-avm-around"
   ]
  },
  {
   "cell_type": "code",
   "execution_count": null,
   "metadata": {},
   "outputs": [],
   "source": [
    "#Assume you have 4 views\n",
    "leftview = np.random.random((508, 221, 3))\n",
    "rightview = np.random.random((508, 221, 3))\n",
    "frontview = np.random.random((221, 508, 3))\n",
    "backview = np.random.random((221, 508, 3))\n",
    "\n",
    "#Creating color differences to view better. \n",
    "#IGNORE THIS PART OF CODE\n",
    "leftview[:,:,0]=1\n",
    "rightview[:,:,1]=1\n",
    "frontview[:,:,0:2]=1\n",
    "backview[:,:,1:3]=1\n",
    "\n",
    "#Calculate centerview size\n",
    "width = frontview.shape[1]-(leftview.shape[1]*2)\n",
    "height = leftview.shape[0]\n",
    "centerview = np.zeros((height,width,3))\n",
    "\n",
    "#Hstack the l,c,r views and then Vstack it between the f, b views\n",
    "lr = np.hstack([leftview,centerview,rightview])\n",
    "ud = np.vstack([frontview, lr, backview])\n",
    "\n",
    "#Plot the new image\n",
    "fig = plt.figure(figsize=(5,8))\n",
    "plt.imshow(ud)"
   ]
  },
  {
   "cell_type": "code",
   "execution_count": null,
   "metadata": {},
   "outputs": [],
   "source": []
  },
  {
   "cell_type": "code",
   "execution_count": null,
   "metadata": {},
   "outputs": [],
   "source": []
  },
  {
   "cell_type": "code",
   "execution_count": null,
   "metadata": {},
   "outputs": [],
   "source": []
  },
  {
   "cell_type": "code",
   "execution_count": null,
   "metadata": {},
   "outputs": [],
   "source": [
    "def zenos_paradox(archer_position, target_position, steps):\n",
    "    current = archer_position\n",
    "    print(\"The arrow is released at position \", archer_position)\n",
    "    print(\"It is aimed at postion \", target_position)\n",
    "    for step in range(steps):\n",
    "        current = current + (target_position / 2**(step+1)) #change this to be \n",
    "        print(\"Position of the arrow at step \", step+1, \"is \", current)\n",
    "    return(current)\n",
    "\n",
    "def question_2():\n",
    "    answer = zenos_paradox(0,100,5)\n",
    "    print(\"The answer is: \", answer)\n",
    "\n",
    "question_2()"
   ]
  },
  {
   "cell_type": "code",
   "execution_count": null,
   "metadata": {},
   "outputs": [],
   "source": []
  },
  {
   "cell_type": "code",
   "execution_count": null,
   "metadata": {},
   "outputs": [],
   "source": [
    "shape = (6, 7)\n",
    "X = np.zeros(shape, dtype=int)\n",
    "X[(4, 2)] = 1\n",
    "X[(5, 3)] = 1"
   ]
  },
  {
   "cell_type": "code",
   "execution_count": null,
   "metadata": {},
   "outputs": [],
   "source": [
    "shape = (6, 7)\n",
    "Y = np.zeros(shape, dtype=int)\n",
    "Y[(4, 2), (5, 3)] = 1"
   ]
  },
  {
   "cell_type": "code",
   "execution_count": null,
   "metadata": {},
   "outputs": [],
   "source": [
    "X"
   ]
  },
  {
   "cell_type": "code",
   "execution_count": null,
   "metadata": {},
   "outputs": [],
   "source": [
    "Y"
   ]
  },
  {
   "cell_type": "code",
   "execution_count": null,
   "metadata": {},
   "outputs": [],
   "source": [
    "X[(4, 5), (2, 3)]"
   ]
  },
  {
   "cell_type": "code",
   "execution_count": null,
   "metadata": {},
   "outputs": [],
   "source": [
    "print(X)\n",
    "print(X.strides)"
   ]
  },
  {
   "cell_type": "code",
   "execution_count": null,
   "metadata": {},
   "outputs": [],
   "source": []
  },
  {
   "cell_type": "code",
   "execution_count": null,
   "metadata": {},
   "outputs": [],
   "source": []
  },
  {
   "cell_type": "code",
   "execution_count": null,
   "metadata": {},
   "outputs": [],
   "source": []
  },
  {
   "cell_type": "code",
   "execution_count": null,
   "metadata": {},
   "outputs": [],
   "source": []
  },
  {
   "cell_type": "code",
   "execution_count": null,
   "metadata": {},
   "outputs": [],
   "source": [
    "a = np.random.random((7000,23))\n",
    "b = np.random.random((8,2))\n",
    "c = np.random.random((7000,8))\n",
    "\n",
    "a1 = a[:,None,:]\n",
    "b1 = b[None,:,:]\n",
    "c1 = c[:,:,None]\n",
    "\n",
    "a2 = np.broadcast_to(a1,(a1.shape[0],b1.shape[1],a1.shape[2]))\n",
    "b2 = np.broadcast_to(b1,(a1.shape[0],b1.shape[1],b1.shape[2]))\n",
    "c2 = c1\n",
    "\n",
    "out = np.concatenate([a2,b2,c2], axis=-1)\n",
    "\n",
    "print('step 1 ->',a.shape, b.shape, c.shape)\n",
    "print('step 2 ->',a1.shape, b1.shape, c1.shape)\n",
    "print('step 3 ->',a2.shape, b2.shape, c2.shape)\n",
    "print('final ->',out.shape)"
   ]
  },
  {
   "cell_type": "code",
   "execution_count": null,
   "metadata": {},
   "outputs": [],
   "source": []
  },
  {
   "cell_type": "code",
   "execution_count": null,
   "metadata": {},
   "outputs": [],
   "source": [
    "(70000, 8, 23)\n",
    "(70000, 8, 2)\n",
    "(70000, 8, 1)"
   ]
  },
  {
   "cell_type": "code",
   "execution_count": null,
   "metadata": {},
   "outputs": [],
   "source": []
  },
  {
   "cell_type": "code",
   "execution_count": null,
   "metadata": {},
   "outputs": [],
   "source": [
    "a = np.random.random((4,))[:,None]\n",
    "b = np.random.random((2,))[None,:]"
   ]
  },
  {
   "cell_type": "code",
   "execution_count": null,
   "metadata": {},
   "outputs": [],
   "source": [
    "a[:,None,:].shape[0]"
   ]
  },
  {
   "cell_type": "code",
   "execution_count": null,
   "metadata": {},
   "outputs": [],
   "source": [
    "np.broadcast_to(b,(4,2))"
   ]
  },
  {
   "cell_type": "code",
   "execution_count": null,
   "metadata": {},
   "outputs": [],
   "source": [
    "b"
   ]
  },
  {
   "cell_type": "code",
   "execution_count": null,
   "metadata": {},
   "outputs": [],
   "source": []
  },
  {
   "cell_type": "code",
   "execution_count": null,
   "metadata": {},
   "outputs": [],
   "source": [
    "df = pd.read_clipboard('\\s\\s+')\n",
    "df"
   ]
  },
  {
   "cell_type": "code",
   "execution_count": null,
   "metadata": {},
   "outputs": [],
   "source": []
  },
  {
   "cell_type": "code",
   "execution_count": null,
   "metadata": {},
   "outputs": [],
   "source": []
  },
  {
   "cell_type": "code",
   "execution_count": null,
   "metadata": {},
   "outputs": [],
   "source": []
  },
  {
   "cell_type": "code",
   "execution_count": null,
   "metadata": {},
   "outputs": [],
   "source": []
  },
  {
   "cell_type": "code",
   "execution_count": null,
   "metadata": {},
   "outputs": [],
   "source": [
    "X   Y   Resut   \n",
    "5   9   negative\n",
    "4   2   negative\n",
    "3   7   negative\n",
    "2   3   negative\n",
    "4   3   negative\n",
    "7   2   negative\n",
    "2   4   negative\n",
    "6   2   negative\n",
    "7   3   negative\n",
    "4   4   negative\n",
    "4   5   negative\n",
    "7   5   positive\n",
    "3   2   negative\n",
    "6   3   negative\n",
    "6   6   positive\n",
    "8   1   negative\n",
    "2   7   negative"
   ]
  },
  {
   "cell_type": "code",
   "execution_count": null,
   "metadata": {},
   "outputs": [],
   "source": []
  },
  {
   "cell_type": "code",
   "execution_count": null,
   "metadata": {},
   "outputs": [],
   "source": [
    "class myclass():\n",
    "    def __init__(self,s):\n",
    "        self.m = s\n",
    "        self.n = s*2\n",
    "        self.o = s*3\n",
    "        \n",
    "obj = myclass('hello world ')"
   ]
  },
  {
   "cell_type": "code",
   "execution_count": null,
   "metadata": {},
   "outputs": [],
   "source": [
    "obj.__dict__"
   ]
  },
  {
   "cell_type": "code",
   "execution_count": null,
   "metadata": {},
   "outputs": [],
   "source": [
    "obj.__class__.__class__"
   ]
  },
  {
   "cell_type": "code",
   "execution_count": null,
   "metadata": {},
   "outputs": [],
   "source": [
    "obj.__class__.__class__.__class__"
   ]
  },
  {
   "cell_type": "code",
   "execution_count": null,
   "metadata": {},
   "outputs": [],
   "source": []
  },
  {
   "cell_type": "code",
   "execution_count": null,
   "metadata": {},
   "outputs": [],
   "source": []
  },
  {
   "cell_type": "code",
   "execution_count": null,
   "metadata": {},
   "outputs": [],
   "source": []
  },
  {
   "cell_type": "code",
   "execution_count": null,
   "metadata": {},
   "outputs": [],
   "source": [
    "n=8\n",
    "for line in range(1, n + 1):  \n",
    "    c = 1   \n",
    "    x=n\n",
    "    y=line\n",
    "    print(\"  \"*(n-line), end=\"\")\n",
    "    for i in range(1, line + 1): \n",
    "        print(str(c).center(4), end = \"\")\n",
    "        c = int(c * (line - i) / i)\n",
    "    print(\" \")  "
   ]
  },
  {
   "cell_type": "code",
   "execution_count": null,
   "metadata": {},
   "outputs": [],
   "source": []
  },
  {
   "cell_type": "code",
   "execution_count": null,
   "metadata": {},
   "outputs": [],
   "source": [
    "\n",
    "sr    10.0.0.155  192.168.1.240   192.168.0.242\n",
    "\n",
    "0    19:48:46      16:23:40      20:14:07\n",
    "\n",
    "1    20:15:46      16:23:39      20:14:09\n",
    "\n",
    "2    19:49:37      16:23:20      00:00:00\n",
    "\n",
    "3    20:15:08      00:00:00      00:00:00\n",
    "\n",
    "4    19:48:46      00:00:00      00:00:00\n",
    "\n",
    "5    19:47:30      00:00:00      00:00:00\n",
    "\n",
    "6    19:49:13      00:00:00      00:00:00\n",
    "\n",
    "7    20:15:50      00:00:00      00:00:00\n",
    "\n",
    "8    19:45:34      00:00:00      00:00:00\n",
    "\n",
    "9    19:45:33      00:00:00      00:00:00"
   ]
  },
  {
   "cell_type": "code",
   "execution_count": null,
   "metadata": {},
   "outputs": [],
   "source": [
    "import pandas as pd"
   ]
  },
  {
   "cell_type": "code",
   "execution_count": null,
   "metadata": {},
   "outputs": [],
   "source": [
    "df = pd.read_clipboard('\\s\\s+').drop('sr', axis=1)"
   ]
  },
  {
   "cell_type": "code",
   "execution_count": null,
   "metadata": {},
   "outputs": [],
   "source": [
    "pd.to_(df)"
   ]
  },
  {
   "cell_type": "code",
   "execution_count": null,
   "metadata": {},
   "outputs": [],
   "source": [
    "pd.Timedelta(0)"
   ]
  },
  {
   "cell_type": "code",
   "execution_count": null,
   "metadata": {},
   "outputs": [],
   "source": [
    "df.mask(df==pd.Timedelta(0))"
   ]
  },
  {
   "cell_type": "code",
   "execution_count": null,
   "metadata": {},
   "outputs": [],
   "source": []
  },
  {
   "cell_type": "code",
   "execution_count": null,
   "metadata": {},
   "outputs": [],
   "source": []
  },
  {
   "cell_type": "code",
   "execution_count": null,
   "metadata": {},
   "outputs": [],
   "source": [
    "import numpy as np"
   ]
  },
  {
   "cell_type": "code",
   "execution_count": null,
   "metadata": {},
   "outputs": [],
   "source": [
    "p = np.random.randint(1, 10, (5, 10))\n",
    "Ts = np.random.randint(1, 10, (5,))"
   ]
  },
  {
   "cell_type": "code",
   "execution_count": null,
   "metadata": {},
   "outputs": [],
   "source": [
    "m = 5\n",
    "n = 10"
   ]
  },
  {
   "cell_type": "code",
   "execution_count": null,
   "metadata": {},
   "outputs": [],
   "source": [
    "for i in range(m):\n",
    "    for j in range(n):\n",
    "        if p[i, j] > Ts[i]:\n",
    "            p[i, j] = Ts[i]"
   ]
  },
  {
   "cell_type": "code",
   "execution_count": null,
   "metadata": {},
   "outputs": [],
   "source": [
    "# m = 2, n = 5\n",
    "p = np.array([[1, 2, 3, 4, 5],\n",
    "              [6, 7, 8, 9, 10]])\n",
    "Ts = np.array([3, 8])"
   ]
  },
  {
   "cell_type": "code",
   "execution_count": null,
   "metadata": {},
   "outputs": [],
   "source": [
    "m = 2\n",
    "n = 5"
   ]
  },
  {
   "cell_type": "code",
   "execution_count": null,
   "metadata": {},
   "outputs": [],
   "source": [
    "expected_new_p = \\\n",
    "    np.array([[1, 2, 3, 3, 3],\n",
    "              [6, 7, 8, 8, 8]])"
   ]
  },
  {
   "cell_type": "code",
   "execution_count": null,
   "metadata": {},
   "outputs": [],
   "source": [
    "for i in range(m):\n",
    "    for j in range(n):\n",
    "        if p[i, j] > Ts[i]:\n",
    "            p[i, j] = Ts[i]"
   ]
  },
  {
   "cell_type": "code",
   "execution_count": null,
   "metadata": {},
   "outputs": [],
   "source": [
    "p"
   ]
  },
  {
   "cell_type": "code",
   "execution_count": null,
   "metadata": {},
   "outputs": [],
   "source": [
    "p.shape"
   ]
  },
  {
   "cell_type": "code",
   "execution_count": null,
   "metadata": {},
   "outputs": [],
   "source": [
    "Ts.shape"
   ]
  },
  {
   "cell_type": "code",
   "execution_count": null,
   "metadata": {},
   "outputs": [],
   "source": [
    "np.where(p < Ts[:,None], p, Ts[:,None])"
   ]
  },
  {
   "cell_type": "code",
   "execution_count": null,
   "metadata": {},
   "outputs": [],
   "source": []
  },
  {
   "cell_type": "code",
   "execution_count": null,
   "metadata": {},
   "outputs": [],
   "source": [
    "import numpy as np\n",
    "import scipy.stats as stats\n",
    "\n",
    "\n",
    "a = np.array([[1,2,3,4,5,6], [2,3,4,6,1,5], [6,3,1,2,5,4]])\n",
    "\n",
    "# distance between a[0] and a[1]\n",
    "distance = stats.kendalltau(a[0], a[1])"
   ]
  },
  {
   "cell_type": "code",
   "execution_count": null,
   "metadata": {},
   "outputs": [],
   "source": [
    "distance"
   ]
  },
  {
   "cell_type": "code",
   "execution_count": null,
   "metadata": {},
   "outputs": [],
   "source": [
    "def kendaltau2():\n",
    "    tau = (P - Q) / sqrt((P + Q + T) * (P + Q + U))"
   ]
  },
  {
   "cell_type": "code",
   "execution_count": null,
   "metadata": {},
   "outputs": [],
   "source": [
    "stats.kendalltau()"
   ]
  },
  {
   "cell_type": "code",
   "execution_count": null,
   "metadata": {},
   "outputs": [],
   "source": []
  },
  {
   "cell_type": "code",
   "execution_count": null,
   "metadata": {},
   "outputs": [],
   "source": []
  },
  {
   "cell_type": "code",
   "execution_count": null,
   "metadata": {},
   "outputs": [],
   "source": [
    "a = np.array([[1,2,3,4,5,6], [2,3,4,6,1,5], [6,3,1,2,5,4]])\n",
    "\n",
    "def f(a,b):\n",
    "    return np.array(stats.kendalltau(a,b)[0])\n",
    "\n",
    "vf = np.vectorize(f, signature='(m),(m)->()')\n",
    "\n",
    "out = vf(a[:,None,:],a[None,:,:])"
   ]
  },
  {
   "cell_type": "code",
   "execution_count": null,
   "metadata": {},
   "outputs": [],
   "source": [
    "np.std(out)"
   ]
  },
  {
   "cell_type": "code",
   "execution_count": null,
   "metadata": {},
   "outputs": [],
   "source": [
    "np.std(out[np.tril_indices(out.shape[0], k=-1)])"
   ]
  },
  {
   "cell_type": "code",
   "execution_count": null,
   "metadata": {},
   "outputs": [],
   "source": []
  },
  {
   "cell_type": "code",
   "execution_count": null,
   "metadata": {},
   "outputs": [],
   "source": []
  },
  {
   "cell_type": "code",
   "execution_count": null,
   "metadata": {},
   "outputs": [],
   "source": [
    "np.ma.masked_array(np.tril(out), np."
   ]
  },
  {
   "cell_type": "code",
   "execution_count": null,
   "metadata": {},
   "outputs": [],
   "source": [
    "~np.eye(3, dtype=bool)+np.triu()"
   ]
  },
  {
   "cell_type": "code",
   "execution_count": null,
   "metadata": {},
   "outputs": [],
   "source": []
  },
  {
   "cell_type": "code",
   "execution_count": null,
   "metadata": {},
   "outputs": [],
   "source": []
  },
  {
   "cell_type": "code",
   "execution_count": null,
   "metadata": {},
   "outputs": [],
   "source": [
    "a = np.array([[2,3,5], [4,5,5] , [6,7,8]])"
   ]
  },
  {
   "cell_type": "code",
   "execution_count": null,
   "metadata": {},
   "outputs": [],
   "source": [
    "sorted(a, key = lambda x:sum(x), reverse=True)"
   ]
  },
  {
   "cell_type": "code",
   "execution_count": null,
   "metadata": {},
   "outputs": [],
   "source": [
    "np.so(a, axis=1)"
   ]
  },
  {
   "cell_type": "code",
   "execution_count": null,
   "metadata": {},
   "outputs": [],
   "source": [
    "a = [[2,3,5], [4,5,5] , [6,7,8]]\n",
    "sorted(a, key = lambda x:sum(x), reverse=True)"
   ]
  },
  {
   "cell_type": "code",
   "execution_count": null,
   "metadata": {},
   "outputs": [],
   "source": []
  },
  {
   "cell_type": "code",
   "execution_count": null,
   "metadata": {},
   "outputs": [],
   "source": []
  },
  {
   "cell_type": "code",
   "execution_count": null,
   "metadata": {},
   "outputs": [],
   "source": [
    "X = np.random.random((100,10,4))\n",
    "Y = np.random.random((100,))"
   ]
  },
  {
   "cell_type": "code",
   "execution_count": null,
   "metadata": {},
   "outputs": [],
   "source": [
    "from tensorflow.keras import layers, Model, utils"
   ]
  },
  {
   "cell_type": "code",
   "execution_count": null,
   "metadata": {},
   "outputs": [],
   "source": []
  },
  {
   "cell_type": "code",
   "execution_count": null,
   "metadata": {},
   "outputs": [],
   "source": []
  },
  {
   "cell_type": "code",
   "execution_count": null,
   "metadata": {},
   "outputs": [],
   "source": []
  },
  {
   "cell_type": "code",
   "execution_count": null,
   "metadata": {},
   "outputs": [],
   "source": [
    "from tensorflow.keras import layers, Model, utils\n",
    "\n",
    "#Four continous features\n",
    "X = np.random.random((100,10,4))\n",
    "Y = np.random.random((100,))\n",
    "\n",
    "###Define model###\n",
    "inp = layers.Input((10,4))\n",
    "\n",
    "#LSTMs\n",
    "x = layers.LSTM(8, return_sequences=True)(inp)\n",
    "x = layers.LSTM(8)(x)\n",
    "out = layers.Dense(1)(x)\n",
    "\n",
    "model = Model(inp, out)\n",
    "utils.plot_model(model, show_layer_names=False, show_shapes=True)"
   ]
  },
  {
   "cell_type": "code",
   "execution_count": null,
   "metadata": {},
   "outputs": [],
   "source": [
    "from tensorflow.keras import layers, Model, utils\n",
    "\n",
    "#One sequential, label encoded feature & 3 auxilary features for each timestep\n",
    "X = np.random.random((100,10,4))\n",
    "Y = np.random.random((100,))\n",
    "\n",
    "###Define model###\n",
    "inp = layers.Input((10,4))\n",
    "feature1 = layers.Lambda(lambda x: x[...,0])(inp)\n",
    "feature2 = layers.Lambda(lambda x: x[...,1:4])(inp)\n",
    "\n",
    "#Append embeddings features\n",
    "x = layers.Embedding(1000, 5)(feature1)\n",
    "x = layers.concatenate([x, feature2])\n",
    "\n",
    "#LSTMs\n",
    "x = layers.LSTM(8, return_sequences=True)(x)\n",
    "x = layers.LSTM(8)(x)\n",
    "out = layers.Dense(1)(x)\n",
    "\n",
    "model = Model(inp, out)\n",
    "utils.plot_model(model, show_layer_names=False, show_shapes=True)"
   ]
  },
  {
   "cell_type": "code",
   "execution_count": null,
   "metadata": {},
   "outputs": [],
   "source": []
  },
  {
   "cell_type": "code",
   "execution_count": null,
   "metadata": {},
   "outputs": [],
   "source": [
    "from tensorflow.keras import layers, Model, utils\n",
    "\n",
    "#Two sequential, label encoded features\n",
    "X = np.random.random((100,10,2))\n",
    "Y = np.random.random((100,))\n",
    "\n",
    "###Define model###\n",
    "inp = layers.Input((10,2))\n",
    "feature1 = layers.Lambda(lambda x: x[...,0])(inp)\n",
    "feature2 = layers.Lambda(lambda x: x[...,1])(inp)\n",
    "\n",
    "#Append embeddings features\n",
    "x1 = layers.Embedding(1000, 5)(feature1)\n",
    "x2 = layers.Embedding(1200, 7)(feature2)\n",
    "\n",
    "#LSTMs\n",
    "x1 = layers.LSTM(8, return_sequences=True)(x1)\n",
    "x1 = layers.LSTM(8)(x1)\n",
    "\n",
    "x2 = layers.LSTM(8, return_sequences=True)(x2)\n",
    "x2 = layers.LSTM(8)(x2)\n",
    "\n",
    "#Combine LSTM final states\n",
    "x = layers.concatenate([x1,x2])\n",
    "out = layers.Dense(1)(x)\n",
    "\n",
    "model = Model(inp, out)\n",
    "utils.plot_model(model, show_layer_names=False, show_shapes=True)"
   ]
  },
  {
   "cell_type": "code",
   "execution_count": null,
   "metadata": {},
   "outputs": [],
   "source": [
    "from tensorflow.keras import layers, Model, utils\n",
    "\n",
    "#One sequential, label and 3 auxilary continous features\n",
    "X = np.random.random((100,10,4))\n",
    "Y = np.random.random((100,))\n",
    "\n",
    "###Define model###\n",
    "inp = layers.Input((10,4))\n",
    "feature1 = layers.Lambda(lambda x: x[...,0])(inp)\n",
    "feature2 = layers.Lambda(lambda x: x[...,1:4])(inp)\n",
    "#feature2 = layers.Reshape((-1,1))(feature2)\n",
    "\n",
    "#Append embeddings features\n",
    "x = layers.Embedding(1000, 5)(feature1)\n",
    "\n",
    "#LSTMs\n",
    "x = layers.LSTM(8, return_sequences=True)(x)\n",
    "x = layers.concatenate([x, feature2])\n",
    "x = layers.LSTM(8)(x)\n",
    "\n",
    "#Combine LSTM final states\n",
    "out = layers.Dense(1)(x)\n",
    "\n",
    "model = Model(inp, out)\n",
    "utils.plot_model(model, show_layer_names=False, show_shapes=True)"
   ]
  },
  {
   "cell_type": "code",
   "execution_count": null,
   "metadata": {},
   "outputs": [],
   "source": []
  },
  {
   "cell_type": "code",
   "execution_count": null,
   "metadata": {},
   "outputs": [],
   "source": []
  },
  {
   "cell_type": "code",
   "execution_count": null,
   "metadata": {},
   "outputs": [],
   "source": []
  },
  {
   "cell_type": "code",
   "execution_count": null,
   "metadata": {},
   "outputs": [],
   "source": []
  },
  {
   "cell_type": "code",
   "execution_count": null,
   "metadata": {},
   "outputs": [],
   "source": [
    "c_dist = np.random.random((100,4))"
   ]
  },
  {
   "cell_type": "code",
   "execution_count": null,
   "metadata": {},
   "outputs": [],
   "source": [
    "c_dist=np.asarray(c_dist)\n",
    "\n",
    "hist, bins = np.histogram(c_dist[:,3], bins=5)"
   ]
  },
  {
   "cell_type": "code",
   "execution_count": null,
   "metadata": {},
   "outputs": [],
   "source": [
    "bins"
   ]
  },
  {
   "cell_type": "code",
   "execution_count": null,
   "metadata": {},
   "outputs": [],
   "source": [
    "ind = np.digitize(c_dist[:,3], bins)"
   ]
  },
  {
   "cell_type": "code",
   "execution_count": null,
   "metadata": {},
   "outputs": [],
   "source": [
    "c_dist[:,3]"
   ]
  },
  {
   "cell_type": "code",
   "execution_count": null,
   "metadata": {},
   "outputs": [],
   "source": []
  },
  {
   "cell_type": "code",
   "execution_count": null,
   "metadata": {},
   "outputs": [],
   "source": []
  },
  {
   "cell_type": "code",
   "execution_count": null,
   "metadata": {},
   "outputs": [],
   "source": []
  },
  {
   "cell_type": "code",
   "execution_count": null,
   "metadata": {},
   "outputs": [],
   "source": []
  },
  {
   "cell_type": "code",
   "execution_count": null,
   "metadata": {},
   "outputs": [],
   "source": [
    "import numpy as np\n",
    "\n",
    "popSize = 100\n",
    "features = 426\n",
    "maxDepth = 2\n",
    "\n",
    "featureLoc1 = np.zeros(shape=(popSize,features,maxDepth),dtype='int')\n",
    "featureLoc1[:,:,:] = np.arange(0,features,1)[None,:,None]"
   ]
  },
  {
   "cell_type": "code",
   "execution_count": null,
   "metadata": {},
   "outputs": [],
   "source": [
    "featureLoc1[0]"
   ]
  },
  {
   "cell_type": "code",
   "execution_count": null,
   "metadata": {},
   "outputs": [],
   "source": []
  },
  {
   "cell_type": "code",
   "execution_count": null,
   "metadata": {},
   "outputs": [],
   "source": []
  },
  {
   "cell_type": "code",
   "execution_count": null,
   "metadata": {},
   "outputs": [],
   "source": []
  },
  {
   "cell_type": "code",
   "execution_count": null,
   "metadata": {},
   "outputs": [],
   "source": []
  },
  {
   "cell_type": "code",
   "execution_count": null,
   "metadata": {},
   "outputs": [],
   "source": []
  },
  {
   "cell_type": "code",
   "execution_count": null,
   "metadata": {},
   "outputs": [],
   "source": []
  },
  {
   "cell_type": "code",
   "execution_count": null,
   "metadata": {},
   "outputs": [],
   "source": []
  },
  {
   "cell_type": "code",
   "execution_count": null,
   "metadata": {},
   "outputs": [],
   "source": [
    "from tensorflow.keras import layers, Model, utils"
   ]
  },
  {
   "cell_type": "code",
   "execution_count": null,
   "metadata": {},
   "outputs": [],
   "source": [
    "def generator():\n",
    "    while True:\n",
    "        length = np.random.randint(2, 10)\n",
    "        x_train = np.random.random((1, length, 2))\n",
    "        y_train = np.random.random((1,1))\n",
    "        yield x_train, y_train"
   ]
  },
  {
   "cell_type": "code",
   "execution_count": null,
   "metadata": {},
   "outputs": [],
   "source": [
    "next(generator())"
   ]
  },
  {
   "cell_type": "code",
   "execution_count": null,
   "metadata": {},
   "outputs": [],
   "source": [
    "next(generator())"
   ]
  },
  {
   "cell_type": "code",
   "execution_count": null,
   "metadata": {},
   "outputs": [],
   "source": [
    "from tensorflow.keras import layers, Model, utils\n",
    "\n",
    "inp = layers.Input((None, 2))\n",
    "x = layers.LSTM(10, return_sequences=True)(inp)\n",
    "x = layers.LSTM(10)(x)\n",
    "out = layers.Dense(1)(x)\n",
    "\n",
    "model = Model(inp, out)\n",
    "utils.plot_model(model, show_layer_names=False, show_shapes=True)"
   ]
  },
  {
   "cell_type": "code",
   "execution_count": null,
   "metadata": {},
   "outputs": [],
   "source": [
    "model.compile(loss='binary_crossentropy', optimizer='adam')\n",
    "model.fit(generator(), steps_per_epoch=100, epochs=10, batch_size=1)"
   ]
  },
  {
   "cell_type": "code",
   "execution_count": null,
   "metadata": {},
   "outputs": [],
   "source": []
  },
  {
   "cell_type": "code",
   "execution_count": null,
   "metadata": {},
   "outputs": [],
   "source": []
  },
  {
   "cell_type": "code",
   "execution_count": null,
   "metadata": {},
   "outputs": [],
   "source": []
  },
  {
   "cell_type": "code",
   "execution_count": null,
   "metadata": {},
   "outputs": [],
   "source": []
  },
  {
   "cell_type": "code",
   "execution_count": null,
   "metadata": {},
   "outputs": [],
   "source": []
  },
  {
   "cell_type": "code",
   "execution_count": null,
   "metadata": {},
   "outputs": [],
   "source": []
  },
  {
   "cell_type": "code",
   "execution_count": null,
   "metadata": {},
   "outputs": [],
   "source": []
  },
  {
   "cell_type": "code",
   "execution_count": null,
   "metadata": {},
   "outputs": [],
   "source": []
  },
  {
   "cell_type": "code",
   "execution_count": null,
   "metadata": {},
   "outputs": [],
   "source": []
  },
  {
   "cell_type": "code",
   "execution_count": null,
   "metadata": {},
   "outputs": [],
   "source": [
    "means = {'Q2.1_1': 2014.764423076923,\n",
    " 'Q2.1_2': 2015.7421052631578,\n",
    " 'Q2.1_3': 2016.4635416666667,\n",
    " 'Q2.1_4': 2015.4532019704434,\n",
    " 'Q2.1_5': 2014.2727272727273,\n",
    " 'Q2.1_6': 2016.320512820513,\n",
    " 'Q2.1_7': 2013.525,\n",
    " 'Q2.1_8': 2015.0,\n",
    " 'Q2.1_9': 2015.632183908046,\n",
    " 'Q2.1_10': 2013.0096618357488,\n",
    " 'Q4.1_1': 2014.7339901477833,\n",
    " 'Q4.1_2': 2013.1581920903955,\n",
    " 'Q4.1_3': 2013.7711864406779,\n",
    " 'Q4.1_4': 2013.387640449438,\n",
    " 'Q4.1_5': 2015.2732919254659,\n",
    " 'Q4.1_6': 2014.764705882353,\n",
    " 'Q4.1_7': 2014.91452991453,\n",
    " 'Q4.1_8': 2013.7643678160919,\n",
    " 'Q4.1_9': 2014.4528301886792,\n",
    " 'Q4.1_10': 2016.2547770700637,\n",
    " 'Q4.1_11': 2011.8423913043478,\n",
    " 'Q4.1_12': 2013.202380952381,\n",
    " 'Q4.1_13': 2012.1944444444443,\n",
    " 'Q6.1_1': 2016.6825396825398,\n",
    " 'Q6.1_2': 2014.7605633802816,\n",
    " 'Q8.1_1': 2013.4792899408285,\n",
    " 'Q8.1_2': 2012.6614583333333,\n",
    " 'Q8.1_3': 2015.4470588235295,\n",
    " 'Q8.1_4': 2013.2890625,\n",
    " 'Q8.1_5': 2013.8778625954199,\n",
    " 'Q10.1_1': 2013.503816793893,\n",
    " 'Q10.1_2': 2014.125654450262,\n",
    " 'Q10.1_3': 2014.4702702702702,\n",
    " 'Q12.1_1': 2011.2634146341463}"
   ]
  },
  {
   "cell_type": "code",
   "execution_count": null,
   "metadata": {},
   "outputs": [],
   "source": [
    "data = [(int(k[1:2]),int(k[-1:]),v) for k,v in means.items()]"
   ]
  },
  {
   "cell_type": "code",
   "execution_count": null,
   "metadata": {},
   "outputs": [],
   "source": [
    "values = np.array(list(means.values()))[:,None]\n",
    "keys = list(means.keys())\n",
    "\n",
    "print(pd.DataFrame(np.abs(values - values.T), columns=keys, index=keys))\n",
    "\n",
    "           Q2.1_1    Q2.1_2    Q2.1_3    Q2.1_4    Q2.1_5    Q2.1_6    Q2.1_7  \\\n",
    "Q2.1_1   0.000000  0.977682  1.699119  0.688779  0.491696  1.556090  1.239423   \n",
    "Q2.1_2   0.977682  0.000000  0.721436  0.288903  1.469378  0.578408  2.217105   \n",
    "Q2.1_3   1.699119  0.721436  0.000000  1.010340  2.190814  0.143029  2.938542   \n",
    "Q2.1_4   0.688779  0.288903  1.010340  0.000000  1.180475  0.867311  1.928202   \n",
    "Q2.1_5   0.491696  1.469378  2.190814  1.180475  0.000000  2.047786  0.747727   \n",
    "Q2.1_6   1.556090  0.578408  0.143029  0.867311  2.047786  0.000000  2.795513   \n",
    "Q2.1_7   1.239423  2.217105  2.938542  1.928202  0.747727  2.795513  0.000000   \n",
    "Q2.1_8   0.235577  0.742105  1.463542  0.453202  0.727273  1.320513  1.475000   \n",
    "Q2.1_9   0.867761  0.109921  0.831358  0.178982  1.359457  0.688329  2.107184   \n",
    "Q2.1_10  1.754761  2.732443  3.453880  2.443540  1.263065  3.310851  0.515338   \n",
    "Q4.1_1   0.030433  1.008115  1.729552  0.719212  0.461263  1.586523  1.208990"
   ]
  },
  {
   "cell_type": "code",
   "execution_count": null,
   "metadata": {},
   "outputs": [],
   "source": [
    "pd.Series(means) - pd.Series(means)"
   ]
  },
  {
   "cell_type": "code",
   "execution_count": null,
   "metadata": {},
   "outputs": [],
   "source": []
  },
  {
   "cell_type": "code",
   "execution_count": null,
   "metadata": {},
   "outputs": [],
   "source": []
  },
  {
   "cell_type": "code",
   "execution_count": null,
   "metadata": {},
   "outputs": [],
   "source": []
  },
  {
   "cell_type": "code",
   "execution_count": null,
   "metadata": {},
   "outputs": [],
   "source": []
  },
  {
   "cell_type": "code",
   "execution_count": null,
   "metadata": {},
   "outputs": [],
   "source": []
  },
  {
   "cell_type": "code",
   "execution_count": null,
   "metadata": {},
   "outputs": [],
   "source": [
    "x = np.array([1, 2, 3, 4])\n",
    "x1 = x\n",
    "x2 = np.sqrt(x)\n",
    "x3 = x[1:2]\n",
    "x4 = x[1::2]\n",
    "x5 = x.reshape(-1,2)\n",
    "x6 = x[:,None]\n",
    "x7 = x[None,:]\n",
    "x8 = x6+x7\n",
    "x9 = x5[1,0:2]\n",
    "x10 = x5[[0,1],0:2]\n",
    "\n",
    "\n",
    "print(np.shares_memory(x, x1))\n",
    "print(np.shares_memory(x, x2))\n",
    "print(np.shares_memory(x, x3))\n",
    "print(np.shares_memory(x, x4))\n",
    "print(np.shares_memory(x, x5))\n",
    "print(np.shares_memory(x, x6))\n",
    "print(np.shares_memory(x, x7))\n",
    "print(np.shares_memory(x, x8))\n",
    "print(np.shares_memory(x, x9))\n",
    "print(np.shares_memory(x, x10))"
   ]
  },
  {
   "cell_type": "code",
   "execution_count": null,
   "metadata": {},
   "outputs": [],
   "source": []
  },
  {
   "cell_type": "code",
   "execution_count": null,
   "metadata": {},
   "outputs": [],
   "source": []
  },
  {
   "cell_type": "code",
   "execution_count": null,
   "metadata": {},
   "outputs": [],
   "source": []
  },
  {
   "cell_type": "code",
   "execution_count": null,
   "metadata": {},
   "outputs": [],
   "source": []
  },
  {
   "cell_type": "code",
   "execution_count": null,
   "metadata": {},
   "outputs": [],
   "source": [
    "from PIL import Image\n",
    "from numpy import asarray\n",
    "\n",
    "img = Image.open(\"van_gogh.jpg\", mode='r')\n",
    "\n",
    "factor = 80\n",
    "\n",
    "kernel = (img.height//factor, img.width//factor)\n",
    "pixelated = img.resize(kernel,resample=Image.BICUBIC)\n",
    "pixelated = pixelated.resize(img.size,Image.NEAREST)\n",
    "\n",
    "#Grids\n",
    "grid_color = [255,255,255]\n",
    "\n",
    "dx, dy = factor, factor\n",
    "g = np.asarray(pixelated).copy()\n",
    "\n",
    "g[:,::dy,:] = grid_color\n",
    "g[::dx,:,:] = grid_color\n",
    "\n",
    "pixelated2 = Image.fromarray(g)\n",
    "pixelated2"
   ]
  },
  {
   "cell_type": "code",
   "execution_count": null,
   "metadata": {},
   "outputs": [],
   "source": []
  },
  {
   "cell_type": "code",
   "execution_count": null,
   "metadata": {},
   "outputs": [],
   "source": []
  },
  {
   "cell_type": "code",
   "execution_count": null,
   "metadata": {},
   "outputs": [],
   "source": []
  },
  {
   "cell_type": "code",
   "execution_count": null,
   "metadata": {},
   "outputs": [],
   "source": [
    "d = {'balanceSheetHistory': {'AAPL': [{'2020-09-26': {'totalLiab': 258549000000, 'totalStockholderEquity': 65339000000, 'otherCurrentLiab': 47867000000, 'totalAssets': 323888000000, 'commonStock': 50779000000, 'otherCurrentAssets': 11264000000, 'retainedEarnings': 14966000000, 'otherLiab': 46108000000, 'treasuryStock': -406000000, 'otherAssets': 33952000000, 'cash': 38016000000, 'totalCurrentLiabilities': 105392000000, 'shortLongTermDebt': 8773000000, 'otherStockholderEquity': -406000000, 'propertyPlantEquipment': 45336000000, 'totalCurrentAssets': 143713000000, 'longTermInvestments': 100887000000, 'netTangibleAssets': 65339000000, 'shortTermInvestments': 52927000000, 'netReceivables': 37445000000, 'longTermDebt': 98667000000, 'inventory': 4061000000, 'accountsPayable': 42296000000}}, {'2019-09-28': {'totalLiab': 248028000000, 'totalStockholderEquity': 90488000000, 'otherCurrentLiab': 43242000000, 'totalAssets': 338516000000, 'commonStock': 45174000000, 'otherCurrentAssets': 12352000000, 'retainedEarnings': 45898000000, 'otherLiab': 50503000000, 'treasuryStock': -584000000, 'otherAssets': 32978000000, 'cash': 48844000000, 'totalCurrentLiabilities': 105718000000, 'shortLongTermDebt': 10260000000, 'otherStockholderEquity': -584000000, 'propertyPlantEquipment': 37378000000, 'totalCurrentAssets': 162819000000, 'longTermInvestments': 105341000000, 'netTangibleAssets': 90488000000, 'shortTermInvestments': 51713000000, 'netReceivables': 45804000000, 'longTermDebt': 91807000000, 'inventory': 4106000000, 'accountsPayable': 46236000000}}, {'2018-09-29': {'totalLiab': 258578000000, 'totalStockholderEquity': 107147000000, 'otherCurrentLiab': 39293000000, 'totalAssets': 365725000000, 'commonStock': 40201000000, 'otherCurrentAssets': 12087000000, 'retainedEarnings': 70400000000, 'otherLiab': 48914000000, 'treasuryStock': -3454000000, 'otherAssets': 22283000000, 'cash': 25913000000, 'totalCurrentLiabilities': 115929000000, 'shortLongTermDebt': 8784000000, 'otherStockholderEquity': -3454000000, 'propertyPlantEquipment': 41304000000, 'totalCurrentAssets': 131339000000, 'longTermInvestments': 170799000000, 'netTangibleAssets': 107147000000, 'shortTermInvestments': 40388000000, 'netReceivables': 48995000000, 'longTermDebt': 93735000000, 'inventory': 3956000000, 'accountsPayable': 55888000000}}, {'2017-09-30': {'totalLiab': 241272000000, 'totalStockholderEquity': 134047000000, 'otherCurrentLiab': 38099000000, 'totalAssets': 375319000000, 'commonStock': 35867000000, 'otherCurrentAssets': 13936000000, 'retainedEarnings': 98330000000, 'otherLiab': 43251000000, 'treasuryStock': -150000000, 'otherAssets': 18177000000, 'cash': 20289000000, 'totalCurrentLiabilities': 100814000000, 'shortLongTermDebt': 6496000000, 'otherStockholderEquity': -150000000, 'propertyPlantEquipment': 33783000000, 'totalCurrentAssets': 128645000000, 'longTermInvestments': 194714000000, 'netTangibleAssets': 134047000000, 'shortTermInvestments': 53892000000, 'netReceivables': 35673000000, 'longTermDebt': 97207000000, 'inventory': 4855000000, 'accountsPayable': 44242000000}}]}}\n",
    "\n"
   ]
  },
  {
   "cell_type": "code",
   "execution_count": null,
   "metadata": {},
   "outputs": [],
   "source": [
    "X = np.random.random((100,))\n",
    "Y = np.random.random((100,))"
   ]
  },
  {
   "cell_type": "code",
   "execution_count": null,
   "metadata": {},
   "outputs": [],
   "source": [
    "out = np.zeros((100,))\n",
    "np.add(X, 2*Y, out=X)"
   ]
  },
  {
   "cell_type": "code",
   "execution_count": null,
   "metadata": {},
   "outputs": [],
   "source": [
    "out = np.zeros((100,))\n",
    "np.add(X, Y, out=X)\n",
    "np.add(X, Y, out=X)"
   ]
  },
  {
   "cell_type": "code",
   "execution_count": null,
   "metadata": {},
   "outputs": [],
   "source": [
    "print(np.shares_memory(Y, 2*Y))"
   ]
  },
  {
   "cell_type": "code",
   "execution_count": null,
   "metadata": {},
   "outputs": [],
   "source": [
    "Y = np.ones((10000,))"
   ]
  },
  {
   "cell_type": "code",
   "execution_count": null,
   "metadata": {},
   "outputs": [],
   "source": [
    "#Case 3:\n",
    "X = np.array([0])\n",
    "np.add(Y, Y, out=Y)\n",
    "np.add(X, Y, out=X)\n",
    "print(X)\n",
    "\n",
    "#2*Y is a brand new array in memory\n",
    "print(np.shares_memory(Y, 2*Y))\n",
    "\n",
    "#np.add(Y, Y, out=Y) Adding Y to itself shares memory\n",
    "print(np.shares_memory(Y, np.add(Y, Y, out=Y)))"
   ]
  },
  {
   "cell_type": "code",
   "execution_count": null,
   "metadata": {},
   "outputs": [],
   "source": [
    "%%timeit\n",
    "#Case 1:\n",
    "X = np.zeros((10000,))\n",
    "np.add(X, 2*Y, out=X)"
   ]
  },
  {
   "cell_type": "code",
   "execution_count": null,
   "metadata": {},
   "outputs": [],
   "source": [
    "%%timeit\n",
    "#Case 2:\n",
    "X = np.zeros((10000,))\n",
    "np.add(X, Y, out=X)\n",
    "np.add(X, Y, out=X)"
   ]
  },
  {
   "cell_type": "code",
   "execution_count": null,
   "metadata": {},
   "outputs": [],
   "source": [
    "%%timeit\n",
    "#Case 3:\n",
    "X = np.zeros((10000,))\n",
    "np.add(Y, Y, out=Y)\n",
    "np.add(X, Y, out=X)"
   ]
  },
  {
   "cell_type": "code",
   "execution_count": null,
   "metadata": {},
   "outputs": [],
   "source": []
  },
  {
   "cell_type": "code",
   "execution_count": null,
   "metadata": {},
   "outputs": [],
   "source": []
  },
  {
   "cell_type": "code",
   "execution_count": null,
   "metadata": {},
   "outputs": [],
   "source": []
  },
  {
   "cell_type": "code",
   "execution_count": null,
   "metadata": {},
   "outputs": [],
   "source": []
  },
  {
   "cell_type": "code",
   "execution_count": null,
   "metadata": {},
   "outputs": [],
   "source": [
    "from tensorflow.keras import layers, Model, utils\n",
    "import tensorflow as tf"
   ]
  },
  {
   "cell_type": "code",
   "execution_count": null,
   "metadata": {},
   "outputs": [],
   "source": [
    "def model_base():\n",
    "    inp = layers.Input((100,100,3))\n",
    "    x = layers.Conv2D(10, 3)(inp)\n",
    "    x = layers.MaxPool2D(3)(x)\n",
    "    x = layers.Conv2D(10, 3, name='first')(x)\n",
    "    x = layers.Conv2D(10, 3, name='second')(x)\n",
    "    x = layers.MaxPool2D(3)(x)\n",
    "    x = layers.Flatten()(x)\n",
    "    out = layers.Dense(1, activation='softmax')(x)\n",
    "    \n",
    "    model = Model(inp, out)\n",
    "    model.compile(loss='sparse_categorical_crossentropy', optimizer='adam')\n",
    "    return model\n",
    "\n",
    "def model_dog(inp_shape=(30,30,10)):\n",
    "    inp = layers.Input(inp_shape)\n",
    "    x = layers.MaxPool2D(3)(inp)\n",
    "    x = layers.Conv2D(10, 3)(x)\n",
    "    x = layers.MaxPool2D(3)(x)\n",
    "    x = layers.Flatten()(x)\n",
    "    out = layers.Dense(5, activation='softmax')(x)\n",
    "    \n",
    "    model = Model(inp, out)\n",
    "    model.compile(loss='sparse_categorical_entropy', optimizer='adam')\n",
    "    return model\n",
    "\n",
    "def model_cat(inp_shape=(28, 28, 10)):\n",
    "    inp = layers.Input(inp_shape)\n",
    "    x = layers.MaxPool2D(3)(inp)\n",
    "    x = layers.Conv2D(10, 3)(x)\n",
    "    x = layers.MaxPool2D(3)(x)\n",
    "    x = layers.Flatten()(x)\n",
    "    out = layers.Dense(5, activation='softmax', )(x)\n",
    "    \n",
    "    model = Model(inp, out)\n",
    "    model.compile(loss='sparse_categorical_entropy', optimizer='adam')\n",
    "    return model"
   ]
  },
  {
   "cell_type": "code",
   "execution_count": null,
   "metadata": {},
   "outputs": [],
   "source": []
  },
  {
   "cell_type": "code",
   "execution_count": null,
   "metadata": {},
   "outputs": [],
   "source": [
    "base_model = model_base()\n",
    "dog_model = model_dog()\n",
    "cat_model = model_cat()\n",
    "\n",
    "cat_model.summary()"
   ]
  },
  {
   "cell_type": "code",
   "execution_count": null,
   "metadata": {},
   "outputs": [],
   "source": [
    "from tensorflow.keras import layers, Model, utils\n",
    "\n",
    "#Model architecture\n",
    "inp = layers.Input((500,500,3))\n",
    "x = layers.Conv2D(10, 3)(inp)\n",
    "x = layers.MaxPool2D(3)(x)\n",
    "x = layers.Conv2D(10, 3)(x)\n",
    "x = layers.MaxPool2D(3)(x)\n",
    "x = layers.Conv2D(10, 3)(x)\n",
    "x = layers.MaxPool2D(3)(x)\n",
    "x1 = layers.Flatten()(x)\n",
    "out1 = layers.Dense(1, activation='sigmoid', name='animal')(x1)\n",
    "x2 = layers.Conv2D(10, 3)(x)\n",
    "x2 = layers.MaxPool2D(3)(x2)\n",
    "x2 = layers.Flatten()(x2)\n",
    "out2 = layers.Dense(10, activation='softmax', name='breed')(x2)\n",
    "\n",
    "model = Model(inp, [out1, out2])\n",
    "\n",
    "utils.plot_model(model, show_shapes=True, show_layer_names=False)"
   ]
  },
  {
   "cell_type": "code",
   "execution_count": null,
   "metadata": {},
   "outputs": [],
   "source": [
    "images = np.random.random((100,500,500,3))\n",
    "animal = np.random.randint(0,2,(100,))\n",
    "breed = np.random.randint(0,10,(100,))\n",
    "\n",
    "model.compile(loss=['binary_crossentropy','sparse_categorical_crossentropy'], \n",
    "              loss_weights=[0.6, 0.4], \n",
    "              optimizer='adam')\n",
    "\n",
    "model.fit(images, [animal, breed], batch_size=8, epochs=3)\n",
    "\n",
    "Epoch 1/3\n",
    "13/13 [==============================] - 4s 324ms/step - loss: 1.3445 - animal_loss: 0.6991 - breed_loss: 2.3125\n",
    "Epoch 2/3\n",
    "13/13 [==============================] - 4s 314ms/step - loss: 1.3055 - animal_loss: 0.6673 - breed_loss: 2.2627\n",
    "Epoch 3/3\n",
    "13/13 [==============================] - 4s 322ms/step - loss: 1.2806 - animal_loss: 0.6556 - breed_loss: 2.2182"
   ]
  },
  {
   "cell_type": "code",
   "execution_count": null,
   "metadata": {},
   "outputs": [],
   "source": []
  },
  {
   "cell_type": "code",
   "execution_count": null,
   "metadata": {},
   "outputs": [],
   "source": []
  },
  {
   "cell_type": "code",
   "execution_count": null,
   "metadata": {},
   "outputs": [],
   "source": []
  },
  {
   "cell_type": "code",
   "execution_count": null,
   "metadata": {},
   "outputs": [],
   "source": []
  },
  {
   "cell_type": "code",
   "execution_count": null,
   "metadata": {},
   "outputs": [],
   "source": []
  },
  {
   "cell_type": "code",
   "execution_count": null,
   "metadata": {},
   "outputs": [],
   "source": []
  },
  {
   "cell_type": "code",
   "execution_count": null,
   "metadata": {},
   "outputs": [],
   "source": []
  },
  {
   "cell_type": "code",
   "execution_count": null,
   "metadata": {},
   "outputs": [],
   "source": []
  },
  {
   "cell_type": "code",
   "execution_count": null,
   "metadata": {
    "scrolled": false
   },
   "outputs": [],
   "source": [
    "base = model_base()\n",
    "cat = model_1((30,30,10))\n",
    "dog = model_1((28, 28, 10))"
   ]
  },
  {
   "cell_type": "code",
   "execution_count": null,
   "metadata": {},
   "outputs": [],
   "source": [
    "X = np.random.random((50, 100, 100, 3))\n",
    "Y = np.random.randint(0,2,(50,))"
   ]
  },
  {
   "cell_type": "code",
   "execution_count": null,
   "metadata": {},
   "outputs": [],
   "source": [
    "base.fit(X, Y, epochs=3, verbose=0)"
   ]
  },
  {
   "cell_type": "code",
   "execution_count": null,
   "metadata": {},
   "outputs": [],
   "source": []
  },
  {
   "cell_type": "code",
   "execution_count": null,
   "metadata": {},
   "outputs": [],
   "source": [
    "inp = layers.Input((100,100,3))\n",
    "x = layers.Conv2D(10, 3)(inp)\n",
    "x = layers.MaxPool2D(3)(x)\n",
    "x = layers.Conv2D(10, 3, name='first')(x)\n",
    "x = layers.Conv2D(10, 3, name='second')(x)\n",
    "x = layers.MaxPool2D(3)(x)\n",
    "x = layers.Flatten()(x)\n",
    "out = layers.Dense(2, activation='softmax')(x)\n",
    "\n",
    "a = out[0]\n",
    "b = out[1]\n",
    "\n",
    "@tf.function\n",
    "def check(a,b):\n",
    "    if tf.reduce_all(tf.greater(a,b)):\n",
    "        return 'a'"
   ]
  },
  {
   "cell_type": "code",
   "execution_count": null,
   "metadata": {},
   "outputs": [],
   "source": []
  },
  {
   "cell_type": "code",
   "execution_count": null,
   "metadata": {},
   "outputs": [],
   "source": []
  },
  {
   "cell_type": "code",
   "execution_count": null,
   "metadata": {},
   "outputs": [],
   "source": []
  },
  {
   "cell_type": "code",
   "execution_count": null,
   "metadata": {},
   "outputs": [],
   "source": []
  },
  {
   "cell_type": "code",
   "execution_count": null,
   "metadata": {},
   "outputs": [],
   "source": [
    "pred = np.array([0.0139619, 0.986038])"
   ]
  },
  {
   "cell_type": "code",
   "execution_count": null,
   "metadata": {},
   "outputs": [],
   "source": []
  },
  {
   "cell_type": "code",
   "execution_count": null,
   "metadata": {},
   "outputs": [],
   "source": []
  },
  {
   "cell_type": "code",
   "execution_count": null,
   "metadata": {},
   "outputs": [],
   "source": [
    "x = 1\n",
    "y = 1\n",
    "z = 1"
   ]
  },
  {
   "cell_type": "code",
   "execution_count": null,
   "metadata": {},
   "outputs": [],
   "source": [
    "a = [x,y,z]\n",
    "\n",
    "a[0] == a[1]"
   ]
  },
  {
   "cell_type": "code",
   "execution_count": null,
   "metadata": {},
   "outputs": [],
   "source": [
    "a = [x]*3\n",
    "a[0] is a[1]"
   ]
  },
  {
   "cell_type": "code",
   "execution_count": null,
   "metadata": {},
   "outputs": [],
   "source": []
  },
  {
   "cell_type": "code",
   "execution_count": null,
   "metadata": {},
   "outputs": [],
   "source": [
    "b"
   ]
  },
  {
   "cell_type": "code",
   "execution_count": null,
   "metadata": {},
   "outputs": [],
   "source": [
    "a = [[0]*3]*3\n",
    "b = \n",
    "a[0][0]=1\n",
    "\n",
    "print(a)"
   ]
  },
  {
   "cell_type": "code",
   "execution_count": null,
   "metadata": {},
   "outputs": [],
   "source": [
    "[x],[y],[z] = [0],[0],[0]\n",
    "b = [x,y,z]\n",
    "\n",
    "b[0][0] is b[0][1]"
   ]
  },
  {
   "cell_type": "code",
   "execution_count": null,
   "metadata": {},
   "outputs": [],
   "source": []
  },
  {
   "cell_type": "code",
   "execution_count": null,
   "metadata": {},
   "outputs": [],
   "source": []
  },
  {
   "cell_type": "code",
   "execution_count": null,
   "metadata": {},
   "outputs": [],
   "source": [
    "from tensorflow.keras.layers import *\n",
    "from tensorflow.keras import activations, losses, optimizers, models"
   ]
  },
  {
   "cell_type": "code",
   "execution_count": null,
   "metadata": {},
   "outputs": [],
   "source": [
    "def get_base_model():\n",
    "    inp = Input(shape=(48,))\n",
    "    x = Reshape((-1,1))(inp)\n",
    "    img_1 = Convolution1D(16, kernel_size=3, activation=activations.relu, padding=\"valid\")(x)\n",
    "    img_1 = Convolution1D(16, kernel_size=3, activation=activations.relu, padding=\"valid\")(img_1)\n",
    "    img_1 = MaxPool1D(pool_size=2)(img_1)\n",
    "    img_1 = SpatialDropout1D(rate=0.01)(img_1)\n",
    "    img_1 = Convolution1D(32, kernel_size=2, activation=activations.relu, padding=\"valid\")(img_1)\n",
    "    img_1 = Convolution1D(32, kernel_size=2, activation=activations.relu, padding=\"valid\")(img_1)\n",
    "    img_1 = MaxPool1D(pool_size=2)(img_1)\n",
    "    img_1 = SpatialDropout1D(rate=0.01)(img_1)\n",
    "    img_1 = Convolution1D(256, kernel_size=3, activation=activations.relu, padding=\"valid\")(img_1)\n",
    "    img_1 = Convolution1D(256, kernel_size=3, activation=activations.relu, padding=\"valid\")(img_1)\n",
    "    img_1 = GlobalMaxPool1D()(img_1)\n",
    "    img_1 = Dropout(rate=0.01)(img_1)\n",
    "\n",
    "    dense_1 = Dropout(0.01)(Dense(64, activation=activations.relu, name=\"dense_1\")(img_1))\n",
    "\n",
    "    base_model = models.Model(inputs=inp, outputs=dense_1)\n",
    "    opt = optimizers.Adam(0.001)\n",
    "\n",
    "    base_model.compile(optimizer=opt, loss=losses.sparse_categorical_crossentropy, metrics=['acc'])\n",
    "    model.summary()\n",
    "    return base_model\n",
    "\n",
    "model = get_base_model()\n",
    "\n",
    "X = np.random.random((335, 48))\n",
    "y = np.random.random((335,))\n",
    "\n",
    "model.fit(X, y, epochs=4)"
   ]
  },
  {
   "cell_type": "code",
   "execution_count": null,
   "metadata": {},
   "outputs": [],
   "source": [
    "a = np.random.randint(0,3,(4,5))\n",
    "a"
   ]
  },
  {
   "cell_type": "code",
   "execution_count": null,
   "metadata": {},
   "outputs": [],
   "source": [
    "a.sum(axis=1)\n",
    "\n",
    "#array([4, 7, 4, 3])\n",
    "\n",
    "axis = 1 sums up elements that have a stride of 8; which are [1,1,2,0,0]"
   ]
  },
  {
   "cell_type": "code",
   "execution_count": null,
   "metadata": {},
   "outputs": [],
   "source": [
    "a.sum(axis=0)"
   ]
  },
  {
   "cell_type": "code",
   "execution_count": null,
   "metadata": {},
   "outputs": [],
   "source": []
  },
  {
   "cell_type": "code",
   "execution_count": null,
   "metadata": {},
   "outputs": [],
   "source": []
  },
  {
   "cell_type": "code",
   "execution_count": null,
   "metadata": {},
   "outputs": [],
   "source": []
  },
  {
   "cell_type": "markdown",
   "metadata": {},
   "source": [
    "## Intuition around arrays and axes\n",
    "\n",
    "I want to offer 3 types of intuitions here.\n",
    "\n",
    "1. Graphical (How to imagine them)\n",
    "2. Physical (How they are physically stored)\n",
    "3. Logical (How to work with them logically)\n",
    "\n",
    "----------\n",
    "\n",
    "### Graphical intuition\n",
    "\n",
    "Consider a numpy array as a n-dimensional object. This n-dimensional object contains elements in each of the directions as below.\n",
    "\n",
    "[![enter image description here][1]][1]\n",
    "\n",
    "**Axes** in this representation are the direction of the tensor. So, a 2D matrix has only 2 axes, while a 4D tensor has 4 axes. \n",
    "\n",
    "**Sum** in a given axis can be essentially considered as a reduction in that direction. Imagine a 3D tensor being squashed in such a way that it becomes flat (a 2D tensor). The axis tells us which direction to `squash` or `reduce` it in.\n",
    "\n",
    "----------\n",
    "\n",
    "### Physical intuition\n",
    "\n",
    "Numpy stores its ndarrays as contiguous blocks of memory. Each element is stored in a sequential manner every n bytes after the previous.\n",
    "\n",
    "(images referenced from this [excellent SO post][2])\n",
    "\n",
    "So if your 3D array looks like this  - \n",
    "\n",
    "[![enter image description here][3]][3]\n",
    "\n",
    "Then in memory its stores as - \n",
    "\n",
    "[![enter image description here][4]][4]\n",
    "\n",
    "When retrieving an element (or a block of elements), NumPy calculates how many `strides` (bytes) it needs to traverse to get the next element `in that direction/axis`. So, for the above example, for `axis=2` it has to traverse 8 bytes (depending on the `datatype`) but for `axis=1` it has to traverse `8*4` bytes, and `axis=0` it needs `8*8` bytes.\n",
    "\n",
    "\n",
    "**Axes** in this representation is basically the series of `next elements` after a given `stride`. Consider the following array - \n",
    "\n",
    "```\n",
    "print(X)\n",
    "print(X.strides)\n",
    "```\n",
    "```\n",
    "[[0 2 1 4 0 0 0]\n",
    " [5 0 0 0 0 0 0]\n",
    " [8 0 0 0 0 0 0]\n",
    " [0 0 0 0 0 0 0]\n",
    " [0 0 1 0 0 0 0]\n",
    " [0 0 0 1 0 0 0]]\n",
    "\n",
    "#Strides (bytes) required to traverse in each axis.\n",
    "(56, 8)\n",
    "```\n",
    "\n",
    "In the above array, every element after 56 bytes from any element is the `next element` in axis=0 and every element after 8 bytes from any element is in axis=1. (except from the last element)\n",
    "\n",
    "**Sum** or reduction in this regards means taking a sum of every element in that strided series. So, sum over axis=0 means that I need to sum `[0,5,8,0,0,0], [2,0,0,0,0,0], ...` and sum over axis=1 means just summing `[0 2 1 4 0 0 0] , [5 0 0 0 0 0 0], ...`\n",
    "\n",
    "\n",
    "---------\n",
    "    \n",
    "### Logical intuition\n",
    "    \n",
    "This interpretation has to do with `element groupings`. A numpy stores its ndarrays as `groups of groups of groups ... of elements`. Elements are grouped together and contain the last axis (axis=-1). Then another grouping over them creates another axis before it (axis=-2). The final outermost group is the axis=0.\n",
    "\n",
    "[![enter image description here][5]][5]\n",
    "\n",
    "```\n",
    "1D_array = [1,2,3]\n",
    "2D_array = [[1,2,3]]\n",
    "3D_array = [[[1,2,3]]]\n",
    "...\n",
    "```\n",
    "\n",
    "**Axes** in this representation are the group in which elements are stored. The outermost group is axis=0 and the innermost group is axis=-1.\n",
    "\n",
    "**Sum** or reduction in this regard means that I reducing elements across that specific group or axis. So, sum over axis=-1 means I sum over the innermost groups. Consider a `(6, 5, 8)` dimensional tensor. When I say I want a sum over some axis, I want to reduce the elements lying in that `grouping / direction` to a single value that is equal to their sum. \n",
    "\n",
    "So, \n",
    "\n",
    "- `np.sum(arr, axis=-1)` will reduce the inner most groups (of length 8) into a single value and return `(6,5,1)` or `(6,5)`.\n",
    "- `np.sum(arr, axis=-2)` will reduce the elements that lie in the 1st axis (or -2th axis) direction and reduce those to a single value returning `(6,1,8)` or `(6,8)`\n",
    "- `np.sum(arr, axis=0)` will similarly reduce the tensor to `(1,5,8)` or `(5,8)`.\n",
    "\n",
    "    \n",
    "*Hope these 3 intuitions are beneficial to anyone trying to understand how axes and NumPy tensors work in general and how to build an intuitive understanding to work better with them.*\n",
    "\n",
    "\n",
    "  [1]: https://i.stack.imgur.com/6cn8k.png\n",
    "  [2]: https://stackoverflow.com/questions/32034237/how-does-numpys-transpose-method-permute-the-axes-of-an-array\n",
    "  [3]: https://i.stack.imgur.com/ZRMEA.png\n",
    "  [4]: https://i.stack.imgur.com/o5yC5.png\n",
    "  [5]: https://i.stack.imgur.com/NfZRk.png"
   ]
  },
  {
   "cell_type": "code",
   "execution_count": null,
   "metadata": {},
   "outputs": [],
   "source": []
  },
  {
   "cell_type": "code",
   "execution_count": null,
   "metadata": {},
   "outputs": [],
   "source": []
  },
  {
   "cell_type": "code",
   "execution_count": null,
   "metadata": {},
   "outputs": [],
   "source": []
  },
  {
   "cell_type": "code",
   "execution_count": null,
   "metadata": {},
   "outputs": [],
   "source": [
    "df = pd.DataFrame({'A':[1,2,3,1],'B':[1,1,3,2]}, index=['x','y','z','w'])"
   ]
  },
  {
   "cell_type": "code",
   "execution_count": null,
   "metadata": {},
   "outputs": [],
   "source": [
    "#Dummy example - \n",
    "df = pd.DataFrame({'A':[1,2,3,1],'B':[1,1,3,2]}, index=['x','y','z','w'])\n",
    "\n",
    "#Create tuples of value, index and column\n",
    "l = [(i,(j,k)) for k,v in df.items() for i,j in zip(v,v.index)]\n",
    "\n",
    "#Group them by value and create list\n",
    "pd.DataFrame(l).groupby(0)[1].apply(list)\n",
    "\n",
    "0\n",
    "1    [(x, A), (w, A), (x, B), (y, B)]\n",
    "2                    [(y, A), (w, B)]\n",
    "3                    [(z, A), (z, B)]"
   ]
  },
  {
   "cell_type": "code",
   "execution_count": null,
   "metadata": {},
   "outputs": [],
   "source": [
    "df"
   ]
  },
  {
   "cell_type": "code",
   "execution_count": null,
   "metadata": {},
   "outputs": [],
   "source": []
  },
  {
   "cell_type": "code",
   "execution_count": null,
   "metadata": {},
   "outputs": [],
   "source": []
  },
  {
   "cell_type": "code",
   "execution_count": null,
   "metadata": {},
   "outputs": [],
   "source": [
    "import pandas as pd\n",
    "\n",
    "d = {0: {50: 16, 23: 7, 22: 7, 5: 1, 31: 10, 47: 15, 2: 0, 44: 14, 39: 13, 21: 7, 11: 3, 30: 10, 16: 5, 42: 14, 26: 8, 1: 0, 40: 13, 32: 10, 34: 11, 46: 15, 49: 16, 15: 5, 37: 12, 9: 3, 12: 4, 41: 13, 24: 8, 10: 3, 18: 6, 8: 2, 33: 11, 35: 11, 0: 0, 36: 12, 27: 9, 48: 16, 38: 12, 7: 2, 28: 9, 3: 1, 29: 9, 43: 14, 4: 1, 45: 15, 17: 5, 14: 4, 13: 4, 19: 6, 25: 8, 20: 6, 6: 2}, 1: {50: 2, 23: 2, 22: 1, 5: 2, 31: 1, 47: 2, 2: 2, 44: 2, 39: 0, 21: 0, 11: 2, 30: 0, 16: 1, 42: 0, 26: 2, 1: 1, 40: 1, 32: 2, 34: 1, 46: 1, 49: 1, 15: 0, 37: 1, 9: 0, 12: 0, 41: 2, 24: 0, 10: 1, 18: 0, 8: 2, 33: 0, 35: 2, 0: 0, 36: 0, 27: 0, 48: 0, 38: 2, 7: 1, 28: 1, 3: 0, 29: 2, 43: 1, 4: 1, 45: 0, 17: 2, 14: 2, 13: 1, 19: 1, 25: 1, 20: 2, 6: 0}, 2: {50: 32, 23: 32, 22: 32, 5: 32, 31: 32, 47: 32, 2: 32, 44: 33, 39: 46, 21: 64, 11: 97, 30: 97, 16: 97, 42: 99, 26: 99, 1: 99, 40: 99, 32: 100, 34: 100, 46: 100, 49: 101, 15: 101, 37: 101, 9: 101, 12: 102, 41: 103, 24: 103, 10: 103, 18: 103, 8: 104, 33: 105, 35: 105, 0: 106, 36: 108, 27: 109, 48: 109, 38: 110, 7: 110, 28: 111, 3: 111, 29: 111, 43: 111, 4: 111, 45: 111, 17: 112, 14: 112, 13: 114, 19: 116, 25: 116, 20: 121, 6: 122}}\n",
    "print (pd.DataFrame(d).pivot(0,1,2).applymap(chr).agg(''.join))"
   ]
  },
  {
   "cell_type": "code",
   "execution_count": null,
   "metadata": {},
   "outputs": [],
   "source": [
    "bet={}\n",
    "player_bet=int(input('enter here: '))\n",
    "for i in range(1,6):\n",
    "    bet.update({'Player_'+str(i):player_bet})\n",
    "print(bet)\n",
    "\n",
    "enter here: 20\n",
    "{'Player_1': 20, 'Player_2': 20, 'Player_3': 20, 'Player_4': 20, 'Player_5': 20}"
   ]
  },
  {
   "cell_type": "code",
   "execution_count": null,
   "metadata": {},
   "outputs": [],
   "source": [
    "import torch"
   ]
  },
  {
   "cell_type": "code",
   "execution_count": null,
   "metadata": {},
   "outputs": [],
   "source": [
    "B, C, H, W = 10,10,10,10\n",
    "\n",
    "X = torch.randn((B,9,C,H,W))\n",
    "print('shape of X ->',X.shape)\n",
    "\n",
    "Y = torch.flatten(X, 1, 2)\n",
    "print('shape of Y ->',Y.shape)"
   ]
  },
  {
   "cell_type": "code",
   "execution_count": null,
   "metadata": {},
   "outputs": [],
   "source": []
  },
  {
   "cell_type": "code",
   "execution_count": null,
   "metadata": {},
   "outputs": [],
   "source": [
    "X = np.random.random((1200,6,8))\n",
    "print(X.shape)\n",
    "\n",
    "X1, X2 = np.split(X, 2, axis=1)\n",
    "print(X1.shape, X2.shape)"
   ]
  },
  {
   "cell_type": "code",
   "execution_count": null,
   "metadata": {},
   "outputs": [],
   "source": []
  },
  {
   "cell_type": "code",
   "execution_count": null,
   "metadata": {},
   "outputs": [],
   "source": [
    "import matplotlib.pyplot as plt"
   ]
  },
  {
   "cell_type": "code",
   "execution_count": null,
   "metadata": {},
   "outputs": [],
   "source": [
    "dataset_point = [[0, 1, 0], [1, 0, 1], [2, 1, 0], [3, 0, 1], [4, 0, 1], [5, 0, 1], [6, 1, 1], [7, 1, 0], [8, 1, 1], [9, 1, 0], [10, 1, 0], [11, 1, 0], [12, 1, 0], [13, 1, 0], [14, 1, 0], [15, 1, 0], [16, 0, 1], [17, 0, 1], [18, 1, 0], [19, 0, 1]]"
   ]
  },
  {
   "cell_type": "code",
   "execution_count": null,
   "metadata": {},
   "outputs": [],
   "source": [
    "xs = np.random.random()\n",
    "ys = np.random.random()\n",
    "\n",
    "dataset_point = np.array(dataset_point)\n",
    "\n",
    "for i in dataset_point:\n",
    "    plt.plot(x = (dataset_point[i,1]+xs),y = (dataset_point[i,2]+ys))\n",
    "\n",
    "plt.show()"
   ]
  },
  {
   "cell_type": "code",
   "execution_count": null,
   "metadata": {},
   "outputs": [],
   "source": []
  },
  {
   "cell_type": "code",
   "execution_count": null,
   "metadata": {},
   "outputs": [],
   "source": []
  },
  {
   "cell_type": "code",
   "execution_count": null,
   "metadata": {},
   "outputs": [],
   "source": []
  },
  {
   "cell_type": "code",
   "execution_count": null,
   "metadata": {},
   "outputs": [],
   "source": []
  },
  {
   "cell_type": "code",
   "execution_count": null,
   "metadata": {},
   "outputs": [],
   "source": []
  },
  {
   "cell_type": "code",
   "execution_count": null,
   "metadata": {},
   "outputs": [],
   "source": [
    "from tensorflow.keras import Sequential\n",
    "from tensorflow.keras.layers import Dense, Dropout, MaxPooling2D, Conv2D, Flatten \n",
    "\n",
    "X_train = np.random.random((500, 10000))\n",
    "Y_train = np.random.randint(0,2,(500,)) #0, 0, 1, 0, 1...\n",
    "\n",
    "model = Sequential()\n",
    "model.add(Reshape((100,100,1), input_shape=(10000,)))\n",
    "model.add(Conv2D(32,kernel_size=(5,5), padding='same', activation ='relu'))\n",
    "model.add(MaxPooling2D((3,3)))\n",
    "\n",
    "model.add(Conv2D(32,kernel_size=(5,5),padding='same', activation ='relu'))\n",
    "model.add(MaxPooling2D((3,3)))\n",
    "\n",
    "model.add(Dropout(0.25))\n",
    "model.add(Flatten())\n",
    "\n",
    "model.add(Dense(1, activation='sigmoid'))\n",
    "model.compile(optimizer='adam', loss=\"binary_crossentropy\", metrics=[\"accuracy\"])\n",
    "\n",
    "model.fit(\n",
    "    X_train,\n",
    "    Y_train,\n",
    "    epochs=3,\n",
    "    batch_size=128)"
   ]
  },
  {
   "cell_type": "code",
   "execution_count": null,
   "metadata": {},
   "outputs": [],
   "source": []
  },
  {
   "cell_type": "code",
   "execution_count": null,
   "metadata": {},
   "outputs": [],
   "source": []
  },
  {
   "cell_type": "code",
   "execution_count": null,
   "metadata": {},
   "outputs": [],
   "source": []
  },
  {
   "cell_type": "code",
   "execution_count": null,
   "metadata": {},
   "outputs": [],
   "source": []
  },
  {
   "cell_type": "code",
   "execution_count": null,
   "metadata": {},
   "outputs": [],
   "source": []
  },
  {
   "cell_type": "code",
   "execution_count": null,
   "metadata": {},
   "outputs": [],
   "source": []
  },
  {
   "cell_type": "code",
   "execution_count": null,
   "metadata": {
    "scrolled": false
   },
   "outputs": [],
   "source": [
    "num_observations = 40\n",
    "max_encoder_seq_length = 13\n",
    "max_decoder_seq_length = 15\n",
    "num_encoder_tokens = 128\n",
    "num_decoder_tokens = 128\n",
    "latent_dim = 512\n",
    "batch_size = 256\n",
    "epochs = 5\n",
    "\n",
    "\n",
    "encoder_inputs = Input(shape=(max_encoder_seq_length,))\n",
    "x = Embedding(num_encoder_tokens, latent_dim)(encoder_inputs)\n",
    "x, state_h, state_c = LSTM(latent_dim, return_state=True)(x)\n",
    "encoder_states = [state_h, state_c]\n",
    "\n",
    "# Set up the decoder, using `encoder_states` as initial state.\n",
    "decoder_inputs = Input(shape=(max_decoder_seq_length,))\n",
    "x = Embedding(num_decoder_tokens, latent_dim)(decoder_inputs)\n",
    "x = LSTM(latent_dim, return_sequences=True)(x, initial_state=encoder_states)\n",
    "decoder_outputs = Dense(num_decoder_tokens, activation='softmax')(x)\n",
    "\n",
    "# Define the model that will turn\n",
    "# `encoder_input_data` & `decoder_input_data` into `decoder_target_data`\n",
    "model = Model([encoder_inputs, decoder_inputs], decoder_outputs)\n",
    "\n",
    "model.summary()\n",
    "\n",
    "model.compile(optimizer='rmsprop', loss='categorical_crossentropy')\n",
    "# Note that `decoder_target_data` needs to be one-hot encoded,\n",
    "# rather than sequences of integers like `decoder_input_data`!\n",
    "\n",
    "\n",
    "\n",
    "encoder_input_data = np.random.random((1000,13))\n",
    "decoder_input_data = np.random.random((1000,15))\n",
    "decoder_target_data = np.random.random((1000, 15, 128))\n",
    "\n",
    "model.fit([encoder_input_data, decoder_input_data],\n",
    "          decoder_target_data,\n",
    "          batch_size=batch_size,\n",
    "          epochs=epochs,\n",
    "          shuffle=True,\n",
    "          validation_split=0.05)"
   ]
  },
  {
   "cell_type": "code",
   "execution_count": null,
   "metadata": {},
   "outputs": [],
   "source": []
  },
  {
   "cell_type": "code",
   "execution_count": null,
   "metadata": {},
   "outputs": [],
   "source": []
  },
  {
   "cell_type": "code",
   "execution_count": null,
   "metadata": {},
   "outputs": [],
   "source": []
  },
  {
   "cell_type": "code",
   "execution_count": null,
   "metadata": {},
   "outputs": [],
   "source": []
  },
  {
   "cell_type": "code",
   "execution_count": null,
   "metadata": {},
   "outputs": [],
   "source": []
  },
  {
   "cell_type": "code",
   "execution_count": null,
   "metadata": {},
   "outputs": [],
   "source": []
  },
  {
   "cell_type": "code",
   "execution_count": null,
   "metadata": {},
   "outputs": [],
   "source": [
    "from tensorflow.keras import layers, Model, utils\n",
    "import tensorflow as tf"
   ]
  },
  {
   "cell_type": "code",
   "execution_count": null,
   "metadata": {},
   "outputs": [],
   "source": [
    "@tf.function\n",
    "def f(a):\n",
    "    inp = layers.Input((10,))\n",
    "    \n",
    "    if a==True:\n",
    "        out = layers.Dense(3)(inp)\n",
    "    else:\n",
    "        out = layers.Dense(2)(inp)\n",
    "    \n",
    "    return model"
   ]
  },
  {
   "cell_type": "code",
   "execution_count": null,
   "metadata": {},
   "outputs": [],
   "source": []
  },
  {
   "cell_type": "code",
   "execution_count": null,
   "metadata": {},
   "outputs": [],
   "source": [
    "import pandas as pd"
   ]
  },
  {
   "cell_type": "code",
   "execution_count": null,
   "metadata": {},
   "outputs": [],
   "source": [
    "df = pd.read_clipboard('\\s\\s+')"
   ]
  },
  {
   "cell_type": "code",
   "execution_count": null,
   "metadata": {},
   "outputs": [],
   "source": [
    "df"
   ]
  },
  {
   "cell_type": "code",
   "execution_count": null,
   "metadata": {},
   "outputs": [],
   "source": [
    "ddf = df.set_index(['DateTime','Category']).unstack(-1).reset_index()\n",
    "ddf.columns = ['DateTime','A','B','C','D']\n",
    "print(ddf)\n",
    "\n",
    "   DateTime   A   B   C   D\n",
    "0  16:24:00  51  52  53  54\n",
    "1  17:28:24  71  72  73  74"
   ]
  },
  {
   "cell_type": "code",
   "execution_count": null,
   "metadata": {},
   "outputs": [],
   "source": [
    "df.columns = \n",
    "df"
   ]
  },
  {
   "cell_type": "code",
   "execution_count": null,
   "metadata": {},
   "outputs": [],
   "source": []
  },
  {
   "cell_type": "code",
   "execution_count": null,
   "metadata": {},
   "outputs": [],
   "source": []
  },
  {
   "cell_type": "code",
   "execution_count": null,
   "metadata": {},
   "outputs": [],
   "source": [
    "from collections import *"
   ]
  },
  {
   "cell_type": "code",
   "execution_count": null,
   "metadata": {},
   "outputs": [],
   "source": [
    "baseline = {'music': 'bach', 'art': 'rembrandt'}\n",
    "adjustments = {'art': 'van gogh', 'opera': 'carmen'}\n",
    "\n",
    "o = ChainMap(baseline, adjustments)\n",
    "o"
   ]
  },
  {
   "cell_type": "code",
   "execution_count": null,
   "metadata": {},
   "outputs": [],
   "source": [
    "        # Create root context\n",
    "c"
   ]
  },
  {
   "cell_type": "code",
   "execution_count": null,
   "metadata": {},
   "outputs": [],
   "source": [
    "c = ChainMap({'x':2})\n",
    "d = c.new_child()\n",
    "d"
   ]
  },
  {
   "cell_type": "code",
   "execution_count": null,
   "metadata": {},
   "outputs": [],
   "source": [
    "d['x']=1\n",
    "d"
   ]
  },
  {
   "cell_type": "code",
   "execution_count": null,
   "metadata": {},
   "outputs": [],
   "source": [
    "d.maps[-1]['x']"
   ]
  },
  {
   "cell_type": "code",
   "execution_count": null,
   "metadata": {},
   "outputs": [],
   "source": [
    "d.items()"
   ]
  },
  {
   "cell_type": "code",
   "execution_count": null,
   "metadata": {},
   "outputs": [],
   "source": [
    "d.parents"
   ]
  },
  {
   "cell_type": "code",
   "execution_count": null,
   "metadata": {},
   "outputs": [],
   "source": [
    "from collections import defaultdict\n",
    "def tree(): return defaultdict(tree)\n",
    "users = tree()"
   ]
  },
  {
   "cell_type": "code",
   "execution_count": null,
   "metadata": {},
   "outputs": [],
   "source": [
    "users"
   ]
  },
  {
   "cell_type": "code",
   "execution_count": null,
   "metadata": {},
   "outputs": [],
   "source": [
    "from collections import defaultdict\n",
    "def tree(): return defaultdict(tree)\n",
    "users = tree()"
   ]
  },
  {
   "cell_type": "code",
   "execution_count": null,
   "metadata": {},
   "outputs": [],
   "source": [
    "users['A'].update([1,2,3,4])"
   ]
  },
  {
   "cell_type": "code",
   "execution_count": null,
   "metadata": {},
   "outputs": [],
   "source": []
  },
  {
   "cell_type": "code",
   "execution_count": null,
   "metadata": {},
   "outputs": [],
   "source": [
    "def tree(): return defaultdict(tree)"
   ]
  },
  {
   "cell_type": "code",
   "execution_count": null,
   "metadata": {},
   "outputs": [],
   "source": [
    "defaultdict(list)"
   ]
  },
  {
   "cell_type": "code",
   "execution_count": null,
   "metadata": {},
   "outputs": [],
   "source": []
  },
  {
   "cell_type": "code",
   "execution_count": null,
   "metadata": {},
   "outputs": [],
   "source": []
  },
  {
   "cell_type": "code",
   "execution_count": null,
   "metadata": {},
   "outputs": [],
   "source": []
  },
  {
   "cell_type": "code",
   "execution_count": null,
   "metadata": {},
   "outputs": [],
   "source": [
    "import pandas as pd\n",
    "from sklearn.model_selection import train_test_split\n",
    "from sklearn.preprocessing import MinMaxScaler, LabelEncoder\n",
    "from tensorflow.keras import layers, Model, utils, activations"
   ]
  },
  {
   "cell_type": "code",
   "execution_count": null,
   "metadata": {},
   "outputs": [],
   "source": [
    "df = pd.read_csv('winequality-red.csv')\n",
    "df.head()\n",
    "\n",
    "X = df.iloc[:,:-1]\n",
    "y = df.iloc[:,-1:]\n",
    "\n",
    "X_train, X_test, y_train, y_test = train_test_split(X, y, test_size=0.1)"
   ]
  },
  {
   "cell_type": "code",
   "execution_count": null,
   "metadata": {},
   "outputs": [],
   "source": [
    "scale = MinMaxScaler()\n",
    "lbl = LabelEncoder()\n",
    "\n",
    "X_train = scale.fit_transform(X_train)\n",
    "y_train = lbl.fit_transform(y_train)"
   ]
  },
  {
   "cell_type": "code",
   "execution_count": null,
   "metadata": {},
   "outputs": [],
   "source": [
    "[i.shape for i in (X_train, X_test, y_train, y_test)]"
   ]
  },
  {
   "cell_type": "code",
   "execution_count": null,
   "metadata": {},
   "outputs": [],
   "source": [
    "inp = layers.Input((11,))\n",
    "x = layers.Dense(128, activations.LeakyReLU(alpha=0.1))(inp)\n",
    "x = layers.Dense(32, activations.LeakyReLU(alpha=0.1))\n",
    "x = layers.Dense(32, activations.LeakyReLU(alpha=0.1))"
   ]
  },
  {
   "cell_type": "code",
   "execution_count": null,
   "metadata": {},
   "outputs": [],
   "source": []
  },
  {
   "cell_type": "code",
   "execution_count": null,
   "metadata": {},
   "outputs": [],
   "source": [
    "model_nn = keras.Sequential([\n",
    "    keras.layers.Dense(128, LeakyReLU(alpha=0.1), input_shape=(11,)),\n",
    "    keras.layers.Dense(32, activation=LeakyReLU(alpha=0.1)),\n",
    "    keras.layers.Dense(64, LeakyReLU(alpha=0.1)),\n",
    "    keras.layers.Dense(1, activation=tf.nn.sigmoid),"
   ]
  },
  {
   "cell_type": "code",
   "execution_count": null,
   "metadata": {},
   "outputs": [],
   "source": []
  },
  {
   "cell_type": "code",
   "execution_count": null,
   "metadata": {},
   "outputs": [],
   "source": []
  },
  {
   "cell_type": "code",
   "execution_count": null,
   "metadata": {},
   "outputs": [],
   "source": []
  },
  {
   "cell_type": "code",
   "execution_count": null,
   "metadata": {},
   "outputs": [],
   "source": []
  },
  {
   "cell_type": "code",
   "execution_count": null,
   "metadata": {},
   "outputs": [],
   "source": []
  },
  {
   "cell_type": "code",
   "execution_count": null,
   "metadata": {},
   "outputs": [],
   "source": []
  },
  {
   "cell_type": "code",
   "execution_count": null,
   "metadata": {},
   "outputs": [],
   "source": [
    "import string\n",
    "import random\n",
    "random.choice(string.ascii_letters)"
   ]
  },
  {
   "cell_type": "code",
   "execution_count": null,
   "metadata": {},
   "outputs": [],
   "source": []
  },
  {
   "cell_type": "code",
   "execution_count": null,
   "metadata": {},
   "outputs": [],
   "source": [
    "sentences, vocab, length, context_size = 100, 12, 15, 2\n",
    "window = context_size*2+1\n",
    "corpus = np.random.randint(0, vocab, (sentences, length))\n",
    "corpus[0:2]"
   ]
  },
  {
   "cell_type": "code",
   "execution_count": null,
   "metadata": {},
   "outputs": [],
   "source": [
    "shape = corpus.shape[0], corpus.shape[1]-window+1, window\n",
    "stride = corpus.strides[0], corpus.strides[1], corpus.strides[1]\n",
    "print(shape, stride)\n",
    "\n",
    "rolling_window = np.lib.stride_tricks.as_strided(corpus, shape=shape, strides=stride)\n",
    "print('\\nView For first sequence ->')\n",
    "print(rolling_window[0])"
   ]
  },
  {
   "cell_type": "code",
   "execution_count": null,
   "metadata": {},
   "outputs": [],
   "source": [
    "position = rolling_window[0][:,2]\n",
    "context = np.delete(rolling_window[0], 2, 1)\n",
    "context_multihot = np.sum(np.eye(vocab)[context], axis=1)\n",
    "cooccurence = context_multihot.T@context_multihot\n",
    "np.fill_diagonal(cooccurence,0)\n",
    "print(cooccurence)"
   ]
  },
  {
   "cell_type": "code",
   "execution_count": null,
   "metadata": {},
   "outputs": [],
   "source": [
    "np.eye(vocab)[context].shape"
   ]
  },
  {
   "cell_type": "code",
   "execution_count": null,
   "metadata": {},
   "outputs": [],
   "source": [
    "cooccurence"
   ]
  },
  {
   "cell_type": "code",
   "execution_count": null,
   "metadata": {},
   "outputs": [],
   "source": [
    "corpus.shape"
   ]
  },
  {
   "cell_type": "code",
   "execution_count": null,
   "metadata": {},
   "outputs": [],
   "source": [
    "rolling_window.shape"
   ]
  },
  {
   "cell_type": "code",
   "execution_count": null,
   "metadata": {},
   "outputs": [],
   "source": [
    "cooccurence.shape"
   ]
  },
  {
   "cell_type": "code",
   "execution_count": null,
   "metadata": {},
   "outputs": [],
   "source": [
    "center_idx = context_size\n",
    "#position = rolling_window[:,:,context_size]  #(100, 11)\n",
    "context = np.delete(rolling_window, context_size, -1)  #(100, 11, 4)\n",
    "context_multihot = np.sum(np.eye(vocab)[context], axis=-2)  #(100, 11, 12)\n",
    "cooccurence = np.tensordot(context_multihot.transpose(0,2,1), context_multihot, axes=([0,2],[0,1]))  #(12, 12)\n",
    "np.fill_diagonal(cooccurence,0)  #(12, 12)\n",
    "print(cooccurence)"
   ]
  },
  {
   "cell_type": "code",
   "execution_count": null,
   "metadata": {},
   "outputs": [],
   "source": [
    "#Definitions\n",
    "sentences, vocab, length, context_size = 100, 12, 15, 2\n",
    "\n",
    "#Create dummy corpus (label encoded)\n",
    "window = context_size*2+1\n",
    "corpus = np.random.randint(0, vocab, (sentences, length))  #(100, 15)\n",
    "\n",
    "#Create rolling window view of the sequences\n",
    "shape = corpus.shape[0], corpus.shape[1]-window+1, window  #(100, 11, 5) \n",
    "stride = corpus.strides[0], corpus.strides[1], corpus.strides[1]  #(120, 8, 8)\n",
    "rolling_window = np.lib.stride_tricks.as_strided(corpus, shape=shape, strides=stride)  #(100, 11, 5)\n",
    "\n",
    "#Creating co-occurence matrix based on context window\n",
    "center_idx = context_size\n",
    "#position = rolling_window[:,:,context_size]  #(100, 11)\n",
    "context = np.delete(rolling_window, context_size, -1)  #(100, 11, 4)\n",
    "context_multihot = np.sum(np.eye(vocab)[context], axis=-2)  #(100, 11, 12)\n",
    "cooccurence = np.tensordot(context_multihot.transpose(0,2,1), context_multihot, axes=([0,2],[0,1]))  #(12, 12)\n",
    "np.fill_diagonal(cooccurence,0)  #(12, 12)\n",
    "print(cooccurence)"
   ]
  },
  {
   "cell_type": "code",
   "execution_count": null,
   "metadata": {},
   "outputs": [],
   "source": [
    "sentence = 'to be or not to be that is the question'\n",
    "corpus = np.array([[0, 1, 2, 3, 0, 1, 4, 5, 6, 7]])\n",
    "\n",
    "#Definitions\n",
    "vocab, context_size = 8, 2\n",
    "window = context_size*2+1\n",
    "\n",
    "#Create rolling window view of the sequences\n",
    "shape = corpus.shape[0], corpus.shape[1]-window+1, window\n",
    "stride = corpus.strides[0], corpus.strides[1], corpus.strides[1]\n",
    "rolling_window = np.lib.stride_tricks.as_strided(corpus, shape=shape, strides=stride)\n",
    "\n",
    "#Creating co-occurence matrix based on context window\n",
    "center_idx = context_size\n",
    "#position = rolling_window[:,:,context_size]  \n",
    "context = np.delete(rolling_window, context_size, -1)  \n",
    "context_multihot = np.sum(np.eye(vocab)[context], axis=-2)  \n",
    "cooccurence = np.tensordot(context_multihot.transpose(0,2,1), context_multihot, axes=([0,2],[0,1]))\n",
    "np.fill_diagonal(cooccurence,0)\n",
    "print(cooccurence)"
   ]
  },
  {
   "cell_type": "code",
   "execution_count": null,
   "metadata": {},
   "outputs": [],
   "source": []
  },
  {
   "cell_type": "code",
   "execution_count": null,
   "metadata": {},
   "outputs": [],
   "source": []
  },
  {
   "cell_type": "code",
   "execution_count": null,
   "metadata": {},
   "outputs": [],
   "source": []
  },
  {
   "cell_type": "code",
   "execution_count": null,
   "metadata": {},
   "outputs": [],
   "source": [
    "X = np.random.randint(0, 10, (1000,4))\n",
    "y = X.sum(-1)"
   ]
  },
  {
   "cell_type": "code",
   "execution_count": null,
   "metadata": {},
   "outputs": [],
   "source": [
    "from tensorflow.keras import layers, Model, utils\n",
    "\n",
    "def creature():\n",
    "    inp = layers.Input((4,))\n",
    "    out = layers.Dense(1)(inp)\n",
    "    model = Model(inp, out)\n",
    "    return model"
   ]
  },
  {
   "cell_type": "code",
   "execution_count": null,
   "metadata": {},
   "outputs": [],
   "source": []
  },
  {
   "cell_type": "code",
   "execution_count": null,
   "metadata": {},
   "outputs": [],
   "source": []
  },
  {
   "cell_type": "code",
   "execution_count": null,
   "metadata": {},
   "outputs": [],
   "source": []
  },
  {
   "cell_type": "code",
   "execution_count": null,
   "metadata": {},
   "outputs": [],
   "source": []
  },
  {
   "cell_type": "code",
   "execution_count": null,
   "metadata": {},
   "outputs": [],
   "source": []
  },
  {
   "cell_type": "code",
   "execution_count": null,
   "metadata": {},
   "outputs": [],
   "source": [
    "#Dummy data\n",
    "\n",
    "X1 = np.random.random((1000, 3, 4))\n",
    "X2 = np.random.random((1000, 2, 2))\n",
    "y = np.random.randint(0, 2, (1000,))"
   ]
  },
  {
   "cell_type": "code",
   "execution_count": null,
   "metadata": {},
   "outputs": [],
   "source": [
    "#Scaling individual features by respective min max for 3D tensors\n",
    "from sklearn.preprocessing import MinMaxScaler\n",
    "\n",
    "scaler1 = MinMaxScaler()\n",
    "scaler2 = MinMaxScaler()\n",
    "\n",
    "X1_scaled = scaler1.fit_transform(X1.reshape(-1,X1.shape[-1])).reshape(X1.shape)\n",
    "X2_scaled = scaler1.fit_transform(X2.reshape(-1,X2.shape[-1])).reshape(X2.shape)\n",
    "\n",
    "print(X1_scaled.shape, X2_scaled.shape)"
   ]
  },
  {
   "cell_type": "code",
   "execution_count": null,
   "metadata": {},
   "outputs": [],
   "source": [
    "from sklearn.model_selection import train_test_split\n",
    "\n",
    "X1_train, X1_test, X2_train, X2_test, y_train, y_test = train_test_split(X1_scaled, X2_scaled, y, test_size=0.2)\n",
    "\n",
    "[i.shape for i in (X1_train, X1_test, X2_train, X2_test, y_train, y_test)]"
   ]
  },
  {
   "cell_type": "code",
   "execution_count": null,
   "metadata": {},
   "outputs": [],
   "source": [
    "from tensorflow.keras import layers, Model, utils\n",
    "\n",
    "inp1 = layers.Input((3,4))\n",
    "inp2 = layers.Input((2,2))\n",
    "x1 = layers.Flatten()(inp1)\n",
    "x2 = layers.Flatten()(inp2)\n",
    "x = layers.concatenate([x1, x2])\n",
    "x = layers.Dense(32)(x)\n",
    "out = layers.Dense(1, activation='sigmoid')(x)\n",
    "\n",
    "model = Model([inp1, inp2], out)\n",
    "\n",
    "utils.plot_model(model, show_layer_names=False, show_shapes=True)"
   ]
  },
  {
   "cell_type": "code",
   "execution_count": null,
   "metadata": {},
   "outputs": [],
   "source": [
    "model.compile(loss='binary_crossentropy', optimizer='adam')\n",
    "model.fit([X1_train, X2_train], y_train, epochs=4)\n",
    "\n",
    "Epoch 1/4\n",
    "25/25 [==============================] - 0s 674us/step - loss: 0.7310\n",
    "Epoch 2/4\n",
    "25/25 [==============================] - 0s 753us/step - loss: 0.7198\n",
    "Epoch 3/4\n",
    "25/25 [==============================] - 0s 842us/step - loss: 0.7147\n",
    "Epoch 4/4\n",
    "25/25 [==============================] - 0s 2ms/step - loss: 0.7079"
   ]
  },
  {
   "cell_type": "code",
   "execution_count": null,
   "metadata": {},
   "outputs": [],
   "source": []
  },
  {
   "cell_type": "code",
   "execution_count": null,
   "metadata": {},
   "outputs": [],
   "source": []
  },
  {
   "cell_type": "code",
   "execution_count": null,
   "metadata": {},
   "outputs": [],
   "source": [
    "import numpy as np\n",
    "from tensorflow.keras import layers, Model, utils\n",
    "\n",
    "X = np.random.random((100, 12, 530))  #100 images, 12 patches, 530 features instead of 5376\n",
    "y = np.random.randint(0, 4, (100,))\n",
    "\n",
    "inp = layers.Input((12, 530)) #input shape of (batch, 12, 530)\n",
    "x = layers.Bidirectional(layers.LSTM(64, return_sequences=True))(inp)\n",
    "x = layers.Bidirectional(layers.LSTM(64))(x)\n",
    "out = layers.Dense(4, activation='softmax')(x)\n",
    "\n",
    "model = Model(inp, out)\n",
    "model.compile(loss='sparse_categorical_crossentropy', optimizer='adam', metrics=['accuracy'])\n",
    "model.fit(X, y, epochs=3)"
   ]
  },
  {
   "cell_type": "code",
   "execution_count": null,
   "metadata": {},
   "outputs": [],
   "source": [
    "utils.plot_model(model, show_layer_names=False, show_shapes=True)"
   ]
  },
  {
   "cell_type": "code",
   "execution_count": null,
   "metadata": {},
   "outputs": [],
   "source": []
  },
  {
   "cell_type": "code",
   "execution_count": null,
   "metadata": {},
   "outputs": [],
   "source": []
  },
  {
   "cell_type": "code",
   "execution_count": null,
   "metadata": {},
   "outputs": [],
   "source": [
    "raw_list = [\n",
    "    {\"item_name\": \"orange\", \"id\": 12, \"total\": 2},\n",
    "    {\"item_name\": \"apple\", \"id\": 12},\n",
    "    {\"item_name\": \"apple\", \"id\": 34, \"total\": 22},\n",
    "]"
   ]
  },
  {
   "cell_type": "code",
   "execution_count": null,
   "metadata": {},
   "outputs": [],
   "source": [
    "[\n",
    "    {\"item_name\": [\"orange\", \"apple\"], \"id\": 12, \"total\": 2},\n",
    "    {\"item_name\": \"apple\", \"id\": 34, \"total\": 22},\n",
    "]"
   ]
  },
  {
   "cell_type": "code",
   "execution_count": null,
   "metadata": {},
   "outputs": [],
   "source": [
    "from collections import defaultdict, ChainMap"
   ]
  },
  {
   "cell_type": "code",
   "execution_count": null,
   "metadata": {},
   "outputs": [],
   "source": [
    "out = defaultdict(list)"
   ]
  },
  {
   "cell_type": "code",
   "execution_count": null,
   "metadata": {},
   "outputs": [],
   "source": [
    "master = ChainMap(*raw_list)\n",
    "master"
   ]
  },
  {
   "cell_type": "code",
   "execution_count": null,
   "metadata": {},
   "outputs": [],
   "source": [
    "from collections import defaultdict\n",
    "out = defaultdict(list)\n",
    "for d in raw_list:\n",
    "    out[d[\"id\"]].append(d)"
   ]
  },
  {
   "cell_type": "code",
   "execution_count": null,
   "metadata": {},
   "outputs": [],
   "source": [
    "from itertools import groupby\n",
    "from collections import ChainMap\n",
    "\n",
    "id_getter = lambda x: x['id']\n",
    "gp = groupby(sorted(raw_list, key=id_getter), key=id_getter)\n",
    "result = [dict(ChainMap(*a)) for _, a in gp]"
   ]
  },
  {
   "cell_type": "code",
   "execution_count": null,
   "metadata": {},
   "outputs": [],
   "source": [
    "out = defaultdict(list)\n",
    "\n",
    "for i in raw_list:\n",
    "    for j in i.items():\n",
    "        out[j[0]].append(j[1])\n",
    "        \n",
    "print(out)"
   ]
  },
  {
   "cell_type": "code",
   "execution_count": null,
   "metadata": {},
   "outputs": [],
   "source": []
  },
  {
   "cell_type": "code",
   "execution_count": null,
   "metadata": {},
   "outputs": [],
   "source": [
    "id_getter = lambda x: x['id']\n",
    "gp = groupby(sorted(raw_list, key=id_getter), key=id_getter)\n",
    "tups = [[[(k,v) for k,v in j.items()] for j in i] for _,i in gp]"
   ]
  },
  {
   "cell_type": "code",
   "execution_count": null,
   "metadata": {},
   "outputs": [],
   "source": [
    "out = defaultdict(dict)\n",
    "for i in raw_list:\n",
    "    subdict = defaultdict(list)\n",
    "    out[i['id']].update(subdict)\n",
    "\n",
    "for i in \n",
    "# for k,v in i.items():\n",
    "#     subdict[k].append(v)\n",
    "# print(subdict)\n",
    "        \n",
    "out"
   ]
  },
  {
   "cell_type": "code",
   "execution_count": null,
   "metadata": {},
   "outputs": [],
   "source": []
  },
  {
   "cell_type": "code",
   "execution_count": null,
   "metadata": {},
   "outputs": [],
   "source": []
  },
  {
   "cell_type": "code",
   "execution_count": null,
   "metadata": {},
   "outputs": [],
   "source": []
  },
  {
   "cell_type": "code",
   "execution_count": null,
   "metadata": {},
   "outputs": [],
   "source": [
    "from itertools import groupby\n",
    "from collections import defaultdict\n",
    "\n",
    "out = defaultdict(list)\n",
    "for i in raw_list:\n",
    "    out[i['id']['item_name']].append(i)"
   ]
  },
  {
   "cell_type": "code",
   "execution_count": null,
   "metadata": {},
   "outputs": [],
   "source": [
    "    subdict = defaultdict(list)\n",
    "    for j in i:\n",
    "        for k,v in j.items():\n",
    "            subdict[k].append(v)\n",
    "    out.append(dict(subdict))\n"
   ]
  },
  {
   "cell_type": "code",
   "execution_count": null,
   "metadata": {},
   "outputs": [],
   "source": []
  },
  {
   "cell_type": "code",
   "execution_count": null,
   "metadata": {},
   "outputs": [],
   "source": []
  },
  {
   "cell_type": "code",
   "execution_count": null,
   "metadata": {},
   "outputs": [],
   "source": []
  },
  {
   "cell_type": "code",
   "execution_count": null,
   "metadata": {},
   "outputs": [],
   "source": []
  },
  {
   "cell_type": "code",
   "execution_count": null,
   "metadata": {},
   "outputs": [],
   "source": []
  },
  {
   "cell_type": "code",
   "execution_count": null,
   "metadata": {},
   "outputs": [],
   "source": []
  },
  {
   "cell_type": "code",
   "execution_count": null,
   "metadata": {},
   "outputs": [],
   "source": []
  },
  {
   "cell_type": "code",
   "execution_count": null,
   "metadata": {},
   "outputs": [],
   "source": [
    "out"
   ]
  },
  {
   "cell_type": "code",
   "execution_count": null,
   "metadata": {},
   "outputs": [],
   "source": []
  },
  {
   "cell_type": "code",
   "execution_count": null,
   "metadata": {},
   "outputs": [],
   "source": []
  },
  {
   "cell_type": "code",
   "execution_count": null,
   "metadata": {},
   "outputs": [],
   "source": [
    "result"
   ]
  },
  {
   "cell_type": "code",
   "execution_count": null,
   "metadata": {},
   "outputs": [],
   "source": [
    "ids"
   ]
  },
  {
   "cell_type": "code",
   "execution_count": null,
   "metadata": {},
   "outputs": [],
   "source": [
    "tups = [[(k,v) for k,v in i.items()] for i in raw_list]\n",
    "\n",
    "tups"
   ]
  },
  {
   "cell_type": "code",
   "execution_count": null,
   "metadata": {},
   "outputs": [],
   "source": [
    "for i,j in tups:\n",
    "    out[i].append(j)"
   ]
  },
  {
   "cell_type": "code",
   "execution_count": null,
   "metadata": {},
   "outputs": [],
   "source": []
  },
  {
   "cell_type": "code",
   "execution_count": null,
   "metadata": {},
   "outputs": [],
   "source": [
    "dict(out)"
   ]
  },
  {
   "cell_type": "code",
   "execution_count": null,
   "metadata": {},
   "outputs": [],
   "source": [
    "a = ChainMap(*raw_list)"
   ]
  },
  {
   "cell_type": "code",
   "execution_count": null,
   "metadata": {},
   "outputs": [],
   "source": [
    "a.maps[0]['item_name']"
   ]
  },
  {
   "cell_type": "code",
   "execution_count": null,
   "metadata": {},
   "outputs": [],
   "source": []
  },
  {
   "cell_type": "code",
   "execution_count": null,
   "metadata": {},
   "outputs": [],
   "source": []
  },
  {
   "cell_type": "code",
   "execution_count": 1,
   "metadata": {},
   "outputs": [],
   "source": [
    "games_detailed = [{'gameId': '8133',\n",
    "  'teamId': '26',\n",
    "  'fastBreakPoints': '16',\n",
    "  'pointsInPaint': '40',\n",
    "  'biggestLead': '15',\n",
    "  'secondChancePoints': '16',\n",
    "  'pointsOffTurnovers': '24',\n",
    "  'longestRun': '9',\n",
    "  'points': '116',\n",
    "  'fgm': '42',\n",
    "  'fga': '92',\n",
    "  'fgp': '45.7',\n",
    "  'ftm': '20',\n",
    "  'fta': '29',\n",
    "  'ftp': '69.0',\n",
    "  'tpm': '12',\n",
    "  'tpa': '42',\n",
    "  'tpp': '28.6',\n",
    "  'offReb': '10',\n",
    "  'defReb': '39',\n",
    "  'totReb': '49',\n",
    "  'assists': '26',\n",
    "  'pFouls': '28',\n",
    "  'steals': '10',\n",
    "  'turnovers': '15',\n",
    "  'blocks': '8',\n",
    "  'plusMinus': '4',\n",
    "  'min': '240:00',\n",
    "  'homeWin': '0',\n",
    "  'homeLoss': '0',\n",
    "  'home': '0',\n",
    "  'teamName': 'Orlando Magic'},\n",
    " {'gameId': '8133',\n",
    "  'teamId': '1',\n",
    "  'fastBreakPoints': '14',\n",
    "  'pointsInPaint': '32',\n",
    "  'biggestLead': '4',\n",
    "  'secondChancePoints': '25',\n",
    "  'pointsOffTurnovers': '22',\n",
    "  'longestRun': '8',\n",
    "  'points': '112',\n",
    "  'fgm': '34',\n",
    "  'fga': '92',\n",
    "  'fgp': '37.0',\n",
    "  'ftm': '34',\n",
    "  'fta': '41',\n",
    "  'ftp': '82.9',\n",
    "  'tpm': '10',\n",
    "  'tpa': '32',\n",
    "  'tpp': '31.2',\n",
    "  'offReb': '19',\n",
    "  'defReb': '42',\n",
    "  'totReb': '61',\n",
    "  'assists': '20',\n",
    "  'pFouls': '25',\n",
    "  'steals': '8',\n",
    "  'turnovers': '23',\n",
    "  'blocks': '4',\n",
    "  'plusMinus': '-4',\n",
    "  'min': '240:00',\n",
    "  'homeWin': '0',\n",
    "  'homeLoss': '1',\n",
    "  'home': '1',\n",
    "  'teamName': 'Atlanta Hawks'},\n",
    " {'gameId': '8134',\n",
    "  'teamId': '24',\n",
    "  'fastBreakPoints': '11',\n",
    "  'pointsInPaint': '52',\n",
    "  'biggestLead': '18',\n",
    "  'secondChancePoints': '17',\n",
    "  'pointsOffTurnovers': '19',\n",
    "  'longestRun': '14',\n",
    "  'points': '90',\n",
    "  'fgm': '38',\n",
    "  'fga': '83',\n",
    "  'fgp': '45.8',\n",
    "  'ftm': '9',\n",
    "  'fta': '19',\n",
    "  'ftp': '47.4',\n",
    "  'tpm': '5',\n",
    "  'tpa': '23',\n",
    "  'tpp': '21.7',\n",
    "  'offReb': '13',\n",
    "  'defReb': '41',\n",
    "  'totReb': '54',\n",
    "  'assists': '23',\n",
    "  'pFouls': '28',\n",
    "  'steals': '12',\n",
    "  'turnovers': '24',\n",
    "  'blocks': '6',\n",
    "  'plusMinus': '6',\n",
    "  'min': '240:00',\n",
    "  'homeWin': '0',\n",
    "  'homeLoss': '0',\n",
    "  'home': '0',\n",
    "  'teamName': 'New York Knicks'},\n",
    " {'gameId': '8134',\n",
    "  'teamId': '10',\n",
    "  'fastBreakPoints': '11',\n",
    "  'pointsInPaint': '30',\n",
    "  'biggestLead': '7',\n",
    "  'secondChancePoints': '9',\n",
    "  'pointsOffTurnovers': '24',\n",
    "  'longestRun': '14',\n",
    "  'points': '84',\n",
    "  'fgm': '26',\n",
    "  'fga': '80',\n",
    "  'fgp': '32.5',\n",
    "  'ftm': '22',\n",
    "  'fta': '25',\n",
    "  'ftp': '88.0',\n",
    "  'tpm': '10',\n",
    "  'tpa': '39',\n",
    "  'tpp': '25.6',\n",
    "  'offReb': '10',\n",
    "  'defReb': '31',\n",
    "  'totReb': '41',\n",
    "  'assists': '17',\n",
    "  'pFouls': '18',\n",
    "  'steals': '12',\n",
    "  'turnovers': '22',\n",
    "  'blocks': '3',\n",
    "  'plusMinus': '-6',\n",
    "  'min': '240:00',\n",
    "  'homeWin': '0',\n",
    "  'homeLoss': '1',\n",
    "  'home': '1',\n",
    "  'teamName': 'Detroit Pistons'}]"
   ]
  },
  {
   "cell_type": "code",
   "execution_count": 2,
   "metadata": {},
   "outputs": [],
   "source": []
  },
  {
   "cell_type": "code",
   "execution_count": null,
   "metadata": {
    "scrolled": false
   },
   "outputs": [],
   "source": [
    "# games = defaultdict(list)\n",
    "\n",
    "# for i in games_detailed:\n",
    "#     games[i['gameId']].append(i)\n",
    "    \n",
    "# for game in games.items():\n",
    "#     for g in \n",
    "#     gg = {}\n",
    "#     if g['home']==0:\n",
    "#         gg['gameId'] = g['gameId']\n",
    "#         gg['away_team'] = g['teamName']\n",
    "#         gg['away_points'] = g['points']\n",
    "#     else:\n",
    "#         gg['home_team'] = g['teamName']\n",
    "#         gg['home_points'] = g['points']\n",
    "#         gg['spread'] = g['plusMinus']\n",
    "#         gg['home_win'] = g['homeWin']\n",
    "#     print(gg)"
   ]
  },
  {
   "cell_type": "code",
   "execution_count": 25,
   "metadata": {},
   "outputs": [],
   "source": []
  },
  {
   "cell_type": "code",
   "execution_count": 122,
   "metadata": {},
   "outputs": [
    {
     "data": {
      "text/plain": [
       "[{'gameId': '8133',\n",
       "  'away_team': 'Orlando Magic',\n",
       "  'away_points': '116',\n",
       "  'home_team': 'Atlanta Hawks',\n",
       "  'home_points': '112',\n",
       "  'spread': '-4',\n",
       "  'home_win': '0'},\n",
       " {'gameId': '8134',\n",
       "  'away_team': 'New York Knicks',\n",
       "  'away_points': '90',\n",
       "  'home_team': 'Detroit Pistons',\n",
       "  'home_points': '84',\n",
       "  'spread': '-6',\n",
       "  'home_win': '0'}]"
      ]
     },
     "execution_count": 122,
     "metadata": {},
     "output_type": "execute_result"
    }
   ],
   "source": [
    "from collections import defaultdict\n",
    "\n",
    "#Name mappings\n",
    "away_keys = list(zip(['gameId','away_team','away_points'], #New key names\n",
    "                     ['gameId','teamName','points']))       #Old key names\n",
    "\n",
    "home_keys = list(zip(['gameId','home_team','home_points','spread','home_win'],\n",
    "                     ['gameId','teamName','points','plusMinus','homeWin']))\n",
    "\n",
    "\n",
    "games = defaultdict(dict)\n",
    "for g in games_detailed:\n",
    "    if g['home']=='0':\n",
    "        d = {i:g[j] for i,j in away_keys}\n",
    "    else:\n",
    "        d = {i:g[j] for i,j in home_keys}\n",
    "    games[d['gameId']].update(d)\n",
    "\n",
    "game_results = list(games.values())\n",
    "game_results"
   ]
  },
  {
   "cell_type": "code",
   "execution_count": null,
   "metadata": {},
   "outputs": [],
   "source": []
  },
  {
   "cell_type": "code",
   "execution_count": null,
   "metadata": {},
   "outputs": [],
   "source": []
  },
  {
   "cell_type": "code",
   "execution_count": null,
   "metadata": {},
   "outputs": [],
   "source": []
  },
  {
   "cell_type": "code",
   "execution_count": null,
   "metadata": {},
   "outputs": [],
   "source": []
  },
  {
   "cell_type": "code",
   "execution_count": 74,
   "metadata": {},
   "outputs": [
    {
     "data": {
      "text/plain": [
       "array([[4, 2, 6, 0, 8],\n",
       "       [7, 9, 3, 5, 1]])"
      ]
     },
     "execution_count": 74,
     "metadata": {},
     "output_type": "execute_result"
    }
   ],
   "source": [
    "import numpy as np\n",
    "\n",
    "inp = np.array([[9,4,15,0,18],\n",
    "                [16,19,8,10,1]])\n",
    "\n",
    "inp.ravel().argsort().argsort().reshape(inp.shape)\n",
    "\n",
    "array([[4, 2, 6, 0, 8],\n",
    "       [7, 9, 3, 5, 1]])"
   ]
  },
  {
   "cell_type": "code",
   "execution_count": 113,
   "metadata": {},
   "outputs": [
    {
     "name": "stdout",
     "output_type": "stream",
     "text": [
      "Array -> 9   4   15  0   18  16  19  8   10  1  \n",
      "\n",
      "Sort1 -> 3   9   1   7   0   8   2   5   4   6  \n",
      "\n",
      "Sort2 -> 4   2   6   0   8   7   9   3   5   1  "
     ]
    }
   ],
   "source": [
    "print('Array ->', end='')\n",
    "for i in inp.ravel().astype('str'):\n",
    "    print(i.center(4), end='')\n",
    "print('\\n')\n",
    "print('Sort1 ->', end='')\n",
    "for i in inp.ravel().argsort().astype('str'):\n",
    "    print(i.center(4), end='')\n",
    "print('\\n')\n",
    "print('Sort2 ->', end='')\n",
    "for i in inp.ravel().argsort().argsort().astype('str'):\n",
    "    print(i.center(4), end='')"
   ]
  },
  {
   "cell_type": "code",
   "execution_count": 121,
   "metadata": {},
   "outputs": [
    {
     "name": "stdout",
     "output_type": "stream",
     "text": [
      "[4 0 1 2 3]\n",
      "[1 2 3 4 0]\n",
      "[4 0 1 2 3]\n"
     ]
    }
   ],
   "source": [
    "a = np.array([4,0,1,2,3])\n",
    "print(a)\n",
    "print(a.argsort())\n",
    "print(a.argsort().argsort())"
   ]
  },
  {
   "cell_type": "code",
   "execution_count": null,
   "metadata": {},
   "outputs": [],
   "source": []
  },
  {
   "cell_type": "code",
   "execution_count": null,
   "metadata": {},
   "outputs": [],
   "source": []
  },
  {
   "cell_type": "code",
   "execution_count": null,
   "metadata": {},
   "outputs": [],
   "source": []
  },
  {
   "cell_type": "code",
   "execution_count": null,
   "metadata": {},
   "outputs": [],
   "source": []
  },
  {
   "cell_type": "code",
   "execution_count": null,
   "metadata": {},
   "outputs": [],
   "source": []
  },
  {
   "cell_type": "code",
   "execution_count": null,
   "metadata": {},
   "outputs": [],
   "source": [
    "images = np.random.random((100,500,500,3))\n",
    "animal = np.random.randint(0,2,(100,))\n",
    "breed = np.random.randint(0,10,(100,))\n",
    "\n",
    "model.compile(loss=['binary_crossentropy','sparse_categorical_crossentropy'], \n",
    "              loss_weights=[0.6, 0.4], \n",
    "              optimizer='adam')\n",
    "\n",
    "model.fit(images, [animal, breed], batch_size=8, epochs=3)"
   ]
  },
  {
   "cell_type": "code",
   "execution_count": null,
   "metadata": {},
   "outputs": [],
   "source": [
    "import numpy as np\n",
    "from tensorflow.keras import layers, Model, utils\n",
    "\n",
    "#Model architecture\n",
    "inp = layers.Input((500,500,3))\n",
    "x = layers.Conv2D(10, 3)(inp)\n",
    "x = layers.MaxPool2D(3)(x)\n",
    "x = layers.Conv2D(10, 3)(x)\n",
    "x = layers.MaxPool2D(3)(x)\n",
    "x = layers.Conv2D(10, 3)(x)\n",
    "x = layers.MaxPool2D(3)(x)\n",
    "x1 = layers.Flatten()(x)\n",
    "out1 = layers.Dense(1, activation='sigmoid', name='animal')(x1)\n",
    "x2 = layers.Conv2D(10, 3)(x)\n",
    "x2 = layers.MaxPool2D(3)(x2)\n",
    "x2 = layers.Flatten()(x2)\n",
    "out2 = layers.Dense(10, activation='softmax', name='breed')(x2)\n",
    "\n",
    "model = Model(inp, [out1, out2])\n",
    "\n",
    "utils.plot_model(model, show_shapes=True, show_layer_names=False)"
   ]
  },
  {
   "cell_type": "code",
   "execution_count": null,
   "metadata": {},
   "outputs": [],
   "source": []
  },
  {
   "cell_type": "code",
   "execution_count": null,
   "metadata": {},
   "outputs": [],
   "source": []
  },
  {
   "cell_type": "code",
   "execution_count": null,
   "metadata": {},
   "outputs": [],
   "source": []
  },
  {
   "cell_type": "code",
   "execution_count": null,
   "metadata": {},
   "outputs": [],
   "source": []
  },
  {
   "cell_type": "code",
   "execution_count": null,
   "metadata": {},
   "outputs": [],
   "source": []
  },
  {
   "cell_type": "code",
   "execution_count": 162,
   "metadata": {},
   "outputs": [],
   "source": []
  },
  {
   "cell_type": "code",
   "execution_count": 175,
   "metadata": {},
   "outputs": [
    {
     "data": {
      "image/png": "[encoded data removed]",
      "text/plain": [
       "<PIL.Image.Image image mode=RGB size=100x100 at 0x7FAD61A3F310>"
      ]
     },
     "execution_count": 175,
     "metadata": {},
     "output_type": "execute_result"
    }
   ],
   "source": [
    "from PIL import Image\n",
    "import numpy as np\n",
    "\n",
    "def random_resize():\n",
    "    while True:\n",
    "        a = np.random.random((100,100))*255 # <- important to have a array from 0-255\n",
    "        yield a\n",
    "\n",
    "images = []\n",
    "\n",
    "\n",
    "for i in range(3):   \n",
    "    arr = next(random_resize())     #Fetching 1 image from generator\n",
    "    img = Image.fromarray(arr, mode='RGB') #Set to 'L' for grayscale\n",
    "    images.append(img)\n",
    "    \n",
    "images[0]"
   ]
  },
  {
   "cell_type": "code",
   "execution_count": 182,
   "metadata": {},
   "outputs": [
    {
     "ename": "SyntaxError",
     "evalue": "'yield' inside list comprehension (<ipython-input-182-d649c8a7d78d>, line 2)",
     "output_type": "error",
     "traceback": [
      "\u001b[0;36m  File \u001b[0;32m\"<ipython-input-182-d649c8a7d78d>\"\u001b[0;36m, line \u001b[0;32m2\u001b[0m\n\u001b[0;31m    f2 = lambda: [(yield i**2) for i in x]\u001b[0m\n\u001b[0m                 ^\u001b[0m\n\u001b[0;31mSyntaxError\u001b[0m\u001b[0;31m:\u001b[0m 'yield' inside list comprehension\n"
     ]
    }
   ],
   "source": [
    "f1 = lambda: [(i**2) for i in x]\n",
    "f2 = lambda: [(yield i**2) for i in x]"
   ]
  },
  {
   "cell_type": "code",
   "execution_count": 184,
   "metadata": {},
   "outputs": [
    {
     "name": "stdout",
     "output_type": "stream",
     "text": [
      "0 1 2 3 4 5 6 7 8 9 10 11 12 13 14\n"
     ]
    },
    {
     "data": {
      "text/plain": [
       "[2, 3, 4, 5, 6, 7, 8, 9, 10, 11, 12, 13, 14]"
      ]
     },
     "execution_count": 184,
     "metadata": {},
     "output_type": "execute_result"
    }
   ],
   "source": [
    "x = (i for i in range(15))\n",
    "x\n",
    "#Out: <generator object <genexpr> at 0x7fbdc69c3f10>\n",
    "\n",
    "print(*x)\n",
    "#Out: 0 1 2 3 4 5 6 7 8 9 10 11 12 13 14\n",
    "\n",
    "x = (i for i in range(0, 15))\n",
    "x.__next__()\n",
    "#Out: 0\n",
    "\n",
    "next(x)\n",
    "#Out: 1\n",
    "\n",
    "list(x) \n",
    "###Remaining values left in iterator\n",
    "#[2, 3, 4, 5, 6, 7, 8, 9, 10, 11, 12, 13, 14]"
   ]
  },
  {
   "cell_type": "code",
   "execution_count": 185,
   "metadata": {},
   "outputs": [
    {
     "ename": "StopIteration",
     "evalue": "",
     "output_type": "error",
     "traceback": [
      "\u001b[0;31m---------------------------------------------------------------------------\u001b[0m",
      "\u001b[0;31mStopIteration\u001b[0m                             Traceback (most recent call last)",
      "\u001b[0;32m<ipython-input-185-92de4e9f6b1e>\u001b[0m in \u001b[0;36m<module>\u001b[0;34m\u001b[0m\n\u001b[0;32m----> 1\u001b[0;31m \u001b[0mnext\u001b[0m\u001b[0;34m(\u001b[0m\u001b[0mx\u001b[0m\u001b[0;34m)\u001b[0m\u001b[0;34m\u001b[0m\u001b[0;34m\u001b[0m\u001b[0m\n\u001b[0m",
      "\u001b[0;31mStopIteration\u001b[0m: "
     ]
    }
   ],
   "source": [
    "next(x)\n",
    "\n",
    "#Out:\n",
    "# ---------------------------------------------------------------------------\n",
    "# StopIteration                             Traceback (most recent call last)\n",
    "# <ipython-input-185-92de4e9f6b1e> in <module>\n",
    "# ----> 1 next(x)\n",
    "\n",
    "# StopIteration: "
   ]
  },
  {
   "cell_type": "code",
   "execution_count": null,
   "metadata": {},
   "outputs": [],
   "source": []
  },
  {
   "cell_type": "code",
   "execution_count": 188,
   "metadata": {},
   "outputs": [],
   "source": [
    "import pandas as pd"
   ]
  },
  {
   "cell_type": "code",
   "execution_count": 197,
   "metadata": {},
   "outputs": [
    {
     "data": {
      "text/html": [
       "<div>\n",
       "<style scoped>\n",
       "    .dataframe tbody tr th:only-of-type {\n",
       "        vertical-align: middle;\n",
       "    }\n",
       "\n",
       "    .dataframe tbody tr th {\n",
       "        vertical-align: top;\n",
       "    }\n",
       "\n",
       "    .dataframe thead th {\n",
       "        text-align: right;\n",
       "    }\n",
       "</style>\n",
       "<table border=\"1\" class=\"dataframe\">\n",
       "  <thead>\n",
       "    <tr style=\"text-align: right;\">\n",
       "      <th></th>\n",
       "      <th>question_id</th>\n",
       "      <th>vectors</th>\n",
       "    </tr>\n",
       "  </thead>\n",
       "  <tbody>\n",
       "    <tr>\n",
       "      <th>0</th>\n",
       "      <td>0</td>\n",
       "      <td>[0.2469527487768669, 0.6698805844296664, 0.537...</td>\n",
       "    </tr>\n",
       "    <tr>\n",
       "      <th>1</th>\n",
       "      <td>1</td>\n",
       "      <td>[0.027504070500654065, 0.06030157441937822, 0....</td>\n",
       "    </tr>\n",
       "    <tr>\n",
       "      <th>2</th>\n",
       "      <td>2</td>\n",
       "      <td>[0.9343844305892668, 0.10362327223911671, 0.03...</td>\n",
       "    </tr>\n",
       "    <tr>\n",
       "      <th>3</th>\n",
       "      <td>3</td>\n",
       "      <td>[0.671568272765834, 0.3839950596806171, 0.0826...</td>\n",
       "    </tr>\n",
       "    <tr>\n",
       "      <th>4</th>\n",
       "      <td>4</td>\n",
       "      <td>[0.442312755598934, 0.5803139921253193, 0.3407...</td>\n",
       "    </tr>\n",
       "    <tr>\n",
       "      <th>...</th>\n",
       "      <td>...</td>\n",
       "      <td>...</td>\n",
       "    </tr>\n",
       "    <tr>\n",
       "      <th>4995</th>\n",
       "      <td>4995</td>\n",
       "      <td>[0.1261277813524212, 0.7290288971481135, 0.721...</td>\n",
       "    </tr>\n",
       "    <tr>\n",
       "      <th>4996</th>\n",
       "      <td>4996</td>\n",
       "      <td>[0.8213700416155928, 0.9335403373334967, 0.673...</td>\n",
       "    </tr>\n",
       "    <tr>\n",
       "      <th>4997</th>\n",
       "      <td>4997</td>\n",
       "      <td>[0.348776601192215, 0.6089840385474021, 0.4501...</td>\n",
       "    </tr>\n",
       "    <tr>\n",
       "      <th>4998</th>\n",
       "      <td>4998</td>\n",
       "      <td>[0.7896185461069269, 0.7610186780120886, 0.718...</td>\n",
       "    </tr>\n",
       "    <tr>\n",
       "      <th>4999</th>\n",
       "      <td>4999</td>\n",
       "      <td>[0.23175524071786724, 0.3259797490620504, 0.48...</td>\n",
       "    </tr>\n",
       "  </tbody>\n",
       "</table>\n",
       "<p>5000 rows × 2 columns</p>\n",
       "</div>"
      ],
      "text/plain": [
       "      question_id                                            vectors\n",
       "0               0  [0.2469527487768669, 0.6698805844296664, 0.537...\n",
       "1               1  [0.027504070500654065, 0.06030157441937822, 0....\n",
       "2               2  [0.9343844305892668, 0.10362327223911671, 0.03...\n",
       "3               3  [0.671568272765834, 0.3839950596806171, 0.0826...\n",
       "4               4  [0.442312755598934, 0.5803139921253193, 0.3407...\n",
       "...           ...                                                ...\n",
       "4995         4995  [0.1261277813524212, 0.7290288971481135, 0.721...\n",
       "4996         4996  [0.8213700416155928, 0.9335403373334967, 0.673...\n",
       "4997         4997  [0.348776601192215, 0.6089840385474021, 0.4501...\n",
       "4998         4998  [0.7896185461069269, 0.7610186780120886, 0.718...\n",
       "4999         4999  [0.23175524071786724, 0.3259797490620504, 0.48...\n",
       "\n",
       "[5000 rows x 2 columns]"
      ]
     },
     "execution_count": 197,
     "metadata": {},
     "output_type": "execute_result"
    }
   ],
   "source": [
    "df = pd.DataFrame({'question_id':np.arange(5000),'vectors':[list(i) for i in np.random.random((5000,128))]})\n",
    "df"
   ]
  },
  {
   "cell_type": "code",
   "execution_count": 248,
   "metadata": {},
   "outputs": [],
   "source": [
    "from sklearn.metrics.pairwise import cosine_similarity\n",
    "from scipy.spatial.distance import pdist, squareform\n",
    "from sklearn.preprocessing import normalize"
   ]
  },
  {
   "cell_type": "code",
   "execution_count": 239,
   "metadata": {
    "scrolled": true
   },
   "outputs": [
    {
     "data": {
      "text/plain": [
       "array([3090, 2545, 4165, ...,  304, 2095,  664])"
      ]
     },
     "execution_count": 239,
     "metadata": {},
     "output_type": "execute_result"
    }
   ],
   "source": [
    "#%%timeit\n",
    "sims = cosine_similarity(np.array(list(df['vectors'])))\n",
    "np.fill_diagonal(sims, 0)\n",
    "similar_question = np.argmax(sims, axis=0)\n",
    "similar_question"
   ]
  },
  {
   "cell_type": "code",
   "execution_count": 238,
   "metadata": {},
   "outputs": [
    {
     "data": {
      "text/plain": [
       "array([[1.        , 0.73047162, 0.76597623, ..., 0.80157625, 0.76778865,\n",
       "        0.74247459],\n",
       "       [0.73047162, 1.        , 0.76433393, ..., 0.71876792, 0.68314897,\n",
       "        0.73294186],\n",
       "       [0.76597623, 0.76433393, 1.        , ..., 0.75344847, 0.76274057,\n",
       "        0.74596117],\n",
       "       ...,\n",
       "       [0.80157625, 0.71876792, 0.75344847, ..., 1.        , 0.77727683,\n",
       "        0.71115213],\n",
       "       [0.76778865, 0.68314897, 0.76274057, ..., 0.77727683, 1.        ,\n",
       "        0.72285527],\n",
       "       [0.74247459, 0.73294186, 0.74596117, ..., 0.71115213, 0.72285527,\n",
       "        1.        ]])"
      ]
     },
     "execution_count": 238,
     "metadata": {},
     "output_type": "execute_result"
    }
   ],
   "source": [
    "sims"
   ]
  },
  {
   "cell_type": "code",
   "execution_count": 250,
   "metadata": {},
   "outputs": [
    {
     "data": {
      "text/plain": [
       "array([2144, 2144, 2144, ..., 2144, 3719,  287])"
      ]
     },
     "execution_count": 250,
     "metadata": {},
     "output_type": "execute_result"
    }
   ],
   "source": [
    "#%%timeit\n",
    "vec = list(df['vectors'])\n",
    "vec = vec / np.linalg.norm(vec)\n",
    "sims = np.array(vec)@np.array(vec).T\n",
    "np.fill_diagonal(sims, 0)\n",
    "similar_question = np.argmax(sims, axis=0)\n",
    "similar_question"
   ]
  },
  {
   "cell_type": "code",
   "execution_count": 247,
   "metadata": {},
   "outputs": [
    {
     "data": {
      "text/plain": [
       "array([[0.00027137, 0.00018153, 0.00021052, ..., 0.00019928, 0.00019629,\n",
       "        0.00018861],\n",
       "       [0.00020367, 0.00025533, 0.00021584, ..., 0.0001836 , 0.00017945,\n",
       "        0.0001913 ],\n",
       "       [0.00020809, 0.00019015, 0.00027515, ..., 0.00018752, 0.00019522,\n",
       "        0.00018971],\n",
       "       ...,\n",
       "       [0.00021473, 0.00017633, 0.00020442, ..., 0.00024542, 0.00019617,\n",
       "        0.00017834],\n",
       "       [0.00020484, 0.0001669 , 0.0002061 , ..., 0.00018998, 0.00025135,\n",
       "        0.00018053],\n",
       "       [0.00020813, 0.00018815, 0.00021179, ..., 0.00018264, 0.0001909 ,\n",
       "        0.00026241]])"
      ]
     },
     "execution_count": 247,
     "metadata": {},
     "output_type": "execute_result"
    }
   ],
   "source": [
    "sims"
   ]
  },
  {
   "cell_type": "code",
   "execution_count": 235,
   "metadata": {},
   "outputs": [
    {
     "name": "stdout",
     "output_type": "stream",
     "text": [
      "2.15 s ± 532 ms per loop (mean ± std. dev. of 7 runs, 1 loop each)\n"
     ]
    }
   ],
   "source": [
    "#%%timeit\n",
    "out = pdist(np.stack(df['vectors']), metric=\"cosine\")\n",
    "sims = squareform(out)"
   ]
  },
  {
   "cell_type": "code",
   "execution_count": null,
   "metadata": {},
   "outputs": [],
   "source": []
  },
  {
   "cell_type": "code",
   "execution_count": null,
   "metadata": {},
   "outputs": [],
   "source": []
  },
  {
   "cell_type": "code",
   "execution_count": null,
   "metadata": {},
   "outputs": [],
   "source": []
  },
  {
   "cell_type": "code",
   "execution_count": 267,
   "metadata": {},
   "outputs": [
    {
     "name": "stdout",
     "output_type": "stream",
     "text": [
      "[[ 1  2]\n",
      " [10 11]\n",
      " [19 20]\n",
      " [28 29]]\n"
     ]
    }
   ],
   "source": [
    "# Indices of columns\n",
    "coord_x = np.arange(0, 2) \n",
    "# Indices of rows\n",
    "coord_y = np.arange(1, 37, 9)\n",
    "# Creates 2 matrices with the coordinates \n",
    "x, y = np.meshgrid(coord_x, coord_y)\n",
    "# To perform the shift between columns\n",
    "idx_left = x + y\n",
    "print(idx_left)\n",
    "\n"
   ]
  },
  {
   "cell_type": "code",
   "execution_count": 273,
   "metadata": {},
   "outputs": [
    {
     "data": {
      "text/plain": [
       "array([[ 1,  2],\n",
       "       [10, 11],\n",
       "       [19, 20],\n",
       "       [28, 29]])"
      ]
     },
     "execution_count": 273,
     "metadata": {},
     "output_type": "execute_result"
    }
   ],
   "source": [
    "np.stack([coord_y,coord_y+1]).T #Stack the coord_y and its +=1\n",
    "coord_y[:,None] + np.arange(0,2)[None,:] #Change the limits of arange to increase number of columns"
   ]
  },
  {
   "cell_type": "code",
   "execution_count": 277,
   "metadata": {},
   "outputs": [],
   "source": []
  },
  {
   "cell_type": "code",
   "execution_count": 286,
   "metadata": {},
   "outputs": [
    {
     "data": {
      "text/plain": [
       "array([[ 1,  2],\n",
       "       [10, 11],\n",
       "       [19, 20],\n",
       "       [28, 29]])"
      ]
     },
     "execution_count": 286,
     "metadata": {},
     "output_type": "execute_result"
    }
   ],
   "source": [
    "arr = np.arange(1,100)\n",
    "shape = (4,2)\n",
    "strides = (arr.strides[0]*9,arr.strides[0]*1) #8 bytes * 9 shift on axis=0, 8bytes on axis=1\n",
    "\n",
    "np.lib.stride_tricks.as_strided(arr, shape=shape, strides=strides)\n",
    "\n",
    "\n",
    "arr = np.arange(1,100)\n",
    "shape = (4,2)\n",
    "strides = (arr.strides[0]*2,arr.strides[0]*3) #8bytes * 2shift on axis=0, 8bytes*3shift on axis=1\n",
    "\n",
    "np.lib.stride_tricks.as_strided(arr, shape=shape, strides=strides)"
   ]
  },
  {
   "cell_type": "code",
   "execution_count": 299,
   "metadata": {},
   "outputs": [
    {
     "data": {
      "text/plain": [
       "array([[ 1,  4],\n",
       "       [ 3,  6],\n",
       "       [ 5,  8],\n",
       "       [ 7, 10]])"
      ]
     },
     "execution_count": 299,
     "metadata": {},
     "output_type": "execute_result"
    }
   ],
   "source": [
    "arr = np.arange(1,100)\n",
    "shape = (4,2)\n",
    "strides = (arr.strides[0]*2,arr.strides[0]*3) #8bytes * 2shift on axis=0, 8bytes*3shift on axis=1\n",
    "\n",
    "np.lib.stride_tricks.as_strided(arr, shape=shape, strides=strides)"
   ]
  },
  {
   "cell_type": "code",
   "execution_count": 298,
   "metadata": {},
   "outputs": [
    {
     "data": {
      "text/plain": [
       "array([[ 1,  4],\n",
       "       [ 3,  6],\n",
       "       [ 5,  8],\n",
       "       [ 7, 10]])"
      ]
     },
     "execution_count": 298,
     "metadata": {},
     "output_type": "execute_result"
    }
   ],
   "source": [
    "coord_x = np.arange(0, 6, 3) \n",
    "coord_y = np.arange(1, 8, 2)\n",
    "x, y = np.meshgrid(coord_x, coord_y)\n",
    "idx_left = x + y\n",
    "idx_left"
   ]
  },
  {
   "cell_type": "code",
   "execution_count": 300,
   "metadata": {},
   "outputs": [
    {
     "data": {
      "text/plain": [
       "array([[ 1,  2],\n",
       "       [10, 11],\n",
       "       [19, 20],\n",
       "       [28, 29]])"
      ]
     },
     "execution_count": 300,
     "metadata": {},
     "output_type": "execute_result"
    }
   ],
   "source": [
    "coord_x = np.arange(0, 2, 1) \n",
    "coord_y = np.arange(1, 37, 9)\n",
    "coord_x[None,:] + coord_y[:,None]"
   ]
  },
  {
   "cell_type": "code",
   "execution_count": 304,
   "metadata": {},
   "outputs": [
    {
     "data": {
      "text/plain": [
       "array([[ 1.,  2.],\n",
       "       [10., 11.],\n",
       "       [19., 20.],\n",
       "       [28., 29.]])"
      ]
     },
     "execution_count": 304,
     "metadata": {},
     "output_type": "execute_result"
    }
   ],
   "source": [
    "np.linspace((1,2),(28,29),4)"
   ]
  },
  {
   "cell_type": "code",
   "execution_count": 307,
   "metadata": {},
   "outputs": [
    {
     "data": {
      "text/plain": [
       "array([[ 1,  2],\n",
       "       [10, 11],\n",
       "       [19, 20],\n",
       "       [28, 29]])"
      ]
     },
     "execution_count": 307,
     "metadata": {},
     "output_type": "execute_result"
    }
   ],
   "source": []
  },
  {
   "cell_type": "code",
   "execution_count": null,
   "metadata": {},
   "outputs": [],
   "source": []
  },
  {
   "cell_type": "code",
   "execution_count": null,
   "metadata": {},
   "outputs": [],
   "source": []
  },
  {
   "cell_type": "code",
   "execution_count": null,
   "metadata": {},
   "outputs": [],
   "source": []
  },
  {
   "cell_type": "code",
   "execution_count": 314,
   "metadata": {},
   "outputs": [],
   "source": [
    "m = 0.2\n",
    "\n",
    "A=[[[['a1', 'a1'], ['b1', 'b1'], ['c1', 'c2']],[['a1', 'a1'], ['b1', 'b1'], ['c1','c1']]], [[m], [1-m]]]\n",
    "\n",
    "[[sublist,p] for sublist,p in zip(A[0], A[1]) if sum([len(set(i))==1 for i in sublist])==2]"
   ]
  },
  {
   "cell_type": "code",
   "execution_count": 338,
   "metadata": {},
   "outputs": [
    {
     "data": {
      "text/plain": [
       "[[[['a1', 'a1'], ['b1', 'b1'], ['c1', 'c2']], [0.2]]]"
      ]
     },
     "execution_count": 338,
     "metadata": {},
     "output_type": "execute_result"
    }
   ],
   "source": []
  },
  {
   "cell_type": "code",
   "execution_count": null,
   "metadata": {},
   "outputs": [],
   "source": []
  },
  {
   "cell_type": "code",
   "execution_count": null,
   "metadata": {},
   "outputs": [],
   "source": [
    "[]"
   ]
  },
  {
   "cell_type": "code",
   "execution_count": 331,
   "metadata": {},
   "outputs": [
    {
     "data": {
      "text/plain": [
       "[[['a1', 'a1'], ['b1', 'b1'], ['c1', 'c2']],\n",
       " [['a1', 'a1'], ['b1', 'b1'], ['c1', 'c2']],\n",
       " [['a1', 'a1'], ['b1', 'b1'], ['c1', 'c1']],\n",
       " [['a1', 'a1'], ['b1', 'b1'], ['c1', 'c1']],\n",
       " [['a1', 'a1'], ['b1', 'b1'], ['c1', 'c1']]]"
      ]
     },
     "execution_count": 331,
     "metadata": {},
     "output_type": "execute_result"
    }
   ],
   "source": [
    "[item for sublist in A[0] ]"
   ]
  },
  {
   "cell_type": "code",
   "execution_count": null,
   "metadata": {},
   "outputs": [],
   "source": []
  },
  {
   "cell_type": "code",
   "execution_count": 339,
   "metadata": {},
   "outputs": [],
   "source": [
    "df = pd.read_clipboard('\\s\\s+')"
   ]
  },
  {
   "cell_type": "code",
   "execution_count": 364,
   "metadata": {},
   "outputs": [
    {
     "name": "stdout",
     "output_type": "stream",
     "text": [
      "  Member Group  Rate\n",
      "0    xyz     A    10\n",
      "1    uvw     B     0\n",
      "2    abc     A     1\n",
      "3    def     B   100\n",
      "4    ghi     B     0\n"
     ]
    }
   ],
   "source": [
    "rate={('xyz','A'):10 , ('abc','A'):1 ,('def','B'):100}\n",
    "\n",
    "df.Rate = df.apply(lambda row: rate.get((row.Member,row.Group), 0), axis=1)\n",
    "\n",
    "print(df)"
   ]
  },
  {
   "cell_type": "code",
   "execution_count": 365,
   "metadata": {},
   "outputs": [
    {
     "data": {
      "text/plain": [
       "array([0, 2, 2, 0, 0, 0], dtype=object)"
      ]
     },
     "execution_count": 365,
     "metadata": {},
     "output_type": "execute_result"
    }
   ],
   "source": [
    "np.array([0,1,1,0,0,0], dtype=object) * 2"
   ]
  },
  {
   "cell_type": "code",
   "execution_count": 362,
   "metadata": {},
   "outputs": [
    {
     "name": "stdout",
     "output_type": "stream",
     "text": [
      "  Member Group  Rate\n",
      "0    xyz     A    10\n",
      "1    uvw     B     0\n",
      "2    abc     A     1\n",
      "3    def     B   100\n",
      "4    ghi     B     0\n"
     ]
    }
   ],
   "source": []
  },
  {
   "cell_type": "code",
   "execution_count": 360,
   "metadata": {},
   "outputs": [
    {
     "data": {
      "text/plain": [
       "0     10\n",
       "1      0\n",
       "2      1\n",
       "3    100\n",
       "4      0\n",
       "dtype: int64"
      ]
     },
     "execution_count": 360,
     "metadata": {},
     "output_type": "execute_result"
    }
   ],
   "source": []
  },
  {
   "cell_type": "code",
   "execution_count": 350,
   "metadata": {},
   "outputs": [
    {
     "data": {
      "text/plain": [
       "10"
      ]
     },
     "execution_count": 350,
     "metadata": {},
     "output_type": "execute_result"
    }
   ],
   "source": []
  },
  {
   "cell_type": "code",
   "execution_count": 396,
   "metadata": {},
   "outputs": [
    {
     "name": "stdout",
     "output_type": "stream",
     "text": [
      "integer -> 9738\n",
      "matching patterns -> [1538 1544 1026 1536 1536 1034  520]\n"
     ]
    }
   ],
   "source": [
    "p = np.random.randint(0,5000,(1000,),dtype='int64')\n",
    "n = np.random.randint(0,10000,(500,),dtype='int64')\n",
    "\n",
    "compare = np.bitwise_and(n[:,None],p[None,:])==p[None,:] #True if (n & pi) == pi, else False\n",
    "\n",
    "n_idx = 0 #For 0th n integer in my list\n",
    "p_idx = np.argwhere(compare[0]).flatten() #This is the index of patterns that match\n",
    "print('integer ->', n[0])\n",
    "print('matching patterns ->',p[p_idx])\n",
    "\n",
    "integer -> 9738\n",
    "matching patterns -> [1538 1544 1026 1536 1536 1034  520]"
   ]
  },
  {
   "cell_type": "code",
   "execution_count": 389,
   "metadata": {},
   "outputs": [
    {
     "data": {
      "text/plain": [
       "array([ 89, 103, 250, 266, 267, 350, 356, 357, 403, 418, 484, 499, 538,\n",
       "       601, 614, 662, 804, 824, 947, 965, 974, 983])"
      ]
     },
     "execution_count": 389,
     "metadata": {},
     "output_type": "execute_result"
    }
   ],
   "source": []
  },
  {
   "cell_type": "code",
   "execution_count": null,
   "metadata": {},
   "outputs": [],
   "source": []
  },
  {
   "cell_type": "code",
   "execution_count": null,
   "metadata": {},
   "outputs": [],
   "source": []
  },
  {
   "cell_type": "code",
   "execution_count": null,
   "metadata": {},
   "outputs": [],
   "source": []
  },
  {
   "cell_type": "code",
   "execution_count": null,
   "metadata": {},
   "outputs": [],
   "source": []
  },
  {
   "cell_type": "code",
   "execution_count": 400,
   "metadata": {},
   "outputs": [],
   "source": [
    "vec = np.random.random((10000,3))\n",
    "\n",
    "index_min = np.argsort(np.abs(vec),axis=1)"
   ]
  },
  {
   "cell_type": "code",
   "execution_count": 401,
   "metadata": {},
   "outputs": [
    {
     "data": {
      "text/plain": [
       "array([[2, 0, 1],\n",
       "       [0, 1, 2],\n",
       "       [1, 0, 2],\n",
       "       ...,\n",
       "       [0, 2, 1],\n",
       "       [1, 2, 0],\n",
       "       [1, 0, 2]])"
      ]
     },
     "execution_count": 401,
     "metadata": {},
     "output_type": "execute_result"
    }
   ],
   "source": [
    "index_min"
   ]
  },
  {
   "cell_type": "code",
   "execution_count": 402,
   "metadata": {},
   "outputs": [],
   "source": [
    "a1 = np.array([np.array([1, 1, 1]), np.array([2, 2, 2]), np.array([3])], dtype=object)\n",
    "a2 = np.array([np.array([1, 1, 1]), np.array([2, 2, 2]), np.array([3])], dtype=object)"
   ]
  },
  {
   "cell_type": "code",
   "execution_count": 416,
   "metadata": {},
   "outputs": [],
   "source": [
    "e = np.equal(a1, a2, dtype=object)"
   ]
  },
  {
   "cell_type": "code",
   "execution_count": 423,
   "metadata": {},
   "outputs": [
    {
     "ename": "ValueError",
     "evalue": "invalid number of arguments",
     "output_type": "error",
     "traceback": [
      "\u001b[0;31m---------------------------------------------------------------------------\u001b[0m",
      "\u001b[0;31mValueError\u001b[0m                                Traceback (most recent call last)",
      "\u001b[0;32m<ipython-input-423-315cadc28cf6>\u001b[0m in \u001b[0;36m<module>\u001b[0;34m\u001b[0m\n\u001b[0;32m----> 1\u001b[0;31m \u001b[0mnp\u001b[0m\u001b[0;34m.\u001b[0m\u001b[0mequal\u001b[0m\u001b[0;34m(\u001b[0m\u001b[0mnp\u001b[0m\u001b[0;34m.\u001b[0m\u001b[0mstack\u001b[0m\u001b[0;34m(\u001b[0m\u001b[0;34m[\u001b[0m\u001b[0ma1\u001b[0m\u001b[0;34m,\u001b[0m\u001b[0ma2\u001b[0m\u001b[0;34m]\u001b[0m\u001b[0;34m)\u001b[0m\u001b[0;34m)\u001b[0m\u001b[0;34m\u001b[0m\u001b[0;34m\u001b[0m\u001b[0m\n\u001b[0m",
      "\u001b[0;31mValueError\u001b[0m: invalid number of arguments"
     ]
    }
   ],
   "source": []
  },
  {
   "cell_type": "code",
   "execution_count": null,
   "metadata": {},
   "outputs": [],
   "source": [
    "7\n",
    "A B C D E F G\n",
    "12\n",
    "A B\n",
    "A C\n",
    "A D\n",
    "B D\n",
    "B E\n",
    "C F\n",
    "D C\n",
    "D F\n",
    "E D\n",
    "G D\n",
    "G E\n",
    "G F"
   ]
  },
  {
   "cell_type": "code",
   "execution_count": 426,
   "metadata": {},
   "outputs": [
    {
     "name": "stdout",
     "output_type": "stream",
     "text": [
      "7\n",
      "A B C D E F G\n",
      "12\n",
      "A B\n",
      "A C\n",
      "A D\n",
      "B D\n",
      "B E\n",
      "C F\n",
      "D C\n",
      "D F\n",
      "E D\n",
      "G D\n",
      "G E\n",
      "G F\n",
      "['A', 'B', 'D', 'C', 'F', 'E']\n"
     ]
    }
   ],
   "source": [
    "graph = {}\n",
    "\n",
    "def dfs(graph, node, visited):\n",
    "    if node not in visited:\n",
    "        visited.append(node)\n",
    "        for n in graph[node]:\n",
    "            dfs(graph,n, visited)\n",
    "    return visited\n",
    "\n",
    "n = int(input())\n",
    "drinks = [d for d in input().split()]\n",
    "m = int(input())\n",
    "obs = []\n",
    "for _ in range(m):\n",
    "    di, dj = input().split()\n",
    "    obs += [(di, dj)]\n",
    "\n",
    "for drink in drinks:\n",
    "    graph[drink] = []\n",
    "\n",
    "for drink1, drink2 in obs:\n",
    "    graph[drink1].append(drink2)\n",
    "    \n",
    "order = dfs(graph,drinks[0], [])\n",
    "print(order)"
   ]
  },
  {
   "cell_type": "code",
   "execution_count": 427,
   "metadata": {},
   "outputs": [
    {
     "ename": "ModuleNotFoundError",
     "evalue": "No module named 'keyboard'",
     "output_type": "error",
     "traceback": [
      "\u001b[0;31m---------------------------------------------------------------------------\u001b[0m",
      "\u001b[0;31mModuleNotFoundError\u001b[0m                       Traceback (most recent call last)",
      "\u001b[0;32m<ipython-input-427-1171103a5a4e>\u001b[0m in \u001b[0;36m<module>\u001b[0;34m\u001b[0m\n\u001b[0;32m----> 1\u001b[0;31m \u001b[0;32mimport\u001b[0m \u001b[0mkeyboard\u001b[0m\u001b[0;34m\u001b[0m\u001b[0;34m\u001b[0m\u001b[0m\n\u001b[0m\u001b[1;32m      2\u001b[0m \u001b[0;34m\u001b[0m\u001b[0m\n\u001b[1;32m      3\u001b[0m \u001b[0msum1\u001b[0m \u001b[0;34m=\u001b[0m \u001b[0;34m(\u001b[0m\u001b[0;34m(\u001b[0m\u001b[0mnumber1\u001b[0m \u001b[0;34m*\u001b[0m \u001b[0;36m10\u001b[0m\u001b[0;34m)\u001b[0m \u001b[0;34m+\u001b[0m \u001b[0mnumber2\u001b[0m\u001b[0;34m)\u001b[0m\u001b[0;34m\u001b[0m\u001b[0;34m\u001b[0m\u001b[0m\n\u001b[1;32m      4\u001b[0m \u001b[0msum2\u001b[0m \u001b[0;34m=\u001b[0m \u001b[0;34m(\u001b[0m\u001b[0;34m(\u001b[0m\u001b[0mnumber3\u001b[0m \u001b[0;34m*\u001b[0m \u001b[0;36m100\u001b[0m\u001b[0;34m)\u001b[0m \u001b[0;34m+\u001b[0m \u001b[0;34m(\u001b[0m\u001b[0mnumber4\u001b[0m \u001b[0;34m*\u001b[0m \u001b[0;36m10\u001b[0m\u001b[0;34m)\u001b[0m \u001b[0;34m+\u001b[0m \u001b[0mnumber5\u001b[0m\u001b[0;34m)\u001b[0m\u001b[0;34m\u001b[0m\u001b[0;34m\u001b[0m\u001b[0m\n\u001b[1;32m      5\u001b[0m \u001b[0msum_\u001b[0m \u001b[0;34m=\u001b[0m \u001b[0msum1\u001b[0m \u001b[0;34m+\u001b[0m \u001b[0msum2\u001b[0m\u001b[0;34m\u001b[0m\u001b[0;34m\u001b[0m\u001b[0m\n",
      "\u001b[0;31mModuleNotFoundError\u001b[0m: No module named 'keyboard'"
     ]
    }
   ],
   "source": []
  },
  {
   "cell_type": "code",
   "execution_count": null,
   "metadata": {},
   "outputs": [],
   "source": []
  }
 ],
 "metadata": {
  "kernelspec": {
   "display_name": "Python 3",
   "language": "python",
   "name": "python3"
  },
  "language_info": {
   "codemirror_mode": {
    "name": "ipython",
    "version": 3
   },
   "file_extension": ".py",
   "mimetype": "text/x-python",
   "name": "python",
   "nbconvert_exporter": "python",
   "pygments_lexer": "ipython3",
   "version": "3.8.3"
  }
 },
 "nbformat": 4,
 "nbformat_minor": 4
}
