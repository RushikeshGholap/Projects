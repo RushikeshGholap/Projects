{
 "cells": [
  {
   "cell_type": "code",
   "execution_count": null,
   "metadata": {},
   "outputs": [],
   "source": []
  },
  {
   "cell_type": "markdown",
   "metadata": {},
   "source": [
    "The cake is not a lie (level 1)"
   ]
  },
  {
   "cell_type": "code",
   "execution_count": null,
   "metadata": {},
   "outputs": [],
   "source": [
    "def solutions(s):\n",
    "    n = len(s)\n",
    "    i = 1\n",
    "    while i<=n:\n",
    "        if n%i==0:   #for the factors on length of s\n",
    "            parts = set([s[j:j+i] for j in range(0, n, i)]) #break into equal parts and take a set\n",
    "            if len(parts)==1: #if single element, break\n",
    "                return int(n/i)\n",
    "                break\n",
    "        i = i+1"
   ]
  },
  {
   "cell_type": "code",
   "execution_count": null,
   "metadata": {},
   "outputs": [],
   "source": [
    "solutions(\"abccbaabccba\")"
   ]
  },
  {
   "cell_type": "code",
   "execution_count": null,
   "metadata": {},
   "outputs": [],
   "source": [
    "solutions(\"abcabcabcabc\")"
   ]
  },
  {
   "cell_type": "code",
   "execution_count": null,
   "metadata": {},
   "outputs": [],
   "source": []
  },
  {
   "cell_type": "code",
   "execution_count": null,
   "metadata": {},
   "outputs": [],
   "source": []
  },
  {
   "cell_type": "code",
   "execution_count": null,
   "metadata": {},
   "outputs": [],
   "source": []
  },
  {
   "cell_type": "code",
   "execution_count": null,
   "metadata": {},
   "outputs": [],
   "source": []
  },
  {
   "cell_type": "code",
   "execution_count": null,
   "metadata": {},
   "outputs": [],
   "source": []
  },
  {
   "cell_type": "markdown",
   "metadata": {},
   "source": [
    "Gearing up for destruction (level 2)"
   ]
  },
  {
   "cell_type": "code",
   "execution_count": null,
   "metadata": {},
   "outputs": [],
   "source": [
    "pegs = [4, 30, 50]"
   ]
  },
  {
   "cell_type": "code",
   "execution_count": null,
   "metadata": {},
   "outputs": [],
   "source": [
    "import numpy as np\n",
    "from fractions import Fraction\n",
    "\n",
    "def solution(pegs):\n",
    "    gears = len(pegs)\n",
    "    \n",
    "    #Construting A which is a bi-diagonal matrix with last row condition for double radius equation\n",
    "    A = np.eye(gears)\n",
    "    A += np.diag(np.ones(gears-1), 1)\n",
    "    A[-1,0] = 1\n",
    "    A[-1,-1] = -2\n",
    "\n",
    "    #Constructing B with distances between pegs and appending last condition RHS\n",
    "    B = [i[1]-i[0] for i in zip(pegs, pegs[1:])] + [0]\n",
    "\n",
    "    #Solving system of linear equations\n",
    "    X = np.linalg.inv(A).dot(B)\n",
    "\n",
    "    #Return impractical solution results or if solution found, numerator and denominator of fraction\n",
    "    if any(X<1):\n",
    "        return -1,-1\n",
    "    else:\n",
    "        f = Fraction(X[0]).limit_denominator()\n",
    "        return f.numerator, f.denominator\n",
    "    \n",
    "solution(pegs)"
   ]
  },
  {
   "cell_type": "code",
   "execution_count": null,
   "metadata": {},
   "outputs": [],
   "source": [
    "def get_A(pegs):\n",
    "    gears = len(pegs)\n",
    "    A = np.eye(gears)\n",
    "    A += np.diag(np.ones(gears-1), 1)\n",
    "    A[-1,0] = 1\n",
    "    A[-1,-1] = -2\n",
    "    return A\n",
    "\n",
    "A = get_A(pegs)\n",
    "A"
   ]
  },
  {
   "cell_type": "code",
   "execution_count": null,
   "metadata": {},
   "outputs": [],
   "source": [
    "def get_B(pegs):\n",
    "    return [i[1]-i[0] for i in zip(pegs, pegs[1:])] + [0]\n",
    "\n",
    "B = get_B(pegs)\n",
    "B"
   ]
  },
  {
   "cell_type": "code",
   "execution_count": null,
   "metadata": {},
   "outputs": [],
   "source": [
    "X = np.linalg.inv(A).dot(B)\n",
    "X"
   ]
  },
  {
   "cell_type": "code",
   "execution_count": null,
   "metadata": {},
   "outputs": [],
   "source": []
  },
  {
   "cell_type": "code",
   "execution_count": null,
   "metadata": {},
   "outputs": [],
   "source": []
  },
  {
   "cell_type": "code",
   "execution_count": null,
   "metadata": {},
   "outputs": [],
   "source": []
  },
  {
   "cell_type": "code",
   "execution_count": null,
   "metadata": {},
   "outputs": [],
   "source": []
  },
  {
   "cell_type": "code",
   "execution_count": null,
   "metadata": {},
   "outputs": [],
   "source": []
  },
  {
   "cell_type": "markdown",
   "metadata": {},
   "source": [
    "Ion Flux Relabelling (level 2)"
   ]
  },
  {
   "cell_type": "code",
   "execution_count": null,
   "metadata": {},
   "outputs": [],
   "source": [
    "# Facts from analysis of these pyramids:\n",
    "#     1. The root node at any height can be given as 2**h-1\n",
    "#     2. The right child will ALWAYS be root-1\n",
    "#     3. The left child will ALWAYS be root-(2**(h-1))\n",
    "\n",
    "# Psudo code:\n",
    "#     1. Calculate the top most parent and left child using h\n",
    "#     2. If the number is any of the parent or child, SOLVED!\n",
    "#     3. Else, if the number is between the parent and child (> child, < parent), then set new parent to be the right child by subtracting 1\n",
    "#     4. Else, if the number is NOT between the parent and child, then set new parent to be the current child\n",
    "#     5. Repeat steps 2 to 4 until condition 2 is achieved and problem is SOLVED!\n",
    "\n",
    "# Complexity is of order n instead of 2**n!"
   ]
  },
  {
   "cell_type": "code",
   "execution_count": null,
   "metadata": {},
   "outputs": [],
   "source": [
    "def find_parent(h, n):\n",
    "    p = 2**h-1\n",
    "    while True:\n",
    "        c = p-2**(h-1)\n",
    "        if n==c: return p  \n",
    "        elif n==p and n!=2**h-1: return p+1\n",
    "        elif n<p and n>c: p, h = p-1, h-1\n",
    "        elif n<c: p, h = c, h-1\n",
    "        else: return -1\n",
    "        \n",
    "def solution(h, l):\n",
    "    return [find_parent(h, i) for i in l]"
   ]
  },
  {
   "cell_type": "code",
   "execution_count": null,
   "metadata": {},
   "outputs": [],
   "source": [
    "solution(10, [1, 15, 22, 31, 55, 73, 29, 45, 1023])"
   ]
  },
  {
   "cell_type": "code",
   "execution_count": null,
   "metadata": {},
   "outputs": [],
   "source": []
  },
  {
   "cell_type": "code",
   "execution_count": null,
   "metadata": {},
   "outputs": [],
   "source": []
  },
  {
   "cell_type": "code",
   "execution_count": null,
   "metadata": {},
   "outputs": [],
   "source": []
  },
  {
   "cell_type": "code",
   "execution_count": null,
   "metadata": {},
   "outputs": [],
   "source": []
  },
  {
   "cell_type": "code",
   "execution_count": null,
   "metadata": {},
   "outputs": [],
   "source": []
  },
  {
   "cell_type": "markdown",
   "metadata": {},
   "source": [
    "Fuel Injection Perfection (level 3)"
   ]
  },
  {
   "cell_type": "code",
   "execution_count": null,
   "metadata": {},
   "outputs": [],
   "source": [
    "#Shortest path is the one where majority of the operations are divide by 2\n",
    "#By finding the number of trailing zeros in the binary representation of a number, \n",
    "#I can decide where a power of 2 lies wrt to a number\n",
    "#Analysis of the pattern looks (from 0-100) looks like 0,0,1,0,2,0,1,0,3,0,1,0... \n",
    "#If 0 trailing zeros, then i have to add or subtract. \n",
    "#Direction is decided by which side there are more trailing zeros\n",
    "#EDGE case is at 3. It always goes 3->4->2->1 but a better way would be 3->2->1\n",
    "#Hard coded the edge case\n",
    "\n",
    "import numpy as np\n",
    "def trailingzeros(n):\n",
    "    count = 0\n",
    "    #print('{0:b}'.format(n))\n",
    "    while n:\n",
    "        if (n&1):\n",
    "            break\n",
    "        n >>= 1\n",
    "        count += 1\n",
    "    return count\n",
    "\n",
    "def solution(n):\n",
    "    n = int(n)\n",
    "    sol = []\n",
    "    while n!=1:\n",
    "        sol.append(n)\n",
    "        if n!=3:\n",
    "            nl = trailingzeros(n-1)\n",
    "            nn = trailingzeros(n)\n",
    "            nr = trailingzeros(n+1)\n",
    "            op = np.argmax([nl, nn, nr])\n",
    "\n",
    "            if op==1: n=int(n/2)            \n",
    "            elif op==0: n-=1\n",
    "            else: n+=1\n",
    "        else:\n",
    "            n-=1\n",
    "    return len(sol)"
   ]
  },
  {
   "cell_type": "code",
   "execution_count": null,
   "metadata": {},
   "outputs": [],
   "source": [
    "solution(1)"
   ]
  },
  {
   "cell_type": "code",
   "execution_count": null,
   "metadata": {},
   "outputs": [],
   "source": [
    "# ANOTHER SOLUTION\n",
    "\n",
    "def answer(n):\n",
    "    n=int(n)\n",
    "    res = 0\n",
    "\n",
    "    while(n!=1):\n",
    "        if(n%2==0):\n",
    "            n=int(n/2)\n",
    "        elif((n==3) or ((n+1)&n) > ((n-1)&(n-2))):\n",
    "            n-=1\n",
    "        else:\n",
    "            n+=1\n",
    "        res+=1\n",
    "    return res"
   ]
  },
  {
   "cell_type": "code",
   "execution_count": null,
   "metadata": {
    "scrolled": false
   },
   "outputs": [],
   "source": [
    "for i in range(1, 20):\n",
    "    solution(i)\n",
    "    print(str('{0:b}'.format(i)))\n",
    "    print('--')"
   ]
  },
  {
   "cell_type": "code",
   "execution_count": null,
   "metadata": {},
   "outputs": [],
   "source": []
  },
  {
   "cell_type": "code",
   "execution_count": null,
   "metadata": {},
   "outputs": [],
   "source": []
  },
  {
   "cell_type": "code",
   "execution_count": null,
   "metadata": {},
   "outputs": [],
   "source": []
  },
  {
   "cell_type": "code",
   "execution_count": null,
   "metadata": {},
   "outputs": [],
   "source": []
  },
  {
   "cell_type": "code",
   "execution_count": null,
   "metadata": {},
   "outputs": [],
   "source": []
  },
  {
   "cell_type": "markdown",
   "metadata": {},
   "source": [
    "Find the access code (level 3)"
   ]
  },
  {
   "cell_type": "code",
   "execution_count": null,
   "metadata": {},
   "outputs": [],
   "source": [
    "l = [2,3,4,8,8,16]\n",
    "l = [1,2,3,4,5,6]\n",
    "l = [1,1,1]\n",
    "l = [1,3,5,7]"
   ]
  },
  {
   "cell_type": "code",
   "execution_count": null,
   "metadata": {
    "scrolled": true
   },
   "outputs": [],
   "source": [
    "def solution(l):\n",
    "    #A stupid sort statement here almost made me break my laptop :(\n",
    "    \n",
    "    out = np.tril(np.mod.outer(l, l)==0).astype(int) #lower triangular matrix with mod bools\n",
    "    np.fill_diagonal(out, 0) #setting n/n bools to 0\n",
    "    a = np.sum(out, axis=1) #array with number of positions where each value is a successful numerator\n",
    "    b = np.sum(out, axis=0) #array with number of positions where each value is a successful denominator\n",
    "    return np.sum(a*b) #product gives all combinations where a number is both a successful num and denom\n",
    "\n",
    "solution(l)"
   ]
  },
  {
   "cell_type": "code",
   "execution_count": null,
   "metadata": {},
   "outputs": [],
   "source": [
    "out"
   ]
  },
  {
   "cell_type": "code",
   "execution_count": null,
   "metadata": {},
   "outputs": [],
   "source": []
  },
  {
   "cell_type": "code",
   "execution_count": null,
   "metadata": {},
   "outputs": [],
   "source": []
  },
  {
   "cell_type": "code",
   "execution_count": null,
   "metadata": {},
   "outputs": [],
   "source": []
  },
  {
   "cell_type": "code",
   "execution_count": null,
   "metadata": {},
   "outputs": [],
   "source": []
  },
  {
   "cell_type": "code",
   "execution_count": null,
   "metadata": {},
   "outputs": [],
   "source": []
  },
  {
   "cell_type": "markdown",
   "metadata": {},
   "source": [
    "Prepare the bunnies escape (level 3)"
   ]
  },
  {
   "cell_type": "code",
   "execution_count": null,
   "metadata": {},
   "outputs": [],
   "source": [
    "# maze = np.array([[0,0,1,1,1,1],\n",
    "#                  [1,0,0,0,1,0],\n",
    "#                  [1,1,1,0,0,1],\n",
    "#                  [0,0,0,1,0,1],\n",
    "#                  [0,1,0,0,0,1],\n",
    "#                  [0,0,1,1,1,1],\n",
    "#                  [1,0,0,0,1,0],\n",
    "#                  [1,1,1,0,0,0]])\n",
    "\n",
    "# maze = np.array([[0, 0, 0, 0, 0, 0],\n",
    "#                  [1, 1, 1, 1, 1, 0],\n",
    "#                  [0, 0, 0, 0, 0, 0],\n",
    "#                  [0, 1, 1, 1, 1, 1],\n",
    "#                  [0, 1, 1, 1, 1, 1],\n",
    "#                  [0, 0, 0, 0, 0, 0]])\n",
    "\n",
    "# maze = np.array([[0, 1, 1, 0],\n",
    "#                  [0, 0, 0, 1],\n",
    "#                  [1, 1, 0, 0],\n",
    "#                  [1, 1, 1, 0]])"
   ]
  },
  {
   "cell_type": "code",
   "execution_count": null,
   "metadata": {},
   "outputs": [],
   "source": [
    "import numpy as np\n",
    "from scipy.ndimage import generic_filter\n",
    "\n",
    "def diffuse(maze):\n",
    "    #Bellman–Ford diffusion process\n",
    "    maze_new = max(maze[0]-1, \n",
    "               maze[1]-1, \n",
    "               maze[2], \n",
    "               maze[3]-1, \n",
    "               maze[4]-1)\n",
    "    return maze_new\n",
    "\n",
    "def find_shortest_path(maze):\n",
    "    maze = np.array(maze).astype(bool)==False\n",
    "    start = (0,0)\n",
    "    goal = (-1,-1)\n",
    "    \n",
    "    path = np.zeros(maze.shape)\n",
    "    path[start] = 1000\n",
    "    \n",
    "    while path[goal] == 0.0:\n",
    "        path = maze * generic_filter(path, diffuse, footprint=[[0, 1, 0],\n",
    "                                                               [1, 1, 1],\n",
    "                                                               [0, 1, 0]], mode='constant', cval=False)\n",
    "        \n",
    "    num_steps = int(1000 - path[goal] + 1)\n",
    "    return num_steps\n",
    "\n",
    "def solution(maze):\n",
    "    return find_shortest_path(maze)"
   ]
  },
  {
   "cell_type": "code",
   "execution_count": 11,
   "metadata": {},
   "outputs": [],
   "source": [
    "import numpy as np\n",
    "\n",
    "def get_path(Z):\n",
    "    start = (1,1)\n",
    "    goal = (-2,-2)\n",
    "    \n",
    "    G = np.zeros(Z.shape)\n",
    "    G_gamma = np.zeros(G.shape)\n",
    "    G[start] = 1000\n",
    "    \n",
    "    break_counter = 0\n",
    "    longest_possible_path = np.max(Z.shape)*(int(np.min(Z.shape)/2)+1)+(int(np.min(Z.shape)/2)+1)\n",
    "    \n",
    "    while G[goal] == 0 and break_counter<longest_possible_path:\n",
    "        break_counter+=1\n",
    "        G_gamma = np.subtract(G, 1)\n",
    "        N = G_gamma[0:-2,1:-1]\n",
    "        W = G_gamma[1:-1,0:-2]\n",
    "        C = G[1:-1,1:-1]\n",
    "        E = G_gamma[1:-1,2:]\n",
    "        S = G_gamma[2:,1:-1]\n",
    "        G[1:-1,1:-1] = Z[1:-1,1:-1]*np.maximum.reduce([N,S,E,W,C])\n",
    "    \n",
    "    if G[goal] != 0:\n",
    "        num_steps = int(1000 - G[goal] + 1)\n",
    "    else:\n",
    "        num_steps = Z.shape[0]*Z.shape[1]\n",
    "    return num_steps\n",
    "\n",
    "def solution(map):\n",
    "    maze = (np.pad(map, 1, mode='constant', constant_values=1)==0).astype(int)\n",
    "    best_run = get_path(maze)\n",
    "    walls = np.argwhere(map)+1\n",
    "\n",
    "    for i in walls:\n",
    "        maze[tuple(i)]=1\n",
    "        p = get_path(maze)\n",
    "        if p<best_run:\n",
    "            best_run=p\n",
    "        maze[tuple(i)]=0\n",
    "    \n",
    "    return best_run"
   ]
  },
  {
   "cell_type": "code",
   "execution_count": 12,
   "metadata": {},
   "outputs": [
    {
     "data": {
      "text/plain": [
       "7"
      ]
     },
     "execution_count": 12,
     "metadata": {},
     "output_type": "execute_result"
    }
   ],
   "source": [
    "solution([[0, 1, 1, 0], [0, 0, 0, 1], [1, 1, 0, 0], [1, 1, 1, 0]])"
   ]
  },
  {
   "cell_type": "code",
   "execution_count": 13,
   "metadata": {},
   "outputs": [
    {
     "data": {
      "text/plain": [
       "11"
      ]
     },
     "execution_count": 13,
     "metadata": {},
     "output_type": "execute_result"
    }
   ],
   "source": [
    "solution([[0, 0, 0, 0, 0, 0], \n",
    "          [1, 1, 1, 1, 1, 0], \n",
    "          [1, 1, 1, 1, 1, 0], \n",
    "          [0, 0, 0, 0, 0, 0], \n",
    "          [0, 1, 1, 1, 1, 1], \n",
    "          [0, 0, 0, 0, 0, 0]])"
   ]
  },
  {
   "cell_type": "code",
   "execution_count": 14,
   "metadata": {},
   "outputs": [
    {
     "data": {
      "text/plain": [
       "15"
      ]
     },
     "execution_count": 14,
     "metadata": {},
     "output_type": "execute_result"
    }
   ],
   "source": [
    "solution([[0,0,1,1,1,1],\n",
    "          [1,0,0,0,1,0],\n",
    "          [1,1,1,0,0,1],\n",
    "          [0,0,0,1,0,1],\n",
    "          [0,1,0,0,0,1],\n",
    "          [0,0,1,1,1,1],\n",
    "          [1,0,0,0,1,0],\n",
    "          [1,1,1,0,0,0]])"
   ]
  },
  {
   "cell_type": "code",
   "execution_count": 15,
   "metadata": {},
   "outputs": [
    {
     "data": {
      "text/plain": [
       "10"
      ]
     },
     "execution_count": 15,
     "metadata": {},
     "output_type": "execute_result"
    }
   ],
   "source": [
    "solution([[0, 1, 0, 1, 0, 0, 0], \n",
    "          [0, 0, 0, 1, 0, 1, 0]])"
   ]
  },
  {
   "cell_type": "code",
   "execution_count": null,
   "metadata": {},
   "outputs": [],
   "source": []
  },
  {
   "cell_type": "code",
   "execution_count": 20,
   "metadata": {},
   "outputs": [],
   "source": [
    "listA = [1,1,1]\n",
    "\n",
    "def operation(n):\n",
    "    result = []\n",
    "    ...\n",
    "    result = ['a','b','c']\n",
    "    \n",
    "    ############\n",
    "    for i in result:\n",
    "        yield i\n",
    "    ############\n",
    "    \n",
    "[j for i in listA for j in operation(i)]\n",
    "\n",
    "['a', 'b', 'c', 'a', 'b', 'c', 'a', 'b', 'c']"
   ]
  },
  {
   "cell_type": "code",
   "execution_count": 24,
   "metadata": {},
   "outputs": [
    {
     "data": {
      "text/plain": [
       "['a', 'b', 'c', 'a', 'b', 'c', 'a', 'b', 'c']"
      ]
     },
     "execution_count": 24,
     "metadata": {},
     "output_type": "execute_result"
    }
   ],
   "source": []
  },
  {
   "cell_type": "code",
   "execution_count": null,
   "metadata": {},
   "outputs": [],
   "source": []
  }
 ],
 "metadata": {
  "kernelspec": {
   "display_name": "Python 3",
   "language": "python",
   "name": "python3"
  },
  "language_info": {
   "codemirror_mode": {
    "name": "ipython",
    "version": 3
   },
   "file_extension": ".py",
   "mimetype": "text/x-python",
   "name": "python",
   "nbconvert_exporter": "python",
   "pygments_lexer": "ipython3",
   "version": "3.8.3"
  }
 },
 "nbformat": 4,
 "nbformat_minor": 4
}
