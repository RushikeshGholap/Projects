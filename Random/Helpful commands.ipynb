{
 "cells": [
  {
   "cell_type": "markdown",
   "metadata": {},
   "source": [
    "<h1>Helpful commands (WIP)</h1>\n",
    "<p>Author: Akshay Sehgal<br>Website: www.asehgal.com</p>"
   ]
  },
  {
   "cell_type": "markdown",
   "metadata": {},
   "source": [
    "<h2>Shortcut to Jupyter Notebook</h2>\n",
    "\n",
    "1. Right click and create a new Shortcut\n",
    "2. It will ask the location to where the shortcut must point to\n",
    "3. Type the following there:"
   ]
  },
  {
   "cell_type": "code",
   "execution_count": 3,
   "metadata": {},
   "outputs": [],
   "source": [
    "#cmd /c \"cd D:\\folderpath & jupyter notebook\""
   ]
  },
  {
   "cell_type": "markdown",
   "metadata": {},
   "source": [
    "This command will run CMD, Then go to the work directory you provide it and finally run jupyter notebook there\n",
    "This should open the window which then runs the kernal. Following that a jupyter window should open in your browser.\n",
    "\n",
    "Rename the shortcut like a folder name, change its icon from the properties of the shortcut.\n",
    "Add the following path in the browse option of icons to get access to all windows icons:"
   ]
  },
  {
   "cell_type": "code",
   "execution_count": 4,
   "metadata": {
    "collapsed": true
   },
   "outputs": [],
   "source": [
    "#C:\\Windows\\system32\\imageres.dll"
   ]
  },
  {
   "cell_type": "markdown",
   "metadata": {},
   "source": [
    "This should get you an icon which lets you open jupyter directly by doubleclicking or adding it to windows taskbar."
   ]
  },
  {
   "cell_type": "markdown",
   "metadata": {},
   "source": [
    "<h1> Installing XGBOOST </h1>\n",
    "<p>\n",
    "In case anyone's looking for a simpler solution that doesn't require compiling it yourself:\n",
    "</p><ul><li>\n",
    "download xgboost whl file from http://www.lfd.uci.edu/~gohlke/pythonlibs/ (make sure to match your python version and system architecture, e.g. \"xgboost-0.6-cp35-cp35m-win_amd64.whl\" for python 3.5 on 64-bit machine)\n",
    "open command prompt\n",
    "</li><li>\n",
    "cd to your Downloads folder (or wherever you saved the whl file)\n",
    "</li><li>\n",
    "pip install xgboost-0.6-cp35-cp35m-win_amd64.whl (or whatever your whl file is named)\n",
    "</li><li>\n",
    "If you find it won't install because of a missing dependency, download and install the dependency first and retry.\n",
    "</ul><p>\n",
    "\n",
    "If it complains about access permissions, try opening your command prompt as Administrator and retry.\n",
    "</p><p>\n",
    "This gives you xgboost and the scikit-learn wrapper, and saves you from having to go through the pain of compiling it yourself. </p>"
   ]
  }
 ],
 "metadata": {
  "anaconda-cloud": {},
  "kernelspec": {
   "display_name": "Python 3",
   "language": "python",
   "name": "python3"
  },
  "language_info": {
   "codemirror_mode": {
    "name": "ipython",
    "version": 3
   },
   "file_extension": ".py",
   "mimetype": "text/x-python",
   "name": "python",
   "nbconvert_exporter": "python",
   "pygments_lexer": "ipython3",
   "version": "3.6.5"
  }
 },
 "nbformat": 4,
 "nbformat_minor": 1
}
