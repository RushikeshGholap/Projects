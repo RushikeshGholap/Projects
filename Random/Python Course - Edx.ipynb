{
 "cells": [
  {
   "cell_type": "code",
   "execution_count": 5,
   "metadata": {},
   "outputs": [
    {
     "name": "stdout",
     "output_type": "stream",
     "text": [
      "0.0012587409443703932\n"
     ]
    },
    {
     "data": {
      "text/plain": [
       "float"
      ]
     },
     "execution_count": 5,
     "metadata": {},
     "output_type": "execute_result"
    }
   ],
   "source": [
    "weight = 5.6\n",
    "height = 66.7\n",
    "\n",
    "BMI = weight/height**2\n",
    "\n",
    "print(BMI)\n",
    "type(BMI)"
   ]
  },
  {
   "cell_type": "code",
   "execution_count": 7,
   "metadata": {},
   "outputs": [
    {
     "name": "stdout",
     "output_type": "stream",
     "text": [
      "7\n",
      "abba\n"
     ]
    }
   ],
   "source": [
    "print(5+2)\n",
    "print('ab'+\"ba\")"
   ]
  },
  {
   "cell_type": "code",
   "execution_count": 10,
   "metadata": {},
   "outputs": [
    {
     "name": "stdout",
     "output_type": "stream",
     "text": [
      "I saved $100 in a bank for 7 years and now i have $194.87171000000012, Awesome!\n"
     ]
    }
   ],
   "source": [
    "saving = 100\n",
    "factor = 1.1\n",
    "\n",
    "print(\"I saved $\"+str(saving)+\" in a bank for 7 years and now i have $\" +str(saving*factor**7)+\", Awesome!\")"
   ]
  },
  {
   "cell_type": "code",
   "execution_count": 19,
   "metadata": {},
   "outputs": [
    {
     "data": {
      "text/plain": [
       "0"
      ]
     },
     "execution_count": 19,
     "metadata": {},
     "output_type": "execute_result"
    }
   ],
   "source": [
    "sister = \"liz\"\n",
    "\n",
    "#Built in functions\n",
    "type(sister)\n",
    "len(sister)\n",
    "\n",
    "#Methods, associated with different objects only\n",
    "sister = sister.replace(\"z\",\"sa\")\n",
    "sister.index(\"lisa\")"
   ]
  },
  {
   "cell_type": "code",
   "execution_count": 23,
   "metadata": {},
   "outputs": [
    {
     "name": "stdout",
     "output_type": "stream",
     "text": [
      "3\n",
      "3\n"
     ]
    }
   ],
   "source": [
    "room = \"poolhouse\"\n",
    "room_up = room.upper()\n",
    "print(room.count(\"o\"))\n",
    "print(room_up.count(\"O\"))"
   ]
  },
  {
   "cell_type": "code",
   "execution_count": 33,
   "metadata": {},
   "outputs": [
    {
     "name": "stdout",
     "output_type": "stream",
     "text": [
      "[1, 2, 3, 4, 5]\n",
      "[5, 4, 3, 2, 1]\n"
     ]
    }
   ],
   "source": [
    "areas = [1,2,3,4]\n",
    "areas.append(5)\n",
    "print(areas)\n",
    "\n",
    "areas.reverse()\n",
    "print(areas)"
   ]
  },
  {
   "cell_type": "code",
   "execution_count": 34,
   "metadata": {},
   "outputs": [
    {
     "data": {
      "text/plain": [
       "array([1, 2, 3])"
      ]
     },
     "execution_count": 34,
     "metadata": {},
     "output_type": "execute_result"
    }
   ],
   "source": [
    "#importing a full package\n",
    "import numpy as np\n",
    "np.array([1,2,3])"
   ]
  },
  {
   "cell_type": "code",
   "execution_count": 35,
   "metadata": {},
   "outputs": [
    {
     "data": {
      "text/plain": [
       "array([1, 2, 3])"
      ]
     },
     "execution_count": 35,
     "metadata": {},
     "output_type": "execute_result"
    }
   ],
   "source": [
    "#importing only specific functions from a package\n",
    "from numpy import array\n",
    "array([1,2,3])"
   ]
  },
  {
   "cell_type": "code",
   "execution_count": 36,
   "metadata": {},
   "outputs": [
    {
     "name": "stdout",
     "output_type": "stream",
     "text": [
      "34906.58503988659\n",
      "628318.5307179586\n"
     ]
    }
   ],
   "source": [
    "from math import pi, radians\n",
    "r = 100000\n",
    "dist = r*radians(20)\n",
    "cirm = 2*pi*r\n",
    "\n",
    "print(dist)\n",
    "print(cirm)"
   ]
  },
  {
   "cell_type": "markdown",
   "metadata": {},
   "source": [
    "<h3> Interesting links</h3>\n",
    "<ul>\n",
    "<li>https://docs.python.org/3/library/stdtypes.html#numeric-types-int-float-complex</li>\n",
    "<li>https://docs.python.org/3.5/library/copy.html</li>\n",
    "<li>https://www.jeffknupp.com/blog/2014/06/18/improve-your-python-python-classes-and-object-oriented-programming/</li>"
   ]
  },
  {
   "cell_type": "code",
   "execution_count": 43,
   "metadata": {},
   "outputs": [
    {
     "name": "stdout",
     "output_type": "stream",
     "text": [
      "[11 22 33 44 55 66]\n",
      "[31 41 51 61 71 81]\n",
      "[ 0.01144641  0.01308745  0.01268743  0.01182478  0.01091053  0.01005944]\n"
     ]
    },
    {
     "data": {
      "text/plain": [
       "array([ 0.01144641,  0.01182478,  0.01091053,  0.01005944])"
      ]
     },
     "execution_count": 43,
     "metadata": {},
     "output_type": "execute_result"
    }
   ],
   "source": [
    "#np.arrays allow calculations over list of data, something that doesnt work with standard python lists\n",
    "\n",
    "height = [11,22,33,44,55,66]\n",
    "weight = [31,41,51,61,71,81]\n",
    "\n",
    "import numpy as np\n",
    "height1 = np.array(height)\n",
    "weight1 = np.array(weight)\n",
    "bmi = height1/weight1**2\n",
    "\n",
    "print(height1)\n",
    "print(weight1)\n",
    "print(bmi)\n",
    "\n",
    "bmi[2]\n",
    "bmi[bmi<0.012]"
   ]
  },
  {
   "cell_type": "code",
   "execution_count": 39,
   "metadata": {},
   "outputs": [
    {
     "name": "stdout",
     "output_type": "stream",
     "text": [
      "[1, 2, 3, 1, 2, 3]\n",
      "[2 4 6]\n"
     ]
    }
   ],
   "source": [
    "list1 = [1,2,3]\n",
    "print(list1+list1)\n",
    "\n",
    "print(np.array(list1)+np.array(list1))"
   ]
  }
 ],
 "metadata": {
  "anaconda-cloud": {},
  "kernelspec": {
   "display_name": "Python 3",
   "language": "python",
   "name": "python3"
  },
  "language_info": {
   "codemirror_mode": {
    "name": "ipython",
    "version": 3
   },
   "file_extension": ".py",
   "mimetype": "text/x-python",
   "name": "python",
   "nbconvert_exporter": "python",
   "pygments_lexer": "ipython3",
   "version": "3.6.5"
  }
 },
 "nbformat": 4,
 "nbformat_minor": 1
}
