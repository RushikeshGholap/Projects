{
 "cells": [
  {
   "cell_type": "code",
   "execution_count": null,
   "metadata": {},
   "outputs": [],
   "source": [
    "import pandas as pd"
   ]
  },
  {
   "cell_type": "code",
   "execution_count": null,
   "metadata": {},
   "outputs": [],
   "source": [
    "df = pd.DataFrame({'col1': [2, 4, 6, 3], 'col2': [8, -2, 5, 3]}, \n",
    "                    index=pd.MultiIndex.from_tuples([('A', 'B'), ('B', 'A'), ('A', 'C'), ('C', 'A')]))\n",
    "df.index.names = ['from', 'to']\n",
    "df"
   ]
  },
  {
   "cell_type": "code",
   "execution_count": null,
   "metadata": {},
   "outputs": [],
   "source": [
    "df2 = df.reset_index()\n",
    "df2['groups'] = df2[['from','to']].agg(lambda x: tuple(set(x)), axis=1)\n",
    "df3 = df2.groupby(['groups']).sum().reset_index()\n",
    "df4 = df3.set_index([df3['groups'].apply(lambda x:x[0]), df3['groups'].apply(lambda x:x[1])]).drop(['groups'], axis=1)\n",
    "df4.index.names = ['from', 'to']\n",
    "df4"
   ]
  },
  {
   "cell_type": "code",
   "execution_count": null,
   "metadata": {},
   "outputs": [],
   "source": [
    "df = df.reset_index()\n",
    "df.index = pd.MultiIndex.from_tuples(df[['from','to']].apply(lambda x: sorted(x), axis=1))\n",
    "df.groupby(level=[0,1]).sum()"
   ]
  },
  {
   "cell_type": "code",
   "execution_count": null,
   "metadata": {},
   "outputs": [],
   "source": [
    "df = df.reset_index()\n",
    "df"
   ]
  },
  {
   "cell_type": "code",
   "execution_count": null,
   "metadata": {},
   "outputs": [],
   "source": [
    "df.index = pd.MultiIndex.from_tuples(df[['from','to']].apply(lambda x: sorted(x), axis=1))\n",
    "df.groupby(level=[0,1]).sum()"
   ]
  },
  {
   "cell_type": "code",
   "execution_count": null,
   "metadata": {},
   "outputs": [],
   "source": []
  },
  {
   "cell_type": "code",
   "execution_count": null,
   "metadata": {},
   "outputs": [],
   "source": []
  },
  {
   "cell_type": "code",
   "execution_count": null,
   "metadata": {},
   "outputs": [],
   "source": []
  },
  {
   "cell_type": "code",
   "execution_count": null,
   "metadata": {},
   "outputs": [],
   "source": []
  },
  {
   "cell_type": "code",
   "execution_count": null,
   "metadata": {},
   "outputs": [],
   "source": []
  },
  {
   "cell_type": "code",
   "execution_count": null,
   "metadata": {},
   "outputs": [],
   "source": []
  },
  {
   "cell_type": "code",
   "execution_count": null,
   "metadata": {},
   "outputs": [],
   "source": []
  },
  {
   "cell_type": "code",
   "execution_count": null,
   "metadata": {},
   "outputs": [],
   "source": []
  },
  {
   "cell_type": "code",
   "execution_count": null,
   "metadata": {},
   "outputs": [],
   "source": [
    "def results(m1, m2):\n",
    "    compute = np.sum(np.abs(np.array(m1)-np.array(m2)))\n",
    "    \n",
    "    if compute==0:\n",
    "        return 'Fit'\n",
    "    elif compute==255:\n",
    "        return 'Hit'\n",
    "    elif compute==255*len(m1)**2:\n",
    "        return 'Miss'\n",
    "    else:\n",
    "        return 'None'"
   ]
  },
  {
   "cell_type": "code",
   "execution_count": null,
   "metadata": {},
   "outputs": [],
   "source": [
    "m1 = [[255,0,255],\n",
    "      [0  ,0,  0],\n",
    "      [255,0,255]]\n",
    "\n",
    "m2 = [[255,0,255],\n",
    "      [0  ,0,  0],\n",
    "      [255,0,255]]"
   ]
  },
  {
   "cell_type": "code",
   "execution_count": null,
   "metadata": {},
   "outputs": [],
   "source": [
    "print('Case 1: ', results(m1, m2))"
   ]
  },
  {
   "cell_type": "code",
   "execution_count": null,
   "metadata": {},
   "outputs": [],
   "source": [
    "m1 = [[255,0,255],\n",
    "      [0 ,255, 0],\n",
    "      [255,0,255]]\n",
    "\n",
    "m2 = [[255,0,255],\n",
    "      [0  ,0,  0],\n",
    "      [255,0,255]]"
   ]
  },
  {
   "cell_type": "code",
   "execution_count": null,
   "metadata": {},
   "outputs": [],
   "source": [
    "print('Case 2: ', results(m1, m2))"
   ]
  },
  {
   "cell_type": "code",
   "execution_count": null,
   "metadata": {},
   "outputs": [],
   "source": [
    "m1 = [[0,  255,  0],\n",
    "      [255,255,255],\n",
    "      [0  ,255,  0]]\n",
    "\n",
    "m2 = [[255,0,255],\n",
    "      [0  ,0,  0],\n",
    "      [255,0,255]]"
   ]
  },
  {
   "cell_type": "code",
   "execution_count": null,
   "metadata": {},
   "outputs": [],
   "source": [
    "print('Case 3: ', results(m1, m2))"
   ]
  },
  {
   "cell_type": "code",
   "execution_count": null,
   "metadata": {},
   "outputs": [],
   "source": []
  },
  {
   "cell_type": "code",
   "execution_count": null,
   "metadata": {},
   "outputs": [],
   "source": []
  },
  {
   "cell_type": "code",
   "execution_count": null,
   "metadata": {},
   "outputs": [],
   "source": []
  },
  {
   "cell_type": "code",
   "execution_count": null,
   "metadata": {},
   "outputs": [],
   "source": []
  },
  {
   "cell_type": "code",
   "execution_count": null,
   "metadata": {},
   "outputs": [],
   "source": []
  },
  {
   "cell_type": "code",
   "execution_count": null,
   "metadata": {},
   "outputs": [],
   "source": []
  },
  {
   "cell_type": "code",
   "execution_count": null,
   "metadata": {},
   "outputs": [],
   "source": [
    "a = [['Pangarap' ,   'Barbies Cradle',     0.088700 ,   0.566000,    97.091000,   235440,  0],\n",
    "['I Feel Alive' ,   'Steady Rollin',   0.347000,    0.404000,    135.225000,  373512,  -1],\n",
    "['Poison',  'Bell Biv DeVoe',  0.489000 ,   0.650000 ,   111.904000 , 262467 , -1]]"
   ]
  },
  {
   "cell_type": "code",
   "execution_count": null,
   "metadata": {},
   "outputs": [],
   "source": [
    "spotify = pd.DataFrame(a, columns=['track_name', 'track_artist','liveness','valence','tempo','duration_me','intervals'])"
   ]
  },
  {
   "cell_type": "code",
   "execution_count": null,
   "metadata": {},
   "outputs": [],
   "source": [
    "def get_random_tracks(interval):\n",
    "    np.random()"
   ]
  },
  {
   "cell_type": "code",
   "execution_count": null,
   "metadata": {},
   "outputs": [],
   "source": [
    "np.random.choice()"
   ]
  },
  {
   "cell_type": "code",
   "execution_count": null,
   "metadata": {},
   "outputs": [],
   "source": [
    "dd = pd.DataFrame(spotify.groupby(['intervals'])['track_name'].apply(list)).reset_index()\n",
    "dd['random_track'] = dd['track_name'].apply(np.random.choice, size=(n,))\n",
    "dd"
   ]
  },
  {
   "cell_type": "code",
   "execution_count": null,
   "metadata": {},
   "outputs": [],
   "source": [
    "df"
   ]
  },
  {
   "cell_type": "code",
   "execution_count": null,
   "metadata": {},
   "outputs": [],
   "source": []
  },
  {
   "cell_type": "code",
   "execution_count": null,
   "metadata": {},
   "outputs": [],
   "source": []
  },
  {
   "cell_type": "code",
   "execution_count": null,
   "metadata": {},
   "outputs": [],
   "source": []
  },
  {
   "cell_type": "code",
   "execution_count": null,
   "metadata": {},
   "outputs": [],
   "source": []
  },
  {
   "cell_type": "code",
   "execution_count": null,
   "metadata": {},
   "outputs": [],
   "source": []
  },
  {
   "cell_type": "code",
   "execution_count": null,
   "metadata": {},
   "outputs": [],
   "source": [
    "df1 = pd.DataFrame(\n",
    "  {\n",
    "  'item1_aspect1' : [\"a\", \"b\", \"c\"],\n",
    "  'item1_aspect2' : [1,2,3],\n",
    "  'item1_aspect3' : [\"[12,34]\", \"[56,78]\", \"[99,10]\"],\n",
    "  'item2_aspect1' : [\"a\", \"b\", \"c\"],\n",
    "  'item2_aspect2' : [1,2,3],\n",
    "  'item2_aspect3' : [\"[12,34]\", \"[56,78]\", \"[99,10]\"],\n",
    "  'item3_aspect1' : [\"a\", \"b\", \"c\"],\n",
    "  'item3_aspect2' : [1,2,3],\n",
    "  'item3_aspect3' : [\"[12,34]\", \"[56,78]\", \"[99,10]\"]\n",
    "  })\n",
    "\n",
    "\n",
    "df2 = pd.DataFrame({\n",
    "  'aspect_1' : [\"a\", \"b\", \"c\", \"a\", \"b\", \"c\", \"a\", \"b\", \"c\"],\n",
    "  'aspect_2' : [1,2,3,1,2,3,1,2,3],\n",
    "  'aspect_3' : [\"[12,34]\", \"[56,78]\", \"[99,10]\", \"[12,34]\", \"[56,78]\", \"[99,10]\", \"[12,34]\", \"[56,78]\", \"[99,10]\"]\n",
    "})"
   ]
  },
  {
   "cell_type": "code",
   "execution_count": null,
   "metadata": {},
   "outputs": [],
   "source": [
    "n = len(df1.columns)"
   ]
  },
  {
   "cell_type": "code",
   "execution_count": null,
   "metadata": {},
   "outputs": [],
   "source": [
    "lst = list(df1.columns)\n",
    "n=3\n",
    "new_cols = ['aspect_1', 'aspect_2', 'aspect_3']\n",
    "chunks = [lst[i:i + n] for i in range(0, len(lst), n)]\n",
    "pd.concat([df1[i].set_axis(new_cols, axis=1) for i in chunks], axis=0, ignore_index=True)"
   ]
  },
  {
   "cell_type": "code",
   "execution_count": null,
   "metadata": {},
   "outputs": [],
   "source": [
    "df1[chunks[0]].set_axis(new_cols, axis=1)"
   ]
  },
  {
   "cell_type": "code",
   "execution_count": null,
   "metadata": {},
   "outputs": [],
   "source": []
  },
  {
   "cell_type": "code",
   "execution_count": null,
   "metadata": {},
   "outputs": [],
   "source": []
  },
  {
   "cell_type": "code",
   "execution_count": null,
   "metadata": {},
   "outputs": [],
   "source": []
  },
  {
   "cell_type": "code",
   "execution_count": null,
   "metadata": {},
   "outputs": [],
   "source": []
  },
  {
   "cell_type": "code",
   "execution_count": null,
   "metadata": {},
   "outputs": [],
   "source": [
    "a = 'hi there'"
   ]
  },
  {
   "cell_type": "code",
   "execution_count": null,
   "metadata": {},
   "outputs": [],
   "source": [
    "' '.join([''.join([j[1].lower() if j[0]%2==0 else j[1].upper() for j in enumerate(i)]) for i in a.split()])"
   ]
  },
  {
   "cell_type": "code",
   "execution_count": null,
   "metadata": {},
   "outputs": [],
   "source": [
    "''.join([i[1].lower() if i[0]%2==0 else i[1].upper() for i in enumerate(a)])"
   ]
  },
  {
   "cell_type": "code",
   "execution_count": null,
   "metadata": {},
   "outputs": [],
   "source": []
  },
  {
   "cell_type": "code",
   "execution_count": null,
   "metadata": {},
   "outputs": [],
   "source": []
  },
  {
   "cell_type": "code",
   "execution_count": null,
   "metadata": {},
   "outputs": [],
   "source": []
  },
  {
   "cell_type": "code",
   "execution_count": null,
   "metadata": {},
   "outputs": [],
   "source": []
  },
  {
   "cell_type": "code",
   "execution_count": 18,
   "metadata": {},
   "outputs": [],
   "source": [
    "df = pd.DataFrame({'Q1': {0: 'test1'}, 'C1': {0: 'a'}, 'I11': {0: 'b'}, 'I12': {0: 'c'}, 'I13': {0: 'd'}, 'Q2': {0: 'test2'}, 'C2': {0: 'e'}, 'I21': {0: 'f'}, 'I22': {0: 'g'}, 'I23': {0: 'h'}, 'Q3': {\n",
    "       0: 'test3'}, 'C3': {0: 'i'}, 'I31': {0: 'j'}, 'I32': {0: 'k'}, 'I33': {0: 'l'}})"
   ]
  },
  {
   "cell_type": "code",
   "execution_count": null,
   "metadata": {},
   "outputs": [],
   "source": [
    "lst = list(df.columns)\n",
    "n=5\n",
    "new_cols = ['Q', 'CA', 'IA1','IA2','IA3']\n",
    "\n",
    "#break the column list into groups of n = 3 in this case\n",
    "chunks = [lst[i:i + n] for i in range(0, len(lst), n)]\n",
    "\n",
    "#concatenate the list of dataframes over axis = 0after renaming columns of each \n",
    "pd.concat([df[i].set_axis(new_cols, axis=1) for i in chunks], axis=0, ignore_index=True)"
   ]
  },
  {
   "cell_type": "code",
   "execution_count": null,
   "metadata": {},
   "outputs": [],
   "source": [
    "a = [{'display': 'none'} for i in range(5)]\n",
    "a[0]['display']='inline'\n",
    "a"
   ]
  },
  {
   "cell_type": "code",
   "execution_count": null,
   "metadata": {},
   "outputs": [],
   "source": []
  },
  {
   "cell_type": "code",
   "execution_count": null,
   "metadata": {},
   "outputs": [],
   "source": []
  },
  {
   "cell_type": "code",
   "execution_count": null,
   "metadata": {},
   "outputs": [],
   "source": []
  },
  {
   "cell_type": "code",
   "execution_count": null,
   "metadata": {},
   "outputs": [],
   "source": []
  },
  {
   "cell_type": "code",
   "execution_count": null,
   "metadata": {},
   "outputs": [],
   "source": []
  },
  {
   "cell_type": "code",
   "execution_count": null,
   "metadata": {},
   "outputs": [],
   "source": [
    "df = pd.read_excel(\n",
    "    \"https://testme162.s3.amazonaws.com/just_stack.xlsx\", header=list(range(5))\n",
    ")"
   ]
  },
  {
   "cell_type": "code",
   "execution_count": null,
   "metadata": {},
   "outputs": [],
   "source": [
    "expected = pd.read_excel(\n",
    "    \"https://testme162.s3.amazonaws.com/just_stack.xlsx\", sheet_name=\"expected\",\n",
    ")"
   ]
  },
  {
   "cell_type": "code",
   "execution_count": null,
   "metadata": {},
   "outputs": [],
   "source": [
    "expected.head()"
   ]
  },
  {
   "cell_type": "code",
   "execution_count": null,
   "metadata": {},
   "outputs": [],
   "source": [
    "df.head()"
   ]
  },
  {
   "cell_type": "code",
   "execution_count": null,
   "metadata": {},
   "outputs": [],
   "source": [
    "df.columns"
   ]
  },
  {
   "cell_type": "code",
   "execution_count": null,
   "metadata": {},
   "outputs": [],
   "source": []
  },
  {
   "cell_type": "code",
   "execution_count": null,
   "metadata": {},
   "outputs": [],
   "source": []
  },
  {
   "cell_type": "code",
   "execution_count": null,
   "metadata": {},
   "outputs": [],
   "source": []
  },
  {
   "cell_type": "code",
   "execution_count": null,
   "metadata": {},
   "outputs": [],
   "source": []
  },
  {
   "cell_type": "code",
   "execution_count": null,
   "metadata": {},
   "outputs": [],
   "source": []
  },
  {
   "cell_type": "code",
   "execution_count": null,
   "metadata": {},
   "outputs": [],
   "source": []
  },
  {
   "cell_type": "code",
   "execution_count": null,
   "metadata": {},
   "outputs": [],
   "source": []
  },
  {
   "cell_type": "code",
   "execution_count": null,
   "metadata": {},
   "outputs": [],
   "source": [
    "#!pip install -U spacy\n",
    "#!python -m spacy download en\n",
    "from nltk import Tree\n",
    "import spacy\n",
    "en_nlp = spacy.load('en')"
   ]
  },
  {
   "cell_type": "code",
   "execution_count": null,
   "metadata": {},
   "outputs": [],
   "source": [
    "def tok_format(tok):\n",
    "    return \"_\".join([tok.orth_, tok.tag_, tok.dep_])\n",
    "\n",
    "\n",
    "def to_nltk_tree(node):\n",
    "    if node.n_lefts + node.n_rights > 0:\n",
    "        return Tree(tok_format(node), [to_nltk_tree(child) for child in node.children])\n",
    "    else:\n",
    "        return tok_format(node)\n",
    "\n",
    "\n",
    "command = \"The chef cooks the soup\"\n",
    "en_doc = en_nlp(u'' + command) \n",
    "\n",
    "[to_nltk_tree(sent.root).pretty_print() for sent in en_doc.sents]"
   ]
  },
  {
   "cell_type": "code",
   "execution_count": null,
   "metadata": {
    "scrolled": false
   },
   "outputs": [],
   "source": [
    "command = \"She sells sea shells on the sea shore\"\n",
    "en_doc = en_nlp(u'' + command) \n",
    "\n",
    "[to_nltk_tree(sent.root).pretty_print() for sent in en_doc.sents]"
   ]
  },
  {
   "cell_type": "code",
   "execution_count": null,
   "metadata": {},
   "outputs": [],
   "source": []
  },
  {
   "cell_type": "code",
   "execution_count": null,
   "metadata": {},
   "outputs": [],
   "source": []
  },
  {
   "cell_type": "code",
   "execution_count": null,
   "metadata": {},
   "outputs": [],
   "source": []
  },
  {
   "cell_type": "code",
   "execution_count": null,
   "metadata": {},
   "outputs": [],
   "source": []
  },
  {
   "cell_type": "code",
   "execution_count": null,
   "metadata": {},
   "outputs": [],
   "source": []
  },
  {
   "cell_type": "code",
   "execution_count": null,
   "metadata": {},
   "outputs": [],
   "source": []
  },
  {
   "cell_type": "code",
   "execution_count": 1,
   "metadata": {},
   "outputs": [
    {
     "name": "stdout",
     "output_type": "stream",
     "text": [
      "x**2\n",
      "Expected result :  41.3344000000000\n"
     ]
    }
   ],
   "source": [
    "from sympy import *\n",
    "\n",
    "def trapezoid(f, a, b, n):\n",
    "    h = float(b - a) / n\n",
    "    result = 0.5 * f.evalf(subs={x: a}) + 0.5 * f.evalf(subs={x: b})\n",
    "    for i in range(1, n):\n",
    "        result += f.evalf(subs={x: (a + i * h)})\n",
    "    result *= h\n",
    "    return result\n",
    "\n",
    "if __name__ == \"__main__\":\n",
    "    x = Symbol('x')\n",
    "    fonction = Pow(x,2)\n",
    "    print(fonction) # x**2\n",
    "    #print(type(fonction)) # <class 'sympy.core.power.Pow'>\n",
    "\n",
    "    #print(\"Expected Result : \", trapezoid(lambda x: x ** 2, 1, 5, 100))\n",
    "\n",
    "    print(\"Expected result : \",trapezoid(fonction, 1, 5, 100)) # Won't give me expected result"
   ]
  },
  {
   "cell_type": "code",
   "execution_count": null,
   "metadata": {},
   "outputs": [],
   "source": []
  },
  {
   "cell_type": "code",
   "execution_count": null,
   "metadata": {},
   "outputs": [],
   "source": []
  },
  {
   "cell_type": "code",
   "execution_count": null,
   "metadata": {},
   "outputs": [],
   "source": []
  },
  {
   "cell_type": "code",
   "execution_count": null,
   "metadata": {},
   "outputs": [],
   "source": []
  },
  {
   "cell_type": "code",
   "execution_count": null,
   "metadata": {},
   "outputs": [],
   "source": []
  },
  {
   "cell_type": "code",
   "execution_count": null,
   "metadata": {},
   "outputs": [],
   "source": [
    "schools = [\n",
    "   {'location':'New York','school-code':[ 'MGOA', 'CityU', 'AKO']}, \n",
    "   {'location':'New Jersey','school-code':['GOE']},\n",
    "   {'location':'California','school-code':['OAS','STO']},\n",
    "   {'location':'Florida','school-code':['CDY', 'OAK']}\n",
    "]"
   ]
  },
  {
   "cell_type": "code",
   "execution_count": null,
   "metadata": {},
   "outputs": [],
   "source": [
    "code_input = 'CityU'\n",
    "l = [i['location'] for i in schools if code_input in i['school-code']][0]\n",
    "print(\"Your school zone is\",l)"
   ]
  },
  {
   "cell_type": "code",
   "execution_count": null,
   "metadata": {},
   "outputs": [],
   "source": []
  },
  {
   "cell_type": "code",
   "execution_count": null,
   "metadata": {},
   "outputs": [],
   "source": []
  },
  {
   "cell_type": "code",
   "execution_count": null,
   "metadata": {},
   "outputs": [],
   "source": []
  },
  {
   "cell_type": "code",
   "execution_count": null,
   "metadata": {},
   "outputs": [],
   "source": []
  },
  {
   "cell_type": "code",
   "execution_count": 6,
   "metadata": {},
   "outputs": [],
   "source": [
    "import pandas as pd\n",
    "df = pd.DataFrame({'index':[1,1,2,2,3,3,4,4], 'Vol':[25,15,20,30,25,10,15,20]}).set_index(['index'])"
   ]
  },
  {
   "cell_type": "code",
   "execution_count": 9,
   "metadata": {},
   "outputs": [
    {
     "data": {
      "text/plain": [
       "index\n",
       "1    40\n",
       "2    50\n",
       "3    35\n",
       "4    35\n",
       "Name: Vol, dtype: int64"
      ]
     },
     "execution_count": 9,
     "metadata": {},
     "output_type": "execute_result"
    }
   ],
   "source": [
    "df.reset_index().set_axis(['index','Vol'], axis=1).groupby(['index'])['Vol'].sum()"
   ]
  },
  {
   "cell_type": "code",
   "execution_count": 17,
   "metadata": {},
   "outputs": [
    {
     "data": {
      "text/html": [
       "<div>\n",
       "<style scoped>\n",
       "    .dataframe tbody tr th:only-of-type {\n",
       "        vertical-align: middle;\n",
       "    }\n",
       "\n",
       "    .dataframe tbody tr th {\n",
       "        vertical-align: top;\n",
       "    }\n",
       "\n",
       "    .dataframe thead th {\n",
       "        text-align: right;\n",
       "    }\n",
       "</style>\n",
       "<table border=\"1\" class=\"dataframe\">\n",
       "  <thead>\n",
       "    <tr style=\"text-align: right;\">\n",
       "      <th></th>\n",
       "      <th>Vol</th>\n",
       "    </tr>\n",
       "    <tr>\n",
       "      <th>index</th>\n",
       "      <th></th>\n",
       "    </tr>\n",
       "  </thead>\n",
       "  <tbody>\n",
       "    <tr>\n",
       "      <th>2</th>\n",
       "      <td>90.0</td>\n",
       "    </tr>\n",
       "    <tr>\n",
       "      <th>3</th>\n",
       "      <td>85.0</td>\n",
       "    </tr>\n",
       "    <tr>\n",
       "      <th>4</th>\n",
       "      <td>70.0</td>\n",
       "    </tr>\n",
       "  </tbody>\n",
       "</table>\n",
       "</div>"
      ],
      "text/plain": [
       "        Vol\n",
       "index      \n",
       "2      90.0\n",
       "3      85.0\n",
       "4      70.0"
      ]
     },
     "execution_count": 17,
     "metadata": {},
     "output_type": "execute_result"
    }
   ],
   "source": [
    "df.sum(level=0).rolling(2).sum().dropna()"
   ]
  },
  {
   "cell_type": "code",
   "execution_count": null,
   "metadata": {},
   "outputs": [],
   "source": []
  },
  {
   "cell_type": "code",
   "execution_count": null,
   "metadata": {},
   "outputs": [],
   "source": []
  },
  {
   "cell_type": "code",
   "execution_count": null,
   "metadata": {},
   "outputs": [],
   "source": []
  },
  {
   "cell_type": "code",
   "execution_count": 31,
   "metadata": {},
   "outputs": [],
   "source": [
    "import numpy as np"
   ]
  },
  {
   "cell_type": "code",
   "execution_count": 32,
   "metadata": {},
   "outputs": [],
   "source": [
    "data = [['22', '45', '6', '72', '1', '65'], ['2', '65', '67', '23', '98', '1'], ['13', '45', '98', '4', '12', '65']]"
   ]
  },
  {
   "cell_type": "code",
   "execution_count": 36,
   "metadata": {},
   "outputs": [
    {
     "data": {
      "text/plain": [
       "array([[22, 45,  6, 72,  1, 65],\n",
       "       [ 2, 65, 67, 23, 98,  1],\n",
       "       [13, 45, 98,  4, 12, 65]])"
      ]
     },
     "execution_count": 36,
     "metadata": {},
     "output_type": "execute_result"
    }
   ],
   "source": [
    "dd = np.array(data).astype(int)\n",
    "dd"
   ]
  },
  {
   "cell_type": "code",
   "execution_count": 42,
   "metadata": {},
   "outputs": [],
   "source": []
  },
  {
   "cell_type": "code",
   "execution_count": 44,
   "metadata": {},
   "outputs": [
    {
     "data": {
      "text/plain": [
       "1"
      ]
     },
     "execution_count": 44,
     "metadata": {},
     "output_type": "execute_result"
    }
   ],
   "source": [
    "vocab[0]"
   ]
  },
  {
   "cell_type": "code",
   "execution_count": 74,
   "metadata": {},
   "outputs": [
    {
     "data": {
      "text/plain": [
       "[1, 0, 0, 0, 0, 1, 1]"
      ]
     },
     "execution_count": 74,
     "metadata": {},
     "output_type": "execute_result"
    }
   ],
   "source": [
    "[1] + list(np.sum((dd==vocab[0]).astype(int), axis=0))"
   ]
  },
  {
   "cell_type": "code",
   "execution_count": 118,
   "metadata": {},
   "outputs": [],
   "source": [
    "dd = np.array(data).astype(int)   #get the list of lists into a 2d numpy array\n",
    "vocab = np.unique(dd.flatten())   #get vocab of all unique numbers\n",
    "df = pd.DataFrame([[i]+list(np.sum((dd==i).astype(int), axis=0)) for i in vocab]) #loop thru vocab and get sum of occurances in each index position\n",
    "df.columns = ['num', 0, 1, 2, 3, 4, 5]    #rename cols\n",
    "df['numoccurances'] = df.iloc[:,1:].sum(axis=1)   #create total occurances of the item\n",
    "\n",
    "#Stack the position counts and rename cols\n",
    "stats = pd.DataFrame(df.set_index(['num','numoccurances']).\\\n",
    "                     stack()).reset_index().\\\n",
    "                     set_axis(['num', 'numoccurances', 'position', 'numtimesinposition'], axis=1)\n",
    "\n",
    "stats = stats[stats['numtimesinposition']>0].reset_index(drop=True)"
   ]
  },
  {
   "cell_type": "code",
   "execution_count": 119,
   "metadata": {},
   "outputs": [
    {
     "name": "stdout",
     "output_type": "stream",
     "text": [
      "    num  numoccurances  position  numtimesinposition\n",
      "0     1              2         4                   1\n",
      "1     1              2         5                   1\n",
      "2     2              1         0                   1\n",
      "3     4              1         3                   1\n",
      "4     6              1         2                   1\n",
      "5    12              1         4                   1\n",
      "6    13              1         0                   1\n",
      "7    22              1         0                   1\n",
      "8    23              1         3                   1\n",
      "9    45              2         1                   2\n",
      "10   65              3         1                   1\n",
      "11   65              3         5                   2\n",
      "12   67              1         2                   1\n",
      "13   72              1         3                   1\n",
      "14   98              2         2                   1\n",
      "15   98              2         4                   1\n"
     ]
    }
   ],
   "source": [
    "print(stats)"
   ]
  },
  {
   "cell_type": "code",
   "execution_count": 115,
   "metadata": {},
   "outputs": [
    {
     "name": "stdout",
     "output_type": "stream",
     "text": [
      "    num  numoccurances  position  numtimesinposition\n",
      "4     1              2         4                   1\n",
      "5     1              2         5                   1\n",
      "6     2              1         0                   1\n",
      "15    4              1         3                   1\n",
      "20    6              1         2                   1\n",
      "28   12              1         4                   1\n",
      "30   13              1         0                   1\n",
      "36   22              1         0                   1\n",
      "45   23              1         3                   1\n",
      "49   45              2         1                   2\n",
      "55   65              3         1                   1\n",
      "59   65              3         5                   2\n",
      "62   67              1         2                   1\n",
      "69   72              1         3                   1\n",
      "74   98              2         2                   1\n",
      "76   98              2         4                   1\n"
     ]
    }
   ],
   "source": [
    "print(stats)"
   ]
  },
  {
   "cell_type": "code",
   "execution_count": null,
   "metadata": {},
   "outputs": [],
   "source": []
  },
  {
   "cell_type": "code",
   "execution_count": null,
   "metadata": {},
   "outputs": [],
   "source": []
  },
  {
   "cell_type": "code",
   "execution_count": null,
   "metadata": {},
   "outputs": [],
   "source": []
  },
  {
   "cell_type": "code",
   "execution_count": null,
   "metadata": {},
   "outputs": [],
   "source": []
  },
  {
   "cell_type": "code",
   "execution_count": null,
   "metadata": {},
   "outputs": [],
   "source": []
  },
  {
   "cell_type": "code",
   "execution_count": null,
   "metadata": {},
   "outputs": [],
   "source": []
  },
  {
   "cell_type": "code",
   "execution_count": 176,
   "metadata": {},
   "outputs": [],
   "source": []
  },
  {
   "cell_type": "code",
   "execution_count": 177,
   "metadata": {},
   "outputs": [],
   "source": []
  },
  {
   "cell_type": "code",
   "execution_count": 178,
   "metadata": {},
   "outputs": [],
   "source": []
  },
  {
   "cell_type": "code",
   "execution_count": 196,
   "metadata": {},
   "outputs": [
    {
     "name": "stdout",
     "output_type": "stream",
     "text": [
      "  Color Marker  combined\n",
      "0     r      ^         2\n",
      "1     r      *         1\n",
      "2     r      ^         2\n",
      "3     b      *         0\n"
     ]
    }
   ],
   "source": [
    "df = pd.DataFrame({\n",
    "'Color': ['r','r','r','b'],\n",
    "'Marker': ['^','*','^','*']\n",
    "})\n",
    "\n",
    "\n",
    "from sklearn.preprocessing import LabelEncoder\n",
    "lb = LabelEncoder()\n",
    "\n",
    "df['combined'] = df.apply(lambda x: ''.join(x), axis=1)\n",
    "df['combined'] = lb.fit_transform(df['combined'])\n",
    "print(df)"
   ]
  },
  {
   "cell_type": "code",
   "execution_count": 197,
   "metadata": {},
   "outputs": [
    {
     "data": {
      "text/plain": [
       "[(0, 'b*'), (1, 'r*'), (2, 'r^')]"
      ]
     },
     "execution_count": 197,
     "metadata": {},
     "output_type": "execute_result"
    }
   ],
   "source": [
    "list(enumerate(lb.classes_))"
   ]
  },
  {
   "cell_type": "code",
   "execution_count": 203,
   "metadata": {},
   "outputs": [
    {
     "data": {
      "text/plain": [
       "[('b', '*'), ('r', '^'), ('r', '*')]"
      ]
     },
     "execution_count": 203,
     "metadata": {},
     "output_type": "execute_result"
    }
   ],
   "source": [
    "[tuple(i) for i in lb.inverse_transform([0, 2, 1])]"
   ]
  },
  {
   "cell_type": "code",
   "execution_count": null,
   "metadata": {},
   "outputs": [],
   "source": []
  },
  {
   "cell_type": "code",
   "execution_count": null,
   "metadata": {},
   "outputs": [],
   "source": []
  },
  {
   "cell_type": "code",
   "execution_count": null,
   "metadata": {},
   "outputs": [],
   "source": []
  },
  {
   "cell_type": "code",
   "execution_count": 204,
   "metadata": {},
   "outputs": [],
   "source": []
  },
  {
   "cell_type": "code",
   "execution_count": 211,
   "metadata": {},
   "outputs": [
    {
     "data": {
      "text/plain": [
       "['fell',\n",
       " 'down',\n",
       " 'the',\n",
       " 'stairs',\n",
       " 'and',\n",
       " 'ate',\n",
       " 'an',\n",
       " 'apple',\n",
       " 'so',\n",
       " 'no',\n",
       " 'doctor',\n",
       " '#quarantine']"
      ]
     },
     "execution_count": 211,
     "metadata": {},
     "output_type": "execute_result"
    }
   ],
   "source": [
    "s =  'fell down the stairs and ate an apple so no doctor #quarantine'\n",
    "allwords = s.split(' ')\n",
    "allwords"
   ]
  },
  {
   "cell_type": "code",
   "execution_count": 210,
   "metadata": {},
   "outputs": [
    {
     "data": {
      "text/plain": [
       "['#quarantine']"
      ]
     },
     "execution_count": 210,
     "metadata": {},
     "output_type": "execute_result"
    }
   ],
   "source": [
    "hastags = [i for i in allwords if i[:1]=='#']\n",
    "hastags"
   ]
  },
  {
   "cell_type": "code",
   "execution_count": 213,
   "metadata": {},
   "outputs": [
    {
     "data": {
      "text/plain": [
       "['fell',\n",
       " 'down',\n",
       " 'the',\n",
       " 'stairs',\n",
       " 'and',\n",
       " 'ate',\n",
       " 'an',\n",
       " 'apple',\n",
       " 'so',\n",
       " 'no',\n",
       " 'doctor']"
      ]
     },
     "execution_count": 213,
     "metadata": {},
     "output_type": "execute_result"
    }
   ],
   "source": [
    "otherwords = [i for i in allwords if i not in hastags]\n",
    "otherwords"
   ]
  },
  {
   "cell_type": "code",
   "execution_count": 223,
   "metadata": {},
   "outputs": [
    {
     "name": "stdout",
     "output_type": "stream",
     "text": [
      "['fell', 'down', 'the', 'stairs', 'and', 'ate', 'an', 'apple', 'so', 'no', 'doctor']\n"
     ]
    }
   ],
   "source": [
    "tags = [\"corona\", \"quarantine\", \"covid19\"]\n",
    "print([i for i in s.split(' ') if i.strip('#') not in tags])"
   ]
  },
  {
   "cell_type": "code",
   "execution_count": 221,
   "metadata": {},
   "outputs": [
    {
     "data": {
      "text/plain": [
       "['fell',\n",
       " 'down',\n",
       " 'the',\n",
       " 'stairs',\n",
       " 'and',\n",
       " 'ate',\n",
       " 'an',\n",
       " 'apple',\n",
       " 'so',\n",
       " 'no',\n",
       " 'doctor']"
      ]
     },
     "execution_count": 221,
     "metadata": {},
     "output_type": "execute_result"
    }
   ],
   "source": []
  },
  {
   "cell_type": "code",
   "execution_count": 217,
   "metadata": {},
   "outputs": [
    {
     "data": {
      "text/plain": [
       "'bcd'"
      ]
     },
     "execution_count": 217,
     "metadata": {},
     "output_type": "execute_result"
    }
   ],
   "source": [
    "'abcd'.strip('a')"
   ]
  },
  {
   "cell_type": "code",
   "execution_count": 225,
   "metadata": {},
   "outputs": [
    {
     "name": "stdout",
     "output_type": "stream",
     "text": [
      "['fell', 'down', 'the', 'stairs', 'and', 'ate', 'an', 'apple', 'so', 'no', 'doctor']\n"
     ]
    }
   ],
   "source": [
    "tags = [\"corona\", \"quarantine\", \"covid19\"]\n",
    "print([i for i in s.split(' ') if i.strip('#') not in tags and i not in tags])"
   ]
  },
  {
   "cell_type": "code",
   "execution_count": null,
   "metadata": {},
   "outputs": [],
   "source": []
  },
  {
   "cell_type": "code",
   "execution_count": null,
   "metadata": {},
   "outputs": [],
   "source": []
  },
  {
   "cell_type": "code",
   "execution_count": null,
   "metadata": {},
   "outputs": [],
   "source": []
  },
  {
   "cell_type": "code",
   "execution_count": 230,
   "metadata": {},
   "outputs": [],
   "source": []
  },
  {
   "cell_type": "code",
   "execution_count": 234,
   "metadata": {},
   "outputs": [
    {
     "data": {
      "text/plain": [
       "[('sender', 100), ('snder', 91), ('bnder', 73), ('hello', 18)]"
      ]
     },
     "execution_count": 234,
     "metadata": {},
     "output_type": "execute_result"
    }
   ],
   "source": [
    "word = 'sender'\n",
    "others = ['bnder', 'snder', 'sender', 'hello']\n",
    "\n",
    "process.extractBests(word, others)"
   ]
  },
  {
   "cell_type": "code",
   "execution_count": 241,
   "metadata": {},
   "outputs": [
    {
     "data": {
      "text/plain": [
       "[('bnder', 73), ('snder', 91), ('sender', 100), ('hello', 18)]"
      ]
     },
     "execution_count": 241,
     "metadata": {},
     "output_type": "execute_result"
    }
   ],
   "source": [
    "[(i, fuzz.ratio(word, i)) for i in others]"
   ]
  },
  {
   "cell_type": "code",
   "execution_count": 273,
   "metadata": {},
   "outputs": [],
   "source": [
    "df = pd.DataFrame(['hi there i am a sender', \n",
    "                   'I dont wanna be a bnder', \n",
    "                   'can i be the snder?', \n",
    "                   'i think i am a nerd'], columns=['text'])"
   ]
  },
  {
   "cell_type": "code",
   "execution_count": 274,
   "metadata": {},
   "outputs": [],
   "source": []
  },
  {
   "cell_type": "code",
   "execution_count": 275,
   "metadata": {},
   "outputs": [
    {
     "name": "stdout",
     "output_type": "stream",
     "text": [
      "                      text  match\n",
      "0   hi there i am a sender   True\n",
      "1  I dont wanna be a bnder   True\n",
      "2      can i be the snder?   True\n",
      "3      i think i am a nerd  False\n"
     ]
    }
   ],
   "source": [
    "def get_match(s,w,t):\n",
    "    ss = process.extractBests(w,s.split())\n",
    "    return any([i[1]>t for i in ss])\n",
    "\n",
    "df['match'] = df['text'].apply(get_match, w='sender', t=70)\n",
    "print(df)"
   ]
  },
  {
   "cell_type": "code",
   "execution_count": 280,
   "metadata": {},
   "outputs": [
    {
     "data": {
      "text/html": [
       "<div>\n",
       "<style scoped>\n",
       "    .dataframe tbody tr th:only-of-type {\n",
       "        vertical-align: middle;\n",
       "    }\n",
       "\n",
       "    .dataframe tbody tr th {\n",
       "        vertical-align: top;\n",
       "    }\n",
       "\n",
       "    .dataframe thead th {\n",
       "        text-align: right;\n",
       "    }\n",
       "</style>\n",
       "<table border=\"1\" class=\"dataframe\">\n",
       "  <thead>\n",
       "    <tr style=\"text-align: right;\">\n",
       "      <th></th>\n",
       "      <th>text</th>\n",
       "    </tr>\n",
       "  </thead>\n",
       "  <tbody>\n",
       "    <tr>\n",
       "      <th>0</th>\n",
       "      <td>hi there i am a sender</td>\n",
       "    </tr>\n",
       "    <tr>\n",
       "      <th>1</th>\n",
       "      <td>I dont wanna be a bnder</td>\n",
       "    </tr>\n",
       "    <tr>\n",
       "      <th>2</th>\n",
       "      <td>can i be the snder?</td>\n",
       "    </tr>\n",
       "  </tbody>\n",
       "</table>\n",
       "</div>"
      ],
      "text/plain": [
       "                      text\n",
       "0   hi there i am a sender\n",
       "1  I dont wanna be a bnder\n",
       "2      can i be the snder?"
      ]
     },
     "execution_count": 280,
     "metadata": {},
     "output_type": "execute_result"
    }
   ],
   "source": [
    "print(df[df['match']==True][['text']])"
   ]
  },
  {
   "cell_type": "code",
   "execution_count": null,
   "metadata": {},
   "outputs": [],
   "source": []
  },
  {
   "cell_type": "code",
   "execution_count": null,
   "metadata": {},
   "outputs": [],
   "source": []
  },
  {
   "cell_type": "code",
   "execution_count": null,
   "metadata": {},
   "outputs": [],
   "source": []
  },
  {
   "cell_type": "code",
   "execution_count": null,
   "metadata": {},
   "outputs": [],
   "source": []
  },
  {
   "cell_type": "code",
   "execution_count": 281,
   "metadata": {},
   "outputs": [],
   "source": [
    "import pandas as pd \n",
    "df=pd.DataFrame({'rating':[5.0,4.5,3.0,2.5,4.0,4.5,5.0,3.0],\n",
    "             'productname':['s','v','r','n','k','a','q','w'],\n",
    "             'category':['mobile','mobile','mobile','mobile','laptop','laptop','laptop','laptop']\n",
    "         })"
   ]
  },
  {
   "cell_type": "code",
   "execution_count": 282,
   "metadata": {},
   "outputs": [
    {
     "data": {
      "text/html": [
       "<div>\n",
       "<style scoped>\n",
       "    .dataframe tbody tr th:only-of-type {\n",
       "        vertical-align: middle;\n",
       "    }\n",
       "\n",
       "    .dataframe tbody tr th {\n",
       "        vertical-align: top;\n",
       "    }\n",
       "\n",
       "    .dataframe thead th {\n",
       "        text-align: right;\n",
       "    }\n",
       "</style>\n",
       "<table border=\"1\" class=\"dataframe\">\n",
       "  <thead>\n",
       "    <tr style=\"text-align: right;\">\n",
       "      <th></th>\n",
       "      <th>rating</th>\n",
       "      <th>productname</th>\n",
       "      <th>category</th>\n",
       "    </tr>\n",
       "  </thead>\n",
       "  <tbody>\n",
       "    <tr>\n",
       "      <th>0</th>\n",
       "      <td>5.0</td>\n",
       "      <td>s</td>\n",
       "      <td>mobile</td>\n",
       "    </tr>\n",
       "    <tr>\n",
       "      <th>1</th>\n",
       "      <td>4.5</td>\n",
       "      <td>v</td>\n",
       "      <td>mobile</td>\n",
       "    </tr>\n",
       "    <tr>\n",
       "      <th>2</th>\n",
       "      <td>3.0</td>\n",
       "      <td>r</td>\n",
       "      <td>mobile</td>\n",
       "    </tr>\n",
       "    <tr>\n",
       "      <th>3</th>\n",
       "      <td>2.5</td>\n",
       "      <td>n</td>\n",
       "      <td>mobile</td>\n",
       "    </tr>\n",
       "    <tr>\n",
       "      <th>4</th>\n",
       "      <td>4.0</td>\n",
       "      <td>k</td>\n",
       "      <td>laptop</td>\n",
       "    </tr>\n",
       "    <tr>\n",
       "      <th>5</th>\n",
       "      <td>4.5</td>\n",
       "      <td>a</td>\n",
       "      <td>laptop</td>\n",
       "    </tr>\n",
       "    <tr>\n",
       "      <th>6</th>\n",
       "      <td>5.0</td>\n",
       "      <td>q</td>\n",
       "      <td>laptop</td>\n",
       "    </tr>\n",
       "    <tr>\n",
       "      <th>7</th>\n",
       "      <td>3.0</td>\n",
       "      <td>w</td>\n",
       "      <td>laptop</td>\n",
       "    </tr>\n",
       "  </tbody>\n",
       "</table>\n",
       "</div>"
      ],
      "text/plain": [
       "   rating productname category\n",
       "0     5.0           s   mobile\n",
       "1     4.5           v   mobile\n",
       "2     3.0           r   mobile\n",
       "3     2.5           n   mobile\n",
       "4     4.0           k   laptop\n",
       "5     4.5           a   laptop\n",
       "6     5.0           q   laptop\n",
       "7     3.0           w   laptop"
      ]
     },
     "execution_count": 282,
     "metadata": {},
     "output_type": "execute_result"
    }
   ],
   "source": [
    "df.nlargest"
   ]
  },
  {
   "cell_type": "code",
   "execution_count": 299,
   "metadata": {},
   "outputs": [
    {
     "name": "stdout",
     "output_type": "stream",
     "text": [
      "            rating productname category\n",
      "category                               \n",
      "laptop   6     5.0           q   laptop\n",
      "         5     4.5           a   laptop\n",
      "         4     4.0           k   laptop\n",
      "mobile   0     5.0           s   mobile\n",
      "         1     4.5           v   mobile\n",
      "         2     3.0           r   mobile\n"
     ]
    }
   ],
   "source": [
    "print(df.groupby(['category']).apply(lambda x:x.nlargest(3, 'rating')))"
   ]
  },
  {
   "cell_type": "code",
   "execution_count": null,
   "metadata": {},
   "outputs": [],
   "source": []
  },
  {
   "cell_type": "code",
   "execution_count": null,
   "metadata": {},
   "outputs": [],
   "source": []
  },
  {
   "cell_type": "code",
   "execution_count": 308,
   "metadata": {},
   "outputs": [],
   "source": [
    "lst_a = ['zero one two', 'three four five six', 'one two', 'five four nine twelve ten', 'five fifty eleven four'] \n",
    "lst_b = ['zero', 'one', 'two', 'three', 'four', 'five', 'six', 'one', 'two', 'five', 'four', 'nine', 'twelve', 'ten']\n",
    "\n",
    "common_tokens = [set(i.split()).intersection(set(lst_b)) for i in lst_a]\n",
    "new_lst = [' '.join(i) for i in common_tokens]\n",
    "new_lst"
   ]
  },
  {
   "cell_type": "code",
   "execution_count": 311,
   "metadata": {},
   "outputs": [
    {
     "name": "stdout",
     "output_type": "stream",
     "text": [
      "['one two zero', 'three four six five', 'one two', 'nine four ten twelve five', 'four five']\n"
     ]
    }
   ],
   "source": [
    "print(new_lst)"
   ]
  },
  {
   "cell_type": "code",
   "execution_count": 312,
   "metadata": {},
   "outputs": [
    {
     "ename": "NameError",
     "evalue": "name 'torch' is not defined",
     "output_type": "error",
     "traceback": [
      "\u001b[0;31m---------------------------------------------------------------------------\u001b[0m",
      "\u001b[0;31mNameError\u001b[0m                                 Traceback (most recent call last)",
      "\u001b[0;32m<ipython-input-312-3762f510a0b2>\u001b[0m in \u001b[0;36m<module>\u001b[0;34m\u001b[0m\n\u001b[0;32m----> 1\u001b[0;31m \u001b[0mtorch\u001b[0m\u001b[0;34m.\u001b[0m\u001b[0mzeros\u001b[0m\u001b[0;34m(\u001b[0m\u001b[0;36m2\u001b[0m\u001b[0;34m,\u001b[0m\u001b[0;36m2\u001b[0m\u001b[0;34m)\u001b[0m\u001b[0;34m\u001b[0m\u001b[0;34m\u001b[0m\u001b[0m\n\u001b[0m",
      "\u001b[0;31mNameError\u001b[0m: name 'torch' is not defined"
     ]
    }
   ],
   "source": []
  },
  {
   "cell_type": "code",
   "execution_count": null,
   "metadata": {},
   "outputs": [],
   "source": []
  }
 ],
 "metadata": {
  "kernelspec": {
   "display_name": "Python 3",
   "language": "python",
   "name": "python3"
  },
  "language_info": {
   "codemirror_mode": {
    "name": "ipython",
    "version": 3
   },
   "file_extension": ".py",
   "mimetype": "text/x-python",
   "name": "python",
   "nbconvert_exporter": "python",
   "pygments_lexer": "ipython3",
   "version": "3.7.3"
  }
 },
 "nbformat": 4,
 "nbformat_minor": 2
}
