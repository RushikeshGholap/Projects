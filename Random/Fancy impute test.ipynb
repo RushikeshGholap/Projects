{
 "cells": [
  {
   "cell_type": "code",
   "execution_count": 1,
   "metadata": {
    "collapsed": true
   },
   "outputs": [],
   "source": [
    "import pandas as pd\n",
    "import numpy as np\n",
    "import missingno as msno"
   ]
  },
  {
   "cell_type": "code",
   "execution_count": 7,
   "metadata": {},
   "outputs": [
    {
     "data": {
      "text/html": [
       "<div>\n",
       "<table border=\"1\" class=\"dataframe\">\n",
       "  <thead>\n",
       "    <tr style=\"text-align: right;\">\n",
       "      <th></th>\n",
       "      <th>A</th>\n",
       "      <th>B</th>\n",
       "      <th>C</th>\n",
       "      <th>D</th>\n",
       "      <th>E</th>\n",
       "    </tr>\n",
       "  </thead>\n",
       "  <tbody>\n",
       "    <tr>\n",
       "      <th>0</th>\n",
       "      <td>10</td>\n",
       "      <td>10</td>\n",
       "      <td>3</td>\n",
       "      <td>2</td>\n",
       "      <td>9</td>\n",
       "    </tr>\n",
       "    <tr>\n",
       "      <th>1</th>\n",
       "      <td>9</td>\n",
       "      <td>8</td>\n",
       "      <td>6</td>\n",
       "      <td>4</td>\n",
       "      <td>2</td>\n",
       "    </tr>\n",
       "    <tr>\n",
       "      <th>2</th>\n",
       "      <td>4</td>\n",
       "      <td>7</td>\n",
       "      <td>2</td>\n",
       "      <td>2</td>\n",
       "      <td>2</td>\n",
       "    </tr>\n",
       "    <tr>\n",
       "      <th>3</th>\n",
       "      <td>5</td>\n",
       "      <td>3</td>\n",
       "      <td>7</td>\n",
       "      <td>3</td>\n",
       "      <td>6</td>\n",
       "    </tr>\n",
       "    <tr>\n",
       "      <th>4</th>\n",
       "      <td>4</td>\n",
       "      <td>3</td>\n",
       "      <td>5</td>\n",
       "      <td>10</td>\n",
       "      <td>10</td>\n",
       "    </tr>\n",
       "  </tbody>\n",
       "</table>\n",
       "</div>"
      ],
      "text/plain": [
       "    A   B  C   D   E\n",
       "0  10  10  3   2   9\n",
       "1   9   8  6   4   2\n",
       "2   4   7  2   2   2\n",
       "3   5   3  7   3   6\n",
       "4   4   3  5  10  10"
      ]
     },
     "execution_count": 7,
     "metadata": {},
     "output_type": "execute_result"
    }
   ],
   "source": [
    "df_original = pd.read_excel(\"complete_data.xls\")\n",
    "df_original.head()"
   ]
  },
  {
   "cell_type": "code",
   "execution_count": 5,
   "metadata": {},
   "outputs": [
    {
     "data": {
      "image/png": "[encoded data removed]",
      "text/plain": [
       "<matplotlib.figure.Figure at 0x23eb7627f28>"
      ]
     },
     "metadata": {},
     "output_type": "display_data"
    }
   ],
   "source": [
    "df = pd.read_excel(\"incomplete_data.xls\")\n",
    "msno.matrix(df)"
   ]
  },
  {
   "cell_type": "code",
   "execution_count": 12,
   "metadata": {},
   "outputs": [
    {
     "name": "stdout",
     "output_type": "stream",
     "text": [
      "Collecting fancyimpute\n",
      "Requirement already satisfied: downhill in c:\\anaconda3\\lib\\site-packages (from fancyimpute)\n",
      "Requirement already satisfied: numpy>=1.10 in c:\\anaconda3\\lib\\site-packages (from fancyimpute)\n",
      "Requirement already satisfied: scikit-learn>=0.17.1 in c:\\anaconda3\\lib\\site-packages (from fancyimpute)\n",
      "Requirement already satisfied: theano in c:\\anaconda3\\lib\\site-packages (from fancyimpute)\n",
      "Requirement already satisfied: scipy in c:\\anaconda3\\lib\\site-packages (from fancyimpute)\n",
      "Requirement already satisfied: climate in c:\\anaconda3\\lib\\site-packages (from fancyimpute)\n",
      "Requirement already satisfied: knnimpute in c:\\anaconda3\\lib\\site-packages (from fancyimpute)\n",
      "Requirement already satisfied: six in c:\\anaconda3\\lib\\site-packages (from fancyimpute)\n",
      "Collecting cvxpy (from fancyimpute)\n",
      "  Using cached cvxpy-0.4.10-py3-none-any.whl\n",
      "Requirement already satisfied: click in c:\\anaconda3\\lib\\site-packages (from downhill->fancyimpute)\n",
      "Requirement already satisfied: plac in c:\\anaconda3\\lib\\site-packages (from climate->fancyimpute)\n",
      "Requirement already satisfied: scs>=1.1.3 in c:\\anaconda3\\lib\\site-packages (from cvxpy->fancyimpute)\n",
      "Requirement already satisfied: fastcache in c:\\anaconda3\\lib\\site-packages (from cvxpy->fancyimpute)\n",
      "Requirement already satisfied: CVXcanon>=0.0.22 in c:\\anaconda3\\lib\\site-packages (from cvxpy->fancyimpute)\n",
      "Requirement already satisfied: toolz in c:\\anaconda3\\lib\\site-packages (from cvxpy->fancyimpute)\n",
      "Collecting ecos>=2 (from cvxpy->fancyimpute)\n",
      "  Using cached ecos-2.0.4.tar.gz\n",
      "Requirement already satisfied: multiprocess in c:\\anaconda3\\lib\\site-packages (from cvxpy->fancyimpute)\n",
      "Requirement already satisfied: dill>=0.2.6 in c:\\anaconda3\\lib\\site-packages (from multiprocess->cvxpy->fancyimpute)\n",
      "Building wheels for collected packages: ecos\n",
      "  Running setup.py bdist_wheel for ecos: started\n",
      "  Running setup.py bdist_wheel for ecos: finished with status 'error'\n",
      "  Complete output from command C:\\Anaconda3\\python.exe -u -c \"import setuptools, tokenize;__file__='C:\\\\Users\\\\Akshay\\\\AppData\\\\Local\\\\Temp\\\\pip-build-99u1p4_i\\\\ecos\\\\setup.py';f=getattr(tokenize, 'open', open)(__file__);code=f.read().replace('\\r\\n', '\\n');f.close();exec(compile(code, __file__, 'exec'))\" bdist_wheel -d C:\\Users\\Akshay\\AppData\\Local\\Temp\\tmpdmxhbqacpip-wheel- --python-tag cp36:\n",
      "  running bdist_wheel\n",
      "  running build\n",
      "  running build_py\n",
      "  creating build\n",
      "  creating build\\lib.win-amd64-3.6\n",
      "  copying src\\ecos.py -> build\\lib.win-amd64-3.6\n",
      "  running build_ext\n",
      "  building '_ecos' extension\n",
      "  creating build\\temp.win-amd64-3.6\n",
      "  creating build\\temp.win-amd64-3.6\\Release\n",
      "  creating build\\temp.win-amd64-3.6\\Release\\src\n",
      "  creating build\\temp.win-amd64-3.6\\Release\\ecos\n",
      "  creating build\\temp.win-amd64-3.6\\Release\\ecos\\external\n",
      "  creating build\\temp.win-amd64-3.6\\Release\\ecos\\external\\ldl\n",
      "  creating build\\temp.win-amd64-3.6\\Release\\ecos\\external\\ldl\\src\n",
      "  creating build\\temp.win-amd64-3.6\\Release\\ecos\\src\n",
      "  creating build\\temp.win-amd64-3.6\\Release\\ecos\\external\\amd\n",
      "  creating build\\temp.win-amd64-3.6\\Release\\ecos\\external\\amd\\src\n",
      "  creating build\\temp.win-amd64-3.6\\Release\\ecos\\ecos_bb\n",
      "  C:\\Program Files (x86)\\Microsoft Visual Studio 14.0\\VC\\BIN\\x86_amd64\\cl.exe /c /nologo /Ox /W3 /GL /DNDEBUG /MD -DPYTHON -DDLONG -DLDL_LONG -DCTRLC=1 -Iecos/include -IC:\\Anaconda3\\lib\\site-packages\\numpy\\core\\include -Iecos/external/amd/include -Iecos/external/ldl/include -Iecos/external/SuiteSparse_config -IC:\\Anaconda3\\include -IC:\\Anaconda3\\include \"-IC:\\Program Files (x86)\\Microsoft Visual Studio 14.0\\VC\\INCLUDE\" \"-IC:\\Program Files (x86)\\Windows Kits\\10\\include\\10.0.10240.0\\ucrt\" \"-IC:\\Program Files (x86)\\Windows Kits\\8.1\\include\\shared\" \"-IC:\\Program Files (x86)\\Windows Kits\\8.1\\include\\um\" \"-IC:\\Program Files (x86)\\Windows Kits\\8.1\\include\\winrt\" /Tcsrc/ecosmodule.c /Fobuild\\temp.win-amd64-3.6\\Release\\src/ecosmodule.obj\n",
      "  ecosmodule.c\n",
      "  ecos/include\\ecos_bb.h(72): warning C4005: 'INFINITY': macro redefinition\n",
      "  C:\\Program Files (x86)\\Windows Kits\\10\\include\\10.0.10240.0\\ucrt\\math.h(78): note: see previous definition of 'INFINITY'\n",
      "  ecos/include\\ecos_bb.h(74): warning C4005: 'isinf': macro redefinition\n",
      "  C:\\Program Files (x86)\\Windows Kits\\10\\include\\10.0.10240.0\\ucrt\\math.h(263): note: see previous definition of 'isinf'\n",
      "  C:\\Program Files (x86)\\Microsoft Visual Studio 14.0\\VC\\BIN\\x86_amd64\\cl.exe /c /nologo /Ox /W3 /GL /DNDEBUG /MD -DPYTHON -DDLONG -DLDL_LONG -DCTRLC=1 -Iecos/include -IC:\\Anaconda3\\lib\\site-packages\\numpy\\core\\include -Iecos/external/amd/include -Iecos/external/ldl/include -Iecos/external/SuiteSparse_config -IC:\\Anaconda3\\include -IC:\\Anaconda3\\include \"-IC:\\Program Files (x86)\\Microsoft Visual Studio 14.0\\VC\\INCLUDE\" \"-IC:\\Program Files (x86)\\Windows Kits\\10\\include\\10.0.10240.0\\ucrt\" \"-IC:\\Program Files (x86)\\Windows Kits\\8.1\\include\\shared\" \"-IC:\\Program Files (x86)\\Windows Kits\\8.1\\include\\um\" \"-IC:\\Program Files (x86)\\Windows Kits\\8.1\\include\\winrt\" /Tcecos/external/ldl/src/ldl.c /Fobuild\\temp.win-amd64-3.6\\Release\\ecos/external/ldl/src/ldl.obj\n",
      "  ldl.c\n",
      "  C:\\Program Files (x86)\\Windows Kits\\10\\include\\10.0.10240.0\\ucrt\\math.h(78): warning C4005: 'INFINITY': macro redefinition\n",
      "  ecos/external/SuiteSparse_config\\../../include/glblopts.h(58): note: see previous definition of 'INFINITY'\n",
      "  C:\\Program Files (x86)\\Windows Kits\\10\\include\\10.0.10240.0\\ucrt\\math.h(82): warning C4005: 'NAN': macro redefinition\n",
      "  ecos/external/SuiteSparse_config\\../../include/glblopts.h(53): note: see previous definition of 'NAN'\n",
      "  C:\\Program Files (x86)\\Microsoft Visual Studio 14.0\\VC\\BIN\\x86_amd64\\cl.exe /c /nologo /Ox /W3 /GL /DNDEBUG /MD -DPYTHON -DDLONG -DLDL_LONG -DCTRLC=1 -Iecos/include -IC:\\Anaconda3\\lib\\site-packages\\numpy\\core\\include -Iecos/external/amd/include -Iecos/external/ldl/include -Iecos/external/SuiteSparse_config -IC:\\Anaconda3\\include -IC:\\Anaconda3\\include \"-IC:\\Program Files (x86)\\Microsoft Visual Studio 14.0\\VC\\INCLUDE\" \"-IC:\\Program Files (x86)\\Windows Kits\\10\\include\\10.0.10240.0\\ucrt\" \"-IC:\\Program Files (x86)\\Windows Kits\\8.1\\include\\shared\" \"-IC:\\Program Files (x86)\\Windows Kits\\8.1\\include\\um\" \"-IC:\\Program Files (x86)\\Windows Kits\\8.1\\include\\winrt\" /Tcecos/src/cone.c /Fobuild\\temp.win-amd64-3.6\\Release\\ecos/src/cone.obj\n",
      "  cone.c\n",
      "  C:\\Program Files (x86)\\Windows Kits\\10\\include\\10.0.10240.0\\ucrt\\math.h(78): warning C4005: 'INFINITY': macro redefinition\n",
      "  c:\\users\\akshay\\appdata\\local\\temp\\pip-build-99u1p4_i\\ecos\\ecos\\include\\glblopts.h(58): note: see previous definition of 'INFINITY'\n",
      "  C:\\Program Files (x86)\\Windows Kits\\10\\include\\10.0.10240.0\\ucrt\\math.h(82): warning C4005: 'NAN': macro redefinition\n",
      "  c:\\users\\akshay\\appdata\\local\\temp\\pip-build-99u1p4_i\\ecos\\ecos\\include\\glblopts.h(53): note: see previous definition of 'NAN'\n",
      "  C:\\Program Files (x86)\\Microsoft Visual Studio 14.0\\VC\\BIN\\x86_amd64\\cl.exe /c /nologo /Ox /W3 /GL /DNDEBUG /MD -DPYTHON -DDLONG -DLDL_LONG -DCTRLC=1 -Iecos/include -IC:\\Anaconda3\\lib\\site-packages\\numpy\\core\\include -Iecos/external/amd/include -Iecos/external/ldl/include -Iecos/external/SuiteSparse_config -IC:\\Anaconda3\\include -IC:\\Anaconda3\\include \"-IC:\\Program Files (x86)\\Microsoft Visual Studio 14.0\\VC\\INCLUDE\" \"-IC:\\Program Files (x86)\\Windows Kits\\10\\include\\10.0.10240.0\\ucrt\" \"-IC:\\Program Files (x86)\\Windows Kits\\8.1\\include\\shared\" \"-IC:\\Program Files (x86)\\Windows Kits\\8.1\\include\\um\" \"-IC:\\Program Files (x86)\\Windows Kits\\8.1\\include\\winrt\" /Tcecos/src/ctrlc.c /Fobuild\\temp.win-amd64-3.6\\Release\\ecos/src/ctrlc.obj\n",
      "  ctrlc.c\n",
      "  C:\\Program Files (x86)\\Windows Kits\\10\\include\\10.0.10240.0\\ucrt\\math.h(78): warning C4005: 'INFINITY': macro redefinition\n",
      "  c:\\users\\akshay\\appdata\\local\\temp\\pip-build-99u1p4_i\\ecos\\ecos\\include\\glblopts.h(58): note: see previous definition of 'INFINITY'\n",
      "  C:\\Program Files (x86)\\Windows Kits\\10\\include\\10.0.10240.0\\ucrt\\math.h(82): warning C4005: 'NAN': macro redefinition\n",
      "  c:\\users\\akshay\\appdata\\local\\temp\\pip-build-99u1p4_i\\ecos\\ecos\\include\\glblopts.h(53): note: see previous definition of 'NAN'\n",
      "  C:\\Program Files (x86)\\Microsoft Visual Studio 14.0\\VC\\BIN\\x86_amd64\\cl.exe /c /nologo /Ox /W3 /GL /DNDEBUG /MD -DPYTHON -DDLONG -DLDL_LONG -DCTRLC=1 -Iecos/include -IC:\\Anaconda3\\lib\\site-packages\\numpy\\core\\include -Iecos/external/amd/include -Iecos/external/ldl/include -Iecos/external/SuiteSparse_config -IC:\\Anaconda3\\include -IC:\\Anaconda3\\include \"-IC:\\Program Files (x86)\\Microsoft Visual Studio 14.0\\VC\\INCLUDE\" \"-IC:\\Program Files (x86)\\Windows Kits\\10\\include\\10.0.10240.0\\ucrt\" \"-IC:\\Program Files (x86)\\Windows Kits\\8.1\\include\\shared\" \"-IC:\\Program Files (x86)\\Windows Kits\\8.1\\include\\um\" \"-IC:\\Program Files (x86)\\Windows Kits\\8.1\\include\\winrt\" /Tcecos/src/ecos.c /Fobuild\\temp.win-amd64-3.6\\Release\\ecos/src/ecos.obj\n",
      "  ecos.c\n",
      "  C:\\Program Files (x86)\\Windows Kits\\10\\include\\10.0.10240.0\\ucrt\\math.h(78): warning C4005: 'INFINITY': macro redefinition\n",
      "  c:\\users\\akshay\\appdata\\local\\temp\\pip-build-99u1p4_i\\ecos\\ecos\\include\\glblopts.h(58): note: see previous definition of 'INFINITY'\n",
      "  C:\\Program Files (x86)\\Windows Kits\\10\\include\\10.0.10240.0\\ucrt\\math.h(82): warning C4005: 'NAN': macro redefinition\n",
      "  c:\\users\\akshay\\appdata\\local\\temp\\pip-build-99u1p4_i\\ecos\\ecos\\include\\glblopts.h(53): note: see previous definition of 'NAN'\n",
      "  ecos/src/ecos.c(1093): warning C4013: '_set_output_format' undefined; assuming extern returning int\n",
      "  ecos/src/ecos.c(1093): error C2065: '_TWO_DIGIT_EXPONENT': undeclared identifier\n",
      "  error: command 'C:\\\\Program Files (x86)\\\\Microsoft Visual Studio 14.0\\\\VC\\\\BIN\\\\x86_amd64\\\\cl.exe' failed with exit status 2\n",
      "  \n",
      "  ----------------------------------------\n",
      "  Running setup.py clean for ecos\n",
      "Failed to build ecos\n",
      "Installing collected packages: ecos, cvxpy, fancyimpute\n",
      "  Running setup.py install for ecos: started\n",
      "    Running setup.py install for ecos: finished with status 'error'\n",
      "    Complete output from command C:\\Anaconda3\\python.exe -u -c \"import setuptools, tokenize;__file__='C:\\\\Users\\\\Akshay\\\\AppData\\\\Local\\\\Temp\\\\pip-build-99u1p4_i\\\\ecos\\\\setup.py';f=getattr(tokenize, 'open', open)(__file__);code=f.read().replace('\\r\\n', '\\n');f.close();exec(compile(code, __file__, 'exec'))\" install --record C:\\Users\\Akshay\\AppData\\Local\\Temp\\pip-mgnxokqc-record\\install-record.txt --single-version-externally-managed --compile:\n",
      "    running install\n",
      "    running build\n",
      "    running build_py\n",
      "    creating build\n",
      "    creating build\\lib.win-amd64-3.6\n",
      "    copying src\\ecos.py -> build\\lib.win-amd64-3.6\n",
      "    running build_ext\n",
      "    building '_ecos' extension\n",
      "    creating build\\temp.win-amd64-3.6\n",
      "    creating build\\temp.win-amd64-3.6\\Release\n",
      "    creating build\\temp.win-amd64-3.6\\Release\\src\n",
      "    creating build\\temp.win-amd64-3.6\\Release\\ecos\n",
      "    creating build\\temp.win-amd64-3.6\\Release\\ecos\\external\n",
      "    creating build\\temp.win-amd64-3.6\\Release\\ecos\\external\\ldl\n",
      "    creating build\\temp.win-amd64-3.6\\Release\\ecos\\external\\ldl\\src\n",
      "    creating build\\temp.win-amd64-3.6\\Release\\ecos\\src\n",
      "    creating build\\temp.win-amd64-3.6\\Release\\ecos\\external\\amd\n",
      "    creating build\\temp.win-amd64-3.6\\Release\\ecos\\external\\amd\\src\n",
      "    creating build\\temp.win-amd64-3.6\\Release\\ecos\\ecos_bb\n",
      "    C:\\Program Files (x86)\\Microsoft Visual Studio 14.0\\VC\\BIN\\x86_amd64\\cl.exe /c /nologo /Ox /W3 /GL /DNDEBUG /MD -DPYTHON -DDLONG -DLDL_LONG -DCTRLC=1 -Iecos/include -IC:\\Anaconda3\\lib\\site-packages\\numpy\\core\\include -Iecos/external/amd/include -Iecos/external/ldl/include -Iecos/external/SuiteSparse_config -IC:\\Anaconda3\\include -IC:\\Anaconda3\\include \"-IC:\\Program Files (x86)\\Microsoft Visual Studio 14.0\\VC\\INCLUDE\" \"-IC:\\Program Files (x86)\\Windows Kits\\10\\include\\10.0.10240.0\\ucrt\" \"-IC:\\Program Files (x86)\\Windows Kits\\8.1\\include\\shared\" \"-IC:\\Program Files (x86)\\Windows Kits\\8.1\\include\\um\" \"-IC:\\Program Files (x86)\\Windows Kits\\8.1\\include\\winrt\" /Tcsrc/ecosmodule.c /Fobuild\\temp.win-amd64-3.6\\Release\\src/ecosmodule.obj\n",
      "    ecosmodule.c\n",
      "    ecos/include\\ecos_bb.h(72): warning C4005: 'INFINITY': macro redefinition\n",
      "    C:\\Program Files (x86)\\Windows Kits\\10\\include\\10.0.10240.0\\ucrt\\math.h(78): note: see previous definition of 'INFINITY'\n",
      "    ecos/include\\ecos_bb.h(74): warning C4005: 'isinf': macro redefinition\n",
      "    C:\\Program Files (x86)\\Windows Kits\\10\\include\\10.0.10240.0\\ucrt\\math.h(263): note: see previous definition of 'isinf'\n",
      "    C:\\Program Files (x86)\\Microsoft Visual Studio 14.0\\VC\\BIN\\x86_amd64\\cl.exe /c /nologo /Ox /W3 /GL /DNDEBUG /MD -DPYTHON -DDLONG -DLDL_LONG -DCTRLC=1 -Iecos/include -IC:\\Anaconda3\\lib\\site-packages\\numpy\\core\\include -Iecos/external/amd/include -Iecos/external/ldl/include -Iecos/external/SuiteSparse_config -IC:\\Anaconda3\\include -IC:\\Anaconda3\\include \"-IC:\\Program Files (x86)\\Microsoft Visual Studio 14.0\\VC\\INCLUDE\" \"-IC:\\Program Files (x86)\\Windows Kits\\10\\include\\10.0.10240.0\\ucrt\" \"-IC:\\Program Files (x86)\\Windows Kits\\8.1\\include\\shared\" \"-IC:\\Program Files (x86)\\Windows Kits\\8.1\\include\\um\" \"-IC:\\Program Files (x86)\\Windows Kits\\8.1\\include\\winrt\" /Tcecos/external/ldl/src/ldl.c /Fobuild\\temp.win-amd64-3.6\\Release\\ecos/external/ldl/src/ldl.obj\n",
      "    ldl.c\n",
      "    C:\\Program Files (x86)\\Windows Kits\\10\\include\\10.0.10240.0\\ucrt\\math.h(78): warning C4005: 'INFINITY': macro redefinition\n",
      "    ecos/external/SuiteSparse_config\\../../include/glblopts.h(58): note: see previous definition of 'INFINITY'\n",
      "    C:\\Program Files (x86)\\Windows Kits\\10\\include\\10.0.10240.0\\ucrt\\math.h(82): warning C4005: 'NAN': macro redefinition\n",
      "    ecos/external/SuiteSparse_config\\../../include/glblopts.h(53): note: see previous definition of 'NAN'\n",
      "    C:\\Program Files (x86)\\Microsoft Visual Studio 14.0\\VC\\BIN\\x86_amd64\\cl.exe /c /nologo /Ox /W3 /GL /DNDEBUG /MD -DPYTHON -DDLONG -DLDL_LONG -DCTRLC=1 -Iecos/include -IC:\\Anaconda3\\lib\\site-packages\\numpy\\core\\include -Iecos/external/amd/include -Iecos/external/ldl/include -Iecos/external/SuiteSparse_config -IC:\\Anaconda3\\include -IC:\\Anaconda3\\include \"-IC:\\Program Files (x86)\\Microsoft Visual Studio 14.0\\VC\\INCLUDE\" \"-IC:\\Program Files (x86)\\Windows Kits\\10\\include\\10.0.10240.0\\ucrt\" \"-IC:\\Program Files (x86)\\Windows Kits\\8.1\\include\\shared\" \"-IC:\\Program Files (x86)\\Windows Kits\\8.1\\include\\um\" \"-IC:\\Program Files (x86)\\Windows Kits\\8.1\\include\\winrt\" /Tcecos/src/cone.c /Fobuild\\temp.win-amd64-3.6\\Release\\ecos/src/cone.obj\n",
      "    cone.c\n",
      "    C:\\Program Files (x86)\\Windows Kits\\10\\include\\10.0.10240.0\\ucrt\\math.h(78): warning C4005: 'INFINITY': macro redefinition\n",
      "    c:\\users\\akshay\\appdata\\local\\temp\\pip-build-99u1p4_i\\ecos\\ecos\\include\\glblopts.h(58): note: see previous definition of 'INFINITY'\n",
      "    C:\\Program Files (x86)\\Windows Kits\\10\\include\\10.0.10240.0\\ucrt\\math.h(82): warning C4005: 'NAN': macro redefinition\n",
      "    c:\\users\\akshay\\appdata\\local\\temp\\pip-build-99u1p4_i\\ecos\\ecos\\include\\glblopts.h(53): note: see previous definition of 'NAN'\n",
      "    C:\\Program Files (x86)\\Microsoft Visual Studio 14.0\\VC\\BIN\\x86_amd64\\cl.exe /c /nologo /Ox /W3 /GL /DNDEBUG /MD -DPYTHON -DDLONG -DLDL_LONG -DCTRLC=1 -Iecos/include -IC:\\Anaconda3\\lib\\site-packages\\numpy\\core\\include -Iecos/external/amd/include -Iecos/external/ldl/include -Iecos/external/SuiteSparse_config -IC:\\Anaconda3\\include -IC:\\Anaconda3\\include \"-IC:\\Program Files (x86)\\Microsoft Visual Studio 14.0\\VC\\INCLUDE\" \"-IC:\\Program Files (x86)\\Windows Kits\\10\\include\\10.0.10240.0\\ucrt\" \"-IC:\\Program Files (x86)\\Windows Kits\\8.1\\include\\shared\" \"-IC:\\Program Files (x86)\\Windows Kits\\8.1\\include\\um\" \"-IC:\\Program Files (x86)\\Windows Kits\\8.1\\include\\winrt\" /Tcecos/src/ctrlc.c /Fobuild\\temp.win-amd64-3.6\\Release\\ecos/src/ctrlc.obj\n",
      "    ctrlc.c\n",
      "    C:\\Program Files (x86)\\Windows Kits\\10\\include\\10.0.10240.0\\ucrt\\math.h(78): warning C4005: 'INFINITY': macro redefinition\n",
      "    c:\\users\\akshay\\appdata\\local\\temp\\pip-build-99u1p4_i\\ecos\\ecos\\include\\glblopts.h(58): note: see previous definition of 'INFINITY'\n",
      "    C:\\Program Files (x86)\\Windows Kits\\10\\include\\10.0.10240.0\\ucrt\\math.h(82): warning C4005: 'NAN': macro redefinition\n",
      "    c:\\users\\akshay\\appdata\\local\\temp\\pip-build-99u1p4_i\\ecos\\ecos\\include\\glblopts.h(53): note: see previous definition of 'NAN'\n",
      "    C:\\Program Files (x86)\\Microsoft Visual Studio 14.0\\VC\\BIN\\x86_amd64\\cl.exe /c /nologo /Ox /W3 /GL /DNDEBUG /MD -DPYTHON -DDLONG -DLDL_LONG -DCTRLC=1 -Iecos/include -IC:\\Anaconda3\\lib\\site-packages\\numpy\\core\\include -Iecos/external/amd/include -Iecos/external/ldl/include -Iecos/external/SuiteSparse_config -IC:\\Anaconda3\\include -IC:\\Anaconda3\\include \"-IC:\\Program Files (x86)\\Microsoft Visual Studio 14.0\\VC\\INCLUDE\" \"-IC:\\Program Files (x86)\\Windows Kits\\10\\include\\10.0.10240.0\\ucrt\" \"-IC:\\Program Files (x86)\\Windows Kits\\8.1\\include\\shared\" \"-IC:\\Program Files (x86)\\Windows Kits\\8.1\\include\\um\" \"-IC:\\Program Files (x86)\\Windows Kits\\8.1\\include\\winrt\" /Tcecos/src/ecos.c /Fobuild\\temp.win-amd64-3.6\\Release\\ecos/src/ecos.obj\n",
      "    ecos.c\n",
      "    C:\\Program Files (x86)\\Windows Kits\\10\\include\\10.0.10240.0\\ucrt\\math.h(78): warning C4005: 'INFINITY': macro redefinition\n",
      "    c:\\users\\akshay\\appdata\\local\\temp\\pip-build-99u1p4_i\\ecos\\ecos\\include\\glblopts.h(58): note: see previous definition of 'INFINITY'\n",
      "    C:\\Program Files (x86)\\Windows Kits\\10\\include\\10.0.10240.0\\ucrt\\math.h(82): warning C4005: 'NAN': macro redefinition\n",
      "    c:\\users\\akshay\\appdata\\local\\temp\\pip-build-99u1p4_i\\ecos\\ecos\\include\\glblopts.h(53): note: see previous definition of 'NAN'\n",
      "    ecos/src/ecos.c(1093): warning C4013: '_set_output_format' undefined; assuming extern returning int\n",
      "    ecos/src/ecos.c(1093): error C2065: '_TWO_DIGIT_EXPONENT': undeclared identifier\n",
      "    error: command 'C:\\\\Program Files (x86)\\\\Microsoft Visual Studio 14.0\\\\VC\\\\BIN\\\\x86_amd64\\\\cl.exe' failed with exit status 2\n",
      "    \n",
      "    ----------------------------------------\n"
     ]
    },
    {
     "name": "stderr",
     "output_type": "stream",
     "text": [
      "  Failed building wheel for ecos\n",
      "Command \"C:\\Anaconda3\\python.exe -u -c \"import setuptools, tokenize;__file__='C:\\\\Users\\\\Akshay\\\\AppData\\\\Local\\\\Temp\\\\pip-build-99u1p4_i\\\\ecos\\\\setup.py';f=getattr(tokenize, 'open', open)(__file__);code=f.read().replace('\\r\\n', '\\n');f.close();exec(compile(code, __file__, 'exec'))\" install --record C:\\Users\\Akshay\\AppData\\Local\\Temp\\pip-mgnxokqc-record\\install-record.txt --single-version-externally-managed --compile\" failed with error code 1 in C:\\Users\\Akshay\\AppData\\Local\\Temp\\pip-build-99u1p4_i\\ecos\\\n"
     ]
    }
   ],
   "source": [
    "!pip install fancyimpute"
   ]
  },
  {
   "cell_type": "code",
   "execution_count": 9,
   "metadata": {
    "scrolled": true
   },
   "outputs": [
    {
     "ename": "ModuleNotFoundError",
     "evalue": "No module named 'fancyimpute'",
     "output_type": "error",
     "traceback": [
      "\u001b[0;31m---------------------------------------------------------------------------\u001b[0m",
      "\u001b[0;31mModuleNotFoundError\u001b[0m                       Traceback (most recent call last)",
      "\u001b[0;32m<ipython-input-9-f6c199e47f74>\u001b[0m in \u001b[0;36m<module>\u001b[0;34m()\u001b[0m\n\u001b[0;32m----> 1\u001b[0;31m \u001b[1;32mfrom\u001b[0m \u001b[0mfancyimpute\u001b[0m \u001b[1;32mimport\u001b[0m \u001b[0mBiScaler\u001b[0m\u001b[1;33m,\u001b[0m \u001b[0mKNN\u001b[0m\u001b[1;33m,\u001b[0m \u001b[0mNuclearNormMinimization\u001b[0m\u001b[1;33m,\u001b[0m \u001b[0mSoftImpute\u001b[0m\u001b[1;33m\u001b[0m\u001b[0m\n\u001b[0m",
      "\u001b[0;31mModuleNotFoundError\u001b[0m: No module named 'fancyimpute'"
     ]
    }
   ],
   "source": [
    "from fancyimpute import BiScaler, KNN, NuclearNormMinimization, SoftImpute"
   ]
  }
 ],
 "metadata": {
  "kernelspec": {
   "display_name": "Python 3",
   "language": "python",
   "name": "python3"
  },
  "language_info": {
   "codemirror_mode": {
    "name": "ipython",
    "version": 3
   },
   "file_extension": ".py",
   "mimetype": "text/x-python",
   "name": "python",
   "nbconvert_exporter": "python",
   "pygments_lexer": "ipython3",
   "version": "3.6.5"
  }
 },
 "nbformat": 4,
 "nbformat_minor": 2
}
