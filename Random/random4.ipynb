{
 "cells": [
  {
   "cell_type": "code",
   "execution_count": 2,
   "metadata": {},
   "outputs": [
    {
     "name": "stdout",
     "output_type": "stream",
     "text": [
      "names\n",
      "Desciples\n"
     ]
    }
   ],
   "source": [
    "import random\n",
    "\n",
    "types = [\"places\", \"names\"]\n",
    "\n",
    "places = [\"The Upper Room\", \"Jerusalem\", \"Church\", \"Rome\"]\n",
    "names = [\"Jesus\", \"Desciples\", \"Paul\"]\n",
    "\n",
    "\n",
    "def get_random_type():\n",
    "    return random.choice(types)\n",
    "\n",
    "def get_response(chosentype):\n",
    "    return random.choice(eval(chosentype))\n",
    "\n",
    "randtype = get_random_type()\n",
    "print(randtype)\n",
    "print(get_response(randtype))"
   ]
  },
  {
   "cell_type": "code",
   "execution_count": null,
   "metadata": {},
   "outputs": [],
   "source": []
  },
  {
   "cell_type": "code",
   "execution_count": null,
   "metadata": {},
   "outputs": [],
   "source": []
  },
  {
   "cell_type": "code",
   "execution_count": null,
   "metadata": {},
   "outputs": [],
   "source": []
  },
  {
   "cell_type": "code",
   "execution_count": null,
   "metadata": {},
   "outputs": [],
   "source": []
  },
  {
   "cell_type": "code",
   "execution_count": 3,
   "metadata": {},
   "outputs": [
    {
     "name": "stdout",
     "output_type": "stream",
     "text": [
      "('a', 'b', 'c')\n",
      "('f', 'g', 'h')\n",
      "('i', 'j', 'k')\n"
     ]
    }
   ],
   "source": [
    "example_list = [\n",
    "    ['a','b','c'],\n",
    "    ['f','g','h'],\n",
    "    ['i','j','k'],\n",
    "]\n",
    "\n",
    "s = '\\n'.join([str(tuple(i)) for i in example_list])\n",
    "print(s)"
   ]
  },
  {
   "cell_type": "code",
   "execution_count": null,
   "metadata": {},
   "outputs": [],
   "source": []
  },
  {
   "cell_type": "code",
   "execution_count": null,
   "metadata": {},
   "outputs": [],
   "source": []
  },
  {
   "cell_type": "code",
   "execution_count": null,
   "metadata": {},
   "outputs": [],
   "source": []
  },
  {
   "cell_type": "code",
   "execution_count": null,
   "metadata": {},
   "outputs": [],
   "source": []
  },
  {
   "cell_type": "code",
   "execution_count": null,
   "metadata": {},
   "outputs": [],
   "source": []
  },
  {
   "cell_type": "code",
   "execution_count": 4,
   "metadata": {},
   "outputs": [
    {
     "name": "stdout",
     "output_type": "stream",
     "text": [
      "34.00\n",
      "0\n",
      "12.50\n",
      "150.00\n",
      "20.00\n"
     ]
    }
   ],
   "source": [
    "a = [[['7', '3', 'SELL', 'chair_1', '30.00'], ['17', '4', 'BID', 'chair_1', '34.00']]]\n",
    "b = [[['14', '5', 'SELL', 'toaster_1', '14.50', '30']]]\n",
    "c = [[['10', '1', 'SELL', 'radio_1', '10.00', '30'], ['13', '5', 'BID', 'radio_1', '12.50'], ['16', '6', 'BID', 'radio_1', '12.50']]]\n",
    "d = [[['12', '4', 'SELL', 'TV_1', '200.00', '35'], ['15', '8', 'BID', 'TV_1', '250.00'], ['18', '1', 'BID', 'TV_1', '150.00'], ['19', '3', 'BID', 'TV_1', '200.00'], ['21', '3', 'BID', 'TV_1', '300.00']]]\n",
    "e = [[['11', '3', 'SELL', 'transistor_1', '15.00', '30'], ['20', '7', 'BID', 'transistor_1', '20.00']]]\n",
    "\n",
    "def get_min_auc(auc):\n",
    "    d = [j for i in auc[0][1:] for j in i if len(j.split('.'))>1]\n",
    "    try: return min(d)\n",
    "    except: return 0\n",
    "\n",
    "print(get_min_auc(a))\n",
    "print(get_min_auc(b))\n",
    "print(get_min_auc(c))\n",
    "print(get_min_auc(d))\n",
    "print(get_min_auc(e))"
   ]
  },
  {
   "cell_type": "code",
   "execution_count": null,
   "metadata": {},
   "outputs": [],
   "source": []
  },
  {
   "cell_type": "code",
   "execution_count": null,
   "metadata": {},
   "outputs": [],
   "source": []
  },
  {
   "cell_type": "code",
   "execution_count": null,
   "metadata": {},
   "outputs": [],
   "source": []
  },
  {
   "cell_type": "code",
   "execution_count": null,
   "metadata": {},
   "outputs": [],
   "source": []
  },
  {
   "cell_type": "code",
   "execution_count": null,
   "metadata": {},
   "outputs": [],
   "source": []
  },
  {
   "cell_type": "code",
   "execution_count": 6,
   "metadata": {},
   "outputs": [
    {
     "data": {
      "text/plain": [
       "'kabccbak'"
      ]
     },
     "execution_count": 6,
     "metadata": {},
     "output_type": "execute_result"
    }
   ],
   "source": [
    "a = \"abijkabccbakfgba\"\n",
    "\n",
    "def isp(s):\n",
    "    return s == s[::-1]\n",
    "\n",
    "res = (a[i: j] for i in range(len(a)) for j in range(i + 1, len(a) + 1))\n",
    "palindromes = sorted([i for i in res if isp(i) and len(i)>1], key = lambda x: len(x), reverse=True)[0]\n",
    "palindromes"
   ]
  },
  {
   "cell_type": "code",
   "execution_count": null,
   "metadata": {},
   "outputs": [],
   "source": []
  },
  {
   "cell_type": "code",
   "execution_count": null,
   "metadata": {},
   "outputs": [],
   "source": []
  },
  {
   "cell_type": "code",
   "execution_count": null,
   "metadata": {},
   "outputs": [],
   "source": []
  },
  {
   "cell_type": "code",
   "execution_count": null,
   "metadata": {},
   "outputs": [],
   "source": []
  },
  {
   "cell_type": "code",
   "execution_count": null,
   "metadata": {},
   "outputs": [],
   "source": []
  },
  {
   "cell_type": "code",
   "execution_count": 34,
   "metadata": {},
   "outputs": [],
   "source": [
    "import pandas as pd\n",
    "import numpy as np"
   ]
  },
  {
   "cell_type": "code",
   "execution_count": 35,
   "metadata": {},
   "outputs": [],
   "source": [
    "df = pd.DataFrame({\n",
    "    'Mountain Range': ['A', 'A', 'A', 'A', 'A', 'B', 'B', 'B', 'B', 'B', 'C', 'C', 'C', 'C', 'D', 'D', 'D', 'D'], \n",
    "    'Peak': ['a', 'b', 'c', 'd', 'e', 'f', 'g', 'h', 'i', 'j', 'k', 'l', 'm', 'n', 'o', 'p', 'r', 's'], \n",
    "    'Height above sea level': [2340, 3050, 4220, 2675, 2980, 3300, 3405, 3410, 2970, 2840, 2780, 3140, 3210, 2885, 3000, 3110, 2640, 2635]\n",
    "    })"
   ]
  },
  {
   "cell_type": "code",
   "execution_count": 36,
   "metadata": {},
   "outputs": [
    {
     "data": {
      "text/html": [
       "<div>\n",
       "<style scoped>\n",
       "    .dataframe tbody tr th:only-of-type {\n",
       "        vertical-align: middle;\n",
       "    }\n",
       "\n",
       "    .dataframe tbody tr th {\n",
       "        vertical-align: top;\n",
       "    }\n",
       "\n",
       "    .dataframe thead th {\n",
       "        text-align: right;\n",
       "    }\n",
       "</style>\n",
       "<table border=\"1\" class=\"dataframe\">\n",
       "  <thead>\n",
       "    <tr style=\"text-align: right;\">\n",
       "      <th></th>\n",
       "      <th>Mountain Range</th>\n",
       "      <th>Peak</th>\n",
       "      <th>Height above sea level</th>\n",
       "    </tr>\n",
       "  </thead>\n",
       "  <tbody>\n",
       "    <tr>\n",
       "      <th>2</th>\n",
       "      <td>A</td>\n",
       "      <td>c</td>\n",
       "      <td>4220</td>\n",
       "    </tr>\n",
       "    <tr>\n",
       "      <th>1</th>\n",
       "      <td>A</td>\n",
       "      <td>b</td>\n",
       "      <td>3050</td>\n",
       "    </tr>\n",
       "    <tr>\n",
       "      <th>4</th>\n",
       "      <td>A</td>\n",
       "      <td>e</td>\n",
       "      <td>2980</td>\n",
       "    </tr>\n",
       "  </tbody>\n",
       "</table>\n",
       "</div>"
      ],
      "text/plain": [
       "  Mountain Range Peak  Height above sea level\n",
       "2              A    c                    4220\n",
       "1              A    b                    3050\n",
       "4              A    e                    2980"
      ]
     },
     "execution_count": 36,
     "metadata": {},
     "output_type": "execute_result"
    }
   ],
   "source": [
    "df[df['Mountain Range']=='A'].nlargest(3, 'Height above sea level')"
   ]
  },
  {
   "cell_type": "code",
   "execution_count": 52,
   "metadata": {},
   "outputs": [
    {
     "name": "stdout",
     "output_type": "stream",
     "text": [
      "  Mountain Range  Height above sea level\n",
      "0              A                   10250\n",
      "1              B                   10115\n",
      "2              C                    9235\n",
      "3              D                    8750\n"
     ]
    }
   ],
   "source": [
    "g = df.groupby('Mountain Range')['Height above sea level'].apply(lambda x: np.sum(x.nlargest(3))).reset_index()\n",
    "print(g)\n",
    "\n",
    "g.nlargest(1, 'Height above sea level')['Mountain Range'][0]"
   ]
  },
  {
   "cell_type": "code",
   "execution_count": 56,
   "metadata": {},
   "outputs": [
    {
     "data": {
      "text/plain": [
       "'A'"
      ]
     },
     "execution_count": 56,
     "metadata": {},
     "output_type": "execute_result"
    }
   ],
   "source": [
    "g.nlargest(1, 'Height above sea level')['Mountain Range'][0]"
   ]
  },
  {
   "cell_type": "code",
   "execution_count": null,
   "metadata": {},
   "outputs": [],
   "source": []
  },
  {
   "cell_type": "code",
   "execution_count": null,
   "metadata": {},
   "outputs": [],
   "source": []
  },
  {
   "cell_type": "code",
   "execution_count": null,
   "metadata": {},
   "outputs": [],
   "source": []
  },
  {
   "cell_type": "code",
   "execution_count": null,
   "metadata": {},
   "outputs": [],
   "source": []
  },
  {
   "cell_type": "code",
   "execution_count": null,
   "metadata": {},
   "outputs": [],
   "source": []
  },
  {
   "cell_type": "code",
   "execution_count": null,
   "metadata": {},
   "outputs": [],
   "source": []
  },
  {
   "cell_type": "code",
   "execution_count": 59,
   "metadata": {},
   "outputs": [],
   "source": [
    "data = pd.DataFrame({'Name':['Joe','Joe','Jackson','Jackson'],'Computer':['MAC','HP','MAC','HP'],'Data':[10,5,20,15]})"
   ]
  },
  {
   "cell_type": "code",
   "execution_count": 72,
   "metadata": {},
   "outputs": [
    {
     "data": {
      "text/html": [
       "<div>\n",
       "<style scoped>\n",
       "    .dataframe tbody tr th:only-of-type {\n",
       "        vertical-align: middle;\n",
       "    }\n",
       "\n",
       "    .dataframe tbody tr th {\n",
       "        vertical-align: top;\n",
       "    }\n",
       "\n",
       "    .dataframe thead th {\n",
       "        text-align: right;\n",
       "    }\n",
       "</style>\n",
       "<table border=\"1\" class=\"dataframe\">\n",
       "  <thead>\n",
       "    <tr style=\"text-align: right;\">\n",
       "      <th>Computer</th>\n",
       "      <th>HP</th>\n",
       "      <th>MAC</th>\n",
       "    </tr>\n",
       "    <tr>\n",
       "      <th>Name</th>\n",
       "      <th></th>\n",
       "      <th></th>\n",
       "    </tr>\n",
       "  </thead>\n",
       "  <tbody>\n",
       "    <tr>\n",
       "      <th>Jackson</th>\n",
       "      <td>15</td>\n",
       "      <td>20</td>\n",
       "    </tr>\n",
       "    <tr>\n",
       "      <th>Joe</th>\n",
       "      <td>5</td>\n",
       "      <td>10</td>\n",
       "    </tr>\n",
       "  </tbody>\n",
       "</table>\n",
       "</div>"
      ],
      "text/plain": [
       "Computer  HP  MAC\n",
       "Name             \n",
       "Jackson   15   20\n",
       "Joe        5   10"
      ]
     },
     "execution_count": 72,
     "metadata": {},
     "output_type": "execute_result"
    }
   ],
   "source": [
    "pd.pivot(data, index='Name',columns='Computer', values='Data')"
   ]
  },
  {
   "cell_type": "code",
   "execution_count": 76,
   "metadata": {},
   "outputs": [
    {
     "name": "stdout",
     "output_type": "stream",
     "text": [
      "         Data    \n",
      "Computer   HP MAC\n",
      "Name             \n",
      "Jackson    15  20\n",
      "Joe         5  10\n"
     ]
    }
   ],
   "source": [
    "print(data.set_index(['Name','Computer']).unstack(-1))"
   ]
  },
  {
   "cell_type": "code",
   "execution_count": null,
   "metadata": {},
   "outputs": [],
   "source": []
  },
  {
   "cell_type": "code",
   "execution_count": null,
   "metadata": {},
   "outputs": [],
   "source": []
  },
  {
   "cell_type": "code",
   "execution_count": null,
   "metadata": {},
   "outputs": [],
   "source": []
  },
  {
   "cell_type": "code",
   "execution_count": null,
   "metadata": {},
   "outputs": [],
   "source": []
  },
  {
   "cell_type": "code",
   "execution_count": null,
   "metadata": {},
   "outputs": [],
   "source": []
  },
  {
   "cell_type": "code",
   "execution_count": null,
   "metadata": {},
   "outputs": [],
   "source": []
  },
  {
   "cell_type": "code",
   "execution_count": 129,
   "metadata": {},
   "outputs": [
    {
     "data": {
      "text/plain": [
       "array([[ 0, -1,  0,  3,  3],\n",
       "       [ 2, -1,  3,  2, -2]])"
      ]
     },
     "execution_count": 129,
     "metadata": {},
     "output_type": "execute_result"
    }
   ],
   "source": [
    "Change = np.random.randint(-2,4,size=(2,5))\n",
    "pct_change = np.random.randint(1,3,size=(2,5))\n",
    "Change_after_calculation = np.zeros_like(pct_change)\n",
    "\n",
    "for p in range(5):\n",
    "    for n in range(2):\n",
    "        if Change[n,p] < 0:\n",
    "            Change_after_calculation[n,p] = (1+pct_change[n,p]) *  Change[n,p]\n",
    "        else:\n",
    "            Change_after_calculation[n,p] = Change[n,p]"
   ]
  },
  {
   "cell_type": "code",
   "execution_count": 130,
   "metadata": {},
   "outputs": [
    {
     "data": {
      "text/plain": [
       "array([[2, 1, 2, 1, 1],\n",
       "       [1, 2, 2, 1, 1]])"
      ]
     },
     "execution_count": 130,
     "metadata": {},
     "output_type": "execute_result"
    }
   ],
   "source": [
    "\n",
    "\\pct_change"
   ]
  },
  {
   "cell_type": "code",
   "execution_count": 131,
   "metadata": {},
   "outputs": [
    {
     "data": {
      "text/plain": [
       "array([[0, 0, 0, 0, 0],\n",
       "       [0, 0, 0, 0, 0]])"
      ]
     },
     "execution_count": 131,
     "metadata": {},
     "output_type": "execute_result"
    }
   ],
   "source": [
    "\n",
    "Change_after_calculation"
   ]
  },
  {
   "cell_type": "code",
   "execution_count": 137,
   "metadata": {},
   "outputs": [],
   "source": [
    "for p in range(5):\n",
    "    for n in range(2):\n",
    "        if Change[n,p] < 0:\n",
    "            Change_after_calculation[n,p] = (1+pct_change[n,p]) *  Change[n,p]\n",
    "        else:\n",
    "            Change_after_calculation[n,p] = Change[n,p]"
   ]
  },
  {
   "cell_type": "code",
   "execution_count": 138,
   "metadata": {},
   "outputs": [
    {
     "data": {
      "text/plain": [
       "array([[ 0, -2,  0,  3,  3],\n",
       "       [ 2, -3,  3,  2, -4]])"
      ]
     },
     "execution_count": 138,
     "metadata": {},
     "output_type": "execute_result"
    }
   ],
   "source": [
    "Change_after_calculation"
   ]
  },
  {
   "cell_type": "code",
   "execution_count": 139,
   "metadata": {},
   "outputs": [
    {
     "data": {
      "text/plain": [
       "array([[ 0, -2,  0,  3,  3],\n",
       "       [ 2, -3,  3,  2, -4]])"
      ]
     },
     "execution_count": 139,
     "metadata": {},
     "output_type": "execute_result"
    }
   ],
   "source": [
    "(Change>=0)*Change +(Change<0)*(pct_change+1)*Change"
   ]
  },
  {
   "cell_type": "code",
   "execution_count": null,
   "metadata": {},
   "outputs": [],
   "source": []
  },
  {
   "cell_type": "code",
   "execution_count": null,
   "metadata": {},
   "outputs": [],
   "source": []
  },
  {
   "cell_type": "code",
   "execution_count": null,
   "metadata": {},
   "outputs": [],
   "source": []
  },
  {
   "cell_type": "code",
   "execution_count": null,
   "metadata": {},
   "outputs": [],
   "source": []
  },
  {
   "cell_type": "code",
   "execution_count": null,
   "metadata": {},
   "outputs": [],
   "source": []
  },
  {
   "cell_type": "code",
   "execution_count": null,
   "metadata": {},
   "outputs": [],
   "source": []
  },
  {
   "cell_type": "code",
   "execution_count": 140,
   "metadata": {},
   "outputs": [],
   "source": [
    "colors  = ['red', 'blue', 'yellow' , 'purple']\n",
    "things = ['apple', 'pickle', 'tomato' , 'rainbow', 'book']\n",
    "\n",
    "corpus = ['i ate a red apple.', 'There are so many colors in the rainbow.', 'the monster was purple and green.', 'the pickle is very green', 'the kid read the book the little red riding hood', 'in the book the wizard of oz there was a yellow brick road.', 'tom has a green thumb and likes working in a garden.' ]"
   ]
  },
  {
   "cell_type": "code",
   "execution_count": 236,
   "metadata": {},
   "outputs": [
    {
     "name": "stdout",
     "output_type": "stream",
     "text": [
      "         0  1  2  3  4  5  6\n",
      "red      1  0  0  0  1  0  0\n",
      "apple    1  0  0  0  0  0  0\n",
      "rainbow  0  1  0  0  0  0  0\n",
      "purple   0  0  1  0  0  0  0\n",
      "pickle   0  0  0  1  0  0  0\n",
      "book     0  0  0  0  1  1  0\n",
      "yellow   0  0  0  0  0  1  0\n"
     ]
    }
   ],
   "source": [
    "from sklearn.feature_extraction.text import CountVectorizer\n",
    "\n",
    "cv = CountVectorizer()\n",
    "out = cv.fit_transform(corpus).toarray() #apply countvectorizer\n",
    "\n",
    "combined = colors+things  #combine all your topics\n",
    "\n",
    "c = [(k,v) for k,v in cv.vocabulary_.items() if k in combined] #get indexes for all the items from all topics\n",
    "\n",
    "cdf = pd.DataFrame(out[:,[i[1] for i in c]], columns=[i[0] for i in c]).T  #Filter cv dataframe for all items\n",
    "\n",
    "print(cdf)"
   ]
  },
  {
   "cell_type": "code",
   "execution_count": 298,
   "metadata": {},
   "outputs": [],
   "source": [
    "def get_similary_table(topic=None):\n",
    "    if topic==None:\n",
    "        df = cdf\n",
    "    else:\n",
    "        df = cdf.loc[cdf.index.isin(topic)]  #filter by topic\n",
    "    cnd = df.values\n",
    "    similarity = cnd.T@cnd #Take dot product to get similarty matrix\n",
    "    dd = pd.DataFrame(similarity, index=corpus, columns=corpus) #convert to a dataframe\n",
    "    return dd"
   ]
  },
  {
   "cell_type": "code",
   "execution_count": 288,
   "metadata": {},
   "outputs": [],
   "source": [
    "def get_similar_review(s, topic):\n",
    "    df = cdf.loc[cdf.index.isin(topic)] #filter by topic\n",
    "    cnd = df.values\n",
    "    similarity = cnd.T@cnd #Take dot product to get similarty matrix\n",
    "    np.fill_diagonal(similarity,0) #set diagonal elements to 0, to avoid same sentence being returned as output\n",
    "    dd = pd.DataFrame(similarity, index=corpus, columns=corpus) #convert to a dataframe\n",
    "    return dd.loc[s].idxmax(axis=0) #filter by sentence and get column name with max value"
   ]
  },
  {
   "cell_type": "code",
   "execution_count": 285,
   "metadata": {},
   "outputs": [
    {
     "data": {
      "text/plain": [
       "'the kid read the book the little red riding hood'"
      ]
     },
     "execution_count": 285,
     "metadata": {},
     "output_type": "execute_result"
    }
   ],
   "source": [
    "s = 'i ate a red apple.'\n",
    "get_similar(s, colors)"
   ]
  },
  {
   "cell_type": "code",
   "execution_count": 286,
   "metadata": {},
   "outputs": [
    {
     "data": {
      "text/plain": [
       "'in the book the wizard of oz there was a yellow brick road.'"
      ]
     },
     "execution_count": 286,
     "metadata": {},
     "output_type": "execute_result"
    }
   ],
   "source": [
    "s = 'the kid read the book the little red riding hood'\n",
    "get_similar(s, things)"
   ]
  },
  {
   "cell_type": "code",
   "execution_count": 299,
   "metadata": {},
   "outputs": [
    {
     "data": {
      "text/html": [
       "<div>\n",
       "<style scoped>\n",
       "    .dataframe tbody tr th:only-of-type {\n",
       "        vertical-align: middle;\n",
       "    }\n",
       "\n",
       "    .dataframe tbody tr th {\n",
       "        vertical-align: top;\n",
       "    }\n",
       "\n",
       "    .dataframe thead th {\n",
       "        text-align: right;\n",
       "    }\n",
       "</style>\n",
       "<table border=\"1\" class=\"dataframe\">\n",
       "  <thead>\n",
       "    <tr style=\"text-align: right;\">\n",
       "      <th></th>\n",
       "      <th>i ate a red apple.</th>\n",
       "      <th>There are so many colors in the rainbow.</th>\n",
       "      <th>the monster was purple and green.</th>\n",
       "      <th>the pickle is very green</th>\n",
       "      <th>the kid read the book the little red riding hood</th>\n",
       "      <th>in the book the wizard of oz there was a yellow brick road.</th>\n",
       "      <th>tom has a green thumb and likes working in a garden.</th>\n",
       "    </tr>\n",
       "  </thead>\n",
       "  <tbody>\n",
       "    <tr>\n",
       "      <th>i ate a red apple.</th>\n",
       "      <td>2</td>\n",
       "      <td>0</td>\n",
       "      <td>0</td>\n",
       "      <td>0</td>\n",
       "      <td>1</td>\n",
       "      <td>0</td>\n",
       "      <td>0</td>\n",
       "    </tr>\n",
       "    <tr>\n",
       "      <th>There are so many colors in the rainbow.</th>\n",
       "      <td>0</td>\n",
       "      <td>1</td>\n",
       "      <td>0</td>\n",
       "      <td>0</td>\n",
       "      <td>0</td>\n",
       "      <td>0</td>\n",
       "      <td>0</td>\n",
       "    </tr>\n",
       "    <tr>\n",
       "      <th>the monster was purple and green.</th>\n",
       "      <td>0</td>\n",
       "      <td>0</td>\n",
       "      <td>1</td>\n",
       "      <td>0</td>\n",
       "      <td>0</td>\n",
       "      <td>0</td>\n",
       "      <td>0</td>\n",
       "    </tr>\n",
       "    <tr>\n",
       "      <th>the pickle is very green</th>\n",
       "      <td>0</td>\n",
       "      <td>0</td>\n",
       "      <td>0</td>\n",
       "      <td>1</td>\n",
       "      <td>0</td>\n",
       "      <td>0</td>\n",
       "      <td>0</td>\n",
       "    </tr>\n",
       "    <tr>\n",
       "      <th>the kid read the book the little red riding hood</th>\n",
       "      <td>1</td>\n",
       "      <td>0</td>\n",
       "      <td>0</td>\n",
       "      <td>0</td>\n",
       "      <td>2</td>\n",
       "      <td>1</td>\n",
       "      <td>0</td>\n",
       "    </tr>\n",
       "    <tr>\n",
       "      <th>in the book the wizard of oz there was a yellow brick road.</th>\n",
       "      <td>0</td>\n",
       "      <td>0</td>\n",
       "      <td>0</td>\n",
       "      <td>0</td>\n",
       "      <td>1</td>\n",
       "      <td>2</td>\n",
       "      <td>0</td>\n",
       "    </tr>\n",
       "    <tr>\n",
       "      <th>tom has a green thumb and likes working in a garden.</th>\n",
       "      <td>0</td>\n",
       "      <td>0</td>\n",
       "      <td>0</td>\n",
       "      <td>0</td>\n",
       "      <td>0</td>\n",
       "      <td>0</td>\n",
       "      <td>0</td>\n",
       "    </tr>\n",
       "  </tbody>\n",
       "</table>\n",
       "</div>"
      ],
      "text/plain": [
       "                                                    i ate a red apple.  \\\n",
       "i ate a red apple.                                                   2   \n",
       "There are so many colors in the rainbow.                             0   \n",
       "the monster was purple and green.                                    0   \n",
       "the pickle is very green                                             0   \n",
       "the kid read the book the little red riding hood                     1   \n",
       "in the book the wizard of oz there was a yellow...                   0   \n",
       "tom has a green thumb and likes working in a ga...                   0   \n",
       "\n",
       "                                                    There are so many colors in the rainbow.  \\\n",
       "i ate a red apple.                                                                         0   \n",
       "There are so many colors in the rainbow.                                                   1   \n",
       "the monster was purple and green.                                                          0   \n",
       "the pickle is very green                                                                   0   \n",
       "the kid read the book the little red riding hood                                           0   \n",
       "in the book the wizard of oz there was a yellow...                                         0   \n",
       "tom has a green thumb and likes working in a ga...                                         0   \n",
       "\n",
       "                                                    the monster was purple and green.  \\\n",
       "i ate a red apple.                                                                  0   \n",
       "There are so many colors in the rainbow.                                            0   \n",
       "the monster was purple and green.                                                   1   \n",
       "the pickle is very green                                                            0   \n",
       "the kid read the book the little red riding hood                                    0   \n",
       "in the book the wizard of oz there was a yellow...                                  0   \n",
       "tom has a green thumb and likes working in a ga...                                  0   \n",
       "\n",
       "                                                    the pickle is very green  \\\n",
       "i ate a red apple.                                                         0   \n",
       "There are so many colors in the rainbow.                                   0   \n",
       "the monster was purple and green.                                          0   \n",
       "the pickle is very green                                                   1   \n",
       "the kid read the book the little red riding hood                           0   \n",
       "in the book the wizard of oz there was a yellow...                         0   \n",
       "tom has a green thumb and likes working in a ga...                         0   \n",
       "\n",
       "                                                    the kid read the book the little red riding hood  \\\n",
       "i ate a red apple.                                                                                 1   \n",
       "There are so many colors in the rainbow.                                                           0   \n",
       "the monster was purple and green.                                                                  0   \n",
       "the pickle is very green                                                                           0   \n",
       "the kid read the book the little red riding hood                                                   2   \n",
       "in the book the wizard of oz there was a yellow...                                                 1   \n",
       "tom has a green thumb and likes working in a ga...                                                 0   \n",
       "\n",
       "                                                    in the book the wizard of oz there was a yellow brick road.  \\\n",
       "i ate a red apple.                                                                                  0             \n",
       "There are so many colors in the rainbow.                                                            0             \n",
       "the monster was purple and green.                                                                   0             \n",
       "the pickle is very green                                                                            0             \n",
       "the kid read the book the little red riding hood                                                    1             \n",
       "in the book the wizard of oz there was a yellow...                                                  2             \n",
       "tom has a green thumb and likes working in a ga...                                                  0             \n",
       "\n",
       "                                                    tom has a green thumb and likes working in a garden.  \n",
       "i ate a red apple.                                                                                  0     \n",
       "There are so many colors in the rainbow.                                                            0     \n",
       "the monster was purple and green.                                                                   0     \n",
       "the pickle is very green                                                                            0     \n",
       "the kid read the book the little red riding hood                                                    0     \n",
       "in the book the wizard of oz there was a yellow...                                                  0     \n",
       "tom has a green thumb and likes working in a ga...                                                  0     "
      ]
     },
     "execution_count": 299,
     "metadata": {},
     "output_type": "execute_result"
    }
   ],
   "source": [
    "get_similary_table()"
   ]
  },
  {
   "cell_type": "code",
   "execution_count": null,
   "metadata": {},
   "outputs": [],
   "source": []
  },
  {
   "cell_type": "code",
   "execution_count": null,
   "metadata": {},
   "outputs": [],
   "source": []
  },
  {
   "cell_type": "code",
   "execution_count": null,
   "metadata": {},
   "outputs": [],
   "source": []
  },
  {
   "cell_type": "code",
   "execution_count": null,
   "metadata": {},
   "outputs": [],
   "source": []
  },
  {
   "cell_type": "code",
   "execution_count": null,
   "metadata": {},
   "outputs": [],
   "source": []
  },
  {
   "cell_type": "code",
   "execution_count": 331,
   "metadata": {},
   "outputs": [
    {
     "name": "stdout",
     "output_type": "stream",
     "text": [
      "   A  B  C\n",
      "0  1  2  2\n",
      "1  3  4  5\n"
     ]
    }
   ],
   "source": [
    "a = pd.DataFrame([[1,2,2],[3,4,5]], columns=['A','B','C'])\n",
    "print(a)"
   ]
  },
  {
   "cell_type": "code",
   "execution_count": 337,
   "metadata": {},
   "outputs": [
    {
     "data": {
      "text/plain": [
       "<pandas.core.groupby.generic.DataFrameGroupBy object at 0x109cfd8d0>"
      ]
     },
     "execution_count": 337,
     "metadata": {},
     "output_type": "execute_result"
    }
   ],
   "source": [
    "grp = a.groupby([True]*len(a))\n",
    "grp"
   ]
  },
  {
   "cell_type": "code",
   "execution_count": null,
   "metadata": {},
   "outputs": [],
   "source": []
  },
  {
   "cell_type": "code",
   "execution_count": null,
   "metadata": {},
   "outputs": [],
   "source": []
  },
  {
   "cell_type": "code",
   "execution_count": null,
   "metadata": {},
   "outputs": [],
   "source": []
  },
  {
   "cell_type": "code",
   "execution_count": null,
   "metadata": {},
   "outputs": [],
   "source": []
  },
  {
   "cell_type": "code",
   "execution_count": 349,
   "metadata": {},
   "outputs": [],
   "source": []
  },
  {
   "cell_type": "code",
   "execution_count": 406,
   "metadata": {},
   "outputs": [
    {
     "name": "stdout",
     "output_type": "stream",
     "text": [
      "        x       y    \n",
      "index CAN USA CAN USA\n",
      "time                 \n",
      "1       2   5   2  10\n",
      "2       2   5   3  12\n",
      "3       4   6   5  13\n"
     ]
    }
   ],
   "source": [
    "data = np.array([['country','time','x','y'],\n",
    "                ['USA',1, 5, 10],\n",
    "                ['USA',2, 5, 12],\n",
    "                ['USA',3,6, 13],\n",
    "                ['CAN',1,2, 2],\n",
    "                ['CAN',2,2, 3],\n",
    "                ['CAN',3,4, 5]],                \n",
    "               )\n",
    "\n",
    "df = pd.DataFrame(data=data[1:,1:],\n",
    "                  index=data[1:,0],\n",
    "                  columns=data[0,1:])\n",
    "\n",
    "df1 = df.reset_index().set_index(['time','index']).unstack(-1)\n",
    "print(df1)"
   ]
  },
  {
   "cell_type": "code",
   "execution_count": 386,
   "metadata": {},
   "outputs": [],
   "source": []
  },
  {
   "cell_type": "code",
   "execution_count": 387,
   "metadata": {},
   "outputs": [],
   "source": [
    "#df1.columns = df1.columns.map('_'.join)"
   ]
  },
  {
   "cell_type": "code",
   "execution_count": 388,
   "metadata": {},
   "outputs": [
    {
     "data": {
      "text/html": [
       "<div>\n",
       "<style scoped>\n",
       "    .dataframe tbody tr th:only-of-type {\n",
       "        vertical-align: middle;\n",
       "    }\n",
       "\n",
       "    .dataframe tbody tr th {\n",
       "        vertical-align: top;\n",
       "    }\n",
       "\n",
       "    .dataframe thead tr th {\n",
       "        text-align: left;\n",
       "    }\n",
       "\n",
       "    .dataframe thead tr:last-of-type th {\n",
       "        text-align: right;\n",
       "    }\n",
       "</style>\n",
       "<table border=\"1\" class=\"dataframe\">\n",
       "  <thead>\n",
       "    <tr>\n",
       "      <th></th>\n",
       "      <th colspan=\"2\" halign=\"left\">x</th>\n",
       "      <th colspan=\"2\" halign=\"left\">y</th>\n",
       "    </tr>\n",
       "    <tr>\n",
       "      <th>index</th>\n",
       "      <th>CAN</th>\n",
       "      <th>USA</th>\n",
       "      <th>CAN</th>\n",
       "      <th>USA</th>\n",
       "    </tr>\n",
       "    <tr>\n",
       "      <th>time</th>\n",
       "      <th></th>\n",
       "      <th></th>\n",
       "      <th></th>\n",
       "      <th></th>\n",
       "    </tr>\n",
       "  </thead>\n",
       "  <tbody>\n",
       "    <tr>\n",
       "      <th>1</th>\n",
       "      <td>2</td>\n",
       "      <td>5</td>\n",
       "      <td>2</td>\n",
       "      <td>10</td>\n",
       "    </tr>\n",
       "    <tr>\n",
       "      <th>2</th>\n",
       "      <td>2</td>\n",
       "      <td>5</td>\n",
       "      <td>3</td>\n",
       "      <td>12</td>\n",
       "    </tr>\n",
       "    <tr>\n",
       "      <th>3</th>\n",
       "      <td>4</td>\n",
       "      <td>6</td>\n",
       "      <td>5</td>\n",
       "      <td>13</td>\n",
       "    </tr>\n",
       "  </tbody>\n",
       "</table>\n",
       "</div>"
      ],
      "text/plain": [
       "        x       y    \n",
       "index CAN USA CAN USA\n",
       "time                 \n",
       "1       2   5   2  10\n",
       "2       2   5   3  12\n",
       "3       4   6   5  13"
      ]
     },
     "execution_count": 388,
     "metadata": {},
     "output_type": "execute_result"
    }
   ],
   "source": [
    "df1"
   ]
  },
  {
   "cell_type": "code",
   "execution_count": 389,
   "metadata": {},
   "outputs": [],
   "source": [
    "from sklearn.model_selection import TimeSeriesSplit\n",
    "tscv = TimeSeriesSplit(n_splits = 2, max_train_size=3)\n",
    "\n",
    "for train_index, test_index in tscv.split(df1):\n",
    "    print(\"TRAIN:\", train_index, \"TEST:\", test_index)\n",
    "    X_train, X_test = df1.iloc[train_index].stack(-1).reset_index()[X_cols].to_numpy(), df1.iloc[test_index].stack(-1).reset_index()[X_cols].to_numpy()\n",
    "    y_train, y_test = df1.iloc[train_index].stack(-1).reset_index()[y_cols].to_numpy(), df1.iloc[test_index].stack(-1).reset_index()[y_cols].to_numpy()"
   ]
  },
  {
   "cell_type": "code",
   "execution_count": 394,
   "metadata": {},
   "outputs": [
    {
     "data": {
      "text/html": [
       "<div>\n",
       "<style scoped>\n",
       "    .dataframe tbody tr th:only-of-type {\n",
       "        vertical-align: middle;\n",
       "    }\n",
       "\n",
       "    .dataframe tbody tr th {\n",
       "        vertical-align: top;\n",
       "    }\n",
       "\n",
       "    .dataframe thead tr th {\n",
       "        text-align: left;\n",
       "    }\n",
       "\n",
       "    .dataframe thead tr:last-of-type th {\n",
       "        text-align: right;\n",
       "    }\n",
       "</style>\n",
       "<table border=\"1\" class=\"dataframe\">\n",
       "  <thead>\n",
       "    <tr>\n",
       "      <th></th>\n",
       "      <th colspan=\"2\" halign=\"left\">x</th>\n",
       "      <th colspan=\"2\" halign=\"left\">y</th>\n",
       "    </tr>\n",
       "    <tr>\n",
       "      <th>index</th>\n",
       "      <th>CAN</th>\n",
       "      <th>USA</th>\n",
       "      <th>CAN</th>\n",
       "      <th>USA</th>\n",
       "    </tr>\n",
       "    <tr>\n",
       "      <th>time</th>\n",
       "      <th></th>\n",
       "      <th></th>\n",
       "      <th></th>\n",
       "      <th></th>\n",
       "    </tr>\n",
       "  </thead>\n",
       "  <tbody>\n",
       "    <tr>\n",
       "      <th>1</th>\n",
       "      <td>2</td>\n",
       "      <td>5</td>\n",
       "      <td>2</td>\n",
       "      <td>10</td>\n",
       "    </tr>\n",
       "    <tr>\n",
       "      <th>2</th>\n",
       "      <td>2</td>\n",
       "      <td>5</td>\n",
       "      <td>3</td>\n",
       "      <td>12</td>\n",
       "    </tr>\n",
       "    <tr>\n",
       "      <th>3</th>\n",
       "      <td>4</td>\n",
       "      <td>6</td>\n",
       "      <td>5</td>\n",
       "      <td>13</td>\n",
       "    </tr>\n",
       "  </tbody>\n",
       "</table>\n",
       "</div>"
      ],
      "text/plain": [
       "        x       y    \n",
       "index CAN USA CAN USA\n",
       "time                 \n",
       "1       2   5   2  10\n",
       "2       2   5   3  12\n",
       "3       4   6   5  13"
      ]
     },
     "execution_count": 394,
     "metadata": {},
     "output_type": "execute_result"
    }
   ],
   "source": [
    "df1"
   ]
  },
  {
   "cell_type": "code",
   "execution_count": 400,
   "metadata": {},
   "outputs": [],
   "source": [
    "X_cols = ['time', 'index', 'x']\n",
    "y_cols = ['y']"
   ]
  },
  {
   "cell_type": "code",
   "execution_count": 413,
   "metadata": {},
   "outputs": [
    {
     "name": "stdout",
     "output_type": "stream",
     "text": [
      "For - TRAIN: [0 1] TEST: [2]\n",
      " \n",
      "X_train:\n",
      "[['1' 'CAN' '2']\n",
      " ['1' 'USA' '5']\n",
      " ['2' 'CAN' '2']\n",
      " ['2' 'USA' '5']]\n",
      " \n",
      "X_test:\n",
      "[['3' 'CAN' '4']\n",
      " ['3' 'USA' '6']]\n",
      " \n",
      "y_train:\n",
      "[['2']\n",
      " ['10']\n",
      " ['3']\n",
      " ['12']]\n",
      " \n",
      "y_test:\n",
      "[['5']\n",
      " ['13']]\n"
     ]
    }
   ],
   "source": [
    "print('For - TRAIN: [0 1] TEST: [2]')\n",
    "print(\" \")\n",
    "print(\"X_train:\")\n",
    "print(X_train)\n",
    "print(\" \")\n",
    "print(\"X_test:\")\n",
    "print(X_test)\n",
    "print(\" \")\n",
    "print(\"y_train:\")\n",
    "print(y_train)\n",
    "print(\" \")\n",
    "print(\"y_test:\")\n",
    "print(y_test)"
   ]
  },
  {
   "cell_type": "code",
   "execution_count": null,
   "metadata": {},
   "outputs": [],
   "source": []
  },
  {
   "cell_type": "code",
   "execution_count": null,
   "metadata": {},
   "outputs": [],
   "source": []
  },
  {
   "cell_type": "code",
   "execution_count": 441,
   "metadata": {},
   "outputs": [
    {
     "name": "stdout",
     "output_type": "stream",
     "text": [
      "[['MikeF', '0', '0', '0', '0', '0', '0', '0', '0', '0', '0', '0', '0', '0', '0'], ['Bobby', '0', '0', '0', '0', '1', '1', '0', '0', '0', '0', '0', '1', '1', '0'], ['Felicia', '0', '0', '1', '0', '1', '0', '0', '0', '0', '1', '0', '1', '0', '0'], ['Shannon', '0', '1', '0', '0', '1', '0', '0', '0', '0', '1', '0', '1', '0', '0'], ['Jake', '0', '1', '1', '1', '1', '1', '0', '0', '0', '0', '0', '0', '0', '0'], ['MikeP', '0', '0', '1', '0', '1', '0', '0', '0', '1', '1', '0', '1', '0', '0'], ['Adam', '0', '1', '0', '1', '0', '1', '0', '0', '1', '0', '1', '0', '1', '0'], ['Tom', '0', '1', '1', '1', '1', '0', '0', '0', '1', '1', '1', '1', '0', '0']]\n"
     ]
    }
   ],
   "source": [
    "print(sorted(mylist, key=lambda x: x.count('0'), reverse=True))"
   ]
  },
  {
   "cell_type": "code",
   "execution_count": null,
   "metadata": {},
   "outputs": [],
   "source": []
  },
  {
   "cell_type": "code",
   "execution_count": null,
   "metadata": {},
   "outputs": [],
   "source": []
  },
  {
   "cell_type": "code",
   "execution_count": null,
   "metadata": {},
   "outputs": [],
   "source": []
  },
  {
   "cell_type": "code",
   "execution_count": null,
   "metadata": {},
   "outputs": [],
   "source": []
  },
  {
   "cell_type": "code",
   "execution_count": 442,
   "metadata": {},
   "outputs": [
    {
     "name": "stdout",
     "output_type": "stream",
     "text": [
      "     ID   Name   LE\n",
      "0   111  David  AAA\n",
      "1   222   Carl  AAA\n",
      "2   222   Carl  BBB\n",
      "3   333   Jane  BBB\n",
      "4   333   Jane  CCC\n",
      "5   444   Mike  AAA\n",
      "6   444   Mike  BBB\n",
      "7   444   Mike  CCC\n",
      "8   555   Jake  AAA\n",
      "9   555   Jake  BBB\n",
      "10  555   Jake  CCC\n",
      "11  555   Jake  DDD\n"
     ]
    }
   ],
   "source": [
    "import pandas as pd\n",
    "\n",
    "df = pd.DataFrame({'ID': [111, 222, 222, 333, 333, 444, 444, 444, 555, 555, 555, 555], \n",
    "                   'Name': ['David','Carl','Carl','Jane','Jane','Mike','Mike','Mike','Jake','Jake','Jake','Jake'],\n",
    "                  'LE': ['AAA','AAA','BBB','BBB','CCC','AAA','BBB','CCC','AAA','BBB','CCC','DDD']})\n",
    "\n",
    "print(df)"
   ]
  },
  {
   "cell_type": "code",
   "execution_count": 469,
   "metadata": {},
   "outputs": [
    {
     "name": "stdout",
     "output_type": "stream",
     "text": [
      "    ID   Name   LE\n",
      "0  111  David  AAA\n",
      "1  222   Carl  BBB\n",
      "2  333   Jane  BBB\n",
      "3  333   Jane  CCC\n",
      "4  444   Mike  BBB\n",
      "5  444   Mike  CCC\n",
      "6  555   Jake  BBB\n",
      "7  555   Jake  CCC\n",
      "8  555   Jake  DDD\n"
     ]
    }
   ],
   "source": [
    "print(df[~(df.duplicated(['LE']) & (df['LE']=='AAA'))].reset_index(drop=True))"
   ]
  },
  {
   "cell_type": "code",
   "execution_count": null,
   "metadata": {},
   "outputs": [],
   "source": []
  },
  {
   "cell_type": "code",
   "execution_count": null,
   "metadata": {},
   "outputs": [],
   "source": [
    "ID  |State  |Invoice|Price|Email \n",
    "1000|Texas  |1      |2    |texas@test.com\n",
    "1000|Texas  |2      |5    |texas@test.com\n",
    "1001|Alabama|3      |4    |alabama@test.com\n",
    "1000|Texas  |4      |8    |texas@test.com\n",
    "1002|Georgia|5      |3    |georgia@test.com\n",
    "1001|Alabama|6      |6    |alabama@test.com"
   ]
  },
  {
   "cell_type": "code",
   "execution_count": 471,
   "metadata": {},
   "outputs": [],
   "source": [
    "df = pd.DataFrame({'ID':[1000,1000,1001,1000,1002,1001],\n",
    " 'State':['Texas','Texas','Alabama','Texas','Georgia','Alabama'],\n",
    "'Invoice':[1,2,3,4,5,6],\n",
    "'Price':[2,5,4,8,3,6],\n",
    "'Email':['texas@test.com','texas@test.com','alabama@test.com','texas@test.com','georgia@test.com','alabama@test.com']})"
   ]
  },
  {
   "cell_type": "code",
   "execution_count": 479,
   "metadata": {},
   "outputs": [],
   "source": [
    "df1, df2, df3 = [i[1] for i in df.groupby(['ID'])]"
   ]
  },
  {
   "cell_type": "code",
   "execution_count": 485,
   "metadata": {},
   "outputs": [
    {
     "name": "stdout",
     "output_type": "stream",
     "text": [
      "     ID    State  Invoice  Price             Email\n",
      "4  1002  Georgia        5      3  georgia@test.com\n"
     ]
    }
   ],
   "source": [
    "print(df3)"
   ]
  },
  {
   "cell_type": "code",
   "execution_count": null,
   "metadata": {},
   "outputs": [],
   "source": []
  },
  {
   "cell_type": "code",
   "execution_count": 493,
   "metadata": {},
   "outputs": [],
   "source": [
    "df1, df2, df3 = [df[df['ID']==i] for i in df['ID'].unique()]"
   ]
  },
  {
   "cell_type": "code",
   "execution_count": 496,
   "metadata": {},
   "outputs": [
    {
     "data": {
      "text/html": [
       "<div>\n",
       "<style scoped>\n",
       "    .dataframe tbody tr th:only-of-type {\n",
       "        vertical-align: middle;\n",
       "    }\n",
       "\n",
       "    .dataframe tbody tr th {\n",
       "        vertical-align: top;\n",
       "    }\n",
       "\n",
       "    .dataframe thead th {\n",
       "        text-align: right;\n",
       "    }\n",
       "</style>\n",
       "<table border=\"1\" class=\"dataframe\">\n",
       "  <thead>\n",
       "    <tr style=\"text-align: right;\">\n",
       "      <th></th>\n",
       "      <th>ID</th>\n",
       "      <th>State</th>\n",
       "      <th>Invoice</th>\n",
       "      <th>Price</th>\n",
       "      <th>Email</th>\n",
       "    </tr>\n",
       "  </thead>\n",
       "  <tbody>\n",
       "    <tr>\n",
       "      <th>4</th>\n",
       "      <td>1002</td>\n",
       "      <td>Georgia</td>\n",
       "      <td>5</td>\n",
       "      <td>3</td>\n",
       "      <td>georgia@test.com</td>\n",
       "    </tr>\n",
       "  </tbody>\n",
       "</table>\n",
       "</div>"
      ],
      "text/plain": [
       "     ID    State  Invoice  Price             Email\n",
       "4  1002  Georgia        5      3  georgia@test.com"
      ]
     },
     "execution_count": 496,
     "metadata": {},
     "output_type": "execute_result"
    }
   ],
   "source": [
    "df3"
   ]
  },
  {
   "cell_type": "code",
   "execution_count": null,
   "metadata": {},
   "outputs": [],
   "source": []
  },
  {
   "cell_type": "code",
   "execution_count": null,
   "metadata": {},
   "outputs": [],
   "source": []
  },
  {
   "cell_type": "code",
   "execution_count": 507,
   "metadata": {},
   "outputs": [
    {
     "data": {
      "text/html": [
       "<div>\n",
       "<style scoped>\n",
       "    .dataframe tbody tr th:only-of-type {\n",
       "        vertical-align: middle;\n",
       "    }\n",
       "\n",
       "    .dataframe tbody tr th {\n",
       "        vertical-align: top;\n",
       "    }\n",
       "\n",
       "    .dataframe thead th {\n",
       "        text-align: right;\n",
       "    }\n",
       "</style>\n",
       "<table border=\"1\" class=\"dataframe\">\n",
       "  <thead>\n",
       "    <tr style=\"text-align: right;\">\n",
       "      <th></th>\n",
       "      <th>ID</th>\n",
       "      <th>State</th>\n",
       "      <th>Invoice</th>\n",
       "      <th>Price</th>\n",
       "      <th>Email</th>\n",
       "    </tr>\n",
       "  </thead>\n",
       "  <tbody>\n",
       "    <tr>\n",
       "      <th>0</th>\n",
       "      <td>1000</td>\n",
       "      <td>Texas</td>\n",
       "      <td>1</td>\n",
       "      <td>2</td>\n",
       "      <td>texas@test.com</td>\n",
       "    </tr>\n",
       "    <tr>\n",
       "      <th>1</th>\n",
       "      <td>1000</td>\n",
       "      <td>Texas</td>\n",
       "      <td>2</td>\n",
       "      <td>5</td>\n",
       "      <td>texas@test.com</td>\n",
       "    </tr>\n",
       "    <tr>\n",
       "      <th>2</th>\n",
       "      <td>1001</td>\n",
       "      <td>Alabama</td>\n",
       "      <td>3</td>\n",
       "      <td>4</td>\n",
       "      <td>alabama@test.com</td>\n",
       "    </tr>\n",
       "    <tr>\n",
       "      <th>3</th>\n",
       "      <td>1000</td>\n",
       "      <td>Texas</td>\n",
       "      <td>4</td>\n",
       "      <td>8</td>\n",
       "      <td>texas@test.com</td>\n",
       "    </tr>\n",
       "    <tr>\n",
       "      <th>4</th>\n",
       "      <td>1002</td>\n",
       "      <td>Georgia</td>\n",
       "      <td>5</td>\n",
       "      <td>3</td>\n",
       "      <td>georgia@test.com</td>\n",
       "    </tr>\n",
       "    <tr>\n",
       "      <th>5</th>\n",
       "      <td>1001</td>\n",
       "      <td>Alabama</td>\n",
       "      <td>6</td>\n",
       "      <td>6</td>\n",
       "      <td>alabama@test.com</td>\n",
       "    </tr>\n",
       "  </tbody>\n",
       "</table>\n",
       "</div>"
      ],
      "text/plain": [
       "     ID    State  Invoice  Price             Email\n",
       "0  1000    Texas        1      2    texas@test.com\n",
       "1  1000    Texas        2      5    texas@test.com\n",
       "2  1001  Alabama        3      4  alabama@test.com\n",
       "3  1000    Texas        4      8    texas@test.com\n",
       "4  1002  Georgia        5      3  georgia@test.com\n",
       "5  1001  Alabama        6      6  alabama@test.com"
      ]
     },
     "execution_count": 507,
     "metadata": {},
     "output_type": "execute_result"
    }
   ],
   "source": [
    "df"
   ]
  },
  {
   "cell_type": "code",
   "execution_count": null,
   "metadata": {},
   "outputs": [],
   "source": []
  },
  {
   "cell_type": "code",
   "execution_count": null,
   "metadata": {},
   "outputs": [],
   "source": []
  },
  {
   "cell_type": "code",
   "execution_count": 509,
   "metadata": {},
   "outputs": [],
   "source": [
    "a = np.array([0, 1, 2, 10, 11, 20, 21, 22, 23])\n",
    "chunks = np.array([3, 2, 4])\n",
    "repeats = np.array([1, 3, 2])"
   ]
  },
  {
   "cell_type": "code",
   "execution_count": 518,
   "metadata": {},
   "outputs": [
    {
     "data": {
      "text/plain": [
       "array([ 0,  1,  2, 10, 11, 20, 21, 22, 23])"
      ]
     },
     "execution_count": 518,
     "metadata": {},
     "output_type": "execute_result"
    }
   ],
   "source": [
    "a"
   ]
  },
  {
   "cell_type": "code",
   "execution_count": 531,
   "metadata": {},
   "outputs": [
    {
     "data": {
      "text/plain": [
       "array([ 0,  1,  2, 10, 11, 20, 21, 22, 23])"
      ]
     },
     "execution_count": 531,
     "metadata": {},
     "output_type": "execute_result"
    }
   ],
   "source": [
    "a"
   ]
  },
  {
   "cell_type": "code",
   "execution_count": null,
   "metadata": {},
   "outputs": [],
   "source": []
  },
  {
   "cell_type": "code",
   "execution_count": null,
   "metadata": {},
   "outputs": [],
   "source": []
  },
  {
   "cell_type": "code",
   "execution_count": 577,
   "metadata": {},
   "outputs": [],
   "source": [
    "a = np.random.randint(0,50, size=(100000,))\n",
    "chunks = np.random.randint(0,10, size=(4000,))\n",
    "repeats = np.random.randint(0,10, size=(4000,))"
   ]
  },
  {
   "cell_type": "code",
   "execution_count": 578,
   "metadata": {},
   "outputs": [],
   "source": [
    "def create_ranges(starts, ends, l):\n",
    "        clens = l.cumsum()\n",
    "        ids = np.ones(clens[-1],dtype=int)\n",
    "        ids[0] = starts[0]\n",
    "        ids[clens[:-1]] = starts[1:] - ends[:-1]+1\n",
    "        out = ids.cumsum()\n",
    "        return out\n",
    "\n",
    "def f():\n",
    "    s = np.r_[0,chunks.cumsum()]\n",
    "    starts = a[np.repeat(s[:-1],repeats)]\n",
    "    l = np.repeat(chunks, repeats)\n",
    "    ends = starts+l\n",
    "    out = create_ranges(starts, ends, l)"
   ]
  },
  {
   "cell_type": "code",
   "execution_count": 579,
   "metadata": {},
   "outputs": [
    {
     "name": "stdout",
     "output_type": "stream",
     "text": [
      "595 µs ± 59.3 µs per loop (mean ± std. dev. of 7 runs, 1000 loops each)\n"
     ]
    }
   ],
   "source": [
    "#Divakar\n",
    "%timeit f()"
   ]
  },
  {
   "cell_type": "code",
   "execution_count": 580,
   "metadata": {},
   "outputs": [
    {
     "name": "stdout",
     "output_type": "stream",
     "text": [
      "8.03 ms ± 152 µs per loop (mean ± std. dev. of 7 runs, 100 loops each)\n"
     ]
    }
   ],
   "source": [
    "#Akshay\n",
    "%timeit np.concatenate(np.repeat(np.split(a, np.cumsum(chunks))[:-1], repeats))"
   ]
  },
  {
   "cell_type": "code",
   "execution_count": 581,
   "metadata": {},
   "outputs": [
    {
     "name": "stdout",
     "output_type": "stream",
     "text": [
      "25.9 ms ± 1.23 ms per loop (mean ± std. dev. of 7 runs, 10 loops each)\n"
     ]
    }
   ],
   "source": [
    "#Vladi\n",
    "%timeit result = np.concatenate([ np.tile(tbl, rpt) for tbl, rpt in zip(np.split(a, np.cumsum(chunks[:-1])), repeats) ])"
   ]
  },
  {
   "cell_type": "code",
   "execution_count": null,
   "metadata": {},
   "outputs": [],
   "source": []
  },
  {
   "cell_type": "code",
   "execution_count": 571,
   "metadata": {},
   "outputs": [],
   "source": []
  },
  {
   "cell_type": "code",
   "execution_count": 603,
   "metadata": {},
   "outputs": [],
   "source": [
    "import itertools\n",
    "\n",
    "w = np.random.randint(1,400,size=1000) #np.array([1, 2, 3, 4])\n",
    "x = np.random.randint(1,400,size=1000) #np.array([1, 2, 3, 4])"
   ]
  },
  {
   "cell_type": "code",
   "execution_count": 605,
   "metadata": {},
   "outputs": [],
   "source": [
    "#[i for i in itertools.product(w,x) if i[0]<i[1]]"
   ]
  },
  {
   "cell_type": "code",
   "execution_count": 606,
   "metadata": {},
   "outputs": [
    {
     "name": "stdout",
     "output_type": "stream",
     "text": [
      "128 ms ± 1.37 ms per loop (mean ± std. dev. of 7 runs, 10 loops each)\n"
     ]
    }
   ],
   "source": [
    "%timeit [i for i in itertools.product(w,x) if i[0]<i[1]]"
   ]
  },
  {
   "cell_type": "code",
   "execution_count": 607,
   "metadata": {},
   "outputs": [
    {
     "name": "stdout",
     "output_type": "stream",
     "text": [
      "12.4 ms ± 18 µs per loop (mean ± std. dev. of 7 runs, 100 loops each)\n"
     ]
    }
   ],
   "source": [
    "def f():\n",
    "    r,c = np.nonzero(w[:,None]<x) # or np.less.outer(w,x)\n",
    "    np.c_[w[r], x[c]]\n",
    "    \n",
    "%timeit f()"
   ]
  },
  {
   "cell_type": "code",
   "execution_count": 612,
   "metadata": {},
   "outputs": [],
   "source": [
    "a = np.array([0,0,1,1,2,0])"
   ]
  },
  {
   "cell_type": "code",
   "execution_count": 617,
   "metadata": {},
   "outputs": [
    {
     "data": {
      "text/plain": [
       "array([[2],\n",
       "       [3],\n",
       "       [4]])"
      ]
     },
     "execution_count": 617,
     "metadata": {},
     "output_type": "execute_result"
    }
   ],
   "source": [
    "np.transpose(np.nonzero(a))"
   ]
  },
  {
   "cell_type": "code",
   "execution_count": 618,
   "metadata": {},
   "outputs": [],
   "source": []
  },
  {
   "cell_type": "code",
   "execution_count": 621,
   "metadata": {},
   "outputs": [],
   "source": []
  },
  {
   "cell_type": "code",
   "execution_count": 637,
   "metadata": {},
   "outputs": [
    {
     "data": {
      "text/plain": [
       "<10000x10000 sparse matrix of type '<class 'numpy.float64'>'\n",
       "\twith 10000 stored elements in Compressed Sparse Row format>"
      ]
     },
     "execution_count": 637,
     "metadata": {},
     "output_type": "execute_result"
    }
   ],
   "source": [
    "import scipy\n",
    "import pickle\n",
    "\n",
    "I = np.eye(10000)  #Had 10000 nonzero values along diagonal\n",
    "S = scipy.sparse.csr_matrix(I)\n",
    "S"
   ]
  },
  {
   "cell_type": "code",
   "execution_count": 629,
   "metadata": {},
   "outputs": [],
   "source": [
    "#Pickle dump\n",
    "file = open(\"S.pickle\",'wb') #160kb\n",
    "pickle.dump(S, file)\n",
    "\n",
    "#Pickle load\n",
    "file = open(\"S.pickle\",'rb') \n",
    "S = pickle.load(file)"
   ]
  },
  {
   "cell_type": "code",
   "execution_count": 630,
   "metadata": {},
   "outputs": [],
   "source": [
    "def a():\n",
    "    l\n",
    "    h"
   ]
  },
  {
   "cell_type": "code",
   "execution_count": 631,
   "metadata": {},
   "outputs": [
    {
     "data": {
      "text/plain": [
       "<10000x10000 sparse matrix of type '<class 'numpy.float64'>'\n",
       "\twith 10000 stored elements in Compressed Sparse Row format>"
      ]
     },
     "execution_count": 631,
     "metadata": {},
     "output_type": "execute_result"
    }
   ],
   "source": [
    "S"
   ]
  },
  {
   "cell_type": "code",
   "execution_count": 634,
   "metadata": {},
   "outputs": [
    {
     "data": {
      "text/plain": [
       "array([[1., 0., 0., ..., 0., 0., 0.],\n",
       "       [0., 1., 0., ..., 0., 0., 0.],\n",
       "       [0., 0., 1., ..., 0., 0., 0.],\n",
       "       ...,\n",
       "       [0., 0., 0., ..., 1., 0., 0.],\n",
       "       [0., 0., 0., ..., 0., 1., 0.],\n",
       "       [0., 0., 0., ..., 0., 0., 1.]])"
      ]
     },
     "execution_count": 634,
     "metadata": {},
     "output_type": "execute_result"
    }
   ],
   "source": [
    "S.toarray()"
   ]
  },
  {
   "cell_type": "code",
   "execution_count": null,
   "metadata": {},
   "outputs": [],
   "source": []
  },
  {
   "cell_type": "code",
   "execution_count": null,
   "metadata": {},
   "outputs": [],
   "source": []
  },
  {
   "cell_type": "code",
   "execution_count": null,
   "metadata": {},
   "outputs": [],
   "source": []
  },
  {
   "cell_type": "code",
   "execution_count": 641,
   "metadata": {},
   "outputs": [
    {
     "data": {
      "text/plain": [
       "array([[[0, 1, 2, 3]],\n",
       "\n",
       "       [[2, 3, 4, 5]],\n",
       "\n",
       "       [[0, 1, 6, 7]],\n",
       "\n",
       "       [[2, 3, 6, 7]],\n",
       "\n",
       "       [[2, 3, 8, 9]],\n",
       "\n",
       "       [[4, 5, 8, 9]],\n",
       "\n",
       "       [[6, 7, 8, 9]]])"
      ]
     },
     "execution_count": 641,
     "metadata": {},
     "output_type": "execute_result"
    }
   ],
   "source": [
    "pos = np.array([[0, 1, 2, 3],\n",
    "       [2, 3, 4, 5],\n",
    "       [0, 1, 6, 7],\n",
    "       [2, 3, 6, 7],\n",
    "       [2, 3, 8, 9],\n",
    "       [4, 5, 8, 9],\n",
    "       [6, 7, 8, 9]])\n",
    "\n",
    "pos = pos.reshape((7,1,4))\n",
    "pos"
   ]
  },
  {
   "cell_type": "code",
   "execution_count": 642,
   "metadata": {},
   "outputs": [
    {
     "ename": "NameError",
     "evalue": "name 'nnos' is not defined",
     "output_type": "error",
     "traceback": [
      "\u001b[0;31m---------------------------------------------------------------------------\u001b[0m",
      "\u001b[0;31mNameError\u001b[0m                                 Traceback (most recent call last)",
      "\u001b[0;32m<ipython-input-642-e35c974ed44b>\u001b[0m in \u001b[0;36m<module>\u001b[0;34m\u001b[0m\n\u001b[0;32m----> 1\u001b[0;31m \u001b[0maf\u001b[0m \u001b[0;34m=\u001b[0m \u001b[0mnp\u001b[0m\u001b[0;34m.\u001b[0m\u001b[0mzeros\u001b[0m\u001b[0;34m(\u001b[0m\u001b[0;34m(\u001b[0m\u001b[0;36m7\u001b[0m\u001b[0;34m,\u001b[0m\u001b[0;36m2\u001b[0m\u001b[0;34m*\u001b[0m\u001b[0mnnos\u001b[0m\u001b[0;34m,\u001b[0m\u001b[0;36m4\u001b[0m\u001b[0;34m)\u001b[0m\u001b[0;34m)\u001b[0m\u001b[0;34m\u001b[0m\u001b[0;34m\u001b[0m\u001b[0m\n\u001b[0m",
      "\u001b[0;31mNameError\u001b[0m: name 'nnos' is not defined"
     ]
    }
   ],
   "source": [
    "af = np.zeros((7,2*nnos,4))"
   ]
  },
  {
   "cell_type": "code",
   "execution_count": null,
   "metadata": {},
   "outputs": [],
   "source": []
  },
  {
   "cell_type": "code",
   "execution_count": 640,
   "metadata": {},
   "outputs": [
    {
     "name": "stdout",
     "output_type": "stream",
     "text": [
      "0 [[0 1 2 3]] [[0 1 2 3]]\n",
      "1 [[2 3 4 5]] [[0 1 2 3]]\n",
      "2 [[0 1 6 7]] [[0 1 2 3]]\n",
      "3 [[2 3 6 7]] [[0 1 2 3]]\n",
      "4 [[2 3 8 9]] [[0 1 2 3]]\n",
      "5 [[4 5 8 9]] [[0 1 2 3]]\n",
      "6 [[6 7 8 9]] [[0 1 2 3]]\n"
     ]
    }
   ],
   "source": [
    "for i in range(7):\n",
    "    print(i,pos[i],pos[0])"
   ]
  },
  {
   "cell_type": "code",
   "execution_count": null,
   "metadata": {},
   "outputs": [],
   "source": []
  },
  {
   "cell_type": "code",
   "execution_count": 774,
   "metadata": {},
   "outputs": [],
   "source": [
    "df = pd.DataFrame({'A':[0,0,1], \n",
    "                   'B':[1,0,0], \n",
    "                   'C':[0,0,0], \n",
    "                   'D':[1,0,1], \n",
    "                   'E':[1,0,1]})"
   ]
  },
  {
   "cell_type": "code",
   "execution_count": 761,
   "metadata": {},
   "outputs": [
    {
     "name": "stdout",
     "output_type": "stream",
     "text": [
      "   A  B  C  D  E new_column\n",
      "0  0  1  0  1  1    B, D, E\n",
      "1  0  0  0  0  0           \n",
      "2  1  0  0  1  1    A, D, E\n"
     ]
    }
   ],
   "source": [
    "df['new_column'] = df.apply(lambda x: ', '.join(list(x[x!=0].index)), axis=1)\n",
    "\n",
    "print(df)"
   ]
  },
  {
   "cell_type": "code",
   "execution_count": 764,
   "metadata": {},
   "outputs": [
    {
     "data": {
      "text/plain": [
       "0    BDE\n",
       "1       \n",
       "2    ADE\n",
       "dtype: object"
      ]
     },
     "execution_count": 764,
     "metadata": {},
     "output_type": "execute_result"
    }
   ],
   "source": [
    "df.dot(df.columns)"
   ]
  },
  {
   "cell_type": "code",
   "execution_count": null,
   "metadata": {},
   "outputs": [],
   "source": []
  },
  {
   "cell_type": "code",
   "execution_count": 765,
   "metadata": {},
   "outputs": [
    {
     "data": {
      "text/html": [
       "<div>\n",
       "<style scoped>\n",
       "    .dataframe tbody tr th:only-of-type {\n",
       "        vertical-align: middle;\n",
       "    }\n",
       "\n",
       "    .dataframe tbody tr th {\n",
       "        vertical-align: top;\n",
       "    }\n",
       "\n",
       "    .dataframe thead th {\n",
       "        text-align: right;\n",
       "    }\n",
       "</style>\n",
       "<table border=\"1\" class=\"dataframe\">\n",
       "  <thead>\n",
       "    <tr style=\"text-align: right;\">\n",
       "      <th></th>\n",
       "      <th>A</th>\n",
       "      <th>B</th>\n",
       "      <th>C</th>\n",
       "      <th>D</th>\n",
       "      <th>E</th>\n",
       "    </tr>\n",
       "  </thead>\n",
       "  <tbody>\n",
       "    <tr>\n",
       "      <th>0</th>\n",
       "      <td>0</td>\n",
       "      <td>1</td>\n",
       "      <td>0</td>\n",
       "      <td>1</td>\n",
       "      <td>1</td>\n",
       "    </tr>\n",
       "    <tr>\n",
       "      <th>1</th>\n",
       "      <td>0</td>\n",
       "      <td>0</td>\n",
       "      <td>0</td>\n",
       "      <td>0</td>\n",
       "      <td>0</td>\n",
       "    </tr>\n",
       "    <tr>\n",
       "      <th>2</th>\n",
       "      <td>1</td>\n",
       "      <td>0</td>\n",
       "      <td>0</td>\n",
       "      <td>1</td>\n",
       "      <td>1</td>\n",
       "    </tr>\n",
       "  </tbody>\n",
       "</table>\n",
       "</div>"
      ],
      "text/plain": [
       "   A  B  C  D  E\n",
       "0  0  1  0  1  1\n",
       "1  0  0  0  0  0\n",
       "2  1  0  0  1  1"
      ]
     },
     "execution_count": 765,
     "metadata": {},
     "output_type": "execute_result"
    }
   ],
   "source": [
    "df"
   ]
  },
  {
   "cell_type": "code",
   "execution_count": 766,
   "metadata": {},
   "outputs": [
    {
     "data": {
      "text/plain": [
       "Index(['A', 'B', 'C', 'D', 'E'], dtype='object')"
      ]
     },
     "execution_count": 766,
     "metadata": {},
     "output_type": "execute_result"
    }
   ],
   "source": [
    "df.columns"
   ]
  },
  {
   "cell_type": "code",
   "execution_count": 775,
   "metadata": {},
   "outputs": [],
   "source": [
    "df['new_column'] = (df @ df.columns).str.join(', ')"
   ]
  },
  {
   "cell_type": "code",
   "execution_count": 776,
   "metadata": {},
   "outputs": [
    {
     "name": "stdout",
     "output_type": "stream",
     "text": [
      "   A  B  C  D  E new_column\n",
      "0  0  1  0  1  1    B, D, E\n",
      "1  0  0  0  0  0           \n",
      "2  1  0  0  1  1    A, D, E\n"
     ]
    }
   ],
   "source": [
    "print(df)"
   ]
  },
  {
   "cell_type": "code",
   "execution_count": null,
   "metadata": {},
   "outputs": [],
   "source": []
  }
 ],
 "metadata": {
  "kernelspec": {
   "display_name": "Python 3",
   "language": "python",
   "name": "python3"
  },
  "language_info": {
   "codemirror_mode": {
    "name": "ipython",
    "version": 3
   },
   "file_extension": ".py",
   "mimetype": "text/x-python",
   "name": "python",
   "nbconvert_exporter": "python",
   "pygments_lexer": "ipython3",
   "version": "3.7.3"
  }
 },
 "nbformat": 4,
 "nbformat_minor": 2
}
