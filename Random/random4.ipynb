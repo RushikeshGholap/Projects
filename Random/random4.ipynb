{
 "cells": [
  {
   "cell_type": "code",
   "execution_count": 2,
   "metadata": {},
   "outputs": [
    {
     "name": "stdout",
     "output_type": "stream",
     "text": [
      "names\n",
      "Desciples\n"
     ]
    }
   ],
   "source": [
    "import random\n",
    "\n",
    "types = [\"places\", \"names\"]\n",
    "\n",
    "places = [\"The Upper Room\", \"Jerusalem\", \"Church\", \"Rome\"]\n",
    "names = [\"Jesus\", \"Desciples\", \"Paul\"]\n",
    "\n",
    "\n",
    "def get_random_type():\n",
    "    return random.choice(types)\n",
    "\n",
    "def get_response(chosentype):\n",
    "    return random.choice(eval(chosentype))\n",
    "\n",
    "randtype = get_random_type()\n",
    "print(randtype)\n",
    "print(get_response(randtype))"
   ]
  },
  {
   "cell_type": "code",
   "execution_count": null,
   "metadata": {},
   "outputs": [],
   "source": []
  },
  {
   "cell_type": "code",
   "execution_count": null,
   "metadata": {},
   "outputs": [],
   "source": []
  },
  {
   "cell_type": "code",
   "execution_count": null,
   "metadata": {},
   "outputs": [],
   "source": []
  },
  {
   "cell_type": "code",
   "execution_count": null,
   "metadata": {},
   "outputs": [],
   "source": []
  },
  {
   "cell_type": "code",
   "execution_count": 3,
   "metadata": {},
   "outputs": [
    {
     "name": "stdout",
     "output_type": "stream",
     "text": [
      "('a', 'b', 'c')\n",
      "('f', 'g', 'h')\n",
      "('i', 'j', 'k')\n"
     ]
    }
   ],
   "source": [
    "example_list = [\n",
    "    ['a','b','c'],\n",
    "    ['f','g','h'],\n",
    "    ['i','j','k'],\n",
    "]\n",
    "\n",
    "s = '\\n'.join([str(tuple(i)) for i in example_list])\n",
    "print(s)"
   ]
  },
  {
   "cell_type": "code",
   "execution_count": null,
   "metadata": {},
   "outputs": [],
   "source": []
  },
  {
   "cell_type": "code",
   "execution_count": null,
   "metadata": {},
   "outputs": [],
   "source": []
  },
  {
   "cell_type": "code",
   "execution_count": null,
   "metadata": {},
   "outputs": [],
   "source": []
  },
  {
   "cell_type": "code",
   "execution_count": null,
   "metadata": {},
   "outputs": [],
   "source": []
  },
  {
   "cell_type": "code",
   "execution_count": null,
   "metadata": {},
   "outputs": [],
   "source": []
  },
  {
   "cell_type": "code",
   "execution_count": 4,
   "metadata": {},
   "outputs": [
    {
     "name": "stdout",
     "output_type": "stream",
     "text": [
      "34.00\n",
      "0\n",
      "12.50\n",
      "150.00\n",
      "20.00\n"
     ]
    }
   ],
   "source": [
    "a = [[['7', '3', 'SELL', 'chair_1', '30.00'], ['17', '4', 'BID', 'chair_1', '34.00']]]\n",
    "b = [[['14', '5', 'SELL', 'toaster_1', '14.50', '30']]]\n",
    "c = [[['10', '1', 'SELL', 'radio_1', '10.00', '30'], ['13', '5', 'BID', 'radio_1', '12.50'], ['16', '6', 'BID', 'radio_1', '12.50']]]\n",
    "d = [[['12', '4', 'SELL', 'TV_1', '200.00', '35'], ['15', '8', 'BID', 'TV_1', '250.00'], ['18', '1', 'BID', 'TV_1', '150.00'], ['19', '3', 'BID', 'TV_1', '200.00'], ['21', '3', 'BID', 'TV_1', '300.00']]]\n",
    "e = [[['11', '3', 'SELL', 'transistor_1', '15.00', '30'], ['20', '7', 'BID', 'transistor_1', '20.00']]]\n",
    "\n",
    "def get_min_auc(auc):\n",
    "    d = [j for i in auc[0][1:] for j in i if len(j.split('.'))>1]\n",
    "    try: return min(d)\n",
    "    except: return 0\n",
    "\n",
    "print(get_min_auc(a))\n",
    "print(get_min_auc(b))\n",
    "print(get_min_auc(c))\n",
    "print(get_min_auc(d))\n",
    "print(get_min_auc(e))"
   ]
  },
  {
   "cell_type": "code",
   "execution_count": null,
   "metadata": {},
   "outputs": [],
   "source": []
  },
  {
   "cell_type": "code",
   "execution_count": null,
   "metadata": {},
   "outputs": [],
   "source": []
  },
  {
   "cell_type": "code",
   "execution_count": null,
   "metadata": {},
   "outputs": [],
   "source": []
  },
  {
   "cell_type": "code",
   "execution_count": null,
   "metadata": {},
   "outputs": [],
   "source": []
  },
  {
   "cell_type": "code",
   "execution_count": null,
   "metadata": {},
   "outputs": [],
   "source": []
  },
  {
   "cell_type": "code",
   "execution_count": 6,
   "metadata": {},
   "outputs": [
    {
     "data": {
      "text/plain": [
       "'kabccbak'"
      ]
     },
     "execution_count": 6,
     "metadata": {},
     "output_type": "execute_result"
    }
   ],
   "source": [
    "a = \"abijkabccbakfgba\"\n",
    "\n",
    "def isp(s):\n",
    "    return s == s[::-1]\n",
    "\n",
    "res = (a[i: j] for i in range(len(a)) for j in range(i + 1, len(a) + 1))\n",
    "palindromes = sorted([i for i in res if isp(i) and len(i)>1], key = lambda x: len(x), reverse=True)[0]\n",
    "palindromes"
   ]
  },
  {
   "cell_type": "code",
   "execution_count": null,
   "metadata": {},
   "outputs": [],
   "source": []
  },
  {
   "cell_type": "code",
   "execution_count": null,
   "metadata": {},
   "outputs": [],
   "source": []
  },
  {
   "cell_type": "code",
   "execution_count": null,
   "metadata": {},
   "outputs": [],
   "source": []
  },
  {
   "cell_type": "code",
   "execution_count": null,
   "metadata": {},
   "outputs": [],
   "source": []
  },
  {
   "cell_type": "code",
   "execution_count": null,
   "metadata": {},
   "outputs": [],
   "source": []
  },
  {
   "cell_type": "code",
   "execution_count": 34,
   "metadata": {},
   "outputs": [],
   "source": [
    "import pandas as pd\n",
    "import numpy as np"
   ]
  },
  {
   "cell_type": "code",
   "execution_count": 35,
   "metadata": {},
   "outputs": [],
   "source": [
    "df = pd.DataFrame({\n",
    "    'Mountain Range': ['A', 'A', 'A', 'A', 'A', 'B', 'B', 'B', 'B', 'B', 'C', 'C', 'C', 'C', 'D', 'D', 'D', 'D'], \n",
    "    'Peak': ['a', 'b', 'c', 'd', 'e', 'f', 'g', 'h', 'i', 'j', 'k', 'l', 'm', 'n', 'o', 'p', 'r', 's'], \n",
    "    'Height above sea level': [2340, 3050, 4220, 2675, 2980, 3300, 3405, 3410, 2970, 2840, 2780, 3140, 3210, 2885, 3000, 3110, 2640, 2635]\n",
    "    })"
   ]
  },
  {
   "cell_type": "code",
   "execution_count": 36,
   "metadata": {},
   "outputs": [
    {
     "data": {
      "text/html": [
       "<div>\n",
       "<style scoped>\n",
       "    .dataframe tbody tr th:only-of-type {\n",
       "        vertical-align: middle;\n",
       "    }\n",
       "\n",
       "    .dataframe tbody tr th {\n",
       "        vertical-align: top;\n",
       "    }\n",
       "\n",
       "    .dataframe thead th {\n",
       "        text-align: right;\n",
       "    }\n",
       "</style>\n",
       "<table border=\"1\" class=\"dataframe\">\n",
       "  <thead>\n",
       "    <tr style=\"text-align: right;\">\n",
       "      <th></th>\n",
       "      <th>Mountain Range</th>\n",
       "      <th>Peak</th>\n",
       "      <th>Height above sea level</th>\n",
       "    </tr>\n",
       "  </thead>\n",
       "  <tbody>\n",
       "    <tr>\n",
       "      <th>2</th>\n",
       "      <td>A</td>\n",
       "      <td>c</td>\n",
       "      <td>4220</td>\n",
       "    </tr>\n",
       "    <tr>\n",
       "      <th>1</th>\n",
       "      <td>A</td>\n",
       "      <td>b</td>\n",
       "      <td>3050</td>\n",
       "    </tr>\n",
       "    <tr>\n",
       "      <th>4</th>\n",
       "      <td>A</td>\n",
       "      <td>e</td>\n",
       "      <td>2980</td>\n",
       "    </tr>\n",
       "  </tbody>\n",
       "</table>\n",
       "</div>"
      ],
      "text/plain": [
       "  Mountain Range Peak  Height above sea level\n",
       "2              A    c                    4220\n",
       "1              A    b                    3050\n",
       "4              A    e                    2980"
      ]
     },
     "execution_count": 36,
     "metadata": {},
     "output_type": "execute_result"
    }
   ],
   "source": [
    "df[df['Mountain Range']=='A'].nlargest(3, 'Height above sea level')"
   ]
  },
  {
   "cell_type": "code",
   "execution_count": 52,
   "metadata": {},
   "outputs": [
    {
     "name": "stdout",
     "output_type": "stream",
     "text": [
      "  Mountain Range  Height above sea level\n",
      "0              A                   10250\n",
      "1              B                   10115\n",
      "2              C                    9235\n",
      "3              D                    8750\n"
     ]
    }
   ],
   "source": [
    "g = df.groupby('Mountain Range')['Height above sea level'].apply(lambda x: np.sum(x.nlargest(3))).reset_index()\n",
    "print(g)\n",
    "\n",
    "g.nlargest(1, 'Height above sea level')['Mountain Range'][0]"
   ]
  },
  {
   "cell_type": "code",
   "execution_count": 56,
   "metadata": {},
   "outputs": [
    {
     "data": {
      "text/plain": [
       "'A'"
      ]
     },
     "execution_count": 56,
     "metadata": {},
     "output_type": "execute_result"
    }
   ],
   "source": [
    "g.nlargest(1, 'Height above sea level')['Mountain Range'][0]"
   ]
  },
  {
   "cell_type": "code",
   "execution_count": null,
   "metadata": {},
   "outputs": [],
   "source": []
  },
  {
   "cell_type": "code",
   "execution_count": null,
   "metadata": {},
   "outputs": [],
   "source": []
  },
  {
   "cell_type": "code",
   "execution_count": null,
   "metadata": {},
   "outputs": [],
   "source": []
  },
  {
   "cell_type": "code",
   "execution_count": null,
   "metadata": {},
   "outputs": [],
   "source": []
  },
  {
   "cell_type": "code",
   "execution_count": null,
   "metadata": {},
   "outputs": [],
   "source": []
  },
  {
   "cell_type": "code",
   "execution_count": null,
   "metadata": {},
   "outputs": [],
   "source": []
  },
  {
   "cell_type": "code",
   "execution_count": 59,
   "metadata": {},
   "outputs": [],
   "source": [
    "data = pd.DataFrame({'Name':['Joe','Joe','Jackson','Jackson'],'Computer':['MAC','HP','MAC','HP'],'Data':[10,5,20,15]})"
   ]
  },
  {
   "cell_type": "code",
   "execution_count": 72,
   "metadata": {},
   "outputs": [
    {
     "data": {
      "text/html": [
       "<div>\n",
       "<style scoped>\n",
       "    .dataframe tbody tr th:only-of-type {\n",
       "        vertical-align: middle;\n",
       "    }\n",
       "\n",
       "    .dataframe tbody tr th {\n",
       "        vertical-align: top;\n",
       "    }\n",
       "\n",
       "    .dataframe thead th {\n",
       "        text-align: right;\n",
       "    }\n",
       "</style>\n",
       "<table border=\"1\" class=\"dataframe\">\n",
       "  <thead>\n",
       "    <tr style=\"text-align: right;\">\n",
       "      <th>Computer</th>\n",
       "      <th>HP</th>\n",
       "      <th>MAC</th>\n",
       "    </tr>\n",
       "    <tr>\n",
       "      <th>Name</th>\n",
       "      <th></th>\n",
       "      <th></th>\n",
       "    </tr>\n",
       "  </thead>\n",
       "  <tbody>\n",
       "    <tr>\n",
       "      <th>Jackson</th>\n",
       "      <td>15</td>\n",
       "      <td>20</td>\n",
       "    </tr>\n",
       "    <tr>\n",
       "      <th>Joe</th>\n",
       "      <td>5</td>\n",
       "      <td>10</td>\n",
       "    </tr>\n",
       "  </tbody>\n",
       "</table>\n",
       "</div>"
      ],
      "text/plain": [
       "Computer  HP  MAC\n",
       "Name             \n",
       "Jackson   15   20\n",
       "Joe        5   10"
      ]
     },
     "execution_count": 72,
     "metadata": {},
     "output_type": "execute_result"
    }
   ],
   "source": [
    "pd.pivot(data, index='Name',columns='Computer', values='Data')"
   ]
  },
  {
   "cell_type": "code",
   "execution_count": 76,
   "metadata": {},
   "outputs": [
    {
     "name": "stdout",
     "output_type": "stream",
     "text": [
      "         Data    \n",
      "Computer   HP MAC\n",
      "Name             \n",
      "Jackson    15  20\n",
      "Joe         5  10\n"
     ]
    }
   ],
   "source": [
    "print(data.set_index(['Name','Computer']).unstack(-1))"
   ]
  },
  {
   "cell_type": "code",
   "execution_count": null,
   "metadata": {},
   "outputs": [],
   "source": []
  },
  {
   "cell_type": "code",
   "execution_count": null,
   "metadata": {},
   "outputs": [],
   "source": []
  },
  {
   "cell_type": "code",
   "execution_count": null,
   "metadata": {},
   "outputs": [],
   "source": []
  },
  {
   "cell_type": "code",
   "execution_count": null,
   "metadata": {},
   "outputs": [],
   "source": []
  },
  {
   "cell_type": "code",
   "execution_count": null,
   "metadata": {},
   "outputs": [],
   "source": []
  },
  {
   "cell_type": "code",
   "execution_count": null,
   "metadata": {},
   "outputs": [],
   "source": []
  },
  {
   "cell_type": "code",
   "execution_count": 129,
   "metadata": {},
   "outputs": [
    {
     "data": {
      "text/plain": [
       "array([[ 0, -1,  0,  3,  3],\n",
       "       [ 2, -1,  3,  2, -2]])"
      ]
     },
     "execution_count": 129,
     "metadata": {},
     "output_type": "execute_result"
    }
   ],
   "source": [
    "Change = np.random.randint(-2,4,size=(2,5))\n",
    "pct_change = np.random.randint(1,3,size=(2,5))\n",
    "Change_after_calculation = np.zeros_like(pct_change)\n",
    "\n",
    "for p in range(5):\n",
    "    for n in range(2):\n",
    "        if Change[n,p] < 0:\n",
    "            Change_after_calculation[n,p] = (1+pct_change[n,p]) *  Change[n,p]\n",
    "        else:\n",
    "            Change_after_calculation[n,p] = Change[n,p]"
   ]
  },
  {
   "cell_type": "code",
   "execution_count": 130,
   "metadata": {},
   "outputs": [
    {
     "data": {
      "text/plain": [
       "array([[2, 1, 2, 1, 1],\n",
       "       [1, 2, 2, 1, 1]])"
      ]
     },
     "execution_count": 130,
     "metadata": {},
     "output_type": "execute_result"
    }
   ],
   "source": [
    "\n",
    "\\pct_change"
   ]
  },
  {
   "cell_type": "code",
   "execution_count": 131,
   "metadata": {},
   "outputs": [
    {
     "data": {
      "text/plain": [
       "array([[0, 0, 0, 0, 0],\n",
       "       [0, 0, 0, 0, 0]])"
      ]
     },
     "execution_count": 131,
     "metadata": {},
     "output_type": "execute_result"
    }
   ],
   "source": [
    "\n",
    "Change_after_calculation"
   ]
  },
  {
   "cell_type": "code",
   "execution_count": 137,
   "metadata": {},
   "outputs": [],
   "source": [
    "for p in range(5):\n",
    "    for n in range(2):\n",
    "        if Change[n,p] < 0:\n",
    "            Change_after_calculation[n,p] = (1+pct_change[n,p]) *  Change[n,p]\n",
    "        else:\n",
    "            Change_after_calculation[n,p] = Change[n,p]"
   ]
  },
  {
   "cell_type": "code",
   "execution_count": 138,
   "metadata": {},
   "outputs": [
    {
     "data": {
      "text/plain": [
       "array([[ 0, -2,  0,  3,  3],\n",
       "       [ 2, -3,  3,  2, -4]])"
      ]
     },
     "execution_count": 138,
     "metadata": {},
     "output_type": "execute_result"
    }
   ],
   "source": [
    "Change_after_calculation"
   ]
  },
  {
   "cell_type": "code",
   "execution_count": 139,
   "metadata": {},
   "outputs": [
    {
     "data": {
      "text/plain": [
       "array([[ 0, -2,  0,  3,  3],\n",
       "       [ 2, -3,  3,  2, -4]])"
      ]
     },
     "execution_count": 139,
     "metadata": {},
     "output_type": "execute_result"
    }
   ],
   "source": [
    "(Change>=0)*Change +(Change<0)*(pct_change+1)*Change"
   ]
  },
  {
   "cell_type": "code",
   "execution_count": null,
   "metadata": {},
   "outputs": [],
   "source": []
  },
  {
   "cell_type": "code",
   "execution_count": null,
   "metadata": {},
   "outputs": [],
   "source": []
  },
  {
   "cell_type": "code",
   "execution_count": null,
   "metadata": {},
   "outputs": [],
   "source": []
  },
  {
   "cell_type": "code",
   "execution_count": null,
   "metadata": {},
   "outputs": [],
   "source": []
  },
  {
   "cell_type": "code",
   "execution_count": null,
   "metadata": {},
   "outputs": [],
   "source": []
  },
  {
   "cell_type": "code",
   "execution_count": null,
   "metadata": {},
   "outputs": [],
   "source": []
  },
  {
   "cell_type": "code",
   "execution_count": 140,
   "metadata": {},
   "outputs": [],
   "source": [
    "colors  = ['red', 'blue', 'yellow' , 'purple']\n",
    "things = ['apple', 'pickle', 'tomato' , 'rainbow', 'book']\n",
    "\n",
    "corpus = ['i ate a red apple.', 'There are so many colors in the rainbow.', 'the monster was purple and green.', 'the pickle is very green', 'the kid read the book the little red riding hood', 'in the book the wizard of oz there was a yellow brick road.', 'tom has a green thumb and likes working in a garden.' ]"
   ]
  },
  {
   "cell_type": "code",
   "execution_count": 236,
   "metadata": {},
   "outputs": [
    {
     "name": "stdout",
     "output_type": "stream",
     "text": [
      "         0  1  2  3  4  5  6\n",
      "red      1  0  0  0  1  0  0\n",
      "apple    1  0  0  0  0  0  0\n",
      "rainbow  0  1  0  0  0  0  0\n",
      "purple   0  0  1  0  0  0  0\n",
      "pickle   0  0  0  1  0  0  0\n",
      "book     0  0  0  0  1  1  0\n",
      "yellow   0  0  0  0  0  1  0\n"
     ]
    }
   ],
   "source": [
    "from sklearn.feature_extraction.text import CountVectorizer\n",
    "\n",
    "cv = CountVectorizer()\n",
    "out = cv.fit_transform(corpus).toarray() #apply countvectorizer\n",
    "\n",
    "combined = colors+things  #combine all your topics\n",
    "\n",
    "c = [(k,v) for k,v in cv.vocabulary_.items() if k in combined] #get indexes for all the items from all topics\n",
    "\n",
    "cdf = pd.DataFrame(out[:,[i[1] for i in c]], columns=[i[0] for i in c]).T  #Filter cv dataframe for all items\n",
    "\n",
    "print(cdf)"
   ]
  },
  {
   "cell_type": "code",
   "execution_count": 298,
   "metadata": {},
   "outputs": [],
   "source": [
    "def get_similary_table(topic=None):\n",
    "    if topic==None:\n",
    "        df = cdf\n",
    "    else:\n",
    "        df = cdf.loc[cdf.index.isin(topic)]  #filter by topic\n",
    "    cnd = df.values\n",
    "    similarity = cnd.T@cnd #Take dot product to get similarty matrix\n",
    "    dd = pd.DataFrame(similarity, index=corpus, columns=corpus) #convert to a dataframe\n",
    "    return dd"
   ]
  },
  {
   "cell_type": "code",
   "execution_count": 288,
   "metadata": {},
   "outputs": [],
   "source": [
    "def get_similar_review(s, topic):\n",
    "    df = cdf.loc[cdf.index.isin(topic)] #filter by topic\n",
    "    cnd = df.values\n",
    "    similarity = cnd.T@cnd #Take dot product to get similarty matrix\n",
    "    np.fill_diagonal(similarity,0) #set diagonal elements to 0, to avoid same sentence being returned as output\n",
    "    dd = pd.DataFrame(similarity, index=corpus, columns=corpus) #convert to a dataframe\n",
    "    return dd.loc[s].idxmax(axis=0) #filter by sentence and get column name with max value"
   ]
  },
  {
   "cell_type": "code",
   "execution_count": 285,
   "metadata": {},
   "outputs": [
    {
     "data": {
      "text/plain": [
       "'the kid read the book the little red riding hood'"
      ]
     },
     "execution_count": 285,
     "metadata": {},
     "output_type": "execute_result"
    }
   ],
   "source": [
    "s = 'i ate a red apple.'\n",
    "get_similar(s, colors)"
   ]
  },
  {
   "cell_type": "code",
   "execution_count": 286,
   "metadata": {},
   "outputs": [
    {
     "data": {
      "text/plain": [
       "'in the book the wizard of oz there was a yellow brick road.'"
      ]
     },
     "execution_count": 286,
     "metadata": {},
     "output_type": "execute_result"
    }
   ],
   "source": [
    "s = 'the kid read the book the little red riding hood'\n",
    "get_similar(s, things)"
   ]
  },
  {
   "cell_type": "code",
   "execution_count": 299,
   "metadata": {},
   "outputs": [
    {
     "data": {
      "text/html": [
       "<div>\n",
       "<style scoped>\n",
       "    .dataframe tbody tr th:only-of-type {\n",
       "        vertical-align: middle;\n",
       "    }\n",
       "\n",
       "    .dataframe tbody tr th {\n",
       "        vertical-align: top;\n",
       "    }\n",
       "\n",
       "    .dataframe thead th {\n",
       "        text-align: right;\n",
       "    }\n",
       "</style>\n",
       "<table border=\"1\" class=\"dataframe\">\n",
       "  <thead>\n",
       "    <tr style=\"text-align: right;\">\n",
       "      <th></th>\n",
       "      <th>i ate a red apple.</th>\n",
       "      <th>There are so many colors in the rainbow.</th>\n",
       "      <th>the monster was purple and green.</th>\n",
       "      <th>the pickle is very green</th>\n",
       "      <th>the kid read the book the little red riding hood</th>\n",
       "      <th>in the book the wizard of oz there was a yellow brick road.</th>\n",
       "      <th>tom has a green thumb and likes working in a garden.</th>\n",
       "    </tr>\n",
       "  </thead>\n",
       "  <tbody>\n",
       "    <tr>\n",
       "      <th>i ate a red apple.</th>\n",
       "      <td>2</td>\n",
       "      <td>0</td>\n",
       "      <td>0</td>\n",
       "      <td>0</td>\n",
       "      <td>1</td>\n",
       "      <td>0</td>\n",
       "      <td>0</td>\n",
       "    </tr>\n",
       "    <tr>\n",
       "      <th>There are so many colors in the rainbow.</th>\n",
       "      <td>0</td>\n",
       "      <td>1</td>\n",
       "      <td>0</td>\n",
       "      <td>0</td>\n",
       "      <td>0</td>\n",
       "      <td>0</td>\n",
       "      <td>0</td>\n",
       "    </tr>\n",
       "    <tr>\n",
       "      <th>the monster was purple and green.</th>\n",
       "      <td>0</td>\n",
       "      <td>0</td>\n",
       "      <td>1</td>\n",
       "      <td>0</td>\n",
       "      <td>0</td>\n",
       "      <td>0</td>\n",
       "      <td>0</td>\n",
       "    </tr>\n",
       "    <tr>\n",
       "      <th>the pickle is very green</th>\n",
       "      <td>0</td>\n",
       "      <td>0</td>\n",
       "      <td>0</td>\n",
       "      <td>1</td>\n",
       "      <td>0</td>\n",
       "      <td>0</td>\n",
       "      <td>0</td>\n",
       "    </tr>\n",
       "    <tr>\n",
       "      <th>the kid read the book the little red riding hood</th>\n",
       "      <td>1</td>\n",
       "      <td>0</td>\n",
       "      <td>0</td>\n",
       "      <td>0</td>\n",
       "      <td>2</td>\n",
       "      <td>1</td>\n",
       "      <td>0</td>\n",
       "    </tr>\n",
       "    <tr>\n",
       "      <th>in the book the wizard of oz there was a yellow brick road.</th>\n",
       "      <td>0</td>\n",
       "      <td>0</td>\n",
       "      <td>0</td>\n",
       "      <td>0</td>\n",
       "      <td>1</td>\n",
       "      <td>2</td>\n",
       "      <td>0</td>\n",
       "    </tr>\n",
       "    <tr>\n",
       "      <th>tom has a green thumb and likes working in a garden.</th>\n",
       "      <td>0</td>\n",
       "      <td>0</td>\n",
       "      <td>0</td>\n",
       "      <td>0</td>\n",
       "      <td>0</td>\n",
       "      <td>0</td>\n",
       "      <td>0</td>\n",
       "    </tr>\n",
       "  </tbody>\n",
       "</table>\n",
       "</div>"
      ],
      "text/plain": [
       "                                                    i ate a red apple.  \\\n",
       "i ate a red apple.                                                   2   \n",
       "There are so many colors in the rainbow.                             0   \n",
       "the monster was purple and green.                                    0   \n",
       "the pickle is very green                                             0   \n",
       "the kid read the book the little red riding hood                     1   \n",
       "in the book the wizard of oz there was a yellow...                   0   \n",
       "tom has a green thumb and likes working in a ga...                   0   \n",
       "\n",
       "                                                    There are so many colors in the rainbow.  \\\n",
       "i ate a red apple.                                                                         0   \n",
       "There are so many colors in the rainbow.                                                   1   \n",
       "the monster was purple and green.                                                          0   \n",
       "the pickle is very green                                                                   0   \n",
       "the kid read the book the little red riding hood                                           0   \n",
       "in the book the wizard of oz there was a yellow...                                         0   \n",
       "tom has a green thumb and likes working in a ga...                                         0   \n",
       "\n",
       "                                                    the monster was purple and green.  \\\n",
       "i ate a red apple.                                                                  0   \n",
       "There are so many colors in the rainbow.                                            0   \n",
       "the monster was purple and green.                                                   1   \n",
       "the pickle is very green                                                            0   \n",
       "the kid read the book the little red riding hood                                    0   \n",
       "in the book the wizard of oz there was a yellow...                                  0   \n",
       "tom has a green thumb and likes working in a ga...                                  0   \n",
       "\n",
       "                                                    the pickle is very green  \\\n",
       "i ate a red apple.                                                         0   \n",
       "There are so many colors in the rainbow.                                   0   \n",
       "the monster was purple and green.                                          0   \n",
       "the pickle is very green                                                   1   \n",
       "the kid read the book the little red riding hood                           0   \n",
       "in the book the wizard of oz there was a yellow...                         0   \n",
       "tom has a green thumb and likes working in a ga...                         0   \n",
       "\n",
       "                                                    the kid read the book the little red riding hood  \\\n",
       "i ate a red apple.                                                                                 1   \n",
       "There are so many colors in the rainbow.                                                           0   \n",
       "the monster was purple and green.                                                                  0   \n",
       "the pickle is very green                                                                           0   \n",
       "the kid read the book the little red riding hood                                                   2   \n",
       "in the book the wizard of oz there was a yellow...                                                 1   \n",
       "tom has a green thumb and likes working in a ga...                                                 0   \n",
       "\n",
       "                                                    in the book the wizard of oz there was a yellow brick road.  \\\n",
       "i ate a red apple.                                                                                  0             \n",
       "There are so many colors in the rainbow.                                                            0             \n",
       "the monster was purple and green.                                                                   0             \n",
       "the pickle is very green                                                                            0             \n",
       "the kid read the book the little red riding hood                                                    1             \n",
       "in the book the wizard of oz there was a yellow...                                                  2             \n",
       "tom has a green thumb and likes working in a ga...                                                  0             \n",
       "\n",
       "                                                    tom has a green thumb and likes working in a garden.  \n",
       "i ate a red apple.                                                                                  0     \n",
       "There are so many colors in the rainbow.                                                            0     \n",
       "the monster was purple and green.                                                                   0     \n",
       "the pickle is very green                                                                            0     \n",
       "the kid read the book the little red riding hood                                                    0     \n",
       "in the book the wizard of oz there was a yellow...                                                  0     \n",
       "tom has a green thumb and likes working in a ga...                                                  0     "
      ]
     },
     "execution_count": 299,
     "metadata": {},
     "output_type": "execute_result"
    }
   ],
   "source": [
    "get_similary_table()"
   ]
  },
  {
   "cell_type": "code",
   "execution_count": null,
   "metadata": {},
   "outputs": [],
   "source": []
  },
  {
   "cell_type": "code",
   "execution_count": null,
   "metadata": {},
   "outputs": [],
   "source": []
  },
  {
   "cell_type": "code",
   "execution_count": null,
   "metadata": {},
   "outputs": [],
   "source": []
  },
  {
   "cell_type": "code",
   "execution_count": null,
   "metadata": {},
   "outputs": [],
   "source": []
  },
  {
   "cell_type": "code",
   "execution_count": null,
   "metadata": {},
   "outputs": [],
   "source": []
  },
  {
   "cell_type": "code",
   "execution_count": 331,
   "metadata": {},
   "outputs": [
    {
     "name": "stdout",
     "output_type": "stream",
     "text": [
      "   A  B  C\n",
      "0  1  2  2\n",
      "1  3  4  5\n"
     ]
    }
   ],
   "source": [
    "a = pd.DataFrame([[1,2,2],[3,4,5]], columns=['A','B','C'])\n",
    "print(a)"
   ]
  },
  {
   "cell_type": "code",
   "execution_count": 337,
   "metadata": {},
   "outputs": [
    {
     "data": {
      "text/plain": [
       "<pandas.core.groupby.generic.DataFrameGroupBy object at 0x109cfd8d0>"
      ]
     },
     "execution_count": 337,
     "metadata": {},
     "output_type": "execute_result"
    }
   ],
   "source": [
    "grp = a.groupby([True]*len(a))\n",
    "grp"
   ]
  },
  {
   "cell_type": "code",
   "execution_count": null,
   "metadata": {},
   "outputs": [],
   "source": []
  },
  {
   "cell_type": "code",
   "execution_count": null,
   "metadata": {},
   "outputs": [],
   "source": []
  },
  {
   "cell_type": "code",
   "execution_count": null,
   "metadata": {},
   "outputs": [],
   "source": []
  },
  {
   "cell_type": "code",
   "execution_count": null,
   "metadata": {},
   "outputs": [],
   "source": []
  }
 ],
 "metadata": {
  "kernelspec": {
   "display_name": "Python 3",
   "language": "python",
   "name": "python3"
  },
  "language_info": {
   "codemirror_mode": {
    "name": "ipython",
    "version": 3
   },
   "file_extension": ".py",
   "mimetype": "text/x-python",
   "name": "python",
   "nbconvert_exporter": "python",
   "pygments_lexer": "ipython3",
   "version": "3.7.3"
  }
 },
 "nbformat": 4,
 "nbformat_minor": 2
}
