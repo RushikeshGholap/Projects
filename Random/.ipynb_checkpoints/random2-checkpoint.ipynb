{
 "cells": [
  {
   "cell_type": "code",
   "execution_count": null,
   "metadata": {},
   "outputs": [],
   "source": [
    "import pandas as pd"
   ]
  },
  {
   "cell_type": "code",
   "execution_count": null,
   "metadata": {},
   "outputs": [],
   "source": [
    "df = pd.DataFrame({'col1': [2, 4, 6, 3], 'col2': [8, -2, 5, 3]}, \n",
    "                    index=pd.MultiIndex.from_tuples([('A', 'B'), ('B', 'A'), ('A', 'C'), ('C', 'A')]))\n",
    "df.index.names = ['from', 'to']\n",
    "df"
   ]
  },
  {
   "cell_type": "code",
   "execution_count": null,
   "metadata": {},
   "outputs": [],
   "source": [
    "df2 = df.reset_index()\n",
    "df2['groups'] = df2[['from','to']].agg(lambda x: tuple(set(x)), axis=1)\n",
    "df3 = df2.groupby(['groups']).sum().reset_index()\n",
    "df4 = df3.set_index([df3['groups'].apply(lambda x:x[0]), df3['groups'].apply(lambda x:x[1])]).drop(['groups'], axis=1)\n",
    "df4.index.names = ['from', 'to']\n",
    "df4"
   ]
  },
  {
   "cell_type": "code",
   "execution_count": null,
   "metadata": {},
   "outputs": [],
   "source": [
    "df = df.reset_index()\n",
    "df.index = pd.MultiIndex.from_tuples(df[['from','to']].apply(lambda x: sorted(x), axis=1))\n",
    "df.groupby(level=[0,1]).sum()"
   ]
  },
  {
   "cell_type": "code",
   "execution_count": null,
   "metadata": {},
   "outputs": [],
   "source": [
    "df = df.reset_index()\n",
    "df"
   ]
  },
  {
   "cell_type": "code",
   "execution_count": null,
   "metadata": {},
   "outputs": [],
   "source": [
    "df.index = pd.MultiIndex.from_tuples(df[['from','to']].apply(lambda x: sorted(x), axis=1))\n",
    "df.groupby(level=[0,1]).sum()"
   ]
  },
  {
   "cell_type": "code",
   "execution_count": null,
   "metadata": {},
   "outputs": [],
   "source": []
  },
  {
   "cell_type": "code",
   "execution_count": null,
   "metadata": {},
   "outputs": [],
   "source": []
  },
  {
   "cell_type": "code",
   "execution_count": null,
   "metadata": {},
   "outputs": [],
   "source": []
  },
  {
   "cell_type": "code",
   "execution_count": null,
   "metadata": {},
   "outputs": [],
   "source": []
  },
  {
   "cell_type": "code",
   "execution_count": null,
   "metadata": {},
   "outputs": [],
   "source": []
  },
  {
   "cell_type": "code",
   "execution_count": null,
   "metadata": {},
   "outputs": [],
   "source": []
  },
  {
   "cell_type": "code",
   "execution_count": null,
   "metadata": {},
   "outputs": [],
   "source": []
  },
  {
   "cell_type": "code",
   "execution_count": null,
   "metadata": {},
   "outputs": [],
   "source": []
  },
  {
   "cell_type": "code",
   "execution_count": null,
   "metadata": {},
   "outputs": [],
   "source": [
    "def results(m1, m2):\n",
    "    compute = np.sum(np.abs(np.array(m1)-np.array(m2)))\n",
    "    \n",
    "    if compute==0:\n",
    "        return 'Fit'\n",
    "    elif compute==255:\n",
    "        return 'Hit'\n",
    "    elif compute==255*len(m1)**2:\n",
    "        return 'Miss'\n",
    "    else:\n",
    "        return 'None'"
   ]
  },
  {
   "cell_type": "code",
   "execution_count": null,
   "metadata": {},
   "outputs": [],
   "source": [
    "m1 = [[255,0,255],\n",
    "      [0  ,0,  0],\n",
    "      [255,0,255]]\n",
    "\n",
    "m2 = [[255,0,255],\n",
    "      [0  ,0,  0],\n",
    "      [255,0,255]]"
   ]
  },
  {
   "cell_type": "code",
   "execution_count": null,
   "metadata": {},
   "outputs": [],
   "source": [
    "print('Case 1: ', results(m1, m2))"
   ]
  },
  {
   "cell_type": "code",
   "execution_count": null,
   "metadata": {},
   "outputs": [],
   "source": [
    "m1 = [[255,0,255],\n",
    "      [0 ,255, 0],\n",
    "      [255,0,255]]\n",
    "\n",
    "m2 = [[255,0,255],\n",
    "      [0  ,0,  0],\n",
    "      [255,0,255]]"
   ]
  },
  {
   "cell_type": "code",
   "execution_count": null,
   "metadata": {},
   "outputs": [],
   "source": [
    "print('Case 2: ', results(m1, m2))"
   ]
  },
  {
   "cell_type": "code",
   "execution_count": null,
   "metadata": {},
   "outputs": [],
   "source": [
    "m1 = [[0,  255,  0],\n",
    "      [255,255,255],\n",
    "      [0  ,255,  0]]\n",
    "\n",
    "m2 = [[255,0,255],\n",
    "      [0  ,0,  0],\n",
    "      [255,0,255]]"
   ]
  },
  {
   "cell_type": "code",
   "execution_count": null,
   "metadata": {},
   "outputs": [],
   "source": [
    "print('Case 3: ', results(m1, m2))"
   ]
  },
  {
   "cell_type": "code",
   "execution_count": null,
   "metadata": {},
   "outputs": [],
   "source": []
  },
  {
   "cell_type": "code",
   "execution_count": null,
   "metadata": {},
   "outputs": [],
   "source": []
  },
  {
   "cell_type": "code",
   "execution_count": null,
   "metadata": {},
   "outputs": [],
   "source": []
  },
  {
   "cell_type": "code",
   "execution_count": null,
   "metadata": {},
   "outputs": [],
   "source": []
  },
  {
   "cell_type": "code",
   "execution_count": null,
   "metadata": {},
   "outputs": [],
   "source": []
  },
  {
   "cell_type": "code",
   "execution_count": null,
   "metadata": {},
   "outputs": [],
   "source": []
  },
  {
   "cell_type": "code",
   "execution_count": null,
   "metadata": {},
   "outputs": [],
   "source": [
    "a = [['Pangarap' ,   'Barbies Cradle',     0.088700 ,   0.566000,    97.091000,   235440,  0],\n",
    "['I Feel Alive' ,   'Steady Rollin',   0.347000,    0.404000,    135.225000,  373512,  -1],\n",
    "['Poison',  'Bell Biv DeVoe',  0.489000 ,   0.650000 ,   111.904000 , 262467 , -1]]"
   ]
  },
  {
   "cell_type": "code",
   "execution_count": null,
   "metadata": {},
   "outputs": [],
   "source": [
    "spotify = pd.DataFrame(a, columns=['track_name', 'track_artist','liveness','valence','tempo','duration_me','intervals'])"
   ]
  },
  {
   "cell_type": "code",
   "execution_count": null,
   "metadata": {},
   "outputs": [],
   "source": [
    "def get_random_tracks(interval):\n",
    "    np.random()"
   ]
  },
  {
   "cell_type": "code",
   "execution_count": null,
   "metadata": {},
   "outputs": [],
   "source": [
    "np.random.choice()"
   ]
  },
  {
   "cell_type": "code",
   "execution_count": null,
   "metadata": {},
   "outputs": [],
   "source": [
    "dd = pd.DataFrame(spotify.groupby(['intervals'])['track_name'].apply(list)).reset_index()\n",
    "dd['random_track'] = dd['track_name'].apply(np.random.choice, size=(n,))\n",
    "dd"
   ]
  },
  {
   "cell_type": "code",
   "execution_count": null,
   "metadata": {},
   "outputs": [],
   "source": [
    "df"
   ]
  },
  {
   "cell_type": "code",
   "execution_count": null,
   "metadata": {},
   "outputs": [],
   "source": []
  },
  {
   "cell_type": "code",
   "execution_count": null,
   "metadata": {},
   "outputs": [],
   "source": []
  },
  {
   "cell_type": "code",
   "execution_count": null,
   "metadata": {},
   "outputs": [],
   "source": []
  },
  {
   "cell_type": "code",
   "execution_count": null,
   "metadata": {},
   "outputs": [],
   "source": []
  },
  {
   "cell_type": "code",
   "execution_count": null,
   "metadata": {},
   "outputs": [],
   "source": []
  },
  {
   "cell_type": "code",
   "execution_count": null,
   "metadata": {},
   "outputs": [],
   "source": [
    "df1 = pd.DataFrame(\n",
    "  {\n",
    "  'item1_aspect1' : [\"a\", \"b\", \"c\"],\n",
    "  'item1_aspect2' : [1,2,3],\n",
    "  'item1_aspect3' : [\"[12,34]\", \"[56,78]\", \"[99,10]\"],\n",
    "  'item2_aspect1' : [\"a\", \"b\", \"c\"],\n",
    "  'item2_aspect2' : [1,2,3],\n",
    "  'item2_aspect3' : [\"[12,34]\", \"[56,78]\", \"[99,10]\"],\n",
    "  'item3_aspect1' : [\"a\", \"b\", \"c\"],\n",
    "  'item3_aspect2' : [1,2,3],\n",
    "  'item3_aspect3' : [\"[12,34]\", \"[56,78]\", \"[99,10]\"]\n",
    "  })\n",
    "\n",
    "\n",
    "df2 = pd.DataFrame({\n",
    "  'aspect_1' : [\"a\", \"b\", \"c\", \"a\", \"b\", \"c\", \"a\", \"b\", \"c\"],\n",
    "  'aspect_2' : [1,2,3,1,2,3,1,2,3],\n",
    "  'aspect_3' : [\"[12,34]\", \"[56,78]\", \"[99,10]\", \"[12,34]\", \"[56,78]\", \"[99,10]\", \"[12,34]\", \"[56,78]\", \"[99,10]\"]\n",
    "})"
   ]
  },
  {
   "cell_type": "code",
   "execution_count": null,
   "metadata": {},
   "outputs": [],
   "source": [
    "n = len(df1.columns)"
   ]
  },
  {
   "cell_type": "code",
   "execution_count": null,
   "metadata": {},
   "outputs": [],
   "source": [
    "lst = list(df1.columns)\n",
    "n=3\n",
    "new_cols = ['aspect_1', 'aspect_2', 'aspect_3']\n",
    "chunks = [lst[i:i + n] for i in range(0, len(lst), n)]\n",
    "pd.concat([df1[i].set_axis(new_cols, axis=1) for i in chunks], axis=0, ignore_index=True)"
   ]
  },
  {
   "cell_type": "code",
   "execution_count": null,
   "metadata": {},
   "outputs": [],
   "source": [
    "df1[chunks[0]].set_axis(new_cols, axis=1)"
   ]
  },
  {
   "cell_type": "code",
   "execution_count": null,
   "metadata": {},
   "outputs": [],
   "source": []
  },
  {
   "cell_type": "code",
   "execution_count": null,
   "metadata": {},
   "outputs": [],
   "source": []
  },
  {
   "cell_type": "code",
   "execution_count": null,
   "metadata": {},
   "outputs": [],
   "source": []
  },
  {
   "cell_type": "code",
   "execution_count": null,
   "metadata": {},
   "outputs": [],
   "source": []
  },
  {
   "cell_type": "code",
   "execution_count": null,
   "metadata": {},
   "outputs": [],
   "source": [
    "a = 'hi there'"
   ]
  },
  {
   "cell_type": "code",
   "execution_count": null,
   "metadata": {},
   "outputs": [],
   "source": [
    "' '.join([''.join([j[1].lower() if j[0]%2==0 else j[1].upper() for j in enumerate(i)]) for i in a.split()])"
   ]
  },
  {
   "cell_type": "code",
   "execution_count": null,
   "metadata": {},
   "outputs": [],
   "source": [
    "''.join([i[1].lower() if i[0]%2==0 else i[1].upper() for i in enumerate(a)])"
   ]
  },
  {
   "cell_type": "code",
   "execution_count": null,
   "metadata": {},
   "outputs": [],
   "source": []
  },
  {
   "cell_type": "code",
   "execution_count": null,
   "metadata": {},
   "outputs": [],
   "source": []
  },
  {
   "cell_type": "code",
   "execution_count": null,
   "metadata": {},
   "outputs": [],
   "source": []
  },
  {
   "cell_type": "code",
   "execution_count": null,
   "metadata": {},
   "outputs": [],
   "source": []
  },
  {
   "cell_type": "code",
   "execution_count": null,
   "metadata": {},
   "outputs": [],
   "source": [
    "df = pd.DataFrame({'Q1': {0: 'test1'}, 'C1': {0: 'a'}, 'I11': {0: 'b'}, 'I12': {0: 'c'}, 'I13': {0: 'd'}, 'Q2': {0: 'test2'}, 'C2': {0: 'e'}, 'I21': {0: 'f'}, 'I22': {0: 'g'}, 'I23': {0: 'h'}, 'Q3': {\n",
    "       0: 'test3'}, 'C3': {0: 'i'}, 'I31': {0: 'j'}, 'I32': {0: 'k'}, 'I33': {0: 'l'}})"
   ]
  },
  {
   "cell_type": "code",
   "execution_count": null,
   "metadata": {},
   "outputs": [],
   "source": [
    "lst = list(df.columns)\n",
    "n=5\n",
    "new_cols = ['Q', 'CA', 'IA1','IA2','IA3']\n",
    "\n",
    "#break the column list into groups of n = 3 in this case\n",
    "chunks = [lst[i:i + n] for i in range(0, len(lst), n)]\n",
    "\n",
    "#concatenate the list of dataframes over axis = 0after renaming columns of each \n",
    "pd.concat([df[i].set_axis(new_cols, axis=1) for i in chunks], axis=0, ignore_index=True)"
   ]
  },
  {
   "cell_type": "code",
   "execution_count": null,
   "metadata": {},
   "outputs": [],
   "source": [
    "a = [{'display': 'none'} for i in range(5)]\n",
    "a[0]['display']='inline'\n",
    "a"
   ]
  },
  {
   "cell_type": "code",
   "execution_count": null,
   "metadata": {},
   "outputs": [],
   "source": []
  },
  {
   "cell_type": "code",
   "execution_count": null,
   "metadata": {},
   "outputs": [],
   "source": []
  },
  {
   "cell_type": "code",
   "execution_count": null,
   "metadata": {},
   "outputs": [],
   "source": []
  },
  {
   "cell_type": "code",
   "execution_count": null,
   "metadata": {},
   "outputs": [],
   "source": []
  },
  {
   "cell_type": "code",
   "execution_count": null,
   "metadata": {},
   "outputs": [],
   "source": []
  },
  {
   "cell_type": "code",
   "execution_count": null,
   "metadata": {},
   "outputs": [],
   "source": [
    "df = pd.read_excel(\n",
    "    \"https://testme162.s3.amazonaws.com/just_stack.xlsx\", header=list(range(5))\n",
    ")"
   ]
  },
  {
   "cell_type": "code",
   "execution_count": null,
   "metadata": {},
   "outputs": [],
   "source": [
    "expected = pd.read_excel(\n",
    "    \"https://testme162.s3.amazonaws.com/just_stack.xlsx\", sheet_name=\"expected\",\n",
    ")"
   ]
  },
  {
   "cell_type": "code",
   "execution_count": null,
   "metadata": {},
   "outputs": [],
   "source": [
    "expected.head()"
   ]
  },
  {
   "cell_type": "code",
   "execution_count": null,
   "metadata": {},
   "outputs": [],
   "source": [
    "df.head()"
   ]
  },
  {
   "cell_type": "code",
   "execution_count": null,
   "metadata": {},
   "outputs": [],
   "source": [
    "df.columns"
   ]
  },
  {
   "cell_type": "code",
   "execution_count": null,
   "metadata": {},
   "outputs": [],
   "source": []
  },
  {
   "cell_type": "code",
   "execution_count": null,
   "metadata": {},
   "outputs": [],
   "source": []
  },
  {
   "cell_type": "code",
   "execution_count": null,
   "metadata": {},
   "outputs": [],
   "source": []
  },
  {
   "cell_type": "code",
   "execution_count": null,
   "metadata": {},
   "outputs": [],
   "source": []
  },
  {
   "cell_type": "code",
   "execution_count": null,
   "metadata": {},
   "outputs": [],
   "source": []
  },
  {
   "cell_type": "code",
   "execution_count": null,
   "metadata": {},
   "outputs": [],
   "source": []
  },
  {
   "cell_type": "code",
   "execution_count": null,
   "metadata": {},
   "outputs": [],
   "source": []
  },
  {
   "cell_type": "code",
   "execution_count": null,
   "metadata": {},
   "outputs": [],
   "source": [
    "#!pip install -U spacy\n",
    "#!python -m spacy download en\n",
    "from nltk import Tree\n",
    "import spacy\n",
    "en_nlp = spacy.load('en')"
   ]
  },
  {
   "cell_type": "code",
   "execution_count": null,
   "metadata": {},
   "outputs": [],
   "source": [
    "def tok_format(tok):\n",
    "    return \"_\".join([tok.orth_, tok.tag_, tok.dep_])\n",
    "\n",
    "\n",
    "def to_nltk_tree(node):\n",
    "    if node.n_lefts + node.n_rights > 0:\n",
    "        return Tree(tok_format(node), [to_nltk_tree(child) for child in node.children])\n",
    "    else:\n",
    "        return tok_format(node)\n",
    "\n",
    "\n",
    "command = \"The chef cooks the soup\"\n",
    "en_doc = en_nlp(u'' + command) \n",
    "\n",
    "[to_nltk_tree(sent.root).pretty_print() for sent in en_doc.sents]"
   ]
  },
  {
   "cell_type": "code",
   "execution_count": null,
   "metadata": {
    "scrolled": false
   },
   "outputs": [],
   "source": [
    "command = \"She sells sea shells on the sea shore\"\n",
    "en_doc = en_nlp(u'' + command) \n",
    "\n",
    "[to_nltk_tree(sent.root).pretty_print() for sent in en_doc.sents]"
   ]
  },
  {
   "cell_type": "code",
   "execution_count": null,
   "metadata": {},
   "outputs": [],
   "source": []
  },
  {
   "cell_type": "code",
   "execution_count": null,
   "metadata": {},
   "outputs": [],
   "source": []
  },
  {
   "cell_type": "code",
   "execution_count": null,
   "metadata": {},
   "outputs": [],
   "source": []
  },
  {
   "cell_type": "code",
   "execution_count": null,
   "metadata": {},
   "outputs": [],
   "source": []
  },
  {
   "cell_type": "code",
   "execution_count": null,
   "metadata": {},
   "outputs": [],
   "source": []
  },
  {
   "cell_type": "code",
   "execution_count": null,
   "metadata": {},
   "outputs": [],
   "source": []
  },
  {
   "cell_type": "code",
   "execution_count": null,
   "metadata": {},
   "outputs": [],
   "source": [
    "from sympy import *\n",
    "\n",
    "def trapezoid(f, a, b, n):\n",
    "    h = float(b - a) / n\n",
    "    result = 0.5 * f.evalf(subs={x: a}) + 0.5 * f.evalf(subs={x: b})\n",
    "    for i in range(1, n):\n",
    "        result += f.evalf(subs={x: (a + i * h)})\n",
    "    result *= h\n",
    "    return result\n",
    "\n",
    "if __name__ == \"__main__\":\n",
    "    x = Symbol('x')\n",
    "    fonction = Pow(x,2)\n",
    "    print(fonction) # x**2\n",
    "    #print(type(fonction)) # <class 'sympy.core.power.Pow'>\n",
    "\n",
    "    #print(\"Expected Result : \", trapezoid(lambda x: x ** 2, 1, 5, 100))\n",
    "\n",
    "    print(\"Expected result : \",trapezoid(fonction, 1, 5, 100)) # Won't give me expected result"
   ]
  },
  {
   "cell_type": "code",
   "execution_count": null,
   "metadata": {},
   "outputs": [],
   "source": []
  },
  {
   "cell_type": "code",
   "execution_count": null,
   "metadata": {},
   "outputs": [],
   "source": []
  },
  {
   "cell_type": "code",
   "execution_count": null,
   "metadata": {},
   "outputs": [],
   "source": []
  },
  {
   "cell_type": "code",
   "execution_count": null,
   "metadata": {},
   "outputs": [],
   "source": []
  },
  {
   "cell_type": "code",
   "execution_count": null,
   "metadata": {},
   "outputs": [],
   "source": []
  },
  {
   "cell_type": "code",
   "execution_count": null,
   "metadata": {},
   "outputs": [],
   "source": [
    "schools = [\n",
    "   {'location':'New York','school-code':[ 'MGOA', 'CityU', 'AKO']}, \n",
    "   {'location':'New Jersey','school-code':['GOE']},\n",
    "   {'location':'California','school-code':['OAS','STO']},\n",
    "   {'location':'Florida','school-code':['CDY', 'OAK']}\n",
    "]"
   ]
  },
  {
   "cell_type": "code",
   "execution_count": null,
   "metadata": {},
   "outputs": [],
   "source": [
    "code_input = 'CityU'\n",
    "l = [i['location'] for i in schools if code_input in i['school-code']][0]\n",
    "print(\"Your school zone is\",l)"
   ]
  },
  {
   "cell_type": "code",
   "execution_count": null,
   "metadata": {},
   "outputs": [],
   "source": []
  },
  {
   "cell_type": "code",
   "execution_count": null,
   "metadata": {},
   "outputs": [],
   "source": []
  },
  {
   "cell_type": "code",
   "execution_count": null,
   "metadata": {},
   "outputs": [],
   "source": []
  },
  {
   "cell_type": "code",
   "execution_count": null,
   "metadata": {},
   "outputs": [],
   "source": []
  },
  {
   "cell_type": "code",
   "execution_count": null,
   "metadata": {},
   "outputs": [],
   "source": [
    "import pandas as pd\n",
    "df = pd.DataFrame({'index':[1,1,2,2,3,3,4,4], 'Vol':[25,15,20,30,25,10,15,20]}).set_index(['index'])"
   ]
  },
  {
   "cell_type": "code",
   "execution_count": null,
   "metadata": {},
   "outputs": [],
   "source": [
    "df.reset_index().set_axis(['index','Vol'], axis=1).groupby(['index'])['Vol'].sum()"
   ]
  },
  {
   "cell_type": "code",
   "execution_count": null,
   "metadata": {},
   "outputs": [],
   "source": [
    "df.sum(level=0).rolling(2).sum().dropna()"
   ]
  },
  {
   "cell_type": "code",
   "execution_count": null,
   "metadata": {},
   "outputs": [],
   "source": []
  },
  {
   "cell_type": "code",
   "execution_count": null,
   "metadata": {},
   "outputs": [],
   "source": []
  },
  {
   "cell_type": "code",
   "execution_count": null,
   "metadata": {},
   "outputs": [],
   "source": []
  },
  {
   "cell_type": "code",
   "execution_count": null,
   "metadata": {},
   "outputs": [],
   "source": [
    "import numpy as np"
   ]
  },
  {
   "cell_type": "code",
   "execution_count": null,
   "metadata": {},
   "outputs": [],
   "source": [
    "data = [['22', '45', '6', '72', '1', '65'], ['2', '65', '67', '23', '98', '1'], ['13', '45', '98', '4', '12', '65']]"
   ]
  },
  {
   "cell_type": "code",
   "execution_count": null,
   "metadata": {},
   "outputs": [],
   "source": [
    "dd = np.array(data).astype(int)\n",
    "dd"
   ]
  },
  {
   "cell_type": "code",
   "execution_count": null,
   "metadata": {},
   "outputs": [],
   "source": []
  },
  {
   "cell_type": "code",
   "execution_count": null,
   "metadata": {},
   "outputs": [],
   "source": [
    "vocab[0]"
   ]
  },
  {
   "cell_type": "code",
   "execution_count": null,
   "metadata": {},
   "outputs": [],
   "source": [
    "[1] + list(np.sum((dd==vocab[0]).astype(int), axis=0))"
   ]
  },
  {
   "cell_type": "code",
   "execution_count": null,
   "metadata": {},
   "outputs": [],
   "source": [
    "dd = np.array(data).astype(int)   #get the list of lists into a 2d numpy array\n",
    "vocab = np.unique(dd.flatten())   #get vocab of all unique numbers\n",
    "df = pd.DataFrame([[i]+list(np.sum((dd==i).astype(int), axis=0)) for i in vocab]) #loop thru vocab and get sum of occurances in each index position\n",
    "df.columns = ['num', 0, 1, 2, 3, 4, 5]    #rename cols\n",
    "df['numoccurances'] = df.iloc[:,1:].sum(axis=1)   #create total occurances of the item\n",
    "\n",
    "#Stack the position counts and rename cols\n",
    "stats = pd.DataFrame(df.set_index(['num','numoccurances']).\\\n",
    "                     stack()).reset_index().\\\n",
    "                     set_axis(['num', 'numoccurances', 'position', 'numtimesinposition'], axis=1)\n",
    "\n",
    "stats = stats[stats['numtimesinposition']>0].reset_index(drop=True)"
   ]
  },
  {
   "cell_type": "code",
   "execution_count": null,
   "metadata": {},
   "outputs": [],
   "source": [
    "print(stats)"
   ]
  },
  {
   "cell_type": "code",
   "execution_count": null,
   "metadata": {},
   "outputs": [],
   "source": [
    "print(stats)"
   ]
  },
  {
   "cell_type": "code",
   "execution_count": null,
   "metadata": {},
   "outputs": [],
   "source": []
  },
  {
   "cell_type": "code",
   "execution_count": null,
   "metadata": {},
   "outputs": [],
   "source": []
  },
  {
   "cell_type": "code",
   "execution_count": null,
   "metadata": {},
   "outputs": [],
   "source": []
  },
  {
   "cell_type": "code",
   "execution_count": null,
   "metadata": {},
   "outputs": [],
   "source": []
  },
  {
   "cell_type": "code",
   "execution_count": null,
   "metadata": {},
   "outputs": [],
   "source": []
  },
  {
   "cell_type": "code",
   "execution_count": null,
   "metadata": {},
   "outputs": [],
   "source": []
  },
  {
   "cell_type": "code",
   "execution_count": null,
   "metadata": {},
   "outputs": [],
   "source": []
  },
  {
   "cell_type": "code",
   "execution_count": null,
   "metadata": {},
   "outputs": [],
   "source": []
  },
  {
   "cell_type": "code",
   "execution_count": null,
   "metadata": {},
   "outputs": [],
   "source": []
  },
  {
   "cell_type": "code",
   "execution_count": null,
   "metadata": {},
   "outputs": [],
   "source": [
    "df = pd.DataFrame({\n",
    "'Color': ['r','r','r','b'],\n",
    "'Marker': ['^','*','^','*']\n",
    "})\n",
    "\n",
    "\n",
    "from sklearn.preprocessing import LabelEncoder\n",
    "lb = LabelEncoder()\n",
    "\n",
    "df['combined'] = df.apply(lambda x: ''.join(x), axis=1)\n",
    "df['combined'] = lb.fit_transform(df['combined'])\n",
    "print(df)"
   ]
  },
  {
   "cell_type": "code",
   "execution_count": null,
   "metadata": {},
   "outputs": [],
   "source": [
    "list(enumerate(lb.classes_))"
   ]
  },
  {
   "cell_type": "code",
   "execution_count": null,
   "metadata": {},
   "outputs": [],
   "source": [
    "[tuple(i) for i in lb.inverse_transform([0, 2, 1])]"
   ]
  },
  {
   "cell_type": "code",
   "execution_count": null,
   "metadata": {},
   "outputs": [],
   "source": []
  },
  {
   "cell_type": "code",
   "execution_count": null,
   "metadata": {},
   "outputs": [],
   "source": []
  },
  {
   "cell_type": "code",
   "execution_count": null,
   "metadata": {},
   "outputs": [],
   "source": []
  },
  {
   "cell_type": "code",
   "execution_count": null,
   "metadata": {},
   "outputs": [],
   "source": []
  },
  {
   "cell_type": "code",
   "execution_count": null,
   "metadata": {},
   "outputs": [],
   "source": [
    "s =  'fell down the stairs and ate an apple so no doctor #quarantine'\n",
    "allwords = s.split(' ')\n",
    "allwords"
   ]
  },
  {
   "cell_type": "code",
   "execution_count": null,
   "metadata": {},
   "outputs": [],
   "source": [
    "hastags = [i for i in allwords if i[:1]=='#']\n",
    "hastags"
   ]
  },
  {
   "cell_type": "code",
   "execution_count": null,
   "metadata": {},
   "outputs": [],
   "source": [
    "otherwords = [i for i in allwords if i not in hastags]\n",
    "otherwords"
   ]
  },
  {
   "cell_type": "code",
   "execution_count": null,
   "metadata": {},
   "outputs": [],
   "source": [
    "tags = [\"corona\", \"quarantine\", \"covid19\"]\n",
    "print([i for i in s.split(' ') if i.strip('#') not in tags])"
   ]
  },
  {
   "cell_type": "code",
   "execution_count": null,
   "metadata": {},
   "outputs": [],
   "source": []
  },
  {
   "cell_type": "code",
   "execution_count": null,
   "metadata": {},
   "outputs": [],
   "source": [
    "'abcd'.strip('a')"
   ]
  },
  {
   "cell_type": "code",
   "execution_count": null,
   "metadata": {},
   "outputs": [],
   "source": [
    "tags = [\"corona\", \"quarantine\", \"covid19\"]\n",
    "print([i for i in s.split(' ') if i.strip('#') not in tags and i not in tags])"
   ]
  },
  {
   "cell_type": "code",
   "execution_count": null,
   "metadata": {},
   "outputs": [],
   "source": []
  },
  {
   "cell_type": "code",
   "execution_count": null,
   "metadata": {},
   "outputs": [],
   "source": []
  },
  {
   "cell_type": "code",
   "execution_count": null,
   "metadata": {},
   "outputs": [],
   "source": []
  },
  {
   "cell_type": "code",
   "execution_count": null,
   "metadata": {},
   "outputs": [],
   "source": []
  },
  {
   "cell_type": "code",
   "execution_count": null,
   "metadata": {},
   "outputs": [],
   "source": [
    "word = 'sender'\n",
    "others = ['bnder', 'snder', 'sender', 'hello']\n",
    "\n",
    "process.extractBests(word, others)"
   ]
  },
  {
   "cell_type": "code",
   "execution_count": null,
   "metadata": {},
   "outputs": [],
   "source": [
    "[(i, fuzz.ratio(word, i)) for i in others]"
   ]
  },
  {
   "cell_type": "code",
   "execution_count": null,
   "metadata": {},
   "outputs": [],
   "source": [
    "df = pd.DataFrame(['hi there i am a sender', \n",
    "                   'I dont wanna be a bnder', \n",
    "                   'can i be the snder?', \n",
    "                   'i think i am a nerd',\n",
    "                   'i next to selx a bit'], columns=['text'])"
   ]
  },
  {
   "cell_type": "code",
   "execution_count": null,
   "metadata": {},
   "outputs": [],
   "source": [
    "def get_match(s,w,t):\n",
    "    ss = process.extractBests(w,s.split())\n",
    "    return any([i[1]>t for i in ss])"
   ]
  },
  {
   "cell_type": "code",
   "execution_count": null,
   "metadata": {},
   "outputs": [],
   "source": [
    "df['match'] = df['text'].apply(get_match, w='sender', t=70)\n",
    "print(df)"
   ]
  },
  {
   "cell_type": "code",
   "execution_count": null,
   "metadata": {},
   "outputs": [],
   "source": [
    "options = ['sender','slx']\n",
    "for i in options:\n",
    "    df[i] = df['text'].apply(get_match, w=i, t=70)"
   ]
  },
  {
   "cell_type": "code",
   "execution_count": null,
   "metadata": {},
   "outputs": [],
   "source": [
    "df"
   ]
  },
  {
   "cell_type": "code",
   "execution_count": null,
   "metadata": {},
   "outputs": [],
   "source": [
    "print(df[df['match']==True][['text']])"
   ]
  },
  {
   "cell_type": "code",
   "execution_count": null,
   "metadata": {},
   "outputs": [],
   "source": []
  },
  {
   "cell_type": "code",
   "execution_count": null,
   "metadata": {},
   "outputs": [],
   "source": []
  },
  {
   "cell_type": "code",
   "execution_count": null,
   "metadata": {},
   "outputs": [],
   "source": []
  },
  {
   "cell_type": "code",
   "execution_count": null,
   "metadata": {},
   "outputs": [],
   "source": []
  },
  {
   "cell_type": "code",
   "execution_count": null,
   "metadata": {},
   "outputs": [],
   "source": [
    "import pandas as pd \n",
    "df=pd.DataFrame({'rating':[5.0,4.5,3.0,2.5,4.0,4.5,5.0,3.0],\n",
    "             'productname':['s','v','r','n','k','a','q','w'],\n",
    "             'category':['mobile','mobile','mobile','mobile','laptop','laptop','laptop','laptop']\n",
    "         })"
   ]
  },
  {
   "cell_type": "code",
   "execution_count": null,
   "metadata": {},
   "outputs": [],
   "source": [
    "df.nlargest"
   ]
  },
  {
   "cell_type": "code",
   "execution_count": null,
   "metadata": {},
   "outputs": [],
   "source": [
    "print(df.groupby(['category']).apply(lambda x:x.nlargest(3, 'rating')))"
   ]
  },
  {
   "cell_type": "code",
   "execution_count": null,
   "metadata": {},
   "outputs": [],
   "source": []
  },
  {
   "cell_type": "code",
   "execution_count": null,
   "metadata": {},
   "outputs": [],
   "source": []
  },
  {
   "cell_type": "code",
   "execution_count": null,
   "metadata": {},
   "outputs": [],
   "source": [
    "lst_a = ['zero one two', 'three four five six', 'one two', 'five four nine twelve ten', 'five fifty eleven four'] \n",
    "lst_b = ['zero', 'one', 'two', 'three', 'four', 'five', 'six', 'one', 'two', 'five', 'four', 'nine', 'twelve', 'ten']\n",
    "\n",
    "common_tokens = [set(i.split()).intersection(set(lst_b)) for i in lst_a]\n",
    "new_lst = [' '.join(i) for i in common_tokens]\n",
    "new_lst"
   ]
  },
  {
   "cell_type": "code",
   "execution_count": null,
   "metadata": {},
   "outputs": [],
   "source": [
    "print(new_lst)"
   ]
  },
  {
   "cell_type": "code",
   "execution_count": null,
   "metadata": {},
   "outputs": [],
   "source": []
  },
  {
   "cell_type": "code",
   "execution_count": null,
   "metadata": {},
   "outputs": [],
   "source": []
  },
  {
   "cell_type": "code",
   "execution_count": null,
   "metadata": {},
   "outputs": [],
   "source": []
  },
  {
   "cell_type": "code",
   "execution_count": null,
   "metadata": {},
   "outputs": [],
   "source": [
    "d = {\"z\": 1.6, \"aaaaaaaaaaaaa\": 0, \"w\": 6, \"v\": 4}\n",
    "dict(sorted(d.items(), key=lambda x:x[1], reverse=True))"
   ]
  },
  {
   "cell_type": "code",
   "execution_count": null,
   "metadata": {},
   "outputs": [],
   "source": []
  },
  {
   "cell_type": "code",
   "execution_count": null,
   "metadata": {},
   "outputs": [],
   "source": [
    "import itertools"
   ]
  },
  {
   "cell_type": "code",
   "execution_count": null,
   "metadata": {},
   "outputs": [],
   "source": [
    "#randomList = [[1,2,3],[4,5,6],[7,8,9]]\n",
    "randomList = [['A','B','C'],['D','E','F'],['G','H','I']]\n",
    "for el in itertools.product(*randomList):\n",
    "        print(randomList)"
   ]
  },
  {
   "cell_type": "code",
   "execution_count": null,
   "metadata": {},
   "outputs": [],
   "source": []
  },
  {
   "cell_type": "code",
   "execution_count": null,
   "metadata": {},
   "outputs": [],
   "source": []
  },
  {
   "cell_type": "code",
   "execution_count": null,
   "metadata": {},
   "outputs": [],
   "source": []
  },
  {
   "cell_type": "code",
   "execution_count": null,
   "metadata": {},
   "outputs": [],
   "source": [
    "vocab = np.unique(a.values)"
   ]
  },
  {
   "cell_type": "code",
   "execution_count": null,
   "metadata": {},
   "outputs": [],
   "source": [
    "vocab"
   ]
  },
  {
   "cell_type": "code",
   "execution_count": null,
   "metadata": {},
   "outputs": [],
   "source": [
    "from sklearn.feature_extraction.text import CountVectorizer\n",
    "\n",
    "cnt = CountVectorizer(vocabulary=vocab)"
   ]
  },
  {
   "cell_type": "code",
   "execution_count": null,
   "metadata": {},
   "outputs": [],
   "source": [
    "l"
   ]
  },
  {
   "cell_type": "code",
   "execution_count": null,
   "metadata": {},
   "outputs": [],
   "source": []
  },
  {
   "cell_type": "code",
   "execution_count": null,
   "metadata": {},
   "outputs": [],
   "source": []
  },
  {
   "cell_type": "code",
   "execution_count": null,
   "metadata": {},
   "outputs": [],
   "source": []
  },
  {
   "cell_type": "code",
   "execution_count": null,
   "metadata": {},
   "outputs": [],
   "source": []
  },
  {
   "cell_type": "code",
   "execution_count": null,
   "metadata": {},
   "outputs": [],
   "source": [
    "df = pd.DataFrame([['(-1.774, 1.145]','(-3.21, 0.533]','(0.0166, 2.007]','(2.0, 3.997]'],\n",
    "                ['(-1.774, 1.145]','(-3.21, 0.533]','(2.007, 3.993]','(2.0, 3.997]']])\n",
    "df = df.astype(str)\n",
    "print(df)"
   ]
  },
  {
   "cell_type": "code",
   "execution_count": null,
   "metadata": {},
   "outputs": [],
   "source": [
    "from sklearn.preprocessing import OneHotEncoder\n",
    "\n",
    "l = OneHotEncoder()\n",
    "data = l.fit_transform(df.values)\n",
    "co_occurance = np.dot(data.T, data)\n",
    "\n",
    "vocab = [i[3:] for i in l.get_feature_names()]\n",
    "ddf = pd.DataFrame(co_occurance.todense(), columns=vocab, index=vocab)"
   ]
  },
  {
   "cell_type": "code",
   "execution_count": null,
   "metadata": {},
   "outputs": [],
   "source": [
    "print(ddf)"
   ]
  },
  {
   "cell_type": "code",
   "execution_count": null,
   "metadata": {},
   "outputs": [],
   "source": []
  },
  {
   "cell_type": "code",
   "execution_count": null,
   "metadata": {},
   "outputs": [],
   "source": []
  },
  {
   "cell_type": "code",
   "execution_count": null,
   "metadata": {},
   "outputs": [],
   "source": [
    "np.eye(len(vocab))[]"
   ]
  },
  {
   "cell_type": "code",
   "execution_count": null,
   "metadata": {},
   "outputs": [],
   "source": [
    "vocab"
   ]
  },
  {
   "cell_type": "code",
   "execution_count": null,
   "metadata": {},
   "outputs": [],
   "source": [
    "[[j for j in i] for i in a.values]"
   ]
  },
  {
   "cell_type": "code",
   "execution_count": null,
   "metadata": {},
   "outputs": [],
   "source": []
  },
  {
   "cell_type": "code",
   "execution_count": null,
   "metadata": {},
   "outputs": [],
   "source": []
  },
  {
   "cell_type": "code",
   "execution_count": null,
   "metadata": {},
   "outputs": [],
   "source": []
  },
  {
   "cell_type": "code",
   "execution_count": null,
   "metadata": {},
   "outputs": [],
   "source": []
  },
  {
   "cell_type": "code",
   "execution_count": null,
   "metadata": {},
   "outputs": [],
   "source": [
    "l.classes_"
   ]
  },
  {
   "cell_type": "code",
   "execution_count": null,
   "metadata": {},
   "outputs": [],
   "source": [
    "a.apply(i for i in)"
   ]
  },
  {
   "cell_type": "code",
   "execution_count": null,
   "metadata": {},
   "outputs": [],
   "source": []
  },
  {
   "cell_type": "code",
   "execution_count": null,
   "metadata": {},
   "outputs": [],
   "source": []
  },
  {
   "cell_type": "code",
   "execution_count": null,
   "metadata": {},
   "outputs": [],
   "source": [
    "sent = [' '.join(i) for i in a.apply(list, axis=1)]\n",
    "sent"
   ]
  },
  {
   "cell_type": "code",
   "execution_count": null,
   "metadata": {},
   "outputs": [],
   "source": [
    "cnt.transform([['(-1.774, 1.145]','(-3.21, 0.533]','(0.0166, 2.007]','(2.0, 3.997]']]).todense()"
   ]
  },
  {
   "cell_type": "code",
   "execution_count": null,
   "metadata": {},
   "outputs": [],
   "source": []
  },
  {
   "cell_type": "code",
   "execution_count": null,
   "metadata": {},
   "outputs": [],
   "source": []
  },
  {
   "cell_type": "code",
   "execution_count": null,
   "metadata": {},
   "outputs": [],
   "source": []
  },
  {
   "cell_type": "code",
   "execution_count": null,
   "metadata": {},
   "outputs": [],
   "source": []
  },
  {
   "cell_type": "code",
   "execution_count": null,
   "metadata": {},
   "outputs": [],
   "source": []
  },
  {
   "cell_type": "code",
   "execution_count": null,
   "metadata": {},
   "outputs": [],
   "source": [
    "cnt.transform(sent).todense()"
   ]
  },
  {
   "cell_type": "code",
   "execution_count": null,
   "metadata": {},
   "outputs": [],
   "source": [
    "cnt.vocabulary_"
   ]
  },
  {
   "cell_type": "code",
   "execution_count": null,
   "metadata": {},
   "outputs": [],
   "source": []
  },
  {
   "cell_type": "code",
   "execution_count": null,
   "metadata": {},
   "outputs": [],
   "source": [
    "encoded_df = lb.fit_transform(a.values.ravel()).reshape(a.shape)"
   ]
  },
  {
   "cell_type": "code",
   "execution_count": null,
   "metadata": {},
   "outputs": [],
   "source": [
    "encoded_df"
   ]
  },
  {
   "cell_type": "code",
   "execution_count": null,
   "metadata": {},
   "outputs": [],
   "source": []
  },
  {
   "cell_type": "code",
   "execution_count": null,
   "metadata": {},
   "outputs": [],
   "source": []
  },
  {
   "cell_type": "code",
   "execution_count": null,
   "metadata": {},
   "outputs": [],
   "source": []
  },
  {
   "cell_type": "code",
   "execution_count": null,
   "metadata": {},
   "outputs": [],
   "source": [
    "group1 = [['a','b','c'], ['1','2','3'], ['x','y','z','w'],['10','20','30','40']]\n",
    "group2 = [['a','b','x','z'], ['1','2','3','4','5'], ['x','y','z','q','p'],['10','50','60','70']]\n",
    "group3 = [['a','b','c','x','1'], ['1','2','3','4','6'], ['y','z','w','5'],['10','20','60','70']]\n",
    "\n",
    "def match(grp1, grp2):\n",
    "    for arr1 in grp1:\n",
    "        for arr2 in grp2:\n",
    "            overlap = len(arr1) + len(arr2) - len(set(arr1+arr2))\n",
    "            if overlap > 0:\n",
    "                print(overlap, overlap/len(arr1), overlap/len(arr2), arr1, arr2)"
   ]
  },
  {
   "cell_type": "code",
   "execution_count": null,
   "metadata": {},
   "outputs": [],
   "source": [
    "match(group1, group2)"
   ]
  },
  {
   "cell_type": "code",
   "execution_count": null,
   "metadata": {},
   "outputs": [],
   "source": [
    "from fuzzywuzzy import fuzz, process"
   ]
  },
  {
   "cell_type": "code",
   "execution_count": null,
   "metadata": {},
   "outputs": [],
   "source": [
    "fuzz.partial_ratio(group1[0], group2[0])"
   ]
  },
  {
   "cell_type": "code",
   "execution_count": null,
   "metadata": {},
   "outputs": [],
   "source": [
    "ll = list(itertools.product(group1, group2))"
   ]
  },
  {
   "cell_type": "code",
   "execution_count": null,
   "metadata": {},
   "outputs": [],
   "source": [
    "from distance import levenshtein"
   ]
  },
  {
   "cell_type": "code",
   "execution_count": null,
   "metadata": {},
   "outputs": [],
   "source": [
    "def common(l1, l2):\n",
    "    inter = l1.\n",
    "    return "
   ]
  },
  {
   "cell_type": "code",
   "execution_count": null,
   "metadata": {},
   "outputs": [],
   "source": []
  },
  {
   "cell_type": "code",
   "execution_count": null,
   "metadata": {},
   "outputs": [],
   "source": []
  },
  {
   "cell_type": "code",
   "execution_count": null,
   "metadata": {},
   "outputs": [],
   "source": [
    "levenshtein(group1[0], group2[0])"
   ]
  },
  {
   "cell_type": "code",
   "execution_count": null,
   "metadata": {},
   "outputs": [],
   "source": []
  },
  {
   "cell_type": "code",
   "execution_count": null,
   "metadata": {},
   "outputs": [],
   "source": [
    "list1=[2, 1, 0]\n",
    "list2=[[1820, 6700, 22260, 28820, 35420],[2140, 3640, 3660, 4180, 5400, 13020],[5920, 13980, 18820, 21280]]"
   ]
  },
  {
   "cell_type": "code",
   "execution_count": null,
   "metadata": {},
   "outputs": [],
   "source": [
    "[list1[i] for i in range(len(list1))]"
   ]
  },
  {
   "cell_type": "code",
   "execution_count": null,
   "metadata": {},
   "outputs": [],
   "source": [
    "[*map(list.__getitem__, list2, list1)]"
   ]
  },
  {
   "cell_type": "code",
   "execution_count": null,
   "metadata": {},
   "outputs": [],
   "source": [
    "list.__getitem__()"
   ]
  },
  {
   "cell_type": "code",
   "execution_count": null,
   "metadata": {},
   "outputs": [],
   "source": [
    "map()"
   ]
  },
  {
   "cell_type": "code",
   "execution_count": null,
   "metadata": {},
   "outputs": [],
   "source": []
  },
  {
   "cell_type": "code",
   "execution_count": null,
   "metadata": {},
   "outputs": [],
   "source": []
  },
  {
   "cell_type": "code",
   "execution_count": null,
   "metadata": {},
   "outputs": [],
   "source": []
  },
  {
   "cell_type": "code",
   "execution_count": null,
   "metadata": {},
   "outputs": [],
   "source": [
    "inp = [3, 4, 4, 4, 5, 6, 6, 5, 4, 4]"
   ]
  },
  {
   "cell_type": "code",
   "execution_count": null,
   "metadata": {},
   "outputs": [],
   "source": [
    "items = np.unique(inp, return_counts=True)"
   ]
  },
  {
   "cell_type": "code",
   "execution_count": null,
   "metadata": {},
   "outputs": [],
   "source": [
    "[inp[i:i+2] for i in range(len(inp))]"
   ]
  },
  {
   "cell_type": "code",
   "execution_count": null,
   "metadata": {},
   "outputs": [],
   "source": [
    "l = [i for i in zip(inp, inp[1:]) if i[0]==i[1]]\n",
    "out = [k[0] for k, g in itertools.groupby(l)]\n",
    "#l2 = [i for i in l]"
   ]
  },
  {
   "cell_type": "code",
   "execution_count": null,
   "metadata": {},
   "outputs": [],
   "source": [
    "[i for i in l]"
   ]
  },
  {
   "cell_type": "code",
   "execution_count": null,
   "metadata": {},
   "outputs": [],
   "source": []
  },
  {
   "cell_type": "code",
   "execution_count": null,
   "metadata": {},
   "outputs": [],
   "source": []
  },
  {
   "cell_type": "code",
   "execution_count": null,
   "metadata": {},
   "outputs": [],
   "source": []
  },
  {
   "cell_type": "code",
   "execution_count": null,
   "metadata": {},
   "outputs": [],
   "source": [
    "[i for i in zip(items[0], items[1])]"
   ]
  },
  {
   "cell_type": "code",
   "execution_count": null,
   "metadata": {},
   "outputs": [],
   "source": [
    "[(k,len(list(g))) for k,g in itertools.groupby(l)]"
   ]
  },
  {
   "cell_type": "code",
   "execution_count": null,
   "metadata": {},
   "outputs": [],
   "source": []
  },
  {
   "cell_type": "code",
   "execution_count": null,
   "metadata": {},
   "outputs": [],
   "source": []
  },
  {
   "cell_type": "code",
   "execution_count": null,
   "metadata": {},
   "outputs": [],
   "source": [
    "import tensorflow as tf"
   ]
  },
  {
   "cell_type": "code",
   "execution_count": null,
   "metadata": {},
   "outputs": [],
   "source": [
    "inputs = tf.keras.Input(shape=(4,))\n",
    "x = tf.keras.layers.Dense(3)(inputs)\n",
    "x = tf.keras.layers.Activation(tf.nn.sigmoid)(x)\n",
    "x = tf.keras.layers.Dense(2)(x)\n",
    "outputs = tf.keras.layers.Activation(tf.nn.softmax)(x)\n",
    "model = tf.keras.Model(inputs=inputs, outputs=outputs, name=\"simple_binary_iris\")\n",
    "model.compile(optimizer='adam', loss=\"binary_crossentropy\", metrics=[\"accuracy\"] )\n",
    "model.summary()"
   ]
  },
  {
   "cell_type": "code",
   "execution_count": null,
   "metadata": {},
   "outputs": [],
   "source": [
    "inputs"
   ]
  },
  {
   "cell_type": "code",
   "execution_count": null,
   "metadata": {},
   "outputs": [],
   "source": []
  },
  {
   "cell_type": "code",
   "execution_count": null,
   "metadata": {},
   "outputs": [],
   "source": []
  },
  {
   "cell_type": "code",
   "execution_count": null,
   "metadata": {},
   "outputs": [],
   "source": [
    "a = [1,2,2,3,4,4,0]"
   ]
  },
  {
   "cell_type": "code",
   "execution_count": null,
   "metadata": {},
   "outputs": [],
   "source": [
    "arr.shape"
   ]
  },
  {
   "cell_type": "code",
   "execution_count": null,
   "metadata": {},
   "outputs": [],
   "source": [
    "arr = np.array([[[ 0,  0,  0,  3,  0],\n",
    "                [ 0,  0,  2,  3,  2],\n",
    "                [ 0,  0,  0,  0,  0],\n",
    "                [ 2,  1,  0,  0, 0]]])"
   ]
  },
  {
   "cell_type": "code",
   "execution_count": null,
   "metadata": {},
   "outputs": [],
   "source": [
    "np.apply_along_axis(np.unique, axis=2, arr=arr)"
   ]
  },
  {
   "cell_type": "code",
   "execution_count": null,
   "metadata": {},
   "outputs": [],
   "source": [
    "a = np.array([ 0,  0,  2,  3,  2])"
   ]
  },
  {
   "cell_type": "code",
   "execution_count": null,
   "metadata": {},
   "outputs": [],
   "source": [
    "a[np.argmax(np.sum(np.eye(5)[a][:,1:], axis=0))+1]"
   ]
  },
  {
   "cell_type": "code",
   "execution_count": null,
   "metadata": {},
   "outputs": [],
   "source": [
    "arr"
   ]
  },
  {
   "cell_type": "code",
   "execution_count": null,
   "metadata": {},
   "outputs": [],
   "source": []
  },
  {
   "cell_type": "code",
   "execution_count": null,
   "metadata": {},
   "outputs": [],
   "source": []
  },
  {
   "cell_type": "code",
   "execution_count": null,
   "metadata": {},
   "outputs": [],
   "source": []
  },
  {
   "cell_type": "code",
   "execution_count": null,
   "metadata": {},
   "outputs": [],
   "source": []
  },
  {
   "cell_type": "code",
   "execution_count": null,
   "metadata": {},
   "outputs": [],
   "source": []
  },
  {
   "cell_type": "code",
   "execution_count": null,
   "metadata": {},
   "outputs": [],
   "source": [
    "count_max_pos"
   ]
  },
  {
   "cell_type": "code",
   "execution_count": null,
   "metadata": {},
   "outputs": [],
   "source": [
    "#Gets the positions for the highest frequency numbers in axis=2\n",
    "count_max_pos = np.argmax(np.sum(np.eye(5)[arr][:,:,:,1:], axis=2), axis=2)[0]+1\n",
    "\n",
    "#gets the max values in based on the indices\n",
    "k = enumerate(count_max_pos)\n",
    "result = [arr[0][i] for i in k]\n",
    "\n",
    "print(result)"
   ]
  },
  {
   "cell_type": "code",
   "execution_count": null,
   "metadata": {},
   "outputs": [],
   "source": [
    "a"
   ]
  },
  {
   "cell_type": "code",
   "execution_count": null,
   "metadata": {},
   "outputs": [],
   "source": []
  },
  {
   "cell_type": "code",
   "execution_count": null,
   "metadata": {},
   "outputs": [],
   "source": []
  },
  {
   "cell_type": "code",
   "execution_count": null,
   "metadata": {},
   "outputs": [],
   "source": []
  },
  {
   "cell_type": "code",
   "execution_count": null,
   "metadata": {},
   "outputs": [],
   "source": [
    "from tensorflow import keras\n",
    "from tensorflow.keras import layers as klayers\n",
    "\n",
    "class MLP(keras.Model):\n",
    "    def __init__(self, input_shape=(32,), **kwargs):\n",
    "        super(MLP, self).__init__(**kwargs)\n",
    "        # Add input layer\n",
    "        self.input_layer = klayers.Input((input_shape,))\n",
    "\n",
    "        self.dense_1 = klayers.Dense(64, activation='relu')\n",
    "        self.dense_2 = klayers.Dense(10)\n",
    "\n",
    "        # Get output layer with `call` method\n",
    "        self.out = self.call(self.input_layer)\n",
    "\n",
    "        # Reinitial\n",
    "        super(MLP, self).__init__(\n",
    "            inputs=self.input_layer,\n",
    "            outputs=self.out,\n",
    "            **kwargs)\n",
    "\n",
    "    def build(self):\n",
    "        # Initialize the graph\n",
    "        self._is_graph_network = True\n",
    "        self._init_graph_network(\n",
    "            inputs=self.input_layer,\n",
    "            outputs=self.out\n",
    "        )\n",
    "\n",
    "    def call(self, inputs):\n",
    "        x = self.dense_1(inputs)\n",
    "        return self.dense_2(x)\n",
    "\n",
    "if __name__ == '__main__':\n",
    "    mlp = MLP((16,))\n",
    "    mlp.summary()"
   ]
  },
  {
   "cell_type": "code",
   "execution_count": null,
   "metadata": {},
   "outputs": [],
   "source": [
    "input_shape0 = 32\n",
    "input_shape1 = (32)\n",
    "input_shape2 = (32,)\n",
    "print(input_shape0, input_shape1, input_shape2)"
   ]
  },
  {
   "cell_type": "code",
   "execution_count": null,
   "metadata": {},
   "outputs": [],
   "source": []
  },
  {
   "cell_type": "code",
   "execution_count": null,
   "metadata": {},
   "outputs": [],
   "source": []
  },
  {
   "cell_type": "code",
   "execution_count": null,
   "metadata": {},
   "outputs": [],
   "source": []
  },
  {
   "cell_type": "code",
   "execution_count": null,
   "metadata": {},
   "outputs": [],
   "source": [
    "klayers.Input(input_shape)"
   ]
  },
  {
   "cell_type": "code",
   "execution_count": null,
   "metadata": {},
   "outputs": [],
   "source": [
    "from tensorflow import keras\n",
    "from tensorflow.keras import layers as klayers\n",
    "\n",
    "class MLP(keras.Model):\n",
    "    def __init__(self, input_shape=(32,), **kwargs):\n",
    "        super(MLP, self).__init__(**kwargs)\n",
    "        # Add input layer\n",
    "        self.input_layer = klayers.Input(input_shape)\n",
    "\n",
    "        self.dense_1 = klayers.Dense(64, activation='relu')\n",
    "        self.dense_2 = klayers.Dense(10)\n",
    "\n",
    "        # Get output layer with `call` method\n",
    "        self.out = self.call(self.input_layer)\n",
    "\n",
    "        # Reinitial\n",
    "        super(MLP, self).__init__(\n",
    "            inputs=self.input_layer,\n",
    "            outputs=self.out,\n",
    "            **kwargs)\n",
    "\n",
    "    def build(self):\n",
    "        # Initialize the graph\n",
    "        self._is_graph_network = True\n",
    "        self._init_graph_network(\n",
    "            inputs=self.input_layer,\n",
    "            outputs=self.out\n",
    "        )\n",
    "\n",
    "    def call(self, inputs):\n",
    "        x = self.dense_1(inputs)\n",
    "        return self.dense_2(x)\n",
    "\n",
    "if __name__ == '__main__':\n",
    "    mlp = MLP((16,))\n",
    "    mlp.summary()"
   ]
  },
  {
   "cell_type": "code",
   "execution_count": null,
   "metadata": {},
   "outputs": [],
   "source": []
  },
  {
   "cell_type": "code",
   "execution_count": null,
   "metadata": {},
   "outputs": [],
   "source": []
  },
  {
   "cell_type": "code",
   "execution_count": null,
   "metadata": {},
   "outputs": [],
   "source": []
  },
  {
   "cell_type": "code",
   "execution_count": null,
   "metadata": {},
   "outputs": [],
   "source": [
    "p=np.array([[0.5],[0.5]])\n",
    "M=np.array([[0.3,0.5], [0.7,0.5]])\n",
    "b=np.zeros(2)\n",
    "\n",
    "def matrix_stoch (p,M):\n",
    "    for column in M.T:\n",
    "        b[None,:]=is_sto(column)\n",
    "    \n",
    "    v= (b[0] and b[1] and is_sto(p))\n",
    "\n",
    "    if v == True:\n",
    "        return np.dot(M,p)\n",
    "    else:\n",
    "        raise ValueError('no stochastic matrix')"
   ]
  },
  {
   "cell_type": "code",
   "execution_count": null,
   "metadata": {},
   "outputs": [],
   "source": [
    "matrix_stoch(p,M)"
   ]
  },
  {
   "cell_type": "code",
   "execution_count": null,
   "metadata": {},
   "outputs": [],
   "source": [
    "for column in M.T:\n",
    "    b[None,:]=is_sto(column)"
   ]
  },
  {
   "cell_type": "code",
   "execution_count": null,
   "metadata": {},
   "outputs": [],
   "source": [
    "if (b[0] and b[0] and is_sto(p)):\n",
    "    print(np.dot(M, p))"
   ]
  },
  {
   "cell_type": "code",
   "execution_count": null,
   "metadata": {},
   "outputs": [],
   "source": []
  },
  {
   "cell_type": "code",
   "execution_count": null,
   "metadata": {},
   "outputs": [],
   "source": []
  },
  {
   "cell_type": "code",
   "execution_count": null,
   "metadata": {},
   "outputs": [],
   "source": []
  },
  {
   "cell_type": "code",
   "execution_count": null,
   "metadata": {},
   "outputs": [],
   "source": [
    "p=np.array([[0.5],[0.5]])\n",
    "M=np.array([[0.3,0.5], [0.7,0.5]])\n",
    "\n",
    "def is_sto(arr):\n",
    "    return np.sum(arr)==1\n",
    "\n",
    "def matrix_stoch(p,M):\n",
    "    M_sto = [is_sto(i) for i in M.T]\n",
    "    p_sto = is_sto(p)\n",
    "\n",
    "    print('Stochastic check on columns of M: ', M_sto)\n",
    "    print('Stochastic check on vector p: ', p_sto)\n",
    "\n",
    "    if all(M_sto) and p_sto:\n",
    "        return np.dot(M,p)\n",
    "    else:\n",
    "        raise ValueError('no stochastic matrix')"
   ]
  },
  {
   "cell_type": "code",
   "execution_count": null,
   "metadata": {},
   "outputs": [],
   "source": [
    "matrix_stoch(p,M)"
   ]
  },
  {
   "cell_type": "code",
   "execution_count": null,
   "metadata": {},
   "outputs": [],
   "source": []
  },
  {
   "cell_type": "code",
   "execution_count": null,
   "metadata": {},
   "outputs": [],
   "source": []
  },
  {
   "cell_type": "code",
   "execution_count": null,
   "metadata": {},
   "outputs": [],
   "source": [
    "b[None,:]"
   ]
  },
  {
   "cell_type": "code",
   "execution_count": null,
   "metadata": {},
   "outputs": [],
   "source": [
    "b[]"
   ]
  },
  {
   "cell_type": "code",
   "execution_count": null,
   "metadata": {},
   "outputs": [],
   "source": [
    "b[None,:] = is_sto(M.T[0])"
   ]
  },
  {
   "cell_type": "code",
   "execution_count": null,
   "metadata": {},
   "outputs": [],
   "source": [
    "b"
   ]
  },
  {
   "cell_type": "code",
   "execution_count": null,
   "metadata": {},
   "outputs": [],
   "source": []
  },
  {
   "cell_type": "code",
   "execution_count": null,
   "metadata": {},
   "outputs": [],
   "source": []
  },
  {
   "cell_type": "code",
   "execution_count": null,
   "metadata": {},
   "outputs": [],
   "source": [
    "datalist = ['1','2','abc','def','a234','b456']"
   ]
  },
  {
   "cell_type": "code",
   "execution_count": null,
   "metadata": {},
   "outputs": [],
   "source": [
    "d = [int(i) if i.isnumeric() else i for i in datalist]\n",
    "print(d)"
   ]
  },
  {
   "cell_type": "code",
   "execution_count": null,
   "metadata": {},
   "outputs": [],
   "source": []
  },
  {
   "cell_type": "code",
   "execution_count": null,
   "metadata": {},
   "outputs": [],
   "source": []
  },
  {
   "cell_type": "code",
   "execution_count": null,
   "metadata": {},
   "outputs": [],
   "source": [
    "import pandas as pd\n",
    "\n",
    "User_info = {\n",
    "    1: [\"Rita\",\"delhi\",47,47,38],\n",
    "    2: [\"Sita\",\"DElhi\",49,28,40],\n",
    "    3: [\"geeta\",\"Mumbai\",38,50,38],\n",
    "    4: [\"Geeta\",\"MUMBAI\",28,26,44],\n",
    "    5: [\"GEETA\",\"CHENNAI\",30,36,36],\n",
    "    6: [\"SITA\",\"chennai\",37,28,34]\n",
    "}"
   ]
  },
  {
   "cell_type": "code",
   "execution_count": null,
   "metadata": {},
   "outputs": [],
   "source": []
  },
  {
   "cell_type": "code",
   "execution_count": null,
   "metadata": {},
   "outputs": [],
   "source": [
    "#Original data as a dataframe\n",
    "df = pd.DataFrame(User_info.values(), columns=['name','location','w1','w2','w3'])\n",
    "\n",
    "#Function with all the transformations\n",
    "def transformed(row):\n",
    "    output = pd.Series([row['name'].upper(), \n",
    "                        row['location'].upper(), \n",
    "                        row['w1']*1.609, \n",
    "                        row['w2']*1.609, \n",
    "                        row['w3']*1.609], index=row.index)\n",
    "    \n",
    "    return output\n",
    "\n",
    "\n",
    "#apply on dataframe\n",
    "new_df = df.apply(transformed, axis=1)\n",
    "print(new_df)"
   ]
  },
  {
   "cell_type": "code",
   "execution_count": null,
   "metadata": {},
   "outputs": [],
   "source": [
    "x = 2.3"
   ]
  },
  {
   "cell_type": "code",
   "execution_count": null,
   "metadata": {},
   "outputs": [],
   "source": [
    "type(x) == 'float'"
   ]
  },
  {
   "cell_type": "code",
   "execution_count": null,
   "metadata": {},
   "outputs": [],
   "source": []
  },
  {
   "cell_type": "code",
   "execution_count": null,
   "metadata": {},
   "outputs": [],
   "source": []
  },
  {
   "cell_type": "code",
   "execution_count": null,
   "metadata": {},
   "outputs": [],
   "source": []
  },
  {
   "cell_type": "code",
   "execution_count": null,
   "metadata": {},
   "outputs": [],
   "source": [
    "df = pd.DataFrame([[2019, 10, 56, 34],\n",
    "[2019, 74, 66 ,32],\n",
    "[2019, 20, 96, 31],\n",
    "[2018, 13, 16, 35]], columns=['var1', 'var2', 'var3', 'var4'])"
   ]
  },
  {
   "cell_type": "code",
   "execution_count": null,
   "metadata": {},
   "outputs": [],
   "source": [
    "df"
   ]
  },
  {
   "cell_type": "code",
   "execution_count": null,
   "metadata": {},
   "outputs": [],
   "source": [
    "g = {'var2':'mean', 'var3':'max', 'var4':'min'}\n",
    "\n",
    "print(df.groupby(['var1']).agg(g).reset_index())"
   ]
  },
  {
   "cell_type": "code",
   "execution_count": null,
   "metadata": {},
   "outputs": [],
   "source": []
  },
  {
   "cell_type": "code",
   "execution_count": null,
   "metadata": {},
   "outputs": [],
   "source": []
  },
  {
   "cell_type": "code",
   "execution_count": null,
   "metadata": {},
   "outputs": [],
   "source": []
  },
  {
   "cell_type": "code",
   "execution_count": null,
   "metadata": {},
   "outputs": [],
   "source": []
  },
  {
   "cell_type": "code",
   "execution_count": null,
   "metadata": {},
   "outputs": [],
   "source": [
    "k = 1\n",
    "m = 2\n",
    "i = 5\n",
    "j = 5\n",
    "l = 2\n",
    "\n",
    "T = np.array(range(100)).reshape(k,m,i,j,l)\n",
    "T_new = T.reshape(k*m,i*j*l)\n",
    "\n",
    "print('Original T:',T.shape)\n",
    "print('New T:',T_new.shape)"
   ]
  },
  {
   "cell_type": "code",
   "execution_count": null,
   "metadata": {},
   "outputs": [],
   "source": []
  },
  {
   "cell_type": "code",
   "execution_count": null,
   "metadata": {},
   "outputs": [],
   "source": []
  },
  {
   "cell_type": "code",
   "execution_count": null,
   "metadata": {},
   "outputs": [],
   "source": []
  },
  {
   "cell_type": "code",
   "execution_count": null,
   "metadata": {},
   "outputs": [],
   "source": [
    "\n",
    "\n",
    "unique_years = set([i[0] for i in data])\n",
    "unique_years"
   ]
  },
  {
   "cell_type": "code",
   "execution_count": null,
   "metadata": {},
   "outputs": [],
   "source": []
  },
  {
   "cell_type": "code",
   "execution_count": null,
   "metadata": {},
   "outputs": [],
   "source": []
  },
  {
   "cell_type": "code",
   "execution_count": null,
   "metadata": {},
   "outputs": [],
   "source": [
    "data = [[2019, 10, 56, 34],[2019, 74, 66 ,32],[2019, 20, 96, 31],[2018, 13, 16, 35], [2018, 14, 27, 33]]\n",
    "\n",
    "def average(lst): \n",
    "    return sum(lst) / len(lst)\n",
    "\n",
    "unique_years = set([i[0] for i in data])\n",
    "\n",
    "[[[j[0] for j in data if j[0]==i][0],\n",
    "   average([j[1] for j in data if j[0]==i]),\n",
    "   max([j[2] for j in data if j[0]==i]),\n",
    "   min([j[3] for j in data if j[0]==i])] for i in unique_years]"
   ]
  },
  {
   "cell_type": "code",
   "execution_count": null,
   "metadata": {},
   "outputs": [],
   "source": [
    "yr = []\n",
    "v1 = []\n",
    "v2 = []\n",
    "v3 = []\n",
    "\n",
    "unique_years = set([i[0] for i in data])\n",
    "\n",
    "for i in unique_years:\n",
    "    for j in data:\n",
    "        if j[0]==i:\n",
    "            v1.append(j[1])\n",
    "            v2.append(j[2])\n",
    "            v3.append(j[3])\n",
    "    yr.append([i,average(v1),max(v2), min(v3)])\n",
    "    \n",
    "print(yr)"
   ]
  },
  {
   "cell_type": "code",
   "execution_count": null,
   "metadata": {},
   "outputs": [],
   "source": [
    "yr"
   ]
  },
  {
   "cell_type": "code",
   "execution_count": null,
   "metadata": {},
   "outputs": [],
   "source": []
  },
  {
   "cell_type": "code",
   "execution_count": null,
   "metadata": {},
   "outputs": [],
   "source": []
  },
  {
   "cell_type": "code",
   "execution_count": null,
   "metadata": {},
   "outputs": [],
   "source": []
  },
  {
   "cell_type": "code",
   "execution_count": null,
   "metadata": {},
   "outputs": [],
   "source": []
  },
  {
   "cell_type": "code",
   "execution_count": null,
   "metadata": {},
   "outputs": [],
   "source": [
    "df = pd.DataFrame({'Covid_pos':[1,0,1,1,0], 'Asymptomatic':[0,0,1,0,1], 'Fever':[1,0,0,1,1], 'Cough':[0,1,1,0,0],'Rash':[1,0,1,1,0]})\n",
    "df = df.rename(columns = {'Covid_pos':'SARS-COV-2 PCR positive'})\n",
    "df['All Tested'] = 1   #Adding a dummy column with all values as 1 for ALL TESTED\n",
    "\n",
    "symptoms = ['Asymptomatic','Fever','Cough', 'Rash']\n",
    "targets = ['SARS-COV-2 PCR positive', 'All Tested']\n",
    "\n",
    "df2 = df.set_index(targets).stack().reset_index().set_axis(targets+['symptoms','flg'], axis=1)\n",
    "df3 = df2.groupby(['symptoms','flg'])[targets].sum().reset_index()\n",
    "df4 = df3[df3['flg']==1].drop('flg', axis=1)\n",
    "df4.columns = ['symptoms']+targets\n",
    "df4[[i+' %' for i in targets]] = df4[targets].apply(lambda x : round(x/x.sum()*100,ndigits=2))\n",
    "print(df4)"
   ]
  },
  {
   "cell_type": "code",
   "execution_count": null,
   "metadata": {},
   "outputs": [],
   "source": []
  },
  {
   "cell_type": "code",
   "execution_count": null,
   "metadata": {},
   "outputs": [],
   "source": []
  },
  {
   "cell_type": "code",
   "execution_count": null,
   "metadata": {},
   "outputs": [],
   "source": []
  },
  {
   "cell_type": "code",
   "execution_count": null,
   "metadata": {
    "scrolled": false
   },
   "outputs": [],
   "source": [
    "df4.apply(lambda x: 100 * x / float(x.sum()), axis=1)"
   ]
  },
  {
   "cell_type": "code",
   "execution_count": null,
   "metadata": {},
   "outputs": [],
   "source": []
  },
  {
   "cell_type": "code",
   "execution_count": null,
   "metadata": {},
   "outputs": [],
   "source": []
  },
  {
   "cell_type": "code",
   "execution_count": null,
   "metadata": {},
   "outputs": [],
   "source": []
  },
  {
   "cell_type": "code",
   "execution_count": null,
   "metadata": {},
   "outputs": [],
   "source": [
    "df4.groupby(targets)[symptoms].sum()"
   ]
  },
  {
   "cell_type": "code",
   "execution_count": null,
   "metadata": {},
   "outputs": [],
   "source": []
  },
  {
   "cell_type": "code",
   "execution_count": null,
   "metadata": {},
   "outputs": [],
   "source": [
    "df1 = pd.DataFrame({'A':[1,2,3,4,5], 'B':[5,4,3,2,1]})\n",
    "print(df1)"
   ]
  },
  {
   "cell_type": "code",
   "execution_count": null,
   "metadata": {},
   "outputs": [],
   "source": [
    "df2 = pd.DataFrame({'A':[10,20,30,40,50], 'B':[50,40,30,20,10]})\n",
    "print(df2)"
   ]
  },
  {
   "cell_type": "code",
   "execution_count": null,
   "metadata": {},
   "outputs": [],
   "source": [
    "def conc(a,b):\n",
    "    return str(a)+'_'+str(b)\n",
    "\n",
    "conc_v = np.vectorize(conc)\n",
    "\n",
    "required = pd.DataFrame(conc_v(df1.to_numpy(), df2.to_numpy()), columns=df1.columns)\n",
    "print(required)"
   ]
  },
  {
   "cell_type": "code",
   "execution_count": null,
   "metadata": {},
   "outputs": [],
   "source": [
    "df1.astype(str) + '_' + df2.astype(str)"
   ]
  },
  {
   "cell_type": "code",
   "execution_count": null,
   "metadata": {},
   "outputs": [],
   "source": []
  },
  {
   "cell_type": "code",
   "execution_count": null,
   "metadata": {},
   "outputs": [],
   "source": []
  },
  {
   "cell_type": "code",
   "execution_count": null,
   "metadata": {},
   "outputs": [],
   "source": [
    "df.set_index(targets).stack()"
   ]
  },
  {
   "cell_type": "code",
   "execution_count": null,
   "metadata": {},
   "outputs": [],
   "source": []
  },
  {
   "cell_type": "code",
   "execution_count": null,
   "metadata": {},
   "outputs": [],
   "source": [
    "df.groupby(symptoms)['Covid_pos'].sum().unstack()"
   ]
  },
  {
   "cell_type": "code",
   "execution_count": null,
   "metadata": {},
   "outputs": [],
   "source": []
  },
  {
   "cell_type": "code",
   "execution_count": null,
   "metadata": {},
   "outputs": [],
   "source": []
  },
  {
   "cell_type": "code",
   "execution_count": null,
   "metadata": {},
   "outputs": [],
   "source": []
  },
  {
   "cell_type": "code",
   "execution_count": null,
   "metadata": {},
   "outputs": [],
   "source": []
  },
  {
   "cell_type": "code",
   "execution_count": null,
   "metadata": {},
   "outputs": [],
   "source": []
  },
  {
   "cell_type": "code",
   "execution_count": null,
   "metadata": {},
   "outputs": [],
   "source": [
    "a = \"20.00.0.11\"\n",
    "b = \"20.000\"\n",
    "c = \"20000\"\n",
    "\n",
    "def fix_dots(a):\n",
    "    t = a.split('.')\n",
    "    if len(t)>1:\n",
    "        return t[0]+'.'+''.join(t[1:])\n",
    "    else:\n",
    "        return t[0]"
   ]
  },
  {
   "cell_type": "code",
   "execution_count": null,
   "metadata": {},
   "outputs": [],
   "source": [
    "print(fix_dots(a))"
   ]
  },
  {
   "cell_type": "code",
   "execution_count": null,
   "metadata": {},
   "outputs": [],
   "source": [
    "fix_dots(b)"
   ]
  },
  {
   "cell_type": "code",
   "execution_count": null,
   "metadata": {},
   "outputs": [],
   "source": [
    "fix_dots(c)"
   ]
  },
  {
   "cell_type": "code",
   "execution_count": null,
   "metadata": {},
   "outputs": [],
   "source": [
    "a.find('.')"
   ]
  },
  {
   "cell_type": "code",
   "execution_count": null,
   "metadata": {},
   "outputs": [],
   "source": [
    "def fix_dot2(a):\n",
    "    return ''.join([i[1] for i in enumerate(a) if i[0]==a.find('.') or i[1]!='.'])\n",
    "\n",
    "print(fix_dot2(a))"
   ]
  },
  {
   "cell_type": "code",
   "execution_count": null,
   "metadata": {},
   "outputs": [],
   "source": []
  },
  {
   "cell_type": "code",
   "execution_count": null,
   "metadata": {},
   "outputs": [],
   "source": []
  },
  {
   "cell_type": "code",
   "execution_count": null,
   "metadata": {},
   "outputs": [],
   "source": []
  },
  {
   "cell_type": "code",
   "execution_count": null,
   "metadata": {},
   "outputs": [],
   "source": []
  },
  {
   "cell_type": "code",
   "execution_count": null,
   "metadata": {},
   "outputs": [],
   "source": []
  },
  {
   "cell_type": "code",
   "execution_count": null,
   "metadata": {},
   "outputs": [],
   "source": [
    "sn = [1,2]\n",
    "sentence = ['an apple is an example of?', 'a potato is an example of?']\n",
    "entity = ['an apple is example of fruit', 'a potato is example of vegetable']\n",
    "\n",
    "df = pd.DataFrame({'sn':sn, 'sentence':sentence, 'entity':entity})"
   ]
  },
  {
   "cell_type": "code",
   "execution_count": null,
   "metadata": {},
   "outputs": [],
   "source": [
    "df.set_index('sn').\\\n",
    "applymap(str.split).\\\n",
    "apply(pd.Series.explode, axis=0).\\\n",
    "reset_index()"
   ]
  },
  {
   "cell_type": "code",
   "execution_count": null,
   "metadata": {},
   "outputs": [],
   "source": []
  },
  {
   "cell_type": "code",
   "execution_count": null,
   "metadata": {},
   "outputs": [],
   "source": [
    "func_dict = {'f1': func1, 'f2': func2}\n",
    "\n",
    "def func1():\n",
    "    print('func1')\n",
    "\n",
    "def func2():\n",
    "    print('func2')"
   ]
  },
  {
   "cell_type": "code",
   "execution_count": null,
   "metadata": {},
   "outputs": [],
   "source": [
    "func_dict['f1']()"
   ]
  },
  {
   "cell_type": "code",
   "execution_count": null,
   "metadata": {},
   "outputs": [],
   "source": []
  },
  {
   "cell_type": "code",
   "execution_count": null,
   "metadata": {},
   "outputs": [],
   "source": []
  },
  {
   "cell_type": "code",
   "execution_count": null,
   "metadata": {},
   "outputs": [],
   "source": []
  },
  {
   "cell_type": "code",
   "execution_count": null,
   "metadata": {},
   "outputs": [],
   "source": [
    "def time_adjust(now,hrs,mins,sec):\n",
    "    current = [int(i) for i in now.split(\":\")]\n",
    "    values = [hrs,mins,sec]\n",
    "    limit = (24,60,60)\n",
    "    for i in range(0,3):\n",
    "        current[i] = current[i] + values[i]\n",
    "        if current[i]>limit[i]:\n",
    "            current[i]-=limit[i]\n",
    "            current[i] = str(current[i])\n",
    "        seperator = ':'\n",
    "    print(current)\n",
    "    return(seperator.join([str(i) for i in current]))\n",
    "\n",
    "\n",
    "print(time_adjust(\"5:10:10\",10,10,10))"
   ]
  },
  {
   "cell_type": "code",
   "execution_count": null,
   "metadata": {},
   "outputs": [],
   "source": [
    "now,hrs,mins,sec = \"5:10:10\",10,10,10"
   ]
  },
  {
   "cell_type": "code",
   "execution_count": null,
   "metadata": {},
   "outputs": [],
   "source": [
    "current = [int(i) for i in now.split(\":\")]\n",
    "values = [hrs,mins,sec]\n",
    "limit = (24,60,60)\n",
    "for i in range(0,3):\n",
    "    current[i] = current[i] + values[i]\n",
    "    if current[i]>limit[i]:\n",
    "        current[i]-=limit[i]\n",
    "        current[i] = str(current[i])\n",
    "    seperator = ':'\n",
    "seperator.join((str(i) for i in current))"
   ]
  },
  {
   "cell_type": "code",
   "execution_count": null,
   "metadata": {},
   "outputs": [],
   "source": []
  },
  {
   "cell_type": "code",
   "execution_count": null,
   "metadata": {},
   "outputs": [],
   "source": []
  },
  {
   "cell_type": "code",
   "execution_count": null,
   "metadata": {},
   "outputs": [],
   "source": []
  },
  {
   "cell_type": "code",
   "execution_count": null,
   "metadata": {},
   "outputs": [],
   "source": []
  },
  {
   "cell_type": "code",
   "execution_count": null,
   "metadata": {},
   "outputs": [],
   "source": []
  },
  {
   "cell_type": "code",
   "execution_count": null,
   "metadata": {},
   "outputs": [],
   "source": []
  },
  {
   "cell_type": "code",
   "execution_count": null,
   "metadata": {},
   "outputs": [],
   "source": [
    "df = pd.DataFrame({'Color': ['Blue', 'Yellow', 'Green','Red','Yellow','Green'],\n",
    "                   'BIG': ['FN', ' ', 'FP', ' ', ' ', 'FN'],\n",
    "                   'MED': ['FP', 'TP', 'FN', ' ', 'TP', ' '],\n",
    "                   'SM' : [' ', 'TP', ' ', ' ', ' ', 'FP']} )\n",
    "\n",
    "#Unstack the dataframe to get 3 columns\n",
    "ddf = pd.DataFrame(df.set_index('Color').unstack()).reset_index().set_axis(['size','color','f'], axis=1)\n",
    "\n",
    "#Create crosstab with multiindex columns\n",
    "ct = pd.crosstab(ddf['color'], [ddf['size'], ddf['f']])\n",
    "\n",
    "#Concat the multiindexes to a single column\n",
    "ct.columns = ct.columns.map('_'.join)\n",
    "\n",
    "#Drop the columns of the type (color, ' ') and only keep (color, 'FN') or (color, 'TP') etc.\n",
    "out = ct.reset_index().drop(ddf['size'].unique()+'_ ', axis=1)\n",
    "print(out)"
   ]
  },
  {
   "cell_type": "code",
   "execution_count": null,
   "metadata": {},
   "outputs": [],
   "source": []
  },
  {
   "cell_type": "code",
   "execution_count": null,
   "metadata": {},
   "outputs": [],
   "source": [
    "import time"
   ]
  },
  {
   "cell_type": "code",
   "execution_count": null,
   "metadata": {},
   "outputs": [],
   "source": [
    "start = time.time()\n",
    "df[df['Color']=='Blue']\n",
    "end = time.time()\n",
    "print(end-start)"
   ]
  },
  {
   "cell_type": "code",
   "execution_count": null,
   "metadata": {},
   "outputs": [],
   "source": [
    "start = time.time()\n",
    "df.loc[df['Color']=='Blue']\n",
    "end = time.time()\n",
    "print(end-start)"
   ]
  },
  {
   "cell_type": "code",
   "execution_count": null,
   "metadata": {},
   "outputs": [],
   "source": []
  },
  {
   "cell_type": "code",
   "execution_count": null,
   "metadata": {},
   "outputs": [],
   "source": []
  },
  {
   "cell_type": "code",
   "execution_count": null,
   "metadata": {},
   "outputs": [],
   "source": []
  },
  {
   "cell_type": "code",
   "execution_count": null,
   "metadata": {},
   "outputs": [],
   "source": []
  },
  {
   "cell_type": "code",
   "execution_count": null,
   "metadata": {},
   "outputs": [],
   "source": [
    "inp = '2+3pi'"
   ]
  },
  {
   "cell_type": "code",
   "execution_count": null,
   "metadata": {},
   "outputs": [],
   "source": [
    "operators = ['+','-','*','%']\n",
    "\n",
    "numbers = [float(i) for i in inp if i.isnumeric()]\n",
    "strings = ''.join([i for i in inp if i.isalpha()])\n",
    "operators = [i for i in inp if i in operators][0]\n",
    "\n",
    "print('numbers:',numbers)\n",
    "print('strings:',strings)\n",
    "print('operators:',operators)"
   ]
  },
  {
   "cell_type": "code",
   "execution_count": null,
   "metadata": {},
   "outputs": [],
   "source": []
  },
  {
   "cell_type": "code",
   "execution_count": null,
   "metadata": {},
   "outputs": [],
   "source": []
  },
  {
   "cell_type": "code",
   "execution_count": null,
   "metadata": {},
   "outputs": [],
   "source": [
    "[i.isalpha() for i in inp]"
   ]
  },
  {
   "cell_type": "code",
   "execution_count": null,
   "metadata": {},
   "outputs": [],
   "source": [
    "'+'.is"
   ]
  },
  {
   "cell_type": "code",
   "execution_count": null,
   "metadata": {},
   "outputs": [],
   "source": []
  },
  {
   "cell_type": "code",
   "execution_count": null,
   "metadata": {},
   "outputs": [],
   "source": [
    "import plotly.graph_objects as go\n",
    "\n",
    "fig = go.Figure(go.Waterfall(\n",
    "    name = \"20\", orientation = \"v\",\n",
    "    measure = [\"relative\", \"relative\", \"total\", \"relative\", \"relative\", \"total\"],\n",
    "    x = [\"Sales\", \"Consulting\", \"Net revenue\", \"Purchases\", \"Other expenses\", \"Profit before tax\"],\n",
    "    textposition = \"outside\",\n",
    "    text = [\"+60\", \"+80\", \"\", \"-40\", \"-20\", \"Total\"],\n",
    "    y = [60, 80, 0, -40, -20, 0],\n",
    "    connector = {\"line\":{\"color\":\"rgb(63, 63, 63)\"}},\n",
    "))\n",
    "\n",
    "fig.update_layout(\n",
    "        title = \"Profit and loss statement 2018\",\n",
    "        showlegend = True\n",
    ")\n",
    "\n",
    "fig.show()"
   ]
  },
  {
   "cell_type": "code",
   "execution_count": 4,
   "metadata": {},
   "outputs": [],
   "source": [
    "import pandas as pd\n",
    "import matplotlib.pyplot as plt\n",
    "\n",
    "%matplotlib inline"
   ]
  },
  {
   "cell_type": "code",
   "execution_count": 18,
   "metadata": {},
   "outputs": [
    {
     "data": {
      "text/plain": [
       "(array([1., 2., 1., 5., 1., 4.]),\n",
       " array([ 10,  20,  30,  40,  70,  80, 120]),\n",
       " <a list of 6 Patch objects>)"
      ]
     },
     "execution_count": 18,
     "metadata": {},
     "output_type": "execute_result"
    },
    {
     "data": {
      "image/png": "[encoded data removed]",
      "text/plain": [
       "<Figure size 432x288 with 1 Axes>"
      ]
     },
     "metadata": {
      "needs_background": "light"
     },
     "output_type": "display_data"
    }
   ],
   "source": [
    "my_bins = [10, 20, 30, 40, 70, 80, 120]\n",
    "my_data = [5, 5, 6, 8, 9, 15, 25, 27, 33, 45, 46, 48, 49, 55, 72 ,88, 99, 110, 113]\n",
    "\n",
    "fig = plt.figure()\n",
    "ax = fig.add_subplot(211)\n",
    "ax.hist(my_data, bins=my_bins, edgecolor='k')\n",
    "# ax = fig.add_subplot(212)\n",
    "# h,e = np.histogram(my_data, bins=my_bins)\n",
    "# ax.bar(range(len(my_bins)-1),h, width=1, edgecolor='k')\n",
    "# ax.set_xticks(range(len(my_bins)-1))\n",
    "# ax.set_xticklabels(my_bins[:-1])"
   ]
  },
  {
   "cell_type": "code",
   "execution_count": null,
   "metadata": {},
   "outputs": [],
   "source": [
    "import numpy as np\n",
    "import pandas as pd\n",
    "\n",
    "def waterfall(series):\n",
    "    df = pd.DataFrame({'pos':np.maximum(series,0),'neg':np.minimum(series,0)})\n",
    "    print(df)\n",
    "    blank = series.cumsum().shift(1).fillna(0)\n",
    "    df.plot(kind='hist', stacked=True, bottom=blank, color=['r','b'])\n",
    "    step = blank.reset_index(drop=True).repeat(3).shift(-1)\n",
    "    step[1::3] = np.nan\n",
    "    plt.plot(step.index, step.values,'k')\n",
    "\n",
    "test = pd.Series(-1 + 2 * np.random.rand(10), index=list('abcdefghij'))\n",
    "waterfall(test)"
   ]
  },
  {
   "cell_type": "code",
   "execution_count": 6,
   "metadata": {},
   "outputs": [
    {
     "data": {
      "text/plain": [
       "0       5\n",
       "1       5\n",
       "2       6\n",
       "3       8\n",
       "4       9\n",
       "5      15\n",
       "6      25\n",
       "7      27\n",
       "8      33\n",
       "9      45\n",
       "10     46\n",
       "11     48\n",
       "12     49\n",
       "13     55\n",
       "14     72\n",
       "15     88\n",
       "16     99\n",
       "17    110\n",
       "18    113\n",
       "dtype: int64"
      ]
     },
     "execution_count": 6,
     "metadata": {},
     "output_type": "execute_result"
    }
   ],
   "source": [
    "series = pd.Series(my_data)\n",
    "series"
   ]
  },
  {
   "cell_type": "code",
   "execution_count": 8,
   "metadata": {},
   "outputs": [],
   "source": [
    "import numpy as np"
   ]
  },
  {
   "cell_type": "code",
   "execution_count": 9,
   "metadata": {},
   "outputs": [],
   "source": [
    "df = pd.DataFrame({'pos':np.maximum(series,0),'neg':np.minimum(series,0)})\n",
    "blank = series.cumsum().shift(1).fillna(0)\n",
    "#ax.hist(df, bins=my_bins, edgecolor='k')"
   ]
  },
  {
   "cell_type": "code",
   "execution_count": 17,
   "metadata": {},
   "outputs": [
    {
     "data": {
      "text/plain": [
       "0       0.0\n",
       "1       5.0\n",
       "2      10.0\n",
       "3      16.0\n",
       "4      24.0\n",
       "5      33.0\n",
       "6      48.0\n",
       "7      73.0\n",
       "8     100.0\n",
       "9     133.0\n",
       "10    178.0\n",
       "11    224.0\n",
       "12    272.0\n",
       "13    321.0\n",
       "14    376.0\n",
       "15    448.0\n",
       "16    536.0\n",
       "17    635.0\n",
       "18    745.0\n",
       "dtype: float64"
      ]
     },
     "execution_count": 17,
     "metadata": {},
     "output_type": "execute_result"
    }
   ],
   "source": [
    "blank"
   ]
  },
  {
   "cell_type": "code",
   "execution_count": 15,
   "metadata": {},
   "outputs": [
    {
     "data": {
      "text/plain": [
       "0       5\n",
       "1       5\n",
       "2       6\n",
       "3       8\n",
       "4       9\n",
       "5      15\n",
       "6      25\n",
       "7      27\n",
       "8      33\n",
       "9      45\n",
       "10     46\n",
       "11     48\n",
       "12     49\n",
       "13     55\n",
       "14     72\n",
       "15     88\n",
       "16     99\n",
       "17    110\n",
       "18    113\n",
       "dtype: int64"
      ]
     },
     "execution_count": 15,
     "metadata": {},
     "output_type": "execute_result"
    }
   ],
   "source": [
    "series"
   ]
  },
  {
   "cell_type": "code",
   "execution_count": 14,
   "metadata": {},
   "outputs": [
    {
     "data": {
      "text/plain": [
       "([array([1., 2., 1., 5., 1., 4.]), array([3., 3., 2., 6., 2., 5.])],\n",
       " array([ 10,  20,  30,  40,  70,  80, 120]),\n",
       " <a list of 2 Lists of Patches objects>)"
      ]
     },
     "execution_count": 14,
     "metadata": {},
     "output_type": "execute_result"
    },
    {
     "data": {
      "image/png": "[encoded data removed]",
      "text/plain": [
       "<Figure size 432x288 with 1 Axes>"
      ]
     },
     "metadata": {
      "needs_background": "light"
     },
     "output_type": "display_data"
    }
   ],
   "source": [
    "plt.hist([series,blank], bins=my_bins, range=(1,120), stacked=True)"
   ]
  },
  {
   "cell_type": "code",
   "execution_count": null,
   "metadata": {},
   "outputs": [],
   "source": []
  },
  {
   "cell_type": "code",
   "execution_count": null,
   "metadata": {},
   "outputs": [],
   "source": []
  },
  {
   "cell_type": "code",
   "execution_count": null,
   "metadata": {},
   "outputs": [],
   "source": []
  },
  {
   "cell_type": "code",
   "execution_count": null,
   "metadata": {},
   "outputs": [],
   "source": []
  },
  {
   "cell_type": "code",
   "execution_count": null,
   "metadata": {},
   "outputs": [],
   "source": []
  },
  {
   "cell_type": "code",
   "execution_count": null,
   "metadata": {},
   "outputs": [],
   "source": [
    "  Name    Data\n",
    "0    A   green\n",
    "1    A    blue\n",
    "2    A  yellow\n",
    "3    A   green\n",
    "4    B   green\n",
    "5    B   green\n",
    "6    B     red\n",
    "7    C  violet\n",
    "8    C     red\n",
    "9    C   white"
   ]
  },
  {
   "cell_type": "code",
   "execution_count": 19,
   "metadata": {},
   "outputs": [],
   "source": [
    "name = ['A','A','A','A','B','B','B','C','C','C']\n",
    "data = ['green', 'blue', 'yellow', 'green', 'green', 'green', 'red', 'violet', 'red', 'white']"
   ]
  },
  {
   "cell_type": "code",
   "execution_count": 21,
   "metadata": {},
   "outputs": [
    {
     "data": {
      "text/html": [
       "<div>\n",
       "<style scoped>\n",
       "    .dataframe tbody tr th:only-of-type {\n",
       "        vertical-align: middle;\n",
       "    }\n",
       "\n",
       "    .dataframe tbody tr th {\n",
       "        vertical-align: top;\n",
       "    }\n",
       "\n",
       "    .dataframe thead th {\n",
       "        text-align: right;\n",
       "    }\n",
       "</style>\n",
       "<table border=\"1\" class=\"dataframe\">\n",
       "  <thead>\n",
       "    <tr style=\"text-align: right;\">\n",
       "      <th></th>\n",
       "      <th>Name</th>\n",
       "      <th>Data</th>\n",
       "    </tr>\n",
       "  </thead>\n",
       "  <tbody>\n",
       "    <tr>\n",
       "      <th>0</th>\n",
       "      <td>A</td>\n",
       "      <td>green</td>\n",
       "    </tr>\n",
       "    <tr>\n",
       "      <th>1</th>\n",
       "      <td>A</td>\n",
       "      <td>blue</td>\n",
       "    </tr>\n",
       "    <tr>\n",
       "      <th>2</th>\n",
       "      <td>A</td>\n",
       "      <td>yellow</td>\n",
       "    </tr>\n",
       "    <tr>\n",
       "      <th>3</th>\n",
       "      <td>A</td>\n",
       "      <td>green</td>\n",
       "    </tr>\n",
       "    <tr>\n",
       "      <th>4</th>\n",
       "      <td>B</td>\n",
       "      <td>green</td>\n",
       "    </tr>\n",
       "    <tr>\n",
       "      <th>5</th>\n",
       "      <td>B</td>\n",
       "      <td>green</td>\n",
       "    </tr>\n",
       "    <tr>\n",
       "      <th>6</th>\n",
       "      <td>B</td>\n",
       "      <td>red</td>\n",
       "    </tr>\n",
       "    <tr>\n",
       "      <th>7</th>\n",
       "      <td>C</td>\n",
       "      <td>violet</td>\n",
       "    </tr>\n",
       "    <tr>\n",
       "      <th>8</th>\n",
       "      <td>C</td>\n",
       "      <td>red</td>\n",
       "    </tr>\n",
       "    <tr>\n",
       "      <th>9</th>\n",
       "      <td>C</td>\n",
       "      <td>white</td>\n",
       "    </tr>\n",
       "  </tbody>\n",
       "</table>\n",
       "</div>"
      ],
      "text/plain": [
       "  Name    Data\n",
       "0    A   green\n",
       "1    A    blue\n",
       "2    A  yellow\n",
       "3    A   green\n",
       "4    B   green\n",
       "5    B   green\n",
       "6    B     red\n",
       "7    C  violet\n",
       "8    C     red\n",
       "9    C   white"
      ]
     },
     "execution_count": 21,
     "metadata": {},
     "output_type": "execute_result"
    }
   ],
   "source": [
    "df = pd.DataFrame({'Name':name, 'Data':data})\n",
    "df"
   ]
  },
  {
   "cell_type": "code",
   "execution_count": 27,
   "metadata": {},
   "outputs": [
    {
     "name": "stdout",
     "output_type": "stream",
     "text": [
      "  Name               Data\n",
      "0    A  yellow;green;blue\n",
      "1    B          red;green\n",
      "2    C   red;violet;white\n"
     ]
    }
   ],
   "source": [
    "print(df.groupby(['Name'])['Data'].apply(set).apply(';'.join).reset_index())"
   ]
  },
  {
   "cell_type": "code",
   "execution_count": null,
   "metadata": {},
   "outputs": [],
   "source": []
  }
 ],
 "metadata": {
  "kernelspec": {
   "display_name": "Python 3",
   "language": "python",
   "name": "python3"
  },
  "language_info": {
   "codemirror_mode": {
    "name": "ipython",
    "version": 3
   },
   "file_extension": ".py",
   "mimetype": "text/x-python",
   "name": "python",
   "nbconvert_exporter": "python",
   "pygments_lexer": "ipython3",
   "version": "3.7.3"
  }
 },
 "nbformat": 4,
 "nbformat_minor": 2
}
