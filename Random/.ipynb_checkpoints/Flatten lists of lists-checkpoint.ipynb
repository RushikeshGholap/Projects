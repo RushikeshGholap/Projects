{
 "cells": [
  {
   "cell_type": "markdown",
   "metadata": {},
   "source": [
    "# Flattening a list using List comprehension"
   ]
  },
  {
   "cell_type": "markdown",
   "metadata": {},
   "source": [
    "List comprehensions provide map (for) and filter (if) in the same piece of intuitive code.\n",
    "\n",
    "The main idea here is that Python maps and filters need to be written in the sequence they are being called. So, nested maps and filters come after the main map and filter. Therefore while you would wanna write it as -\n",
    "\n",
    "```python\n",
    "[item for item in sublist for sublist in mainlist]\n",
    "```\n",
    "\n",
    "Actual python syntax for list comprehensions is \n",
    "\n",
    "```python\n",
    "[item for sublist in mainlist for item in sublist]\n",
    "```"
   ]
  },
  {
   "cell_type": "code",
   "execution_count": null,
   "metadata": {},
   "outputs": [],
   "source": [
    "def shallowflatten(a):\n",
    "    return [j for i in a for j in i]\n",
    "\n",
    "shallowflatten([[1,2,3,4],[5,6,7],[8,9]])"
   ]
  },
  {
   "cell_type": "code",
   "execution_count": null,
   "metadata": {},
   "outputs": [],
   "source": [
    "import collections\n",
    "def deepflatten(x):\n",
    "    if isinstance(x,collections.Iterable):                  #If input is iterable, then recursively flatten\n",
    "        return [a for i in x for a in deepflatten(i)]\n",
    "    else:\n",
    "        return [x]                                          #If input is non-iterable, then return it as is\n",
    "\n",
    "deepflatten([1,2,3,[4,5],[[6,7,8],(9,{10,11})]])"
   ]
  },
  {
   "cell_type": "code",
   "execution_count": null,
   "metadata": {},
   "outputs": [],
   "source": []
  },
  {
   "cell_type": "code",
   "execution_count": 19,
   "metadata": {},
   "outputs": [
    {
     "data": {
      "text/plain": [
       "[[1, 2, 3], [4, 5, 6], [7, 8, 9]]"
      ]
     },
     "execution_count": 19,
     "metadata": {},
     "output_type": "execute_result"
    }
   ],
   "source": [
    "ll = [[1,2,3],[4,5,6],[7,8,9]]"
   ]
  },
  {
   "cell_type": "markdown",
   "metadata": {},
   "source": [
    "**Challenge:**\n",
    "Return count of numbers in the below data structure which are greater than 5\n",
    "\n",
    "```python\n",
    "{'a':\n",
    "     {'a1':[1,2,3],\n",
    "      'a2':[4,5,6]},\n",
    " 'b':\n",
    "     {'b1':[7,8,9],\n",
    "      'b2':[10,11,12]}}\n",
    "```\n",
    "\n",
    "> return 7 because the numbers greater than 5 in the data are [6,7,8,9,10,11,12]"
   ]
  },
  {
   "cell_type": "code",
   "execution_count": 83,
   "metadata": {},
   "outputs": [
    {
     "data": {
      "text/plain": [
       "{'a': {'a1': [1, 2, 3], 'a2': [4, 5, 6]},\n",
       " 'b': {'b1': [7, 8, 9], 'b2': [10, 11, 12]}}"
      ]
     },
     "execution_count": 83,
     "metadata": {},
     "output_type": "execute_result"
    }
   ],
   "source": [
    "d = {'a':{'a1':[1,2,3],'a2':[4,5,6]},'b':{'b1':[7,8,9],'b2':[10,11,12]}}\n",
    "d"
   ]
  },
  {
   "cell_type": "code",
   "execution_count": 84,
   "metadata": {},
   "outputs": [
    {
     "data": {
      "text/plain": [
       "7"
      ]
     },
     "execution_count": 84,
     "metadata": {},
     "output_type": "execute_result"
    }
   ],
   "source": [
    "len([i for k,v in d.items() for k1,v1 in v.items() for i in v1 if i>5])"
   ]
  },
  {
   "cell_type": "code",
   "execution_count": 146,
   "metadata": {},
   "outputs": [],
   "source": [
    "import numpy as np\n",
    "c = np.zeros((len(a),len(a)))\n",
    "\n",
    "for i in range(len(a)):\n",
    "    for j in range(len(a)):\n",
    "        c[i][j]=1"
   ]
  },
  {
   "cell_type": "code",
   "execution_count": null,
   "metadata": {},
   "outputs": [],
   "source": []
  }
 ],
 "metadata": {
  "kernelspec": {
   "display_name": "Python 3",
   "language": "python",
   "name": "python3"
  },
  "language_info": {
   "codemirror_mode": {
    "name": "ipython",
    "version": 3
   },
   "file_extension": ".py",
   "mimetype": "text/x-python",
   "name": "python",
   "nbconvert_exporter": "python",
   "pygments_lexer": "ipython3",
   "version": "3.6.5"
  }
 },
 "nbformat": 4,
 "nbformat_minor": 2
}
