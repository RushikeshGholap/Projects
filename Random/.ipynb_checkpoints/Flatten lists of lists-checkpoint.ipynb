{
 "cells": [
  {
   "cell_type": "markdown",
   "metadata": {},
   "source": [
    "# Flattening a list using List comprehension"
   ]
  },
  {
   "cell_type": "markdown",
   "metadata": {},
   "source": [
    "List comprehensions provide map (for) and filter (if) in the same piece of intuitive code.\n",
    "\n",
    "The main idea here is that Python maps and filters need to be written in the sequence they are being called. So, nested maps and filters come after the main map and filter. Therefore while you would wanna write it as -\n",
    "\n",
    "```python\n",
    "[item for item in sublist for sublist in mainlist]\n",
    "```\n",
    "\n",
    "Actual python syntax for list comprehensions is \n",
    "\n",
    "```python\n",
    "[item for sublist in mainlist for item in sublist]\n",
    "```"
   ]
  },
  {
   "cell_type": "code",
   "execution_count": null,
   "metadata": {},
   "outputs": [],
   "source": [
    "def shallowflatten(a):\n",
    "    return [j for i in a for j in i]\n",
    "\n",
    "shallowflatten([[1,2,3,4],[5,6,7],[8,9]])"
   ]
  },
  {
   "cell_type": "code",
   "execution_count": null,
   "metadata": {},
   "outputs": [],
   "source": [
    "import collections\n",
    "def deepflatten(x):\n",
    "    if isinstance(x,collections.Iterable):                  #If input is iterable, then recursively flatten\n",
    "        return [a for i in x for a in deepflatten(i)]\n",
    "    else:\n",
    "        return [x]                                          #If input is non-iterable, then return it as is\n",
    "\n",
    "deepflatten([1,2,3,[4,5],[[6,7,8],(9,{10,11})]])"
   ]
  },
  {
   "cell_type": "code",
   "execution_count": 16,
   "metadata": {},
   "outputs": [
    {
     "data": {
      "text/plain": [
       "{'a': {'a1': [1, 2, 3], 'a2': [4, 5, 6]},\n",
       " 'b': {'b1': [1, 2, 3], 'b2': [4, 5, 6]}}"
      ]
     },
     "execution_count": 16,
     "metadata": {},
     "output_type": "execute_result"
    }
   ],
   "source": [
    "d = {'a':{'a1':[1,2,3],'a2':[4,5,6]},'b':{'b1':[1,2,3],'b2':[4,5,6]}}\n",
    "d"
   ]
  },
  {
   "cell_type": "code",
   "execution_count": null,
   "metadata": {},
   "outputs": [],
   "source": [
    "### All the elements in leaf nodes which are greater than 2\n",
    "\n"
   ]
  }
 ],
 "metadata": {
  "kernelspec": {
   "display_name": "Python 3",
   "language": "python",
   "name": "python3"
  },
  "language_info": {
   "codemirror_mode": {
    "name": "ipython",
    "version": 3
   },
   "file_extension": ".py",
   "mimetype": "text/x-python",
   "name": "python",
   "nbconvert_exporter": "python",
   "pygments_lexer": "ipython3",
   "version": "3.6.5"
  }
 },
 "nbformat": 4,
 "nbformat_minor": 2
}
