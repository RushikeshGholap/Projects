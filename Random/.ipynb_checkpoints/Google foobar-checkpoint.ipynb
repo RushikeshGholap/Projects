{
 "cells": [
  {
   "cell_type": "code",
   "execution_count": null,
   "metadata": {},
   "outputs": [],
   "source": []
  },
  {
   "cell_type": "markdown",
   "metadata": {},
   "source": [
    "The cake is not a lie"
   ]
  },
  {
   "cell_type": "code",
   "execution_count": null,
   "metadata": {},
   "outputs": [],
   "source": [
    "def solutions(s):\n",
    "    n = len(s)\n",
    "    i = 1\n",
    "    while i<=n:\n",
    "        if n%i==0:   #for the factors on length of s\n",
    "            parts = set([s[j:j+i] for j in range(0, n, i)]) #break into equal parts and take a set\n",
    "            if len(parts)==1: #if single element, break\n",
    "                return int(n/i)\n",
    "                break\n",
    "        i = i+1"
   ]
  },
  {
   "cell_type": "code",
   "execution_count": null,
   "metadata": {},
   "outputs": [],
   "source": [
    "solutions(\"abccbaabccba\")"
   ]
  },
  {
   "cell_type": "code",
   "execution_count": null,
   "metadata": {},
   "outputs": [],
   "source": [
    "solutions(\"abcabcabcabc\")"
   ]
  },
  {
   "cell_type": "code",
   "execution_count": null,
   "metadata": {},
   "outputs": [],
   "source": []
  },
  {
   "cell_type": "code",
   "execution_count": null,
   "metadata": {},
   "outputs": [],
   "source": []
  },
  {
   "cell_type": "code",
   "execution_count": null,
   "metadata": {},
   "outputs": [],
   "source": []
  },
  {
   "cell_type": "code",
   "execution_count": null,
   "metadata": {},
   "outputs": [],
   "source": []
  },
  {
   "cell_type": "code",
   "execution_count": null,
   "metadata": {},
   "outputs": [],
   "source": []
  },
  {
   "cell_type": "markdown",
   "metadata": {},
   "source": [
    "Gearing up for destruction"
   ]
  },
  {
   "cell_type": "code",
   "execution_count": null,
   "metadata": {},
   "outputs": [],
   "source": [
    "pegs = [4, 30, 50]"
   ]
  },
  {
   "cell_type": "code",
   "execution_count": null,
   "metadata": {},
   "outputs": [],
   "source": [
    "import numpy as np\n",
    "from fractions import Fraction\n",
    "\n",
    "def solution(pegs):\n",
    "    gears = len(pegs)\n",
    "    \n",
    "    #Construting A which is a bi-diagonal matrix with last row condition for double radius equation\n",
    "    A = np.eye(gears)\n",
    "    A += np.diag(np.ones(gears-1), 1)\n",
    "    A[-1,0] = 1\n",
    "    A[-1,-1] = -2\n",
    "\n",
    "    #Constructing B with distances between pegs and appending last condition RHS\n",
    "    B = [i[1]-i[0] for i in zip(pegs, pegs[1:])] + [0]\n",
    "\n",
    "    #Solving system of linear equations\n",
    "    X = np.linalg.inv(A).dot(B)\n",
    "\n",
    "    #Return impractical solution results or if solution found, numerator and denominator of fraction\n",
    "    if any(X<1):\n",
    "        return -1,-1\n",
    "    else:\n",
    "        f = Fraction(X[0]).limit_denominator()\n",
    "        return f.numerator, f.denominator\n",
    "    \n",
    "solution(pegs)"
   ]
  },
  {
   "cell_type": "code",
   "execution_count": null,
   "metadata": {},
   "outputs": [],
   "source": [
    "def get_A(pegs):\n",
    "    gears = len(pegs)\n",
    "    A = np.eye(gears)\n",
    "    A += np.diag(np.ones(gears-1), 1)\n",
    "    A[-1,0] = 1\n",
    "    A[-1,-1] = -2\n",
    "    return A\n",
    "\n",
    "A = get_A(pegs)\n",
    "A"
   ]
  },
  {
   "cell_type": "code",
   "execution_count": null,
   "metadata": {},
   "outputs": [],
   "source": [
    "def get_B(pegs):\n",
    "    return [i[1]-i[0] for i in zip(pegs, pegs[1:])] + [0]\n",
    "\n",
    "B = get_B(pegs)\n",
    "B"
   ]
  },
  {
   "cell_type": "code",
   "execution_count": null,
   "metadata": {},
   "outputs": [],
   "source": [
    "X = np.linalg.inv(A).dot(B)\n",
    "X"
   ]
  },
  {
   "cell_type": "code",
   "execution_count": null,
   "metadata": {},
   "outputs": [],
   "source": []
  },
  {
   "cell_type": "code",
   "execution_count": null,
   "metadata": {},
   "outputs": [],
   "source": []
  },
  {
   "cell_type": "code",
   "execution_count": null,
   "metadata": {},
   "outputs": [],
   "source": []
  },
  {
   "cell_type": "code",
   "execution_count": null,
   "metadata": {},
   "outputs": [],
   "source": []
  },
  {
   "cell_type": "markdown",
   "metadata": {},
   "source": [
    "Ion Flux Relabelling"
   ]
  },
  {
   "cell_type": "code",
   "execution_count": null,
   "metadata": {},
   "outputs": [],
   "source": [
    "# Facts from analysis of these pyramids:\n",
    "#     1. The root node at any height can be given as 2**h-1\n",
    "#     2. The right child will ALWAYS be root-1\n",
    "#     3. The left child will ALWAYS be root-(2**(h-1))\n",
    "\n",
    "# Psudo code:\n",
    "#     1. Calculate the top most parent and left child using h\n",
    "#     2. If the number is any of the parent or child, SOLVED!\n",
    "#     3. Else, if the number is between the parent and child (> child, < parent), then set new parent to be the right child by subtracting 1\n",
    "#     4. Else, if the number is NOT between the parent and child, then set new parent to be the current child\n",
    "#     5. Repeat steps 2 to 4 until condition 2 is achieved and problem is SOLVED!\n",
    "\n",
    "# Complexity is of order n instead of 2**n!"
   ]
  },
  {
   "cell_type": "code",
   "execution_count": null,
   "metadata": {},
   "outputs": [],
   "source": [
    "def find_parent(h, n):\n",
    "    p = 2**h-1\n",
    "    while True:\n",
    "        c = p-2**(h-1)\n",
    "        if n==c: return p  \n",
    "        elif n==p and n!=2**h-1: return p+1\n",
    "        elif n<p and n>c: p, h = p-1, h-1\n",
    "        elif n<c: p, h = c, h-1\n",
    "        else: return -1\n",
    "        \n",
    "def solution(h, l):\n",
    "    return [find_parent(h, i) for i in l]"
   ]
  },
  {
   "cell_type": "code",
   "execution_count": null,
   "metadata": {},
   "outputs": [],
   "source": [
    "solution(10, [1, 15, 22, 31, 55, 73, 29, 45, 1023])"
   ]
  },
  {
   "cell_type": "code",
   "execution_count": null,
   "metadata": {},
   "outputs": [],
   "source": []
  },
  {
   "cell_type": "code",
   "execution_count": null,
   "metadata": {},
   "outputs": [],
   "source": []
  },
  {
   "cell_type": "code",
   "execution_count": null,
   "metadata": {},
   "outputs": [],
   "source": []
  },
  {
   "cell_type": "code",
   "execution_count": null,
   "metadata": {},
   "outputs": [],
   "source": []
  },
  {
   "cell_type": "code",
   "execution_count": null,
   "metadata": {},
   "outputs": [],
   "source": []
  },
  {
   "cell_type": "code",
   "execution_count": null,
   "metadata": {},
   "outputs": [],
   "source": []
  },
  {
   "cell_type": "markdown",
   "metadata": {},
   "source": [
    "Fuel Injection Perfection"
   ]
  },
  {
   "cell_type": "code",
   "execution_count": null,
   "metadata": {},
   "outputs": [],
   "source": [
    "#Shortest path is the one where majority of the operations are divide by 2\n",
    "#By finding the number of trailing zeros in the binary representation of a number, \n",
    "#I can decide where a power of 2 lies wrt to a number\n",
    "#Analysis of the pattern looks (from 0-100) looks like 0,0,1,0,2,0,1,0,3,0,1,0... \n",
    "#If 0 trailing zeros, then i have to add or subtract. \n",
    "#Direction is decided by which side there are more trailing zeros\n",
    "#EDGE case is at 3. It always goes 3->4->2->1 but a better way would be 3->2->1\n",
    "#Hard coded the edge case\n",
    "\n",
    "import numpy as np\n",
    "def trailingzeros(n):\n",
    "    count = 0\n",
    "    #print('{0:b}'.format(n))\n",
    "    while n:\n",
    "        if (n&1):\n",
    "            break\n",
    "        n >>= 1\n",
    "        count += 1\n",
    "    return count\n",
    "\n",
    "def solution(n):\n",
    "    n = int(n)\n",
    "    sol = []\n",
    "    while n!=1:\n",
    "        sol.append(n)\n",
    "        if n!=3:\n",
    "            nl = trailingzeros(n-1)\n",
    "            nn = trailingzeros(n)\n",
    "            nr = trailingzeros(n+1)\n",
    "            op = np.argmax([nl, nn, nr])\n",
    "\n",
    "            if op==1: n=int(n/2)            \n",
    "            elif op==0: n-=1\n",
    "            else: n+=1\n",
    "        else:\n",
    "            n-=1\n",
    "    return len(sol)"
   ]
  },
  {
   "cell_type": "code",
   "execution_count": null,
   "metadata": {},
   "outputs": [],
   "source": [
    "solution(1)"
   ]
  },
  {
   "cell_type": "code",
   "execution_count": null,
   "metadata": {},
   "outputs": [],
   "source": [
    "# ANOTHER SOLUTION\n",
    "\n",
    "def answer(n):\n",
    "    n=int(n)\n",
    "    res = 0\n",
    "\n",
    "    while(n!=1):\n",
    "        if(n%2==0):\n",
    "            n=int(n/2)\n",
    "        elif((n==3) or ((n+1)&n) > ((n-1)&(n-2))):\n",
    "            n-=1\n",
    "        else:\n",
    "            n+=1\n",
    "        res+=1\n",
    "    return res"
   ]
  },
  {
   "cell_type": "code",
   "execution_count": null,
   "metadata": {
    "scrolled": false
   },
   "outputs": [],
   "source": [
    "for i in range(1, 20):\n",
    "    solution(i)\n",
    "    print(str('{0:b}'.format(i)))\n",
    "    print('--')"
   ]
  },
  {
   "cell_type": "code",
   "execution_count": null,
   "metadata": {},
   "outputs": [],
   "source": []
  },
  {
   "cell_type": "code",
   "execution_count": null,
   "metadata": {},
   "outputs": [],
   "source": []
  },
  {
   "cell_type": "code",
   "execution_count": null,
   "metadata": {},
   "outputs": [],
   "source": []
  },
  {
   "cell_type": "code",
   "execution_count": null,
   "metadata": {},
   "outputs": [],
   "source": []
  },
  {
   "cell_type": "code",
   "execution_count": null,
   "metadata": {},
   "outputs": [],
   "source": []
  },
  {
   "cell_type": "code",
   "execution_count": null,
   "metadata": {},
   "outputs": [],
   "source": []
  },
  {
   "cell_type": "code",
   "execution_count": null,
   "metadata": {},
   "outputs": [],
   "source": []
  },
  {
   "cell_type": "code",
   "execution_count": null,
   "metadata": {},
   "outputs": [],
   "source": []
  },
  {
   "cell_type": "code",
   "execution_count": null,
   "metadata": {},
   "outputs": [],
   "source": []
  },
  {
   "cell_type": "markdown",
   "metadata": {},
   "source": [
    "Find the access code"
   ]
  },
  {
   "cell_type": "code",
   "execution_count": null,
   "metadata": {},
   "outputs": [],
   "source": [
    "l = [2,3,4,8,8,16]\n",
    "l = [1,2,3,4,5,6]\n",
    "l = [1,1,1]\n",
    "l = [1,3,5,7]"
   ]
  },
  {
   "cell_type": "code",
   "execution_count": null,
   "metadata": {
    "scrolled": true
   },
   "outputs": [],
   "source": [
    "def solution(l):\n",
    "    #A stupid sort statement here almost made me break my laptop :(\n",
    "    \n",
    "    out = np.tril(np.mod.outer(l, l)==0).astype(int) #lower triangular matrix with mod bools\n",
    "    np.fill_diagonal(out, 0) #setting n/n bools to 0\n",
    "    a = np.sum(out, axis=1) #array with number of positions where each value is a successful numerator\n",
    "    b = np.sum(out, axis=0) #array with number of positions where each value is a successful denominator\n",
    "    return np.sum(a*b) #product gives all combinations where a number is both a successful num and denom\n",
    "\n",
    "solution(l)"
   ]
  },
  {
   "cell_type": "code",
   "execution_count": null,
   "metadata": {},
   "outputs": [],
   "source": [
    "out"
   ]
  },
  {
   "cell_type": "code",
   "execution_count": null,
   "metadata": {},
   "outputs": [],
   "source": []
  },
  {
   "cell_type": "code",
   "execution_count": null,
   "metadata": {},
   "outputs": [],
   "source": []
  },
  {
   "cell_type": "code",
   "execution_count": null,
   "metadata": {},
   "outputs": [],
   "source": []
  },
  {
   "cell_type": "code",
   "execution_count": null,
   "metadata": {},
   "outputs": [],
   "source": []
  },
  {
   "cell_type": "code",
   "execution_count": null,
   "metadata": {},
   "outputs": [],
   "source": []
  },
  {
   "cell_type": "code",
   "execution_count": null,
   "metadata": {},
   "outputs": [],
   "source": []
  },
  {
   "cell_type": "code",
   "execution_count": null,
   "metadata": {
    "scrolled": true
   },
   "outputs": [],
   "source": [
    "maze = np.array([[0, 0, 0, 0, 0, 0],\n",
    "                 [1, 1, 1, 1, 1, 0],\n",
    "                 [0, 0, 0, 0, 0, 0],\n",
    "                 [0, 1, 1, 1, 1, 1],\n",
    "                 [0, 1, 1, 1, 1, 1],\n",
    "                 [0, 0, 0, 0, 0, 0]])\n",
    "\n",
    "maze = np.array([[0, 1, 1, 0],\n",
    "                 [0, 0, 0, 1],\n",
    "                 [1, 1, 0, 0],\n",
    "                 [1, 1, 1, 0]])\n",
    "maze"
   ]
  },
  {
   "cell_type": "code",
   "execution_count": null,
   "metadata": {},
   "outputs": [],
   "source": [
    "col = np.sum(maze, axis=0)"
   ]
  },
  {
   "cell_type": "code",
   "execution_count": null,
   "metadata": {},
   "outputs": [],
   "source": [
    "row = np.sum(maze, axis=1)"
   ]
  },
  {
   "cell_type": "code",
   "execution_count": null,
   "metadata": {},
   "outputs": [],
   "source": [
    "col"
   ]
  },
  {
   "cell_type": "code",
   "execution_count": null,
   "metadata": {},
   "outputs": [],
   "source": [
    "row"
   ]
  },
  {
   "cell_type": "code",
   "execution_count": null,
   "metadata": {},
   "outputs": [],
   "source": [
    "maze "
   ]
  },
  {
   "cell_type": "code",
   "execution_count": null,
   "metadata": {
    "scrolled": true
   },
   "outputs": [],
   "source": [
    "np.cumsum(maze, axis=0) * np.cumsum(maze, axis=1)"
   ]
  },
  {
   "cell_type": "code",
   "execution_count": null,
   "metadata": {},
   "outputs": [],
   "source": []
  },
  {
   "cell_type": "code",
   "execution_count": null,
   "metadata": {},
   "outputs": [],
   "source": [
    "import numpy as np"
   ]
  },
  {
   "cell_type": "code",
   "execution_count": null,
   "metadata": {},
   "outputs": [],
   "source": [
    "maze = np.array([[0,0,1,1,1,1],\n",
    "                 [1,0,0,0,1,0],\n",
    "                 [1,1,1,0,0,1],\n",
    "                 [0,0,0,1,0,1],\n",
    "                 [0,1,0,0,0,1],\n",
    "                 [0,0,1,1,1,1],\n",
    "                 [1,0,0,0,1,0],\n",
    "                 [1,1,1,0,0,0]])\n",
    "\n",
    "# maze = np.array([[0, 0, 0, 0, 0, 0],\n",
    "#                  [1, 1, 1, 1, 1, 0],\n",
    "#                  [0, 0, 0, 0, 0, 0],\n",
    "#                  [0, 1, 1, 1, 1, 1],\n",
    "#                  [0, 1, 1, 1, 1, 1],\n",
    "#                  [0, 0, 0, 0, 0, 0]])\n",
    "\n",
    "# maze = np.array([[0, 1, 1, 0],\n",
    "#                  [0, 0, 0, 1],\n",
    "#                  [1, 1, 0, 0],\n",
    "#                  [1, 1, 1, 0]])"
   ]
  },
  {
   "cell_type": "code",
   "execution_count": null,
   "metadata": {},
   "outputs": [],
   "source": [
    "# path = (maze==0).astype(int)\n",
    "# oo = minvert * range(1,minvert.shape[1]+1)\n",
    "# #(oo.T * range(minvert.shape[0],0,-1)).T\n",
    "# oo\n"
   ]
  },
  {
   "cell_type": "code",
   "execution_count": null,
   "metadata": {},
   "outputs": [],
   "source": [
    "path = (maze==0).astype(int)\n",
    "path"
   ]
  },
  {
   "cell_type": "code",
   "execution_count": null,
   "metadata": {},
   "outputs": [],
   "source": [
    "np.pad(path, 1)"
   ]
  },
  {
   "cell_type": "code",
   "execution_count": null,
   "metadata": {},
   "outputs": [],
   "source": [
    "k = np.array([[0,0],[1,1]])"
   ]
  },
  {
   "cell_type": "code",
   "execution_count": null,
   "metadata": {},
   "outputs": [],
   "source": [
    "path.strides"
   ]
  },
  {
   "cell_type": "code",
   "execution_count": null,
   "metadata": {},
   "outputs": [],
   "source": [
    "np.convolve(k, path)"
   ]
  },
  {
   "cell_type": "code",
   "execution_count": null,
   "metadata": {},
   "outputs": [],
   "source": []
  },
  {
   "cell_type": "code",
   "execution_count": null,
   "metadata": {},
   "outputs": [],
   "source": [
    "maze = np.array([[0, 1, 1, 0],\n",
    "                 [0, 0, 0, 1],\n",
    "                 [1, 1, 0, 0],\n",
    "                 [1, 1, 1, 0]])\n",
    "\n",
    "Z = maze==0"
   ]
  },
  {
   "cell_type": "code",
   "execution_count": null,
   "metadata": {},
   "outputs": [],
   "source": [
    "maze = np.array([[0, 0, 0, 0, 0, 0],\n",
    "                 [1, 1, 1, 1, 1, 0],\n",
    "                 [0, 0, 0, 0, 0, 0],\n",
    "                 [0, 1, 1, 1, 1, 1],\n",
    "                 [0, 1, 1, 1, 1, 1],\n",
    "                 [0, 0, 0, 0, 0, 0]])\n",
    "\n",
    "Z = np.pad(maze, 1, constant_values=1)==0\n",
    "start = (1,1)\n",
    "goal = Z.shape[0]-2,Z.shape[1]-2\n",
    "########\n",
    "\n",
    "# Build gradient array\n",
    "G = np.zeros(Z.shape)\n",
    "\n",
    "# Initialize gradient at the entrance with value 1\n",
    "G[start] = 1000\n",
    "\n",
    "# We iterate until value at exit is > 0. This requires the maze\n",
    "# to have a solution or it will be stuck in the loop.\n",
    "G_gamma = np.empty_like(G)\n",
    "\n",
    "while G[goal] == 0.0:\n",
    "    np.subtract(G, 1, out=G_gamma)\n",
    "    N = G_gamma[0:-2,1:-1]\n",
    "    W = G_gamma[1:-1,0:-2]\n",
    "    C = G[1:-1,1:-1]\n",
    "    E = G_gamma[1:-1,2:]\n",
    "    S = G_gamma[2:,1:-1]\n",
    "    G[1:-1,1:-1] = Z[1:-1,1:-1]*np.maximum.reduce([N,S,E,W,C])\n",
    "    \n",
    "print(np.round(G, decimals=2))"
   ]
  },
  {
   "cell_type": "code",
   "execution_count": null,
   "metadata": {},
   "outputs": [],
   "source": [
    "np.subtract(G, 1, out=G_gamma)"
   ]
  },
  {
   "cell_type": "code",
   "execution_count": null,
   "metadata": {},
   "outputs": [],
   "source": [
    "G"
   ]
  },
  {
   "cell_type": "code",
   "execution_count": null,
   "metadata": {},
   "outputs": [],
   "source": []
  },
  {
   "cell_type": "code",
   "execution_count": null,
   "metadata": {},
   "outputs": [],
   "source": []
  },
  {
   "cell_type": "code",
   "execution_count": null,
   "metadata": {},
   "outputs": [],
   "source": [
    "np.maximum()"
   ]
  },
  {
   "cell_type": "code",
   "execution_count": null,
   "metadata": {},
   "outputs": [],
   "source": [
    "N = 0.3\n",
    "S = 0.6\n",
    "E = 0.8\n",
    "W = 0.5\n",
    "C = 0.4\n",
    "\n",
    "np.maximum.reduce([N,S,E,W,C])"
   ]
  },
  {
   "cell_type": "code",
   "execution_count": null,
   "metadata": {},
   "outputs": [],
   "source": []
  },
  {
   "cell_type": "code",
   "execution_count": null,
   "metadata": {},
   "outputs": [],
   "source": [
    "G"
   ]
  },
  {
   "cell_type": "code",
   "execution_count": null,
   "metadata": {},
   "outputs": [],
   "source": [
    "Z = np.pad(maze, 1, constant_values=1).astype(bool)\n",
    "Z"
   ]
  },
  {
   "cell_type": "code",
   "execution_count": null,
   "metadata": {},
   "outputs": [],
   "source": [
    "G = np.zeros(Z.shape)\n",
    "G"
   ]
  },
  {
   "cell_type": "code",
   "execution_count": null,
   "metadata": {},
   "outputs": [],
   "source": []
  },
  {
   "cell_type": "code",
   "execution_count": null,
   "metadata": {},
   "outputs": [],
   "source": [
    "G[start] = 1"
   ]
  },
  {
   "cell_type": "code",
   "execution_count": null,
   "metadata": {},
   "outputs": [],
   "source": [
    "G"
   ]
  },
  {
   "cell_type": "code",
   "execution_count": null,
   "metadata": {},
   "outputs": [],
   "source": [
    "gamma = 0.99"
   ]
  },
  {
   "cell_type": "code",
   "execution_count": null,
   "metadata": {},
   "outputs": [],
   "source": [
    "G_gamma = np.empty_like(G)\n",
    "G_gamma"
   ]
  },
  {
   "cell_type": "code",
   "execution_count": null,
   "metadata": {
    "scrolled": true
   },
   "outputs": [],
   "source": [
    "while G[goal] == 0.0:\n",
    "    np.multiply(G, gamma, out=G_gamma)\n",
    "    N = G_gamma[0:-2,1:-1]\n",
    "    W = G_gamma[1:-1,0:-2]\n",
    "    C = G[1:-1,1:-1]\n",
    "    E = G_gamma[1:-1,2:]\n",
    "    S = G_gamma[2:,1:-1]\n",
    "    G[1:-1,1:-1] = Z[1:-1,1:-1]*np.maximum(N,np.maximum(W,\n",
    "                                np.maximum(C,np.maximum(E,S))))\n",
    "    print(G)"
   ]
  },
  {
   "cell_type": "code",
   "execution_count": null,
   "metadata": {},
   "outputs": [],
   "source": [
    "G"
   ]
  },
  {
   "cell_type": "code",
   "execution_count": null,
   "metadata": {},
   "outputs": [],
   "source": []
  },
  {
   "cell_type": "code",
   "execution_count": null,
   "metadata": {},
   "outputs": [],
   "source": []
  },
  {
   "cell_type": "code",
   "execution_count": null,
   "metadata": {},
   "outputs": [],
   "source": []
  },
  {
   "cell_type": "code",
   "execution_count": null,
   "metadata": {},
   "outputs": [],
   "source": []
  },
  {
   "cell_type": "code",
   "execution_count": null,
   "metadata": {},
   "outputs": [],
   "source": []
  },
  {
   "cell_type": "code",
   "execution_count": null,
   "metadata": {},
   "outputs": [],
   "source": []
  },
  {
   "cell_type": "code",
   "execution_count": 79,
   "metadata": {},
   "outputs": [],
   "source": [
    "maze = np.array([[0, 0, 0, 0, 0, 0],\n",
    "                 [0, 1, 1, 1, 1, 0],\n",
    "                 [0, 0, 0, 0, 0, 0],\n",
    "                 [0, 1, 1, 1, 1, 1],\n",
    "                 [0, 1, 1, 1, 1, 1],\n",
    "                 [0, 0, 0, 0, 0, 0]])"
   ]
  },
  {
   "cell_type": "code",
   "execution_count": null,
   "metadata": {},
   "outputs": [],
   "source": []
  },
  {
   "cell_type": "code",
   "execution_count": null,
   "metadata": {},
   "outputs": [],
   "source": [
    "import numpy as np\n",
    "from scipy.ndimage import generic_filter\n",
    "\n",
    "def diffuse(maze):\n",
    "    #Bellman–Ford diffusion process\n",
    "    maze_new = max(maze[0]-1, \n",
    "               maze[1]-1, \n",
    "               maze[2], \n",
    "               maze[3]-1, \n",
    "               maze[4]-1)\n",
    "    return maze_new\n",
    "\n",
    "def find_shortest_path(maze):\n",
    "    maze = np.array(maze).astype(bool)==False\n",
    "    start = (0,0)\n",
    "    goal = (-1,-1)\n",
    "    \n",
    "    path = np.zeros(maze.shape)\n",
    "    path[start] = 1000\n",
    "    \n",
    "    while path[goal] == 0.0:\n",
    "        path = maze * generic_filter(path, diffuse, footprint=[[0, 1, 0],\n",
    "                                                               [1, 1, 1],\n",
    "                                                               [0, 1, 0]], mode='constant', cval=False)\n",
    "        \n",
    "    num_steps = int(1000 - path[goal] + 1)\n",
    "    return num_steps\n",
    "\n",
    "def solution(maze):\n",
    "    return find_shortest_path(maze)"
   ]
  },
  {
   "cell_type": "code",
   "execution_count": null,
   "metadata": {},
   "outputs": [],
   "source": [
    "import numpy as np\n",
    "\n",
    "def find_shortest_path2(maze):\n",
    "    Z = np.pad(maze, 1, constant_values=1)==0\n",
    "    start = (1,1)\n",
    "    goal = Z.shape[0]-2,Z.shape[1]-2\n",
    "    ########\n",
    "\n",
    "    # Build gradient array\n",
    "    G = np.zeros(Z.shape)\n",
    "\n",
    "    # Initialize gradient at the entrance with value 1\n",
    "    G[start] = 1000\n",
    "\n",
    "    # We iterate until value at exit is > 0. This requires the maze\n",
    "    # to have a solution or it will be stuck in the loop.\n",
    "    G_gamma = np.empty_like(G)\n",
    "\n",
    "    while G[goal] == 0.0:\n",
    "        np.subtract(G, 1, out=G_gamma)\n",
    "        N = G_gamma[0:-2,1:-1]\n",
    "        W = G_gamma[1:-1,0:-2]\n",
    "        C = G[1:-1,1:-1]\n",
    "        E = G_gamma[1:-1,2:]\n",
    "        S = G_gamma[2:,1:-1]\n",
    "        G[1:-1,1:-1] = Z[1:-1,1:-1]*np.maximum.reduce([N,S,E,W,C])\n",
    "\n",
    "    #print(np.round(G, decimals=2))\n",
    "    \n",
    "    num_steps = int(1000 - G[goal] + 1)\n",
    "    return num_steps\n",
    "\n",
    "def solution(maze):\n",
    "    return find_shortest_path2(maze)"
   ]
  },
  {
   "cell_type": "code",
   "execution_count": null,
   "metadata": {},
   "outputs": [],
   "source": []
  },
  {
   "cell_type": "code",
   "execution_count": 125,
   "metadata": {},
   "outputs": [],
   "source": [
    "aaaa = np.array([[0, 0, 0, 0, 0, 0],\n",
    "                 [0, 1, 1, 1, 1, 0],\n",
    "                 [0, 0, 0, 0, 0, 0],\n",
    "                 [0, 1, 1, 1, 1, 1],\n",
    "                 [0, 1, 1, 1, 1, 1],\n",
    "                 [0, 0, 0, 0, 0, 0],\n",
    "                 [0, 0, 0, 0, 0, 0]])"
   ]
  },
  {
   "cell_type": "code",
   "execution_count": 130,
   "metadata": {},
   "outputs": [
    {
     "data": {
      "text/plain": [
       "32"
      ]
     },
     "execution_count": 130,
     "metadata": {},
     "output_type": "execute_result"
    }
   ],
   "source": []
  },
  {
   "cell_type": "code",
   "execution_count": 113,
   "metadata": {},
   "outputs": [],
   "source": [
    "import numpy as np\n",
    "\n",
    "def get_path(Z):\n",
    "    #Mark start and goal in the padded maze\n",
    "    start = (1,1)\n",
    "    goal = (-2,-2)\n",
    "    \n",
    "    #Initialize matrices for holding best path\n",
    "    G = np.zeros(Z.shape)\n",
    "    G_gamma = np.zeros(G.shape)\n",
    "    \n",
    "    #Set starting point to a value of 1000. Each step taken will reduce the number by 1\n",
    "    G[start] = 1000\n",
    "    \n",
    "    #Initialize Break counter for while loop and set limit \n",
    "    #to the largest possible path that can be taken in a maze\n",
    "    #(approximately!)\n",
    "    break_counter = 0\n",
    "    largest_possible_path = np.max(Z.shape)*(int(np.min(Z.shape)/2)+1) + (int(np.min(Z.shape)/2)+1)\n",
    "    \n",
    "    #While goal remains 0 (path not found) or break counter exceeds limit\n",
    "    #Diffuse the 1000 by subtracting 1 in the N, S, E, W directions\n",
    "    while G[goal] == 0 and break_counter<largest_possible_path:\n",
    "        break_counter+=1\n",
    "        G_gamma = np.subtract(G, 1)\n",
    "        N = G_gamma[0:-2,1:-1]\n",
    "        W = G_gamma[1:-1,0:-2]\n",
    "        C = G[1:-1,1:-1]\n",
    "        E = G_gamma[1:-1,2:]\n",
    "        S = G_gamma[2:,1:-1]\n",
    "        G[1:-1,1:-1] = Z[1:-1,1:-1]*np.maximum.reduce([N,S,E,W,C])\n",
    "    \n",
    "    #If goal has been reached then calculate the number of steps taken\n",
    "    #By subtracting the value left at goal after diffusion + 1\n",
    "    #Else return a large number which cant ever be the shortest path\n",
    "    if G[goal] != 0:\n",
    "        num_steps = int(1000 - G[goal] + 1)\n",
    "    else:\n",
    "        num_steps = Z.shape[0]*Z.shape[1]\n",
    "    return num_steps\n",
    "\n",
    "def solution(map):\n",
    "    #Take the maze and pad it for the Bellman–Ford diffusion process of shortest path\n",
    "    maze = (np.pad(map, 1, mode='constant', constant_values=1)==0).astype(int)\n",
    "    \n",
    "    #Calculate first run without breaking any walls\n",
    "    best_run = get_path(maze)\n",
    "    \n",
    "    #Detect all possible walls in maze\n",
    "    walls = np.argwhere(map)+1\n",
    "    \n",
    "    #Iterate over each wall and break it\n",
    "    #Check if shortest path is better that the best run till now\n",
    "    #Updated shortest path\n",
    "    #Fix the wall and try again\n",
    "    for i in walls:\n",
    "        maze[tuple(i)]=1\n",
    "        p = get_path(maze)\n",
    "        if p<best_run:\n",
    "            best_run=p\n",
    "        maze[tuple(i)]=0\n",
    "    \n",
    "    return best_run"
   ]
  },
  {
   "cell_type": "code",
   "execution_count": 114,
   "metadata": {},
   "outputs": [
    {
     "data": {
      "text/plain": [
       "7"
      ]
     },
     "execution_count": 114,
     "metadata": {},
     "output_type": "execute_result"
    }
   ],
   "source": [
    "solution([[0, 1, 1, 0], [0, 0, 0, 1], [1, 1, 0, 0], [1, 1, 1, 0]])"
   ]
  },
  {
   "cell_type": "code",
   "execution_count": 115,
   "metadata": {},
   "outputs": [
    {
     "data": {
      "text/plain": [
       "11"
      ]
     },
     "execution_count": 115,
     "metadata": {},
     "output_type": "execute_result"
    }
   ],
   "source": [
    "solution([[0, 0, 0, 0, 0, 0], \n",
    "          [1, 1, 1, 1, 1, 0], \n",
    "          [1, 1, 1, 1, 1, 0], \n",
    "          [0, 0, 0, 0, 0, 0], \n",
    "          [0, 1, 1, 1, 1, 1], \n",
    "          [0, 0, 0, 0, 0, 0]])"
   ]
  },
  {
   "cell_type": "code",
   "execution_count": 116,
   "metadata": {},
   "outputs": [
    {
     "data": {
      "text/plain": [
       "15"
      ]
     },
     "execution_count": 116,
     "metadata": {},
     "output_type": "execute_result"
    }
   ],
   "source": [
    "solution([[0,0,1,1,1,1],\n",
    "          [1,0,0,0,1,0],\n",
    "          [1,1,1,0,0,1],\n",
    "          [0,0,0,1,0,1],\n",
    "          [0,1,0,0,0,1],\n",
    "          [0,0,1,1,1,1],\n",
    "          [1,0,0,0,1,0],\n",
    "          [1,1,1,0,0,0]])"
   ]
  },
  {
   "cell_type": "code",
   "execution_count": 117,
   "metadata": {},
   "outputs": [
    {
     "data": {
      "text/plain": [
       "10"
      ]
     },
     "execution_count": 117,
     "metadata": {},
     "output_type": "execute_result"
    }
   ],
   "source": [
    "solution([[0, 1, 0, 1, 0, 0, 0], \n",
    "          [0, 0, 0, 1, 0, 1, 0]])"
   ]
  },
  {
   "cell_type": "code",
   "execution_count": null,
   "metadata": {},
   "outputs": [],
   "source": []
  },
  {
   "cell_type": "code",
   "execution_count": null,
   "metadata": {},
   "outputs": [],
   "source": []
  },
  {
   "cell_type": "code",
   "execution_count": null,
   "metadata": {},
   "outputs": [],
   "source": []
  },
  {
   "cell_type": "code",
   "execution_count": null,
   "metadata": {},
   "outputs": [],
   "source": []
  },
  {
   "cell_type": "code",
   "execution_count": 88,
   "metadata": {},
   "outputs": [],
   "source": [
    "mm = (np.pad(maze, 1, mode='constant', constant_values=1)==1).astype(int)"
   ]
  },
  {
   "cell_type": "code",
   "execution_count": 97,
   "metadata": {},
   "outputs": [
    {
     "name": "stdout",
     "output_type": "stream",
     "text": [
      "[0 7]\n",
      "[7 0]\n"
     ]
    }
   ],
   "source": [
    "for i in np.argwhere(mm):\n",
    "    if (0 in i) and (7 in i):\n",
    "        print(i)"
   ]
  },
  {
   "cell_type": "code",
   "execution_count": null,
   "metadata": {},
   "outputs": [],
   "source": []
  },
  {
   "cell_type": "code",
   "execution_count": null,
   "metadata": {},
   "outputs": [],
   "source": [
    "Z = maze.astype(bool)==False #np.pad(maze, 1, constant_values=1).astype(bool)==False\n",
    "start = (0,0)\n",
    "goal = Z.shape[0]-1,Z.shape[1]-1\n",
    "\n",
    "def diffuse(Z):\n",
    "    # North, West, Center, East, South\n",
    "    return max(gamma*Z[0], gamma*Z[1], Z[2], gamma*Z[3], gamma*Z[4])\n",
    "\n",
    "# Build gradient array\n",
    "G = np.zeros(Z.shape)\n",
    "\n",
    "# Initialize gradient at the entrance with value 1\n",
    "G[start] = 1\n",
    "\n",
    "# Discount factor\n",
    "gamma = 0.99\n",
    "\n",
    "# We iterate until value at exit is > 0. This requires the maze\n",
    "# to have a solution or it will be stuck in the loop.\n",
    "while G[goal] == 0.0:\n",
    "    G = Z * generic_filter(G, diffuse, footprint=[[0, 1, 0],\n",
    "                                                  [1, 1, 1],\n",
    "                                                  [0, 1, 0]], mode='constant', cval=False)"
   ]
  },
  {
   "cell_type": "code",
   "execution_count": null,
   "metadata": {},
   "outputs": [],
   "source": [
    "np.round(G, decimals=2)"
   ]
  },
  {
   "cell_type": "code",
   "execution_count": null,
   "metadata": {},
   "outputs": [],
   "source": []
  },
  {
   "cell_type": "code",
   "execution_count": null,
   "metadata": {},
   "outputs": [],
   "source": [
    "np.round(G, decimals=2)"
   ]
  },
  {
   "cell_type": "code",
   "execution_count": null,
   "metadata": {},
   "outputs": [],
   "source": []
  },
  {
   "cell_type": "code",
   "execution_count": null,
   "metadata": {},
   "outputs": [],
   "source": [
    "xx = np.array([[0, 0, 0, 0, 0, 0, 0], \n",
    "               [0, 0, 0, 0, 0, 0, 0], \n",
    "               [0, 0, 0, 9, 0, 0, 0], \n",
    "               [0, 0, 0, 0, 9, 0, 0], \n",
    "               [0, 0, 0, 0, 0, 0, 0]])"
   ]
  },
  {
   "cell_type": "code",
   "execution_count": null,
   "metadata": {},
   "outputs": [],
   "source": [
    "xx"
   ]
  },
  {
   "cell_type": "code",
   "execution_count": null,
   "metadata": {},
   "outputs": [],
   "source": [
    "gamma = 0.99\n",
    "def diffuse(Z):\n",
    "    # North, West, Center, East, South\n",
    "    return max(gamma*Z[0], gamma*Z[1], Z[2], gamma*Z[3], gamma*Z[4])"
   ]
  },
  {
   "cell_type": "code",
   "execution_count": null,
   "metadata": {},
   "outputs": [],
   "source": [
    "generic_filter(xx, diffuse, footprint=[[0, 1, 0],\n",
    "                                       [1, 1, 1],\n",
    "                                       [0, 1, 0]])"
   ]
  },
  {
   "cell_type": "code",
   "execution_count": null,
   "metadata": {},
   "outputs": [],
   "source": []
  },
  {
   "cell_type": "code",
   "execution_count": null,
   "metadata": {},
   "outputs": [],
   "source": []
  },
  {
   "cell_type": "code",
   "execution_count": null,
   "metadata": {},
   "outputs": [],
   "source": [
    "G_gamma"
   ]
  },
  {
   "cell_type": "code",
   "execution_count": null,
   "metadata": {},
   "outputs": [],
   "source": []
  },
  {
   "cell_type": "code",
   "execution_count": null,
   "metadata": {},
   "outputs": [],
   "source": []
  },
  {
   "cell_type": "code",
   "execution_count": null,
   "metadata": {},
   "outputs": [],
   "source": []
  },
  {
   "cell_type": "code",
   "execution_count": null,
   "metadata": {},
   "outputs": [],
   "source": []
  },
  {
   "cell_type": "code",
   "execution_count": null,
   "metadata": {},
   "outputs": [],
   "source": [
    "[i for i in np.sum(path, axis=1)]"
   ]
  },
  {
   "cell_type": "code",
   "execution_count": null,
   "metadata": {},
   "outputs": [],
   "source": []
  },
  {
   "cell_type": "code",
   "execution_count": null,
   "metadata": {},
   "outputs": [],
   "source": []
  },
  {
   "cell_type": "code",
   "execution_count": null,
   "metadata": {},
   "outputs": [],
   "source": [
    "np.cumsum(path, axis=0)-1"
   ]
  },
  {
   "cell_type": "code",
   "execution_count": null,
   "metadata": {},
   "outputs": [],
   "source": [
    "np.outer(np.sum(path, axis=1), np.sum(path, axis=0))"
   ]
  },
  {
   "cell_type": "code",
   "execution_count": null,
   "metadata": {},
   "outputs": [],
   "source": []
  },
  {
   "cell_type": "code",
   "execution_count": null,
   "metadata": {},
   "outputs": [],
   "source": []
  },
  {
   "cell_type": "code",
   "execution_count": null,
   "metadata": {},
   "outputs": [],
   "source": [
    "maze"
   ]
  },
  {
   "cell_type": "code",
   "execution_count": null,
   "metadata": {},
   "outputs": [],
   "source": []
  },
  {
   "cell_type": "code",
   "execution_count": null,
   "metadata": {},
   "outputs": [],
   "source": []
  },
  {
   "cell_type": "code",
   "execution_count": null,
   "metadata": {},
   "outputs": [],
   "source": []
  },
  {
   "cell_type": "code",
   "execution_count": null,
   "metadata": {},
   "outputs": [],
   "source": []
  },
  {
   "cell_type": "code",
   "execution_count": null,
   "metadata": {},
   "outputs": [],
   "source": []
  },
  {
   "cell_type": "code",
   "execution_count": null,
   "metadata": {},
   "outputs": [],
   "source": []
  },
  {
   "cell_type": "code",
   "execution_count": null,
   "metadata": {},
   "outputs": [],
   "source": []
  },
  {
   "cell_type": "code",
   "execution_count": null,
   "metadata": {},
   "outputs": [],
   "source": [
    "def build_maze(shape=(65, 65), complexity=0.75, density=0.50):\n",
    "    # Only odd shapes\n",
    "    shape = ((shape[0]//2)*2+1, (shape[1]//2)*2+1)\n",
    "\n",
    "    # Adjust complexity and density relatively to maze size\n",
    "    n_complexity = int(complexity*(shape[0]+shape[1]))\n",
    "    n_density = int(density*(shape[0]*shape[1]))\n",
    "\n",
    "    # Build actual maze\n",
    "    Z = np.zeros(shape, dtype=bool)\n",
    "\n",
    "    # Fill borders\n",
    "    Z[0, :] = Z[-1, :] = Z[:, 0] = Z[:, -1] = 1\n",
    "\n",
    "    # Islands starting point with a bias in favor of border\n",
    "    P = np.random.normal(0, 0.5, (n_density, 2))\n",
    "    P = 0.5 - np.maximum(-0.5, np.minimum(P, +0.5))\n",
    "    P = (P*[shape[1], shape[0]]).astype(int)\n",
    "    P = 2*(P//2)\n",
    "\n",
    "    # Create islands\n",
    "    for i in range(n_density):\n",
    "        # Test for early stop: if all starting point are busy, this means we\n",
    "        # won't be able to connect any island, so we stop.\n",
    "        T = Z[2:-2:2, 2:-2:2]\n",
    "        if T.sum() == T.size: break\n",
    "        x, y = P[i]\n",
    "        Z[y, x] = 1\n",
    "        for j in range(n_complexity):\n",
    "            neighbours = []\n",
    "            if x > 1:          neighbours.append([(y, x-1), (y, x-2)])\n",
    "            if x < shape[1]-2: neighbours.append([(y, x+1), (y, x+2)])\n",
    "            if y > 1:          neighbours.append([(y-1, x), (y-2, x)])\n",
    "            if y < shape[0]-2: neighbours.append([(y+1, x), (y+2, x)])\n",
    "            if len(neighbours):\n",
    "                choice = np.random.randint(len(neighbours))\n",
    "                next_1, next_2 = neighbours[choice]\n",
    "                if Z[next_2] == 0:\n",
    "                    Z[next_1] = 1\n",
    "                    Z[next_2] = 1\n",
    "                    y, x = next_2\n",
    "            else:\n",
    "                break\n",
    "    return Z"
   ]
  },
  {
   "cell_type": "code",
   "execution_count": null,
   "metadata": {},
   "outputs": [],
   "source": [
    "build_maze(shape=(10,10)).astype(int)"
   ]
  },
  {
   "cell_type": "code",
   "execution_count": null,
   "metadata": {},
   "outputs": [],
   "source": []
  },
  {
   "cell_type": "code",
   "execution_count": null,
   "metadata": {},
   "outputs": [],
   "source": []
  },
  {
   "cell_type": "code",
   "execution_count": null,
   "metadata": {},
   "outputs": [],
   "source": []
  },
  {
   "cell_type": "code",
   "execution_count": null,
   "metadata": {},
   "outputs": [],
   "source": []
  },
  {
   "cell_type": "code",
   "execution_count": null,
   "metadata": {},
   "outputs": [],
   "source": []
  },
  {
   "cell_type": "code",
   "execution_count": null,
   "metadata": {},
   "outputs": [],
   "source": [
    "data = [[3, 0, 1, 1, 1, 0, 2, 1, 2, 3], \n",
    "        [0, 5, 3, 2, 2, 1, 1, 1, 3, 0], \n",
    "        [1, 3, 5, 3, 2, 1, 1, 1, 2, 1], \n",
    "        [1, 2, 3, 4, 1, 1, 2, 1, 1, 1], \n",
    "        [1, 2, 2, 1, 4, 0, 2, 2, 2, 1], \n",
    "        [0, 1, 1, 1, 0, 1, 0, 0, 0, 0], \n",
    "        [2, 1, 1, 2, 2, 0, 4, 3, 2, 2], \n",
    "        [1, 1, 1, 1, 2, 0, 3, 3, 1, 1], \n",
    "        [2, 3, 2, 1, 2, 0, 2, 1, 5, 2], \n",
    "        [3, 0, 1, 1, 1, 0, 2, 1, 2, 4]]"
   ]
  },
  {
   "cell_type": "code",
   "execution_count": null,
   "metadata": {},
   "outputs": [],
   "source": [
    "np.max(np.array(data), axis=0)"
   ]
  },
  {
   "cell_type": "code",
   "execution_count": null,
   "metadata": {},
   "outputs": [],
   "source": [
    "np.max(np.array(data), axis=1)"
   ]
  },
  {
   "cell_type": "code",
   "execution_count": null,
   "metadata": {},
   "outputs": [],
   "source": []
  }
 ],
 "metadata": {
  "kernelspec": {
   "display_name": "Python 3",
   "language": "python",
   "name": "python3"
  },
  "language_info": {
   "codemirror_mode": {
    "name": "ipython",
    "version": 3
   },
   "file_extension": ".py",
   "mimetype": "text/x-python",
   "name": "python",
   "nbconvert_exporter": "python",
   "pygments_lexer": "ipython3",
   "version": "3.8.3"
  }
 },
 "nbformat": 4,
 "nbformat_minor": 4
}
