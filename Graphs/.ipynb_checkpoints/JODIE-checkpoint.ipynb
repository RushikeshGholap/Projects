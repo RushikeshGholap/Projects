{
 "cells": [
  {
   "cell_type": "markdown",
   "metadata": {},
   "source": [
    "# Predicting Dynamic Embedding Trajectory in Temporal Interaction Networks\n",
    "\n",
    "- http://snap.stanford.edu/jodie/\n",
    "- https://arxiv.org/pdf/1908.01207.pdf\n",
    "- https://www.youtube.com/watch?v=ItBmU8681j0"
   ]
  },
  {
   "cell_type": "code",
   "execution_count": 1,
   "metadata": {},
   "outputs": [],
   "source": [
    "import pandas as pd"
   ]
  },
  {
   "cell_type": "markdown",
   "metadata": {},
   "source": [
    "#### SAMPLE DATA\n",
    "\n",
    "```\n",
    "user,item,timestamp,state_label,comma_separated_list_of_features\n",
    "0,0,0.0,0,0.1,0.3,10.7\n",
    "2,1,6.0,0,0.2,0.4,0.6\n",
    "5,0,41.0,0,0.1,15.0,0.6\n",
    "3,2,49.0,1,100.7,0.8,0.9\n",
    "```"
   ]
  },
  {
   "cell_type": "code",
   "execution_count": 14,
   "metadata": {},
   "outputs": [],
   "source": [
    "df = pd.read_clipboard(',').reset_index().drop(['level_0','level_1'], axis=1)"
   ]
  },
  {
   "cell_type": "code",
   "execution_count": 15,
   "metadata": {},
   "outputs": [
    {
     "data": {
      "text/html": [
       "<div>\n",
       "<style scoped>\n",
       "    .dataframe tbody tr th:only-of-type {\n",
       "        vertical-align: middle;\n",
       "    }\n",
       "\n",
       "    .dataframe tbody tr th {\n",
       "        vertical-align: top;\n",
       "    }\n",
       "\n",
       "    .dataframe thead th {\n",
       "        text-align: right;\n",
       "    }\n",
       "</style>\n",
       "<table border=\"1\" class=\"dataframe\">\n",
       "  <thead>\n",
       "    <tr style=\"text-align: right;\">\n",
       "      <th></th>\n",
       "      <th>user</th>\n",
       "      <th>item</th>\n",
       "      <th>timestamp</th>\n",
       "      <th>state_label</th>\n",
       "      <th>comma_separated_list_of_features</th>\n",
       "    </tr>\n",
       "  </thead>\n",
       "  <tbody>\n",
       "    <tr>\n",
       "      <th>0</th>\n",
       "      <td>0.0</td>\n",
       "      <td>0</td>\n",
       "      <td>0.1</td>\n",
       "      <td>0.3</td>\n",
       "      <td>10.7</td>\n",
       "    </tr>\n",
       "    <tr>\n",
       "      <th>1</th>\n",
       "      <td>6.0</td>\n",
       "      <td>0</td>\n",
       "      <td>0.2</td>\n",
       "      <td>0.4</td>\n",
       "      <td>0.6</td>\n",
       "    </tr>\n",
       "    <tr>\n",
       "      <th>2</th>\n",
       "      <td>41.0</td>\n",
       "      <td>0</td>\n",
       "      <td>0.1</td>\n",
       "      <td>15.0</td>\n",
       "      <td>0.6</td>\n",
       "    </tr>\n",
       "    <tr>\n",
       "      <th>3</th>\n",
       "      <td>49.0</td>\n",
       "      <td>1</td>\n",
       "      <td>100.7</td>\n",
       "      <td>0.8</td>\n",
       "      <td>0.9</td>\n",
       "    </tr>\n",
       "  </tbody>\n",
       "</table>\n",
       "</div>"
      ],
      "text/plain": [
       "   user  item  timestamp  state_label  comma_separated_list_of_features\n",
       "0   0.0     0        0.1          0.3                              10.7\n",
       "1   6.0     0        0.2          0.4                               0.6\n",
       "2  41.0     0        0.1         15.0                               0.6\n",
       "3  49.0     1      100.7          0.8                               0.9"
      ]
     },
     "execution_count": 15,
     "metadata": {},
     "output_type": "execute_result"
    }
   ],
   "source": [
    "df"
   ]
  },
  {
   "cell_type": "code",
   "execution_count": 7,
   "metadata": {},
   "outputs": [
    {
     "data": {
      "text/plain": [
       "Index(['user', 'item', 'timestamp', 'state_label',\n",
       "       'comma_separated_list_of_features'],\n",
       "      dtype='object')"
      ]
     },
     "execution_count": 7,
     "metadata": {},
     "output_type": "execute_result"
    }
   ],
   "source": [
    "df.columns"
   ]
  },
  {
   "cell_type": "code",
   "execution_count": 18,
   "metadata": {},
   "outputs": [],
   "source": [
    "datapath = '/Users/akshay/Dropbox/Personal/Data Science/Codes/Projects Non Git/Mooc/mooc.csv'"
   ]
  },
  {
   "cell_type": "code",
   "execution_count": 20,
   "metadata": {},
   "outputs": [
    {
     "data": {
      "text/html": [
       "<div>\n",
       "<style scoped>\n",
       "    .dataframe tbody tr th:only-of-type {\n",
       "        vertical-align: middle;\n",
       "    }\n",
       "\n",
       "    .dataframe tbody tr th {\n",
       "        vertical-align: top;\n",
       "    }\n",
       "\n",
       "    .dataframe thead th {\n",
       "        text-align: right;\n",
       "    }\n",
       "</style>\n",
       "<table border=\"1\" class=\"dataframe\">\n",
       "  <thead>\n",
       "    <tr style=\"text-align: right;\">\n",
       "      <th></th>\n",
       "      <th></th>\n",
       "      <th></th>\n",
       "      <th>user_id</th>\n",
       "      <th>item_id</th>\n",
       "      <th>timestamp</th>\n",
       "      <th>state_label</th>\n",
       "      <th>comma_separated_list_of_features</th>\n",
       "    </tr>\n",
       "  </thead>\n",
       "  <tbody>\n",
       "    <tr>\n",
       "      <th rowspan=\"5\" valign=\"top\">0</th>\n",
       "      <th>0</th>\n",
       "      <th>0.0</th>\n",
       "      <td>0</td>\n",
       "      <td>-0.319991</td>\n",
       "      <td>-0.435701</td>\n",
       "      <td>0.106784</td>\n",
       "      <td>-0.067309</td>\n",
       "    </tr>\n",
       "    <tr>\n",
       "      <th>1</th>\n",
       "      <th>6.0</th>\n",
       "      <td>0</td>\n",
       "      <td>-0.319991</td>\n",
       "      <td>-0.435701</td>\n",
       "      <td>0.106784</td>\n",
       "      <td>-0.067309</td>\n",
       "    </tr>\n",
       "    <tr>\n",
       "      <th>2</th>\n",
       "      <th>41.0</th>\n",
       "      <td>0</td>\n",
       "      <td>-0.319991</td>\n",
       "      <td>-0.435701</td>\n",
       "      <td>0.106784</td>\n",
       "      <td>-0.067309</td>\n",
       "    </tr>\n",
       "    <tr>\n",
       "      <th>1</th>\n",
       "      <th>49.0</th>\n",
       "      <td>0</td>\n",
       "      <td>-0.319991</td>\n",
       "      <td>-0.435701</td>\n",
       "      <td>0.106784</td>\n",
       "      <td>-0.067309</td>\n",
       "    </tr>\n",
       "    <tr>\n",
       "      <th>2</th>\n",
       "      <th>51.0</th>\n",
       "      <td>0</td>\n",
       "      <td>-0.319991</td>\n",
       "      <td>-0.435701</td>\n",
       "      <td>0.106784</td>\n",
       "      <td>-0.067309</td>\n",
       "    </tr>\n",
       "    <tr>\n",
       "      <th>...</th>\n",
       "      <th>...</th>\n",
       "      <th>...</th>\n",
       "      <td>...</td>\n",
       "      <td>...</td>\n",
       "      <td>...</td>\n",
       "      <td>...</td>\n",
       "      <td>...</td>\n",
       "    </tr>\n",
       "    <tr>\n",
       "      <th>7026</th>\n",
       "      <th>8</th>\n",
       "      <th>2572041.0</th>\n",
       "      <td>0</td>\n",
       "      <td>-0.319991</td>\n",
       "      <td>-0.435701</td>\n",
       "      <td>0.106784</td>\n",
       "      <td>-0.067309</td>\n",
       "    </tr>\n",
       "    <tr>\n",
       "      <th>6842</th>\n",
       "      <th>8</th>\n",
       "      <th>2572043.0</th>\n",
       "      <td>0</td>\n",
       "      <td>-0.319991</td>\n",
       "      <td>-0.435701</td>\n",
       "      <td>0.106784</td>\n",
       "      <td>-0.067309</td>\n",
       "    </tr>\n",
       "    <tr>\n",
       "      <th>7026</th>\n",
       "      <th>9</th>\n",
       "      <th>2572048.0</th>\n",
       "      <td>0</td>\n",
       "      <td>-0.319991</td>\n",
       "      <td>-0.435701</td>\n",
       "      <td>0.106784</td>\n",
       "      <td>-0.067309</td>\n",
       "    </tr>\n",
       "    <tr>\n",
       "      <th>6842</th>\n",
       "      <th>5</th>\n",
       "      <th>2572054.0</th>\n",
       "      <td>0</td>\n",
       "      <td>-0.319991</td>\n",
       "      <td>-0.435701</td>\n",
       "      <td>0.106784</td>\n",
       "      <td>-0.067309</td>\n",
       "    </tr>\n",
       "    <tr>\n",
       "      <th>70</th>\n",
       "      <th>23</th>\n",
       "      <th>2572086.0</th>\n",
       "      <td>0</td>\n",
       "      <td>-0.319991</td>\n",
       "      <td>-0.435701</td>\n",
       "      <td>0.106784</td>\n",
       "      <td>-0.067309</td>\n",
       "    </tr>\n",
       "  </tbody>\n",
       "</table>\n",
       "<p>411749 rows × 5 columns</p>\n",
       "</div>"
      ],
      "text/plain": [
       "                   user_id   item_id  timestamp  state_label  \\\n",
       "0    0  0.0              0 -0.319991  -0.435701     0.106784   \n",
       "     1  6.0              0 -0.319991  -0.435701     0.106784   \n",
       "     2  41.0             0 -0.319991  -0.435701     0.106784   \n",
       "     1  49.0             0 -0.319991  -0.435701     0.106784   \n",
       "     2  51.0             0 -0.319991  -0.435701     0.106784   \n",
       "...                    ...       ...        ...          ...   \n",
       "7026 8  2572041.0        0 -0.319991  -0.435701     0.106784   \n",
       "6842 8  2572043.0        0 -0.319991  -0.435701     0.106784   \n",
       "7026 9  2572048.0        0 -0.319991  -0.435701     0.106784   \n",
       "6842 5  2572054.0        0 -0.319991  -0.435701     0.106784   \n",
       "70   23 2572086.0        0 -0.319991  -0.435701     0.106784   \n",
       "\n",
       "                   comma_separated_list_of_features  \n",
       "0    0  0.0                               -0.067309  \n",
       "     1  6.0                               -0.067309  \n",
       "     2  41.0                              -0.067309  \n",
       "     1  49.0                              -0.067309  \n",
       "     2  51.0                              -0.067309  \n",
       "...                                             ...  \n",
       "7026 8  2572041.0                         -0.067309  \n",
       "6842 8  2572043.0                         -0.067309  \n",
       "7026 9  2572048.0                         -0.067309  \n",
       "6842 5  2572054.0                         -0.067309  \n",
       "70   23 2572086.0                         -0.067309  \n",
       "\n",
       "[411749 rows x 5 columns]"
      ]
     },
     "execution_count": 20,
     "metadata": {},
     "output_type": "execute_result"
    }
   ],
   "source": [
    "pd.read_csv(datapath, index_col=None)"
   ]
  },
  {
   "cell_type": "code",
   "execution_count": null,
   "metadata": {},
   "outputs": [],
   "source": [
    "pd.unique()"
   ]
  }
 ],
 "metadata": {
  "kernelspec": {
   "display_name": "Python 3",
   "language": "python",
   "name": "python3"
  },
  "language_info": {
   "codemirror_mode": {
    "name": "ipython",
    "version": 3
   },
   "file_extension": ".py",
   "mimetype": "text/x-python",
   "name": "python",
   "nbconvert_exporter": "python",
   "pygments_lexer": "ipython3",
   "version": "3.7.3"
  }
 },
 "nbformat": 4,
 "nbformat_minor": 2
}
