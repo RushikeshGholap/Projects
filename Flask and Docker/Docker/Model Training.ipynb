{
 "cells": [
  {
   "cell_type": "markdown",
   "metadata": {},
   "source": [
    "# Dockerizing a Flask model"
   ]
  },
  {
   "cell_type": "markdown",
   "metadata": {},
   "source": [
    "### Model training"
   ]
  },
  {
   "cell_type": "code",
   "execution_count": 2,
   "metadata": {},
   "outputs": [],
   "source": [
    "from sklearn.ensemble import AdaBoostClassifier\n",
    "from sklearn.datasets import load_iris\n",
    "from sklearn.model_selection import train_test_split\n",
    "import pickle"
   ]
  },
  {
   "cell_type": "code",
   "execution_count": 16,
   "metadata": {},
   "outputs": [
    {
     "name": "stdout",
     "output_type": "stream",
     "text": [
      "Model Accuracy: 0.9481481481481482\n",
      "Validation Accuracy: 0.9333333333333333\n"
     ]
    }
   ],
   "source": [
    "iris = load_iris()\n",
    "ada = AdaBoostClassifier(n_estimators=5)\n",
    "\n",
    "X_train, X_test, y_train, y_test = train_test_split(iris.data, iris.target, test_size = 0.1)\n",
    "model = ada.fit(X_train, y_train)\n",
    "\n",
    "print('Model Accuracy:',ada.score(X_train, y_train))\n",
    "print('Validation Accuracy:',ada.score(X_test, y_test))"
   ]
  },
  {
   "cell_type": "code",
   "execution_count": 17,
   "metadata": {
    "scrolled": true
   },
   "outputs": [],
   "source": [
    "pickle.dump(model, open('model.pkl', 'wb'))\n",
    "model1 = pickle.load(open('model.pkl', 'rb'))"
   ]
  },
  {
   "cell_type": "code",
   "execution_count": 42,
   "metadata": {},
   "outputs": [
    {
     "data": {
      "text/plain": [
       "array([2])"
      ]
     },
     "execution_count": 42,
     "metadata": {},
     "output_type": "execute_result"
    }
   ],
   "source": [
    "model1.predict([[6.5, 3. , 5.5, 1.8]])"
   ]
  },
  {
   "cell_type": "markdown",
   "metadata": {},
   "source": [
    "### Model deployment"
   ]
  },
  {
   "cell_type": "code",
   "execution_count": null,
   "metadata": {},
   "outputs": [],
   "source": [
    "#app.py\n",
    "\n",
    "import pickle\n",
    "from flask import Flask, jsonify, request\n",
    "\n",
    "app = Flask(__name__)\n",
    "\n",
    "@app.route('/api/', methods=['POST'])\n",
    "def predict_category():\n",
    "    \n",
    "    #Get input from POST and preprocess\n",
    "    data = request.get_json()\n",
    "    inp = [[i for i in data.values()]]\n",
    "    \n",
    "    #Load and predict using model\n",
    "    model = pickle.load(open('model.pkl', 'rb'))\n",
    "    output = model.predict(inp)\n",
    "    \n",
    "    #Return output\n",
    "    outdict = {0: 'setosa', 1: 'versicolor', 2: 'virginica'}\n",
    "    return jsonify(category=outdict.get(output[0]))\n",
    "\n",
    "if __name__ == '__main__':\n",
    "    app.run(debug=True, host='0.0.0.0',port=5000)//"
   ]
  },
  {
   "cell_type": "code",
   "execution_count": null,
   "metadata": {},
   "outputs": [],
   "source": [
    "## IN POSTMAN - \n",
    "\n",
    "#URL\n",
    "http://localhost:5000/api/\n",
    "\n",
    "#BODY (raw, JSON)\n",
    "{\n",
    "\"sepal_length\":6.5,\n",
    "\"sepal_width\":3.0,\n",
    "\"petal_length\":5.5,\n",
    "\"petal_width\":1.8\n",
    "}\n",
    "\n",
    "#OUTPUT\n",
    "{\n",
    "    \"category\": \"virginica\"\n",
    "}"
   ]
  },
  {
   "cell_type": "code",
   "execution_count": null,
   "metadata": {},
   "outputs": [],
   "source": [
    "#REQIREMENTS \n",
    "\n",
    "requirements.txt\n",
    "\n",
    "Flask==1.0.2\n",
    "scikit-learn==0.23.2"
   ]
  },
  {
   "cell_type": "code",
   "execution_count": 44,
   "metadata": {},
   "outputs": [],
   "source": [
    "## DOCKER BUILD\n",
    "\n",
    "#-----------------------\n",
    "\n",
    "#IN DOCKERFILE (Dockerfile.txt)\n",
    "FROM continuumio/miniconda3\n",
    "\n",
    "WORKDIR /app\n",
    "\n",
    "COPY . /app\n",
    "\n",
    "EXPOSE 5000\n",
    "CMD [\"python\", \"api.py\"]\n",
    "\n",
    "#-----------------------\n",
    "\n",
    "#DOCKER BUILD\n",
    "$ docker build -t irisapp -f Dockerfile.txt .\n",
    "\n",
    "#output\n",
    "Sending build context to Docker daemon  17.41kB\n",
    "Step 1/6 : FROM continuumio/miniconda3\n",
    " ---> b4adc22212f1\n",
    "Step 2/6 : WORKDIR /app\n",
    " ---> Using cache\n",
    " ---> 24e9a13027c3\n",
    "Step 3/6 : COPY . /app\n",
    " ---> bda82ae7733c\n",
    "Step 4/6 : RUN pip install -r requirements.txt\n",
    " ---> Running in c711eaf981e7\n",
    "Collecting Flask==1.0.2\n",
    "  Downloading Flask-1.0.2-py2.py3-none-any.whl (91 kB)\n",
    "Collecting scikit-learn==0.23.2\n",
    "  Downloading scikit_learn-0.23.2-cp37-cp37m-manylinux1_x86_64.whl (6.8 MB)\n",
    "Successfully installed Flask-1.0.2 scikit-learn-0.23.2\n",
    "Removing intermediate container c711eaf981e7\n",
    " ---> 5e319e7da4f5\n",
    "Step 5/6 : EXPOSE 5000\n",
    " ---> Running in a8b2a33abafd\n",
    "Removing intermediate container a8b2a33abafd\n",
    " ---> f0beae72b604\n",
    "Step 6/6 : CMD [\"python\", \"app.py\"]\n",
    " ---> Running in ed78f6606d7a\n",
    "Removing intermediate container ed78f6606d7a\n",
    " ---> 217d750d4ea5\n",
    "Successfully built 217d750d4ea5\n",
    "Successfully tagged irisapp:latest\n",
    "\n",
    "##----------------------\n",
    "\n",
    "$ docker images\n",
    "\n",
    "REPOSITORY               TAG                 IMAGE ID            CREATED             SIZE\n",
    "irisapp                  latest              217d750d4ea5        4 minutes ago       655MB\n",
    "continuumio/miniconda3   latest              b4adc22212f1        5 months ago        429MB"
   ]
  },
  {
   "cell_type": "code",
   "execution_count": null,
   "metadata": {},
   "outputs": [],
   "source": [
    "## DOCKER RUN\n",
    "\n",
    "$ docker run -p 5000:5000 irisapp\n",
    "    \n",
    "* Serving Flask app \"app\" (lazy loading)\n",
    "* Environment: production\n",
    "  WARNING: Do not use the development server in a production environment.\n",
    "  Use a production WSGI server instead.\n",
    "* Debug mode: off\n",
    "* Running on http://0.0.0.0:5000/ (Press CTRL+C to quit)"
   ]
  },
  {
   "cell_type": "code",
   "execution_count": null,
   "metadata": {},
   "outputs": [],
   "source": []
  }
 ],
 "metadata": {
  "kernelspec": {
   "display_name": "Python 3",
   "language": "python",
   "name": "python3"
  },
  "language_info": {
   "codemirror_mode": {
    "name": "ipython",
    "version": 3
   },
   "file_extension": ".py",
   "mimetype": "text/x-python",
   "name": "python",
   "nbconvert_exporter": "python",
   "pygments_lexer": "ipython3",
   "version": "3.7.3"
  }
 },
 "nbformat": 4,
 "nbformat_minor": 2
}
