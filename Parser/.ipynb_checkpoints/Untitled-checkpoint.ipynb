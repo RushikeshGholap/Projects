{
 "cells": [
  {
   "cell_type": "code",
   "execution_count": 1,
   "metadata": {},
   "outputs": [],
   "source": [
    "resume = \"I am a Data Scientist with 7 years of experience, currently working as a lead (General manager, SME-1) at Reliance Industries, where I design, train and deploy ML models powering enterprise scale platforms and products. I currently lead a team of about 10 data scientists working closely with full stack developers, product teams and dev-ops to map out and productionalizing AI/ML architectures for cloud based applications related to employee management systems and services. Some of my projects include, geo-spatial route matching, distributed virtual assistants, recommendation engines, document semantic matching, anomaly detection on image data and natural language to querying a database. Previously I was heading the Strategy and Development of data powered products for a startup company called iPredictt Data Labs which I co-founded. My career in the data science domain started off in Mu-Sigma, a pure play analytics firm. I have worked cross domain including HR, Advertising, Retail and Entertainment industries. I have experience with supervised learning methods such as generalized linear models, decision trees, ensemble models (Stacknet, Xgboost, RF), support vector machines (SVM), probabilistic models, deep learning and unsupervised models such as K-means clustering, Gaussian mixture models, hierarchical DBScan for geo-spatial data, PCA, deep belief networks, RBMs and selforganizing maps. This includes applying NLP based models such as Seq2Seq models with attention, word embeddings (fasttext, word2vec, Glove), LSTM/GRUs, 1d convolutional networks. I enjoy exploring GANs, Deep dream networks, Reinforcement learning, Genetic algorithms, computer vision and network analysis. I have frequently worked with Django and Flask frameworks deployed via Ngrok or Docker on Amazon EC2, Azure VMs, and server-less deployment using Amazon Lambda (Zappa). Outside office I explore metaphysics, epistimology, theoritical physics, amateur mathematics and graphic designing. I have been a guitarist for over 10 years now.\""
   ]
  },
  {
   "cell_type": "code",
   "execution_count": 2,
   "metadata": {},
   "outputs": [
    {
     "data": {
      "text/plain": [
       "'I am a Data Scientist with 7 years of experience, currently working as a lead (General manager, SME-1) at Reliance Industries, where I design, train and deploy ML models powering enterprise scale platforms and products. I currently lead a team of about 10 data scientists working closely with full stack developers, product teams and dev-ops to map out and productionalizing AI/ML architectures for cloud based applications related to employee management systems and services. Some of my projects include, geo-spatial route matching, distributed virtual assistants, recommendation engines, document semantic matching, anomaly detection on image data and natural language to querying a database. Previously I was heading the Strategy and Development of data powered products for a startup company called iPredictt Data Labs which I co-founded. My career in the data science domain started off in Mu-Sigma, a pure play analytics firm. I have worked cross domain including HR, Advertising, Retail and Entertainment industries. I have experience with supervised learning methods such as generalized linear models, decision trees, ensemble models (Stacknet, Xgboost, RF), support vector machines (SVM), probabilistic models, deep learning and unsupervised models such as K-means clustering, Gaussian mixture models, hierarchical DBScan for geo-spatial data, PCA, deep belief networks, RBMs and selforganizing maps. This includes applying NLP based models such as Seq2Seq models with attention, word embeddings (fasttext, word2vec, Glove), LSTM/GRUs, 1d convolutional networks. I enjoy exploring GANs, Deep dream networks, Reinforcement learning, Genetic algorithms, computer vision and network analysis. I have frequently worked with Django and Flask frameworks deployed via Ngrok or Docker on Amazon EC2, Azure VMs, and server-less deployment using Amazon Lambda (Zappa). Outside office I explore metaphysics, epistimology, theoritical physics, amateur mathematics and graphic designing. I have been a guitarist for over 10 years now.'"
      ]
     },
     "execution_count": 2,
     "metadata": {},
     "output_type": "execute_result"
    }
   ],
   "source": [
    "resume"
   ]
  },
  {
   "cell_type": "code",
   "execution_count": 32,
   "metadata": {},
   "outputs": [],
   "source": [
    "resume2 = \"Analytics professional with ~4 years of experience in the industry with a demonstrated history of working on various business problems in Retail, Pharmacy and Financial Services Industry. Strongly driven on turning data into insights and insights into better decisions to drive business by blending math, business and technology. With a continuous effort to sharpen my skills, I am passionate about learning new things and am looking for more challenging roles in the field of decision sciences Experience JPMorgan Chase & Co. Strategic Business Analyst April 2017 - Present Mumbai, Maharashtra, India Mu Sigma Inc. Trainee decision scientist June 2015 - March 2017 (1 year 10 months) Bengaluru Area, India Worked with the customer care operations team of largest pharmacy retail chain of United States. Previously worked with the major frozen food company of United States Education National Institute of Technology Raipur Bachelor’s Degree, Electronics and Telecommunication engineering · (2011 - 2015) Krishna public school, bhilai High school , Mathematics and Computer Science · (2006 - 2010)\""
   ]
  },
  {
   "cell_type": "code",
   "execution_count": 33,
   "metadata": {},
   "outputs": [
    {
     "data": {
      "text/plain": [
       "'Analytics professional with ~4 years of experience in the industry with a demonstrated history of working on various business problems in Retail, Pharmacy and Financial Services Industry. Strongly driven on turning data into insights and insights into better decisions to drive business by blending math, business and technology. With a continuous effort to sharpen my skills, I am passionate about learning new things and am looking for more challenging roles in the field of decision sciences Experience JPMorgan Chase & Co. Strategic Business Analyst April 2017 - Present Mumbai, Maharashtra, India Mu Sigma Inc. Trainee decision scientist June 2015 - March 2017 (1 year 10 months) Bengaluru Area, India Worked with the customer care operations team of largest pharmacy retail chain of United States. Previously worked with the major frozen food company of United States Education National Institute of Technology Raipur Bachelor’s Degree, Electronics and Telecommunication engineering · (2011 - 2015) Krishna public school, bhilai High school , Mathematics and Computer Science · (2006 - 2010)'"
      ]
     },
     "execution_count": 33,
     "metadata": {},
     "output_type": "execute_result"
    }
   ],
   "source": [
    "resume2"
   ]
  },
  {
   "cell_type": "code",
   "execution_count": 6,
   "metadata": {},
   "outputs": [],
   "source": [
    "JD = \"Understanding business objectives and developing models that help to achieve them, along with metrics to track their progress Managing available resources such as hardware, data, and personnel so that deadlines are met Analyzing the ML algorithms that could be used to solve a given problem and ranking them by their success probability Exploring and visualizing data to gain an understanding of it, then identifying differences in data distribution that could affect performance when deploying the model in the real world Verifying data quality, and/or ensuring it via data cleaning Supervising the data acquisition process if more data is needed Finding available datasets online that could be used for training Defining validation strategies Defining the preprocessing or feature engineering to be done on a given dataset Defining data augmentation pipelines Training models and tuning their hyperparameters Analyzing the errors of the model and designing strategies to overcome them Deploying models to production Skills Proficiency with a deep learning framework such as TensorFlow or Keras Proficiency with Python and basic libraries for machine learning such as scikit-learn and pandas Expertise in visualizing and manipulating big datasets Proficiency with OpenCV Familiarity with Linux Ability to select hardware to run an ML model with the required latency\""
   ]
  },
  {
   "cell_type": "code",
   "execution_count": 7,
   "metadata": {},
   "outputs": [
    {
     "data": {
      "text/plain": [
       "'Understanding business objectives and developing models that help to achieve them, along with metrics to track their progress Managing available resources such as hardware, data, and personnel so that deadlines are met Analyzing the ML algorithms that could be used to solve a given problem and ranking them by their success probability Exploring and visualizing data to gain an understanding of it, then identifying differences in data distribution that could affect performance when deploying the model in the real world Verifying data quality, and/or ensuring it via data cleaning Supervising the data acquisition process if more data is needed Finding available datasets online that could be used for training Defining validation strategies Defining the preprocessing or feature engineering to be done on a given dataset Defining data augmentation pipelines Training models and tuning their hyperparameters Analyzing the errors of the model and designing strategies to overcome them Deploying models to production Skills Proficiency with a deep learning framework such as TensorFlow or Keras Proficiency with Python and basic libraries for machine learning such as scikit-learn and pandas Expertise in visualizing and manipulating big datasets Proficiency with OpenCV Familiarity with Linux Ability to select hardware to run an ML model with the required latency'"
      ]
     },
     "execution_count": 7,
     "metadata": {},
     "output_type": "execute_result"
    }
   ],
   "source": [
    "JD"
   ]
  },
  {
   "cell_type": "code",
   "execution_count": 16,
   "metadata": {},
   "outputs": [],
   "source": [
    "import re\n",
    "\n",
    "def fixalphanumeric(s):\n",
    "    s = s.lower()\n",
    "    return re.sub('[^0-9a-zA-Z]+', ' ', s)"
   ]
  },
  {
   "cell_type": "code",
   "execution_count": 18,
   "metadata": {},
   "outputs": [
    {
     "data": {
      "text/plain": [
       "'i am a data scientist with 7 years of experience currently working as a lead general manager sme 1 at reliance industries where i design train and deploy ml models powering enterprise scale platforms and products i currently lead a team of about 10 data scientists working closely with full stack developers product teams and dev ops to map out and productionalizing ai ml architectures for cloud based applications related to employee management systems and services some of my projects include geo spatial route matching distributed virtual assistants recommendation engines document semantic matching anomaly detection on image data and natural language to querying a database previously i was heading the strategy and development of data powered products for a startup company called ipredictt data labs which i co founded my career in the data science domain started off in mu sigma a pure play analytics firm i have worked cross domain including hr advertising retail and entertainment industries i have experience with supervised learning methods such as generalized linear models decision trees ensemble models stacknet xgboost rf support vector machines svm probabilistic models deep learning and unsupervised models such as k means clustering gaussian mixture models hierarchical dbscan for geo spatial data pca deep belief networks rbms and selforganizing maps this includes applying nlp based models such as seq2seq models with attention word embeddings fasttext word2vec glove lstm grus 1d convolutional networks i enjoy exploring gans deep dream networks reinforcement learning genetic algorithms computer vision and network analysis i have frequently worked with django and flask frameworks deployed via ngrok or docker on amazon ec2 azure vms and server less deployment using amazon lambda zappa outside office i explore metaphysics epistimology theoritical physics amateur mathematics and graphic designing i have been a guitarist for over 10 years now '"
      ]
     },
     "execution_count": 18,
     "metadata": {},
     "output_type": "execute_result"
    }
   ],
   "source": [
    "fixalphanumeric(resume)"
   ]
  },
  {
   "cell_type": "code",
   "execution_count": 19,
   "metadata": {},
   "outputs": [],
   "source": [
    "from sklearn.feature_extraction.text import CountVectorizer, TfidfVectorizer"
   ]
  },
  {
   "cell_type": "code",
   "execution_count": 22,
   "metadata": {},
   "outputs": [],
   "source": [
    "soup = fixalphanumeric(JD+' '+resume)"
   ]
  },
  {
   "cell_type": "code",
   "execution_count": 23,
   "metadata": {},
   "outputs": [],
   "source": [
    "cnt = CountVectorizer(stop_words='english')\n",
    "tfidf = TfidfVectorizer(stop_words='english')"
   ]
  },
  {
   "cell_type": "code",
   "execution_count": 37,
   "metadata": {},
   "outputs": [
    {
     "data": {
      "text/plain": [
       "TfidfVectorizer(analyzer='word', binary=False, decode_error='strict',\n",
       "        dtype=<class 'numpy.float64'>, encoding='utf-8', input='content',\n",
       "        lowercase=True, max_df=1.0, max_features=None, min_df=1,\n",
       "        ngram_range=(1, 1), norm='l2', preprocessor=None, smooth_idf=True,\n",
       "        stop_words='english', strip_accents=None, sublinear_tf=False,\n",
       "        token_pattern='(?u)\\\\b\\\\w\\\\w+\\\\b', tokenizer=None, use_idf=True,\n",
       "        vocabulary=None)"
      ]
     },
     "execution_count": 37,
     "metadata": {},
     "output_type": "execute_result"
    }
   ],
   "source": [
    "cnt.fit([soup])\n",
    "tfidf.fit([soup])"
   ]
  },
  {
   "cell_type": "code",
   "execution_count": 43,
   "metadata": {},
   "outputs": [],
   "source": [
    "resume_vector = cnt.transform([fixalphanumeric(resume), fixalphanumeric(resume2)])\n",
    "JD_vector = cnt.transform([fixalphanumeric(JD)])"
   ]
  },
  {
   "cell_type": "code",
   "execution_count": 44,
   "metadata": {},
   "outputs": [],
   "source": [
    "resume_vector_tf = tfidf.transform([fixalphanumeric(resume), fixalphanumeric(resume2)])\n",
    "JD_vector_tf = tfidf.transform([fixalphanumeric(JD)])"
   ]
  },
  {
   "cell_type": "code",
   "execution_count": 45,
   "metadata": {},
   "outputs": [],
   "source": [
    "from sklearn.metrics.pairwise import cosine_similarity"
   ]
  },
  {
   "cell_type": "code",
   "execution_count": 46,
   "metadata": {},
   "outputs": [
    {
     "data": {
      "text/plain": [
       "array([[0.33750134],\n",
       "       [0.15051534]])"
      ]
     },
     "execution_count": 46,
     "metadata": {},
     "output_type": "execute_result"
    }
   ],
   "source": [
    "cosine_similarity(resume_vector, JD_vector)"
   ]
  },
  {
   "cell_type": "code",
   "execution_count": 47,
   "metadata": {},
   "outputs": [
    {
     "data": {
      "text/plain": [
       "array([[0.33750134],\n",
       "       [0.15051534]])"
      ]
     },
     "execution_count": 47,
     "metadata": {},
     "output_type": "execute_result"
    }
   ],
   "source": [
    "cosine_similarity(resume_vector_tf, JD_vector_tf)"
   ]
  },
  {
   "cell_type": "code",
   "execution_count": null,
   "metadata": {},
   "outputs": [],
   "source": []
  }
 ],
 "metadata": {
  "kernelspec": {
   "display_name": "Python 3",
   "language": "python",
   "name": "python3"
  },
  "language_info": {
   "codemirror_mode": {
    "name": "ipython",
    "version": 3
   },
   "file_extension": ".py",
   "mimetype": "text/x-python",
   "name": "python",
   "nbconvert_exporter": "python",
   "pygments_lexer": "ipython3",
   "version": "3.7.3"
  }
 },
 "nbformat": 4,
 "nbformat_minor": 2
}
