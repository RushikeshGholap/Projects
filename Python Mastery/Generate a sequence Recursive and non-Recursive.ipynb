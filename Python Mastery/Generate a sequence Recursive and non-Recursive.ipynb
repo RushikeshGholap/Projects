{
 "cells": [
  {
   "cell_type": "markdown",
   "metadata": {},
   "source": [
    "# Question"
   ]
  },
  {
   "cell_type": "markdown",
   "metadata": {},
   "source": [
    "Construct a sequence K such that\n",
    "- K(0) = 2\n",
    "- K(1) = 1\n",
    "- K(n) = (K(n-1)+K(n-2))^2, n>1\n",
    "\n",
    "Write a function Kseq(start, stop, step) to implement this\n",
    "\n",
    "- Kseq(0,6,1) = [2,1,9,100, 11881, 143544361]\n",
    "- Kseq(2,6,2) = [9, 11881]"
   ]
  },
  {
   "cell_type": "markdown",
   "metadata": {},
   "source": [
    "# Non Recursive Solution"
   ]
  },
  {
   "cell_type": "code",
   "execution_count": 1,
   "metadata": {},
   "outputs": [],
   "source": [
    "# f(x) is a function that given a sequence K, calculates the next element of the K sequence\n",
    " \n",
    "def f(x):\n",
    "    x_last = x[-1]\n",
    "    x_next2last = x[-2]\n",
    "    x_next = (x_last + x_next2last)**2\n",
    "    return x_next"
   ]
  },
  {
   "cell_type": "code",
   "execution_count": 2,
   "metadata": {},
   "outputs": [],
   "source": [
    "def Kseq_nr(start, stop, step):\n",
    "    x = [2,1,]   #Starting sequence\n",
    "    Y = []       #List that holds the whole sequence till n = stop elements\n",
    "    K = []       #List that holds only the elements that are at range(start, stop, step) positions\n",
    "\n",
    "    ### Following loop calculates all emelents of the K sequence with start = 0, stop = n, step =1 \n",
    "    \n",
    "    for i in range(0, stop, 1):\n",
    "        if i <= 1:                  #For first 2 elements, simply append the 2 elements from x\n",
    "            Y.append(x[i])\n",
    "        else:                       #For elements after that, run function f(x) and append elements to Y\n",
    "            Y.append(f(Y))\n",
    "            \n",
    "    ### Next loop takes into account start, stop and step input into the function as \n",
    "    ### parameters and selects only those for the list K. \n",
    "    ### So for range(0,6,1) = [0,1,2,3,4,5]\n",
    "    ### And for range(2,6,2) = [2,4]\n",
    "    \n",
    "    for j in range(start, stop, step):\n",
    "        K.append(Y[j])\n",
    "    return K"
   ]
  },
  {
   "cell_type": "code",
   "execution_count": 3,
   "metadata": {},
   "outputs": [
    {
     "name": "stdout",
     "output_type": "stream",
     "text": [
      "[2, 1, 9, 100, 11881, 143544361]\n",
      "[9, 11881]\n"
     ]
    }
   ],
   "source": [
    "print(Kseq_nr(0,6,1))\n",
    "print(Kseq_nr(2,6,2))"
   ]
  },
  {
   "cell_type": "markdown",
   "metadata": {},
   "source": [
    "# Recursive Solution"
   ]
  },
  {
   "cell_type": "code",
   "execution_count": 4,
   "metadata": {},
   "outputs": [],
   "source": [
    "# This is a recursive function that behaves like a cumulative. It takes in a sequence x, n is \n",
    "# the number of elements you want in the sequence and i is a counter to keep track of how many times\n",
    "# the recursion was called.\n",
    "\n",
    "def g(x, n, i):\n",
    "    \n",
    "    ####### Break condition ########\n",
    "    if i >= n - 2:        #(n-2) is there since we have 2 elements in x already\n",
    "        return x\n",
    "    \n",
    "    ####### Update Counter ########\n",
    "    i+=1\n",
    "    \n",
    "    ####### Series of transformations #######\n",
    "    x_last = x[-1]\n",
    "    x_next2last = x[-2]\n",
    "    x_next = (x_last + x_next2last)**2\n",
    "    x.append(x_next)\n",
    "    \n",
    "    ###### Recall the function recusively till i counter crosses the condition #######\n",
    "    g(x, n, i)         #Here you are passing the new x after appending the x_next element\n",
    "    return x"
   ]
  },
  {
   "cell_type": "code",
   "execution_count": 5,
   "metadata": {},
   "outputs": [],
   "source": [
    "#This function takes start, stop and step into account by the user and calls g(x) accordingly\n",
    "\n",
    "def Kseq_r(start, stop, step):\n",
    "    x = [2,1,]    #Initial sequence\n",
    "    K=[]          #Empty K sequence which will hold the elements of the output\n",
    "    i = 0         #Recursion function counter (starts at 0, till break condition is met)\n",
    "    \n",
    "    Y = g(x, stop, i)  #Runs the recurvive function till i have stop = n elements in the sequence\n",
    "    \n",
    "    ### Next loop takes into account start, stop and step input into the function as \n",
    "    ### parameters and selects only those for the list K. \n",
    "    ### So for range(0,6,1) = [0,1,2,3,4,5]\n",
    "    ### And for range(2,6,2) = [2,4]\n",
    "    \n",
    "    for j in range(start, stop, step):\n",
    "        K.append(Y[j])\n",
    "    \n",
    "    return K"
   ]
  },
  {
   "cell_type": "code",
   "execution_count": 6,
   "metadata": {},
   "outputs": [
    {
     "name": "stdout",
     "output_type": "stream",
     "text": [
      "[2, 1, 9, 100, 11881, 143544361]\n",
      "[9, 11881]\n"
     ]
    }
   ],
   "source": [
    "print(Kseq_r(0,6,1))\n",
    "print(Kseq_r(2,6,2))"
   ]
  },
  {
   "cell_type": "markdown",
   "metadata": {},
   "source": [
    "# Another recursive solution (looks more elegent, but not optimal)\n",
    "\n",
    "This method is NOT efficient since for each element you recursively calculate elements till you get that element. That means you are redundently calculating the first 5 elements to get 6th .. and then again calculating the first 4 elements to get the 5th element in the list."
   ]
  },
  {
   "cell_type": "code",
   "execution_count": 7,
   "metadata": {},
   "outputs": [],
   "source": [
    "#This function calculates the n_th element independently and recursively\n",
    "\n",
    "def k_element(n):\n",
    "    if n == 0:\n",
    "        x = 2\n",
    "    elif n == 1:\n",
    "        x = 1\n",
    "    else:\n",
    "        x = (k_element(n-1)+ k_element(n-2))**2\n",
    "    return x"
   ]
  },
  {
   "cell_type": "code",
   "execution_count": 8,
   "metadata": {},
   "outputs": [],
   "source": [
    "#This function calculates the list of elements you want in the k_sequence \n",
    "#and then it calls the k_element function independently for each element\n",
    "\n",
    "def kseq(start, stop, step):\n",
    "    k_seq = []\n",
    "    for i in range(start, stop, step):\n",
    "        k_seq.append(k_element(i))\n",
    "    return k_seq"
   ]
  },
  {
   "cell_type": "code",
   "execution_count": 9,
   "metadata": {},
   "outputs": [
    {
     "name": "stdout",
     "output_type": "stream",
     "text": [
      "[2, 1, 9, 100, 11881, 143544361]\n",
      "[9, 11881]\n"
     ]
    }
   ],
   "source": [
    "print(kseq(0,6,1))\n",
    "print(kseq(2,6,2))"
   ]
  },
  {
   "cell_type": "markdown",
   "metadata": {},
   "source": [
    "# Analysis of runtimes"
   ]
  },
  {
   "cell_type": "code",
   "execution_count": 10,
   "metadata": {},
   "outputs": [],
   "source": [
    "from time import time\n",
    "import numpy as np\n",
    "import matplotlib.pyplot as plt\n",
    "import pandas as pd\n",
    "%matplotlib inline"
   ]
  },
  {
   "cell_type": "code",
   "execution_count": 11,
   "metadata": {},
   "outputs": [],
   "source": [
    "n = 10\n",
    "results = np.zeros((n, 3))"
   ]
  },
  {
   "cell_type": "code",
   "execution_count": 12,
   "metadata": {},
   "outputs": [],
   "source": [
    "for i in range(10):\n",
    "    start = time()\n",
    "    Kseq_nr(0,i,1)\n",
    "    end = time()\n",
    "    results[i,0] = end-start\n",
    "\n",
    "    start = time()\n",
    "    Kseq_r(0,i,1)\n",
    "    end = time()\n",
    "    results[i,1] = end-start\n",
    "    \n",
    "    start = time()\n",
    "    kseq(0,i,1)\n",
    "    end = time()\n",
    "    results[i,2] = end-start"
   ]
  },
  {
   "cell_type": "code",
   "execution_count": 22,
   "metadata": {},
   "outputs": [],
   "source": [
    "df = pd.DataFrame(results)\n",
    "df.columns = ['no recursion', 'recursion method 1', 'recursion method 2']"
   ]
  },
  {
   "cell_type": "code",
   "execution_count": 23,
   "metadata": {},
   "outputs": [
    {
     "data": {
      "text/plain": [
       "Text(0,0.5,'Run time (in sec)')"
      ]
     },
     "execution_count": 23,
     "metadata": {},
     "output_type": "execute_result"
    },
    {
     "data": {
      "image/png": "[encoded data removed]",
      "text/plain": [
       "<Figure size 432x288 with 1 Axes>"
      ]
     },
     "metadata": {},
     "output_type": "display_data"
    }
   ],
   "source": [
    "plt.plot(df)\n",
    "plt.legend(df.columns)\n",
    "plt.xlabel('Max length of K sequence generated')\n",
    "plt.ylabel('Run time (in sec)')"
   ]
  },
  {
   "cell_type": "code",
   "execution_count": null,
   "metadata": {},
   "outputs": [],
   "source": []
  }
 ],
 "metadata": {
  "kernelspec": {
   "display_name": "Python 3",
   "language": "python",
   "name": "python3"
  },
  "language_info": {
   "codemirror_mode": {
    "name": "ipython",
    "version": 3
   },
   "file_extension": ".py",
   "mimetype": "text/x-python",
   "name": "python",
   "nbconvert_exporter": "python",
   "pygments_lexer": "ipython3",
   "version": "3.6.5"
  }
 },
 "nbformat": 4,
 "nbformat_minor": 2
}
