{
 "cells": [
  {
   "cell_type": "markdown",
   "metadata": {},
   "source": [
    "# Classes and Objects"
   ]
  },
  {
   "cell_type": "markdown",
   "metadata": {},
   "source": [
    "First part is about classes. A class is a simple way of organizing a piece of code. \n",
    "\n",
    "Lets say you want to build a code that represents a car. The car has certain properties (color, parts, etc) and it has a few functions that depend on these properties (calculating mileage, calculating top speed, calculating acceleration, estimated cost of the car). So what you do is that you create a Class called Car that has all the properties represented as variables and all the functions that you want. Then if you want to 'create' a car of a specific brand and make, you simple <b>instantiate</b> the class into an object. Example below - "
   ]
  },
  {
   "cell_type": "code",
   "execution_count": 4,
   "metadata": {},
   "outputs": [],
   "source": [
    "#Defining a class\n",
    "\n",
    "class car:\n",
    "    def __init__(self, color='White', drive=2):   #I have discussed __init__ function below\n",
    "        self.color = color\n",
    "        self.drive = drive\n",
    "        \n",
    "    def calculate_power(self):                     #calculate power simple multiplies drive * 1000\n",
    "        self.power = self.drive*250\n",
    "        return self.power"
   ]
  },
  {
   "cell_type": "code",
   "execution_count": 10,
   "metadata": {},
   "outputs": [],
   "source": [
    "# Instantiate a class into 3 different objects\n",
    "\n",
    "bmw = car('black', 2)\n",
    "audi = car('red', 4)\n",
    "jeep = car()"
   ]
  },
  {
   "cell_type": "code",
   "execution_count": 11,
   "metadata": {},
   "outputs": [
    {
     "data": {
      "text/plain": [
       "500"
      ]
     },
     "execution_count": 11,
     "metadata": {},
     "output_type": "execute_result"
    }
   ],
   "source": [
    "bmw.calculate_power()    #Runs the calculate_power function"
   ]
  },
  {
   "cell_type": "code",
   "execution_count": 13,
   "metadata": {},
   "outputs": [
    {
     "data": {
      "text/plain": [
       "'red'"
      ]
     },
     "execution_count": 13,
     "metadata": {},
     "output_type": "execute_result"
    }
   ],
   "source": [
    "audi.color    #Returns color of audi"
   ]
  },
  {
   "cell_type": "code",
   "execution_count": 15,
   "metadata": {},
   "outputs": [
    {
     "data": {
      "text/plain": [
       "'White'"
      ]
     },
     "execution_count": 15,
     "metadata": {},
     "output_type": "execute_result"
    }
   ],
   "source": [
    "jeep.color   #Returns color, even tho it was not explicitly defined (its default is defined while defining the class)"
   ]
  },
  {
   "cell_type": "code",
   "execution_count": 16,
   "metadata": {},
   "outputs": [],
   "source": [
    "jeep.color = 'Blue'   #Change the color"
   ]
  },
  {
   "cell_type": "code",
   "execution_count": 17,
   "metadata": {},
   "outputs": [
    {
     "data": {
      "text/plain": [
       "'Blue'"
      ]
     },
     "execution_count": 17,
     "metadata": {},
     "output_type": "execute_result"
    }
   ],
   "source": [
    "jeep.color"
   ]
  },
  {
   "cell_type": "markdown",
   "metadata": {},
   "source": [
    "# Init function"
   ]
  },
  {
   "cell_type": "markdown",
   "metadata": {},
   "source": [
    "This is quite useful since now all the bunch of code that is same and repeatitive, you can put into a class and create objects of it. Each time you Instantiate a class into an object, it creates actual memory for the variables and functions of that class for that object. Its actually very similary to defining an integer. An integer variable is like a class, while a,b,c,x,i etc when you define them, you are actually instantiating an int class into an object with that name."
   ]
  },
  {
   "cell_type": "markdown",
   "metadata": {},
   "source": [
    "Now, what is __init__. Init is that function that launches the second you instantiate the class. It, in principle, contains is all the things that you want the object to contain the second you define it. So for a car, each time you create a car object, you want it to always have a color and a drive. So you define that inside a function called __init__ which runs the second you instantiate the class. Other functions DONT run however."
   ]
  },
  {
   "cell_type": "code",
   "execution_count": 18,
   "metadata": {},
   "outputs": [
    {
     "data": {
      "text/plain": [
       "500"
      ]
     },
     "execution_count": 18,
     "metadata": {},
     "output_type": "execute_result"
    }
   ],
   "source": [
    "bmw.power"
   ]
  },
  {
   "cell_type": "code",
   "execution_count": 19,
   "metadata": {},
   "outputs": [
    {
     "ename": "AttributeError",
     "evalue": "'car' object has no attribute 'power'",
     "output_type": "error",
     "traceback": [
      "\u001b[0;31m---------------------------------------------------------------------------\u001b[0m",
      "\u001b[0;31mAttributeError\u001b[0m                            Traceback (most recent call last)",
      "\u001b[0;32m<ipython-input-19-a3e77bfc4162>\u001b[0m in \u001b[0;36m<module>\u001b[0;34m()\u001b[0m\n\u001b[0;32m----> 1\u001b[0;31m \u001b[0maudi\u001b[0m\u001b[0;34m.\u001b[0m\u001b[0mpower\u001b[0m\u001b[0;34m\u001b[0m\u001b[0m\n\u001b[0m",
      "\u001b[0;31mAttributeError\u001b[0m: 'car' object has no attribute 'power'"
     ]
    }
   ],
   "source": [
    "audi.power"
   ]
  },
  {
   "cell_type": "markdown",
   "metadata": {},
   "source": [
    "Audi object doesnt have any power variable, because it gets created in the calculate_power function which i have to call explicitly."
   ]
  },
  {
   "cell_type": "markdown",
   "metadata": {},
   "source": [
    "# Self and self.variables"
   ]
  },
  {
   "cell_type": "markdown",
   "metadata": {},
   "source": [
    "A very important concept is that if you define a variable outside a function, you can use it inside the function. BUT if you define a variable inside a function, it cant be used outside UNLESS you return it at the end of the function."
   ]
  },
  {
   "cell_type": "code",
   "execution_count": 36,
   "metadata": {},
   "outputs": [
    {
     "name": "stdout",
     "output_type": "stream",
     "text": [
      "10\n"
     ]
    }
   ],
   "source": [
    "x = 10\n",
    "print(x)"
   ]
  },
  {
   "cell_type": "code",
   "execution_count": 37,
   "metadata": {},
   "outputs": [],
   "source": [
    "def change_x(value):\n",
    "    x = value"
   ]
  },
  {
   "cell_type": "code",
   "execution_count": 38,
   "metadata": {},
   "outputs": [
    {
     "name": "stdout",
     "output_type": "stream",
     "text": [
      "10\n"
     ]
    }
   ],
   "source": [
    "change_x(15)\n",
    "print(x)"
   ]
  },
  {
   "cell_type": "markdown",
   "metadata": {},
   "source": [
    "The value of x is still 10 because, the x defined inside the function is NOT the same as the x defined outside. However, in another example - "
   ]
  },
  {
   "cell_type": "code",
   "execution_count": 39,
   "metadata": {},
   "outputs": [],
   "source": [
    "x = 10\n",
    "\n",
    "def summing():\n",
    "    b = x + 10\n",
    "    return b"
   ]
  },
  {
   "cell_type": "code",
   "execution_count": 35,
   "metadata": {},
   "outputs": [
    {
     "data": {
      "text/plain": [
       "20"
      ]
     },
     "execution_count": 35,
     "metadata": {},
     "output_type": "execute_result"
    }
   ],
   "source": [
    "summing()"
   ]
  },
  {
   "cell_type": "markdown",
   "metadata": {},
   "source": [
    "Even though i didnt create, define or pass x variable as a parameter to function, it still is able to access the x variable and use it to return b by adding 10 to x."
   ]
  },
  {
   "cell_type": "markdown",
   "metadata": {},
   "source": [
    "This is an important concept for class. When I define different functions in a class, i want them to use different variables that other functions might create. for example. __init__ function defines drive and color of the class and i want the calculate_power() function to access these variables easily. This is where self comes in. If i define a variable as self.variable it basically becomes like a global variable inside the class. Meaning, i can use it inside other functions or outside other functions (inside a class).\n",
    "\n",
    "AND, just by passing self to a function(self), you are passing it ALL the self variables that have been defined during the instantiation of that object.\n",
    "\n",
    "So, when i define the audi object, the __init__ function ran and used 'black' to store it into self.color and used 4 to store it into self.drive. Next, when I passed self into the calculate_power(self) function, i basically passed it all the self variables such as color, drive. Now, at the end of the calculate_power function i create another self.power variable. This means that if i pass self to some other function now, i am basically giving it access to drive, color and power (only if self.power gets defined first, which requires u to call calculate_power function explicitly)"
   ]
  }
 ],
 "metadata": {
  "kernelspec": {
   "display_name": "Python 3",
   "language": "python",
   "name": "python3"
  },
  "language_info": {
   "codemirror_mode": {
    "name": "ipython",
    "version": 3
   },
   "file_extension": ".py",
   "mimetype": "text/x-python",
   "name": "python",
   "nbconvert_exporter": "python",
   "pygments_lexer": "ipython3",
   "version": "3.6.5"
  }
 },
 "nbformat": 4,
 "nbformat_minor": 2
}
