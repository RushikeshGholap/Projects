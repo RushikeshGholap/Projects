{
 "cells": [
  {
   "cell_type": "markdown",
   "metadata": {},
   "source": [
    "# 100 days to master python\n",
    "\n",
    "https://www.youtube.com/watch?v=fSi5uvXqT4s&list=PLQh6rb1mrE_Ywz-LGD9DQb1_ofqn8X05U"
   ]
  },
  {
   "cell_type": "markdown",
   "metadata": {},
   "source": [
    "https://docs.python.org/3/tutorial/datastructures.html"
   ]
  },
  {
   "cell_type": "markdown",
   "metadata": {},
   "source": [
    "### Find all numbers divisible by 7 NOT a multiple of 5 between 2000 and 3200. Solution should be comma separated on a single line"
   ]
  },
  {
   "cell_type": "code",
   "execution_count": 3,
   "metadata": {},
   "outputs": [
    {
     "name": "stdout",
     "output_type": "stream",
     "text": [
      "2002,2009,2016,2023,2037,2044,2051,2058,2072,2079,2086,2093,2107,2114,2121,2128,2142,2149,2156,2163,2177,2184,2191,2198,2212,2219,2226,2233,2247,2254,2261,2268,2282,2289,2296,2303,2317,2324,2331,2338,2352,2359,2366,2373,2387,2394,2401,2408,2422,2429,2436,2443,2457,2464,2471,2478,2492,2499,2506,2513,2527,2534,2541,2548,2562,2569,2576,2583,2597,2604,2611,2618,2632,2639,2646,2653,2667,2674,2681,2688,2702,2709,2716,2723,2737,2744,2751,2758,2772,2779,2786,2793,2807,2814,2821,2828,2842,2849,2856,2863,2877,2884,2891,2898,2912,2919,2926,2933,2947,2954,2961,2968,2982,2989,2996,3003,3017,3024,3031,3038,3052,3059,3066,3073,3087,3094,3101,3108,3122,3129,3136,3143,3157,3164,3171,3178,3192,3199\n"
     ]
    }
   ],
   "source": [
    "a = [str(i) for i in range(2000,3201) if i%7==0 and i%5!=0]\n",
    "print(','.join(a))"
   ]
  },
  {
   "cell_type": "code",
   "execution_count": null,
   "metadata": {},
   "outputs": [],
   "source": [
    "'hi there'.join('yo')"
   ]
  },
  {
   "cell_type": "markdown",
   "metadata": {},
   "source": [
    "- The join() method takes iterable – objects capable of returning its members one at a time. Some examples are List, Tuple, String, Dictionary and Set.\n",
    "- The join() method returns a string concatenated with the elements of iterable.\n",
    "- If the iterable contains any non-string values, it raises a TypeError exception."
   ]
  },
  {
   "cell_type": "markdown",
   "metadata": {},
   "source": [
    "### Computer the factorial of a given number, result printed in csv single line. Factorial is the integer product of a number and all the numbers below it."
   ]
  },
  {
   "cell_type": "code",
   "execution_count": null,
   "metadata": {
    "scrolled": true
   },
   "outputs": [],
   "source": [
    "def factorial(num):\n",
    "    if num==0:\n",
    "        return 1\n",
    "    return num * factorial(num-1)\n",
    "num = int(input())\n",
    "print(factorial(num))\n",
    "\n",
    "## Try 2964 and 2965. Do it."
   ]
  },
  {
   "cell_type": "markdown",
   "metadata": {},
   "source": [
    "### Given integral number n, create a dictionary with the function that creates the key, value pair for n, n^2 for all numbers upto n."
   ]
  },
  {
   "cell_type": "code",
   "execution_count": 1,
   "metadata": {},
   "outputs": [
    {
     "name": "stdout",
     "output_type": "stream",
     "text": [
      "5\n"
     ]
    },
    {
     "data": {
      "text/plain": [
       "{1: 1, 2: 4, 3: 9, 4: 16, 5: 25}"
      ]
     },
     "execution_count": 1,
     "metadata": {},
     "output_type": "execute_result"
    }
   ],
   "source": [
    "def square_dict(num):\n",
    "    return {n:n**2 for n in range(1,num+1)}\n",
    "\n",
    "num = int(input())\n",
    "square_dict(num)"
   ]
  },
  {
   "cell_type": "markdown",
   "metadata": {},
   "source": [
    "The dict() constructor builds dictionaries directly from sequences of key-value pairs: dict([('sape', 4139), ('guido', 4127), ('jack', 4098)])\n",
    "\n",
    "In addition, dict comprehensions can be used to create dictionaries from arbitrary key and value expressions: {x: x**2 for x in (2, 4, 6)}\n",
    "\n"
   ]
  },
  {
   "cell_type": "markdown",
   "metadata": {},
   "source": [
    "### Create a code that takes in a list as input, and returns the list and its tuple form"
   ]
  },
  {
   "cell_type": "code",
   "execution_count": null,
   "metadata": {
    "scrolled": true
   },
   "outputs": [],
   "source": [
    "values = \"1,2,3,4,5\"\n",
    "l = values.split(',')\n",
    "print(l, tuple(l))"
   ]
  },
  {
   "cell_type": "markdown",
   "metadata": {},
   "source": [
    "### Create a class that has 2 methods:\n",
    "### 1. getString: grab a string from input\n",
    "### 2. printString: print a string in uppercase"
   ]
  },
  {
   "cell_type": "code",
   "execution_count": 26,
   "metadata": {},
   "outputs": [],
   "source": [
    "class printer(object):\n",
    "    def __init__(self):\n",
    "        self.s = ''\n",
    "    def getString(self):\n",
    "        self.s = input('give your input.. ')\n",
    "    def printString(self):\n",
    "        print(self.s.upper())"
   ]
  },
  {
   "cell_type": "code",
   "execution_count": 27,
   "metadata": {},
   "outputs": [],
   "source": [
    "x = printer() #Make an object"
   ]
  },
  {
   "cell_type": "code",
   "execution_count": 28,
   "metadata": {},
   "outputs": [
    {
     "data": {
      "text/plain": [
       "<__main__.printer at 0x1037c73c8>"
      ]
     },
     "execution_count": 28,
     "metadata": {},
     "output_type": "execute_result"
    }
   ],
   "source": [
    "x #Calling the object returns memory location of the object"
   ]
  },
  {
   "cell_type": "code",
   "execution_count": 29,
   "metadata": {},
   "outputs": [
    {
     "name": "stdout",
     "output_type": "stream",
     "text": [
      "give your input.. hello world\n"
     ]
    }
   ],
   "source": [
    "x.getString() #Calling first function"
   ]
  },
  {
   "cell_type": "code",
   "execution_count": 30,
   "metadata": {},
   "outputs": [
    {
     "name": "stdout",
     "output_type": "stream",
     "text": [
      "HELLO WORLD\n"
     ]
    }
   ],
   "source": [
    "x.printString() #Calling second method"
   ]
  },
  {
   "cell_type": "code",
   "execution_count": 31,
   "metadata": {},
   "outputs": [
    {
     "name": "stdout",
     "output_type": "stream",
     "text": [
      "give your input.. hi there\n",
      "HI THERE\n"
     ]
    }
   ],
   "source": [
    "y = printer()\n",
    "y.getString()\n",
    "y.printString()"
   ]
  },
  {
   "cell_type": "markdown",
   "metadata": {},
   "source": [
    "### Create a code that takes in a list of numbers, and returns a list of integers Q (Q = rounded square root of [(2*c*d)/h]) and c = 50, h = 30."
   ]
  },
  {
   "cell_type": "code",
   "execution_count": 5,
   "metadata": {},
   "outputs": [
    {
     "name": "stdout",
     "output_type": "stream",
     "text": [
      "Give me a number: 10,15,2\n"
     ]
    },
    {
     "data": {
      "text/plain": [
       "[6, 7, 3]"
      ]
     },
     "execution_count": 5,
     "metadata": {},
     "output_type": "execute_result"
    }
   ],
   "source": [
    "import math\n",
    "\n",
    "x=[]\n",
    "y = [i for i in input('Give me a number: ').split(',')]\n",
    "\n",
    "c = 50\n",
    "h = 30\n",
    "\n",
    "[round(math.sqrt((2*c*float(i))/h)) for i in y]"
   ]
  },
  {
   "cell_type": "markdown",
   "metadata": {},
   "source": [
    "### Take 2 digits, x and y as input dimensions and row * col values and generate a 2 dimensional array\n",
    "\n"
   ]
  },
  {
   "cell_type": "code",
   "execution_count": 12,
   "metadata": {},
   "outputs": [
    {
     "name": "stdout",
     "output_type": "stream",
     "text": [
      "Give x,y ... 3,4\n"
     ]
    },
    {
     "data": {
      "text/plain": [
       "[[0, 0, 0], [0, 1, 2], [0, 2, 4], [0, 3, 6]]"
      ]
     },
     "execution_count": 12,
     "metadata": {},
     "output_type": "execute_result"
    }
   ],
   "source": [
    "y = [int(i) for i in input('Give x,y ... ').split(',')]\n",
    "\n",
    "[[i*j for i in range(y[0])] for j in range(y[1])]"
   ]
  },
  {
   "cell_type": "markdown",
   "metadata": {},
   "source": [
    "### Create a program that randomly selects a number and asks the user to guess it. It breaks only if user is able to guess the number (0 - 10)"
   ]
  },
  {
   "cell_type": "code",
   "execution_count": 39,
   "metadata": {},
   "outputs": [
    {
     "name": "stdout",
     "output_type": "stream",
     "text": [
      "Guess a number between 1 to 10 ... 8\n",
      "Guess a number between 1 to 10 ... 9\n",
      "Guess a number between 1 to 10 ... 4\n",
      "Guess a number between 1 to 10 ... 5\n",
      "Guess a number between 1 to 10 ... 2\n",
      "Guess a number between 1 to 10 ... 3\n",
      "Guess a number between 1 to 10 ... 1\n",
      "Guess a number between 1 to 10 ... 6\n",
      "Game over, you took 8 tries.\n"
     ]
    }
   ],
   "source": [
    "import random\n",
    "\n",
    "z,guess_number,iters = random.randint(1,10), 0, 0\n",
    "\n",
    "while z != guess_number:\n",
    "    guess_number = int(input(\"Guess a number between 1 to 10 ... \"))\n",
    "    iters+=1\n",
    "\n",
    "print(\"Game over, you took\", iters, \"tries.\")"
   ]
  },
  {
   "cell_type": "markdown",
   "metadata": {},
   "source": [
    "### Create a cool printed pattern that looks like a sideways triangle"
   ]
  },
  {
   "cell_type": "code",
   "execution_count": 58,
   "metadata": {},
   "outputs": [
    {
     "name": "stdout",
     "output_type": "stream",
     "text": [
      "Give the triangle height ... 9\n",
      "*\n",
      "**\n",
      "***\n",
      "****\n",
      "*****\n",
      "******\n",
      "*******\n",
      "********\n",
      "*********\n",
      "********\n",
      "*******\n",
      "******\n",
      "*****\n",
      "****\n",
      "***\n",
      "**\n",
      "*\n",
      "\n"
     ]
    }
   ],
   "source": [
    "triag = int(input(\"Give the triangle height ... \"))\n",
    "z = 0\n",
    "for i in range(triag):\n",
    "    z+=1\n",
    "    print('*'*z)\n",
    "for i in range(triag):\n",
    "    z-=1\n",
    "    print('*'*z)\n"
   ]
  },
  {
   "cell_type": "markdown",
   "metadata": {},
   "source": [
    "### Create a function sleep_in(weekday, vacation) with 2 parameters, first which says true if its a weekday and second if its a vacation (both boolean). We sleep in if its NOT a weekday OR we are on vacation, else return false."
   ]
  },
  {
   "cell_type": "code",
   "execution_count": 70,
   "metadata": {},
   "outputs": [
    {
     "data": {
      "text/plain": [
       "True"
      ]
     },
     "execution_count": 70,
     "metadata": {},
     "output_type": "execute_result"
    }
   ],
   "source": [
    "def sleep_in(weekday, vacation):\n",
    "    return (not weekday or vacation)\n",
    "\n",
    "sleep_in(False, True)"
   ]
  },
  {
   "cell_type": "markdown",
   "metadata": {},
   "source": [
    "### We have 2 monkeys a and b, and the parameters a_smile and b_smile indicate if each is smiling. We are in trouble if they are both smiling or if neither of them is smiling. return True if we are in trouble"
   ]
  },
  {
   "cell_type": "code",
   "execution_count": 75,
   "metadata": {},
   "outputs": [
    {
     "data": {
      "text/plain": [
       "True"
      ]
     },
     "execution_count": 75,
     "metadata": {},
     "output_type": "execute_result"
    }
   ],
   "source": [
    "def monkey_trouble(a_smile, b_smile):\n",
    "    if a_smile==b_smile:\n",
    "        return True\n",
    "    else:\n",
    "        return False\n",
    "    \n",
    "monkey_trouble(False,False)"
   ]
  },
  {
   "cell_type": "markdown",
   "metadata": {},
   "source": [
    "### We have a loud parrot. The hour parameter is the current time in the range 0-23. We are in trouble if parrot is talking and hour is before 7 or after 20. Return True if we are in trouble"
   ]
  },
  {
   "cell_type": "code",
   "execution_count": 80,
   "metadata": {},
   "outputs": [
    {
     "data": {
      "text/plain": [
       "True"
      ]
     },
     "execution_count": 80,
     "metadata": {},
     "output_type": "execute_result"
    }
   ],
   "source": [
    "def parrot_trouble(talking, hour):\n",
    "    return (talking and (hour<7 or hour>20))\n",
    "\n",
    "parrot_trouble(True, 6)"
   ]
  },
  {
   "cell_type": "markdown",
   "metadata": {},
   "source": [
    "### Create a function that takes in a string and swaps its first and last digits"
   ]
  },
  {
   "cell_type": "code",
   "execution_count": 113,
   "metadata": {},
   "outputs": [
    {
     "data": {
      "text/plain": [
       "'lkshaysehgaa'"
      ]
     },
     "execution_count": 113,
     "metadata": {},
     "output_type": "execute_result"
    }
   ],
   "source": [
    "def abcd(string):\n",
    "    front = list(string)[0]\n",
    "    back = list(string)[-1]\n",
    "    mid = list(string)[1:-1]\n",
    "    newstr = ''.join(back)+''.join(mid)+''.join(front)\n",
    "    return newstr\n",
    "\n",
    "abcd('akshaysehgal')"
   ]
  },
  {
   "cell_type": "markdown",
   "metadata": {},
   "source": [
    "### When squirrels get together for a party, they like to have cigars. A squirrel party is successful when the number of cigars is between 40 and 60, inclusive. Unless it is the weekend, in which case there is no upper bound on the number of cigars. Return True if the party with the given values is successful, or False otherwise."
   ]
  },
  {
   "cell_type": "code",
   "execution_count": 131,
   "metadata": {},
   "outputs": [],
   "source": [
    "def cigar_party(cigars, is_weekend):\n",
    "    return ((cigars>=40 and cigars<=60) and is_weekend==False) or (cigars>=40 and is_weekend==True)"
   ]
  },
  {
   "cell_type": "code",
   "execution_count": 132,
   "metadata": {},
   "outputs": [
    {
     "data": {
      "text/plain": [
       "True"
      ]
     },
     "execution_count": 132,
     "metadata": {},
     "output_type": "execute_result"
    }
   ],
   "source": [
    "cigar_party(60,False)"
   ]
  },
  {
   "cell_type": "markdown",
   "metadata": {},
   "source": [
    "### Return the number of even ints in the given array. Note: the % \"mod\" operator computes the remainder, e.g. 5 % 2 is 1."
   ]
  },
  {
   "cell_type": "code",
   "execution_count": null,
   "metadata": {},
   "outputs": [],
   "source": [
    "def count_evens(nums):\n",
    "    return len([i for i in nums if i%2==0])"
   ]
  },
  {
   "cell_type": "markdown",
   "metadata": {},
   "source": [
    "### Given an array of ints, return True if the array contains a 2 next to a 2 somewhere."
   ]
  },
  {
   "cell_type": "code",
   "execution_count": 144,
   "metadata": {},
   "outputs": [
    {
     "name": "stdout",
     "output_type": "stream",
     "text": [
      "False\n",
      "True\n"
     ]
    }
   ],
   "source": [
    "def has22(a):\n",
    "    return bool([i for i in list(zip([i==2 for i in a],[i==2 for i in a][1:])) if i==(True,True)])\n",
    "\n",
    "print(has22([1,2,1,4,2,5,2]))\n",
    "print(has22([1,2,2,4,2,5,2]))"
   ]
  },
  {
   "cell_type": "markdown",
   "metadata": {},
   "source": [
    "### Rolling sum of elements of a list, with window of 4"
   ]
  },
  {
   "cell_type": "code",
   "execution_count": 159,
   "metadata": {},
   "outputs": [
    {
     "data": {
      "text/plain": [
       "{(1, 2, 4, 2): 9,\n",
       " (2, 4, 2, 4): 12,\n",
       " (4, 2, 4, 5): 15,\n",
       " (2, 4, 5, 5): 16,\n",
       " (4, 5, 5, 6): 20,\n",
       " (5, 5, 6, 8): 24,\n",
       " (5, 6, 8, 3): 22,\n",
       " (6, 8, 3, 2): 19,\n",
       " (8, 3, 2, 6): 19,\n",
       " (3, 2, 6, 7): 18,\n",
       " (2, 6, 7, 8): 23,\n",
       " (6, 7, 8, 1): 22}"
      ]
     },
     "execution_count": 159,
     "metadata": {},
     "output_type": "execute_result"
    }
   ],
   "source": [
    "import numpy as np\n",
    "def rolling_avg(nums):\n",
    "    z = zip(nums,nums[1:],nums[2:],nums[3:])\n",
    "    return {i:sum(i) for i in z}\n",
    "\n",
    "rolling_avg([1,2,4,2,4,5,5,6,8,3,2,6,7,8,1])"
   ]
  },
  {
   "cell_type": "markdown",
   "metadata": {},
   "source": [
    "# Hard Problems"
   ]
  },
  {
   "cell_type": "markdown",
   "metadata": {},
   "source": [
    "**Challenge:**\n",
    "Using the Python language, have the function QuestionsMarks(str) take the str string parameter, which will contain single digit numbers, letters, and question marks, and check if there are exactly 3 question marks between every pair of two numbers that add up to 10. If so, then your program should return the string true, otherwise it should return the string false. If there aren't any two numbers that add up to 10 in the string, then your program should return false as well. \n",
    "\n",
    "For example: if str is \"arrb6???4xxbl5???eee5\" then your program should return true because there are exactly 3 question marks between 6 and 4, and 3 question marks between 5 and 5 at the end of the string. \n",
    "\n",
    "> Input:\"aa6?9\"\n",
    ">\n",
    "> Output:\"false\"\n",
    "> \n",
    "> Input:\"acc?7??sss?3rr1??????5\"\n",
    ">\n",
    "> Output:\"true\""
   ]
  },
  {
   "cell_type": "code",
   "execution_count": 4,
   "metadata": {},
   "outputs": [
    {
     "data": {
      "text/plain": [
       "True"
      ]
     },
     "execution_count": 4,
     "metadata": {},
     "output_type": "execute_result"
    }
   ],
   "source": [
    "#My solution 1\n",
    "\n",
    "a = \"arrb6???4xxbl5???eee5\"\n",
    "\n",
    "t = list(a)\n",
    "z = list(zip(t,t[1:],t[2:],t[3:],t[4:]))\n",
    "\n",
    "bool([i for i in z if (sum([int(j) if j.isdigit() else 0 for j in i])==10 and (i[1],i[2],i[3])==('?','?','?'))])"
   ]
  },
  {
   "cell_type": "code",
   "execution_count": 74,
   "metadata": {},
   "outputs": [],
   "source": [
    "#My solution 2 \n",
    "\n",
    "def QuestionMarks1(a):\n",
    "    \n",
    "    #Check for instances of triple questionmarks\n",
    "    z = list(zip([i for i in a],[i for i in a][1:],[i for i in a][2:]))\n",
    "    triple_ques = [(i,z[i]) for i in range(len(z)) if z[i]==('?','?','?')]\n",
    "\n",
    "    #Check for ints for each tuple of ???\n",
    "    for tup in triple_ques:\n",
    "        lowerq = tup[0]\n",
    "        upperq = tup[0]+3\n",
    "        lower_ints = [int(i) for i in a[0:lowerq] if i.isdigit()]\n",
    "        upper_ints = [int(i) for i in a[upperq:] if i.isdigit()]\n",
    "        return bool([(i,j) for i in lower_ints for j in upper_ints if sum((i,j))==10])\n",
    "    return False"
   ]
  },
  {
   "cell_type": "code",
   "execution_count": 181,
   "metadata": {},
   "outputs": [
    {
     "data": {
      "text/plain": [
       "(True, [(7, 0, 0, 0, 3)])"
      ]
     },
     "execution_count": 181,
     "metadata": {},
     "output_type": "execute_result"
    }
   ],
   "source": [
    "#My Solution 3, (complete solution)\n",
    "import time\n",
    "\n",
    "\n",
    "a = list(\"acc?7??sss?3rr1??????5\")\n",
    "\n",
    "def QuestionMarks3(a):\n",
    "    \n",
    "    #Remove all non digits and non question marks (replace ? with 0)\n",
    "    b = []\n",
    "    for i in range(len(a)):\n",
    "        if a[i]=='?':\n",
    "            b.append(0)\n",
    "        elif a[i].isdigit():\n",
    "            b.append(int(a[i]))\n",
    "        else:\n",
    "            pass\n",
    "    #print(b)\n",
    "    \n",
    "    # All Patterns of 5\n",
    "    patterns = list(zip(b,b[1:],b[2:],b[3:],b[4:]))\n",
    "    #print(patterns)\n",
    "    \n",
    "    # All winning patters that satify the conditions\n",
    "    winner = [i for i in patterns if ((i[0]+i[-1])==10 and i[1:-1]==(0,0,0))]\n",
    "    return bool(winner),winner\n",
    "\n",
    "#start = time.time()\n",
    "QuestionMarks3(a)\n",
    "#end = time.time()\n",
    "#float(end-start)"
   ]
  },
  {
   "cell_type": "code",
   "execution_count": 183,
   "metadata": {},
   "outputs": [
    {
     "data": {
      "text/plain": [
       "(True, [(3, 0, 0, 0, 7)])"
      ]
     },
     "execution_count": 183,
     "metadata": {},
     "output_type": "execute_result"
    }
   ],
   "source": [
    "a = \"aaa7??3aaa??a?7a?aa?a3aaa\"\n",
    "QuestionMarks3(a)"
   ]
  },
  {
   "cell_type": "markdown",
   "metadata": {},
   "source": [
    "**Challenge:**\n",
    "Using the Python language, have the function VowelSquare(strArr) take the strArr parameter being passed which will be a 2D matrix of some arbitrary size filled with letters from the alphabet, and determine if a 2x2 square composed entirely of vowels exists in the matrix. For example: strArr is [\"abcd\", \"eikr\", \"oufj\"] then this matrix looks like the following: \n",
    "\n",
    "a b c d<br>\n",
    "e i k r<br>\n",
    "o u f j \n",
    "\n",
    "Within this matrix there is a 2x2 square of vowels starting in the second row and first column, namely, ei, ou. If a 2x2 square of vowels is found your program should return the top-left position (row-column) of the square, so for this example your program should return 1-0. If no 2x2 square of vowels exists, then return the string not found. If there are multiple squares of vowels, return the one that is at the most top-left position in the whole matrix. The input matrix will at least be of size 2x2. \n",
    "Sample Test Cases\n",
    "\n",
    "> Input:\"aqrst\", \"ukaei\", \"ffooo\"\n",
    ">\n",
    "> Output:\"1-2\"\n",
    ">\n",
    "> Input:\"gg\", \"ff\"\n",
    ">\n",
    "> Output:\"not found\""
   ]
  },
  {
   "cell_type": "code",
   "execution_count": 159,
   "metadata": {},
   "outputs": [
    {
     "data": {
      "text/plain": [
       "5"
      ]
     },
     "execution_count": 159,
     "metadata": {},
     "output_type": "execute_result"
    }
   ],
   "source": [
    "a = [\"aqrst\", \"ukaei\", \"ffooo\"]\n",
    "s = len(a[0])\n",
    "s"
   ]
  },
  {
   "cell_type": "code",
   "execution_count": 160,
   "metadata": {},
   "outputs": [
    {
     "data": {
      "text/plain": [
       "[['a', 'q', 'r', 's', 't'],\n",
       " ['u', 'k', 'a', 'e', 'i'],\n",
       " ['f', 'f', 'o', 'o', 'o']]"
      ]
     },
     "execution_count": 160,
     "metadata": {},
     "output_type": "execute_result"
    }
   ],
   "source": [
    "b = [list(i) for i in a]\n",
    "b"
   ]
  },
  {
   "cell_type": "code",
   "execution_count": 171,
   "metadata": {},
   "outputs": [
    {
     "data": {
      "text/plain": [
       "[['a', 'q', 'r', 's', 't'],\n",
       " ['u', 'k', 'a', 'e', 'i'],\n",
       " ['f', 'f', 'o', 'o', 'o']]"
      ]
     },
     "execution_count": 171,
     "metadata": {},
     "output_type": "execute_result"
    }
   ],
   "source": [
    "c = [list(i) for i in a]\n",
    "c"
   ]
  },
  {
   "cell_type": "code",
   "execution_count": 172,
   "metadata": {},
   "outputs": [
    {
     "data": {
      "text/plain": [
       "['a', 'q', 'r', 's', 't', 'u', 'k', 'a', 'e', 'i', 'f', 'f', 'o', 'o', 'o']"
      ]
     },
     "execution_count": 172,
     "metadata": {},
     "output_type": "execute_result"
    }
   ],
   "source": [
    "t = [i for j in c for i in j]\n",
    "t"
   ]
  },
  {
   "cell_type": "code",
   "execution_count": 189,
   "metadata": {},
   "outputs": [
    {
     "ename": "TypeError",
     "evalue": "index() takes at least 1 argument (0 given)",
     "output_type": "error",
     "traceback": [
      "\u001b[0;31m---------------------------------------------------------------------------\u001b[0m",
      "\u001b[0;31mTypeError\u001b[0m                                 Traceback (most recent call last)",
      "\u001b[0;32m<ipython-input-189-f39b5a09497f>\u001b[0m in \u001b[0;36m<module>\u001b[0;34m()\u001b[0m\n\u001b[0;32m----> 1\u001b[0;31m \u001b[0mti\u001b[0m \u001b[0;34m=\u001b[0m \u001b[0;34m[\u001b[0m\u001b[0mi\u001b[0m\u001b[0;34m.\u001b[0m\u001b[0mindex\u001b[0m\u001b[0;34m(\u001b[0m\u001b[0;34m)\u001b[0m \u001b[0;32mfor\u001b[0m \u001b[0mj\u001b[0m \u001b[0;32min\u001b[0m \u001b[0mc\u001b[0m \u001b[0;32mfor\u001b[0m \u001b[0mi\u001b[0m \u001b[0;32min\u001b[0m \u001b[0mj\u001b[0m\u001b[0;34m]\u001b[0m\u001b[0;34m\u001b[0m\u001b[0m\n\u001b[0m\u001b[1;32m      2\u001b[0m \u001b[0mti\u001b[0m\u001b[0;34m\u001b[0m\u001b[0m\n",
      "\u001b[0;32m<ipython-input-189-f39b5a09497f>\u001b[0m in \u001b[0;36m<listcomp>\u001b[0;34m(.0)\u001b[0m\n\u001b[0;32m----> 1\u001b[0;31m \u001b[0mti\u001b[0m \u001b[0;34m=\u001b[0m \u001b[0;34m[\u001b[0m\u001b[0mi\u001b[0m\u001b[0;34m.\u001b[0m\u001b[0mindex\u001b[0m\u001b[0;34m(\u001b[0m\u001b[0;34m)\u001b[0m \u001b[0;32mfor\u001b[0m \u001b[0mj\u001b[0m \u001b[0;32min\u001b[0m \u001b[0mc\u001b[0m \u001b[0;32mfor\u001b[0m \u001b[0mi\u001b[0m \u001b[0;32min\u001b[0m \u001b[0mj\u001b[0m\u001b[0;34m]\u001b[0m\u001b[0;34m\u001b[0m\u001b[0m\n\u001b[0m\u001b[1;32m      2\u001b[0m \u001b[0mti\u001b[0m\u001b[0;34m\u001b[0m\u001b[0m\n",
      "\u001b[0;31mTypeError\u001b[0m: index() takes at least 1 argument (0 given)"
     ]
    }
   ],
   "source": [
    "ti = [i for j in c for i in j]\n",
    "ti"
   ]
  },
  {
   "cell_type": "code",
   "execution_count": 184,
   "metadata": {},
   "outputs": [
    {
     "data": {
      "text/plain": [
       "[True,\n",
       " False,\n",
       " False,\n",
       " False,\n",
       " False,\n",
       " True,\n",
       " False,\n",
       " True,\n",
       " True,\n",
       " True,\n",
       " False,\n",
       " False,\n",
       " True,\n",
       " True,\n",
       " True]"
      ]
     },
     "execution_count": 184,
     "metadata": {},
     "output_type": "execute_result"
    }
   ],
   "source": [
    "tv = [bool(set(i).intersection(('a','e','i','o','u'))) for j in c for i in j]\n",
    "tv"
   ]
  },
  {
   "cell_type": "code",
   "execution_count": 187,
   "metadata": {},
   "outputs": [
    {
     "data": {
      "text/plain": [
       "[('a', 'q', 'u', 'k'),\n",
       " ('q', 'r', 'k', 'a'),\n",
       " ('r', 's', 'a', 'e'),\n",
       " ('s', 't', 'e', 'i'),\n",
       " ('t', 'u', 'i', 'f'),\n",
       " ('u', 'k', 'f', 'f'),\n",
       " ('k', 'a', 'f', 'o'),\n",
       " ('a', 'e', 'o', 'o'),\n",
       " ('e', 'i', 'o', 'o')]"
      ]
     },
     "execution_count": 187,
     "metadata": {},
     "output_type": "execute_result"
    }
   ],
   "source": [
    "z = list(zip(t,t[1:],t[s:],t[s+1:]))\n",
    "z"
   ]
  },
  {
   "cell_type": "code",
   "execution_count": 165,
   "metadata": {},
   "outputs": [
    {
     "data": {
      "text/plain": [
       "[(True, True, True, True), (True, True, True, True)]"
      ]
     },
     "execution_count": 165,
     "metadata": {},
     "output_type": "execute_result"
    }
   ],
   "source": [
    "[i for i in z if i==(True,True,True,True)]"
   ]
  },
  {
   "cell_type": "markdown",
   "metadata": {},
   "source": [
    "# Python Basics"
   ]
  },
  {
   "cell_type": "markdown",
   "metadata": {},
   "source": [
    "1. What is the difference between deep and shallow copy?\n",
    "\n",
    "\n",
    "Answer:\n",
    "- Shallow copy creates a new memory location and copies the primary variables value. Modification to this copy doesnt affect the original variable, unlike what happens when it is referenced. Shallow copy allows faster execution of a program and it depends on the size of the data that is used."
   ]
  },
  {
   "cell_type": "code",
   "execution_count": 47,
   "metadata": {},
   "outputs": [
    {
     "name": "stdout",
     "output_type": "stream",
     "text": [
      "l1: [1, 2, 3, 4, 10] stored at  4353850056\n",
      "l1: [1, 2, 3, 4, 10] stored at  4353850056\n"
     ]
    }
   ],
   "source": [
    "#Example of a reference\n",
    "l1 = [1,2,3,4]\n",
    "l2 = l1         #just a reference, not copy\n",
    "l2.append(10)   \n",
    "print(\"l1:\",l1 ,\"stored at \", id(l1))   #appending anything here will cause appending to l1 as well.\n",
    "print(\"l1:\",l2 ,\"stored at \", id(l2))   #the storage is same, basically boty l1 and l2 point to same memory loc"
   ]
  },
  {
   "cell_type": "code",
   "execution_count": 48,
   "metadata": {},
   "outputs": [
    {
     "name": "stdout",
     "output_type": "stream",
     "text": [
      "l1: [1, 2, 3, 4, 10] stored at  4353850056\n",
      "l1: [1, 2, 3, 4, 10] stored at  4353850056\n",
      "l1: [1, 2, 3, 4, 10, 12] stored at  4353851144\n"
     ]
    }
   ],
   "source": [
    "#Example of a shallow copy\n",
    "import copy\n",
    "l3 = copy.copy(l1)\n",
    "l3.append(12)\n",
    "print(\"l1:\",l1 ,\"stored at \", id(l1))   #Doesnt modify the original list\n",
    "print(\"l1:\",l2 ,\"stored at \", id(l2))   \n",
    "print(\"l1:\",l3 ,\"stored at \", id(l3))   #Stored in a separate memory location"
   ]
  },
  {
   "cell_type": "code",
   "execution_count": 50,
   "metadata": {},
   "outputs": [
    {
     "name": "stdout",
     "output_type": "stream",
     "text": [
      "[1, 2, 3, 4, 10]\n"
     ]
    },
    {
     "data": {
      "text/plain": [
       "4353847880"
      ]
     },
     "execution_count": 50,
     "metadata": {},
     "output_type": "execute_result"
    }
   ],
   "source": [
    "l4 = copy.deepcopy(l2)\n",
    "print(l4)\n",
    "id(l4)"
   ]
  },
  {
   "cell_type": "code",
   "execution_count": null,
   "metadata": {},
   "outputs": [],
   "source": []
  }
 ],
 "metadata": {
  "kernelspec": {
   "display_name": "Python 3",
   "language": "python",
   "name": "python3"
  },
  "language_info": {
   "codemirror_mode": {
    "name": "ipython",
    "version": 3
   },
   "file_extension": ".py",
   "mimetype": "text/x-python",
   "name": "python",
   "nbconvert_exporter": "python",
   "pygments_lexer": "ipython3",
   "version": "3.6.5"
  }
 },
 "nbformat": 4,
 "nbformat_minor": 2
}
