{
 "cells": [
  {
   "cell_type": "markdown",
   "metadata": {},
   "source": [
    "# 100 days to master python\n",
    "\n",
    "https://www.youtube.com/watch?v=fSi5uvXqT4s&list=PLQh6rb1mrE_Ywz-LGD9DQb1_ofqn8X05U"
   ]
  },
  {
   "cell_type": "markdown",
   "metadata": {},
   "source": [
    "https://docs.python.org/3/tutorial/datastructures.html"
   ]
  },
  {
   "cell_type": "code",
   "execution_count": null,
   "metadata": {},
   "outputs": [],
   "source": [
    "import ipdb"
   ]
  },
  {
   "cell_type": "markdown",
   "metadata": {},
   "source": [
    "### Find all numbers divisible by 7 NOT a multiple of 5 between 2000 and 3200. Solution should be comma separated on a single line"
   ]
  },
  {
   "cell_type": "code",
   "execution_count": 3,
   "metadata": {},
   "outputs": [
    {
     "name": "stdout",
     "output_type": "stream",
     "text": [
      "2002,2009,2016,2023,2037,2044,2051,2058,2072,2079,2086,2093,2107,2114,2121,2128,2142,2149,2156,2163,2177,2184,2191,2198,2212,2219,2226,2233,2247,2254,2261,2268,2282,2289,2296,2303,2317,2324,2331,2338,2352,2359,2366,2373,2387,2394,2401,2408,2422,2429,2436,2443,2457,2464,2471,2478,2492,2499,2506,2513,2527,2534,2541,2548,2562,2569,2576,2583,2597,2604,2611,2618,2632,2639,2646,2653,2667,2674,2681,2688,2702,2709,2716,2723,2737,2744,2751,2758,2772,2779,2786,2793,2807,2814,2821,2828,2842,2849,2856,2863,2877,2884,2891,2898,2912,2919,2926,2933,2947,2954,2961,2968,2982,2989,2996,3003,3017,3024,3031,3038,3052,3059,3066,3073,3087,3094,3101,3108,3122,3129,3136,3143,3157,3164,3171,3178,3192,3199\n"
     ]
    }
   ],
   "source": [
    "a = [str(i) for i in range(2000,3201) if i%7==0 and i%5!=0]\n",
    "print(','.join(a))"
   ]
  },
  {
   "cell_type": "code",
   "execution_count": null,
   "metadata": {},
   "outputs": [],
   "source": [
    "'hi there'.join('yo')"
   ]
  },
  {
   "cell_type": "markdown",
   "metadata": {},
   "source": [
    "- The join() method takes iterable – objects capable of returning its members one at a time. Some examples are List, Tuple, String, Dictionary and Set.\n",
    "- The join() method returns a string concatenated with the elements of iterable.\n",
    "- If the iterable contains any non-string values, it raises a TypeError exception."
   ]
  },
  {
   "cell_type": "markdown",
   "metadata": {},
   "source": [
    "### Computer the factorial of a given number, result printed in csv single line. Factorial is the integer product of a number and all the numbers below it."
   ]
  },
  {
   "cell_type": "code",
   "execution_count": null,
   "metadata": {
    "scrolled": true
   },
   "outputs": [],
   "source": [
    "def factorial(num):\n",
    "    if num==0:\n",
    "        return 1\n",
    "    return num * factorial(num-1)\n",
    "num = int(input())\n",
    "print(factorial(num))\n",
    "\n",
    "## Try 2964 and 2965. Do it."
   ]
  },
  {
   "cell_type": "markdown",
   "metadata": {},
   "source": [
    "### Given integral number n, create a dictionary with the function that creates the key, value pair for n, n^2 for all numbers upto n."
   ]
  },
  {
   "cell_type": "code",
   "execution_count": 1,
   "metadata": {},
   "outputs": [
    {
     "name": "stdout",
     "output_type": "stream",
     "text": [
      "5\n"
     ]
    },
    {
     "data": {
      "text/plain": [
       "{1: 1, 2: 4, 3: 9, 4: 16, 5: 25}"
      ]
     },
     "execution_count": 1,
     "metadata": {},
     "output_type": "execute_result"
    }
   ],
   "source": [
    "def square_dict(num):\n",
    "    return {n:n**2 for n in range(1,num+1)}\n",
    "\n",
    "num = int(input())\n",
    "square_dict(num)"
   ]
  },
  {
   "cell_type": "markdown",
   "metadata": {},
   "source": [
    "The dict() constructor builds dictionaries directly from sequences of key-value pairs: dict([('sape', 4139), ('guido', 4127), ('jack', 4098)])\n",
    "\n",
    "In addition, dict comprehensions can be used to create dictionaries from arbitrary key and value expressions: {x: x**2 for x in (2, 4, 6)}\n",
    "\n"
   ]
  },
  {
   "cell_type": "markdown",
   "metadata": {},
   "source": [
    "### Create a code that takes in a list as input, and returns the list and its tuple form"
   ]
  },
  {
   "cell_type": "code",
   "execution_count": null,
   "metadata": {
    "scrolled": true
   },
   "outputs": [],
   "source": [
    "values = \"1,2,3,4,5\"\n",
    "l = values.split(',')\n",
    "print(l, tuple(l))"
   ]
  },
  {
   "cell_type": "markdown",
   "metadata": {},
   "source": [
    "### Create a class that has 2 methods:\n",
    "### 1. getString: grab a string from input\n",
    "### 2. printString: print a string in uppercase"
   ]
  },
  {
   "cell_type": "code",
   "execution_count": 26,
   "metadata": {},
   "outputs": [],
   "source": [
    "class printer(object):\n",
    "    def __init__(self):\n",
    "        self.s = ''\n",
    "    def getString(self):\n",
    "        self.s = input('give your input.. ')\n",
    "    def printString(self):\n",
    "        print(self.s.upper())"
   ]
  },
  {
   "cell_type": "code",
   "execution_count": 27,
   "metadata": {},
   "outputs": [],
   "source": [
    "x = printer() #Make an object"
   ]
  },
  {
   "cell_type": "code",
   "execution_count": 28,
   "metadata": {},
   "outputs": [
    {
     "data": {
      "text/plain": [
       "<__main__.printer at 0x1037c73c8>"
      ]
     },
     "execution_count": 28,
     "metadata": {},
     "output_type": "execute_result"
    }
   ],
   "source": [
    "x #Calling the object returns memory location of the object"
   ]
  },
  {
   "cell_type": "code",
   "execution_count": 29,
   "metadata": {},
   "outputs": [
    {
     "name": "stdout",
     "output_type": "stream",
     "text": [
      "give your input.. hello world\n"
     ]
    }
   ],
   "source": [
    "x.getString() #Calling first function"
   ]
  },
  {
   "cell_type": "code",
   "execution_count": 30,
   "metadata": {},
   "outputs": [
    {
     "name": "stdout",
     "output_type": "stream",
     "text": [
      "HELLO WORLD\n"
     ]
    }
   ],
   "source": [
    "x.printString() #Calling second method"
   ]
  },
  {
   "cell_type": "code",
   "execution_count": 31,
   "metadata": {},
   "outputs": [
    {
     "name": "stdout",
     "output_type": "stream",
     "text": [
      "give your input.. hi there\n",
      "HI THERE\n"
     ]
    }
   ],
   "source": [
    "y = printer()\n",
    "y.getString()\n",
    "y.printString()"
   ]
  },
  {
   "cell_type": "markdown",
   "metadata": {},
   "source": [
    "### Create a cool calculator, c = 50, h = 30, Use the formula Q = square root of [(2*c*d)/h]. find d"
   ]
  },
  {
   "cell_type": "code",
   "execution_count": 33,
   "metadata": {},
   "outputs": [
    {
     "name": "stdout",
     "output_type": "stream",
     "text": [
      "Give me a number: 3,4,5\n"
     ]
    }
   ],
   "source": [
    "x=[]\n",
    "y = [i for i in input('Give me a number: ').split(',')]\n"
   ]
  },
  {
   "cell_type": "code",
   "execution_count": 34,
   "metadata": {},
   "outputs": [
    {
     "data": {
      "text/plain": [
       "['3', '4', '5']"
      ]
     },
     "execution_count": 34,
     "metadata": {},
     "output_type": "execute_result"
    }
   ],
   "source": [
    "y"
   ]
  },
  {
   "cell_type": "code",
   "execution_count": null,
   "metadata": {},
   "outputs": [],
   "source": []
  },
  {
   "cell_type": "code",
   "execution_count": null,
   "metadata": {},
   "outputs": [],
   "source": []
  },
  {
   "cell_type": "code",
   "execution_count": null,
   "metadata": {},
   "outputs": [],
   "source": []
  },
  {
   "cell_type": "code",
   "execution_count": null,
   "metadata": {},
   "outputs": [],
   "source": []
  },
  {
   "cell_type": "code",
   "execution_count": null,
   "metadata": {},
   "outputs": [],
   "source": []
  },
  {
   "cell_type": "code",
   "execution_count": null,
   "metadata": {},
   "outputs": [],
   "source": []
  },
  {
   "cell_type": "markdown",
   "metadata": {},
   "source": [
    "# Python Interview Questions"
   ]
  },
  {
   "cell_type": "markdown",
   "metadata": {},
   "source": [
    "1. What is the difference between deep and shallow copy?\n",
    "\n",
    "\n",
    "Answer:\n",
    "- Shallow copy creates a new memory location and copies the primary variables value. Modification to this copy doesnt affect the original variable, unlike what happens when it is referenced. Shallow copy allows faster execution of a program and it depends on the size of the data that is used."
   ]
  },
  {
   "cell_type": "code",
   "execution_count": 47,
   "metadata": {},
   "outputs": [
    {
     "name": "stdout",
     "output_type": "stream",
     "text": [
      "l1: [1, 2, 3, 4, 10] stored at  4353850056\n",
      "l1: [1, 2, 3, 4, 10] stored at  4353850056\n"
     ]
    }
   ],
   "source": [
    "#Example of a reference\n",
    "l1 = [1,2,3,4]\n",
    "l2 = l1         #just a reference, not copy\n",
    "l2.append(10)   \n",
    "print(\"l1:\",l1 ,\"stored at \", id(l1))   #appending anything here will cause appending to l1 as well.\n",
    "print(\"l1:\",l2 ,\"stored at \", id(l2))   #the storage is same, basically boty l1 and l2 point to same memory loc"
   ]
  },
  {
   "cell_type": "code",
   "execution_count": 48,
   "metadata": {},
   "outputs": [
    {
     "name": "stdout",
     "output_type": "stream",
     "text": [
      "l1: [1, 2, 3, 4, 10] stored at  4353850056\n",
      "l1: [1, 2, 3, 4, 10] stored at  4353850056\n",
      "l1: [1, 2, 3, 4, 10, 12] stored at  4353851144\n"
     ]
    }
   ],
   "source": [
    "#Example of a shallow copy\n",
    "import copy\n",
    "l3 = copy.copy(l1)\n",
    "l3.append(12)\n",
    "print(\"l1:\",l1 ,\"stored at \", id(l1))   #Doesnt modify the original list\n",
    "print(\"l1:\",l2 ,\"stored at \", id(l2))   \n",
    "print(\"l1:\",l3 ,\"stored at \", id(l3))   #Stored in a separate memory location"
   ]
  },
  {
   "cell_type": "code",
   "execution_count": 50,
   "metadata": {},
   "outputs": [
    {
     "name": "stdout",
     "output_type": "stream",
     "text": [
      "[1, 2, 3, 4, 10]\n"
     ]
    },
    {
     "data": {
      "text/plain": [
       "4353847880"
      ]
     },
     "execution_count": 50,
     "metadata": {},
     "output_type": "execute_result"
    }
   ],
   "source": [
    "l4 = copy.deepcopy(l2)\n",
    "print(l4)\n",
    "id(l4)"
   ]
  },
  {
   "cell_type": "code",
   "execution_count": null,
   "metadata": {},
   "outputs": [],
   "source": []
  }
 ],
 "metadata": {
  "kernelspec": {
   "display_name": "Python 3",
   "language": "python",
   "name": "python3"
  },
  "language_info": {
   "codemirror_mode": {
    "name": "ipython",
    "version": 3
   },
   "file_extension": ".py",
   "mimetype": "text/x-python",
   "name": "python",
   "nbconvert_exporter": "python",
   "pygments_lexer": "ipython3",
   "version": "3.6.5"
  }
 },
 "nbformat": 4,
 "nbformat_minor": 2
}
