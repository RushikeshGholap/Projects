{
 "cells": [
  {
   "cell_type": "markdown",
   "metadata": {},
   "source": [
    "# Classes and Objects"
   ]
  },
  {
   "cell_type": "markdown",
   "metadata": {},
   "source": [
    "First part is about classes. A class is a simple way of organizing a piece of code. \n",
    "\n",
    "Lets say you want to build a code that represents a car. The car has certain properties (color, parts, etc) and it has a few functions that depend on these properties (calculating mileage, calculating top speed, calculating acceleration, estimated cost of the car). So what you do is that you create a Class called Car that has all the properties represented as variables and all the functions that you want. Then if you want to 'create' a car of a specific brand and make, you simply <b>instantiate</b> the class as an object. Example below - "
   ]
  },
  {
   "cell_type": "code",
   "execution_count": 4,
   "metadata": {},
   "outputs": [],
   "source": [
    "#Defining a class\n",
    "\n",
    "class car:\n",
    "    def __init__(self, color='White', drive=2):   #I have discussed __init__ function below\n",
    "        self.color = color\n",
    "        self.drive = drive\n",
    "        \n",
    "    def calculate_power(self):                     #calculate power simply multiplies drive * 1000\n",
    "        self.power = self.drive*250\n",
    "        return self.power"
   ]
  },
  {
   "cell_type": "code",
   "execution_count": 40,
   "metadata": {},
   "outputs": [],
   "source": [
    "# Instantiate a class into 3 different objects\n",
    "\n",
    "bmw = car(color='black', drive=2)\n",
    "audi = car(color='red', drive=4)\n",
    "jeep = car()"
   ]
  },
  {
   "cell_type": "code",
   "execution_count": 41,
   "metadata": {},
   "outputs": [
    {
     "data": {
      "text/plain": [
       "500"
      ]
     },
     "execution_count": 41,
     "metadata": {},
     "output_type": "execute_result"
    }
   ],
   "source": [
    "bmw.calculate_power()    #Runs the calculate_power function"
   ]
  },
  {
   "cell_type": "code",
   "execution_count": 42,
   "metadata": {},
   "outputs": [
    {
     "data": {
      "text/plain": [
       "'red'"
      ]
     },
     "execution_count": 42,
     "metadata": {},
     "output_type": "execute_result"
    }
   ],
   "source": [
    "audi.color    #Returns color of audi"
   ]
  },
  {
   "cell_type": "code",
   "execution_count": 43,
   "metadata": {},
   "outputs": [
    {
     "data": {
      "text/plain": [
       "'White'"
      ]
     },
     "execution_count": 43,
     "metadata": {},
     "output_type": "execute_result"
    }
   ],
   "source": [
    "jeep.color   #Returns color, even tho it was not explicitly defined (its default is defined while defining the class)"
   ]
  },
  {
   "cell_type": "code",
   "execution_count": 44,
   "metadata": {},
   "outputs": [],
   "source": [
    "jeep.color = 'Blue'   #Change the color"
   ]
  },
  {
   "cell_type": "code",
   "execution_count": 45,
   "metadata": {},
   "outputs": [
    {
     "data": {
      "text/plain": [
       "'Blue'"
      ]
     },
     "execution_count": 45,
     "metadata": {},
     "output_type": "execute_result"
    }
   ],
   "source": [
    "jeep.color"
   ]
  },
  {
   "cell_type": "markdown",
   "metadata": {},
   "source": [
    "This is quite useful since now all the bunch of code that is same and repeatitive, you can put into a class and create objects of it. Each time you Instantiate a class into an object, it creates actual memory for the variables and functions of that class for that object."
   ]
  },
  {
   "cell_type": "markdown",
   "metadata": {},
   "source": [
    "# Init function"
   ]
  },
  {
   "cell_type": "markdown",
   "metadata": {},
   "source": [
    "Now, what is __init__. Init is a function that launches the second you instantiate the class. It, in principle, contains all the things that you want the object to contain the second you define it. So for a car, each time you create a car object, you want it to always have a color and a drive. So you define that inside a function called __init__ which runs the second you instantiate the class."
   ]
  },
  {
   "cell_type": "code",
   "execution_count": 57,
   "metadata": {},
   "outputs": [],
   "source": [
    "merc = car(color='green', drive=2)   #You are implicitly calling the __init__ function with this sentence"
   ]
  },
  {
   "cell_type": "markdown",
   "metadata": {},
   "source": [
    "Other functions DONT run however. Example, calculate_power doesnt run and doesnt create the variable power"
   ]
  },
  {
   "cell_type": "code",
   "execution_count": 63,
   "metadata": {},
   "outputs": [
    {
     "ename": "AttributeError",
     "evalue": "'car' object has no attribute 'power'",
     "output_type": "error",
     "traceback": [
      "\u001b[0;31m---------------------------------------------------------------------------\u001b[0m",
      "\u001b[0;31mAttributeError\u001b[0m                            Traceback (most recent call last)",
      "\u001b[0;32m<ipython-input-63-b39231044d55>\u001b[0m in \u001b[0;36m<module>\u001b[0;34m()\u001b[0m\n\u001b[0;32m----> 1\u001b[0;31m \u001b[0maudi\u001b[0m\u001b[0;34m.\u001b[0m\u001b[0mpower\u001b[0m   \u001b[0;31m#This throws error because you havent called audi.calculate_power() before\u001b[0m\u001b[0;34m\u001b[0m\u001b[0m\n\u001b[0m",
      "\u001b[0;31mAttributeError\u001b[0m: 'car' object has no attribute 'power'"
     ]
    }
   ],
   "source": [
    "audi.power   #This throws error because you havent called audi.calculate_power() before"
   ]
  },
  {
   "cell_type": "markdown",
   "metadata": {},
   "source": [
    "Audi object doesnt have any power variable, because it gets created in the calculate_power function which i have to call explicitly."
   ]
  },
  {
   "cell_type": "code",
   "execution_count": 62,
   "metadata": {},
   "outputs": [
    {
     "data": {
      "text/plain": [
       "500"
      ]
     },
     "execution_count": 62,
     "metadata": {},
     "output_type": "execute_result"
    }
   ],
   "source": [
    "bmw.power   #This runs cuz you have called the bmw.calculate_power() function before"
   ]
  },
  {
   "cell_type": "markdown",
   "metadata": {},
   "source": [
    "# Self and self.variables"
   ]
  },
  {
   "cell_type": "markdown",
   "metadata": {},
   "source": [
    "A very important concept in python is that of variable scope. If you define a variable outside a function, you can use it inside the function. BUT if you define a variable inside a function, it cant be used outside UNLESS you return it at the end of the function."
   ]
  },
  {
   "cell_type": "code",
   "execution_count": 66,
   "metadata": {},
   "outputs": [
    {
     "name": "stdout",
     "output_type": "stream",
     "text": [
      "10\n"
     ]
    }
   ],
   "source": [
    "#Instantiate x variable to 10\n",
    "x = 10\n",
    "print(x)"
   ]
  },
  {
   "cell_type": "code",
   "execution_count": 64,
   "metadata": {},
   "outputs": [],
   "source": [
    "#Function that tries to change x to some other value\n",
    "\n",
    "def change_x(value):\n",
    "    x = value"
   ]
  },
  {
   "cell_type": "code",
   "execution_count": 65,
   "metadata": {},
   "outputs": [
    {
     "name": "stdout",
     "output_type": "stream",
     "text": [
      "10\n"
     ]
    }
   ],
   "source": [
    "#Try changing x to 15\n",
    "change_x(15)\n",
    "\n",
    "#Nothing happens\n",
    "print(x)"
   ]
  },
  {
   "cell_type": "markdown",
   "metadata": {},
   "source": [
    "The value of x is still 10 because, the x defined inside the function is NOT the same as the x defined outside. However, in another example - "
   ]
  },
  {
   "cell_type": "code",
   "execution_count": 67,
   "metadata": {},
   "outputs": [],
   "source": [
    "#Instantiate x to 10\n",
    "x = 10\n",
    "\n",
    "#Use x to calculate b = x+10\n",
    "def summing():\n",
    "    b = x + 10\n",
    "    return b"
   ]
  },
  {
   "cell_type": "code",
   "execution_count": 68,
   "metadata": {},
   "outputs": [
    {
     "data": {
      "text/plain": [
       "20"
      ]
     },
     "execution_count": 68,
     "metadata": {},
     "output_type": "execute_result"
    }
   ],
   "source": [
    "#Call the function\n",
    "summing()"
   ]
  },
  {
   "cell_type": "markdown",
   "metadata": {},
   "source": [
    "Even though i didnt create/define x inside the function or pass x variable as a parameter to function, it still is able to access the x variable and use it to return b by adding 10 to x. This is the SCOPE of the variable"
   ]
  },
  {
   "cell_type": "markdown",
   "metadata": {},
   "source": [
    "This is an important concept for class. When I define different functions in a class, i want them to use the different variables that other functions in the class might create inside them. For example, __init__ function defines drive and color of the class and i want the calculate_power() function to access these variables easily. This is where \"self\" comes in. If i define a variable as self.variable it basically becomes like a global variable inside the class. Meaning, i can use it inside other functions inside a class.\n",
    "\n",
    "AND, just by passing self to a function(self), you are passing it ALL the self variables that have been defined during the instantiation of that object or by previously run functions.\n",
    "\n",
    "So, when i define the audi object, the __init__ function ran and used 'black' to store it into self.color and used 4 to store it into self.drive. Next, when I passed self into the calculate_power(self) function, i basically passed it all the self variables such as color, drive. Now, at the end of the calculate_power function i create another self.power variable. This means that if i pass self to some other function now, i am basically giving it access to drive, color and power (only if self.power gets defined first, which requires u to call calculate_power function explicitly)"
   ]
  },
  {
   "cell_type": "code",
   "execution_count": 105,
   "metadata": {},
   "outputs": [],
   "source": [
    "#Coming back to the class\n",
    "\n",
    "class car:\n",
    "    def __init__(self, color='White', drive=2):   #The init function takes in 3 other parameters, self, color and white\n",
    "        self.color = color                        #the color is now stored as self.color\n",
    "        self.drive = drive                        #the drive is now stored as self.drive\n",
    "        \n",
    "    def calculate_power(self):                     #Calculate power is given access to ALL defined self variables \n",
    "        self.power = self.drive*250                #self.power is a new variable being defined here\n",
    "        return self.power                          #you can choose to NOT return anything but self.power still will exist"
   ]
  },
  {
   "cell_type": "markdown",
   "metadata": {},
   "source": [
    "These variables are called INSTANCE VARIABLES. if you want to see all the defined INSTANCE VARIABLES of an object, each object maintains a dictionary of these variables that u can see."
   ]
  },
  {
   "cell_type": "code",
   "execution_count": 109,
   "metadata": {},
   "outputs": [],
   "source": [
    "#Define a car object c\n",
    "c = car()"
   ]
  },
  {
   "cell_type": "code",
   "execution_count": 112,
   "metadata": {},
   "outputs": [
    {
     "data": {
      "text/plain": [
       "{'color': 'White', 'drive': 2}"
      ]
     },
     "execution_count": 112,
     "metadata": {},
     "output_type": "execute_result"
    }
   ],
   "source": [
    "#The object's dictionary contains 2 variables that got defined during its init function\n",
    "c.__dict__"
   ]
  },
  {
   "cell_type": "code",
   "execution_count": 114,
   "metadata": {},
   "outputs": [
    {
     "data": {
      "text/plain": [
       "500"
      ]
     },
     "execution_count": 114,
     "metadata": {},
     "output_type": "execute_result"
    }
   ],
   "source": [
    "#Run calculate power function that makes another INSTANCE VARIABLE power.\n",
    "c.calculate_power()"
   ]
  },
  {
   "cell_type": "code",
   "execution_count": 116,
   "metadata": {},
   "outputs": [
    {
     "data": {
      "text/plain": [
       "{'color': 'White', 'drive': 2, 'power': 500}"
      ]
     },
     "execution_count": 116,
     "metadata": {},
     "output_type": "execute_result"
    }
   ],
   "source": [
    "#Now the dictionary contains a variable called power as well, since i created it with the function call\n",
    "c.__dict__"
   ]
  },
  {
   "cell_type": "code",
   "execution_count": null,
   "metadata": {},
   "outputs": [],
   "source": []
  },
  {
   "cell_type": "markdown",
   "metadata": {},
   "source": [
    "This dictionary is what you are passing to a function when you give it (self) as a parameter. Meaning it now has access to all this.\n",
    "\n",
    "Its a really really really elegent solution that the developer of python even talked about separately. Makes the classes so simple to implement. So, another way of thinking about it is that, each object of a given class, has access to all the variables and functions you code into a class, and as you set values to these variables OR  run the functions explicitly (which set some of these variables) , the SELF DICTIONARY maintains these values."
   ]
  },
  {
   "cell_type": "markdown",
   "metadata": {},
   "source": [
    "# Node class"
   ]
  },
  {
   "cell_type": "markdown",
   "metadata": {},
   "source": [
    "Now lets analyze the class node in your problem statement using the above knowledge."
   ]
  },
  {
   "cell_type": "code",
   "execution_count": 117,
   "metadata": {},
   "outputs": [],
   "source": [
    "class node:\n",
    "    def __init__(self, cargo=None, next=None):      #runs at instantiation, cargo and next are default = None\n",
    "        self.cargo = cargo                          #creates self.cargo\n",
    "        self.next = next                            #creates self.next\n",
    "        \n",
    "    def __str__(self):                              #This is another function that gets called during instantiation\n",
    "        return str(self.cargo)                      #this simply returns the string form of cargo variable"
   ]
  },
  {
   "cell_type": "markdown",
   "metadata": {},
   "source": [
    "A None type is basically what it says, it is of no type, it contains nothing, it returns nothing. Its doesnt exist until it is set to something."
   ]
  },
  {
   "cell_type": "code",
   "execution_count": 118,
   "metadata": {},
   "outputs": [],
   "source": [
    "node1 = node()   #This calls the functions __init__ and __str__ implicitly"
   ]
  },
  {
   "cell_type": "code",
   "execution_count": 119,
   "metadata": {},
   "outputs": [],
   "source": [
    "node1.cargo   #returns nothing since I have not defined cargo while instantiating it"
   ]
  },
  {
   "cell_type": "code",
   "execution_count": 120,
   "metadata": {},
   "outputs": [],
   "source": [
    "node1.next    #returns nothing since I have not defined next while instantiating it"
   ]
  },
  {
   "cell_type": "code",
   "execution_count": 121,
   "metadata": {},
   "outputs": [
    {
     "data": {
      "text/plain": [
       "'None'"
      ]
     },
     "execution_count": 121,
     "metadata": {},
     "output_type": "execute_result"
    }
   ],
   "source": [
    "node1.__str__()  #returns 'None' as string"
   ]
  },
  {
   "cell_type": "code",
   "execution_count": 122,
   "metadata": {},
   "outputs": [],
   "source": [
    "#Instantiating another node this time\n",
    "node2 = node(cargo=5, next=3)"
   ]
  },
  {
   "cell_type": "code",
   "execution_count": 123,
   "metadata": {},
   "outputs": [
    {
     "data": {
      "text/plain": [
       "5"
      ]
     },
     "execution_count": 123,
     "metadata": {},
     "output_type": "execute_result"
    }
   ],
   "source": [
    "node2.cargo  #return node.cargo"
   ]
  },
  {
   "cell_type": "code",
   "execution_count": 124,
   "metadata": {},
   "outputs": [
    {
     "data": {
      "text/plain": [
       "3"
      ]
     },
     "execution_count": 124,
     "metadata": {},
     "output_type": "execute_result"
    }
   ],
   "source": [
    "node2.next   #return node.next"
   ]
  },
  {
   "cell_type": "code",
   "execution_count": 127,
   "metadata": {},
   "outputs": [
    {
     "data": {
      "text/plain": [
       "'5'"
      ]
     },
     "execution_count": 127,
     "metadata": {},
     "output_type": "execute_result"
    }
   ],
   "source": [
    "node2.__str__()  #Returns the string form of node2.cargo"
   ]
  },
  {
   "cell_type": "markdown",
   "metadata": {},
   "source": [
    "So this gives a general idea on how you can understand what a node class is doing. Nothing special, its just a class which contains 2 things called cargo and next. And it has 2 functions (both run during instantiation) namely init and str. Init simply takes the input parameters and sets them as self.variables and str returns the string version of the self.cargo variable just for readibility (will be useful to know what is being stored inside an object for visual purposes)"
   ]
  },
  {
   "cell_type": "markdown",
   "metadata": {},
   "source": [
    "A node in this code, simply represents something that has a 'cargo' which sounds like a value, and a 'next' which sounds like a pointer to something that comes after it. We will see how its use later, but for now, thats what the code shows.\n",
    "\n",
    "In general, a NODE looks like something with a CARGO and a NEXT"
   ]
  },
  {
   "cell_type": "code",
   "execution_count": 126,
   "metadata": {},
   "outputs": [
    {
     "data": {
      "text/plain": [
       "{'cargo': 5, 'next': 3}"
      ]
     },
     "execution_count": 126,
     "metadata": {},
     "output_type": "execute_result"
    }
   ],
   "source": [
    "node2.__dict__"
   ]
  },
  {
   "cell_type": "markdown",
   "metadata": {},
   "source": [
    "# Queue class"
   ]
  },
  {
   "cell_type": "markdown",
   "metadata": {},
   "source": [
    "As in the code, the Queue class is a bit larger but its still quite straight forward. It contains - \n",
    "\n",
    "1. An init function that runs when you instantiate it.\n",
    "2. An str function that runs when you instantiate it. \n",
    "3. An append function that has to be called Explicitly\n",
    "4. A find_max_value_position that has to be called Explicitly\n",
    "5. A concatenate function - Explicit\n",
    "6. A Max value function - Explicit\n",
    "7. A Remove max function - Explicit\n",
    "8. A selection_sort function - Explicit\n",
    "\n",
    "Its quite long, but its simple to understand from a syntax point of view. So a queue (or a linked list) is basically a chain of NODES (node objects discussed above). What we are trying to do is, create a NODE with some CARGO, link its NEXT to another node, which has its own CARGO and points to a third NODE with its own NEXT. A chain of NODES basically.\n",
    "\n",
    "Thats the type of data structure we are trying to create. Its a very useful data structure that can be used for a lot of stuff. And, since its a class, you can define more functions to it such as sorting this queue based on the CARGO values of all the nodes, getting the maximum valued NODE from it.\n",
    "\n",
    "Its better that a simple python list since you can define it as something that contains any possible thing as CARGO (even another node could be put here!) and point it to another NODE with its NEXT.\n",
    "\n",
    "So thats the high level intuition behind the queue class. Next, I'll only explain the only the INIT and APPEND functions for now, since others are only utility functions, and these 2 are the most important ones for defining what a queue is. You need a place to keep the list of nodes, AND you need a way to add more NODES to it."
   ]
  },
  {
   "cell_type": "code",
   "execution_count": 103,
   "metadata": {},
   "outputs": [],
   "source": [
    "#work.in.progress"
   ]
  },
  {
   "cell_type": "code",
   "execution_count": 179,
   "metadata": {},
   "outputs": [],
   "source": [
    "class Node():\n",
    "    def __init__(self, cargo=None, next=None):      #runs at instantiation, cargo and next are default = None\n",
    "        self.cargo = cargo                          #creates self.cargo\n",
    "        self.next = next                            #creates self.next\n",
    "        \n",
    "    def __str__(self):                              #This is another function that gets called during instantiation\n",
    "        return str(self.cargo)                      #this simply returns the string form of cargo variable"
   ]
  },
  {
   "cell_type": "code",
   "execution_count": 182,
   "metadata": {},
   "outputs": [],
   "source": [
    "class Queue():\n",
    "    def __init__(self, l=[]):       #Takes in a list l and calls the APPEND function over it\n",
    "        self.length = 0             #Init function sets the self.length to 0 initially\n",
    "        self.head = None            #Head set to none\n",
    "        self.tail = None            #Tail set to none\n",
    "        \n",
    "        if len(l)!=0:               #If length of list is > 0 then it runs self.append for each element in l\n",
    "            for ll in l:\n",
    "                self.append(ll)\n",
    "   \n",
    "\n",
    "                \n",
    "    def append(self, cargo):        #Append is kinda the main function that creates a node object and \n",
    "                                    #sets the head and tail of the queue to that node and node.next respectively\n",
    "        node = Node(cargo)\n",
    "        \n",
    "        if self.length==0:          #So for the first element (when length of queue ==0)\n",
    "            \n",
    "            self.head = node        #Head and tail both become the same node\n",
    "            self.tail = node\n",
    "            self.length += 1        #Increase the length to 1\n",
    "            \n",
    "        else:                       #Next iteration, the node which was the tail (1st one), its\n",
    "                                    #next is set to the current node\n",
    "            self.tail.next = node\n",
    "            self.tail = node        #Then the current node is set as the tail and length is increased\n",
    "            self.length += 1        #So in second iteration, the prev node is head, \n",
    "                                    #the next of that node(which was tail for now) is set to the current node\n",
    "                                    #finally tail node is set to current node as well.\n",
    "            \n",
    "            \n",
    "\n",
    "    def __str__(self):                  #Simple function for returning visual result of the elements in queue\n",
    "        node = self.head                #set head as first node\n",
    "        l=[]\n",
    "        while node!= None:              # loop through the nodes until all nodes are looped over\n",
    "            l.append(node.cargo)        # append their cargo into a list\n",
    "            node = node.next            # set the node to the next node (node.next points to another node)\n",
    "        return l                        # return l"
   ]
  },
  {
   "cell_type": "code",
   "execution_count": 192,
   "metadata": {},
   "outputs": [
    {
     "name": "stdout",
     "output_type": "stream",
     "text": [
      "Head:  9 | Tail:  9\n"
     ]
    }
   ],
   "source": [
    "a = Queue([9])\n",
    "print('Head: ', a.head.cargo, '| Tail: ', a.tail.cargo)"
   ]
  },
  {
   "cell_type": "code",
   "execution_count": 194,
   "metadata": {},
   "outputs": [
    {
     "name": "stdout",
     "output_type": "stream",
     "text": [
      "Head:  9 | Tail:  8\n"
     ]
    }
   ],
   "source": [
    "a.append(8)\n",
    "print('Head: ', a.head.cargo, '| Tail: ', a.tail.cargo)"
   ]
  },
  {
   "cell_type": "code",
   "execution_count": 195,
   "metadata": {},
   "outputs": [
    {
     "name": "stdout",
     "output_type": "stream",
     "text": [
      "Head:  9 | Tail:  7\n"
     ]
    }
   ],
   "source": [
    "a.append(7)\n",
    "print('Head: ', a.head.cargo, '| Tail: ', a.tail.cargo)"
   ]
  },
  {
   "cell_type": "code",
   "execution_count": null,
   "metadata": {},
   "outputs": [],
   "source": [
    "class Queue():\n",
    "    def __init__(self, l=[]):       #Takes in a list l and calls the APPEND function over it\n",
    "        self.length = 0             #Init function sets the self.length to 0 initially\n",
    "        self.head = None            #Head set to none\n",
    "        self.tail = None            #Tail set to none\n",
    "        \n",
    "        if len(l)!=0:               #If length of list is > 0 then it runs self.append for each element in l\n",
    "            for ll in l:\n",
    "                self.append(ll)\n",
    "   \n",
    "\n",
    "                \n",
    "    def append(self, cargo):        #Append is kinda the main function that creates a node object and \n",
    "                                    #sets the head and tail of the queue to that node and node.next respectively\n",
    "        node = Node(cargo)\n",
    "        \n",
    "        if self.length==0:          #So for the first element (when length of queue ==0)\n",
    "            \n",
    "            self.head = node        #Head and tail both become the same node\n",
    "            self.tail = node\n",
    "            self.length += 1        #Increase the length to 1\n",
    "            \n",
    "        else:                       #Next iteration, the node which was the tail (1st one), its\n",
    "                                    #next is set to the current node\n",
    "            self.tail.next = node\n",
    "            self.tail = node        #Then the current node is set as the tail and length is increased\n",
    "            self.length += 1        #So in second iteration, the prev node is head, \n",
    "                                    #the next of that node(which was tail for now) is set to the current node\n",
    "                                    #finally tail node is set to current node as well.\n",
    "            \n",
    "            \n",
    "\n",
    "    def __str__(self):                  #Simple function for returning visual result of the elements in queue\n",
    "        node = self.head                #set head as first node\n",
    "        l=[]\n",
    "        while node!= None:              # loop through the nodes until all nodes are looped over\n",
    "            l.append(node.cargo)        # append their cargo into a list\n",
    "            node = node.next            # set the node to the next node (node.next points to another node)\n",
    "        return l                        # return l\n",
    "    \n",
    "    \n",
    "    def "
   ]
  },
  {
   "cell_type": "code",
   "execution_count": null,
   "metadata": {},
   "outputs": [],
   "source": []
  },
  {
   "cell_type": "code",
   "execution_count": null,
   "metadata": {},
   "outputs": [],
   "source": []
  },
  {
   "cell_type": "code",
   "execution_count": null,
   "metadata": {},
   "outputs": [],
   "source": []
  },
  {
   "cell_type": "code",
   "execution_count": null,
   "metadata": {},
   "outputs": [],
   "source": []
  },
  {
   "cell_type": "code",
   "execution_count": null,
   "metadata": {},
   "outputs": [],
   "source": []
  }
 ],
 "metadata": {
  "kernelspec": {
   "display_name": "Python 3",
   "language": "python",
   "name": "python3"
  },
  "language_info": {
   "codemirror_mode": {
    "name": "ipython",
    "version": 3
   },
   "file_extension": ".py",
   "mimetype": "text/x-python",
   "name": "python",
   "nbconvert_exporter": "python",
   "pygments_lexer": "ipython3",
   "version": "3.6.5"
  }
 },
 "nbformat": 4,
 "nbformat_minor": 2
}
