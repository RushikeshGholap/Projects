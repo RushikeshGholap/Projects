{
 "cells": [
  {
   "cell_type": "code",
   "execution_count": 2,
   "metadata": {},
   "outputs": [],
   "source": [
    "import cv2\n",
    "import dlib\n",
    "import numpy as np\n",
    "import matplotlib.pyplot as plt\n",
    "%matplotlib inline"
   ]
  },
  {
   "cell_type": "code",
   "execution_count": 3,
   "metadata": {},
   "outputs": [],
   "source": [
    "img = cv2.imread('pic.jpg')"
   ]
  },
  {
   "cell_type": "code",
   "execution_count": 4,
   "metadata": {},
   "outputs": [],
   "source": [
    "detector = dlib.get_frontal_face_detector()\n",
    "predictor = dlib.shape_predictor(\"shape_predictor_68_face_landmarks.dat\")"
   ]
  },
  {
   "cell_type": "code",
   "execution_count": 5,
   "metadata": {},
   "outputs": [],
   "source": [
    "faces = detector(img)   #Returns list of rectangle objects\n",
    "face = faces[0]    #Single face"
   ]
  },
  {
   "cell_type": "code",
   "execution_count": 6,
   "metadata": {},
   "outputs": [],
   "source": [
    "#(x,y,w,h) = [face.left(), face.top(), face.right() - x, face.bottom() - y]   #Get coordinates of face\n",
    "#plt.figure(figsize=(10,10))\n",
    "#plt.imshow(cv2.rectangle(img, (x,y), (x+w,y+h), (0,255,255), 2))"
   ]
  },
  {
   "cell_type": "code",
   "execution_count": 7,
   "metadata": {},
   "outputs": [],
   "source": [
    "landmarks = predictor(img,face)   #Returns landmarks object with parts().x and parts().y\n",
    "points = [(p.x,p.y) for p in landmarks.parts()]"
   ]
  },
  {
   "cell_type": "code",
   "execution_count": 8,
   "metadata": {},
   "outputs": [],
   "source": [
    "# for (x, y) in points:\n",
    "#     cv2.circle(img, (x, y), 1, (0, 0, 255), -1)\n",
    "# plt.figure(figsize=(10,10))\n",
    "# plt.imshow(img)"
   ]
  },
  {
   "cell_type": "code",
   "execution_count": 9,
   "metadata": {},
   "outputs": [],
   "source": [
    "hull = cv2.convexHull(np.array(points), returnPoints=False)\n",
    "hull_points = [points[i] for i in list(hull.reshape(-1,))]"
   ]
  },
  {
   "cell_type": "code",
   "execution_count": 10,
   "metadata": {},
   "outputs": [],
   "source": [
    "# for (x, y) in hull_points:\n",
    "#     cv2.circle(img, (x, y), 1, (0, 0, 255), -1)\n",
    "# plt.figure(figsize=(10,10))\n",
    "# plt.imshow(img)"
   ]
  },
  {
   "cell_type": "code",
   "execution_count": 11,
   "metadata": {},
   "outputs": [],
   "source": [
    "mouth_points = [[60],[61],[62],[63],[64],[65],[66],[67]]\n",
    "hull = np.concatenate([hull, mouth_points])"
   ]
  },
  {
   "cell_type": "code",
   "execution_count": 12,
   "metadata": {},
   "outputs": [],
   "source": [
    "rect = (0,0,img.shape[1],img.shape[0])\n",
    "subdiv = cv2.Subdiv2D(rect)"
   ]
  },
  {
   "cell_type": "code",
   "execution_count": 18,
   "metadata": {},
   "outputs": [],
   "source": [
    "#subdiv.insert(hull)   !!!!! ISSUE of kernel dying"
   ]
  },
  {
   "cell_type": "code",
   "execution_count": 17,
   "metadata": {},
   "outputs": [],
   "source": [
    "#####\n",
    "# Face detection\n",
    "# Landmark detection\n",
    "# Warping triangles\n",
    "# seamless cloning\n",
    "# optical flow"
   ]
  },
  {
   "cell_type": "code",
   "execution_count": null,
   "metadata": {},
   "outputs": [],
   "source": []
  }
 ],
 "metadata": {
  "kernelspec": {
   "display_name": "Python 3",
   "language": "python",
   "name": "python3"
  },
  "language_info": {
   "codemirror_mode": {
    "name": "ipython",
    "version": 3
   },
   "file_extension": ".py",
   "mimetype": "text/x-python",
   "name": "python",
   "nbconvert_exporter": "python",
   "pygments_lexer": "ipython3",
   "version": "3.7.3"
  }
 },
 "nbformat": 4,
 "nbformat_minor": 2
}
